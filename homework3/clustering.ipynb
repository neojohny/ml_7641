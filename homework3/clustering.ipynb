{
 "cells": [
  {
   "cell_type": "code",
   "execution_count": 83,
   "metadata": {},
   "outputs": [],
   "source": [
    "import pandas as pd\n",
    "import numpy as np\n",
    "from sklearn.cluster import KMeans\n",
    "from sklearn.preprocessing import StandardScaler,MinMaxScaler  # doctest: +SKIP\n",
    "\n"
   ]
  },
  {
   "cell_type": "code",
   "execution_count": 75,
   "metadata": {},
   "outputs": [],
   "source": [
    "X = pd.read_pickle('../homework1/X.pkl')\n",
    "y = pd.read_pickle('../homework1/y.pkl')"
   ]
  },
  {
   "cell_type": "code",
   "execution_count": 84,
   "metadata": {},
   "outputs": [
    {
     "data": {
      "text/html": [
       "<div>\n",
       "<style scoped>\n",
       "    .dataframe tbody tr th:only-of-type {\n",
       "        vertical-align: middle;\n",
       "    }\n",
       "\n",
       "    .dataframe tbody tr th {\n",
       "        vertical-align: top;\n",
       "    }\n",
       "\n",
       "    .dataframe thead th {\n",
       "        text-align: right;\n",
       "    }\n",
       "</style>\n",
       "<table border=\"1\" class=\"dataframe\">\n",
       "  <thead>\n",
       "    <tr style=\"text-align: right;\">\n",
       "      <th></th>\n",
       "      <th>age</th>\n",
       "      <th>education.num</th>\n",
       "      <th>capital.gain</th>\n",
       "      <th>capital.loss</th>\n",
       "      <th>hours.per.week</th>\n",
       "      <th>workclass_Federal-gov</th>\n",
       "      <th>workclass_Local-gov</th>\n",
       "      <th>workclass_Never-worked</th>\n",
       "      <th>workclass_Private</th>\n",
       "      <th>workclass_Self-emp-inc</th>\n",
       "      <th>...</th>\n",
       "      <th>sex_Male</th>\n",
       "      <th>native.country_Canada</th>\n",
       "      <th>native.country_El-Salvador</th>\n",
       "      <th>native.country_Germany</th>\n",
       "      <th>native.country_India</th>\n",
       "      <th>native.country_Mexico</th>\n",
       "      <th>native.country_Philippines</th>\n",
       "      <th>native.country_Puerto-Rico</th>\n",
       "      <th>native.country_United-States</th>\n",
       "      <th>native.country_other</th>\n",
       "    </tr>\n",
       "  </thead>\n",
       "  <tbody>\n",
       "    <tr>\n",
       "      <th>0</th>\n",
       "      <td>90</td>\n",
       "      <td>9</td>\n",
       "      <td>0</td>\n",
       "      <td>4356</td>\n",
       "      <td>40</td>\n",
       "      <td>0</td>\n",
       "      <td>0</td>\n",
       "      <td>0</td>\n",
       "      <td>0</td>\n",
       "      <td>0</td>\n",
       "      <td>...</td>\n",
       "      <td>0</td>\n",
       "      <td>0</td>\n",
       "      <td>0</td>\n",
       "      <td>0</td>\n",
       "      <td>0</td>\n",
       "      <td>0</td>\n",
       "      <td>0</td>\n",
       "      <td>0</td>\n",
       "      <td>1</td>\n",
       "      <td>0</td>\n",
       "    </tr>\n",
       "    <tr>\n",
       "      <th>1</th>\n",
       "      <td>82</td>\n",
       "      <td>9</td>\n",
       "      <td>0</td>\n",
       "      <td>4356</td>\n",
       "      <td>18</td>\n",
       "      <td>0</td>\n",
       "      <td>0</td>\n",
       "      <td>0</td>\n",
       "      <td>1</td>\n",
       "      <td>0</td>\n",
       "      <td>...</td>\n",
       "      <td>0</td>\n",
       "      <td>0</td>\n",
       "      <td>0</td>\n",
       "      <td>0</td>\n",
       "      <td>0</td>\n",
       "      <td>0</td>\n",
       "      <td>0</td>\n",
       "      <td>0</td>\n",
       "      <td>1</td>\n",
       "      <td>0</td>\n",
       "    </tr>\n",
       "    <tr>\n",
       "      <th>2</th>\n",
       "      <td>66</td>\n",
       "      <td>10</td>\n",
       "      <td>0</td>\n",
       "      <td>4356</td>\n",
       "      <td>40</td>\n",
       "      <td>0</td>\n",
       "      <td>0</td>\n",
       "      <td>0</td>\n",
       "      <td>0</td>\n",
       "      <td>0</td>\n",
       "      <td>...</td>\n",
       "      <td>0</td>\n",
       "      <td>0</td>\n",
       "      <td>0</td>\n",
       "      <td>0</td>\n",
       "      <td>0</td>\n",
       "      <td>0</td>\n",
       "      <td>0</td>\n",
       "      <td>0</td>\n",
       "      <td>1</td>\n",
       "      <td>0</td>\n",
       "    </tr>\n",
       "    <tr>\n",
       "      <th>3</th>\n",
       "      <td>54</td>\n",
       "      <td>4</td>\n",
       "      <td>0</td>\n",
       "      <td>3900</td>\n",
       "      <td>40</td>\n",
       "      <td>0</td>\n",
       "      <td>0</td>\n",
       "      <td>0</td>\n",
       "      <td>1</td>\n",
       "      <td>0</td>\n",
       "      <td>...</td>\n",
       "      <td>0</td>\n",
       "      <td>0</td>\n",
       "      <td>0</td>\n",
       "      <td>0</td>\n",
       "      <td>0</td>\n",
       "      <td>0</td>\n",
       "      <td>0</td>\n",
       "      <td>0</td>\n",
       "      <td>1</td>\n",
       "      <td>0</td>\n",
       "    </tr>\n",
       "    <tr>\n",
       "      <th>4</th>\n",
       "      <td>41</td>\n",
       "      <td>10</td>\n",
       "      <td>0</td>\n",
       "      <td>3900</td>\n",
       "      <td>40</td>\n",
       "      <td>0</td>\n",
       "      <td>0</td>\n",
       "      <td>0</td>\n",
       "      <td>1</td>\n",
       "      <td>0</td>\n",
       "      <td>...</td>\n",
       "      <td>0</td>\n",
       "      <td>0</td>\n",
       "      <td>0</td>\n",
       "      <td>0</td>\n",
       "      <td>0</td>\n",
       "      <td>0</td>\n",
       "      <td>0</td>\n",
       "      <td>0</td>\n",
       "      <td>1</td>\n",
       "      <td>0</td>\n",
       "    </tr>\n",
       "  </tbody>\n",
       "</table>\n",
       "<p>5 rows × 59 columns</p>\n",
       "</div>"
      ],
      "text/plain": [
       "   age  education.num  capital.gain  capital.loss  hours.per.week  \\\n",
       "0   90              9             0          4356              40   \n",
       "1   82              9             0          4356              18   \n",
       "2   66             10             0          4356              40   \n",
       "3   54              4             0          3900              40   \n",
       "4   41             10             0          3900              40   \n",
       "\n",
       "   workclass_Federal-gov  workclass_Local-gov  workclass_Never-worked  \\\n",
       "0                      0                    0                       0   \n",
       "1                      0                    0                       0   \n",
       "2                      0                    0                       0   \n",
       "3                      0                    0                       0   \n",
       "4                      0                    0                       0   \n",
       "\n",
       "   workclass_Private  workclass_Self-emp-inc  ...  sex_Male  \\\n",
       "0                  0                       0  ...         0   \n",
       "1                  1                       0  ...         0   \n",
       "2                  0                       0  ...         0   \n",
       "3                  1                       0  ...         0   \n",
       "4                  1                       0  ...         0   \n",
       "\n",
       "   native.country_Canada  native.country_El-Salvador  native.country_Germany  \\\n",
       "0                      0                           0                       0   \n",
       "1                      0                           0                       0   \n",
       "2                      0                           0                       0   \n",
       "3                      0                           0                       0   \n",
       "4                      0                           0                       0   \n",
       "\n",
       "   native.country_India  native.country_Mexico  native.country_Philippines  \\\n",
       "0                     0                      0                           0   \n",
       "1                     0                      0                           0   \n",
       "2                     0                      0                           0   \n",
       "3                     0                      0                           0   \n",
       "4                     0                      0                           0   \n",
       "\n",
       "   native.country_Puerto-Rico  native.country_United-States  \\\n",
       "0                           0                             1   \n",
       "1                           0                             1   \n",
       "2                           0                             1   \n",
       "3                           0                             1   \n",
       "4                           0                             1   \n",
       "\n",
       "   native.country_other  \n",
       "0                     0  \n",
       "1                     0  \n",
       "2                     0  \n",
       "3                     0  \n",
       "4                     0  \n",
       "\n",
       "[5 rows x 59 columns]"
      ]
     },
     "execution_count": 84,
     "metadata": {},
     "output_type": "execute_result"
    }
   ],
   "source": [
    "X.head()"
   ]
  },
  {
   "cell_type": "code",
   "execution_count": 86,
   "metadata": {},
   "outputs": [
    {
     "ename": "AttributeError",
     "evalue": "'numpy.ndarray' object has no attribute 'head'",
     "output_type": "error",
     "traceback": [
      "\u001b[1;31m---------------------------------------------------------------------------\u001b[0m",
      "\u001b[1;31mAttributeError\u001b[0m                            Traceback (most recent call last)",
      "\u001b[1;32m<ipython-input-86-43e9d2df35ee>\u001b[0m in \u001b[0;36m<module>\u001b[1;34m\u001b[0m\n\u001b[0;32m      1\u001b[0m \u001b[0mX_stan\u001b[0m \u001b[1;33m=\u001b[0m \u001b[0mStandardScaler\u001b[0m\u001b[1;33m(\u001b[0m\u001b[1;33m)\u001b[0m\u001b[1;33m.\u001b[0m\u001b[0mfit_transform\u001b[0m\u001b[1;33m(\u001b[0m\u001b[0mX\u001b[0m\u001b[1;33m)\u001b[0m\u001b[1;33m\u001b[0m\u001b[1;33m\u001b[0m\u001b[0m\n\u001b[1;32m----> 2\u001b[1;33m \u001b[0mX_stan\u001b[0m\u001b[1;33m.\u001b[0m\u001b[0mhead\u001b[0m\u001b[1;33m(\u001b[0m\u001b[1;33m)\u001b[0m\u001b[1;33m\u001b[0m\u001b[1;33m\u001b[0m\u001b[0m\n\u001b[0m",
      "\u001b[1;31mAttributeError\u001b[0m: 'numpy.ndarray' object has no attribute 'head'"
     ]
    }
   ],
   "source": [
    "X_stan = StandardScaler().fit_transform(X)\n"
   ]
  },
  {
   "cell_type": "code",
   "execution_count": 96,
   "metadata": {},
   "outputs": [
    {
     "data": {
      "text/plain": [
       "KMeans(n_clusters=9, random_state=0)"
      ]
     },
     "execution_count": 96,
     "metadata": {},
     "output_type": "execute_result"
    }
   ],
   "source": [
    "kmeans = KMeans(n_clusters=9, random_state=0)\n",
    "kmeans.fit(X_stan)"
   ]
  },
  {
   "cell_type": "code",
   "execution_count": 27,
   "metadata": {
    "scrolled": true
   },
   "outputs": [
    {
     "data": {
      "text/plain": [
       "1    28460\n",
       "6     1485\n",
       "0      752\n",
       "5      635\n",
       "7      520\n",
       "3      493\n",
       "2      159\n",
       "4       57\n",
       "Name: labels, dtype: int64"
      ]
     },
     "execution_count": 27,
     "metadata": {},
     "output_type": "execute_result"
    }
   ],
   "source": [
    "pd.DataFrame(kmeans.labels_,columns=['labels']).labels.value_counts()"
   ]
  },
  {
   "cell_type": "code",
   "execution_count": 97,
   "metadata": {
    "scrolled": true
   },
   "outputs": [
    {
     "data": {
      "text/plain": [
       "4    10507\n",
       "2     9509\n",
       "0     6470\n",
       "5     1826\n",
       "7     1569\n",
       "1     1361\n",
       "3     1114\n",
       "6      198\n",
       "8        7\n",
       "Name: labels, dtype: int64"
      ]
     },
     "execution_count": 97,
     "metadata": {},
     "output_type": "execute_result"
    }
   ],
   "source": [
    "pd.DataFrame(kmeans.labels_,columns=['labels']).labels.value_counts()"
   ]
  },
  {
   "cell_type": "code",
   "execution_count": 15,
   "metadata": {},
   "outputs": [
    {
     "data": {
      "text/plain": [
       "159"
      ]
     },
     "execution_count": 15,
     "metadata": {},
     "output_type": "execute_result"
    }
   ],
   "source": [
    "sum(kmeans.labels_)"
   ]
  },
  {
   "cell_type": "code",
   "execution_count": 17,
   "metadata": {},
   "outputs": [
    {
     "data": {
      "text/plain": [
       "0.004859297329838416"
      ]
     },
     "execution_count": 17,
     "metadata": {},
     "output_type": "execute_result"
    }
   ],
   "source": [
    "kmeans.labels_.var()"
   ]
  },
  {
   "cell_type": "code",
   "execution_count": 34,
   "metadata": {},
   "outputs": [
    {
     "data": {
      "text/plain": [
       "(59,)"
      ]
     },
     "execution_count": 34,
     "metadata": {},
     "output_type": "execute_result"
    }
   ],
   "source": [
    "kmeans.cluster_centers_[0].shape"
   ]
  },
  {
   "cell_type": "code",
   "execution_count": 35,
   "metadata": {},
   "outputs": [
    {
     "data": {
      "text/plain": [
       "(32561, 59)"
      ]
     },
     "execution_count": 35,
     "metadata": {},
     "output_type": "execute_result"
    }
   ],
   "source": [
    "X.shape"
   ]
  },
  {
   "cell_type": "code",
   "execution_count": null,
   "metadata": {},
   "outputs": [],
   "source": []
  },
  {
   "cell_type": "code",
   "execution_count": null,
   "metadata": {},
   "outputs": [],
   "source": []
  },
  {
   "cell_type": "code",
   "execution_count": 98,
   "metadata": {},
   "outputs": [
    {
     "data": {
      "text/plain": [
       "GaussianMixture(n_components=9, random_state=10)"
      ]
     },
     "execution_count": 98,
     "metadata": {},
     "output_type": "execute_result"
    }
   ],
   "source": [
    "from sklearn.mixture import GaussianMixture\n",
    "\n",
    "gm = GaussianMixture(n_components=9, random_state=10)\n",
    "gm.fit(X_stan)"
   ]
  },
  {
   "cell_type": "code",
   "execution_count": 99,
   "metadata": {
    "scrolled": true
   },
   "outputs": [
    {
     "data": {
      "text/plain": [
       "2    11655\n",
       "1     7049\n",
       "5     5117\n",
       "3     3148\n",
       "4     2487\n",
       "6     1986\n",
       "0      914\n",
       "8      198\n",
       "7        7\n",
       "Name: label, dtype: int64"
      ]
     },
     "execution_count": 99,
     "metadata": {},
     "output_type": "execute_result"
    }
   ],
   "source": [
    "pd.DataFrame(gm.fit_predict(X_stan),columns=['label']).label.value_counts()"
   ]
  },
  {
   "cell_type": "code",
   "execution_count": 100,
   "metadata": {
    "scrolled": true
   },
   "outputs": [
    {
     "data": {
      "text/plain": [
       "4    10507\n",
       "2     9509\n",
       "0     6470\n",
       "5     1826\n",
       "7     1569\n",
       "1     1361\n",
       "3     1114\n",
       "6      198\n",
       "8        7\n",
       "Name: labels, dtype: int64"
      ]
     },
     "execution_count": 100,
     "metadata": {},
     "output_type": "execute_result"
    }
   ],
   "source": [
    "pd.DataFrame(kmeans.labels_,columns=['labels']).labels.value_counts()"
   ]
  },
  {
   "cell_type": "code",
   "execution_count": 101,
   "metadata": {},
   "outputs": [
    {
     "data": {
      "text/html": [
       "<div>\n",
       "<style scoped>\n",
       "    .dataframe tbody tr th:only-of-type {\n",
       "        vertical-align: middle;\n",
       "    }\n",
       "\n",
       "    .dataframe tbody tr th {\n",
       "        vertical-align: top;\n",
       "    }\n",
       "\n",
       "    .dataframe thead th {\n",
       "        text-align: right;\n",
       "    }\n",
       "</style>\n",
       "<table border=\"1\" class=\"dataframe\">\n",
       "  <thead>\n",
       "    <tr style=\"text-align: right;\">\n",
       "      <th></th>\n",
       "      <th>age</th>\n",
       "      <th>education.num</th>\n",
       "      <th>capital.gain</th>\n",
       "      <th>capital.loss</th>\n",
       "      <th>hours.per.week</th>\n",
       "      <th>workclass_Federal-gov</th>\n",
       "      <th>workclass_Local-gov</th>\n",
       "      <th>workclass_Never-worked</th>\n",
       "      <th>workclass_Private</th>\n",
       "      <th>workclass_Self-emp-inc</th>\n",
       "      <th>...</th>\n",
       "      <th>sex_Male</th>\n",
       "      <th>native.country_Canada</th>\n",
       "      <th>native.country_El-Salvador</th>\n",
       "      <th>native.country_Germany</th>\n",
       "      <th>native.country_India</th>\n",
       "      <th>native.country_Mexico</th>\n",
       "      <th>native.country_Philippines</th>\n",
       "      <th>native.country_Puerto-Rico</th>\n",
       "      <th>native.country_United-States</th>\n",
       "      <th>native.country_other</th>\n",
       "    </tr>\n",
       "  </thead>\n",
       "  <tbody>\n",
       "    <tr>\n",
       "      <th>0</th>\n",
       "      <td>90</td>\n",
       "      <td>9</td>\n",
       "      <td>0</td>\n",
       "      <td>4356</td>\n",
       "      <td>40</td>\n",
       "      <td>0</td>\n",
       "      <td>0</td>\n",
       "      <td>0</td>\n",
       "      <td>0</td>\n",
       "      <td>0</td>\n",
       "      <td>...</td>\n",
       "      <td>0</td>\n",
       "      <td>0</td>\n",
       "      <td>0</td>\n",
       "      <td>0</td>\n",
       "      <td>0</td>\n",
       "      <td>0</td>\n",
       "      <td>0</td>\n",
       "      <td>0</td>\n",
       "      <td>1</td>\n",
       "      <td>0</td>\n",
       "    </tr>\n",
       "    <tr>\n",
       "      <th>1</th>\n",
       "      <td>82</td>\n",
       "      <td>9</td>\n",
       "      <td>0</td>\n",
       "      <td>4356</td>\n",
       "      <td>18</td>\n",
       "      <td>0</td>\n",
       "      <td>0</td>\n",
       "      <td>0</td>\n",
       "      <td>1</td>\n",
       "      <td>0</td>\n",
       "      <td>...</td>\n",
       "      <td>0</td>\n",
       "      <td>0</td>\n",
       "      <td>0</td>\n",
       "      <td>0</td>\n",
       "      <td>0</td>\n",
       "      <td>0</td>\n",
       "      <td>0</td>\n",
       "      <td>0</td>\n",
       "      <td>1</td>\n",
       "      <td>0</td>\n",
       "    </tr>\n",
       "    <tr>\n",
       "      <th>2</th>\n",
       "      <td>66</td>\n",
       "      <td>10</td>\n",
       "      <td>0</td>\n",
       "      <td>4356</td>\n",
       "      <td>40</td>\n",
       "      <td>0</td>\n",
       "      <td>0</td>\n",
       "      <td>0</td>\n",
       "      <td>0</td>\n",
       "      <td>0</td>\n",
       "      <td>...</td>\n",
       "      <td>0</td>\n",
       "      <td>0</td>\n",
       "      <td>0</td>\n",
       "      <td>0</td>\n",
       "      <td>0</td>\n",
       "      <td>0</td>\n",
       "      <td>0</td>\n",
       "      <td>0</td>\n",
       "      <td>1</td>\n",
       "      <td>0</td>\n",
       "    </tr>\n",
       "    <tr>\n",
       "      <th>3</th>\n",
       "      <td>54</td>\n",
       "      <td>4</td>\n",
       "      <td>0</td>\n",
       "      <td>3900</td>\n",
       "      <td>40</td>\n",
       "      <td>0</td>\n",
       "      <td>0</td>\n",
       "      <td>0</td>\n",
       "      <td>1</td>\n",
       "      <td>0</td>\n",
       "      <td>...</td>\n",
       "      <td>0</td>\n",
       "      <td>0</td>\n",
       "      <td>0</td>\n",
       "      <td>0</td>\n",
       "      <td>0</td>\n",
       "      <td>0</td>\n",
       "      <td>0</td>\n",
       "      <td>0</td>\n",
       "      <td>1</td>\n",
       "      <td>0</td>\n",
       "    </tr>\n",
       "    <tr>\n",
       "      <th>4</th>\n",
       "      <td>41</td>\n",
       "      <td>10</td>\n",
       "      <td>0</td>\n",
       "      <td>3900</td>\n",
       "      <td>40</td>\n",
       "      <td>0</td>\n",
       "      <td>0</td>\n",
       "      <td>0</td>\n",
       "      <td>1</td>\n",
       "      <td>0</td>\n",
       "      <td>...</td>\n",
       "      <td>0</td>\n",
       "      <td>0</td>\n",
       "      <td>0</td>\n",
       "      <td>0</td>\n",
       "      <td>0</td>\n",
       "      <td>0</td>\n",
       "      <td>0</td>\n",
       "      <td>0</td>\n",
       "      <td>1</td>\n",
       "      <td>0</td>\n",
       "    </tr>\n",
       "  </tbody>\n",
       "</table>\n",
       "<p>5 rows × 59 columns</p>\n",
       "</div>"
      ],
      "text/plain": [
       "   age  education.num  capital.gain  capital.loss  hours.per.week  \\\n",
       "0   90              9             0          4356              40   \n",
       "1   82              9             0          4356              18   \n",
       "2   66             10             0          4356              40   \n",
       "3   54              4             0          3900              40   \n",
       "4   41             10             0          3900              40   \n",
       "\n",
       "   workclass_Federal-gov  workclass_Local-gov  workclass_Never-worked  \\\n",
       "0                      0                    0                       0   \n",
       "1                      0                    0                       0   \n",
       "2                      0                    0                       0   \n",
       "3                      0                    0                       0   \n",
       "4                      0                    0                       0   \n",
       "\n",
       "   workclass_Private  workclass_Self-emp-inc  ...  sex_Male  \\\n",
       "0                  0                       0  ...         0   \n",
       "1                  1                       0  ...         0   \n",
       "2                  0                       0  ...         0   \n",
       "3                  1                       0  ...         0   \n",
       "4                  1                       0  ...         0   \n",
       "\n",
       "   native.country_Canada  native.country_El-Salvador  native.country_Germany  \\\n",
       "0                      0                           0                       0   \n",
       "1                      0                           0                       0   \n",
       "2                      0                           0                       0   \n",
       "3                      0                           0                       0   \n",
       "4                      0                           0                       0   \n",
       "\n",
       "   native.country_India  native.country_Mexico  native.country_Philippines  \\\n",
       "0                     0                      0                           0   \n",
       "1                     0                      0                           0   \n",
       "2                     0                      0                           0   \n",
       "3                     0                      0                           0   \n",
       "4                     0                      0                           0   \n",
       "\n",
       "   native.country_Puerto-Rico  native.country_United-States  \\\n",
       "0                           0                             1   \n",
       "1                           0                             1   \n",
       "2                           0                             1   \n",
       "3                           0                             1   \n",
       "4                           0                             1   \n",
       "\n",
       "   native.country_other  \n",
       "0                     0  \n",
       "1                     0  \n",
       "2                     0  \n",
       "3                     0  \n",
       "4                     0  \n",
       "\n",
       "[5 rows x 59 columns]"
      ]
     },
     "execution_count": 101,
     "metadata": {},
     "output_type": "execute_result"
    }
   ],
   "source": [
    "X.head()"
   ]
  },
  {
   "cell_type": "code",
   "execution_count": 108,
   "metadata": {},
   "outputs": [
    {
     "data": {
      "text/plain": [
       "array([5, 5])"
      ]
     },
     "execution_count": 108,
     "metadata": {},
     "output_type": "execute_result"
    }
   ],
   "source": [
    "kmeans.labels_[[0,2]]"
   ]
  },
  {
   "cell_type": "code",
   "execution_count": null,
   "metadata": {},
   "outputs": [],
   "source": []
  },
  {
   "cell_type": "code",
   "execution_count": 105,
   "metadata": {},
   "outputs": [
    {
     "data": {
      "text/plain": [
       "United-States                 29170\n",
       "Mexico                          643\n",
       "?                               583\n",
       "Philippines                     198\n",
       "Germany                         137\n",
       "Canada                          121\n",
       "Puerto-Rico                     114\n",
       "El-Salvador                     106\n",
       "India                           100\n",
       "Cuba                             95\n",
       "England                          90\n",
       "Jamaica                          81\n",
       "South                            80\n",
       "China                            75\n",
       "Italy                            73\n",
       "Dominican-Republic               70\n",
       "Vietnam                          67\n",
       "Guatemala                        64\n",
       "Japan                            62\n",
       "Poland                           60\n",
       "Columbia                         59\n",
       "Taiwan                           51\n",
       "Haiti                            44\n",
       "Iran                             43\n",
       "Portugal                         37\n",
       "Nicaragua                        34\n",
       "Peru                             31\n",
       "Greece                           29\n",
       "France                           29\n",
       "Ecuador                          28\n",
       "Ireland                          24\n",
       "Hong                             20\n",
       "Cambodia                         19\n",
       "Trinadad&Tobago                  19\n",
       "Laos                             18\n",
       "Thailand                         18\n",
       "Yugoslavia                       16\n",
       "Outlying-US(Guam-USVI-etc)       14\n",
       "Honduras                         13\n",
       "Hungary                          13\n",
       "Scotland                         12\n",
       "Holand-Netherlands                1\n",
       "Name: native.country, dtype: int64"
      ]
     },
     "execution_count": 105,
     "metadata": {},
     "output_type": "execute_result"
    }
   ],
   "source": [
    "income['native.country'].value_counts()"
   ]
  },
  {
   "cell_type": "code",
   "execution_count": 113,
   "metadata": {
    "scrolled": true
   },
   "outputs": [
    {
     "data": {
      "text/plain": [
       "4    38\n",
       "2    32\n",
       "0    21\n",
       "5    14\n",
       "7     8\n",
       "3     6\n",
       "1     2\n",
       "Name: 0, dtype: int64"
      ]
     },
     "execution_count": 113,
     "metadata": {},
     "output_type": "execute_result"
    }
   ],
   "source": [
    "pd.DataFrame(kmeans.labels_[X['native.country_Canada']==1])[0].value_counts()"
   ]
  },
  {
   "cell_type": "code",
   "execution_count": 115,
   "metadata": {},
   "outputs": [
    {
     "data": {
      "text/plain": [
       "4    631\n",
       "2    584\n",
       "0    419\n",
       "5    100\n",
       "3     95\n",
       "1     84\n",
       "7     59\n",
       "Name: 0, dtype: int64"
      ]
     },
     "execution_count": 115,
     "metadata": {},
     "output_type": "execute_result"
    }
   ],
   "source": [
    "pd.DataFrame(kmeans.labels_[X['native.country_other']==1])[0].value_counts()"
   ]
  },
  {
   "cell_type": "code",
   "execution_count": null,
   "metadata": {},
   "outputs": [],
   "source": []
  },
  {
   "cell_type": "code",
   "execution_count": 37,
   "metadata": {},
   "outputs": [
    {
     "data": {
      "text/plain": [
       "(32561, 2)"
      ]
     },
     "execution_count": 37,
     "metadata": {},
     "output_type": "execute_result"
    }
   ],
   "source": [
    "import numpy as np\n",
    "from sklearn.manifold import TSNE\n",
    "\n",
    "X_embedded = TSNE(n_components=2).fit_transform(X)\n",
    "X_embedded.shape"
   ]
  },
  {
   "cell_type": "code",
   "execution_count": 40,
   "metadata": {},
   "outputs": [
    {
     "data": {
      "text/plain": [
       "Text(0.5,0.98,'Manifold Learning with 1000 points, 2 neighbors')"
      ]
     },
     "execution_count": 40,
     "metadata": {},
     "output_type": "execute_result"
    },
    {
     "data": {
      "text/plain": [
       "<Figure size 1080x576 with 0 Axes>"
      ]
     },
     "metadata": {},
     "output_type": "display_data"
    }
   ],
   "source": [
    "import matplotlib.pyplot as plt\n",
    "from mpl_toolkits.mplot3d import Axes3D\n",
    "from matplotlib.ticker import NullFormatter\n",
    "n_neighbors=2\n",
    "\n",
    "fig = plt.figure(figsize=(15, 8))\n",
    "fig.suptitle(\"Manifold Learning with %i points, %i neighbors\"\n",
    "             % (1000, n_neighbors), fontsize=14)\n"
   ]
  },
  {
   "cell_type": "code",
   "execution_count": 48,
   "metadata": {},
   "outputs": [],
   "source": [
    "from sklearn import manifold, datasets\n",
    "\n",
    "n_points = 1000\n",
    "X1, color = datasets.make_s_curve(32561, random_state=0)"
   ]
  },
  {
   "cell_type": "code",
   "execution_count": 49,
   "metadata": {},
   "outputs": [
    {
     "data": {
      "text/plain": [
       "array([ 0.46005644,  2.028112  ,  0.968522  , ...,  1.21266926,\n",
       "       -1.72622701,  3.92248014])"
      ]
     },
     "execution_count": 49,
     "metadata": {},
     "output_type": "execute_result"
    }
   ],
   "source": [
    "color"
   ]
  },
  {
   "cell_type": "code",
   "execution_count": 53,
   "metadata": {},
   "outputs": [
    {
     "data": {
      "text/plain": [
       "(-96.01885854184566, 94.52276479184572, -96.44877498336895, 96.06880061813457)"
      ]
     },
     "execution_count": 53,
     "metadata": {},
     "output_type": "execute_result"
    }
   ],
   "source": [
    "i=0\n",
    "ax = fig.add_subplot(2, 5, 2 + i + (i > 3))\n",
    "ax.scatter(X_embedded[:, 0], X_embedded[:, 1], c=color, cmap=plt.cm.Spectral)\n",
    "#ax.set_title(\"%s (%.2g sec)\" % (label, t1 - t0))\n",
    "ax.xaxis.set_major_formatter(NullFormatter())\n",
    "ax.yaxis.set_major_formatter(NullFormatter())\n",
    "ax.axis('tight')\n"
   ]
  },
  {
   "cell_type": "code",
   "execution_count": 52,
   "metadata": {},
   "outputs": [
    {
     "data": {
      "text/plain": [
       "array([ 13.125074,  13.12485 ,  13.125004, ...,  35.173664,  50.48359 ,\n",
       "       -35.992203], dtype=float32)"
      ]
     },
     "execution_count": 52,
     "metadata": {},
     "output_type": "execute_result"
    }
   ],
   "source": [
    "X_embedded[:, 0]"
   ]
  },
  {
   "cell_type": "code",
   "execution_count": 54,
   "metadata": {},
   "outputs": [
    {
     "data": {
      "text/plain": [
       "<matplotlib.collections.PathCollection at 0x23badf63630>"
      ]
     },
     "execution_count": 54,
     "metadata": {},
     "output_type": "execute_result"
    },
    {
     "data": {
      "image/png": "[encoded data removed]",
      "text/plain": [
       "<Figure size 432x288 with 1 Axes>"
      ]
     },
     "metadata": {
      "needs_background": "light"
     },
     "output_type": "display_data"
    }
   ],
   "source": [
    "plt.scatter(X_embedded[:, 0], X_embedded[:, 1], c=color, cmap=plt.cm.Spectral)"
   ]
  },
  {
   "cell_type": "code",
   "execution_count": 56,
   "metadata": {},
   "outputs": [
    {
     "data": {
      "text/plain": [
       "(32561, 2)"
      ]
     },
     "execution_count": 56,
     "metadata": {},
     "output_type": "execute_result"
    }
   ],
   "source": [
    "X_embedded.shape"
   ]
  },
  {
   "cell_type": "code",
   "execution_count": 57,
   "metadata": {},
   "outputs": [
    {
     "data": {
      "text/plain": [
       "array([[ 13.125074, -74.85138 ],\n",
       "       [ 13.12485 , -74.8513  ],\n",
       "       [ 13.125004, -74.8514  ],\n",
       "       [ 13.147255, -74.8633  ],\n",
       "       [ 13.147282, -74.86335 ],\n",
       "       [ 13.158456, -74.87092 ],\n",
       "       [ 13.158326, -74.87084 ],\n",
       "       [ 13.169389, -74.87893 ],\n",
       "       [ 13.169538, -74.879005],\n",
       "       [ 14.169823, -75.68437 ]], dtype=float32)"
      ]
     },
     "execution_count": 57,
     "metadata": {},
     "output_type": "execute_result"
    }
   ],
   "source": [
    "X_embedded[:10]"
   ]
  },
  {
   "cell_type": "code",
   "execution_count": 58,
   "metadata": {},
   "outputs": [],
   "source": [
    "income = pd.read_csv('../homework1/adult.csv')"
   ]
  },
  {
   "cell_type": "code",
   "execution_count": 60,
   "metadata": {},
   "outputs": [
    {
     "data": {
      "text/plain": [
       "Index(['age', 'workclass', 'fnlwgt', 'education', 'education.num',\n",
       "       'marital.status', 'occupation', 'relationship', 'race', 'sex',\n",
       "       'capital.gain', 'capital.loss', 'hours.per.week', 'native.country',\n",
       "       'income'],\n",
       "      dtype='object')"
      ]
     },
     "execution_count": 60,
     "metadata": {},
     "output_type": "execute_result"
    }
   ],
   "source": [
    "income.na"
   ]
  },
  {
   "cell_type": "code",
   "execution_count": 66,
   "metadata": {},
   "outputs": [
    {
     "data": {
      "text/plain": [
       "32561"
      ]
     },
     "execution_count": 66,
     "metadata": {},
     "output_type": "execute_result"
    }
   ],
   "source": [
    "gm.fit_predict(X).size"
   ]
  },
  {
   "cell_type": "code",
   "execution_count": 65,
   "metadata": {},
   "outputs": [
    {
     "data": {
      "text/plain": [
       "32561"
      ]
     },
     "execution_count": 65,
     "metadata": {},
     "output_type": "execute_result"
    }
   ],
   "source": [
    "kmeans.labels_.size"
   ]
  },
  {
   "cell_type": "code",
   "execution_count": 67,
   "metadata": {
    "scrolled": true
   },
   "outputs": [
    {
     "data": {
      "text/plain": [
       "array([[ 4.49015957e+01,  1.14428191e+01,  7.83119681e+03,\n",
       "         1.40687462e-12,  4.43577128e+01,  5.18617021e-02,\n",
       "         9.30851064e-02,  1.40946282e-18,  6.13031915e-01,\n",
       "         6.51595745e-02,  9.04255319e-02,  5.31914894e-02,\n",
       "         2.81892565e-18,  3.32446809e-02,  8.37765957e-02,\n",
       "         1.32978723e-03,  7.81914894e-01,  5.31914894e-03,\n",
       "         9.97340426e-02,  1.19680851e-02,  1.59574468e-02,\n",
       "         8.90957447e-02,  4.39101880e-18,  1.19680851e-01,\n",
       "         2.35372340e-01,  2.39361702e-02,  1.46276596e-02,\n",
       "         3.19148936e-02,  1.40946282e-18,  2.39361702e-02,\n",
       "         8.32667268e-17,  2.24734043e-01,  2.12765957e-02,\n",
       "         1.14361702e-01,  2.26063830e-02,  4.52127660e-02,\n",
       "         3.32446809e-02,  6.94148936e-01,  1.39627660e-01,\n",
       "         6.64893617e-03,  2.12765957e-02,  5.71808511e-02,\n",
       "         8.11170213e-02,  7.97872340e-03,  2.92553191e-02,\n",
       "         6.25000000e-02,  5.31914894e-03,  8.94946809e-01,\n",
       "         1.79521277e-01,  8.20478723e-01,  3.98936170e-03,\n",
       "         1.32978723e-03,  2.65957447e-03,  3.98936170e-03,\n",
       "         5.31914894e-03,  7.97872340e-03,  3.98936170e-03,\n",
       "         9.26861702e-01,  4.38829787e-02],\n",
       "       [ 3.78953693e+01,  9.93630103e+00,  2.75827419e+00,\n",
       "         7.56798538e-01,  3.99586466e+01,  2.84589980e-02,\n",
       "         6.27503338e-02,  2.45941958e-04,  7.05080458e-01,\n",
       "         2.92670930e-02,  7.49420280e-02,  3.99831354e-02,\n",
       "         4.21614785e-04,  5.88503970e-02,  1.41486895e-01,\n",
       "         7.37825873e-04,  4.28817371e-01,  1.34916731e-02,\n",
       "         3.50607828e-01,  3.34129717e-02,  3.14454360e-02,\n",
       "         1.20441290e-01,  2.81076523e-04,  1.26554705e-01,\n",
       "         1.13379242e-01,  3.13048978e-02,  4.49371091e-02,\n",
       "         6.36286979e-02,  2.45941958e-04,  1.10287401e-01,\n",
       "         4.95397372e-03,  1.16330546e-01,  2.00969714e-02,\n",
       "         1.10673881e-01,  2.80725177e-02,  4.99613520e-02,\n",
       "         5.88503970e-02,  3.77485771e-01,  2.62033589e-01,\n",
       "         3.22886656e-02,  1.70297238e-01,  1.13168435e-01,\n",
       "         4.47263017e-02,  9.87281287e-03,  3.17616471e-02,\n",
       "         1.00274050e-01,  8.81877591e-03,  8.49272714e-01,\n",
       "         3.46356546e-01,  6.53643454e-01,  3.61886023e-03,\n",
       "         3.33778371e-03,  4.21614785e-03,  2.81076523e-03,\n",
       "         2.15726231e-02,  6.14854894e-03,  3.68912937e-03,\n",
       "         8.93893613e-01,  6.07125290e-02],\n",
       "       [ 4.63584906e+01,  1.29182390e+01,  9.99990000e+04,\n",
       "        -3.12638804e-13,  4.97987421e+01,  6.28930818e-03,\n",
       "         3.77358491e-02, -4.87890978e-19,  5.15723270e-01,\n",
       "         2.26415094e-01,  1.82389937e-01,  6.28930818e-03,\n",
       "        -9.75781955e-19,  2.51572327e-02,  6.91823899e-02,\n",
       "        -7.58941521e-19,  8.30188679e-01,  6.28930818e-03,\n",
       "         7.54716981e-02,  1.25786164e-02,  6.28930818e-03,\n",
       "         3.77358491e-02, -3.79470760e-19,  5.03144654e-02,\n",
       "         2.64150943e-01, -4.51028104e-17,  6.28930818e-03,\n",
       "         6.28930818e-03, -4.87890978e-19,  1.25786164e-02,\n",
       "        -7.80625564e-18,  4.21383648e-01,  6.28930818e-03,\n",
       "         1.57232704e-01,  6.28930818e-03,  6.28930818e-03,\n",
       "         2.51572327e-02,  7.61006289e-01,  1.32075472e-01,\n",
       "        -5.89805982e-17,  1.25786164e-02,  2.51572327e-02,\n",
       "         6.91823899e-02, -3.46944695e-18,  6.28930818e-02,\n",
       "         4.40251572e-02,  1.25786164e-02,  8.80503145e-01,\n",
       "         1.38364780e-01,  8.61635220e-01,  6.28930818e-03,\n",
       "        -6.93889390e-18,  9.54097912e-18,  1.88679245e-02,\n",
       "         6.28930818e-03,  6.28930818e-03,  4.77048956e-18,\n",
       "         8.93081761e-01,  6.91823899e-02],\n",
       "       [ 4.70892495e+01,  1.25415822e+01,  1.52167485e+04,\n",
       "         4.68958206e-13,  4.70588235e+01,  3.44827586e-02,\n",
       "         4.66531440e-02,  1.13841228e-18,  6.28803245e-01,\n",
       "         1.44016227e-01,  9.12778905e-02,  3.65111562e-02,\n",
       "         2.27682456e-18,  1.82555781e-02,  7.70791075e-02,\n",
       "         6.28837260e-18,  7.78904665e-01,  4.05679513e-03,\n",
       "         1.15618661e-01,  8.11359026e-03,  1.62271805e-02,\n",
       "         3.85395538e-02,  3.30681663e-18,  6.28803245e-02,\n",
       "         3.54969574e-01,  1.21703854e-02,  2.02839757e-03,\n",
       "         4.05679513e-03,  1.13841228e-18,  2.02839757e-03,\n",
       "         1.56125113e-17,  3.06288032e-01,  1.62271805e-02,\n",
       "         1.31845842e-01,  2.23123732e-02,  2.83975659e-02,\n",
       "         1.82555781e-02,  6.85598377e-01,  1.86612576e-01,\n",
       "         6.08519270e-03,  1.01419878e-02,  2.02839757e-02,\n",
       "         9.12778905e-02,  1.21703854e-02,  3.04259635e-02,\n",
       "         6.08519270e-02,  1.73472348e-18,  8.96551724e-01,\n",
       "         1.82555781e-01,  8.17444219e-01,  6.08519270e-03,\n",
       "         4.05679513e-03,  8.11359026e-03,  2.02839757e-03,\n",
       "         1.83880688e-16,  2.02839757e-03, -3.94649591e-17,\n",
       "         9.16835700e-01,  6.08519270e-02],\n",
       "       [ 4.50175439e+01,  1.26140351e+01,  2.80592807e+04,\n",
       "        -7.10542736e-14,  4.52982456e+01, -3.46944695e-17,\n",
       "        -4.16333634e-17,  1.62630326e-19,  5.43859649e-01,\n",
       "         1.40350877e-01,  1.75438596e-01,  5.26315789e-02,\n",
       "         3.25260652e-19,  8.77192982e-02,  3.85964912e-01,\n",
       "         7.58941521e-19,  5.26315789e-02,  5.26315789e-02,\n",
       "         3.50877193e-01,  7.01754386e-02,  8.77192982e-02,\n",
       "         1.75438596e-02, -1.08420217e-19,  5.26315789e-02,\n",
       "         2.63157895e-01,  1.22807018e-01, -2.08166817e-17,\n",
       "         5.55111512e-17,  1.62630326e-19,  3.50877193e-02,\n",
       "         1.75438596e-02,  2.45614035e-01,  1.75438596e-02,\n",
       "         1.05263158e-01,  3.50877193e-02, -2.77555756e-17,\n",
       "         8.77192982e-02,  1.75438596e-02,  5.78947368e-01,\n",
       "         5.26315789e-02,  7.01754386e-02,  2.63157895e-01,\n",
       "         1.75438596e-02,  1.75438596e-02,  1.75438596e-02,\n",
       "         5.26315789e-02,  5.20417043e-18,  9.12280702e-01,\n",
       "         2.80701754e-01,  7.19298246e-01,  3.03576608e-18,\n",
       "        -1.30104261e-18,  1.75438596e-02,  2.16840434e-18,\n",
       "         1.75438596e-02,  1.75438596e-02,  1.30104261e-18,\n",
       "         9.12280702e-01,  3.50877193e-02],\n",
       "       [ 4.34834646e+01,  9.71968504e+00,  2.71734016e+03,\n",
       "         1.08002496e-12,  4.06377953e+01,  2.20472441e-02,\n",
       "         5.19685039e-02,  1.32814766e-18,  6.78740157e-01,\n",
       "         2.51968504e-02,  1.16535433e-01,  3.62204724e-02,\n",
       "         1.57480315e-03,  6.77165354e-02,  1.33858268e-01,\n",
       "         1.57480315e-03,  5.48031496e-01,  1.41732283e-02,\n",
       "         2.33070866e-01,  2.04724409e-02,  4.88188976e-02,\n",
       "         1.22834646e-01,  4.01154804e-18,  1.49606299e-01,\n",
       "         1.19685039e-01,  4.25196850e-02,  3.62204724e-02,\n",
       "         9.76377953e-02,  1.32814766e-18,  6.61417323e-02,\n",
       "         6.29921260e-03,  8.97637795e-02,  1.73228346e-02,\n",
       "         9.76377953e-02,  4.09448819e-02,  4.56692913e-02,\n",
       "         6.77165354e-02,  4.75590551e-01,  2.53543307e-01,\n",
       "         3.14960630e-02,  9.60629921e-02,  8.97637795e-02,\n",
       "         5.35433071e-02,  1.25984252e-02,  3.62204724e-02,\n",
       "         8.03149606e-02, -9.36750677e-17,  8.70866142e-01,\n",
       "         2.96062992e-01,  7.03937008e-01,  1.43114687e-17,\n",
       "         7.87401575e-03,  4.72440945e-03,  4.72440945e-03,\n",
       "         1.41732283e-02,  4.72440945e-03,  1.57480315e-03,\n",
       "         8.86614173e-01,  7.55905512e-02],\n",
       "       [ 4.16392448e+01,  1.09885367e+01,  3.20596882e-11,\n",
       "         1.90233311e+03,  4.33594066e+01,  3.77612947e-02,\n",
       "         8.36142953e-02, -4.33680869e-18,  6.44639245e-01,\n",
       "         5.66419420e-02,  1.01820634e-01,  3.77612947e-02,\n",
       "        -8.67361738e-18,  3.77612947e-02,  9.71004720e-02,\n",
       "         8.99887803e-18,  6.43964936e-01,  8.76601483e-03,\n",
       "         2.09035738e-01,  1.75320297e-02,  2.36008092e-02,\n",
       "         8.02427512e-02,  6.74308833e-04,  1.32164531e-01,\n",
       "         1.94200944e-01,  2.15778827e-02,  2.29265003e-02,\n",
       "         4.38300742e-02, -4.33680869e-18,  4.65273095e-02,\n",
       "         1.34861767e-03,  1.92852326e-01,  1.82063385e-02,\n",
       "         1.28118678e-01,  3.30411328e-02,  4.65273095e-02,\n",
       "         3.77612947e-02,  5.75185435e-01,  2.21847606e-01,\n",
       "         1.75320297e-02,  7.82198247e-02,  4.18071477e-02,\n",
       "         6.54079568e-02,  4.04585300e-03,  3.57383682e-02,\n",
       "         6.67565745e-02,  6.06877950e-03,  8.87390425e-01,\n",
       "         2.29939312e-01,  7.70060688e-01,  5.39447067e-03,\n",
       "         1.34861767e-03,  4.04585300e-03,  4.72016183e-03,\n",
       "         5.39447067e-03,  6.74308833e-03,  2.02292650e-03,\n",
       "         9.07619690e-01,  6.27107215e-02],\n",
       "       [ 4.11500000e+01,  1.03865385e+01,  4.60609615e+03,\n",
       "         6.11066753e-13,  4.27250000e+01,  4.42307692e-02,\n",
       "         9.80769231e-02,  1.16551734e-18,  6.86538462e-01,\n",
       "         3.65384615e-02,  5.96153846e-02,  3.65384615e-02,\n",
       "         1.92307692e-03,  3.65384615e-02,  1.01923077e-01,\n",
       "         6.39679282e-18,  6.94230769e-01,  3.84615385e-03,\n",
       "         1.57692308e-01,  3.07692308e-02,  1.15384615e-02,\n",
       "         1.00000000e-01,  3.46944695e-18,  1.42307692e-01,\n",
       "         1.26923077e-01,  2.50000000e-02,  4.03846154e-02,\n",
       "         7.11538462e-02,  1.16551734e-18,  4.23076923e-02,\n",
       "         1.92307692e-03,  1.63461538e-01,  2.50000000e-02,\n",
       "         1.26923077e-01,  4.42307692e-02,  5.38461538e-02,\n",
       "         3.65384615e-02,  6.00000000e-01,  2.03846154e-01,\n",
       "         9.61538462e-03,  3.26923077e-02,  6.53846154e-02,\n",
       "         8.84615385e-02,  5.76923077e-03,  2.11538462e-02,\n",
       "         6.34615385e-02,  9.61538462e-03,  9.00000000e-01,\n",
       "         2.32692308e-01,  7.67307692e-01,  5.76923077e-03,\n",
       "         1.92307692e-03,  1.92307692e-03,  5.76923077e-03,\n",
       "         1.15384615e-02,  1.92307692e-03,  3.84615385e-03,\n",
       "         9.15384615e-01,  5.19230769e-02]])"
      ]
     },
     "execution_count": 67,
     "metadata": {},
     "output_type": "execute_result"
    }
   ],
   "source": [
    "kmeans.cluster_centers_"
   ]
  },
  {
   "cell_type": "code",
   "execution_count": 91,
   "metadata": {
    "scrolled": true
   },
   "outputs": [
    {
     "data": {
      "text/plain": [
       "array([[-8.09759290e-02,  1.13616720e-01, -5.45911907e-02,\n",
       "        -3.10696539e-02,  4.37958117e-02,  4.60364702e-02,\n",
       "         2.50801410e-02, -1.46638105e-02,  2.58241186e-01,\n",
       "        -6.18588179e-02, -2.81740534e-01,  5.74847829e-02,\n",
       "        -2.07399897e-02, -2.44450198e-01,  4.33973789e-01,\n",
       "        -2.65869483e-02, -9.20916156e-01,  9.04530986e-02,\n",
       "         5.52330386e-01,  1.03793144e-01,  1.34223956e-01,\n",
       "         1.30623178e-01,  1.63441757e-02, -9.24124749e-02,\n",
       "        -9.63902247e-04, -7.31091389e-02, -2.77271700e-03,\n",
       "         7.33215277e-04, -1.46638105e-02,  8.24548435e-02,\n",
       "         6.21338502e-02,  1.00397221e-01, -8.29639299e-03,\n",
       "        -7.85524448e-03,  5.43529014e-02, -4.37409647e-02,\n",
       "        -2.44450198e-01, -8.25333347e-01,  1.70804794e+00,\n",
       "        -1.75448130e-01, -4.28589866e-01, -3.44032316e-01,\n",
       "        -2.24926808e-01, -9.82008699e-02, -3.81030984e-02,\n",
       "         1.43335897e-02,  4.91678373e-03,  3.28205715e-02,\n",
       "         3.04587093e-01, -3.04587093e-01,  8.73735220e-03,\n",
       "        -1.14455092e-02,  4.85565226e-03, -1.58816494e-02,\n",
       "        -3.36007793e-02, -2.71048562e-02, -1.51975564e-02,\n",
       "         3.36611475e-02, -8.03700411e-03],\n",
       "       [ 2.99891645e-01,  1.20027869e-01,  9.62994529e-02,\n",
       "         9.52490315e-02,  3.13227384e-01,  5.19134808e-02,\n",
       "         5.06810828e-02, -1.46638105e-02,  1.54994108e-01,\n",
       "         2.01646695e-01, -2.90935682e-01,  2.90159507e-02,\n",
       "        -7.74166801e-03, -2.44450198e-01, -3.97508064e-01,\n",
       "        -2.92098317e-03,  1.08234909e+00, -1.14036778e-01,\n",
       "        -6.98783763e-01, -1.80284599e-01, -1.77358126e-01,\n",
       "        -1.93705074e-01, -5.82070216e-03,  2.08364522e-01,\n",
       "         1.46669101e-01, -4.95292425e-02, -1.89791594e-02,\n",
       "         6.67425199e-02, -1.46638105e-02, -1.94963084e-01,\n",
       "        -6.64707614e-02,  4.67761888e-02,  9.51784050e-02,\n",
       "         4.56133893e-03,  9.55765193e-03,  1.33078799e-01,\n",
       "        -2.44450198e-01,  1.20303222e+00, -5.84110262e-01,\n",
       "        -1.62062129e-01, -4.26620301e-01, -3.44032316e-01,\n",
       "        -2.23248620e-01, -9.82008699e-02,  4.47346351e-03,\n",
       "        -1.37590431e-01, -2.04248519e-02,  1.44949558e-01,\n",
       "        -7.02498615e-01,  7.02498615e-01, -2.02444194e-03,\n",
       "        -1.77280819e-02,  7.15775462e-03,  3.70260018e-02,\n",
       "         1.49459287e-02,  3.81440808e-03, -1.66943015e-02,\n",
       "        -3.99233592e-03, -6.49613956e-03],\n",
       "       [-1.32037563e+00, -1.03087328e+00, -1.45920484e-01,\n",
       "        -2.16659527e-01, -9.72596736e-01, -1.74295110e-01,\n",
       "        -2.62097357e-01,  6.81950983e+01, -1.51679230e+00,\n",
       "        -1.88389328e-01, -2.90935682e-01, -2.03761449e-01,\n",
       "        -2.07399897e-02, -2.44450198e-01,  1.86605503e-02,\n",
       "        -2.65869483e-02, -6.36204772e-01, -1.14036778e-01,\n",
       "         8.22531685e-01, -1.80284599e-01, -1.77358126e-01,\n",
       "        -3.61861434e-01, -1.66277090e-02, -3.79495169e-01,\n",
       "        -3.77745550e-01, -1.77450218e-01, -2.09577972e-01,\n",
       "        -2.55954322e-01,  6.81950983e+01, -3.35541333e-01,\n",
       "        -6.78016432e-02, -3.81663381e-01, -1.42608475e-01,\n",
       "        -3.55316091e-01, -1.71278873e-01, -2.27103553e-01,\n",
       "        -2.44450198e-01, -8.25333347e-01, -2.57407508e-01,\n",
       "        -1.76249722e-01,  1.54099035e+00, -3.44032316e-01,\n",
       "         4.42332832e-01, -9.82008699e-02, -1.81551939e-01,\n",
       "         6.44356108e-01, -9.16116326e-02, -3.96755070e-01,\n",
       "        -9.58136009e-02,  9.58136009e-02, -6.10734231e-02,\n",
       "        -5.71494593e-02, -6.50020402e-02, -5.55033316e-02,\n",
       "        -1.41934395e-01, -7.82182704e-02, -5.92741249e-02,\n",
       "         3.40953914e-01, -2.53904744e-01],\n",
       "       [-7.16031686e-01, -1.79298383e-01, -8.32994902e-02,\n",
       "        -8.16873776e-02, -4.83803750e-01, -6.52774139e-02,\n",
       "        -1.12439585e-02, -1.46638105e-02,  3.54776709e-01,\n",
       "        -9.89522772e-02, -2.75336847e-01, -7.31911845e-03,\n",
       "         3.15856576e-02, -2.44450198e-01, -2.26861519e-01,\n",
       "         4.34065935e-02, -4.78828200e-01, -1.62988620e-02,\n",
       "         7.50815560e-01, -6.40214378e-02, -1.40407502e-01,\n",
       "         2.28046595e-01,  2.01701552e-03, -1.73011042e-01,\n",
       "        -1.54606795e-01, -5.40412305e-02,  1.84091114e-01,\n",
       "         8.54119784e-03, -1.46638105e-02,  2.84661786e-01,\n",
       "         4.47070551e-02, -9.04639282e-02, -3.83852371e-02,\n",
       "         8.23428290e-02,  5.66905869e-03, -8.28750356e-02,\n",
       "        -2.44450198e-01, -8.25333347e-01, -5.85140592e-01,\n",
       "         5.72567027e-01,  1.42416862e+00, -3.44032316e-01,\n",
       "         7.09526216e-01, -9.82008699e-02,  6.17975817e-02,\n",
       "         7.62327694e-02,  2.26741493e-02, -7.31839789e-02,\n",
       "         4.88247330e-01, -4.88247330e-01, -1.77770136e-02,\n",
       "         5.16689370e-02, -2.90905234e-02, -1.90951932e-02,\n",
       "         2.17962912e-02,  4.93548156e-02,  1.41864631e-02,\n",
       "        -3.34671918e-02,  1.50630711e-02],\n",
       "       [-1.03225094e-01, -2.98825345e-01, -6.12553849e-02,\n",
       "        -1.31843776e-01, -3.15231882e-02,  1.86869274e-01,\n",
       "         2.09893145e-01, -1.46638105e-02, -1.87355371e-01,\n",
       "        -1.53041768e-01, -3.23498716e-03,  4.27720459e-02,\n",
       "        -2.07399897e-02,  1.04043613e-01,  1.64520290e-01,\n",
       "        -2.65869483e-02, -1.74453682e-01,  1.43031513e-01,\n",
       "         6.59786927e-03,  2.22805806e-02,  4.70406243e-02,\n",
       "        -5.03313525e-02,  1.76803814e-01,  4.70041628e-02,\n",
       "        -8.59419922e-02,  9.45761317e-03,  1.42780804e-01,\n",
       "        -1.62915377e-03, -1.46638105e-02,  1.62959771e-02,\n",
       "        -6.78016432e-02, -6.31472460e-02,  4.14381981e-02,\n",
       "        -9.03241267e-02, -9.39835607e-02,  1.45113586e-01,\n",
       "         1.04043613e-01, -2.22758495e-01,  1.23663482e-02,\n",
       "         6.82847729e-02, -3.60115402e-03,  2.62214269e-01,\n",
       "         6.04286004e-02,  1.01832092e+01, -1.81551939e-01,\n",
       "        -3.25768238e-01, -9.16116326e-02, -2.42119200e+00,\n",
       "         1.10185409e-01, -1.10185409e-01, -6.10734231e-02,\n",
       "        -5.71494593e-02, -1.53263665e-02, -5.55033316e-02,\n",
       "         4.29515981e-02, -3.68582863e-02, -4.83669102e-03,\n",
       "         1.83048691e-01, -1.99983334e-01],\n",
       "       [ 1.73166579e-01, -3.16392089e-01, -6.30420848e-02,\n",
       "        -6.37906839e-02, -6.94125338e-01, -1.74295110e-01,\n",
       "        -2.62097357e-01, -1.46638105e-02, -1.51679230e+00,\n",
       "        -1.88389328e-01, -2.90935682e-01, -2.03761449e-01,\n",
       "        -2.07399897e-02,  4.09081281e+00, -1.11176704e-01,\n",
       "         1.49801716e-02, -2.25956142e-01,  2.33060455e-02,\n",
       "         1.92668448e-01,  2.52700973e-02,  3.07548450e-01,\n",
       "        -3.61861434e-01, -1.66277090e-02, -3.79495169e-01,\n",
       "        -3.77745550e-01, -1.77450218e-01, -2.09577972e-01,\n",
       "        -2.55954322e-01, -1.46638105e-02, -3.35541333e-01,\n",
       "        -6.78016432e-02, -3.81663381e-01, -1.42608475e-01,\n",
       "        -3.55316091e-01, -1.71278873e-01, -2.27103553e-01,\n",
       "         4.09081281e+00, -2.79818151e-01, -4.04268528e-02,\n",
       "         2.07966995e-02,  3.82506666e-01, -3.52931712e-02,\n",
       "         1.10361028e-01, -9.82008699e-02,  2.26585215e-02,\n",
       "         7.35844400e-02,  4.81823417e-02, -5.80447496e-02,\n",
       "         2.67501565e-01, -2.67501565e-01,  6.59764430e-02,\n",
       "         1.01220092e-03,  1.17744429e-02, -5.55033316e-02,\n",
       "        -1.09649757e-02, -7.19146166e-03, -1.25318777e-02,\n",
       "         2.09756772e-02, -2.24089053e-02],\n",
       "       [ 4.98606237e-01,  6.36988358e-02,  1.18042662e-01,\n",
       "         8.24963429e-02,  3.63685948e-01, -1.74295110e-01,\n",
       "        -2.62097357e-01, -1.46638105e-02, -1.51679230e+00,\n",
       "        -1.88389328e-01,  3.43406344e+00, -2.03761449e-01,\n",
       "         1.96593166e-02, -2.44450198e-01, -1.07165974e-01,\n",
       "         4.93652499e-03,  4.79490684e-01, -1.35992922e-02,\n",
       "        -3.85729152e-01, -7.95572360e-02, -3.36711958e-02,\n",
       "        -3.16054376e-01, -1.66277090e-02,  2.73157756e-01,\n",
       "         8.96900233e-02,  8.64380920e-01, -1.84547461e-01,\n",
       "        -1.93197014e-01, -1.46638105e-02, -1.61975582e-01,\n",
       "        -6.78016432e-02,  6.08090612e-02, -1.24631555e-01,\n",
       "         1.27839274e-01, -1.10879772e-01,  5.57891976e-03,\n",
       "        -2.44450198e-01,  4.79757287e-01, -1.11519624e-01,\n",
       "        -6.60106982e-02, -2.78022680e-01, -2.54187854e-01,\n",
       "         1.56554990e-02, -9.82008699e-02, -2.66837883e-02,\n",
       "        -2.26237055e-01, -5.01269996e-02,  2.42112464e-01,\n",
       "        -4.60091959e-01,  4.60091959e-01,  7.74905463e-03,\n",
       "        -3.50952787e-02, -3.91240929e-02, -2.52716803e-03,\n",
       "        -6.66889702e-02, -5.12857849e-02, -2.38259634e-02,\n",
       "         5.03060315e-02,  1.47031349e-02],\n",
       "       [ 1.29712146e-01, -1.54243222e-01, -8.98128106e-02,\n",
       "        -1.09331897e-01, -8.84828695e-02,  5.76826266e-02,\n",
       "         1.14681840e-01, -1.46638105e-02,  1.70357049e-01,\n",
       "        -9.96792565e-02, -1.89474147e-01,  4.69589544e-02,\n",
       "         9.78961267e-03, -2.44450198e-01,  9.89940148e-01,\n",
       "        -2.65869483e-02, -9.22840678e-01,  2.09241964e-01,\n",
       "        -1.68345358e-01,  5.70034077e-01,  4.46537861e-01,\n",
       "         3.67057262e-01, -1.66277090e-02, -1.60079913e-01,\n",
       "        -4.07801589e-02, -9.83515336e-02, -5.66779837e-02,\n",
       "         3.91374255e-02, -1.46638105e-02,  2.28984128e-01,\n",
       "         9.63074504e-02, -3.20897847e-02, -6.56262948e-02,\n",
       "        -4.93787398e-02,  2.08036476e-02, -8.64337441e-02,\n",
       "        -2.44450198e-01, -8.25333347e-01, -5.85140592e-01,\n",
       "        -1.61439551e-01, -4.27599951e-01,  2.89641654e+00,\n",
       "        -2.24926808e-01, -9.82008699e-02, -2.85084276e-02,\n",
       "         4.55396761e-01,  3.37874861e-02, -3.47553565e-01,\n",
       "         9.58239793e-01, -9.58239793e-01, -1.42654265e-02,\n",
       "         1.50710031e-02,  4.74441922e-02, -1.54694460e-02,\n",
       "         3.32026650e-02, -4.94827321e-03,  9.07389050e-02,\n",
       "        -6.41396092e-02,  3.26636618e-02]])"
      ]
     },
     "execution_count": 91,
     "metadata": {},
     "output_type": "execute_result"
    }
   ],
   "source": [
    "kmeans.cluster_centers_"
   ]
  },
  {
   "cell_type": "code",
   "execution_count": 94,
   "metadata": {},
   "outputs": [
    {
     "data": {
      "text/plain": [
       "(59,)"
      ]
     },
     "execution_count": 94,
     "metadata": {},
     "output_type": "execute_result"
    }
   ],
   "source": [
    "X_stan[0].shape"
   ]
  },
  {
   "cell_type": "code",
   "execution_count": 68,
   "metadata": {},
   "outputs": [
    {
     "data": {
      "text/plain": [
       "{'covariance_type': 'full',\n",
       " 'init_params': 'kmeans',\n",
       " 'max_iter': 100,\n",
       " 'means_init': None,\n",
       " 'n_components': 8,\n",
       " 'n_init': 1,\n",
       " 'precisions_init': None,\n",
       " 'random_state': None,\n",
       " 'reg_covar': 1e-06,\n",
       " 'tol': 0.001,\n",
       " 'verbose': 0,\n",
       " 'verbose_interval': 10,\n",
       " 'warm_start': False,\n",
       " 'weights_init': None}"
      ]
     },
     "execution_count": 68,
     "metadata": {},
     "output_type": "execute_result"
    }
   ],
   "source": [
    "gm.get_params()"
   ]
  },
  {
   "cell_type": "code",
   "execution_count": null,
   "metadata": {},
   "outputs": [],
   "source": []
  }
 ],
 "metadata": {
  "kernelspec": {
   "display_name": "Python 3",
   "language": "python",
   "name": "python3"
  },
  "language_info": {
   "codemirror_mode": {
    "name": "ipython",
    "version": 3
   },
   "file_extension": ".py",
   "mimetype": "text/x-python",
   "name": "python",
   "nbconvert_exporter": "python",
   "pygments_lexer": "ipython3",
   "version": "3.6.9"
  }
 },
 "nbformat": 4,
 "nbformat_minor": 2
}
