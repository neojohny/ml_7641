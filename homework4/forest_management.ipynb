{
 "cells": [
  {
   "cell_type": "code",
   "execution_count": 1,
   "metadata": {},
   "outputs": [],
   "source": [
    "#import mdptoolbox.example\n",
    "import hiive.mdptoolbox.example as example\n",
    "import hiive.mdptoolbox.mdp as mdp\n",
    "import numpy as np\n",
    "import pandas as pd\n",
    "\n",
    "#import hiive.mdptoolbox, hiive.mdptoolbox.example\n",
    "from matplotlib import pyplot as plt\n",
    "%matplotlib inline"
   ]
  },
  {
   "cell_type": "code",
   "execution_count": 68,
   "metadata": {},
   "outputs": [],
   "source": [
    "def vi_plot(result):\n",
    "    #vi = mdp.ValueIteration(pp,rr,0.96)\n",
    "    #result = mol.run_forest()\n",
    "    #result = mol.run()\n",
    "#     try:\n",
    "#         result = mol.run_forest()\n",
    "#         print('here')\n",
    "#     except:\n",
    "#         result = mol.run()\n",
    "    errors = [i['Error'] for i in result]\n",
    "    vi_re = [i['Reward'] for i in result]\n",
    "    ax1 = plt.subplot(211)\n",
    "    plt.plot(errors)\n",
    "    #plt.setp(ax1.get_xticklabels(), fontsize=6)\n",
    "    ax1.set_title('error')\n",
    "    # share x only\n",
    "    ax2 = plt.subplot(212)\n",
    "    plt.plot(vi_re)\n",
    "    # make these tick labels invisible\n",
    "    #plt.setp(ax2.get_xticklabels(), visible=False)\n",
    "    ax2.set_title('rewards')\n",
    "    \n",
    "    plt.plot()\n",
    "    #plt.title('MDP result')\n",
    "    return result,errors,vi_re"
   ]
  },
  {
   "cell_type": "code",
   "execution_count": 173,
   "metadata": {},
   "outputs": [],
   "source": [
    "P, R = example.forest(S=400, r1=400, r2=200, p=0.1, is_sparse=False)"
   ]
  },
  {
   "cell_type": "code",
   "execution_count": 4,
   "metadata": {
    "scrolled": true
   },
   "outputs": [
    {
     "name": "stdout",
     "output_type": "stream",
     "text": [
      " Iteration   Variation\n",
      "         1           1\n",
      "         2           1\n",
      "         3           1\n",
      "         4           1\n",
      "         5           1\n",
      "         6           1\n",
      "         7           1\n",
      "         8           1\n",
      "         9           1\n",
      "        10           1\n",
      "        11           1\n",
      "        12           1\n",
      "        13           1\n",
      "        14           1\n",
      "        15           1\n",
      "        16           1\n",
      "        17           1\n",
      "        18           1\n",
      "        19           1\n",
      "        20           1\n",
      "        21           1\n",
      "        22           1\n",
      "        23           1\n",
      "        24           1\n",
      "        25           1\n",
      "        26           1\n",
      "        27           1\n",
      "        28           1\n",
      "        29           1\n",
      "        30           1\n",
      "        31           1\n",
      "        32           1\n",
      "        33           1\n",
      "        34           1\n",
      "        35           1\n",
      "        36           1\n",
      "        37           1\n",
      "        38           1\n",
      "        39           1\n",
      "        40           1\n",
      "        41           1\n",
      "        42           1\n",
      "        43           1\n",
      "        44           1\n",
      "        45           1\n",
      "        46           1\n",
      "        47           1\n",
      "        48           1\n",
      "        49           1\n",
      "        50           1\n",
      "        51           1\n",
      "        52           1\n",
      "        53           1\n",
      "        54           1\n",
      "        55           1\n",
      "        56           1\n",
      "        57           1\n",
      "        58           1\n",
      "        59           1\n",
      "        60           1\n",
      "        61           1\n",
      "        62           1\n",
      "        63           0\n",
      "Iterating stopped, unchanging policy found.\n"
     ]
    },
    {
     "data": {
      "text/plain": [
       "336"
      ]
     },
     "execution_count": 4,
     "metadata": {},
     "output_type": "execute_result"
    },
    {
     "data": {
      "image/png": "[encoded data removed]",
      "text/plain": [
       "<Figure size 432x288 with 2 Axes>"
      ]
     },
     "metadata": {
      "needs_background": "light"
     },
     "output_type": "display_data"
    }
   ],
   "source": [
    "gamma = 0.999999996\n",
    "\n",
    "pi = mdp.PolicyIteration(P, R, gamma)\n",
    "pi.setVerbose()\n",
    "pi_result,pi_error,pi_reward = vi_plot(pi)\n",
    "sum(pi.policy)"
   ]
  },
  {
   "cell_type": "code",
   "execution_count": 5,
   "metadata": {},
   "outputs": [
    {
     "data": {
      "text/plain": [
       "400"
      ]
     },
     "execution_count": 5,
     "metadata": {},
     "output_type": "execute_result"
    }
   ],
   "source": [
    "len(pi.V)"
   ]
  },
  {
   "cell_type": "code",
   "execution_count": 80,
   "metadata": {},
   "outputs": [
    {
     "data": {
      "text/plain": [
       "Text(0.5, 1.0, 'Gamma vs Iteration')"
      ]
     },
     "execution_count": 80,
     "metadata": {},
     "output_type": "execute_result"
    },
    {
     "data": {
      "image/png": "[encoded data removed]",
      "text/plain": [
       "<Figure size 432x288 with 1 Axes>"
      ]
     },
     "metadata": {
      "needs_background": "light"
     },
     "output_type": "display_data"
    }
   ],
   "source": [
    "re = [100,-0,-0]\n",
    "gamma = [0.9,0.99,0.999]\n",
    "#pp,rr = get_PR(gym_p,env,re)\n",
    "results =[]\n",
    "for g in gamma:\n",
    "    vi = mdp.ValueIteration(P,R,g)\n",
    "    result = vi.run()\n",
    "    results.append([i['Mean V'] for i in result])\n",
    "    plt.plot([i['Mean V'] for i in result],label='Gamma='+str(g))\n",
    "#pd.DataFrame(result)\n",
    "plt.legend()\n",
    "plt.title('Gamma vs Iteration')"
   ]
  },
  {
   "cell_type": "code",
   "execution_count": 6,
   "metadata": {
    "scrolled": true
   },
   "outputs": [
    {
     "name": "stdout",
     "output_type": "stream",
     "text": [
      " Iteration   Variation\n",
      "         1  400.000000\n",
      "         2  359.999999\n",
      "         3  323.999997\n",
      "         4  291.599997\n",
      "         5  262.439996\n",
      "         6  236.195995\n",
      "         7  212.576395\n",
      "         8  191.318755\n",
      "         9  172.186878\n",
      "        10  154.968190\n",
      "        11  139.471370\n",
      "        12  125.524233\n",
      "        13  112.971809\n",
      "        14  101.674628\n",
      "        15   91.507165\n",
      "        16   82.356448\n",
      "        17   74.120803\n",
      "        18   66.708722\n",
      "        19   60.037850\n",
      "        20   54.034065\n",
      "        21   48.630658\n",
      "        22   43.767592\n",
      "        23   39.390833\n",
      "        24   35.451749\n",
      "        25   31.906574\n",
      "        26   28.715917\n",
      "        27   25.844325\n",
      "        28   23.259892\n",
      "        29   20.933903\n",
      "        30   18.840513\n",
      "        31   16.956461\n",
      "        32   15.260815\n",
      "        33   13.734734\n",
      "        34   12.361260\n",
      "        35   11.125134\n",
      "        36   10.012621\n",
      "        37    9.011359\n",
      "        38    8.110223\n",
      "        39    7.299200\n",
      "        40    6.569280\n",
      "        41    5.912352\n",
      "        42    5.321117\n",
      "        43    4.789005\n",
      "        44    4.310105\n",
      "        45    3.879094\n",
      "        46    3.491185\n",
      "        47    3.142066\n",
      "        48    2.827860\n",
      "        49    2.545074\n",
      "        50    2.290566\n",
      "        51    2.061510\n",
      "        52    1.855359\n",
      "        53    1.669823\n",
      "        54    1.502841\n",
      "        55    1.352556\n",
      "        56    1.217301\n",
      "        57    1.095571\n",
      "        58    0.986014\n",
      "        59    0.887412\n",
      "        60    0.798671\n",
      "        61    0.718804\n",
      "        62    0.646924\n",
      "        63    0.582231\n",
      "        64    0.524008\n",
      "        65    0.471607\n",
      "        66    0.424447\n",
      "        67    0.382002\n",
      "        68    0.343802\n",
      "        69    0.309422\n",
      "        70    0.278479\n",
      "        71    0.250631\n",
      "        72    0.225568\n",
      "        73    0.203011\n",
      "        74    0.182710\n",
      "        75    0.164439\n",
      "        76    0.147995\n",
      "        77    0.133196\n",
      "        78    0.119876\n",
      "        79    0.107889\n",
      "        80    0.097100\n",
      "        81    0.087390\n",
      "        82    0.078651\n",
      "        83    0.070786\n",
      "        84    0.063707\n",
      "        85    0.057336\n",
      "        86    0.051603\n",
      "        87    0.046443\n",
      "        88    0.041798\n",
      "        89    0.037618\n",
      "        90    0.033857\n",
      "        91    0.030471\n",
      "        92    0.027424\n",
      "        93    0.024681\n",
      "        94    0.022213\n",
      "        95    0.019992\n",
      "        96    0.017993\n",
      "        97    0.016194\n",
      "        98    0.014574\n",
      "        99    0.013117\n",
      "       100    0.011805\n",
      "       101    0.010625\n",
      "       102    0.009562\n",
      "       103    0.008606\n",
      "       104    0.007745\n",
      "       105    0.006971\n",
      "       106    0.006274\n",
      "       107    0.005646\n",
      "       108    0.005082\n",
      "       109    0.004574\n",
      "       110    0.004116\n",
      "       111    0.003705\n",
      "       112    0.003334\n",
      "       113    0.003001\n",
      "       114    0.002701\n",
      "       115    0.002431\n",
      "       116    0.002188\n",
      "       117    0.001969\n",
      "       118    0.001772\n",
      "       119    0.001595\n",
      "       120    0.001435\n",
      "       121    0.001292\n",
      "       122    0.001163\n",
      "       123    0.001046\n",
      "       124    0.000942\n",
      "       125    0.000847\n",
      "       126    0.000763\n",
      "       127    0.000686\n",
      "       128    0.000618\n",
      "       129    0.000556\n",
      "       130    0.000500\n",
      "       131    0.000450\n",
      "       132    0.000405\n",
      "       133    0.000365\n",
      "       134    0.000328\n",
      "       135    0.000295\n",
      "       136    0.000266\n",
      "       137    0.000239\n",
      "       138    0.000215\n",
      "       139    0.000194\n",
      "       140    0.000174\n",
      "       141    0.000157\n",
      "       142    0.000141\n",
      "       143    0.000127\n",
      "       144    0.000114\n",
      "       145    0.000103\n",
      "       146    0.000093\n",
      "       147    0.000083\n",
      "       148    0.000075\n",
      "       149    0.000068\n",
      "       150    0.000061\n",
      "       151    0.000055\n",
      "       152    0.000049\n",
      "       153    0.000044\n",
      "       154    0.000040\n",
      "       155    0.000036\n",
      "       156    0.000032\n",
      "       157    0.000029\n",
      "       158    0.000026\n",
      "       159    0.000024\n",
      "       160    0.000021\n",
      "       161    0.000019\n",
      "       162    0.000017\n",
      "       163    0.000015\n",
      "       164    0.000014\n",
      "       165    0.000013\n",
      "       166    0.000011\n",
      "       167    0.000010\n",
      "       168    0.000009\n",
      "       169    0.000008\n",
      "       170    0.000007\n",
      "       171    0.000007\n",
      "       172    0.000006\n",
      "       173    0.000005\n",
      "       174    0.000005\n",
      "       175    0.000004\n",
      "       176    0.000004\n",
      "       177    0.000004\n",
      "       178    0.000003\n",
      "       179    0.000003\n",
      "       180    0.000003\n",
      "       181    0.000002\n",
      "       182    0.000002\n",
      "       183    0.000002\n",
      "       184    0.000002\n",
      "       185    0.000002\n",
      "       186    0.000001\n",
      "       187    0.000001\n",
      "       188    0.000001\n",
      "       189    0.000001\n",
      "       190    0.000001\n",
      "       191    0.000001\n",
      "       192    0.000001\n",
      "       193    0.000001\n",
      "       194    0.000001\n",
      "       195    0.000001\n",
      "       196    0.000000\n",
      "       197    0.000000\n",
      "       198    0.000000\n",
      "       199    0.000000\n",
      "       200    0.000000\n",
      "       201    0.000000\n",
      "       202    0.000000\n",
      "       203    0.000000\n",
      "       204    0.000000\n",
      "       205    0.000000\n",
      "       206    0.000000\n",
      "       207    0.000000\n",
      "       208    0.000000\n",
      "       209    0.000000\n",
      "       210    0.000000\n",
      "       211    0.000000\n",
      "       212    0.000000\n",
      "       213    0.000000\n",
      "       214    0.000000\n",
      "       215    0.000000\n",
      "       216    0.000000\n",
      "       217    0.000000\n",
      "       218    0.000000\n",
      "       219    0.000000\n",
      "       220    0.000000\n",
      "       221    0.000000\n",
      "       222    0.000000\n",
      "       223    0.000000\n",
      "       224    0.000000\n",
      "       225    0.000000\n",
      "       226    0.000000\n",
      "       227    0.000000\n",
      "       228    0.000000\n",
      "       229    0.000000\n",
      "       230    0.000000\n",
      "       231    0.000000\n",
      "       232    0.000000\n",
      "       233    0.000000\n",
      "       234    0.000000\n",
      "       235    0.000000\n",
      "       236    0.000000\n",
      "       237    0.000000\n",
      "       238    0.000000\n",
      "       239    0.000000\n",
      "       240    0.000000\n",
      "       241    0.000000\n",
      "       242    0.000000\n",
      "       243    0.000000\n",
      "       244    0.000000\n",
      "       245    0.000000\n",
      "       246    0.000000\n",
      "       247    0.000000\n",
      "       248    0.000000\n",
      "       249    0.000000\n",
      "       250    0.000000\n",
      "       251    0.000000\n",
      "       252    0.000000\n",
      "       253    0.000000\n",
      "       254    0.000000\n",
      "       255    0.000000\n",
      "       256    0.000000\n",
      "       257    0.000000\n",
      "       258    0.000000\n",
      "       259    0.000000\n",
      "       260    0.000000\n",
      "       261    0.000000\n",
      "       262    0.000000\n",
      "       263    0.000000\n",
      "       264    0.000000\n",
      "       265    0.000000\n",
      "       266    0.000000\n",
      "       267    0.000000\n",
      "       268    0.000000\n",
      "       269    0.000000\n",
      "       270    0.000000\n",
      "       271    0.000000\n",
      "       272    0.000000\n",
      "       273    0.000000\n",
      "       274    0.000000\n",
      "       275    0.000000\n",
      "       276    0.000000\n",
      "       277    0.000000\n",
      "       278    0.000000\n",
      "       279    0.000000\n",
      "       280    0.000000\n",
      "       281    0.000000\n",
      "       282    0.000000\n",
      "       283    0.000000\n",
      "       284    0.000000\n",
      "       285    0.000000\n",
      "       286    0.000000\n",
      "       287    0.000000\n",
      "       288    0.000000\n",
      "       289    0.000000\n",
      "       290    0.000000\n",
      "       291    0.000000\n",
      "       292    0.000000\n",
      "       293    0.000000\n",
      "       294    0.000000\n",
      "       295    0.000000\n",
      "       296    0.000000\n",
      "       297    0.000000\n",
      "       298    0.000000\n",
      "       299    0.000000\n",
      "       300    0.000000\n",
      "       301    0.000000\n",
      "       302    0.000000\n",
      "       303    0.000000\n",
      "       304    0.000000\n",
      "       305    0.000000\n",
      "       306    0.000000\n",
      "Iterating stopped due to maximum number of iterations condition.\n"
     ]
    },
    {
     "data": {
      "text/plain": [
       "336"
      ]
     },
     "execution_count": 6,
     "metadata": {},
     "output_type": "execute_result"
    },
    {
     "data": {
      "image/png": "[encoded data removed]",
      "text/plain": [
       "<Figure size 432x288 with 2 Axes>"
      ]
     },
     "metadata": {
      "needs_background": "light"
     },
     "output_type": "display_data"
    }
   ],
   "source": [
    "#P, R = example.forest(S=500, r1=200, r2=20, p=0.1, is_sparse=False)\n",
    "gamma = 0.999999996\n",
    "vi = mdp.ValueIteration(P, R, gamma, epsilon=0.001,max_iter = 100000)\n",
    "vi.setVerbose()\n",
    "result,error,reward = vi_plot(vi)\n",
    "sum(vi.policy)"
   ]
  },
  {
   "cell_type": "code",
   "execution_count": 7,
   "metadata": {},
   "outputs": [
    {
     "data": {
      "text/plain": [
       "400"
      ]
     },
     "execution_count": 7,
     "metadata": {},
     "output_type": "execute_result"
    }
   ],
   "source": [
    "sum([pi.policy[i] == vi.policy[i] for i in range(400)])"
   ]
  },
  {
   "cell_type": "code",
   "execution_count": 18,
   "metadata": {
    "scrolled": false
   },
   "outputs": [
    {
     "data": {
      "text/plain": [
       "190"
      ]
     },
     "execution_count": 18,
     "metadata": {},
     "output_type": "execute_result"
    },
    {
     "data": {
      "image/png": "[encoded data removed]",
      "text/plain": [
       "<Figure size 432x288 with 2 Axes>"
      ]
     },
     "metadata": {
      "needs_background": "light"
     },
     "output_type": "display_data"
    }
   ],
   "source": [
    "n_iter = 1000000\n",
    "gamma = 0.999999996\n",
    "ql = mdp.QLearning(P, R, 0.999999996 , n_iter=n_iter,\n",
    "                   epsilon=1,epsilon_decay=0.99,epsilon_min=0.1,\n",
    "                   alpha_decay=0.999,alpha = 0.1,alpha_min=0.01\n",
    "                   ,run_stat_frequency=1)\n",
    "ql.setVerbose()\n",
    "ql_result,ql_error,ql_reward = vi_plot(ql)\n",
    "sum(ql.policy)"
   ]
  },
  {
   "cell_type": "code",
   "execution_count": 48,
   "metadata": {},
   "outputs": [
    {
     "name": "stdout",
     "output_type": "stream",
     "text": [
      "333\n",
      "701.9699947834015\n"
     ]
    },
    {
     "data": {
      "image/png": "[encoded data removed]",
      "text/plain": [
       "<Figure size 432x288 with 2 Axes>"
      ]
     },
     "metadata": {
      "needs_background": "light"
     },
     "output_type": "display_data"
    }
   ],
   "source": [
    "import time\n",
    "start = time.time()\n",
    "n_iter = 10000000\n",
    "ql = mdp.QLearning(P, R, 0.999999996 , n_iter=n_iter,\n",
    "                   epsilon=1,epsilon_decay=0.9999,epsilon_min=0.1,\n",
    "                   alpha_decay=0.9999,alpha = 1,alpha_min=0.01\n",
    "                   ,run_stat_frequency=1,decay_every=100)\n",
    "ql.setVerbose()\n",
    "ql_result,ql_error,ql_reward = vi_plot(ql)\n",
    "print(sum(ql.policy))\n",
    "print(time.time()-start)"
   ]
  },
  {
   "cell_type": "code",
   "execution_count": 59,
   "metadata": {},
   "outputs": [],
   "source": [
    "pd.DataFrame(ql.V).to_pickle('q_v.pkl')"
   ]
  },
  {
   "cell_type": "code",
   "execution_count": 53,
   "metadata": {},
   "outputs": [
    {
     "data": {
      "text/plain": [
       "10000000"
      ]
     },
     "execution_count": 53,
     "metadata": {},
     "output_type": "execute_result"
    }
   ],
   "source": [
    "len(ql_result)"
   ]
  },
  {
   "cell_type": "code",
   "execution_count": 56,
   "metadata": {},
   "outputs": [],
   "source": [
    "pd.DataFrame(ql_result).to_pickle('ql_result.pkl')"
   ]
  },
  {
   "cell_type": "code",
   "execution_count": 38,
   "metadata": {},
   "outputs": [
    {
     "data": {
      "text/plain": [
       "0.006721111959865588"
      ]
     },
     "execution_count": 38,
     "metadata": {},
     "output_type": "execute_result"
    }
   ],
   "source": [
    "0.9999**(5000000/1000)"
   ]
  },
  {
   "cell_type": "code",
   "execution_count": 19,
   "metadata": {},
   "outputs": [
    {
     "data": {
      "text/plain": [
       "180"
      ]
     },
     "execution_count": 19,
     "metadata": {},
     "output_type": "execute_result"
    },
    {
     "data": {
      "image/png": "[encoded data removed]",
      "text/plain": [
       "<Figure size 432x288 with 2 Axes>"
      ]
     },
     "metadata": {
      "needs_background": "light"
     },
     "output_type": "display_data"
    }
   ],
   "source": [
    "n_iter = 1000000\n",
    "ql = mdp.QLearning(P, R, 0.999999996 , n_iter=n_iter,\n",
    "                   epsilon=1,epsilon_decay=0.99,epsilon_min=0.1,\n",
    "                   alpha_decay=0.999,alpha = 1,alpha_min=0.01\n",
    "                   ,run_stat_frequency=1)\n",
    "ql.setVerbose()\n",
    "ql_result,ql_error,ql_reward = vi_plot(ql)\n",
    "sum(ql.policy)"
   ]
  },
  {
   "cell_type": "code",
   "execution_count": 76,
   "metadata": {},
   "outputs": [
    {
     "data": {
      "text/plain": [
       "63"
      ]
     },
     "execution_count": 76,
     "metadata": {},
     "output_type": "execute_result"
    },
    {
     "data": {
      "image/png": "[encoded data removed]",
      "text/plain": [
       "<Figure size 432x288 with 2 Axes>"
      ]
     },
     "metadata": {
      "needs_background": "light"
     },
     "output_type": "display_data"
    }
   ],
   "source": [
    "n_iter = 100000\n",
    "gamma = 0.9\n",
    "ql_test = mdp.QLearning(P, R, gamma , n_iter=n_iter,\n",
    "                   epsilon=1,epsilon_decay=0.99,epsilon_min=0.1,\n",
    "                   alpha_decay=0.999,alpha = 1,alpha_min=0.01\n",
    "                   ,run_stat_frequency=1)\n",
    "#ql.setVerbose()\n",
    "\n",
    "result_test = ql_test.run()\n",
    "res,_,_ = vi_plot(result_test)\n",
    "#_ = vi_plot(result_test)\n",
    "sum(ql_test.policy)"
   ]
  },
  {
   "cell_type": "code",
   "execution_count": null,
   "metadata": {},
   "outputs": [],
   "source": [
    "import time\n",
    "start = time.time()\n",
    "n_iter = 10000000\n",
    "ql = mdp.QLearning(P, R, 0.999999996 , n_iter=n_iter,\n",
    "                   epsilon=1,epsilon_decay=0.9999,epsilon_min=0.1,\n",
    "                   alpha_decay=0.9999,alpha = 1,alpha_min=0.01\n",
    "                   ,run_stat_frequency=1,decay_every=100)\n",
    "ql.setVerbose()\n",
    "ql_result,ql_error,ql_reward = vi_plot(ql)\n",
    "print(sum(ql.policy))\n",
    "print(time.time()-start)"
   ]
  },
  {
   "cell_type": "code",
   "execution_count": 149,
   "metadata": {},
   "outputs": [],
   "source": [
    "n_iter = 100000\n",
    "gamma = 0.95\n",
    "epsilon_decay = [0.9,0.95,0.99]\n",
    "ep_decay_result = []\n",
    "for ed in epsilon_decay:\n",
    "    ql_test = mdp.QLearning(P, R, gamma , n_iter=n_iter,\n",
    "                   epsilon=1,epsilon_decay=ed,epsilon_min=0.1,\n",
    "                   alpha_decay=0.999,alpha = 0.1,alpha_min=0.01\n",
    "                   ,run_stat_frequency=1,decay_every=1)\n",
    "#ql.setVerbose()\n",
    "\n",
    "    result_test = ql_test.run()\n",
    "    #res,_,_ = vi_plot(result_test)\n",
    "    ep_decay_result.append([i['Mean V'] for i in result_test])\n",
    "#_ = vi_plot(result_test)"
   ]
  },
  {
   "cell_type": "code",
   "execution_count": 150,
   "metadata": {},
   "outputs": [
    {
     "data": {
      "text/plain": [
       "Text(0.5, 1.0, 'Mean V vs Decay')"
      ]
     },
     "execution_count": 150,
     "metadata": {},
     "output_type": "execute_result"
    },
    {
     "data": {
      "image/png": "[encoded data removed]",
      "text/plain": [
       "<Figure size 432x288 with 1 Axes>"
      ]
     },
     "metadata": {
      "needs_background": "light"
     },
     "output_type": "display_data"
    }
   ],
   "source": [
    "for i in range(3):\n",
    "    plt.plot(ep_decay_result[i],label='ep_decay='+str(epsilon_decay[i]))\n",
    "plt.legend(loc='best')\n",
    "plt.title('Mean V vs Decay')#n_iter= 1000000"
   ]
  },
  {
   "cell_type": "code",
   "execution_count": 155,
   "metadata": {},
   "outputs": [],
   "source": [
    "n_iter = 100000\n",
    "gamma = 0.95\n",
    "epsilon_decay = [0.9,0.95,0.99]\n",
    "alphas = [1,0.5,0.1]\n",
    "ep_decay_result = []\n",
    "for a in alphas:\n",
    "    ql_test = mdp.QLearning(P, R, gamma , n_iter=n_iter,\n",
    "                   epsilon=1,epsilon_decay=0.95,epsilon_min=0.1,\n",
    "                   alpha_decay=0.999,alpha = a,alpha_min=0.01\n",
    "                   ,run_stat_frequency=None,decay_every=1)\n",
    "#ql.setVerbose()\n",
    "\n",
    "    result_test = ql_test.run()\n",
    "    #res,_,_ = vi_plot(result_test)\n",
    "    ep_decay_result.append([i['Mean V'] for i in result_test])\n",
    "#_ = vi_plot(result_test)"
   ]
  },
  {
   "cell_type": "code",
   "execution_count": 158,
   "metadata": {},
   "outputs": [
    {
     "data": {
      "text/plain": [
       "Text(0.5, 1.0, 'Forest Mean V vs Alpha')"
      ]
     },
     "execution_count": 158,
     "metadata": {},
     "output_type": "execute_result"
    },
    {
     "data": {
      "image/png": "[encoded data removed]",
      "text/plain": [
       "<Figure size 432x288 with 1 Axes>"
      ]
     },
     "metadata": {
      "needs_background": "light"
     },
     "output_type": "display_data"
    }
   ],
   "source": [
    "for i in range(3):\n",
    "    plt.plot(ep_decay_result[i],label='Alpha='+str(alphas[i]))\n",
    "plt.legend(loc='best')\n",
    "plt.title('Forest Mean V vs Alpha')#n_iter= 1000000"
   ]
  },
  {
   "cell_type": "code",
   "execution_count": 164,
   "metadata": {},
   "outputs": [
    {
     "data": {
      "text/plain": [
       "Text(0.5, 1.0, 'Forest Q learning Epsilon vs Iteration')"
      ]
     },
     "execution_count": 164,
     "metadata": {},
     "output_type": "execute_result"
    },
    {
     "data": {
      "image/png": "[encoded data removed]",
      "text/plain": [
       "<Figure size 432x288 with 1 Axes>"
      ]
     },
     "metadata": {
      "needs_background": "light"
     },
     "output_type": "display_data"
    }
   ],
   "source": [
    "gamma = [0.9,0.99,0.999]\n",
    "alpha = [1,0.5,0.1]\n",
    "epsilon = [1.0,0.5,0.1]\n",
    "#pp,rr = get_PR(gym_p,env,re)\n",
    "results =[]\n",
    "n_iter = 500000\n",
    "for e in epsilon:\n",
    "    #vi = mdp.ValueIteration(pp,rr,g)\n",
    "    ql = mdp.QLearning(pp, rr, gamma = 0.999 , n_iter=n_iter,epsilon_decay=0.999,epsilon_min=0.001,epsilon=e,\n",
    "                       alpha_decay=0.99,alpha=0.1,alpha_min = 0.01)\n",
    "\n",
    "    qlresult = ql.run()\n",
    "    results.append([i['Mean V'] for i in qlresult])\n",
    "    plt.plot([i['Mean V'] for i in qlresult],label='Epsilon='+str(e))\n",
    "#pd.DataFrame(result)\n",
    "plt.legend()\n",
    "plt.title('Forest Q learning Epsilon vs Iteration')"
   ]
  },
  {
   "cell_type": "code",
   "execution_count": 176,
   "metadata": {},
   "outputs": [
    {
     "data": {
      "text/plain": [
       "Text(0.5, 1.0, 'Forest Q learning Epsilon vs Iteration')"
      ]
     },
     "execution_count": 176,
     "metadata": {},
     "output_type": "execute_result"
    },
    {
     "data": {
      "image/png": "[encoded data removed]",
      "text/plain": [
       "<Figure size 432x288 with 1 Axes>"
      ]
     },
     "metadata": {
      "needs_background": "light"
     },
     "output_type": "display_data"
    }
   ],
   "source": [
    "gamma = [0.9,0.99,0.999]\n",
    "alpha = [1,0.5,0.1]\n",
    "epsilon = [1.0,0.5,0.1]\n",
    "#pp,rr = get_PR(gym_p,env,re)\n",
    "results =[]\n",
    "n_iter = 500000\n",
    "for e in epsilon:\n",
    "    #vi = mdp.ValueIteration(pp,rr,g)\n",
    "    ql = mdp.QLearning(P, R, gamma = 0.999 , n_iter=n_iter,epsilon_decay=0.999,epsilon_min=0.001,epsilon=e,\n",
    "                       alpha_decay=0.99,alpha=0.1,alpha_min = 0.01)\n",
    "\n",
    "    qlresult = ql.run()\n",
    "    results.append([i['Mean V'] for i in qlresult])\n",
    "    plt.plot([i['Mean V'] for i in qlresult],label='Epsilon='+str(e))\n",
    "#pd.DataFrame(result)\n",
    "plt.legend()\n",
    "plt.title('Forest Q learning Epsilon vs Iteration')"
   ]
  },
  {
   "cell_type": "code",
   "execution_count": 174,
   "metadata": {},
   "outputs": [
    {
     "data": {
      "text/plain": [
       "Text(0.5, 1.0, 'Forest Q learning Alpha vs Iteration')"
      ]
     },
     "execution_count": 174,
     "metadata": {},
     "output_type": "execute_result"
    },
    {
     "data": {
      "image/png": "[encoded data removed]",
      "text/plain": [
       "<Figure size 432x288 with 1 Axes>"
      ]
     },
     "metadata": {
      "needs_background": "light"
     },
     "output_type": "display_data"
    }
   ],
   "source": [
    "gamma = [0.9,0.99,0.999]\n",
    "alpha = [0.1,0.05,0.01]\n",
    "epsilon = [1.0,0.5,0.1]\n",
    "#pp,rr = get_PR(gym_p,env,re)\n",
    "results =[]\n",
    "n_iter = 500000\n",
    "for a in alpha:\n",
    "    #vi = mdp.ValueIteration(pp,rr,g)\n",
    "    ql = mdp.QLearning(pp, rr, gamma = 0.999 , n_iter=n_iter,epsilon_decay=0.999,epsilon_min=0.001,epsilon=1,\n",
    "                       alpha_decay=0.99,alpha=a,alpha_min = 0.01)\n",
    "\n",
    "    qlresult = ql.run()\n",
    "    results.append([i['Mean V'] for i in qlresult])\n",
    "    plt.plot([i['Mean V'] for i in qlresult],label='Alpha='+str(a))\n",
    "#pd.DataFrame(result)\n",
    "plt.legend()\n",
    "plt.title('Forest Q learning Alpha vs Iteration')"
   ]
  },
  {
   "cell_type": "code",
   "execution_count": 168,
   "metadata": {},
   "outputs": [
    {
     "data": {
      "text/plain": [
       "Text(0.5, 1.0, 'Forest Q learning Epsilon Decay vs Iteration')"
      ]
     },
     "execution_count": 168,
     "metadata": {},
     "output_type": "execute_result"
    },
    {
     "data": {
      "image/png": "[encoded data removed]",
      "text/plain": [
       "<Figure size 432x288 with 1 Axes>"
      ]
     },
     "metadata": {
      "needs_background": "light"
     },
     "output_type": "display_data"
    }
   ],
   "source": [
    "gamma = [0.9,0.99,0.999]\n",
    "alpha = [0.1,0.05,0.01]\n",
    "epsilon = [1.0,0.5,0.1]\n",
    "epsilon_decay = [0.9,0.95,0.99]\n",
    "\n",
    "#pp,rr = get_PR(gym_p,env,re)\n",
    "results =[]\n",
    "n_iter = 500000\n",
    "for e in epsilon_decay:\n",
    "    #vi = mdp.ValueIteration(pp,rr,g)\n",
    "    ql = mdp.QLearning(pp, rr, gamma = 0.999 , n_iter=n_iter,epsilon_decay=e,epsilon_min=0.001,epsilon=1,\n",
    "                       alpha_decay=0.99,alpha=1.0,alpha_min = 0.01)\n",
    "\n",
    "    qlresult = ql.run()\n",
    "    results.append([i['Mean V'] for i in qlresult])\n",
    "    plt.plot([i['Mean V'] for i in qlresult],label='Epsilon Decay='+str(e))\n",
    "#pd.DataFrame(result)\n",
    "plt.legend()\n",
    "plt.title('Forest Q learning Epsilon Decay vs Iteration')"
   ]
  },
  {
   "cell_type": "code",
   "execution_count": 95,
   "metadata": {},
   "outputs": [
    {
     "data": {
      "text/plain": [
       "2096.042126620864"
      ]
     },
     "execution_count": 95,
     "metadata": {},
     "output_type": "execute_result"
    }
   ],
   "source": [
    "np.mean(ep_decay_result[1])"
   ]
  },
  {
   "cell_type": "code",
   "execution_count": 78,
   "metadata": {},
   "outputs": [
    {
     "data": {
      "text/plain": [
       "[<matplotlib.lines.Line2D at 0x22c67f44dc8>]"
      ]
     },
     "execution_count": 78,
     "metadata": {},
     "output_type": "execute_result"
    },
    {
     "data": {
      "image/png": "[encoded data removed]",
      "text/plain": [
       "<Figure size 432x288 with 1 Axes>"
      ]
     },
     "metadata": {
      "needs_background": "light"
     },
     "output_type": "display_data"
    }
   ],
   "source": [
    "plt.plot([i['Max V'] for i in result_test])\n",
    "plt.plot([i['Mean V'] for i in result_test])"
   ]
  },
  {
   "cell_type": "code",
   "execution_count": 74,
   "metadata": {},
   "outputs": [
    {
     "data": {
      "text/plain": [
       "[<matplotlib.lines.Line2D at 0x22c5d6c9a48>]"
      ]
     },
     "execution_count": 74,
     "metadata": {},
     "output_type": "execute_result"
    },
    {
     "data": {
      "image/png": "[encoded data removed]",
      "text/plain": [
       "<Figure size 432x288 with 1 Axes>"
      ]
     },
     "metadata": {
      "needs_background": "light"
     },
     "output_type": "display_data"
    }
   ],
   "source": [
    "plt.plot([i['Max V'] for i in result_test])\n",
    "plt.plot([i['Mean V'] for i in result_test])"
   ]
  },
  {
   "cell_type": "code",
   "execution_count": 77,
   "metadata": {},
   "outputs": [
    {
     "data": {
      "text/plain": [
       "Text(0.5, 1.0, 'Converged QL')"
      ]
     },
     "execution_count": 77,
     "metadata": {},
     "output_type": "execute_result"
    },
    {
     "data": {
      "image/png": "[encoded data removed]",
      "text/plain": [
       "<Figure size 432x288 with 1 Axes>"
      ]
     },
     "metadata": {
      "needs_background": "light"
     },
     "output_type": "display_data"
    }
   ],
   "source": [
    "plt.plot([i['Max V'] for i in ql_result])\n",
    "plt.plot([i['Mean V'] for i in ql_result])\n",
    "plt.title('Converged QL')"
   ]
  },
  {
   "cell_type": "code",
   "execution_count": null,
   "metadata": {},
   "outputs": [],
   "source": [
    "plt.plot([i['Max V'] for i in result_test])"
   ]
  },
  {
   "cell_type": "code",
   "execution_count": 51,
   "metadata": {},
   "outputs": [
    {
     "data": {
      "text/plain": [
       "333"
      ]
     },
     "execution_count": 51,
     "metadata": {},
     "output_type": "execute_result"
    }
   ],
   "source": [
    "sum(ql.policy)"
   ]
  },
  {
   "cell_type": "code",
   "execution_count": 50,
   "metadata": {},
   "outputs": [
    {
     "data": {
      "text/plain": [
       "336"
      ]
     },
     "execution_count": 50,
     "metadata": {},
     "output_type": "execute_result"
    }
   ],
   "source": [
    "sum(vi.policy)"
   ]
  },
  {
   "cell_type": "code",
   "execution_count": null,
   "metadata": {},
   "outputs": [],
   "source": []
  },
  {
   "cell_type": "code",
   "execution_count": 49,
   "metadata": {},
   "outputs": [
    {
     "data": {
      "text/plain": [
       "293"
      ]
     },
     "execution_count": 49,
     "metadata": {},
     "output_type": "execute_result"
    }
   ],
   "source": [
    "sum([ql.policy[i] == vi.policy[i] for i in range(400)])"
   ]
  },
  {
   "cell_type": "markdown",
   "metadata": {},
   "source": [
    "## tuning ql hp"
   ]
  },
  {
   "cell_type": "code",
   "execution_count": null,
   "metadata": {},
   "outputs": [],
   "source": [
    "gamma = [0.9,0.99,0.999]\n",
    "epsilon = [1,0.5,0.1]\n",
    "alpha =  [1,0.1]\n"
   ]
  },
  {
   "cell_type": "code",
   "execution_count": null,
   "metadata": {},
   "outputs": [],
   "source": []
  },
  {
   "cell_type": "code",
   "execution_count": 22,
   "metadata": {},
   "outputs": [],
   "source": [
    "import pandas as pd"
   ]
  },
  {
   "cell_type": "code",
   "execution_count": 23,
   "metadata": {},
   "outputs": [],
   "source": [
    "qlp = pd.DataFrame(ql.policy)"
   ]
  },
  {
   "cell_type": "code",
   "execution_count": 24,
   "metadata": {},
   "outputs": [
    {
     "data": {
      "text/plain": [
       "{'State': 265,\n",
       " 'Action': 0,\n",
       " 'Reward': 0.0,\n",
       " 'Error': 0.0,\n",
       " 'Time': 0.012967109680175781,\n",
       " 'Alpha': 0.9056978449586682,\n",
       " 'Epsilon': 0.36972963764972655,\n",
       " 'Gamma': 0.999999996,\n",
       " 'Max V': 16.44970280149264,\n",
       " 'Mean V': 0.15194856418021915,\n",
       " 'Iteration': 100}"
      ]
     },
     "execution_count": 24,
     "metadata": {},
     "output_type": "execute_result"
    }
   ],
   "source": [
    "ql_result[0]"
   ]
  },
  {
   "cell_type": "code",
   "execution_count": 26,
   "metadata": {},
   "outputs": [],
   "source": [
    "states = [i['State'] for i in ql_result]\n",
    "states = pd.DataFrame(states)"
   ]
  },
  {
   "cell_type": "code",
   "execution_count": 33,
   "metadata": {},
   "outputs": [
    {
     "data": {
      "text/plain": [
       "189"
      ]
     },
     "execution_count": 33,
     "metadata": {},
     "output_type": "execute_result"
    }
   ],
   "source": [
    "sum(ql.policy)"
   ]
  },
  {
   "cell_type": "code",
   "execution_count": 8,
   "metadata": {},
   "outputs": [
    {
     "data": {
      "text/plain": [
       "221"
      ]
     },
     "execution_count": 8,
     "metadata": {},
     "output_type": "execute_result"
    }
   ],
   "source": [
    "sum([vi.policy[i]==ql.policy[i] for i in range(400)])"
   ]
  },
  {
   "cell_type": "code",
   "execution_count": 35,
   "metadata": {},
   "outputs": [
    {
     "data": {
      "text/plain": [
       "0.1"
      ]
     },
     "execution_count": 35,
     "metadata": {},
     "output_type": "execute_result"
    }
   ],
   "source": [
    "a"
   ]
  },
  {
   "cell_type": "code",
   "execution_count": 36,
   "metadata": {},
   "outputs": [
    {
     "data": {
      "text/plain": [
       "1"
      ]
     },
     "execution_count": 36,
     "metadata": {},
     "output_type": "execute_result"
    }
   ],
   "source": [
    "e"
   ]
  },
  {
   "cell_type": "code",
   "execution_count": 27,
   "metadata": {},
   "outputs": [
    {
     "ename": "AttributeError",
     "evalue": "'DataFrame' object has no attribute 'value_counts'",
     "output_type": "error",
     "traceback": [
      "\u001b[1;31m---------------------------------------------------------------------------\u001b[0m",
      "\u001b[1;31mAttributeError\u001b[0m                            Traceback (most recent call last)",
      "\u001b[1;32m<ipython-input-27-e6b9fb4897a9>\u001b[0m in \u001b[0;36m<module>\u001b[1;34m\u001b[0m\n\u001b[1;32m----> 1\u001b[1;33m \u001b[0mstates\u001b[0m\u001b[1;33m.\u001b[0m\u001b[0mvalue_counts\u001b[0m\u001b[1;33m(\u001b[0m\u001b[1;33m)\u001b[0m\u001b[1;33m\u001b[0m\u001b[1;33m\u001b[0m\u001b[0m\n\u001b[0m",
      "\u001b[1;32m~\\Anaconda3\\lib\\site-packages\\pandas\\core\\generic.py\u001b[0m in \u001b[0;36m__getattr__\u001b[1;34m(self, name)\u001b[0m\n\u001b[0;32m   5177\u001b[0m             \u001b[1;32mif\u001b[0m \u001b[0mself\u001b[0m\u001b[1;33m.\u001b[0m\u001b[0m_info_axis\u001b[0m\u001b[1;33m.\u001b[0m\u001b[0m_can_hold_identifiers_and_holds_name\u001b[0m\u001b[1;33m(\u001b[0m\u001b[0mname\u001b[0m\u001b[1;33m)\u001b[0m\u001b[1;33m:\u001b[0m\u001b[1;33m\u001b[0m\u001b[1;33m\u001b[0m\u001b[0m\n\u001b[0;32m   5178\u001b[0m                 \u001b[1;32mreturn\u001b[0m \u001b[0mself\u001b[0m\u001b[1;33m[\u001b[0m\u001b[0mname\u001b[0m\u001b[1;33m]\u001b[0m\u001b[1;33m\u001b[0m\u001b[1;33m\u001b[0m\u001b[0m\n\u001b[1;32m-> 5179\u001b[1;33m             \u001b[1;32mreturn\u001b[0m \u001b[0mobject\u001b[0m\u001b[1;33m.\u001b[0m\u001b[0m__getattribute__\u001b[0m\u001b[1;33m(\u001b[0m\u001b[0mself\u001b[0m\u001b[1;33m,\u001b[0m \u001b[0mname\u001b[0m\u001b[1;33m)\u001b[0m\u001b[1;33m\u001b[0m\u001b[1;33m\u001b[0m\u001b[0m\n\u001b[0m\u001b[0;32m   5180\u001b[0m \u001b[1;33m\u001b[0m\u001b[0m\n\u001b[0;32m   5181\u001b[0m     \u001b[1;32mdef\u001b[0m \u001b[0m__setattr__\u001b[0m\u001b[1;33m(\u001b[0m\u001b[0mself\u001b[0m\u001b[1;33m,\u001b[0m \u001b[0mname\u001b[0m\u001b[1;33m,\u001b[0m \u001b[0mvalue\u001b[0m\u001b[1;33m)\u001b[0m\u001b[1;33m:\u001b[0m\u001b[1;33m\u001b[0m\u001b[1;33m\u001b[0m\u001b[0m\n",
      "\u001b[1;31mAttributeError\u001b[0m: 'DataFrame' object has no attribute 'value_counts'"
     ]
    }
   ],
   "source": [
    "states.value_counts()"
   ]
  },
  {
   "cell_type": "code",
   "execution_count": 15,
   "metadata": {},
   "outputs": [
    {
     "data": {
      "text/plain": [
       "set()"
      ]
     },
     "execution_count": 15,
     "metadata": {},
     "output_type": "execute_result"
    }
   ],
   "source": [
    "set(range(400))-set([i['State'] for i in ql_result])"
   ]
  },
  {
   "cell_type": "code",
   "execution_count": 13,
   "metadata": {},
   "outputs": [
    {
     "data": {
      "text/plain": [
       "(1, 1, 1, 0, 0, 0, 1, 0, 0, 0)"
      ]
     },
     "execution_count": 13,
     "metadata": {},
     "output_type": "execute_result"
    }
   ],
   "source": [
    "ql.policy[-10:]"
   ]
  },
  {
   "cell_type": "code",
   "execution_count": 16,
   "metadata": {},
   "outputs": [
    {
     "data": {
      "text/plain": [
       "(2412.1380188947896,\n",
       " 2412.6273544081682,\n",
       " 2401.6712819404247,\n",
       " 2162.998136651427,\n",
       " 660.2511512157654,\n",
       " 363.41572930368153,\n",
       " 287.1864854726072,\n",
       " 241.94924310796245,\n",
       " 76.45290831624213,\n",
       " 490.44970192773786,\n",
       " 376.0751991161974,\n",
       " 112.24959820172758,\n",
       " 550.2493470246321,\n",
       " 30.664924326516317,\n",
       " 120.43336697694441,\n",
       " 638.5338094993363,\n",
       " 44.06305774288941,\n",
       " 441.63310353911584,\n",
       " 231.8825282746934,\n",
       " 117.90391648046847,\n",
       " 566.6577704721868,\n",
       " 313.02974482993943,\n",
       " 272.57262816811857,\n",
       " 190.35576310425452,\n",
       " 77.60243797397874,\n",
       " 512.2072055563895,\n",
       " 218.8050054429521,\n",
       " 385.553873100441,\n",
       " 17.533779900775055,\n",
       " 63.62918211498073,\n",
       " 95.5167025279605,\n",
       " 283.79489744403617,\n",
       " 990.9227776947325,\n",
       " 346.5120993241955,\n",
       " 266.600266777992,\n",
       " 74.52704862453501,\n",
       " 506.9750468214893,\n",
       " 81.85534956498962,\n",
       " 210.74873058974737,\n",
       " 685.9873096005211,\n",
       " 318.72173401088133,\n",
       " 241.96246079720277,\n",
       " 332.2651204554433,\n",
       " 284.6616212241552,\n",
       " 276.9219421121706,\n",
       " 108.94420813429419,\n",
       " 675.3994882942735,\n",
       " 265.3890308619982,\n",
       " 291.3780192097307,\n",
       " 331.28492373951053,\n",
       " 275.42760128882014,\n",
       " 275.0083697227913,\n",
       " 302.7709730448442,\n",
       " 67.86790797783792,\n",
       " 99.32573035561566,\n",
       " 142.1726317396464,\n",
       " 156.983728170232,\n",
       " 336.55818938743954,\n",
       " 1040.3370696654647,\n",
       " 316.01525099751825,\n",
       " 210.71943570749158,\n",
       " 136.25532478941733,\n",
       " 536.070143869444,\n",
       " 325.3653765671163,\n",
       " 103.593603621638,\n",
       " 716.4978909400435,\n",
       " 61.791479750730126,\n",
       " 606.861215424759,\n",
       " 88.3513043327572,\n",
       " 383.97019423210565,\n",
       " 130.91253135606607,\n",
       " 564.0209683342558,\n",
       " 41.9512200551933,\n",
       " 437.38650970639117,\n",
       " 56.85753232964176,\n",
       " 76.42125440755495,\n",
       " 151.15664304699092,\n",
       " 260.40605466374205,\n",
       " 863.5829758284901,\n",
       " 226.8974278164911,\n",
       " 39.734687692799675,\n",
       " 155.3909812494307,\n",
       " 697.892958984762,\n",
       " 62.10714114313859,\n",
       " 527.6755514037545,\n",
       " 295.3602020580768,\n",
       " 73.1512997684523,\n",
       " 601.5379187194471,\n",
       " 268.03924445656963,\n",
       " 420.37876755942995,\n",
       " 399.24916029374185,\n",
       " 71.94115355794818,\n",
       " 457.89715042164414,\n",
       " 266.561628062242,\n",
       " 127.23813189530034,\n",
       " 579.486849718893,\n",
       " 29.21177254480159,\n",
       " 373.1775865539134,\n",
       " 269.52030076309103,\n",
       " 87.58190656009157,\n",
       " 632.92805823718,\n",
       " 236.90555609282018,\n",
       " 269.1551750169881,\n",
       " 62.93206683723483,\n",
       " 220.97833409360302,\n",
       " 685.9781379507384,\n",
       " 51.8344299070512,\n",
       " 503.9891059067848,\n",
       " 368.96328760812037,\n",
       " 43.37165279120322,\n",
       " 366.26230395001437,\n",
       " 72.1022521525941,\n",
       " 433.11908304717076,\n",
       " 61.91488680004379,\n",
       " 534.187020431762,\n",
       " 273.431412463203,\n",
       " 300.02828568938264,\n",
       " 355.57661056274367,\n",
       " 347.73578023290685,\n",
       " 53.436667673699006,\n",
       " 409.12537006232054,\n",
       " 253.72889069676626,\n",
       " 29.66447881326964,\n",
       " 87.59291572861743,\n",
       " 364.0272405127607,\n",
       " 86.55202175101412,\n",
       " 165.82334375904333,\n",
       " 203.54351141720298,\n",
       " 788.2771164933991,\n",
       " 190.6161332336189,\n",
       " 307.205411233648,\n",
       " 264.3982651170338,\n",
       " 102.93040717835657,\n",
       " 469.39473046513024,\n",
       " 224.39261502211068,\n",
       " 2.6354699605685767,\n",
       " 68.84668186443933,\n",
       " 181.06782335994723,\n",
       " 700.6648389786657,\n",
       " 90.88208258537769,\n",
       " 699.4729168038409,\n",
       " 115.92209431024321,\n",
       " 434.3617028452533,\n",
       " 336.6882687823846,\n",
       " 31.866288722995076,\n",
       " 427.7439984015768,\n",
       " 92.7793656113802,\n",
       " 584.2038841279755,\n",
       " 57.115238757692964,\n",
       " 82.09249436194767,\n",
       " 260.60060730466995,\n",
       " 902.4503990160263,\n",
       " 324.78946795132845,\n",
       " 61.377997738984675,\n",
       " 461.5444489506121,\n",
       " 32.974560940907644,\n",
       " 154.21937663017155,\n",
       " 722.570688633781,\n",
       " 90.20705268831185,\n",
       " 573.9394463974804,\n",
       " 59.01234749574952,\n",
       " 85.30155649707496,\n",
       " 122.31275494024673,\n",
       " 257.1820116994359,\n",
       " 906.1265740813144,\n",
       " 86.87429373612729,\n",
       " 629.3378136068752,\n",
       " 429.9765406814694,\n",
       " 335.8607786399456,\n",
       " 235.1734576261601,\n",
       " 63.0562188492444,\n",
       " 522.7061388634002,\n",
       " 65.9457253145885,\n",
       " 476.4245465023188,\n",
       " 59.137751179622484,\n",
       " 487.8094897209666,\n",
       " 283.78393702039995,\n",
       " 299.31668993535425,\n",
       " 49.352464169776724,\n",
       " 215.40298688755894,\n",
       " 817.8639774925838,\n",
       " 459.79411723851854,\n",
       " 221.83387571277925,\n",
       " 199.41734392971634,\n",
       " 390.25424294696865,\n",
       " 57.70643115491261,\n",
       " 505.4077230770332,\n",
       " 274.4145694534791,\n",
       " 29.629005851206855,\n",
       " 105.54009270070571,\n",
       " 521.8131042403733,\n",
       " 138.99941714293033,\n",
       " 460.3712783972626,\n",
       " 167.0971227375619,\n",
       " 324.7287292353641,\n",
       " 186.81354657641583,\n",
       " 94.4558059534422,\n",
       " 47.64192249770943,\n",
       " 150.014938559385,\n",
       " 307.9539539083727,\n",
       " 851.3623865825153,\n",
       " 406.4887954349709,\n",
       " 289.2941669865295,\n",
       " 26.102244473993135,\n",
       " 150.4099190205648,\n",
       " 669.0199322073373,\n",
       " 49.136355761396715,\n",
       " 171.33329647523828,\n",
       " 792.1060986628544,\n",
       " 76.9083235267121,\n",
       " 460.1283549955745,\n",
       " 268.4950732742683,\n",
       " 360.1725689457057,\n",
       " 156.73890446328843,\n",
       " 72.44108879951312,\n",
       " 253.05144979198855,\n",
       " 844.201500024162,\n",
       " 65.76940428934624,\n",
       " 87.7083190688524,\n",
       " 79.53439110490257,\n",
       " 224.2352856907855,\n",
       " 879.4988515380771,\n",
       " 117.01801905477203,\n",
       " 566.086008984578,\n",
       " 2.9298510569173906,\n",
       " 58.38145713496449,\n",
       " 244.8565693356988,\n",
       " 899.1177598433485,\n",
       " 353.7031582739182,\n",
       " 109.79408557095275,\n",
       " 586.9142120054739,\n",
       " 102.42544079252639,\n",
       " 404.60784726078725,\n",
       " 51.09365158245787,\n",
       " 99.75768900335525,\n",
       " 157.55412546233796,\n",
       " 366.21860167377406,\n",
       " 961.5993055605549,\n",
       " 275.7586100362534,\n",
       " 295.9296186910541,\n",
       " 284.30018546693697,\n",
       " 447.6431364900547,\n",
       " 26.499060674812426,\n",
       " 81.49696295053724,\n",
       " 522.163126303741,\n",
       " 480.50967653658245,\n",
       " 45.214457091396255,\n",
       " 170.2951042935448,\n",
       " 662.1517282824822,\n",
       " 15.895833351838617,\n",
       " 177.93372277805057,\n",
       " 627.7213806807928,\n",
       " 303.43711820820147,\n",
       " 41.17237333423353,\n",
       " 116.06786549827746,\n",
       " 177.85045092650796,\n",
       " 728.8879747542024,\n",
       " 87.64151556242942,\n",
       " 542.7867406767158,\n",
       " 353.65853223531116,\n",
       " 268.316620138375,\n",
       " 347.17222601591857,\n",
       " 123.69180246195404,\n",
       " 696.5643221338706,\n",
       " 365.5876823095801,\n",
       " 353.9737345827565,\n",
       " 157.35167063221846,\n",
       " 690.638914100346,\n",
       " 213.13640922202552,\n",
       " 319.6840761313193,\n",
       " 69.25154102962678,\n",
       " 52.948039276299,\n",
       " 169.09227945762237,\n",
       " 769.0517305604948,\n",
       " 61.052298613283305,\n",
       " 496.3668779285416,\n",
       " 44.34471687205233,\n",
       " 128.07827518564687,\n",
       " 708.2589374503569,\n",
       " 304.5881216622453,\n",
       " 254.5996407859441,\n",
       " 48.71693170345469,\n",
       " 417.7963573656858,\n",
       " 14.58186748564424,\n",
       " 117.89010170784209,\n",
       " 780.3933799055411,\n",
       " 105.59041255612796,\n",
       " 660.8115973970503,\n",
       " 63.400293773726126,\n",
       " 142.85414430398092,\n",
       " 600.2155712640584,\n",
       " 101.55071215371912,\n",
       " 569.7947082775105,\n",
       " 126.66594044091701,\n",
       " 576.9263093805225,\n",
       " 54.2891101485016,\n",
       " 455.67922368535665,\n",
       " 84.50143072626963,\n",
       " 533.4236132495092,\n",
       " 354.9678768520923,\n",
       " 199.0965843297251,\n",
       " 370.1028962014242,\n",
       " 282.99743783932,\n",
       " 301.4350585481348,\n",
       " 46.633193555710896,\n",
       " 478.0662924902225,\n",
       " 19.433048783971792,\n",
       " 266.11974300403415,\n",
       " 103.3279895907245,\n",
       " 139.30370161629182,\n",
       " 274.6902012101204,\n",
       " 874.3639105945227,\n",
       " 63.257344715932035,\n",
       " 529.3735666220441,\n",
       " 198.61118540542745,\n",
       " 311.4627378332341,\n",
       " 186.6571896068095,\n",
       " 222.4271726072931,\n",
       " 404.0941796665629,\n",
       " 62.5854089762194,\n",
       " 431.19074028605553,\n",
       " 83.00086067457619,\n",
       " 508.5193961478502,\n",
       " 344.8931022707598,\n",
       " 24.341575360735668,\n",
       " 74.33257803459095,\n",
       " 210.78852371201225,\n",
       " 823.4656288040071,\n",
       " 64.40333626263045,\n",
       " 541.6186851245458,\n",
       " 55.38604404848658,\n",
       " 599.7467167543805,\n",
       " 60.770549726029316,\n",
       " 57.203708345471284,\n",
       " 238.28574600344248,\n",
       " 784.8258435755023,\n",
       " 46.021820303670964,\n",
       " 151.26511331349838,\n",
       " 719.1180876264887,\n",
       " 58.28734926575314,\n",
       " 503.08166372717716,\n",
       " 318.0679258184414,\n",
       " 353.9366419324494,\n",
       " 378.07413412190147,\n",
       " 211.88263716602688,\n",
       " 36.758430935294726,\n",
       " 192.02878008177865,\n",
       " 770.1834990273567,\n",
       " 55.04476971429088,\n",
       " 443.56862741873607,\n",
       " 328.76327068921586,\n",
       " 78.2384244819159,\n",
       " 591.6310387990695,\n",
       " 320.4630847087513,\n",
       " 204.0343944161191,\n",
       " 113.87159361119664,\n",
       " 447.4394917878705,\n",
       " 349.9759016550893,\n",
       " 65.32573646956892,\n",
       " 425.7541476979074,\n",
       " 41.346483098875005,\n",
       " 487.9301154435259,\n",
       " 66.50488132467065,\n",
       " 486.29752305935733,\n",
       " 230.53827927729662,\n",
       " 84.90293390669764,\n",
       " 535.765457501656,\n",
       " 229.12137763040175,\n",
       " 164.33448377117008,\n",
       " 378.9657881203839,\n",
       " 83.59170846339713,\n",
       " 599.2730879813226,\n",
       " 115.37133717951643,\n",
       " 488.62600891977,\n",
       " 67.40308472933532,\n",
       " 309.52815912310325,\n",
       " 213.71573248465702,\n",
       " 381.4923844301343,\n",
       " 125.77200271370583,\n",
       " 570.0048979501494,\n",
       " 397.619207186683,\n",
       " 278.7841162706978,\n",
       " 70.10686084552114,\n",
       " 47.43528311462489,\n",
       " 191.23870511398692,\n",
       " 800.519961631234,\n",
       " 74.04840658915789,\n",
       " 95.49843068011087,\n",
       " 119.59049357007218,\n",
       " 300.48832538975813,\n",
       " 889.171578665183,\n",
       " 351.0071292282122,\n",
       " 322.8386914275451,\n",
       " 89.63261353945873,\n",
       " 46.76629379484368,\n",
       " 128.11911727090256,\n",
       " 226.72512851773536,\n",
       " 824.5210041521129,\n",
       " 102.6457267265247,\n",
       " 698.4683989441265)"
      ]
     },
     "execution_count": 16,
     "metadata": {},
     "output_type": "execute_result"
    }
   ],
   "source": [
    "ql.V"
   ]
  },
  {
   "cell_type": "code",
   "execution_count": null,
   "metadata": {},
   "outputs": [],
   "source": []
  },
  {
   "cell_type": "code",
   "execution_count": null,
   "metadata": {},
   "outputs": [],
   "source": []
  },
  {
   "cell_type": "code",
   "execution_count": 43,
   "metadata": {},
   "outputs": [
    {
     "data": {
      "text/plain": [
       "(array([[[0.1, 0.9, 0. ],\n",
       "         [0.1, 0. , 0.9],\n",
       "         [0.1, 0. , 0.9]],\n",
       " \n",
       "        [[1. , 0. , 0. ],\n",
       "         [1. , 0. , 0. ],\n",
       "         [1. , 0. , 0. ]]]), array([[0., 0.],\n",
       "        [0., 1.],\n",
       "        [4., 2.]]))"
      ]
     },
     "execution_count": 43,
     "metadata": {},
     "output_type": "execute_result"
    }
   ],
   "source": [
    "example.forest(S=3, r1=4, r2=2, p=0.1, is_sparse=False)"
   ]
  },
  {
   "cell_type": "code",
   "execution_count": null,
   "metadata": {},
   "outputs": [],
   "source": []
  },
  {
   "cell_type": "code",
   "execution_count": 16,
   "metadata": {},
   "outputs": [],
   "source": [
    "P = np.array([[[0.5, 0.5],[0.8, 0.2]],[[0, 1],[0.1, 0.9]]])\n",
    "R = np.array([[5, 10], [-1, 2]])"
   ]
  },
  {
   "cell_type": "code",
   "execution_count": 3,
   "metadata": {},
   "outputs": [],
   "source": [
    "P, R = example.forest(S=400, r1=400, r2=200, p=0.1, is_sparse=False)"
   ]
  },
  {
   "cell_type": "code",
   "execution_count": 4,
   "metadata": {},
   "outputs": [],
   "source": [
    "P, R = example.rand(10, 3)"
   ]
  },
  {
   "cell_type": "code",
   "execution_count": 35,
   "metadata": {
    "scrolled": true
   },
   "outputs": [
    {
     "name": "stdout",
     "output_type": "stream",
     "text": [
      " Iteration   Variation\n",
      "         1  400.000000\n",
      "         2   36.000000\n",
      "         3    3.240000\n",
      "         4    0.291600\n",
      "         5    0.026244\n",
      "Iterating stopped due to maximum number of iterations condition.\n"
     ]
    },
    {
     "data": {
      "text/plain": [
       "396"
      ]
     },
     "execution_count": 35,
     "metadata": {},
     "output_type": "execute_result"
    },
    {
     "data": {
      "image/png": "[encoded data removed]",
      "text/plain": [
       "<Figure size 432x288 with 2 Axes>"
      ]
     },
     "metadata": {
      "needs_background": "light"
     },
     "output_type": "display_data"
    }
   ],
   "source": [
    "#P, R = example.forest(S=500, r1=200, r2=20, p=0.1, is_sparse=False)\n",
    "gamma = 0.1\n",
    "vi = mdp.ValueIteration(P, R, gamma, epsilon=0.001,max_iter = 100000)\n",
    "vi.setVerbose()\n",
    "result,error,reward = vi_plot(vi)\n",
    "sum(vi.policy)"
   ]
  },
  {
   "cell_type": "code",
   "execution_count": 20,
   "metadata": {},
   "outputs": [
    {
     "data": {
      "text/plain": [
       "400"
      ]
     },
     "execution_count": 20,
     "metadata": {},
     "output_type": "execute_result"
    }
   ],
   "source": [
    "len(vi.policy)"
   ]
  },
  {
   "cell_type": "code",
   "execution_count": 23,
   "metadata": {},
   "outputs": [
    {
     "data": {
      "text/plain": [
       "336"
      ]
     },
     "execution_count": 23,
     "metadata": {},
     "output_type": "execute_result"
    }
   ],
   "source": [
    "sum(vi.policy)"
   ]
  },
  {
   "cell_type": "code",
   "execution_count": null,
   "metadata": {},
   "outputs": [],
   "source": []
  },
  {
   "cell_type": "code",
   "execution_count": 30,
   "metadata": {},
   "outputs": [
    {
     "data": {
      "text/plain": [
       "31"
      ]
     },
     "execution_count": 30,
     "metadata": {},
     "output_type": "execute_result"
    }
   ],
   "source": [
    "sum(vi.policy[-63:])"
   ]
  },
  {
   "cell_type": "code",
   "execution_count": 51,
   "metadata": {
    "scrolled": true
   },
   "outputs": [
    {
     "data": {
      "text/plain": [
       "[200.0,\n",
       " 372.79999999999995,\n",
       " 522.182144,\n",
       " 651.25627904,\n",
       " 762.8458931978239,\n",
       " 859.2726022514278,\n",
       " 942.6442510628593,\n",
       " 1014.6940339375682,\n",
       " 1076.995561350815,\n",
       " 1130.8427641272779,\n",
       " 1177.4104400723963,\n",
       " 1217.6646030959641,\n",
       " 1252.4823307964512,\n",
       " 1282.5848405999259,\n",
       " 1308.6269556555405,\n",
       " 1331.1471465879827,\n",
       " 1350.6343175717589,\n",
       " 1367.4905128347543,\n",
       " 1382.0807723256428,\n",
       " 1394.705292392864,\n",
       " 1405.6366429608233,\n",
       " 1415.098985703211,\n",
       " 1423.2958566266661,\n",
       " 1430.3946526263683,\n",
       " 1436.5473711754491,\n",
       " 1441.8790296985599,\n",
       " 1446.5031477609114,\n",
       " 1450.5131022670625,\n",
       " 1453.9936849396074,\n",
       " 1457.014649092684,\n",
       " 1459.6393373232986,\n",
       " 1461.9198642800889,\n",
       " 1463.90355727385,\n",
       " 1465.629360304212,\n",
       " 1467.132642017339,\n",
       " 1468.4425113912266,\n",
       " 1469.5854069192865,\n",
       " 1470.5830928400594,\n",
       " 1471.4553385059119,\n",
       " 1472.2184226317336,\n",
       " 1472.8871334859496,\n",
       " 1473.4736523690333,\n",
       " 1473.989046796937,\n",
       " 1474.442437069155,\n",
       " 1474.8421109691963,\n",
       " 1475.1949016541873,\n",
       " 1475.5070198157998,\n",
       " 1475.7835893171532,\n",
       " 1476.029268435848,\n",
       " 1476.247903255473,\n",
       " 1476.442991456279,\n",
       " 1476.6174236071502,\n",
       " 1476.773829415957,\n",
       " 1476.9143846362213,\n",
       " 1477.0410695715452,\n",
       " 1477.1555249609376,\n",
       " 1477.2592449789156,\n",
       " 1477.353469680954,\n",
       " 1477.439329102706,\n",
       " 1477.5177629953619,\n",
       " 1477.5896284185656,\n",
       " 1477.6556398456692,\n",
       " 1477.716449503002,\n",
       " 1477.7726026794066,\n",
       " 1477.8245977190797,\n",
       " 1477.8728526794177,\n",
       " 1477.9177501337676,\n",
       " 1477.9596122992455,\n",
       " 1477.998734498709,\n",
       " 1478.0353666099954,\n",
       " 1478.0697380607237,\n",
       " 1478.1020439951756,\n",
       " 1478.1324639471673,\n",
       " 1478.1611515274603,\n",
       " 1478.1882483762126,\n",
       " 1478.2138764773708,\n",
       " 1478.2381485863082,\n",
       " 1478.2611625042518,\n",
       " 1478.283008873709,\n",
       " 1478.3037669151333,\n",
       " 1478.3235102565334,\n",
       " 1478.3423037608509,\n",
       " 1478.3602078872816,\n",
       " 1478.3772763320876,\n",
       " 1478.3935592930986,\n",
       " 1478.4091017170294,\n",
       " 1478.423945744523,\n",
       " 1478.4381294095595,\n",
       " 1478.451688472139,\n",
       " 1478.4646554545684]"
      ]
     },
     "execution_count": 51,
     "metadata": {},
     "output_type": "execute_result"
    }
   ],
   "source": [
    "[i['Max V'] for i in result]"
   ]
  },
  {
   "cell_type": "code",
   "execution_count": 14,
   "metadata": {},
   "outputs": [],
   "source": [
    "errors = [i['Error'] for i in result]"
   ]
  },
  {
   "cell_type": "code",
   "execution_count": 18,
   "metadata": {},
   "outputs": [
    {
     "data": {
      "text/plain": [
       "[<matplotlib.lines.Line2D at 0x19cf703a1d0>]"
      ]
     },
     "execution_count": 18,
     "metadata": {},
     "output_type": "execute_result"
    },
    {
     "data": {
      "image/png": "[encoded data removed]",
      "text/plain": [
       "<Figure size 432x288 with 1 Axes>"
      ]
     },
     "metadata": {
      "needs_background": "light"
     },
     "output_type": "display_data"
    }
   ],
   "source": [
    "plt.plot(errors)"
   ]
  },
  {
   "cell_type": "code",
   "execution_count": 19,
   "metadata": {},
   "outputs": [
    {
     "data": {
      "text/plain": [
       "(3.34216629799929,\n",
       " 3.1244979594224764,\n",
       " 3.0611419359850696,\n",
       " 2.6429935755433616,\n",
       " 2.7673979690391595,\n",
       " 3.297219048138617,\n",
       " 2.6640647141112677,\n",
       " 3.054910745851874,\n",
       " 2.660934948723211,\n",
       " 2.931907896421391)"
      ]
     },
     "execution_count": 19,
     "metadata": {},
     "output_type": "execute_result"
    }
   ],
   "source": [
    "vi.V"
   ]
  },
  {
   "cell_type": "code",
   "execution_count": 34,
   "metadata": {},
   "outputs": [
    {
     "data": {
      "text/plain": [
       "(0, 0, 2, 1, 1, 2, 1, 1, 1, 2)"
      ]
     },
     "execution_count": 34,
     "metadata": {},
     "output_type": "execute_result"
    }
   ],
   "source": [
    "vi.policy"
   ]
  },
  {
   "cell_type": "code",
   "execution_count": 40,
   "metadata": {},
   "outputs": [
    {
     "data": {
      "text/plain": [
       "16"
      ]
     },
     "execution_count": 40,
     "metadata": {},
     "output_type": "execute_result"
    }
   ],
   "source": [
    "vi.iter"
   ]
  },
  {
   "cell_type": "code",
   "execution_count": 59,
   "metadata": {},
   "outputs": [
    {
     "data": {
      "text/plain": [
       "487"
      ]
     },
     "execution_count": 59,
     "metadata": {},
     "output_type": "execute_result"
    }
   ],
   "source": [
    "sum([vi.policy[i] == pi.policy[i] for i in range(len(vi.policy))])"
   ]
  },
  {
   "cell_type": "code",
   "execution_count": 66,
   "metadata": {},
   "outputs": [
    {
     "data": {
      "text/plain": [
       "True"
      ]
     },
     "execution_count": 66,
     "metadata": {},
     "output_type": "execute_result"
    }
   ],
   "source": [
    "vi.policy[480:]==pi.policy[480:]"
   ]
  },
  {
   "cell_type": "code",
   "execution_count": 6,
   "metadata": {},
   "outputs": [
    {
     "data": {
      "image/png": "[encoded data removed]",
      "text/plain": [
       "<Figure size 432x288 with 2 Axes>"
      ]
     },
     "metadata": {
      "needs_background": "light"
     },
     "output_type": "display_data"
    }
   ],
   "source": [
    "n_iter = 100000\n",
    "ql = mdp.QLearning(P, R, 0.999999996 , n_iter=n_iter,epsilon_decay=0.999,epsilon_min=0.001,alpha_decay=0.999,alpha = 1\n",
    "                   ,run_stat_frequency=None)\n",
    "ql.setVerbose()\n",
    "ql_result,ql_error,ql_reward = vi_plot(ql)"
   ]
  },
  {
   "cell_type": "code",
   "execution_count": 12,
   "metadata": {},
   "outputs": [
    {
     "data": {
      "text/plain": [
       "23"
      ]
     },
     "execution_count": 12,
     "metadata": {},
     "output_type": "execute_result"
    }
   ],
   "source": [
    "sum(ql.policy)"
   ]
  },
  {
   "cell_type": "code",
   "execution_count": 74,
   "metadata": {},
   "outputs": [
    {
     "data": {
      "text/plain": [
       "4.801422373777491e-06"
      ]
     },
     "execution_count": 74,
     "metadata": {},
     "output_type": "execute_result"
    }
   ],
   "source": [
    "ql.gamma**300"
   ]
  },
  {
   "cell_type": "code",
   "execution_count": 78,
   "metadata": {},
   "outputs": [
    {
     "data": {
      "text/plain": [
       "25"
      ]
     },
     "execution_count": 78,
     "metadata": {},
     "output_type": "execute_result"
    }
   ],
   "source": [
    "sum(ql.policy)"
   ]
  },
  {
   "cell_type": "code",
   "execution_count": 79,
   "metadata": {},
   "outputs": [
    {
     "data": {
      "text/plain": [
       "458"
      ]
     },
     "execution_count": 79,
     "metadata": {},
     "output_type": "execute_result"
    }
   ],
   "source": [
    "sum(vi.policy)"
   ]
  },
  {
   "cell_type": "code",
   "execution_count": 76,
   "metadata": {},
   "outputs": [
    {
     "data": {
      "text/plain": [
       "array([[1.86154905e+02, 1.69753156e+02],\n",
       "       [1.59902123e+02, 1.86652378e+02],\n",
       "       [1.06430355e+02, 1.68414265e+02],\n",
       "       [6.87732378e+01, 1.23041978e+02],\n",
       "       [5.52851926e+00, 7.89232042e+01],\n",
       "       [4.88951087e+00, 0.00000000e+00],\n",
       "       [5.92617806e+00, 3.26776118e+01],\n",
       "       [0.00000000e+00, 7.19564920e+00],\n",
       "       [0.00000000e+00, 2.09016399e+01],\n",
       "       [0.00000000e+00, 0.00000000e+00],\n",
       "       [0.00000000e+00, 0.00000000e+00],\n",
       "       [0.00000000e+00, 0.00000000e+00],\n",
       "       [0.00000000e+00, 0.00000000e+00],\n",
       "       [0.00000000e+00, 0.00000000e+00],\n",
       "       [0.00000000e+00, 3.78500388e+01],\n",
       "       [0.00000000e+00, 0.00000000e+00],\n",
       "       [0.00000000e+00, 0.00000000e+00],\n",
       "       [0.00000000e+00, 0.00000000e+00],\n",
       "       [0.00000000e+00, 0.00000000e+00],\n",
       "       [0.00000000e+00, 0.00000000e+00],\n",
       "       [0.00000000e+00, 0.00000000e+00],\n",
       "       [0.00000000e+00, 0.00000000e+00],\n",
       "       [0.00000000e+00, 0.00000000e+00],\n",
       "       [0.00000000e+00, 0.00000000e+00],\n",
       "       [0.00000000e+00, 0.00000000e+00],\n",
       "       [0.00000000e+00, 0.00000000e+00],\n",
       "       [1.49148065e-02, 0.00000000e+00],\n",
       "       [1.49000773e+01, 0.00000000e+00],\n",
       "       [2.10176597e-01, 0.00000000e+00],\n",
       "       [0.00000000e+00, 2.49819862e+01],\n",
       "       [0.00000000e+00, 0.00000000e+00],\n",
       "       [0.00000000e+00, 0.00000000e+00],\n",
       "       [4.09438307e-02, 0.00000000e+00],\n",
       "       [0.00000000e+00, 4.09142207e+01],\n",
       "       [0.00000000e+00, 0.00000000e+00],\n",
       "       [0.00000000e+00, 0.00000000e+00],\n",
       "       [0.00000000e+00, 0.00000000e+00],\n",
       "       [0.00000000e+00, 0.00000000e+00],\n",
       "       [0.00000000e+00, 0.00000000e+00],\n",
       "       [1.11957170e-09, 0.00000000e+00],\n",
       "       [1.87825524e-04, 0.00000000e+00],\n",
       "       [1.87433676e-01, 0.00000000e+00],\n",
       "       [9.12396889e-01, 0.00000000e+00],\n",
       "       [4.56200386e-07, 0.00000000e+00],\n",
       "       [8.29017698e-04, 0.00000000e+00],\n",
       "       [3.72900239e-01, 0.00000000e+00],\n",
       "       [4.11972684e-07, 0.00000000e+00],\n",
       "       [7.49660633e-04, 0.00000000e+00],\n",
       "       [3.37761822e-01, 0.00000000e+00],\n",
       "       [0.00000000e+00, 0.00000000e+00],\n",
       "       [2.24769136e-04, 0.00000000e+00],\n",
       "       [2.24544368e-01, 0.00000000e+00],\n",
       "       [0.00000000e+00, 0.00000000e+00],\n",
       "       [0.00000000e+00, 0.00000000e+00],\n",
       "       [0.00000000e+00, 0.00000000e+00],\n",
       "       [0.00000000e+00, 0.00000000e+00],\n",
       "       [1.65548200e-03, 0.00000000e+00],\n",
       "       [1.65382653e+00, 0.00000000e+00],\n",
       "       [0.00000000e+00, 0.00000000e+00],\n",
       "       [0.00000000e+00, 0.00000000e+00],\n",
       "       [1.85610516e-01, 0.00000000e+00],\n",
       "       [0.00000000e+00, 0.00000000e+00],\n",
       "       [0.00000000e+00, 0.00000000e+00],\n",
       "       [0.00000000e+00, 0.00000000e+00],\n",
       "       [0.00000000e+00, 0.00000000e+00],\n",
       "       [0.00000000e+00, 0.00000000e+00],\n",
       "       [0.00000000e+00, 0.00000000e+00],\n",
       "       [0.00000000e+00, 0.00000000e+00],\n",
       "       [0.00000000e+00, 5.94587626e+00],\n",
       "       [0.00000000e+00, 0.00000000e+00],\n",
       "       [0.00000000e+00, 0.00000000e+00],\n",
       "       [0.00000000e+00, 0.00000000e+00],\n",
       "       [0.00000000e+00, 0.00000000e+00],\n",
       "       [0.00000000e+00, 0.00000000e+00],\n",
       "       [0.00000000e+00, 0.00000000e+00],\n",
       "       [2.76955838e-01, 0.00000000e+00],\n",
       "       [0.00000000e+00, 0.00000000e+00],\n",
       "       [0.00000000e+00, 0.00000000e+00],\n",
       "       [0.00000000e+00, 0.00000000e+00],\n",
       "       [0.00000000e+00, 0.00000000e+00],\n",
       "       [0.00000000e+00, 0.00000000e+00],\n",
       "       [0.00000000e+00, 0.00000000e+00],\n",
       "       [0.00000000e+00, 0.00000000e+00],\n",
       "       [1.86065775e-01, 0.00000000e+00],\n",
       "       [0.00000000e+00, 0.00000000e+00],\n",
       "       [0.00000000e+00, 0.00000000e+00],\n",
       "       [0.00000000e+00, 0.00000000e+00],\n",
       "       [1.15021796e+01, 0.00000000e+00],\n",
       "       [0.00000000e+00, 0.00000000e+00],\n",
       "       [0.00000000e+00, 0.00000000e+00],\n",
       "       [0.00000000e+00, 0.00000000e+00],\n",
       "       [0.00000000e+00, 0.00000000e+00],\n",
       "       [0.00000000e+00, 0.00000000e+00],\n",
       "       [0.00000000e+00, 0.00000000e+00],\n",
       "       [0.00000000e+00, 0.00000000e+00],\n",
       "       [0.00000000e+00, 0.00000000e+00],\n",
       "       [0.00000000e+00, 0.00000000e+00],\n",
       "       [0.00000000e+00, 0.00000000e+00],\n",
       "       [1.23040734e+00, 0.00000000e+00],\n",
       "       [0.00000000e+00, 5.80880692e+01],\n",
       "       [0.00000000e+00, 0.00000000e+00],\n",
       "       [0.00000000e+00, 0.00000000e+00],\n",
       "       [0.00000000e+00, 0.00000000e+00],\n",
       "       [0.00000000e+00, 0.00000000e+00],\n",
       "       [0.00000000e+00, 0.00000000e+00],\n",
       "       [3.14580749e-02, 0.00000000e+00],\n",
       "       [1.73228605e+00, 0.00000000e+00],\n",
       "       [1.93144652e+01, 0.00000000e+00],\n",
       "       [0.00000000e+00, 0.00000000e+00],\n",
       "       [0.00000000e+00, 0.00000000e+00],\n",
       "       [0.00000000e+00, 0.00000000e+00],\n",
       "       [0.00000000e+00, 0.00000000e+00],\n",
       "       [0.00000000e+00, 0.00000000e+00],\n",
       "       [0.00000000e+00, 0.00000000e+00],\n",
       "       [0.00000000e+00, 4.43384046e+00],\n",
       "       [0.00000000e+00, 0.00000000e+00],\n",
       "       [0.00000000e+00, 0.00000000e+00],\n",
       "       [0.00000000e+00, 0.00000000e+00],\n",
       "       [4.88269716e+00, 0.00000000e+00],\n",
       "       [7.70429511e-03, 0.00000000e+00],\n",
       "       [1.73688434e+00, 0.00000000e+00],\n",
       "       [2.54722282e+01, 0.00000000e+00],\n",
       "       [6.79739271e-01, 0.00000000e+00],\n",
       "       [1.02697083e-02, 0.00000000e+00],\n",
       "       [1.02803761e+01, 0.00000000e+00],\n",
       "       [0.00000000e+00, 2.11032465e+01],\n",
       "       [0.00000000e+00, 0.00000000e+00],\n",
       "       [0.00000000e+00, 0.00000000e+00],\n",
       "       [0.00000000e+00, 0.00000000e+00],\n",
       "       [0.00000000e+00, 0.00000000e+00],\n",
       "       [0.00000000e+00, 0.00000000e+00],\n",
       "       [0.00000000e+00, 0.00000000e+00],\n",
       "       [0.00000000e+00, 0.00000000e+00],\n",
       "       [0.00000000e+00, 0.00000000e+00],\n",
       "       [0.00000000e+00, 0.00000000e+00],\n",
       "       [0.00000000e+00, 0.00000000e+00],\n",
       "       [0.00000000e+00, 0.00000000e+00],\n",
       "       [0.00000000e+00, 0.00000000e+00],\n",
       "       [0.00000000e+00, 0.00000000e+00],\n",
       "       [0.00000000e+00, 0.00000000e+00],\n",
       "       [0.00000000e+00, 0.00000000e+00],\n",
       "       [0.00000000e+00, 0.00000000e+00],\n",
       "       [0.00000000e+00, 0.00000000e+00],\n",
       "       [0.00000000e+00, 0.00000000e+00],\n",
       "       [0.00000000e+00, 0.00000000e+00],\n",
       "       [1.85500098e-01, 0.00000000e+00],\n",
       "       [0.00000000e+00, 0.00000000e+00],\n",
       "       [0.00000000e+00, 0.00000000e+00],\n",
       "       [1.31278618e-04, 0.00000000e+00],\n",
       "       [6.55299734e-02, 0.00000000e+00],\n",
       "       [6.47709392e+00, 0.00000000e+00],\n",
       "       [0.00000000e+00, 5.49036390e+01],\n",
       "       [0.00000000e+00, 0.00000000e+00],\n",
       "       [0.00000000e+00, 0.00000000e+00],\n",
       "       [0.00000000e+00, 0.00000000e+00],\n",
       "       [0.00000000e+00, 0.00000000e+00],\n",
       "       [0.00000000e+00, 0.00000000e+00],\n",
       "       [0.00000000e+00, 0.00000000e+00],\n",
       "       [0.00000000e+00, 0.00000000e+00],\n",
       "       [0.00000000e+00, 0.00000000e+00],\n",
       "       [0.00000000e+00, 0.00000000e+00],\n",
       "       [0.00000000e+00, 0.00000000e+00],\n",
       "       [0.00000000e+00, 0.00000000e+00],\n",
       "       [0.00000000e+00, 0.00000000e+00],\n",
       "       [0.00000000e+00, 0.00000000e+00],\n",
       "       [0.00000000e+00, 0.00000000e+00],\n",
       "       [0.00000000e+00, 0.00000000e+00],\n",
       "       [0.00000000e+00, 0.00000000e+00],\n",
       "       [0.00000000e+00, 0.00000000e+00],\n",
       "       [0.00000000e+00, 0.00000000e+00],\n",
       "       [0.00000000e+00, 0.00000000e+00],\n",
       "       [0.00000000e+00, 0.00000000e+00],\n",
       "       [0.00000000e+00, 0.00000000e+00],\n",
       "       [1.85783852e-01, 0.00000000e+00],\n",
       "       [0.00000000e+00, 0.00000000e+00],\n",
       "       [0.00000000e+00, 0.00000000e+00],\n",
       "       [1.85999539e-01, 0.00000000e+00],\n",
       "       [0.00000000e+00, 0.00000000e+00],\n",
       "       [0.00000000e+00, 0.00000000e+00],\n",
       "       [0.00000000e+00, 0.00000000e+00],\n",
       "       [2.15129234e-05, 0.00000000e+00],\n",
       "       [2.86751410e-02, 0.00000000e+00],\n",
       "       [7.17654666e+00, 0.00000000e+00],\n",
       "       [6.68045550e-06, 0.00000000e+00],\n",
       "       [9.46155596e-03, 0.00000000e+00],\n",
       "       [2.78499312e+00, 0.00000000e+00],\n",
       "       [0.00000000e+00, 0.00000000e+00],\n",
       "       [0.00000000e+00, 0.00000000e+00],\n",
       "       [0.00000000e+00, 0.00000000e+00],\n",
       "       [0.00000000e+00, 0.00000000e+00],\n",
       "       [0.00000000e+00, 0.00000000e+00],\n",
       "       [0.00000000e+00, 0.00000000e+00],\n",
       "       [0.00000000e+00, 0.00000000e+00],\n",
       "       [0.00000000e+00, 0.00000000e+00],\n",
       "       [0.00000000e+00, 0.00000000e+00],\n",
       "       [0.00000000e+00, 0.00000000e+00],\n",
       "       [0.00000000e+00, 0.00000000e+00],\n",
       "       [1.85619452e-07, 0.00000000e+00],\n",
       "       [3.70869493e-04, 0.00000000e+00],\n",
       "       [1.85253877e-01, 0.00000000e+00],\n",
       "       [5.47213905e-03, 0.00000000e+00],\n",
       "       [1.82222231e+00, 0.00000000e+00],\n",
       "       [0.00000000e+00, 0.00000000e+00],\n",
       "       [1.85873513e-07, 0.00000000e+00],\n",
       "       [3.71375280e-04, 0.00000000e+00],\n",
       "       [1.85501953e-01, 0.00000000e+00],\n",
       "       [1.85932821e-01, 0.00000000e+00],\n",
       "       [0.00000000e+00, 0.00000000e+00],\n",
       "       [0.00000000e+00, 0.00000000e+00],\n",
       "       [0.00000000e+00, 0.00000000e+00],\n",
       "       [1.85851086e-04, 0.00000000e+00],\n",
       "       [3.71559689e-01, 0.00000000e+00],\n",
       "       [1.81755506e+00, 0.00000000e+00],\n",
       "       [1.97424240e+01, 0.00000000e+00],\n",
       "       [0.00000000e+00, 7.84906345e+01],\n",
       "       [0.00000000e+00, 0.00000000e+00],\n",
       "       [0.00000000e+00, 0.00000000e+00],\n",
       "       [1.65375271e-05, 0.00000000e+00],\n",
       "       [3.32286490e-02, 0.00000000e+00],\n",
       "       [0.00000000e+00, 1.68777804e+01],\n",
       "       [0.00000000e+00, 0.00000000e+00],\n",
       "       [0.00000000e+00, 0.00000000e+00],\n",
       "       [0.00000000e+00, 0.00000000e+00],\n",
       "       [0.00000000e+00, 0.00000000e+00],\n",
       "       [0.00000000e+00, 0.00000000e+00],\n",
       "       [0.00000000e+00, 0.00000000e+00],\n",
       "       [0.00000000e+00, 0.00000000e+00],\n",
       "       [0.00000000e+00, 0.00000000e+00],\n",
       "       [0.00000000e+00, 0.00000000e+00],\n",
       "       [0.00000000e+00, 0.00000000e+00],\n",
       "       [0.00000000e+00, 0.00000000e+00],\n",
       "       [0.00000000e+00, 0.00000000e+00],\n",
       "       [0.00000000e+00, 0.00000000e+00],\n",
       "       [0.00000000e+00, 0.00000000e+00],\n",
       "       [0.00000000e+00, 0.00000000e+00],\n",
       "       [0.00000000e+00, 0.00000000e+00],\n",
       "       [0.00000000e+00, 0.00000000e+00],\n",
       "       [0.00000000e+00, 0.00000000e+00],\n",
       "       [8.32238629e-02, 0.00000000e+00],\n",
       "       [6.46277087e+00, 0.00000000e+00],\n",
       "       [0.00000000e+00, 0.00000000e+00],\n",
       "       [0.00000000e+00, 0.00000000e+00],\n",
       "       [4.04251323e-05, 0.00000000e+00],\n",
       "       [2.01180521e-02, 0.00000000e+00],\n",
       "       [0.00000000e+00, 3.33548862e+00],\n",
       "       [0.00000000e+00, 0.00000000e+00],\n",
       "       [0.00000000e+00, 0.00000000e+00],\n",
       "       [0.00000000e+00, 0.00000000e+00],\n",
       "       [1.00619738e-02, 0.00000000e+00],\n",
       "       [2.45881648e+00, 0.00000000e+00],\n",
       "       [0.00000000e+00, 0.00000000e+00],\n",
       "       [1.34583780e-01, 0.00000000e+00],\n",
       "       [0.00000000e+00, 3.37413503e+01],\n",
       "       [0.00000000e+00, 0.00000000e+00],\n",
       "       [0.00000000e+00, 0.00000000e+00],\n",
       "       [0.00000000e+00, 0.00000000e+00],\n",
       "       [0.00000000e+00, 0.00000000e+00],\n",
       "       [0.00000000e+00, 0.00000000e+00],\n",
       "       [1.85565245e-01, 0.00000000e+00],\n",
       "       [0.00000000e+00, 0.00000000e+00],\n",
       "       [3.82469551e+00, 0.00000000e+00],\n",
       "       [3.07350739e+01, 0.00000000e+00],\n",
       "       [0.00000000e+00, 0.00000000e+00],\n",
       "       [0.00000000e+00, 0.00000000e+00],\n",
       "       [0.00000000e+00, 0.00000000e+00],\n",
       "       [0.00000000e+00, 1.79523288e+01],\n",
       "       [0.00000000e+00, 0.00000000e+00],\n",
       "       [1.86111599e-01, 0.00000000e+00],\n",
       "       [0.00000000e+00, 0.00000000e+00],\n",
       "       [0.00000000e+00, 0.00000000e+00],\n",
       "       [0.00000000e+00, 0.00000000e+00],\n",
       "       [0.00000000e+00, 0.00000000e+00],\n",
       "       [0.00000000e+00, 0.00000000e+00],\n",
       "       [2.29590995e+01, 0.00000000e+00],\n",
       "       [0.00000000e+00, 0.00000000e+00],\n",
       "       [0.00000000e+00, 0.00000000e+00],\n",
       "       [0.00000000e+00, 0.00000000e+00],\n",
       "       [0.00000000e+00, 0.00000000e+00],\n",
       "       [0.00000000e+00, 0.00000000e+00],\n",
       "       [0.00000000e+00, 0.00000000e+00],\n",
       "       [0.00000000e+00, 0.00000000e+00],\n",
       "       [0.00000000e+00, 0.00000000e+00],\n",
       "       [0.00000000e+00, 0.00000000e+00],\n",
       "       [0.00000000e+00, 0.00000000e+00],\n",
       "       [0.00000000e+00, 0.00000000e+00],\n",
       "       [0.00000000e+00, 0.00000000e+00],\n",
       "       [0.00000000e+00, 0.00000000e+00],\n",
       "       [0.00000000e+00, 0.00000000e+00],\n",
       "       [0.00000000e+00, 0.00000000e+00],\n",
       "       [0.00000000e+00, 0.00000000e+00],\n",
       "       [0.00000000e+00, 0.00000000e+00],\n",
       "       [0.00000000e+00, 0.00000000e+00],\n",
       "       [2.04415987e-04, 0.00000000e+00],\n",
       "       [2.04213590e-01, 0.00000000e+00],\n",
       "       [2.75095705e-03, 0.00000000e+00],\n",
       "       [9.58707297e-01, 0.00000000e+00],\n",
       "       [0.00000000e+00, 3.98400825e+01],\n",
       "       [0.00000000e+00, 0.00000000e+00],\n",
       "       [0.00000000e+00, 0.00000000e+00],\n",
       "       [0.00000000e+00, 0.00000000e+00],\n",
       "       [8.29500026e-04, 0.00000000e+00],\n",
       "       [8.28670529e-01, 0.00000000e+00],\n",
       "       [0.00000000e+00, 0.00000000e+00],\n",
       "       [0.00000000e+00, 0.00000000e+00],\n",
       "       [0.00000000e+00, 0.00000000e+00],\n",
       "       [0.00000000e+00, 0.00000000e+00],\n",
       "       [0.00000000e+00, 0.00000000e+00],\n",
       "       [0.00000000e+00, 0.00000000e+00],\n",
       "       [0.00000000e+00, 0.00000000e+00],\n",
       "       [0.00000000e+00, 0.00000000e+00],\n",
       "       [5.40856747e-09, 0.00000000e+00],\n",
       "       [1.62094768e-05, 0.00000000e+00],\n",
       "       [1.61932674e-02, 0.00000000e+00],\n",
       "       [5.39254396e+00, 0.00000000e+00],\n",
       "       [3.71859972e-01, 0.00000000e+00],\n",
       "       [0.00000000e+00, 0.00000000e+00],\n",
       "       [0.00000000e+00, 0.00000000e+00],\n",
       "       [1.85693669e-01, 0.00000000e+00],\n",
       "       [0.00000000e+00, 0.00000000e+00],\n",
       "       [0.00000000e+00, 0.00000000e+00],\n",
       "       [0.00000000e+00, 0.00000000e+00],\n",
       "       [0.00000000e+00, 0.00000000e+00],\n",
       "       [0.00000000e+00, 0.00000000e+00],\n",
       "       [0.00000000e+00, 0.00000000e+00],\n",
       "       [0.00000000e+00, 0.00000000e+00],\n",
       "       [0.00000000e+00, 0.00000000e+00],\n",
       "       [0.00000000e+00, 0.00000000e+00],\n",
       "       [7.94661440e-04, 0.00000000e+00],\n",
       "       [4.89655044e-01, 0.00000000e+00],\n",
       "       [1.85976633e-01, 0.00000000e+00],\n",
       "       [0.00000000e+00, 0.00000000e+00],\n",
       "       [0.00000000e+00, 0.00000000e+00],\n",
       "       [7.56720629e-04, 0.00000000e+00],\n",
       "       [7.78511966e-01, 0.00000000e+00],\n",
       "       [2.25255060e+01, 0.00000000e+00],\n",
       "       [0.00000000e+00, 0.00000000e+00],\n",
       "       [0.00000000e+00, 0.00000000e+00],\n",
       "       [0.00000000e+00, 0.00000000e+00],\n",
       "       [3.96307033e-02, 0.00000000e+00],\n",
       "       [0.00000000e+00, 3.97778351e+01],\n",
       "       [0.00000000e+00, 0.00000000e+00],\n",
       "       [0.00000000e+00, 0.00000000e+00],\n",
       "       [0.00000000e+00, 1.20187229e+01],\n",
       "       [0.00000000e+00, 0.00000000e+00],\n",
       "       [0.00000000e+00, 0.00000000e+00],\n",
       "       [4.57556737e-01, 0.00000000e+00],\n",
       "       [0.00000000e+00, 0.00000000e+00],\n",
       "       [0.00000000e+00, 0.00000000e+00],\n",
       "       [0.00000000e+00, 0.00000000e+00],\n",
       "       [0.00000000e+00, 0.00000000e+00],\n",
       "       [0.00000000e+00, 0.00000000e+00],\n",
       "       [0.00000000e+00, 0.00000000e+00],\n",
       "       [0.00000000e+00, 0.00000000e+00],\n",
       "       [0.00000000e+00, 0.00000000e+00],\n",
       "       [0.00000000e+00, 0.00000000e+00],\n",
       "       [0.00000000e+00, 0.00000000e+00],\n",
       "       [0.00000000e+00, 0.00000000e+00],\n",
       "       [0.00000000e+00, 0.00000000e+00],\n",
       "       [0.00000000e+00, 0.00000000e+00],\n",
       "       [3.28503124e+00, 0.00000000e+00],\n",
       "       [0.00000000e+00, 0.00000000e+00],\n",
       "       [0.00000000e+00, 0.00000000e+00],\n",
       "       [1.86088196e-01, 0.00000000e+00],\n",
       "       [0.00000000e+00, 0.00000000e+00],\n",
       "       [1.55067642e+00, 0.00000000e+00],\n",
       "       [0.00000000e+00, 0.00000000e+00],\n",
       "       [0.00000000e+00, 0.00000000e+00],\n",
       "       [0.00000000e+00, 0.00000000e+00],\n",
       "       [0.00000000e+00, 0.00000000e+00],\n",
       "       [0.00000000e+00, 0.00000000e+00],\n",
       "       [0.00000000e+00, 0.00000000e+00],\n",
       "       [5.32159665e-05, 0.00000000e+00],\n",
       "       [5.66765209e-02, 0.00000000e+00],\n",
       "       [3.51025641e+00, 0.00000000e+00],\n",
       "       [5.78633852e-06, 0.00000000e+00],\n",
       "       [6.40459975e-03, 0.00000000e+00],\n",
       "       [6.42111738e-01, 0.00000000e+00],\n",
       "       [0.00000000e+00, 1.88562915e+01],\n",
       "       [0.00000000e+00, 0.00000000e+00],\n",
       "       [0.00000000e+00, 0.00000000e+00],\n",
       "       [0.00000000e+00, 0.00000000e+00],\n",
       "       [0.00000000e+00, 0.00000000e+00],\n",
       "       [0.00000000e+00, 0.00000000e+00],\n",
       "       [0.00000000e+00, 0.00000000e+00],\n",
       "       [1.41368450e+01, 0.00000000e+00],\n",
       "       [0.00000000e+00, 6.72718755e+01],\n",
       "       [0.00000000e+00, 0.00000000e+00],\n",
       "       [0.00000000e+00, 0.00000000e+00],\n",
       "       [0.00000000e+00, 0.00000000e+00],\n",
       "       [0.00000000e+00, 0.00000000e+00],\n",
       "       [0.00000000e+00, 0.00000000e+00],\n",
       "       [1.01102361e+00, 0.00000000e+00],\n",
       "       [0.00000000e+00, 0.00000000e+00],\n",
       "       [0.00000000e+00, 0.00000000e+00],\n",
       "       [1.25136393e+01, 0.00000000e+00],\n",
       "       [0.00000000e+00, 0.00000000e+00],\n",
       "       [0.00000000e+00, 0.00000000e+00],\n",
       "       [0.00000000e+00, 0.00000000e+00],\n",
       "       [0.00000000e+00, 0.00000000e+00],\n",
       "       [7.25540425e+00, 0.00000000e+00]])"
      ]
     },
     "execution_count": 76,
     "metadata": {},
     "output_type": "execute_result"
    }
   ],
   "source": [
    "ql.Q"
   ]
  },
  {
   "cell_type": "code",
   "execution_count": 17,
   "metadata": {},
   "outputs": [
    {
     "data": {
      "image/png": "[encoded data removed]",
      "text/plain": [
       "<Figure size 432x288 with 2 Axes>"
      ]
     },
     "metadata": {
      "needs_background": "light"
     },
     "output_type": "display_data"
    }
   ],
   "source": [
    "n_iter = 10000\n",
    "ql = mdp.QLearning(P, R, 0.96 , n_iter=n_iter,epsilon_decay=0.999,epsilon_min=0.001,alpha_decay=0.999)\n",
    "ql.setVerbose()\n",
    "ql_result,ql_error,ql_reward = vi_plot(ql)"
   ]
  },
  {
   "cell_type": "code",
   "execution_count": 21,
   "metadata": {},
   "outputs": [
    {
     "data": {
      "text/plain": [
       "8.789817359825925"
      ]
     },
     "execution_count": 21,
     "metadata": {},
     "output_type": "execute_result"
    }
   ],
   "source": [
    "max(ql.Q[0][:])"
   ]
  },
  {
   "cell_type": "code",
   "execution_count": 22,
   "metadata": {},
   "outputs": [
    {
     "data": {
      "text/plain": [
       "9.318637409519805"
      ]
     },
     "execution_count": 22,
     "metadata": {},
     "output_type": "execute_result"
    }
   ],
   "source": [
    "max(ql.Q[1][:])"
   ]
  },
  {
   "cell_type": "code",
   "execution_count": 105,
   "metadata": {},
   "outputs": [],
   "source": [
    "p20000 = ql.policy"
   ]
  },
  {
   "cell_type": "code",
   "execution_count": 108,
   "metadata": {},
   "outputs": [],
   "source": [
    "p10000 = ql.policy"
   ]
  },
  {
   "cell_type": "code",
   "execution_count": 112,
   "metadata": {},
   "outputs": [
    {
     "data": {
      "text/plain": [
       "(0, 1, 1, 1, 1, 1, 0, 0, 0, 0)"
      ]
     },
     "execution_count": 112,
     "metadata": {},
     "output_type": "execute_result"
    }
   ],
   "source": [
    "p10000[:10]"
   ]
  },
  {
   "cell_type": "code",
   "execution_count": 76,
   "metadata": {},
   "outputs": [],
   "source": [
    "import numpy as np"
   ]
  },
  {
   "cell_type": "code",
   "execution_count": 81,
   "metadata": {
    "scrolled": true
   },
   "outputs": [
    {
     "data": {
      "text/plain": [
       "(array([], dtype=int64),)"
      ]
     },
     "execution_count": 81,
     "metadata": {},
     "output_type": "execute_result"
    }
   ],
   "source": [
    "np.where(ql_reward==1.0)"
   ]
  },
  {
   "cell_type": "code",
   "execution_count": 86,
   "metadata": {},
   "outputs": [
    {
     "data": {
      "text/plain": [
       "True"
      ]
     },
     "execution_count": 86,
     "metadata": {},
     "output_type": "execute_result"
    }
   ],
   "source": [
    "ql_reward[3]==1"
   ]
  },
  {
   "cell_type": "code",
   "execution_count": 88,
   "metadata": {},
   "outputs": [
    {
     "data": {
      "text/plain": [
       "1"
      ]
     },
     "execution_count": 88,
     "metadata": {},
     "output_type": "execute_result"
    }
   ],
   "source": [
    "ql_reward.index(1)"
   ]
  },
  {
   "cell_type": "code",
   "execution_count": 100,
   "metadata": {},
   "outputs": [
    {
     "data": {
      "text/plain": [
       "tuple"
      ]
     },
     "execution_count": 100,
     "metadata": {},
     "output_type": "execute_result"
    }
   ],
   "source": [
    "type(ql.policy)"
   ]
  },
  {
   "cell_type": "code",
   "execution_count": 102,
   "metadata": {},
   "outputs": [
    {
     "data": {
      "text/plain": [
       "43"
      ]
     },
     "execution_count": 102,
     "metadata": {},
     "output_type": "execute_result"
    }
   ],
   "source": [
    "sum([ql.policy[i] == vi.policy[i] for i in range(len(ql.policy))])"
   ]
  },
  {
   "cell_type": "code",
   "execution_count": 114,
   "metadata": {},
   "outputs": [
    {
     "data": {
      "text/plain": [
       "36"
      ]
     },
     "execution_count": 114,
     "metadata": {},
     "output_type": "execute_result"
    }
   ],
   "source": [
    "sum([ql.policy[i] == vi.policy[i] for i in range(len(ql.policy))])"
   ]
  },
  {
   "cell_type": "code",
   "execution_count": 91,
   "metadata": {},
   "outputs": [],
   "source": [
    "time = [i['Time'] for i in result]"
   ]
  },
  {
   "cell_type": "code",
   "execution_count": 92,
   "metadata": {},
   "outputs": [
    {
     "data": {
      "text/plain": [
       "[<matplotlib.lines.Line2D at 0x19cf77f4320>]"
      ]
     },
     "execution_count": 92,
     "metadata": {},
     "output_type": "execute_result"
    },
    {
     "data": {
      "image/png": "[encoded data removed]",
      "text/plain": [
       "<Figure size 432x288 with 1 Axes>"
      ]
     },
     "metadata": {
      "needs_background": "light"
     },
     "output_type": "display_data"
    }
   ],
   "source": [
    "plt.plot(time)"
   ]
  },
  {
   "cell_type": "code",
   "execution_count": null,
   "metadata": {},
   "outputs": [],
   "source": [
    "gamma, alpha, alpha_decay, alpha_min, epsilon, epsilon_min, epsilon_decay, n_iter"
   ]
  },
  {
   "cell_type": "code",
   "execution_count": null,
   "metadata": {},
   "outputs": [],
   "source": [
    "ql = mdp.QLearning(P, R, 0.96 , n_iter=n_iter,epsilon_decay=0.999,epsilon_min=0.001,alpha_decay=0.999)\n"
   ]
  },
  {
   "cell_type": "code",
   "execution_count": 117,
   "metadata": {},
   "outputs": [
    {
     "data": {
      "text/plain": [
       "36.68421799327019"
      ]
     },
     "execution_count": 117,
     "metadata": {},
     "output_type": "execute_result"
    }
   ],
   "source": [
    "max(vi.V)"
   ]
  },
  {
   "cell_type": "code",
   "execution_count": 125,
   "metadata": {},
   "outputs": [
    {
     "data": {
      "text/plain": [
       "23.172433847048566"
      ]
     },
     "execution_count": 125,
     "metadata": {},
     "output_type": "execute_result"
    }
   ],
   "source": [
    "max(pi.V)"
   ]
  },
  {
   "cell_type": "code",
   "execution_count": 124,
   "metadata": {},
   "outputs": [
    {
     "data": {
      "text/plain": [
       "9.012146178794062"
      ]
     },
     "execution_count": 124,
     "metadata": {},
     "output_type": "execute_result"
    }
   ],
   "source": [
    "max(ql.V)"
   ]
  },
  {
   "cell_type": "code",
   "execution_count": 123,
   "metadata": {},
   "outputs": [
    {
     "data": {
      "text/plain": [
       "9.012146178794062"
      ]
     },
     "execution_count": 123,
     "metadata": {},
     "output_type": "execute_result"
    }
   ],
   "source": [
    "max(ql.Q[:,1])"
   ]
  },
  {
   "cell_type": "code",
   "execution_count": 150,
   "metadata": {},
   "outputs": [
    {
     "data": {
      "text/plain": [
       "array([[0., 0.],\n",
       "       [0., 1.],\n",
       "       [0., 1.],\n",
       "       [0., 1.],\n",
       "       [0., 1.],\n",
       "       [0., 1.],\n",
       "       [0., 1.],\n",
       "       [0., 1.],\n",
       "       [0., 1.],\n",
       "       [0., 1.],\n",
       "       [0., 1.],\n",
       "       [0., 1.],\n",
       "       [0., 1.],\n",
       "       [0., 1.],\n",
       "       [0., 1.],\n",
       "       [0., 1.],\n",
       "       [0., 1.],\n",
       "       [0., 1.],\n",
       "       [0., 1.],\n",
       "       [0., 1.],\n",
       "       [0., 1.],\n",
       "       [0., 1.],\n",
       "       [0., 1.],\n",
       "       [0., 1.],\n",
       "       [0., 1.],\n",
       "       [0., 1.],\n",
       "       [0., 1.],\n",
       "       [0., 1.],\n",
       "       [0., 1.],\n",
       "       [0., 1.],\n",
       "       [0., 1.],\n",
       "       [0., 1.],\n",
       "       [0., 1.],\n",
       "       [0., 1.],\n",
       "       [0., 1.],\n",
       "       [0., 1.],\n",
       "       [0., 1.],\n",
       "       [0., 1.],\n",
       "       [0., 1.],\n",
       "       [0., 1.],\n",
       "       [0., 1.],\n",
       "       [0., 1.],\n",
       "       [0., 1.],\n",
       "       [0., 1.],\n",
       "       [0., 1.],\n",
       "       [0., 1.],\n",
       "       [0., 1.],\n",
       "       [0., 1.],\n",
       "       [0., 1.],\n",
       "       [0., 1.],\n",
       "       [0., 1.],\n",
       "       [0., 1.],\n",
       "       [0., 1.],\n",
       "       [0., 1.],\n",
       "       [0., 1.],\n",
       "       [0., 1.],\n",
       "       [0., 1.],\n",
       "       [0., 1.],\n",
       "       [0., 1.],\n",
       "       [0., 1.],\n",
       "       [0., 1.],\n",
       "       [0., 1.],\n",
       "       [0., 1.],\n",
       "       [0., 1.],\n",
       "       [0., 1.],\n",
       "       [0., 1.],\n",
       "       [0., 1.],\n",
       "       [0., 1.],\n",
       "       [0., 1.],\n",
       "       [0., 1.],\n",
       "       [0., 1.],\n",
       "       [0., 1.],\n",
       "       [0., 1.],\n",
       "       [0., 1.],\n",
       "       [0., 1.],\n",
       "       [0., 1.],\n",
       "       [0., 1.],\n",
       "       [0., 1.],\n",
       "       [0., 1.],\n",
       "       [0., 1.],\n",
       "       [0., 1.],\n",
       "       [0., 1.],\n",
       "       [0., 1.],\n",
       "       [0., 1.],\n",
       "       [0., 1.],\n",
       "       [0., 1.],\n",
       "       [0., 1.],\n",
       "       [0., 1.],\n",
       "       [0., 1.],\n",
       "       [0., 1.],\n",
       "       [0., 1.],\n",
       "       [0., 1.],\n",
       "       [0., 1.],\n",
       "       [0., 1.],\n",
       "       [0., 1.],\n",
       "       [0., 1.],\n",
       "       [0., 1.],\n",
       "       [0., 1.],\n",
       "       [0., 1.],\n",
       "       [0., 1.],\n",
       "       [0., 1.],\n",
       "       [0., 1.],\n",
       "       [0., 1.],\n",
       "       [0., 1.],\n",
       "       [0., 1.],\n",
       "       [0., 1.],\n",
       "       [0., 1.],\n",
       "       [0., 1.],\n",
       "       [0., 1.],\n",
       "       [0., 1.],\n",
       "       [0., 1.],\n",
       "       [0., 1.],\n",
       "       [0., 1.],\n",
       "       [0., 1.],\n",
       "       [0., 1.],\n",
       "       [0., 1.],\n",
       "       [0., 1.],\n",
       "       [0., 1.],\n",
       "       [0., 1.],\n",
       "       [0., 1.],\n",
       "       [0., 1.],\n",
       "       [0., 1.],\n",
       "       [0., 1.],\n",
       "       [0., 1.],\n",
       "       [0., 1.],\n",
       "       [0., 1.],\n",
       "       [0., 1.],\n",
       "       [0., 1.],\n",
       "       [0., 1.],\n",
       "       [0., 1.],\n",
       "       [0., 1.],\n",
       "       [0., 1.],\n",
       "       [0., 1.],\n",
       "       [0., 1.],\n",
       "       [0., 1.],\n",
       "       [0., 1.],\n",
       "       [0., 1.],\n",
       "       [0., 1.],\n",
       "       [0., 1.],\n",
       "       [0., 1.],\n",
       "       [0., 1.],\n",
       "       [0., 1.],\n",
       "       [0., 1.],\n",
       "       [0., 1.],\n",
       "       [0., 1.],\n",
       "       [0., 1.],\n",
       "       [0., 1.],\n",
       "       [0., 1.],\n",
       "       [0., 1.],\n",
       "       [0., 1.],\n",
       "       [0., 1.],\n",
       "       [0., 1.],\n",
       "       [0., 1.],\n",
       "       [0., 1.],\n",
       "       [0., 1.],\n",
       "       [0., 1.],\n",
       "       [0., 1.],\n",
       "       [0., 1.],\n",
       "       [0., 1.],\n",
       "       [0., 1.],\n",
       "       [0., 1.],\n",
       "       [0., 1.],\n",
       "       [0., 1.],\n",
       "       [0., 1.],\n",
       "       [0., 1.],\n",
       "       [0., 1.],\n",
       "       [0., 1.],\n",
       "       [0., 1.],\n",
       "       [0., 1.],\n",
       "       [0., 1.],\n",
       "       [0., 1.],\n",
       "       [0., 1.],\n",
       "       [0., 1.],\n",
       "       [0., 1.],\n",
       "       [0., 1.],\n",
       "       [0., 1.],\n",
       "       [0., 1.],\n",
       "       [0., 1.],\n",
       "       [0., 1.],\n",
       "       [0., 1.],\n",
       "       [0., 1.],\n",
       "       [0., 1.],\n",
       "       [0., 1.],\n",
       "       [0., 1.],\n",
       "       [0., 1.],\n",
       "       [0., 1.],\n",
       "       [0., 1.],\n",
       "       [0., 1.],\n",
       "       [0., 1.],\n",
       "       [0., 1.],\n",
       "       [0., 1.],\n",
       "       [0., 1.],\n",
       "       [0., 1.],\n",
       "       [0., 1.],\n",
       "       [0., 1.],\n",
       "       [0., 1.],\n",
       "       [0., 1.],\n",
       "       [0., 1.],\n",
       "       [0., 1.],\n",
       "       [0., 1.],\n",
       "       [0., 1.],\n",
       "       [0., 1.],\n",
       "       [0., 1.],\n",
       "       [0., 1.],\n",
       "       [0., 1.],\n",
       "       [0., 1.],\n",
       "       [0., 1.],\n",
       "       [0., 1.],\n",
       "       [0., 1.],\n",
       "       [0., 1.],\n",
       "       [0., 1.],\n",
       "       [0., 1.],\n",
       "       [0., 1.],\n",
       "       [0., 1.],\n",
       "       [0., 1.],\n",
       "       [0., 1.],\n",
       "       [0., 1.],\n",
       "       [0., 1.],\n",
       "       [0., 1.],\n",
       "       [0., 1.],\n",
       "       [0., 1.],\n",
       "       [0., 1.],\n",
       "       [0., 1.],\n",
       "       [0., 1.],\n",
       "       [0., 1.],\n",
       "       [0., 1.],\n",
       "       [0., 1.],\n",
       "       [0., 1.],\n",
       "       [0., 1.],\n",
       "       [0., 1.],\n",
       "       [0., 1.],\n",
       "       [0., 1.],\n",
       "       [0., 1.],\n",
       "       [0., 1.],\n",
       "       [0., 1.],\n",
       "       [0., 1.],\n",
       "       [0., 1.],\n",
       "       [0., 1.],\n",
       "       [0., 1.],\n",
       "       [0., 1.],\n",
       "       [0., 1.],\n",
       "       [0., 1.],\n",
       "       [0., 1.],\n",
       "       [0., 1.],\n",
       "       [0., 1.],\n",
       "       [0., 1.],\n",
       "       [0., 1.],\n",
       "       [0., 1.],\n",
       "       [0., 1.],\n",
       "       [0., 1.],\n",
       "       [0., 1.],\n",
       "       [0., 1.],\n",
       "       [0., 1.],\n",
       "       [0., 1.],\n",
       "       [0., 1.],\n",
       "       [0., 1.],\n",
       "       [0., 1.],\n",
       "       [0., 1.],\n",
       "       [0., 1.],\n",
       "       [0., 1.],\n",
       "       [0., 1.],\n",
       "       [0., 1.],\n",
       "       [0., 1.],\n",
       "       [0., 1.],\n",
       "       [0., 1.],\n",
       "       [0., 1.],\n",
       "       [0., 1.],\n",
       "       [0., 1.],\n",
       "       [0., 1.],\n",
       "       [0., 1.],\n",
       "       [0., 1.],\n",
       "       [0., 1.],\n",
       "       [0., 1.],\n",
       "       [0., 1.],\n",
       "       [0., 1.],\n",
       "       [0., 1.],\n",
       "       [0., 1.],\n",
       "       [0., 1.],\n",
       "       [0., 1.],\n",
       "       [0., 1.],\n",
       "       [0., 1.],\n",
       "       [0., 1.],\n",
       "       [0., 1.],\n",
       "       [0., 1.],\n",
       "       [0., 1.],\n",
       "       [0., 1.],\n",
       "       [0., 1.],\n",
       "       [0., 1.],\n",
       "       [0., 1.],\n",
       "       [0., 1.],\n",
       "       [0., 1.],\n",
       "       [0., 1.],\n",
       "       [0., 1.],\n",
       "       [0., 1.],\n",
       "       [0., 1.],\n",
       "       [0., 1.],\n",
       "       [0., 1.],\n",
       "       [0., 1.],\n",
       "       [0., 1.],\n",
       "       [0., 1.],\n",
       "       [0., 1.],\n",
       "       [0., 1.],\n",
       "       [0., 1.],\n",
       "       [0., 1.],\n",
       "       [0., 1.],\n",
       "       [0., 1.],\n",
       "       [0., 1.],\n",
       "       [0., 1.],\n",
       "       [0., 1.],\n",
       "       [0., 1.],\n",
       "       [0., 1.],\n",
       "       [0., 1.],\n",
       "       [0., 1.],\n",
       "       [0., 1.],\n",
       "       [0., 1.],\n",
       "       [0., 1.],\n",
       "       [0., 1.],\n",
       "       [0., 1.],\n",
       "       [0., 1.],\n",
       "       [0., 1.],\n",
       "       [0., 1.],\n",
       "       [0., 1.],\n",
       "       [0., 1.],\n",
       "       [0., 1.],\n",
       "       [0., 1.],\n",
       "       [0., 1.],\n",
       "       [0., 1.],\n",
       "       [0., 1.],\n",
       "       [0., 1.],\n",
       "       [0., 1.],\n",
       "       [0., 1.],\n",
       "       [0., 1.],\n",
       "       [0., 1.],\n",
       "       [0., 1.],\n",
       "       [0., 1.],\n",
       "       [0., 1.],\n",
       "       [0., 1.],\n",
       "       [0., 1.],\n",
       "       [0., 1.],\n",
       "       [0., 1.],\n",
       "       [0., 1.],\n",
       "       [0., 1.],\n",
       "       [0., 1.],\n",
       "       [0., 1.],\n",
       "       [0., 1.],\n",
       "       [0., 1.],\n",
       "       [0., 1.],\n",
       "       [0., 1.],\n",
       "       [0., 1.],\n",
       "       [0., 1.],\n",
       "       [0., 1.],\n",
       "       [0., 1.],\n",
       "       [0., 1.],\n",
       "       [0., 1.],\n",
       "       [0., 1.],\n",
       "       [0., 1.],\n",
       "       [0., 1.],\n",
       "       [0., 1.],\n",
       "       [0., 1.],\n",
       "       [0., 1.],\n",
       "       [0., 1.],\n",
       "       [0., 1.],\n",
       "       [0., 1.],\n",
       "       [0., 1.],\n",
       "       [0., 1.],\n",
       "       [0., 1.],\n",
       "       [0., 1.],\n",
       "       [0., 1.],\n",
       "       [0., 1.],\n",
       "       [0., 1.],\n",
       "       [0., 1.],\n",
       "       [0., 1.],\n",
       "       [0., 1.],\n",
       "       [0., 1.],\n",
       "       [0., 1.],\n",
       "       [0., 1.],\n",
       "       [0., 1.],\n",
       "       [0., 1.],\n",
       "       [0., 1.],\n",
       "       [0., 1.],\n",
       "       [0., 1.],\n",
       "       [0., 1.],\n",
       "       [0., 1.],\n",
       "       [0., 1.],\n",
       "       [0., 1.],\n",
       "       [0., 1.],\n",
       "       [0., 1.],\n",
       "       [0., 1.],\n",
       "       [0., 1.],\n",
       "       [0., 1.],\n",
       "       [0., 1.],\n",
       "       [0., 1.],\n",
       "       [0., 1.],\n",
       "       [0., 1.],\n",
       "       [0., 1.],\n",
       "       [0., 1.],\n",
       "       [0., 1.],\n",
       "       [0., 1.],\n",
       "       [0., 1.],\n",
       "       [4., 2.]])"
      ]
     },
     "execution_count": 150,
     "metadata": {},
     "output_type": "execute_result"
    }
   ],
   "source": [
    "R"
   ]
  },
  {
   "cell_type": "code",
   "execution_count": 135,
   "metadata": {},
   "outputs": [],
   "source": [
    "def ql_hyper_tune(P=P,R=R,gamma=0.96, alpha=0.1, alpha_decay=.99, alpha_min=.001, epsilon=1.0, epsilon_min=0.1, \n",
    "                  epsilon_decay=0.99, n_iter=10000):\n",
    "    ql = mdp.QLearning(P,R,gamma,n_iter)\n",
    "    ql.run()\n",
    "    return ql.policy\n",
    "    \n",
    "    "
   ]
  },
  {
   "cell_type": "code",
   "execution_count": 138,
   "metadata": {},
   "outputs": [],
   "source": [
    "results = []\n",
    "for n_iter in [10000000,20000000]:\n",
    "    #for gamma in [0.7,0.9,0.99]:\n",
    "        results.append(ql_hyper_tune(n_iter=n_iter))"
   ]
  },
  {
   "cell_type": "code",
   "execution_count": 139,
   "metadata": {
    "scrolled": true
   },
   "outputs": [
    {
     "name": "stdout",
     "output_type": "stream",
     "text": [
      "45\n",
      "53\n"
     ]
    }
   ],
   "source": [
    "for r in results:\n",
    "    print(sum([r[i] == vi.policy[i] for i in range(len(ql.policy))]))"
   ]
  },
  {
   "cell_type": "code",
   "execution_count": 134,
   "metadata": {
    "scrolled": true
   },
   "outputs": [
    {
     "name": "stdout",
     "output_type": "stream",
     "text": [
      "50\n",
      "46\n",
      "48\n",
      "43\n"
     ]
    }
   ],
   "source": [
    "for r in results:\n",
    "    print(sum([r[i] == vi.policy[i] for i in range(len(ql.policy))]))"
   ]
  },
  {
   "cell_type": "code",
   "execution_count": 137,
   "metadata": {
    "scrolled": true
   },
   "outputs": [
    {
     "name": "stdout",
     "output_type": "stream",
     "text": [
      "45\n",
      "42\n"
     ]
    }
   ],
   "source": [
    "for r in results:\n",
    "    print(sum([r[i] == vi.policy[i] for i in range(len(ql.policy))]))"
   ]
  },
  {
   "cell_type": "code",
   "execution_count": 140,
   "metadata": {},
   "outputs": [
    {
     "data": {
      "text/plain": [
       "400"
      ]
     },
     "execution_count": 140,
     "metadata": {},
     "output_type": "execute_result"
    }
   ],
   "source": [
    "len(ql.policy)"
   ]
  },
  {
   "cell_type": "code",
   "execution_count": null,
   "metadata": {},
   "outputs": [],
   "source": []
  },
  {
   "cell_type": "code",
   "execution_count": 144,
   "metadata": {
    "scrolled": true
   },
   "outputs": [
    {
     "name": "stdout",
     "output_type": "stream",
     "text": [
      "396\n",
      "396\n"
     ]
    }
   ],
   "source": [
    "for r in results:\n",
    "    print(sum([pi.policy[i] == vi.policy[i] for i in range(len(ql.policy))]))"
   ]
  },
  {
   "cell_type": "code",
   "execution_count": null,
   "metadata": {},
   "outputs": [],
   "source": [
    "rr"
   ]
  },
  {
   "cell_type": "code",
   "execution_count": 96,
   "metadata": {},
   "outputs": [],
   "source": [
    "pp, rr = example.forest(S=400, r1=40000, r2=200, p=0.1, is_sparse=False)"
   ]
  },
  {
   "cell_type": "code",
   "execution_count": 98,
   "metadata": {},
   "outputs": [
    {
     "name": "stdout",
     "output_type": "stream",
     "text": [
      "169\n",
      "170.49969053268433\n"
     ]
    },
    {
     "data": {
      "image/png": "[encoded data removed]",
      "text/plain": [
       "<Figure size 432x288 with 2 Axes>"
      ]
     },
     "metadata": {
      "needs_background": "light"
     },
     "output_type": "display_data"
    }
   ],
   "source": [
    "import time\n",
    "start = time.time()\n",
    "n_iter = 100000\n",
    "ql = mdp.QLearning(pp, rr, 0.999999996 , n_iter=n_iter,\n",
    "                   epsilon=1,epsilon_decay=0.9999,epsilon_min=0.1,\n",
    "                   alpha_decay=0.9999,alpha = 1,alpha_min=0.01\n",
    "                   ,run_stat_frequency=1,decay_every=100)\n",
    "ql.setVerbose()\n",
    "higherre=ql.run()\n",
    "ql_result,ql_error,ql_reward = vi_plot(higherre)\n",
    "print(sum(ql.policy))\n",
    "print(time.time()-start)"
   ]
  },
  {
   "cell_type": "code",
   "execution_count": 102,
   "metadata": {},
   "outputs": [
    {
     "data": {
      "text/plain": [
       "169"
      ]
     },
     "execution_count": 102,
     "metadata": {},
     "output_type": "execute_result"
    }
   ],
   "source": [
    "sum(ql.policy)"
   ]
  },
  {
   "cell_type": "code",
   "execution_count": 101,
   "metadata": {
    "scrolled": true
   },
   "outputs": [
    {
     "name": "stdout",
     "output_type": "stream",
     "text": [
      " Iteration   Variation\n",
      "         140000.000000\n",
      "         235999.999856\n",
      "         332399.999741\n",
      "         429159.999650\n",
      "         526243.999580\n",
      "         623619.599528\n",
      "         721257.639490\n",
      "         819131.875464\n",
      "         917218.687849\n",
      "        1015496.819002\n",
      "        1113947.137046\n",
      "        1212552.423291\n",
      "        1311297.180917\n",
      "        1410167.462785\n",
      "        15 9150.716470\n",
      "        16 8235.644790\n",
      "        17 7412.080281\n",
      "        18 6670.872226\n",
      "        19 6003.784980\n",
      "        20 5403.406460\n",
      "        21 4863.065795\n",
      "        22 4376.759198\n",
      "        23 3939.083262\n",
      "        24 3545.174922\n",
      "        25 3190.657417\n",
      "        26 2871.591664\n",
      "        27 2584.432487\n",
      "        28 2325.989229\n",
      "        29 2093.390298\n",
      "        30 1884.051260\n",
      "        31 1695.646128\n",
      "        32 1526.081509\n",
      "        33 1373.473352\n",
      "        34 1236.126012\n",
      "        35 1112.513406\n",
      "        36 1001.262062\n",
      "        37  901.135852\n",
      "        38  811.022264\n",
      "        39  729.920034\n",
      "        40  656.928028\n",
      "        41  591.235223\n",
      "        42  532.111699\n",
      "        43  478.900527\n",
      "        44  431.010472\n",
      "        45  387.909424\n",
      "        46  349.118480\n",
      "        47  314.206631\n",
      "        48  282.785966\n",
      "        49  254.507369\n",
      "        50  229.056631\n",
      "        51  206.150967\n",
      "        52  185.535870\n",
      "        53  166.982282\n",
      "        54  150.284053\n",
      "        55  135.255647\n",
      "        56  121.730082\n",
      "        57  109.557073\n",
      "        58   98.601366\n",
      "        59   88.741229\n",
      "        60   79.867106\n",
      "        61   71.880395\n",
      "        62   64.692355\n",
      "        63   58.223119\n",
      "        64   52.400807\n",
      "        65   47.160726\n",
      "        66   42.444653\n",
      "        67   38.200188\n",
      "        68   34.380169\n",
      "        69   30.942152\n",
      "        70   27.847937\n",
      "        71   25.063143\n",
      "        72   22.556829\n",
      "        73   20.301146\n",
      "        74   18.271031\n",
      "        75   16.443928\n",
      "        76   14.799535\n",
      "        77   13.319581\n",
      "        78   11.987623\n",
      "        79   10.788861\n",
      "        80    9.709975\n",
      "        81    8.738977\n",
      "        82    7.865079\n",
      "        83    7.078571\n",
      "        84    6.370714\n",
      "        85    5.733643\n",
      "        86    5.160279\n",
      "        87    4.644251\n",
      "        88    4.179826\n",
      "        89    3.761843\n",
      "        90    3.385659\n",
      "        91    3.047093\n",
      "        92    2.742384\n",
      "        93    2.468145\n",
      "        94    2.221331\n",
      "        95    1.999198\n",
      "        96    1.799278\n",
      "        97    1.619350\n",
      "        98    1.457415\n",
      "        99    1.311674\n",
      "       100    1.180506\n",
      "       101    1.062456\n",
      "       102    0.956210\n",
      "       103    0.860589\n",
      "       104    0.774530\n",
      "       105    0.697077\n",
      "       106    0.627369\n",
      "       107    0.564632\n",
      "       108    0.508169\n",
      "       109    0.457352\n",
      "       110    0.411617\n",
      "       111    0.370455\n",
      "       112    0.333410\n",
      "       113    0.300069\n",
      "       114    0.270062\n",
      "       115    0.243056\n",
      "       116    0.218750\n",
      "       117    0.196875\n",
      "       118    0.177188\n",
      "       119    0.159469\n",
      "       120    0.143522\n",
      "       121    0.129170\n",
      "       122    0.116253\n",
      "       123    0.104628\n",
      "       124    0.094165\n",
      "       125    0.084748\n",
      "       126    0.076273\n",
      "       127    0.068646\n",
      "       128    0.061782\n",
      "       129    0.055603\n",
      "       130    0.050043\n",
      "       131    0.045039\n",
      "       132    0.040535\n",
      "       133    0.036481\n",
      "       134    0.032833\n",
      "       135    0.029550\n",
      "       136    0.026595\n",
      "       137    0.023935\n",
      "       138    0.021542\n",
      "       139    0.019388\n",
      "       140    0.017449\n",
      "       141    0.015704\n",
      "       142    0.014134\n",
      "       143    0.012720\n",
      "       144    0.011448\n",
      "       145    0.010303\n",
      "       146    0.009273\n",
      "       147    0.008346\n",
      "       148    0.007511\n",
      "       149    0.006760\n",
      "       150    0.006084\n",
      "       151    0.005476\n",
      "       152    0.004928\n",
      "       153    0.004435\n",
      "       154    0.003992\n",
      "       155    0.003593\n",
      "       156    0.003233\n",
      "       157    0.002910\n",
      "       158    0.002619\n",
      "       159    0.002357\n",
      "       160    0.002121\n",
      "       161    0.001909\n",
      "       162    0.001718\n",
      "       163    0.001546\n",
      "       164    0.001392\n",
      "       165    0.001253\n",
      "       166    0.001127\n",
      "       167    0.001015\n",
      "       168    0.000913\n",
      "       169    0.000822\n",
      "       170    0.000740\n",
      "       171    0.000666\n",
      "       172    0.000599\n",
      "       173    0.000539\n",
      "       174    0.000485\n",
      "       175    0.000437\n",
      "       176    0.000393\n",
      "       177    0.000354\n",
      "       178    0.000318\n",
      "       179    0.000287\n",
      "       180    0.000258\n",
      "       181    0.000232\n",
      "       182    0.000209\n",
      "       183    0.000188\n",
      "       184    0.000169\n",
      "       185    0.000152\n",
      "       186    0.000137\n",
      "       187    0.000123\n",
      "       188    0.000111\n",
      "       189    0.000100\n",
      "       190    0.000090\n",
      "       191    0.000081\n",
      "       192    0.000073\n",
      "       193    0.000066\n",
      "       194    0.000059\n",
      "       195    0.000053\n",
      "       196    0.000048\n",
      "       197    0.000043\n",
      "       198    0.000039\n",
      "       199    0.000035\n",
      "       200    0.000031\n",
      "       201    0.000028\n",
      "       202    0.000025\n",
      "       203    0.000023\n",
      "       204    0.000021\n",
      "       205    0.000019\n",
      "       206    0.000017\n",
      "       207    0.000015\n",
      "       208    0.000013\n",
      "       209    0.000012\n",
      "       210    0.000011\n",
      "       211    0.000010\n",
      "       212    0.000009\n",
      "       213    0.000008\n",
      "       214    0.000007\n",
      "       215    0.000006\n",
      "       216    0.000006\n",
      "       217    0.000005\n",
      "       218    0.000005\n",
      "       219    0.000004\n",
      "       220    0.000004\n",
      "       221    0.000003\n",
      "       222    0.000003\n",
      "       223    0.000003\n",
      "       224    0.000003\n",
      "       225    0.000002\n",
      "       226    0.000002\n",
      "       227    0.000002\n",
      "       228    0.000002\n",
      "       229    0.000001\n",
      "       230    0.000001\n",
      "       231    0.000001\n",
      "       232    0.000001\n",
      "       233    0.000001\n",
      "       234    0.000001\n",
      "       235    0.000001\n",
      "       236    0.000001\n",
      "       237    0.000001\n",
      "       238    0.000001\n",
      "       239    0.000001\n",
      "       240    0.000000\n",
      "       241    0.000000\n",
      "       242    0.000000\n",
      "       243    0.000000\n",
      "       244    0.000000\n",
      "       245    0.000000\n",
      "       246    0.000000\n",
      "       247    0.000000\n",
      "       248    0.000000\n",
      "       249    0.000000\n",
      "       250    0.000000\n",
      "       251    0.000000\n",
      "       252    0.000000\n",
      "       253    0.000000\n",
      "       254    0.000000\n",
      "       255    0.000000\n",
      "       256    0.000000\n",
      "       257    0.000000\n",
      "       258    0.000000\n",
      "       259    0.000000\n",
      "       260    0.000000\n",
      "       261    0.000000\n",
      "       262    0.000000\n",
      "       263    0.000000\n",
      "       264    0.000000\n",
      "       265    0.000000\n",
      "       266    0.000000\n",
      "       267    0.000000\n",
      "       268    0.000000\n",
      "       269    0.000000\n",
      "       270    0.000000\n",
      "       271    0.000000\n",
      "       272    0.000000\n",
      "       273    0.000000\n",
      "       274    0.000000\n",
      "       275    0.000000\n",
      "       276    0.000000\n",
      "       277    0.000000\n",
      "       278    0.000000\n",
      "       279    0.000000\n",
      "       280    0.000000\n",
      "       281    0.000000\n",
      "       282    0.000000\n",
      "       283    0.000000\n",
      "       284    0.000000\n",
      "       285    0.000000\n",
      "       286    0.000000\n",
      "       287    0.000000\n",
      "       288    0.000000\n",
      "       289    0.000000\n",
      "       290    0.000000\n",
      "       291    0.000000\n",
      "       292    0.000000\n",
      "       293    0.000000\n",
      "       294    0.000000\n",
      "       295    0.000000\n",
      "       296    0.000000\n",
      "       297    0.000000\n",
      "       298    0.000000\n",
      "       299    0.000000\n",
      "       300    0.000000\n",
      "       301    0.000000\n",
      "       302    0.000000\n",
      "       303    0.000000\n",
      "       304    0.000000\n",
      "       305    0.000000\n",
      "       306    0.000000\n",
      "       307    0.000000\n",
      "       308    0.000000\n",
      "       309    0.000000\n",
      "       310    0.000000\n",
      "       311    0.000000\n",
      "       312    0.000000\n",
      "       313    0.000000\n",
      "       314    0.000000\n",
      "       315    0.000000\n",
      "       316    0.000000\n",
      "       317    0.000000\n",
      "       318    0.000000\n",
      "       319    0.000000\n",
      "       320    0.000000\n",
      "       321    0.000000\n",
      "       322    0.000000\n",
      "       323    0.000000\n",
      "       324    0.000000\n",
      "       325    0.000000\n",
      "       326    0.000000\n",
      "       327    0.000000\n",
      "       328    0.000000\n",
      "       329    0.000000\n",
      "       330    0.000000\n",
      "       331    0.000000\n",
      "       332    0.000000\n",
      "       333    0.000000\n",
      "       334    0.000000\n",
      "       335    0.000000\n",
      "       336    0.000000\n",
      "       337    0.000000\n",
      "       338    0.000000\n",
      "       339    0.000000\n",
      "       340    0.000000\n",
      "       341    0.000000\n",
      "       342    0.000000\n",
      "       343    0.000000\n",
      "       344    0.000000\n",
      "       345    0.000000\n",
      "       346    0.000000\n",
      "       347    0.000000\n",
      "       348    0.000000\n",
      "       349    0.000000\n",
      "       350    0.000000\n",
      "Iterating stopped due to maximum number of iterations condition.\n"
     ]
    },
    {
     "data": {
      "text/plain": [
       "292"
      ]
     },
     "execution_count": 101,
     "metadata": {},
     "output_type": "execute_result"
    },
    {
     "data": {
      "image/png": "[encoded data removed]",
      "text/plain": [
       "<Figure size 432x288 with 2 Axes>"
      ]
     },
     "metadata": {
      "needs_background": "light"
     },
     "output_type": "display_data"
    }
   ],
   "source": [
    "#P, R = example.forest(S=500, r1=200, r2=20, p=0.1, is_sparse=False)\n",
    "gamma = 0.999999996\n",
    "vi = mdp.ValueIteration(pp, rr, gamma, epsilon=0.001,max_iter = 100000)\n",
    "vi.setVerbose()\n",
    "rv = vi.run()\n",
    "result,error,reward = vi_plot(rv)\n",
    "sum(vi.policy)"
   ]
  },
  {
   "cell_type": "code",
   "execution_count": 175,
   "metadata": {},
   "outputs": [
    {
     "data": {
      "text/plain": [
       "array([[0.e+00, 0.e+00],\n",
       "       [0.e+00, 1.e+00],\n",
       "       [0.e+00, 1.e+00],\n",
       "       [0.e+00, 1.e+00],\n",
       "       [0.e+00, 1.e+00],\n",
       "       [0.e+00, 1.e+00],\n",
       "       [0.e+00, 1.e+00],\n",
       "       [0.e+00, 1.e+00],\n",
       "       [0.e+00, 1.e+00],\n",
       "       [0.e+00, 1.e+00],\n",
       "       [0.e+00, 1.e+00],\n",
       "       [0.e+00, 1.e+00],\n",
       "       [0.e+00, 1.e+00],\n",
       "       [0.e+00, 1.e+00],\n",
       "       [0.e+00, 1.e+00],\n",
       "       [0.e+00, 1.e+00],\n",
       "       [0.e+00, 1.e+00],\n",
       "       [0.e+00, 1.e+00],\n",
       "       [0.e+00, 1.e+00],\n",
       "       [0.e+00, 1.e+00],\n",
       "       [0.e+00, 1.e+00],\n",
       "       [0.e+00, 1.e+00],\n",
       "       [0.e+00, 1.e+00],\n",
       "       [0.e+00, 1.e+00],\n",
       "       [0.e+00, 1.e+00],\n",
       "       [0.e+00, 1.e+00],\n",
       "       [0.e+00, 1.e+00],\n",
       "       [0.e+00, 1.e+00],\n",
       "       [0.e+00, 1.e+00],\n",
       "       [0.e+00, 1.e+00],\n",
       "       [0.e+00, 1.e+00],\n",
       "       [0.e+00, 1.e+00],\n",
       "       [0.e+00, 1.e+00],\n",
       "       [0.e+00, 1.e+00],\n",
       "       [0.e+00, 1.e+00],\n",
       "       [0.e+00, 1.e+00],\n",
       "       [0.e+00, 1.e+00],\n",
       "       [0.e+00, 1.e+00],\n",
       "       [0.e+00, 1.e+00],\n",
       "       [0.e+00, 1.e+00],\n",
       "       [0.e+00, 1.e+00],\n",
       "       [0.e+00, 1.e+00],\n",
       "       [0.e+00, 1.e+00],\n",
       "       [0.e+00, 1.e+00],\n",
       "       [0.e+00, 1.e+00],\n",
       "       [0.e+00, 1.e+00],\n",
       "       [0.e+00, 1.e+00],\n",
       "       [0.e+00, 1.e+00],\n",
       "       [0.e+00, 1.e+00],\n",
       "       [0.e+00, 1.e+00],\n",
       "       [0.e+00, 1.e+00],\n",
       "       [0.e+00, 1.e+00],\n",
       "       [0.e+00, 1.e+00],\n",
       "       [0.e+00, 1.e+00],\n",
       "       [0.e+00, 1.e+00],\n",
       "       [0.e+00, 1.e+00],\n",
       "       [0.e+00, 1.e+00],\n",
       "       [0.e+00, 1.e+00],\n",
       "       [0.e+00, 1.e+00],\n",
       "       [0.e+00, 1.e+00],\n",
       "       [0.e+00, 1.e+00],\n",
       "       [0.e+00, 1.e+00],\n",
       "       [0.e+00, 1.e+00],\n",
       "       [0.e+00, 1.e+00],\n",
       "       [0.e+00, 1.e+00],\n",
       "       [0.e+00, 1.e+00],\n",
       "       [0.e+00, 1.e+00],\n",
       "       [0.e+00, 1.e+00],\n",
       "       [0.e+00, 1.e+00],\n",
       "       [0.e+00, 1.e+00],\n",
       "       [0.e+00, 1.e+00],\n",
       "       [0.e+00, 1.e+00],\n",
       "       [0.e+00, 1.e+00],\n",
       "       [0.e+00, 1.e+00],\n",
       "       [0.e+00, 1.e+00],\n",
       "       [0.e+00, 1.e+00],\n",
       "       [0.e+00, 1.e+00],\n",
       "       [0.e+00, 1.e+00],\n",
       "       [0.e+00, 1.e+00],\n",
       "       [0.e+00, 1.e+00],\n",
       "       [0.e+00, 1.e+00],\n",
       "       [0.e+00, 1.e+00],\n",
       "       [0.e+00, 1.e+00],\n",
       "       [0.e+00, 1.e+00],\n",
       "       [0.e+00, 1.e+00],\n",
       "       [0.e+00, 1.e+00],\n",
       "       [0.e+00, 1.e+00],\n",
       "       [0.e+00, 1.e+00],\n",
       "       [0.e+00, 1.e+00],\n",
       "       [0.e+00, 1.e+00],\n",
       "       [0.e+00, 1.e+00],\n",
       "       [0.e+00, 1.e+00],\n",
       "       [0.e+00, 1.e+00],\n",
       "       [0.e+00, 1.e+00],\n",
       "       [0.e+00, 1.e+00],\n",
       "       [0.e+00, 1.e+00],\n",
       "       [0.e+00, 1.e+00],\n",
       "       [0.e+00, 1.e+00],\n",
       "       [0.e+00, 1.e+00],\n",
       "       [0.e+00, 1.e+00],\n",
       "       [0.e+00, 1.e+00],\n",
       "       [0.e+00, 1.e+00],\n",
       "       [0.e+00, 1.e+00],\n",
       "       [0.e+00, 1.e+00],\n",
       "       [0.e+00, 1.e+00],\n",
       "       [0.e+00, 1.e+00],\n",
       "       [0.e+00, 1.e+00],\n",
       "       [0.e+00, 1.e+00],\n",
       "       [0.e+00, 1.e+00],\n",
       "       [0.e+00, 1.e+00],\n",
       "       [0.e+00, 1.e+00],\n",
       "       [0.e+00, 1.e+00],\n",
       "       [0.e+00, 1.e+00],\n",
       "       [0.e+00, 1.e+00],\n",
       "       [0.e+00, 1.e+00],\n",
       "       [0.e+00, 1.e+00],\n",
       "       [0.e+00, 1.e+00],\n",
       "       [0.e+00, 1.e+00],\n",
       "       [0.e+00, 1.e+00],\n",
       "       [0.e+00, 1.e+00],\n",
       "       [0.e+00, 1.e+00],\n",
       "       [0.e+00, 1.e+00],\n",
       "       [0.e+00, 1.e+00],\n",
       "       [0.e+00, 1.e+00],\n",
       "       [0.e+00, 1.e+00],\n",
       "       [0.e+00, 1.e+00],\n",
       "       [0.e+00, 1.e+00],\n",
       "       [0.e+00, 1.e+00],\n",
       "       [0.e+00, 1.e+00],\n",
       "       [0.e+00, 1.e+00],\n",
       "       [0.e+00, 1.e+00],\n",
       "       [0.e+00, 1.e+00],\n",
       "       [0.e+00, 1.e+00],\n",
       "       [0.e+00, 1.e+00],\n",
       "       [0.e+00, 1.e+00],\n",
       "       [0.e+00, 1.e+00],\n",
       "       [0.e+00, 1.e+00],\n",
       "       [0.e+00, 1.e+00],\n",
       "       [0.e+00, 1.e+00],\n",
       "       [0.e+00, 1.e+00],\n",
       "       [0.e+00, 1.e+00],\n",
       "       [0.e+00, 1.e+00],\n",
       "       [0.e+00, 1.e+00],\n",
       "       [0.e+00, 1.e+00],\n",
       "       [0.e+00, 1.e+00],\n",
       "       [0.e+00, 1.e+00],\n",
       "       [0.e+00, 1.e+00],\n",
       "       [0.e+00, 1.e+00],\n",
       "       [0.e+00, 1.e+00],\n",
       "       [0.e+00, 1.e+00],\n",
       "       [0.e+00, 1.e+00],\n",
       "       [0.e+00, 1.e+00],\n",
       "       [0.e+00, 1.e+00],\n",
       "       [0.e+00, 1.e+00],\n",
       "       [0.e+00, 1.e+00],\n",
       "       [0.e+00, 1.e+00],\n",
       "       [0.e+00, 1.e+00],\n",
       "       [0.e+00, 1.e+00],\n",
       "       [0.e+00, 1.e+00],\n",
       "       [0.e+00, 1.e+00],\n",
       "       [0.e+00, 1.e+00],\n",
       "       [0.e+00, 1.e+00],\n",
       "       [0.e+00, 1.e+00],\n",
       "       [0.e+00, 1.e+00],\n",
       "       [0.e+00, 1.e+00],\n",
       "       [0.e+00, 1.e+00],\n",
       "       [0.e+00, 1.e+00],\n",
       "       [0.e+00, 1.e+00],\n",
       "       [0.e+00, 1.e+00],\n",
       "       [0.e+00, 1.e+00],\n",
       "       [0.e+00, 1.e+00],\n",
       "       [0.e+00, 1.e+00],\n",
       "       [0.e+00, 1.e+00],\n",
       "       [0.e+00, 1.e+00],\n",
       "       [0.e+00, 1.e+00],\n",
       "       [0.e+00, 1.e+00],\n",
       "       [0.e+00, 1.e+00],\n",
       "       [0.e+00, 1.e+00],\n",
       "       [0.e+00, 1.e+00],\n",
       "       [0.e+00, 1.e+00],\n",
       "       [0.e+00, 1.e+00],\n",
       "       [0.e+00, 1.e+00],\n",
       "       [0.e+00, 1.e+00],\n",
       "       [0.e+00, 1.e+00],\n",
       "       [0.e+00, 1.e+00],\n",
       "       [0.e+00, 1.e+00],\n",
       "       [0.e+00, 1.e+00],\n",
       "       [0.e+00, 1.e+00],\n",
       "       [0.e+00, 1.e+00],\n",
       "       [0.e+00, 1.e+00],\n",
       "       [0.e+00, 1.e+00],\n",
       "       [0.e+00, 1.e+00],\n",
       "       [0.e+00, 1.e+00],\n",
       "       [0.e+00, 1.e+00],\n",
       "       [0.e+00, 1.e+00],\n",
       "       [0.e+00, 1.e+00],\n",
       "       [0.e+00, 1.e+00],\n",
       "       [0.e+00, 1.e+00],\n",
       "       [0.e+00, 1.e+00],\n",
       "       [0.e+00, 1.e+00],\n",
       "       [0.e+00, 1.e+00],\n",
       "       [0.e+00, 1.e+00],\n",
       "       [0.e+00, 1.e+00],\n",
       "       [0.e+00, 1.e+00],\n",
       "       [0.e+00, 1.e+00],\n",
       "       [0.e+00, 1.e+00],\n",
       "       [0.e+00, 1.e+00],\n",
       "       [0.e+00, 1.e+00],\n",
       "       [0.e+00, 1.e+00],\n",
       "       [0.e+00, 1.e+00],\n",
       "       [0.e+00, 1.e+00],\n",
       "       [0.e+00, 1.e+00],\n",
       "       [0.e+00, 1.e+00],\n",
       "       [0.e+00, 1.e+00],\n",
       "       [0.e+00, 1.e+00],\n",
       "       [0.e+00, 1.e+00],\n",
       "       [0.e+00, 1.e+00],\n",
       "       [0.e+00, 1.e+00],\n",
       "       [0.e+00, 1.e+00],\n",
       "       [0.e+00, 1.e+00],\n",
       "       [0.e+00, 1.e+00],\n",
       "       [0.e+00, 1.e+00],\n",
       "       [0.e+00, 1.e+00],\n",
       "       [0.e+00, 1.e+00],\n",
       "       [0.e+00, 1.e+00],\n",
       "       [0.e+00, 1.e+00],\n",
       "       [0.e+00, 1.e+00],\n",
       "       [0.e+00, 1.e+00],\n",
       "       [0.e+00, 1.e+00],\n",
       "       [0.e+00, 1.e+00],\n",
       "       [0.e+00, 1.e+00],\n",
       "       [0.e+00, 1.e+00],\n",
       "       [0.e+00, 1.e+00],\n",
       "       [0.e+00, 1.e+00],\n",
       "       [0.e+00, 1.e+00],\n",
       "       [0.e+00, 1.e+00],\n",
       "       [0.e+00, 1.e+00],\n",
       "       [0.e+00, 1.e+00],\n",
       "       [0.e+00, 1.e+00],\n",
       "       [0.e+00, 1.e+00],\n",
       "       [0.e+00, 1.e+00],\n",
       "       [0.e+00, 1.e+00],\n",
       "       [0.e+00, 1.e+00],\n",
       "       [0.e+00, 1.e+00],\n",
       "       [0.e+00, 1.e+00],\n",
       "       [0.e+00, 1.e+00],\n",
       "       [0.e+00, 1.e+00],\n",
       "       [0.e+00, 1.e+00],\n",
       "       [0.e+00, 1.e+00],\n",
       "       [0.e+00, 1.e+00],\n",
       "       [0.e+00, 1.e+00],\n",
       "       [0.e+00, 1.e+00],\n",
       "       [0.e+00, 1.e+00],\n",
       "       [0.e+00, 1.e+00],\n",
       "       [0.e+00, 1.e+00],\n",
       "       [0.e+00, 1.e+00],\n",
       "       [0.e+00, 1.e+00],\n",
       "       [0.e+00, 1.e+00],\n",
       "       [0.e+00, 1.e+00],\n",
       "       [0.e+00, 1.e+00],\n",
       "       [0.e+00, 1.e+00],\n",
       "       [0.e+00, 1.e+00],\n",
       "       [0.e+00, 1.e+00],\n",
       "       [0.e+00, 1.e+00],\n",
       "       [0.e+00, 1.e+00],\n",
       "       [0.e+00, 1.e+00],\n",
       "       [0.e+00, 1.e+00],\n",
       "       [0.e+00, 1.e+00],\n",
       "       [0.e+00, 1.e+00],\n",
       "       [0.e+00, 1.e+00],\n",
       "       [0.e+00, 1.e+00],\n",
       "       [0.e+00, 1.e+00],\n",
       "       [0.e+00, 1.e+00],\n",
       "       [0.e+00, 1.e+00],\n",
       "       [0.e+00, 1.e+00],\n",
       "       [0.e+00, 1.e+00],\n",
       "       [0.e+00, 1.e+00],\n",
       "       [0.e+00, 1.e+00],\n",
       "       [0.e+00, 1.e+00],\n",
       "       [0.e+00, 1.e+00],\n",
       "       [0.e+00, 1.e+00],\n",
       "       [0.e+00, 1.e+00],\n",
       "       [0.e+00, 1.e+00],\n",
       "       [0.e+00, 1.e+00],\n",
       "       [0.e+00, 1.e+00],\n",
       "       [0.e+00, 1.e+00],\n",
       "       [0.e+00, 1.e+00],\n",
       "       [0.e+00, 1.e+00],\n",
       "       [0.e+00, 1.e+00],\n",
       "       [0.e+00, 1.e+00],\n",
       "       [0.e+00, 1.e+00],\n",
       "       [0.e+00, 1.e+00],\n",
       "       [0.e+00, 1.e+00],\n",
       "       [0.e+00, 1.e+00],\n",
       "       [0.e+00, 1.e+00],\n",
       "       [0.e+00, 1.e+00],\n",
       "       [0.e+00, 1.e+00],\n",
       "       [0.e+00, 1.e+00],\n",
       "       [0.e+00, 1.e+00],\n",
       "       [0.e+00, 1.e+00],\n",
       "       [0.e+00, 1.e+00],\n",
       "       [0.e+00, 1.e+00],\n",
       "       [0.e+00, 1.e+00],\n",
       "       [0.e+00, 1.e+00],\n",
       "       [0.e+00, 1.e+00],\n",
       "       [0.e+00, 1.e+00],\n",
       "       [0.e+00, 1.e+00],\n",
       "       [0.e+00, 1.e+00],\n",
       "       [0.e+00, 1.e+00],\n",
       "       [0.e+00, 1.e+00],\n",
       "       [0.e+00, 1.e+00],\n",
       "       [0.e+00, 1.e+00],\n",
       "       [0.e+00, 1.e+00],\n",
       "       [0.e+00, 1.e+00],\n",
       "       [0.e+00, 1.e+00],\n",
       "       [0.e+00, 1.e+00],\n",
       "       [0.e+00, 1.e+00],\n",
       "       [0.e+00, 1.e+00],\n",
       "       [0.e+00, 1.e+00],\n",
       "       [0.e+00, 1.e+00],\n",
       "       [0.e+00, 1.e+00],\n",
       "       [0.e+00, 1.e+00],\n",
       "       [0.e+00, 1.e+00],\n",
       "       [0.e+00, 1.e+00],\n",
       "       [0.e+00, 1.e+00],\n",
       "       [0.e+00, 1.e+00],\n",
       "       [0.e+00, 1.e+00],\n",
       "       [0.e+00, 1.e+00],\n",
       "       [0.e+00, 1.e+00],\n",
       "       [0.e+00, 1.e+00],\n",
       "       [0.e+00, 1.e+00],\n",
       "       [0.e+00, 1.e+00],\n",
       "       [0.e+00, 1.e+00],\n",
       "       [0.e+00, 1.e+00],\n",
       "       [0.e+00, 1.e+00],\n",
       "       [0.e+00, 1.e+00],\n",
       "       [0.e+00, 1.e+00],\n",
       "       [0.e+00, 1.e+00],\n",
       "       [0.e+00, 1.e+00],\n",
       "       [0.e+00, 1.e+00],\n",
       "       [0.e+00, 1.e+00],\n",
       "       [0.e+00, 1.e+00],\n",
       "       [0.e+00, 1.e+00],\n",
       "       [0.e+00, 1.e+00],\n",
       "       [0.e+00, 1.e+00],\n",
       "       [0.e+00, 1.e+00],\n",
       "       [0.e+00, 1.e+00],\n",
       "       [0.e+00, 1.e+00],\n",
       "       [0.e+00, 1.e+00],\n",
       "       [0.e+00, 1.e+00],\n",
       "       [0.e+00, 1.e+00],\n",
       "       [0.e+00, 1.e+00],\n",
       "       [0.e+00, 1.e+00],\n",
       "       [0.e+00, 1.e+00],\n",
       "       [0.e+00, 1.e+00],\n",
       "       [0.e+00, 1.e+00],\n",
       "       [0.e+00, 1.e+00],\n",
       "       [0.e+00, 1.e+00],\n",
       "       [0.e+00, 1.e+00],\n",
       "       [0.e+00, 1.e+00],\n",
       "       [0.e+00, 1.e+00],\n",
       "       [0.e+00, 1.e+00],\n",
       "       [0.e+00, 1.e+00],\n",
       "       [0.e+00, 1.e+00],\n",
       "       [0.e+00, 1.e+00],\n",
       "       [0.e+00, 1.e+00],\n",
       "       [0.e+00, 1.e+00],\n",
       "       [0.e+00, 1.e+00],\n",
       "       [0.e+00, 1.e+00],\n",
       "       [0.e+00, 1.e+00],\n",
       "       [0.e+00, 1.e+00],\n",
       "       [0.e+00, 1.e+00],\n",
       "       [0.e+00, 1.e+00],\n",
       "       [0.e+00, 1.e+00],\n",
       "       [0.e+00, 1.e+00],\n",
       "       [0.e+00, 1.e+00],\n",
       "       [0.e+00, 1.e+00],\n",
       "       [0.e+00, 1.e+00],\n",
       "       [0.e+00, 1.e+00],\n",
       "       [0.e+00, 1.e+00],\n",
       "       [0.e+00, 1.e+00],\n",
       "       [0.e+00, 1.e+00],\n",
       "       [0.e+00, 1.e+00],\n",
       "       [0.e+00, 1.e+00],\n",
       "       [0.e+00, 1.e+00],\n",
       "       [0.e+00, 1.e+00],\n",
       "       [0.e+00, 1.e+00],\n",
       "       [0.e+00, 1.e+00],\n",
       "       [0.e+00, 1.e+00],\n",
       "       [0.e+00, 1.e+00],\n",
       "       [0.e+00, 1.e+00],\n",
       "       [0.e+00, 1.e+00],\n",
       "       [0.e+00, 1.e+00],\n",
       "       [0.e+00, 1.e+00],\n",
       "       [0.e+00, 1.e+00],\n",
       "       [0.e+00, 1.e+00],\n",
       "       [0.e+00, 1.e+00],\n",
       "       [0.e+00, 1.e+00],\n",
       "       [0.e+00, 1.e+00],\n",
       "       [4.e+04, 2.e+02]])"
      ]
     },
     "execution_count": 175,
     "metadata": {},
     "output_type": "execute_result"
    }
   ],
   "source": [
    "rr"
   ]
  },
  {
   "cell_type": "code",
   "execution_count": 178,
   "metadata": {
    "scrolled": true
   },
   "outputs": [
    {
     "name": "stdout",
     "output_type": "stream",
     "text": [
      " Iteration   Variation\n",
      "         1  400.000000\n",
      "         2  359.999999\n",
      "         3  323.999997\n",
      "         4  291.599997\n",
      "         5  262.439996\n",
      "         6  236.195995\n",
      "         7  212.576395\n",
      "         8  191.318755\n",
      "         9  172.186878\n",
      "        10  154.968190\n",
      "        11  139.471370\n",
      "        12  125.524233\n",
      "        13  112.971809\n",
      "        14  101.674628\n",
      "        15   91.507165\n",
      "        16   82.356448\n",
      "        17   74.120803\n",
      "        18   66.708722\n",
      "        19   60.037850\n",
      "        20   54.034065\n",
      "        21   48.630658\n",
      "        22   43.767592\n",
      "        23   39.390833\n",
      "        24   35.451749\n",
      "        25   31.906574\n",
      "        26   28.715917\n",
      "        27   25.844325\n",
      "        28   23.259892\n",
      "        29   20.933903\n",
      "        30   18.840513\n",
      "        31   16.956461\n",
      "        32   15.260815\n",
      "        33   13.734734\n",
      "        34   12.361260\n",
      "        35   11.125134\n",
      "        36   10.012621\n",
      "        37    9.011359\n",
      "        38    8.110223\n",
      "        39    7.299200\n",
      "        40    6.569280\n",
      "        41    5.912352\n",
      "        42    5.321117\n",
      "        43    4.789005\n",
      "        44    4.310105\n",
      "        45    3.879094\n",
      "        46    3.491185\n",
      "        47    3.142066\n",
      "        48    2.827860\n",
      "        49    2.545074\n",
      "        50    2.290566\n",
      "        51    2.061510\n",
      "        52    1.855359\n",
      "        53    1.669823\n",
      "        54    1.502841\n",
      "        55    1.352556\n",
      "        56    1.217301\n",
      "        57    1.095571\n",
      "        58    0.986014\n",
      "        59    0.887412\n",
      "        60    0.798671\n",
      "        61    0.718804\n",
      "        62    0.646924\n",
      "        63    0.582231\n",
      "        64    0.524008\n",
      "        65    0.471607\n",
      "        66    0.424447\n",
      "        67    0.382002\n",
      "        68    0.343802\n",
      "        69    0.309422\n",
      "        70    0.278479\n",
      "        71    0.250631\n",
      "        72    0.225568\n",
      "        73    0.203011\n",
      "        74    0.182710\n",
      "        75    0.164439\n",
      "        76    0.147995\n",
      "        77    0.133196\n",
      "        78    0.119876\n",
      "        79    0.107889\n",
      "        80    0.097100\n",
      "        81    0.087390\n",
      "        82    0.078651\n",
      "        83    0.070786\n",
      "        84    0.063707\n",
      "        85    0.057336\n",
      "        86    0.051603\n",
      "        87    0.046443\n",
      "        88    0.041798\n",
      "        89    0.037618\n",
      "        90    0.033857\n",
      "        91    0.030471\n",
      "        92    0.027424\n",
      "        93    0.024681\n",
      "        94    0.022213\n",
      "        95    0.019992\n",
      "        96    0.017993\n",
      "        97    0.016194\n",
      "        98    0.014574\n",
      "        99    0.013117\n",
      "       100    0.011805\n",
      "       101    0.010625\n",
      "       102    0.009562\n",
      "       103    0.008606\n",
      "       104    0.007745\n",
      "       105    0.006971\n",
      "       106    0.006274\n",
      "       107    0.005646\n",
      "       108    0.005082\n",
      "       109    0.004574\n",
      "       110    0.004116\n",
      "       111    0.003705\n",
      "       112    0.003334\n",
      "       113    0.003001\n",
      "       114    0.002701\n",
      "       115    0.002431\n",
      "       116    0.002188\n",
      "       117    0.001969\n",
      "       118    0.001772\n",
      "       119    0.001595\n",
      "       120    0.001435\n",
      "       121    0.001292\n",
      "       122    0.001163\n",
      "       123    0.001046\n",
      "       124    0.000942\n",
      "       125    0.000847\n",
      "       126    0.000763\n",
      "       127    0.000686\n",
      "       128    0.000618\n",
      "       129    0.000556\n",
      "       130    0.000500\n",
      "       131    0.000450\n",
      "       132    0.000405\n",
      "       133    0.000365\n",
      "       134    0.000328\n",
      "       135    0.000295\n",
      "       136    0.000266\n",
      "       137    0.000239\n",
      "       138    0.000215\n",
      "       139    0.000194\n",
      "       140    0.000174\n",
      "       141    0.000157\n",
      "       142    0.000141\n",
      "       143    0.000127\n",
      "       144    0.000114\n",
      "       145    0.000103\n",
      "       146    0.000093\n",
      "       147    0.000083\n",
      "       148    0.000075\n",
      "       149    0.000068\n",
      "       150    0.000061\n",
      "       151    0.000055\n",
      "       152    0.000049\n",
      "       153    0.000044\n",
      "       154    0.000040\n",
      "       155    0.000036\n",
      "       156    0.000032\n",
      "       157    0.000029\n",
      "       158    0.000026\n",
      "       159    0.000024\n",
      "       160    0.000021\n",
      "       161    0.000019\n",
      "       162    0.000017\n",
      "       163    0.000015\n",
      "       164    0.000014\n",
      "       165    0.000013\n",
      "       166    0.000011\n",
      "       167    0.000010\n",
      "       168    0.000009\n",
      "       169    0.000008\n",
      "       170    0.000007\n",
      "       171    0.000007\n",
      "       172    0.000006\n",
      "       173    0.000005\n",
      "       174    0.000005\n",
      "       175    0.000004\n",
      "       176    0.000004\n",
      "       177    0.000004\n",
      "       178    0.000003\n",
      "       179    0.000003\n",
      "       180    0.000003\n",
      "       181    0.000002\n",
      "       182    0.000002\n",
      "       183    0.000002\n",
      "       184    0.000002\n",
      "       185    0.000002\n",
      "       186    0.000001\n",
      "       187    0.000001\n",
      "       188    0.000001\n",
      "       189    0.000001\n",
      "       190    0.000001\n",
      "       191    0.000001\n",
      "       192    0.000001\n",
      "       193    0.000001\n",
      "       194    0.000001\n",
      "       195    0.000001\n",
      "       196    0.000000\n",
      "       197    0.000000\n",
      "       198    0.000000\n",
      "       199    0.000000\n",
      "       200    0.000000\n",
      "       201    0.000000\n",
      "       202    0.000000\n",
      "       203    0.000000\n",
      "       204    0.000000\n",
      "       205    0.000000\n",
      "       206    0.000000\n",
      "       207    0.000000\n",
      "       208    0.000000\n",
      "       209    0.000000\n",
      "       210    0.000000\n",
      "       211    0.000000\n",
      "       212    0.000000\n",
      "       213    0.000000\n",
      "       214    0.000000\n",
      "       215    0.000000\n",
      "       216    0.000000\n",
      "       217    0.000000\n",
      "       218    0.000000\n",
      "       219    0.000000\n",
      "       220    0.000000\n",
      "       221    0.000000\n",
      "       222    0.000000\n",
      "       223    0.000000\n",
      "       224    0.000000\n",
      "       225    0.000000\n",
      "       226    0.000000\n",
      "       227    0.000000\n",
      "       228    0.000000\n",
      "       229    0.000000\n",
      "       230    0.000000\n",
      "       231    0.000000\n",
      "       232    0.000000\n",
      "       233    0.000000\n",
      "       234    0.000000\n",
      "       235    0.000000\n",
      "       236    0.000000\n",
      "       237    0.000000\n",
      "       238    0.000000\n",
      "       239    0.000000\n",
      "       240    0.000000\n",
      "       241    0.000000\n",
      "       242    0.000000\n",
      "       243    0.000000\n",
      "       244    0.000000\n",
      "       245    0.000000\n",
      "       246    0.000000\n",
      "       247    0.000000\n",
      "       248    0.000000\n",
      "       249    0.000000\n",
      "       250    0.000000\n",
      "       251    0.000000\n",
      "       252    0.000000\n",
      "       253    0.000000\n",
      "       254    0.000000\n",
      "       255    0.000000\n",
      "       256    0.000000\n",
      "       257    0.000000\n",
      "       258    0.000000\n",
      "       259    0.000000\n",
      "       260    0.000000\n",
      "       261    0.000000\n",
      "       262    0.000000\n",
      "       263    0.000000\n",
      "       264    0.000000\n",
      "       265    0.000000\n",
      "       266    0.000000\n",
      "       267    0.000000\n",
      "       268    0.000000\n",
      "       269    0.000000\n",
      "       270    0.000000\n",
      "       271    0.000000\n",
      "       272    0.000000\n",
      "       273    0.000000\n",
      "       274    0.000000\n",
      "       275    0.000000\n",
      "       276    0.000000\n",
      "       277    0.000000\n",
      "       278    0.000000\n",
      "       279    0.000000\n",
      "       280    0.000000\n",
      "       281    0.000000\n",
      "       282    0.000000\n",
      "       283    0.000000\n",
      "       284    0.000000\n",
      "       285    0.000000\n",
      "       286    0.000000\n",
      "       287    0.000000\n",
      "       288    0.000000\n",
      "       289    0.000000\n",
      "       290    0.000000\n",
      "       291    0.000000\n",
      "       292    0.000000\n",
      "       293    0.000000\n",
      "       294    0.000000\n",
      "       295    0.000000\n",
      "       296    0.000000\n",
      "       297    0.000000\n",
      "       298    0.000000\n",
      "       299    0.000000\n",
      "       300    0.000000\n",
      "       301    0.000000\n",
      "       302    0.000000\n",
      "       303    0.000000\n",
      "       304    0.000000\n",
      "       305    0.000000\n",
      "       306    0.000000\n",
      "Iterating stopped due to maximum number of iterations condition.\n"
     ]
    },
    {
     "data": {
      "text/plain": [
       "336"
      ]
     },
     "execution_count": 178,
     "metadata": {},
     "output_type": "execute_result"
    },
    {
     "data": {
      "image/png": "[encoded data removed]",
      "text/plain": [
       "<Figure size 432x288 with 2 Axes>"
      ]
     },
     "metadata": {
      "needs_background": "light"
     },
     "output_type": "display_data"
    }
   ],
   "source": [
    "#P, R = example.forest(S=500, r1=200, r2=20, p=0.1, is_sparse=False)\n",
    "gamma = 0.999999996\n",
    "vi = mdp.ValueIteration(P, R, gamma, epsilon=0.001,max_iter = 100000)\n",
    "vi.setVerbose()\n",
    "result = vi.run()\n",
    "result,error,reward = vi_plot(result)\n",
    "sum(vi.policy)"
   ]
  },
  {
   "cell_type": "code",
   "execution_count": 180,
   "metadata": {
    "scrolled": true
   },
   "outputs": [
    {
     "name": "stdout",
     "output_type": "stream",
     "text": [
      " Iteration   Variation\n",
      "         1           1\n",
      "         2           1\n",
      "         3           1\n",
      "         4           1\n",
      "         5           1\n",
      "         6           1\n",
      "         7           1\n",
      "         8           1\n",
      "         9           1\n",
      "        10           1\n",
      "        11           1\n",
      "        12           1\n",
      "        13           1\n",
      "        14           1\n",
      "        15           1\n",
      "        16           1\n",
      "        17           1\n",
      "        18           1\n",
      "        19           1\n",
      "        20           1\n",
      "        21           1\n",
      "        22           1\n",
      "        23           1\n",
      "        24           1\n",
      "        25           1\n",
      "        26           1\n",
      "        27           1\n",
      "        28           1\n",
      "        29           1\n",
      "        30           1\n",
      "        31           1\n",
      "        32           1\n",
      "        33           1\n",
      "        34           1\n",
      "        35           1\n",
      "        36           1\n",
      "        37           1\n",
      "        38           1\n",
      "        39           1\n",
      "        40           1\n",
      "        41           1\n",
      "        42           1\n",
      "        43           1\n",
      "        44           1\n",
      "        45           1\n",
      "        46           1\n",
      "        47           1\n",
      "        48           1\n",
      "        49           1\n",
      "        50           1\n",
      "        51           1\n",
      "        52           1\n",
      "        53           1\n",
      "        54           1\n",
      "        55           1\n",
      "        56           1\n",
      "        57           1\n",
      "        58           1\n",
      "        59           1\n",
      "        60           1\n",
      "        61           1\n",
      "        62           1\n",
      "        63           0\n",
      "Iterating stopped, unchanging policy found.\n"
     ]
    },
    {
     "data": {
      "text/plain": [
       "336"
      ]
     },
     "execution_count": 180,
     "metadata": {},
     "output_type": "execute_result"
    },
    {
     "data": {
      "image/png": "[encoded data removed]",
      "text/plain": [
       "<Figure size 432x288 with 2 Axes>"
      ]
     },
     "metadata": {
      "needs_background": "light"
     },
     "output_type": "display_data"
    }
   ],
   "source": [
    "gamma = 0.999999996\n",
    "\n",
    "pi = mdp.PolicyIteration(P, R, gamma)\n",
    "pi.setVerbose()\n",
    "pi_result = pi.run()\n",
    "pi_result,pi_error,pi_reward = vi_plot(pi_result)\n",
    "sum(pi.policy)"
   ]
  },
  {
   "cell_type": "code",
   "execution_count": 188,
   "metadata": {},
   "outputs": [
    {
     "ename": "TypeError",
     "evalue": "unsupported operand type(s) for /: 'list' and 'int'",
     "output_type": "error",
     "traceback": [
      "\u001b[1;31m---------------------------------------------------------------------------\u001b[0m",
      "\u001b[1;31mTypeError\u001b[0m                                 Traceback (most recent call last)",
      "\u001b[1;32m<ipython-input-188-bd792aded475>\u001b[0m in \u001b[0;36m<module>\u001b[1;34m\u001b[0m\n\u001b[1;32m----> 1\u001b[1;33m \u001b[0mpi_meanv\u001b[0m\u001b[1;33m/\u001b[0m\u001b[1;36m2\u001b[0m\u001b[1;33m\u001b[0m\u001b[1;33m\u001b[0m\u001b[0m\n\u001b[0m",
      "\u001b[1;31mTypeError\u001b[0m: unsupported operand type(s) for /: 'list' and 'int'"
     ]
    }
   ],
   "source": [
    "pi_meanv/2"
   ]
  },
  {
   "cell_type": "code",
   "execution_count": 196,
   "metadata": {},
   "outputs": [
    {
     "data": {
      "text/plain": [
       "Text(0.5, 1.0, 'VI, PI Delta convergence Plot')"
      ]
     },
     "execution_count": 196,
     "metadata": {},
     "output_type": "execute_result"
    },
    {
     "data": {
      "image/png": "[encoded data removed]",
      "text/plain": [
       "<Figure size 432x288 with 1 Axes>"
      ]
     },
     "metadata": {
      "needs_background": "light"
     },
     "output_type": "display_data"
    }
   ],
   "source": [
    "vi_meanv = [i['Mean V'] for i in result]\n",
    "pi_meanv = [i['Mean V']/200000 for i in pi_result]\n",
    "vi_error = [i['Error'] for i in result]\n",
    "pi_error = [i['Error'] for i in pi_result]\n",
    "vi_time = [i['Time'] for i in result]\n",
    "pi_time = [i['Time'] for i in pi_result]\n",
    "\n",
    "plt.plot(vi_meanv,label = 'VI Mean V')\n",
    "plt.plot(pi_meanv,label = 'PI Mean V')\n",
    "plt.plot(vi_error,label = 'VI Error')\n",
    "plt.plot(pi_error,label = 'PI Error')\n",
    "plt.plot()\n",
    "plt.legend(loc='best')\n",
    "plt.title('VI, PI Delta convergence Plot')"
   ]
  },
  {
   "cell_type": "code",
   "execution_count": 203,
   "metadata": {},
   "outputs": [
    {
     "data": {
      "text/plain": [
       "Text(0.5, 1.0, 'VI Mean V vs time')"
      ]
     },
     "execution_count": 203,
     "metadata": {},
     "output_type": "execute_result"
    },
    {
     "data": {
      "image/png": "[encoded data removed]",
      "text/plain": [
       "<Figure size 432x288 with 1 Axes>"
      ]
     },
     "metadata": {
      "needs_background": "light"
     },
     "output_type": "display_data"
    }
   ],
   "source": [
    "plt.plot(vi_time,vi_meanv,label = 'VI Mean V')\n",
    "#plt.plot(pi_time,pi_meanv,label = 'PI Mean V')\n",
    "# plt.plot(vi_error,label = 'VI Error')\n",
    "# plt.plot(pi_error,label = 'PI Error')\n",
    "plt.plot()\n",
    "plt.legend(loc='best')\n",
    "plt.title('VI Mean V vs time')"
   ]
  },
  {
   "cell_type": "code",
   "execution_count": 197,
   "metadata": {},
   "outputs": [
    {
     "data": {
      "text/plain": [
       "Text(0.5, 1.0, 'PI Mean V vs time')"
      ]
     },
     "execution_count": 197,
     "metadata": {},
     "output_type": "execute_result"
    },
    {
     "data": {
      "image/png": "[encoded data removed]",
      "text/plain": [
       "<Figure size 432x288 with 1 Axes>"
      ]
     },
     "metadata": {
      "needs_background": "light"
     },
     "output_type": "display_data"
    }
   ],
   "source": [
    "#plt.plot(vi_time,vi_meanv,label = 'VI Mean V')\n",
    "plt.plot(pi_time,pi_meanv,label = 'PI Mean V')\n",
    "# plt.plot(vi_error,label = 'VI Error')\n",
    "# plt.plot(pi_error,label = 'PI Error')\n",
    "plt.plot()\n",
    "plt.legend(loc='best')\n",
    "plt.title('PI Mean V vs time')"
   ]
  },
  {
   "cell_type": "code",
   "execution_count": 204,
   "metadata": {},
   "outputs": [
    {
     "data": {
      "text/plain": [
       "[592.1053186236387,\n",
       " 592.1053635578478,\n",
       " 592.1054039920562,\n",
       " 592.1054403762654,\n",
       " 592.1054731154737,\n",
       " 592.1055025741825,\n",
       " 592.105529080442,\n",
       " 592.1055529294954,\n",
       " 592.1055743870651,\n",
       " 592.1055936922991,\n",
       " 592.1056110604299,\n",
       " 592.1056266851695,\n",
       " 592.1056407408556,\n",
       " 592.1056533843937,\n",
       " 592.1056647569998,\n",
       " 592.1056749857654,\n",
       " 592.1056841850765,\n",
       " 592.1056924578771,\n",
       " 592.1056998968181,\n",
       " 592.1057065852864,\n",
       " 592.105712598329,\n",
       " 592.1057180034887,\n",
       " 592.1057228615529,\n",
       " 592.1057272272321,\n",
       " 592.1057311497639,\n",
       " 592.1057346734639,\n",
       " 592.1057378382154,\n",
       " 592.1057406799118,\n",
       " 592.1057432308606,\n",
       " 592.1057455201347,\n",
       " 592.1057475739029,\n",
       " 592.1057494157147,\n",
       " 592.1057510667678,\n",
       " 592.1057525461354,\n",
       " 592.105753870988,\n",
       " 592.1057550567757,\n",
       " 592.1057561174064,\n",
       " 592.1057570653946,\n",
       " 592.1057579120047,\n",
       " 592.1057586673758,\n",
       " 592.1057593406304,\n",
       " 592.1057599399799,\n",
       " 592.1057604728165,\n",
       " 592.1057609457902,\n",
       " 592.105761364887,\n",
       " 592.1057617354955,\n",
       " 592.1057620624644,\n",
       " 592.1057623501578,\n",
       " 592.1057626025021,\n",
       " 592.1057628230335,\n",
       " 592.1057630149327,\n",
       " 592.1057631810635,\n",
       " 592.1057633240018,\n",
       " 592.105763446067,\n",
       " 592.1057635493471,\n",
       " 592.1057636357206,\n",
       " 592.1057637068775,\n",
       " 592.1057637643393,\n",
       " 592.1057638094768,\n",
       " 592.1057638435208,\n",
       " 592.1057638675823,\n",
       " 592.1057638826582,\n",
       " 592.1057638896472]"
      ]
     },
     "execution_count": 204,
     "metadata": {},
     "output_type": "execute_result"
    }
   ],
   "source": [
    "pi_meanv"
   ]
  },
  {
   "cell_type": "code",
   "execution_count": null,
   "metadata": {},
   "outputs": [],
   "source": []
  }
 ],
 "metadata": {
  "kernelspec": {
   "display_name": "Python 3",
   "language": "python",
   "name": "python3"
  },
  "language_info": {
   "codemirror_mode": {
    "name": "ipython",
    "version": 3
   },
   "file_extension": ".py",
   "mimetype": "text/x-python",
   "name": "python",
   "nbconvert_exporter": "python",
   "pygments_lexer": "ipython3",
   "version": "3.7.4"
  }
 },
 "nbformat": 4,
 "nbformat_minor": 2
}
