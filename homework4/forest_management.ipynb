{
 "cells": [
  {
   "cell_type": "code",
   "execution_count": 31,
   "metadata": {},
   "outputs": [],
   "source": [
    "#import mdptoolbox.example\n",
    "import hiive.mdptoolbox.example as example\n",
    "import hiive.mdptoolbox.mdp as mdp\n",
    "import numpy as np\n",
    "#import hiive.mdptoolbox, hiive.mdptoolbox.example\n",
    "from matplotlib import pyplot as plt\n",
    "%matplotlib inline"
   ]
  },
  {
   "cell_type": "code",
   "execution_count": 2,
   "metadata": {},
   "outputs": [],
   "source": [
    "def vi_plot(mol):\n",
    "    #vi = mdp.ValueIteration(pp,rr,0.96)\n",
    "    #result = mol.run_forest()\n",
    "    result = mol.run()\n",
    "#     try:\n",
    "#         result = mol.run_forest()\n",
    "#         print('here')\n",
    "#     except:\n",
    "#         result = mol.run()\n",
    "    errors = [i['Error'] for i in result]\n",
    "    vi_re = [i['Reward'] for i in result]\n",
    "    ax1 = plt.subplot(211)\n",
    "    plt.plot(errors)\n",
    "    #plt.setp(ax1.get_xticklabels(), fontsize=6)\n",
    "    ax1.set_title('error')\n",
    "    # share x only\n",
    "    ax2 = plt.subplot(212)\n",
    "    plt.plot(vi_re)\n",
    "    # make these tick labels invisible\n",
    "    #plt.setp(ax2.get_xticklabels(), visible=False)\n",
    "    ax2.set_title('rewards')\n",
    "    \n",
    "    plt.plot()\n",
    "    #plt.title('MDP result')\n",
    "    return result,errors,vi_re"
   ]
  },
  {
   "cell_type": "code",
   "execution_count": 3,
   "metadata": {},
   "outputs": [],
   "source": [
    "P, R = example.forest(S=400, r1=400, r2=200, p=0.1, is_sparse=False)"
   ]
  },
  {
   "cell_type": "code",
   "execution_count": 13,
   "metadata": {
    "scrolled": true
   },
   "outputs": [
    {
     "data": {
      "image/png": "[encoded data removed]",
      "text/plain": [
       "<Figure size 432x288 with 2 Axes>"
      ]
     },
     "metadata": {
      "needs_background": "light"
     },
     "output_type": "display_data"
    }
   ],
   "source": [
    "n_iter = 1000000\n",
    "ql = mdp.QLearning(P, R, 0.999999996 , n_iter=n_iter,\n",
    "                   epsilon=1,epsilon_decay=0.99,epsilon_min=0.1,\n",
    "                   alpha_decay=0.999,alpha = 1,alpha_min=0.01\n",
    "                   ,run_stat_frequency=1)\n",
    "ql.setVerbose()\n",
    "ql_result,ql_error,ql_reward = vi_plot(ql)"
   ]
  },
  {
   "cell_type": "code",
   "execution_count": 14,
   "metadata": {},
   "outputs": [
    {
     "data": {
      "text/plain": [
       "229"
      ]
     },
     "execution_count": 14,
     "metadata": {},
     "output_type": "execute_result"
    }
   ],
   "source": [
    "sum(ql.policy)"
   ]
  },
  {
   "cell_type": "code",
   "execution_count": 22,
   "metadata": {},
   "outputs": [],
   "source": [
    "import pandas as pd"
   ]
  },
  {
   "cell_type": "code",
   "execution_count": 23,
   "metadata": {},
   "outputs": [],
   "source": [
    "qlp = pd.DataFrame(ql.policy)"
   ]
  },
  {
   "cell_type": "code",
   "execution_count": 24,
   "metadata": {},
   "outputs": [
    {
     "data": {
      "text/plain": [
       "{'State': 265,\n",
       " 'Action': 0,\n",
       " 'Reward': 0.0,\n",
       " 'Error': 0.0,\n",
       " 'Time': 0.012967109680175781,\n",
       " 'Alpha': 0.9056978449586682,\n",
       " 'Epsilon': 0.36972963764972655,\n",
       " 'Gamma': 0.999999996,\n",
       " 'Max V': 16.44970280149264,\n",
       " 'Mean V': 0.15194856418021915,\n",
       " 'Iteration': 100}"
      ]
     },
     "execution_count": 24,
     "metadata": {},
     "output_type": "execute_result"
    }
   ],
   "source": [
    "ql_result[0]"
   ]
  },
  {
   "cell_type": "code",
   "execution_count": 26,
   "metadata": {},
   "outputs": [],
   "source": [
    "states = [i['State'] for i in ql_result]\n",
    "states = pd.DataFrame(states)"
   ]
  },
  {
   "cell_type": "code",
   "execution_count": 33,
   "metadata": {},
   "outputs": [
    {
     "data": {
      "text/plain": [
       "189"
      ]
     },
     "execution_count": 33,
     "metadata": {},
     "output_type": "execute_result"
    }
   ],
   "source": [
    "sum(ql.policy)"
   ]
  },
  {
   "cell_type": "code",
   "execution_count": null,
   "metadata": {},
   "outputs": [],
   "source": [
    "sum([vi.policy[i]==ql.policy[i]] for i in range(400))"
   ]
  },
  {
   "cell_type": "code",
   "execution_count": 35,
   "metadata": {},
   "outputs": [
    {
     "data": {
      "text/plain": [
       "0.1"
      ]
     },
     "execution_count": 35,
     "metadata": {},
     "output_type": "execute_result"
    }
   ],
   "source": [
    "a"
   ]
  },
  {
   "cell_type": "code",
   "execution_count": 36,
   "metadata": {},
   "outputs": [
    {
     "data": {
      "text/plain": [
       "1"
      ]
     },
     "execution_count": 36,
     "metadata": {},
     "output_type": "execute_result"
    }
   ],
   "source": [
    "e"
   ]
  },
  {
   "cell_type": "code",
   "execution_count": 27,
   "metadata": {},
   "outputs": [
    {
     "ename": "AttributeError",
     "evalue": "'DataFrame' object has no attribute 'value_counts'",
     "output_type": "error",
     "traceback": [
      "\u001b[1;31m---------------------------------------------------------------------------\u001b[0m",
      "\u001b[1;31mAttributeError\u001b[0m                            Traceback (most recent call last)",
      "\u001b[1;32m<ipython-input-27-e6b9fb4897a9>\u001b[0m in \u001b[0;36m<module>\u001b[1;34m\u001b[0m\n\u001b[1;32m----> 1\u001b[1;33m \u001b[0mstates\u001b[0m\u001b[1;33m.\u001b[0m\u001b[0mvalue_counts\u001b[0m\u001b[1;33m(\u001b[0m\u001b[1;33m)\u001b[0m\u001b[1;33m\u001b[0m\u001b[1;33m\u001b[0m\u001b[0m\n\u001b[0m",
      "\u001b[1;32m~\\Anaconda3\\lib\\site-packages\\pandas\\core\\generic.py\u001b[0m in \u001b[0;36m__getattr__\u001b[1;34m(self, name)\u001b[0m\n\u001b[0;32m   5177\u001b[0m             \u001b[1;32mif\u001b[0m \u001b[0mself\u001b[0m\u001b[1;33m.\u001b[0m\u001b[0m_info_axis\u001b[0m\u001b[1;33m.\u001b[0m\u001b[0m_can_hold_identifiers_and_holds_name\u001b[0m\u001b[1;33m(\u001b[0m\u001b[0mname\u001b[0m\u001b[1;33m)\u001b[0m\u001b[1;33m:\u001b[0m\u001b[1;33m\u001b[0m\u001b[1;33m\u001b[0m\u001b[0m\n\u001b[0;32m   5178\u001b[0m                 \u001b[1;32mreturn\u001b[0m \u001b[0mself\u001b[0m\u001b[1;33m[\u001b[0m\u001b[0mname\u001b[0m\u001b[1;33m]\u001b[0m\u001b[1;33m\u001b[0m\u001b[1;33m\u001b[0m\u001b[0m\n\u001b[1;32m-> 5179\u001b[1;33m             \u001b[1;32mreturn\u001b[0m \u001b[0mobject\u001b[0m\u001b[1;33m.\u001b[0m\u001b[0m__getattribute__\u001b[0m\u001b[1;33m(\u001b[0m\u001b[0mself\u001b[0m\u001b[1;33m,\u001b[0m \u001b[0mname\u001b[0m\u001b[1;33m)\u001b[0m\u001b[1;33m\u001b[0m\u001b[1;33m\u001b[0m\u001b[0m\n\u001b[0m\u001b[0;32m   5180\u001b[0m \u001b[1;33m\u001b[0m\u001b[0m\n\u001b[0;32m   5181\u001b[0m     \u001b[1;32mdef\u001b[0m \u001b[0m__setattr__\u001b[0m\u001b[1;33m(\u001b[0m\u001b[0mself\u001b[0m\u001b[1;33m,\u001b[0m \u001b[0mname\u001b[0m\u001b[1;33m,\u001b[0m \u001b[0mvalue\u001b[0m\u001b[1;33m)\u001b[0m\u001b[1;33m:\u001b[0m\u001b[1;33m\u001b[0m\u001b[1;33m\u001b[0m\u001b[0m\n",
      "\u001b[1;31mAttributeError\u001b[0m: 'DataFrame' object has no attribute 'value_counts'"
     ]
    }
   ],
   "source": [
    "states.value_counts()"
   ]
  },
  {
   "cell_type": "code",
   "execution_count": 15,
   "metadata": {},
   "outputs": [
    {
     "data": {
      "text/plain": [
       "set()"
      ]
     },
     "execution_count": 15,
     "metadata": {},
     "output_type": "execute_result"
    }
   ],
   "source": [
    "set(range(400))-set([i['State'] for i in ql_result])"
   ]
  },
  {
   "cell_type": "code",
   "execution_count": 13,
   "metadata": {},
   "outputs": [
    {
     "data": {
      "text/plain": [
       "(1, 1, 1, 0, 0, 0, 1, 0, 0, 0)"
      ]
     },
     "execution_count": 13,
     "metadata": {},
     "output_type": "execute_result"
    }
   ],
   "source": [
    "ql.policy[-10:]"
   ]
  },
  {
   "cell_type": "code",
   "execution_count": 16,
   "metadata": {},
   "outputs": [
    {
     "data": {
      "text/plain": [
       "(2412.1380188947896,\n",
       " 2412.6273544081682,\n",
       " 2401.6712819404247,\n",
       " 2162.998136651427,\n",
       " 660.2511512157654,\n",
       " 363.41572930368153,\n",
       " 287.1864854726072,\n",
       " 241.94924310796245,\n",
       " 76.45290831624213,\n",
       " 490.44970192773786,\n",
       " 376.0751991161974,\n",
       " 112.24959820172758,\n",
       " 550.2493470246321,\n",
       " 30.664924326516317,\n",
       " 120.43336697694441,\n",
       " 638.5338094993363,\n",
       " 44.06305774288941,\n",
       " 441.63310353911584,\n",
       " 231.8825282746934,\n",
       " 117.90391648046847,\n",
       " 566.6577704721868,\n",
       " 313.02974482993943,\n",
       " 272.57262816811857,\n",
       " 190.35576310425452,\n",
       " 77.60243797397874,\n",
       " 512.2072055563895,\n",
       " 218.8050054429521,\n",
       " 385.553873100441,\n",
       " 17.533779900775055,\n",
       " 63.62918211498073,\n",
       " 95.5167025279605,\n",
       " 283.79489744403617,\n",
       " 990.9227776947325,\n",
       " 346.5120993241955,\n",
       " 266.600266777992,\n",
       " 74.52704862453501,\n",
       " 506.9750468214893,\n",
       " 81.85534956498962,\n",
       " 210.74873058974737,\n",
       " 685.9873096005211,\n",
       " 318.72173401088133,\n",
       " 241.96246079720277,\n",
       " 332.2651204554433,\n",
       " 284.6616212241552,\n",
       " 276.9219421121706,\n",
       " 108.94420813429419,\n",
       " 675.3994882942735,\n",
       " 265.3890308619982,\n",
       " 291.3780192097307,\n",
       " 331.28492373951053,\n",
       " 275.42760128882014,\n",
       " 275.0083697227913,\n",
       " 302.7709730448442,\n",
       " 67.86790797783792,\n",
       " 99.32573035561566,\n",
       " 142.1726317396464,\n",
       " 156.983728170232,\n",
       " 336.55818938743954,\n",
       " 1040.3370696654647,\n",
       " 316.01525099751825,\n",
       " 210.71943570749158,\n",
       " 136.25532478941733,\n",
       " 536.070143869444,\n",
       " 325.3653765671163,\n",
       " 103.593603621638,\n",
       " 716.4978909400435,\n",
       " 61.791479750730126,\n",
       " 606.861215424759,\n",
       " 88.3513043327572,\n",
       " 383.97019423210565,\n",
       " 130.91253135606607,\n",
       " 564.0209683342558,\n",
       " 41.9512200551933,\n",
       " 437.38650970639117,\n",
       " 56.85753232964176,\n",
       " 76.42125440755495,\n",
       " 151.15664304699092,\n",
       " 260.40605466374205,\n",
       " 863.5829758284901,\n",
       " 226.8974278164911,\n",
       " 39.734687692799675,\n",
       " 155.3909812494307,\n",
       " 697.892958984762,\n",
       " 62.10714114313859,\n",
       " 527.6755514037545,\n",
       " 295.3602020580768,\n",
       " 73.1512997684523,\n",
       " 601.5379187194471,\n",
       " 268.03924445656963,\n",
       " 420.37876755942995,\n",
       " 399.24916029374185,\n",
       " 71.94115355794818,\n",
       " 457.89715042164414,\n",
       " 266.561628062242,\n",
       " 127.23813189530034,\n",
       " 579.486849718893,\n",
       " 29.21177254480159,\n",
       " 373.1775865539134,\n",
       " 269.52030076309103,\n",
       " 87.58190656009157,\n",
       " 632.92805823718,\n",
       " 236.90555609282018,\n",
       " 269.1551750169881,\n",
       " 62.93206683723483,\n",
       " 220.97833409360302,\n",
       " 685.9781379507384,\n",
       " 51.8344299070512,\n",
       " 503.9891059067848,\n",
       " 368.96328760812037,\n",
       " 43.37165279120322,\n",
       " 366.26230395001437,\n",
       " 72.1022521525941,\n",
       " 433.11908304717076,\n",
       " 61.91488680004379,\n",
       " 534.187020431762,\n",
       " 273.431412463203,\n",
       " 300.02828568938264,\n",
       " 355.57661056274367,\n",
       " 347.73578023290685,\n",
       " 53.436667673699006,\n",
       " 409.12537006232054,\n",
       " 253.72889069676626,\n",
       " 29.66447881326964,\n",
       " 87.59291572861743,\n",
       " 364.0272405127607,\n",
       " 86.55202175101412,\n",
       " 165.82334375904333,\n",
       " 203.54351141720298,\n",
       " 788.2771164933991,\n",
       " 190.6161332336189,\n",
       " 307.205411233648,\n",
       " 264.3982651170338,\n",
       " 102.93040717835657,\n",
       " 469.39473046513024,\n",
       " 224.39261502211068,\n",
       " 2.6354699605685767,\n",
       " 68.84668186443933,\n",
       " 181.06782335994723,\n",
       " 700.6648389786657,\n",
       " 90.88208258537769,\n",
       " 699.4729168038409,\n",
       " 115.92209431024321,\n",
       " 434.3617028452533,\n",
       " 336.6882687823846,\n",
       " 31.866288722995076,\n",
       " 427.7439984015768,\n",
       " 92.7793656113802,\n",
       " 584.2038841279755,\n",
       " 57.115238757692964,\n",
       " 82.09249436194767,\n",
       " 260.60060730466995,\n",
       " 902.4503990160263,\n",
       " 324.78946795132845,\n",
       " 61.377997738984675,\n",
       " 461.5444489506121,\n",
       " 32.974560940907644,\n",
       " 154.21937663017155,\n",
       " 722.570688633781,\n",
       " 90.20705268831185,\n",
       " 573.9394463974804,\n",
       " 59.01234749574952,\n",
       " 85.30155649707496,\n",
       " 122.31275494024673,\n",
       " 257.1820116994359,\n",
       " 906.1265740813144,\n",
       " 86.87429373612729,\n",
       " 629.3378136068752,\n",
       " 429.9765406814694,\n",
       " 335.8607786399456,\n",
       " 235.1734576261601,\n",
       " 63.0562188492444,\n",
       " 522.7061388634002,\n",
       " 65.9457253145885,\n",
       " 476.4245465023188,\n",
       " 59.137751179622484,\n",
       " 487.8094897209666,\n",
       " 283.78393702039995,\n",
       " 299.31668993535425,\n",
       " 49.352464169776724,\n",
       " 215.40298688755894,\n",
       " 817.8639774925838,\n",
       " 459.79411723851854,\n",
       " 221.83387571277925,\n",
       " 199.41734392971634,\n",
       " 390.25424294696865,\n",
       " 57.70643115491261,\n",
       " 505.4077230770332,\n",
       " 274.4145694534791,\n",
       " 29.629005851206855,\n",
       " 105.54009270070571,\n",
       " 521.8131042403733,\n",
       " 138.99941714293033,\n",
       " 460.3712783972626,\n",
       " 167.0971227375619,\n",
       " 324.7287292353641,\n",
       " 186.81354657641583,\n",
       " 94.4558059534422,\n",
       " 47.64192249770943,\n",
       " 150.014938559385,\n",
       " 307.9539539083727,\n",
       " 851.3623865825153,\n",
       " 406.4887954349709,\n",
       " 289.2941669865295,\n",
       " 26.102244473993135,\n",
       " 150.4099190205648,\n",
       " 669.0199322073373,\n",
       " 49.136355761396715,\n",
       " 171.33329647523828,\n",
       " 792.1060986628544,\n",
       " 76.9083235267121,\n",
       " 460.1283549955745,\n",
       " 268.4950732742683,\n",
       " 360.1725689457057,\n",
       " 156.73890446328843,\n",
       " 72.44108879951312,\n",
       " 253.05144979198855,\n",
       " 844.201500024162,\n",
       " 65.76940428934624,\n",
       " 87.7083190688524,\n",
       " 79.53439110490257,\n",
       " 224.2352856907855,\n",
       " 879.4988515380771,\n",
       " 117.01801905477203,\n",
       " 566.086008984578,\n",
       " 2.9298510569173906,\n",
       " 58.38145713496449,\n",
       " 244.8565693356988,\n",
       " 899.1177598433485,\n",
       " 353.7031582739182,\n",
       " 109.79408557095275,\n",
       " 586.9142120054739,\n",
       " 102.42544079252639,\n",
       " 404.60784726078725,\n",
       " 51.09365158245787,\n",
       " 99.75768900335525,\n",
       " 157.55412546233796,\n",
       " 366.21860167377406,\n",
       " 961.5993055605549,\n",
       " 275.7586100362534,\n",
       " 295.9296186910541,\n",
       " 284.30018546693697,\n",
       " 447.6431364900547,\n",
       " 26.499060674812426,\n",
       " 81.49696295053724,\n",
       " 522.163126303741,\n",
       " 480.50967653658245,\n",
       " 45.214457091396255,\n",
       " 170.2951042935448,\n",
       " 662.1517282824822,\n",
       " 15.895833351838617,\n",
       " 177.93372277805057,\n",
       " 627.7213806807928,\n",
       " 303.43711820820147,\n",
       " 41.17237333423353,\n",
       " 116.06786549827746,\n",
       " 177.85045092650796,\n",
       " 728.8879747542024,\n",
       " 87.64151556242942,\n",
       " 542.7867406767158,\n",
       " 353.65853223531116,\n",
       " 268.316620138375,\n",
       " 347.17222601591857,\n",
       " 123.69180246195404,\n",
       " 696.5643221338706,\n",
       " 365.5876823095801,\n",
       " 353.9737345827565,\n",
       " 157.35167063221846,\n",
       " 690.638914100346,\n",
       " 213.13640922202552,\n",
       " 319.6840761313193,\n",
       " 69.25154102962678,\n",
       " 52.948039276299,\n",
       " 169.09227945762237,\n",
       " 769.0517305604948,\n",
       " 61.052298613283305,\n",
       " 496.3668779285416,\n",
       " 44.34471687205233,\n",
       " 128.07827518564687,\n",
       " 708.2589374503569,\n",
       " 304.5881216622453,\n",
       " 254.5996407859441,\n",
       " 48.71693170345469,\n",
       " 417.7963573656858,\n",
       " 14.58186748564424,\n",
       " 117.89010170784209,\n",
       " 780.3933799055411,\n",
       " 105.59041255612796,\n",
       " 660.8115973970503,\n",
       " 63.400293773726126,\n",
       " 142.85414430398092,\n",
       " 600.2155712640584,\n",
       " 101.55071215371912,\n",
       " 569.7947082775105,\n",
       " 126.66594044091701,\n",
       " 576.9263093805225,\n",
       " 54.2891101485016,\n",
       " 455.67922368535665,\n",
       " 84.50143072626963,\n",
       " 533.4236132495092,\n",
       " 354.9678768520923,\n",
       " 199.0965843297251,\n",
       " 370.1028962014242,\n",
       " 282.99743783932,\n",
       " 301.4350585481348,\n",
       " 46.633193555710896,\n",
       " 478.0662924902225,\n",
       " 19.433048783971792,\n",
       " 266.11974300403415,\n",
       " 103.3279895907245,\n",
       " 139.30370161629182,\n",
       " 274.6902012101204,\n",
       " 874.3639105945227,\n",
       " 63.257344715932035,\n",
       " 529.3735666220441,\n",
       " 198.61118540542745,\n",
       " 311.4627378332341,\n",
       " 186.6571896068095,\n",
       " 222.4271726072931,\n",
       " 404.0941796665629,\n",
       " 62.5854089762194,\n",
       " 431.19074028605553,\n",
       " 83.00086067457619,\n",
       " 508.5193961478502,\n",
       " 344.8931022707598,\n",
       " 24.341575360735668,\n",
       " 74.33257803459095,\n",
       " 210.78852371201225,\n",
       " 823.4656288040071,\n",
       " 64.40333626263045,\n",
       " 541.6186851245458,\n",
       " 55.38604404848658,\n",
       " 599.7467167543805,\n",
       " 60.770549726029316,\n",
       " 57.203708345471284,\n",
       " 238.28574600344248,\n",
       " 784.8258435755023,\n",
       " 46.021820303670964,\n",
       " 151.26511331349838,\n",
       " 719.1180876264887,\n",
       " 58.28734926575314,\n",
       " 503.08166372717716,\n",
       " 318.0679258184414,\n",
       " 353.9366419324494,\n",
       " 378.07413412190147,\n",
       " 211.88263716602688,\n",
       " 36.758430935294726,\n",
       " 192.02878008177865,\n",
       " 770.1834990273567,\n",
       " 55.04476971429088,\n",
       " 443.56862741873607,\n",
       " 328.76327068921586,\n",
       " 78.2384244819159,\n",
       " 591.6310387990695,\n",
       " 320.4630847087513,\n",
       " 204.0343944161191,\n",
       " 113.87159361119664,\n",
       " 447.4394917878705,\n",
       " 349.9759016550893,\n",
       " 65.32573646956892,\n",
       " 425.7541476979074,\n",
       " 41.346483098875005,\n",
       " 487.9301154435259,\n",
       " 66.50488132467065,\n",
       " 486.29752305935733,\n",
       " 230.53827927729662,\n",
       " 84.90293390669764,\n",
       " 535.765457501656,\n",
       " 229.12137763040175,\n",
       " 164.33448377117008,\n",
       " 378.9657881203839,\n",
       " 83.59170846339713,\n",
       " 599.2730879813226,\n",
       " 115.37133717951643,\n",
       " 488.62600891977,\n",
       " 67.40308472933532,\n",
       " 309.52815912310325,\n",
       " 213.71573248465702,\n",
       " 381.4923844301343,\n",
       " 125.77200271370583,\n",
       " 570.0048979501494,\n",
       " 397.619207186683,\n",
       " 278.7841162706978,\n",
       " 70.10686084552114,\n",
       " 47.43528311462489,\n",
       " 191.23870511398692,\n",
       " 800.519961631234,\n",
       " 74.04840658915789,\n",
       " 95.49843068011087,\n",
       " 119.59049357007218,\n",
       " 300.48832538975813,\n",
       " 889.171578665183,\n",
       " 351.0071292282122,\n",
       " 322.8386914275451,\n",
       " 89.63261353945873,\n",
       " 46.76629379484368,\n",
       " 128.11911727090256,\n",
       " 226.72512851773536,\n",
       " 824.5210041521129,\n",
       " 102.6457267265247,\n",
       " 698.4683989441265)"
      ]
     },
     "execution_count": 16,
     "metadata": {},
     "output_type": "execute_result"
    }
   ],
   "source": [
    "ql.V"
   ]
  },
  {
   "cell_type": "code",
   "execution_count": null,
   "metadata": {},
   "outputs": [],
   "source": []
  },
  {
   "cell_type": "code",
   "execution_count": null,
   "metadata": {},
   "outputs": [],
   "source": []
  },
  {
   "cell_type": "code",
   "execution_count": 43,
   "metadata": {},
   "outputs": [
    {
     "data": {
      "text/plain": [
       "(array([[[0.1, 0.9, 0. ],\n",
       "         [0.1, 0. , 0.9],\n",
       "         [0.1, 0. , 0.9]],\n",
       " \n",
       "        [[1. , 0. , 0. ],\n",
       "         [1. , 0. , 0. ],\n",
       "         [1. , 0. , 0. ]]]), array([[0., 0.],\n",
       "        [0., 1.],\n",
       "        [4., 2.]]))"
      ]
     },
     "execution_count": 43,
     "metadata": {},
     "output_type": "execute_result"
    }
   ],
   "source": [
    "example.forest(S=3, r1=4, r2=2, p=0.1, is_sparse=False)"
   ]
  },
  {
   "cell_type": "code",
   "execution_count": null,
   "metadata": {},
   "outputs": [],
   "source": []
  },
  {
   "cell_type": "code",
   "execution_count": 16,
   "metadata": {},
   "outputs": [],
   "source": [
    "P = np.array([[[0.5, 0.5],[0.8, 0.2]],[[0, 1],[0.1, 0.9]]])\n",
    "R = np.array([[5, 10], [-1, 2]])"
   ]
  },
  {
   "cell_type": "code",
   "execution_count": 3,
   "metadata": {},
   "outputs": [],
   "source": [
    "P, R = example.forest(S=400, r1=400, r2=200, p=0.1, is_sparse=False)"
   ]
  },
  {
   "cell_type": "code",
   "execution_count": 4,
   "metadata": {},
   "outputs": [],
   "source": [
    "P, R = example.rand(10, 3)"
   ]
  },
  {
   "cell_type": "code",
   "execution_count": 18,
   "metadata": {
    "scrolled": true
   },
   "outputs": [
    {
     "name": "stdout",
     "output_type": "stream",
     "text": [
      " Iteration   Variation\n",
      "         1  400.000000\n",
      "         2  345.600000\n",
      "         3  298.598400\n",
      "         4  257.989018\n",
      "         5  222.902511\n",
      "         6  192.587770\n",
      "         7  166.395833\n",
      "         8  143.766000\n",
      "         9  124.213824\n",
      "        10  107.320744\n",
      "        11   92.725123\n",
      "        12   80.114506\n",
      "        13   69.218933\n",
      "        14   59.805158\n",
      "        15   51.671657\n",
      "        16   44.644311\n",
      "        17   38.572685\n",
      "        18   33.326800\n",
      "        19   28.794355\n",
      "        20   24.878323\n",
      "        21   21.494871\n",
      "        22   18.571568\n",
      "        23   16.045835\n",
      "        24   13.863602\n",
      "        25   11.978152\n",
      "        26   10.349123\n",
      "        27    8.941642\n",
      "        28    7.725579\n",
      "        29    6.674900\n",
      "        30    5.767114\n",
      "        31    4.982786\n",
      "        32    4.305127\n",
      "        33    3.719630\n",
      "        34    3.213760\n",
      "        35    2.776689\n",
      "        36    2.399059\n",
      "        37    2.072787\n",
      "        38    1.790888\n",
      "        39    1.547327\n",
      "        40    1.336891\n",
      "        41    1.155074\n",
      "        42    0.997984\n",
      "        43    0.862258\n",
      "        44    0.744991\n",
      "        45    0.643672\n",
      "        46    0.556133\n",
      "        47    0.480499\n",
      "        48    0.415151\n",
      "        49    0.358690\n",
      "        50    0.309908\n",
      "        51    0.267761\n",
      "        52    0.231345\n",
      "        53    0.199882\n",
      "        54    0.172698\n",
      "        55    0.149211\n",
      "        56    0.128919\n",
      "        57    0.111386\n",
      "        58    0.096237\n",
      "        59    0.083149\n",
      "        60    0.071841\n",
      "        61    0.062070\n",
      "        62    0.053629\n",
      "        63    0.046335\n",
      "        64    0.040034\n",
      "        65    0.034589\n",
      "        66    0.029885\n",
      "        67    0.025821\n",
      "        68    0.022309\n",
      "        69    0.019275\n",
      "        70    0.016654\n",
      "        71    0.014389\n",
      "        72    0.012432\n",
      "        73    0.010741\n",
      "        74    0.009280\n",
      "        75    0.008018\n",
      "        76    0.006928\n",
      "        77    0.005986\n",
      "        78    0.005172\n",
      "        79    0.004468\n",
      "        80    0.003861\n",
      "        81    0.003335\n",
      "        82    0.002882\n",
      "        83    0.002490\n",
      "        84    0.002151\n",
      "        85    0.001859\n",
      "        86    0.001606\n",
      "        87    0.001388\n",
      "        88    0.001199\n",
      "        89    0.001036\n",
      "        90    0.000895\n",
      "        91    0.000773\n",
      "        92    0.000668\n",
      "        93    0.000577\n",
      "        94    0.000499\n",
      "        95    0.000431\n",
      "Iterating stopped due to maximum number of iterations condition.\n"
     ]
    },
    {
     "data": {
      "text/plain": [
       "353"
      ]
     },
     "execution_count": 18,
     "metadata": {},
     "output_type": "execute_result"
    },
    {
     "data": {
      "image/png": "[encoded data removed]",
      "text/plain": [
       "<Figure size 432x288 with 2 Axes>"
      ]
     },
     "metadata": {
      "needs_background": "light"
     },
     "output_type": "display_data"
    }
   ],
   "source": [
    "#P, R = example.forest(S=500, r1=200, r2=20, p=0.1, is_sparse=False)\n",
    "vi = mdp.ValueIteration(P, R, 0.96, epsilon=0.01,max_iter = 100000)\n",
    "vi.setVerbose()\n",
    "result,error,reward = vi_plot(vi)\n",
    "sum(vi.policy)"
   ]
  },
  {
   "cell_type": "code",
   "execution_count": 51,
   "metadata": {
    "scrolled": true
   },
   "outputs": [
    {
     "data": {
      "text/plain": [
       "[200.0,\n",
       " 372.79999999999995,\n",
       " 522.182144,\n",
       " 651.25627904,\n",
       " 762.8458931978239,\n",
       " 859.2726022514278,\n",
       " 942.6442510628593,\n",
       " 1014.6940339375682,\n",
       " 1076.995561350815,\n",
       " 1130.8427641272779,\n",
       " 1177.4104400723963,\n",
       " 1217.6646030959641,\n",
       " 1252.4823307964512,\n",
       " 1282.5848405999259,\n",
       " 1308.6269556555405,\n",
       " 1331.1471465879827,\n",
       " 1350.6343175717589,\n",
       " 1367.4905128347543,\n",
       " 1382.0807723256428,\n",
       " 1394.705292392864,\n",
       " 1405.6366429608233,\n",
       " 1415.098985703211,\n",
       " 1423.2958566266661,\n",
       " 1430.3946526263683,\n",
       " 1436.5473711754491,\n",
       " 1441.8790296985599,\n",
       " 1446.5031477609114,\n",
       " 1450.5131022670625,\n",
       " 1453.9936849396074,\n",
       " 1457.014649092684,\n",
       " 1459.6393373232986,\n",
       " 1461.9198642800889,\n",
       " 1463.90355727385,\n",
       " 1465.629360304212,\n",
       " 1467.132642017339,\n",
       " 1468.4425113912266,\n",
       " 1469.5854069192865,\n",
       " 1470.5830928400594,\n",
       " 1471.4553385059119,\n",
       " 1472.2184226317336,\n",
       " 1472.8871334859496,\n",
       " 1473.4736523690333,\n",
       " 1473.989046796937,\n",
       " 1474.442437069155,\n",
       " 1474.8421109691963,\n",
       " 1475.1949016541873,\n",
       " 1475.5070198157998,\n",
       " 1475.7835893171532,\n",
       " 1476.029268435848,\n",
       " 1476.247903255473,\n",
       " 1476.442991456279,\n",
       " 1476.6174236071502,\n",
       " 1476.773829415957,\n",
       " 1476.9143846362213,\n",
       " 1477.0410695715452,\n",
       " 1477.1555249609376,\n",
       " 1477.2592449789156,\n",
       " 1477.353469680954,\n",
       " 1477.439329102706,\n",
       " 1477.5177629953619,\n",
       " 1477.5896284185656,\n",
       " 1477.6556398456692,\n",
       " 1477.716449503002,\n",
       " 1477.7726026794066,\n",
       " 1477.8245977190797,\n",
       " 1477.8728526794177,\n",
       " 1477.9177501337676,\n",
       " 1477.9596122992455,\n",
       " 1477.998734498709,\n",
       " 1478.0353666099954,\n",
       " 1478.0697380607237,\n",
       " 1478.1020439951756,\n",
       " 1478.1324639471673,\n",
       " 1478.1611515274603,\n",
       " 1478.1882483762126,\n",
       " 1478.2138764773708,\n",
       " 1478.2381485863082,\n",
       " 1478.2611625042518,\n",
       " 1478.283008873709,\n",
       " 1478.3037669151333,\n",
       " 1478.3235102565334,\n",
       " 1478.3423037608509,\n",
       " 1478.3602078872816,\n",
       " 1478.3772763320876,\n",
       " 1478.3935592930986,\n",
       " 1478.4091017170294,\n",
       " 1478.423945744523,\n",
       " 1478.4381294095595,\n",
       " 1478.451688472139,\n",
       " 1478.4646554545684]"
      ]
     },
     "execution_count": 51,
     "metadata": {},
     "output_type": "execute_result"
    }
   ],
   "source": [
    "[i['Max V'] for i in result]"
   ]
  },
  {
   "cell_type": "code",
   "execution_count": 14,
   "metadata": {},
   "outputs": [],
   "source": [
    "errors = [i['Error'] for i in result]"
   ]
  },
  {
   "cell_type": "code",
   "execution_count": 18,
   "metadata": {},
   "outputs": [
    {
     "data": {
      "text/plain": [
       "[<matplotlib.lines.Line2D at 0x19cf703a1d0>]"
      ]
     },
     "execution_count": 18,
     "metadata": {},
     "output_type": "execute_result"
    },
    {
     "data": {
      "image/png": "[encoded data removed]",
      "text/plain": [
       "<Figure size 432x288 with 1 Axes>"
      ]
     },
     "metadata": {
      "needs_background": "light"
     },
     "output_type": "display_data"
    }
   ],
   "source": [
    "plt.plot(errors)"
   ]
  },
  {
   "cell_type": "code",
   "execution_count": 19,
   "metadata": {},
   "outputs": [
    {
     "data": {
      "text/plain": [
       "(3.34216629799929,\n",
       " 3.1244979594224764,\n",
       " 3.0611419359850696,\n",
       " 2.6429935755433616,\n",
       " 2.7673979690391595,\n",
       " 3.297219048138617,\n",
       " 2.6640647141112677,\n",
       " 3.054910745851874,\n",
       " 2.660934948723211,\n",
       " 2.931907896421391)"
      ]
     },
     "execution_count": 19,
     "metadata": {},
     "output_type": "execute_result"
    }
   ],
   "source": [
    "vi.V"
   ]
  },
  {
   "cell_type": "code",
   "execution_count": 34,
   "metadata": {},
   "outputs": [
    {
     "data": {
      "text/plain": [
       "(0, 0, 2, 1, 1, 2, 1, 1, 1, 2)"
      ]
     },
     "execution_count": 34,
     "metadata": {},
     "output_type": "execute_result"
    }
   ],
   "source": [
    "vi.policy"
   ]
  },
  {
   "cell_type": "code",
   "execution_count": 40,
   "metadata": {},
   "outputs": [
    {
     "data": {
      "text/plain": [
       "16"
      ]
     },
     "execution_count": 40,
     "metadata": {},
     "output_type": "execute_result"
    }
   ],
   "source": [
    "vi.iter"
   ]
  },
  {
   "cell_type": "code",
   "execution_count": 53,
   "metadata": {},
   "outputs": [],
   "source": [
    "pi = mdp.PolicyIteration(P, R, 0.9)\n",
    "pi.setVerbose()"
   ]
  },
  {
   "cell_type": "code",
   "execution_count": 54,
   "metadata": {},
   "outputs": [
    {
     "name": "stdout",
     "output_type": "stream",
     "text": [
      " Iteration   Variation\n",
      "         1           1\n",
      "         2           1\n",
      "         3           1\n",
      "         4           1\n",
      "         5           1\n",
      "         6           1\n",
      "         7           1\n",
      "         8           1\n",
      "         9           1\n",
      "        10           1\n",
      "        11           1\n",
      "        12           1\n",
      "        13           1\n",
      "        14           1\n",
      "        15           1\n",
      "        16           1\n",
      "        17           1\n",
      "        18           1\n",
      "        19           1\n",
      "        20           1\n",
      "        21           1\n",
      "        22           1\n",
      "        23           1\n",
      "        24           1\n",
      "        25           1\n",
      "        26           1\n",
      "        27           1\n",
      "        28           0\n",
      "Iterating stopped, unchanging policy found.\n"
     ]
    },
    {
     "data": {
      "image/png": "[encoded data removed]",
      "text/plain": [
       "<Figure size 432x288 with 2 Axes>"
      ]
     },
     "metadata": {
      "needs_background": "light"
     },
     "output_type": "display_data"
    }
   ],
   "source": [
    "pi_result,pi_error,pi_reward = vi_plot(pi)"
   ]
  },
  {
   "cell_type": "code",
   "execution_count": 59,
   "metadata": {},
   "outputs": [
    {
     "data": {
      "text/plain": [
       "487"
      ]
     },
     "execution_count": 59,
     "metadata": {},
     "output_type": "execute_result"
    }
   ],
   "source": [
    "sum([vi.policy[i] == pi.policy[i] for i in range(len(vi.policy))])"
   ]
  },
  {
   "cell_type": "code",
   "execution_count": 66,
   "metadata": {},
   "outputs": [
    {
     "data": {
      "text/plain": [
       "True"
      ]
     },
     "execution_count": 66,
     "metadata": {},
     "output_type": "execute_result"
    }
   ],
   "source": [
    "vi.policy[480:]==pi.policy[480:]"
   ]
  },
  {
   "cell_type": "code",
   "execution_count": 6,
   "metadata": {},
   "outputs": [
    {
     "data": {
      "image/png": "[encoded data removed]",
      "text/plain": [
       "<Figure size 432x288 with 2 Axes>"
      ]
     },
     "metadata": {
      "needs_background": "light"
     },
     "output_type": "display_data"
    }
   ],
   "source": [
    "n_iter = 100000\n",
    "ql = mdp.QLearning(P, R, 0.999999996 , n_iter=n_iter,epsilon_decay=0.999,epsilon_min=0.001,alpha_decay=0.999,alpha = 1\n",
    "                   ,run_stat_frequency=None)\n",
    "ql.setVerbose()\n",
    "ql_result,ql_error,ql_reward = vi_plot(ql)"
   ]
  },
  {
   "cell_type": "code",
   "execution_count": 12,
   "metadata": {},
   "outputs": [
    {
     "data": {
      "text/plain": [
       "23"
      ]
     },
     "execution_count": 12,
     "metadata": {},
     "output_type": "execute_result"
    }
   ],
   "source": [
    "sum(ql.policy)"
   ]
  },
  {
   "cell_type": "code",
   "execution_count": 74,
   "metadata": {},
   "outputs": [
    {
     "data": {
      "text/plain": [
       "4.801422373777491e-06"
      ]
     },
     "execution_count": 74,
     "metadata": {},
     "output_type": "execute_result"
    }
   ],
   "source": [
    "ql.gamma**300"
   ]
  },
  {
   "cell_type": "code",
   "execution_count": 78,
   "metadata": {},
   "outputs": [
    {
     "data": {
      "text/plain": [
       "25"
      ]
     },
     "execution_count": 78,
     "metadata": {},
     "output_type": "execute_result"
    }
   ],
   "source": [
    "sum(ql.policy)"
   ]
  },
  {
   "cell_type": "code",
   "execution_count": 79,
   "metadata": {},
   "outputs": [
    {
     "data": {
      "text/plain": [
       "458"
      ]
     },
     "execution_count": 79,
     "metadata": {},
     "output_type": "execute_result"
    }
   ],
   "source": [
    "sum(vi.policy)"
   ]
  },
  {
   "cell_type": "code",
   "execution_count": 76,
   "metadata": {},
   "outputs": [
    {
     "data": {
      "text/plain": [
       "array([[1.86154905e+02, 1.69753156e+02],\n",
       "       [1.59902123e+02, 1.86652378e+02],\n",
       "       [1.06430355e+02, 1.68414265e+02],\n",
       "       [6.87732378e+01, 1.23041978e+02],\n",
       "       [5.52851926e+00, 7.89232042e+01],\n",
       "       [4.88951087e+00, 0.00000000e+00],\n",
       "       [5.92617806e+00, 3.26776118e+01],\n",
       "       [0.00000000e+00, 7.19564920e+00],\n",
       "       [0.00000000e+00, 2.09016399e+01],\n",
       "       [0.00000000e+00, 0.00000000e+00],\n",
       "       [0.00000000e+00, 0.00000000e+00],\n",
       "       [0.00000000e+00, 0.00000000e+00],\n",
       "       [0.00000000e+00, 0.00000000e+00],\n",
       "       [0.00000000e+00, 0.00000000e+00],\n",
       "       [0.00000000e+00, 3.78500388e+01],\n",
       "       [0.00000000e+00, 0.00000000e+00],\n",
       "       [0.00000000e+00, 0.00000000e+00],\n",
       "       [0.00000000e+00, 0.00000000e+00],\n",
       "       [0.00000000e+00, 0.00000000e+00],\n",
       "       [0.00000000e+00, 0.00000000e+00],\n",
       "       [0.00000000e+00, 0.00000000e+00],\n",
       "       [0.00000000e+00, 0.00000000e+00],\n",
       "       [0.00000000e+00, 0.00000000e+00],\n",
       "       [0.00000000e+00, 0.00000000e+00],\n",
       "       [0.00000000e+00, 0.00000000e+00],\n",
       "       [0.00000000e+00, 0.00000000e+00],\n",
       "       [1.49148065e-02, 0.00000000e+00],\n",
       "       [1.49000773e+01, 0.00000000e+00],\n",
       "       [2.10176597e-01, 0.00000000e+00],\n",
       "       [0.00000000e+00, 2.49819862e+01],\n",
       "       [0.00000000e+00, 0.00000000e+00],\n",
       "       [0.00000000e+00, 0.00000000e+00],\n",
       "       [4.09438307e-02, 0.00000000e+00],\n",
       "       [0.00000000e+00, 4.09142207e+01],\n",
       "       [0.00000000e+00, 0.00000000e+00],\n",
       "       [0.00000000e+00, 0.00000000e+00],\n",
       "       [0.00000000e+00, 0.00000000e+00],\n",
       "       [0.00000000e+00, 0.00000000e+00],\n",
       "       [0.00000000e+00, 0.00000000e+00],\n",
       "       [1.11957170e-09, 0.00000000e+00],\n",
       "       [1.87825524e-04, 0.00000000e+00],\n",
       "       [1.87433676e-01, 0.00000000e+00],\n",
       "       [9.12396889e-01, 0.00000000e+00],\n",
       "       [4.56200386e-07, 0.00000000e+00],\n",
       "       [8.29017698e-04, 0.00000000e+00],\n",
       "       [3.72900239e-01, 0.00000000e+00],\n",
       "       [4.11972684e-07, 0.00000000e+00],\n",
       "       [7.49660633e-04, 0.00000000e+00],\n",
       "       [3.37761822e-01, 0.00000000e+00],\n",
       "       [0.00000000e+00, 0.00000000e+00],\n",
       "       [2.24769136e-04, 0.00000000e+00],\n",
       "       [2.24544368e-01, 0.00000000e+00],\n",
       "       [0.00000000e+00, 0.00000000e+00],\n",
       "       [0.00000000e+00, 0.00000000e+00],\n",
       "       [0.00000000e+00, 0.00000000e+00],\n",
       "       [0.00000000e+00, 0.00000000e+00],\n",
       "       [1.65548200e-03, 0.00000000e+00],\n",
       "       [1.65382653e+00, 0.00000000e+00],\n",
       "       [0.00000000e+00, 0.00000000e+00],\n",
       "       [0.00000000e+00, 0.00000000e+00],\n",
       "       [1.85610516e-01, 0.00000000e+00],\n",
       "       [0.00000000e+00, 0.00000000e+00],\n",
       "       [0.00000000e+00, 0.00000000e+00],\n",
       "       [0.00000000e+00, 0.00000000e+00],\n",
       "       [0.00000000e+00, 0.00000000e+00],\n",
       "       [0.00000000e+00, 0.00000000e+00],\n",
       "       [0.00000000e+00, 0.00000000e+00],\n",
       "       [0.00000000e+00, 0.00000000e+00],\n",
       "       [0.00000000e+00, 5.94587626e+00],\n",
       "       [0.00000000e+00, 0.00000000e+00],\n",
       "       [0.00000000e+00, 0.00000000e+00],\n",
       "       [0.00000000e+00, 0.00000000e+00],\n",
       "       [0.00000000e+00, 0.00000000e+00],\n",
       "       [0.00000000e+00, 0.00000000e+00],\n",
       "       [0.00000000e+00, 0.00000000e+00],\n",
       "       [2.76955838e-01, 0.00000000e+00],\n",
       "       [0.00000000e+00, 0.00000000e+00],\n",
       "       [0.00000000e+00, 0.00000000e+00],\n",
       "       [0.00000000e+00, 0.00000000e+00],\n",
       "       [0.00000000e+00, 0.00000000e+00],\n",
       "       [0.00000000e+00, 0.00000000e+00],\n",
       "       [0.00000000e+00, 0.00000000e+00],\n",
       "       [0.00000000e+00, 0.00000000e+00],\n",
       "       [1.86065775e-01, 0.00000000e+00],\n",
       "       [0.00000000e+00, 0.00000000e+00],\n",
       "       [0.00000000e+00, 0.00000000e+00],\n",
       "       [0.00000000e+00, 0.00000000e+00],\n",
       "       [1.15021796e+01, 0.00000000e+00],\n",
       "       [0.00000000e+00, 0.00000000e+00],\n",
       "       [0.00000000e+00, 0.00000000e+00],\n",
       "       [0.00000000e+00, 0.00000000e+00],\n",
       "       [0.00000000e+00, 0.00000000e+00],\n",
       "       [0.00000000e+00, 0.00000000e+00],\n",
       "       [0.00000000e+00, 0.00000000e+00],\n",
       "       [0.00000000e+00, 0.00000000e+00],\n",
       "       [0.00000000e+00, 0.00000000e+00],\n",
       "       [0.00000000e+00, 0.00000000e+00],\n",
       "       [0.00000000e+00, 0.00000000e+00],\n",
       "       [1.23040734e+00, 0.00000000e+00],\n",
       "       [0.00000000e+00, 5.80880692e+01],\n",
       "       [0.00000000e+00, 0.00000000e+00],\n",
       "       [0.00000000e+00, 0.00000000e+00],\n",
       "       [0.00000000e+00, 0.00000000e+00],\n",
       "       [0.00000000e+00, 0.00000000e+00],\n",
       "       [0.00000000e+00, 0.00000000e+00],\n",
       "       [3.14580749e-02, 0.00000000e+00],\n",
       "       [1.73228605e+00, 0.00000000e+00],\n",
       "       [1.93144652e+01, 0.00000000e+00],\n",
       "       [0.00000000e+00, 0.00000000e+00],\n",
       "       [0.00000000e+00, 0.00000000e+00],\n",
       "       [0.00000000e+00, 0.00000000e+00],\n",
       "       [0.00000000e+00, 0.00000000e+00],\n",
       "       [0.00000000e+00, 0.00000000e+00],\n",
       "       [0.00000000e+00, 0.00000000e+00],\n",
       "       [0.00000000e+00, 4.43384046e+00],\n",
       "       [0.00000000e+00, 0.00000000e+00],\n",
       "       [0.00000000e+00, 0.00000000e+00],\n",
       "       [0.00000000e+00, 0.00000000e+00],\n",
       "       [4.88269716e+00, 0.00000000e+00],\n",
       "       [7.70429511e-03, 0.00000000e+00],\n",
       "       [1.73688434e+00, 0.00000000e+00],\n",
       "       [2.54722282e+01, 0.00000000e+00],\n",
       "       [6.79739271e-01, 0.00000000e+00],\n",
       "       [1.02697083e-02, 0.00000000e+00],\n",
       "       [1.02803761e+01, 0.00000000e+00],\n",
       "       [0.00000000e+00, 2.11032465e+01],\n",
       "       [0.00000000e+00, 0.00000000e+00],\n",
       "       [0.00000000e+00, 0.00000000e+00],\n",
       "       [0.00000000e+00, 0.00000000e+00],\n",
       "       [0.00000000e+00, 0.00000000e+00],\n",
       "       [0.00000000e+00, 0.00000000e+00],\n",
       "       [0.00000000e+00, 0.00000000e+00],\n",
       "       [0.00000000e+00, 0.00000000e+00],\n",
       "       [0.00000000e+00, 0.00000000e+00],\n",
       "       [0.00000000e+00, 0.00000000e+00],\n",
       "       [0.00000000e+00, 0.00000000e+00],\n",
       "       [0.00000000e+00, 0.00000000e+00],\n",
       "       [0.00000000e+00, 0.00000000e+00],\n",
       "       [0.00000000e+00, 0.00000000e+00],\n",
       "       [0.00000000e+00, 0.00000000e+00],\n",
       "       [0.00000000e+00, 0.00000000e+00],\n",
       "       [0.00000000e+00, 0.00000000e+00],\n",
       "       [0.00000000e+00, 0.00000000e+00],\n",
       "       [0.00000000e+00, 0.00000000e+00],\n",
       "       [0.00000000e+00, 0.00000000e+00],\n",
       "       [1.85500098e-01, 0.00000000e+00],\n",
       "       [0.00000000e+00, 0.00000000e+00],\n",
       "       [0.00000000e+00, 0.00000000e+00],\n",
       "       [1.31278618e-04, 0.00000000e+00],\n",
       "       [6.55299734e-02, 0.00000000e+00],\n",
       "       [6.47709392e+00, 0.00000000e+00],\n",
       "       [0.00000000e+00, 5.49036390e+01],\n",
       "       [0.00000000e+00, 0.00000000e+00],\n",
       "       [0.00000000e+00, 0.00000000e+00],\n",
       "       [0.00000000e+00, 0.00000000e+00],\n",
       "       [0.00000000e+00, 0.00000000e+00],\n",
       "       [0.00000000e+00, 0.00000000e+00],\n",
       "       [0.00000000e+00, 0.00000000e+00],\n",
       "       [0.00000000e+00, 0.00000000e+00],\n",
       "       [0.00000000e+00, 0.00000000e+00],\n",
       "       [0.00000000e+00, 0.00000000e+00],\n",
       "       [0.00000000e+00, 0.00000000e+00],\n",
       "       [0.00000000e+00, 0.00000000e+00],\n",
       "       [0.00000000e+00, 0.00000000e+00],\n",
       "       [0.00000000e+00, 0.00000000e+00],\n",
       "       [0.00000000e+00, 0.00000000e+00],\n",
       "       [0.00000000e+00, 0.00000000e+00],\n",
       "       [0.00000000e+00, 0.00000000e+00],\n",
       "       [0.00000000e+00, 0.00000000e+00],\n",
       "       [0.00000000e+00, 0.00000000e+00],\n",
       "       [0.00000000e+00, 0.00000000e+00],\n",
       "       [0.00000000e+00, 0.00000000e+00],\n",
       "       [0.00000000e+00, 0.00000000e+00],\n",
       "       [1.85783852e-01, 0.00000000e+00],\n",
       "       [0.00000000e+00, 0.00000000e+00],\n",
       "       [0.00000000e+00, 0.00000000e+00],\n",
       "       [1.85999539e-01, 0.00000000e+00],\n",
       "       [0.00000000e+00, 0.00000000e+00],\n",
       "       [0.00000000e+00, 0.00000000e+00],\n",
       "       [0.00000000e+00, 0.00000000e+00],\n",
       "       [2.15129234e-05, 0.00000000e+00],\n",
       "       [2.86751410e-02, 0.00000000e+00],\n",
       "       [7.17654666e+00, 0.00000000e+00],\n",
       "       [6.68045550e-06, 0.00000000e+00],\n",
       "       [9.46155596e-03, 0.00000000e+00],\n",
       "       [2.78499312e+00, 0.00000000e+00],\n",
       "       [0.00000000e+00, 0.00000000e+00],\n",
       "       [0.00000000e+00, 0.00000000e+00],\n",
       "       [0.00000000e+00, 0.00000000e+00],\n",
       "       [0.00000000e+00, 0.00000000e+00],\n",
       "       [0.00000000e+00, 0.00000000e+00],\n",
       "       [0.00000000e+00, 0.00000000e+00],\n",
       "       [0.00000000e+00, 0.00000000e+00],\n",
       "       [0.00000000e+00, 0.00000000e+00],\n",
       "       [0.00000000e+00, 0.00000000e+00],\n",
       "       [0.00000000e+00, 0.00000000e+00],\n",
       "       [0.00000000e+00, 0.00000000e+00],\n",
       "       [1.85619452e-07, 0.00000000e+00],\n",
       "       [3.70869493e-04, 0.00000000e+00],\n",
       "       [1.85253877e-01, 0.00000000e+00],\n",
       "       [5.47213905e-03, 0.00000000e+00],\n",
       "       [1.82222231e+00, 0.00000000e+00],\n",
       "       [0.00000000e+00, 0.00000000e+00],\n",
       "       [1.85873513e-07, 0.00000000e+00],\n",
       "       [3.71375280e-04, 0.00000000e+00],\n",
       "       [1.85501953e-01, 0.00000000e+00],\n",
       "       [1.85932821e-01, 0.00000000e+00],\n",
       "       [0.00000000e+00, 0.00000000e+00],\n",
       "       [0.00000000e+00, 0.00000000e+00],\n",
       "       [0.00000000e+00, 0.00000000e+00],\n",
       "       [1.85851086e-04, 0.00000000e+00],\n",
       "       [3.71559689e-01, 0.00000000e+00],\n",
       "       [1.81755506e+00, 0.00000000e+00],\n",
       "       [1.97424240e+01, 0.00000000e+00],\n",
       "       [0.00000000e+00, 7.84906345e+01],\n",
       "       [0.00000000e+00, 0.00000000e+00],\n",
       "       [0.00000000e+00, 0.00000000e+00],\n",
       "       [1.65375271e-05, 0.00000000e+00],\n",
       "       [3.32286490e-02, 0.00000000e+00],\n",
       "       [0.00000000e+00, 1.68777804e+01],\n",
       "       [0.00000000e+00, 0.00000000e+00],\n",
       "       [0.00000000e+00, 0.00000000e+00],\n",
       "       [0.00000000e+00, 0.00000000e+00],\n",
       "       [0.00000000e+00, 0.00000000e+00],\n",
       "       [0.00000000e+00, 0.00000000e+00],\n",
       "       [0.00000000e+00, 0.00000000e+00],\n",
       "       [0.00000000e+00, 0.00000000e+00],\n",
       "       [0.00000000e+00, 0.00000000e+00],\n",
       "       [0.00000000e+00, 0.00000000e+00],\n",
       "       [0.00000000e+00, 0.00000000e+00],\n",
       "       [0.00000000e+00, 0.00000000e+00],\n",
       "       [0.00000000e+00, 0.00000000e+00],\n",
       "       [0.00000000e+00, 0.00000000e+00],\n",
       "       [0.00000000e+00, 0.00000000e+00],\n",
       "       [0.00000000e+00, 0.00000000e+00],\n",
       "       [0.00000000e+00, 0.00000000e+00],\n",
       "       [0.00000000e+00, 0.00000000e+00],\n",
       "       [0.00000000e+00, 0.00000000e+00],\n",
       "       [8.32238629e-02, 0.00000000e+00],\n",
       "       [6.46277087e+00, 0.00000000e+00],\n",
       "       [0.00000000e+00, 0.00000000e+00],\n",
       "       [0.00000000e+00, 0.00000000e+00],\n",
       "       [4.04251323e-05, 0.00000000e+00],\n",
       "       [2.01180521e-02, 0.00000000e+00],\n",
       "       [0.00000000e+00, 3.33548862e+00],\n",
       "       [0.00000000e+00, 0.00000000e+00],\n",
       "       [0.00000000e+00, 0.00000000e+00],\n",
       "       [0.00000000e+00, 0.00000000e+00],\n",
       "       [1.00619738e-02, 0.00000000e+00],\n",
       "       [2.45881648e+00, 0.00000000e+00],\n",
       "       [0.00000000e+00, 0.00000000e+00],\n",
       "       [1.34583780e-01, 0.00000000e+00],\n",
       "       [0.00000000e+00, 3.37413503e+01],\n",
       "       [0.00000000e+00, 0.00000000e+00],\n",
       "       [0.00000000e+00, 0.00000000e+00],\n",
       "       [0.00000000e+00, 0.00000000e+00],\n",
       "       [0.00000000e+00, 0.00000000e+00],\n",
       "       [0.00000000e+00, 0.00000000e+00],\n",
       "       [1.85565245e-01, 0.00000000e+00],\n",
       "       [0.00000000e+00, 0.00000000e+00],\n",
       "       [3.82469551e+00, 0.00000000e+00],\n",
       "       [3.07350739e+01, 0.00000000e+00],\n",
       "       [0.00000000e+00, 0.00000000e+00],\n",
       "       [0.00000000e+00, 0.00000000e+00],\n",
       "       [0.00000000e+00, 0.00000000e+00],\n",
       "       [0.00000000e+00, 1.79523288e+01],\n",
       "       [0.00000000e+00, 0.00000000e+00],\n",
       "       [1.86111599e-01, 0.00000000e+00],\n",
       "       [0.00000000e+00, 0.00000000e+00],\n",
       "       [0.00000000e+00, 0.00000000e+00],\n",
       "       [0.00000000e+00, 0.00000000e+00],\n",
       "       [0.00000000e+00, 0.00000000e+00],\n",
       "       [0.00000000e+00, 0.00000000e+00],\n",
       "       [2.29590995e+01, 0.00000000e+00],\n",
       "       [0.00000000e+00, 0.00000000e+00],\n",
       "       [0.00000000e+00, 0.00000000e+00],\n",
       "       [0.00000000e+00, 0.00000000e+00],\n",
       "       [0.00000000e+00, 0.00000000e+00],\n",
       "       [0.00000000e+00, 0.00000000e+00],\n",
       "       [0.00000000e+00, 0.00000000e+00],\n",
       "       [0.00000000e+00, 0.00000000e+00],\n",
       "       [0.00000000e+00, 0.00000000e+00],\n",
       "       [0.00000000e+00, 0.00000000e+00],\n",
       "       [0.00000000e+00, 0.00000000e+00],\n",
       "       [0.00000000e+00, 0.00000000e+00],\n",
       "       [0.00000000e+00, 0.00000000e+00],\n",
       "       [0.00000000e+00, 0.00000000e+00],\n",
       "       [0.00000000e+00, 0.00000000e+00],\n",
       "       [0.00000000e+00, 0.00000000e+00],\n",
       "       [0.00000000e+00, 0.00000000e+00],\n",
       "       [0.00000000e+00, 0.00000000e+00],\n",
       "       [0.00000000e+00, 0.00000000e+00],\n",
       "       [2.04415987e-04, 0.00000000e+00],\n",
       "       [2.04213590e-01, 0.00000000e+00],\n",
       "       [2.75095705e-03, 0.00000000e+00],\n",
       "       [9.58707297e-01, 0.00000000e+00],\n",
       "       [0.00000000e+00, 3.98400825e+01],\n",
       "       [0.00000000e+00, 0.00000000e+00],\n",
       "       [0.00000000e+00, 0.00000000e+00],\n",
       "       [0.00000000e+00, 0.00000000e+00],\n",
       "       [8.29500026e-04, 0.00000000e+00],\n",
       "       [8.28670529e-01, 0.00000000e+00],\n",
       "       [0.00000000e+00, 0.00000000e+00],\n",
       "       [0.00000000e+00, 0.00000000e+00],\n",
       "       [0.00000000e+00, 0.00000000e+00],\n",
       "       [0.00000000e+00, 0.00000000e+00],\n",
       "       [0.00000000e+00, 0.00000000e+00],\n",
       "       [0.00000000e+00, 0.00000000e+00],\n",
       "       [0.00000000e+00, 0.00000000e+00],\n",
       "       [0.00000000e+00, 0.00000000e+00],\n",
       "       [5.40856747e-09, 0.00000000e+00],\n",
       "       [1.62094768e-05, 0.00000000e+00],\n",
       "       [1.61932674e-02, 0.00000000e+00],\n",
       "       [5.39254396e+00, 0.00000000e+00],\n",
       "       [3.71859972e-01, 0.00000000e+00],\n",
       "       [0.00000000e+00, 0.00000000e+00],\n",
       "       [0.00000000e+00, 0.00000000e+00],\n",
       "       [1.85693669e-01, 0.00000000e+00],\n",
       "       [0.00000000e+00, 0.00000000e+00],\n",
       "       [0.00000000e+00, 0.00000000e+00],\n",
       "       [0.00000000e+00, 0.00000000e+00],\n",
       "       [0.00000000e+00, 0.00000000e+00],\n",
       "       [0.00000000e+00, 0.00000000e+00],\n",
       "       [0.00000000e+00, 0.00000000e+00],\n",
       "       [0.00000000e+00, 0.00000000e+00],\n",
       "       [0.00000000e+00, 0.00000000e+00],\n",
       "       [0.00000000e+00, 0.00000000e+00],\n",
       "       [7.94661440e-04, 0.00000000e+00],\n",
       "       [4.89655044e-01, 0.00000000e+00],\n",
       "       [1.85976633e-01, 0.00000000e+00],\n",
       "       [0.00000000e+00, 0.00000000e+00],\n",
       "       [0.00000000e+00, 0.00000000e+00],\n",
       "       [7.56720629e-04, 0.00000000e+00],\n",
       "       [7.78511966e-01, 0.00000000e+00],\n",
       "       [2.25255060e+01, 0.00000000e+00],\n",
       "       [0.00000000e+00, 0.00000000e+00],\n",
       "       [0.00000000e+00, 0.00000000e+00],\n",
       "       [0.00000000e+00, 0.00000000e+00],\n",
       "       [3.96307033e-02, 0.00000000e+00],\n",
       "       [0.00000000e+00, 3.97778351e+01],\n",
       "       [0.00000000e+00, 0.00000000e+00],\n",
       "       [0.00000000e+00, 0.00000000e+00],\n",
       "       [0.00000000e+00, 1.20187229e+01],\n",
       "       [0.00000000e+00, 0.00000000e+00],\n",
       "       [0.00000000e+00, 0.00000000e+00],\n",
       "       [4.57556737e-01, 0.00000000e+00],\n",
       "       [0.00000000e+00, 0.00000000e+00],\n",
       "       [0.00000000e+00, 0.00000000e+00],\n",
       "       [0.00000000e+00, 0.00000000e+00],\n",
       "       [0.00000000e+00, 0.00000000e+00],\n",
       "       [0.00000000e+00, 0.00000000e+00],\n",
       "       [0.00000000e+00, 0.00000000e+00],\n",
       "       [0.00000000e+00, 0.00000000e+00],\n",
       "       [0.00000000e+00, 0.00000000e+00],\n",
       "       [0.00000000e+00, 0.00000000e+00],\n",
       "       [0.00000000e+00, 0.00000000e+00],\n",
       "       [0.00000000e+00, 0.00000000e+00],\n",
       "       [0.00000000e+00, 0.00000000e+00],\n",
       "       [0.00000000e+00, 0.00000000e+00],\n",
       "       [3.28503124e+00, 0.00000000e+00],\n",
       "       [0.00000000e+00, 0.00000000e+00],\n",
       "       [0.00000000e+00, 0.00000000e+00],\n",
       "       [1.86088196e-01, 0.00000000e+00],\n",
       "       [0.00000000e+00, 0.00000000e+00],\n",
       "       [1.55067642e+00, 0.00000000e+00],\n",
       "       [0.00000000e+00, 0.00000000e+00],\n",
       "       [0.00000000e+00, 0.00000000e+00],\n",
       "       [0.00000000e+00, 0.00000000e+00],\n",
       "       [0.00000000e+00, 0.00000000e+00],\n",
       "       [0.00000000e+00, 0.00000000e+00],\n",
       "       [0.00000000e+00, 0.00000000e+00],\n",
       "       [5.32159665e-05, 0.00000000e+00],\n",
       "       [5.66765209e-02, 0.00000000e+00],\n",
       "       [3.51025641e+00, 0.00000000e+00],\n",
       "       [5.78633852e-06, 0.00000000e+00],\n",
       "       [6.40459975e-03, 0.00000000e+00],\n",
       "       [6.42111738e-01, 0.00000000e+00],\n",
       "       [0.00000000e+00, 1.88562915e+01],\n",
       "       [0.00000000e+00, 0.00000000e+00],\n",
       "       [0.00000000e+00, 0.00000000e+00],\n",
       "       [0.00000000e+00, 0.00000000e+00],\n",
       "       [0.00000000e+00, 0.00000000e+00],\n",
       "       [0.00000000e+00, 0.00000000e+00],\n",
       "       [0.00000000e+00, 0.00000000e+00],\n",
       "       [1.41368450e+01, 0.00000000e+00],\n",
       "       [0.00000000e+00, 6.72718755e+01],\n",
       "       [0.00000000e+00, 0.00000000e+00],\n",
       "       [0.00000000e+00, 0.00000000e+00],\n",
       "       [0.00000000e+00, 0.00000000e+00],\n",
       "       [0.00000000e+00, 0.00000000e+00],\n",
       "       [0.00000000e+00, 0.00000000e+00],\n",
       "       [1.01102361e+00, 0.00000000e+00],\n",
       "       [0.00000000e+00, 0.00000000e+00],\n",
       "       [0.00000000e+00, 0.00000000e+00],\n",
       "       [1.25136393e+01, 0.00000000e+00],\n",
       "       [0.00000000e+00, 0.00000000e+00],\n",
       "       [0.00000000e+00, 0.00000000e+00],\n",
       "       [0.00000000e+00, 0.00000000e+00],\n",
       "       [0.00000000e+00, 0.00000000e+00],\n",
       "       [7.25540425e+00, 0.00000000e+00]])"
      ]
     },
     "execution_count": 76,
     "metadata": {},
     "output_type": "execute_result"
    }
   ],
   "source": [
    "ql.Q"
   ]
  },
  {
   "cell_type": "code",
   "execution_count": 17,
   "metadata": {},
   "outputs": [
    {
     "data": {
      "image/png": "[encoded data removed]",
      "text/plain": [
       "<Figure size 432x288 with 2 Axes>"
      ]
     },
     "metadata": {
      "needs_background": "light"
     },
     "output_type": "display_data"
    }
   ],
   "source": [
    "n_iter = 10000\n",
    "ql = mdp.QLearning(P, R, 0.96 , n_iter=n_iter,epsilon_decay=0.999,epsilon_min=0.001,alpha_decay=0.999)\n",
    "ql.setVerbose()\n",
    "ql_result,ql_error,ql_reward = vi_plot(ql)"
   ]
  },
  {
   "cell_type": "code",
   "execution_count": 21,
   "metadata": {},
   "outputs": [
    {
     "data": {
      "text/plain": [
       "8.789817359825925"
      ]
     },
     "execution_count": 21,
     "metadata": {},
     "output_type": "execute_result"
    }
   ],
   "source": [
    "max(ql.Q[0][:])"
   ]
  },
  {
   "cell_type": "code",
   "execution_count": 22,
   "metadata": {},
   "outputs": [
    {
     "data": {
      "text/plain": [
       "9.318637409519805"
      ]
     },
     "execution_count": 22,
     "metadata": {},
     "output_type": "execute_result"
    }
   ],
   "source": [
    "max(ql.Q[1][:])"
   ]
  },
  {
   "cell_type": "code",
   "execution_count": 105,
   "metadata": {},
   "outputs": [],
   "source": [
    "p20000 = ql.policy"
   ]
  },
  {
   "cell_type": "code",
   "execution_count": 108,
   "metadata": {},
   "outputs": [],
   "source": [
    "p10000 = ql.policy"
   ]
  },
  {
   "cell_type": "code",
   "execution_count": 112,
   "metadata": {},
   "outputs": [
    {
     "data": {
      "text/plain": [
       "(0, 1, 1, 1, 1, 1, 0, 0, 0, 0)"
      ]
     },
     "execution_count": 112,
     "metadata": {},
     "output_type": "execute_result"
    }
   ],
   "source": [
    "p10000[:10]"
   ]
  },
  {
   "cell_type": "code",
   "execution_count": 76,
   "metadata": {},
   "outputs": [],
   "source": [
    "import numpy as np"
   ]
  },
  {
   "cell_type": "code",
   "execution_count": 81,
   "metadata": {
    "scrolled": true
   },
   "outputs": [
    {
     "data": {
      "text/plain": [
       "(array([], dtype=int64),)"
      ]
     },
     "execution_count": 81,
     "metadata": {},
     "output_type": "execute_result"
    }
   ],
   "source": [
    "np.where(ql_reward==1.0)"
   ]
  },
  {
   "cell_type": "code",
   "execution_count": 86,
   "metadata": {},
   "outputs": [
    {
     "data": {
      "text/plain": [
       "True"
      ]
     },
     "execution_count": 86,
     "metadata": {},
     "output_type": "execute_result"
    }
   ],
   "source": [
    "ql_reward[3]==1"
   ]
  },
  {
   "cell_type": "code",
   "execution_count": 88,
   "metadata": {},
   "outputs": [
    {
     "data": {
      "text/plain": [
       "1"
      ]
     },
     "execution_count": 88,
     "metadata": {},
     "output_type": "execute_result"
    }
   ],
   "source": [
    "ql_reward.index(1)"
   ]
  },
  {
   "cell_type": "code",
   "execution_count": 100,
   "metadata": {},
   "outputs": [
    {
     "data": {
      "text/plain": [
       "tuple"
      ]
     },
     "execution_count": 100,
     "metadata": {},
     "output_type": "execute_result"
    }
   ],
   "source": [
    "type(ql.policy)"
   ]
  },
  {
   "cell_type": "code",
   "execution_count": 102,
   "metadata": {},
   "outputs": [
    {
     "data": {
      "text/plain": [
       "43"
      ]
     },
     "execution_count": 102,
     "metadata": {},
     "output_type": "execute_result"
    }
   ],
   "source": [
    "sum([ql.policy[i] == vi.policy[i] for i in range(len(ql.policy))])"
   ]
  },
  {
   "cell_type": "code",
   "execution_count": 114,
   "metadata": {},
   "outputs": [
    {
     "data": {
      "text/plain": [
       "36"
      ]
     },
     "execution_count": 114,
     "metadata": {},
     "output_type": "execute_result"
    }
   ],
   "source": [
    "sum([ql.policy[i] == vi.policy[i] for i in range(len(ql.policy))])"
   ]
  },
  {
   "cell_type": "code",
   "execution_count": 91,
   "metadata": {},
   "outputs": [],
   "source": [
    "time = [i['Time'] for i in result]"
   ]
  },
  {
   "cell_type": "code",
   "execution_count": 92,
   "metadata": {},
   "outputs": [
    {
     "data": {
      "text/plain": [
       "[<matplotlib.lines.Line2D at 0x19cf77f4320>]"
      ]
     },
     "execution_count": 92,
     "metadata": {},
     "output_type": "execute_result"
    },
    {
     "data": {
      "image/png": "[encoded data removed]",
      "text/plain": [
       "<Figure size 432x288 with 1 Axes>"
      ]
     },
     "metadata": {
      "needs_background": "light"
     },
     "output_type": "display_data"
    }
   ],
   "source": [
    "plt.plot(time)"
   ]
  },
  {
   "cell_type": "code",
   "execution_count": null,
   "metadata": {},
   "outputs": [],
   "source": [
    "gamma, alpha, alpha_decay, alpha_min, epsilon, epsilon_min, epsilon_decay, n_iter"
   ]
  },
  {
   "cell_type": "code",
   "execution_count": null,
   "metadata": {},
   "outputs": [],
   "source": [
    "ql = mdp.QLearning(P, R, 0.96 , n_iter=n_iter,epsilon_decay=0.999,epsilon_min=0.001,alpha_decay=0.999)\n"
   ]
  },
  {
   "cell_type": "code",
   "execution_count": 117,
   "metadata": {},
   "outputs": [
    {
     "data": {
      "text/plain": [
       "36.68421799327019"
      ]
     },
     "execution_count": 117,
     "metadata": {},
     "output_type": "execute_result"
    }
   ],
   "source": [
    "max(vi.V)"
   ]
  },
  {
   "cell_type": "code",
   "execution_count": 125,
   "metadata": {},
   "outputs": [
    {
     "data": {
      "text/plain": [
       "23.172433847048566"
      ]
     },
     "execution_count": 125,
     "metadata": {},
     "output_type": "execute_result"
    }
   ],
   "source": [
    "max(pi.V)"
   ]
  },
  {
   "cell_type": "code",
   "execution_count": 124,
   "metadata": {},
   "outputs": [
    {
     "data": {
      "text/plain": [
       "9.012146178794062"
      ]
     },
     "execution_count": 124,
     "metadata": {},
     "output_type": "execute_result"
    }
   ],
   "source": [
    "max(ql.V)"
   ]
  },
  {
   "cell_type": "code",
   "execution_count": 123,
   "metadata": {},
   "outputs": [
    {
     "data": {
      "text/plain": [
       "9.012146178794062"
      ]
     },
     "execution_count": 123,
     "metadata": {},
     "output_type": "execute_result"
    }
   ],
   "source": [
    "max(ql.Q[:,1])"
   ]
  },
  {
   "cell_type": "code",
   "execution_count": 150,
   "metadata": {},
   "outputs": [
    {
     "data": {
      "text/plain": [
       "array([[0., 0.],\n",
       "       [0., 1.],\n",
       "       [0., 1.],\n",
       "       [0., 1.],\n",
       "       [0., 1.],\n",
       "       [0., 1.],\n",
       "       [0., 1.],\n",
       "       [0., 1.],\n",
       "       [0., 1.],\n",
       "       [0., 1.],\n",
       "       [0., 1.],\n",
       "       [0., 1.],\n",
       "       [0., 1.],\n",
       "       [0., 1.],\n",
       "       [0., 1.],\n",
       "       [0., 1.],\n",
       "       [0., 1.],\n",
       "       [0., 1.],\n",
       "       [0., 1.],\n",
       "       [0., 1.],\n",
       "       [0., 1.],\n",
       "       [0., 1.],\n",
       "       [0., 1.],\n",
       "       [0., 1.],\n",
       "       [0., 1.],\n",
       "       [0., 1.],\n",
       "       [0., 1.],\n",
       "       [0., 1.],\n",
       "       [0., 1.],\n",
       "       [0., 1.],\n",
       "       [0., 1.],\n",
       "       [0., 1.],\n",
       "       [0., 1.],\n",
       "       [0., 1.],\n",
       "       [0., 1.],\n",
       "       [0., 1.],\n",
       "       [0., 1.],\n",
       "       [0., 1.],\n",
       "       [0., 1.],\n",
       "       [0., 1.],\n",
       "       [0., 1.],\n",
       "       [0., 1.],\n",
       "       [0., 1.],\n",
       "       [0., 1.],\n",
       "       [0., 1.],\n",
       "       [0., 1.],\n",
       "       [0., 1.],\n",
       "       [0., 1.],\n",
       "       [0., 1.],\n",
       "       [0., 1.],\n",
       "       [0., 1.],\n",
       "       [0., 1.],\n",
       "       [0., 1.],\n",
       "       [0., 1.],\n",
       "       [0., 1.],\n",
       "       [0., 1.],\n",
       "       [0., 1.],\n",
       "       [0., 1.],\n",
       "       [0., 1.],\n",
       "       [0., 1.],\n",
       "       [0., 1.],\n",
       "       [0., 1.],\n",
       "       [0., 1.],\n",
       "       [0., 1.],\n",
       "       [0., 1.],\n",
       "       [0., 1.],\n",
       "       [0., 1.],\n",
       "       [0., 1.],\n",
       "       [0., 1.],\n",
       "       [0., 1.],\n",
       "       [0., 1.],\n",
       "       [0., 1.],\n",
       "       [0., 1.],\n",
       "       [0., 1.],\n",
       "       [0., 1.],\n",
       "       [0., 1.],\n",
       "       [0., 1.],\n",
       "       [0., 1.],\n",
       "       [0., 1.],\n",
       "       [0., 1.],\n",
       "       [0., 1.],\n",
       "       [0., 1.],\n",
       "       [0., 1.],\n",
       "       [0., 1.],\n",
       "       [0., 1.],\n",
       "       [0., 1.],\n",
       "       [0., 1.],\n",
       "       [0., 1.],\n",
       "       [0., 1.],\n",
       "       [0., 1.],\n",
       "       [0., 1.],\n",
       "       [0., 1.],\n",
       "       [0., 1.],\n",
       "       [0., 1.],\n",
       "       [0., 1.],\n",
       "       [0., 1.],\n",
       "       [0., 1.],\n",
       "       [0., 1.],\n",
       "       [0., 1.],\n",
       "       [0., 1.],\n",
       "       [0., 1.],\n",
       "       [0., 1.],\n",
       "       [0., 1.],\n",
       "       [0., 1.],\n",
       "       [0., 1.],\n",
       "       [0., 1.],\n",
       "       [0., 1.],\n",
       "       [0., 1.],\n",
       "       [0., 1.],\n",
       "       [0., 1.],\n",
       "       [0., 1.],\n",
       "       [0., 1.],\n",
       "       [0., 1.],\n",
       "       [0., 1.],\n",
       "       [0., 1.],\n",
       "       [0., 1.],\n",
       "       [0., 1.],\n",
       "       [0., 1.],\n",
       "       [0., 1.],\n",
       "       [0., 1.],\n",
       "       [0., 1.],\n",
       "       [0., 1.],\n",
       "       [0., 1.],\n",
       "       [0., 1.],\n",
       "       [0., 1.],\n",
       "       [0., 1.],\n",
       "       [0., 1.],\n",
       "       [0., 1.],\n",
       "       [0., 1.],\n",
       "       [0., 1.],\n",
       "       [0., 1.],\n",
       "       [0., 1.],\n",
       "       [0., 1.],\n",
       "       [0., 1.],\n",
       "       [0., 1.],\n",
       "       [0., 1.],\n",
       "       [0., 1.],\n",
       "       [0., 1.],\n",
       "       [0., 1.],\n",
       "       [0., 1.],\n",
       "       [0., 1.],\n",
       "       [0., 1.],\n",
       "       [0., 1.],\n",
       "       [0., 1.],\n",
       "       [0., 1.],\n",
       "       [0., 1.],\n",
       "       [0., 1.],\n",
       "       [0., 1.],\n",
       "       [0., 1.],\n",
       "       [0., 1.],\n",
       "       [0., 1.],\n",
       "       [0., 1.],\n",
       "       [0., 1.],\n",
       "       [0., 1.],\n",
       "       [0., 1.],\n",
       "       [0., 1.],\n",
       "       [0., 1.],\n",
       "       [0., 1.],\n",
       "       [0., 1.],\n",
       "       [0., 1.],\n",
       "       [0., 1.],\n",
       "       [0., 1.],\n",
       "       [0., 1.],\n",
       "       [0., 1.],\n",
       "       [0., 1.],\n",
       "       [0., 1.],\n",
       "       [0., 1.],\n",
       "       [0., 1.],\n",
       "       [0., 1.],\n",
       "       [0., 1.],\n",
       "       [0., 1.],\n",
       "       [0., 1.],\n",
       "       [0., 1.],\n",
       "       [0., 1.],\n",
       "       [0., 1.],\n",
       "       [0., 1.],\n",
       "       [0., 1.],\n",
       "       [0., 1.],\n",
       "       [0., 1.],\n",
       "       [0., 1.],\n",
       "       [0., 1.],\n",
       "       [0., 1.],\n",
       "       [0., 1.],\n",
       "       [0., 1.],\n",
       "       [0., 1.],\n",
       "       [0., 1.],\n",
       "       [0., 1.],\n",
       "       [0., 1.],\n",
       "       [0., 1.],\n",
       "       [0., 1.],\n",
       "       [0., 1.],\n",
       "       [0., 1.],\n",
       "       [0., 1.],\n",
       "       [0., 1.],\n",
       "       [0., 1.],\n",
       "       [0., 1.],\n",
       "       [0., 1.],\n",
       "       [0., 1.],\n",
       "       [0., 1.],\n",
       "       [0., 1.],\n",
       "       [0., 1.],\n",
       "       [0., 1.],\n",
       "       [0., 1.],\n",
       "       [0., 1.],\n",
       "       [0., 1.],\n",
       "       [0., 1.],\n",
       "       [0., 1.],\n",
       "       [0., 1.],\n",
       "       [0., 1.],\n",
       "       [0., 1.],\n",
       "       [0., 1.],\n",
       "       [0., 1.],\n",
       "       [0., 1.],\n",
       "       [0., 1.],\n",
       "       [0., 1.],\n",
       "       [0., 1.],\n",
       "       [0., 1.],\n",
       "       [0., 1.],\n",
       "       [0., 1.],\n",
       "       [0., 1.],\n",
       "       [0., 1.],\n",
       "       [0., 1.],\n",
       "       [0., 1.],\n",
       "       [0., 1.],\n",
       "       [0., 1.],\n",
       "       [0., 1.],\n",
       "       [0., 1.],\n",
       "       [0., 1.],\n",
       "       [0., 1.],\n",
       "       [0., 1.],\n",
       "       [0., 1.],\n",
       "       [0., 1.],\n",
       "       [0., 1.],\n",
       "       [0., 1.],\n",
       "       [0., 1.],\n",
       "       [0., 1.],\n",
       "       [0., 1.],\n",
       "       [0., 1.],\n",
       "       [0., 1.],\n",
       "       [0., 1.],\n",
       "       [0., 1.],\n",
       "       [0., 1.],\n",
       "       [0., 1.],\n",
       "       [0., 1.],\n",
       "       [0., 1.],\n",
       "       [0., 1.],\n",
       "       [0., 1.],\n",
       "       [0., 1.],\n",
       "       [0., 1.],\n",
       "       [0., 1.],\n",
       "       [0., 1.],\n",
       "       [0., 1.],\n",
       "       [0., 1.],\n",
       "       [0., 1.],\n",
       "       [0., 1.],\n",
       "       [0., 1.],\n",
       "       [0., 1.],\n",
       "       [0., 1.],\n",
       "       [0., 1.],\n",
       "       [0., 1.],\n",
       "       [0., 1.],\n",
       "       [0., 1.],\n",
       "       [0., 1.],\n",
       "       [0., 1.],\n",
       "       [0., 1.],\n",
       "       [0., 1.],\n",
       "       [0., 1.],\n",
       "       [0., 1.],\n",
       "       [0., 1.],\n",
       "       [0., 1.],\n",
       "       [0., 1.],\n",
       "       [0., 1.],\n",
       "       [0., 1.],\n",
       "       [0., 1.],\n",
       "       [0., 1.],\n",
       "       [0., 1.],\n",
       "       [0., 1.],\n",
       "       [0., 1.],\n",
       "       [0., 1.],\n",
       "       [0., 1.],\n",
       "       [0., 1.],\n",
       "       [0., 1.],\n",
       "       [0., 1.],\n",
       "       [0., 1.],\n",
       "       [0., 1.],\n",
       "       [0., 1.],\n",
       "       [0., 1.],\n",
       "       [0., 1.],\n",
       "       [0., 1.],\n",
       "       [0., 1.],\n",
       "       [0., 1.],\n",
       "       [0., 1.],\n",
       "       [0., 1.],\n",
       "       [0., 1.],\n",
       "       [0., 1.],\n",
       "       [0., 1.],\n",
       "       [0., 1.],\n",
       "       [0., 1.],\n",
       "       [0., 1.],\n",
       "       [0., 1.],\n",
       "       [0., 1.],\n",
       "       [0., 1.],\n",
       "       [0., 1.],\n",
       "       [0., 1.],\n",
       "       [0., 1.],\n",
       "       [0., 1.],\n",
       "       [0., 1.],\n",
       "       [0., 1.],\n",
       "       [0., 1.],\n",
       "       [0., 1.],\n",
       "       [0., 1.],\n",
       "       [0., 1.],\n",
       "       [0., 1.],\n",
       "       [0., 1.],\n",
       "       [0., 1.],\n",
       "       [0., 1.],\n",
       "       [0., 1.],\n",
       "       [0., 1.],\n",
       "       [0., 1.],\n",
       "       [0., 1.],\n",
       "       [0., 1.],\n",
       "       [0., 1.],\n",
       "       [0., 1.],\n",
       "       [0., 1.],\n",
       "       [0., 1.],\n",
       "       [0., 1.],\n",
       "       [0., 1.],\n",
       "       [0., 1.],\n",
       "       [0., 1.],\n",
       "       [0., 1.],\n",
       "       [0., 1.],\n",
       "       [0., 1.],\n",
       "       [0., 1.],\n",
       "       [0., 1.],\n",
       "       [0., 1.],\n",
       "       [0., 1.],\n",
       "       [0., 1.],\n",
       "       [0., 1.],\n",
       "       [0., 1.],\n",
       "       [0., 1.],\n",
       "       [0., 1.],\n",
       "       [0., 1.],\n",
       "       [0., 1.],\n",
       "       [0., 1.],\n",
       "       [0., 1.],\n",
       "       [0., 1.],\n",
       "       [0., 1.],\n",
       "       [0., 1.],\n",
       "       [0., 1.],\n",
       "       [0., 1.],\n",
       "       [0., 1.],\n",
       "       [0., 1.],\n",
       "       [0., 1.],\n",
       "       [0., 1.],\n",
       "       [0., 1.],\n",
       "       [0., 1.],\n",
       "       [0., 1.],\n",
       "       [0., 1.],\n",
       "       [0., 1.],\n",
       "       [0., 1.],\n",
       "       [0., 1.],\n",
       "       [0., 1.],\n",
       "       [0., 1.],\n",
       "       [0., 1.],\n",
       "       [0., 1.],\n",
       "       [0., 1.],\n",
       "       [0., 1.],\n",
       "       [0., 1.],\n",
       "       [0., 1.],\n",
       "       [0., 1.],\n",
       "       [0., 1.],\n",
       "       [0., 1.],\n",
       "       [0., 1.],\n",
       "       [0., 1.],\n",
       "       [0., 1.],\n",
       "       [0., 1.],\n",
       "       [0., 1.],\n",
       "       [0., 1.],\n",
       "       [0., 1.],\n",
       "       [0., 1.],\n",
       "       [0., 1.],\n",
       "       [0., 1.],\n",
       "       [0., 1.],\n",
       "       [0., 1.],\n",
       "       [0., 1.],\n",
       "       [0., 1.],\n",
       "       [0., 1.],\n",
       "       [0., 1.],\n",
       "       [0., 1.],\n",
       "       [0., 1.],\n",
       "       [0., 1.],\n",
       "       [0., 1.],\n",
       "       [0., 1.],\n",
       "       [0., 1.],\n",
       "       [0., 1.],\n",
       "       [0., 1.],\n",
       "       [0., 1.],\n",
       "       [0., 1.],\n",
       "       [0., 1.],\n",
       "       [4., 2.]])"
      ]
     },
     "execution_count": 150,
     "metadata": {},
     "output_type": "execute_result"
    }
   ],
   "source": [
    "R"
   ]
  },
  {
   "cell_type": "code",
   "execution_count": 135,
   "metadata": {},
   "outputs": [],
   "source": [
    "def ql_hyper_tune(P=P,R=R,gamma=0.96, alpha=0.1, alpha_decay=.99, alpha_min=.001, epsilon=1.0, epsilon_min=0.1, \n",
    "                  epsilon_decay=0.99, n_iter=10000):\n",
    "    ql = mdp.QLearning(P,R,gamma,n_iter)\n",
    "    ql.run()\n",
    "    return ql.policy\n",
    "    \n",
    "    "
   ]
  },
  {
   "cell_type": "code",
   "execution_count": 138,
   "metadata": {},
   "outputs": [],
   "source": [
    "results = []\n",
    "for n_iter in [10000000,20000000]:\n",
    "    #for gamma in [0.7,0.9,0.99]:\n",
    "        results.append(ql_hyper_tune(n_iter=n_iter))"
   ]
  },
  {
   "cell_type": "code",
   "execution_count": 139,
   "metadata": {
    "scrolled": true
   },
   "outputs": [
    {
     "name": "stdout",
     "output_type": "stream",
     "text": [
      "45\n",
      "53\n"
     ]
    }
   ],
   "source": [
    "for r in results:\n",
    "    print(sum([r[i] == vi.policy[i] for i in range(len(ql.policy))]))"
   ]
  },
  {
   "cell_type": "code",
   "execution_count": 134,
   "metadata": {
    "scrolled": true
   },
   "outputs": [
    {
     "name": "stdout",
     "output_type": "stream",
     "text": [
      "50\n",
      "46\n",
      "48\n",
      "43\n"
     ]
    }
   ],
   "source": [
    "for r in results:\n",
    "    print(sum([r[i] == vi.policy[i] for i in range(len(ql.policy))]))"
   ]
  },
  {
   "cell_type": "code",
   "execution_count": 137,
   "metadata": {
    "scrolled": true
   },
   "outputs": [
    {
     "name": "stdout",
     "output_type": "stream",
     "text": [
      "45\n",
      "42\n"
     ]
    }
   ],
   "source": [
    "for r in results:\n",
    "    print(sum([r[i] == vi.policy[i] for i in range(len(ql.policy))]))"
   ]
  },
  {
   "cell_type": "code",
   "execution_count": 140,
   "metadata": {},
   "outputs": [
    {
     "data": {
      "text/plain": [
       "400"
      ]
     },
     "execution_count": 140,
     "metadata": {},
     "output_type": "execute_result"
    }
   ],
   "source": [
    "len(ql.policy)"
   ]
  },
  {
   "cell_type": "code",
   "execution_count": null,
   "metadata": {},
   "outputs": [],
   "source": []
  },
  {
   "cell_type": "code",
   "execution_count": 144,
   "metadata": {
    "scrolled": true
   },
   "outputs": [
    {
     "name": "stdout",
     "output_type": "stream",
     "text": [
      "396\n",
      "396\n"
     ]
    }
   ],
   "source": [
    "for r in results:\n",
    "    print(sum([pi.policy[i] == vi.policy[i] for i in range(len(ql.policy))]))"
   ]
  },
  {
   "cell_type": "code",
   "execution_count": null,
   "metadata": {},
   "outputs": [],
   "source": []
  }
 ],
 "metadata": {
  "kernelspec": {
   "display_name": "Python 3",
   "language": "python",
   "name": "python3"
  },
  "language_info": {
   "codemirror_mode": {
    "name": "ipython",
    "version": 3
   },
   "file_extension": ".py",
   "mimetype": "text/x-python",
   "name": "python",
   "nbconvert_exporter": "python",
   "pygments_lexer": "ipython3",
   "version": "3.6.9"
  }
 },
 "nbformat": 4,
 "nbformat_minor": 2
}
