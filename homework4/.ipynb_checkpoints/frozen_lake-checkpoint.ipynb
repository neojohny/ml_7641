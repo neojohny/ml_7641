{
 "cells": [
  {
   "cell_type": "code",
   "execution_count": 21,
   "metadata": {},
   "outputs": [],
   "source": [
    "from gym import utils\n",
    "import numpy as np\n",
    "#import mdptoolbox.example\n",
    "import hiive.mdptoolbox.example as example\n",
    "import hiive.mdptoolbox.mdp as mdp\n",
    "#import hiive.mdptoolbox, hiive.mdptoolbox.example\n",
    "from matplotlib import pyplot as plt\n",
    "%matplotlib inline"
   ]
  },
  {
   "cell_type": "code",
   "execution_count": 22,
   "metadata": {},
   "outputs": [
    {
     "name": "stdout",
     "output_type": "stream",
     "text": [
      "\n",
      "\u001b[41mS\u001b[0mFFF\n",
      "FHFH\n",
      "FFFH\n",
      "HFFG\n"
     ]
    }
   ],
   "source": [
    "import gym # loading the Gym library\n",
    " \n",
    "env = gym.make(\"FrozenLake-v0\")\n",
    "env.reset()                    \n",
    "env.render()"
   ]
  },
  {
   "cell_type": "code",
   "execution_count": 23,
   "metadata": {},
   "outputs": [
    {
     "name": "stdout",
     "output_type": "stream",
     "text": [
      "Action space:  Discrete(4)\n",
      "Observation space:  Discrete(16)\n"
     ]
    }
   ],
   "source": [
    "print(\"Action space: \", env.action_space)\n",
    "print(\"Observation space: \", env.observation_space)"
   ]
  },
  {
   "cell_type": "code",
   "execution_count": 24,
   "metadata": {},
   "outputs": [
    {
     "data": {
      "text/plain": [
       "(4, 0.0, False, {'prob': 0.3333333333333333})"
      ]
     },
     "execution_count": 24,
     "metadata": {},
     "output_type": "execute_result"
    }
   ],
   "source": [
    "env.step(1)"
   ]
  },
  {
   "cell_type": "code",
   "execution_count": 25,
   "metadata": {
    "scrolled": true
   },
   "outputs": [
    {
     "name": "stdout",
     "output_type": "stream",
     "text": [
      "\n",
      "\u001b[41mS\u001b[0mFFF\n",
      "FHFH\n",
      "FFFH\n",
      "HFFG\n",
      "  (Right)\n",
      "\u001b[41mS\u001b[0mFFF\n",
      "FHFH\n",
      "FFFH\n",
      "HFFG\n",
      "  (Left)\n",
      "SFFF\n",
      "\u001b[41mF\u001b[0mHFH\n",
      "FFFH\n",
      "HFFG\n",
      "  (Down)\n",
      "SFFF\n",
      "\u001b[41mF\u001b[0mHFH\n",
      "FFFH\n",
      "HFFG\n",
      "  (Left)\n",
      "SFFF\n",
      "\u001b[41mF\u001b[0mHFH\n",
      "FFFH\n",
      "HFFG\n",
      "  (Right)\n",
      "\u001b[41mS\u001b[0mFFF\n",
      "FHFH\n",
      "FFFH\n",
      "HFFG\n",
      "  (Up)\n",
      "S\u001b[41mF\u001b[0mFF\n",
      "FHFH\n",
      "FFFH\n",
      "HFFG\n",
      "  (Up)\n",
      "\u001b[41mS\u001b[0mFFF\n",
      "FHFH\n",
      "FFFH\n",
      "HFFG\n",
      "  (Right)\n",
      "\u001b[41mS\u001b[0mFFF\n",
      "FHFH\n",
      "FFFH\n",
      "HFFG\n",
      "  (Left)\n",
      "\u001b[41mS\u001b[0mFFF\n",
      "FHFH\n",
      "FFFH\n",
      "HFFG\n",
      "  (Right)\n",
      "\u001b[41mS\u001b[0mFFF\n",
      "FHFH\n",
      "FFFH\n",
      "HFFG\n",
      "  (Right)\n",
      "SFFF\n",
      "\u001b[41mF\u001b[0mHFH\n",
      "FFFH\n",
      "HFFG\n",
      "  (Down)\n",
      "SFFF\n",
      "\u001b[41mF\u001b[0mHFH\n",
      "FFFH\n",
      "HFFG\n",
      "  (Up)\n",
      "SFFF\n",
      "F\u001b[41mH\u001b[0mFH\n",
      "FFFH\n",
      "HFFG\n"
     ]
    }
   ],
   "source": [
    "import gym\n",
    " \n",
    "MAX_ITERATIONS = 10\n",
    " \n",
    "env = gym.make(\"FrozenLake-v0\")\n",
    "env.reset()\n",
    "env.render()\n",
    "new_state = 0\n",
    "for i in range(100):\n",
    "    #print(i)\n",
    "    random_action = env.action_space.sample()\n",
    "    #random_action = vi.policy[new_state]\n",
    "    #print(random_action)\n",
    "    new_state, reward, done, info = env.step(\n",
    "       random_action)\n",
    "    #print(info['prob'])\n",
    "    env.render()\n",
    "    if done:\n",
    "        break"
   ]
  },
  {
   "cell_type": "code",
   "execution_count": 26,
   "metadata": {},
   "outputs": [],
   "source": [
    "nstates = env.env.nS\n",
    "nactions = env.env.nA"
   ]
  },
  {
   "cell_type": "code",
   "execution_count": 27,
   "metadata": {},
   "outputs": [],
   "source": [
    "P = [[[0.0]*nstates]*nstates]*nactions\n",
    "P = np.array(P)"
   ]
  },
  {
   "cell_type": "code",
   "execution_count": 28,
   "metadata": {},
   "outputs": [],
   "source": [
    "gym_p = env.env.P"
   ]
  },
  {
   "cell_type": "code",
   "execution_count": null,
   "metadata": {},
   "outputs": [],
   "source": []
  },
  {
   "cell_type": "code",
   "execution_count": 29,
   "metadata": {},
   "outputs": [],
   "source": [
    "P = [[[0.0]*nstates]*nstates]*nactions\n",
    "P = np.array(P)\n",
    "rewards = []#set()\n",
    "for k in gym_p.keys():\n",
    "    for a in gym_p[k].keys():\n",
    "        addornot = False\n",
    "        for i in range(len(gym_p[k][a])):\n",
    "            to_info = gym_p[k][a][i]\n",
    "            #print(P[a][k][to_info[1]])\n",
    "            P[a][k][to_info[1]] += to_info[0]\n",
    "            #R[k][a] = max(R[k][a],to_info[2])\n",
    "            addornot = addornot or to_info[3]\n",
    "            #print(addornot,k)\n",
    "        if addornot:\n",
    "                #rewards.add((k,to_info[1],to_info[2]))\n",
    "                rewards.append([k,a]+gym_p[k][a])\n",
    "            \n",
    "            \n",
    "    "
   ]
  },
  {
   "cell_type": "code",
   "execution_count": 30,
   "metadata": {},
   "outputs": [],
   "source": [
    "P = [[[0.0]*nstates]*nstates]*nactions\n",
    "P = np.array(P)\n",
    "rewards = []#set()\n",
    "for k in gym_p.keys():\n",
    "    for a in gym_p[k].keys():\n",
    "        addornot = False\n",
    "        for i in range(len(gym_p[k][a])):\n",
    "            to_info = gym_p[k][a][i]\n",
    "            #print(P[a][k][to_info[1]])\n",
    "            P[a][k][to_info[1]] += to_info[0]\n",
    "            #R[k][a] = max(R[k][a],to_info[2])\n",
    "            addornot = addornot or to_info[3]\n",
    "            #print(addornot,k)\n",
    "        if addornot:\n",
    "                #rewards.add((k,to_info[1],to_info[2]))\n",
    "                rewards.append([k,a]+gym_p[k][a])\n",
    "            \n",
    "            \n",
    "    "
   ]
  },
  {
   "cell_type": "code",
   "execution_count": 31,
   "metadata": {},
   "outputs": [
    {
     "data": {
      "text/plain": [
       "[(0.3333333333333333, 0, 0.0, False),\n",
       " (0.3333333333333333, 0, 0.0, False),\n",
       " (0.3333333333333333, 4, 0.0, False)]"
      ]
     },
     "execution_count": 31,
     "metadata": {},
     "output_type": "execute_result"
    }
   ],
   "source": [
    "gym_p[0][0]"
   ]
  },
  {
   "cell_type": "code",
   "execution_count": 32,
   "metadata": {},
   "outputs": [
    {
     "data": {
      "text/plain": [
       "[[1,\n",
       "  0,\n",
       "  (0.3333333333333333, 1, 0.0, False),\n",
       "  (0.3333333333333333, 0, 0.0, False),\n",
       "  (0.3333333333333333, 5, 0.0, True)],\n",
       " [1,\n",
       "  1,\n",
       "  (0.3333333333333333, 0, 0.0, False),\n",
       "  (0.3333333333333333, 5, 0.0, True),\n",
       "  (0.3333333333333333, 2, 0.0, False)],\n",
       " [1,\n",
       "  2,\n",
       "  (0.3333333333333333, 5, 0.0, True),\n",
       "  (0.3333333333333333, 2, 0.0, False),\n",
       "  (0.3333333333333333, 1, 0.0, False)],\n",
       " [3,\n",
       "  0,\n",
       "  (0.3333333333333333, 3, 0.0, False),\n",
       "  (0.3333333333333333, 2, 0.0, False),\n",
       "  (0.3333333333333333, 7, 0.0, True)],\n",
       " [3,\n",
       "  1,\n",
       "  (0.3333333333333333, 2, 0.0, False),\n",
       "  (0.3333333333333333, 7, 0.0, True),\n",
       "  (0.3333333333333333, 3, 0.0, False)],\n",
       " [3,\n",
       "  2,\n",
       "  (0.3333333333333333, 7, 0.0, True),\n",
       "  (0.3333333333333333, 3, 0.0, False),\n",
       "  (0.3333333333333333, 3, 0.0, False)],\n",
       " [4,\n",
       "  1,\n",
       "  (0.3333333333333333, 4, 0.0, False),\n",
       "  (0.3333333333333333, 8, 0.0, False),\n",
       "  (0.3333333333333333, 5, 0.0, True)],\n",
       " [4,\n",
       "  2,\n",
       "  (0.3333333333333333, 8, 0.0, False),\n",
       "  (0.3333333333333333, 5, 0.0, True),\n",
       "  (0.3333333333333333, 0, 0.0, False)],\n",
       " [4,\n",
       "  3,\n",
       "  (0.3333333333333333, 5, 0.0, True),\n",
       "  (0.3333333333333333, 0, 0.0, False),\n",
       "  (0.3333333333333333, 4, 0.0, False)],\n",
       " [5, 0, (1.0, 5, 0, True)],\n",
       " [5, 1, (1.0, 5, 0, True)],\n",
       " [5, 2, (1.0, 5, 0, True)],\n",
       " [5, 3, (1.0, 5, 0, True)],\n",
       " [6,\n",
       "  0,\n",
       "  (0.3333333333333333, 2, 0.0, False),\n",
       "  (0.3333333333333333, 5, 0.0, True),\n",
       "  (0.3333333333333333, 10, 0.0, False)],\n",
       " [6,\n",
       "  1,\n",
       "  (0.3333333333333333, 5, 0.0, True),\n",
       "  (0.3333333333333333, 10, 0.0, False),\n",
       "  (0.3333333333333333, 7, 0.0, True)],\n",
       " [6,\n",
       "  2,\n",
       "  (0.3333333333333333, 10, 0.0, False),\n",
       "  (0.3333333333333333, 7, 0.0, True),\n",
       "  (0.3333333333333333, 2, 0.0, False)],\n",
       " [6,\n",
       "  3,\n",
       "  (0.3333333333333333, 7, 0.0, True),\n",
       "  (0.3333333333333333, 2, 0.0, False),\n",
       "  (0.3333333333333333, 5, 0.0, True)],\n",
       " [7, 0, (1.0, 7, 0, True)],\n",
       " [7, 1, (1.0, 7, 0, True)],\n",
       " [7, 2, (1.0, 7, 0, True)],\n",
       " [7, 3, (1.0, 7, 0, True)],\n",
       " [8,\n",
       "  0,\n",
       "  (0.3333333333333333, 4, 0.0, False),\n",
       "  (0.3333333333333333, 8, 0.0, False),\n",
       "  (0.3333333333333333, 12, 0.0, True)],\n",
       " [8,\n",
       "  1,\n",
       "  (0.3333333333333333, 8, 0.0, False),\n",
       "  (0.3333333333333333, 12, 0.0, True),\n",
       "  (0.3333333333333333, 9, 0.0, False)],\n",
       " [8,\n",
       "  2,\n",
       "  (0.3333333333333333, 12, 0.0, True),\n",
       "  (0.3333333333333333, 9, 0.0, False),\n",
       "  (0.3333333333333333, 4, 0.0, False)],\n",
       " [9,\n",
       "  0,\n",
       "  (0.3333333333333333, 5, 0.0, True),\n",
       "  (0.3333333333333333, 8, 0.0, False),\n",
       "  (0.3333333333333333, 13, 0.0, False)],\n",
       " [9,\n",
       "  2,\n",
       "  (0.3333333333333333, 13, 0.0, False),\n",
       "  (0.3333333333333333, 10, 0.0, False),\n",
       "  (0.3333333333333333, 5, 0.0, True)],\n",
       " [9,\n",
       "  3,\n",
       "  (0.3333333333333333, 10, 0.0, False),\n",
       "  (0.3333333333333333, 5, 0.0, True),\n",
       "  (0.3333333333333333, 8, 0.0, False)],\n",
       " [10,\n",
       "  1,\n",
       "  (0.3333333333333333, 9, 0.0, False),\n",
       "  (0.3333333333333333, 14, 0.0, False),\n",
       "  (0.3333333333333333, 11, 0.0, True)],\n",
       " [10,\n",
       "  2,\n",
       "  (0.3333333333333333, 14, 0.0, False),\n",
       "  (0.3333333333333333, 11, 0.0, True),\n",
       "  (0.3333333333333333, 6, 0.0, False)],\n",
       " [10,\n",
       "  3,\n",
       "  (0.3333333333333333, 11, 0.0, True),\n",
       "  (0.3333333333333333, 6, 0.0, False),\n",
       "  (0.3333333333333333, 9, 0.0, False)],\n",
       " [11, 0, (1.0, 11, 0, True)],\n",
       " [11, 1, (1.0, 11, 0, True)],\n",
       " [11, 2, (1.0, 11, 0, True)],\n",
       " [11, 3, (1.0, 11, 0, True)],\n",
       " [12, 0, (1.0, 12, 0, True)],\n",
       " [12, 1, (1.0, 12, 0, True)],\n",
       " [12, 2, (1.0, 12, 0, True)],\n",
       " [12, 3, (1.0, 12, 0, True)],\n",
       " [13,\n",
       "  0,\n",
       "  (0.3333333333333333, 9, 0.0, False),\n",
       "  (0.3333333333333333, 12, 0.0, True),\n",
       "  (0.3333333333333333, 13, 0.0, False)],\n",
       " [13,\n",
       "  1,\n",
       "  (0.3333333333333333, 12, 0.0, True),\n",
       "  (0.3333333333333333, 13, 0.0, False),\n",
       "  (0.3333333333333333, 14, 0.0, False)],\n",
       " [13,\n",
       "  3,\n",
       "  (0.3333333333333333, 14, 0.0, False),\n",
       "  (0.3333333333333333, 9, 0.0, False),\n",
       "  (0.3333333333333333, 12, 0.0, True)],\n",
       " [14,\n",
       "  1,\n",
       "  (0.3333333333333333, 13, 0.0, False),\n",
       "  (0.3333333333333333, 14, 0.0, False),\n",
       "  (0.3333333333333333, 15, 1.0, True)],\n",
       " [14,\n",
       "  2,\n",
       "  (0.3333333333333333, 14, 0.0, False),\n",
       "  (0.3333333333333333, 15, 1.0, True),\n",
       "  (0.3333333333333333, 10, 0.0, False)],\n",
       " [14,\n",
       "  3,\n",
       "  (0.3333333333333333, 15, 1.0, True),\n",
       "  (0.3333333333333333, 10, 0.0, False),\n",
       "  (0.3333333333333333, 13, 0.0, False)],\n",
       " [15, 0, (1.0, 15, 0, True)],\n",
       " [15, 1, (1.0, 15, 0, True)],\n",
       " [15, 2, (1.0, 15, 0, True)],\n",
       " [15, 3, (1.0, 15, 0, True)]]"
      ]
     },
     "execution_count": 32,
     "metadata": {},
     "output_type": "execute_result"
    }
   ],
   "source": [
    "rewards"
   ]
  },
  {
   "cell_type": "code",
   "execution_count": 33,
   "metadata": {},
   "outputs": [],
   "source": [
    "re=[1000.0,-100.0,-1.0]\n",
    "re = [1.0,0.0,0.0]\n",
    "rtable = [[re[-1]]*env.env.nA]*env.env.nS\n",
    "rtable = np.array(rtable)\n",
    "\n",
    "for r in rewards:\n",
    "    im_re = 0\n",
    "    for i in range(2,len(r)):\n",
    "        value = re[0] if r[i][3] and r[i][2]>0 else re[1] if r[i][3]>0 and r[i][2]==0 else re[2]\n",
    "        #print(value)\n",
    "        im_re += r[i][0]*value\n",
    "    #print(im_re)\n",
    "    rtable[r[0]][r[1]] = im_re\n",
    "    #print(rtable)\n",
    "    "
   ]
  },
  {
   "cell_type": "code",
   "execution_count": 34,
   "metadata": {},
   "outputs": [
    {
     "data": {
      "text/plain": [
       "{0: [(0.3333333333333333, 1, 0.0, False),\n",
       "  (0.3333333333333333, 0, 0.0, False),\n",
       "  (0.3333333333333333, 5, 0.0, True)],\n",
       " 1: [(0.3333333333333333, 0, 0.0, False),\n",
       "  (0.3333333333333333, 5, 0.0, True),\n",
       "  (0.3333333333333333, 2, 0.0, False)],\n",
       " 2: [(0.3333333333333333, 5, 0.0, True),\n",
       "  (0.3333333333333333, 2, 0.0, False),\n",
       "  (0.3333333333333333, 1, 0.0, False)],\n",
       " 3: [(0.3333333333333333, 2, 0.0, False),\n",
       "  (0.3333333333333333, 1, 0.0, False),\n",
       "  (0.3333333333333333, 0, 0.0, False)]}"
      ]
     },
     "execution_count": 34,
     "metadata": {},
     "output_type": "execute_result"
    }
   ],
   "source": [
    "gym_p[1]"
   ]
  },
  {
   "cell_type": "code",
   "execution_count": 35,
   "metadata": {},
   "outputs": [],
   "source": [
    "index_action_dic = {1:2,-1:0,env.env.nS**0.5:1,-env.env.nS**0.5:3,0:-1}"
   ]
  },
  {
   "cell_type": "code",
   "execution_count": null,
   "metadata": {},
   "outputs": [],
   "source": []
  },
  {
   "cell_type": "code",
   "execution_count": null,
   "metadata": {},
   "outputs": [],
   "source": []
  },
  {
   "cell_type": "code",
   "execution_count": 36,
   "metadata": {},
   "outputs": [],
   "source": [
    "P = [[[0.0]*nstates]*nstates]*nactions\n",
    "P = np.array(P)\n",
    "rewards = []#set()\n",
    "for k in gym_p.keys():\n",
    "    for a in gym_p[k].keys():\n",
    "        addornot = False\n",
    "        for i in range(len(gym_p[k][a])):\n",
    "            to_info = gym_p[k][a][i]\n",
    "            #print(P[a][k][to_info[1]])\n",
    "            P[a][k][to_info[1]] += to_info[0]\n",
    "            #R[k][a] = max(R[k][a],to_info[2])\n",
    "            addornot = addornot or to_info[3]\n",
    "            #print(addornot,k)\n",
    "        if addornot:\n",
    "                #rewards.add((k,to_info[1],to_info[2]))\n",
    "                rewards.append([k,a]+gym_p[k][a])\n",
    "            \n",
    "            \n",
    "    "
   ]
  },
  {
   "cell_type": "code",
   "execution_count": 37,
   "metadata": {},
   "outputs": [],
   "source": [
    "def get_PR(gym_p,env,re=[1000,-100]):\n",
    "    P = [[[0.0]*nstates]*nstates]*nactions\n",
    "    P = np.array(P)\n",
    "    rewards = set()\n",
    "    for k in gym_p.keys():\n",
    "        for a in gym_p[k].keys():\n",
    "            for i in range(len(gym_p[k][a])):\n",
    "                to_info = gym_p[k][a][i]\n",
    "                #print(P[a][k][to_info[1]])\n",
    "                P[a][k][to_info[1]] += to_info[0]\n",
    "                #R[k][a] = max(R[k][a],to_info[2])\n",
    "                if to_info[3]:\n",
    "                    rewards.add((k,to_info[1],to_info[2]))\n",
    "            \n",
    "    index_action_dic = {1:2,-1:0,env.env.nS**0.5:1,-env.env.nS**0.5:3,0:-1}\n",
    "    R = [[0.0]*nactions]*nstates\n",
    "    R = np.array(R)\n",
    "    #R[14][2]=1\n",
    "    #R[11][1]=1\n",
    "    for r in rewards:\n",
    "        #print(r)\n",
    "        move = r[1] - r[0]\n",
    "        loc = index_action_dic[move]\n",
    "        #print(move,loc)\n",
    "        if loc >= 0:\n",
    "            if r[2]>0:\n",
    "                R[r[0]][loc] = re[0]\n",
    "            else:\n",
    "                R[r[0]][loc] = re[1]\n",
    "    return P,R"
   ]
  },
  {
   "cell_type": "code",
   "execution_count": 38,
   "metadata": {},
   "outputs": [],
   "source": [
    "def get_PR(gym_p,env,re=[1000,-100,-1]):\n",
    "    P = [[[0.0]*nstates]*nstates]*nactions\n",
    "    P = np.array(P)\n",
    "    rewards = []\n",
    "    for k in gym_p.keys():\n",
    "        for a in gym_p[k].keys():\n",
    "            addornot = False\n",
    "\n",
    "            for i in range(len(gym_p[k][a])):\n",
    "                to_info = gym_p[k][a][i]\n",
    "                #print(P[a][k][to_info[1]])\n",
    "                P[a][k][to_info[1]] += to_info[0]\n",
    "                #R[k][a] = max(R[k][a],to_info[2])\n",
    "                addornot = addornot or to_info[3]\n",
    "            if addornot:\n",
    "                rewards.append([k,a]+gym_p[k][a])\n",
    "            \n",
    "            \n",
    "    index_action_dic = {1:2,-1:0,env.env.nS**0.5:1,-env.env.nS**0.5:3,0:-1}\n",
    "    R = [[0.0]*nactions]*nstates\n",
    "    R = np.array(R)\n",
    "    for r in rewards:\n",
    "        im_re = 0\n",
    "        for i in range(2,len(r)):\n",
    "            value = re[0] if r[i][3] and r[i][2]>0 else re[1] if r[i][3] and r[i][2]==0 else re[2]\n",
    "            #print(value)\n",
    "            im_re += r[i][0]*value\n",
    "        #print(im_re)\n",
    "        R[r[0]][r[1]] = im_re\n",
    "    R[-1] = [0.0]*4\n",
    "    R[np.where(R==re[1])] = 0.0\n",
    "    #print(np.where(R==re[1]))\n",
    "    return P,R"
   ]
  },
  {
   "cell_type": "code",
   "execution_count": 39,
   "metadata": {},
   "outputs": [],
   "source": [
    "pp,rr = get_PR(gym_p,env,[10,-5,-1])"
   ]
  },
  {
   "cell_type": "code",
   "execution_count": null,
   "metadata": {},
   "outputs": [],
   "source": []
  },
  {
   "cell_type": "code",
   "execution_count": null,
   "metadata": {},
   "outputs": [],
   "source": [
    "R[1][1] = -1\n",
    "R[3][1] = -1\n",
    "R[4][2] = -1\n",
    "R[6][0] = -1\n",
    "R[6][2] = -1\n",
    "R[8][1] = -1\n",
    "R[5]"
   ]
  },
  {
   "cell_type": "code",
   "execution_count": null,
   "metadata": {},
   "outputs": [],
   "source": [
    "R = [[0.0]*nactions]*nstates\n",
    "R = np.array(R)\n",
    "R[14][2]=1\n",
    "R[11][1]=1"
   ]
  },
  {
   "cell_type": "markdown",
   "metadata": {},
   "source": [
    "## vi"
   ]
  },
  {
   "cell_type": "code",
   "execution_count": 41,
   "metadata": {},
   "outputs": [
    {
     "ename": "NameError",
     "evalue": "name 'R' is not defined",
     "output_type": "error",
     "traceback": [
      "\u001b[1;31m---------------------------------------------------------------------------\u001b[0m",
      "\u001b[1;31mNameError\u001b[0m                                 Traceback (most recent call last)",
      "\u001b[1;32m<ipython-input-41-193517f1f82e>\u001b[0m in \u001b[0;36m<module>\u001b[1;34m\u001b[0m\n\u001b[1;32m----> 1\u001b[1;33m \u001b[0mvi\u001b[0m \u001b[1;33m=\u001b[0m \u001b[0mmdp\u001b[0m\u001b[1;33m.\u001b[0m\u001b[0mValueIteration\u001b[0m\u001b[1;33m(\u001b[0m\u001b[0mP\u001b[0m\u001b[1;33m,\u001b[0m \u001b[0mR\u001b[0m\u001b[1;33m,\u001b[0m \u001b[1;36m0.96\u001b[0m\u001b[1;33m)\u001b[0m\u001b[1;33m\u001b[0m\u001b[1;33m\u001b[0m\u001b[0m\n\u001b[0m",
      "\u001b[1;31mNameError\u001b[0m: name 'R' is not defined"
     ]
    }
   ],
   "source": [
    "#vi = mdp.ValueIteration(P, R, 0.96)"
   ]
  },
  {
   "cell_type": "code",
   "execution_count": 43,
   "metadata": {},
   "outputs": [],
   "source": [
    "vi = mdp.ValueIteration(pp,rr,0.96)"
   ]
  },
  {
   "cell_type": "code",
   "execution_count": 44,
   "metadata": {},
   "outputs": [],
   "source": [
    "result = vi.run()"
   ]
  },
  {
   "cell_type": "code",
   "execution_count": 45,
   "metadata": {},
   "outputs": [],
   "source": [
    "errors = [i['Error'] for i in result]"
   ]
  },
  {
   "cell_type": "code",
   "execution_count": 46,
   "metadata": {},
   "outputs": [],
   "source": [
    "vi_re = [i['Reward'] for i in result]"
   ]
  },
  {
   "cell_type": "code",
   "execution_count": 47,
   "metadata": {},
   "outputs": [
    {
     "data": {
      "text/plain": [
       "[<matplotlib.lines.Line2D at 0x15874488608>]"
      ]
     },
     "execution_count": 47,
     "metadata": {},
     "output_type": "execute_result"
    },
    {
     "data": {
      "image/png": "[encoded data removed]",
      "text/plain": [
       "<Figure size 432x288 with 1 Axes>"
      ]
     },
     "metadata": {
      "needs_background": "light"
     },
     "output_type": "display_data"
    }
   ],
   "source": [
    "plt.plot(vi_re)"
   ]
  },
  {
   "cell_type": "code",
   "execution_count": 48,
   "metadata": {},
   "outputs": [
    {
     "data": {
      "text/plain": [
       "{'State': None,\n",
       " 'Action': None,\n",
       " 'Reward': 6.5598585989719576,\n",
       " 'Error': 0.0003923881129540563,\n",
       " 'Time': 0.016002416610717773,\n",
       " 'Max V': 6.5598585989719576,\n",
       " 'Mean V': 1.6058854313383897,\n",
       " 'Iteration': 103}"
      ]
     },
     "execution_count": 48,
     "metadata": {},
     "output_type": "execute_result"
    }
   ],
   "source": [
    "result[-1]"
   ]
  },
  {
   "cell_type": "code",
   "execution_count": 49,
   "metadata": {},
   "outputs": [],
   "source": [
    "def vi_plot(result):\n",
    "    #vi = mdp.ValueIteration(pp,rr,0.96)\n",
    "    #result = mol.run()\n",
    "    errors = [i['Error'] for i in result]\n",
    "    vi_re = [i['Reward'] for i in result]\n",
    "    mean_re = [i['Mean V'] for i in result]\n",
    "    ax1 = plt.subplot(131)\n",
    "    plt.plot(errors)\n",
    "    #plt.setp(ax1.get_xticklabels(), fontsize=6)\n",
    "    ax1.set_title('error')\n",
    "    # share x only\n",
    "    ax2 = plt.subplot(132)\n",
    "    plt.plot(vi_re)\n",
    "    # make these tick labels invisible\n",
    "    #plt.setp(ax2.get_xticklabels(), visible=False)\n",
    "    ax2.set_title('rewards')\n",
    "    ax3 = plt.subplot(133)\n",
    "    plt.plot(mean_re)\n",
    "    # make these tick labels invisible\n",
    "    #plt.setp(ax2.get_xticklabels(), visible=False)\n",
    "    ax3.set_title('Mean V')\n",
    "    \n",
    "    plt.plot()\n",
    "    #plt.title('MDP result')\n",
    "    return result,errors,vi_re"
   ]
  },
  {
   "cell_type": "code",
   "execution_count": 56,
   "metadata": {
    "scrolled": true
   },
   "outputs": [
    {
     "name": "stdout",
     "output_type": "stream",
     "text": [
      "(0, 3, 3, 3, 0, 0, 0, 0, 3, 1, 0, 0, 0, 2, 1, 0)\n",
      "103\n"
     ]
    },
    {
     "data": {
      "image/png": "[encoded data removed]",
      "text/plain": [
       "<Figure size 432x288 with 3 Axes>"
      ]
     },
     "metadata": {
      "needs_background": "light"
     },
     "output_type": "display_data"
    }
   ],
   "source": [
    "re = [10,-5,-0.5]\n",
    "\n",
    "pp,rr = get_PR(gym_p,env,re)\n",
    "vi = mdp.ValueIteration(pp,rr,0.96)\n",
    "pi = mdp.PolicyIteration(pp, rr, 0.9)\n",
    "result = vi.run()\n",
    "final_results,errors,final_rewards = vi_plot(result)\n",
    "print(vi.policy)\n",
    "print(len(final_results))"
   ]
  },
  {
   "cell_type": "code",
   "execution_count": 52,
   "metadata": {
    "scrolled": true
   },
   "outputs": [
    {
     "name": "stdout",
     "output_type": "stream",
     "text": [
      "(0, 3, 0, 3, 0, 0, 0, 0, 3, 1, 0, 0, 0, 2, 1, 0)\n",
      "127\n"
     ]
    },
    {
     "data": {
      "image/png": "[encoded data removed]",
      "text/plain": [
       "<Figure size 432x288 with 3 Axes>"
      ]
     },
     "metadata": {
      "needs_background": "light"
     },
     "output_type": "display_data"
    }
   ],
   "source": [
    "re = [100,-0,-0]\n",
    "\n",
    "pp,rr = get_PR(gym_p,env,re)\n",
    "vi = mdp.ValueIteration(pp,rr,0.96)\n",
    "pi = mdp.PolicyIteration(pp, rr, 0.9)\n",
    "result = vi.run()\n",
    "final_results,errors,final_rewards = vi_plot(result)\n",
    "print(vi.policy)\n",
    "print(len(final_results))"
   ]
  },
  {
   "cell_type": "code",
   "execution_count": 81,
   "metadata": {},
   "outputs": [
    {
     "data": {
      "text/plain": [
       "Text(0.5, 1.0, 'Gamma vs Iteration')"
      ]
     },
     "execution_count": 81,
     "metadata": {},
     "output_type": "execute_result"
    },
    {
     "data": {
      "image/png": "[encoded data removed]",
      "text/plain": [
       "<Figure size 432x288 with 1 Axes>"
      ]
     },
     "metadata": {
      "needs_background": "light"
     },
     "output_type": "display_data"
    }
   ],
   "source": [
    "re = [100,-0,-0]\n",
    "gamma = [0.9,0.99,0.999]\n",
    "pp,rr = get_PR(gym_p,env,re)\n",
    "results =[]\n",
    "for g in gamma:\n",
    "    vi = mdp.ValueIteration(pp,rr,g)\n",
    "    result = vi.run()\n",
    "    results.append([i['Mean V'] for i in result])\n",
    "    plt.plot([i['Mean V'] for i in result],label='Gamma='+str(g))\n",
    "#pd.DataFrame(result)\n",
    "plt.legend()\n",
    "plt.title('Gamma vs Iteration')"
   ]
  },
  {
   "cell_type": "code",
   "execution_count": 76,
   "metadata": {},
   "outputs": [
    {
     "data": {
      "text/plain": [
       "[<matplotlib.lines.Line2D at 0x15875e27d88>]"
      ]
     },
     "execution_count": 76,
     "metadata": {},
     "output_type": "execute_result"
    },
    {
     "data": {
      "image/png": "[encoded data removed]",
      "text/plain": [
       "<Figure size 432x288 with 1 Axes>"
      ]
     },
     "metadata": {
      "needs_background": "light"
     },
     "output_type": "display_data"
    }
   ],
   "source": [
    "plt.plot(results[0],label=1)"
   ]
  },
  {
   "cell_type": "code",
   "execution_count": null,
   "metadata": {
    "scrolled": false
   },
   "outputs": [],
   "source": [
    "re = [100,-5,-0.5]\n",
    "\n",
    "pp,rr = get_PR(gym_p,env,re)\n",
    "vi = mdp.ValueIteration(pp,rr,0.96)\n",
    "#vi.setVerbose()\n",
    "#pi = mdp.PolicyIteration(pp, rr, 0.9)\n",
    "final_results,errors,final_rewards = vi_plot(vi)\n",
    "print(vi.policy)\n",
    "print(len(final_results))"
   ]
  },
  {
   "cell_type": "code",
   "execution_count": 126,
   "metadata": {
    "scrolled": false
   },
   "outputs": [
    {
     "name": "stdout",
     "output_type": "stream",
     "text": [
      "(0, 3, 3, 3, 0, 0, 0, 0, 3, 1, 0, 0, 0, 2, 1, 0)\n",
      "1030\n"
     ]
    },
    {
     "data": {
      "image/png": "[encoded data removed]",
      "text/plain": [
       "<Figure size 432x288 with 3 Axes>"
      ]
     },
     "metadata": {
      "needs_background": "light"
     },
     "output_type": "display_data"
    }
   ],
   "source": [
    "re = [100,-.5,-0.5]\n",
    "\n",
    "pp,rr = get_PR(gym_p,env,re)\n",
    "vi = mdp.ValueIteration(pp,rr,0.999999996)\n",
    "#vi.setVerbose()\n",
    "#pi = mdp.PolicyIteration(pp, rr, 0.9)\n",
    "viresult = vi.run()\n",
    "final_results,errors,final_rewards = vi_plot(viresult)\n",
    "print(vi.policy)\n",
    "print(len(final_results))"
   ]
  },
  {
   "cell_type": "code",
   "execution_count": null,
   "metadata": {},
   "outputs": [],
   "source": [
    "re = [10,-5,-0.5]\n",
    "\n",
    "pp,rr = get_PR(gym_p,env,re)\n",
    "vi = mdp.ValueIteration(pp,rr,0.96)\n",
    "pi = mdp.PolicyIteration(pp, rr, 0.9)\n",
    "final_results,errors,final_rewards = vi_plot(vi)\n",
    "print(vi.policy)\n",
    "print(len(final_results))"
   ]
  },
  {
   "cell_type": "code",
   "execution_count": null,
   "metadata": {},
   "outputs": [],
   "source": []
  },
  {
   "cell_type": "code",
   "execution_count": 124,
   "metadata": {
    "scrolled": true
   },
   "outputs": [
    {
     "name": "stdout",
     "output_type": "stream",
     "text": [
      " Iteration   Variation\n",
      "         1           3\n",
      "         2           0\n",
      "Iterating stopped, unchanging policy found.\n",
      "(0, 3, 3, 3, 0, 0, 2, 0, 3, 1, 0, 0, 0, 2, 1, 0)\n"
     ]
    },
    {
     "data": {
      "image/png": "[encoded data removed]",
      "text/plain": [
       "<Figure size 432x288 with 3 Axes>"
      ]
     },
     "metadata": {
      "needs_background": "light"
     },
     "output_type": "display_data"
    }
   ],
   "source": [
    "re = [100,-5,0.5]\n",
    "re = [10,0,0]\n",
    "re = [10,-5,-0.5]\n",
    "\n",
    "pp,rr = get_PR(gym_p,env,re)\n",
    "\n",
    "pi = mdp.PolicyIteration(pp, rr, 0.999999996)\n",
    "pi.setVerbose()\n",
    "result = pi.run()\n",
    "final_results,errors,final_rewards = vi_plot(result)\n",
    "print(pi.policy)"
   ]
  },
  {
   "cell_type": "code",
   "execution_count": 57,
   "metadata": {},
   "outputs": [
    {
     "data": {
      "text/plain": [
       "(0, 3, 3, 3, 0, 0, 0, 0, 3, 1, 0, 0, 0, 2, 1, 0)"
      ]
     },
     "execution_count": 57,
     "metadata": {},
     "output_type": "execute_result"
    }
   ],
   "source": [
    "vi.policy"
   ]
  },
  {
   "cell_type": "code",
   "execution_count": null,
   "metadata": {},
   "outputs": [],
   "source": [
    "final_results"
   ]
  },
  {
   "cell_type": "code",
   "execution_count": null,
   "metadata": {},
   "outputs": [],
   "source": [
    "?pi._build_run_stat"
   ]
  },
  {
   "cell_type": "code",
   "execution_count": 55,
   "metadata": {},
   "outputs": [
    {
     "data": {
      "text/plain": [
       "(0, 3, 3, 3, 0, 0, 0, 0, 3, 1, 0, 0, 0, 2, 1, 0)"
      ]
     },
     "execution_count": 55,
     "metadata": {},
     "output_type": "execute_result"
    }
   ],
   "source": [
    "pi.policy"
   ]
  },
  {
   "cell_type": "code",
   "execution_count": null,
   "metadata": {},
   "outputs": [],
   "source": [
    "vi.policy"
   ]
  },
  {
   "cell_type": "markdown",
   "metadata": {},
   "source": [
    "## ql"
   ]
  },
  {
   "cell_type": "code",
   "execution_count": null,
   "metadata": {},
   "outputs": [],
   "source": []
  },
  {
   "cell_type": "code",
   "execution_count": 62,
   "metadata": {},
   "outputs": [
    {
     "name": "stdout",
     "output_type": "stream",
     "text": [
      "  (Up)\n",
      "SFFF\n",
      "F\u001b[41mH\u001b[0mFH\n",
      "FFFH\n",
      "HFFG\n"
     ]
    }
   ],
   "source": [
    "env.render()"
   ]
  },
  {
   "cell_type": "code",
   "execution_count": 61,
   "metadata": {
    "scrolled": false
   },
   "outputs": [
    {
     "name": "stdout",
     "output_type": "stream",
     "text": [
      "(0, 3, 3, 3, 0, 0, 2, 0, 3, 1, 0, 0, 0, 2, 1, 0)\n",
      "3.3320298194885254\n"
     ]
    },
    {
     "data": {
      "image/png": "[encoded data removed]",
      "text/plain": [
       "<Figure size 432x288 with 3 Axes>"
      ]
     },
     "metadata": {
      "needs_background": "light"
     },
     "output_type": "display_data"
    }
   ],
   "source": [
    "import time\n",
    "start = time.time()\n",
    "re = [10,-5,-0.5]\n",
    "pp,rr = get_PR(gym_p,env,re)\n",
    "n_iter = 100000\n",
    "#ql = mdp.QLearning(P, R, 0.96 , n_iter=n_iter,epsilon_decay=0.999,epsilon_min=0.001,alpha_decay=0.999,alpha = 0.01)\n",
    "ql = mdp.QLearning(pp, rr, 0.96 , n_iter=n_iter,epsilon_decay=0.999,epsilon_min=0.001,alpha_decay=0.999)\n",
    "result = ql.run()\n",
    "final_results,errors,final_rewards = vi_plot(result)\n",
    "print(ql.policy)\n",
    "print(time.time()-start)"
   ]
  },
  {
   "cell_type": "code",
   "execution_count": 93,
   "metadata": {
    "scrolled": false
   },
   "outputs": [
    {
     "name": "stdout",
     "output_type": "stream",
     "text": [
      "(0, 3, 3, 3, 0, 0, 3, 0, 3, 1, 0, 0, 0, 2, 2, 0)\n",
      "4.5657432079315186\n"
     ]
    },
    {
     "data": {
      "image/png": "[encoded data removed]",
      "text/plain": [
       "<Figure size 432x288 with 3 Axes>"
      ]
     },
     "metadata": {
      "needs_background": "light"
     },
     "output_type": "display_data"
    }
   ],
   "source": [
    "import time\n",
    "start = time.time()\n",
    "re = [10,-5,-0.5]\n",
    "pp,rr = get_PR(gym_p,env,re)\n",
    "n_iter = 100000\n",
    "#ql = mdp.QLearning(P, R, 0.96 , n_iter=n_iter,epsilon_decay=0.999,epsilon_min=0.001,alpha_decay=0.999,alpha = 0.01)\n",
    "ql = mdp.QLearning(pp, rr, 0.96 , n_iter=n_iter,epsilon_decay=0.999,epsilon_min=0.001,alpha_decay=0.999,run_stat_frequency=1)\n",
    "result = ql.run_lake()\n",
    "final_results,errors,final_rewards = vi_plot(result)\n",
    "print(ql.policy)\n",
    "print(time.time()-start)"
   ]
  },
  {
   "cell_type": "code",
   "execution_count": 121,
   "metadata": {},
   "outputs": [
    {
     "name": "stdout",
     "output_type": "stream",
     "text": [
      "16\n",
      "(0, 3, 3, 3, 0, 0, 0, 0, 3, 1, 0, 0, 0, 2, 1, 0)\n",
      "206.73770141601562\n"
     ]
    },
    {
     "data": {
      "image/png": "[encoded data removed]",
      "text/plain": [
       "<Figure size 432x288 with 3 Axes>"
      ]
     },
     "metadata": {
      "needs_background": "light"
     },
     "output_type": "display_data"
    }
   ],
   "source": [
    "import time\n",
    "start = time.time()\n",
    "n_iter = 5000000\n",
    "gamma = 0.96\n",
    "ql = mdp.QLearning(pp, rr, gamma , n_iter=n_iter,\n",
    "                   epsilon=1,epsilon_decay=0.9999,epsilon_min=0.1,\n",
    "                   alpha_decay=0.9999,alpha = 1,alpha_min=0.01\n",
    "                   ,run_stat_frequency=1,decay_every=100)\n",
    "ql.setVerbose()\n",
    "result = ql.run_lake()\n",
    "ql_result,ql_error,ql_reward = vi_plot(result)\n",
    "print(sum(ql.policy))\n",
    "print(ql.policy)\n",
    "print(time.time()-start)"
   ]
  },
  {
   "cell_type": "code",
   "execution_count": 132,
   "metadata": {},
   "outputs": [
    {
     "name": "stdout",
     "output_type": "stream",
     "text": [
      "16\n",
      "(0, 3, 3, 3, 0, 0, 0, 0, 3, 1, 0, 0, 0, 2, 1, 0)\n",
      "266.60700845718384\n"
     ]
    },
    {
     "data": {
      "image/png": "[encoded data removed]",
      "text/plain": [
       "<Figure size 432x288 with 3 Axes>"
      ]
     },
     "metadata": {
      "needs_background": "light"
     },
     "output_type": "display_data"
    }
   ],
   "source": [
    "import time\n",
    "start = time.time()\n",
    "n_iter = 5000000\n",
    "gamma = 0.96\n",
    "ql = mdp.QLearning(pp, rr, gamma , n_iter=n_iter,\n",
    "                   epsilon=1,epsilon_decay=0.9999,epsilon_min=0.1,\n",
    "                   alpha_decay=0.9999,alpha = 1,alpha_min=0.01\n",
    "                   ,run_stat_frequency=1,decay_every=100)\n",
    "ql.setVerbose()\n",
    "result = ql.run()\n",
    "ql_result,ql_error,ql_reward = vi_plot(result)\n",
    "print(sum(ql.policy))\n",
    "print(ql.policy)\n",
    "print(time.time()-start)"
   ]
  },
  {
   "cell_type": "code",
   "execution_count": 139,
   "metadata": {
    "scrolled": true
   },
   "outputs": [
    {
     "name": "stdout",
     "output_type": "stream",
     "text": [
      "18\n",
      "(3, 3, 3, 3, 0, 0, 0, 0, 3, 1, 0, 0, 0, 2, 0, 0)\n",
      "218.72183108329773\n"
     ]
    },
    {
     "data": {
      "image/png": "[encoded data removed]",
      "text/plain": [
       "<Figure size 432x288 with 3 Axes>"
      ]
     },
     "metadata": {
      "needs_background": "light"
     },
     "output_type": "display_data"
    }
   ],
   "source": [
    "import time\n",
    "start = time.time()\n",
    "n_iter = 5000000\n",
    "gamma = 0.999999996\n",
    "ql = mdp.QLearning(pp, rr, gamma , n_iter=n_iter,\n",
    "                   epsilon=1,epsilon_decay=0.9999,epsilon_min=0.1,\n",
    "                   alpha_decay=0.9999,alpha = 1,alpha_min=0.01\n",
    "                   ,run_stat_frequency=1,decay_every=100)\n",
    "ql.setVerbose()\n",
    "result = ql.run_lake()\n",
    "ql_result,ql_error,ql_reward = vi_plot(result)\n",
    "print(sum(ql.policy))\n",
    "print(ql.policy)\n",
    "print(time.time()-start)"
   ]
  },
  {
   "cell_type": "code",
   "execution_count": 105,
   "metadata": {},
   "outputs": [
    {
     "data": {
      "text/plain": [
       "(0, 3, 3, 3, 0, 0, 0, 0, 3, 1, 0, 0, 0, 2, 1, 0)"
      ]
     },
     "execution_count": 105,
     "metadata": {},
     "output_type": "execute_result"
    }
   ],
   "source": [
    "vi.policy"
   ]
  },
  {
   "cell_type": "code",
   "execution_count": 98,
   "metadata": {},
   "outputs": [
    {
     "data": {
      "text/plain": [
       "Text(0.5, 1.0, 'Converged QL')"
      ]
     },
     "execution_count": 98,
     "metadata": {},
     "output_type": "execute_result"
    },
    {
     "data": {
      "image/png": "[encoded data removed]",
      "text/plain": [
       "<Figure size 432x288 with 1 Axes>"
      ]
     },
     "metadata": {
      "needs_background": "light"
     },
     "output_type": "display_data"
    }
   ],
   "source": [
    "plt.plot([i['Max V'] for i in ql_result])\n",
    "plt.plot([i['Mean V'] for i in ql_result])\n",
    "plt.title('Converged QL')"
   ]
  },
  {
   "cell_type": "code",
   "execution_count": 117,
   "metadata": {},
   "outputs": [
    {
     "data": {
      "text/plain": [
       "<matplotlib.legend.Legend at 0x1587e8bae48>"
      ]
     },
     "execution_count": 117,
     "metadata": {},
     "output_type": "execute_result"
    },
    {
     "data": {
      "image/png": "[encoded data removed]",
      "text/plain": [
       "<Figure size 432x288 with 1 Axes>"
      ]
     },
     "metadata": {
      "needs_background": "light"
     },
     "output_type": "display_data"
    }
   ],
   "source": [
    "plt.plot([i['Max V'] for i in ql_result],label='Max V')\n",
    "plt.plot([i['Mean V'] for i in ql_result],label = 'Mean V')\n",
    "plt.title('Frozen Lake Converged QL')\n",
    "plt.legend(loc='best') #0.999999996"
   ]
  },
  {
   "cell_type": "code",
   "execution_count": 140,
   "metadata": {},
   "outputs": [
    {
     "data": {
      "text/plain": [
       "<matplotlib.legend.Legend at 0x15b2d1e3fc8>"
      ]
     },
     "execution_count": 140,
     "metadata": {},
     "output_type": "execute_result"
    },
    {
     "data": {
      "image/png": "[encoded data removed]",
      "text/plain": [
       "<Figure size 432x288 with 1 Axes>"
      ]
     },
     "metadata": {
      "needs_background": "light"
     },
     "output_type": "display_data"
    }
   ],
   "source": [
    "plt.plot([i['Max V'] for i in ql_result],label='Max V')\n",
    "plt.plot([i['Mean V'] for i in ql_result],label = 'Mean V')\n",
    "plt.title('Frozen Lake Converged QL')\n",
    "plt.legend(loc='best') #0.999999996"
   ]
  },
  {
   "cell_type": "code",
   "execution_count": 122,
   "metadata": {},
   "outputs": [
    {
     "data": {
      "text/plain": [
       "<matplotlib.legend.Legend at 0x15810fdffc8>"
      ]
     },
     "execution_count": 122,
     "metadata": {},
     "output_type": "execute_result"
    },
    {
     "data": {
      "image/png": "[encoded data removed]",
      "text/plain": [
       "<Figure size 432x288 with 1 Axes>"
      ]
     },
     "metadata": {
      "needs_background": "light"
     },
     "output_type": "display_data"
    }
   ],
   "source": [
    "plt.plot([i['Max V'] for i in ql_result],label='Max V')\n",
    "plt.plot([i['Mean V'] for i in ql_result],label = 'Mean V')\n",
    "plt.title('Frozen Lake Converged QL')\n",
    "plt.legend(loc='best')"
   ]
  },
  {
   "cell_type": "code",
   "execution_count": 133,
   "metadata": {},
   "outputs": [
    {
     "data": {
      "text/plain": [
       "<matplotlib.legend.Legend at 0x1587b7212c8>"
      ]
     },
     "execution_count": 133,
     "metadata": {},
     "output_type": "execute_result"
    },
    {
     "data": {
      "image/png": "[encoded data removed]",
      "text/plain": [
       "<Figure size 432x288 with 1 Axes>"
      ]
     },
     "metadata": {
      "needs_background": "light"
     },
     "output_type": "display_data"
    }
   ],
   "source": [
    "plt.plot([i['Max V'] for i in ql_result],label='Max V')\n",
    "plt.plot([i['Mean V'] for i in ql_result],label = 'Mean V')\n",
    "plt.title('Frozen Lake Converged QL Plain_run')\n",
    "plt.legend(loc='best')"
   ]
  },
  {
   "cell_type": "code",
   "execution_count": null,
   "metadata": {},
   "outputs": [],
   "source": []
  },
  {
   "cell_type": "code",
   "execution_count": 81,
   "metadata": {},
   "outputs": [
    {
     "data": {
      "text/plain": [
       "Text(0.5, 1.0, 'Gamma vs Iteration')"
      ]
     },
     "execution_count": 81,
     "metadata": {},
     "output_type": "execute_result"
    },
    {
     "data": {
      "image/png": "[encoded data removed]",
      "text/plain": [
       "<Figure size 432x288 with 1 Axes>"
      ]
     },
     "metadata": {
      "needs_background": "light"
     },
     "output_type": "display_data"
    }
   ],
   "source": [
    "re = [100,-0,-0]\n",
    "gamma = [0.9,0.99,0.999]\n",
    "pp,rr = get_PR(gym_p,env,re)\n",
    "results =[]\n",
    "for g in gamma:\n",
    "    vi = mdp.ValueIteration(pp,rr,g)\n",
    "    result = vi.run()\n",
    "    results.append([i['Mean V'] for i in result])\n",
    "    plt.plot([i['Mean V'] for i in result],label='Gamma='+str(g))\n",
    "#pd.DataFrame(result)\n",
    "plt.legend()\n",
    "plt.title('Gamma vs Iteration')"
   ]
  },
  {
   "cell_type": "code",
   "execution_count": 131,
   "metadata": {},
   "outputs": [
    {
     "data": {
      "text/plain": [
       "Text(0.5, 1.0, 'Gamma vs Iteration')"
      ]
     },
     "execution_count": 131,
     "metadata": {},
     "output_type": "execute_result"
    },
    {
     "data": {
      "image/png": "[encoded data removed]",
      "text/plain": [
       "<Figure size 432x288 with 1 Axes>"
      ]
     },
     "metadata": {
      "needs_background": "light"
     },
     "output_type": "display_data"
    }
   ],
   "source": [
    "re = [10,-5,-0.5]\n",
    "gamma = [0.9,0.99,0.999]\n",
    "pp,rr = get_PR(gym_p,env,re)\n",
    "results =[]\n",
    "n_iter = 30000\n",
    "for g in gamma:\n",
    "    #vi = mdp.ValueIteration(pp,rr,g)\n",
    "    ql = mdp.QLearning(pp, rr, g , n_iter=n_iter,epsilon_decay=0.999,epsilon_min=0.001,alpha_decay=0.999)\n",
    "\n",
    "    qlresult = ql.run()\n",
    "    results.append([i['Mean V'] for i in qlresult])\n",
    "    plt.plot([i['Mean V'] for i in qlresult],label='Gamma='+str(g))\n",
    "#pd.DataFrame(result)\n",
    "plt.legend()\n",
    "plt.title('Q learning Gamma vs Iteration')"
   ]
  },
  {
   "cell_type": "code",
   "execution_count": 58,
   "metadata": {
    "scrolled": false
   },
   "outputs": [
    {
     "name": "stdout",
     "output_type": "stream",
     "text": [
      "(2, 3, 3, 3, 0, 0, 0, 0, 3, 1, 0, 0, 0, 2, 2, 0)\n",
      "(1, 3, 3, 3, 0, 0, 2, 0, 3, 1, 0, 0, 0, 2, 1, 0)\n",
      "78.74746656417847\n"
     ]
    }
   ],
   "source": [
    "import time\n",
    "start = time.time()\n",
    "re = [10,-5,-0.5]\n",
    "pp,rr = get_PR(gym_p,env,re)\n",
    "n_iter = 1000000\n",
    "#ql = mdp.QLearning(P, R, 0.96 , n_iter=n_iter,epsilon_decay=0.999,epsilon_min=0.001,alpha_decay=0.999,alpha = 0.01)\n",
    "ql = mdp.QLearning(pp, rr, 0.96 , n_iter=n_iter,epsilon_decay=0.999,epsilon_min=0.001,alpha_decay=0.999,run_stat_frequency=1)\n",
    "\n",
    "#final_results,errors,final_rewards = vi_plot(ql)\n",
    "result = ql.run_lake()\n",
    "print(ql.policy)\n",
    "ql = mdp.QLearning(pp, rr, 0.96 , n_iter=n_iter,epsilon_decay=0.999,epsilon_min=0.001,alpha_decay=0.999,run_stat_frequency=1)\n",
    "result2 = ql.run()\n",
    "print(ql.policy)\n",
    "print(time.time()-start)"
   ]
  },
  {
   "cell_type": "code",
   "execution_count": null,
   "metadata": {
    "scrolled": false
   },
   "outputs": [],
   "source": [
    "import time\n",
    "start = time.time()\n",
    "re = [10,-5,-0.5]\n",
    "pp,rr = get_PR(gym_p,env,re)\n",
    "n_iter = 1000000\n",
    "#ql = mdp.QLearning(P, R, 0.96 , n_iter=n_iter,epsilon_decay=0.999,epsilon_min=0.001,alpha_decay=0.999,alpha = 0.01)\n",
    "ql = mdp.QLearning(pp, rr, 0.96 , n_iter=n_iter,epsilon_decay=0.999,epsilon_min=0.001,alpha_decay=0.999,run_stat_frequency=1)\n",
    "\n",
    "#final_results,errors,final_rewards = vi_plot(ql)\n",
    "result = ql.run_lake()\n",
    "print(ql.policy)\n",
    "print(time.time()-start)"
   ]
  },
  {
   "cell_type": "code",
   "execution_count": null,
   "metadata": {},
   "outputs": [],
   "source": [
    "_ = vi_plot(result)"
   ]
  },
  {
   "cell_type": "code",
   "execution_count": 44,
   "metadata": {
    "scrolled": false
   },
   "outputs": [
    {
     "data": {
      "text/plain": [
       "(2, 3, 3, 3, 0, 0, 0, 0, 3, 1, 0, 0, 0, 2, 3, 0)"
      ]
     },
     "execution_count": 44,
     "metadata": {},
     "output_type": "execute_result"
    }
   ],
   "source": [
    "ql.policy"
   ]
  },
  {
   "cell_type": "code",
   "execution_count": 66,
   "metadata": {},
   "outputs": [
    {
     "data": {
      "text/plain": [
       "(0, 3, 3, 3, 0, 0, 0, 0, 3, 1, 0, 0, 0, 2, 1, 0)"
      ]
     },
     "execution_count": 66,
     "metadata": {},
     "output_type": "execute_result"
    }
   ],
   "source": [
    "vi.policy"
   ]
  },
  {
   "cell_type": "code",
   "execution_count": 67,
   "metadata": {},
   "outputs": [
    {
     "data": {
      "text/plain": [
       "(0, 3, 3, 3, 0, 0, 0, 0, 3, 1, 0, 0, 0, 2, 1, 0)"
      ]
     },
     "execution_count": 67,
     "metadata": {},
     "output_type": "execute_result"
    }
   ],
   "source": [
    "pi.policy"
   ]
  },
  {
   "cell_type": "code",
   "execution_count": 90,
   "metadata": {},
   "outputs": [],
   "source": [
    "\n",
    "import pandas as pd"
   ]
  },
  {
   "cell_type": "code",
   "execution_count": 91,
   "metadata": {},
   "outputs": [
    {
     "data": {
      "text/plain": [
       "0     25378\n",
       "1     23711\n",
       "2     23219\n",
       "3     22889\n",
       "8       838\n",
       "9       825\n",
       "13      754\n",
       "4       736\n",
       "10      598\n",
       "14      491\n",
       "6       281\n",
       "5        68\n",
       "12       61\n",
       "7        53\n",
       "15       51\n",
       "11       47\n",
       "Name: 0, dtype: int64"
      ]
     },
     "execution_count": 91,
     "metadata": {},
     "output_type": "execute_result"
    }
   ],
   "source": [
    "pd.DataFrame([i['State'] for i in result])[0].value_counts()"
   ]
  },
  {
   "cell_type": "code",
   "execution_count": 92,
   "metadata": {},
   "outputs": [
    {
     "data": {
      "text/plain": [
       "(0.0,\n",
       " 0.0,\n",
       " 0.0,\n",
       " 0.0,\n",
       " 0.00017079201480666535,\n",
       " 0.0,\n",
       " -1.1407697242057941,\n",
       " 0.0,\n",
       " 0.004640814400448026,\n",
       " 0.05330607227216843,\n",
       " 0.08652132082529682,\n",
       " 0.0,\n",
       " 0.0,\n",
       " 0.39131392483991917,\n",
       " 1.9678027576340271,\n",
       " 0.0)"
      ]
     },
     "execution_count": 92,
     "metadata": {},
     "output_type": "execute_result"
    }
   ],
   "source": [
    "ql.V"
   ]
  },
  {
   "cell_type": "code",
   "execution_count": 72,
   "metadata": {},
   "outputs": [
    {
     "data": {
      "text/plain": [
       "15    3887\n",
       "7     1220\n",
       "5     1220\n",
       "12     654\n",
       "11     560\n",
       "2      326\n",
       "3      319\n",
       "1      288\n",
       "0      264\n",
       "4      216\n",
       "8      204\n",
       "6      190\n",
       "13     172\n",
       "14     170\n",
       "9      165\n",
       "10     145\n",
       "Name: 0, dtype: int64"
      ]
     },
     "execution_count": 72,
     "metadata": {},
     "output_type": "execute_result"
    }
   ],
   "source": [
    "pd.DataFrame([i['State'] for i in final_results])[0].value_counts()"
   ]
  },
  {
   "cell_type": "code",
   "execution_count": 64,
   "metadata": {},
   "outputs": [
    {
     "name": "stdout",
     "output_type": "stream",
     "text": [
      "\n",
      "\u001b[41mS\u001b[0mFFF\n",
      "FHFH\n",
      "FFFH\n",
      "HFFG\n"
     ]
    }
   ],
   "source": [
    "env.render()"
   ]
  },
  {
   "cell_type": "code",
   "execution_count": 59,
   "metadata": {},
   "outputs": [
    {
     "data": {
      "text/plain": [
       "[{'State': 15,\n",
       "  'Action': 0,\n",
       "  'Reward': 0.0,\n",
       "  'Error': 0.0,\n",
       "  'Time': 0.7039937973022461,\n",
       "  'Alpha': 0.001,\n",
       "  'Epsilon': 0.001,\n",
       "  'Gamma': 0.96,\n",
       "  'Max V': 0.19637570543847577,\n",
       "  'Mean V': 0.010676819193196515,\n",
       "  'Iteration': 9901},\n",
       " {'State': 15,\n",
       "  'Action': 0,\n",
       "  'Reward': 0.0,\n",
       "  'Error': 0.0,\n",
       "  'Time': 0.7039937973022461,\n",
       "  'Alpha': 0.001,\n",
       "  'Epsilon': 0.001,\n",
       "  'Gamma': 0.96,\n",
       "  'Max V': 0.19637570543847577,\n",
       "  'Mean V': 0.010676819193196515,\n",
       "  'Iteration': 9902},\n",
       " {'State': 15,\n",
       "  'Action': 0,\n",
       "  'Reward': 0.0,\n",
       "  'Error': 0.0,\n",
       "  'Time': 0.7050278186798096,\n",
       "  'Alpha': 0.001,\n",
       "  'Epsilon': 0.001,\n",
       "  'Gamma': 0.96,\n",
       "  'Max V': 0.19637570543847577,\n",
       "  'Mean V': 0.010676819193196515,\n",
       "  'Iteration': 9903},\n",
       " {'State': 15,\n",
       "  'Action': 0,\n",
       "  'Reward': 0.0,\n",
       "  'Error': 0.0,\n",
       "  'Time': 0.7050278186798096,\n",
       "  'Alpha': 0.001,\n",
       "  'Epsilon': 0.001,\n",
       "  'Gamma': 0.96,\n",
       "  'Max V': 0.19637570543847577,\n",
       "  'Mean V': 0.010676819193196515,\n",
       "  'Iteration': 9904},\n",
       " {'State': 15,\n",
       "  'Action': 0,\n",
       "  'Reward': 0.0,\n",
       "  'Error': 0.0,\n",
       "  'Time': 0.7050278186798096,\n",
       "  'Alpha': 0.001,\n",
       "  'Epsilon': 0.001,\n",
       "  'Gamma': 0.96,\n",
       "  'Max V': 0.19637570543847577,\n",
       "  'Mean V': 0.010676819193196515,\n",
       "  'Iteration': 9905},\n",
       " {'State': 15,\n",
       "  'Action': 0,\n",
       "  'Reward': 0.0,\n",
       "  'Error': 0.0,\n",
       "  'Time': 0.7050278186798096,\n",
       "  'Alpha': 0.001,\n",
       "  'Epsilon': 0.001,\n",
       "  'Gamma': 0.96,\n",
       "  'Max V': 0.19637570543847577,\n",
       "  'Mean V': 0.010676819193196515,\n",
       "  'Iteration': 9906},\n",
       " {'State': 15,\n",
       "  'Action': 0,\n",
       "  'Reward': 0.0,\n",
       "  'Error': 0.0,\n",
       "  'Time': 0.7050278186798096,\n",
       "  'Alpha': 0.001,\n",
       "  'Epsilon': 0.001,\n",
       "  'Gamma': 0.96,\n",
       "  'Max V': 0.19637570543847577,\n",
       "  'Mean V': 0.010676819193196515,\n",
       "  'Iteration': 9907},\n",
       " {'State': 15,\n",
       "  'Action': 0,\n",
       "  'Reward': 0.0,\n",
       "  'Error': 0.0,\n",
       "  'Time': 0.7050278186798096,\n",
       "  'Alpha': 0.001,\n",
       "  'Epsilon': 0.001,\n",
       "  'Gamma': 0.96,\n",
       "  'Max V': 0.19637570543847577,\n",
       "  'Mean V': 0.010676819193196515,\n",
       "  'Iteration': 9908},\n",
       " {'State': 15,\n",
       "  'Action': 0,\n",
       "  'Reward': 0.0,\n",
       "  'Error': 0.0,\n",
       "  'Time': 0.7050278186798096,\n",
       "  'Alpha': 0.001,\n",
       "  'Epsilon': 0.001,\n",
       "  'Gamma': 0.96,\n",
       "  'Max V': 0.19637570543847577,\n",
       "  'Mean V': 0.010676819193196515,\n",
       "  'Iteration': 9909},\n",
       " {'State': 15,\n",
       "  'Action': 0,\n",
       "  'Reward': 0.0,\n",
       "  'Error': 0.0,\n",
       "  'Time': 0.7050278186798096,\n",
       "  'Alpha': 0.001,\n",
       "  'Epsilon': 0.001,\n",
       "  'Gamma': 0.96,\n",
       "  'Max V': 0.19637570543847577,\n",
       "  'Mean V': 0.010676819193196515,\n",
       "  'Iteration': 9910},\n",
       " {'State': 15,\n",
       "  'Action': 0,\n",
       "  'Reward': 0.0,\n",
       "  'Error': 0.0,\n",
       "  'Time': 0.7050278186798096,\n",
       "  'Alpha': 0.001,\n",
       "  'Epsilon': 0.001,\n",
       "  'Gamma': 0.96,\n",
       "  'Max V': 0.19637570543847577,\n",
       "  'Mean V': 0.010676819193196515,\n",
       "  'Iteration': 9911},\n",
       " {'State': 15,\n",
       "  'Action': 0,\n",
       "  'Reward': 0.0,\n",
       "  'Error': 0.0,\n",
       "  'Time': 0.7050278186798096,\n",
       "  'Alpha': 0.001,\n",
       "  'Epsilon': 0.001,\n",
       "  'Gamma': 0.96,\n",
       "  'Max V': 0.19637570543847577,\n",
       "  'Mean V': 0.010676819193196515,\n",
       "  'Iteration': 9912},\n",
       " {'State': 15,\n",
       "  'Action': 0,\n",
       "  'Reward': 0.0,\n",
       "  'Error': 0.0,\n",
       "  'Time': 0.7050278186798096,\n",
       "  'Alpha': 0.001,\n",
       "  'Epsilon': 0.001,\n",
       "  'Gamma': 0.96,\n",
       "  'Max V': 0.19637570543847577,\n",
       "  'Mean V': 0.010676819193196515,\n",
       "  'Iteration': 9913},\n",
       " {'State': 15,\n",
       "  'Action': 0,\n",
       "  'Reward': 0.0,\n",
       "  'Error': 0.0,\n",
       "  'Time': 0.7050278186798096,\n",
       "  'Alpha': 0.001,\n",
       "  'Epsilon': 0.001,\n",
       "  'Gamma': 0.96,\n",
       "  'Max V': 0.19637570543847577,\n",
       "  'Mean V': 0.010676819193196515,\n",
       "  'Iteration': 9914},\n",
       " {'State': 15,\n",
       "  'Action': 0,\n",
       "  'Reward': 0.0,\n",
       "  'Error': 0.0,\n",
       "  'Time': 0.706031322479248,\n",
       "  'Alpha': 0.001,\n",
       "  'Epsilon': 0.001,\n",
       "  'Gamma': 0.96,\n",
       "  'Max V': 0.19637570543847577,\n",
       "  'Mean V': 0.010676819193196515,\n",
       "  'Iteration': 9915},\n",
       " {'State': 15,\n",
       "  'Action': 0,\n",
       "  'Reward': 0.0,\n",
       "  'Error': 0.0,\n",
       "  'Time': 0.706031322479248,\n",
       "  'Alpha': 0.001,\n",
       "  'Epsilon': 0.001,\n",
       "  'Gamma': 0.96,\n",
       "  'Max V': 0.19637570543847577,\n",
       "  'Mean V': 0.010676819193196515,\n",
       "  'Iteration': 9916},\n",
       " {'State': 15,\n",
       "  'Action': 0,\n",
       "  'Reward': 0.0,\n",
       "  'Error': 0.0,\n",
       "  'Time': 0.706031322479248,\n",
       "  'Alpha': 0.001,\n",
       "  'Epsilon': 0.001,\n",
       "  'Gamma': 0.96,\n",
       "  'Max V': 0.19637570543847577,\n",
       "  'Mean V': 0.010676819193196515,\n",
       "  'Iteration': 9917},\n",
       " {'State': 15,\n",
       "  'Action': 0,\n",
       "  'Reward': 0.0,\n",
       "  'Error': 0.0,\n",
       "  'Time': 0.706031322479248,\n",
       "  'Alpha': 0.001,\n",
       "  'Epsilon': 0.001,\n",
       "  'Gamma': 0.96,\n",
       "  'Max V': 0.19637570543847577,\n",
       "  'Mean V': 0.010676819193196515,\n",
       "  'Iteration': 9918},\n",
       " {'State': 15,\n",
       "  'Action': 0,\n",
       "  'Reward': 0.0,\n",
       "  'Error': 0.0,\n",
       "  'Time': 0.706031322479248,\n",
       "  'Alpha': 0.001,\n",
       "  'Epsilon': 0.001,\n",
       "  'Gamma': 0.96,\n",
       "  'Max V': 0.19637570543847577,\n",
       "  'Mean V': 0.010676819193196515,\n",
       "  'Iteration': 9919},\n",
       " {'State': 15,\n",
       "  'Action': 0,\n",
       "  'Reward': 0.0,\n",
       "  'Error': 0.0,\n",
       "  'Time': 0.706031322479248,\n",
       "  'Alpha': 0.001,\n",
       "  'Epsilon': 0.001,\n",
       "  'Gamma': 0.96,\n",
       "  'Max V': 0.19637570543847577,\n",
       "  'Mean V': 0.010676819193196515,\n",
       "  'Iteration': 9920},\n",
       " {'State': 15,\n",
       "  'Action': 0,\n",
       "  'Reward': 0.0,\n",
       "  'Error': 0.0,\n",
       "  'Time': 0.706031322479248,\n",
       "  'Alpha': 0.001,\n",
       "  'Epsilon': 0.001,\n",
       "  'Gamma': 0.96,\n",
       "  'Max V': 0.19637570543847577,\n",
       "  'Mean V': 0.010676819193196515,\n",
       "  'Iteration': 9921},\n",
       " {'State': 15,\n",
       "  'Action': 0,\n",
       "  'Reward': 0.0,\n",
       "  'Error': 0.0,\n",
       "  'Time': 0.706031322479248,\n",
       "  'Alpha': 0.001,\n",
       "  'Epsilon': 0.001,\n",
       "  'Gamma': 0.96,\n",
       "  'Max V': 0.19637570543847577,\n",
       "  'Mean V': 0.010676819193196515,\n",
       "  'Iteration': 9922},\n",
       " {'State': 15,\n",
       "  'Action': 0,\n",
       "  'Reward': 0.0,\n",
       "  'Error': 0.0,\n",
       "  'Time': 0.706031322479248,\n",
       "  'Alpha': 0.001,\n",
       "  'Epsilon': 0.001,\n",
       "  'Gamma': 0.96,\n",
       "  'Max V': 0.19637570543847577,\n",
       "  'Mean V': 0.010676819193196515,\n",
       "  'Iteration': 9923},\n",
       " {'State': 15,\n",
       "  'Action': 0,\n",
       "  'Reward': 0.0,\n",
       "  'Error': 0.0,\n",
       "  'Time': 0.7070326805114746,\n",
       "  'Alpha': 0.001,\n",
       "  'Epsilon': 0.001,\n",
       "  'Gamma': 0.96,\n",
       "  'Max V': 0.19637570543847577,\n",
       "  'Mean V': 0.010676819193196515,\n",
       "  'Iteration': 9924},\n",
       " {'State': 15,\n",
       "  'Action': 0,\n",
       "  'Reward': 0.0,\n",
       "  'Error': 0.0,\n",
       "  'Time': 0.7070326805114746,\n",
       "  'Alpha': 0.001,\n",
       "  'Epsilon': 0.001,\n",
       "  'Gamma': 0.96,\n",
       "  'Max V': 0.19637570543847577,\n",
       "  'Mean V': 0.010676819193196515,\n",
       "  'Iteration': 9925},\n",
       " {'State': 15,\n",
       "  'Action': 0,\n",
       "  'Reward': 0.0,\n",
       "  'Error': 0.0,\n",
       "  'Time': 0.7070326805114746,\n",
       "  'Alpha': 0.001,\n",
       "  'Epsilon': 0.001,\n",
       "  'Gamma': 0.96,\n",
       "  'Max V': 0.19637570543847577,\n",
       "  'Mean V': 0.010676819193196515,\n",
       "  'Iteration': 9926},\n",
       " {'State': 15,\n",
       "  'Action': 0,\n",
       "  'Reward': 0.0,\n",
       "  'Error': 0.0,\n",
       "  'Time': 0.7070326805114746,\n",
       "  'Alpha': 0.001,\n",
       "  'Epsilon': 0.001,\n",
       "  'Gamma': 0.96,\n",
       "  'Max V': 0.19637570543847577,\n",
       "  'Mean V': 0.010676819193196515,\n",
       "  'Iteration': 9927},\n",
       " {'State': 15,\n",
       "  'Action': 0,\n",
       "  'Reward': 0.0,\n",
       "  'Error': 0.0,\n",
       "  'Time': 0.7070326805114746,\n",
       "  'Alpha': 0.001,\n",
       "  'Epsilon': 0.001,\n",
       "  'Gamma': 0.96,\n",
       "  'Max V': 0.19637570543847577,\n",
       "  'Mean V': 0.010676819193196515,\n",
       "  'Iteration': 9928},\n",
       " {'State': 15,\n",
       "  'Action': 0,\n",
       "  'Reward': 0.0,\n",
       "  'Error': 0.0,\n",
       "  'Time': 0.7070326805114746,\n",
       "  'Alpha': 0.001,\n",
       "  'Epsilon': 0.001,\n",
       "  'Gamma': 0.96,\n",
       "  'Max V': 0.19637570543847577,\n",
       "  'Mean V': 0.010676819193196515,\n",
       "  'Iteration': 9929},\n",
       " {'State': 15,\n",
       "  'Action': 0,\n",
       "  'Reward': 0.0,\n",
       "  'Error': 0.0,\n",
       "  'Time': 0.7070326805114746,\n",
       "  'Alpha': 0.001,\n",
       "  'Epsilon': 0.001,\n",
       "  'Gamma': 0.96,\n",
       "  'Max V': 0.19637570543847577,\n",
       "  'Mean V': 0.010676819193196515,\n",
       "  'Iteration': 9930},\n",
       " {'State': 15,\n",
       "  'Action': 0,\n",
       "  'Reward': 0.0,\n",
       "  'Error': 0.0,\n",
       "  'Time': 0.7070326805114746,\n",
       "  'Alpha': 0.001,\n",
       "  'Epsilon': 0.001,\n",
       "  'Gamma': 0.96,\n",
       "  'Max V': 0.19637570543847577,\n",
       "  'Mean V': 0.010676819193196515,\n",
       "  'Iteration': 9931},\n",
       " {'State': 15,\n",
       "  'Action': 0,\n",
       "  'Reward': 0.0,\n",
       "  'Error': 0.0,\n",
       "  'Time': 0.7070326805114746,\n",
       "  'Alpha': 0.001,\n",
       "  'Epsilon': 0.001,\n",
       "  'Gamma': 0.96,\n",
       "  'Max V': 0.19637570543847577,\n",
       "  'Mean V': 0.010676819193196515,\n",
       "  'Iteration': 9932},\n",
       " {'State': 15,\n",
       "  'Action': 0,\n",
       "  'Reward': 0.0,\n",
       "  'Error': 0.0,\n",
       "  'Time': 0.7070326805114746,\n",
       "  'Alpha': 0.001,\n",
       "  'Epsilon': 0.001,\n",
       "  'Gamma': 0.96,\n",
       "  'Max V': 0.19637570543847577,\n",
       "  'Mean V': 0.010676819193196515,\n",
       "  'Iteration': 9933},\n",
       " {'State': 15,\n",
       "  'Action': 0,\n",
       "  'Reward': 0.0,\n",
       "  'Error': 0.0,\n",
       "  'Time': 0.7070326805114746,\n",
       "  'Alpha': 0.001,\n",
       "  'Epsilon': 0.001,\n",
       "  'Gamma': 0.96,\n",
       "  'Max V': 0.19637570543847577,\n",
       "  'Mean V': 0.010676819193196515,\n",
       "  'Iteration': 9934},\n",
       " {'State': 15,\n",
       "  'Action': 0,\n",
       "  'Reward': 0.0,\n",
       "  'Error': 0.0,\n",
       "  'Time': 0.7070326805114746,\n",
       "  'Alpha': 0.001,\n",
       "  'Epsilon': 0.001,\n",
       "  'Gamma': 0.96,\n",
       "  'Max V': 0.19637570543847577,\n",
       "  'Mean V': 0.010676819193196515,\n",
       "  'Iteration': 9935},\n",
       " {'State': 15,\n",
       "  'Action': 0,\n",
       "  'Reward': 0.0,\n",
       "  'Error': 0.0,\n",
       "  'Time': 0.7080273628234863,\n",
       "  'Alpha': 0.001,\n",
       "  'Epsilon': 0.001,\n",
       "  'Gamma': 0.96,\n",
       "  'Max V': 0.19637570543847577,\n",
       "  'Mean V': 0.010676819193196515,\n",
       "  'Iteration': 9936},\n",
       " {'State': 15,\n",
       "  'Action': 0,\n",
       "  'Reward': 0.0,\n",
       "  'Error': 0.0,\n",
       "  'Time': 0.7080273628234863,\n",
       "  'Alpha': 0.001,\n",
       "  'Epsilon': 0.001,\n",
       "  'Gamma': 0.96,\n",
       "  'Max V': 0.19637570543847577,\n",
       "  'Mean V': 0.010676819193196515,\n",
       "  'Iteration': 9937},\n",
       " {'State': 15,\n",
       "  'Action': 0,\n",
       "  'Reward': 0.0,\n",
       "  'Error': 0.0,\n",
       "  'Time': 0.7080273628234863,\n",
       "  'Alpha': 0.001,\n",
       "  'Epsilon': 0.001,\n",
       "  'Gamma': 0.96,\n",
       "  'Max V': 0.19637570543847577,\n",
       "  'Mean V': 0.010676819193196515,\n",
       "  'Iteration': 9938},\n",
       " {'State': 15,\n",
       "  'Action': 0,\n",
       "  'Reward': 0.0,\n",
       "  'Error': 0.0,\n",
       "  'Time': 0.7080273628234863,\n",
       "  'Alpha': 0.001,\n",
       "  'Epsilon': 0.001,\n",
       "  'Gamma': 0.96,\n",
       "  'Max V': 0.19637570543847577,\n",
       "  'Mean V': 0.010676819193196515,\n",
       "  'Iteration': 9939},\n",
       " {'State': 15,\n",
       "  'Action': 0,\n",
       "  'Reward': 0.0,\n",
       "  'Error': 0.0,\n",
       "  'Time': 0.7080273628234863,\n",
       "  'Alpha': 0.001,\n",
       "  'Epsilon': 0.001,\n",
       "  'Gamma': 0.96,\n",
       "  'Max V': 0.19637570543847577,\n",
       "  'Mean V': 0.010676819193196515,\n",
       "  'Iteration': 9940},\n",
       " {'State': 15,\n",
       "  'Action': 0,\n",
       "  'Reward': 0.0,\n",
       "  'Error': 0.0,\n",
       "  'Time': 0.7080273628234863,\n",
       "  'Alpha': 0.001,\n",
       "  'Epsilon': 0.001,\n",
       "  'Gamma': 0.96,\n",
       "  'Max V': 0.19637570543847577,\n",
       "  'Mean V': 0.010676819193196515,\n",
       "  'Iteration': 9941},\n",
       " {'State': 15,\n",
       "  'Action': 0,\n",
       "  'Reward': 0.0,\n",
       "  'Error': 0.0,\n",
       "  'Time': 0.7080273628234863,\n",
       "  'Alpha': 0.001,\n",
       "  'Epsilon': 0.001,\n",
       "  'Gamma': 0.96,\n",
       "  'Max V': 0.19637570543847577,\n",
       "  'Mean V': 0.010676819193196515,\n",
       "  'Iteration': 9942},\n",
       " {'State': 15,\n",
       "  'Action': 0,\n",
       "  'Reward': 0.0,\n",
       "  'Error': 0.0,\n",
       "  'Time': 0.7080273628234863,\n",
       "  'Alpha': 0.001,\n",
       "  'Epsilon': 0.001,\n",
       "  'Gamma': 0.96,\n",
       "  'Max V': 0.19637570543847577,\n",
       "  'Mean V': 0.010676819193196515,\n",
       "  'Iteration': 9943},\n",
       " {'State': 15,\n",
       "  'Action': 0,\n",
       "  'Reward': 0.0,\n",
       "  'Error': 0.0,\n",
       "  'Time': 0.7080273628234863,\n",
       "  'Alpha': 0.001,\n",
       "  'Epsilon': 0.001,\n",
       "  'Gamma': 0.96,\n",
       "  'Max V': 0.19637570543847577,\n",
       "  'Mean V': 0.010676819193196515,\n",
       "  'Iteration': 9944},\n",
       " {'State': 15,\n",
       "  'Action': 0,\n",
       "  'Reward': 0.0,\n",
       "  'Error': 0.0,\n",
       "  'Time': 0.7080273628234863,\n",
       "  'Alpha': 0.001,\n",
       "  'Epsilon': 0.001,\n",
       "  'Gamma': 0.96,\n",
       "  'Max V': 0.19637570543847577,\n",
       "  'Mean V': 0.010676819193196515,\n",
       "  'Iteration': 9945},\n",
       " {'State': 15,\n",
       "  'Action': 0,\n",
       "  'Reward': 0.0,\n",
       "  'Error': 0.0,\n",
       "  'Time': 0.7080273628234863,\n",
       "  'Alpha': 0.001,\n",
       "  'Epsilon': 0.001,\n",
       "  'Gamma': 0.96,\n",
       "  'Max V': 0.19637570543847577,\n",
       "  'Mean V': 0.010676819193196515,\n",
       "  'Iteration': 9946},\n",
       " {'State': 15,\n",
       "  'Action': 0,\n",
       "  'Reward': 0.0,\n",
       "  'Error': 0.0,\n",
       "  'Time': 0.7080273628234863,\n",
       "  'Alpha': 0.001,\n",
       "  'Epsilon': 0.001,\n",
       "  'Gamma': 0.96,\n",
       "  'Max V': 0.19637570543847577,\n",
       "  'Mean V': 0.010676819193196515,\n",
       "  'Iteration': 9947},\n",
       " {'State': 15,\n",
       "  'Action': 0,\n",
       "  'Reward': 0.0,\n",
       "  'Error': 0.0,\n",
       "  'Time': 0.7090282440185547,\n",
       "  'Alpha': 0.001,\n",
       "  'Epsilon': 0.001,\n",
       "  'Gamma': 0.96,\n",
       "  'Max V': 0.19637570543847577,\n",
       "  'Mean V': 0.010676819193196515,\n",
       "  'Iteration': 9948},\n",
       " {'State': 15,\n",
       "  'Action': 0,\n",
       "  'Reward': 0.0,\n",
       "  'Error': 0.0,\n",
       "  'Time': 0.7090282440185547,\n",
       "  'Alpha': 0.001,\n",
       "  'Epsilon': 0.001,\n",
       "  'Gamma': 0.96,\n",
       "  'Max V': 0.19637570543847577,\n",
       "  'Mean V': 0.010676819193196515,\n",
       "  'Iteration': 9949},\n",
       " {'State': 15,\n",
       "  'Action': 0,\n",
       "  'Reward': 0.0,\n",
       "  'Error': 0.0,\n",
       "  'Time': 0.7090282440185547,\n",
       "  'Alpha': 0.001,\n",
       "  'Epsilon': 0.001,\n",
       "  'Gamma': 0.96,\n",
       "  'Max V': 0.19637570543847577,\n",
       "  'Mean V': 0.010676819193196515,\n",
       "  'Iteration': 9950},\n",
       " {'State': 15,\n",
       "  'Action': 0,\n",
       "  'Reward': 0.0,\n",
       "  'Error': 0.0,\n",
       "  'Time': 0.7090282440185547,\n",
       "  'Alpha': 0.001,\n",
       "  'Epsilon': 0.001,\n",
       "  'Gamma': 0.96,\n",
       "  'Max V': 0.19637570543847577,\n",
       "  'Mean V': 0.010676819193196515,\n",
       "  'Iteration': 9951},\n",
       " {'State': 15,\n",
       "  'Action': 0,\n",
       "  'Reward': 0.0,\n",
       "  'Error': 0.0,\n",
       "  'Time': 0.7090282440185547,\n",
       "  'Alpha': 0.001,\n",
       "  'Epsilon': 0.001,\n",
       "  'Gamma': 0.96,\n",
       "  'Max V': 0.19637570543847577,\n",
       "  'Mean V': 0.010676819193196515,\n",
       "  'Iteration': 9952},\n",
       " {'State': 15,\n",
       "  'Action': 0,\n",
       "  'Reward': 0.0,\n",
       "  'Error': 0.0,\n",
       "  'Time': 0.7090282440185547,\n",
       "  'Alpha': 0.001,\n",
       "  'Epsilon': 0.001,\n",
       "  'Gamma': 0.96,\n",
       "  'Max V': 0.19637570543847577,\n",
       "  'Mean V': 0.010676819193196515,\n",
       "  'Iteration': 9953},\n",
       " {'State': 15,\n",
       "  'Action': 0,\n",
       "  'Reward': 0.0,\n",
       "  'Error': 0.0,\n",
       "  'Time': 0.7090282440185547,\n",
       "  'Alpha': 0.001,\n",
       "  'Epsilon': 0.001,\n",
       "  'Gamma': 0.96,\n",
       "  'Max V': 0.19637570543847577,\n",
       "  'Mean V': 0.010676819193196515,\n",
       "  'Iteration': 9954},\n",
       " {'State': 15,\n",
       "  'Action': 0,\n",
       "  'Reward': 0.0,\n",
       "  'Error': 0.0,\n",
       "  'Time': 0.7090282440185547,\n",
       "  'Alpha': 0.001,\n",
       "  'Epsilon': 0.001,\n",
       "  'Gamma': 0.96,\n",
       "  'Max V': 0.19637570543847577,\n",
       "  'Mean V': 0.010676819193196515,\n",
       "  'Iteration': 9955},\n",
       " {'State': 15,\n",
       "  'Action': 0,\n",
       "  'Reward': 0.0,\n",
       "  'Error': 0.0,\n",
       "  'Time': 0.7090282440185547,\n",
       "  'Alpha': 0.001,\n",
       "  'Epsilon': 0.001,\n",
       "  'Gamma': 0.96,\n",
       "  'Max V': 0.19637570543847577,\n",
       "  'Mean V': 0.010676819193196515,\n",
       "  'Iteration': 9956},\n",
       " {'State': 15,\n",
       "  'Action': 0,\n",
       "  'Reward': 0.0,\n",
       "  'Error': 0.0,\n",
       "  'Time': 0.7090282440185547,\n",
       "  'Alpha': 0.001,\n",
       "  'Epsilon': 0.001,\n",
       "  'Gamma': 0.96,\n",
       "  'Max V': 0.19637570543847577,\n",
       "  'Mean V': 0.010676819193196515,\n",
       "  'Iteration': 9957},\n",
       " {'State': 15,\n",
       "  'Action': 0,\n",
       "  'Reward': 0.0,\n",
       "  'Error': 0.0,\n",
       "  'Time': 0.7090282440185547,\n",
       "  'Alpha': 0.001,\n",
       "  'Epsilon': 0.001,\n",
       "  'Gamma': 0.96,\n",
       "  'Max V': 0.19637570543847577,\n",
       "  'Mean V': 0.010676819193196515,\n",
       "  'Iteration': 9958},\n",
       " {'State': 15,\n",
       "  'Action': 0,\n",
       "  'Reward': 0.0,\n",
       "  'Error': 0.0,\n",
       "  'Time': 0.7090282440185547,\n",
       "  'Alpha': 0.001,\n",
       "  'Epsilon': 0.001,\n",
       "  'Gamma': 0.96,\n",
       "  'Max V': 0.19637570543847577,\n",
       "  'Mean V': 0.010676819193196515,\n",
       "  'Iteration': 9959},\n",
       " {'State': 15,\n",
       "  'Action': 0,\n",
       "  'Reward': 0.0,\n",
       "  'Error': 0.0,\n",
       "  'Time': 0.7090282440185547,\n",
       "  'Alpha': 0.001,\n",
       "  'Epsilon': 0.001,\n",
       "  'Gamma': 0.96,\n",
       "  'Max V': 0.19637570543847577,\n",
       "  'Mean V': 0.010676819193196515,\n",
       "  'Iteration': 9960},\n",
       " {'State': 15,\n",
       "  'Action': 0,\n",
       "  'Reward': 0.0,\n",
       "  'Error': 0.0,\n",
       "  'Time': 0.7090282440185547,\n",
       "  'Alpha': 0.001,\n",
       "  'Epsilon': 0.001,\n",
       "  'Gamma': 0.96,\n",
       "  'Max V': 0.19637570543847577,\n",
       "  'Mean V': 0.010676819193196515,\n",
       "  'Iteration': 9961},\n",
       " {'State': 15,\n",
       "  'Action': 0,\n",
       "  'Reward': 0.0,\n",
       "  'Error': 0.0,\n",
       "  'Time': 0.7099900245666504,\n",
       "  'Alpha': 0.001,\n",
       "  'Epsilon': 0.001,\n",
       "  'Gamma': 0.96,\n",
       "  'Max V': 0.19637570543847577,\n",
       "  'Mean V': 0.010676819193196515,\n",
       "  'Iteration': 9962},\n",
       " {'State': 15,\n",
       "  'Action': 0,\n",
       "  'Reward': 0.0,\n",
       "  'Error': 0.0,\n",
       "  'Time': 0.7099900245666504,\n",
       "  'Alpha': 0.001,\n",
       "  'Epsilon': 0.001,\n",
       "  'Gamma': 0.96,\n",
       "  'Max V': 0.19637570543847577,\n",
       "  'Mean V': 0.010676819193196515,\n",
       "  'Iteration': 9963},\n",
       " {'State': 15,\n",
       "  'Action': 0,\n",
       "  'Reward': 0.0,\n",
       "  'Error': 0.0,\n",
       "  'Time': 0.7099900245666504,\n",
       "  'Alpha': 0.001,\n",
       "  'Epsilon': 0.001,\n",
       "  'Gamma': 0.96,\n",
       "  'Max V': 0.19637570543847577,\n",
       "  'Mean V': 0.010676819193196515,\n",
       "  'Iteration': 9964},\n",
       " {'State': 15,\n",
       "  'Action': 0,\n",
       "  'Reward': 0.0,\n",
       "  'Error': 0.0,\n",
       "  'Time': 0.7099900245666504,\n",
       "  'Alpha': 0.001,\n",
       "  'Epsilon': 0.001,\n",
       "  'Gamma': 0.96,\n",
       "  'Max V': 0.19637570543847577,\n",
       "  'Mean V': 0.010676819193196515,\n",
       "  'Iteration': 9965},\n",
       " {'State': 15,\n",
       "  'Action': 0,\n",
       "  'Reward': 0.0,\n",
       "  'Error': 0.0,\n",
       "  'Time': 0.7099900245666504,\n",
       "  'Alpha': 0.001,\n",
       "  'Epsilon': 0.001,\n",
       "  'Gamma': 0.96,\n",
       "  'Max V': 0.19637570543847577,\n",
       "  'Mean V': 0.010676819193196515,\n",
       "  'Iteration': 9966},\n",
       " {'State': 15,\n",
       "  'Action': 0,\n",
       "  'Reward': 0.0,\n",
       "  'Error': 0.0,\n",
       "  'Time': 0.7099900245666504,\n",
       "  'Alpha': 0.001,\n",
       "  'Epsilon': 0.001,\n",
       "  'Gamma': 0.96,\n",
       "  'Max V': 0.19637570543847577,\n",
       "  'Mean V': 0.010676819193196515,\n",
       "  'Iteration': 9967},\n",
       " {'State': 15,\n",
       "  'Action': 0,\n",
       "  'Reward': 0.0,\n",
       "  'Error': 0.0,\n",
       "  'Time': 0.7099900245666504,\n",
       "  'Alpha': 0.001,\n",
       "  'Epsilon': 0.001,\n",
       "  'Gamma': 0.96,\n",
       "  'Max V': 0.19637570543847577,\n",
       "  'Mean V': 0.010676819193196515,\n",
       "  'Iteration': 9968},\n",
       " {'State': 15,\n",
       "  'Action': 0,\n",
       "  'Reward': 0.0,\n",
       "  'Error': 0.0,\n",
       "  'Time': 0.7099900245666504,\n",
       "  'Alpha': 0.001,\n",
       "  'Epsilon': 0.001,\n",
       "  'Gamma': 0.96,\n",
       "  'Max V': 0.19637570543847577,\n",
       "  'Mean V': 0.010676819193196515,\n",
       "  'Iteration': 9969},\n",
       " {'State': 15,\n",
       "  'Action': 0,\n",
       "  'Reward': 0.0,\n",
       "  'Error': 0.0,\n",
       "  'Time': 0.7099900245666504,\n",
       "  'Alpha': 0.001,\n",
       "  'Epsilon': 0.001,\n",
       "  'Gamma': 0.96,\n",
       "  'Max V': 0.19637570543847577,\n",
       "  'Mean V': 0.010676819193196515,\n",
       "  'Iteration': 9970},\n",
       " {'State': 15,\n",
       "  'Action': 0,\n",
       "  'Reward': 0.0,\n",
       "  'Error': 0.0,\n",
       "  'Time': 0.7099900245666504,\n",
       "  'Alpha': 0.001,\n",
       "  'Epsilon': 0.001,\n",
       "  'Gamma': 0.96,\n",
       "  'Max V': 0.19637570543847577,\n",
       "  'Mean V': 0.010676819193196515,\n",
       "  'Iteration': 9971},\n",
       " {'State': 15,\n",
       "  'Action': 0,\n",
       "  'Reward': 0.0,\n",
       "  'Error': 0.0,\n",
       "  'Time': 0.7099900245666504,\n",
       "  'Alpha': 0.001,\n",
       "  'Epsilon': 0.001,\n",
       "  'Gamma': 0.96,\n",
       "  'Max V': 0.19637570543847577,\n",
       "  'Mean V': 0.010676819193196515,\n",
       "  'Iteration': 9972},\n",
       " {'State': 15,\n",
       "  'Action': 0,\n",
       "  'Reward': 0.0,\n",
       "  'Error': 0.0,\n",
       "  'Time': 0.7099900245666504,\n",
       "  'Alpha': 0.001,\n",
       "  'Epsilon': 0.001,\n",
       "  'Gamma': 0.96,\n",
       "  'Max V': 0.19637570543847577,\n",
       "  'Mean V': 0.010676819193196515,\n",
       "  'Iteration': 9973},\n",
       " {'State': 15,\n",
       "  'Action': 0,\n",
       "  'Reward': 0.0,\n",
       "  'Error': 0.0,\n",
       "  'Time': 0.7099900245666504,\n",
       "  'Alpha': 0.001,\n",
       "  'Epsilon': 0.001,\n",
       "  'Gamma': 0.96,\n",
       "  'Max V': 0.19637570543847577,\n",
       "  'Mean V': 0.010676819193196515,\n",
       "  'Iteration': 9974},\n",
       " {'State': 15,\n",
       "  'Action': 0,\n",
       "  'Reward': 0.0,\n",
       "  'Error': 0.0,\n",
       "  'Time': 0.7099900245666504,\n",
       "  'Alpha': 0.001,\n",
       "  'Epsilon': 0.001,\n",
       "  'Gamma': 0.96,\n",
       "  'Max V': 0.19637570543847577,\n",
       "  'Mean V': 0.010676819193196515,\n",
       "  'Iteration': 9975},\n",
       " {'State': 15,\n",
       "  'Action': 0,\n",
       "  'Reward': 0.0,\n",
       "  'Error': 0.0,\n",
       "  'Time': 0.7099900245666504,\n",
       "  'Alpha': 0.001,\n",
       "  'Epsilon': 0.001,\n",
       "  'Gamma': 0.96,\n",
       "  'Max V': 0.19637570543847577,\n",
       "  'Mean V': 0.010676819193196515,\n",
       "  'Iteration': 9976},\n",
       " {'State': 15,\n",
       "  'Action': 0,\n",
       "  'Reward': 0.0,\n",
       "  'Error': 0.0,\n",
       "  'Time': 0.7099900245666504,\n",
       "  'Alpha': 0.001,\n",
       "  'Epsilon': 0.001,\n",
       "  'Gamma': 0.96,\n",
       "  'Max V': 0.19637570543847577,\n",
       "  'Mean V': 0.010676819193196515,\n",
       "  'Iteration': 9977},\n",
       " {'State': 15,\n",
       "  'Action': 0,\n",
       "  'Reward': 0.0,\n",
       "  'Error': 0.0,\n",
       "  'Time': 0.7099900245666504,\n",
       "  'Alpha': 0.001,\n",
       "  'Epsilon': 0.001,\n",
       "  'Gamma': 0.96,\n",
       "  'Max V': 0.19637570543847577,\n",
       "  'Mean V': 0.010676819193196515,\n",
       "  'Iteration': 9978},\n",
       " {'State': 15,\n",
       "  'Action': 0,\n",
       "  'Reward': 0.0,\n",
       "  'Error': 0.0,\n",
       "  'Time': 0.7099900245666504,\n",
       "  'Alpha': 0.001,\n",
       "  'Epsilon': 0.001,\n",
       "  'Gamma': 0.96,\n",
       "  'Max V': 0.19637570543847577,\n",
       "  'Mean V': 0.010676819193196515,\n",
       "  'Iteration': 9979},\n",
       " {'State': 15,\n",
       "  'Action': 0,\n",
       "  'Reward': 0.0,\n",
       "  'Error': 0.0,\n",
       "  'Time': 0.7099900245666504,\n",
       "  'Alpha': 0.001,\n",
       "  'Epsilon': 0.001,\n",
       "  'Gamma': 0.96,\n",
       "  'Max V': 0.19637570543847577,\n",
       "  'Mean V': 0.010676819193196515,\n",
       "  'Iteration': 9980},\n",
       " {'State': 15,\n",
       "  'Action': 0,\n",
       "  'Reward': 0.0,\n",
       "  'Error': 0.0,\n",
       "  'Time': 0.7099900245666504,\n",
       "  'Alpha': 0.001,\n",
       "  'Epsilon': 0.001,\n",
       "  'Gamma': 0.96,\n",
       "  'Max V': 0.19637570543847577,\n",
       "  'Mean V': 0.010676819193196515,\n",
       "  'Iteration': 9981},\n",
       " {'State': 15,\n",
       "  'Action': 0,\n",
       "  'Reward': 0.0,\n",
       "  'Error': 0.0,\n",
       "  'Time': 0.7099900245666504,\n",
       "  'Alpha': 0.001,\n",
       "  'Epsilon': 0.001,\n",
       "  'Gamma': 0.96,\n",
       "  'Max V': 0.19637570543847577,\n",
       "  'Mean V': 0.010676819193196515,\n",
       "  'Iteration': 9982},\n",
       " {'State': 15,\n",
       "  'Action': 0,\n",
       "  'Reward': 0.0,\n",
       "  'Error': 0.0,\n",
       "  'Time': 0.7109899520874023,\n",
       "  'Alpha': 0.001,\n",
       "  'Epsilon': 0.001,\n",
       "  'Gamma': 0.96,\n",
       "  'Max V': 0.19637570543847577,\n",
       "  'Mean V': 0.010676819193196515,\n",
       "  'Iteration': 9983},\n",
       " {'State': 15,\n",
       "  'Action': 0,\n",
       "  'Reward': 0.0,\n",
       "  'Error': 0.0,\n",
       "  'Time': 0.7109899520874023,\n",
       "  'Alpha': 0.001,\n",
       "  'Epsilon': 0.001,\n",
       "  'Gamma': 0.96,\n",
       "  'Max V': 0.19637570543847577,\n",
       "  'Mean V': 0.010676819193196515,\n",
       "  'Iteration': 9984},\n",
       " {'State': 15,\n",
       "  'Action': 0,\n",
       "  'Reward': 0.0,\n",
       "  'Error': 0.0,\n",
       "  'Time': 0.7109899520874023,\n",
       "  'Alpha': 0.001,\n",
       "  'Epsilon': 0.001,\n",
       "  'Gamma': 0.96,\n",
       "  'Max V': 0.19637570543847577,\n",
       "  'Mean V': 0.010676819193196515,\n",
       "  'Iteration': 9985},\n",
       " {'State': 15,\n",
       "  'Action': 0,\n",
       "  'Reward': 0.0,\n",
       "  'Error': 0.0,\n",
       "  'Time': 0.7109899520874023,\n",
       "  'Alpha': 0.001,\n",
       "  'Epsilon': 0.001,\n",
       "  'Gamma': 0.96,\n",
       "  'Max V': 0.19637570543847577,\n",
       "  'Mean V': 0.010676819193196515,\n",
       "  'Iteration': 9986},\n",
       " {'State': 15,\n",
       "  'Action': 0,\n",
       "  'Reward': 0.0,\n",
       "  'Error': 0.0,\n",
       "  'Time': 0.7109899520874023,\n",
       "  'Alpha': 0.001,\n",
       "  'Epsilon': 0.001,\n",
       "  'Gamma': 0.96,\n",
       "  'Max V': 0.19637570543847577,\n",
       "  'Mean V': 0.010676819193196515,\n",
       "  'Iteration': 9987},\n",
       " {'State': 15,\n",
       "  'Action': 0,\n",
       "  'Reward': 0.0,\n",
       "  'Error': 0.0,\n",
       "  'Time': 0.7109899520874023,\n",
       "  'Alpha': 0.001,\n",
       "  'Epsilon': 0.001,\n",
       "  'Gamma': 0.96,\n",
       "  'Max V': 0.19637570543847577,\n",
       "  'Mean V': 0.010676819193196515,\n",
       "  'Iteration': 9988},\n",
       " {'State': 15,\n",
       "  'Action': 0,\n",
       "  'Reward': 0.0,\n",
       "  'Error': 0.0,\n",
       "  'Time': 0.7109899520874023,\n",
       "  'Alpha': 0.001,\n",
       "  'Epsilon': 0.001,\n",
       "  'Gamma': 0.96,\n",
       "  'Max V': 0.19637570543847577,\n",
       "  'Mean V': 0.010676819193196515,\n",
       "  'Iteration': 9989},\n",
       " {'State': 15,\n",
       "  'Action': 0,\n",
       "  'Reward': 0.0,\n",
       "  'Error': 0.0,\n",
       "  'Time': 0.7109899520874023,\n",
       "  'Alpha': 0.001,\n",
       "  'Epsilon': 0.001,\n",
       "  'Gamma': 0.96,\n",
       "  'Max V': 0.19637570543847577,\n",
       "  'Mean V': 0.010676819193196515,\n",
       "  'Iteration': 9990},\n",
       " {'State': 15,\n",
       "  'Action': 0,\n",
       "  'Reward': 0.0,\n",
       "  'Error': 0.0,\n",
       "  'Time': 0.7109899520874023,\n",
       "  'Alpha': 0.001,\n",
       "  'Epsilon': 0.001,\n",
       "  'Gamma': 0.96,\n",
       "  'Max V': 0.19637570543847577,\n",
       "  'Mean V': 0.010676819193196515,\n",
       "  'Iteration': 9991},\n",
       " {'State': 15,\n",
       "  'Action': 0,\n",
       "  'Reward': 0.0,\n",
       "  'Error': 0.0,\n",
       "  'Time': 0.7109899520874023,\n",
       "  'Alpha': 0.001,\n",
       "  'Epsilon': 0.001,\n",
       "  'Gamma': 0.96,\n",
       "  'Max V': 0.19637570543847577,\n",
       "  'Mean V': 0.010676819193196515,\n",
       "  'Iteration': 9992},\n",
       " {'State': 15,\n",
       "  'Action': 0,\n",
       "  'Reward': 0.0,\n",
       "  'Error': 0.0,\n",
       "  'Time': 0.7109899520874023,\n",
       "  'Alpha': 0.001,\n",
       "  'Epsilon': 0.001,\n",
       "  'Gamma': 0.96,\n",
       "  'Max V': 0.19637570543847577,\n",
       "  'Mean V': 0.010676819193196515,\n",
       "  'Iteration': 9993},\n",
       " {'State': 15,\n",
       "  'Action': 0,\n",
       "  'Reward': 0.0,\n",
       "  'Error': 0.0,\n",
       "  'Time': 0.7109899520874023,\n",
       "  'Alpha': 0.001,\n",
       "  'Epsilon': 0.001,\n",
       "  'Gamma': 0.96,\n",
       "  'Max V': 0.19637570543847577,\n",
       "  'Mean V': 0.010676819193196515,\n",
       "  'Iteration': 9994},\n",
       " {'State': 15,\n",
       "  'Action': 0,\n",
       "  'Reward': 0.0,\n",
       "  'Error': 0.0,\n",
       "  'Time': 0.7109899520874023,\n",
       "  'Alpha': 0.001,\n",
       "  'Epsilon': 0.001,\n",
       "  'Gamma': 0.96,\n",
       "  'Max V': 0.19637570543847577,\n",
       "  'Mean V': 0.010676819193196515,\n",
       "  'Iteration': 9995},\n",
       " {'State': 15,\n",
       "  'Action': 0,\n",
       "  'Reward': 0.0,\n",
       "  'Error': 0.0,\n",
       "  'Time': 0.7109899520874023,\n",
       "  'Alpha': 0.001,\n",
       "  'Epsilon': 0.001,\n",
       "  'Gamma': 0.96,\n",
       "  'Max V': 0.19637570543847577,\n",
       "  'Mean V': 0.010676819193196515,\n",
       "  'Iteration': 9996},\n",
       " {'State': 15,\n",
       "  'Action': 0,\n",
       "  'Reward': 0.0,\n",
       "  'Error': 0.0,\n",
       "  'Time': 0.7109899520874023,\n",
       "  'Alpha': 0.001,\n",
       "  'Epsilon': 0.001,\n",
       "  'Gamma': 0.96,\n",
       "  'Max V': 0.19637570543847577,\n",
       "  'Mean V': 0.010676819193196515,\n",
       "  'Iteration': 9997},\n",
       " {'State': 15,\n",
       "  'Action': 0,\n",
       "  'Reward': 0.0,\n",
       "  'Error': 0.0,\n",
       "  'Time': 0.7109899520874023,\n",
       "  'Alpha': 0.001,\n",
       "  'Epsilon': 0.001,\n",
       "  'Gamma': 0.96,\n",
       "  'Max V': 0.19637570543847577,\n",
       "  'Mean V': 0.010676819193196515,\n",
       "  'Iteration': 9998},\n",
       " {'State': 15,\n",
       "  'Action': 0,\n",
       "  'Reward': 0.0,\n",
       "  'Error': 0.0,\n",
       "  'Time': 0.7119894027709961,\n",
       "  'Alpha': 0.001,\n",
       "  'Epsilon': 0.001,\n",
       "  'Gamma': 0.96,\n",
       "  'Max V': 0.19637570543847577,\n",
       "  'Mean V': 0.010676819193196515,\n",
       "  'Iteration': 9999},\n",
       " {'State': 1,\n",
       "  'Action': 3,\n",
       "  'Reward': 0.0,\n",
       "  'Error': 3.6419592900510316e-17,\n",
       "  'Time': 0.7119894027709961,\n",
       "  'Alpha': 0.001,\n",
       "  'Epsilon': 0.001,\n",
       "  'Gamma': 0.96,\n",
       "  'Max V': 0.19637570543847577,\n",
       "  'Mean V': 0.010676819193196513,\n",
       "  'Iteration': 10000}]"
      ]
     },
     "execution_count": 59,
     "metadata": {},
     "output_type": "execute_result"
    }
   ],
   "source": [
    "final_results[-100:]"
   ]
  },
  {
   "cell_type": "code",
   "execution_count": 649,
   "metadata": {},
   "outputs": [
    {
     "data": {
      "text/plain": [
       "array([[ 0. ,  0. ,  0. ,  0. ],\n",
       "       [-2. , -2. , -2. ,  0. ],\n",
       "       [ 0. ,  0. ,  0. ,  0. ],\n",
       "       [-2. , -2. , -2. ,  0. ],\n",
       "       [ 0. , -2. , -2. , -2. ],\n",
       "       [-5. , -5. , -5. , -5. ],\n",
       "       [-2. , -3.5, -2. , -3.5],\n",
       "       [-5. , -5. , -5. , -5. ],\n",
       "       [-2. , -2. , -2. ,  0. ],\n",
       "       [-2. ,  0. , -2. , -2. ],\n",
       "       [ 0. , -2. , -2. , -2. ],\n",
       "       [-5. , -5. , -5. , -5. ],\n",
       "       [-5. , -5. , -5. , -5. ],\n",
       "       [-2. , -2. ,  0. , -2. ],\n",
       "       [ 0. ,  3. ,  3. ,  3. ],\n",
       "       [ 0. ,  0. ,  0. ,  0. ]])"
      ]
     },
     "execution_count": 649,
     "metadata": {},
     "output_type": "execute_result"
    }
   ],
   "source": [
    "rr"
   ]
  },
  {
   "cell_type": "code",
   "execution_count": 646,
   "metadata": {},
   "outputs": [
    {
     "data": {
      "text/plain": [
       "(7.677872565717635e-09,\n",
       " 1.768141763316233e-11,\n",
       " 5.832533602752622e-14,\n",
       " 2.994359527224279e-16,\n",
       " 4.7042393885827195e-07,\n",
       " -46.052686543089436,\n",
       " -0.2967615863011079,\n",
       " -21.73729316427335,\n",
       " 1.869347165801468e-05,\n",
       " 0.0006446042385302842,\n",
       " 0.006005158300099157,\n",
       " -11.139589014120029,\n",
       " -19.12918398519078,\n",
       " 0.022774893485326096,\n",
       " 0.600803857420898,\n",
       " 0.0)"
      ]
     },
     "execution_count": 646,
     "metadata": {},
     "output_type": "execute_result"
    }
   ],
   "source": [
    "ql.V"
   ]
  },
  {
   "cell_type": "code",
   "execution_count": 642,
   "metadata": {},
   "outputs": [
    {
     "data": {
      "text/plain": [
       "(0.012829488846340026,\n",
       " 0.013227496049065326,\n",
       " 0.013793559946109962,\n",
       " 0.014271368152377548,\n",
       " -0.08979192711765724,\n",
       " -95.76465350876305,\n",
       " -19.174272096728988,\n",
       " -92.88595796885402,\n",
       " -0.33634785937791156,\n",
       " -0.9127743589382462,\n",
       " -4.713137161903269,\n",
       " -81.02645163382665,\n",
       " -70.51643397320098,\n",
       " 0.9598882604770194,\n",
       " 2.335162339987272,\n",
       " 0.0)"
      ]
     },
     "execution_count": 642,
     "metadata": {},
     "output_type": "execute_result"
    }
   ],
   "source": [
    "ql.V"
   ]
  },
  {
   "cell_type": "code",
   "execution_count": 643,
   "metadata": {},
   "outputs": [
    {
     "data": {
      "text/plain": [
       "array([[ 2.62514011e-04,  3.42406030e-04,  3.11576019e-04,\n",
       "         1.28294888e-02],\n",
       "       [-4.59764207e-01, -4.51930930e-01, -3.64932078e-01,\n",
       "         1.32274960e-02],\n",
       "       [-6.73738135e-02, -3.13299523e-02, -2.80749303e-02,\n",
       "         1.37935599e-02],\n",
       "       [-4.67993066e-01, -4.24519194e-01, -4.54979635e-02,\n",
       "         1.42713682e-02],\n",
       "       [-8.97919271e-02, -5.22893119e-01, -4.81057882e-01,\n",
       "        -9.97337574e-02],\n",
       "       [-9.57648576e+01, -9.57646535e+01, -9.57655834e+01,\n",
       "        -9.57649538e+01],\n",
       "       [-1.91742721e+01, -1.92603124e+01, -1.92297279e+01,\n",
       "        -1.92395415e+01],\n",
       "       [-9.28869675e+01, -9.28866173e+01, -9.28867814e+01,\n",
       "        -9.28859580e+01],\n",
       "       [-3.66687273e-01, -3.94510571e-01, -6.69683387e-01,\n",
       "        -3.36347859e-01],\n",
       "       [-9.16357164e-01, -9.12774359e-01, -9.24937770e-01,\n",
       "        -9.25916779e-01],\n",
       "       [-4.71313716e+00, -4.78116452e+00, -4.75738783e+00,\n",
       "        -4.76064946e+00],\n",
       "       [-8.10264516e+01, -8.10268410e+01, -8.10278159e+01,\n",
       "        -8.10271710e+01],\n",
       "       [-7.05176654e+01, -7.05185402e+01, -7.05181625e+01,\n",
       "        -7.05164340e+01],\n",
       "       [-1.35502717e-01, -4.60253438e-01,  9.59888260e-01,\n",
       "        -3.11521052e-01],\n",
       "       [ 0.00000000e+00,  7.36384684e-03,  3.80915432e-02,\n",
       "         2.33516234e+00],\n",
       "       [ 0.00000000e+00,  0.00000000e+00,  0.00000000e+00,\n",
       "         0.00000000e+00]])"
      ]
     },
     "execution_count": 643,
     "metadata": {},
     "output_type": "execute_result"
    }
   ],
   "source": [
    "ql.Q"
   ]
  },
  {
   "cell_type": "code",
   "execution_count": 622,
   "metadata": {},
   "outputs": [
    {
     "data": {
      "text/plain": [
       "(3, 3, 3, 3, 0, 1, 0, 3, 3, 1, 0, 0, 3, 2, 3, 0)"
      ]
     },
     "execution_count": 622,
     "metadata": {},
     "output_type": "execute_result"
    }
   ],
   "source": [
    "ql.policy"
   ]
  },
  {
   "cell_type": "code",
   "execution_count": 620,
   "metadata": {},
   "outputs": [
    {
     "data": {
      "text/plain": [
       "(3, 3, 3, 3, 0, 0, 0, 0, 3, 1, 0, 0, 0, 2, 1, 0)"
      ]
     },
     "execution_count": 620,
     "metadata": {},
     "output_type": "execute_result"
    }
   ],
   "source": [
    "vi.policy"
   ]
  },
  {
   "cell_type": "code",
   "execution_count": 625,
   "metadata": {},
   "outputs": [],
   "source": [
    "final_rewards = [i['Reward'] for i in final_results]"
   ]
  },
  {
   "cell_type": "code",
   "execution_count": 629,
   "metadata": {},
   "outputs": [
    {
     "data": {
      "text/plain": [
       "[{'State': 13,\n",
       "  'Action': 2,\n",
       "  'Reward': 0.0,\n",
       "  'Error': 0.0018342744525591786,\n",
       "  'Time': 52.836270570755005,\n",
       "  'Alpha': 0.001,\n",
       "  'Epsilon': 0.001,\n",
       "  'Gamma': 0.96,\n",
       "  'Max V': 2.3329094847895937,\n",
       "  'Mean V': -22.620496038267824,\n",
       "  'Iteration': 999100},\n",
       " {'State': 1,\n",
       "  'Action': 3,\n",
       "  'Reward': 0.0,\n",
       "  'Error': 9.212950040451574e-07,\n",
       "  'Time': 52.84126019477844,\n",
       "  'Alpha': 0.001,\n",
       "  'Epsilon': 0.001,\n",
       "  'Gamma': 0.96,\n",
       "  'Max V': 2.335162339987272,\n",
       "  'Mean V': -22.620063384484453,\n",
       "  'Iteration': 999200},\n",
       " {'State': 11,\n",
       "  'Action': 0,\n",
       "  'Reward': -5.0,\n",
       "  'Error': 0.0017624634092469336,\n",
       "  'Time': 52.84524750709534,\n",
       "  'Alpha': 0.001,\n",
       "  'Epsilon': 0.001,\n",
       "  'Gamma': 0.96,\n",
       "  'Max V': 2.335162339987272,\n",
       "  'Mean V': -22.620091069329167,\n",
       "  'Iteration': 999300},\n",
       " {'State': 0,\n",
       "  'Action': 3,\n",
       "  'Reward': 0.0,\n",
       "  'Error': 5.140706395138899e-07,\n",
       "  'Time': 52.85124945640564,\n",
       "  'Alpha': 0.001,\n",
       "  'Epsilon': 0.001,\n",
       "  'Gamma': 0.96,\n",
       "  'Max V': 2.335162339987272,\n",
       "  'Mean V': -22.622819244796105,\n",
       "  'Iteration': 999400},\n",
       " {'State': 7,\n",
       "  'Action': 3,\n",
       "  'Reward': -5.0,\n",
       "  'Error': 0.0012858469111397,\n",
       "  'Time': 52.85623526573181,\n",
       "  'Alpha': 0.001,\n",
       "  'Epsilon': 0.001,\n",
       "  'Gamma': 0.96,\n",
       "  'Max V': 2.335162339987272,\n",
       "  'Mean V': -22.622863754112338,\n",
       "  'Iteration': 999500},\n",
       " {'State': 11,\n",
       "  'Action': 0,\n",
       "  'Reward': -5.0,\n",
       "  'Error': 0.0017607017915607485,\n",
       "  'Time': 52.86022758483887,\n",
       "  'Alpha': 0.001,\n",
       "  'Epsilon': 0.001,\n",
       "  'Gamma': 0.96,\n",
       "  'Max V': 2.335162339987272,\n",
       "  'Mean V': -22.62485503352226,\n",
       "  'Iteration': 999600},\n",
       " {'State': 3,\n",
       "  'Action': 3,\n",
       "  'Reward': 0.0,\n",
       "  'Error': 5.725632872931561e-07,\n",
       "  'Time': 52.86620879173279,\n",
       "  'Alpha': 0.001,\n",
       "  'Epsilon': 0.001,\n",
       "  'Gamma': 0.96,\n",
       "  'Max V': 2.335162339987272,\n",
       "  'Mean V': -22.62758048581075,\n",
       "  'Iteration': 999700},\n",
       " {'State': 5,\n",
       "  'Action': 1,\n",
       "  'Reward': -5.0,\n",
       "  'Error': 0.0011705838818233047,\n",
       "  'Time': 52.870198011398315,\n",
       "  'Alpha': 0.001,\n",
       "  'Epsilon': 0.001,\n",
       "  'Gamma': 0.96,\n",
       "  'Max V': 2.335162339987272,\n",
       "  'Mean V': -22.627596709804635,\n",
       "  'Iteration': 999800},\n",
       " {'State': 1,\n",
       "  'Action': 3,\n",
       "  'Reward': 0.0,\n",
       "  'Error': 9.138116177601647e-07,\n",
       "  'Time': 52.875184297561646,\n",
       "  'Alpha': 0.001,\n",
       "  'Epsilon': 0.001,\n",
       "  'Gamma': 0.96,\n",
       "  'Max V': 2.335162339987272,\n",
       "  'Mean V': -22.629412158039436,\n",
       "  'Iteration': 999900},\n",
       " {'State': 2,\n",
       "  'Action': 3,\n",
       "  'Reward': 0.0,\n",
       "  'Error': 9.313965948700223e-08,\n",
       "  'Time': 52.87917447090149,\n",
       "  'Alpha': 0.001,\n",
       "  'Epsilon': 0.001,\n",
       "  'Gamma': 0.96,\n",
       "  'Max V': 2.335162339987272,\n",
       "  'Mean V': -22.629415498453284,\n",
       "  'Iteration': 1000000}]"
      ]
     },
     "execution_count": 629,
     "metadata": {},
     "output_type": "execute_result"
    }
   ],
   "source": [
    "final_results[-10:]"
   ]
  },
  {
   "cell_type": "code",
   "execution_count": 599,
   "metadata": {},
   "outputs": [
    {
     "data": {
      "text/plain": [
       "(0, 3, 0, 3, 0, 0, 0, 0, 3, 1, 0, 0, 0, 2, 1, 0)"
      ]
     },
     "execution_count": 599,
     "metadata": {},
     "output_type": "execute_result"
    }
   ],
   "source": [
    "pi.policy"
   ]
  },
  {
   "cell_type": "code",
   "execution_count": 583,
   "metadata": {},
   "outputs": [
    {
     "data": {
      "text/plain": [
       "(array([ 0., -2.,  0., -2.,  0., -5., -2., -5., -2., -2.,  0., -5., -5.,\n",
       "        -2.,  0.,  0.]),\n",
       " array([ 0. , -2. ,  0. , -2. , -2. , -5. , -3.5, -5. , -2. ,  0. , -2. ,\n",
       "        -5. , -5. , -2. , 33. ,  0. ]),\n",
       " array([ 0., -2.,  0., -2., -2., -5., -2., -5., -2., -2., -2., -5., -5.,\n",
       "         0., 33.,  0.]),\n",
       " array([ 0. ,  0. ,  0. ,  0. , -2. , -5. , -3.5, -5. ,  0. , -2. , -2. ,\n",
       "        -5. , -5. , -2. , 33. ,  0. ]))"
      ]
     },
     "execution_count": 583,
     "metadata": {},
     "output_type": "execute_result"
    }
   ],
   "source": [
    "vi.R"
   ]
  },
  {
   "cell_type": "code",
   "execution_count": 582,
   "metadata": {},
   "outputs": [
    {
     "data": {
      "text/plain": [
       "(array([ 0., -2.,  0., -2.,  0., -5., -2., -5., -2., -2.,  0., -5., -5.,\n",
       "        -2.,  0.,  0.]),\n",
       " array([ 0. , -2. ,  0. , -2. , -2. , -5. , -3.5, -5. , -2. ,  0. , -2. ,\n",
       "        -5. , -5. , -2. , 33. ,  0. ]),\n",
       " array([ 0., -2.,  0., -2., -2., -5., -2., -5., -2., -2., -2., -5., -5.,\n",
       "         0., 33.,  0.]),\n",
       " array([ 0. ,  0. ,  0. ,  0. , -2. , -5. , -3.5, -5. ,  0. , -2. , -2. ,\n",
       "        -5. , -5. , -2. , 33. ,  0. ]))"
      ]
     },
     "execution_count": 582,
     "metadata": {},
     "output_type": "execute_result"
    }
   ],
   "source": [
    "pi.R"
   ]
  },
  {
   "cell_type": "code",
   "execution_count": 573,
   "metadata": {},
   "outputs": [],
   "source": [
    "errors = [i['Error'] for i in final_results]"
   ]
  },
  {
   "cell_type": "code",
   "execution_count": 595,
   "metadata": {},
   "outputs": [],
   "source": [
    "errors = [i['Error'] for i in final_results]"
   ]
  },
  {
   "cell_type": "code",
   "execution_count": 575,
   "metadata": {},
   "outputs": [
    {
     "data": {
      "text/plain": [
       "[0.0, 0.0, 0.0, 0.0, 0.0, 0.0, 0.0, 0.0, 0.0, 8.194682977764122]"
      ]
     },
     "execution_count": 575,
     "metadata": {},
     "output_type": "execute_result"
    }
   ],
   "source": [
    "errors[:10]"
   ]
  },
  {
   "cell_type": "code",
   "execution_count": 600,
   "metadata": {},
   "outputs": [
    {
     "data": {
      "text/plain": [
       "[0.0,\n",
       " 0.0,\n",
       " 0.0,\n",
       " 0.0,\n",
       " 0.0,\n",
       " 0.40335281470780465,\n",
       " 0.42291401663263156,\n",
       " 0.3581488088031077,\n",
       " 0.2938381094687863,\n",
       " 0.16389365955528246]"
      ]
     },
     "execution_count": 600,
     "metadata": {},
     "output_type": "execute_result"
    }
   ],
   "source": [
    "errors[:10]"
   ]
  },
  {
   "cell_type": "code",
   "execution_count": 576,
   "metadata": {},
   "outputs": [
    {
     "data": {
      "text/plain": [
       "[<matplotlib.lines.Line2D at 0x2cf90479198>]"
      ]
     },
     "execution_count": 576,
     "metadata": {},
     "output_type": "execute_result"
    },
    {
     "data": {
      "image/png": "[encoded data removed]",
      "text/plain": [
       "<Figure size 432x288 with 1 Axes>"
      ]
     },
     "metadata": {
      "needs_background": "light"
     },
     "output_type": "display_data"
    }
   ],
   "source": [
    "plt.plot(errors[:500])"
   ]
  },
  {
   "cell_type": "code",
   "execution_count": 615,
   "metadata": {},
   "outputs": [
    {
     "data": {
      "text/plain": [
       "[<matplotlib.lines.Line2D at 0x2cf8b45c940>]"
      ]
     },
     "execution_count": 615,
     "metadata": {},
     "output_type": "execute_result"
    },
    {
     "data": {
      "image/png": "[encoded data removed]",
      "text/plain": [
       "<Figure size 432x288 with 1 Axes>"
      ]
     },
     "metadata": {
      "needs_background": "light"
     },
     "output_type": "display_data"
    }
   ],
   "source": [
    "plt.plot(errors[:500])"
   ]
  },
  {
   "cell_type": "code",
   "execution_count": 577,
   "metadata": {},
   "outputs": [
    {
     "data": {
      "text/plain": [
       "0.001"
      ]
     },
     "execution_count": 577,
     "metadata": {},
     "output_type": "execute_result"
    }
   ],
   "source": [
    "ql.epsilon"
   ]
  },
  {
   "cell_type": "code",
   "execution_count": null,
   "metadata": {},
   "outputs": [],
   "source": []
  },
  {
   "cell_type": "code",
   "execution_count": 458,
   "metadata": {},
   "outputs": [],
   "source": [
    "pi = mdp.PolicyIteration(P, R, 0.9)\n",
    "pi = mdp.PolicyIteration(pp, rr, 0.9)\n",
    "\n",
    "pi_result = pi.run()\n",
    "\n",
    "pi_errors = [i['Error'] for i in pi_result]"
   ]
  },
  {
   "cell_type": "code",
   "execution_count": null,
   "metadata": {},
   "outputs": [],
   "source": []
  },
  {
   "cell_type": "code",
   "execution_count": 247,
   "metadata": {},
   "outputs": [
    {
     "data": {
      "text/plain": [
       "[<matplotlib.lines.Line2D at 0x2cf88679c88>]"
      ]
     },
     "execution_count": 247,
     "metadata": {},
     "output_type": "execute_result"
    },
    {
     "data": {
      "image/png": "[encoded data removed]",
      "text/plain": [
       "<Figure size 432x288 with 1 Axes>"
      ]
     },
     "metadata": {
      "needs_background": "light"
     },
     "output_type": "display_data"
    }
   ],
   "source": [
    "plt.plot(pi_errors)"
   ]
  },
  {
   "cell_type": "code",
   "execution_count": 459,
   "metadata": {},
   "outputs": [
    {
     "data": {
      "text/plain": [
       "[<matplotlib.lines.Line2D at 0x2cf89ca8eb8>]"
      ]
     },
     "execution_count": 459,
     "metadata": {},
     "output_type": "execute_result"
    },
    {
     "data": {
      "image/png": "[encoded data removed]",
      "text/plain": [
       "<Figure size 432x288 with 1 Axes>"
      ]
     },
     "metadata": {
      "needs_background": "light"
     },
     "output_type": "display_data"
    }
   ],
   "source": [
    "plt.plot(pi_errors)"
   ]
  },
  {
   "cell_type": "code",
   "execution_count": 461,
   "metadata": {},
   "outputs": [
    {
     "data": {
      "text/plain": [
       "3"
      ]
     },
     "execution_count": 461,
     "metadata": {},
     "output_type": "execute_result"
    }
   ],
   "source": [
    "len(pi_result)"
   ]
  },
  {
   "cell_type": "code",
   "execution_count": 460,
   "metadata": {},
   "outputs": [
    {
     "data": {
      "text/plain": [
       "(3, 3, 3, 3, 0, 0, 0, 0, 3, 1, 0, 0, 0, 2, 1, 0)"
      ]
     },
     "execution_count": 460,
     "metadata": {},
     "output_type": "execute_result"
    }
   ],
   "source": [
    "pi.policy"
   ]
  },
  {
   "cell_type": "code",
   "execution_count": 100,
   "metadata": {},
   "outputs": [
    {
     "data": {
      "text/plain": [
       "(0, 3, 0, 3, 0, 0, 0, 0, 3, 1, 0, 0, 0, 2, 1, 0)"
      ]
     },
     "execution_count": 100,
     "metadata": {},
     "output_type": "execute_result"
    }
   ],
   "source": [
    "pi.policy"
   ]
  },
  {
   "cell_type": "code",
   "execution_count": 248,
   "metadata": {},
   "outputs": [
    {
     "data": {
      "text/plain": [
       "(0, 3, 0, 3, 0, 0, 1, 0, 3, 1, 0, 0, 0, 2, 2, 0)"
      ]
     },
     "execution_count": 248,
     "metadata": {},
     "output_type": "execute_result"
    }
   ],
   "source": [
    "pi.policy"
   ]
  },
  {
   "cell_type": "code",
   "execution_count": 104,
   "metadata": {
    "scrolled": true
   },
   "outputs": [
    {
     "data": {
      "text/plain": [
       "[{'State': None,\n",
       "  'Action': None,\n",
       "  'Reward': 1.4285714285714288,\n",
       "  'Error': 0.42857142857142855,\n",
       "  'Time': 0.1148216724395752,\n",
       "  'Max V': 1.4285714285714288,\n",
       "  'Mean V': 0.1357357385367312,\n",
       "  'Iteration': 1},\n",
       " {'State': None,\n",
       "  'Action': None,\n",
       "  'Reward': 1.745594869903243,\n",
       "  'Error': 0.13390501051880616,\n",
       "  'Time': 0.12379312515258789,\n",
       "  'Max V': 1.745594869903243,\n",
       "  'Mean V': 0.2706433742523482,\n",
       "  'Iteration': 2},\n",
       " {'State': None,\n",
       "  'Action': None,\n",
       "  'Reward': 1.9033951830704754,\n",
       "  'Error': 0.051918300767766934,\n",
       "  'Time': 0.12479329109191895,\n",
       "  'Max V': 1.9033951830704754,\n",
       "  'Mean V': 0.369348202396657,\n",
       "  'Iteration': 3},\n",
       " {'State': None,\n",
       "  'Action': None,\n",
       "  'Reward': 1.9168952315799412,\n",
       "  'Error': 0.006320975600469264,\n",
       "  'Time': 0.1267852783203125,\n",
       "  'Max V': 1.9168952315799412,\n",
       "  'Mean V': 0.4056526532358726,\n",
       "  'Iteration': 4},\n",
       " {'State': None,\n",
       "  'Action': None,\n",
       "  'Reward': 1.9170604443558334,\n",
       "  'Error': 2.220446049250313e-16,\n",
       "  'Time': 0.12778663635253906,\n",
       "  'Max V': 1.9170604443558334,\n",
       "  'Mean V': 0.4080172982800236,\n",
       "  'Iteration': 5}]"
      ]
     },
     "execution_count": 104,
     "metadata": {},
     "output_type": "execute_result"
    }
   ],
   "source": [
    "pi_result"
   ]
  },
  {
   "cell_type": "code",
   "execution_count": 127,
   "metadata": {},
   "outputs": [
    {
     "data": {
      "text/plain": [
       "[(1, array([0, 0, 0, 0, 0, 0, 0, 0, 0, 0, 0, 0, 0, 0, 1, 0], dtype=int64)),\n",
       " (2, array([0, 3, 2, 3, 0, 0, 2, 0, 0, 1, 0, 0, 0, 1, 2, 0], dtype=int64)),\n",
       " (3, array([1, 2, 2, 3, 0, 0, 0, 0, 1, 1, 0, 0, 0, 2, 1, 0], dtype=int64)),\n",
       " (4, array([0, 3, 2, 3, 0, 0, 0, 0, 3, 1, 0, 0, 0, 2, 1, 0], dtype=int64)),\n",
       " (5, array([0, 3, 0, 3, 0, 0, 0, 0, 3, 1, 0, 0, 0, 2, 1, 0], dtype=int64))]"
      ]
     },
     "execution_count": 127,
     "metadata": {},
     "output_type": "execute_result"
    }
   ],
   "source": [
    "pi.p_cumulative"
   ]
  },
  {
   "cell_type": "code",
   "execution_count": 280,
   "metadata": {},
   "outputs": [],
   "source": [
    "ql = mdp.QLearning(P, R, 0.96 , n_iter=200000,epsilon_decay=0.999,epsilon_min=0.001,alpha_decay=0.999)\n",
    "ql_result = ql.run()"
   ]
  },
  {
   "cell_type": "code",
   "execution_count": 281,
   "metadata": {},
   "outputs": [],
   "source": [
    "errors = [i['Error'] for i in ql_result]"
   ]
  },
  {
   "cell_type": "code",
   "execution_count": 307,
   "metadata": {},
   "outputs": [],
   "source": [
    "re = [i['Reward'] for i in ql_result]"
   ]
  },
  {
   "cell_type": "code",
   "execution_count": 308,
   "metadata": {},
   "outputs": [
    {
     "data": {
      "text/plain": [
       "[<matplotlib.lines.Line2D at 0x2cf8697fd68>]"
      ]
     },
     "execution_count": 308,
     "metadata": {},
     "output_type": "execute_result"
    },
    {
     "data": {
      "image/png": "[encoded data removed]",
      "text/plain": [
       "<Figure size 432x288 with 1 Axes>"
      ]
     },
     "metadata": {
      "needs_background": "light"
     },
     "output_type": "display_data"
    }
   ],
   "source": [
    "plt.plot(re)"
   ]
  },
  {
   "cell_type": "code",
   "execution_count": 290,
   "metadata": {
    "scrolled": true
   },
   "outputs": [
    {
     "data": {
      "text/plain": [
       "[<matplotlib.lines.Line2D at 0x2cf855e9400>]"
      ]
     },
     "execution_count": 290,
     "metadata": {},
     "output_type": "execute_result"
    },
    {
     "data": {
      "image/png": "[encoded data removed]",
      "text/plain": [
       "<Figure size 432x288 with 1 Axes>"
      ]
     },
     "metadata": {
      "needs_background": "light"
     },
     "output_type": "display_data"
    }
   ],
   "source": [
    "plt.plot(errors[:])"
   ]
  },
  {
   "cell_type": "code",
   "execution_count": 291,
   "metadata": {},
   "outputs": [
    {
     "data": {
      "text/plain": [
       "(0, 0, 0, 0, 0, 0, 1, 0, 0, 0, 0, 0, 0, 1, 2, 0)"
      ]
     },
     "execution_count": 291,
     "metadata": {},
     "output_type": "execute_result"
    }
   ],
   "source": [
    "ql.policy"
   ]
  },
  {
   "cell_type": "code",
   "execution_count": 292,
   "metadata": {},
   "outputs": [
    {
     "data": {
      "text/plain": [
       "{'State': 12,\n",
       " 'Action': 0,\n",
       " 'Reward': 0.0,\n",
       " 'Error': 0.0,\n",
       " 'Time': 11.534822463989258,\n",
       " 'Alpha': 0.001,\n",
       " 'Epsilon': 0.001,\n",
       " 'Gamma': 0.96,\n",
       " 'Max V': 575.1482860841471,\n",
       " 'Mean V': 41.398238311888996,\n",
       " 'Iteration': 200000}"
      ]
     },
     "execution_count": 292,
     "metadata": {},
     "output_type": "execute_result"
    }
   ],
   "source": [
    "ql_result[-1]"
   ]
  },
  {
   "cell_type": "code",
   "execution_count": 255,
   "metadata": {},
   "outputs": [
    {
     "data": {
      "text/plain": [
       "[<matplotlib.lines.Line2D at 0x2cf8567cbe0>]"
      ]
     },
     "execution_count": 255,
     "metadata": {},
     "output_type": "execute_result"
    },
    {
     "data": {
      "image/png": "[encoded data removed]",
      "text/plain": [
       "<Figure size 432x288 with 1 Axes>"
      ]
     },
     "metadata": {
      "needs_background": "light"
     },
     "output_type": "display_data"
    }
   ],
   "source": [
    "plt.plot(errors[50:])"
   ]
  },
  {
   "cell_type": "code",
   "execution_count": 263,
   "metadata": {},
   "outputs": [
    {
     "data": {
      "text/plain": [
       "(0, 2, 0, 0, 0, 0, 1, 0, 3, 2, 0, 0, 0, 1, 2, 0)"
      ]
     },
     "execution_count": 263,
     "metadata": {},
     "output_type": "execute_result"
    }
   ],
   "source": [
    "ql.policy"
   ]
  },
  {
   "cell_type": "code",
   "execution_count": 257,
   "metadata": {},
   "outputs": [
    {
     "data": {
      "text/plain": [
       "(0, 3, 0, 3, 0, 0, 1, 0, 3, 1, 0, 0, 0, 2, 2, 0)"
      ]
     },
     "execution_count": 257,
     "metadata": {},
     "output_type": "execute_result"
    }
   ],
   "source": [
    "vi.policy"
   ]
  },
  {
   "cell_type": "code",
   "execution_count": 264,
   "metadata": {},
   "outputs": [
    {
     "data": {
      "text/plain": [
       "[(20, array([0, 0, 0, 0, 0, 0, 0, 0, 0, 0, 0, 0, 0, 0, 0, 0], dtype=int64)),\n",
       " (1020, array([0, 0, 0, 0, 0, 0, 0, 0, 0, 0, 0, 0, 0, 1, 0, 0], dtype=int64)),\n",
       " (1220, array([0, 0, 0, 0, 0, 0, 1, 0, 0, 0, 0, 0, 0, 1, 0, 0], dtype=int64)),\n",
       " (10920, array([0, 0, 0, 0, 0, 0, 1, 0, 0, 0, 0, 0, 0, 1, 2, 0], dtype=int64)),\n",
       " (12520, array([0, 0, 0, 0, 0, 0, 1, 0, 0, 2, 0, 0, 0, 1, 2, 0], dtype=int64)),\n",
       " (17740, array([0, 0, 0, 0, 0, 0, 1, 0, 2, 2, 0, 0, 0, 1, 2, 0], dtype=int64)),\n",
       " (18820, array([0, 0, 0, 0, 0, 0, 1, 0, 3, 2, 0, 0, 0, 1, 2, 0], dtype=int64)),\n",
       " (33600, array([0, 2, 0, 0, 0, 0, 1, 0, 3, 2, 0, 0, 0, 1, 2, 0], dtype=int64))]"
      ]
     },
     "execution_count": 264,
     "metadata": {},
     "output_type": "execute_result"
    }
   ],
   "source": [
    "ql.p_cumulative"
   ]
  },
  {
   "cell_type": "code",
   "execution_count": 141,
   "metadata": {},
   "outputs": [
    {
     "data": {
      "text/plain": [
       "[(2, array([0, 0, 0, 0, 0, 0, 0, 0, 0, 0, 0, 0, 0, 0, 0, 0], dtype=int64)),\n",
       " (2602, array([0, 0, 0, 0, 0, 0, 0, 0, 0, 0, 0, 0, 0, 0, 3, 0], dtype=int64)),\n",
       " (6802, array([0, 0, 0, 0, 0, 0, 2, 0, 0, 0, 0, 0, 0, 0, 3, 0], dtype=int64)),\n",
       " (7304, array([0, 2, 0, 0, 0, 0, 2, 0, 0, 0, 0, 0, 0, 0, 3, 0], dtype=int64)),\n",
       " (9316, array([2, 2, 0, 0, 0, 0, 2, 0, 0, 0, 0, 0, 0, 0, 3, 0], dtype=int64)),\n",
       " (12402, array([2, 2, 0, 0, 0, 0, 2, 0, 0, 0, 0, 0, 0, 3, 3, 0], dtype=int64)),\n",
       " (14902, array([2, 2, 0, 0, 0, 0, 2, 0, 0, 2, 0, 0, 0, 3, 3, 0], dtype=int64))]"
      ]
     },
     "execution_count": 141,
     "metadata": {},
     "output_type": "execute_result"
    }
   ],
   "source": [
    "ql.p_cumulative"
   ]
  },
  {
   "cell_type": "code",
   "execution_count": 608,
   "metadata": {
    "scrolled": true
   },
   "outputs": [
    {
     "data": {
      "text/plain": [
       "array([[ 0.00000000e+00,  0.00000000e+00,  0.00000000e+00,\n",
       "         0.00000000e+00],\n",
       "       [ 0.00000000e+00, -1.35393985e-01,  0.00000000e+00,\n",
       "         0.00000000e+00],\n",
       "       [ 1.94057776e-02,  0.00000000e+00,  0.00000000e+00,\n",
       "         0.00000000e+00],\n",
       "       [ 2.28421667e-04, -6.06378945e+00,  0.00000000e+00,\n",
       "         0.00000000e+00],\n",
       "       [ 0.00000000e+00,  0.00000000e+00, -5.53108902e+00,\n",
       "         0.00000000e+00],\n",
       "       [ 0.00000000e+00,  0.00000000e+00,  0.00000000e+00,\n",
       "         0.00000000e+00],\n",
       "       [-6.03957065e+00,  9.68654823e-01, -1.01986462e+01,\n",
       "         3.35425469e-07],\n",
       "       [ 0.00000000e+00,  0.00000000e+00,  0.00000000e+00,\n",
       "         0.00000000e+00],\n",
       "       [ 0.00000000e+00, -1.17764347e+00,  0.00000000e+00,\n",
       "         0.00000000e+00],\n",
       "       [ 6.57003235e-01,  0.00000000e+00,  0.00000000e+00,\n",
       "         0.00000000e+00],\n",
       "       [ 3.03339371e+01,  0.00000000e+00,  0.00000000e+00,\n",
       "         0.00000000e+00],\n",
       "       [ 0.00000000e+00,  0.00000000e+00,  0.00000000e+00,\n",
       "         0.00000000e+00],\n",
       "       [ 0.00000000e+00,  0.00000000e+00,  0.00000000e+00,\n",
       "         0.00000000e+00],\n",
       "       [-9.99433486e-01,  2.32715790e+01,  0.00000000e+00,\n",
       "         0.00000000e+00],\n",
       "       [ 0.00000000e+00,  0.00000000e+00,  4.86402898e+02,\n",
       "         0.00000000e+00],\n",
       "       [ 0.00000000e+00,  0.00000000e+00,  0.00000000e+00,\n",
       "         0.00000000e+00]])"
      ]
     },
     "execution_count": 608,
     "metadata": {},
     "output_type": "execute_result"
    }
   ],
   "source": [
    "ql.Q"
   ]
  },
  {
   "cell_type": "code",
   "execution_count": 293,
   "metadata": {
    "scrolled": true
   },
   "outputs": [
    {
     "data": {
      "text/plain": [
       "array([[ 0.00000000e+00,  0.00000000e+00,  0.00000000e+00,\n",
       "         0.00000000e+00],\n",
       "       [ 0.00000000e+00,  0.00000000e+00,  0.00000000e+00,\n",
       "         0.00000000e+00],\n",
       "       [ 6.16537753e-02,  0.00000000e+00,  0.00000000e+00,\n",
       "         0.00000000e+00],\n",
       "       [ 4.47789246e-04, -1.00000000e+01,  0.00000000e+00,\n",
       "         0.00000000e+00],\n",
       "       [ 0.00000000e+00,  0.00000000e+00, -1.00000000e-01,\n",
       "         0.00000000e+00],\n",
       "       [ 0.00000000e+00,  0.00000000e+00,  0.00000000e+00,\n",
       "         0.00000000e+00],\n",
       "       [-2.22739801e+00,  2.29042285e+00, -6.15186731e+00,\n",
       "         0.00000000e+00],\n",
       "       [ 0.00000000e+00,  0.00000000e+00,  0.00000000e+00,\n",
       "         0.00000000e+00],\n",
       "       [ 0.00000000e+00, -3.57335194e-01,  0.00000000e+00,\n",
       "         0.00000000e+00],\n",
       "       [ 1.22980462e+00,  0.00000000e+00,  0.00000000e+00,\n",
       "        -1.08837371e+01],\n",
       "       [ 4.23220604e+01,  0.00000000e+00, -1.59277075e+00,\n",
       "         0.00000000e+00],\n",
       "       [ 0.00000000e+00,  0.00000000e+00,  0.00000000e+00,\n",
       "         0.00000000e+00],\n",
       "       [ 0.00000000e+00,  0.00000000e+00,  0.00000000e+00,\n",
       "         0.00000000e+00],\n",
       "       [-2.46177867e+00,  4.13191375e+01,  7.94993590e-03,\n",
       "         0.00000000e+00],\n",
       "       [ 4.13000263e-01,  2.38281567e-02,  5.75148286e+02,\n",
       "         0.00000000e+00],\n",
       "       [ 0.00000000e+00,  0.00000000e+00,  0.00000000e+00,\n",
       "         0.00000000e+00]])"
      ]
     },
     "execution_count": 293,
     "metadata": {},
     "output_type": "execute_result"
    }
   ],
   "source": [
    "ql.Q"
   ]
  },
  {
   "cell_type": "code",
   "execution_count": 267,
   "metadata": {
    "scrolled": true
   },
   "outputs": [
    {
     "data": {
      "text/plain": [
       "[0.0,\n",
       " 0.0,\n",
       " 2e-05,\n",
       " 0.0,\n",
       " 0.0,\n",
       " 9.998401247951362e-06,\n",
       " 1.0033910339231992e-05,\n",
       " 2.0035156279330514e-05,\n",
       " 1.9638310413381123e-05,\n",
       " 1.9971073104939558e-05,\n",
       " 1.1528172272125666e-06,\n",
       " 9.333817665642246e-06,\n",
       " 1.0660388994677772e-05,\n",
       " 1.0000732292827765e-05,\n",
       " 2.8342337353204485e-05,\n",
       " 9.058629165585245e-06,\n",
       " 9.754504136813523e-07,\n",
       " 2.889582556793498e-05,\n",
       " 2.1081461985407348e-05,\n",
       " 2.3875195786582675e-06,\n",
       " 9.971435312135122e-06,\n",
       " 9.994069125239186e-06,\n",
       " 1.0037899721902716e-05,\n",
       " 1.993882795402737e-05,\n",
       " 2.990656474849279e-05,\n",
       " 2.6629117417347965e-05,\n",
       " 5.3173191124598706e-05,\n",
       " 1.821104974232305e-05,\n",
       " 2.0078916004699737e-05,\n",
       " 2.1813958355426056e-05,\n",
       " 1.7953314783956814e-05,\n",
       " 3.005517216121238e-05,\n",
       " 1.64431085261247e-05,\n",
       " 7.907388559208162e-06,\n",
       " 1.0066176274910923e-05,\n",
       " 1.0060215214970096e-05,\n",
       " 2.5308373244189945e-05,\n",
       " 7.963317468147602e-06,\n",
       " 1.2560314914508216e-05,\n",
       " 1.7744641034672923e-05,\n",
       " 4.766475283969504e-07,\n",
       " 5.39393786951627e-06,\n",
       " 1.4913394919652545e-05,\n",
       " 1.2663652789248018e-05,\n",
       " 2.2794176388503083e-05,\n",
       " 7.320118755658636e-06,\n",
       " 2.8192934438893666e-07,\n",
       " 2.4508240115346304e-05,\n",
       " 1.8774722747539612e-05,\n",
       " 1.9836277999129387e-05,\n",
       " 1.0666274001995715e-05,\n",
       " 1.7438453029644433e-05,\n",
       " 3.944466016482501e-05,\n",
       " 7.526419890999602e-06,\n",
       " 2.352074161279149e-05,\n",
       " 3.351520250275356e-05,\n",
       " 6.806147681885404e-06,\n",
       " 1.3609411857331522e-05,\n",
       " 1.3544156618769485e-05,\n",
       " 2.998875882255549e-05,\n",
       " 1.0525429476156019e-05,\n",
       " 1.669080743000595e-05,\n",
       " 2.9732212876361777e-05,\n",
       " 2.611481190024671e-05,\n",
       " 6.691403822014746e-06,\n",
       " 1.677272224530002e-05,\n",
       " 7.492980671074442e-06,\n",
       " 3.981198296695885e-06,\n",
       " 1.6094193072638113e-05,\n",
       " 4.1281994190944483e-07,\n",
       " 1.6099150197997004e-05,\n",
       " 1.8185325447145286e-05,\n",
       " 4.5748608252137485e-06,\n",
       " 2.4563528830246394e-05,\n",
       " 1.96490611873391e-05,\n",
       " 1.0123111583950634e-05,\n",
       " 1.0641584164422879e-05,\n",
       " 1.637591296314227e-05,\n",
       " 2.795855012421791e-05,\n",
       " 4.573237035188191e-06,\n",
       " 1.6531188553908762e-05,\n",
       " 3.068679145786108e-05,\n",
       " 1.179551674956159e-06,\n",
       " 2.4206412437765738e-05,\n",
       " 6.659914647347858e-07,\n",
       " 2.518724800089212e-05,\n",
       " 1.5407357064550236e-05,\n",
       " 6.100560805097697e-06,\n",
       " 1.0411285181203653e-05,\n",
       " 2.048464510974637e-05,\n",
       " 2.573718638994881e-05,\n",
       " 1.4080022305645374e-05,\n",
       " 1.645125224744204e-05,\n",
       " 1.0674300204332538e-05,\n",
       " 1.0618169593486004e-05,\n",
       " 7.64092672156424e-06,\n",
       " 1.4854134066846995e-05,\n",
       " 2.1567468803325145e-05,\n",
       " 1.2106883958231088e-05,\n",
       " 1.6244538765153888e-05]"
      ]
     },
     "execution_count": 267,
     "metadata": {},
     "output_type": "execute_result"
    }
   ],
   "source": [
    "ql.error_mean"
   ]
  },
  {
   "cell_type": "code",
   "execution_count": 294,
   "metadata": {
    "scrolled": true
   },
   "outputs": [
    {
     "data": {
      "text/plain": [
       "[0.04195275057910024,\n",
       " 0.04554723817721799,\n",
       " 0.01973777918896691,\n",
       " 0.021126466300621777,\n",
       " 0.02118999153968176,\n",
       " 0.01134748569765226,\n",
       " 0.008554480700359371,\n",
       " 0.01137545117685087,\n",
       " 0.017023410791309656,\n",
       " 0.001565751621354574,\n",
       " 0.01145204645876577,\n",
       " 0.009977650973313372,\n",
       " 0.008356873758038941,\n",
       " 0.041283010369929624,\n",
       " 0.019915755391294355,\n",
       " 0.009974210267904862,\n",
       " 0.00813624894268914,\n",
       " 0.01563489849229608,\n",
       " 0.02588890217736712,\n",
       " 0.01795458268759033,\n",
       " 0.01002280764533783,\n",
       " 0.0021096884825306307,\n",
       " 0.0021616665673603046,\n",
       " 0.008668965067540892,\n",
       " 0.00010466548372935086,\n",
       " 0.0022408640267362317,\n",
       " 0.02749982606891667,\n",
       " 0.015436384474562716,\n",
       " 0.019740725634547013,\n",
       " 0.024703215401418396,\n",
       " 0.00021420817910387007,\n",
       " 0.007442711017061979,\n",
       " 0.02724743624082599,\n",
       " 0.027010176978313247,\n",
       " 0.009899500030255975,\n",
       " 0.0027937267978965447,\n",
       " 0.019766661666684074,\n",
       " 0.007401590981237927,\n",
       " 0.007080054969658175,\n",
       " 0.017099944193865686,\n",
       " 0.016928832021210066,\n",
       " 0.012994317793989891,\n",
       " 0.023948270372923776,\n",
       " 0.006519620732735118,\n",
       " 0.020017735924829482,\n",
       " 0.01305679955560438,\n",
       " 0.029725435435693937,\n",
       " 0.03981009975722596,\n",
       " 0.006942657358230436,\n",
       " 0.009911909921528555,\n",
       " 0.010248478030592988,\n",
       " 0.02031507806089359,\n",
       " 0.02013258556334484,\n",
       " 0.0074202786397842314,\n",
       " 0.003985178789873801,\n",
       " 0.01733655434285564,\n",
       " 0.026244074995227375,\n",
       " 0.006447523118254071,\n",
       " 0.0005042587744444029,\n",
       " 0.008164546914349403,\n",
       " 0.008385140758258795,\n",
       " 0.0004116666763602482,\n",
       " 0.011731489590883581,\n",
       " 0.025771710928491114,\n",
       " 0.0008130708065987664,\n",
       " 0.01992911944624895,\n",
       " 0.020471748679966283,\n",
       " 0.028783267677304433,\n",
       " 0.008490280878877968,\n",
       " 0.012527134671294606,\n",
       " 0.008465209575800253,\n",
       " 0.014624930001475427,\n",
       " 0.019015865168153435,\n",
       " 0.0108563572013013,\n",
       " 0.026081099926102906,\n",
       " 0.0055447232377381535,\n",
       " 0.009821054627816085,\n",
       " 0.005592695258312987,\n",
       " 0.015103990920036366,\n",
       " 0.0009545158568770988,\n",
       " 0.000374616733201751,\n",
       " 0.014944553307245215,\n",
       " 0.006752842247086237,\n",
       " 0.0064115740124885655,\n",
       " 0.01541838591544814,\n",
       " 0.0007288372015633083,\n",
       " 0.00997732140208767,\n",
       " 0.010465809759777582,\n",
       " 0.0010574759615160191,\n",
       " 0.025205270663250658,\n",
       " 0.01993960443537118,\n",
       " 0.0055612257543078344,\n",
       " 0.01535506016057059,\n",
       " 0.019972234545998207,\n",
       " 0.009196919075106169,\n",
       " 0.010510994858686172,\n",
       " 0.02459696139167392,\n",
       " 0.00207558453751638,\n",
       " 0.00979706829120613,\n",
       " 0.020323151092096745]"
      ]
     },
     "execution_count": 294,
     "metadata": {},
     "output_type": "execute_result"
    }
   ],
   "source": [
    "ql.error_mean"
   ]
  },
  {
   "cell_type": "code",
   "execution_count": 140,
   "metadata": {},
   "outputs": [
    {
     "data": {
      "text/plain": [
       "100"
      ]
     },
     "execution_count": 140,
     "metadata": {},
     "output_type": "execute_result"
    }
   ],
   "source": [
    "len(ql.error_mean)"
   ]
  },
  {
   "cell_type": "code",
   "execution_count": 147,
   "metadata": {},
   "outputs": [
    {
     "data": {
      "text/plain": [
       "{'State': 11,\n",
       " 'Action': 3,\n",
       " 'Reward': 0.0,\n",
       " 'Error': 0.0,\n",
       " 'Time': 0.06982183456420898,\n",
       " 'Alpha': 0.013263987810938228,\n",
       " 'Epsilon': 0.13263987810938213,\n",
       " 'Gamma': 0.96,\n",
       " 'Max V': 0.0,\n",
       " 'Mean V': 0.0,\n",
       " 'Iteration': 202}"
      ]
     },
     "execution_count": 147,
     "metadata": {},
     "output_type": "execute_result"
    }
   ],
   "source": [
    "ql_result[100]"
   ]
  },
  {
   "cell_type": "code",
   "execution_count": 152,
   "metadata": {},
   "outputs": [
    {
     "data": {
      "text/plain": [
       "0.1326398781093821"
      ]
     },
     "execution_count": 152,
     "metadata": {},
     "output_type": "execute_result"
    }
   ],
   "source": [
    "0.99**201"
   ]
  },
  {
   "cell_type": "code",
   "execution_count": 150,
   "metadata": {},
   "outputs": [
    {
     "data": {
      "text/plain": [
       "10000"
      ]
     },
     "execution_count": 150,
     "metadata": {},
     "output_type": "execute_result"
    }
   ],
   "source": [
    "len(ql_result)"
   ]
  },
  {
   "cell_type": "code",
   "execution_count": 653,
   "metadata": {},
   "outputs": [
    {
     "data": {
      "text/plain": [
       "4"
      ]
     },
     "execution_count": 653,
     "metadata": {},
     "output_type": "execute_result"
    }
   ],
   "source": [
    "len(pp)"
   ]
  },
  {
   "cell_type": "code",
   "execution_count": 655,
   "metadata": {},
   "outputs": [
    {
     "name": "stdout",
     "output_type": "stream",
     "text": [
      "\n",
      "\u001b[41mS\u001b[0mFFF\n",
      "FHFH\n",
      "FFFH\n",
      "HFFG\n"
     ]
    }
   ],
   "source": [
    "env.render()"
   ]
  },
  {
   "cell_type": "code",
   "execution_count": 676,
   "metadata": {},
   "outputs": [
    {
     "name": "stdout",
     "output_type": "stream",
     "text": [
      "{'State': 14, 'Action': 0, 'Reward': 0.0, 'Error': 0.0, 'Time': 0.03390932083129883, 'Alpha': 0.08194682977764123, 'Epsilon': 0.8194682977764125, 'Gamma': 0.96, 'Max V': 0.0, 'Mean V': 0.0, 'Iteration': 200}\n",
      "{'State': 15, 'Action': 0, 'Reward': 0.0, 'Error': 0.0, 'Time': 0.10471701622009277, 'Alpha': 0.040679341596116574, 'Epsilon': 0.4067934159611651, 'Gamma': 0.96, 'Max V': 67.01859060067407, 'Mean V': 4.18866191254213, 'Iteration': 900}\n",
      "{'State': 15, 'Action': 0, 'Reward': 0.0, 'Error': 0.0, 'Time': 0.10571455955505371, 'Alpha': 0.03987343766111037, 'Epsilon': 0.3987343766111031, 'Gamma': 0.96, 'Max V': 67.01859060067407, 'Mean V': 4.18866191254213, 'Iteration': 920}\n",
      "{'State': 15, 'Action': 0, 'Reward': 0.0, 'Error': 0.0, 'Time': 0.10671186447143555, 'Alpha': 0.039083499597894984, 'Epsilon': 0.3908349959789493, 'Gamma': 0.96, 'Max V': 67.01859060067407, 'Mean V': 4.18866191254213, 'Iteration': 940}\n",
      "{'State': 15, 'Action': 0, 'Reward': 0.0, 'Error': 0.0, 'Time': 0.10770893096923828, 'Alpha': 0.03830921110442627, 'Epsilon': 0.38309211104426205, 'Gamma': 0.96, 'Max V': 67.01859060067407, 'Mean V': 4.18866191254213, 'Iteration': 960}\n",
      "{'State': 15, 'Action': 0, 'Reward': 0.0, 'Error': 0.0, 'Time': 0.10870623588562012, 'Alpha': 0.03755026214496259, 'Epsilon': 0.3755026214496253, 'Gamma': 0.96, 'Max V': 67.01859060067407, 'Mean V': 4.18866191254213, 'Iteration': 980}\n",
      "{'State': 15, 'Action': 0, 'Reward': 0.0, 'Error': 0.0, 'Time': 0.1745319366455078, 'Alpha': 0.013533526065815815, 'Epsilon': 0.13533526065815754, 'Gamma': 0.96, 'Max V': 67.01859060067407, 'Mean V': 4.18866191254213, 'Iteration': 2000}\n",
      "{'State': 15, 'Action': 0, 'Reward': 0.0, 'Error': 0.0, 'Time': 0.17652678489685059, 'Alpha': 0.013265411551592922, 'Epsilon': 0.13265411551592862, 'Gamma': 0.96, 'Max V': 67.01859060067407, 'Mean V': 4.18866191254213, 'Iteration': 2020}\n",
      "{'State': 15, 'Action': 0, 'Reward': 0.0, 'Error': 0.0, 'Time': 0.17752432823181152, 'Alpha': 0.013002608690252462, 'Epsilon': 0.130026086902524, 'Gamma': 0.96, 'Max V': 67.01859060067407, 'Mean V': 4.18866191254213, 'Iteration': 2040}\n",
      "{'State': 15, 'Action': 0, 'Reward': 0.0, 'Error': 0.0, 'Time': 0.1795186996459961, 'Alpha': 0.012745012251921203, 'Epsilon': 0.12745012251921148, 'Gamma': 0.96, 'Max V': 67.01859060067407, 'Mean V': 4.18866191254213, 'Iteration': 2060}\n",
      "{'State': 15, 'Action': 0, 'Reward': 0.0, 'Error': 0.0, 'Time': 0.18051648139953613, 'Alpha': 0.012492519091449153, 'Epsilon': 0.12492519091449104, 'Gamma': 0.96, 'Max V': 67.01859060067407, 'Mean V': 4.18866191254213, 'Iteration': 2080}\n",
      "{'State': 15, 'Action': 0, 'Reward': 0.0, 'Error': 0.0, 'Time': 0.23767781257629395, 'Alpha': 0.004976215615419052, 'Epsilon': 0.04976215615419044, 'Gamma': 0.96, 'Max V': 67.01859060067407, 'Mean V': 4.18866191254213, 'Iteration': 3000}\n",
      "{'State': 15, 'Action': 0, 'Reward': 0.0, 'Error': 0.0, 'Time': 0.23867559432983398, 'Alpha': 0.004877631135224604, 'Epsilon': 0.04877631135224597, 'Gamma': 0.96, 'Max V': 67.01859060067407, 'Mean V': 4.18866191254213, 'Iteration': 3020}\n",
      "{'State': 15, 'Action': 0, 'Reward': 0.0, 'Error': 0.0, 'Time': 0.24067020416259766, 'Alpha': 0.004780999725492998, 'Epsilon': 0.04780999725492994, 'Gamma': 0.96, 'Max V': 67.01859060067407, 'Mean V': 4.18866191254213, 'Iteration': 3040}\n",
      "{'State': 15, 'Action': 0, 'Reward': 0.0, 'Error': 0.0, 'Time': 0.2416672706604004, 'Alpha': 0.0046862826936813, 'Epsilon': 0.04686282693681294, 'Gamma': 0.96, 'Max V': 67.01859060067407, 'Mean V': 4.18866191254213, 'Iteration': 3060}\n",
      "{'State': 15, 'Action': 0, 'Reward': 0.0, 'Error': 0.0, 'Time': 0.24366188049316406, 'Alpha': 0.0045934421137897655, 'Epsilon': 0.04593442113789762, 'Gamma': 0.96, 'Max V': 67.01859060067407, 'Mean V': 4.18866191254213, 'Iteration': 3080}\n",
      "{'State': 15, 'Action': 0, 'Reward': 0.0, 'Error': 0.0, 'Time': 0.24565696716308594, 'Alpha': 0.004413242347668546, 'Epsilon': 0.04413242347668542, 'Gamma': 0.96, 'Max V': 105.57288593864679, 'Mean V': 6.692084887442479, 'Iteration': 3120}\n",
      "{'State': 15, 'Action': 0, 'Reward': 0.0, 'Error': 0.0, 'Time': 0.24665403366088867, 'Alpha': 0.004325811006978861, 'Epsilon': 0.04325811006978859, 'Gamma': 0.96, 'Max V': 105.57288593864679, 'Mean V': 6.692084887442479, 'Iteration': 3140}\n",
      "{'State': 15, 'Action': 0, 'Reward': 0.0, 'Error': 0.0, 'Time': 0.24864864349365234, 'Alpha': 0.004240111780397715, 'Epsilon': 0.04240111780397716, 'Gamma': 0.96, 'Max V': 105.57288593864679, 'Mean V': 6.692084887442479, 'Iteration': 3160}\n",
      "{'State': 15, 'Action': 0, 'Reward': 0.0, 'Error': 0.0, 'Time': 0.24964618682861328, 'Alpha': 0.0041561103527783735, 'Epsilon': 0.04156110352778373, 'Gamma': 0.96, 'Max V': 105.57288593864679, 'Mean V': 6.692084887442479, 'Iteration': 3180}\n",
      "{'State': 14, 'Action': 2, 'Reward': 1000.0, 'Error': 4.056569889530376, 'Time': 0.2506434917449951, 'Alpha': 0.004073773088796112, 'Epsilon': 0.04073773088796111, 'Gamma': 0.96, 'Max V': 109.62945582817717, 'Mean V': 6.945620505538128, 'Iteration': 3200}\n",
      "{'State': 15, 'Action': 0, 'Reward': 0.0, 'Error': 0.0, 'Time': 0.2526381015777588, 'Alpha': 0.003993067019480168, 'Epsilon': 0.039930670194801676, 'Gamma': 0.96, 'Max V': 117.28475230758677, 'Mean V': 7.424076535501228, 'Iteration': 3220}\n",
      "{'State': 15, 'Action': 0, 'Reward': 0.0, 'Error': 0.0, 'Time': 0.2536354064941406, 'Alpha': 0.003913959829012517, 'Epsilon': 0.03913959829012518, 'Gamma': 0.96, 'Max V': 117.28475230758677, 'Mean V': 7.424076535501228, 'Iteration': 3240}\n",
      "{'State': 15, 'Action': 0, 'Reward': 0.0, 'Error': 0.0, 'Time': 0.25463294982910156, 'Alpha': 0.003836419841788178, 'Epsilon': 0.0383641984178818, 'Gamma': 0.96, 'Max V': 117.28475230758677, 'Mean V': 7.424076535501228, 'Iteration': 3260}\n",
      "{'State': 15, 'Action': 0, 'Reward': 0.0, 'Error': 0.0, 'Time': 0.25662827491760254, 'Alpha': 0.0037604160097318576, 'Epsilon': 0.03760416009731858, 'Gamma': 0.96, 'Max V': 117.28475230758677, 'Mean V': 7.424076535501228, 'Iteration': 3280}\n",
      "{'State': 15, 'Action': 0, 'Reward': 0.0, 'Error': 0.0, 'Time': 0.28754496574401855, 'Alpha': 0.0022350630069656236, 'Epsilon': 0.022350630069656263, 'Gamma': 0.96, 'Max V': 117.28475230758677, 'Mean V': 7.423889600100748, 'Iteration': 3800}\n",
      "{'State': 15, 'Action': 0, 'Reward': 0.0, 'Error': 0.0, 'Time': 0.2895393371582031, 'Alpha': 0.00219078387162012, 'Epsilon': 0.021907838716201233, 'Gamma': 0.96, 'Max V': 117.28475230758677, 'Mean V': 7.423889600100748, 'Iteration': 3820}\n",
      "{'State': 15, 'Action': 0, 'Reward': 0.0, 'Error': 0.0, 'Time': 0.29053664207458496, 'Alpha': 0.0021473819562101777, 'Epsilon': 0.021473819562101815, 'Gamma': 0.96, 'Max V': 117.28475230758677, 'Mean V': 7.423889600100748, 'Iteration': 3840}\n",
      "{'State': 15, 'Action': 0, 'Reward': 0.0, 'Error': 0.0, 'Time': 0.29253149032592773, 'Alpha': 0.0021048398820130787, 'Epsilon': 0.02104839882013083, 'Gamma': 0.96, 'Max V': 117.28475230758677, 'Mean V': 7.423889600100748, 'Iteration': 3860}\n",
      "{'State': 15, 'Action': 0, 'Reward': 0.0, 'Error': 0.0, 'Time': 0.29352879524230957, 'Alpha': 0.002063140614598332, 'Epsilon': 0.020631406145983345, 'Gamma': 0.96, 'Max V': 117.28475230758677, 'Mean V': 7.423889600100748, 'Iteration': 3880}\n",
      "{'State': 15, 'Action': 0, 'Reward': 0.0, 'Error': 0.0, 'Time': 0.30350184440612793, 'Alpha': 0.0017934826521424857, 'Epsilon': 0.017934826521424863, 'Gamma': 0.96, 'Max V': 122.52511054161492, 'Mean V': 7.764254840593313, 'Iteration': 4020}\n",
      "{'State': 15, 'Action': 0, 'Reward': 0.0, 'Error': 0.0, 'Time': 0.30449938774108887, 'Alpha': 0.0017579517248950067, 'Epsilon': 0.017579517248950054, 'Gamma': 0.96, 'Max V': 122.52511054161492, 'Mean V': 7.764254840593313, 'Iteration': 4040}\n",
      "{'State': 15, 'Action': 0, 'Reward': 0.0, 'Error': 0.0, 'Time': 0.3054969310760498, 'Alpha': 0.001723124705649959, 'Epsilon': 0.017231247056499574, 'Gamma': 0.96, 'Max V': 122.52511054161492, 'Mean V': 7.764254840593313, 'Iteration': 4060}\n",
      "{'State': 15, 'Action': 0, 'Reward': 0.0, 'Error': 0.0, 'Time': 0.30649399757385254, 'Alpha': 0.001688987649190759, 'Epsilon': 0.016889876491907582, 'Gamma': 0.96, 'Max V': 122.52511054161492, 'Mean V': 7.764254840593313, 'Iteration': 4080}\n",
      "{'State': 14, 'Action': 2, 'Reward': 1000.0, 'Error': 0.9748543232909619, 'Time': 0.3304300308227539, 'Alpha': 0.0011095107863953676, 'Epsilon': 0.011095107863953686, 'Gamma': 0.96, 'Max V': 123.49996486490588, 'Mean V': 7.825183235798998, 'Iteration': 4500}\n",
      "{'State': 15, 'Action': 0, 'Reward': 0.0, 'Error': 0.0, 'Time': 0.3324244022369385, 'Alpha': 0.001087530118233, 'Epsilon': 0.010875301182330011, 'Gamma': 0.96, 'Max V': 124.47050710816391, 'Mean V': 7.893971706403602, 'Iteration': 4520}\n",
      "{'State': 15, 'Action': 0, 'Reward': 0.0, 'Error': 0.0, 'Time': 0.3334221839904785, 'Alpha': 0.0010659849120587337, 'Epsilon': 0.010659849120587353, 'Gamma': 0.96, 'Max V': 124.47050710816391, 'Mean V': 7.893971706403602, 'Iteration': 4540}\n",
      "{'State': 15, 'Action': 0, 'Reward': 0.0, 'Error': 0.0, 'Time': 0.33441925048828125, 'Alpha': 0.0010448665408762613, 'Epsilon': 0.01044866540876263, 'Gamma': 0.96, 'Max V': 124.47050710816391, 'Mean V': 7.893971706403602, 'Iteration': 4560}\n",
      "{'State': 15, 'Action': 0, 'Reward': 0.0, 'Error': 0.0, 'Time': 0.3354165554046631, 'Alpha': 0.0010241665485998647, 'Epsilon': 0.010241665485998672, 'Gamma': 0.96, 'Max V': 124.47050710816391, 'Mean V': 7.893971706403602, 'Iteration': 4580}\n",
      "{'State': 14, 'Action': 2, 'Reward': 1000.0, 'Error': 0.9950211797156735, 'Time': 0.4012775421142578, 'Alpha': 0.001, 'Epsilon': 0.003339776464289837, 'Gamma': 0.96, 'Max V': 125.4655282878796, 'Mean V': 7.956067617007757, 'Iteration': 5700}\n",
      "{'State': 15, 'Action': 0, 'Reward': 0.0, 'Error': 0.0, 'Time': 0.40227341651916504, 'Alpha': 0.001, 'Epsilon': 0.0032736117013166532, 'Gamma': 0.96, 'Max V': 126.34006275959172, 'Mean V': 8.010726021489765, 'Iteration': 5720}\n",
      "{'State': 15, 'Action': 0, 'Reward': 0.0, 'Error': 0.0, 'Time': 0.4032707214355469, 'Alpha': 0.001, 'Epsilon': 0.0032087577374062524, 'Gamma': 0.96, 'Max V': 126.34006275959172, 'Mean V': 8.010726021489765, 'Iteration': 5740}\n",
      "{'State': 15, 'Action': 0, 'Reward': 0.0, 'Error': 0.0, 'Time': 0.4042680263519287, 'Alpha': 0.001, 'Epsilon': 0.0031451886041412203, 'Gamma': 0.96, 'Max V': 126.34006275959172, 'Mean V': 8.010726021489765, 'Iteration': 5760}\n",
      "{'State': 15, 'Action': 0, 'Reward': 0.0, 'Error': 0.0, 'Time': 0.4052698612213135, 'Alpha': 0.001, 'Epsilon': 0.0030828788475679722, 'Gamma': 0.96, 'Max V': 126.34006275959172, 'Mean V': 8.010726021489765, 'Iteration': 5780}\n",
      "{'State': 14, 'Action': 2, 'Reward': 1000.0, 'Error': 0.9948764327147711, 'Time': 0.4591207504272461, 'Alpha': 0.001, 'Epsilon': 0.0010053175659213095, 'Gamma': 0.96, 'Max V': 129.08405856343785, 'Mean V': 8.197192457638534, 'Iteration': 6900}\n",
      "{'State': 14, 'Action': 2, 'Reward': 1000.0, 'Error': 0.9947668879277619, 'Time': 0.4980168342590332, 'Alpha': 0.001, 'Epsilon': 0.001, 'Gamma': 0.96, 'Max V': 131.82256869387987, 'Mean V': 8.375822242745013, 'Iteration': 7700}\n",
      "{'State': 15, 'Action': 0, 'Reward': 0.0, 'Error': 0.0, 'Time': 0.49901437759399414, 'Alpha': 0.001, 'Epsilon': 0.001, 'Gamma': 0.96, 'Max V': 133.68447849534098, 'Mean V': 8.492191605336332, 'Iteration': 7720}\n",
      "{'State': 15, 'Action': 0, 'Reward': 0.0, 'Error': 0.0, 'Time': 0.5000114440917969, 'Alpha': 0.001, 'Epsilon': 0.001, 'Gamma': 0.96, 'Max V': 133.68447849534098, 'Mean V': 8.492191605336332, 'Iteration': 7740}\n",
      "{'State': 15, 'Action': 0, 'Reward': 0.0, 'Error': 0.0, 'Time': 0.5010087490081787, 'Alpha': 0.001, 'Epsilon': 0.001, 'Gamma': 0.96, 'Max V': 133.68447849534098, 'Mean V': 8.492191605336332, 'Iteration': 7760}\n",
      "{'State': 15, 'Action': 0, 'Reward': 0.0, 'Error': 0.0, 'Time': 0.5020060539245605, 'Alpha': 0.001, 'Epsilon': 0.001, 'Gamma': 0.96, 'Max V': 133.68447849534098, 'Mean V': 8.492191605336332, 'Iteration': 7780}\n",
      "{'State': 14, 'Action': 2, 'Reward': 1000.0, 'Error': 0.9946179127602549, 'Time': 0.5887413024902344, 'Alpha': 0.001, 'Epsilon': 0.001, 'Gamma': 0.96, 'Max V': 135.54679890638778, 'Mean V': 8.616424184744838, 'Iteration': 9500}\n",
      "{'State': 15, 'Action': 1, 'Reward': 0.0, 'Error': 0.0, 'Time': 0.5897753238677979, 'Alpha': 0.001, 'Epsilon': 0.001, 'Gamma': 0.96, 'Max V': 138.26881502746986, 'Mean V': 8.794704357819066, 'Iteration': 9520}\n",
      "{'State': 15, 'Action': 0, 'Reward': 0.0, 'Error': 0.0, 'Time': 0.5907697677612305, 'Alpha': 0.001, 'Epsilon': 0.001, 'Gamma': 0.96, 'Max V': 138.26881502746986, 'Mean V': 8.794704357819066, 'Iteration': 9540}\n",
      "{'State': 15, 'Action': 0, 'Reward': 0.0, 'Error': 0.0, 'Time': 0.5917670726776123, 'Alpha': 0.001, 'Epsilon': 0.001, 'Gamma': 0.96, 'Max V': 138.26881502746986, 'Mean V': 8.794704357819066, 'Iteration': 9560}\n",
      "{'State': 15, 'Action': 0, 'Reward': 0.0, 'Error': 0.0, 'Time': 0.5927658081054688, 'Alpha': 0.001, 'Epsilon': 0.001, 'Gamma': 0.96, 'Max V': 138.26881502746986, 'Mean V': 8.794704357819066, 'Iteration': 9580}\n",
      "{'State': 14, 'Action': 2, 'Reward': 1000.0, 'Error': 0.9944692473989012, 'Time': 0.5987484455108643, 'Alpha': 0.001, 'Epsilon': 0.001, 'Gamma': 0.96, 'Max V': 139.26328427486877, 'Mean V': 8.856858685781498, 'Iteration': 9700}\n",
      "{'State': 14, 'Action': 2, 'Reward': 1000.0, 'Error': 0.9943949787268039, 'Time': 0.6216855049133301, 'Alpha': 0.001, 'Epsilon': 0.001, 'Gamma': 0.96, 'Max V': 141.11992680862434, 'Mean V': 8.972702185910856, 'Iteration': 10200}\n",
      "{'State': 15, 'Action': 0, 'Reward': 0.0, 'Error': 0.0, 'Time': 0.6226832866668701, 'Alpha': 0.001, 'Epsilon': 0.001, 'Gamma': 0.96, 'Max V': 141.97880688181573, 'Mean V': 9.026382190485318, 'Iteration': 10220}\n",
      "{'State': 15, 'Action': 0, 'Reward': 0.0, 'Error': 0.0, 'Time': 0.6236457824707031, 'Alpha': 0.001, 'Epsilon': 0.001, 'Gamma': 0.96, 'Max V': 141.97880688181573, 'Mean V': 9.026382190485318, 'Iteration': 10240}\n",
      "{'State': 15, 'Action': 0, 'Reward': 0.0, 'Error': 0.0, 'Time': 0.6246814727783203, 'Alpha': 0.001, 'Epsilon': 0.001, 'Gamma': 0.96, 'Max V': 141.97880688181573, 'Mean V': 9.026382190485318, 'Iteration': 10260}\n",
      "{'State': 15, 'Action': 0, 'Reward': 0.0, 'Error': 0.0, 'Time': 0.6256771087646484, 'Alpha': 0.001, 'Epsilon': 0.001, 'Gamma': 0.96, 'Max V': 141.97880688181573, 'Mean V': 9.026382190485318, 'Iteration': 10280}\n",
      "{'State': 15, 'Action': 0, 'Reward': 0.0, 'Error': 0.0, 'Time': 0.6516108512878418, 'Alpha': 0.001, 'Epsilon': 0.001, 'Gamma': 0.96, 'Max V': 143.69562678057588, 'Mean V': 9.150661536813516, 'Iteration': 10820}\n",
      "{'State': 15, 'Action': 0, 'Reward': 0.0, 'Error': 0.0, 'Time': 0.6526031494140625, 'Alpha': 0.001, 'Epsilon': 0.001, 'Gamma': 0.96, 'Max V': 143.69562678057588, 'Mean V': 9.150661536813516, 'Iteration': 10840}\n",
      "{'State': 15, 'Action': 0, 'Reward': 0.0, 'Error': 0.0, 'Time': 0.6536035537719727, 'Alpha': 0.001, 'Epsilon': 0.001, 'Gamma': 0.96, 'Max V': 143.69562678057588, 'Mean V': 9.150661536813516, 'Iteration': 10860}\n",
      "{'State': 15, 'Action': 0, 'Reward': 0.0, 'Error': 0.0, 'Time': 0.6545982360839844, 'Alpha': 0.001, 'Epsilon': 0.001, 'Gamma': 0.96, 'Max V': 143.69562678057588, 'Mean V': 9.150661536813516, 'Iteration': 10880}\n",
      "{'State': 15, 'Action': 0, 'Reward': 0.0, 'Error': 0.0, 'Time': 0.6615827083587646, 'Alpha': 0.001, 'Epsilon': 0.001, 'Gamma': 0.96, 'Max V': 144.5519311537953, 'Mean V': 9.212748264330834, 'Iteration': 11020}\n",
      "{'State': 15, 'Action': 0, 'Reward': 0.0, 'Error': 0.0, 'Time': 0.6625773906707764, 'Alpha': 0.001, 'Epsilon': 0.001, 'Gamma': 0.96, 'Max V': 144.5519311537953, 'Mean V': 9.212748264330834, 'Iteration': 11040}\n",
      "{'State': 15, 'Action': 0, 'Reward': 0.0, 'Error': 0.0, 'Time': 0.6635744571685791, 'Alpha': 0.001, 'Epsilon': 0.001, 'Gamma': 0.96, 'Max V': 144.5519311537953, 'Mean V': 9.212748264330834, 'Iteration': 11060}\n",
      "{'State': 15, 'Action': 0, 'Reward': 0.0, 'Error': 0.0, 'Time': 0.6645739078521729, 'Alpha': 0.001, 'Epsilon': 0.001, 'Gamma': 0.96, 'Max V': 144.5519311537953, 'Mean V': 9.212748264330834, 'Iteration': 11080}\n",
      "{'State': 15, 'Action': 0, 'Reward': 0.0, 'Error': 0.0, 'Time': 0.7323892116546631, 'Alpha': 0.001, 'Epsilon': 0.001, 'Gamma': 0.96, 'Max V': 144.5519311537953, 'Mean V': 9.21274251554659, 'Iteration': 12500}\n",
      "{'State': 15, 'Action': 0, 'Reward': 0.0, 'Error': 0.0, 'Time': 0.7333905696868896, 'Alpha': 0.001, 'Epsilon': 0.001, 'Gamma': 0.96, 'Max V': 144.5519311537953, 'Mean V': 9.21274251554659, 'Iteration': 12520}\n",
      "{'State': 15, 'Action': 0, 'Reward': 0.0, 'Error': 0.0, 'Time': 0.7343845367431641, 'Alpha': 0.001, 'Epsilon': 0.001, 'Gamma': 0.96, 'Max V': 144.5519311537953, 'Mean V': 9.21274251554659, 'Iteration': 12540}\n",
      "{'State': 15, 'Action': 0, 'Reward': 0.0, 'Error': 0.0, 'Time': 0.7353830337524414, 'Alpha': 0.001, 'Epsilon': 0.001, 'Gamma': 0.96, 'Max V': 144.5519311537953, 'Mean V': 9.21274251554659, 'Iteration': 12560}\n",
      "{'State': 15, 'Action': 0, 'Reward': 0.0, 'Error': 0.0, 'Time': 0.7363848686218262, 'Alpha': 0.001, 'Epsilon': 0.001, 'Gamma': 0.96, 'Max V': 144.5519311537953, 'Mean V': 9.21274251554659, 'Iteration': 12580}\n",
      "{'State': 15, 'Action': 0, 'Reward': 0.0, 'Error': 0.0, 'Time': 0.7423632144927979, 'Alpha': 0.001, 'Epsilon': 0.001, 'Gamma': 0.96, 'Max V': 144.5519311537953, 'Mean V': 9.21274251554659, 'Iteration': 12700}\n",
      "{'State': 15, 'Action': 0, 'Reward': 0.0, 'Error': 0.0, 'Time': 0.7433602809906006, 'Alpha': 0.001, 'Epsilon': 0.001, 'Gamma': 0.96, 'Max V': 144.5519311537953, 'Mean V': 9.21274251554659, 'Iteration': 12720}\n",
      "{'State': 15, 'Action': 0, 'Reward': 0.0, 'Error': 0.0, 'Time': 0.7443599700927734, 'Alpha': 0.001, 'Epsilon': 0.001, 'Gamma': 0.96, 'Max V': 144.5519311537953, 'Mean V': 9.21274251554659, 'Iteration': 12740}\n",
      "{'State': 15, 'Action': 0, 'Reward': 0.0, 'Error': 0.0, 'Time': 0.7453551292419434, 'Alpha': 0.001, 'Epsilon': 0.001, 'Gamma': 0.96, 'Max V': 144.5519311537953, 'Mean V': 9.21274251554659, 'Iteration': 12760}\n",
      "{'State': 15, 'Action': 0, 'Reward': 0.0, 'Error': 0.0, 'Time': 0.7463564872741699, 'Alpha': 0.001, 'Epsilon': 0.001, 'Gamma': 0.96, 'Max V': 144.5519311537953, 'Mean V': 9.21274251554659, 'Iteration': 12780}\n",
      "{'State': 15, 'Action': 0, 'Reward': 0.0, 'Error': 0.0, 'Time': 0.7762742042541504, 'Alpha': 0.001, 'Epsilon': 0.001, 'Gamma': 0.96, 'Max V': 144.5519311537953, 'Mean V': 9.21273788785501, 'Iteration': 13400}\n",
      "{'State': 15, 'Action': 0, 'Reward': 0.0, 'Error': 0.0, 'Time': 0.777271032333374, 'Alpha': 0.001, 'Epsilon': 0.001, 'Gamma': 0.96, 'Max V': 144.5519311537953, 'Mean V': 9.21273788785501, 'Iteration': 13420}\n",
      "{'State': 15, 'Action': 0, 'Reward': 0.0, 'Error': 0.0, 'Time': 0.778266429901123, 'Alpha': 0.001, 'Epsilon': 0.001, 'Gamma': 0.96, 'Max V': 144.5519311537953, 'Mean V': 9.21273788785501, 'Iteration': 13440}\n",
      "{'State': 15, 'Action': 0, 'Reward': 0.0, 'Error': 0.0, 'Time': 0.7792642116546631, 'Alpha': 0.001, 'Epsilon': 0.001, 'Gamma': 0.96, 'Max V': 144.5519311537953, 'Mean V': 9.21273788785501, 'Iteration': 13460}\n",
      "{'State': 15, 'Action': 0, 'Reward': 0.0, 'Error': 0.0, 'Time': 0.780261754989624, 'Alpha': 0.001, 'Epsilon': 0.001, 'Gamma': 0.96, 'Max V': 144.5519311537953, 'Mean V': 9.21273788785501, 'Iteration': 13480}\n",
      "{'State': 14, 'Action': 2, 'Reward': 1000.0, 'Error': 0.8554480688462047, 'Time': 0.8041987419128418, 'Alpha': 0.001, 'Epsilon': 0.001, 'Gamma': 0.96, 'Max V': 145.4073792226415, 'Mean V': 9.266203392155225, 'Iteration': 14000}\n",
      "{'State': 15, 'Action': 0, 'Reward': 0.0, 'Error': 0.0, 'Time': 0.8051950931549072, 'Alpha': 0.001, 'Epsilon': 0.001, 'Gamma': 0.96, 'Max V': 145.4073792226415, 'Mean V': 9.266203392155225, 'Iteration': 14020}\n",
      "{'State': 15, 'Action': 0, 'Reward': 0.0, 'Error': 0.0, 'Time': 0.8061559200286865, 'Alpha': 0.001, 'Epsilon': 0.001, 'Gamma': 0.96, 'Max V': 145.4073792226415, 'Mean V': 9.266203392155225, 'Iteration': 14040}\n",
      "{'State': 15, 'Action': 0, 'Reward': 0.0, 'Error': 0.0, 'Time': 0.8071911334991455, 'Alpha': 0.001, 'Epsilon': 0.001, 'Gamma': 0.96, 'Max V': 145.4073792226415, 'Mean V': 9.266203392155225, 'Iteration': 14060}\n",
      "{'State': 15, 'Action': 0, 'Reward': 0.0, 'Error': 0.0, 'Time': 0.8081891536712646, 'Alpha': 0.001, 'Epsilon': 0.001, 'Gamma': 0.96, 'Max V': 145.4073792226415, 'Mean V': 9.266203392155225, 'Iteration': 14080}\n",
      "{'State': 14, 'Action': 2, 'Reward': 1000.0, 'Error': 0.9941837048310943, 'Time': 0.8420605659484863, 'Alpha': 0.001, 'Epsilon': 0.001, 'Gamma': 0.96, 'Max V': 146.4015629274726, 'Mean V': 9.328265449105599, 'Iteration': 14800}\n",
      "{'State': 15, 'Action': 0, 'Reward': 0.0, 'Error': 0.0, 'Time': 0.9318580627441406, 'Alpha': 0.001, 'Epsilon': 0.001, 'Gamma': 0.96, 'Max V': 149.95637006608177, 'Mean V': 9.567803702459454, 'Iteration': 16600}\n",
      "{'State': 15, 'Action': 0, 'Reward': 0.0, 'Error': 0.0, 'Time': 0.9328532218933105, 'Alpha': 0.001, 'Epsilon': 0.001, 'Gamma': 0.96, 'Max V': 149.95637006608177, 'Mean V': 9.567803702459454, 'Iteration': 16620}\n",
      "{'State': 15, 'Action': 0, 'Reward': 0.0, 'Error': 0.0, 'Time': 0.9338507652282715, 'Alpha': 0.001, 'Epsilon': 0.001, 'Gamma': 0.96, 'Max V': 149.95637006608177, 'Mean V': 9.567803702459454, 'Iteration': 16640}\n",
      "{'State': 15, 'Action': 0, 'Reward': 0.0, 'Error': 0.0, 'Time': 0.9348480701446533, 'Alpha': 0.001, 'Epsilon': 0.001, 'Gamma': 0.96, 'Max V': 149.95637006608177, 'Mean V': 9.567803702459454, 'Iteration': 16660}\n",
      "{'State': 15, 'Action': 0, 'Reward': 0.0, 'Error': 0.0, 'Time': 0.9358477592468262, 'Alpha': 0.001, 'Epsilon': 0.001, 'Gamma': 0.96, 'Max V': 149.95637006608177, 'Mean V': 9.567803702459454, 'Iteration': 16680}\n",
      "{'State': 14, 'Action': 2, 'Reward': 1000.0, 'Error': 0.8500436299339184, 'Time': 0.961775541305542, 'Alpha': 0.001, 'Epsilon': 0.001, 'Gamma': 0.96, 'Max V': 150.80641369601568, 'Mean V': 9.620852428820587, 'Iteration': 17200}\n",
      "{'State': 15, 'Action': 0, 'Reward': 0.0, 'Error': 0.0, 'Time': 0.9627737998962402, 'Alpha': 0.001, 'Epsilon': 0.001, 'Gamma': 0.96, 'Max V': 150.80641369601568, 'Mean V': 9.620852428820587, 'Iteration': 17220}\n",
      "{'State': 15, 'Action': 0, 'Reward': 0.0, 'Error': 0.0, 'Time': 0.9637742042541504, 'Alpha': 0.001, 'Epsilon': 0.001, 'Gamma': 0.96, 'Max V': 150.80641369601568, 'Mean V': 9.620852428820587, 'Iteration': 17240}\n",
      "{'State': 15, 'Action': 0, 'Reward': 0.0, 'Error': 0.0, 'Time': 0.9647684097290039, 'Alpha': 0.001, 'Epsilon': 0.001, 'Gamma': 0.96, 'Max V': 150.80641369601568, 'Mean V': 9.620852428820587, 'Iteration': 17260}\n",
      "{'State': 15, 'Action': 0, 'Reward': 0.0, 'Error': 0.0, 'Time': 0.9657654762268066, 'Alpha': 0.001, 'Epsilon': 0.001, 'Gamma': 0.96, 'Max V': 150.80641369601568, 'Mean V': 9.620852428820587, 'Iteration': 17280}\n",
      "{'State': 14, 'Action': 2, 'Reward': 1000.0, 'Error': 0.8510838536168367, 'Time': 0.9896669387817383, 'Alpha': 0.001, 'Epsilon': 0.001, 'Gamma': 0.96, 'Max V': 151.65749754963252, 'Mean V': 9.673965536916139, 'Iteration': 17700}\n",
      "{'State': 15, 'Action': 0, 'Reward': 0.0, 'Error': 0.0, 'Time': 0.9916613101959229, 'Alpha': 0.001, 'Epsilon': 0.001, 'Gamma': 0.96, 'Max V': 152.5058400520829, 'Mean V': 9.735963328894085, 'Iteration': 17720}\n",
      "{'State': 15, 'Action': 0, 'Reward': 0.0, 'Error': 0.0, 'Time': 0.9926590919494629, 'Alpha': 0.001, 'Epsilon': 0.001, 'Gamma': 0.96, 'Max V': 152.5058400520829, 'Mean V': 9.735963328894085, 'Iteration': 17740}\n",
      "{'State': 15, 'Action': 0, 'Reward': 0.0, 'Error': 0.0, 'Time': 0.9946532249450684, 'Alpha': 0.001, 'Epsilon': 0.001, 'Gamma': 0.96, 'Max V': 152.5058400520829, 'Mean V': 9.735963328894085, 'Iteration': 17760}\n",
      "{'State': 15, 'Action': 0, 'Reward': 0.0, 'Error': 0.0, 'Time': 0.9956505298614502, 'Alpha': 0.001, 'Epsilon': 0.001, 'Gamma': 0.96, 'Max V': 152.5058400520829, 'Mean V': 9.735963328894085, 'Iteration': 17780}\n",
      "{'State': 15, 'Action': 0, 'Reward': 0.0, 'Error': 0.0, 'Time': 0.9966480731964111, 'Alpha': 0.001, 'Epsilon': 0.001, 'Gamma': 0.96, 'Max V': 152.5058400520829, 'Mean V': 9.735963328894085, 'Iteration': 17800}\n",
      "{'State': 15, 'Action': 0, 'Reward': 0.0, 'Error': 0.0, 'Time': 0.997645378112793, 'Alpha': 0.001, 'Epsilon': 0.001, 'Gamma': 0.96, 'Max V': 152.5058400520829, 'Mean V': 9.735963328894085, 'Iteration': 17820}\n",
      "{'State': 15, 'Action': 0, 'Reward': 0.0, 'Error': 0.0, 'Time': 0.9996397495269775, 'Alpha': 0.001, 'Epsilon': 0.001, 'Gamma': 0.96, 'Max V': 152.5058400520829, 'Mean V': 9.735963328894085, 'Iteration': 17840}\n",
      "{'State': 15, 'Action': 0, 'Reward': 0.0, 'Error': 0.0, 'Time': 1.0006372928619385, 'Alpha': 0.001, 'Epsilon': 0.001, 'Gamma': 0.96, 'Max V': 152.5058400520829, 'Mean V': 9.735963328894085, 'Iteration': 17860}\n",
      "{'State': 15, 'Action': 0, 'Reward': 0.0, 'Error': 0.0, 'Time': 1.002631664276123, 'Alpha': 0.001, 'Epsilon': 0.001, 'Gamma': 0.96, 'Max V': 152.5058400520829, 'Mean V': 9.735963328894085, 'Iteration': 17880}\n",
      "{'State': 15, 'Action': 0, 'Reward': 0.0, 'Error': 0.0, 'Time': 1.050539255142212, 'Alpha': 0.001, 'Epsilon': 0.001, 'Gamma': 0.96, 'Max V': 158.17339475082042, 'Mean V': 10.108381108890114, 'Iteration': 18720}\n",
      "{'State': 15, 'Action': 0, 'Reward': 0.0, 'Error': 0.0, 'Time': 1.0515358448028564, 'Alpha': 0.001, 'Epsilon': 0.001, 'Gamma': 0.96, 'Max V': 158.17339475082042, 'Mean V': 10.108381108890114, 'Iteration': 18740}\n",
      "{'State': 15, 'Action': 0, 'Reward': 0.0, 'Error': 0.0, 'Time': 1.0525341033935547, 'Alpha': 0.001, 'Epsilon': 0.001, 'Gamma': 0.96, 'Max V': 158.17339475082042, 'Mean V': 10.108381108890114, 'Iteration': 18760}\n",
      "{'State': 15, 'Action': 0, 'Reward': 0.0, 'Error': 0.0, 'Time': 1.0535304546356201, 'Alpha': 0.001, 'Epsilon': 0.001, 'Gamma': 0.96, 'Max V': 158.17339475082042, 'Mean V': 10.108381108890114, 'Iteration': 18780}\n",
      "{'State': 15, 'Action': 0, 'Reward': 0.0, 'Error': 0.0, 'Time': 1.055527925491333, 'Alpha': 0.001, 'Epsilon': 0.001, 'Gamma': 0.96, 'Max V': 159.0152213560696, 'Mean V': 10.170344897964567, 'Iteration': 18820}\n",
      "{'State': 15, 'Action': 0, 'Reward': 0.0, 'Error': 0.0, 'Time': 1.0574944019317627, 'Alpha': 0.001, 'Epsilon': 0.001, 'Gamma': 0.96, 'Max V': 159.0152213560696, 'Mean V': 10.170344897964567, 'Iteration': 18840}\n",
      "{'State': 15, 'Action': 0, 'Reward': 0.0, 'Error': 0.0, 'Time': 1.0574944019317627, 'Alpha': 0.001, 'Epsilon': 0.001, 'Gamma': 0.96, 'Max V': 159.0152213560696, 'Mean V': 10.170344897964567, 'Iteration': 18860}\n",
      "{'State': 15, 'Action': 0, 'Reward': 0.0, 'Error': 0.0, 'Time': 1.0585176944732666, 'Alpha': 0.001, 'Epsilon': 0.001, 'Gamma': 0.96, 'Max V': 159.0152213560696, 'Mean V': 10.170344897964567, 'Iteration': 18880}\n",
      "{'State': 15, 'Action': 0, 'Reward': 0.0, 'Error': 0.0, 'Time': 1.1502723693847656, 'Alpha': 0.001, 'Epsilon': 0.001, 'Gamma': 0.96, 'Max V': 160.69865127508234, 'Mean V': 10.294004551564102, 'Iteration': 20220}\n",
      "{'State': 15, 'Action': 0, 'Reward': 0.0, 'Error': 0.0, 'Time': 1.1512720584869385, 'Alpha': 0.001, 'Epsilon': 0.001, 'Gamma': 0.96, 'Max V': 160.69865127508234, 'Mean V': 10.294004551564102, 'Iteration': 20240}\n",
      "{'State': 15, 'Action': 0, 'Reward': 0.0, 'Error': 0.0, 'Time': 1.1522674560546875, 'Alpha': 0.001, 'Epsilon': 0.001, 'Gamma': 0.96, 'Max V': 160.69865127508234, 'Mean V': 10.294004551564102, 'Iteration': 20260}\n",
      "{'State': 15, 'Action': 0, 'Reward': 0.0, 'Error': 0.0, 'Time': 1.1532647609710693, 'Alpha': 0.001, 'Epsilon': 0.001, 'Gamma': 0.96, 'Max V': 160.69865127508234, 'Mean V': 10.294004551564102, 'Iteration': 20280}\n",
      "{'State': 15, 'Action': 0, 'Reward': 0.0, 'Error': 0.0, 'Time': 1.1692216396331787, 'Alpha': 0.001, 'Epsilon': 0.001, 'Gamma': 0.96, 'Max V': 165.20145917429898, 'Mean V': 10.60402095625135, 'Iteration': 20620}\n",
      "{'State': 15, 'Action': 0, 'Reward': 0.0, 'Error': 0.0, 'Time': 1.1702187061309814, 'Alpha': 0.001, 'Epsilon': 0.001, 'Gamma': 0.96, 'Max V': 165.20145917429898, 'Mean V': 10.60402095625135, 'Iteration': 20640}\n",
      "{'State': 15, 'Action': 0, 'Reward': 0.0, 'Error': 0.0, 'Time': 1.1712164878845215, 'Alpha': 0.001, 'Epsilon': 0.001, 'Gamma': 0.96, 'Max V': 165.20145917429898, 'Mean V': 10.60402095625135, 'Iteration': 20660}\n",
      "{'State': 15, 'Action': 0, 'Reward': 0.0, 'Error': 0.0, 'Time': 1.1722183227539062, 'Alpha': 0.001, 'Epsilon': 0.001, 'Gamma': 0.96, 'Max V': 165.20145917429898, 'Mean V': 10.60402095625135, 'Iteration': 20680}\n",
      "{'State': 15, 'Action': 0, 'Reward': 0.0, 'Error': 0.0, 'Time': 1.179194450378418, 'Alpha': 0.001, 'Epsilon': 0.001, 'Gamma': 0.96, 'Max V': 166.03625771512466, 'Mean V': 10.666091577505235, 'Iteration': 20820}\n",
      "{'State': 15, 'Action': 0, 'Reward': 0.0, 'Error': 0.0, 'Time': 1.1801953315734863, 'Alpha': 0.001, 'Epsilon': 0.001, 'Gamma': 0.96, 'Max V': 166.03625771512466, 'Mean V': 10.666091577505235, 'Iteration': 20840}\n",
      "{'State': 15, 'Action': 0, 'Reward': 0.0, 'Error': 0.0, 'Time': 1.1811914443969727, 'Alpha': 0.001, 'Epsilon': 0.001, 'Gamma': 0.96, 'Max V': 166.03625771512466, 'Mean V': 10.666091577505235, 'Iteration': 20860}\n",
      "{'State': 15, 'Action': 0, 'Reward': 0.0, 'Error': 0.0, 'Time': 1.1821868419647217, 'Alpha': 0.001, 'Epsilon': 0.001, 'Gamma': 0.96, 'Max V': 166.03625771512466, 'Mean V': 10.666091577505235, 'Iteration': 20880}\n",
      "{'State': 15, 'Action': 0, 'Reward': 0.0, 'Error': 0.0, 'Time': 1.1931586265563965, 'Alpha': 0.001, 'Epsilon': 0.001, 'Gamma': 0.96, 'Max V': 166.03625771512466, 'Mean V': 10.666091577505235, 'Iteration': 21100}\n",
      "{'State': 15, 'Action': 0, 'Reward': 0.0, 'Error': 0.0, 'Time': 1.1941554546356201, 'Alpha': 0.001, 'Epsilon': 0.001, 'Gamma': 0.96, 'Max V': 166.03625771512466, 'Mean V': 10.666091577505235, 'Iteration': 21120}\n",
      "{'State': 15, 'Action': 0, 'Reward': 0.0, 'Error': 0.0, 'Time': 1.1951532363891602, 'Alpha': 0.001, 'Epsilon': 0.001, 'Gamma': 0.96, 'Max V': 166.03625771512466, 'Mean V': 10.666091577505235, 'Iteration': 21140}\n",
      "{'State': 15, 'Action': 0, 'Reward': 0.0, 'Error': 0.0, 'Time': 1.1961491107940674, 'Alpha': 0.001, 'Epsilon': 0.001, 'Gamma': 0.96, 'Max V': 166.03625771512466, 'Mean V': 10.666091577505235, 'Iteration': 21160}\n",
      "{'State': 15, 'Action': 0, 'Reward': 0.0, 'Error': 0.0, 'Time': 1.197148084640503, 'Alpha': 0.001, 'Epsilon': 0.001, 'Gamma': 0.96, 'Max V': 166.03625771512466, 'Mean V': 10.666091577505235, 'Iteration': 21180}\n",
      "{'State': 14, 'Action': 2, 'Reward': 1000.0, 'Error': 0.8369935145230567, 'Time': 1.2419917583465576, 'Alpha': 0.001, 'Epsilon': 0.001, 'Gamma': 0.96, 'Max V': 166.8732512296477, 'Mean V': 10.718403672162925, 'Iteration': 22000}\n",
      "{'State': 15, 'Action': 0, 'Reward': 0.0, 'Error': 0.0, 'Time': 1.2599921226501465, 'Alpha': 0.001, 'Epsilon': 0.001, 'Gamma': 0.96, 'Max V': 166.8732512296477, 'Mean V': 10.71820640645599, 'Iteration': 22200}\n",
      "{'State': 15, 'Action': 0, 'Reward': 0.0, 'Error': 0.0, 'Time': 1.2609901428222656, 'Alpha': 0.001, 'Epsilon': 0.001, 'Gamma': 0.96, 'Max V': 166.8732512296477, 'Mean V': 10.71820640645599, 'Iteration': 22220}\n",
      "{'State': 15, 'Action': 0, 'Reward': 0.0, 'Error': 0.0, 'Time': 1.26393461227417, 'Alpha': 0.001, 'Epsilon': 0.001, 'Gamma': 0.96, 'Max V': 166.8732512296477, 'Mean V': 10.71820640645599, 'Iteration': 22240}\n",
      "{'State': 15, 'Action': 0, 'Reward': 0.0, 'Error': 0.0, 'Time': 1.265929937362671, 'Alpha': 0.001, 'Epsilon': 0.001, 'Gamma': 0.96, 'Max V': 166.8732512296477, 'Mean V': 10.71820640645599, 'Iteration': 22260}\n",
      "{'State': 15, 'Action': 0, 'Reward': 0.0, 'Error': 0.0, 'Time': 1.2669265270233154, 'Alpha': 0.001, 'Epsilon': 0.001, 'Gamma': 0.96, 'Max V': 166.8732512296477, 'Mean V': 10.71820640645599, 'Iteration': 22280}\n",
      "{'State': 15, 'Action': 0, 'Reward': 0.0, 'Error': 0.0, 'Time': 1.393587350845337, 'Alpha': 0.001, 'Epsilon': 0.001, 'Gamma': 0.96, 'Max V': 166.8732512296477, 'Mean V': 10.718196016137945, 'Iteration': 23400}\n",
      "{'State': 15, 'Action': 0, 'Reward': 0.0, 'Error': 0.0, 'Time': 1.3955800533294678, 'Alpha': 0.001, 'Epsilon': 0.001, 'Gamma': 0.96, 'Max V': 166.8732512296477, 'Mean V': 10.718196016137945, 'Iteration': 23420}\n",
      "{'State': 15, 'Action': 0, 'Reward': 0.0, 'Error': 0.0, 'Time': 1.3995726108551025, 'Alpha': 0.001, 'Epsilon': 0.001, 'Gamma': 0.96, 'Max V': 166.8732512296477, 'Mean V': 10.718196016137945, 'Iteration': 23440}\n",
      "{'State': 15, 'Action': 0, 'Reward': 0.0, 'Error': 0.0, 'Time': 1.4025623798370361, 'Alpha': 0.001, 'Epsilon': 0.001, 'Gamma': 0.96, 'Max V': 166.8732512296477, 'Mean V': 10.718196016137945, 'Iteration': 23460}\n",
      "{'State': 15, 'Action': 0, 'Reward': 0.0, 'Error': 0.0, 'Time': 1.4065558910369873, 'Alpha': 0.001, 'Epsilon': 0.001, 'Gamma': 0.96, 'Max V': 166.8732512296477, 'Mean V': 10.718196016137945, 'Iteration': 23480}\n",
      "{'State': 14, 'Action': 2, 'Reward': 1000.0, 'Error': 0.993251924630464, 'Time': 1.4235053062438965, 'Alpha': 0.001, 'Epsilon': 0.001, 'Gamma': 0.96, 'Max V': 169.6951361630302, 'Mean V': 10.904351397844604, 'Iteration': 23700}\n",
      "{'State': 15, 'Action': 0, 'Reward': 0.0, 'Error': 0.0, 'Time': 1.424501895904541, 'Alpha': 0.001, 'Epsilon': 0.001, 'Gamma': 0.96, 'Max V': 170.52544102686718, 'Mean V': 10.956245451834414, 'Iteration': 23720}\n",
      "{'State': 15, 'Action': 0, 'Reward': 0.0, 'Error': 0.0, 'Time': 1.426497459411621, 'Alpha': 0.001, 'Epsilon': 0.001, 'Gamma': 0.96, 'Max V': 170.52544102686718, 'Mean V': 10.956245451834414, 'Iteration': 23740}\n",
      "{'State': 15, 'Action': 0, 'Reward': 0.0, 'Error': 0.0, 'Time': 1.4274938106536865, 'Alpha': 0.001, 'Epsilon': 0.001, 'Gamma': 0.96, 'Max V': 170.52544102686718, 'Mean V': 10.956245451834414, 'Iteration': 23760}\n",
      "{'State': 15, 'Action': 0, 'Reward': 0.0, 'Error': 0.0, 'Time': 1.4284908771514893, 'Alpha': 0.001, 'Epsilon': 0.001, 'Gamma': 0.96, 'Max V': 170.52544102686718, 'Mean V': 10.956245451834414, 'Iteration': 23780}\n",
      "{'State': 15, 'Action': 0, 'Reward': 0.0, 'Error': 0.0, 'Time': 1.4404587745666504, 'Alpha': 0.001, 'Epsilon': 0.001, 'Gamma': 0.96, 'Max V': 170.52544102686718, 'Mean V': 10.956155818833587, 'Iteration': 24000}\n",
      "{'State': 15, 'Action': 0, 'Reward': 0.0, 'Error': 0.0, 'Time': 1.4414560794830322, 'Alpha': 0.001, 'Epsilon': 0.001, 'Gamma': 0.96, 'Max V': 170.52544102686718, 'Mean V': 10.956155818833587, 'Iteration': 24020}\n",
      "{'State': 15, 'Action': 0, 'Reward': 0.0, 'Error': 0.0, 'Time': 1.4424548149108887, 'Alpha': 0.001, 'Epsilon': 0.001, 'Gamma': 0.96, 'Max V': 170.52544102686718, 'Mean V': 10.956155818833587, 'Iteration': 24040}\n",
      "{'State': 15, 'Action': 0, 'Reward': 0.0, 'Error': 0.0, 'Time': 1.4434535503387451, 'Alpha': 0.001, 'Epsilon': 0.001, 'Gamma': 0.96, 'Max V': 170.52544102686718, 'Mean V': 10.956155818833587, 'Iteration': 24060}\n",
      "{'State': 15, 'Action': 0, 'Reward': 0.0, 'Error': 0.0, 'Time': 1.445446491241455, 'Alpha': 0.001, 'Epsilon': 0.001, 'Gamma': 0.96, 'Max V': 170.52544102686718, 'Mean V': 10.956155818833587, 'Iteration': 24080}\n",
      "{'State': 14, 'Action': 2, 'Reward': 1000.0, 'Error': 0.8326427909841144, 'Time': 1.4713761806488037, 'Alpha': 0.001, 'Epsilon': 0.001, 'Gamma': 0.96, 'Max V': 171.3580838178513, 'Mean V': 11.008017095803499, 'Iteration': 24500}\n",
      "{'State': 15, 'Action': 0, 'Reward': 0.0, 'Error': 0.0, 'Time': 1.517296314239502, 'Alpha': 0.001, 'Epsilon': 0.001, 'Gamma': 0.96, 'Max V': 171.3580838178513, 'Mean V': 11.007707346289672, 'Iteration': 25400}\n",
      "{'State': 15, 'Action': 0, 'Reward': 0.0, 'Error': 0.0, 'Time': 1.518289566040039, 'Alpha': 0.001, 'Epsilon': 0.001, 'Gamma': 0.96, 'Max V': 171.3580838178513, 'Mean V': 11.007707346289672, 'Iteration': 25420}\n",
      "{'State': 15, 'Action': 0, 'Reward': 0.0, 'Error': 0.0, 'Time': 1.5192866325378418, 'Alpha': 0.001, 'Epsilon': 0.001, 'Gamma': 0.96, 'Max V': 171.3580838178513, 'Mean V': 11.007707346289672, 'Iteration': 25440}\n",
      "{'State': 15, 'Action': 0, 'Reward': 0.0, 'Error': 0.0, 'Time': 1.5212461948394775, 'Alpha': 0.001, 'Epsilon': 0.001, 'Gamma': 0.96, 'Max V': 171.3580838178513, 'Mean V': 11.007707346289672, 'Iteration': 25460}\n",
      "{'State': 15, 'Action': 0, 'Reward': 0.0, 'Error': 0.0, 'Time': 1.5222420692443848, 'Alpha': 0.001, 'Epsilon': 0.001, 'Gamma': 0.96, 'Max V': 171.3580838178513, 'Mean V': 11.007707346289672, 'Iteration': 25480}\n",
      "{'State': 15, 'Action': 0, 'Reward': 0.0, 'Error': 0.0, 'Time': 1.5292587280273438, 'Alpha': 0.001, 'Epsilon': 0.001, 'Gamma': 0.96, 'Max V': 173.1788782650041, 'Mean V': 11.131780152144989, 'Iteration': 25620}\n",
      "{'State': 15, 'Action': 0, 'Reward': 0.0, 'Error': 0.0, 'Time': 1.5302205085754395, 'Alpha': 0.001, 'Epsilon': 0.001, 'Gamma': 0.96, 'Max V': 173.1788782650041, 'Mean V': 11.131780152144989, 'Iteration': 25640}\n",
      "{'State': 15, 'Action': 0, 'Reward': 0.0, 'Error': 0.0, 'Time': 1.5312273502349854, 'Alpha': 0.001, 'Epsilon': 0.001, 'Gamma': 0.96, 'Max V': 173.1788782650041, 'Mean V': 11.131780152144989, 'Iteration': 25660}\n",
      "{'State': 15, 'Action': 0, 'Reward': 0.0, 'Error': 0.0, 'Time': 1.5322513580322266, 'Alpha': 0.001, 'Epsilon': 0.001, 'Gamma': 0.96, 'Max V': 173.1788782650041, 'Mean V': 11.131780152144989, 'Iteration': 25680}\n",
      "{'State': 14, 'Action': 2, 'Reward': 1000.0, 'Error': 0.8268211217349959, 'Time': 1.5591416358947754, 'Alpha': 0.001, 'Epsilon': 0.001, 'Gamma': 0.96, 'Max V': 174.0056993867391, 'Mean V': 11.183363738270277, 'Iteration': 26200}\n",
      "{'State': 15, 'Action': 0, 'Reward': 0.0, 'Error': 0.0, 'Time': 1.5601389408111572, 'Alpha': 0.001, 'Epsilon': 0.001, 'Gamma': 0.96, 'Max V': 174.0056993867391, 'Mean V': 11.183363738270277, 'Iteration': 26220}\n",
      "{'State': 15, 'Action': 0, 'Reward': 0.0, 'Error': 0.0, 'Time': 1.5611367225646973, 'Alpha': 0.001, 'Epsilon': 0.001, 'Gamma': 0.96, 'Max V': 174.0056993867391, 'Mean V': 11.183363738270277, 'Iteration': 26240}\n",
      "{'State': 15, 'Action': 0, 'Reward': 0.0, 'Error': 0.0, 'Time': 1.5621337890625, 'Alpha': 0.001, 'Epsilon': 0.001, 'Gamma': 0.96, 'Max V': 174.0056993867391, 'Mean V': 11.183363738270277, 'Iteration': 26260}\n",
      "{'State': 15, 'Action': 0, 'Reward': 0.0, 'Error': 0.0, 'Time': 1.5641300678253174, 'Alpha': 0.001, 'Epsilon': 0.001, 'Gamma': 0.96, 'Max V': 174.0056993867391, 'Mean V': 11.183363738270277, 'Iteration': 26280}\n",
      "{'State': 14, 'Action': 2, 'Reward': 1000.0, 'Error': 0.8259943006132608, 'Time': 1.5661253929138184, 'Alpha': 0.001, 'Epsilon': 0.001, 'Gamma': 0.96, 'Max V': 174.83169368735238, 'Mean V': 11.234988382058607, 'Iteration': 26300}\n",
      "{'State': 15, 'Action': 0, 'Reward': 0.0, 'Error': 0.0, 'Time': 1.5671606063842773, 'Alpha': 0.001, 'Epsilon': 0.001, 'Gamma': 0.96, 'Max V': 174.83169368735238, 'Mean V': 11.234988382058607, 'Iteration': 26320}\n",
      "{'State': 15, 'Action': 0, 'Reward': 0.0, 'Error': 0.0, 'Time': 1.5681569576263428, 'Alpha': 0.001, 'Epsilon': 0.001, 'Gamma': 0.96, 'Max V': 174.83169368735238, 'Mean V': 11.234988382058607, 'Iteration': 26340}\n",
      "{'State': 15, 'Action': 0, 'Reward': 0.0, 'Error': 0.0, 'Time': 1.5691545009613037, 'Alpha': 0.001, 'Epsilon': 0.001, 'Gamma': 0.96, 'Max V': 174.83169368735238, 'Mean V': 11.234988382058607, 'Iteration': 26360}\n",
      "{'State': 15, 'Action': 0, 'Reward': 0.0, 'Error': 0.0, 'Time': 1.5701520442962646, 'Alpha': 0.001, 'Epsilon': 0.001, 'Gamma': 0.96, 'Max V': 174.83169368735238, 'Mean V': 11.234988382058607, 'Iteration': 26380}\n",
      "{'State': 14, 'Action': 2, 'Reward': 1000.0, 'Error': 0.8284850048995841, 'Time': 1.5711495876312256, 'Alpha': 0.001, 'Epsilon': 0.001, 'Gamma': 0.96, 'Max V': 175.66017869225198, 'Mean V': 11.286768694864831, 'Iteration': 26400}\n",
      "{'State': 15, 'Action': 0, 'Reward': 0.0, 'Error': 0.0, 'Time': 1.5721454620361328, 'Alpha': 0.001, 'Epsilon': 0.001, 'Gamma': 0.96, 'Max V': 177.47649913281919, 'Mean V': 11.410612402224231, 'Iteration': 26420}\n",
      "{'State': 15, 'Action': 0, 'Reward': 0.0, 'Error': 0.0, 'Time': 1.5731446743011475, 'Alpha': 0.001, 'Epsilon': 0.001, 'Gamma': 0.96, 'Max V': 177.47649913281919, 'Mean V': 11.410612402224231, 'Iteration': 26440}\n",
      "{'State': 15, 'Action': 0, 'Reward': 0.0, 'Error': 0.0, 'Time': 1.5741405487060547, 'Alpha': 0.001, 'Epsilon': 0.001, 'Gamma': 0.96, 'Max V': 177.47649913281919, 'Mean V': 11.410612402224231, 'Iteration': 26460}\n",
      "{'State': 15, 'Action': 0, 'Reward': 0.0, 'Error': 0.0, 'Time': 1.5751399993896484, 'Alpha': 0.001, 'Epsilon': 0.001, 'Gamma': 0.96, 'Max V': 177.47649913281919, 'Mean V': 11.410612402224231, 'Iteration': 26480}\n",
      "{'State': 15, 'Action': 0, 'Reward': 0.0, 'Error': 0.0, 'Time': 1.597043752670288, 'Alpha': 0.001, 'Epsilon': 0.001, 'Gamma': 0.96, 'Max V': 177.47649913281919, 'Mean V': 11.410430779416966, 'Iteration': 26900}\n",
      "{'State': 15, 'Action': 0, 'Reward': 0.0, 'Error': 0.0, 'Time': 1.5980405807495117, 'Alpha': 0.001, 'Epsilon': 0.001, 'Gamma': 0.96, 'Max V': 177.47649913281919, 'Mean V': 11.410430779416966, 'Iteration': 26920}\n",
      "{'State': 15, 'Action': 0, 'Reward': 0.0, 'Error': 0.0, 'Time': 1.5990376472473145, 'Alpha': 0.001, 'Epsilon': 0.001, 'Gamma': 0.96, 'Max V': 177.47649913281919, 'Mean V': 11.410430779416966, 'Iteration': 26940}\n",
      "{'State': 15, 'Action': 0, 'Reward': 0.0, 'Error': 0.0, 'Time': 1.6010315418243408, 'Alpha': 0.001, 'Epsilon': 0.001, 'Gamma': 0.96, 'Max V': 177.47649913281919, 'Mean V': 11.410430779416966, 'Iteration': 26960}\n",
      "{'State': 15, 'Action': 0, 'Reward': 0.0, 'Error': 0.0, 'Time': 1.6020288467407227, 'Alpha': 0.001, 'Epsilon': 0.001, 'Gamma': 0.96, 'Max V': 177.47649913281919, 'Mean V': 11.410430779416966, 'Iteration': 26980}\n",
      "{'State': 14, 'Action': 2, 'Reward': 1000.0, 'Error': 0.82070559405691, 'Time': 1.6250050067901611, 'Alpha': 0.001, 'Epsilon': 0.001, 'Gamma': 0.96, 'Max V': 180.11511153714696, 'Mean V': 11.585742642321962, 'Iteration': 27400}\n",
      "{'State': 15, 'Action': 0, 'Reward': 0.0, 'Error': 0.0, 'Time': 1.626002311706543, 'Alpha': 0.001, 'Epsilon': 0.001, 'Gamma': 0.96, 'Max V': 180.11511153714696, 'Mean V': 11.585742642321962, 'Iteration': 27420}\n",
      "{'State': 15, 'Action': 0, 'Reward': 0.0, 'Error': 0.0, 'Time': 1.627000331878662, 'Alpha': 0.001, 'Epsilon': 0.001, 'Gamma': 0.96, 'Max V': 180.11511153714696, 'Mean V': 11.585742642321962, 'Iteration': 27440}\n",
      "{'State': 15, 'Action': 0, 'Reward': 0.0, 'Error': 0.0, 'Time': 1.6279973983764648, 'Alpha': 0.001, 'Epsilon': 0.001, 'Gamma': 0.96, 'Max V': 180.11511153714696, 'Mean V': 11.585742642321962, 'Iteration': 27460}\n",
      "{'State': 15, 'Action': 0, 'Reward': 0.0, 'Error': 0.0, 'Time': 1.6289951801300049, 'Alpha': 0.001, 'Epsilon': 0.001, 'Gamma': 0.96, 'Max V': 180.11511153714696, 'Mean V': 11.585742642321962, 'Iteration': 27480}\n",
      "{'State': 14, 'Action': 2, 'Reward': 1000.0, 'Error': 0.819884888462853, 'Time': 1.6489040851593018, 'Alpha': 0.001, 'Epsilon': 0.001, 'Gamma': 0.96, 'Max V': 180.93499642560982, 'Mean V': 11.636750271592772, 'Iteration': 27800}\n",
      "{'State': 15, 'Action': 0, 'Reward': 0.0, 'Error': 0.0, 'Time': 1.6508982181549072, 'Alpha': 0.001, 'Epsilon': 0.001, 'Gamma': 0.96, 'Max V': 180.93499642560982, 'Mean V': 11.636750271592772, 'Iteration': 27820}\n",
      "{'State': 15, 'Action': 0, 'Reward': 0.0, 'Error': 0.0, 'Time': 1.651895523071289, 'Alpha': 0.001, 'Epsilon': 0.001, 'Gamma': 0.96, 'Max V': 180.93499642560982, 'Mean V': 11.636750271592772, 'Iteration': 27840}\n",
      "{'State': 15, 'Action': 0, 'Reward': 0.0, 'Error': 0.0, 'Time': 1.652893304824829, 'Alpha': 0.001, 'Epsilon': 0.001, 'Gamma': 0.96, 'Max V': 180.93499642560982, 'Mean V': 11.636750271592772, 'Iteration': 27860}\n",
      "{'State': 15, 'Action': 0, 'Reward': 0.0, 'Error': 0.0, 'Time': 1.6538910865783691, 'Alpha': 0.001, 'Epsilon': 0.001, 'Gamma': 0.96, 'Max V': 180.93499642560982, 'Mean V': 11.636750271592772, 'Iteration': 27880}\n",
      "{'State': 14, 'Action': 2, 'Reward': 1000.0, 'Error': 0.8164298300230539, 'Time': 1.7057888507843018, 'Alpha': 0.001, 'Epsilon': 0.001, 'Gamma': 0.96, 'Max V': 184.38659980696912, 'Mean V': 11.873481737641573, 'Iteration': 28900}\n",
      "{'State': 15, 'Action': 0, 'Reward': 0.0, 'Error': 0.0, 'Time': 1.706787109375, 'Alpha': 0.001, 'Epsilon': 0.001, 'Gamma': 0.96, 'Max V': 184.38659980696912, 'Mean V': 11.873481737641573, 'Iteration': 28920}\n",
      "{'State': 15, 'Action': 0, 'Reward': 0.0, 'Error': 0.0, 'Time': 1.70778226852417, 'Alpha': 0.001, 'Epsilon': 0.001, 'Gamma': 0.96, 'Max V': 184.38659980696912, 'Mean V': 11.873481737641573, 'Iteration': 28940}\n",
      "{'State': 15, 'Action': 0, 'Reward': 0.0, 'Error': 0.0, 'Time': 1.7087526321411133, 'Alpha': 0.001, 'Epsilon': 0.001, 'Gamma': 0.96, 'Max V': 184.38659980696912, 'Mean V': 11.873481737641573, 'Iteration': 28960}\n",
      "{'State': 15, 'Action': 0, 'Reward': 0.0, 'Error': 0.0, 'Time': 1.7097783088684082, 'Alpha': 0.001, 'Epsilon': 0.001, 'Gamma': 0.96, 'Max V': 184.38659980696912, 'Mean V': 11.873481737641573, 'Iteration': 28980}\n",
      "{'State': 14, 'Action': 2, 'Reward': 1000.0, 'Error': 0.9925193465031716, 'Time': 1.7426509857177734, 'Alpha': 0.001, 'Epsilon': 0.001, 'Gamma': 0.96, 'Max V': 188.00885676721202, 'Mean V': 12.121020331061318, 'Iteration': 29600}\n",
      "{'State': 15, 'Action': 0, 'Reward': 0.0, 'Error': 0.0, 'Time': 1.7675862312316895, 'Alpha': 0.001, 'Epsilon': 0.001, 'Gamma': 0.96, 'Max V': 188.8247773976849, 'Mean V': 12.171755118545393, 'Iteration': 30000}\n",
      "{'State': 15, 'Action': 0, 'Reward': 0.0, 'Error': 0.0, 'Time': 1.7685837745666504, 'Alpha': 0.001, 'Epsilon': 0.001, 'Gamma': 0.96, 'Max V': 188.8247773976849, 'Mean V': 12.171755118545393, 'Iteration': 30020}\n",
      "{'State': 15, 'Action': 0, 'Reward': 0.0, 'Error': 0.0, 'Time': 1.7705790996551514, 'Alpha': 0.001, 'Epsilon': 0.001, 'Gamma': 0.96, 'Max V': 188.8247773976849, 'Mean V': 12.171755118545393, 'Iteration': 30040}\n",
      "{'State': 15, 'Action': 0, 'Reward': 0.0, 'Error': 0.0, 'Time': 1.7725727558135986, 'Alpha': 0.001, 'Epsilon': 0.001, 'Gamma': 0.96, 'Max V': 188.8247773976849, 'Mean V': 12.171755118545393, 'Iteration': 30060}\n",
      "{'State': 15, 'Action': 0, 'Reward': 0.0, 'Error': 0.0, 'Time': 1.7735700607299805, 'Alpha': 0.001, 'Epsilon': 0.001, 'Gamma': 0.96, 'Max V': 188.8247773976849, 'Mean V': 12.171755118545393, 'Iteration': 30080}\n",
      "{'State': 15, 'Action': 0, 'Reward': 0.0, 'Error': 0.0, 'Time': 1.7885730266571045, 'Alpha': 0.001, 'Epsilon': 0.001, 'Gamma': 0.96, 'Max V': 190.6274071821824, 'Mean V': 12.295493211891651, 'Iteration': 30320}\n",
      "{'State': 15, 'Action': 0, 'Reward': 0.0, 'Error': 0.0, 'Time': 1.78956937789917, 'Alpha': 0.001, 'Epsilon': 0.001, 'Gamma': 0.96, 'Max V': 190.6274071821824, 'Mean V': 12.295493211891651, 'Iteration': 30340}\n",
      "{'State': 15, 'Action': 0, 'Reward': 0.0, 'Error': 0.0, 'Time': 1.7905604839324951, 'Alpha': 0.001, 'Epsilon': 0.001, 'Gamma': 0.96, 'Max V': 190.6274071821824, 'Mean V': 12.295493211891651, 'Iteration': 30360}\n",
      "{'State': 15, 'Action': 0, 'Reward': 0.0, 'Error': 0.0, 'Time': 1.7925190925598145, 'Alpha': 0.001, 'Epsilon': 0.001, 'Gamma': 0.96, 'Max V': 190.6274071821824, 'Mean V': 12.295493211891651, 'Iteration': 30380}\n",
      "{'State': 15, 'Action': 0, 'Reward': 0.0, 'Error': 0.0, 'Time': 1.8493690490722656, 'Alpha': 0.001, 'Epsilon': 0.001, 'Gamma': 0.96, 'Max V': 190.6274071821824, 'Mean V': 12.295226058907868, 'Iteration': 31200}\n",
      "{'State': 15, 'Action': 0, 'Reward': 0.0, 'Error': 0.0, 'Time': 1.8513615131378174, 'Alpha': 0.001, 'Epsilon': 0.001, 'Gamma': 0.96, 'Max V': 190.6274071821824, 'Mean V': 12.295226058907868, 'Iteration': 31220}\n",
      "{'State': 15, 'Action': 0, 'Reward': 0.0, 'Error': 0.0, 'Time': 1.8523576259613037, 'Alpha': 0.001, 'Epsilon': 0.001, 'Gamma': 0.96, 'Max V': 190.6274071821824, 'Mean V': 12.295226058907868, 'Iteration': 31240}\n",
      "{'State': 15, 'Action': 0, 'Reward': 0.0, 'Error': 0.0, 'Time': 1.8533546924591064, 'Alpha': 0.001, 'Epsilon': 0.001, 'Gamma': 0.96, 'Max V': 190.6274071821824, 'Mean V': 12.295226058907868, 'Iteration': 31260}\n",
      "{'State': 15, 'Action': 0, 'Reward': 0.0, 'Error': 0.0, 'Time': 1.8543522357940674, 'Alpha': 0.001, 'Epsilon': 0.001, 'Gamma': 0.96, 'Max V': 190.6274071821824, 'Mean V': 12.295226058907868, 'Iteration': 31280}\n",
      "{'State': 15, 'Action': 0, 'Reward': 0.0, 'Error': 0.0, 'Time': 1.857398509979248, 'Alpha': 0.001, 'Epsilon': 0.001, 'Gamma': 0.96, 'Max V': 192.42816230380922, 'Mean V': 12.418940090944506, 'Iteration': 31320}\n",
      "{'State': 15, 'Action': 0, 'Reward': 0.0, 'Error': 0.0, 'Time': 1.858344554901123, 'Alpha': 0.001, 'Epsilon': 0.001, 'Gamma': 0.96, 'Max V': 192.42816230380922, 'Mean V': 12.418940090944506, 'Iteration': 31340}\n",
      "{'State': 15, 'Action': 0, 'Reward': 0.0, 'Error': 0.0, 'Time': 1.8593389987945557, 'Alpha': 0.001, 'Epsilon': 0.001, 'Gamma': 0.96, 'Max V': 192.42816230380922, 'Mean V': 12.418940090944506, 'Iteration': 31360}\n",
      "{'State': 15, 'Action': 0, 'Reward': 0.0, 'Error': 0.0, 'Time': 1.8603360652923584, 'Alpha': 0.001, 'Epsilon': 0.001, 'Gamma': 0.96, 'Max V': 192.42816230380922, 'Mean V': 12.418940090944506, 'Iteration': 31380}\n",
      "{'State': 14, 'Action': 2, 'Reward': 1000.0, 'Error': 0.8116593796485324, 'Time': 1.8613336086273193, 'Alpha': 0.001, 'Epsilon': 0.001, 'Gamma': 0.96, 'Max V': 193.23982168345776, 'Mean V': 12.46966880217254, 'Iteration': 31400}\n",
      "{'State': 15, 'Action': 0, 'Reward': 0.0, 'Error': 0.0, 'Time': 1.9022603034973145, 'Alpha': 0.001, 'Epsilon': 0.001, 'Gamma': 0.96, 'Max V': 193.23982168345776, 'Mean V': 12.46940252786877, 'Iteration': 32200}\n",
      "{'State': 15, 'Action': 0, 'Reward': 0.0, 'Error': 0.0, 'Time': 1.9032580852508545, 'Alpha': 0.001, 'Epsilon': 0.001, 'Gamma': 0.96, 'Max V': 193.23982168345776, 'Mean V': 12.46940252786877, 'Iteration': 32220}\n",
      "{'State': 15, 'Action': 0, 'Reward': 0.0, 'Error': 0.0, 'Time': 1.9042553901672363, 'Alpha': 0.001, 'Epsilon': 0.001, 'Gamma': 0.96, 'Max V': 193.23982168345776, 'Mean V': 12.46940252786877, 'Iteration': 32240}\n",
      "{'State': 15, 'Action': 0, 'Reward': 0.0, 'Error': 0.0, 'Time': 1.9052534103393555, 'Alpha': 0.001, 'Epsilon': 0.001, 'Gamma': 0.96, 'Max V': 193.23982168345776, 'Mean V': 12.46940252786877, 'Iteration': 32260}\n",
      "{'State': 15, 'Action': 0, 'Reward': 0.0, 'Error': 0.0, 'Time': 1.9062528610229492, 'Alpha': 0.001, 'Epsilon': 0.001, 'Gamma': 0.96, 'Max V': 193.23982168345776, 'Mean V': 12.46940252786877, 'Iteration': 32280}\n",
      "{'State': 15, 'Action': 0, 'Reward': 0.0, 'Error': 0.0, 'Time': 1.9172239303588867, 'Alpha': 0.001, 'Epsilon': 0.001, 'Gamma': 0.96, 'Max V': 193.23982168345776, 'Mean V': 12.46940252786877, 'Iteration': 32400}\n",
      "{'State': 15, 'Action': 0, 'Reward': 0.0, 'Error': 0.0, 'Time': 1.9192163944244385, 'Alpha': 0.001, 'Epsilon': 0.001, 'Gamma': 0.96, 'Max V': 193.23982168345776, 'Mean V': 12.46940252786877, 'Iteration': 32420}\n",
      "{'State': 15, 'Action': 0, 'Reward': 0.0, 'Error': 0.0, 'Time': 1.9202141761779785, 'Alpha': 0.001, 'Epsilon': 0.001, 'Gamma': 0.96, 'Max V': 193.23982168345776, 'Mean V': 12.46940252786877, 'Iteration': 32440}\n",
      "{'State': 15, 'Action': 0, 'Reward': 0.0, 'Error': 0.0, 'Time': 1.9212124347686768, 'Alpha': 0.001, 'Epsilon': 0.001, 'Gamma': 0.96, 'Max V': 193.23982168345776, 'Mean V': 12.46940252786877, 'Iteration': 32460}\n",
      "{'State': 15, 'Action': 0, 'Reward': 0.0, 'Error': 0.0, 'Time': 1.9222073554992676, 'Alpha': 0.001, 'Epsilon': 0.001, 'Gamma': 0.96, 'Max V': 193.23982168345776, 'Mean V': 12.46940252786877, 'Iteration': 32480}\n",
      "{'State': 15, 'Action': 0, 'Reward': 0.0, 'Error': 0.0, 'Time': 1.953125, 'Alpha': 0.001, 'Epsilon': 0.001, 'Gamma': 0.96, 'Max V': 194.85678854137376, 'Mean V': 12.593408595640469, 'Iteration': 33120}\n",
      "{'State': 15, 'Action': 0, 'Reward': 0.0, 'Error': 0.0, 'Time': 1.9541218280792236, 'Alpha': 0.001, 'Epsilon': 0.001, 'Gamma': 0.96, 'Max V': 194.85678854137376, 'Mean V': 12.593408595640469, 'Iteration': 33140}\n",
      "{'State': 15, 'Action': 0, 'Reward': 0.0, 'Error': 0.0, 'Time': 1.9551191329956055, 'Alpha': 0.001, 'Epsilon': 0.001, 'Gamma': 0.96, 'Max V': 194.85678854137376, 'Mean V': 12.593408595640469, 'Iteration': 33160}\n",
      "{'State': 15, 'Action': 0, 'Reward': 0.0, 'Error': 0.0, 'Time': 1.9561192989349365, 'Alpha': 0.001, 'Epsilon': 0.001, 'Gamma': 0.96, 'Max V': 194.85678854137376, 'Mean V': 12.593408595640469, 'Iteration': 33180}\n",
      "{'State': 14, 'Action': 2, 'Reward': 1000.0, 'Error': 0.8051432114586262, 'Time': 1.9670896530151367, 'Alpha': 0.001, 'Epsilon': 0.001, 'Gamma': 0.96, 'Max V': 195.66193175283237, 'Mean V': 12.64371427552745, 'Iteration': 33400}\n",
      "{'State': 15, 'Action': 0, 'Reward': 0.0, 'Error': 0.0, 'Time': 1.9680848121643066, 'Alpha': 0.001, 'Epsilon': 0.001, 'Gamma': 0.96, 'Max V': 195.66193175283237, 'Mean V': 12.64371427552745, 'Iteration': 33420}\n",
      "{'State': 15, 'Action': 0, 'Reward': 0.0, 'Error': 0.0, 'Time': 1.9690842628479004, 'Alpha': 0.001, 'Epsilon': 0.001, 'Gamma': 0.96, 'Max V': 195.66193175283237, 'Mean V': 12.64371427552745, 'Iteration': 33440}\n",
      "{'State': 15, 'Action': 0, 'Reward': 0.0, 'Error': 0.0, 'Time': 1.9700820446014404, 'Alpha': 0.001, 'Epsilon': 0.001, 'Gamma': 0.96, 'Max V': 195.66193175283237, 'Mean V': 12.64371427552745, 'Iteration': 33460}\n",
      "{'State': 15, 'Action': 0, 'Reward': 0.0, 'Error': 0.0, 'Time': 1.9710798263549805, 'Alpha': 0.001, 'Epsilon': 0.001, 'Gamma': 0.96, 'Max V': 195.66193175283237, 'Mean V': 12.64371427552745, 'Iteration': 33480}\n",
      "{'State': 15, 'Action': 0, 'Reward': 0.0, 'Error': 0.0, 'Time': 1.9720747470855713, 'Alpha': 0.001, 'Epsilon': 0.001, 'Gamma': 0.96, 'Max V': 195.66193175283237, 'Mean V': 12.64371427552745, 'Iteration': 33500}\n",
      "{'State': 15, 'Action': 0, 'Reward': 0.0, 'Error': 0.0, 'Time': 1.9730730056762695, 'Alpha': 0.001, 'Epsilon': 0.001, 'Gamma': 0.96, 'Max V': 195.66193175283237, 'Mean V': 12.64371427552745, 'Iteration': 33520}\n",
      "{'State': 15, 'Action': 0, 'Reward': 0.0, 'Error': 0.0, 'Time': 1.974069595336914, 'Alpha': 0.001, 'Epsilon': 0.001, 'Gamma': 0.96, 'Max V': 195.66193175283237, 'Mean V': 12.64371427552745, 'Iteration': 33540}\n",
      "{'State': 15, 'Action': 0, 'Reward': 0.0, 'Error': 0.0, 'Time': 1.9750676155090332, 'Alpha': 0.001, 'Epsilon': 0.001, 'Gamma': 0.96, 'Max V': 195.66193175283237, 'Mean V': 12.64371427552745, 'Iteration': 33560}\n",
      "{'State': 15, 'Action': 0, 'Reward': 0.0, 'Error': 0.0, 'Time': 1.9760644435882568, 'Alpha': 0.001, 'Epsilon': 0.001, 'Gamma': 0.96, 'Max V': 195.66193175283237, 'Mean V': 12.64371427552745, 'Iteration': 33580}\n",
      "{'State': 15, 'Action': 0, 'Reward': 0.0, 'Error': 0.0, 'Time': 1.9860401153564453, 'Alpha': 0.001, 'Epsilon': 0.001, 'Gamma': 0.96, 'Max V': 195.66193175283237, 'Mean V': 12.643713516698272, 'Iteration': 33800}\n",
      "{'State': 15, 'Action': 0, 'Reward': 0.0, 'Error': 0.0, 'Time': 1.9870362281799316, 'Alpha': 0.001, 'Epsilon': 0.001, 'Gamma': 0.96, 'Max V': 195.66193175283237, 'Mean V': 12.643713516698272, 'Iteration': 33820}\n",
      "{'State': 15, 'Action': 0, 'Reward': 0.0, 'Error': 0.0, 'Time': 1.9880304336547852, 'Alpha': 0.001, 'Epsilon': 0.001, 'Gamma': 0.96, 'Max V': 195.66193175283237, 'Mean V': 12.643713516698272, 'Iteration': 33840}\n",
      "{'State': 15, 'Action': 0, 'Reward': 0.0, 'Error': 0.0, 'Time': 1.9890308380126953, 'Alpha': 0.001, 'Epsilon': 0.001, 'Gamma': 0.96, 'Max V': 195.66193175283237, 'Mean V': 12.643713516698272, 'Iteration': 33860}\n",
      "{'State': 15, 'Action': 0, 'Reward': 0.0, 'Error': 0.0, 'Time': 1.9900259971618652, 'Alpha': 0.001, 'Epsilon': 0.001, 'Gamma': 0.96, 'Max V': 195.66193175283237, 'Mean V': 12.643713516698272, 'Iteration': 33880}\n",
      "{'State': 14, 'Action': 2, 'Reward': 1000.0, 'Error': 0.9921735227298867, 'Time': 2.0179169178009033, 'Alpha': 0.001, 'Epsilon': 0.001, 'Gamma': 0.96, 'Max V': 196.65410527556227, 'Mean V': 12.705718375156719, 'Iteration': 34400}\n",
      "{'State': 15, 'Action': 0, 'Reward': 0.0, 'Error': 0.0, 'Time': 2.0189149379730225, 'Alpha': 0.001, 'Epsilon': 0.001, 'Gamma': 0.96, 'Max V': 199.43969492852503, 'Mean V': 12.879817728466891, 'Iteration': 34420}\n",
      "{'State': 15, 'Action': 0, 'Reward': 0.0, 'Error': 0.0, 'Time': 2.019911527633667, 'Alpha': 0.001, 'Epsilon': 0.001, 'Gamma': 0.96, 'Max V': 199.43969492852503, 'Mean V': 12.879817728466891, 'Iteration': 34440}\n",
      "{'State': 15, 'Action': 0, 'Reward': 0.0, 'Error': 0.0, 'Time': 2.020909070968628, 'Alpha': 0.001, 'Epsilon': 0.001, 'Gamma': 0.96, 'Max V': 199.43969492852503, 'Mean V': 12.879817728466891, 'Iteration': 34460}\n",
      "{'State': 15, 'Action': 0, 'Reward': 0.0, 'Error': 0.0, 'Time': 2.0219058990478516, 'Alpha': 0.001, 'Epsilon': 0.001, 'Gamma': 0.96, 'Max V': 199.43969492852503, 'Mean V': 12.879817728466891, 'Iteration': 34480}\n",
      "{'State': 15, 'Action': 0, 'Reward': 0.0, 'Error': 0.0, 'Time': 2.0248982906341553, 'Alpha': 0.001, 'Epsilon': 0.001, 'Gamma': 0.96, 'Max V': 200.2402552335965, 'Mean V': 12.941697812974393, 'Iteration': 34520}\n",
      "{'State': 15, 'Action': 0, 'Reward': 0.0, 'Error': 0.0, 'Time': 2.0258967876434326, 'Alpha': 0.001, 'Epsilon': 0.001, 'Gamma': 0.96, 'Max V': 200.2402552335965, 'Mean V': 12.941697812974393, 'Iteration': 34540}\n",
      "{'State': 15, 'Action': 0, 'Reward': 0.0, 'Error': 0.0, 'Time': 2.026893138885498, 'Alpha': 0.001, 'Epsilon': 0.001, 'Gamma': 0.96, 'Max V': 200.2402552335965, 'Mean V': 12.941697812974393, 'Iteration': 34560}\n",
      "{'State': 15, 'Action': 0, 'Reward': 0.0, 'Error': 0.0, 'Time': 2.0278899669647217, 'Alpha': 0.001, 'Epsilon': 0.001, 'Gamma': 0.96, 'Max V': 200.2402552335965, 'Mean V': 12.941697812974393, 'Iteration': 34580}\n",
      "{'State': 15, 'Action': 0, 'Reward': 0.0, 'Error': 0.0, 'Time': 2.047872304916382, 'Alpha': 0.001, 'Epsilon': 0.001, 'Gamma': 0.96, 'Max V': 202.0310133777638, 'Mean V': 13.065500694423278, 'Iteration': 35020}\n",
      "{'State': 15, 'Action': 0, 'Reward': 0.0, 'Error': 0.0, 'Time': 2.0488686561584473, 'Alpha': 0.001, 'Epsilon': 0.001, 'Gamma': 0.96, 'Max V': 202.0310133777638, 'Mean V': 13.065500694423278, 'Iteration': 35040}\n",
      "{'State': 15, 'Action': 0, 'Reward': 0.0, 'Error': 0.0, 'Time': 2.0498688220977783, 'Alpha': 0.001, 'Epsilon': 0.001, 'Gamma': 0.96, 'Max V': 202.0310133777638, 'Mean V': 13.065500694423278, 'Iteration': 35060}\n",
      "{'State': 15, 'Action': 0, 'Reward': 0.0, 'Error': 0.0, 'Time': 2.050863742828369, 'Alpha': 0.001, 'Epsilon': 0.001, 'Gamma': 0.96, 'Max V': 202.0310133777638, 'Mean V': 13.065500694423278, 'Iteration': 35080}\n",
      "{'State': 15, 'Action': 0, 'Reward': 0.0, 'Error': 0.0, 'Time': 2.094745397567749, 'Alpha': 0.001, 'Epsilon': 0.001, 'Gamma': 0.96, 'Max V': 203.82451864701224, 'Mean V': 13.188982049959792, 'Iteration': 36000}\n",
      "{'State': 15, 'Action': 0, 'Reward': 0.0, 'Error': 0.0, 'Time': 2.096740484237671, 'Alpha': 0.001, 'Epsilon': 0.001, 'Gamma': 0.96, 'Max V': 203.82451864701224, 'Mean V': 13.188982049959792, 'Iteration': 36020}\n",
      "{'State': 15, 'Action': 0, 'Reward': 0.0, 'Error': 0.0, 'Time': 2.0977416038513184, 'Alpha': 0.001, 'Epsilon': 0.001, 'Gamma': 0.96, 'Max V': 203.82451864701224, 'Mean V': 13.188982049959792, 'Iteration': 36040}\n",
      "{'State': 15, 'Action': 0, 'Reward': 0.0, 'Error': 0.0, 'Time': 2.098738431930542, 'Alpha': 0.001, 'Epsilon': 0.001, 'Gamma': 0.96, 'Max V': 203.82451864701224, 'Mean V': 13.188982049959792, 'Iteration': 36060}\n",
      "{'State': 15, 'Action': 0, 'Reward': 0.0, 'Error': 0.0, 'Time': 2.0997326374053955, 'Alpha': 0.001, 'Epsilon': 0.001, 'Gamma': 0.96, 'Max V': 203.82451864701224, 'Mean V': 13.188982049959792, 'Iteration': 36080}\n",
      "{'State': 14, 'Action': 2, 'Reward': 1000.0, 'Error': 0.7961754813529878, 'Time': 2.1246678829193115, 'Alpha': 0.001, 'Epsilon': 0.001, 'Gamma': 0.96, 'Max V': 204.62069412836522, 'Mean V': 13.238430871416059, 'Iteration': 36600}\n",
      "{'State': 15, 'Action': 0, 'Reward': 0.0, 'Error': 0.0, 'Time': 2.125666618347168, 'Alpha': 0.001, 'Epsilon': 0.001, 'Gamma': 0.96, 'Max V': 204.62069412836522, 'Mean V': 13.238430871416059, 'Iteration': 36620}\n",
      "{'State': 15, 'Action': 0, 'Reward': 0.0, 'Error': 0.0, 'Time': 2.125666618347168, 'Alpha': 0.001, 'Epsilon': 0.001, 'Gamma': 0.96, 'Max V': 204.62069412836522, 'Mean V': 13.238430871416059, 'Iteration': 36640}\n",
      "{'State': 15, 'Action': 0, 'Reward': 0.0, 'Error': 0.0, 'Time': 2.1266610622406006, 'Alpha': 0.001, 'Epsilon': 0.001, 'Gamma': 0.96, 'Max V': 204.62069412836522, 'Mean V': 13.238430871416059, 'Iteration': 36660}\n",
      "{'State': 15, 'Action': 0, 'Reward': 0.0, 'Error': 0.0, 'Time': 2.127657651901245, 'Alpha': 0.001, 'Epsilon': 0.001, 'Gamma': 0.96, 'Max V': 204.62069412836522, 'Mean V': 13.238430871416059, 'Iteration': 36680}\n",
      "{'State': 14, 'Action': 2, 'Reward': 1000.0, 'Error': 0.7925975396732376, 'Time': 2.1376309394836426, 'Alpha': 0.001, 'Epsilon': 0.001, 'Gamma': 0.96, 'Max V': 208.19505786643555, 'Mean V': 13.473777713171636, 'Iteration': 36900}\n",
      "{'State': 15, 'Action': 0, 'Reward': 0.0, 'Error': 0.0, 'Time': 2.1386287212371826, 'Alpha': 0.001, 'Epsilon': 0.001, 'Gamma': 0.96, 'Max V': 208.19505786643555, 'Mean V': 13.473777713171636, 'Iteration': 36920}\n",
      "{'State': 15, 'Action': 0, 'Reward': 0.0, 'Error': 0.0, 'Time': 2.139625310897827, 'Alpha': 0.001, 'Epsilon': 0.001, 'Gamma': 0.96, 'Max V': 208.19505786643555, 'Mean V': 13.473777713171636, 'Iteration': 36940}\n",
      "{'State': 15, 'Action': 0, 'Reward': 0.0, 'Error': 0.0, 'Time': 2.141620635986328, 'Alpha': 0.001, 'Epsilon': 0.001, 'Gamma': 0.96, 'Max V': 208.19505786643555, 'Mean V': 13.473777713171636, 'Iteration': 36960}\n",
      "{'State': 15, 'Action': 0, 'Reward': 0.0, 'Error': 0.0, 'Time': 2.142617702484131, 'Alpha': 0.001, 'Epsilon': 0.001, 'Gamma': 0.96, 'Max V': 208.19505786643555, 'Mean V': 13.473777713171636, 'Iteration': 36980}\n",
      "{'State': 14, 'Action': 2, 'Reward': 1000.0, 'Error': 0.7910081797476515, 'Time': 2.175535202026367, 'Alpha': 0.001, 'Epsilon': 0.001, 'Gamma': 0.96, 'Max V': 209.78282843209624, 'Mean V': 13.584560647622354, 'Iteration': 37700}\n",
      "{'State': 15, 'Action': 0, 'Reward': 0.0, 'Error': 0.0, 'Time': 2.1765267848968506, 'Alpha': 0.001, 'Epsilon': 0.001, 'Gamma': 0.96, 'Max V': 209.78282843209624, 'Mean V': 13.584560647622354, 'Iteration': 37720}\n",
      "{'State': 15, 'Action': 0, 'Reward': 0.0, 'Error': 0.0, 'Time': 2.1785221099853516, 'Alpha': 0.001, 'Epsilon': 0.001, 'Gamma': 0.96, 'Max V': 209.78282843209624, 'Mean V': 13.584560647622354, 'Iteration': 37740}\n",
      "{'State': 15, 'Action': 0, 'Reward': 0.0, 'Error': 0.0, 'Time': 2.179518461227417, 'Alpha': 0.001, 'Epsilon': 0.001, 'Gamma': 0.96, 'Max V': 209.78282843209624, 'Mean V': 13.584560647622354, 'Iteration': 37760}\n",
      "{'State': 15, 'Action': 0, 'Reward': 0.0, 'Error': 0.0, 'Time': 2.180518388748169, 'Alpha': 0.001, 'Epsilon': 0.001, 'Gamma': 0.96, 'Max V': 209.78282843209624, 'Mean V': 13.584560647622354, 'Iteration': 37780}\n",
      "{'State': 15, 'Action': 0, 'Reward': 0.0, 'Error': 0.0, 'Time': 2.181513786315918, 'Alpha': 0.001, 'Epsilon': 0.001, 'Gamma': 0.96, 'Max V': 209.78282843209624, 'Mean V': 13.584560647622354, 'Iteration': 37800}\n",
      "{'State': 15, 'Action': 0, 'Reward': 0.0, 'Error': 0.0, 'Time': 2.1825106143951416, 'Alpha': 0.001, 'Epsilon': 0.001, 'Gamma': 0.96, 'Max V': 209.78282843209624, 'Mean V': 13.584560647622354, 'Iteration': 37820}\n",
      "{'State': 15, 'Action': 0, 'Reward': 0.0, 'Error': 0.0, 'Time': 2.1835081577301025, 'Alpha': 0.001, 'Epsilon': 0.001, 'Gamma': 0.96, 'Max V': 209.78282843209624, 'Mean V': 13.584560647622354, 'Iteration': 37840}\n",
      "{'State': 15, 'Action': 0, 'Reward': 0.0, 'Error': 0.0, 'Time': 2.1845076084136963, 'Alpha': 0.001, 'Epsilon': 0.001, 'Gamma': 0.96, 'Max V': 209.78282843209624, 'Mean V': 13.584560647622354, 'Iteration': 37860}\n",
      "{'State': 15, 'Action': 0, 'Reward': 0.0, 'Error': 0.0, 'Time': 2.1855030059814453, 'Alpha': 0.001, 'Epsilon': 0.001, 'Gamma': 0.96, 'Max V': 209.78282843209624, 'Mean V': 13.584560647622354, 'Iteration': 37880}\n",
      "{'State': 15, 'Action': 0, 'Reward': 0.0, 'Error': 0.0, 'Time': 2.201460123062134, 'Alpha': 0.001, 'Epsilon': 0.001, 'Gamma': 0.96, 'Max V': 211.56366268184, 'Mean V': 13.708298579964639, 'Iteration': 38220}\n",
      "{'State': 15, 'Action': 0, 'Reward': 0.0, 'Error': 0.0, 'Time': 2.2024574279785156, 'Alpha': 0.001, 'Epsilon': 0.001, 'Gamma': 0.96, 'Max V': 211.56366268184, 'Mean V': 13.708298579964639, 'Iteration': 38240}\n",
      "{'State': 15, 'Action': 0, 'Reward': 0.0, 'Error': 0.0, 'Time': 2.2034549713134766, 'Alpha': 0.001, 'Epsilon': 0.001, 'Gamma': 0.96, 'Max V': 211.56366268184, 'Mean V': 13.708298579964639, 'Iteration': 38260}\n",
      "{'State': 15, 'Action': 0, 'Reward': 0.0, 'Error': 0.0, 'Time': 2.2044565677642822, 'Alpha': 0.001, 'Epsilon': 0.001, 'Gamma': 0.96, 'Max V': 211.56366268184, 'Mean V': 13.708298579964639, 'Iteration': 38280}\n",
      "{'State': 14, 'Action': 2, 'Reward': 1000.0, 'Error': 0.7933888975844205, 'Time': 2.2144253253936768, 'Alpha': 0.001, 'Epsilon': 0.001, 'Gamma': 0.96, 'Max V': 212.3570515794244, 'Mean V': 13.757880387353064, 'Iteration': 38500}\n",
      "{'State': 15, 'Action': 0, 'Reward': 0.0, 'Error': 0.0, 'Time': 2.2234017848968506, 'Alpha': 0.001, 'Epsilon': 0.001, 'Gamma': 0.96, 'Max V': 212.3570515794244, 'Mean V': 13.757557924872561, 'Iteration': 38700}\n",
      "{'State': 15, 'Action': 0, 'Reward': 0.0, 'Error': 0.0, 'Time': 2.2243988513946533, 'Alpha': 0.001, 'Epsilon': 0.001, 'Gamma': 0.96, 'Max V': 212.3570515794244, 'Mean V': 13.757557924872561, 'Iteration': 38720}\n",
      "{'State': 15, 'Action': 0, 'Reward': 0.0, 'Error': 0.0, 'Time': 2.225395917892456, 'Alpha': 0.001, 'Epsilon': 0.001, 'Gamma': 0.96, 'Max V': 212.3570515794244, 'Mean V': 13.757557924872561, 'Iteration': 38740}\n",
      "{'State': 15, 'Action': 0, 'Reward': 0.0, 'Error': 0.0, 'Time': 2.226395845413208, 'Alpha': 0.001, 'Epsilon': 0.001, 'Gamma': 0.96, 'Max V': 212.3570515794244, 'Mean V': 13.757557924872561, 'Iteration': 38760}\n",
      "{'State': 15, 'Action': 0, 'Reward': 0.0, 'Error': 0.0, 'Time': 2.2273902893066406, 'Alpha': 0.001, 'Epsilon': 0.001, 'Gamma': 0.96, 'Max V': 212.3570515794244, 'Mean V': 13.757557924872561, 'Iteration': 38780}\n",
      "{'State': 14, 'Action': 2, 'Reward': 1000.0, 'Error': 0.9915057179368231, 'Time': 2.2852401733398438, 'Alpha': 0.001, 'Epsilon': 0.001, 'Gamma': 0.96, 'Max V': 213.34855729736122, 'Mean V': 13.818706210762787, 'Iteration': 40000}\n",
      "{'State': 15, 'Action': 0, 'Reward': 0.0, 'Error': 0.0, 'Time': 2.2862355709075928, 'Alpha': 0.001, 'Epsilon': 0.001, 'Gamma': 0.96, 'Max V': 214.13520874006386, 'Mean V': 13.867871925931702, 'Iteration': 40020}\n",
      "{'State': 15, 'Action': 0, 'Reward': 0.0, 'Error': 0.0, 'Time': 2.287230968475342, 'Alpha': 0.001, 'Epsilon': 0.001, 'Gamma': 0.96, 'Max V': 214.13520874006386, 'Mean V': 13.867871925931702, 'Iteration': 40040}\n",
      "{'State': 15, 'Action': 0, 'Reward': 0.0, 'Error': 0.0, 'Time': 2.288228988647461, 'Alpha': 0.001, 'Epsilon': 0.001, 'Gamma': 0.96, 'Max V': 214.13520874006386, 'Mean V': 13.867871925931702, 'Iteration': 40060}\n",
      "{'State': 15, 'Action': 0, 'Reward': 0.0, 'Error': 0.0, 'Time': 2.2892255783081055, 'Alpha': 0.001, 'Epsilon': 0.001, 'Gamma': 0.96, 'Max V': 214.13520874006386, 'Mean V': 13.867871925931702, 'Iteration': 40080}\n",
      "{'State': 14, 'Action': 2, 'Reward': 1000.0, 'Error': 0.9914345916503975, 'Time': 2.3141586780548096, 'Alpha': 0.001, 'Epsilon': 0.001, 'Gamma': 0.96, 'Max V': 215.12664333171426, 'Mean V': 13.92983108735285, 'Iteration': 40600}\n",
      "{'State': 15, 'Action': 0, 'Reward': 0.0, 'Error': 0.0, 'Time': 2.315120220184326, 'Alpha': 0.001, 'Epsilon': 0.001, 'Gamma': 0.96, 'Max V': 215.91151668838256, 'Mean V': 13.978885672144619, 'Iteration': 40620}\n",
      "{'State': 15, 'Action': 0, 'Reward': 0.0, 'Error': 0.0, 'Time': 2.316157579421997, 'Alpha': 0.001, 'Epsilon': 0.001, 'Gamma': 0.96, 'Max V': 215.91151668838256, 'Mean V': 13.978885672144619, 'Iteration': 40640}\n",
      "{'State': 15, 'Action': 0, 'Reward': 0.0, 'Error': 0.0, 'Time': 2.317152738571167, 'Alpha': 0.001, 'Epsilon': 0.001, 'Gamma': 0.96, 'Max V': 215.91151668838256, 'Mean V': 13.978885672144619, 'Iteration': 40660}\n",
      "{'State': 15, 'Action': 0, 'Reward': 0.0, 'Error': 0.0, 'Time': 2.318147897720337, 'Alpha': 0.001, 'Epsilon': 0.001, 'Gamma': 0.96, 'Max V': 215.91151668838256, 'Mean V': 13.978885672144619, 'Iteration': 40680}\n",
      "{'State': 15, 'Action': 0, 'Reward': 0.0, 'Error': 0.0, 'Time': 2.330116033554077, 'Alpha': 0.001, 'Epsilon': 0.001, 'Gamma': 0.96, 'Max V': 218.47437208293314, 'Mean V': 14.164667700853256, 'Iteration': 40920}\n",
      "{'State': 15, 'Action': 0, 'Reward': 0.0, 'Error': 0.0, 'Time': 2.331113338470459, 'Alpha': 0.001, 'Epsilon': 0.001, 'Gamma': 0.96, 'Max V': 218.47437208293314, 'Mean V': 14.164667700853256, 'Iteration': 40940}\n",
      "{'State': 15, 'Action': 0, 'Reward': 0.0, 'Error': 0.0, 'Time': 2.332109212875366, 'Alpha': 0.001, 'Epsilon': 0.001, 'Gamma': 0.96, 'Max V': 218.47437208293314, 'Mean V': 14.164667700853256, 'Iteration': 40960}\n",
      "{'State': 15, 'Action': 0, 'Reward': 0.0, 'Error': 0.0, 'Time': 2.3331079483032227, 'Alpha': 0.001, 'Epsilon': 0.001, 'Gamma': 0.96, 'Max V': 218.47437208293314, 'Mean V': 14.164667700853256, 'Iteration': 40980}\n",
      "{'State': 15, 'Action': 0, 'Reward': 0.0, 'Error': 0.0, 'Time': 2.3341100215911865, 'Alpha': 0.001, 'Epsilon': 0.001, 'Gamma': 0.96, 'Max V': 218.47437208293314, 'Mean V': 14.164667700853256, 'Iteration': 41000}\n",
      "{'State': 15, 'Action': 0, 'Reward': 0.0, 'Error': 0.0, 'Time': 2.3351078033447266, 'Alpha': 0.001, 'Epsilon': 0.001, 'Gamma': 0.96, 'Max V': 218.47437208293314, 'Mean V': 14.164667700853256, 'Iteration': 41020}\n",
      "{'State': 15, 'Action': 0, 'Reward': 0.0, 'Error': 0.0, 'Time': 2.3361003398895264, 'Alpha': 0.001, 'Epsilon': 0.001, 'Gamma': 0.96, 'Max V': 218.47437208293314, 'Mean V': 14.164667700853256, 'Iteration': 41040}\n",
      "{'State': 15, 'Action': 0, 'Reward': 0.0, 'Error': 0.0, 'Time': 2.3371059894561768, 'Alpha': 0.001, 'Epsilon': 0.001, 'Gamma': 0.96, 'Max V': 218.47437208293314, 'Mean V': 14.164667700853256, 'Iteration': 41060}\n",
      "{'State': 15, 'Action': 0, 'Reward': 0.0, 'Error': 0.0, 'Time': 2.338094711303711, 'Alpha': 0.001, 'Epsilon': 0.001, 'Gamma': 0.96, 'Max V': 218.47437208293314, 'Mean V': 14.164667700853256, 'Iteration': 41080}\n",
      "{'State': 15, 'Action': 0, 'Reward': 0.0, 'Error': 0.0, 'Time': 2.37798810005188, 'Alpha': 0.001, 'Epsilon': 0.001, 'Gamma': 0.96, 'Max V': 219.2558977108502, 'Mean V': 14.225756785142906, 'Iteration': 41920}\n",
      "{'State': 15, 'Action': 0, 'Reward': 0.0, 'Error': 0.0, 'Time': 2.3789851665496826, 'Alpha': 0.001, 'Epsilon': 0.001, 'Gamma': 0.96, 'Max V': 219.2558977108502, 'Mean V': 14.225756785142906, 'Iteration': 41940}\n",
      "{'State': 15, 'Action': 0, 'Reward': 0.0, 'Error': 0.0, 'Time': 2.3799853324890137, 'Alpha': 0.001, 'Epsilon': 0.001, 'Gamma': 0.96, 'Max V': 219.2558977108502, 'Mean V': 14.225756785142906, 'Iteration': 41960}\n",
      "{'State': 15, 'Action': 0, 'Reward': 0.0, 'Error': 0.0, 'Time': 2.3809854984283447, 'Alpha': 0.001, 'Epsilon': 0.001, 'Gamma': 0.96, 'Max V': 219.2558977108502, 'Mean V': 14.225756785142906, 'Iteration': 41980}\n",
      "{'State': 15, 'Action': 0, 'Reward': 0.0, 'Error': 0.0, 'Time': 2.4986650943756104, 'Alpha': 0.001, 'Epsilon': 0.001, 'Gamma': 0.96, 'Max V': 220.04175348984032, 'Mean V': 14.28730401530055, 'Iteration': 44500}\n",
      "{'State': 15, 'Action': 0, 'Reward': 0.0, 'Error': 0.0, 'Time': 2.4996607303619385, 'Alpha': 0.001, 'Epsilon': 0.001, 'Gamma': 0.96, 'Max V': 220.04175348984032, 'Mean V': 14.28730401530055, 'Iteration': 44520}\n",
      "{'State': 15, 'Action': 0, 'Reward': 0.0, 'Error': 0.0, 'Time': 2.5006604194641113, 'Alpha': 0.001, 'Epsilon': 0.001, 'Gamma': 0.96, 'Max V': 220.04175348984032, 'Mean V': 14.28730401530055, 'Iteration': 44540}\n",
      "{'State': 15, 'Action': 0, 'Reward': 0.0, 'Error': 0.0, 'Time': 2.501657485961914, 'Alpha': 0.001, 'Epsilon': 0.001, 'Gamma': 0.96, 'Max V': 220.04175348984032, 'Mean V': 14.28730401530055, 'Iteration': 44560}\n",
      "{'State': 15, 'Action': 0, 'Reward': 0.0, 'Error': 0.0, 'Time': 2.502655029296875, 'Alpha': 0.001, 'Epsilon': 0.001, 'Gamma': 0.96, 'Max V': 220.04175348984032, 'Mean V': 14.28730401530055, 'Iteration': 44580}\n",
      "{'State': 15, 'Action': 0, 'Reward': 0.0, 'Error': 0.0, 'Time': 2.5375609397888184, 'Alpha': 0.001, 'Epsilon': 0.001, 'Gamma': 0.96, 'Max V': 222.38968519036663, 'Mean V': 14.47276656015858, 'Iteration': 45320}\n",
      "{'State': 15, 'Action': 0, 'Reward': 0.0, 'Error': 0.0, 'Time': 2.538559675216675, 'Alpha': 0.001, 'Epsilon': 0.001, 'Gamma': 0.96, 'Max V': 222.38968519036663, 'Mean V': 14.47276656015858, 'Iteration': 45340}\n",
      "{'State': 15, 'Action': 0, 'Reward': 0.0, 'Error': 0.0, 'Time': 2.5395584106445312, 'Alpha': 0.001, 'Epsilon': 0.001, 'Gamma': 0.96, 'Max V': 222.38968519036663, 'Mean V': 14.47276656015858, 'Iteration': 45360}\n",
      "{'State': 15, 'Action': 0, 'Reward': 0.0, 'Error': 0.0, 'Time': 2.540555715560913, 'Alpha': 0.001, 'Epsilon': 0.001, 'Gamma': 0.96, 'Max V': 222.38968519036663, 'Mean V': 14.47276656015858, 'Iteration': 45380}\n",
      "{'State': 15, 'Action': 0, 'Reward': 0.0, 'Error': 0.0, 'Time': 2.6123647689819336, 'Alpha': 0.001, 'Epsilon': 0.001, 'Gamma': 0.96, 'Max V': 227.69828970141367, 'Mean V': 14.84207668824786, 'Iteration': 46920}\n",
      "{'State': 15, 'Action': 0, 'Reward': 0.0, 'Error': 0.0, 'Time': 2.613358974456787, 'Alpha': 0.001, 'Epsilon': 0.001, 'Gamma': 0.96, 'Max V': 227.69828970141367, 'Mean V': 14.84207668824786, 'Iteration': 46940}\n",
      "{'State': 15, 'Action': 0, 'Reward': 0.0, 'Error': 0.0, 'Time': 2.614356279373169, 'Alpha': 0.001, 'Epsilon': 0.001, 'Gamma': 0.96, 'Max V': 227.69828970141367, 'Mean V': 14.84207668824786, 'Iteration': 46960}\n",
      "{'State': 15, 'Action': 0, 'Reward': 0.0, 'Error': 0.0, 'Time': 2.615354299545288, 'Alpha': 0.001, 'Epsilon': 0.001, 'Gamma': 0.96, 'Max V': 227.69828970141367, 'Mean V': 14.84207668824786, 'Iteration': 46980}\n",
      "{'State': 15, 'Action': 0, 'Reward': 0.0, 'Error': 0.0, 'Time': 2.6173484325408936, 'Alpha': 0.001, 'Epsilon': 0.001, 'Gamma': 0.96, 'Max V': 229.46049258805579, 'Mean V': 14.965641649010163, 'Iteration': 47020}\n",
      "{'State': 15, 'Action': 0, 'Reward': 0.0, 'Error': 0.0, 'Time': 2.6183457374572754, 'Alpha': 0.001, 'Epsilon': 0.001, 'Gamma': 0.96, 'Max V': 229.46049258805579, 'Mean V': 14.965641649010163, 'Iteration': 47040}\n",
      "{'State': 15, 'Action': 0, 'Reward': 0.0, 'Error': 0.0, 'Time': 2.619344711303711, 'Alpha': 0.001, 'Epsilon': 0.001, 'Gamma': 0.96, 'Max V': 229.46049258805579, 'Mean V': 14.965641649010163, 'Iteration': 47060}\n",
      "{'State': 15, 'Action': 0, 'Reward': 0.0, 'Error': 0.0, 'Time': 2.6203393936157227, 'Alpha': 0.001, 'Epsilon': 0.001, 'Gamma': 0.96, 'Max V': 229.46049258805579, 'Mean V': 14.965641649010163, 'Iteration': 47080}\n",
      "{'State': 15, 'Action': 0, 'Reward': 0.0, 'Error': 0.0, 'Time': 2.6213369369506836, 'Alpha': 0.001, 'Epsilon': 0.001, 'Gamma': 0.96, 'Max V': 229.46049258805579, 'Mean V': 14.965641649010163, 'Iteration': 47100}\n",
      "{'State': 15, 'Action': 0, 'Reward': 0.0, 'Error': 0.0, 'Time': 2.6223344802856445, 'Alpha': 0.001, 'Epsilon': 0.001, 'Gamma': 0.96, 'Max V': 229.46049258805579, 'Mean V': 14.965641649010163, 'Iteration': 47120}\n",
      "{'State': 15, 'Action': 0, 'Reward': 0.0, 'Error': 0.0, 'Time': 2.6233317852020264, 'Alpha': 0.001, 'Epsilon': 0.001, 'Gamma': 0.96, 'Max V': 229.46049258805579, 'Mean V': 14.965641649010163, 'Iteration': 47140}\n",
      "{'State': 15, 'Action': 0, 'Reward': 0.0, 'Error': 0.0, 'Time': 2.6243295669555664, 'Alpha': 0.001, 'Epsilon': 0.001, 'Gamma': 0.96, 'Max V': 229.46049258805579, 'Mean V': 14.965641649010163, 'Iteration': 47160}\n",
      "{'State': 15, 'Action': 0, 'Reward': 0.0, 'Error': 0.0, 'Time': 2.62532639503479, 'Alpha': 0.001, 'Epsilon': 0.001, 'Gamma': 0.96, 'Max V': 229.46049258805579, 'Mean V': 14.965641649010163, 'Iteration': 47180}\n",
      "{'State': 15, 'Action': 0, 'Reward': 0.0, 'Error': 0.0, 'Time': 2.6442768573760986, 'Alpha': 0.001, 'Epsilon': 0.001, 'Gamma': 0.96, 'Max V': 230.23690778768028, 'Mean V': 15.027183328334415, 'Iteration': 47600}\n",
      "{'State': 15, 'Action': 0, 'Reward': 0.0, 'Error': 0.0, 'Time': 2.645272731781006, 'Alpha': 0.001, 'Epsilon': 0.001, 'Gamma': 0.96, 'Max V': 230.23690778768028, 'Mean V': 15.027183328334415, 'Iteration': 47620}\n",
      "{'State': 15, 'Action': 0, 'Reward': 0.0, 'Error': 0.0, 'Time': 2.646275281906128, 'Alpha': 0.001, 'Epsilon': 0.001, 'Gamma': 0.96, 'Max V': 230.23690778768028, 'Mean V': 15.027183328334415, 'Iteration': 47640}\n",
      "{'State': 15, 'Action': 0, 'Reward': 0.0, 'Error': 0.0, 'Time': 2.6472678184509277, 'Alpha': 0.001, 'Epsilon': 0.001, 'Gamma': 0.96, 'Max V': 230.23690778768028, 'Mean V': 15.027183328334415, 'Iteration': 47660}\n",
      "{'State': 15, 'Action': 0, 'Reward': 0.0, 'Error': 0.0, 'Time': 2.6482656002044678, 'Alpha': 0.001, 'Epsilon': 0.001, 'Gamma': 0.96, 'Max V': 230.23690778768028, 'Mean V': 15.027183328334415, 'Iteration': 47680}\n",
      "{'State': 15, 'Action': 0, 'Reward': 0.0, 'Error': 0.0, 'Time': 2.688162088394165, 'Alpha': 0.001, 'Epsilon': 0.001, 'Gamma': 0.96, 'Max V': 232.9862307542329, 'Mean V': 15.212324485460153, 'Iteration': 48520}\n",
      "{'State': 15, 'Action': 0, 'Reward': 0.0, 'Error': 0.0, 'Time': 2.6891555786132812, 'Alpha': 0.001, 'Epsilon': 0.001, 'Gamma': 0.96, 'Max V': 232.9862307542329, 'Mean V': 15.212324485460153, 'Iteration': 48540}\n",
      "{'State': 15, 'Action': 0, 'Reward': 0.0, 'Error': 0.0, 'Time': 2.690154790878296, 'Alpha': 0.001, 'Epsilon': 0.001, 'Gamma': 0.96, 'Max V': 232.9862307542329, 'Mean V': 15.212324485460153, 'Iteration': 48560}\n",
      "{'State': 15, 'Action': 0, 'Reward': 0.0, 'Error': 0.0, 'Time': 2.6911537647247314, 'Alpha': 0.001, 'Epsilon': 0.001, 'Gamma': 0.96, 'Max V': 232.9862307542329, 'Mean V': 15.212324485460153, 'Iteration': 48580}\n",
      "{'State': 15, 'Action': 0, 'Reward': 0.0, 'Error': 0.0, 'Time': 2.7589328289031982, 'Alpha': 0.001, 'Epsilon': 0.001, 'Gamma': 0.96, 'Max V': 232.9862307542329, 'Mean V': 15.211480814072653, 'Iteration': 50000}\n",
      "{'State': 15, 'Action': 0, 'Reward': 0.0, 'Error': 0.0, 'Time': 2.759929895401001, 'Alpha': 0.001, 'Epsilon': 0.001, 'Gamma': 0.96, 'Max V': 232.9862307542329, 'Mean V': 15.211480814072653, 'Iteration': 50020}\n",
      "{'State': 15, 'Action': 0, 'Reward': 0.0, 'Error': 0.0, 'Time': 2.760927200317383, 'Alpha': 0.001, 'Epsilon': 0.001, 'Gamma': 0.96, 'Max V': 232.9862307542329, 'Mean V': 15.211480814072653, 'Iteration': 50040}\n",
      "{'State': 15, 'Action': 0, 'Reward': 0.0, 'Error': 0.0, 'Time': 2.7619245052337646, 'Alpha': 0.001, 'Epsilon': 0.001, 'Gamma': 0.96, 'Max V': 232.9862307542329, 'Mean V': 15.211480814072653, 'Iteration': 50060}\n",
      "{'State': 15, 'Action': 0, 'Reward': 0.0, 'Error': 0.0, 'Time': 2.7629220485687256, 'Alpha': 0.001, 'Epsilon': 0.001, 'Gamma': 0.96, 'Max V': 232.9862307542329, 'Mean V': 15.211480814072653, 'Iteration': 50080}\n",
      "{'State': 15, 'Action': 0, 'Reward': 0.0, 'Error': 0.0, 'Time': 2.792841672897339, 'Alpha': 0.001, 'Epsilon': 0.001, 'Gamma': 0.96, 'Max V': 233.75324452347868, 'Mean V': 15.272866003579935, 'Iteration': 50720}\n",
      "{'State': 15, 'Action': 0, 'Reward': 0.0, 'Error': 0.0, 'Time': 2.7938392162323, 'Alpha': 0.001, 'Epsilon': 0.001, 'Gamma': 0.96, 'Max V': 233.75324452347868, 'Mean V': 15.272866003579935, 'Iteration': 50740}\n",
      "{'State': 15, 'Action': 0, 'Reward': 0.0, 'Error': 0.0, 'Time': 2.7938392162323, 'Alpha': 0.001, 'Epsilon': 0.001, 'Gamma': 0.96, 'Max V': 233.75324452347868, 'Mean V': 15.272866003579935, 'Iteration': 50760}\n",
      "{'State': 15, 'Action': 0, 'Reward': 0.0, 'Error': 0.0, 'Time': 2.79583477973938, 'Alpha': 0.001, 'Epsilon': 0.001, 'Gamma': 0.96, 'Max V': 233.75324452347868, 'Mean V': 15.272866003579935, 'Iteration': 50780}\n",
      "{'State': 15, 'Action': 0, 'Reward': 0.0, 'Error': 0.0, 'Time': 2.8606603145599365, 'Alpha': 0.001, 'Epsilon': 0.001, 'Gamma': 0.96, 'Max V': 235.50915049930407, 'Mean V': 15.396310644449931, 'Iteration': 52220}\n",
      "{'State': 15, 'Action': 0, 'Reward': 0.0, 'Error': 0.0, 'Time': 2.8616578578948975, 'Alpha': 0.001, 'Epsilon': 0.001, 'Gamma': 0.96, 'Max V': 235.50915049930407, 'Mean V': 15.396310644449931, 'Iteration': 52240}\n",
      "{'State': 15, 'Action': 0, 'Reward': 0.0, 'Error': 0.0, 'Time': 2.8626549243927, 'Alpha': 0.001, 'Epsilon': 0.001, 'Gamma': 0.96, 'Max V': 235.50915049930407, 'Mean V': 15.396310644449931, 'Iteration': 52260}\n",
      "{'State': 15, 'Action': 0, 'Reward': 0.0, 'Error': 0.0, 'Time': 2.863652467727661, 'Alpha': 0.001, 'Epsilon': 0.001, 'Gamma': 0.96, 'Max V': 235.50915049930407, 'Mean V': 15.396310644449931, 'Iteration': 52280}\n",
      "{'State': 14, 'Action': 2, 'Reward': 1000.0, 'Error': 0.7629507558365356, 'Time': 2.8945698738098145, 'Alpha': 0.001, 'Epsilon': 0.001, 'Gamma': 0.96, 'Max V': 237.81219491930102, 'Mean V': 15.56748697799503, 'Iteration': 53000}\n",
      "{'State': 15, 'Action': 0, 'Reward': 0.0, 'Error': 0.0, 'Time': 2.8955674171447754, 'Alpha': 0.001, 'Epsilon': 0.001, 'Gamma': 0.96, 'Max V': 237.81219491930102, 'Mean V': 15.56748697799503, 'Iteration': 53020}\n",
      "{'State': 15, 'Action': 0, 'Reward': 0.0, 'Error': 0.0, 'Time': 2.896564245223999, 'Alpha': 0.001, 'Epsilon': 0.001, 'Gamma': 0.96, 'Max V': 237.81219491930102, 'Mean V': 15.56748697799503, 'Iteration': 53040}\n",
      "{'State': 15, 'Action': 0, 'Reward': 0.0, 'Error': 0.0, 'Time': 2.89756178855896, 'Alpha': 0.001, 'Epsilon': 0.001, 'Gamma': 0.96, 'Max V': 237.81219491930102, 'Mean V': 15.56748697799503, 'Iteration': 53060}\n",
      "{'State': 15, 'Action': 0, 'Reward': 0.0, 'Error': 0.0, 'Time': 2.898559093475342, 'Alpha': 0.001, 'Epsilon': 0.001, 'Gamma': 0.96, 'Max V': 237.81219491930102, 'Mean V': 15.56748697799503, 'Iteration': 53080}\n",
      "{'State': 14, 'Action': 2, 'Reward': 1000.0, 'Error': 0.7682289703782144, 'Time': 2.8995563983917236, 'Alpha': 0.001, 'Epsilon': 0.001, 'Gamma': 0.96, 'Max V': 238.58042388967922, 'Mean V': 15.615501288643667, 'Iteration': 53100}\n",
      "{'State': 15, 'Action': 0, 'Reward': 0.0, 'Error': 0.0, 'Time': 2.9055404663085938, 'Alpha': 0.001, 'Epsilon': 0.001, 'Gamma': 0.96, 'Max V': 241.3207365396592, 'Mean V': 15.800299141526509, 'Iteration': 53220}\n",
      "{'State': 15, 'Action': 0, 'Reward': 0.0, 'Error': 0.0, 'Time': 2.9065377712249756, 'Alpha': 0.001, 'Epsilon': 0.001, 'Gamma': 0.96, 'Max V': 241.3207365396592, 'Mean V': 15.800299141526509, 'Iteration': 53240}\n",
      "{'State': 15, 'Action': 0, 'Reward': 0.0, 'Error': 0.0, 'Time': 2.9075350761413574, 'Alpha': 0.001, 'Epsilon': 0.001, 'Gamma': 0.96, 'Max V': 241.3207365396592, 'Mean V': 15.800299141526509, 'Iteration': 53260}\n",
      "{'State': 15, 'Action': 0, 'Reward': 0.0, 'Error': 0.0, 'Time': 2.9085323810577393, 'Alpha': 0.001, 'Epsilon': 0.001, 'Gamma': 0.96, 'Max V': 241.3207365396592, 'Mean V': 15.800299141526509, 'Iteration': 53280}\n",
      "{'State': 14, 'Action': 2, 'Reward': 1000.0, 'Error': 0.7586792634603408, 'Time': 2.909529685974121, 'Alpha': 0.001, 'Epsilon': 0.001, 'Gamma': 0.96, 'Max V': 242.07941580311956, 'Mean V': 15.84771659549278, 'Iteration': 53300}\n",
      "{'State': 15, 'Action': 0, 'Reward': 0.0, 'Error': 0.0, 'Time': 2.910526990890503, 'Alpha': 0.001, 'Epsilon': 0.001, 'Gamma': 0.96, 'Max V': 242.07941580311956, 'Mean V': 15.84771659549278, 'Iteration': 53320}\n",
      "{'State': 15, 'Action': 0, 'Reward': 0.0, 'Error': 0.0, 'Time': 2.910526990890503, 'Alpha': 0.001, 'Epsilon': 0.001, 'Gamma': 0.96, 'Max V': 242.07941580311956, 'Mean V': 15.84771659549278, 'Iteration': 53340}\n",
      "{'State': 15, 'Action': 0, 'Reward': 0.0, 'Error': 0.0, 'Time': 2.9126880168914795, 'Alpha': 0.001, 'Epsilon': 0.001, 'Gamma': 0.96, 'Max V': 242.07941580311956, 'Mean V': 15.84771659549278, 'Iteration': 53360}\n",
      "{'State': 15, 'Action': 0, 'Reward': 0.0, 'Error': 0.0, 'Time': 2.914517402648926, 'Alpha': 0.001, 'Epsilon': 0.001, 'Gamma': 0.96, 'Max V': 242.07941580311956, 'Mean V': 15.84771659549278, 'Iteration': 53380}\n",
      "{'State': 14, 'Action': 2, 'Reward': 1000.0, 'Error': 0.7571564145413543, 'Time': 2.974355936050415, 'Alpha': 0.001, 'Epsilon': 0.001, 'Gamma': 0.96, 'Max V': 243.60074187318708, 'Mean V': 15.956141216233949, 'Iteration': 54600}\n",
      "{'State': 15, 'Action': 0, 'Reward': 0.0, 'Error': 0.0, 'Time': 2.975353717803955, 'Alpha': 0.001, 'Epsilon': 0.001, 'Gamma': 0.96, 'Max V': 243.60074187318708, 'Mean V': 15.956141216233949, 'Iteration': 54620}\n",
      "{'State': 15, 'Action': 0, 'Reward': 0.0, 'Error': 0.0, 'Time': 2.976350784301758, 'Alpha': 0.001, 'Epsilon': 0.001, 'Gamma': 0.96, 'Max V': 243.60074187318708, 'Mean V': 15.956141216233949, 'Iteration': 54640}\n",
      "{'State': 15, 'Action': 0, 'Reward': 0.0, 'Error': 0.0, 'Time': 2.978346347808838, 'Alpha': 0.001, 'Epsilon': 0.001, 'Gamma': 0.96, 'Max V': 243.60074187318708, 'Mean V': 15.956141216233949, 'Iteration': 54660}\n",
      "{'State': 15, 'Action': 0, 'Reward': 0.0, 'Error': 0.0, 'Time': 2.9793426990509033, 'Alpha': 0.001, 'Epsilon': 0.001, 'Gamma': 0.96, 'Max V': 243.60074187318708, 'Mean V': 15.956141216233949, 'Iteration': 54680}\n",
      "{'State': 15, 'Action': 0, 'Reward': 0.0, 'Error': 0.0, 'Time': 2.995300054550171, 'Alpha': 0.001, 'Epsilon': 0.001, 'Gamma': 0.96, 'Max V': 245.34640684566864, 'Mean V': 16.079399665018624, 'Iteration': 55020}\n",
      "{'State': 15, 'Action': 0, 'Reward': 0.0, 'Error': 0.0, 'Time': 2.996298313140869, 'Alpha': 0.001, 'Epsilon': 0.001, 'Gamma': 0.96, 'Max V': 245.34640684566864, 'Mean V': 16.079399665018624, 'Iteration': 55040}\n",
      "{'State': 15, 'Action': 0, 'Reward': 0.0, 'Error': 0.0, 'Time': 2.9972946643829346, 'Alpha': 0.001, 'Epsilon': 0.001, 'Gamma': 0.96, 'Max V': 245.34640684566864, 'Mean V': 16.079399665018624, 'Iteration': 55060}\n",
      "{'State': 15, 'Action': 0, 'Reward': 0.0, 'Error': 0.0, 'Time': 2.9982919692993164, 'Alpha': 0.001, 'Epsilon': 0.001, 'Gamma': 0.96, 'Max V': 245.34640684566864, 'Mean V': 16.079399665018624, 'Iteration': 55080}\n",
      "{'State': 14, 'Action': 2, 'Reward': 1000.0, 'Error': 0.7608718011173317, 'Time': 2.9992892742156982, 'Alpha': 0.001, 'Epsilon': 0.001, 'Gamma': 0.96, 'Max V': 246.10727864678597, 'Mean V': 16.126954152588457, 'Iteration': 55100}\n",
      "{'State': 15, 'Action': 0, 'Reward': 0.0, 'Error': 0.0, 'Time': 3.040181875228882, 'Alpha': 0.001, 'Epsilon': 0.001, 'Gamma': 0.96, 'Max V': 248.84590171003063, 'Mean V': 16.311624055212196, 'Iteration': 55700}\n",
      "{'State': 15, 'Action': 0, 'Reward': 0.0, 'Error': 0.0, 'Time': 3.0421767234802246, 'Alpha': 0.001, 'Epsilon': 0.001, 'Gamma': 0.96, 'Max V': 248.84590171003063, 'Mean V': 16.311624055212196, 'Iteration': 55720}\n",
      "{'State': 15, 'Action': 0, 'Reward': 0.0, 'Error': 0.0, 'Time': 3.0431742668151855, 'Alpha': 0.001, 'Epsilon': 0.001, 'Gamma': 0.96, 'Max V': 248.84590171003063, 'Mean V': 16.311624055212196, 'Iteration': 55740}\n",
      "{'State': 15, 'Action': 0, 'Reward': 0.0, 'Error': 0.0, 'Time': 3.04516863822937, 'Alpha': 0.001, 'Epsilon': 0.001, 'Gamma': 0.96, 'Max V': 248.84590171003063, 'Mean V': 16.311624055212196, 'Iteration': 55760}\n",
      "{'State': 15, 'Action': 0, 'Reward': 0.0, 'Error': 0.0, 'Time': 3.04616641998291, 'Alpha': 0.001, 'Epsilon': 0.001, 'Gamma': 0.96, 'Max V': 248.84590171003063, 'Mean V': 16.311624055212196, 'Iteration': 55780}\n",
      "{'State': 14, 'Action': 2, 'Reward': 1000.0, 'Error': 0.7511540982899694, 'Time': 3.1110315322875977, 'Alpha': 0.001, 'Epsilon': 0.001, 'Gamma': 0.96, 'Max V': 249.5970558083206, 'Mean V': 16.358545778616374, 'Iteration': 57000}\n",
      "{'State': 15, 'Action': 0, 'Reward': 0.0, 'Error': 0.0, 'Time': 3.112027168273926, 'Alpha': 0.001, 'Epsilon': 0.001, 'Gamma': 0.96, 'Max V': 249.5970558083206, 'Mean V': 16.358545778616374, 'Iteration': 57020}\n",
      "{'State': 15, 'Action': 0, 'Reward': 0.0, 'Error': 0.0, 'Time': 3.113025665283203, 'Alpha': 0.001, 'Epsilon': 0.001, 'Gamma': 0.96, 'Max V': 249.5970558083206, 'Mean V': 16.358545778616374, 'Iteration': 57040}\n",
      "{'State': 15, 'Action': 0, 'Reward': 0.0, 'Error': 0.0, 'Time': 3.1140213012695312, 'Alpha': 0.001, 'Epsilon': 0.001, 'Gamma': 0.96, 'Max V': 249.5970558083206, 'Mean V': 16.358545778616374, 'Iteration': 57060}\n",
      "{'State': 15, 'Action': 0, 'Reward': 0.0, 'Error': 0.0, 'Time': 3.115018367767334, 'Alpha': 0.001, 'Epsilon': 0.001, 'Gamma': 0.96, 'Max V': 249.5970558083206, 'Mean V': 16.358545778616374, 'Iteration': 57080}\n",
      "{'State': 15, 'Action': 0, 'Reward': 0.0, 'Error': 0.0, 'Time': 3.1309778690338135, 'Alpha': 0.001, 'Epsilon': 0.001, 'Gamma': 0.96, 'Max V': 250.34745875251227, 'Mean V': 16.42000423534803, 'Iteration': 57420}\n",
      "{'State': 15, 'Action': 0, 'Reward': 0.0, 'Error': 0.0, 'Time': 3.131972551345825, 'Alpha': 0.001, 'Epsilon': 0.001, 'Gamma': 0.96, 'Max V': 250.34745875251227, 'Mean V': 16.42000423534803, 'Iteration': 57440}\n",
      "{'State': 15, 'Action': 0, 'Reward': 0.0, 'Error': 0.0, 'Time': 3.1329329013824463, 'Alpha': 0.001, 'Epsilon': 0.001, 'Gamma': 0.96, 'Max V': 250.34745875251227, 'Mean V': 16.42000423534803, 'Iteration': 57460}\n",
      "{'State': 15, 'Action': 0, 'Reward': 0.0, 'Error': 0.0, 'Time': 3.1339681148529053, 'Alpha': 0.001, 'Epsilon': 0.001, 'Gamma': 0.96, 'Max V': 250.34745875251227, 'Mean V': 16.42000423534803, 'Iteration': 57480}\n",
      "{'State': 14, 'Action': 2, 'Reward': 1000.0, 'Error': 0.9899861016498996, 'Time': 3.1389551162719727, 'Alpha': 0.001, 'Epsilon': 0.001, 'Gamma': 0.96, 'Max V': 251.33744485416216, 'Mean V': 16.48187836670115, 'Iteration': 57600}\n",
      "{'State': 15, 'Action': 0, 'Reward': 0.0, 'Error': 0.0, 'Time': 3.1479310989379883, 'Alpha': 0.001, 'Epsilon': 0.001, 'Gamma': 0.96, 'Max V': 254.07061815518074, 'Mean V': 16.65226948527666, 'Iteration': 57800}\n",
      "{'State': 15, 'Action': 0, 'Reward': 0.0, 'Error': 0.0, 'Time': 3.1489272117614746, 'Alpha': 0.001, 'Epsilon': 0.001, 'Gamma': 0.96, 'Max V': 254.07061815518074, 'Mean V': 16.65226948527666, 'Iteration': 57820}\n",
      "{'State': 15, 'Action': 0, 'Reward': 0.0, 'Error': 0.0, 'Time': 3.1499247550964355, 'Alpha': 0.001, 'Epsilon': 0.001, 'Gamma': 0.96, 'Max V': 254.07061815518074, 'Mean V': 16.65226948527666, 'Iteration': 57840}\n",
      "{'State': 15, 'Action': 0, 'Reward': 0.0, 'Error': 0.0, 'Time': 3.1509249210357666, 'Alpha': 0.001, 'Epsilon': 0.001, 'Gamma': 0.96, 'Max V': 254.07061815518074, 'Mean V': 16.65226948527666, 'Iteration': 57860}\n",
      "{'State': 15, 'Action': 0, 'Reward': 0.0, 'Error': 0.0, 'Time': 3.1519200801849365, 'Alpha': 0.001, 'Epsilon': 0.001, 'Gamma': 0.96, 'Max V': 254.07061815518074, 'Mean V': 16.65226948527666, 'Iteration': 57880}\n",
      "{'State': 14, 'Action': 2, 'Reward': 1000.0, 'Error': 0.9898371752737928, 'Time': 3.1628921031951904, 'Alpha': 0.001, 'Epsilon': 0.001, 'Gamma': 0.96, 'Max V': 255.06045533045454, 'Mean V': 16.71413430873127, 'Iteration': 58100}\n",
      "{'State': 15, 'Action': 0, 'Reward': 0.0, 'Error': 0.0, 'Time': 3.1638879776000977, 'Alpha': 0.001, 'Epsilon': 0.001, 'Gamma': 0.96, 'Max V': 259.51955183603417, 'Mean V': 17.007922860855253, 'Iteration': 58120}\n",
      "{'State': 15, 'Action': 0, 'Reward': 0.0, 'Error': 0.0, 'Time': 3.1648855209350586, 'Alpha': 0.001, 'Epsilon': 0.001, 'Gamma': 0.96, 'Max V': 259.51955183603417, 'Mean V': 17.007922860855253, 'Iteration': 58140}\n",
      "{'State': 15, 'Action': 0, 'Reward': 0.0, 'Error': 0.0, 'Time': 3.165884256362915, 'Alpha': 0.001, 'Epsilon': 0.001, 'Gamma': 0.96, 'Max V': 259.51955183603417, 'Mean V': 17.007922860855253, 'Iteration': 58160}\n",
      "{'State': 15, 'Action': 0, 'Reward': 0.0, 'Error': 0.0, 'Time': 3.166882038116455, 'Alpha': 0.001, 'Epsilon': 0.001, 'Gamma': 0.96, 'Max V': 259.51955183603417, 'Mean V': 17.007922860855253, 'Iteration': 58180}\n",
      "{'State': 14, 'Action': 2, 'Reward': 1000.0, 'Error': 0.7404804481639657, 'Time': 3.201751708984375, 'Alpha': 0.001, 'Epsilon': 0.001, 'Gamma': 0.96, 'Max V': 260.26003228419813, 'Mean V': 17.05420029554613, 'Iteration': 58700}\n",
      "{'State': 15, 'Action': 0, 'Reward': 0.0, 'Error': 0.0, 'Time': 3.2027525901794434, 'Alpha': 0.001, 'Epsilon': 0.001, 'Gamma': 0.96, 'Max V': 260.26003228419813, 'Mean V': 17.05420029554613, 'Iteration': 58720}\n",
      "{'State': 15, 'Action': 0, 'Reward': 0.0, 'Error': 0.0, 'Time': 3.2037460803985596, 'Alpha': 0.001, 'Epsilon': 0.001, 'Gamma': 0.96, 'Max V': 260.26003228419813, 'Mean V': 17.05420029554613, 'Iteration': 58740}\n",
      "{'State': 15, 'Action': 0, 'Reward': 0.0, 'Error': 0.0, 'Time': 3.204746723175049, 'Alpha': 0.001, 'Epsilon': 0.001, 'Gamma': 0.96, 'Max V': 260.26003228419813, 'Mean V': 17.05420029554613, 'Iteration': 58760}\n",
      "{'State': 15, 'Action': 0, 'Reward': 0.0, 'Error': 0.0, 'Time': 3.2057418823242188, 'Alpha': 0.001, 'Epsilon': 0.001, 'Gamma': 0.96, 'Max V': 260.26003228419813, 'Mean V': 17.05420029554613, 'Iteration': 58780}\n",
      "{'State': 15, 'Action': 0, 'Reward': 0.0, 'Error': 0.0, 'Time': 3.2556042671203613, 'Alpha': 0.001, 'Epsilon': 0.001, 'Gamma': 0.96, 'Max V': 260.26003228419813, 'Mean V': 17.054188980637132, 'Iteration': 59400}\n",
      "{'State': 15, 'Action': 0, 'Reward': 0.0, 'Error': 0.0, 'Time': 3.2575998306274414, 'Alpha': 0.001, 'Epsilon': 0.001, 'Gamma': 0.96, 'Max V': 260.26003228419813, 'Mean V': 17.054188980637132, 'Iteration': 59420}\n",
      "{'State': 15, 'Action': 0, 'Reward': 0.0, 'Error': 0.0, 'Time': 3.2595932483673096, 'Alpha': 0.001, 'Epsilon': 0.001, 'Gamma': 0.96, 'Max V': 260.26003228419813, 'Mean V': 17.054188980637132, 'Iteration': 59440}\n",
      "{'State': 15, 'Action': 0, 'Reward': 0.0, 'Error': 0.0, 'Time': 3.262584924697876, 'Alpha': 0.001, 'Epsilon': 0.001, 'Gamma': 0.96, 'Max V': 260.26003228419813, 'Mean V': 17.054188980637132, 'Iteration': 59460}\n",
      "{'State': 15, 'Action': 0, 'Reward': 0.0, 'Error': 0.0, 'Time': 3.2645819187164307, 'Alpha': 0.001, 'Epsilon': 0.001, 'Gamma': 0.96, 'Max V': 260.26003228419813, 'Mean V': 17.054188980637132, 'Iteration': 59480}\n",
      "{'State': 14, 'Action': 2, 'Reward': 1000.0, 'Error': 0.7397399677158019, 'Time': 3.289513111114502, 'Alpha': 0.001, 'Epsilon': 0.001, 'Gamma': 0.96, 'Max V': 260.99977225191395, 'Mean V': 17.10042272861937, 'Iteration': 59700}\n",
      "{'State': 15, 'Action': 0, 'Reward': 0.0, 'Error': 0.0, 'Time': 3.2935116291046143, 'Alpha': 0.001, 'Epsilon': 0.001, 'Gamma': 0.96, 'Max V': 260.99977225191395, 'Mean V': 17.10042272861937, 'Iteration': 59720}\n",
      "{'State': 15, 'Action': 0, 'Reward': 0.0, 'Error': 0.0, 'Time': 3.2954981327056885, 'Alpha': 0.001, 'Epsilon': 0.001, 'Gamma': 0.96, 'Max V': 260.99977225191395, 'Mean V': 17.10042272861937, 'Iteration': 59740}\n",
      "{'State': 15, 'Action': 0, 'Reward': 0.0, 'Error': 0.0, 'Time': 3.2974929809570312, 'Alpha': 0.001, 'Epsilon': 0.001, 'Gamma': 0.96, 'Max V': 260.99977225191395, 'Mean V': 17.10042272861937, 'Iteration': 59760}\n",
      "{'State': 15, 'Action': 0, 'Reward': 0.0, 'Error': 0.0, 'Time': 3.298490524291992, 'Alpha': 0.001, 'Epsilon': 0.001, 'Gamma': 0.96, 'Max V': 260.99977225191395, 'Mean V': 17.10042272861937, 'Iteration': 59780}\n",
      "{'State': 15, 'Action': 0, 'Reward': 0.0, 'Error': 0.0, 'Time': 3.342371940612793, 'Alpha': 0.001, 'Epsilon': 0.001, 'Gamma': 0.96, 'Max V': 260.99977225191395, 'Mean V': 17.099954600398032, 'Iteration': 60600}\n",
      "{'State': 15, 'Action': 0, 'Reward': 0.0, 'Error': 0.0, 'Time': 3.343369483947754, 'Alpha': 0.001, 'Epsilon': 0.001, 'Gamma': 0.96, 'Max V': 260.99977225191395, 'Mean V': 17.099954600398032, 'Iteration': 60620}\n",
      "{'State': 15, 'Action': 0, 'Reward': 0.0, 'Error': 0.0, 'Time': 3.343369483947754, 'Alpha': 0.001, 'Epsilon': 0.001, 'Gamma': 0.96, 'Max V': 260.99977225191395, 'Mean V': 17.099954600398032, 'Iteration': 60640}\n",
      "{'State': 15, 'Action': 0, 'Reward': 0.0, 'Error': 0.0, 'Time': 3.3443665504455566, 'Alpha': 0.001, 'Epsilon': 0.001, 'Gamma': 0.96, 'Max V': 260.99977225191395, 'Mean V': 17.099954600398032, 'Iteration': 60660}\n",
      "{'State': 15, 'Action': 0, 'Reward': 0.0, 'Error': 0.0, 'Time': 3.3453640937805176, 'Alpha': 0.001, 'Epsilon': 0.001, 'Gamma': 0.96, 'Max V': 260.99977225191395, 'Mean V': 17.099954600398032, 'Iteration': 60680}\n",
      "{'State': 14, 'Action': 2, 'Reward': 1000.0, 'Error': 0.739000227748086, 'Time': 3.4690330028533936, 'Alpha': 0.001, 'Epsilon': 0.001, 'Gamma': 0.96, 'Max V': 261.73877247966203, 'Mean V': 17.14518090361751, 'Iteration': 63400}\n",
      "{'State': 15, 'Action': 0, 'Reward': 0.0, 'Error': 0.0, 'Time': 3.4700303077697754, 'Alpha': 0.001, 'Epsilon': 0.001, 'Gamma': 0.96, 'Max V': 261.73877247966203, 'Mean V': 17.14518090361751, 'Iteration': 63420}\n",
      "{'State': 15, 'Action': 0, 'Reward': 0.0, 'Error': 0.0, 'Time': 3.4710278511047363, 'Alpha': 0.001, 'Epsilon': 0.001, 'Gamma': 0.96, 'Max V': 261.73877247966203, 'Mean V': 17.14518090361751, 'Iteration': 63440}\n",
      "{'State': 15, 'Action': 0, 'Reward': 0.0, 'Error': 0.0, 'Time': 3.472024917602539, 'Alpha': 0.001, 'Epsilon': 0.001, 'Gamma': 0.96, 'Max V': 261.73877247966203, 'Mean V': 17.14518090361751, 'Iteration': 63460}\n",
      "{'State': 15, 'Action': 0, 'Reward': 0.0, 'Error': 0.0, 'Time': 3.473022222518921, 'Alpha': 0.001, 'Epsilon': 0.001, 'Gamma': 0.96, 'Max V': 261.73877247966203, 'Mean V': 17.14518090361751, 'Iteration': 63480}\n",
      "{'State': 14, 'Action': 2, 'Reward': 1000.0, 'Error': 0.9895304491008136, 'Time': 3.5069684982299805, 'Alpha': 0.001, 'Epsilon': 0.001, 'Gamma': 0.96, 'Max V': 262.72830292876284, 'Mean V': 17.20698137879276, 'Iteration': 64200}\n",
      "{'State': 15, 'Action': 0, 'Reward': 0.0, 'Error': 0.0, 'Time': 3.5079660415649414, 'Alpha': 0.001, 'Epsilon': 0.001, 'Gamma': 0.96, 'Max V': 263.4655746258341, 'Mean V': 17.253060859859715, 'Iteration': 64220}\n",
      "{'State': 15, 'Action': 0, 'Reward': 0.0, 'Error': 0.0, 'Time': 3.5089638233184814, 'Alpha': 0.001, 'Epsilon': 0.001, 'Gamma': 0.96, 'Max V': 263.4655746258341, 'Mean V': 17.253060859859715, 'Iteration': 64240}\n",
      "{'State': 15, 'Action': 0, 'Reward': 0.0, 'Error': 0.0, 'Time': 3.5099599361419678, 'Alpha': 0.001, 'Epsilon': 0.001, 'Gamma': 0.96, 'Max V': 263.4655746258341, 'Mean V': 17.253060859859715, 'Iteration': 64260}\n",
      "{'State': 15, 'Action': 0, 'Reward': 0.0, 'Error': 0.0, 'Time': 3.510957717895508, 'Alpha': 0.001, 'Epsilon': 0.001, 'Gamma': 0.96, 'Max V': 263.4655746258341, 'Mean V': 17.253060859859715, 'Iteration': 64280}\n",
      "{'State': 14, 'Action': 2, 'Reward': 1000.0, 'Error': 0.9894613770149667, 'Time': 3.5119547843933105, 'Alpha': 0.001, 'Epsilon': 0.001, 'Gamma': 0.96, 'Max V': 264.45503600284906, 'Mean V': 17.31490219592315, 'Iteration': 64300}\n",
      "{'State': 15, 'Action': 0, 'Reward': 0.0, 'Error': 0.0, 'Time': 3.5129551887512207, 'Alpha': 0.001, 'Epsilon': 0.001, 'Gamma': 0.96, 'Max V': 267.65976955754337, 'Mean V': 17.54626311747975, 'Iteration': 64320}\n",
      "{'State': 15, 'Action': 0, 'Reward': 0.0, 'Error': 0.0, 'Time': 3.5139501094818115, 'Alpha': 0.001, 'Epsilon': 0.001, 'Gamma': 0.96, 'Max V': 267.65976955754337, 'Mean V': 17.54626311747975, 'Iteration': 64340}\n",
      "{'State': 15, 'Action': 0, 'Reward': 0.0, 'Error': 0.0, 'Time': 3.5149478912353516, 'Alpha': 0.001, 'Epsilon': 0.001, 'Gamma': 0.96, 'Max V': 267.65976955754337, 'Mean V': 17.54626311747975, 'Iteration': 64360}\n",
      "{'State': 15, 'Action': 0, 'Reward': 0.0, 'Error': 0.0, 'Time': 3.5159456729888916, 'Alpha': 0.001, 'Epsilon': 0.001, 'Gamma': 0.96, 'Max V': 267.65976955754337, 'Mean V': 17.54626311747975, 'Iteration': 64380}\n",
      "{'State': 15, 'Action': 0, 'Reward': 0.0, 'Error': 0.0, 'Time': 3.530904531478882, 'Alpha': 0.001, 'Epsilon': 0.001, 'Gamma': 0.96, 'Max V': 275.0618309817949, 'Mean V': 18.04008376439845, 'Iteration': 64700}\n",
      "{'State': 15, 'Action': 0, 'Reward': 0.0, 'Error': 0.0, 'Time': 3.5319018363952637, 'Alpha': 0.001, 'Epsilon': 0.001, 'Gamma': 0.96, 'Max V': 275.0618309817949, 'Mean V': 18.04008376439845, 'Iteration': 64720}\n",
      "{'State': 15, 'Action': 0, 'Reward': 0.0, 'Error': 0.0, 'Time': 3.5328993797302246, 'Alpha': 0.001, 'Epsilon': 0.001, 'Gamma': 0.96, 'Max V': 275.0618309817949, 'Mean V': 18.04008376439845, 'Iteration': 64740}\n",
      "{'State': 15, 'Action': 0, 'Reward': 0.0, 'Error': 0.0, 'Time': 3.5338993072509766, 'Alpha': 0.001, 'Epsilon': 0.001, 'Gamma': 0.96, 'Max V': 275.0618309817949, 'Mean V': 18.04008376439845, 'Iteration': 64760}\n",
      "{'State': 15, 'Action': 0, 'Reward': 0.0, 'Error': 0.0, 'Time': 3.5348949432373047, 'Alpha': 0.001, 'Epsilon': 0.001, 'Gamma': 0.96, 'Max V': 275.0618309817949, 'Mean V': 18.04008376439845, 'Iteration': 64780}\n",
      "{'State': 15, 'Action': 0, 'Reward': 0.0, 'Error': 0.0, 'Time': 3.535891532897949, 'Alpha': 0.001, 'Epsilon': 0.001, 'Gamma': 0.96, 'Max V': 275.0618309817949, 'Mean V': 18.04008376439845, 'Iteration': 64800}\n",
      "{'State': 15, 'Action': 0, 'Reward': 0.0, 'Error': 0.0, 'Time': 3.5368905067443848, 'Alpha': 0.001, 'Epsilon': 0.001, 'Gamma': 0.96, 'Max V': 275.0618309817949, 'Mean V': 18.04008376439845, 'Iteration': 64820}\n",
      "{'State': 15, 'Action': 0, 'Reward': 0.0, 'Error': 0.0, 'Time': 3.537885904312134, 'Alpha': 0.001, 'Epsilon': 0.001, 'Gamma': 0.96, 'Max V': 275.0618309817949, 'Mean V': 18.04008376439845, 'Iteration': 64840}\n",
      "{'State': 15, 'Action': 0, 'Reward': 0.0, 'Error': 0.0, 'Time': 3.538884401321411, 'Alpha': 0.001, 'Epsilon': 0.001, 'Gamma': 0.96, 'Max V': 275.0618309817949, 'Mean V': 18.04008376439845, 'Iteration': 64860}\n",
      "{'State': 15, 'Action': 0, 'Reward': 0.0, 'Error': 0.0, 'Time': 3.539881467819214, 'Alpha': 0.001, 'Epsilon': 0.001, 'Gamma': 0.96, 'Max V': 275.0618309817949, 'Mean V': 18.04008376439845, 'Iteration': 64880}\n",
      "{'State': 14, 'Action': 2, 'Reward': 1000.0, 'Error': 0.7324473016279601, 'Time': 3.58675479888916, 'Alpha': 0.001, 'Epsilon': 0.001, 'Gamma': 0.96, 'Max V': 275.7942782834229, 'Mean V': 18.085470188978803, 'Iteration': 65900}\n",
      "{'State': 15, 'Action': 0, 'Reward': 0.0, 'Error': 0.0, 'Time': 3.6007204055786133, 'Alpha': 0.001, 'Epsilon': 0.001, 'Gamma': 0.96, 'Max V': 275.7942782834229, 'Mean V': 18.084919877244555, 'Iteration': 66200}\n",
      "{'State': 15, 'Action': 0, 'Reward': 0.0, 'Error': 0.0, 'Time': 3.601715564727783, 'Alpha': 0.001, 'Epsilon': 0.001, 'Gamma': 0.96, 'Max V': 275.7942782834229, 'Mean V': 18.084919877244555, 'Iteration': 66220}\n",
      "{'State': 15, 'Action': 0, 'Reward': 0.0, 'Error': 0.0, 'Time': 3.602712631225586, 'Alpha': 0.001, 'Epsilon': 0.001, 'Gamma': 0.96, 'Max V': 275.7942782834229, 'Mean V': 18.084919877244555, 'Iteration': 66240}\n",
      "{'State': 15, 'Action': 0, 'Reward': 0.0, 'Error': 0.0, 'Time': 3.603710174560547, 'Alpha': 0.001, 'Epsilon': 0.001, 'Gamma': 0.96, 'Max V': 275.7942782834229, 'Mean V': 18.084919877244555, 'Iteration': 66260}\n",
      "{'State': 15, 'Action': 0, 'Reward': 0.0, 'Error': 0.0, 'Time': 3.6047070026397705, 'Alpha': 0.001, 'Epsilon': 0.001, 'Gamma': 0.96, 'Max V': 275.7942782834229, 'Mean V': 18.084919877244555, 'Iteration': 66280}\n",
      "{'State': 14, 'Action': 2, 'Reward': 1000.0, 'Error': 0.9889682288686631, 'Time': 3.6196670532226562, 'Alpha': 0.001, 'Epsilon': 0.001, 'Gamma': 0.96, 'Max V': 276.78324651229156, 'Mean V': 18.146718291972746, 'Iteration': 66600}\n",
      "{'State': 15, 'Action': 0, 'Reward': 0.0, 'Error': 0.0, 'Time': 3.620664119720459, 'Alpha': 0.001, 'Epsilon': 0.001, 'Gamma': 0.96, 'Max V': 277.50646326577925, 'Mean V': 18.191919339065727, 'Iteration': 66620}\n",
      "{'State': 15, 'Action': 0, 'Reward': 0.0, 'Error': 0.0, 'Time': 3.6216611862182617, 'Alpha': 0.001, 'Epsilon': 0.001, 'Gamma': 0.96, 'Max V': 277.50646326577925, 'Mean V': 18.191919339065727, 'Iteration': 66640}\n",
      "{'State': 15, 'Action': 0, 'Reward': 0.0, 'Error': 0.0, 'Time': 3.6226603984832764, 'Alpha': 0.001, 'Epsilon': 0.001, 'Gamma': 0.96, 'Max V': 277.50646326577925, 'Mean V': 18.191919339065727, 'Iteration': 66660}\n",
      "{'State': 15, 'Action': 0, 'Reward': 0.0, 'Error': 0.0, 'Time': 3.6236560344696045, 'Alpha': 0.001, 'Epsilon': 0.001, 'Gamma': 0.96, 'Max V': 277.50646326577925, 'Mean V': 18.191919339065727, 'Iteration': 66680}\n",
      "{'State': 15, 'Action': 0, 'Reward': 0.0, 'Error': 0.0, 'Time': 3.6525793075561523, 'Alpha': 0.001, 'Epsilon': 0.001, 'Gamma': 0.96, 'Max V': 277.50646326577925, 'Mean V': 18.191900052470523, 'Iteration': 67300}\n",
      "{'State': 15, 'Action': 0, 'Reward': 0.0, 'Error': 0.0, 'Time': 3.65354061126709, 'Alpha': 0.001, 'Epsilon': 0.001, 'Gamma': 0.96, 'Max V': 277.50646326577925, 'Mean V': 18.191900052470523, 'Iteration': 67320}\n",
      "{'State': 15, 'Action': 0, 'Reward': 0.0, 'Error': 0.0, 'Time': 3.654574155807495, 'Alpha': 0.001, 'Epsilon': 0.001, 'Gamma': 0.96, 'Max V': 277.50646326577925, 'Mean V': 18.191900052470523, 'Iteration': 67340}\n",
      "{'State': 15, 'Action': 0, 'Reward': 0.0, 'Error': 0.0, 'Time': 3.655571460723877, 'Alpha': 0.001, 'Epsilon': 0.001, 'Gamma': 0.96, 'Max V': 277.50646326577925, 'Mean V': 18.191900052470523, 'Iteration': 67360}\n",
      "{'State': 15, 'Action': 0, 'Reward': 0.0, 'Error': 0.0, 'Time': 3.6565704345703125, 'Alpha': 0.001, 'Epsilon': 0.001, 'Gamma': 0.96, 'Max V': 277.50646326577925, 'Mean V': 18.191900052470523, 'Iteration': 67380}\n",
      "{'State': 14, 'Action': 2, 'Reward': 1000.0, 'Error': 0.7224935367342207, 'Time': 3.661558151245117, 'Alpha': 0.001, 'Epsilon': 0.001, 'Gamma': 0.96, 'Max V': 278.2289568025135, 'Mean V': 18.237055898516413, 'Iteration': 67500}\n",
      "{'State': 15, 'Action': 0, 'Reward': 0.0, 'Error': 0.0, 'Time': 3.66255521774292, 'Alpha': 0.001, 'Epsilon': 0.001, 'Gamma': 0.96, 'Max V': 278.2289568025135, 'Mean V': 18.237055898516413, 'Iteration': 67520}\n",
      "{'State': 15, 'Action': 0, 'Reward': 0.0, 'Error': 0.0, 'Time': 3.6635513305664062, 'Alpha': 0.001, 'Epsilon': 0.001, 'Gamma': 0.96, 'Max V': 278.2289568025135, 'Mean V': 18.237055898516413, 'Iteration': 67540}\n",
      "{'State': 15, 'Action': 0, 'Reward': 0.0, 'Error': 0.0, 'Time': 3.6645493507385254, 'Alpha': 0.001, 'Epsilon': 0.001, 'Gamma': 0.96, 'Max V': 278.2289568025135, 'Mean V': 18.237055898516413, 'Iteration': 67560}\n",
      "{'State': 15, 'Action': 0, 'Reward': 0.0, 'Error': 0.0, 'Time': 3.6655445098876953, 'Alpha': 0.001, 'Epsilon': 0.001, 'Gamma': 0.96, 'Max V': 278.2289568025135, 'Mean V': 18.237055898516413, 'Iteration': 67580}\n",
      "{'State': 14, 'Action': 2, 'Reward': 1000.0, 'Error': 0.9888708417278995, 'Time': 3.6924376487731934, 'Alpha': 0.001, 'Epsilon': 0.001, 'Gamma': 0.96, 'Max V': 279.21782764424137, 'Mean V': 18.29885968340538, 'Iteration': 68000}\n",
      "{'State': 15, 'Action': 0, 'Reward': 0.0, 'Error': 0.0, 'Time': 3.693432569503784, 'Alpha': 0.001, 'Epsilon': 0.001, 'Gamma': 0.96, 'Max V': 282.6398278050053, 'Mean V': 18.529162085636926, 'Iteration': 68020}\n",
      "{'State': 15, 'Action': 0, 'Reward': 0.0, 'Error': 0.0, 'Time': 3.694431781768799, 'Alpha': 0.001, 'Epsilon': 0.001, 'Gamma': 0.96, 'Max V': 282.6398278050053, 'Mean V': 18.529162085636926, 'Iteration': 68040}\n",
      "{'State': 15, 'Action': 0, 'Reward': 0.0, 'Error': 0.0, 'Time': 3.695430040359497, 'Alpha': 0.001, 'Epsilon': 0.001, 'Gamma': 0.96, 'Max V': 282.6398278050053, 'Mean V': 18.529162085636926, 'Iteration': 68060}\n",
      "{'State': 15, 'Action': 0, 'Reward': 0.0, 'Error': 0.0, 'Time': 3.6974222660064697, 'Alpha': 0.001, 'Epsilon': 0.001, 'Gamma': 0.96, 'Max V': 282.6398278050053, 'Mean V': 18.529162085636926, 'Iteration': 68080}\n",
      "{'State': 15, 'Action': 0, 'Reward': 0.0, 'Error': 0.0, 'Time': 3.762286424636841, 'Alpha': 0.001, 'Epsilon': 0.001, 'Gamma': 0.96, 'Max V': 285.06924644495984, 'Mean V': 18.7133444610086, 'Iteration': 69420}\n",
      "{'State': 15, 'Action': 0, 'Reward': 0.0, 'Error': 0.0, 'Time': 3.763284921646118, 'Alpha': 0.001, 'Epsilon': 0.001, 'Gamma': 0.96, 'Max V': 285.06924644495984, 'Mean V': 18.7133444610086, 'Iteration': 69440}\n",
      "{'State': 15, 'Action': 0, 'Reward': 0.0, 'Error': 0.0, 'Time': 3.76427960395813, 'Alpha': 0.001, 'Epsilon': 0.001, 'Gamma': 0.96, 'Max V': 285.06924644495984, 'Mean V': 18.7133444610086, 'Iteration': 69460}\n",
      "{'State': 15, 'Action': 0, 'Reward': 0.0, 'Error': 0.0, 'Time': 3.76527738571167, 'Alpha': 0.001, 'Epsilon': 0.001, 'Gamma': 0.96, 'Max V': 285.06924644495984, 'Mean V': 18.7133444610086, 'Iteration': 69480}\n",
      "{'State': 15, 'Action': 0, 'Reward': 0.0, 'Error': 0.0, 'Time': 3.7662768363952637, 'Alpha': 0.001, 'Epsilon': 0.001, 'Gamma': 0.96, 'Max V': 285.06924644495984, 'Mean V': 18.7133444610086, 'Iteration': 69500}\n",
      "{'State': 15, 'Action': 0, 'Reward': 0.0, 'Error': 0.0, 'Time': 3.7672722339630127, 'Alpha': 0.001, 'Epsilon': 0.001, 'Gamma': 0.96, 'Max V': 285.06924644495984, 'Mean V': 18.7133444610086, 'Iteration': 69520}\n",
      "{'State': 15, 'Action': 0, 'Reward': 0.0, 'Error': 0.0, 'Time': 3.7682721614837646, 'Alpha': 0.001, 'Epsilon': 0.001, 'Gamma': 0.96, 'Max V': 285.06924644495984, 'Mean V': 18.7133444610086, 'Iteration': 69540}\n",
      "{'State': 15, 'Action': 0, 'Reward': 0.0, 'Error': 0.0, 'Time': 3.7692677974700928, 'Alpha': 0.001, 'Epsilon': 0.001, 'Gamma': 0.96, 'Max V': 285.06924644495984, 'Mean V': 18.7133444610086, 'Iteration': 69560}\n",
      "{'State': 15, 'Action': 0, 'Reward': 0.0, 'Error': 0.0, 'Time': 3.770268201828003, 'Alpha': 0.001, 'Epsilon': 0.001, 'Gamma': 0.96, 'Max V': 285.06924644495984, 'Mean V': 18.7133444610086, 'Iteration': 69580}\n",
      "{'State': 14, 'Action': 2, 'Reward': 1000.0, 'Error': 0.7226697238543075, 'Time': 3.7752504348754883, 'Alpha': 0.001, 'Epsilon': 0.001, 'Gamma': 0.96, 'Max V': 285.79191616881417, 'Mean V': 18.758511318749495, 'Iteration': 69700}\n",
      "{'State': 15, 'Action': 0, 'Reward': 0.0, 'Error': 0.0, 'Time': 3.791208505630493, 'Alpha': 0.001, 'Epsilon': 0.001, 'Gamma': 0.96, 'Max V': 286.50612425264535, 'Mean V': 18.81926902736194, 'Iteration': 70020}\n",
      "{'State': 15, 'Action': 0, 'Reward': 0.0, 'Error': 0.0, 'Time': 3.7922074794769287, 'Alpha': 0.001, 'Epsilon': 0.001, 'Gamma': 0.96, 'Max V': 286.50612425264535, 'Mean V': 18.81926902736194, 'Iteration': 70040}\n",
      "{'State': 15, 'Action': 0, 'Reward': 0.0, 'Error': 0.0, 'Time': 3.793203830718994, 'Alpha': 0.001, 'Epsilon': 0.001, 'Gamma': 0.96, 'Max V': 286.50612425264535, 'Mean V': 18.81926902736194, 'Iteration': 70060}\n",
      "{'State': 15, 'Action': 0, 'Reward': 0.0, 'Error': 0.0, 'Time': 3.7942042350769043, 'Alpha': 0.001, 'Epsilon': 0.001, 'Gamma': 0.96, 'Max V': 286.50612425264535, 'Mean V': 18.81926902736194, 'Iteration': 70080}\n",
      "{'State': 15, 'Action': 0, 'Reward': 0.0, 'Error': 0.0, 'Time': 3.809159994125366, 'Alpha': 0.001, 'Epsilon': 0.001, 'Gamma': 0.96, 'Max V': 286.50612425264535, 'Mean V': 18.81926902736194, 'Iteration': 70400}\n",
      "{'State': 15, 'Action': 0, 'Reward': 0.0, 'Error': 0.0, 'Time': 3.8101580142974854, 'Alpha': 0.001, 'Epsilon': 0.001, 'Gamma': 0.96, 'Max V': 286.50612425264535, 'Mean V': 18.81926902736194, 'Iteration': 70420}\n",
      "{'State': 15, 'Action': 0, 'Reward': 0.0, 'Error': 0.0, 'Time': 3.8111555576324463, 'Alpha': 0.001, 'Epsilon': 0.001, 'Gamma': 0.96, 'Max V': 286.50612425264535, 'Mean V': 18.81926902736194, 'Iteration': 70440}\n",
      "{'State': 15, 'Action': 0, 'Reward': 0.0, 'Error': 0.0, 'Time': 3.8121538162231445, 'Alpha': 0.001, 'Epsilon': 0.001, 'Gamma': 0.96, 'Max V': 286.50612425264535, 'Mean V': 18.81926902736194, 'Iteration': 70460}\n",
      "{'State': 15, 'Action': 0, 'Reward': 0.0, 'Error': 0.0, 'Time': 3.8131532669067383, 'Alpha': 0.001, 'Epsilon': 0.001, 'Gamma': 0.96, 'Max V': 286.50612425264535, 'Mean V': 18.81926902736194, 'Iteration': 70480}\n",
      "{'State': 15, 'Action': 0, 'Reward': 0.0, 'Error': 0.0, 'Time': 3.871995210647583, 'Alpha': 0.001, 'Epsilon': 0.001, 'Gamma': 0.96, 'Max V': 288.6611688078326, 'Mean V': 19.004172715535084, 'Iteration': 71720}\n",
      "{'State': 15, 'Action': 0, 'Reward': 0.0, 'Error': 0.0, 'Time': 3.8729894161224365, 'Alpha': 0.001, 'Epsilon': 0.001, 'Gamma': 0.96, 'Max V': 288.6611688078326, 'Mean V': 19.004172715535084, 'Iteration': 71740}\n",
      "{'State': 15, 'Action': 0, 'Reward': 0.0, 'Error': 0.0, 'Time': 3.8739869594573975, 'Alpha': 0.001, 'Epsilon': 0.001, 'Gamma': 0.96, 'Max V': 288.6611688078326, 'Mean V': 19.004172715535084, 'Iteration': 71760}\n",
      "{'State': 15, 'Action': 0, 'Reward': 0.0, 'Error': 0.0, 'Time': 3.8749852180480957, 'Alpha': 0.001, 'Epsilon': 0.001, 'Gamma': 0.96, 'Max V': 288.6611688078326, 'Mean V': 19.004172715535084, 'Iteration': 71780}\n",
      "{'State': 15, 'Action': 0, 'Reward': 0.0, 'Error': 0.0, 'Time': 3.9218592643737793, 'Alpha': 0.001, 'Epsilon': 0.001, 'Gamma': 0.96, 'Max V': 288.6611688078326, 'Mean V': 19.003603958983614, 'Iteration': 72700}\n",
      "{'State': 15, 'Action': 0, 'Reward': 0.0, 'Error': 0.0, 'Time': 3.9228575229644775, 'Alpha': 0.001, 'Epsilon': 0.001, 'Gamma': 0.96, 'Max V': 288.6611688078326, 'Mean V': 19.003603958983614, 'Iteration': 72720}\n",
      "{'State': 15, 'Action': 0, 'Reward': 0.0, 'Error': 0.0, 'Time': 3.925050735473633, 'Alpha': 0.001, 'Epsilon': 0.001, 'Gamma': 0.96, 'Max V': 288.6611688078326, 'Mean V': 19.003603958983614, 'Iteration': 72740}\n",
      "{'State': 15, 'Action': 0, 'Reward': 0.0, 'Error': 0.0, 'Time': 3.926053047180176, 'Alpha': 0.001, 'Epsilon': 0.001, 'Gamma': 0.96, 'Max V': 288.6611688078326, 'Mean V': 19.003603958983614, 'Iteration': 72760}\n",
      "{'State': 15, 'Action': 0, 'Reward': 0.0, 'Error': 0.0, 'Time': 3.9270477294921875, 'Alpha': 0.001, 'Epsilon': 0.001, 'Gamma': 0.96, 'Max V': 288.6611688078326, 'Mean V': 19.003603958983614, 'Iteration': 72780}\n",
      "{'State': 14, 'Action': 2, 'Reward': 1000.0, 'Error': 0.9884535532476867, 'Time': 3.9280450344085693, 'Alpha': 0.001, 'Epsilon': 0.001, 'Gamma': 0.96, 'Max V': 289.6496223610803, 'Mean V': 19.065382306061593, 'Iteration': 72800}\n",
      "{'State': 15, 'Action': 0, 'Reward': 0.0, 'Error': 0.0, 'Time': 3.9290425777435303, 'Alpha': 0.001, 'Epsilon': 0.001, 'Gamma': 0.96, 'Max V': 290.3599727387192, 'Mean V': 19.109779204664026, 'Iteration': 72820}\n",
      "{'State': 15, 'Action': 0, 'Reward': 0.0, 'Error': 0.0, 'Time': 3.930039644241333, 'Alpha': 0.001, 'Epsilon': 0.001, 'Gamma': 0.96, 'Max V': 290.3599727387192, 'Mean V': 19.109779204664026, 'Iteration': 72840}\n",
      "{'State': 15, 'Action': 0, 'Reward': 0.0, 'Error': 0.0, 'Time': 3.931037425994873, 'Alpha': 0.001, 'Epsilon': 0.001, 'Gamma': 0.96, 'Max V': 290.3599727387192, 'Mean V': 19.109779204664026, 'Iteration': 72860}\n",
      "{'State': 15, 'Action': 0, 'Reward': 0.0, 'Error': 0.0, 'Time': 3.9320342540740967, 'Alpha': 0.001, 'Epsilon': 0.001, 'Gamma': 0.96, 'Max V': 290.3599727387192, 'Mean V': 19.109779204664026, 'Iteration': 72880}\n",
      "{'State': 15, 'Action': 0, 'Reward': 0.0, 'Error': 0.0, 'Time': 3.9519810676574707, 'Alpha': 0.001, 'Epsilon': 0.001, 'Gamma': 0.96, 'Max V': 294.0316859263625, 'Mean V': 19.356640077450436, 'Iteration': 73320}\n",
      "{'State': 15, 'Action': 0, 'Reward': 0.0, 'Error': 0.0, 'Time': 3.9529781341552734, 'Alpha': 0.001, 'Epsilon': 0.001, 'Gamma': 0.96, 'Max V': 294.0316859263625, 'Mean V': 19.356640077450436, 'Iteration': 73340}\n",
      "{'State': 15, 'Action': 0, 'Reward': 0.0, 'Error': 0.0, 'Time': 3.9539756774902344, 'Alpha': 0.001, 'Epsilon': 0.001, 'Gamma': 0.96, 'Max V': 294.0316859263625, 'Mean V': 19.356640077450436, 'Iteration': 73360}\n",
      "{'State': 15, 'Action': 0, 'Reward': 0.0, 'Error': 0.0, 'Time': 3.954972982406616, 'Alpha': 0.001, 'Epsilon': 0.001, 'Gamma': 0.96, 'Max V': 294.0316859263625, 'Mean V': 19.356640077450436, 'Iteration': 73380}\n",
      "{'State': 15, 'Action': 0, 'Reward': 0.0, 'Error': 0.0, 'Time': 3.955970287322998, 'Alpha': 0.001, 'Epsilon': 0.001, 'Gamma': 0.96, 'Max V': 294.0316859263625, 'Mean V': 19.356640077450436, 'Iteration': 73400}\n",
      "{'State': 15, 'Action': 0, 'Reward': 0.0, 'Error': 0.0, 'Time': 3.956967830657959, 'Alpha': 0.001, 'Epsilon': 0.001, 'Gamma': 0.96, 'Max V': 294.0316859263625, 'Mean V': 19.356640077450436, 'Iteration': 73420}\n",
      "{'State': 15, 'Action': 0, 'Reward': 0.0, 'Error': 0.0, 'Time': 3.957965135574341, 'Alpha': 0.001, 'Epsilon': 0.001, 'Gamma': 0.96, 'Max V': 294.0316859263625, 'Mean V': 19.356640077450436, 'Iteration': 73440}\n",
      "{'State': 15, 'Action': 0, 'Reward': 0.0, 'Error': 0.0, 'Time': 3.9589624404907227, 'Alpha': 0.001, 'Epsilon': 0.001, 'Gamma': 0.96, 'Max V': 294.0316859263625, 'Mean V': 19.356640077450436, 'Iteration': 73460}\n",
      "{'State': 15, 'Action': 0, 'Reward': 0.0, 'Error': 0.0, 'Time': 3.9599595069885254, 'Alpha': 0.001, 'Epsilon': 0.001, 'Gamma': 0.96, 'Max V': 294.0316859263625, 'Mean V': 19.356640077450436, 'Iteration': 73480}\n",
      "{'State': 15, 'Action': 0, 'Reward': 0.0, 'Error': 0.0, 'Time': 3.9609570503234863, 'Alpha': 0.001, 'Epsilon': 0.001, 'Gamma': 0.96, 'Max V': 294.0316859263625, 'Mean V': 19.356640077450436, 'Iteration': 73500}\n",
      "{'State': 15, 'Action': 0, 'Reward': 0.0, 'Error': 0.0, 'Time': 3.961954355239868, 'Alpha': 0.001, 'Epsilon': 0.001, 'Gamma': 0.96, 'Max V': 294.0316859263625, 'Mean V': 19.356640077450436, 'Iteration': 73520}\n",
      "{'State': 15, 'Action': 0, 'Reward': 0.0, 'Error': 0.0, 'Time': 3.9629528522491455, 'Alpha': 0.001, 'Epsilon': 0.001, 'Gamma': 0.96, 'Max V': 294.0316859263625, 'Mean V': 19.356640077450436, 'Iteration': 73540}\n",
      "{'State': 15, 'Action': 0, 'Reward': 0.0, 'Error': 0.0, 'Time': 3.963949203491211, 'Alpha': 0.001, 'Epsilon': 0.001, 'Gamma': 0.96, 'Max V': 294.0316859263625, 'Mean V': 19.356640077450436, 'Iteration': 73560}\n",
      "{'State': 15, 'Action': 0, 'Reward': 0.0, 'Error': 0.0, 'Time': 3.9649462699890137, 'Alpha': 0.001, 'Epsilon': 0.001, 'Gamma': 0.96, 'Max V': 294.0316859263625, 'Mean V': 19.356640077450436, 'Iteration': 73580}\n",
      "{'State': 14, 'Action': 2, 'Reward': 1000.0, 'Error': 0.7059683140736375, 'Time': 3.9799063205718994, 'Alpha': 0.001, 'Epsilon': 0.001, 'Gamma': 0.96, 'Max V': 294.73765424043614, 'Mean V': 19.400763097080038, 'Iteration': 73900}\n",
      "{'State': 15, 'Action': 0, 'Reward': 0.0, 'Error': 0.0, 'Time': 3.980903387069702, 'Alpha': 0.001, 'Epsilon': 0.001, 'Gamma': 0.96, 'Max V': 294.73765424043614, 'Mean V': 19.400763097080038, 'Iteration': 73920}\n",
      "{'State': 15, 'Action': 0, 'Reward': 0.0, 'Error': 0.0, 'Time': 3.981900930404663, 'Alpha': 0.001, 'Epsilon': 0.001, 'Gamma': 0.96, 'Max V': 294.73765424043614, 'Mean V': 19.400763097080038, 'Iteration': 73940}\n",
      "{'State': 15, 'Action': 0, 'Reward': 0.0, 'Error': 0.0, 'Time': 3.982898235321045, 'Alpha': 0.001, 'Epsilon': 0.001, 'Gamma': 0.96, 'Max V': 294.73765424043614, 'Mean V': 19.400763097080038, 'Iteration': 73960}\n",
      "{'State': 15, 'Action': 0, 'Reward': 0.0, 'Error': 0.0, 'Time': 3.9838955402374268, 'Alpha': 0.001, 'Epsilon': 0.001, 'Gamma': 0.96, 'Max V': 294.73765424043614, 'Mean V': 19.400763097080038, 'Iteration': 73980}\n",
      "{'State': 15, 'Action': 0, 'Reward': 0.0, 'Error': 0.0, 'Time': 3.9858903884887695, 'Alpha': 0.001, 'Epsilon': 0.001, 'Gamma': 0.96, 'Max V': 296.43013886953224, 'Mean V': 19.523659005645914, 'Iteration': 74020}\n",
      "{'State': 15, 'Action': 0, 'Reward': 0.0, 'Error': 0.0, 'Time': 3.9868874549865723, 'Alpha': 0.001, 'Epsilon': 0.001, 'Gamma': 0.96, 'Max V': 296.43013886953224, 'Mean V': 19.523659005645914, 'Iteration': 74040}\n",
      "{'State': 15, 'Action': 0, 'Reward': 0.0, 'Error': 0.0, 'Time': 3.987884759902954, 'Alpha': 0.001, 'Epsilon': 0.001, 'Gamma': 0.96, 'Max V': 296.43013886953224, 'Mean V': 19.523659005645914, 'Iteration': 74060}\n",
      "{'State': 15, 'Action': 0, 'Reward': 0.0, 'Error': 0.0, 'Time': 3.988882303237915, 'Alpha': 0.001, 'Epsilon': 0.001, 'Gamma': 0.96, 'Max V': 296.43013886953224, 'Mean V': 19.523659005645914, 'Iteration': 74080}\n",
      "{'State': 15, 'Action': 0, 'Reward': 0.0, 'Error': 0.0, 'Time': 3.993868827819824, 'Alpha': 0.001, 'Epsilon': 0.001, 'Gamma': 0.96, 'Max V': 296.43013886953224, 'Mean V': 19.523659004775617, 'Iteration': 74200}\n",
      "{'State': 15, 'Action': 0, 'Reward': 0.0, 'Error': 0.0, 'Time': 3.994866132736206, 'Alpha': 0.001, 'Epsilon': 0.001, 'Gamma': 0.96, 'Max V': 296.43013886953224, 'Mean V': 19.523659004775617, 'Iteration': 74220}\n",
      "{'State': 15, 'Action': 0, 'Reward': 0.0, 'Error': 0.0, 'Time': 3.995863676071167, 'Alpha': 0.001, 'Epsilon': 0.001, 'Gamma': 0.96, 'Max V': 296.43013886953224, 'Mean V': 19.523659004775617, 'Iteration': 74240}\n",
      "{'State': 15, 'Action': 0, 'Reward': 0.0, 'Error': 0.0, 'Time': 3.996860980987549, 'Alpha': 0.001, 'Epsilon': 0.001, 'Gamma': 0.96, 'Max V': 296.43013886953224, 'Mean V': 19.523659004775617, 'Iteration': 74260}\n",
      "{'State': 15, 'Action': 0, 'Reward': 0.0, 'Error': 0.0, 'Time': 3.9978582859039307, 'Alpha': 0.001, 'Epsilon': 0.001, 'Gamma': 0.96, 'Max V': 296.43013886953224, 'Mean V': 19.523659004775617, 'Iteration': 74280}\n",
      "{'State': 14, 'Action': 2, 'Reward': 1000.0, 'Error': 0.7035698611304678, 'Time': 3.9988553524017334, 'Alpha': 0.001, 'Epsilon': 0.001, 'Gamma': 0.96, 'Max V': 297.1337087306627, 'Mean V': 19.56763212109627, 'Iteration': 74300}\n",
      "{'State': 15, 'Action': 0, 'Reward': 0.0, 'Error': 0.0, 'Time': 3.9998528957366943, 'Alpha': 0.001, 'Epsilon': 0.001, 'Gamma': 0.96, 'Max V': 297.1337087306627, 'Mean V': 19.56763212109627, 'Iteration': 74320}\n",
      "{'State': 15, 'Action': 0, 'Reward': 0.0, 'Error': 0.0, 'Time': 4.000850200653076, 'Alpha': 0.001, 'Epsilon': 0.001, 'Gamma': 0.96, 'Max V': 297.1337087306627, 'Mean V': 19.56763212109627, 'Iteration': 74340}\n",
      "{'State': 15, 'Action': 0, 'Reward': 0.0, 'Error': 0.0, 'Time': 4.001847505569458, 'Alpha': 0.001, 'Epsilon': 0.001, 'Gamma': 0.96, 'Max V': 297.1337087306627, 'Mean V': 19.56763212109627, 'Iteration': 74360}\n",
      "{'State': 15, 'Action': 0, 'Reward': 0.0, 'Error': 0.0, 'Time': 4.002845048904419, 'Alpha': 0.001, 'Epsilon': 0.001, 'Gamma': 0.96, 'Max V': 297.1337087306627, 'Mean V': 19.56763212109627, 'Iteration': 74380}\n",
      "{'State': 15, 'Action': 0, 'Reward': 0.0, 'Error': 0.0, 'Time': 4.047722816467285, 'Alpha': 0.001, 'Epsilon': 0.001, 'Gamma': 0.96, 'Max V': 297.1337087306627, 'Mean V': 19.567032133199735, 'Iteration': 75200}\n",
      "{'State': 15, 'Action': 0, 'Reward': 0.0, 'Error': 0.0, 'Time': 4.048723459243774, 'Alpha': 0.001, 'Epsilon': 0.001, 'Gamma': 0.96, 'Max V': 297.1337087306627, 'Mean V': 19.567032133199735, 'Iteration': 75220}\n",
      "{'State': 15, 'Action': 0, 'Reward': 0.0, 'Error': 0.0, 'Time': 4.049717426300049, 'Alpha': 0.001, 'Epsilon': 0.001, 'Gamma': 0.96, 'Max V': 297.1337087306627, 'Mean V': 19.567032133199735, 'Iteration': 75240}\n",
      "{'State': 15, 'Action': 0, 'Reward': 0.0, 'Error': 0.0, 'Time': 4.050714731216431, 'Alpha': 0.001, 'Epsilon': 0.001, 'Gamma': 0.96, 'Max V': 297.1337087306627, 'Mean V': 19.567032133199735, 'Iteration': 75260}\n",
      "{'State': 15, 'Action': 0, 'Reward': 0.0, 'Error': 0.0, 'Time': 4.051712274551392, 'Alpha': 0.001, 'Epsilon': 0.001, 'Gamma': 0.96, 'Max V': 297.1337087306627, 'Mean V': 19.567032133199735, 'Iteration': 75280}\n",
      "{'State': 15, 'Action': 0, 'Reward': 0.0, 'Error': 0.0, 'Time': 4.080634593963623, 'Alpha': 0.001, 'Epsilon': 0.001, 'Gamma': 0.96, 'Max V': 297.83657502193205, 'Mean V': 19.627550935273504, 'Iteration': 75920}\n",
      "{'State': 15, 'Action': 0, 'Reward': 0.0, 'Error': 0.0, 'Time': 4.081632137298584, 'Alpha': 0.001, 'Epsilon': 0.001, 'Gamma': 0.96, 'Max V': 297.83657502193205, 'Mean V': 19.627550935273504, 'Iteration': 75940}\n",
      "{'State': 15, 'Action': 0, 'Reward': 0.0, 'Error': 0.0, 'Time': 4.082629680633545, 'Alpha': 0.001, 'Epsilon': 0.001, 'Gamma': 0.96, 'Max V': 297.83657502193205, 'Mean V': 19.627550935273504, 'Iteration': 75960}\n",
      "{'State': 15, 'Action': 0, 'Reward': 0.0, 'Error': 0.0, 'Time': 4.083626747131348, 'Alpha': 0.001, 'Epsilon': 0.001, 'Gamma': 0.96, 'Max V': 297.83657502193205, 'Mean V': 19.627550935273504, 'Iteration': 75980}\n",
      "{'State': 14, 'Action': 2, 'Reward': 1000.0, 'Error': 0.7014520431312056, 'Time': 4.1763787269592285, 'Alpha': 0.001, 'Epsilon': 0.001, 'Gamma': 0.96, 'Max V': 299.2494089119257, 'Mean V': 19.73303442991437, 'Iteration': 78000}\n",
      "{'State': 15, 'Action': 0, 'Reward': 0.0, 'Error': 0.0, 'Time': 4.17737603187561, 'Alpha': 0.001, 'Epsilon': 0.001, 'Gamma': 0.96, 'Max V': 299.2494089119257, 'Mean V': 19.73303442991437, 'Iteration': 78020}\n",
      "{'State': 15, 'Action': 0, 'Reward': 0.0, 'Error': 0.0, 'Time': 4.178373098373413, 'Alpha': 0.001, 'Epsilon': 0.001, 'Gamma': 0.96, 'Max V': 299.2494089119257, 'Mean V': 19.73303442991437, 'Iteration': 78040}\n",
      "{'State': 15, 'Action': 0, 'Reward': 0.0, 'Error': 0.0, 'Time': 4.179371356964111, 'Alpha': 0.001, 'Epsilon': 0.001, 'Gamma': 0.96, 'Max V': 299.2494089119257, 'Mean V': 19.73303442991437, 'Iteration': 78060}\n",
      "{'State': 15, 'Action': 0, 'Reward': 0.0, 'Error': 0.0, 'Time': 4.180368185043335, 'Alpha': 0.001, 'Epsilon': 0.001, 'Gamma': 0.96, 'Max V': 299.2494089119257, 'Mean V': 19.73303442991437, 'Iteration': 78080}\n",
      "{'State': 14, 'Action': 2, 'Reward': 1000.0, 'Error': 0.988030023643523, 'Time': 4.226245641708374, 'Alpha': 0.001, 'Epsilon': 0.001, 'Gamma': 0.96, 'Max V': 300.23743893556923, 'Mean V': 19.794771003950718, 'Iteration': 78900}\n",
      "{'State': 15, 'Action': 0, 'Reward': 0.0, 'Error': 0.0, 'Time': 4.227243423461914, 'Alpha': 0.001, 'Epsilon': 0.001, 'Gamma': 0.96, 'Max V': 302.9111670404135, 'Mean V': 19.961879010503484, 'Iteration': 78920}\n",
      "{'State': 15, 'Action': 0, 'Reward': 0.0, 'Error': 0.0, 'Time': 4.229238033294678, 'Alpha': 0.001, 'Epsilon': 0.001, 'Gamma': 0.96, 'Max V': 302.9111670404135, 'Mean V': 19.961879010503484, 'Iteration': 78940}\n",
      "{'State': 15, 'Action': 0, 'Reward': 0.0, 'Error': 0.0, 'Time': 4.23023533821106, 'Alpha': 0.001, 'Epsilon': 0.001, 'Gamma': 0.96, 'Max V': 302.9111670404135, 'Mean V': 19.961879010503484, 'Iteration': 78960}\n",
      "{'State': 15, 'Action': 0, 'Reward': 0.0, 'Error': 0.0, 'Time': 4.232229709625244, 'Alpha': 0.001, 'Epsilon': 0.001, 'Gamma': 0.96, 'Max V': 302.9111670404135, 'Mean V': 19.961879010503484, 'Iteration': 78980}\n",
      "{'State': 14, 'Action': 2, 'Reward': 1000.0, 'Error': 0.7062982588302591, 'Time': 4.239211559295654, 'Alpha': 0.001, 'Epsilon': 0.001, 'Gamma': 0.96, 'Max V': 303.61746529924375, 'Mean V': 20.006022651680375, 'Iteration': 79100}\n",
      "{'State': 15, 'Action': 0, 'Reward': 0.0, 'Error': 0.0, 'Time': 4.24120569229126, 'Alpha': 0.001, 'Epsilon': 0.001, 'Gamma': 0.96, 'Max V': 304.3138478339445, 'Mean V': 20.06708190920094, 'Iteration': 79120}\n",
      "{'State': 15, 'Action': 0, 'Reward': 0.0, 'Error': 0.0, 'Time': 4.242203235626221, 'Alpha': 0.001, 'Epsilon': 0.001, 'Gamma': 0.96, 'Max V': 304.3138478339445, 'Mean V': 20.06708190920094, 'Iteration': 79140}\n",
      "{'State': 15, 'Action': 0, 'Reward': 0.0, 'Error': 0.0, 'Time': 4.244197607040405, 'Alpha': 0.001, 'Epsilon': 0.001, 'Gamma': 0.96, 'Max V': 304.3138478339445, 'Mean V': 20.06708190920094, 'Iteration': 79160}\n",
      "{'State': 15, 'Action': 0, 'Reward': 0.0, 'Error': 0.0, 'Time': 4.245195150375366, 'Alpha': 0.001, 'Epsilon': 0.001, 'Gamma': 0.96, 'Max V': 304.3138478339445, 'Mean V': 20.06708190920094, 'Iteration': 79180}\n",
      "{'State': 15, 'Action': 0, 'Reward': 0.0, 'Error': 0.0, 'Time': 4.2591588497161865, 'Alpha': 0.001, 'Epsilon': 0.001, 'Gamma': 0.96, 'Max V': 304.3138478339445, 'Mean V': 20.067059771637656, 'Iteration': 79400}\n",
      "{'State': 15, 'Action': 0, 'Reward': 0.0, 'Error': 0.0, 'Time': 4.261154651641846, 'Alpha': 0.001, 'Epsilon': 0.001, 'Gamma': 0.96, 'Max V': 304.3138478339445, 'Mean V': 20.067059771637656, 'Iteration': 79420}\n",
      "{'State': 15, 'Action': 0, 'Reward': 0.0, 'Error': 0.0, 'Time': 4.262150764465332, 'Alpha': 0.001, 'Epsilon': 0.001, 'Gamma': 0.96, 'Max V': 304.3138478339445, 'Mean V': 20.067059771637656, 'Iteration': 79440}\n",
      "{'State': 15, 'Action': 0, 'Reward': 0.0, 'Error': 0.0, 'Time': 4.263148307800293, 'Alpha': 0.001, 'Epsilon': 0.001, 'Gamma': 0.96, 'Max V': 304.3138478339445, 'Mean V': 20.067059771637656, 'Iteration': 79460}\n",
      "{'State': 15, 'Action': 0, 'Reward': 0.0, 'Error': 0.0, 'Time': 4.264145374298096, 'Alpha': 0.001, 'Epsilon': 0.001, 'Gamma': 0.96, 'Max V': 304.3138478339445, 'Mean V': 20.067059771637656, 'Iteration': 79480}\n",
      "{'State': 15, 'Action': 0, 'Reward': 0.0, 'Error': 0.0, 'Time': 4.31500768661499, 'Alpha': 0.001, 'Epsilon': 0.001, 'Gamma': 0.96, 'Max V': 305.01897867750773, 'Mean V': 20.128708345177067, 'Iteration': 80200}\n",
      "{'State': 15, 'Action': 0, 'Reward': 0.0, 'Error': 0.0, 'Time': 4.316005229949951, 'Alpha': 0.001, 'Epsilon': 0.001, 'Gamma': 0.96, 'Max V': 305.01897867750773, 'Mean V': 20.128708345177067, 'Iteration': 80220}\n",
      "{'State': 15, 'Action': 0, 'Reward': 0.0, 'Error': 0.0, 'Time': 4.317002534866333, 'Alpha': 0.001, 'Epsilon': 0.001, 'Gamma': 0.96, 'Max V': 305.01897867750773, 'Mean V': 20.128708345177067, 'Iteration': 80240}\n",
      "{'State': 15, 'Action': 0, 'Reward': 0.0, 'Error': 0.0, 'Time': 4.317999839782715, 'Alpha': 0.001, 'Epsilon': 0.001, 'Gamma': 0.96, 'Max V': 305.01897867750773, 'Mean V': 20.128708345177067, 'Iteration': 80260}\n",
      "{'State': 15, 'Action': 0, 'Reward': 0.0, 'Error': 0.0, 'Time': 4.318997383117676, 'Alpha': 0.001, 'Epsilon': 0.001, 'Gamma': 0.96, 'Max V': 305.01897867750773, 'Mean V': 20.128708345177067, 'Iteration': 80280}\n",
      "{'State': 15, 'Action': 0, 'Reward': 0.0, 'Error': 0.0, 'Time': 4.332959890365601, 'Alpha': 0.001, 'Epsilon': 0.001, 'Gamma': 0.96, 'Max V': 305.01897867750773, 'Mean V': 20.128708095889866, 'Iteration': 80600}\n",
      "{'State': 15, 'Action': 0, 'Reward': 0.0, 'Error': 0.0, 'Time': 4.333957195281982, 'Alpha': 0.001, 'Epsilon': 0.001, 'Gamma': 0.96, 'Max V': 305.01897867750773, 'Mean V': 20.128708095889866, 'Iteration': 80620}\n",
      "{'State': 15, 'Action': 0, 'Reward': 0.0, 'Error': 0.0, 'Time': 4.334954500198364, 'Alpha': 0.001, 'Epsilon': 0.001, 'Gamma': 0.96, 'Max V': 305.01897867750773, 'Mean V': 20.128708095889866, 'Iteration': 80640}\n",
      "{'State': 15, 'Action': 0, 'Reward': 0.0, 'Error': 0.0, 'Time': 4.335951805114746, 'Alpha': 0.001, 'Epsilon': 0.001, 'Gamma': 0.96, 'Max V': 305.01897867750773, 'Mean V': 20.128708095889866, 'Iteration': 80660}\n",
      "{'State': 15, 'Action': 0, 'Reward': 0.0, 'Error': 0.0, 'Time': 4.336949348449707, 'Alpha': 0.001, 'Epsilon': 0.001, 'Gamma': 0.96, 'Max V': 305.01897867750773, 'Mean V': 20.128708095889866, 'Iteration': 80680}\n",
      "{'State': 15, 'Action': 0, 'Reward': 0.0, 'Error': 0.0, 'Time': 4.356895685195923, 'Alpha': 0.001, 'Epsilon': 0.001, 'Gamma': 0.96, 'Max V': 305.01897867750773, 'Mean V': 20.128093115362134, 'Iteration': 81100}\n",
      "{'State': 15, 'Action': 0, 'Reward': 0.0, 'Error': 0.0, 'Time': 4.356895685195923, 'Alpha': 0.001, 'Epsilon': 0.001, 'Gamma': 0.96, 'Max V': 305.01897867750773, 'Mean V': 20.128093115362134, 'Iteration': 81120}\n",
      "{'State': 15, 'Action': 0, 'Reward': 0.0, 'Error': 0.0, 'Time': 4.357893228530884, 'Alpha': 0.001, 'Epsilon': 0.001, 'Gamma': 0.96, 'Max V': 305.01897867750773, 'Mean V': 20.128093115362134, 'Iteration': 81140}\n",
      "{'State': 15, 'Action': 0, 'Reward': 0.0, 'Error': 0.0, 'Time': 4.358890533447266, 'Alpha': 0.001, 'Epsilon': 0.001, 'Gamma': 0.96, 'Max V': 305.01897867750773, 'Mean V': 20.128093115362134, 'Iteration': 81160}\n",
      "{'State': 15, 'Action': 0, 'Reward': 0.0, 'Error': 0.0, 'Time': 4.3598878383636475, 'Alpha': 0.001, 'Epsilon': 0.001, 'Gamma': 0.96, 'Max V': 305.01897867750773, 'Mean V': 20.128093115362134, 'Iteration': 81180}\n",
      "{'State': 14, 'Action': 2, 'Reward': 1000.0, 'Error': 0.6949810213224923, 'Time': 4.3658716678619385, 'Alpha': 0.001, 'Epsilon': 0.001, 'Gamma': 0.96, 'Max V': 305.71395969883025, 'Mean V': 20.17152942919479, 'Iteration': 81300}\n",
      "{'State': 15, 'Action': 0, 'Reward': 0.0, 'Error': 0.0, 'Time': 4.366869211196899, 'Alpha': 0.001, 'Epsilon': 0.001, 'Gamma': 0.96, 'Max V': 305.71395969883025, 'Mean V': 20.17152942919479, 'Iteration': 81320}\n",
      "{'State': 15, 'Action': 0, 'Reward': 0.0, 'Error': 0.0, 'Time': 4.367866516113281, 'Alpha': 0.001, 'Epsilon': 0.001, 'Gamma': 0.96, 'Max V': 305.71395969883025, 'Mean V': 20.17152942919479, 'Iteration': 81340}\n",
      "{'State': 15, 'Action': 0, 'Reward': 0.0, 'Error': 0.0, 'Time': 4.368863821029663, 'Alpha': 0.001, 'Epsilon': 0.001, 'Gamma': 0.96, 'Max V': 305.71395969883025, 'Mean V': 20.17152942919479, 'Iteration': 81360}\n",
      "{'State': 15, 'Action': 0, 'Reward': 0.0, 'Error': 0.0, 'Time': 4.369861125946045, 'Alpha': 0.001, 'Epsilon': 0.001, 'Gamma': 0.96, 'Max V': 305.71395969883025, 'Mean V': 20.17152942919479, 'Iteration': 81380}\n",
      "{'State': 14, 'Action': 2, 'Reward': 1000.0, 'Error': 0.9877714416120469, 'Time': 4.374847888946533, 'Alpha': 0.001, 'Epsilon': 0.001, 'Gamma': 0.96, 'Max V': 306.7017311404423, 'Mean V': 20.233265144295544, 'Iteration': 81500}\n",
      "{'State': 15, 'Action': 0, 'Reward': 0.0, 'Error': 0.0, 'Time': 4.375845193862915, 'Alpha': 0.001, 'Epsilon': 0.001, 'Gamma': 0.96, 'Max V': 307.39502940930186, 'Mean V': 20.276596286099267, 'Iteration': 81520}\n",
      "{'State': 15, 'Action': 0, 'Reward': 0.0, 'Error': 0.0, 'Time': 4.376842260360718, 'Alpha': 0.001, 'Epsilon': 0.001, 'Gamma': 0.96, 'Max V': 307.39502940930186, 'Mean V': 20.276596286099267, 'Iteration': 81540}\n",
      "{'State': 15, 'Action': 0, 'Reward': 0.0, 'Error': 0.0, 'Time': 4.3778395652771, 'Alpha': 0.001, 'Epsilon': 0.001, 'Gamma': 0.96, 'Max V': 307.39502940930186, 'Mean V': 20.276596286099267, 'Iteration': 81560}\n",
      "{'State': 15, 'Action': 0, 'Reward': 0.0, 'Error': 0.0, 'Time': 4.3788371086120605, 'Alpha': 0.001, 'Epsilon': 0.001, 'Gamma': 0.96, 'Max V': 307.39502940930186, 'Mean V': 20.276596286099267, 'Iteration': 81580}\n",
      "{'State': 15, 'Action': 0, 'Reward': 0.0, 'Error': 0.0, 'Time': 4.379835367202759, 'Alpha': 0.001, 'Epsilon': 0.001, 'Gamma': 0.96, 'Max V': 307.39502940930186, 'Mean V': 20.276596286099267, 'Iteration': 81600}\n",
      "{'State': 15, 'Action': 0, 'Reward': 0.0, 'Error': 0.0, 'Time': 4.380831956863403, 'Alpha': 0.001, 'Epsilon': 0.001, 'Gamma': 0.96, 'Max V': 307.39502940930186, 'Mean V': 20.276596286099267, 'Iteration': 81620}\n",
      "{'State': 15, 'Action': 0, 'Reward': 0.0, 'Error': 0.0, 'Time': 4.381829261779785, 'Alpha': 0.001, 'Epsilon': 0.001, 'Gamma': 0.96, 'Max V': 307.39502940930186, 'Mean V': 20.276596286099267, 'Iteration': 81640}\n",
      "{'State': 15, 'Action': 0, 'Reward': 0.0, 'Error': 0.0, 'Time': 4.382826566696167, 'Alpha': 0.001, 'Epsilon': 0.001, 'Gamma': 0.96, 'Max V': 307.39502940930186, 'Mean V': 20.276596286099267, 'Iteration': 81660}\n",
      "{'State': 15, 'Action': 0, 'Reward': 0.0, 'Error': 0.0, 'Time': 4.383823871612549, 'Alpha': 0.001, 'Epsilon': 0.001, 'Gamma': 0.96, 'Max V': 307.39502940930186, 'Mean V': 20.276596286099267, 'Iteration': 81680}\n",
      "{'State': 15, 'Action': 0, 'Reward': 0.0, 'Error': 0.0, 'Time': 4.393797159194946, 'Alpha': 0.001, 'Epsilon': 0.001, 'Gamma': 0.96, 'Max V': 308.097060700373, 'Mean V': 20.33782321245352, 'Iteration': 81900}\n",
      "{'State': 15, 'Action': 0, 'Reward': 0.0, 'Error': 0.0, 'Time': 4.394794225692749, 'Alpha': 0.001, 'Epsilon': 0.001, 'Gamma': 0.96, 'Max V': 308.097060700373, 'Mean V': 20.33782321245352, 'Iteration': 81920}\n",
      "{'State': 15, 'Action': 0, 'Reward': 0.0, 'Error': 0.0, 'Time': 4.39579176902771, 'Alpha': 0.001, 'Epsilon': 0.001, 'Gamma': 0.96, 'Max V': 308.097060700373, 'Mean V': 20.33782321245352, 'Iteration': 81940}\n",
      "{'State': 15, 'Action': 0, 'Reward': 0.0, 'Error': 0.0, 'Time': 4.396789312362671, 'Alpha': 0.001, 'Epsilon': 0.001, 'Gamma': 0.96, 'Max V': 308.097060700373, 'Mean V': 20.33782321245352, 'Iteration': 81960}\n",
      "{'State': 15, 'Action': 0, 'Reward': 0.0, 'Error': 0.0, 'Time': 4.397786378860474, 'Alpha': 0.001, 'Epsilon': 0.001, 'Gamma': 0.96, 'Max V': 308.097060700373, 'Mean V': 20.33782321245352, 'Iteration': 81980}\n",
      "{'State': 15, 'Action': 0, 'Reward': 0.0, 'Error': 0.0, 'Time': 4.408756971359253, 'Alpha': 0.001, 'Epsilon': 0.001, 'Gamma': 0.96, 'Max V': 308.7889636396726, 'Mean V': 20.39902515227218, 'Iteration': 82220}\n",
      "{'State': 15, 'Action': 0, 'Reward': 0.0, 'Error': 0.0, 'Time': 4.409754514694214, 'Alpha': 0.001, 'Epsilon': 0.001, 'Gamma': 0.96, 'Max V': 308.7889636396726, 'Mean V': 20.39902515227218, 'Iteration': 82240}\n",
      "{'State': 15, 'Action': 0, 'Reward': 0.0, 'Error': 0.0, 'Time': 4.410751819610596, 'Alpha': 0.001, 'Epsilon': 0.001, 'Gamma': 0.96, 'Max V': 308.7889636396726, 'Mean V': 20.39902515227218, 'Iteration': 82260}\n",
      "{'State': 15, 'Action': 0, 'Reward': 0.0, 'Error': 0.0, 'Time': 4.4117491245269775, 'Alpha': 0.001, 'Epsilon': 0.001, 'Gamma': 0.96, 'Max V': 308.7889636396726, 'Mean V': 20.39902515227218, 'Iteration': 82280}\n",
      "{'State': 15, 'Action': 0, 'Reward': 0.0, 'Error': 0.0, 'Time': 4.430698394775391, 'Alpha': 0.001, 'Epsilon': 0.001, 'Gamma': 0.96, 'Max V': 308.7889636396726, 'Mean V': 20.39902515073376, 'Iteration': 82700}\n",
      "{'State': 15, 'Action': 0, 'Reward': 0.0, 'Error': 0.0, 'Time': 4.4316956996917725, 'Alpha': 0.001, 'Epsilon': 0.001, 'Gamma': 0.96, 'Max V': 308.7889636396726, 'Mean V': 20.39902515073376, 'Iteration': 82720}\n",
      "{'State': 15, 'Action': 0, 'Reward': 0.0, 'Error': 0.0, 'Time': 4.433692693710327, 'Alpha': 0.001, 'Epsilon': 0.001, 'Gamma': 0.96, 'Max V': 308.7889636396726, 'Mean V': 20.39902515073376, 'Iteration': 82740}\n",
      "{'State': 15, 'Action': 0, 'Reward': 0.0, 'Error': 0.0, 'Time': 4.434687852859497, 'Alpha': 0.001, 'Epsilon': 0.001, 'Gamma': 0.96, 'Max V': 308.7889636396726, 'Mean V': 20.39902515073376, 'Iteration': 82760}\n",
      "{'State': 15, 'Action': 0, 'Reward': 0.0, 'Error': 0.0, 'Time': 4.435685157775879, 'Alpha': 0.001, 'Epsilon': 0.001, 'Gamma': 0.96, 'Max V': 308.7889636396726, 'Mean V': 20.39902515073376, 'Iteration': 82780}\n",
      "{'State': 14, 'Action': 2, 'Reward': 1000.0, 'Error': 0.7006281846492609, 'Time': 4.440671682357788, 'Alpha': 0.001, 'Epsilon': 0.001, 'Gamma': 0.96, 'Max V': 309.48959182432185, 'Mean V': 20.442814400785895, 'Iteration': 82900}\n",
      "{'State': 15, 'Action': 0, 'Reward': 0.0, 'Error': 0.0, 'Time': 4.44166898727417, 'Alpha': 0.001, 'Epsilon': 0.001, 'Gamma': 0.96, 'Max V': 310.87960539405674, 'Mean V': 20.56562686465177, 'Iteration': 82920}\n",
      "{'State': 15, 'Action': 0, 'Reward': 0.0, 'Error': 0.0, 'Time': 4.442666292190552, 'Alpha': 0.001, 'Epsilon': 0.001, 'Gamma': 0.96, 'Max V': 310.87960539405674, 'Mean V': 20.56562686465177, 'Iteration': 82940}\n",
      "{'State': 15, 'Action': 0, 'Reward': 0.0, 'Error': 0.0, 'Time': 4.443663597106934, 'Alpha': 0.001, 'Epsilon': 0.001, 'Gamma': 0.96, 'Max V': 310.87960539405674, 'Mean V': 20.56562686465177, 'Iteration': 82960}\n",
      "{'State': 15, 'Action': 0, 'Reward': 0.0, 'Error': 0.0, 'Time': 4.4446611404418945, 'Alpha': 0.001, 'Epsilon': 0.001, 'Gamma': 0.96, 'Max V': 310.87960539405674, 'Mean V': 20.56562686465177, 'Iteration': 82980}\n",
      "{'State': 15, 'Action': 0, 'Reward': 0.0, 'Error': 0.0, 'Time': 4.4885454177856445, 'Alpha': 0.001, 'Epsilon': 0.001, 'Gamma': 0.96, 'Max V': 313.5418408275096, 'Mean V': 20.749353154946462, 'Iteration': 83920}\n",
      "{'State': 15, 'Action': 0, 'Reward': 0.0, 'Error': 0.0, 'Time': 4.4895408153533936, 'Alpha': 0.001, 'Epsilon': 0.001, 'Gamma': 0.96, 'Max V': 313.5418408275096, 'Mean V': 20.749353154946462, 'Iteration': 83940}\n",
      "{'State': 15, 'Action': 0, 'Reward': 0.0, 'Error': 0.0, 'Time': 4.4895408153533936, 'Alpha': 0.001, 'Epsilon': 0.001, 'Gamma': 0.96, 'Max V': 313.5418408275096, 'Mean V': 20.749353154946462, 'Iteration': 83960}\n",
      "{'State': 15, 'Action': 0, 'Reward': 0.0, 'Error': 0.0, 'Time': 4.4905383586883545, 'Alpha': 0.001, 'Epsilon': 0.001, 'Gamma': 0.96, 'Max V': 313.5418408275096, 'Mean V': 20.749353154946462, 'Iteration': 83980}\n",
      "{'State': 15, 'Action': 0, 'Reward': 0.0, 'Error': 0.0, 'Time': 4.493530750274658, 'Alpha': 0.001, 'Epsilon': 0.001, 'Gamma': 0.96, 'Max V': 317.1875932158779, 'Mean V': 20.995562331577418, 'Iteration': 84020}\n",
      "{'State': 15, 'Action': 0, 'Reward': 0.0, 'Error': 0.0, 'Time': 4.494527578353882, 'Alpha': 0.001, 'Epsilon': 0.001, 'Gamma': 0.96, 'Max V': 317.1875932158779, 'Mean V': 20.995562331577418, 'Iteration': 84040}\n",
      "{'State': 15, 'Action': 0, 'Reward': 0.0, 'Error': 0.0, 'Time': 4.495524883270264, 'Alpha': 0.001, 'Epsilon': 0.001, 'Gamma': 0.96, 'Max V': 317.1875932158779, 'Mean V': 20.995562331577418, 'Iteration': 84060}\n",
      "{'State': 15, 'Action': 0, 'Reward': 0.0, 'Error': 0.0, 'Time': 4.495524883270264, 'Alpha': 0.001, 'Epsilon': 0.001, 'Gamma': 0.96, 'Max V': 317.1875932158779, 'Mean V': 20.995562331577418, 'Iteration': 84080}\n",
      "{'State': 15, 'Action': 0, 'Reward': 0.0, 'Error': 0.0, 'Time': 4.5164690017700195, 'Alpha': 0.001, 'Epsilon': 0.001, 'Gamma': 0.96, 'Max V': 319.84301653720485, 'Mean V': 21.179992412511833, 'Iteration': 84520}\n",
      "{'State': 15, 'Action': 0, 'Reward': 0.0, 'Error': 0.0, 'Time': 4.517466306686401, 'Alpha': 0.001, 'Epsilon': 0.001, 'Gamma': 0.96, 'Max V': 319.84301653720485, 'Mean V': 21.179992412511833, 'Iteration': 84540}\n",
      "{'State': 15, 'Action': 0, 'Reward': 0.0, 'Error': 0.0, 'Time': 4.518463611602783, 'Alpha': 0.001, 'Epsilon': 0.001, 'Gamma': 0.96, 'Max V': 319.84301653720485, 'Mean V': 21.179992412511833, 'Iteration': 84560}\n",
      "{'State': 15, 'Action': 0, 'Reward': 0.0, 'Error': 0.0, 'Time': 4.518463611602783, 'Alpha': 0.001, 'Epsilon': 0.001, 'Gamma': 0.96, 'Max V': 319.84301653720485, 'Mean V': 21.179992412511833, 'Iteration': 84580}\n",
      "{'State': 14, 'Action': 2, 'Reward': 1000.0, 'Error': 0.6801569834627951, 'Time': 4.519460916519165, 'Alpha': 0.001, 'Epsilon': 0.001, 'Gamma': 0.96, 'Max V': 320.5231735206676, 'Mean V': 21.222502223978257, 'Iteration': 84600}\n",
      "{'State': 15, 'Action': 0, 'Reward': 0.0, 'Error': 0.0, 'Time': 4.521456718444824, 'Alpha': 0.001, 'Epsilon': 0.001, 'Gamma': 0.96, 'Max V': 320.5231735206676, 'Mean V': 21.222502223978257, 'Iteration': 84620}\n",
      "{'State': 15, 'Action': 0, 'Reward': 0.0, 'Error': 0.0, 'Time': 4.521456718444824, 'Alpha': 0.001, 'Epsilon': 0.001, 'Gamma': 0.96, 'Max V': 320.5231735206676, 'Mean V': 21.222502223978257, 'Iteration': 84640}\n",
      "{'State': 15, 'Action': 0, 'Reward': 0.0, 'Error': 0.0, 'Time': 4.52245306968689, 'Alpha': 0.001, 'Epsilon': 0.001, 'Gamma': 0.96, 'Max V': 320.5231735206676, 'Mean V': 21.222502223978257, 'Iteration': 84660}\n",
      "{'State': 15, 'Action': 0, 'Reward': 0.0, 'Error': 0.0, 'Time': 4.5234503746032715, 'Alpha': 0.001, 'Epsilon': 0.001, 'Gamma': 0.96, 'Max V': 320.5231735206676, 'Mean V': 21.222502223978257, 'Iteration': 84680}\n",
      "{'State': 14, 'Action': 2, 'Reward': 1000.0, 'Error': 0.6897024820695733, 'Time': 4.525445222854614, 'Alpha': 0.001, 'Epsilon': 0.001, 'Gamma': 0.96, 'Max V': 321.2128760027372, 'Mean V': 21.265608629107604, 'Iteration': 84700}\n",
      "{'State': 14, 'Action': 2, 'Reward': 1000.0, 'Error': 0.6890026530997522, 'Time': 4.529434442520142, 'Alpha': 0.001, 'Epsilon': 0.001, 'Gamma': 0.96, 'Max V': 321.9018786558369, 'Mean V': 21.308005293130535, 'Iteration': 84800}\n",
      "{'State': 15, 'Action': 0, 'Reward': 0.0, 'Error': 0.0, 'Time': 4.5693278312683105, 'Alpha': 0.001, 'Epsilon': 0.001, 'Gamma': 0.96, 'Max V': 323.56611357811005, 'Mean V': 21.42924281287902, 'Iteration': 85620}\n",
      "{'State': 15, 'Action': 0, 'Reward': 0.0, 'Error': 0.0, 'Time': 4.570324659347534, 'Alpha': 0.001, 'Epsilon': 0.001, 'Gamma': 0.96, 'Max V': 323.56611357811005, 'Mean V': 21.42924281287902, 'Iteration': 85640}\n",
      "{'State': 15, 'Action': 0, 'Reward': 0.0, 'Error': 0.0, 'Time': 4.571322441101074, 'Alpha': 0.001, 'Epsilon': 0.001, 'Gamma': 0.96, 'Max V': 323.56611357811005, 'Mean V': 21.42924281287902, 'Iteration': 85660}\n",
      "{'State': 15, 'Action': 0, 'Reward': 0.0, 'Error': 0.0, 'Time': 4.572319507598877, 'Alpha': 0.001, 'Epsilon': 0.001, 'Gamma': 0.96, 'Max V': 323.56611357811005, 'Mean V': 21.42924281287902, 'Iteration': 85680}\n",
      "{'State': 15, 'Action': 0, 'Reward': 0.0, 'Error': 0.0, 'Time': 4.587279558181763, 'Alpha': 0.001, 'Epsilon': 0.001, 'Gamma': 0.96, 'Max V': 323.56611357811005, 'Mean V': 21.42924281287902, 'Iteration': 86000}\n",
      "{'State': 15, 'Action': 0, 'Reward': 0.0, 'Error': 0.0, 'Time': 4.588277101516724, 'Alpha': 0.001, 'Epsilon': 0.001, 'Gamma': 0.96, 'Max V': 323.56611357811005, 'Mean V': 21.42924281287902, 'Iteration': 86020}\n",
      "{'State': 15, 'Action': 0, 'Reward': 0.0, 'Error': 0.0, 'Time': 4.5892744064331055, 'Alpha': 0.001, 'Epsilon': 0.001, 'Gamma': 0.96, 'Max V': 323.56611357811005, 'Mean V': 21.42924281287902, 'Iteration': 86040}\n",
      "{'State': 15, 'Action': 0, 'Reward': 0.0, 'Error': 0.0, 'Time': 4.590271472930908, 'Alpha': 0.001, 'Epsilon': 0.001, 'Gamma': 0.96, 'Max V': 323.56611357811005, 'Mean V': 21.42924281287902, 'Iteration': 86060}\n",
      "{'State': 15, 'Action': 0, 'Reward': 0.0, 'Error': 0.0, 'Time': 4.591269016265869, 'Alpha': 0.001, 'Epsilon': 0.001, 'Gamma': 0.96, 'Max V': 323.56611357811005, 'Mean V': 21.42924281287902, 'Iteration': 86080}\n",
      "{'State': 15, 'Action': 0, 'Reward': 0.0, 'Error': 0.0, 'Time': 4.630164861679077, 'Alpha': 0.001, 'Epsilon': 0.001, 'Gamma': 0.96, 'Max V': 324.2425474645319, 'Mean V': 21.489842694695835, 'Iteration': 86920}\n",
      "{'State': 15, 'Action': 0, 'Reward': 0.0, 'Error': 0.0, 'Time': 4.631162166595459, 'Alpha': 0.001, 'Epsilon': 0.001, 'Gamma': 0.96, 'Max V': 324.2425474645319, 'Mean V': 21.489842694695835, 'Iteration': 86940}\n",
      "{'State': 15, 'Action': 0, 'Reward': 0.0, 'Error': 0.0, 'Time': 4.632159471511841, 'Alpha': 0.001, 'Epsilon': 0.001, 'Gamma': 0.96, 'Max V': 324.2425474645319, 'Mean V': 21.489842694695835, 'Iteration': 86960}\n",
      "{'State': 15, 'Action': 0, 'Reward': 0.0, 'Error': 0.0, 'Time': 4.633157014846802, 'Alpha': 0.001, 'Epsilon': 0.001, 'Gamma': 0.96, 'Max V': 324.2425474645319, 'Mean V': 21.489842694695835, 'Iteration': 86980}\n",
      "{'State': 15, 'Action': 0, 'Reward': 0.0, 'Error': 0.0, 'Time': 4.639140844345093, 'Alpha': 0.001, 'Epsilon': 0.001, 'Gamma': 0.96, 'Max V': 324.9183049170674, 'Mean V': 21.550869644064694, 'Iteration': 87120}\n",
      "{'State': 15, 'Action': 0, 'Reward': 0.0, 'Error': 0.0, 'Time': 4.6401379108428955, 'Alpha': 0.001, 'Epsilon': 0.001, 'Gamma': 0.96, 'Max V': 324.9183049170674, 'Mean V': 21.550869644064694, 'Iteration': 87140}\n",
      "{'State': 15, 'Action': 0, 'Reward': 0.0, 'Error': 0.0, 'Time': 4.641135931015015, 'Alpha': 0.001, 'Epsilon': 0.001, 'Gamma': 0.96, 'Max V': 324.9183049170674, 'Mean V': 21.550869644064694, 'Iteration': 87160}\n",
      "{'State': 15, 'Action': 0, 'Reward': 0.0, 'Error': 0.0, 'Time': 4.642132759094238, 'Alpha': 0.001, 'Epsilon': 0.001, 'Gamma': 0.96, 'Max V': 324.9183049170674, 'Mean V': 21.550869644064694, 'Iteration': 87180}\n",
      "{'State': 14, 'Action': 2, 'Reward': 1000.0, 'Error': 0.9870032678033172, 'Time': 4.723951816558838, 'Alpha': 0.001, 'Epsilon': 0.001, 'Gamma': 0.96, 'Max V': 325.90530818487076, 'Mean V': 21.609896792534858, 'Iteration': 88700}\n",
      "{'State': 15, 'Action': 0, 'Reward': 0.0, 'Error': 0.0, 'Time': 4.724951505661011, 'Alpha': 0.001, 'Epsilon': 0.001, 'Gamma': 0.96, 'Max V': 326.5794028766859, 'Mean V': 21.652027710773304, 'Iteration': 88720}\n",
      "{'State': 15, 'Action': 0, 'Reward': 0.0, 'Error': 0.0, 'Time': 4.725945472717285, 'Alpha': 0.001, 'Epsilon': 0.001, 'Gamma': 0.96, 'Max V': 326.5794028766859, 'Mean V': 21.652027710773304, 'Iteration': 88740}\n",
      "{'State': 15, 'Action': 0, 'Reward': 0.0, 'Error': 0.0, 'Time': 4.727903366088867, 'Alpha': 0.001, 'Epsilon': 0.001, 'Gamma': 0.96, 'Max V': 326.5794028766859, 'Mean V': 21.652027710773304, 'Iteration': 88760}\n",
      "{'State': 15, 'Action': 0, 'Reward': 0.0, 'Error': 0.0, 'Time': 4.728901147842407, 'Alpha': 0.001, 'Epsilon': 0.001, 'Gamma': 0.96, 'Max V': 326.5794028766859, 'Mean V': 21.652027710773304, 'Iteration': 88780}\n",
      "{'State': 15, 'Action': 0, 'Reward': 0.0, 'Error': 0.0, 'Time': 4.77380633354187, 'Alpha': 0.001, 'Epsilon': 0.001, 'Gamma': 0.96, 'Max V': 328.23877336087025, 'Mean V': 21.775215887367334, 'Iteration': 89720}\n",
      "{'State': 15, 'Action': 0, 'Reward': 0.0, 'Error': 0.0, 'Time': 4.774820804595947, 'Alpha': 0.001, 'Epsilon': 0.001, 'Gamma': 0.96, 'Max V': 328.23877336087025, 'Mean V': 21.775215887367334, 'Iteration': 89740}\n",
      "{'State': 15, 'Action': 0, 'Reward': 0.0, 'Error': 0.0, 'Time': 4.775815725326538, 'Alpha': 0.001, 'Epsilon': 0.001, 'Gamma': 0.96, 'Max V': 328.23877336087025, 'Mean V': 21.775215887367334, 'Iteration': 89760}\n",
      "{'State': 15, 'Action': 0, 'Reward': 0.0, 'Error': 0.0, 'Time': 4.776811361312866, 'Alpha': 0.001, 'Epsilon': 0.001, 'Gamma': 0.96, 'Max V': 328.23877336087025, 'Mean V': 21.775215887367334, 'Iteration': 89780}\n",
      "{'State': 14, 'Action': 2, 'Reward': 1000.0, 'Error': 0.9868704490655653, 'Time': 4.782795190811157, 'Alpha': 0.001, 'Epsilon': 0.001, 'Gamma': 0.96, 'Max V': 329.22564380993583, 'Mean V': 21.836895290433933, 'Iteration': 89900}\n",
      "{'State': 15, 'Action': 0, 'Reward': 0.0, 'Error': 0.0, 'Time': 4.783792018890381, 'Alpha': 0.001, 'Epsilon': 0.001, 'Gamma': 0.96, 'Max V': 329.8964181661259, 'Mean V': 21.878818687695812, 'Iteration': 89920}\n",
      "{'State': 15, 'Action': 0, 'Reward': 0.0, 'Error': 0.0, 'Time': 4.784791707992554, 'Alpha': 0.001, 'Epsilon': 0.001, 'Gamma': 0.96, 'Max V': 329.8964181661259, 'Mean V': 21.878818687695812, 'Iteration': 89940}\n",
      "{'State': 15, 'Action': 0, 'Reward': 0.0, 'Error': 0.0, 'Time': 4.785789489746094, 'Alpha': 0.001, 'Epsilon': 0.001, 'Gamma': 0.96, 'Max V': 329.8964181661259, 'Mean V': 21.878818687695812, 'Iteration': 89960}\n",
      "{'State': 15, 'Action': 0, 'Reward': 0.0, 'Error': 0.0, 'Time': 4.786785125732422, 'Alpha': 0.001, 'Epsilon': 0.001, 'Gamma': 0.96, 'Max V': 329.8964181661259, 'Mean V': 21.878818687695812, 'Iteration': 89980}\n",
      "{'State': 15, 'Action': 0, 'Reward': 0.0, 'Error': 0.0, 'Time': 4.793768405914307, 'Alpha': 0.001, 'Epsilon': 0.001, 'Gamma': 0.96, 'Max V': 330.56652174795977, 'Mean V': 21.939940561773223, 'Iteration': 90120}\n",
      "{'State': 15, 'Action': 0, 'Reward': 0.0, 'Error': 0.0, 'Time': 4.794763565063477, 'Alpha': 0.001, 'Epsilon': 0.001, 'Gamma': 0.96, 'Max V': 330.56652174795977, 'Mean V': 21.939940561773223, 'Iteration': 90140}\n",
      "{'State': 15, 'Action': 0, 'Reward': 0.0, 'Error': 0.0, 'Time': 4.795761346817017, 'Alpha': 0.001, 'Epsilon': 0.001, 'Gamma': 0.96, 'Max V': 330.56652174795977, 'Mean V': 21.939940561773223, 'Iteration': 90160}\n",
      "{'State': 15, 'Action': 0, 'Reward': 0.0, 'Error': 0.0, 'Time': 4.7967612743377686, 'Alpha': 0.001, 'Epsilon': 0.001, 'Gamma': 0.96, 'Max V': 330.56652174795977, 'Mean V': 21.939940561773223, 'Iteration': 90180}\n",
      "{'State': 14, 'Action': 2, 'Reward': 1000.0, 'Error': 0.6798564171219333, 'Time': 4.80274224281311, 'Alpha': 0.001, 'Epsilon': 0.001, 'Gamma': 0.96, 'Max V': 331.2463781650817, 'Mean V': 21.982431585834178, 'Iteration': 90300}\n",
      "{'State': 15, 'Action': 0, 'Reward': 0.0, 'Error': 0.0, 'Time': 4.818700075149536, 'Alpha': 0.001, 'Epsilon': 0.001, 'Gamma': 0.96, 'Max V': 331.9151317869166, 'Mean V': 22.043341128260657, 'Iteration': 90620}\n",
      "{'State': 15, 'Action': 0, 'Reward': 0.0, 'Error': 0.0, 'Time': 4.819697618484497, 'Alpha': 0.001, 'Epsilon': 0.001, 'Gamma': 0.96, 'Max V': 331.9151317869166, 'Mean V': 22.043341128260657, 'Iteration': 90640}\n",
      "{'State': 15, 'Action': 0, 'Reward': 0.0, 'Error': 0.0, 'Time': 4.820698499679565, 'Alpha': 0.001, 'Epsilon': 0.001, 'Gamma': 0.96, 'Max V': 331.9151317869166, 'Mean V': 22.043341128260657, 'Iteration': 90660}\n",
      "{'State': 15, 'Action': 0, 'Reward': 0.0, 'Error': 0.0, 'Time': 4.821691274642944, 'Alpha': 0.001, 'Epsilon': 0.001, 'Gamma': 0.96, 'Max V': 331.9151317869166, 'Mean V': 22.043341128260657, 'Iteration': 90680}\n",
      "{'State': 15, 'Action': 0, 'Reward': 0.0, 'Error': 0.0, 'Time': 4.822689056396484, 'Alpha': 0.001, 'Epsilon': 0.001, 'Gamma': 0.96, 'Max V': 331.9151317869166, 'Mean V': 22.043341128260657, 'Iteration': 90700}\n",
      "{'State': 15, 'Action': 0, 'Reward': 0.0, 'Error': 0.0, 'Time': 4.823685169219971, 'Alpha': 0.001, 'Epsilon': 0.001, 'Gamma': 0.96, 'Max V': 331.9151317869166, 'Mean V': 22.043341128260657, 'Iteration': 90720}\n",
      "{'State': 15, 'Action': 0, 'Reward': 0.0, 'Error': 0.0, 'Time': 4.824685573577881, 'Alpha': 0.001, 'Epsilon': 0.001, 'Gamma': 0.96, 'Max V': 331.9151317869166, 'Mean V': 22.043341128260657, 'Iteration': 90740}\n",
      "{'State': 15, 'Action': 0, 'Reward': 0.0, 'Error': 0.0, 'Time': 4.82568097114563, 'Alpha': 0.001, 'Epsilon': 0.001, 'Gamma': 0.96, 'Max V': 331.9151317869166, 'Mean V': 22.043341128260657, 'Iteration': 90760}\n",
      "{'State': 15, 'Action': 0, 'Reward': 0.0, 'Error': 0.0, 'Time': 4.826678514480591, 'Alpha': 0.001, 'Epsilon': 0.001, 'Gamma': 0.96, 'Max V': 331.9151317869166, 'Mean V': 22.043341128260657, 'Iteration': 90780}\n",
      "{'State': 15, 'Action': 0, 'Reward': 0.0, 'Error': 0.0, 'Time': 4.8615851402282715, 'Alpha': 0.001, 'Epsilon': 0.001, 'Gamma': 0.96, 'Max V': 331.9151317869166, 'Mean V': 22.043341128260657, 'Iteration': 91500}\n",
      "{'State': 15, 'Action': 0, 'Reward': 0.0, 'Error': 0.0, 'Time': 4.862544059753418, 'Alpha': 0.001, 'Epsilon': 0.001, 'Gamma': 0.96, 'Max V': 331.9151317869166, 'Mean V': 22.043341128260657, 'Iteration': 91520}\n",
      "{'State': 15, 'Action': 0, 'Reward': 0.0, 'Error': 0.0, 'Time': 4.863576650619507, 'Alpha': 0.001, 'Epsilon': 0.001, 'Gamma': 0.96, 'Max V': 331.9151317869166, 'Mean V': 22.043341128260657, 'Iteration': 91540}\n",
      "{'State': 15, 'Action': 0, 'Reward': 0.0, 'Error': 0.0, 'Time': 4.864574432373047, 'Alpha': 0.001, 'Epsilon': 0.001, 'Gamma': 0.96, 'Max V': 331.9151317869166, 'Mean V': 22.043341128260657, 'Iteration': 91560}\n",
      "{'State': 15, 'Action': 0, 'Reward': 0.0, 'Error': 0.0, 'Time': 4.86557412147522, 'Alpha': 0.001, 'Epsilon': 0.001, 'Gamma': 0.96, 'Max V': 331.9151317869166, 'Mean V': 22.043341128260657, 'Iteration': 91580}\n",
      "{'State': 15, 'Action': 0, 'Reward': 0.0, 'Error': 0.0, 'Time': 4.885521173477173, 'Alpha': 0.001, 'Epsilon': 0.001, 'Gamma': 0.96, 'Max V': 334.2564757372421, 'Mean V': 22.227628297609968, 'Iteration': 92000}\n",
      "{'State': 15, 'Action': 0, 'Reward': 0.0, 'Error': 0.0, 'Time': 4.886517763137817, 'Alpha': 0.001, 'Epsilon': 0.001, 'Gamma': 0.96, 'Max V': 334.2564757372421, 'Mean V': 22.227628297609968, 'Iteration': 92020}\n",
      "{'State': 15, 'Action': 0, 'Reward': 0.0, 'Error': 0.0, 'Time': 4.887514591217041, 'Alpha': 0.001, 'Epsilon': 0.001, 'Gamma': 0.96, 'Max V': 334.2564757372421, 'Mean V': 22.227628297609968, 'Iteration': 92040}\n",
      "{'State': 15, 'Action': 0, 'Reward': 0.0, 'Error': 0.0, 'Time': 4.888510465621948, 'Alpha': 0.001, 'Epsilon': 0.001, 'Gamma': 0.96, 'Max V': 334.2564757372421, 'Mean V': 22.227628297609968, 'Iteration': 92060}\n",
      "{'State': 15, 'Action': 0, 'Reward': 0.0, 'Error': 0.0, 'Time': 4.889511346817017, 'Alpha': 0.001, 'Epsilon': 0.001, 'Gamma': 0.96, 'Max V': 334.2564757372421, 'Mean V': 22.227628297609968, 'Iteration': 92080}\n",
      "{'State': 14, 'Action': 2, 'Reward': 1000.0, 'Error': 0.9866297409705101, 'Time': 4.905428886413574, 'Alpha': 0.001, 'Epsilon': 0.001, 'Gamma': 0.96, 'Max V': 335.2431054782126, 'Mean V': 22.289281950979873, 'Iteration': 92400}\n",
      "{'State': 15, 'Action': 0, 'Reward': 0.0, 'Error': 0.0, 'Time': 4.906426906585693, 'Alpha': 0.001, 'Epsilon': 0.001, 'Gamma': 0.96, 'Max V': 336.5826326592074, 'Mean V': 22.39246162499466, 'Iteration': 92420}\n",
      "{'State': 15, 'Action': 0, 'Reward': 0.0, 'Error': 0.0, 'Time': 4.907423257827759, 'Alpha': 0.001, 'Epsilon': 0.001, 'Gamma': 0.96, 'Max V': 336.5826326592074, 'Mean V': 22.39246162499466, 'Iteration': 92440}\n",
      "{'State': 15, 'Action': 0, 'Reward': 0.0, 'Error': 0.0, 'Time': 4.908420562744141, 'Alpha': 0.001, 'Epsilon': 0.001, 'Gamma': 0.96, 'Max V': 336.5826326592074, 'Mean V': 22.39246162499466, 'Iteration': 92460}\n",
      "{'State': 15, 'Action': 0, 'Reward': 0.0, 'Error': 0.0, 'Time': 4.9094178676605225, 'Alpha': 0.001, 'Epsilon': 0.001, 'Gamma': 0.96, 'Max V': 336.5826326592074, 'Mean V': 22.39246162499466, 'Iteration': 92480}\n",
      "{'State': 14, 'Action': 2, 'Reward': 1000.0, 'Error': 0.6744050987232532, 'Time': 4.947316408157349, 'Alpha': 0.001, 'Epsilon': 0.001, 'Gamma': 0.96, 'Max V': 337.2570377579306, 'Mean V': 22.434591270881175, 'Iteration': 93100}\n",
      "{'State': 15, 'Action': 0, 'Reward': 0.0, 'Error': 0.0, 'Time': 4.952303171157837, 'Alpha': 0.001, 'Epsilon': 0.001, 'Gamma': 0.96, 'Max V': 337.2570377579306, 'Mean V': 22.433875540662626, 'Iteration': 93200}\n",
      "{'State': 15, 'Action': 0, 'Reward': 0.0, 'Error': 0.0, 'Time': 4.953300714492798, 'Alpha': 0.001, 'Epsilon': 0.001, 'Gamma': 0.96, 'Max V': 337.2570377579306, 'Mean V': 22.433875540662626, 'Iteration': 93220}\n",
      "{'State': 15, 'Action': 0, 'Reward': 0.0, 'Error': 0.0, 'Time': 4.954297780990601, 'Alpha': 0.001, 'Epsilon': 0.001, 'Gamma': 0.96, 'Max V': 337.2570377579306, 'Mean V': 22.433875540662626, 'Iteration': 93240}\n",
      "{'State': 15, 'Action': 0, 'Reward': 0.0, 'Error': 0.0, 'Time': 4.9552953243255615, 'Alpha': 0.001, 'Epsilon': 0.001, 'Gamma': 0.96, 'Max V': 337.2570377579306, 'Mean V': 22.433875540662626, 'Iteration': 93260}\n",
      "{'State': 15, 'Action': 0, 'Reward': 0.0, 'Error': 0.0, 'Time': 4.956292629241943, 'Alpha': 0.001, 'Epsilon': 0.001, 'Gamma': 0.96, 'Max V': 337.2570377579306, 'Mean V': 22.433875540662626, 'Iteration': 93280}\n",
      "{'State': 15, 'Action': 0, 'Reward': 0.0, 'Error': 0.0, 'Time': 4.973247528076172, 'Alpha': 0.001, 'Epsilon': 0.001, 'Gamma': 0.96, 'Max V': 340.8762320852781, 'Mean V': 22.679088762193324, 'Iteration': 93620}\n",
      "{'State': 15, 'Action': 0, 'Reward': 0.0, 'Error': 0.0, 'Time': 4.975242376327515, 'Alpha': 0.001, 'Epsilon': 0.001, 'Gamma': 0.96, 'Max V': 340.8762320852781, 'Mean V': 22.679088762193324, 'Iteration': 93640}\n",
      "{'State': 15, 'Action': 0, 'Reward': 0.0, 'Error': 0.0, 'Time': 4.977237224578857, 'Alpha': 0.001, 'Epsilon': 0.001, 'Gamma': 0.96, 'Max V': 340.8762320852781, 'Mean V': 22.679088762193324, 'Iteration': 93660}\n",
      "{'State': 15, 'Action': 0, 'Reward': 0.0, 'Error': 0.0, 'Time': 4.978233814239502, 'Alpha': 0.001, 'Epsilon': 0.001, 'Gamma': 0.96, 'Max V': 340.8762320852781, 'Mean V': 22.679088762193324, 'Iteration': 93680}\n",
      "{'State': 15, 'Action': 0, 'Reward': 0.0, 'Error': 0.0, 'Time': 4.9792320728302, 'Alpha': 0.001, 'Epsilon': 0.001, 'Gamma': 0.96, 'Max V': 340.8762320852781, 'Mean V': 22.679088762193324, 'Iteration': 93700}\n",
      "{'State': 15, 'Action': 0, 'Reward': 0.0, 'Error': 0.0, 'Time': 4.980230093002319, 'Alpha': 0.001, 'Epsilon': 0.001, 'Gamma': 0.96, 'Max V': 340.8762320852781, 'Mean V': 22.679088762193324, 'Iteration': 93720}\n",
      "{'State': 15, 'Action': 0, 'Reward': 0.0, 'Error': 0.0, 'Time': 4.981229543685913, 'Alpha': 0.001, 'Epsilon': 0.001, 'Gamma': 0.96, 'Max V': 340.8762320852781, 'Mean V': 22.679088762193324, 'Iteration': 93740}\n",
      "{'State': 15, 'Action': 0, 'Reward': 0.0, 'Error': 0.0, 'Time': 4.983224153518677, 'Alpha': 0.001, 'Epsilon': 0.001, 'Gamma': 0.96, 'Max V': 340.8762320852781, 'Mean V': 22.679088762193324, 'Iteration': 93760}\n",
      "{'State': 15, 'Action': 0, 'Reward': 0.0, 'Error': 0.0, 'Time': 4.984221935272217, 'Alpha': 0.001, 'Epsilon': 0.001, 'Gamma': 0.96, 'Max V': 340.8762320852781, 'Mean V': 22.679088762193324, 'Iteration': 93780}\n",
      "{'State': 14, 'Action': 2, 'Reward': 1000.0, 'Error': 0.9863649507165888, 'Time': 4.99618673324585, 'Alpha': 0.001, 'Epsilon': 0.001, 'Gamma': 0.96, 'Max V': 341.86259703599467, 'Mean V': 22.74071707253195, 'Iteration': 94000}\n",
      "{'State': 15, 'Action': 0, 'Reward': 0.0, 'Error': 0.0, 'Time': 4.99718451499939, 'Alpha': 0.001, 'Epsilon': 0.001, 'Gamma': 0.96, 'Max V': 344.4913733666367, 'Mean V': 22.905015593197078, 'Iteration': 94020}\n",
      "{'State': 15, 'Action': 0, 'Reward': 0.0, 'Error': 0.0, 'Time': 4.99818229675293, 'Alpha': 0.001, 'Epsilon': 0.001, 'Gamma': 0.96, 'Max V': 344.4913733666367, 'Mean V': 22.905015593197078, 'Iteration': 94040}\n",
      "{'State': 15, 'Action': 0, 'Reward': 0.0, 'Error': 0.0, 'Time': 4.999178171157837, 'Alpha': 0.001, 'Epsilon': 0.001, 'Gamma': 0.96, 'Max V': 344.4913733666367, 'Mean V': 22.905015593197078, 'Iteration': 94060}\n",
      "{'State': 15, 'Action': 0, 'Reward': 0.0, 'Error': 0.0, 'Time': 5.0001771450042725, 'Alpha': 0.001, 'Epsilon': 0.001, 'Gamma': 0.96, 'Max V': 344.4913733666367, 'Mean V': 22.905015593197078, 'Iteration': 94080}\n",
      "{'State': 14, 'Action': 2, 'Reward': 1000.0, 'Error': 0.6664855115190275, 'Time': 5.006160497665405, 'Alpha': 0.001, 'Epsilon': 0.001, 'Gamma': 0.96, 'Max V': 345.1578588781557, 'Mean V': 22.946670937667015, 'Iteration': 94200}\n",
      "{'State': 15, 'Action': 0, 'Reward': 0.0, 'Error': 0.0, 'Time': 5.025108575820923, 'Alpha': 0.001, 'Epsilon': 0.001, 'Gamma': 0.96, 'Max V': 345.1578588781557, 'Mean V': 22.945955517540654, 'Iteration': 94400}\n",
      "{'State': 15, 'Action': 0, 'Reward': 0.0, 'Error': 0.0, 'Time': 5.026107549667358, 'Alpha': 0.001, 'Epsilon': 0.001, 'Gamma': 0.96, 'Max V': 345.1578588781557, 'Mean V': 22.945955517540654, 'Iteration': 94420}\n",
      "{'State': 15, 'Action': 0, 'Reward': 0.0, 'Error': 0.0, 'Time': 5.029098033905029, 'Alpha': 0.001, 'Epsilon': 0.001, 'Gamma': 0.96, 'Max V': 345.1578588781557, 'Mean V': 22.945955517540654, 'Iteration': 94440}\n",
      "{'State': 15, 'Action': 0, 'Reward': 0.0, 'Error': 0.0, 'Time': 5.032091379165649, 'Alpha': 0.001, 'Epsilon': 0.001, 'Gamma': 0.96, 'Max V': 345.1578588781557, 'Mean V': 22.945955517540654, 'Iteration': 94460}\n",
      "{'State': 15, 'Action': 0, 'Reward': 0.0, 'Error': 0.0, 'Time': 5.034087181091309, 'Alpha': 0.001, 'Epsilon': 0.001, 'Gamma': 0.96, 'Max V': 345.1578588781557, 'Mean V': 22.945955517540654, 'Iteration': 94480}\n",
      "{'State': 14, 'Action': 2, 'Reward': 1000.0, 'Error': 0.6658083363607483, 'Time': 5.035085916519165, 'Alpha': 0.001, 'Epsilon': 0.001, 'Gamma': 0.96, 'Max V': 345.82366721451643, 'Mean V': 22.9875685385632, 'Iteration': 94500}\n",
      "{'State': 15, 'Action': 0, 'Reward': 0.0, 'Error': 0.0, 'Time': 5.037084341049194, 'Alpha': 0.001, 'Epsilon': 0.001, 'Gamma': 0.96, 'Max V': 348.4481659125827, 'Mean V': 23.17163518222268, 'Iteration': 94520}\n",
      "{'State': 15, 'Action': 0, 'Reward': 0.0, 'Error': 0.0, 'Time': 5.039074420928955, 'Alpha': 0.001, 'Epsilon': 0.001, 'Gamma': 0.96, 'Max V': 348.4481659125827, 'Mean V': 23.17163518222268, 'Iteration': 94540}\n",
      "{'State': 15, 'Action': 0, 'Reward': 0.0, 'Error': 0.0, 'Time': 5.0400707721710205, 'Alpha': 0.001, 'Epsilon': 0.001, 'Gamma': 0.96, 'Max V': 348.4481659125827, 'Mean V': 23.17163518222268, 'Iteration': 94560}\n",
      "{'State': 15, 'Action': 0, 'Reward': 0.0, 'Error': 0.0, 'Time': 5.042067289352417, 'Alpha': 0.001, 'Epsilon': 0.001, 'Gamma': 0.96, 'Max V': 348.4481659125827, 'Mean V': 23.17163518222268, 'Iteration': 94580}\n",
      "{'State': 14, 'Action': 2, 'Reward': 1000.0, 'Error': 0.9860620733634967, 'Time': 5.055029392242432, 'Alpha': 0.001, 'Epsilon': 0.001, 'Gamma': 0.96, 'Max V': 349.43422798594617, 'Mean V': 23.233263689522136, 'Iteration': 94800}\n",
      "{'State': 15, 'Action': 0, 'Reward': 0.0, 'Error': 0.0, 'Time': 5.055029392242432, 'Alpha': 0.001, 'Epsilon': 0.001, 'Gamma': 0.96, 'Max V': 350.7459716303975, 'Mean V': 23.335519450884668, 'Iteration': 94820}\n",
      "{'State': 15, 'Action': 0, 'Reward': 0.0, 'Error': 0.0, 'Time': 5.056026458740234, 'Alpha': 0.001, 'Epsilon': 0.001, 'Gamma': 0.96, 'Max V': 350.7459716303975, 'Mean V': 23.335519450884668, 'Iteration': 94840}\n",
      "{'State': 15, 'Action': 0, 'Reward': 0.0, 'Error': 0.0, 'Time': 5.057023286819458, 'Alpha': 0.001, 'Epsilon': 0.001, 'Gamma': 0.96, 'Max V': 350.7459716303975, 'Mean V': 23.335519450884668, 'Iteration': 94860}\n",
      "{'State': 15, 'Action': 0, 'Reward': 0.0, 'Error': 0.0, 'Time': 5.058020353317261, 'Alpha': 0.001, 'Epsilon': 0.001, 'Gamma': 0.96, 'Max V': 350.7459716303975, 'Mean V': 23.335519450884668, 'Iteration': 94880}\n",
      "{'State': 15, 'Action': 0, 'Reward': 0.0, 'Error': 0.0, 'Time': 5.0869433879852295, 'Alpha': 0.001, 'Epsilon': 0.001, 'Gamma': 0.96, 'Max V': 355.34185367634916, 'Mean V': 23.70189855762158, 'Iteration': 95420}\n",
      "{'State': 15, 'Action': 1, 'Reward': 0.0, 'Error': 0.0, 'Time': 5.087940692901611, 'Alpha': 0.001, 'Epsilon': 0.001, 'Gamma': 0.96, 'Max V': 355.34185367634916, 'Mean V': 23.70189855762158, 'Iteration': 95440}\n",
      "{'State': 15, 'Action': 0, 'Reward': 0.0, 'Error': 0.0, 'Time': 5.088937759399414, 'Alpha': 0.001, 'Epsilon': 0.001, 'Gamma': 0.96, 'Max V': 355.34185367634916, 'Mean V': 23.70189855762158, 'Iteration': 95460}\n",
      "{'State': 15, 'Action': 0, 'Reward': 0.0, 'Error': 0.0, 'Time': 5.089935064315796, 'Alpha': 0.001, 'Epsilon': 0.001, 'Gamma': 0.96, 'Max V': 355.34185367634916, 'Mean V': 23.70189855762158, 'Iteration': 95480}\n",
      "{'State': 14, 'Action': 2, 'Reward': 1000.0, 'Error': 0.9857863258529461, 'Time': 5.099908351898193, 'Alpha': 0.001, 'Epsilon': 0.001, 'Gamma': 0.96, 'Max V': 356.3276400022021, 'Mean V': 23.763489321205345, 'Iteration': 95700}\n",
      "{'State': 15, 'Action': 0, 'Reward': 0.0, 'Error': 0.0, 'Time': 5.100905656814575, 'Alpha': 0.001, 'Epsilon': 0.001, 'Gamma': 0.96, 'Max V': 361.23498851699526, 'Mean V': 24.111491211259416, 'Iteration': 95720}\n",
      "{'State': 15, 'Action': 0, 'Reward': 0.0, 'Error': 0.0, 'Time': 5.101903200149536, 'Alpha': 0.001, 'Epsilon': 0.001, 'Gamma': 0.96, 'Max V': 361.23498851699526, 'Mean V': 24.111491211259416, 'Iteration': 95740}\n",
      "{'State': 15, 'Action': 0, 'Reward': 0.0, 'Error': 0.0, 'Time': 5.102900266647339, 'Alpha': 0.001, 'Epsilon': 0.001, 'Gamma': 0.96, 'Max V': 361.23498851699526, 'Mean V': 24.111491211259416, 'Iteration': 95760}\n",
      "{'State': 15, 'Action': 0, 'Reward': 0.0, 'Error': 0.0, 'Time': 5.103897571563721, 'Alpha': 0.001, 'Epsilon': 0.001, 'Gamma': 0.96, 'Max V': 361.23498851699526, 'Mean V': 24.111491211259416, 'Iteration': 95780}\n",
      "{'State': 15, 'Action': 0, 'Reward': 0.0, 'Error': 0.0, 'Time': 5.104895114898682, 'Alpha': 0.001, 'Epsilon': 0.001, 'Gamma': 0.96, 'Max V': 361.23498851699526, 'Mean V': 24.111491211259416, 'Iteration': 95800}\n",
      "{'State': 15, 'Action': 0, 'Reward': 0.0, 'Error': 0.0, 'Time': 5.1058924198150635, 'Alpha': 0.001, 'Epsilon': 0.001, 'Gamma': 0.96, 'Max V': 361.23498851699526, 'Mean V': 24.111491211259416, 'Iteration': 95820}\n",
      "{'State': 15, 'Action': 0, 'Reward': 0.0, 'Error': 0.0, 'Time': 5.1058924198150635, 'Alpha': 0.001, 'Epsilon': 0.001, 'Gamma': 0.96, 'Max V': 361.23498851699526, 'Mean V': 24.111491211259416, 'Iteration': 95840}\n",
      "{'State': 15, 'Action': 0, 'Reward': 0.0, 'Error': 0.0, 'Time': 5.106889724731445, 'Alpha': 0.001, 'Epsilon': 0.001, 'Gamma': 0.96, 'Max V': 361.23498851699526, 'Mean V': 24.111491211259416, 'Iteration': 95860}\n",
      "{'State': 15, 'Action': 0, 'Reward': 0.0, 'Error': 0.0, 'Time': 5.107887029647827, 'Alpha': 0.001, 'Epsilon': 0.001, 'Gamma': 0.96, 'Max V': 361.23498851699526, 'Mean V': 24.111491211259416, 'Iteration': 95880}\n",
      "{'State': 15, 'Action': 0, 'Reward': 0.0, 'Error': 0.0, 'Time': 5.113871097564697, 'Alpha': 0.001, 'Epsilon': 0.001, 'Gamma': 0.96, 'Max V': 361.23498851699526, 'Mean V': 24.111491211259416, 'Iteration': 96000}\n",
      "{'State': 15, 'Action': 0, 'Reward': 0.0, 'Error': 0.0, 'Time': 5.114868402481079, 'Alpha': 0.001, 'Epsilon': 0.001, 'Gamma': 0.96, 'Max V': 361.23498851699526, 'Mean V': 24.111491211259416, 'Iteration': 96020}\n",
      "{'State': 15, 'Action': 0, 'Reward': 0.0, 'Error': 0.0, 'Time': 5.11586594581604, 'Alpha': 0.001, 'Epsilon': 0.001, 'Gamma': 0.96, 'Max V': 361.23498851699526, 'Mean V': 24.111491211259416, 'Iteration': 96040}\n",
      "{'State': 15, 'Action': 0, 'Reward': 0.0, 'Error': 0.0, 'Time': 5.116863012313843, 'Alpha': 0.001, 'Epsilon': 0.001, 'Gamma': 0.96, 'Max V': 361.23498851699526, 'Mean V': 24.111491211259416, 'Iteration': 96060}\n",
      "{'State': 15, 'Action': 0, 'Reward': 0.0, 'Error': 0.0, 'Time': 5.117860317230225, 'Alpha': 0.001, 'Epsilon': 0.001, 'Gamma': 0.96, 'Max V': 361.23498851699526, 'Mean V': 24.111491211259416, 'Iteration': 96080}\n",
      "{'State': 15, 'Action': 0, 'Reward': 0.0, 'Error': 0.0, 'Time': 5.151769638061523, 'Alpha': 0.001, 'Epsilon': 0.001, 'Gamma': 0.96, 'Max V': 361.23498851699526, 'Mean V': 24.110575151838805, 'Iteration': 96800}\n",
      "{'State': 15, 'Action': 0, 'Reward': 0.0, 'Error': 0.0, 'Time': 5.152766942977905, 'Alpha': 0.001, 'Epsilon': 0.001, 'Gamma': 0.96, 'Max V': 361.23498851699526, 'Mean V': 24.110575151838805, 'Iteration': 96820}\n",
      "{'State': 15, 'Action': 0, 'Reward': 0.0, 'Error': 0.0, 'Time': 5.153764486312866, 'Alpha': 0.001, 'Epsilon': 0.001, 'Gamma': 0.96, 'Max V': 361.23498851699526, 'Mean V': 24.110575151838805, 'Iteration': 96840}\n",
      "{'State': 15, 'Action': 0, 'Reward': 0.0, 'Error': 0.0, 'Time': 5.154761791229248, 'Alpha': 0.001, 'Epsilon': 0.001, 'Gamma': 0.96, 'Max V': 361.23498851699526, 'Mean V': 24.110575151838805, 'Iteration': 96860}\n",
      "{'State': 15, 'Action': 0, 'Reward': 0.0, 'Error': 0.0, 'Time': 5.155759334564209, 'Alpha': 0.001, 'Epsilon': 0.001, 'Gamma': 0.96, 'Max V': 361.23498851699526, 'Mean V': 24.110575151838805, 'Iteration': 96880}\n",
      "{'State': 15, 'Action': 0, 'Reward': 0.0, 'Error': 0.0, 'Time': 5.161743640899658, 'Alpha': 0.001, 'Epsilon': 0.001, 'Gamma': 0.96, 'Max V': 361.8737535284783, 'Mean V': 24.171299118309758, 'Iteration': 97020}\n",
      "{'State': 15, 'Action': 0, 'Reward': 0.0, 'Error': 0.0, 'Time': 5.162740230560303, 'Alpha': 0.001, 'Epsilon': 0.001, 'Gamma': 0.96, 'Max V': 361.8737535284783, 'Mean V': 24.171299118309758, 'Iteration': 97040}\n",
      "{'State': 15, 'Action': 0, 'Reward': 0.0, 'Error': 0.0, 'Time': 5.163738489151001, 'Alpha': 0.001, 'Epsilon': 0.001, 'Gamma': 0.96, 'Max V': 361.8737535284783, 'Mean V': 24.171299118309758, 'Iteration': 97060}\n",
      "{'State': 15, 'Action': 0, 'Reward': 0.0, 'Error': 0.0, 'Time': 5.1647350788116455, 'Alpha': 0.001, 'Epsilon': 0.001, 'Gamma': 0.96, 'Max V': 361.8737535284783, 'Mean V': 24.171299118309758, 'Iteration': 97080}\n",
      "{'State': 15, 'Action': 0, 'Reward': 0.0, 'Error': 0.0, 'Time': 5.1707189083099365, 'Alpha': 0.001, 'Epsilon': 0.001, 'Gamma': 0.96, 'Max V': 361.8737535284783, 'Mean V': 24.171299118309758, 'Iteration': 97200}\n",
      "{'State': 15, 'Action': 0, 'Reward': 0.0, 'Error': 0.0, 'Time': 5.1717164516448975, 'Alpha': 0.001, 'Epsilon': 0.001, 'Gamma': 0.96, 'Max V': 361.8737535284783, 'Mean V': 24.171299118309758, 'Iteration': 97220}\n",
      "{'State': 15, 'Action': 0, 'Reward': 0.0, 'Error': 0.0, 'Time': 5.172713756561279, 'Alpha': 0.001, 'Epsilon': 0.001, 'Gamma': 0.96, 'Max V': 361.8737535284783, 'Mean V': 24.171299118309758, 'Iteration': 97240}\n",
      "{'State': 15, 'Action': 0, 'Reward': 0.0, 'Error': 0.0, 'Time': 5.173710823059082, 'Alpha': 0.001, 'Epsilon': 0.001, 'Gamma': 0.96, 'Max V': 361.8737535284783, 'Mean V': 24.171299118309758, 'Iteration': 97260}\n",
      "{'State': 15, 'Action': 0, 'Reward': 0.0, 'Error': 0.0, 'Time': 5.174708604812622, 'Alpha': 0.001, 'Epsilon': 0.001, 'Gamma': 0.96, 'Max V': 361.8737535284783, 'Mean V': 24.171299118309758, 'Iteration': 97280}\n",
      "{'State': 15, 'Action': 0, 'Reward': 0.0, 'Error': 0.0, 'Time': 5.180692195892334, 'Alpha': 0.001, 'Epsilon': 0.001, 'Gamma': 0.96, 'Max V': 362.5118797749498, 'Mean V': 24.232817858400388, 'Iteration': 97420}\n",
      "{'State': 15, 'Action': 0, 'Reward': 0.0, 'Error': 0.0, 'Time': 5.181689739227295, 'Alpha': 0.001, 'Epsilon': 0.001, 'Gamma': 0.96, 'Max V': 362.5118797749498, 'Mean V': 24.232817858400388, 'Iteration': 97440}\n",
      "{'State': 15, 'Action': 0, 'Reward': 0.0, 'Error': 0.0, 'Time': 5.182687044143677, 'Alpha': 0.001, 'Epsilon': 0.001, 'Gamma': 0.96, 'Max V': 362.5118797749498, 'Mean V': 24.232817858400388, 'Iteration': 97460}\n",
      "{'State': 15, 'Action': 0, 'Reward': 0.0, 'Error': 0.0, 'Time': 5.183684349060059, 'Alpha': 0.001, 'Epsilon': 0.001, 'Gamma': 0.96, 'Max V': 362.5118797749498, 'Mean V': 24.232817858400388, 'Iteration': 97480}\n",
      "{'State': 15, 'Action': 0, 'Reward': 0.0, 'Error': 0.0, 'Time': 5.202633857727051, 'Alpha': 0.001, 'Epsilon': 0.001, 'Gamma': 0.96, 'Max V': 363.14936789517486, 'Mean V': 24.293517073709427, 'Iteration': 97920}\n",
      "{'State': 15, 'Action': 0, 'Reward': 0.0, 'Error': 0.0, 'Time': 5.203631401062012, 'Alpha': 0.001, 'Epsilon': 0.001, 'Gamma': 0.96, 'Max V': 363.14936789517486, 'Mean V': 24.293517073709427, 'Iteration': 97940}\n",
      "{'State': 15, 'Action': 0, 'Reward': 0.0, 'Error': 0.0, 'Time': 5.204628229141235, 'Alpha': 0.001, 'Epsilon': 0.001, 'Gamma': 0.96, 'Max V': 363.14936789517486, 'Mean V': 24.293517073709427, 'Iteration': 97960}\n",
      "{'State': 15, 'Action': 0, 'Reward': 0.0, 'Error': 0.0, 'Time': 5.205625534057617, 'Alpha': 0.001, 'Epsilon': 0.001, 'Gamma': 0.96, 'Max V': 363.14936789517486, 'Mean V': 24.293517073709427, 'Iteration': 97980}\n",
      "{'State': 15, 'Action': 0, 'Reward': 0.0, 'Error': 0.0, 'Time': 5.257486820220947, 'Alpha': 0.001, 'Epsilon': 0.001, 'Gamma': 0.96, 'Max V': 363.14936789517486, 'Mean V': 24.2934783506593, 'Iteration': 99100}\n",
      "{'State': 15, 'Action': 0, 'Reward': 0.0, 'Error': 0.0, 'Time': 5.258484363555908, 'Alpha': 0.001, 'Epsilon': 0.001, 'Gamma': 0.96, 'Max V': 363.14936789517486, 'Mean V': 24.2934783506593, 'Iteration': 99120}\n",
      "{'State': 15, 'Action': 0, 'Reward': 0.0, 'Error': 0.0, 'Time': 5.259481430053711, 'Alpha': 0.001, 'Epsilon': 0.001, 'Gamma': 0.96, 'Max V': 363.14936789517486, 'Mean V': 24.2934783506593, 'Iteration': 99140}\n",
      "{'State': 15, 'Action': 0, 'Reward': 0.0, 'Error': 0.0, 'Time': 5.260478973388672, 'Alpha': 0.001, 'Epsilon': 0.001, 'Gamma': 0.96, 'Max V': 363.14936789517486, 'Mean V': 24.2934783506593, 'Iteration': 99160}\n",
      "{'State': 15, 'Action': 0, 'Reward': 0.0, 'Error': 0.0, 'Time': 5.261476278305054, 'Alpha': 0.001, 'Epsilon': 0.001, 'Gamma': 0.96, 'Max V': 363.14936789517486, 'Mean V': 24.2934783506593, 'Iteration': 99180}\n",
      "{'State': 14, 'Action': 2, 'Reward': 1000.0, 'Error': 0.6368506321048251, 'Time': 5.280425548553467, 'Alpha': 0.001, 'Epsilon': 0.001, 'Gamma': 0.96, 'Max V': 363.7862185272797, 'Mean V': 24.33226522240799, 'Iteration': 99600}\n",
      "{'State': 15, 'Action': 0, 'Reward': 0.0, 'Error': 0.0, 'Time': 5.281422853469849, 'Alpha': 0.001, 'Epsilon': 0.001, 'Gamma': 0.96, 'Max V': 363.7862185272797, 'Mean V': 24.33226522240799, 'Iteration': 99620}\n",
      "{'State': 15, 'Action': 0, 'Reward': 0.0, 'Error': 0.0, 'Time': 5.2824201583862305, 'Alpha': 0.001, 'Epsilon': 0.001, 'Gamma': 0.96, 'Max V': 363.7862185272797, 'Mean V': 24.33226522240799, 'Iteration': 99640}\n",
      "{'State': 15, 'Action': 0, 'Reward': 0.0, 'Error': 0.0, 'Time': 5.283417701721191, 'Alpha': 0.001, 'Epsilon': 0.001, 'Gamma': 0.96, 'Max V': 363.7862185272797, 'Mean V': 24.33226522240799, 'Iteration': 99660}\n",
      "{'State': 15, 'Action': 0, 'Reward': 0.0, 'Error': 0.0, 'Time': 5.284416913986206, 'Alpha': 0.001, 'Epsilon': 0.001, 'Gamma': 0.96, 'Max V': 363.7862185272797, 'Mean V': 24.33226522240799, 'Iteration': 99680}\n",
      "{'State': 15, 'Action': 0, 'Reward': 0.0, 'Error': 0.0, 'Time': 5.291396379470825, 'Alpha': 0.001, 'Epsilon': 0.001, 'Gamma': 0.96, 'Max V': 365.4068954114601, 'Mean V': 24.454736661089708, 'Iteration': 99820}\n",
      "{'State': 15, 'Action': 0, 'Reward': 0.0, 'Error': 0.0, 'Time': 5.292393445968628, 'Alpha': 0.001, 'Epsilon': 0.001, 'Gamma': 0.96, 'Max V': 365.4068954114601, 'Mean V': 24.454736661089708, 'Iteration': 99840}\n",
      "{'State': 15, 'Action': 0, 'Reward': 0.0, 'Error': 0.0, 'Time': 5.293390989303589, 'Alpha': 0.001, 'Epsilon': 0.001, 'Gamma': 0.96, 'Max V': 365.4068954114601, 'Mean V': 24.454736661089708, 'Iteration': 99860}\n",
      "{'State': 15, 'Action': 0, 'Reward': 0.0, 'Error': 0.0, 'Time': 5.294388294219971, 'Alpha': 0.001, 'Epsilon': 0.001, 'Gamma': 0.96, 'Max V': 365.4068954114601, 'Mean V': 24.454736661089708, 'Iteration': 99880}\n",
      "{'State': 15, 'Action': 0, 'Reward': 0.0, 'Error': 0.0, 'Time': 5.304361581802368, 'Alpha': 0.001, 'Epsilon': 0.001, 'Gamma': 0.96, 'Max V': 365.4068954114601, 'Mean V': 24.454735282273795, 'Iteration': 100100}\n",
      "{'State': 15, 'Action': 0, 'Reward': 0.0, 'Error': 0.0, 'Time': 5.30535888671875, 'Alpha': 0.001, 'Epsilon': 0.001, 'Gamma': 0.96, 'Max V': 365.4068954114601, 'Mean V': 24.454735282273795, 'Iteration': 100120}\n",
      "{'State': 15, 'Action': 0, 'Reward': 0.0, 'Error': 0.0, 'Time': 5.306356191635132, 'Alpha': 0.001, 'Epsilon': 0.001, 'Gamma': 0.96, 'Max V': 365.4068954114601, 'Mean V': 24.454735282273795, 'Iteration': 100140}\n",
      "{'State': 15, 'Action': 0, 'Reward': 0.0, 'Error': 0.0, 'Time': 5.307353496551514, 'Alpha': 0.001, 'Epsilon': 0.001, 'Gamma': 0.96, 'Max V': 365.4068954114601, 'Mean V': 24.454735282273795, 'Iteration': 100160}\n",
      "{'State': 15, 'Action': 0, 'Reward': 0.0, 'Error': 0.0, 'Time': 5.308351039886475, 'Alpha': 0.001, 'Epsilon': 0.001, 'Gamma': 0.96, 'Max V': 365.4068954114601, 'Mean V': 24.454735282273795, 'Iteration': 100180}\n",
      "{'State': 15, 'Action': 0, 'Reward': 0.0, 'Error': 0.0, 'Time': 5.3243091106414795, 'Alpha': 0.001, 'Epsilon': 0.001, 'Gamma': 0.96, 'Max V': 366.68974887831376, 'Mean V': 24.576906938833776, 'Iteration': 100520}\n",
      "{'State': 15, 'Action': 0, 'Reward': 0.0, 'Error': 0.0, 'Time': 5.325305700302124, 'Alpha': 0.001, 'Epsilon': 0.001, 'Gamma': 0.96, 'Max V': 366.68974887831376, 'Mean V': 24.576906938833776, 'Iteration': 100540}\n",
      "{'State': 15, 'Action': 0, 'Reward': 0.0, 'Error': 0.0, 'Time': 5.326302766799927, 'Alpha': 0.001, 'Epsilon': 0.001, 'Gamma': 0.96, 'Max V': 366.68974887831376, 'Mean V': 24.576906938833776, 'Iteration': 100560}\n",
      "{'State': 15, 'Action': 0, 'Reward': 0.0, 'Error': 0.0, 'Time': 5.327300310134888, 'Alpha': 0.001, 'Epsilon': 0.001, 'Gamma': 0.96, 'Max V': 366.68974887831376, 'Mean V': 24.576906938833776, 'Iteration': 100580}\n",
      "{'State': 15, 'Action': 0, 'Reward': 0.0, 'Error': 0.0, 'Time': 5.328297853469849, 'Alpha': 0.001, 'Epsilon': 0.001, 'Gamma': 0.96, 'Max V': 366.68974887831376, 'Mean V': 24.576906938833776, 'Iteration': 100600}\n",
      "{'State': 15, 'Action': 0, 'Reward': 0.0, 'Error': 0.0, 'Time': 5.329294919967651, 'Alpha': 0.001, 'Epsilon': 0.001, 'Gamma': 0.96, 'Max V': 366.68974887831376, 'Mean V': 24.576906938833776, 'Iteration': 100620}\n",
      "{'State': 15, 'Action': 0, 'Reward': 0.0, 'Error': 0.0, 'Time': 5.330292224884033, 'Alpha': 0.001, 'Epsilon': 0.001, 'Gamma': 0.96, 'Max V': 366.68974887831376, 'Mean V': 24.576906938833776, 'Iteration': 100640}\n",
      "{'State': 15, 'Action': 0, 'Reward': 0.0, 'Error': 0.0, 'Time': 5.331289291381836, 'Alpha': 0.001, 'Epsilon': 0.001, 'Gamma': 0.96, 'Max V': 366.68974887831376, 'Mean V': 24.576906938833776, 'Iteration': 100660}\n",
      "{'State': 15, 'Action': 0, 'Reward': 0.0, 'Error': 0.0, 'Time': 5.332286834716797, 'Alpha': 0.001, 'Epsilon': 0.001, 'Gamma': 0.96, 'Max V': 366.68974887831376, 'Mean V': 24.576906938833776, 'Iteration': 100680}\n",
      "{'State': 14, 'Action': 2, 'Reward': 1000.0, 'Error': 0.6333102511216862, 'Time': 5.333284139633179, 'Alpha': 0.001, 'Epsilon': 0.001, 'Gamma': 0.96, 'Max V': 367.3230591294355, 'Mean V': 24.616488829528883, 'Iteration': 100700}\n",
      "{'State': 15, 'Action': 0, 'Reward': 0.0, 'Error': 0.0, 'Time': 5.3342814445495605, 'Alpha': 0.001, 'Epsilon': 0.001, 'Gamma': 0.96, 'Max V': 367.3230591294355, 'Mean V': 24.616488829528883, 'Iteration': 100720}\n",
      "{'State': 15, 'Action': 0, 'Reward': 0.0, 'Error': 0.0, 'Time': 5.3352789878845215, 'Alpha': 0.001, 'Epsilon': 0.001, 'Gamma': 0.96, 'Max V': 367.3230591294355, 'Mean V': 24.616488829528883, 'Iteration': 100740}\n",
      "{'State': 15, 'Action': 0, 'Reward': 0.0, 'Error': 0.0, 'Time': 5.336276292800903, 'Alpha': 0.001, 'Epsilon': 0.001, 'Gamma': 0.96, 'Max V': 367.3230591294355, 'Mean V': 24.616488829528883, 'Iteration': 100760}\n",
      "{'State': 15, 'Action': 0, 'Reward': 0.0, 'Error': 0.0, 'Time': 5.337273597717285, 'Alpha': 0.001, 'Epsilon': 0.001, 'Gamma': 0.96, 'Max V': 367.3230591294355, 'Mean V': 24.616488829528883, 'Iteration': 100780}\n",
      "{'State': 15, 'Action': 0, 'Reward': 0.0, 'Error': 0.0, 'Time': 5.343257427215576, 'Alpha': 0.001, 'Epsilon': 0.001, 'Gamma': 0.96, 'Max V': 367.95573607030605, 'Mean V': 24.677352416029347, 'Iteration': 100920}\n",
      "{'State': 15, 'Action': 0, 'Reward': 0.0, 'Error': 0.0, 'Time': 5.344254970550537, 'Alpha': 0.001, 'Epsilon': 0.001, 'Gamma': 0.96, 'Max V': 367.95573607030605, 'Mean V': 24.677352416029347, 'Iteration': 100940}\n",
      "{'State': 15, 'Action': 0, 'Reward': 0.0, 'Error': 0.0, 'Time': 5.34525203704834, 'Alpha': 0.001, 'Epsilon': 0.001, 'Gamma': 0.96, 'Max V': 367.95573607030605, 'Mean V': 24.677352416029347, 'Iteration': 100960}\n",
      "{'State': 15, 'Action': 0, 'Reward': 0.0, 'Error': 0.0, 'Time': 5.346249580383301, 'Alpha': 0.001, 'Epsilon': 0.001, 'Gamma': 0.96, 'Max V': 367.95573607030605, 'Mean V': 24.677352416029347, 'Iteration': 100980}\n",
      "{'State': 15, 'Action': 0, 'Reward': 0.0, 'Error': 0.0, 'Time': 5.438004016876221, 'Alpha': 0.001, 'Epsilon': 0.001, 'Gamma': 0.96, 'Max V': 367.95573607030605, 'Mean V': 24.671837973095066, 'Iteration': 102900}\n",
      "{'State': 15, 'Action': 0, 'Reward': 0.0, 'Error': 0.0, 'Time': 5.4390013217926025, 'Alpha': 0.001, 'Epsilon': 0.001, 'Gamma': 0.96, 'Max V': 367.95573607030605, 'Mean V': 24.671837973095066, 'Iteration': 102920}\n",
      "{'State': 15, 'Action': 0, 'Reward': 0.0, 'Error': 0.0, 'Time': 5.440996885299683, 'Alpha': 0.001, 'Epsilon': 0.001, 'Gamma': 0.96, 'Max V': 367.95573607030605, 'Mean V': 24.671837973095066, 'Iteration': 102940}\n",
      "{'State': 15, 'Action': 0, 'Reward': 0.0, 'Error': 0.0, 'Time': 5.441993474960327, 'Alpha': 0.001, 'Epsilon': 0.001, 'Gamma': 0.96, 'Max V': 367.95573607030605, 'Mean V': 24.671837973095066, 'Iteration': 102960}\n",
      "{'State': 15, 'Action': 0, 'Reward': 0.0, 'Error': 0.0, 'Time': 5.442990779876709, 'Alpha': 0.001, 'Epsilon': 0.001, 'Gamma': 0.96, 'Max V': 367.95573607030605, 'Mean V': 24.671837973095066, 'Iteration': 102980}\n",
      "{'State': 14, 'Action': 2, 'Reward': 1000.0, 'Error': 0.9852817705571877, 'Time': 5.443988084793091, 'Alpha': 0.001, 'Epsilon': 0.001, 'Gamma': 0.96, 'Max V': 368.94101784086325, 'Mean V': 24.73341808375489, 'Iteration': 103000}\n",
      "{'State': 15, 'Action': 0, 'Reward': 0.0, 'Error': 0.0, 'Time': 5.444985866546631, 'Alpha': 0.001, 'Epsilon': 0.001, 'Gamma': 0.96, 'Max V': 369.57207682302237, 'Mean V': 24.772859270139836, 'Iteration': 103020}\n",
      "{'State': 15, 'Action': 0, 'Reward': 0.0, 'Error': 0.0, 'Time': 5.4459826946258545, 'Alpha': 0.001, 'Epsilon': 0.001, 'Gamma': 0.96, 'Max V': 369.57207682302237, 'Mean V': 24.772859270139836, 'Iteration': 103040}\n",
      "{'State': 15, 'Action': 0, 'Reward': 0.0, 'Error': 0.0, 'Time': 5.446980237960815, 'Alpha': 0.001, 'Epsilon': 0.001, 'Gamma': 0.96, 'Max V': 369.57207682302237, 'Mean V': 24.772859270139836, 'Iteration': 103060}\n",
      "{'State': 15, 'Action': 0, 'Reward': 0.0, 'Error': 0.0, 'Time': 5.446980237960815, 'Alpha': 0.001, 'Epsilon': 0.001, 'Gamma': 0.96, 'Max V': 369.57207682302237, 'Mean V': 24.772859270139836, 'Iteration': 103080}\n",
      "{'State': 14, 'Action': 2, 'Reward': 1000.0, 'Error': 0.6446319884450956, 'Time': 5.462937355041504, 'Alpha': 0.001, 'Epsilon': 0.001, 'Gamma': 0.96, 'Max V': 370.21670881146747, 'Mean V': 24.813135516301568, 'Iteration': 103400}\n",
      "{'State': 15, 'Action': 0, 'Reward': 0.0, 'Error': 0.0, 'Time': 5.463934659957886, 'Alpha': 0.001, 'Epsilon': 0.001, 'Gamma': 0.96, 'Max V': 372.7748095206664, 'Mean V': 25.058290655905065, 'Iteration': 103420}\n",
      "{'State': 15, 'Action': 0, 'Reward': 0.0, 'Error': 0.0, 'Time': 5.464932203292847, 'Alpha': 0.001, 'Epsilon': 0.001, 'Gamma': 0.96, 'Max V': 372.7748095206664, 'Mean V': 25.058290655905065, 'Iteration': 103440}\n",
      "{'State': 15, 'Action': 0, 'Reward': 0.0, 'Error': 0.0, 'Time': 5.4659295082092285, 'Alpha': 0.001, 'Epsilon': 0.001, 'Gamma': 0.96, 'Max V': 372.7748095206664, 'Mean V': 25.058290655905065, 'Iteration': 103460}\n",
      "{'State': 15, 'Action': 0, 'Reward': 0.0, 'Error': 0.0, 'Time': 5.46692681312561, 'Alpha': 0.001, 'Epsilon': 0.001, 'Gamma': 0.96, 'Max V': 372.7748095206664, 'Mean V': 25.058290655905065, 'Iteration': 103480}\n",
      "{'State': 15, 'Action': 0, 'Reward': 0.0, 'Error': 0.0, 'Time': 5.476899862289429, 'Alpha': 0.001, 'Epsilon': 0.001, 'Gamma': 0.96, 'Max V': 372.7748095206664, 'Mean V': 25.058290655905065, 'Iteration': 103700}\n",
      "{'State': 15, 'Action': 0, 'Reward': 0.0, 'Error': 0.0, 'Time': 5.47789740562439, 'Alpha': 0.001, 'Epsilon': 0.001, 'Gamma': 0.96, 'Max V': 372.7748095206664, 'Mean V': 25.058290655905065, 'Iteration': 103720}\n",
      "{'State': 15, 'Action': 0, 'Reward': 0.0, 'Error': 0.0, 'Time': 5.4788947105407715, 'Alpha': 0.001, 'Epsilon': 0.001, 'Gamma': 0.96, 'Max V': 372.7748095206664, 'Mean V': 25.058290655905065, 'Iteration': 103740}\n",
      "{'State': 15, 'Action': 0, 'Reward': 0.0, 'Error': 0.0, 'Time': 5.479892015457153, 'Alpha': 0.001, 'Epsilon': 0.001, 'Gamma': 0.96, 'Max V': 372.7748095206664, 'Mean V': 25.058290655905065, 'Iteration': 103760}\n",
      "{'State': 15, 'Action': 0, 'Reward': 0.0, 'Error': 0.0, 'Time': 5.480889320373535, 'Alpha': 0.001, 'Epsilon': 0.001, 'Gamma': 0.96, 'Max V': 372.7748095206664, 'Mean V': 25.058290655905065, 'Iteration': 103780}\n",
      "{'State': 15, 'Action': 0, 'Reward': 0.0, 'Error': 0.0, 'Time': 5.5048253536224365, 'Alpha': 0.001, 'Epsilon': 0.001, 'Gamma': 0.96, 'Max V': 374.0434368286752, 'Mean V': 25.17910474457487, 'Iteration': 104320}\n",
      "{'State': 15, 'Action': 0, 'Reward': 0.0, 'Error': 0.0, 'Time': 5.505822658538818, 'Alpha': 0.001, 'Epsilon': 0.001, 'Gamma': 0.96, 'Max V': 374.0434368286752, 'Mean V': 25.17910474457487, 'Iteration': 104340}\n",
      "{'State': 15, 'Action': 0, 'Reward': 0.0, 'Error': 0.0, 'Time': 5.5068199634552, 'Alpha': 0.001, 'Epsilon': 0.001, 'Gamma': 0.96, 'Max V': 374.0434368286752, 'Mean V': 25.17910474457487, 'Iteration': 104360}\n",
      "{'State': 15, 'Action': 0, 'Reward': 0.0, 'Error': 0.0, 'Time': 5.507817506790161, 'Alpha': 0.001, 'Epsilon': 0.001, 'Gamma': 0.96, 'Max V': 374.0434368286752, 'Mean V': 25.17910474457487, 'Iteration': 104380}\n",
      "{'State': 14, 'Action': 2, 'Reward': 1000.0, 'Error': 0.9850382625268529, 'Time': 5.53574275970459, 'Alpha': 0.001, 'Epsilon': 0.001, 'Gamma': 0.96, 'Max V': 375.0284750912021, 'Mean V': 25.239705214513812, 'Iteration': 105000}\n",
      "{'State': 15, 'Action': 0, 'Reward': 0.0, 'Error': 0.0, 'Time': 5.536739826202393, 'Alpha': 0.001, 'Epsilon': 0.001, 'Gamma': 0.96, 'Max V': 376.6374604782463, 'Mean V': 25.340266801204073, 'Iteration': 105020}\n",
      "{'State': 15, 'Action': 0, 'Reward': 0.0, 'Error': 0.0, 'Time': 5.5377373695373535, 'Alpha': 0.001, 'Epsilon': 0.001, 'Gamma': 0.96, 'Max V': 376.6374604782463, 'Mean V': 25.340266801204073, 'Iteration': 105040}\n",
      "{'State': 15, 'Action': 0, 'Reward': 0.0, 'Error': 0.0, 'Time': 5.538734674453735, 'Alpha': 0.001, 'Epsilon': 0.001, 'Gamma': 0.96, 'Max V': 376.6374604782463, 'Mean V': 25.340266801204073, 'Iteration': 105060}\n",
      "{'State': 15, 'Action': 0, 'Reward': 0.0, 'Error': 0.0, 'Time': 5.539731979370117, 'Alpha': 0.001, 'Epsilon': 0.001, 'Gamma': 0.96, 'Max V': 376.6374604782463, 'Mean V': 25.340266801204073, 'Iteration': 105080}\n",
      "{'State': 15, 'Action': 0, 'Reward': 0.0, 'Error': 0.0, 'Time': 5.558681488037109, 'Alpha': 0.001, 'Epsilon': 0.001, 'Gamma': 0.96, 'Max V': 376.6374604782463, 'Mean V': 25.33944278462991, 'Iteration': 105500}\n",
      "{'State': 15, 'Action': 0, 'Reward': 0.0, 'Error': 0.0, 'Time': 5.559678792953491, 'Alpha': 0.001, 'Epsilon': 0.001, 'Gamma': 0.96, 'Max V': 376.6374604782463, 'Mean V': 25.33944278462991, 'Iteration': 105520}\n",
      "{'State': 15, 'Action': 0, 'Reward': 0.0, 'Error': 0.0, 'Time': 5.560675859451294, 'Alpha': 0.001, 'Epsilon': 0.001, 'Gamma': 0.96, 'Max V': 376.6374604782463, 'Mean V': 25.33944278462991, 'Iteration': 105540}\n",
      "{'State': 15, 'Action': 0, 'Reward': 0.0, 'Error': 0.0, 'Time': 5.561673164367676, 'Alpha': 0.001, 'Epsilon': 0.001, 'Gamma': 0.96, 'Max V': 376.6374604782463, 'Mean V': 25.33944278462991, 'Iteration': 105560}\n",
      "{'State': 15, 'Action': 0, 'Reward': 0.0, 'Error': 0.0, 'Time': 5.562670707702637, 'Alpha': 0.001, 'Epsilon': 0.001, 'Gamma': 0.96, 'Max V': 376.6374604782463, 'Mean V': 25.33944278462991, 'Iteration': 105580}\n",
      "{'State': 14, 'Action': 2, 'Reward': 1000.0, 'Error': 0.6381524954097775, 'Time': 5.581620454788208, 'Alpha': 0.001, 'Epsilon': 0.001, 'Gamma': 0.96, 'Max V': 377.27561297365605, 'Mean V': 25.379312732898192, 'Iteration': 105900}\n",
      "{'State': 15, 'Action': 0, 'Reward': 0.0, 'Error': 0.0, 'Time': 5.644453763961792, 'Alpha': 0.001, 'Epsilon': 0.001, 'Gamma': 0.96, 'Max V': 379.51811104629644, 'Mean V': 25.561007466556607, 'Iteration': 106920}\n",
      "{'State': 15, 'Action': 0, 'Reward': 0.0, 'Error': 0.0, 'Time': 5.645451307296753, 'Alpha': 0.001, 'Epsilon': 0.001, 'Gamma': 0.96, 'Max V': 379.51811104629644, 'Mean V': 25.561007466556607, 'Iteration': 106940}\n",
      "{'State': 15, 'Action': 0, 'Reward': 0.0, 'Error': 0.0, 'Time': 5.647445440292358, 'Alpha': 0.001, 'Epsilon': 0.001, 'Gamma': 0.96, 'Max V': 379.51811104629644, 'Mean V': 25.561007466556607, 'Iteration': 106960}\n",
      "{'State': 15, 'Action': 0, 'Reward': 0.0, 'Error': 0.0, 'Time': 5.648443222045898, 'Alpha': 0.001, 'Epsilon': 0.001, 'Gamma': 0.96, 'Max V': 379.51811104629644, 'Mean V': 25.561007466556607, 'Iteration': 106980}\n",
      "{'State': 15, 'Action': 0, 'Reward': 0.0, 'Error': 0.0, 'Time': 5.70034122467041, 'Alpha': 0.001, 'Epsilon': 0.001, 'Gamma': 0.96, 'Max V': 386.67289475431863, 'Mean V': 26.050297524162076, 'Iteration': 108020}\n",
      "{'State': 15, 'Action': 0, 'Reward': 0.0, 'Error': 0.0, 'Time': 5.701336145401001, 'Alpha': 0.001, 'Epsilon': 0.001, 'Gamma': 0.96, 'Max V': 386.67289475431863, 'Mean V': 26.050297524162076, 'Iteration': 108040}\n",
      "{'State': 15, 'Action': 0, 'Reward': 0.0, 'Error': 0.0, 'Time': 5.70233416557312, 'Alpha': 0.001, 'Epsilon': 0.001, 'Gamma': 0.96, 'Max V': 386.67289475431863, 'Mean V': 26.050297524162076, 'Iteration': 108060}\n",
      "{'State': 15, 'Action': 0, 'Reward': 0.0, 'Error': 0.0, 'Time': 5.703335285186768, 'Alpha': 0.001, 'Epsilon': 0.001, 'Gamma': 0.96, 'Max V': 386.67289475431863, 'Mean V': 26.050297524162076, 'Iteration': 108080}\n",
      "{'State': 15, 'Action': 0, 'Reward': 0.0, 'Error': 0.0, 'Time': 5.720290184020996, 'Alpha': 0.001, 'Epsilon': 0.001, 'Gamma': 0.96, 'Max V': 388.26977041068994, 'Mean V': 26.172299744461288, 'Iteration': 108420}\n",
      "{'State': 15, 'Action': 0, 'Reward': 0.0, 'Error': 0.0, 'Time': 5.721282958984375, 'Alpha': 0.001, 'Epsilon': 0.001, 'Gamma': 0.96, 'Max V': 388.26977041068994, 'Mean V': 26.172299744461288, 'Iteration': 108440}\n",
      "{'State': 15, 'Action': 0, 'Reward': 0.0, 'Error': 0.0, 'Time': 5.722283601760864, 'Alpha': 0.001, 'Epsilon': 0.001, 'Gamma': 0.96, 'Max V': 388.26977041068994, 'Mean V': 26.172299744461288, 'Iteration': 108460}\n",
      "{'State': 15, 'Action': 0, 'Reward': 0.0, 'Error': 0.0, 'Time': 5.723278999328613, 'Alpha': 0.001, 'Epsilon': 0.001, 'Gamma': 0.96, 'Max V': 388.26977041068994, 'Mean V': 26.172299744461288, 'Iteration': 108480}\n",
      "{'State': 15, 'Action': 0, 'Reward': 0.0, 'Error': 0.0, 'Time': 5.73824143409729, 'Alpha': 0.001, 'Epsilon': 0.001, 'Gamma': 0.96, 'Max V': 388.26977041068994, 'Mean V': 26.172297679170907, 'Iteration': 108800}\n",
      "{'State': 15, 'Action': 0, 'Reward': 0.0, 'Error': 0.0, 'Time': 5.739235162734985, 'Alpha': 0.001, 'Epsilon': 0.001, 'Gamma': 0.96, 'Max V': 388.26977041068994, 'Mean V': 26.172297679170907, 'Iteration': 108820}\n",
      "{'State': 15, 'Action': 0, 'Reward': 0.0, 'Error': 0.0, 'Time': 5.740234613418579, 'Alpha': 0.001, 'Epsilon': 0.001, 'Gamma': 0.96, 'Max V': 388.26977041068994, 'Mean V': 26.172297679170907, 'Iteration': 108840}\n",
      "{'State': 15, 'Action': 0, 'Reward': 0.0, 'Error': 0.0, 'Time': 5.741229772567749, 'Alpha': 0.001, 'Epsilon': 0.001, 'Gamma': 0.96, 'Max V': 388.26977041068994, 'Mean V': 26.172297679170907, 'Iteration': 108860}\n",
      "{'State': 15, 'Action': 0, 'Reward': 0.0, 'Error': 0.0, 'Time': 5.74222731590271, 'Alpha': 0.001, 'Epsilon': 0.001, 'Gamma': 0.96, 'Max V': 388.26977041068994, 'Mean V': 26.172297679170907, 'Iteration': 108880}\n",
      "{'State': 15, 'Action': 0, 'Reward': 0.0, 'Error': 0.0, 'Time': 5.758185625076294, 'Alpha': 0.001, 'Epsilon': 0.001, 'Gamma': 0.96, 'Max V': 390.49083434017894, 'Mean V': 26.35570397700295, 'Iteration': 109220}\n",
      "{'State': 15, 'Action': 0, 'Reward': 0.0, 'Error': 0.0, 'Time': 5.759183883666992, 'Alpha': 0.001, 'Epsilon': 0.001, 'Gamma': 0.96, 'Max V': 390.49083434017894, 'Mean V': 26.35570397700295, 'Iteration': 109240}\n",
      "{'State': 15, 'Action': 0, 'Reward': 0.0, 'Error': 0.0, 'Time': 5.760181903839111, 'Alpha': 0.001, 'Epsilon': 0.001, 'Gamma': 0.96, 'Max V': 390.49083434017894, 'Mean V': 26.35570397700295, 'Iteration': 109260}\n",
      "{'State': 15, 'Action': 0, 'Reward': 0.0, 'Error': 0.0, 'Time': 5.761177062988281, 'Alpha': 0.001, 'Epsilon': 0.001, 'Gamma': 0.96, 'Max V': 390.49083434017894, 'Mean V': 26.35570397700295, 'Iteration': 109280}\n",
      "{'State': 15, 'Action': 0, 'Reward': 0.0, 'Error': 0.0, 'Time': 5.800072431564331, 'Alpha': 0.001, 'Epsilon': 0.001, 'Gamma': 0.96, 'Max V': 390.49083434017894, 'Mean V': 26.354817116691745, 'Iteration': 110100}\n",
      "{'State': 15, 'Action': 0, 'Reward': 0.0, 'Error': 0.0, 'Time': 5.801070690155029, 'Alpha': 0.001, 'Epsilon': 0.001, 'Gamma': 0.96, 'Max V': 390.49083434017894, 'Mean V': 26.354817116691745, 'Iteration': 110120}\n",
      "{'State': 15, 'Action': 0, 'Reward': 0.0, 'Error': 0.0, 'Time': 5.802070617675781, 'Alpha': 0.001, 'Epsilon': 0.001, 'Gamma': 0.96, 'Max V': 390.49083434017894, 'Mean V': 26.354817116691745, 'Iteration': 110140}\n",
      "{'State': 15, 'Action': 0, 'Reward': 0.0, 'Error': 0.0, 'Time': 5.8030641078948975, 'Alpha': 0.001, 'Epsilon': 0.001, 'Gamma': 0.96, 'Max V': 390.49083434017894, 'Mean V': 26.354817116691745, 'Iteration': 110160}\n",
      "{'State': 15, 'Action': 0, 'Reward': 0.0, 'Error': 0.0, 'Time': 5.8030641078948975, 'Alpha': 0.001, 'Epsilon': 0.001, 'Gamma': 0.96, 'Max V': 390.49083434017894, 'Mean V': 26.354817116691745, 'Iteration': 110180}\n",
      "{'State': 15, 'Action': 0, 'Reward': 0.0, 'Error': 0.0, 'Time': 5.8050596714019775, 'Alpha': 0.001, 'Epsilon': 0.001, 'Gamma': 0.96, 'Max V': 391.72564380773656, 'Mean V': 26.476773908780565, 'Iteration': 110220}\n",
      "{'State': 15, 'Action': 0, 'Reward': 0.0, 'Error': 0.0, 'Time': 5.806056022644043, 'Alpha': 0.001, 'Epsilon': 0.001, 'Gamma': 0.96, 'Max V': 391.72564380773656, 'Mean V': 26.476773908780565, 'Iteration': 110240}\n",
      "{'State': 15, 'Action': 0, 'Reward': 0.0, 'Error': 0.0, 'Time': 5.807055711746216, 'Alpha': 0.001, 'Epsilon': 0.001, 'Gamma': 0.96, 'Max V': 391.72564380773656, 'Mean V': 26.476773908780565, 'Iteration': 110260}\n",
      "{'State': 15, 'Action': 0, 'Reward': 0.0, 'Error': 0.0, 'Time': 5.808051586151123, 'Alpha': 0.001, 'Epsilon': 0.001, 'Gamma': 0.96, 'Max V': 391.72564380773656, 'Mean V': 26.476773908780565, 'Iteration': 110280}\n",
      "{'State': 15, 'Action': 0, 'Reward': 0.0, 'Error': 0.0, 'Time': 5.833985090255737, 'Alpha': 0.001, 'Epsilon': 0.001, 'Gamma': 0.96, 'Max V': 394.5647974218527, 'Mean V': 26.721696825622846, 'Iteration': 110820}\n",
      "{'State': 15, 'Action': 0, 'Reward': 0.0, 'Error': 0.0, 'Time': 5.8349809646606445, 'Alpha': 0.001, 'Epsilon': 0.001, 'Gamma': 0.96, 'Max V': 394.5647974218527, 'Mean V': 26.721696825622846, 'Iteration': 110840}\n",
      "{'State': 15, 'Action': 0, 'Reward': 0.0, 'Error': 0.0, 'Time': 5.8359785079956055, 'Alpha': 0.001, 'Epsilon': 0.001, 'Gamma': 0.96, 'Max V': 394.5647974218527, 'Mean V': 26.721696825622846, 'Iteration': 110860}\n",
      "{'State': 15, 'Action': 0, 'Reward': 0.0, 'Error': 0.0, 'Time': 5.83697509765625, 'Alpha': 0.001, 'Epsilon': 0.001, 'Gamma': 0.96, 'Max V': 394.5647974218527, 'Mean V': 26.721696825622846, 'Iteration': 110880}\n",
      "{'State': 15, 'Action': 0, 'Reward': 0.0, 'Error': 0.0, 'Time': 5.841964960098267, 'Alpha': 0.001, 'Epsilon': 0.001, 'Gamma': 0.96, 'Max V': 394.5647974218527, 'Mean V': 26.72167924776385, 'Iteration': 111000}\n",
      "{'State': 15, 'Action': 0, 'Reward': 0.0, 'Error': 0.0, 'Time': 5.842958211898804, 'Alpha': 0.001, 'Epsilon': 0.001, 'Gamma': 0.96, 'Max V': 394.5647974218527, 'Mean V': 26.72167924776385, 'Iteration': 111020}\n",
      "{'State': 15, 'Action': 0, 'Reward': 0.0, 'Error': 0.0, 'Time': 5.843957185745239, 'Alpha': 0.001, 'Epsilon': 0.001, 'Gamma': 0.96, 'Max V': 394.5647974218527, 'Mean V': 26.72167924776385, 'Iteration': 111040}\n",
      "{'State': 15, 'Action': 0, 'Reward': 0.0, 'Error': 0.0, 'Time': 5.844952583312988, 'Alpha': 0.001, 'Epsilon': 0.001, 'Gamma': 0.96, 'Max V': 394.5647974218527, 'Mean V': 26.72167924776385, 'Iteration': 111060}\n",
      "{'State': 15, 'Action': 0, 'Reward': 0.0, 'Error': 0.0, 'Time': 5.84594988822937, 'Alpha': 0.001, 'Epsilon': 0.001, 'Gamma': 0.96, 'Max V': 394.5647974218527, 'Mean V': 26.72167924776385, 'Iteration': 111080}\n",
      "{'State': 14, 'Action': 2, 'Reward': 1000.0, 'Error': 0.9842174081031257, 'Time': 5.860910177230835, 'Alpha': 0.001, 'Epsilon': 0.001, 'Gamma': 0.96, 'Max V': 395.5490148299558, 'Mean V': 26.783192835770294, 'Iteration': 111400}\n",
      "{'State': 15, 'Action': 0, 'Reward': 0.0, 'Error': 0.0, 'Time': 5.861908197402954, 'Alpha': 0.001, 'Epsilon': 0.001, 'Gamma': 0.96, 'Max V': 397.7565951529519, 'Mean V': 26.943883251115583, 'Iteration': 111420}\n",
      "{'State': 15, 'Action': 0, 'Reward': 0.0, 'Error': 0.0, 'Time': 5.862906455993652, 'Alpha': 0.001, 'Epsilon': 0.001, 'Gamma': 0.96, 'Max V': 397.7565951529519, 'Mean V': 26.943883251115583, 'Iteration': 111440}\n",
      "{'State': 15, 'Action': 0, 'Reward': 0.0, 'Error': 0.0, 'Time': 5.86390233039856, 'Alpha': 0.001, 'Epsilon': 0.001, 'Gamma': 0.96, 'Max V': 397.7565951529519, 'Mean V': 26.943883251115583, 'Iteration': 111460}\n",
      "{'State': 15, 'Action': 0, 'Reward': 0.0, 'Error': 0.0, 'Time': 5.8649001121521, 'Alpha': 0.001, 'Epsilon': 0.001, 'Gamma': 0.96, 'Max V': 397.7565951529519, 'Mean V': 26.943883251115583, 'Iteration': 111480}\n",
      "{'State': 15, 'Action': 0, 'Reward': 0.0, 'Error': 0.0, 'Time': 5.866894006729126, 'Alpha': 0.001, 'Epsilon': 0.001, 'Gamma': 0.96, 'Max V': 398.35883855779895, 'Mean V': 27.005335163416003, 'Iteration': 111520}\n",
      "{'State': 15, 'Action': 0, 'Reward': 0.0, 'Error': 0.0, 'Time': 5.867893218994141, 'Alpha': 0.001, 'Epsilon': 0.001, 'Gamma': 0.96, 'Max V': 398.35883855779895, 'Mean V': 27.005335163416003, 'Iteration': 111540}\n",
      "{'State': 15, 'Action': 0, 'Reward': 0.0, 'Error': 0.0, 'Time': 5.868892192840576, 'Alpha': 0.001, 'Epsilon': 0.001, 'Gamma': 0.96, 'Max V': 398.35883855779895, 'Mean V': 27.005335163416003, 'Iteration': 111560}\n",
      "{'State': 15, 'Action': 0, 'Reward': 0.0, 'Error': 0.0, 'Time': 5.8708860874176025, 'Alpha': 0.001, 'Epsilon': 0.001, 'Gamma': 0.96, 'Max V': 398.35883855779895, 'Mean V': 27.005335163416003, 'Iteration': 111580}\n",
      "{'State': 14, 'Action': 2, 'Reward': 1000.0, 'Error': 0.6190793144723484, 'Time': 5.894823312759399, 'Alpha': 0.001, 'Epsilon': 0.001, 'Gamma': 0.96, 'Max V': 398.9779178722713, 'Mean V': 27.044025995459773, 'Iteration': 112100}\n",
      "{'State': 15, 'Action': 0, 'Reward': 0.0, 'Error': 0.0, 'Time': 5.8958189487457275, 'Alpha': 0.001, 'Epsilon': 0.001, 'Gamma': 0.96, 'Max V': 399.578939954399, 'Mean V': 27.104393254243856, 'Iteration': 112120}\n",
      "{'State': 15, 'Action': 0, 'Reward': 0.0, 'Error': 0.0, 'Time': 5.897816896438599, 'Alpha': 0.001, 'Epsilon': 0.001, 'Gamma': 0.96, 'Max V': 399.578939954399, 'Mean V': 27.104393254243856, 'Iteration': 112140}\n",
      "{'State': 15, 'Action': 0, 'Reward': 0.0, 'Error': 0.0, 'Time': 5.898810386657715, 'Alpha': 0.001, 'Epsilon': 0.001, 'Gamma': 0.96, 'Max V': 399.578939954399, 'Mean V': 27.104393254243856, 'Iteration': 112160}\n",
      "{'State': 15, 'Action': 0, 'Reward': 0.0, 'Error': 0.0, 'Time': 5.898810386657715, 'Alpha': 0.001, 'Epsilon': 0.001, 'Gamma': 0.96, 'Max V': 399.578939954399, 'Mean V': 27.104393254243856, 'Iteration': 112180}\n",
      "{'State': 15, 'Action': 0, 'Reward': 0.0, 'Error': 0.0, 'Time': 5.900804042816162, 'Alpha': 0.001, 'Epsilon': 0.001, 'Gamma': 0.96, 'Max V': 400.1793610144446, 'Mean V': 27.165820680896985, 'Iteration': 112220}\n",
      "{'State': 15, 'Action': 0, 'Reward': 0.0, 'Error': 0.0, 'Time': 5.90180230140686, 'Alpha': 0.001, 'Epsilon': 0.001, 'Gamma': 0.96, 'Max V': 400.1793610144446, 'Mean V': 27.165820680896985, 'Iteration': 112240}\n",
      "{'State': 15, 'Action': 0, 'Reward': 0.0, 'Error': 0.0, 'Time': 5.9028000831604, 'Alpha': 0.001, 'Epsilon': 0.001, 'Gamma': 0.96, 'Max V': 400.1793610144446, 'Mean V': 27.165820680896985, 'Iteration': 112260}\n",
      "{'State': 15, 'Action': 0, 'Reward': 0.0, 'Error': 0.0, 'Time': 5.903795957565308, 'Alpha': 0.001, 'Epsilon': 0.001, 'Gamma': 0.96, 'Max V': 400.1793610144446, 'Mean V': 27.165820680896985, 'Iteration': 112280}\n",
      "{'State': 15, 'Action': 0, 'Reward': 0.0, 'Error': 0.0, 'Time': 5.910778999328613, 'Alpha': 0.001, 'Epsilon': 0.001, 'Gamma': 0.96, 'Max V': 400.77918165343016, 'Mean V': 27.226138781875097, 'Iteration': 112420}\n",
      "{'State': 15, 'Action': 0, 'Reward': 0.0, 'Error': 0.0, 'Time': 5.912736654281616, 'Alpha': 0.001, 'Epsilon': 0.001, 'Gamma': 0.96, 'Max V': 400.77918165343016, 'Mean V': 27.226138781875097, 'Iteration': 112440}\n",
      "{'State': 15, 'Action': 0, 'Reward': 0.0, 'Error': 0.0, 'Time': 5.9137327671051025, 'Alpha': 0.001, 'Epsilon': 0.001, 'Gamma': 0.96, 'Max V': 400.77918165343016, 'Mean V': 27.226138781875097, 'Iteration': 112460}\n",
      "{'State': 15, 'Action': 0, 'Reward': 0.0, 'Error': 0.0, 'Time': 5.914768695831299, 'Alpha': 0.001, 'Epsilon': 0.001, 'Gamma': 0.96, 'Max V': 400.77918165343016, 'Mean V': 27.226138781875097, 'Iteration': 112480}\n",
      "{'State': 14, 'Action': 2, 'Reward': 1000.0, 'Error': 0.6177103612335805, 'Time': 5.935672760009766, 'Alpha': 0.001, 'Epsilon': 0.001, 'Gamma': 0.96, 'Max V': 401.39689201466376, 'Mean V': 27.264670524897895, 'Iteration': 112900}\n",
      "{'State': 15, 'Action': 0, 'Reward': 0.0, 'Error': 0.0, 'Time': 5.939662218093872, 'Alpha': 0.001, 'Epsilon': 0.001, 'Gamma': 0.96, 'Max V': 401.39689201466376, 'Mean V': 27.26346564542682, 'Iteration': 113000}\n",
      "{'State': 15, 'Action': 0, 'Reward': 0.0, 'Error': 0.0, 'Time': 5.940659523010254, 'Alpha': 0.001, 'Epsilon': 0.001, 'Gamma': 0.96, 'Max V': 401.39689201466376, 'Mean V': 27.26346564542682, 'Iteration': 113020}\n",
      "{'State': 15, 'Action': 0, 'Reward': 0.0, 'Error': 0.0, 'Time': 5.941656827926636, 'Alpha': 0.001, 'Epsilon': 0.001, 'Gamma': 0.96, 'Max V': 401.39689201466376, 'Mean V': 27.26346564542682, 'Iteration': 113040}\n",
      "{'State': 15, 'Action': 0, 'Reward': 0.0, 'Error': 0.0, 'Time': 5.942654132843018, 'Alpha': 0.001, 'Epsilon': 0.001, 'Gamma': 0.96, 'Max V': 401.39689201466376, 'Mean V': 27.26346564542682, 'Iteration': 113060}\n",
      "{'State': 15, 'Action': 0, 'Reward': 0.0, 'Error': 0.0, 'Time': 5.9436516761779785, 'Alpha': 0.001, 'Epsilon': 0.001, 'Gamma': 0.96, 'Max V': 401.39689201466376, 'Mean V': 27.26346564542682, 'Iteration': 113080}\n",
      "{'State': 15, 'Action': 0, 'Reward': 0.0, 'Error': 0.0, 'Time': 5.953624963760376, 'Alpha': 0.001, 'Epsilon': 0.001, 'Gamma': 0.96, 'Max V': 401.39689201466376, 'Mean V': 27.26346564542682, 'Iteration': 113300}\n",
      "{'State': 15, 'Action': 0, 'Reward': 0.0, 'Error': 0.0, 'Time': 5.954622983932495, 'Alpha': 0.001, 'Epsilon': 0.001, 'Gamma': 0.96, 'Max V': 401.39689201466376, 'Mean V': 27.26346564542682, 'Iteration': 113320}\n",
      "{'State': 15, 'Action': 0, 'Reward': 0.0, 'Error': 0.0, 'Time': 5.95561957359314, 'Alpha': 0.001, 'Epsilon': 0.001, 'Gamma': 0.96, 'Max V': 401.39689201466376, 'Mean V': 27.26346564542682, 'Iteration': 113340}\n",
      "{'State': 15, 'Action': 0, 'Reward': 0.0, 'Error': 0.0, 'Time': 5.956617116928101, 'Alpha': 0.001, 'Epsilon': 0.001, 'Gamma': 0.96, 'Max V': 401.39689201466376, 'Mean V': 27.26346564542682, 'Iteration': 113360}\n",
      "{'State': 15, 'Action': 0, 'Reward': 0.0, 'Error': 0.0, 'Time': 5.957614421844482, 'Alpha': 0.001, 'Epsilon': 0.001, 'Gamma': 0.96, 'Max V': 401.39689201466376, 'Mean V': 27.26346564542682, 'Iteration': 113380}\n",
      "{'State': 14, 'Action': 2, 'Reward': 1000.0, 'Error': 0.9839441243194135, 'Time': 5.96758770942688, 'Alpha': 0.001, 'Epsilon': 0.001, 'Gamma': 0.96, 'Max V': 402.38083613898317, 'Mean V': 27.32496215319678, 'Iteration': 113600}\n",
      "{'State': 15, 'Action': 0, 'Reward': 0.0, 'Error': 0.0, 'Time': 5.968585014343262, 'Alpha': 0.001, 'Epsilon': 0.001, 'Gamma': 0.96, 'Max V': 402.97845530284417, 'Mean V': 27.362313350938095, 'Iteration': 113620}\n",
      "{'State': 15, 'Action': 0, 'Reward': 0.0, 'Error': 0.0, 'Time': 5.9695823192596436, 'Alpha': 0.001, 'Epsilon': 0.001, 'Gamma': 0.96, 'Max V': 402.97845530284417, 'Mean V': 27.362313350938095, 'Iteration': 113640}\n",
      "{'State': 15, 'Action': 0, 'Reward': 0.0, 'Error': 0.0, 'Time': 5.9705798625946045, 'Alpha': 0.001, 'Epsilon': 0.001, 'Gamma': 0.96, 'Max V': 402.97845530284417, 'Mean V': 27.362313350938095, 'Iteration': 113660}\n",
      "{'State': 15, 'Action': 0, 'Reward': 0.0, 'Error': 0.0, 'Time': 5.971576929092407, 'Alpha': 0.001, 'Epsilon': 0.001, 'Gamma': 0.96, 'Max V': 402.97845530284417, 'Mean V': 27.362313350938095, 'Iteration': 113680}\n",
      "{'State': 15, 'Action': 0, 'Reward': 0.0, 'Error': 0.0, 'Time': 5.973571538925171, 'Alpha': 0.001, 'Epsilon': 0.001, 'Gamma': 0.96, 'Max V': 406.1560598270607, 'Mean V': 27.607103311882938, 'Iteration': 113720}\n",
      "{'State': 15, 'Action': 0, 'Reward': 0.0, 'Error': 0.0, 'Time': 5.974569082260132, 'Alpha': 0.001, 'Epsilon': 0.001, 'Gamma': 0.96, 'Max V': 406.1560598270607, 'Mean V': 27.607103311882938, 'Iteration': 113740}\n",
      "{'State': 15, 'Action': 0, 'Reward': 0.0, 'Error': 0.0, 'Time': 5.975566387176514, 'Alpha': 0.001, 'Epsilon': 0.001, 'Gamma': 0.96, 'Max V': 406.1560598270607, 'Mean V': 27.607103311882938, 'Iteration': 113760}\n",
      "{'State': 15, 'Action': 0, 'Reward': 0.0, 'Error': 0.0, 'Time': 5.976563453674316, 'Alpha': 0.001, 'Epsilon': 0.001, 'Gamma': 0.96, 'Max V': 406.1560598270607, 'Mean V': 27.607103311882938, 'Iteration': 113780}\n",
      "{'State': 15, 'Action': 0, 'Reward': 0.0, 'Error': 0.0, 'Time': 5.977560758590698, 'Alpha': 0.001, 'Epsilon': 0.001, 'Gamma': 0.96, 'Max V': 406.1560598270607, 'Mean V': 27.607103311882938, 'Iteration': 113800}\n",
      "{'State': 15, 'Action': 0, 'Reward': 0.0, 'Error': 0.0, 'Time': 5.978558301925659, 'Alpha': 0.001, 'Epsilon': 0.001, 'Gamma': 0.96, 'Max V': 406.1560598270607, 'Mean V': 27.607103311882938, 'Iteration': 113820}\n",
      "{'State': 15, 'Action': 0, 'Reward': 0.0, 'Error': 0.0, 'Time': 5.978558301925659, 'Alpha': 0.001, 'Epsilon': 0.001, 'Gamma': 0.96, 'Max V': 406.1560598270607, 'Mean V': 27.607103311882938, 'Iteration': 113840}\n",
      "{'State': 15, 'Action': 0, 'Reward': 0.0, 'Error': 0.0, 'Time': 5.979555368423462, 'Alpha': 0.001, 'Epsilon': 0.001, 'Gamma': 0.96, 'Max V': 406.1560598270607, 'Mean V': 27.607103311882938, 'Iteration': 113860}\n",
      "{'State': 15, 'Action': 0, 'Reward': 0.0, 'Error': 0.0, 'Time': 5.980552911758423, 'Alpha': 0.001, 'Epsilon': 0.001, 'Gamma': 0.96, 'Max V': 406.1560598270607, 'Mean V': 27.607103311882938, 'Iteration': 113880}\n",
      "{'State': 14, 'Action': 2, 'Reward': 1000.0, 'Error': 0.5938439401729393, 'Time': 5.99052619934082, 'Alpha': 0.001, 'Epsilon': 0.001, 'Gamma': 0.96, 'Max V': 406.7499037672336, 'Mean V': 27.642987740996983, 'Iteration': 114100}\n",
      "{'State': 15, 'Action': 0, 'Reward': 0.0, 'Error': 0.0, 'Time': 5.991523265838623, 'Alpha': 0.001, 'Epsilon': 0.001, 'Gamma': 0.96, 'Max V': 406.7499037672336, 'Mean V': 27.642987740996983, 'Iteration': 114120}\n",
      "{'State': 15, 'Action': 0, 'Reward': 0.0, 'Error': 0.0, 'Time': 5.992521047592163, 'Alpha': 0.001, 'Epsilon': 0.001, 'Gamma': 0.96, 'Max V': 406.7499037672336, 'Mean V': 27.642987740996983, 'Iteration': 114140}\n",
      "{'State': 15, 'Action': 0, 'Reward': 0.0, 'Error': 0.0, 'Time': 5.993518114089966, 'Alpha': 0.001, 'Epsilon': 0.001, 'Gamma': 0.96, 'Max V': 406.7499037672336, 'Mean V': 27.642987740996983, 'Iteration': 114160}\n",
      "{'State': 15, 'Action': 0, 'Reward': 0.0, 'Error': 0.0, 'Time': 5.994515419006348, 'Alpha': 0.001, 'Epsilon': 0.001, 'Gamma': 0.96, 'Max V': 406.7499037672336, 'Mean V': 27.642987740996983, 'Iteration': 114180}\n",
      "{'State': 15, 'Action': 0, 'Reward': 0.0, 'Error': 0.0, 'Time': 6.083279848098755, 'Alpha': 0.001, 'Epsilon': 0.001, 'Gamma': 0.96, 'Max V': 408.95533033449544, 'Mean V': 27.823835468241704, 'Iteration': 115700}\n",
      "{'State': 15, 'Action': 0, 'Reward': 0.0, 'Error': 0.0, 'Time': 6.084277391433716, 'Alpha': 0.001, 'Epsilon': 0.001, 'Gamma': 0.96, 'Max V': 408.95533033449544, 'Mean V': 27.823835468241704, 'Iteration': 115720}\n",
      "{'State': 15, 'Action': 0, 'Reward': 0.0, 'Error': 0.0, 'Time': 6.0862717628479, 'Alpha': 0.001, 'Epsilon': 0.001, 'Gamma': 0.96, 'Max V': 408.95533033449544, 'Mean V': 27.823835468241704, 'Iteration': 115740}\n",
      "{'State': 15, 'Action': 0, 'Reward': 0.0, 'Error': 0.0, 'Time': 6.087269067764282, 'Alpha': 0.001, 'Epsilon': 0.001, 'Gamma': 0.96, 'Max V': 408.95533033449544, 'Mean V': 27.823835468241704, 'Iteration': 115760}\n",
      "{'State': 15, 'Action': 0, 'Reward': 0.0, 'Error': 0.0, 'Time': 6.088266372680664, 'Alpha': 0.001, 'Epsilon': 0.001, 'Gamma': 0.96, 'Max V': 408.95533033449544, 'Mean V': 27.823835468241704, 'Iteration': 115780}\n",
      "{'State': 15, 'Action': 0, 'Reward': 0.0, 'Error': 0.0, 'Time': 6.090260982513428, 'Alpha': 0.001, 'Epsilon': 0.001, 'Gamma': 0.96, 'Max V': 408.95533033449544, 'Mean V': 27.823835468241704, 'Iteration': 115800}\n",
      "{'State': 15, 'Action': 0, 'Reward': 0.0, 'Error': 0.0, 'Time': 6.091258764266968, 'Alpha': 0.001, 'Epsilon': 0.001, 'Gamma': 0.96, 'Max V': 408.95533033449544, 'Mean V': 27.823835468241704, 'Iteration': 115820}\n",
      "{'State': 15, 'Action': 0, 'Reward': 0.0, 'Error': 0.0, 'Time': 6.093253135681152, 'Alpha': 0.001, 'Epsilon': 0.001, 'Gamma': 0.96, 'Max V': 408.95533033449544, 'Mean V': 27.823835468241704, 'Iteration': 115840}\n",
      "{'State': 15, 'Action': 0, 'Reward': 0.0, 'Error': 0.0, 'Time': 6.094250440597534, 'Alpha': 0.001, 'Epsilon': 0.001, 'Gamma': 0.96, 'Max V': 408.95533033449544, 'Mean V': 27.823835468241704, 'Iteration': 115860}\n",
      "{'State': 15, 'Action': 0, 'Reward': 0.0, 'Error': 0.0, 'Time': 6.095247983932495, 'Alpha': 0.001, 'Epsilon': 0.001, 'Gamma': 0.96, 'Max V': 408.95533033449544, 'Mean V': 27.823835468241704, 'Iteration': 115880}\n",
      "{'State': 15, 'Action': 0, 'Reward': 0.0, 'Error': 0.0, 'Time': 6.162069082260132, 'Alpha': 0.001, 'Epsilon': 0.001, 'Gamma': 0.96, 'Max V': 408.95533033449544, 'Mean V': 27.82247746247153, 'Iteration': 116900}\n",
      "{'State': 15, 'Action': 0, 'Reward': 0.0, 'Error': 0.0, 'Time': 6.163066387176514, 'Alpha': 0.001, 'Epsilon': 0.001, 'Gamma': 0.96, 'Max V': 408.95533033449544, 'Mean V': 27.82247746247153, 'Iteration': 116920}\n",
      "{'State': 15, 'Action': 0, 'Reward': 0.0, 'Error': 0.0, 'Time': 6.1650612354278564, 'Alpha': 0.001, 'Epsilon': 0.001, 'Gamma': 0.96, 'Max V': 408.95533033449544, 'Mean V': 27.82247746247153, 'Iteration': 116940}\n",
      "{'State': 15, 'Action': 0, 'Reward': 0.0, 'Error': 0.0, 'Time': 6.166058301925659, 'Alpha': 0.001, 'Epsilon': 0.001, 'Gamma': 0.96, 'Max V': 408.95533033449544, 'Mean V': 27.82247746247153, 'Iteration': 116960}\n",
      "{'State': 15, 'Action': 0, 'Reward': 0.0, 'Error': 0.0, 'Time': 6.167055606842041, 'Alpha': 0.001, 'Epsilon': 0.001, 'Gamma': 0.96, 'Max V': 408.95533033449544, 'Mean V': 27.82247746247153, 'Iteration': 116980}\n",
      "{'State': 15, 'Action': 0, 'Reward': 0.0, 'Error': 0.0, 'Time': 6.218916893005371, 'Alpha': 0.001, 'Epsilon': 0.001, 'Gamma': 0.96, 'Max V': 408.95533033449544, 'Mean V': 27.82119359777434, 'Iteration': 117800}\n",
      "{'State': 15, 'Action': 0, 'Reward': 0.0, 'Error': 0.0, 'Time': 6.219914197921753, 'Alpha': 0.001, 'Epsilon': 0.001, 'Gamma': 0.96, 'Max V': 408.95533033449544, 'Mean V': 27.82119359777434, 'Iteration': 117820}\n",
      "{'State': 15, 'Action': 0, 'Reward': 0.0, 'Error': 0.0, 'Time': 6.221909523010254, 'Alpha': 0.001, 'Epsilon': 0.001, 'Gamma': 0.96, 'Max V': 408.95533033449544, 'Mean V': 27.82119359777434, 'Iteration': 117840}\n",
      "{'State': 15, 'Action': 0, 'Reward': 0.0, 'Error': 0.0, 'Time': 6.2229063510894775, 'Alpha': 0.001, 'Epsilon': 0.001, 'Gamma': 0.96, 'Max V': 408.95533033449544, 'Mean V': 27.82119359777434, 'Iteration': 117860}\n",
      "{'State': 15, 'Action': 0, 'Reward': 0.0, 'Error': 0.0, 'Time': 6.224900960922241, 'Alpha': 0.001, 'Epsilon': 0.001, 'Gamma': 0.96, 'Max V': 408.95533033449544, 'Mean V': 27.82119359777434, 'Iteration': 117880}\n",
      "{'State': 15, 'Action': 0, 'Reward': 0.0, 'Error': 0.0, 'Time': 6.232879638671875, 'Alpha': 0.001, 'Epsilon': 0.001, 'Gamma': 0.96, 'Max V': 408.95533033449544, 'Mean V': 27.82119359777434, 'Iteration': 118000}\n",
      "{'State': 15, 'Action': 0, 'Reward': 0.0, 'Error': 0.0, 'Time': 6.234874248504639, 'Alpha': 0.001, 'Epsilon': 0.001, 'Gamma': 0.96, 'Max V': 408.95533033449544, 'Mean V': 27.82119359777434, 'Iteration': 118020}\n",
      "{'State': 15, 'Action': 0, 'Reward': 0.0, 'Error': 0.0, 'Time': 6.2358715534210205, 'Alpha': 0.001, 'Epsilon': 0.001, 'Gamma': 0.96, 'Max V': 408.95533033449544, 'Mean V': 27.82119359777434, 'Iteration': 118040}\n",
      "{'State': 15, 'Action': 0, 'Reward': 0.0, 'Error': 0.0, 'Time': 6.236868858337402, 'Alpha': 0.001, 'Epsilon': 0.001, 'Gamma': 0.96, 'Max V': 408.95533033449544, 'Mean V': 27.82119359777434, 'Iteration': 118060}\n",
      "{'State': 15, 'Action': 0, 'Reward': 0.0, 'Error': 0.0, 'Time': 6.238863706588745, 'Alpha': 0.001, 'Epsilon': 0.001, 'Gamma': 0.96, 'Max V': 408.95533033449544, 'Mean V': 27.82119359777434, 'Iteration': 118080}\n",
      "{'State': 15, 'Action': 0, 'Reward': 0.0, 'Error': 0.0, 'Time': 6.239861011505127, 'Alpha': 0.001, 'Epsilon': 0.001, 'Gamma': 0.96, 'Max V': 408.95533033449544, 'Mean V': 27.82119359777434, 'Iteration': 118100}\n",
      "{'State': 15, 'Action': 0, 'Reward': 0.0, 'Error': 0.0, 'Time': 6.241855621337891, 'Alpha': 0.001, 'Epsilon': 0.001, 'Gamma': 0.96, 'Max V': 408.95533033449544, 'Mean V': 27.82119359777434, 'Iteration': 118120}\n",
      "{'State': 15, 'Action': 0, 'Reward': 0.0, 'Error': 0.0, 'Time': 6.242853403091431, 'Alpha': 0.001, 'Epsilon': 0.001, 'Gamma': 0.96, 'Max V': 408.95533033449544, 'Mean V': 27.82119359777434, 'Iteration': 118140}\n",
      "{'State': 15, 'Action': 0, 'Reward': 0.0, 'Error': 0.0, 'Time': 6.244847774505615, 'Alpha': 0.001, 'Epsilon': 0.001, 'Gamma': 0.96, 'Max V': 408.95533033449544, 'Mean V': 27.82119359777434, 'Iteration': 118160}\n",
      "{'State': 15, 'Action': 0, 'Reward': 0.0, 'Error': 0.0, 'Time': 6.244847774505615, 'Alpha': 0.001, 'Epsilon': 0.001, 'Gamma': 0.96, 'Max V': 408.95533033449544, 'Mean V': 27.82119359777434, 'Iteration': 118180}\n",
      "{'State': 15, 'Action': 0, 'Reward': 0.0, 'Error': 0.0, 'Time': 6.246842384338379, 'Alpha': 0.001, 'Epsilon': 0.001, 'Gamma': 0.96, 'Max V': 408.95533033449544, 'Mean V': 27.82119359777434, 'Iteration': 118200}\n",
      "{'State': 15, 'Action': 0, 'Reward': 0.0, 'Error': 0.0, 'Time': 6.247839689254761, 'Alpha': 0.001, 'Epsilon': 0.001, 'Gamma': 0.96, 'Max V': 408.95533033449544, 'Mean V': 27.82119359777434, 'Iteration': 118220}\n",
      "{'State': 15, 'Action': 0, 'Reward': 0.0, 'Error': 0.0, 'Time': 6.249834299087524, 'Alpha': 0.001, 'Epsilon': 0.001, 'Gamma': 0.96, 'Max V': 408.95533033449544, 'Mean V': 27.82119359777434, 'Iteration': 118240}\n",
      "{'State': 15, 'Action': 0, 'Reward': 0.0, 'Error': 0.0, 'Time': 6.250831604003906, 'Alpha': 0.001, 'Epsilon': 0.001, 'Gamma': 0.96, 'Max V': 408.95533033449544, 'Mean V': 27.82119359777434, 'Iteration': 118260}\n",
      "{'State': 15, 'Action': 0, 'Reward': 0.0, 'Error': 0.0, 'Time': 6.252826452255249, 'Alpha': 0.001, 'Epsilon': 0.001, 'Gamma': 0.96, 'Max V': 408.95533033449544, 'Mean V': 27.82119359777434, 'Iteration': 118280}\n",
      "{'State': 15, 'Action': 0, 'Reward': 0.0, 'Error': 0.0, 'Time': 6.265791416168213, 'Alpha': 0.001, 'Epsilon': 0.001, 'Gamma': 0.96, 'Max V': 408.95533033449544, 'Mean V': 27.821164376639587, 'Iteration': 118500}\n",
      "{'State': 15, 'Action': 0, 'Reward': 0.0, 'Error': 0.0, 'Time': 6.266788959503174, 'Alpha': 0.001, 'Epsilon': 0.001, 'Gamma': 0.96, 'Max V': 408.95533033449544, 'Mean V': 27.821164376639587, 'Iteration': 118520}\n",
      "{'State': 15, 'Action': 0, 'Reward': 0.0, 'Error': 0.0, 'Time': 6.267786264419556, 'Alpha': 0.001, 'Epsilon': 0.001, 'Gamma': 0.96, 'Max V': 408.95533033449544, 'Mean V': 27.821164376639587, 'Iteration': 118540}\n",
      "{'State': 15, 'Action': 0, 'Reward': 0.0, 'Error': 0.0, 'Time': 6.269780874252319, 'Alpha': 0.001, 'Epsilon': 0.001, 'Gamma': 0.96, 'Max V': 408.95533033449544, 'Mean V': 27.821164376639587, 'Iteration': 118560}\n",
      "{'State': 15, 'Action': 0, 'Reward': 0.0, 'Error': 0.0, 'Time': 6.270778179168701, 'Alpha': 0.001, 'Epsilon': 0.001, 'Gamma': 0.96, 'Max V': 408.95533033449544, 'Mean V': 27.821164376639587, 'Iteration': 118580}\n",
      "{'State': 15, 'Action': 0, 'Reward': 0.0, 'Error': 0.0, 'Time': 6.2977070808410645, 'Alpha': 0.001, 'Epsilon': 0.001, 'Gamma': 0.96, 'Max V': 408.95533033449544, 'Mean V': 27.82015099363422, 'Iteration': 119000}\n",
      "{'State': 15, 'Action': 0, 'Reward': 0.0, 'Error': 0.0, 'Time': 6.298704147338867, 'Alpha': 0.001, 'Epsilon': 0.001, 'Gamma': 0.96, 'Max V': 408.95533033449544, 'Mean V': 27.82015099363422, 'Iteration': 119020}\n",
      "{'State': 15, 'Action': 0, 'Reward': 0.0, 'Error': 0.0, 'Time': 6.300698518753052, 'Alpha': 0.001, 'Epsilon': 0.001, 'Gamma': 0.96, 'Max V': 408.95533033449544, 'Mean V': 27.82015099363422, 'Iteration': 119040}\n",
      "{'State': 15, 'Action': 0, 'Reward': 0.0, 'Error': 0.0, 'Time': 6.301695823669434, 'Alpha': 0.001, 'Epsilon': 0.001, 'Gamma': 0.96, 'Max V': 408.95533033449544, 'Mean V': 27.82015099363422, 'Iteration': 119060}\n",
      "{'State': 15, 'Action': 0, 'Reward': 0.0, 'Error': 0.0, 'Time': 6.303690195083618, 'Alpha': 0.001, 'Epsilon': 0.001, 'Gamma': 0.96, 'Max V': 408.95533033449544, 'Mean V': 27.82015099363422, 'Iteration': 119080}\n",
      "{'State': 15, 'Action': 0, 'Reward': 0.0, 'Error': 0.0, 'Time': 6.317652702331543, 'Alpha': 0.001, 'Epsilon': 0.001, 'Gamma': 0.96, 'Max V': 415.2970038406841, 'Mean V': 28.310389257734183, 'Iteration': 119320}\n",
      "{'State': 15, 'Action': 0, 'Reward': 0.0, 'Error': 0.0, 'Time': 6.318650484085083, 'Alpha': 0.001, 'Epsilon': 0.001, 'Gamma': 0.96, 'Max V': 415.2970038406841, 'Mean V': 28.310389257734183, 'Iteration': 119340}\n",
      "{'State': 15, 'Action': 0, 'Reward': 0.0, 'Error': 0.0, 'Time': 6.319647550582886, 'Alpha': 0.001, 'Epsilon': 0.001, 'Gamma': 0.96, 'Max V': 415.2970038406841, 'Mean V': 28.310389257734183, 'Iteration': 119360}\n",
      "{'State': 15, 'Action': 0, 'Reward': 0.0, 'Error': 0.0, 'Time': 6.3216423988342285, 'Alpha': 0.001, 'Epsilon': 0.001, 'Gamma': 0.96, 'Max V': 415.2970038406841, 'Mean V': 28.310389257734183, 'Iteration': 119380}\n",
      "{'State': 15, 'Action': 0, 'Reward': 0.0, 'Error': 0.0, 'Time': 6.329621076583862, 'Alpha': 0.001, 'Epsilon': 0.001, 'Gamma': 0.96, 'Max V': 415.8817068368434, 'Mean V': 28.37081492964104, 'Iteration': 119520}\n",
      "{'State': 15, 'Action': 0, 'Reward': 0.0, 'Error': 0.0, 'Time': 6.331615447998047, 'Alpha': 0.001, 'Epsilon': 0.001, 'Gamma': 0.96, 'Max V': 415.8817068368434, 'Mean V': 28.37081492964104, 'Iteration': 119540}\n",
      "{'State': 15, 'Action': 0, 'Reward': 0.0, 'Error': 0.0, 'Time': 6.332612991333008, 'Alpha': 0.001, 'Epsilon': 0.001, 'Gamma': 0.96, 'Max V': 415.8817068368434, 'Mean V': 28.37081492964104, 'Iteration': 119560}\n",
      "{'State': 15, 'Action': 0, 'Reward': 0.0, 'Error': 0.0, 'Time': 6.3346076011657715, 'Alpha': 0.001, 'Epsilon': 0.001, 'Gamma': 0.96, 'Max V': 415.8817068368434, 'Mean V': 28.37081492964104, 'Iteration': 119580}\n",
      "{'State': 15, 'Action': 0, 'Reward': 0.0, 'Error': 0.0, 'Time': 6.423368453979492, 'Alpha': 0.001, 'Epsilon': 0.001, 'Gamma': 0.96, 'Max V': 417.67165968566167, 'Mean V': 28.548940131100892, 'Iteration': 121220}\n",
      "{'State': 15, 'Action': 0, 'Reward': 0.0, 'Error': 0.0, 'Time': 6.424365758895874, 'Alpha': 0.001, 'Epsilon': 0.001, 'Gamma': 0.96, 'Max V': 417.67165968566167, 'Mean V': 28.548940131100892, 'Iteration': 121240}\n",
      "{'State': 15, 'Action': 0, 'Reward': 0.0, 'Error': 0.0, 'Time': 6.425363063812256, 'Alpha': 0.001, 'Epsilon': 0.001, 'Gamma': 0.96, 'Max V': 417.67165968566167, 'Mean V': 28.548940131100892, 'Iteration': 121260}\n",
      "{'State': 15, 'Action': 0, 'Reward': 0.0, 'Error': 0.0, 'Time': 6.426360368728638, 'Alpha': 0.001, 'Epsilon': 0.001, 'Gamma': 0.96, 'Max V': 417.67165968566167, 'Mean V': 28.548940131100892, 'Iteration': 121280}\n",
      "{'State': 15, 'Action': 0, 'Reward': 0.0, 'Error': 0.0, 'Time': 6.483208417892456, 'Alpha': 0.001, 'Epsilon': 0.001, 'Gamma': 0.96, 'Max V': 418.2740085348433, 'Mean V': 28.606841968559017, 'Iteration': 122500}\n",
      "{'State': 15, 'Action': 0, 'Reward': 0.0, 'Error': 0.0, 'Time': 6.484205722808838, 'Alpha': 0.001, 'Epsilon': 0.001, 'Gamma': 0.96, 'Max V': 418.2740085348433, 'Mean V': 28.606841968559017, 'Iteration': 122520}\n",
      "{'State': 15, 'Action': 0, 'Reward': 0.0, 'Error': 0.0, 'Time': 6.48520302772522, 'Alpha': 0.001, 'Epsilon': 0.001, 'Gamma': 0.96, 'Max V': 418.2740085348433, 'Mean V': 28.606841968559017, 'Iteration': 122540}\n",
      "{'State': 15, 'Action': 0, 'Reward': 0.0, 'Error': 0.0, 'Time': 6.486200332641602, 'Alpha': 0.001, 'Epsilon': 0.001, 'Gamma': 0.96, 'Max V': 418.2740085348433, 'Mean V': 28.606841968559017, 'Iteration': 122560}\n",
      "{'State': 15, 'Action': 0, 'Reward': 0.0, 'Error': 0.0, 'Time': 6.487197637557983, 'Alpha': 0.001, 'Epsilon': 0.001, 'Gamma': 0.96, 'Max V': 418.2740085348433, 'Mean V': 28.606841968559017, 'Iteration': 122580}\n",
      "{'State': 15, 'Action': 0, 'Reward': 0.0, 'Error': 0.0, 'Time': 6.511133670806885, 'Alpha': 0.001, 'Epsilon': 0.001, 'Gamma': 0.96, 'Max V': 418.8557345263084, 'Mean V': 28.66690349017392, 'Iteration': 123120}\n",
      "{'State': 15, 'Action': 0, 'Reward': 0.0, 'Error': 0.0, 'Time': 6.512131214141846, 'Alpha': 0.001, 'Epsilon': 0.001, 'Gamma': 0.96, 'Max V': 418.8557345263084, 'Mean V': 28.66690349017392, 'Iteration': 123140}\n",
      "{'State': 15, 'Action': 0, 'Reward': 0.0, 'Error': 0.0, 'Time': 6.5131285190582275, 'Alpha': 0.001, 'Epsilon': 0.001, 'Gamma': 0.96, 'Max V': 418.8557345263084, 'Mean V': 28.66690349017392, 'Iteration': 123160}\n",
      "{'State': 15, 'Action': 0, 'Reward': 0.0, 'Error': 0.0, 'Time': 6.514125823974609, 'Alpha': 0.001, 'Epsilon': 0.001, 'Gamma': 0.96, 'Max V': 418.8557345263084, 'Mean V': 28.66690349017392, 'Iteration': 123180}\n",
      "{'State': 15, 'Action': 0, 'Reward': 0.0, 'Error': 0.0, 'Time': 6.5201096534729, 'Alpha': 0.001, 'Epsilon': 0.001, 'Gamma': 0.96, 'Max V': 419.43687879178214, 'Mean V': 28.727182713459293, 'Iteration': 123320}\n",
      "{'State': 15, 'Action': 0, 'Reward': 0.0, 'Error': 0.0, 'Time': 6.521106958389282, 'Alpha': 0.001, 'Epsilon': 0.001, 'Gamma': 0.96, 'Max V': 419.43687879178214, 'Mean V': 28.727182713459293, 'Iteration': 123340}\n",
      "{'State': 15, 'Action': 0, 'Reward': 0.0, 'Error': 0.0, 'Time': 6.522104263305664, 'Alpha': 0.001, 'Epsilon': 0.001, 'Gamma': 0.96, 'Max V': 419.43687879178214, 'Mean V': 28.727182713459293, 'Iteration': 123360}\n",
      "{'State': 15, 'Action': 0, 'Reward': 0.0, 'Error': 0.0, 'Time': 6.523101806640625, 'Alpha': 0.001, 'Epsilon': 0.001, 'Gamma': 0.96, 'Max V': 419.43687879178214, 'Mean V': 28.727182713459293, 'Iteration': 123380}\n",
      "{'State': 14, 'Action': 2, 'Reward': 1000.0, 'Error': 0.5793615333062863, 'Time': 6.564989805221558, 'Alpha': 0.001, 'Epsilon': 0.001, 'Gamma': 0.96, 'Max V': 421.21782822702005, 'Mean V': 28.886101643062926, 'Iteration': 124300}\n",
      "{'State': 15, 'Action': 0, 'Reward': 0.0, 'Error': 0.0, 'Time': 6.5659871101379395, 'Alpha': 0.001, 'Epsilon': 0.001, 'Gamma': 0.96, 'Max V': 421.21782822702005, 'Mean V': 28.886101643062926, 'Iteration': 124320}\n",
      "{'State': 15, 'Action': 0, 'Reward': 0.0, 'Error': 0.0, 'Time': 6.566984415054321, 'Alpha': 0.001, 'Epsilon': 0.001, 'Gamma': 0.96, 'Max V': 421.21782822702005, 'Mean V': 28.886101643062926, 'Iteration': 124340}\n",
      "{'State': 15, 'Action': 0, 'Reward': 0.0, 'Error': 0.0, 'Time': 6.567981719970703, 'Alpha': 0.001, 'Epsilon': 0.001, 'Gamma': 0.96, 'Max V': 421.21782822702005, 'Mean V': 28.886101643062926, 'Iteration': 124360}\n",
      "{'State': 15, 'Action': 0, 'Reward': 0.0, 'Error': 0.0, 'Time': 6.568979024887085, 'Alpha': 0.001, 'Epsilon': 0.001, 'Gamma': 0.96, 'Max V': 421.21782822702005, 'Mean V': 28.886101643062926, 'Iteration': 124380}\n",
      "{'State': 15, 'Action': 0, 'Reward': 0.0, 'Error': 0.0, 'Time': 6.596904277801514, 'Alpha': 0.001, 'Epsilon': 0.001, 'Gamma': 0.96, 'Max V': 425.9618067323599, 'Mean V': 29.25318819718715, 'Iteration': 125000}\n",
      "{'State': 15, 'Action': 0, 'Reward': 0.0, 'Error': 0.0, 'Time': 6.5979015827178955, 'Alpha': 0.001, 'Epsilon': 0.001, 'Gamma': 0.96, 'Max V': 425.9618067323599, 'Mean V': 29.25318819718715, 'Iteration': 125020}\n",
      "{'State': 15, 'Action': 0, 'Reward': 0.0, 'Error': 0.0, 'Time': 6.5979015827178955, 'Alpha': 0.001, 'Epsilon': 0.001, 'Gamma': 0.96, 'Max V': 425.9618067323599, 'Mean V': 29.25318819718715, 'Iteration': 125040}\n",
      "{'State': 15, 'Action': 0, 'Reward': 0.0, 'Error': 0.0, 'Time': 6.598898887634277, 'Alpha': 0.001, 'Epsilon': 0.001, 'Gamma': 0.96, 'Max V': 425.9618067323599, 'Mean V': 29.25318819718715, 'Iteration': 125060}\n",
      "{'State': 15, 'Action': 0, 'Reward': 0.0, 'Error': 0.0, 'Time': 6.599896430969238, 'Alpha': 0.001, 'Epsilon': 0.001, 'Gamma': 0.96, 'Max V': 425.9618067323599, 'Mean V': 29.25318819718715, 'Iteration': 125080}\n",
      "{'State': 14, 'Action': 2, 'Reward': 1000.0, 'Error': 0.57403819326764, 'Time': 6.617849349975586, 'Alpha': 0.001, 'Epsilon': 0.001, 'Gamma': 0.96, 'Max V': 426.53584492562754, 'Mean V': 29.28893138351059, 'Iteration': 125400}\n",
      "{'State': 15, 'Action': 0, 'Reward': 0.0, 'Error': 0.0, 'Time': 6.618849039077759, 'Alpha': 0.001, 'Epsilon': 0.001, 'Gamma': 0.96, 'Max V': 426.53584492562754, 'Mean V': 29.28893138351059, 'Iteration': 125420}\n",
      "{'State': 15, 'Action': 0, 'Reward': 0.0, 'Error': 0.0, 'Time': 6.619843006134033, 'Alpha': 0.001, 'Epsilon': 0.001, 'Gamma': 0.96, 'Max V': 426.53584492562754, 'Mean V': 29.28893138351059, 'Iteration': 125440}\n",
      "{'State': 15, 'Action': 0, 'Reward': 0.0, 'Error': 0.0, 'Time': 6.620843410491943, 'Alpha': 0.001, 'Epsilon': 0.001, 'Gamma': 0.96, 'Max V': 426.53584492562754, 'Mean V': 29.28893138351059, 'Iteration': 125460}\n",
      "{'State': 15, 'Action': 0, 'Reward': 0.0, 'Error': 0.0, 'Time': 6.621840953826904, 'Alpha': 0.001, 'Epsilon': 0.001, 'Gamma': 0.96, 'Max V': 426.53584492562754, 'Mean V': 29.28893138351059, 'Iteration': 125480}\n",
      "{'State': 15, 'Action': 0, 'Reward': 0.0, 'Error': 0.0, 'Time': 6.622840404510498, 'Alpha': 0.001, 'Epsilon': 0.001, 'Gamma': 0.96, 'Max V': 426.53584492562754, 'Mean V': 29.28893138351059, 'Iteration': 125500}\n",
      "{'State': 15, 'Action': 0, 'Reward': 0.0, 'Error': 0.0, 'Time': 6.623835802078247, 'Alpha': 0.001, 'Epsilon': 0.001, 'Gamma': 0.96, 'Max V': 426.53584492562754, 'Mean V': 29.28893138351059, 'Iteration': 125520}\n",
      "{'State': 15, 'Action': 0, 'Reward': 0.0, 'Error': 0.0, 'Time': 6.62483286857605, 'Alpha': 0.001, 'Epsilon': 0.001, 'Gamma': 0.96, 'Max V': 426.53584492562754, 'Mean V': 29.28893138351059, 'Iteration': 125540}\n",
      "{'State': 15, 'Action': 0, 'Reward': 0.0, 'Error': 0.0, 'Time': 6.625840187072754, 'Alpha': 0.001, 'Epsilon': 0.001, 'Gamma': 0.96, 'Max V': 426.53584492562754, 'Mean V': 29.28893138351059, 'Iteration': 125560}\n",
      "{'State': 15, 'Action': 0, 'Reward': 0.0, 'Error': 0.0, 'Time': 6.626828670501709, 'Alpha': 0.001, 'Epsilon': 0.001, 'Gamma': 0.96, 'Max V': 426.53584492562754, 'Mean V': 29.28893138351059, 'Iteration': 125580}\n",
      "{'State': 15, 'Action': 0, 'Reward': 0.0, 'Error': 0.0, 'Time': 6.638792514801025, 'Alpha': 0.001, 'Epsilon': 0.001, 'Gamma': 0.96, 'Max V': 426.53584492562754, 'Mean V': 29.288903734518154, 'Iteration': 125800}\n",
      "{'State': 15, 'Action': 0, 'Reward': 0.0, 'Error': 0.0, 'Time': 6.639790773391724, 'Alpha': 0.001, 'Epsilon': 0.001, 'Gamma': 0.96, 'Max V': 426.53584492562754, 'Mean V': 29.288903734518154, 'Iteration': 125820}\n",
      "{'State': 15, 'Action': 0, 'Reward': 0.0, 'Error': 0.0, 'Time': 6.640789031982422, 'Alpha': 0.001, 'Epsilon': 0.001, 'Gamma': 0.96, 'Max V': 426.53584492562754, 'Mean V': 29.288903734518154, 'Iteration': 125840}\n",
      "{'State': 15, 'Action': 0, 'Reward': 0.0, 'Error': 0.0, 'Time': 6.641787528991699, 'Alpha': 0.001, 'Epsilon': 0.001, 'Gamma': 0.96, 'Max V': 426.53584492562754, 'Mean V': 29.288903734518154, 'Iteration': 125860}\n",
      "{'State': 15, 'Action': 0, 'Reward': 0.0, 'Error': 0.0, 'Time': 6.642786741256714, 'Alpha': 0.001, 'Epsilon': 0.001, 'Gamma': 0.96, 'Max V': 426.53584492562754, 'Mean V': 29.288903734518154, 'Iteration': 125880}\n",
      "{'State': 14, 'Action': 2, 'Reward': 1000.0, 'Error': 0.9829385662029749, 'Time': 6.6547510623931885, 'Alpha': 0.001, 'Epsilon': 0.001, 'Gamma': 0.96, 'Max V': 427.5187834918305, 'Mean V': 29.35033739490584, 'Iteration': 126100}\n",
      "{'State': 14, 'Action': 2, 'Reward': 1000.0, 'Error': 0.5912912386614075, 'Time': 6.663726806640625, 'Alpha': 0.001, 'Epsilon': 0.001, 'Gamma': 0.96, 'Max V': 430.6677380468982, 'Mean V': 29.545718560728506, 'Iteration': 126300}\n",
      "{'State': 15, 'Action': 0, 'Reward': 0.0, 'Error': 0.0, 'Time': 6.670709133148193, 'Alpha': 0.001, 'Epsilon': 0.001, 'Gamma': 0.96, 'Max V': 431.2370703088513, 'Mean V': 29.605675845768754, 'Iteration': 126420}\n",
      "{'State': 15, 'Action': 0, 'Reward': 0.0, 'Error': 0.0, 'Time': 6.671705961227417, 'Alpha': 0.001, 'Epsilon': 0.001, 'Gamma': 0.96, 'Max V': 431.2370703088513, 'Mean V': 29.605675845768754, 'Iteration': 126440}\n",
      "{'State': 15, 'Action': 0, 'Reward': 0.0, 'Error': 0.0, 'Time': 6.672704219818115, 'Alpha': 0.001, 'Epsilon': 0.001, 'Gamma': 0.96, 'Max V': 431.2370703088513, 'Mean V': 29.605675845768754, 'Iteration': 126460}\n",
      "{'State': 15, 'Action': 0, 'Reward': 0.0, 'Error': 0.0, 'Time': 6.6737000942230225, 'Alpha': 0.001, 'Epsilon': 0.001, 'Gamma': 0.96, 'Max V': 431.2370703088513, 'Mean V': 29.605675845768754, 'Iteration': 126480}\n",
      "{'State': 14, 'Action': 2, 'Reward': 1000.0, 'Error': 0.5681728200476511, 'Time': 6.742552042007446, 'Alpha': 0.001, 'Epsilon': 0.001, 'Gamma': 0.96, 'Max V': 432.3953527723965, 'Mean V': 29.70134786279937, 'Iteration': 127600}\n",
      "{'State': 15, 'Action': 0, 'Reward': 0.0, 'Error': 0.0, 'Time': 6.743552207946777, 'Alpha': 0.001, 'Epsilon': 0.001, 'Gamma': 0.96, 'Max V': 432.3953527723965, 'Mean V': 29.70134786279937, 'Iteration': 127620}\n",
      "{'State': 15, 'Action': 0, 'Reward': 0.0, 'Error': 0.0, 'Time': 6.744546413421631, 'Alpha': 0.001, 'Epsilon': 0.001, 'Gamma': 0.96, 'Max V': 432.3953527723965, 'Mean V': 29.70134786279937, 'Iteration': 127640}\n",
      "{'State': 15, 'Action': 0, 'Reward': 0.0, 'Error': 0.0, 'Time': 6.745508670806885, 'Alpha': 0.001, 'Epsilon': 0.001, 'Gamma': 0.96, 'Max V': 432.3953527723965, 'Mean V': 29.70134786279937, 'Iteration': 127660}\n",
      "{'State': 15, 'Action': 0, 'Reward': 0.0, 'Error': 0.0, 'Time': 6.746541261672974, 'Alpha': 0.001, 'Epsilon': 0.001, 'Gamma': 0.96, 'Max V': 432.3953527723965, 'Mean V': 29.70134786279937, 'Iteration': 127680}\n",
      "{'State': 15, 'Action': 0, 'Reward': 0.0, 'Error': 0.0, 'Time': 6.799364328384399, 'Alpha': 0.001, 'Epsilon': 0.001, 'Gamma': 0.96, 'Max V': 432.3953527723965, 'Mean V': 29.699838689817955, 'Iteration': 128500}\n",
      "{'State': 15, 'Action': 0, 'Reward': 0.0, 'Error': 0.0, 'Time': 6.801359176635742, 'Alpha': 0.001, 'Epsilon': 0.001, 'Gamma': 0.96, 'Max V': 432.3953527723965, 'Mean V': 29.699838689817955, 'Iteration': 128520}\n",
      "{'State': 15, 'Action': 0, 'Reward': 0.0, 'Error': 0.0, 'Time': 6.802356481552124, 'Alpha': 0.001, 'Epsilon': 0.001, 'Gamma': 0.96, 'Max V': 432.3953527723965, 'Mean V': 29.699838689817955, 'Iteration': 128540}\n",
      "{'State': 15, 'Action': 0, 'Reward': 0.0, 'Error': 0.0, 'Time': 6.804351091384888, 'Alpha': 0.001, 'Epsilon': 0.001, 'Gamma': 0.96, 'Max V': 432.3953527723965, 'Mean V': 29.699838689817955, 'Iteration': 128560}\n",
      "{'State': 15, 'Action': 0, 'Reward': 0.0, 'Error': 0.0, 'Time': 6.8053483963012695, 'Alpha': 0.001, 'Epsilon': 0.001, 'Gamma': 0.96, 'Max V': 432.3953527723965, 'Mean V': 29.699838689817955, 'Iteration': 128580}\n",
      "{'State': 15, 'Action': 0, 'Reward': 0.0, 'Error': 0.0, 'Time': 6.869177579879761, 'Alpha': 0.001, 'Epsilon': 0.001, 'Gamma': 0.96, 'Max V': 432.3953527723965, 'Mean V': 29.697225279722396, 'Iteration': 129600}\n",
      "{'State': 15, 'Action': 0, 'Reward': 0.0, 'Error': 0.0, 'Time': 6.870175123214722, 'Alpha': 0.001, 'Epsilon': 0.001, 'Gamma': 0.96, 'Max V': 432.3953527723965, 'Mean V': 29.697225279722396, 'Iteration': 129620}\n",
      "{'State': 15, 'Action': 0, 'Reward': 0.0, 'Error': 0.0, 'Time': 6.872171878814697, 'Alpha': 0.001, 'Epsilon': 0.001, 'Gamma': 0.96, 'Max V': 432.3953527723965, 'Mean V': 29.697225279722396, 'Iteration': 129640}\n",
      "{'State': 15, 'Action': 0, 'Reward': 0.0, 'Error': 0.0, 'Time': 6.874164342880249, 'Alpha': 0.001, 'Epsilon': 0.001, 'Gamma': 0.96, 'Max V': 432.3953527723965, 'Mean V': 29.697225279722396, 'Iteration': 129660}\n",
      "{'State': 15, 'Action': 0, 'Reward': 0.0, 'Error': 0.0, 'Time': 6.875163316726685, 'Alpha': 0.001, 'Epsilon': 0.001, 'Gamma': 0.96, 'Max V': 432.3953527723965, 'Mean V': 29.697225279722396, 'Iteration': 129680}\n",
      "{'State': 15, 'Action': 0, 'Reward': 0.0, 'Error': 0.0, 'Time': 6.896108150482178, 'Alpha': 0.001, 'Epsilon': 0.001, 'Gamma': 0.96, 'Max V': 435.5136351229875, 'Mean V': 29.94263844934191, 'Iteration': 130020}\n",
      "{'State': 15, 'Action': 0, 'Reward': 0.0, 'Error': 0.0, 'Time': 6.89810037612915, 'Alpha': 0.001, 'Epsilon': 0.001, 'Gamma': 0.96, 'Max V': 435.5136351229875, 'Mean V': 29.94263844934191, 'Iteration': 130040}\n",
      "{'State': 15, 'Action': 0, 'Reward': 0.0, 'Error': 0.0, 'Time': 6.899097681045532, 'Alpha': 0.001, 'Epsilon': 0.001, 'Gamma': 0.96, 'Max V': 435.5136351229875, 'Mean V': 29.94263844934191, 'Iteration': 130060}\n",
      "{'State': 15, 'Action': 0, 'Reward': 0.0, 'Error': 0.0, 'Time': 6.901092290878296, 'Alpha': 0.001, 'Epsilon': 0.001, 'Gamma': 0.96, 'Max V': 435.5136351229875, 'Mean V': 29.94263844934191, 'Iteration': 130080}\n",
      "{'State': 15, 'Action': 0, 'Reward': 0.0, 'Error': 0.0, 'Time': 6.902089595794678, 'Alpha': 0.001, 'Epsilon': 0.001, 'Gamma': 0.96, 'Max V': 435.5136351229875, 'Mean V': 29.94263844934191, 'Iteration': 130100}\n",
      "{'State': 15, 'Action': 0, 'Reward': 0.0, 'Error': 0.0, 'Time': 6.903087139129639, 'Alpha': 0.001, 'Epsilon': 0.001, 'Gamma': 0.96, 'Max V': 435.5136351229875, 'Mean V': 29.94263844934191, 'Iteration': 130120}\n",
      "{'State': 15, 'Action': 0, 'Reward': 0.0, 'Error': 0.0, 'Time': 6.904084205627441, 'Alpha': 0.001, 'Epsilon': 0.001, 'Gamma': 0.96, 'Max V': 435.5136351229875, 'Mean V': 29.94263844934191, 'Iteration': 130140}\n",
      "{'State': 15, 'Action': 0, 'Reward': 0.0, 'Error': 0.0, 'Time': 6.906079053878784, 'Alpha': 0.001, 'Epsilon': 0.001, 'Gamma': 0.96, 'Max V': 435.5136351229875, 'Mean V': 29.94263844934191, 'Iteration': 130160}\n",
      "{'State': 15, 'Action': 0, 'Reward': 0.0, 'Error': 0.0, 'Time': 6.907076358795166, 'Alpha': 0.001, 'Epsilon': 0.001, 'Gamma': 0.96, 'Max V': 435.5136351229875, 'Mean V': 29.94263844934191, 'Iteration': 130180}\n",
      "{'State': 14, 'Action': 2, 'Reward': 1000.0, 'Error': 0.5861284875071335, 'Time': 6.90907096862793, 'Alpha': 0.001, 'Epsilon': 0.001, 'Gamma': 0.96, 'Max V': 436.0997636104947, 'Mean V': 29.979271479811107, 'Iteration': 130200}\n",
      "{'State': 14, 'Action': 2, 'Reward': 1000.0, 'Error': 0.9825560094555802, 'Time': 7.014786720275879, 'Alpha': 0.001, 'Epsilon': 0.001, 'Gamma': 0.96, 'Max V': 437.0823196199503, 'Mean V': 30.0377964992048, 'Iteration': 131900}\n",
      "{'State': 15, 'Action': 0, 'Reward': 0.0, 'Error': 0.0, 'Time': 7.016781568527222, 'Alpha': 0.001, 'Epsilon': 0.001, 'Gamma': 0.96, 'Max V': 438.62677149083834, 'Mean V': 30.134324741135302, 'Iteration': 131920}\n",
      "{'State': 15, 'Action': 0, 'Reward': 0.0, 'Error': 0.0, 'Time': 7.017779350280762, 'Alpha': 0.001, 'Epsilon': 0.001, 'Gamma': 0.96, 'Max V': 438.62677149083834, 'Mean V': 30.134324741135302, 'Iteration': 131940}\n",
      "{'State': 15, 'Action': 2, 'Reward': 0.0, 'Error': 0.0, 'Time': 7.018775701522827, 'Alpha': 0.001, 'Epsilon': 0.001, 'Gamma': 0.96, 'Max V': 438.62677149083834, 'Mean V': 30.134324741135302, 'Iteration': 131960}\n",
      "{'State': 15, 'Action': 0, 'Reward': 0.0, 'Error': 0.0, 'Time': 7.019773006439209, 'Alpha': 0.001, 'Epsilon': 0.001, 'Gamma': 0.96, 'Max V': 438.62677149083834, 'Mean V': 30.134324741135302, 'Iteration': 131980}\n",
      "{'State': 15, 'Action': 0, 'Reward': 0.0, 'Error': 0.0, 'Time': 7.0217695236206055, 'Alpha': 0.001, 'Epsilon': 0.001, 'Gamma': 0.96, 'Max V': 439.1881447193475, 'Mean V': 30.194479943365234, 'Iteration': 132020}\n",
      "{'State': 15, 'Action': 0, 'Reward': 0.0, 'Error': 0.0, 'Time': 7.022765874862671, 'Alpha': 0.001, 'Epsilon': 0.001, 'Gamma': 0.96, 'Max V': 439.1881447193475, 'Mean V': 30.194479943365234, 'Iteration': 132040}\n",
      "{'State': 15, 'Action': 0, 'Reward': 0.0, 'Error': 0.0, 'Time': 7.023763179779053, 'Alpha': 0.001, 'Epsilon': 0.001, 'Gamma': 0.96, 'Max V': 439.1881447193475, 'Mean V': 30.194479943365234, 'Iteration': 132060}\n",
      "{'State': 15, 'Action': 0, 'Reward': 0.0, 'Error': 0.0, 'Time': 7.024760723114014, 'Alpha': 0.001, 'Epsilon': 0.001, 'Gamma': 0.96, 'Max V': 439.1881447193475, 'Mean V': 30.194479943365234, 'Iteration': 132080}\n",
      "{'State': 15, 'Action': 0, 'Reward': 0.0, 'Error': 0.0, 'Time': 7.046702861785889, 'Alpha': 0.001, 'Epsilon': 0.001, 'Gamma': 0.96, 'Max V': 441.31163709761034, 'Mean V': 30.37714591032537, 'Iteration': 132520}\n",
      "{'State': 15, 'Action': 0, 'Reward': 0.0, 'Error': 0.0, 'Time': 7.047699213027954, 'Alpha': 0.001, 'Epsilon': 0.001, 'Gamma': 0.96, 'Max V': 441.31163709761034, 'Mean V': 30.37714591032537, 'Iteration': 132540}\n",
      "{'State': 15, 'Action': 0, 'Reward': 0.0, 'Error': 0.0, 'Time': 7.048696279525757, 'Alpha': 0.001, 'Epsilon': 0.001, 'Gamma': 0.96, 'Max V': 441.31163709761034, 'Mean V': 30.37714591032537, 'Iteration': 132560}\n",
      "{'State': 15, 'Action': 0, 'Reward': 0.0, 'Error': 0.0, 'Time': 7.049694299697876, 'Alpha': 0.001, 'Epsilon': 0.001, 'Gamma': 0.96, 'Max V': 441.31163709761034, 'Mean V': 30.37714591032537, 'Iteration': 132580}\n",
      "{'State': 15, 'Action': 0, 'Reward': 0.0, 'Error': 0.0, 'Time': 7.055677890777588, 'Alpha': 0.001, 'Epsilon': 0.001, 'Gamma': 0.96, 'Max V': 441.31163709761034, 'Mean V': 30.377145045085527, 'Iteration': 132700}\n",
      "{'State': 15, 'Action': 0, 'Reward': 0.0, 'Error': 0.0, 'Time': 7.05667519569397, 'Alpha': 0.001, 'Epsilon': 0.001, 'Gamma': 0.96, 'Max V': 441.31163709761034, 'Mean V': 30.377145045085527, 'Iteration': 132720}\n",
      "{'State': 15, 'Action': 0, 'Reward': 0.0, 'Error': 0.0, 'Time': 7.057672500610352, 'Alpha': 0.001, 'Epsilon': 0.001, 'Gamma': 0.96, 'Max V': 441.31163709761034, 'Mean V': 30.377145045085527, 'Iteration': 132740}\n",
      "{'State': 15, 'Action': 0, 'Reward': 0.0, 'Error': 0.0, 'Time': 7.058669805526733, 'Alpha': 0.001, 'Epsilon': 0.001, 'Gamma': 0.96, 'Max V': 441.31163709761034, 'Mean V': 30.377145045085527, 'Iteration': 132760}\n",
      "{'State': 15, 'Action': 0, 'Reward': 0.0, 'Error': 0.0, 'Time': 7.059667348861694, 'Alpha': 0.001, 'Epsilon': 0.001, 'Gamma': 0.96, 'Max V': 441.31163709761034, 'Mean V': 30.377145045085527, 'Iteration': 132780}\n",
      "{'State': 14, 'Action': 2, 'Reward': 1000.0, 'Error': 0.9823475345160955, 'Time': 7.069676160812378, 'Alpha': 0.001, 'Epsilon': 0.001, 'Gamma': 0.96, 'Max V': 442.29398463212647, 'Mean V': 30.437110501379596, 'Iteration': 133000}\n",
      "{'State': 15, 'Action': 0, 'Reward': 0.0, 'Error': 0.0, 'Time': 7.070678234100342, 'Alpha': 0.001, 'Epsilon': 0.001, 'Gamma': 0.96, 'Max V': 442.85169064749437, 'Mean V': 30.47196712734009, 'Iteration': 133020}\n",
      "{'State': 15, 'Action': 0, 'Reward': 0.0, 'Error': 0.0, 'Time': 7.071671485900879, 'Alpha': 0.001, 'Epsilon': 0.001, 'Gamma': 0.96, 'Max V': 442.85169064749437, 'Mean V': 30.47196712734009, 'Iteration': 133040}\n",
      "{'State': 15, 'Action': 0, 'Reward': 0.0, 'Error': 0.0, 'Time': 7.072670221328735, 'Alpha': 0.001, 'Epsilon': 0.001, 'Gamma': 0.96, 'Max V': 442.85169064749437, 'Mean V': 30.47196712734009, 'Iteration': 133060}\n",
      "{'State': 15, 'Action': 0, 'Reward': 0.0, 'Error': 0.0, 'Time': 7.073666095733643, 'Alpha': 0.001, 'Epsilon': 0.001, 'Gamma': 0.96, 'Max V': 442.85169064749437, 'Mean V': 30.47196712734009, 'Iteration': 133080}\n",
      "{'State': 15, 'Action': 0, 'Reward': 0.0, 'Error': 0.0, 'Time': 7.0856335163116455, 'Alpha': 0.001, 'Epsilon': 0.001, 'Gamma': 0.96, 'Max V': 443.40883895684686, 'Mean V': 30.5319014912508, 'Iteration': 133320}\n",
      "{'State': 15, 'Action': 0, 'Reward': 0.0, 'Error': 0.0, 'Time': 7.086633920669556, 'Alpha': 0.001, 'Epsilon': 0.001, 'Gamma': 0.96, 'Max V': 443.40883895684686, 'Mean V': 30.5319014912508, 'Iteration': 133340}\n",
      "{'State': 15, 'Action': 0, 'Reward': 0.0, 'Error': 0.0, 'Time': 7.087632179260254, 'Alpha': 0.001, 'Epsilon': 0.001, 'Gamma': 0.96, 'Max V': 443.40883895684686, 'Mean V': 30.5319014912508, 'Iteration': 133360}\n",
      "{'State': 15, 'Action': 0, 'Reward': 0.0, 'Error': 0.0, 'Time': 7.088628053665161, 'Alpha': 0.001, 'Epsilon': 0.001, 'Gamma': 0.96, 'Max V': 443.40883895684686, 'Mean V': 30.5319014912508, 'Iteration': 133380}\n",
      "{'State': 15, 'Action': 0, 'Reward': 0.0, 'Error': 0.0, 'Time': 7.093615293502808, 'Alpha': 0.001, 'Epsilon': 0.001, 'Gamma': 0.96, 'Max V': 443.40883895684686, 'Mean V': 30.5319014912508, 'Iteration': 133500}\n",
      "{'State': 15, 'Action': 0, 'Reward': 0.0, 'Error': 0.0, 'Time': 7.095571517944336, 'Alpha': 0.001, 'Epsilon': 0.001, 'Gamma': 0.96, 'Max V': 443.40883895684686, 'Mean V': 30.5319014912508, 'Iteration': 133520}\n",
      "{'State': 15, 'Action': 0, 'Reward': 0.0, 'Error': 0.0, 'Time': 7.095571517944336, 'Alpha': 0.001, 'Epsilon': 0.001, 'Gamma': 0.96, 'Max V': 443.40883895684686, 'Mean V': 30.5319014912508, 'Iteration': 133540}\n",
      "{'State': 15, 'Action': 0, 'Reward': 0.0, 'Error': 0.0, 'Time': 7.096607446670532, 'Alpha': 0.001, 'Epsilon': 0.001, 'Gamma': 0.96, 'Max V': 443.40883895684686, 'Mean V': 30.5319014912508, 'Iteration': 133560}\n",
      "{'State': 15, 'Action': 0, 'Reward': 0.0, 'Error': 0.0, 'Time': 7.097602128982544, 'Alpha': 0.001, 'Epsilon': 0.001, 'Gamma': 0.96, 'Max V': 443.40883895684686, 'Mean V': 30.5319014912508, 'Iteration': 133580}\n",
      "{'State': 14, 'Action': 2, 'Reward': 1000.0, 'Error': 0.5789172563153693, 'Time': 7.117547988891602, 'Alpha': 0.001, 'Epsilon': 0.001, 'Gamma': 0.96, 'Max V': 443.98775621316224, 'Mean V': 30.56794999802624, 'Iteration': 134000}\n",
      "{'State': 15, 'Action': 0, 'Reward': 0.0, 'Error': 0.0, 'Time': 7.174400568008423, 'Alpha': 0.001, 'Epsilon': 0.001, 'Gamma': 0.96, 'Max V': 445.14454014140193, 'Mean V': 30.683645736037555, 'Iteration': 135200}\n",
      "{'State': 15, 'Action': 0, 'Reward': 0.0, 'Error': 0.0, 'Time': 7.175394773483276, 'Alpha': 0.001, 'Epsilon': 0.001, 'Gamma': 0.96, 'Max V': 445.14454014140193, 'Mean V': 30.683645736037555, 'Iteration': 135220}\n",
      "{'State': 15, 'Action': 0, 'Reward': 0.0, 'Error': 0.0, 'Time': 7.176393508911133, 'Alpha': 0.001, 'Epsilon': 0.001, 'Gamma': 0.96, 'Max V': 445.14454014140193, 'Mean V': 30.683645736037555, 'Iteration': 135240}\n",
      "{'State': 15, 'Action': 0, 'Reward': 0.0, 'Error': 0.0, 'Time': 7.1773881912231445, 'Alpha': 0.001, 'Epsilon': 0.001, 'Gamma': 0.96, 'Max V': 445.14454014140193, 'Mean V': 30.683645736037555, 'Iteration': 135260}\n",
      "{'State': 15, 'Action': 0, 'Reward': 0.0, 'Error': 0.0, 'Time': 7.178388595581055, 'Alpha': 0.001, 'Epsilon': 0.001, 'Gamma': 0.96, 'Max V': 445.14454014140193, 'Mean V': 30.683645736037555, 'Iteration': 135280}\n",
      "{'State': 14, 'Action': 2, 'Reward': 1000.0, 'Error': 0.9821942183943441, 'Time': 7.179385662078857, 'Alpha': 0.001, 'Epsilon': 0.001, 'Gamma': 0.96, 'Max V': 446.1267343597963, 'Mean V': 30.7450328746872, 'Iteration': 135300}\n",
      "{'State': 15, 'Action': 0, 'Reward': 0.0, 'Error': 0.0, 'Time': 7.180380344390869, 'Alpha': 0.001, 'Epsilon': 0.001, 'Gamma': 0.96, 'Max V': 448.8124320273242, 'Mean V': 30.963508920528746, 'Iteration': 135320}\n",
      "{'State': 15, 'Action': 0, 'Reward': 0.0, 'Error': 0.0, 'Time': 7.181378602981567, 'Alpha': 0.001, 'Epsilon': 0.001, 'Gamma': 0.96, 'Max V': 448.8124320273242, 'Mean V': 30.963508920528746, 'Iteration': 135340}\n",
      "{'State': 15, 'Action': 0, 'Reward': 0.0, 'Error': 0.0, 'Time': 7.182378530502319, 'Alpha': 0.001, 'Epsilon': 0.001, 'Gamma': 0.96, 'Max V': 448.8124320273242, 'Mean V': 30.963508920528746, 'Iteration': 135360}\n",
      "{'State': 15, 'Action': 0, 'Reward': 0.0, 'Error': 0.0, 'Time': 7.1833741664886475, 'Alpha': 0.001, 'Epsilon': 0.001, 'Gamma': 0.96, 'Max V': 448.8124320273242, 'Mean V': 30.963508920528746, 'Iteration': 135380}\n",
      "{'State': 14, 'Action': 2, 'Reward': 1000.0, 'Error': 0.5716002478764501, 'Time': 7.207309007644653, 'Alpha': 0.001, 'Epsilon': 0.001, 'Gamma': 0.96, 'Max V': 453.0672083004905, 'Mean V': 31.30548574404908, 'Iteration': 135900}\n",
      "{'State': 15, 'Action': 0, 'Reward': 0.0, 'Error': 0.0, 'Time': 7.222271203994751, 'Alpha': 0.001, 'Epsilon': 0.001, 'Gamma': 0.96, 'Max V': 453.0672083004905, 'Mean V': 31.30378493430908, 'Iteration': 136200}\n",
      "{'State': 15, 'Action': 0, 'Reward': 0.0, 'Error': 0.0, 'Time': 7.223266839981079, 'Alpha': 0.001, 'Epsilon': 0.001, 'Gamma': 0.96, 'Max V': 453.0672083004905, 'Mean V': 31.30378493430908, 'Iteration': 136220}\n",
      "{'State': 15, 'Action': 0, 'Reward': 0.0, 'Error': 0.0, 'Time': 7.224265813827515, 'Alpha': 0.001, 'Epsilon': 0.001, 'Gamma': 0.96, 'Max V': 453.0672083004905, 'Mean V': 31.30378493430908, 'Iteration': 136240}\n",
      "{'State': 15, 'Action': 0, 'Reward': 0.0, 'Error': 0.0, 'Time': 7.225260496139526, 'Alpha': 0.001, 'Epsilon': 0.001, 'Gamma': 0.96, 'Max V': 453.0672083004905, 'Mean V': 31.30378493430908, 'Iteration': 136260}\n",
      "{'State': 15, 'Action': 0, 'Reward': 0.0, 'Error': 0.0, 'Time': 7.226258993148804, 'Alpha': 0.001, 'Epsilon': 0.001, 'Gamma': 0.96, 'Max V': 453.0672083004905, 'Mean V': 31.30378493430908, 'Iteration': 136280}\n",
      "{'State': 15, 'Action': 0, 'Reward': 0.0, 'Error': 0.0, 'Time': 7.2372283935546875, 'Alpha': 0.001, 'Epsilon': 0.001, 'Gamma': 0.96, 'Max V': 455.73463069203444, 'Mean V': 31.546092017720934, 'Iteration': 136520}\n",
      "{'State': 15, 'Action': 0, 'Reward': 0.0, 'Error': 0.0, 'Time': 7.2382285594940186, 'Alpha': 0.001, 'Epsilon': 0.001, 'Gamma': 0.96, 'Max V': 455.73463069203444, 'Mean V': 31.546092017720934, 'Iteration': 136540}\n",
      "{'State': 15, 'Action': 0, 'Reward': 0.0, 'Error': 0.0, 'Time': 7.239222288131714, 'Alpha': 0.001, 'Epsilon': 0.001, 'Gamma': 0.96, 'Max V': 455.73463069203444, 'Mean V': 31.546092017720934, 'Iteration': 136560}\n",
      "{'State': 15, 'Action': 0, 'Reward': 0.0, 'Error': 0.0, 'Time': 7.240222930908203, 'Alpha': 0.001, 'Epsilon': 0.001, 'Gamma': 0.96, 'Max V': 455.73463069203444, 'Mean V': 31.546092017720934, 'Iteration': 136580}\n",
      "{'State': 15, 'Action': 0, 'Reward': 0.0, 'Error': 0.0, 'Time': 7.300023078918457, 'Alpha': 0.001, 'Epsilon': 0.001, 'Gamma': 0.96, 'Max V': 456.27889606134244, 'Mean V': 31.60465666671826, 'Iteration': 137820}\n",
      "{'State': 15, 'Action': 0, 'Reward': 0.0, 'Error': 0.0, 'Time': 7.30102276802063, 'Alpha': 0.001, 'Epsilon': 0.001, 'Gamma': 0.96, 'Max V': 456.27889606134244, 'Mean V': 31.60465666671826, 'Iteration': 137840}\n",
      "{'State': 15, 'Action': 0, 'Reward': 0.0, 'Error': 0.0, 'Time': 7.302019119262695, 'Alpha': 0.001, 'Epsilon': 0.001, 'Gamma': 0.96, 'Max V': 456.27889606134244, 'Mean V': 31.60465666671826, 'Iteration': 137860}\n",
      "{'State': 15, 'Action': 0, 'Reward': 0.0, 'Error': 0.0, 'Time': 7.303016185760498, 'Alpha': 0.001, 'Epsilon': 0.001, 'Gamma': 0.96, 'Max V': 456.27889606134244, 'Mean V': 31.60465666671826, 'Iteration': 137880}\n",
      "{'State': 15, 'Action': 0, 'Reward': 0.0, 'Error': 0.0, 'Time': 7.318973779678345, 'Alpha': 0.001, 'Epsilon': 0.001, 'Gamma': 0.96, 'Max V': 456.8226171652811, 'Mean V': 31.664622753048334, 'Iteration': 138220}\n",
      "{'State': 15, 'Action': 0, 'Reward': 0.0, 'Error': 0.0, 'Time': 7.320967197418213, 'Alpha': 0.001, 'Epsilon': 0.001, 'Gamma': 0.96, 'Max V': 456.8226171652811, 'Mean V': 31.664622753048334, 'Iteration': 138240}\n",
      "{'State': 15, 'Action': 0, 'Reward': 0.0, 'Error': 0.0, 'Time': 7.321965932846069, 'Alpha': 0.001, 'Epsilon': 0.001, 'Gamma': 0.96, 'Max V': 456.8226171652811, 'Mean V': 31.664622753048334, 'Iteration': 138260}\n",
      "{'State': 15, 'Action': 0, 'Reward': 0.0, 'Error': 0.0, 'Time': 7.323959827423096, 'Alpha': 0.001, 'Epsilon': 0.001, 'Gamma': 0.96, 'Max V': 456.8226171652811, 'Mean V': 31.664622753048334, 'Iteration': 138280}\n",
      "{'State': 15, 'Action': 0, 'Reward': 0.0, 'Error': 0.0, 'Time': 7.355874300003052, 'Alpha': 0.001, 'Epsilon': 0.001, 'Gamma': 0.96, 'Max V': 460.8752451620123, 'Mean V': 31.969697992842594, 'Iteration': 138620}\n",
      "{'State': 15, 'Action': 0, 'Reward': 0.0, 'Error': 0.0, 'Time': 7.356872081756592, 'Alpha': 0.001, 'Epsilon': 0.001, 'Gamma': 0.96, 'Max V': 460.8752451620123, 'Mean V': 31.969697992842594, 'Iteration': 138640}\n",
      "{'State': 15, 'Action': 0, 'Reward': 0.0, 'Error': 0.0, 'Time': 7.358867168426514, 'Alpha': 0.001, 'Epsilon': 0.001, 'Gamma': 0.96, 'Max V': 460.8752451620123, 'Mean V': 31.969697992842594, 'Iteration': 138660}\n",
      "{'State': 15, 'Action': 0, 'Reward': 0.0, 'Error': 0.0, 'Time': 7.360861778259277, 'Alpha': 0.001, 'Epsilon': 0.001, 'Gamma': 0.96, 'Max V': 460.8752451620123, 'Mean V': 31.969697992842594, 'Iteration': 138680}\n",
      "{'State': 15, 'Action': 0, 'Reward': 0.0, 'Error': 0.0, 'Time': 7.404743194580078, 'Alpha': 0.001, 'Epsilon': 0.001, 'Gamma': 0.96, 'Max V': 463.37549754391995, 'Mean V': 32.15209204718906, 'Iteration': 139120}\n",
      "{'State': 15, 'Action': 0, 'Reward': 0.0, 'Error': 0.0, 'Time': 7.406740188598633, 'Alpha': 0.001, 'Epsilon': 0.001, 'Gamma': 0.96, 'Max V': 463.37549754391995, 'Mean V': 32.15209204718906, 'Iteration': 139140}\n",
      "{'State': 15, 'Action': 0, 'Reward': 0.0, 'Error': 0.0, 'Time': 7.4087324142456055, 'Alpha': 0.001, 'Epsilon': 0.001, 'Gamma': 0.96, 'Max V': 463.37549754391995, 'Mean V': 32.15209204718906, 'Iteration': 139160}\n",
      "{'State': 15, 'Action': 0, 'Reward': 0.0, 'Error': 0.0, 'Time': 7.411726951599121, 'Alpha': 0.001, 'Epsilon': 0.001, 'Gamma': 0.96, 'Max V': 463.37549754391995, 'Mean V': 32.15209204718906, 'Iteration': 139180}\n",
      "{'State': 15, 'Action': 0, 'Reward': 0.0, 'Error': 0.0, 'Time': 7.421699047088623, 'Alpha': 0.001, 'Epsilon': 0.001, 'Gamma': 0.96, 'Max V': 463.37549754391995, 'Mean V': 32.15209204718906, 'Iteration': 139300}\n",
      "{'State': 15, 'Action': 0, 'Reward': 0.0, 'Error': 0.0, 'Time': 7.424689769744873, 'Alpha': 0.001, 'Epsilon': 0.001, 'Gamma': 0.96, 'Max V': 463.37549754391995, 'Mean V': 32.15209204718906, 'Iteration': 139320}\n",
      "{'State': 15, 'Action': 0, 'Reward': 0.0, 'Error': 0.0, 'Time': 7.426686763763428, 'Alpha': 0.001, 'Epsilon': 0.001, 'Gamma': 0.96, 'Max V': 463.37549754391995, 'Mean V': 32.15209204718906, 'Iteration': 139340}\n",
      "{'State': 15, 'Action': 0, 'Reward': 0.0, 'Error': 0.0, 'Time': 7.428679466247559, 'Alpha': 0.001, 'Epsilon': 0.001, 'Gamma': 0.96, 'Max V': 463.37549754391995, 'Mean V': 32.15209204718906, 'Iteration': 139360}\n",
      "{'State': 15, 'Action': 0, 'Reward': 0.0, 'Error': 0.0, 'Time': 7.4296770095825195, 'Alpha': 0.001, 'Epsilon': 0.001, 'Gamma': 0.96, 'Max V': 463.37549754391995, 'Mean V': 32.15209204718906, 'Iteration': 139380}\n",
      "{'State': 15, 'Action': 0, 'Reward': 0.0, 'Error': 0.0, 'Time': 7.4526519775390625, 'Alpha': 0.001, 'Epsilon': 0.001, 'Gamma': 0.96, 'Max V': 463.37549754391995, 'Mean V': 32.15209111206133, 'Iteration': 139700}\n",
      "{'State': 15, 'Action': 0, 'Reward': 0.0, 'Error': 0.0, 'Time': 7.453652620315552, 'Alpha': 0.001, 'Epsilon': 0.001, 'Gamma': 0.96, 'Max V': 463.37549754391995, 'Mean V': 32.15209111206133, 'Iteration': 139720}\n",
      "{'State': 15, 'Action': 0, 'Reward': 0.0, 'Error': 0.0, 'Time': 7.45465087890625, 'Alpha': 0.001, 'Epsilon': 0.001, 'Gamma': 0.96, 'Max V': 463.37549754391995, 'Mean V': 32.15209111206133, 'Iteration': 139740}\n",
      "{'State': 15, 'Action': 0, 'Reward': 0.0, 'Error': 0.0, 'Time': 7.45564603805542, 'Alpha': 0.001, 'Epsilon': 0.001, 'Gamma': 0.96, 'Max V': 463.37549754391995, 'Mean V': 32.15209111206133, 'Iteration': 139760}\n",
      "{'State': 15, 'Action': 0, 'Reward': 0.0, 'Error': 0.0, 'Time': 7.456641435623169, 'Alpha': 0.001, 'Epsilon': 0.001, 'Gamma': 0.96, 'Max V': 463.37549754391995, 'Mean V': 32.15209111206133, 'Iteration': 139780}\n",
      "{'State': 15, 'Action': 0, 'Reward': 0.0, 'Error': 0.0, 'Time': 7.4875617027282715, 'Alpha': 0.001, 'Epsilon': 0.001, 'Gamma': 0.96, 'Max V': 468.39538269406665, 'Mean V': 32.5180879622167, 'Iteration': 140420}\n",
      "{'State': 15, 'Action': 0, 'Reward': 0.0, 'Error': 0.0, 'Time': 7.488556146621704, 'Alpha': 0.001, 'Epsilon': 0.001, 'Gamma': 0.96, 'Max V': 468.39538269406665, 'Mean V': 32.5180879622167, 'Iteration': 140440}\n",
      "{'State': 15, 'Action': 0, 'Reward': 0.0, 'Error': 0.0, 'Time': 7.489553928375244, 'Alpha': 0.001, 'Epsilon': 0.001, 'Gamma': 0.96, 'Max V': 468.39538269406665, 'Mean V': 32.5180879622167, 'Iteration': 140460}\n",
      "{'State': 15, 'Action': 0, 'Reward': 0.0, 'Error': 0.0, 'Time': 7.490552663803101, 'Alpha': 0.001, 'Epsilon': 0.001, 'Gamma': 0.96, 'Max V': 468.39538269406665, 'Mean V': 32.5180879622167, 'Iteration': 140480}\n",
      "{'State': 15, 'Action': 0, 'Reward': 0.0, 'Error': 0.0, 'Time': 7.5104968547821045, 'Alpha': 0.001, 'Epsilon': 0.001, 'Gamma': 0.96, 'Max V': 468.39538269406665, 'Mean V': 32.5180879622167, 'Iteration': 140900}\n",
      "{'State': 15, 'Action': 0, 'Reward': 0.0, 'Error': 0.0, 'Time': 7.511501789093018, 'Alpha': 0.001, 'Epsilon': 0.001, 'Gamma': 0.96, 'Max V': 468.39538269406665, 'Mean V': 32.5180879622167, 'Iteration': 140920}\n",
      "{'State': 15, 'Action': 0, 'Reward': 0.0, 'Error': 0.0, 'Time': 7.512493371963501, 'Alpha': 0.001, 'Epsilon': 0.001, 'Gamma': 0.96, 'Max V': 468.39538269406665, 'Mean V': 32.5180879622167, 'Iteration': 140940}\n",
      "{'State': 15, 'Action': 0, 'Reward': 0.0, 'Error': 0.0, 'Time': 7.51348876953125, 'Alpha': 0.001, 'Epsilon': 0.001, 'Gamma': 0.96, 'Max V': 468.39538269406665, 'Mean V': 32.5180879622167, 'Iteration': 140960}\n",
      "{'State': 15, 'Action': 0, 'Reward': 0.0, 'Error': 0.0, 'Time': 7.5144898891448975, 'Alpha': 0.001, 'Epsilon': 0.001, 'Gamma': 0.96, 'Max V': 468.39538269406665, 'Mean V': 32.5180879622167, 'Iteration': 140980}\n",
      "{'State': 15, 'Action': 0, 'Reward': 0.0, 'Error': 0.0, 'Time': 7.577530384063721, 'Alpha': 0.001, 'Epsilon': 0.001, 'Gamma': 0.96, 'Max V': 470.46423591741194, 'Mean V': 32.7001412966756, 'Iteration': 142120}\n",
      "{'State': 15, 'Action': 0, 'Reward': 0.0, 'Error': 0.0, 'Time': 7.579524993896484, 'Alpha': 0.001, 'Epsilon': 0.001, 'Gamma': 0.96, 'Max V': 470.46423591741194, 'Mean V': 32.7001412966756, 'Iteration': 142140}\n",
      "{'State': 15, 'Action': 0, 'Reward': 0.0, 'Error': 0.0, 'Time': 7.580522298812866, 'Alpha': 0.001, 'Epsilon': 0.001, 'Gamma': 0.96, 'Max V': 470.46423591741194, 'Mean V': 32.7001412966756, 'Iteration': 142160}\n",
      "{'State': 15, 'Action': 0, 'Reward': 0.0, 'Error': 0.0, 'Time': 7.582517147064209, 'Alpha': 0.001, 'Epsilon': 0.001, 'Gamma': 0.96, 'Max V': 470.46423591741194, 'Mean V': 32.7001412966756, 'Iteration': 142180}\n",
      "{'State': 15, 'Action': 0, 'Reward': 0.0, 'Error': 0.0, 'Time': 7.584511756896973, 'Alpha': 0.001, 'Epsilon': 0.001, 'Gamma': 0.96, 'Max V': 473.93425480643117, 'Mean V': 32.97051500364312, 'Iteration': 142220}\n",
      "{'State': 15, 'Action': 0, 'Reward': 0.0, 'Error': 0.0, 'Time': 7.586506366729736, 'Alpha': 0.001, 'Epsilon': 0.001, 'Gamma': 0.96, 'Max V': 473.93425480643117, 'Mean V': 32.97051500364312, 'Iteration': 142240}\n",
      "{'State': 15, 'Action': 0, 'Reward': 0.0, 'Error': 0.0, 'Time': 7.587503910064697, 'Alpha': 0.001, 'Epsilon': 0.001, 'Gamma': 0.96, 'Max V': 473.93425480643117, 'Mean V': 32.97051500364312, 'Iteration': 142260}\n",
      "{'State': 15, 'Action': 0, 'Reward': 0.0, 'Error': 0.0, 'Time': 7.589498519897461, 'Alpha': 0.001, 'Epsilon': 0.001, 'Gamma': 0.96, 'Max V': 473.93425480643117, 'Mean V': 32.97051500364312, 'Iteration': 142280}\n",
      "{'State': 15, 'Action': 0, 'Reward': 0.0, 'Error': 0.0, 'Time': 7.597476959228516, 'Alpha': 0.001, 'Epsilon': 0.001, 'Gamma': 0.96, 'Max V': 475.0121350834057, 'Mean V': 33.0928877438828, 'Iteration': 142420}\n",
      "{'State': 15, 'Action': 0, 'Reward': 0.0, 'Error': 0.0, 'Time': 7.5984742641448975, 'Alpha': 0.001, 'Epsilon': 0.001, 'Gamma': 0.96, 'Max V': 475.0121350834057, 'Mean V': 33.0928877438828, 'Iteration': 142440}\n",
      "{'State': 15, 'Action': 0, 'Reward': 0.0, 'Error': 0.0, 'Time': 7.60046911239624, 'Alpha': 0.001, 'Epsilon': 0.001, 'Gamma': 0.96, 'Max V': 475.0121350834057, 'Mean V': 33.0928877438828, 'Iteration': 142460}\n",
      "{'State': 15, 'Action': 0, 'Reward': 0.0, 'Error': 0.0, 'Time': 7.601466178894043, 'Alpha': 0.001, 'Epsilon': 0.001, 'Gamma': 0.96, 'Max V': 475.0121350834057, 'Mean V': 33.0928877438828, 'Iteration': 142480}\n",
      "{'State': 15, 'Action': 0, 'Reward': 0.0, 'Error': 0.0, 'Time': 7.653327703475952, 'Alpha': 0.001, 'Epsilon': 0.001, 'Gamma': 0.96, 'Max V': 475.5371229483223, 'Mean V': 33.15073153504168, 'Iteration': 143320}\n",
      "{'State': 15, 'Action': 0, 'Reward': 0.0, 'Error': 0.0, 'Time': 7.654325008392334, 'Alpha': 0.001, 'Epsilon': 0.001, 'Gamma': 0.96, 'Max V': 475.5371229483223, 'Mean V': 33.15073153504168, 'Iteration': 143340}\n",
      "{'State': 15, 'Action': 0, 'Reward': 0.0, 'Error': 0.0, 'Time': 7.655322313308716, 'Alpha': 0.001, 'Epsilon': 0.001, 'Gamma': 0.96, 'Max V': 475.5371229483223, 'Mean V': 33.15073153504168, 'Iteration': 143360}\n",
      "{'State': 15, 'Action': 0, 'Reward': 0.0, 'Error': 0.0, 'Time': 7.6573169231414795, 'Alpha': 0.001, 'Epsilon': 0.001, 'Gamma': 0.96, 'Max V': 475.5371229483223, 'Mean V': 33.15073153504168, 'Iteration': 143380}\n",
      "{'State': 14, 'Action': 2, 'Reward': 1000.0, 'Error': 0.5244628770516777, 'Time': 7.658314228057861, 'Alpha': 0.001, 'Epsilon': 0.001, 'Gamma': 0.96, 'Max V': 476.061585825374, 'Mean V': 33.18351046485741, 'Iteration': 143400}\n",
      "{'State': 15, 'Action': 0, 'Reward': 0.0, 'Error': 0.0, 'Time': 7.659311771392822, 'Alpha': 0.001, 'Epsilon': 0.001, 'Gamma': 0.96, 'Max V': 476.061585825374, 'Mean V': 33.18351046485741, 'Iteration': 143420}\n",
      "{'State': 15, 'Action': 0, 'Reward': 0.0, 'Error': 0.0, 'Time': 7.661306142807007, 'Alpha': 0.001, 'Epsilon': 0.001, 'Gamma': 0.96, 'Max V': 476.061585825374, 'Mean V': 33.18351046485741, 'Iteration': 143440}\n",
      "{'State': 15, 'Action': 0, 'Reward': 0.0, 'Error': 0.0, 'Time': 7.662303686141968, 'Alpha': 0.001, 'Epsilon': 0.001, 'Gamma': 0.96, 'Max V': 476.061585825374, 'Mean V': 33.18351046485741, 'Iteration': 143460}\n",
      "{'State': 15, 'Action': 0, 'Reward': 0.0, 'Error': 0.0, 'Time': 7.6642982959747314, 'Alpha': 0.001, 'Epsilon': 0.001, 'Gamma': 0.96, 'Max V': 476.061585825374, 'Mean V': 33.18351046485741, 'Iteration': 143480}\n",
      "{'State': 15, 'Action': 0, 'Reward': 0.0, 'Error': 0.0, 'Time': 7.672276973724365, 'Alpha': 0.001, 'Epsilon': 0.001, 'Gamma': 0.96, 'Max V': 476.5855242395486, 'Mean V': 33.24316387696462, 'Iteration': 143620}\n",
      "{'State': 15, 'Action': 0, 'Reward': 0.0, 'Error': 0.0, 'Time': 7.673274517059326, 'Alpha': 0.001, 'Epsilon': 0.001, 'Gamma': 0.96, 'Max V': 476.5855242395486, 'Mean V': 33.24316387696462, 'Iteration': 143640}\n",
      "{'State': 15, 'Action': 0, 'Reward': 0.0, 'Error': 0.0, 'Time': 7.675268888473511, 'Alpha': 0.001, 'Epsilon': 0.001, 'Gamma': 0.96, 'Max V': 476.5855242395486, 'Mean V': 33.24316387696462, 'Iteration': 143660}\n",
      "{'State': 15, 'Action': 0, 'Reward': 0.0, 'Error': 0.0, 'Time': 7.676266193389893, 'Alpha': 0.001, 'Epsilon': 0.001, 'Gamma': 0.96, 'Max V': 476.5855242395486, 'Mean V': 33.24316387696462, 'Iteration': 143680}\n",
      "{'State': 15, 'Action': 0, 'Reward': 0.0, 'Error': 0.0, 'Time': 7.727130174636841, 'Alpha': 0.001, 'Epsilon': 0.001, 'Gamma': 0.96, 'Max V': 478.7571015856793, 'Mean V': 33.48302901944593, 'Iteration': 144520}\n",
      "{'State': 15, 'Action': 0, 'Reward': 0.0, 'Error': 0.0, 'Time': 7.729125022888184, 'Alpha': 0.001, 'Epsilon': 0.001, 'Gamma': 0.96, 'Max V': 478.7571015856793, 'Mean V': 33.48302901944593, 'Iteration': 144540}\n",
      "{'State': 15, 'Action': 0, 'Reward': 0.0, 'Error': 0.0, 'Time': 7.730122327804565, 'Alpha': 0.001, 'Epsilon': 0.001, 'Gamma': 0.96, 'Max V': 478.7571015856793, 'Mean V': 33.48302901944593, 'Iteration': 144560}\n",
      "{'State': 15, 'Action': 0, 'Reward': 0.0, 'Error': 0.0, 'Time': 7.73211669921875, 'Alpha': 0.001, 'Epsilon': 0.001, 'Gamma': 0.96, 'Max V': 478.7571015856793, 'Mean V': 33.48302901944593, 'Iteration': 144580}\n",
      "{'State': 14, 'Action': 2, 'Reward': 1000.0, 'Error': 0.5487024143110357, 'Time': 7.76005220413208, 'Alpha': 0.001, 'Epsilon': 0.001, 'Gamma': 0.96, 'Max V': 479.30580399999036, 'Mean V': 33.51732292034037, 'Iteration': 145000}\n",
      "{'State': 15, 'Action': 0, 'Reward': 0.0, 'Error': 0.0, 'Time': 7.76702356338501, 'Alpha': 0.001, 'Epsilon': 0.001, 'Gamma': 0.96, 'Max V': 479.8264981959904, 'Mean V': 33.57504956120223, 'Iteration': 145120}\n",
      "{'State': 15, 'Action': 0, 'Reward': 0.0, 'Error': 0.0, 'Time': 7.769018173217773, 'Alpha': 0.001, 'Epsilon': 0.001, 'Gamma': 0.96, 'Max V': 479.8264981959904, 'Mean V': 33.57504956120223, 'Iteration': 145140}\n",
      "{'State': 15, 'Action': 0, 'Reward': 0.0, 'Error': 0.0, 'Time': 7.770015478134155, 'Alpha': 0.001, 'Epsilon': 0.001, 'Gamma': 0.96, 'Max V': 479.8264981959904, 'Mean V': 33.57504956120223, 'Iteration': 145160}\n",
      "{'State': 15, 'Action': 0, 'Reward': 0.0, 'Error': 0.0, 'Time': 7.771013021469116, 'Alpha': 0.001, 'Epsilon': 0.001, 'Gamma': 0.96, 'Max V': 479.8264981959904, 'Mean V': 33.57504956120223, 'Iteration': 145180}\n",
      "{'State': 14, 'Action': 2, 'Reward': 1000.0, 'Error': 0.543797580941726, 'Time': 7.855786085128784, 'Alpha': 0.001, 'Epsilon': 0.001, 'Gamma': 0.96, 'Max V': 484.95274440525685, 'Mean V': 33.974541095757324, 'Iteration': 146600}\n",
      "{'State': 15, 'Action': 0, 'Reward': 0.0, 'Error': 0.0, 'Time': 7.885705947875977, 'Alpha': 0.001, 'Epsilon': 0.001, 'Gamma': 0.96, 'Max V': 490.3941315233652, 'Mean V': 34.33998662378035, 'Iteration': 147100}\n",
      "{'State': 15, 'Action': 0, 'Reward': 0.0, 'Error': 0.0, 'Time': 7.8867034912109375, 'Alpha': 0.001, 'Epsilon': 0.001, 'Gamma': 0.96, 'Max V': 490.3941315233652, 'Mean V': 34.33998662378035, 'Iteration': 147120}\n",
      "{'State': 15, 'Action': 0, 'Reward': 0.0, 'Error': 0.0, 'Time': 7.888698101043701, 'Alpha': 0.001, 'Epsilon': 0.001, 'Gamma': 0.96, 'Max V': 490.3941315233652, 'Mean V': 34.33998662378035, 'Iteration': 147140}\n",
      "{'State': 15, 'Action': 0, 'Reward': 0.0, 'Error': 0.0, 'Time': 7.889695167541504, 'Alpha': 0.001, 'Epsilon': 0.001, 'Gamma': 0.96, 'Max V': 490.3941315233652, 'Mean V': 34.33998662378035, 'Iteration': 147160}\n",
      "{'State': 15, 'Action': 0, 'Reward': 0.0, 'Error': 0.0, 'Time': 7.890692710876465, 'Alpha': 0.001, 'Epsilon': 0.001, 'Gamma': 0.96, 'Max V': 490.3941315233652, 'Mean V': 34.33998662378035, 'Iteration': 147180}\n",
      "{'State': 14, 'Action': 2, 'Reward': 1000.0, 'Error': 0.5096058684766348, 'Time': 7.92460036277771, 'Alpha': 0.001, 'Epsilon': 0.001, 'Gamma': 0.96, 'Max V': 490.90373739184184, 'Mean V': 34.36984995685194, 'Iteration': 147700}\n",
      "{'State': 15, 'Action': 0, 'Reward': 0.0, 'Error': 0.0, 'Time': 7.925597667694092, 'Alpha': 0.001, 'Epsilon': 0.001, 'Gamma': 0.96, 'Max V': 490.90373739184184, 'Mean V': 34.36984995685194, 'Iteration': 147720}\n",
      "{'State': 15, 'Action': 0, 'Reward': 0.0, 'Error': 0.0, 'Time': 7.926594972610474, 'Alpha': 0.001, 'Epsilon': 0.001, 'Gamma': 0.96, 'Max V': 490.90373739184184, 'Mean V': 34.36984995685194, 'Iteration': 147740}\n",
      "{'State': 15, 'Action': 0, 'Reward': 0.0, 'Error': 0.0, 'Time': 7.9275922775268555, 'Alpha': 0.001, 'Epsilon': 0.001, 'Gamma': 0.96, 'Max V': 490.90373739184184, 'Mean V': 34.36984995685194, 'Iteration': 147760}\n",
      "{'State': 15, 'Action': 0, 'Reward': 0.0, 'Error': 0.0, 'Time': 7.928589582443237, 'Alpha': 0.001, 'Epsilon': 0.001, 'Gamma': 0.96, 'Max V': 490.90373739184184, 'Mean V': 34.36984995685194, 'Iteration': 147780}\n",
      "{'State': 14, 'Action': 2, 'Reward': 1000.0, 'Error': 0.9803638505043264, 'Time': 7.942552089691162, 'Alpha': 0.001, 'Epsilon': 0.001, 'Gamma': 0.96, 'Max V': 491.88410124234616, 'Mean V': 34.431071691067736, 'Iteration': 148100}\n",
      "{'State': 15, 'Action': 0, 'Reward': 0.0, 'Error': 0.0, 'Time': 7.943549394607544, 'Alpha': 0.001, 'Epsilon': 0.001, 'Gamma': 0.96, 'Max V': 492.92836567468464, 'Mean V': 34.524023483502994, 'Iteration': 148120}\n",
      "{'State': 15, 'Action': 0, 'Reward': 0.0, 'Error': 0.0, 'Time': 7.944546937942505, 'Alpha': 0.001, 'Epsilon': 0.001, 'Gamma': 0.96, 'Max V': 492.92836567468464, 'Mean V': 34.524023483502994, 'Iteration': 148140}\n",
      "{'State': 15, 'Action': 0, 'Reward': 0.0, 'Error': 0.0, 'Time': 7.945544242858887, 'Alpha': 0.001, 'Epsilon': 0.001, 'Gamma': 0.96, 'Max V': 492.92836567468464, 'Mean V': 34.524023483502994, 'Iteration': 148160}\n",
      "{'State': 15, 'Action': 0, 'Reward': 0.0, 'Error': 0.0, 'Time': 7.9465415477752686, 'Alpha': 0.001, 'Epsilon': 0.001, 'Gamma': 0.96, 'Max V': 492.92836567468464, 'Mean V': 34.524023483502994, 'Iteration': 148180}\n",
      "{'State': 15, 'Action': 0, 'Reward': 0.0, 'Error': 0.0, 'Time': 7.957512140274048, 'Alpha': 0.001, 'Epsilon': 0.001, 'Gamma': 0.96, 'Max V': 492.92836567468464, 'Mean V': 34.52228395803028, 'Iteration': 148400}\n",
      "{'State': 15, 'Action': 0, 'Reward': 0.0, 'Error': 0.0, 'Time': 7.958509922027588, 'Alpha': 0.001, 'Epsilon': 0.001, 'Gamma': 0.96, 'Max V': 492.92836567468464, 'Mean V': 34.52228395803028, 'Iteration': 148420}\n",
      "{'State': 15, 'Action': 0, 'Reward': 0.0, 'Error': 0.0, 'Time': 7.959507465362549, 'Alpha': 0.001, 'Epsilon': 0.001, 'Gamma': 0.96, 'Max V': 492.92836567468464, 'Mean V': 34.52228395803028, 'Iteration': 148440}\n",
      "{'State': 15, 'Action': 0, 'Reward': 0.0, 'Error': 0.0, 'Time': 7.960504055023193, 'Alpha': 0.001, 'Epsilon': 0.001, 'Gamma': 0.96, 'Max V': 492.92836567468464, 'Mean V': 34.52228395803028, 'Iteration': 148460}\n",
      "{'State': 15, 'Action': 0, 'Reward': 0.0, 'Error': 0.0, 'Time': 7.9615020751953125, 'Alpha': 0.001, 'Epsilon': 0.001, 'Gamma': 0.96, 'Max V': 492.92836567468464, 'Mean V': 34.52228395803028, 'Iteration': 148480}\n",
      "{'State': 14, 'Action': 2, 'Reward': 1000.0, 'Error': 0.5360662000440595, 'Time': 7.985437393188477, 'Alpha': 0.001, 'Epsilon': 0.001, 'Gamma': 0.96, 'Max V': 493.4644318747287, 'Mean V': 34.55400051430588, 'Iteration': 149000}\n",
      "{'State': 15, 'Action': 0, 'Reward': 0.0, 'Error': 0.0, 'Time': 7.998402833938599, 'Alpha': 0.001, 'Epsilon': 0.001, 'Gamma': 0.96, 'Max V': 498.4520234892743, 'Mean V': 34.9171103969309, 'Iteration': 149300}\n",
      "{'State': 15, 'Action': 0, 'Reward': 0.0, 'Error': 0.0, 'Time': 7.9994001388549805, 'Alpha': 0.001, 'Epsilon': 0.001, 'Gamma': 0.96, 'Max V': 498.4520234892743, 'Mean V': 34.9171103969309, 'Iteration': 149320}\n",
      "{'State': 15, 'Action': 0, 'Reward': 0.0, 'Error': 0.0, 'Time': 8.001398801803589, 'Alpha': 0.001, 'Epsilon': 0.001, 'Gamma': 0.96, 'Max V': 498.4520234892743, 'Mean V': 34.9171103969309, 'Iteration': 149340}\n",
      "{'State': 15, 'Action': 0, 'Reward': 0.0, 'Error': 0.0, 'Time': 8.003392219543457, 'Alpha': 0.001, 'Epsilon': 0.001, 'Gamma': 0.96, 'Max V': 498.4520234892743, 'Mean V': 34.9171103969309, 'Iteration': 149360}\n",
      "{'State': 15, 'Action': 0, 'Reward': 0.0, 'Error': 0.0, 'Time': 8.005386114120483, 'Alpha': 0.001, 'Epsilon': 0.001, 'Gamma': 0.96, 'Max V': 498.4520234892743, 'Mean V': 34.9171103969309, 'Iteration': 149380}\n",
      "{'State': 14, 'Action': 2, 'Reward': 1000.0, 'Error': 0.5291612928326439, 'Time': 8.022376298904419, 'Alpha': 0.001, 'Epsilon': 0.001, 'Gamma': 0.96, 'Max V': 501.47099000571905, 'Mean V': 35.13176796696381, 'Iteration': 149700}\n",
      "{'State': 15, 'Action': 0, 'Reward': 0.0, 'Error': 0.0, 'Time': 8.023374795913696, 'Alpha': 0.001, 'Epsilon': 0.001, 'Gamma': 0.96, 'Max V': 505.50780895963425, 'Mean V': 35.49689770117183, 'Iteration': 149720}\n",
      "{'State': 15, 'Action': 0, 'Reward': 0.0, 'Error': 0.0, 'Time': 8.024369955062866, 'Alpha': 0.001, 'Epsilon': 0.001, 'Gamma': 0.96, 'Max V': 505.50780895963425, 'Mean V': 35.49689770117183, 'Iteration': 149740}\n",
      "{'State': 15, 'Action': 0, 'Reward': 0.0, 'Error': 0.0, 'Time': 8.025368690490723, 'Alpha': 0.001, 'Epsilon': 0.001, 'Gamma': 0.96, 'Max V': 505.50780895963425, 'Mean V': 35.49689770117183, 'Iteration': 149760}\n",
      "{'State': 15, 'Action': 0, 'Reward': 0.0, 'Error': 0.0, 'Time': 8.026366949081421, 'Alpha': 0.001, 'Epsilon': 0.001, 'Gamma': 0.96, 'Max V': 505.50780895963425, 'Mean V': 35.49689770117183, 'Iteration': 149780}\n",
      "{'State': 15, 'Action': 0, 'Reward': 0.0, 'Error': 0.0, 'Time': 8.151993989944458, 'Alpha': 0.001, 'Epsilon': 0.001, 'Gamma': 0.96, 'Max V': 511.97599232496236, 'Mean V': 35.97812617461717, 'Iteration': 152000}\n",
      "{'State': 15, 'Action': 0, 'Reward': 0.0, 'Error': 0.0, 'Time': 8.15299129486084, 'Alpha': 0.001, 'Epsilon': 0.001, 'Gamma': 0.96, 'Max V': 511.97599232496236, 'Mean V': 35.97812617461717, 'Iteration': 152020}\n",
      "{'State': 15, 'Action': 0, 'Reward': 0.0, 'Error': 0.0, 'Time': 8.154985666275024, 'Alpha': 0.001, 'Epsilon': 0.001, 'Gamma': 0.96, 'Max V': 511.97599232496236, 'Mean V': 35.97812617461717, 'Iteration': 152040}\n",
      "{'State': 15, 'Action': 0, 'Reward': 0.0, 'Error': 0.0, 'Time': 8.155983209609985, 'Alpha': 0.001, 'Epsilon': 0.001, 'Gamma': 0.96, 'Max V': 511.97599232496236, 'Mean V': 35.97812617461717, 'Iteration': 152060}\n",
      "{'State': 15, 'Action': 0, 'Reward': 0.0, 'Error': 0.0, 'Time': 8.15797758102417, 'Alpha': 0.001, 'Epsilon': 0.001, 'Gamma': 0.96, 'Max V': 511.97599232496236, 'Mean V': 35.97812617461717, 'Iteration': 152080}\n",
      "{'State': 15, 'Action': 0, 'Reward': 0.0, 'Error': 0.0, 'Time': 8.241752624511719, 'Alpha': 0.001, 'Epsilon': 0.001, 'Gamma': 0.96, 'Max V': 511.97599232496236, 'Mean V': 35.97805944862801, 'Iteration': 153500}\n",
      "{'State': 15, 'Action': 0, 'Reward': 0.0, 'Error': 0.0, 'Time': 8.243746995925903, 'Alpha': 0.001, 'Epsilon': 0.001, 'Gamma': 0.96, 'Max V': 511.97599232496236, 'Mean V': 35.97805944862801, 'Iteration': 153520}\n",
      "{'State': 15, 'Action': 0, 'Reward': 0.0, 'Error': 0.0, 'Time': 8.245743989944458, 'Alpha': 0.001, 'Epsilon': 0.001, 'Gamma': 0.96, 'Max V': 511.97599232496236, 'Mean V': 35.97805944862801, 'Iteration': 153540}\n",
      "{'State': 15, 'Action': 0, 'Reward': 0.0, 'Error': 0.0, 'Time': 8.24873399734497, 'Alpha': 0.001, 'Epsilon': 0.001, 'Gamma': 0.96, 'Max V': 511.97599232496236, 'Mean V': 35.97805944862801, 'Iteration': 153560}\n",
      "{'State': 15, 'Action': 0, 'Reward': 0.0, 'Error': 0.0, 'Time': 8.25172734260559, 'Alpha': 0.001, 'Epsilon': 0.001, 'Gamma': 0.96, 'Max V': 511.97599232496236, 'Mean V': 35.97805944862801, 'Iteration': 153580}\n",
      "{'State': 14, 'Action': 2, 'Reward': 1000.0, 'Error': 0.9795209603070014, 'Time': 8.262736797332764, 'Alpha': 0.001, 'Epsilon': 0.001, 'Gamma': 0.96, 'Max V': 512.9555132852694, 'Mean V': 36.03924012004437, 'Iteration': 153700}\n",
      "{'State': 15, 'Action': 0, 'Reward': 0.0, 'Error': 0.0, 'Time': 8.310568809509277, 'Alpha': 0.001, 'Epsilon': 0.001, 'Gamma': 0.96, 'Max V': 515.917104940964, 'Mean V': 36.24915342185438, 'Iteration': 154520}\n",
      "{'State': 15, 'Action': 0, 'Reward': 0.0, 'Error': 0.0, 'Time': 8.312575101852417, 'Alpha': 0.001, 'Epsilon': 0.001, 'Gamma': 0.96, 'Max V': 515.917104940964, 'Mean V': 36.24915342185438, 'Iteration': 154540}\n",
      "{'State': 15, 'Action': 0, 'Reward': 0.0, 'Error': 0.0, 'Time': 8.313565254211426, 'Alpha': 0.001, 'Epsilon': 0.001, 'Gamma': 0.96, 'Max V': 515.917104940964, 'Mean V': 36.24915342185438, 'Iteration': 154560}\n",
      "{'State': 15, 'Action': 0, 'Reward': 0.0, 'Error': 0.0, 'Time': 8.314568042755127, 'Alpha': 0.001, 'Epsilon': 0.001, 'Gamma': 0.96, 'Max V': 515.917104940964, 'Mean V': 36.24915342185438, 'Iteration': 154580}\n",
      "{'State': 15, 'Action': 0, 'Reward': 0.0, 'Error': 0.0, 'Time': 8.423266887664795, 'Alpha': 0.001, 'Epsilon': 0.001, 'Gamma': 0.96, 'Max V': 516.401187836023, 'Mean V': 36.30580258057158, 'Iteration': 156320}\n",
      "{'State': 15, 'Action': 0, 'Reward': 0.0, 'Error': 0.0, 'Time': 8.424263715744019, 'Alpha': 0.001, 'Epsilon': 0.001, 'Gamma': 0.96, 'Max V': 516.401187836023, 'Mean V': 36.30580258057158, 'Iteration': 156340}\n",
      "{'State': 15, 'Action': 0, 'Reward': 0.0, 'Error': 0.0, 'Time': 8.4252610206604, 'Alpha': 0.001, 'Epsilon': 0.001, 'Gamma': 0.96, 'Max V': 516.401187836023, 'Mean V': 36.30580258057158, 'Iteration': 156360}\n",
      "{'State': 15, 'Action': 0, 'Reward': 0.0, 'Error': 0.0, 'Time': 8.426258563995361, 'Alpha': 0.001, 'Epsilon': 0.001, 'Gamma': 0.96, 'Max V': 516.401187836023, 'Mean V': 36.30580258057158, 'Iteration': 156380}\n",
      "{'State': 14, 'Action': 2, 'Reward': 1000.0, 'Error': 0.979343952486559, 'Time': 8.446205377578735, 'Alpha': 0.001, 'Epsilon': 0.001, 'Gamma': 0.96, 'Max V': 517.3805317885096, 'Mean V': 36.36701157760199, 'Iteration': 156800}\n",
      "{'State': 15, 'Action': 0, 'Reward': 0.0, 'Error': 0.0, 'Time': 8.447202920913696, 'Alpha': 0.001, 'Epsilon': 0.001, 'Gamma': 0.96, 'Max V': 517.8631512567212, 'Mean V': 36.39717529436521, 'Iteration': 156820}\n",
      "{'State': 15, 'Action': 0, 'Reward': 0.0, 'Error': 0.0, 'Time': 8.44819974899292, 'Alpha': 0.001, 'Epsilon': 0.001, 'Gamma': 0.96, 'Max V': 517.8631512567212, 'Mean V': 36.39717529436521, 'Iteration': 156840}\n",
      "{'State': 15, 'Action': 0, 'Reward': 0.0, 'Error': 0.0, 'Time': 8.449197053909302, 'Alpha': 0.001, 'Epsilon': 0.001, 'Gamma': 0.96, 'Max V': 517.8631512567212, 'Mean V': 36.39717529436521, 'Iteration': 156860}\n",
      "{'State': 15, 'Action': 0, 'Reward': 0.0, 'Error': 0.0, 'Time': 8.450194358825684, 'Alpha': 0.001, 'Epsilon': 0.001, 'Gamma': 0.96, 'Max V': 517.8631512567212, 'Mean V': 36.39717529436521, 'Iteration': 156880}\n",
      "{'State': 15, 'Action': 0, 'Reward': 0.0, 'Error': 0.0, 'Time': 8.466151714324951, 'Alpha': 0.001, 'Epsilon': 0.001, 'Gamma': 0.96, 'Max V': 518.3452881054644, 'Mean V': 36.4563078707303, 'Iteration': 157220}\n",
      "{'State': 15, 'Action': 0, 'Reward': 0.0, 'Error': 0.0, 'Time': 8.467149019241333, 'Alpha': 0.001, 'Epsilon': 0.001, 'Gamma': 0.96, 'Max V': 518.3452881054644, 'Mean V': 36.4563078707303, 'Iteration': 157240}\n",
      "{'State': 15, 'Action': 0, 'Reward': 0.0, 'Error': 0.0, 'Time': 8.468146562576294, 'Alpha': 0.001, 'Epsilon': 0.001, 'Gamma': 0.96, 'Max V': 518.3452881054644, 'Mean V': 36.4563078707303, 'Iteration': 157260}\n",
      "{'State': 15, 'Action': 0, 'Reward': 0.0, 'Error': 0.0, 'Time': 8.469143867492676, 'Alpha': 0.001, 'Epsilon': 0.001, 'Gamma': 0.96, 'Max V': 518.3452881054644, 'Mean V': 36.4563078707303, 'Iteration': 157280}\n",
      "{'State': 15, 'Action': 0, 'Reward': 0.0, 'Error': 0.0, 'Time': 8.515021085739136, 'Alpha': 0.001, 'Epsilon': 0.001, 'Gamma': 0.96, 'Max V': 518.8591942454934, 'Mean V': 36.5129894138832, 'Iteration': 158300}\n",
      "{'State': 15, 'Action': 0, 'Reward': 0.0, 'Error': 0.0, 'Time': 8.516018390655518, 'Alpha': 0.001, 'Epsilon': 0.001, 'Gamma': 0.96, 'Max V': 518.8591942454934, 'Mean V': 36.5129894138832, 'Iteration': 158320}\n",
      "{'State': 15, 'Action': 0, 'Reward': 0.0, 'Error': 0.0, 'Time': 8.5170156955719, 'Alpha': 0.001, 'Epsilon': 0.001, 'Gamma': 0.96, 'Max V': 518.8591942454934, 'Mean V': 36.5129894138832, 'Iteration': 158340}\n",
      "{'State': 15, 'Action': 0, 'Reward': 0.0, 'Error': 0.0, 'Time': 8.518013000488281, 'Alpha': 0.001, 'Epsilon': 0.001, 'Gamma': 0.96, 'Max V': 518.8591942454934, 'Mean V': 36.5129894138832, 'Iteration': 158360}\n",
      "{'State': 15, 'Action': 0, 'Reward': 0.0, 'Error': 0.0, 'Time': 8.519010305404663, 'Alpha': 0.001, 'Epsilon': 0.001, 'Gamma': 0.96, 'Max V': 518.8591942454934, 'Mean V': 36.5129894138832, 'Iteration': 158380}\n",
      "{'State': 15, 'Action': 0, 'Reward': 0.0, 'Error': 0.0, 'Time': 8.56389045715332, 'Alpha': 0.001, 'Epsilon': 0.001, 'Gamma': 0.96, 'Max V': 520.3511415995634, 'Mean V': 36.63475835921125, 'Iteration': 159400}\n",
      "{'State': 15, 'Action': 0, 'Reward': 0.0, 'Error': 0.0, 'Time': 8.564887523651123, 'Alpha': 0.001, 'Epsilon': 0.001, 'Gamma': 0.96, 'Max V': 520.3511415995634, 'Mean V': 36.63475835921125, 'Iteration': 159420}\n",
      "{'State': 15, 'Action': 0, 'Reward': 0.0, 'Error': 0.0, 'Time': 8.565885066986084, 'Alpha': 0.001, 'Epsilon': 0.001, 'Gamma': 0.96, 'Max V': 520.3511415995634, 'Mean V': 36.63475835921125, 'Iteration': 159440}\n",
      "{'State': 15, 'Action': 0, 'Reward': 0.0, 'Error': 0.0, 'Time': 8.566882371902466, 'Alpha': 0.001, 'Epsilon': 0.001, 'Gamma': 0.96, 'Max V': 520.3511415995634, 'Mean V': 36.63475835921125, 'Iteration': 159460}\n",
      "{'State': 15, 'Action': 0, 'Reward': 0.0, 'Error': 0.0, 'Time': 8.567879676818848, 'Alpha': 0.001, 'Epsilon': 0.001, 'Gamma': 0.96, 'Max V': 520.3511415995634, 'Mean V': 36.63475835921125, 'Iteration': 159480}\n",
      "{'State': 15, 'Action': 0, 'Reward': 0.0, 'Error': 0.0, 'Time': 8.573863506317139, 'Alpha': 0.001, 'Epsilon': 0.001, 'Gamma': 0.96, 'Max V': 520.3511415995634, 'Mean V': 36.63475835921125, 'Iteration': 159600}\n",
      "{'State': 15, 'Action': 0, 'Reward': 0.0, 'Error': 0.0, 'Time': 8.5748610496521, 'Alpha': 0.001, 'Epsilon': 0.001, 'Gamma': 0.96, 'Max V': 520.3511415995634, 'Mean V': 36.63475835921125, 'Iteration': 159620}\n",
      "{'State': 15, 'Action': 0, 'Reward': 0.0, 'Error': 0.0, 'Time': 8.575858116149902, 'Alpha': 0.001, 'Epsilon': 0.001, 'Gamma': 0.96, 'Max V': 520.3511415995634, 'Mean V': 36.63475835921125, 'Iteration': 159640}\n",
      "{'State': 15, 'Action': 0, 'Reward': 0.0, 'Error': 0.0, 'Time': 8.576855659484863, 'Alpha': 0.001, 'Epsilon': 0.001, 'Gamma': 0.96, 'Max V': 520.3511415995634, 'Mean V': 36.63475835921125, 'Iteration': 159660}\n",
      "{'State': 15, 'Action': 0, 'Reward': 0.0, 'Error': 0.0, 'Time': 8.577853918075562, 'Alpha': 0.001, 'Epsilon': 0.001, 'Gamma': 0.96, 'Max V': 520.3511415995634, 'Mean V': 36.63475835921125, 'Iteration': 159680}\n",
      "{'State': 15, 'Action': 0, 'Reward': 0.0, 'Error': 0.0, 'Time': 8.654685735702515, 'Alpha': 0.001, 'Epsilon': 0.001, 'Gamma': 0.96, 'Max V': 521.8089972263456, 'Mean V': 36.75692804467576, 'Iteration': 161120}\n",
      "{'State': 15, 'Action': 0, 'Reward': 0.0, 'Error': 0.0, 'Time': 8.655682563781738, 'Alpha': 0.001, 'Epsilon': 0.001, 'Gamma': 0.96, 'Max V': 521.8089972263456, 'Mean V': 36.75692804467576, 'Iteration': 161140}\n",
      "{'State': 15, 'Action': 0, 'Reward': 0.0, 'Error': 0.0, 'Time': 8.656681299209595, 'Alpha': 0.001, 'Epsilon': 0.001, 'Gamma': 0.96, 'Max V': 521.8089972263456, 'Mean V': 36.75692804467576, 'Iteration': 161160}\n",
      "{'State': 15, 'Action': 0, 'Reward': 0.0, 'Error': 0.0, 'Time': 8.657676935195923, 'Alpha': 0.001, 'Epsilon': 0.001, 'Gamma': 0.96, 'Max V': 521.8089972263456, 'Mean V': 36.75692804467576, 'Iteration': 161180}\n",
      "{'State': 14, 'Action': 2, 'Reward': 1000.0, 'Error': 0.4757232463119268, 'Time': 8.80624532699585, 'Alpha': 0.001, 'Epsilon': 0.001, 'Gamma': 0.96, 'Max V': 524.7524769343851, 'Mean V': 36.967414255464305, 'Iteration': 162600}\n",
      "{'State': 15, 'Action': 0, 'Reward': 0.0, 'Error': 0.0, 'Time': 8.80824875831604, 'Alpha': 0.001, 'Epsilon': 0.001, 'Gamma': 0.96, 'Max V': 524.7524769343851, 'Mean V': 36.967414255464305, 'Iteration': 162620}\n",
      "{'State': 15, 'Action': 0, 'Reward': 0.0, 'Error': 0.0, 'Time': 8.810234546661377, 'Alpha': 0.001, 'Epsilon': 0.001, 'Gamma': 0.96, 'Max V': 524.7524769343851, 'Mean V': 36.967414255464305, 'Iteration': 162640}\n",
      "{'State': 15, 'Action': 0, 'Reward': 0.0, 'Error': 0.0, 'Time': 8.81222653388977, 'Alpha': 0.001, 'Epsilon': 0.001, 'Gamma': 0.96, 'Max V': 524.7524769343851, 'Mean V': 36.967414255464305, 'Iteration': 162660}\n",
      "{'State': 15, 'Action': 0, 'Reward': 0.0, 'Error': 0.0, 'Time': 8.817214012145996, 'Alpha': 0.001, 'Epsilon': 0.001, 'Gamma': 0.96, 'Max V': 524.7524769343851, 'Mean V': 36.967414255464305, 'Iteration': 162680}\n",
      "{'State': 14, 'Action': 2, 'Reward': 1000.0, 'Error': 0.5085230175432927, 'Time': 8.8202064037323, 'Alpha': 0.001, 'Epsilon': 0.001, 'Gamma': 0.96, 'Max V': 525.2609999519284, 'Mean V': 36.99919694406076, 'Iteration': 162700}\n",
      "{'State': 14, 'Action': 2, 'Reward': 1000.0, 'Error': 0.4747390000480716, 'Time': 8.83118987083435, 'Alpha': 0.001, 'Epsilon': 0.001, 'Gamma': 0.96, 'Max V': 525.7357389519765, 'Mean V': 37.02670006521917, 'Iteration': 162800}\n",
      "{'State': 15, 'Action': 0, 'Reward': 0.0, 'Error': 0.0, 'Time': 8.833171129226685, 'Alpha': 0.001, 'Epsilon': 0.001, 'Gamma': 0.96, 'Max V': 525.7357389519765, 'Mean V': 37.02670006521917, 'Iteration': 162820}\n",
      "{'State': 15, 'Action': 0, 'Reward': 0.0, 'Error': 0.0, 'Time': 8.83616590499878, 'Alpha': 0.001, 'Epsilon': 0.001, 'Gamma': 0.96, 'Max V': 525.7357389519765, 'Mean V': 37.02670006521917, 'Iteration': 162840}\n",
      "{'State': 15, 'Action': 0, 'Reward': 0.0, 'Error': 0.0, 'Time': 8.839158773422241, 'Alpha': 0.001, 'Epsilon': 0.001, 'Gamma': 0.96, 'Max V': 525.7357389519765, 'Mean V': 37.02670006521917, 'Iteration': 162860}\n",
      "{'State': 15, 'Action': 0, 'Reward': 0.0, 'Error': 0.0, 'Time': 8.840154647827148, 'Alpha': 0.001, 'Epsilon': 0.001, 'Gamma': 0.96, 'Max V': 525.7357389519765, 'Mean V': 37.02670006521917, 'Iteration': 162880}\n",
      "{'State': 15, 'Action': 0, 'Reward': 0.0, 'Error': 0.0, 'Time': 8.857107639312744, 'Alpha': 0.001, 'Epsilon': 0.001, 'Gamma': 0.96, 'Max V': 529.1769385008738, 'Mean V': 37.32841725854927, 'Iteration': 163120}\n",
      "{'State': 15, 'Action': 0, 'Reward': 0.0, 'Error': 0.0, 'Time': 8.85810375213623, 'Alpha': 0.001, 'Epsilon': 0.001, 'Gamma': 0.96, 'Max V': 529.1769385008738, 'Mean V': 37.32841725854927, 'Iteration': 163140}\n",
      "{'State': 15, 'Action': 0, 'Reward': 0.0, 'Error': 0.0, 'Time': 8.859100818634033, 'Alpha': 0.001, 'Epsilon': 0.001, 'Gamma': 0.96, 'Max V': 529.1769385008738, 'Mean V': 37.32841725854927, 'Iteration': 163160}\n",
      "{'State': 15, 'Action': 0, 'Reward': 0.0, 'Error': 0.0, 'Time': 8.860098123550415, 'Alpha': 0.001, 'Epsilon': 0.001, 'Gamma': 0.96, 'Max V': 529.1769385008738, 'Mean V': 37.32841725854927, 'Iteration': 163180}\n",
      "{'State': 15, 'Action': 0, 'Reward': 0.0, 'Error': 0.0, 'Time': 8.899991273880005, 'Alpha': 0.001, 'Epsilon': 0.001, 'Gamma': 0.96, 'Max V': 529.1769385008738, 'Mean V': 37.32832957500119, 'Iteration': 163900}\n",
      "{'State': 15, 'Action': 0, 'Reward': 0.0, 'Error': 0.0, 'Time': 8.90099024772644, 'Alpha': 0.001, 'Epsilon': 0.001, 'Gamma': 0.96, 'Max V': 529.1769385008738, 'Mean V': 37.32832957500119, 'Iteration': 163920}\n",
      "{'State': 15, 'Action': 0, 'Reward': 0.0, 'Error': 0.0, 'Time': 8.901986360549927, 'Alpha': 0.001, 'Epsilon': 0.001, 'Gamma': 0.96, 'Max V': 529.1769385008738, 'Mean V': 37.32832957500119, 'Iteration': 163940}\n",
      "{'State': 15, 'Action': 0, 'Reward': 0.0, 'Error': 0.0, 'Time': 8.90298342704773, 'Alpha': 0.001, 'Epsilon': 0.001, 'Gamma': 0.96, 'Max V': 529.1769385008738, 'Mean V': 37.32832957500119, 'Iteration': 163960}\n",
      "{'State': 15, 'Action': 0, 'Reward': 0.0, 'Error': 0.0, 'Time': 8.903980493545532, 'Alpha': 0.001, 'Epsilon': 0.001, 'Gamma': 0.96, 'Max V': 529.1769385008738, 'Mean V': 37.32832957500119, 'Iteration': 163980}\n",
      "{'State': 15, 'Action': 0, 'Reward': 0.0, 'Error': 0.0, 'Time': 8.909964561462402, 'Alpha': 0.001, 'Epsilon': 0.001, 'Gamma': 0.96, 'Max V': 529.1769385008738, 'Mean V': 37.32832957500119, 'Iteration': 164100}\n",
      "{'State': 15, 'Action': 0, 'Reward': 0.0, 'Error': 0.0, 'Time': 8.911959648132324, 'Alpha': 0.001, 'Epsilon': 0.001, 'Gamma': 0.96, 'Max V': 529.1769385008738, 'Mean V': 37.32832957500119, 'Iteration': 164120}\n",
      "{'State': 15, 'Action': 0, 'Reward': 0.0, 'Error': 0.0, 'Time': 8.913994789123535, 'Alpha': 0.001, 'Epsilon': 0.001, 'Gamma': 0.96, 'Max V': 529.1769385008738, 'Mean V': 37.32832957500119, 'Iteration': 164140}\n",
      "{'State': 15, 'Action': 0, 'Reward': 0.0, 'Error': 0.0, 'Time': 8.915990352630615, 'Alpha': 0.001, 'Epsilon': 0.001, 'Gamma': 0.96, 'Max V': 529.1769385008738, 'Mean V': 37.32832957500119, 'Iteration': 164160}\n",
      "{'State': 15, 'Action': 0, 'Reward': 0.0, 'Error': 0.0, 'Time': 8.918983459472656, 'Alpha': 0.001, 'Epsilon': 0.001, 'Gamma': 0.96, 'Max V': 529.1769385008738, 'Mean V': 37.32832957500119, 'Iteration': 164180}\n",
      "{'State': 15, 'Action': 0, 'Reward': 0.0, 'Error': 0.0, 'Time': 8.92795705795288, 'Alpha': 0.001, 'Epsilon': 0.001, 'Gamma': 0.96, 'Max V': 529.6477615623729, 'Mean V': 37.386852843653806, 'Iteration': 164320}\n",
      "{'State': 15, 'Action': 0, 'Reward': 0.0, 'Error': 0.0, 'Time': 8.929912090301514, 'Alpha': 0.001, 'Epsilon': 0.001, 'Gamma': 0.96, 'Max V': 529.6477615623729, 'Mean V': 37.386852843653806, 'Iteration': 164340}\n",
      "{'State': 15, 'Action': 0, 'Reward': 0.0, 'Error': 0.0, 'Time': 8.930911779403687, 'Alpha': 0.001, 'Epsilon': 0.001, 'Gamma': 0.96, 'Max V': 529.6477615623729, 'Mean V': 37.386852843653806, 'Iteration': 164360}\n",
      "{'State': 15, 'Action': 0, 'Reward': 0.0, 'Error': 0.0, 'Time': 8.932904958724976, 'Alpha': 0.001, 'Epsilon': 0.001, 'Gamma': 0.96, 'Max V': 529.6477615623729, 'Mean V': 37.386852843653806, 'Iteration': 164380}\n",
      "{'State': 14, 'Action': 2, 'Reward': 1000.0, 'Error': 0.4703522384376271, 'Time': 8.997060298919678, 'Alpha': 0.001, 'Epsilon': 0.001, 'Gamma': 0.96, 'Max V': 530.1181138008105, 'Mean V': 37.40758022781036, 'Iteration': 165500}\n",
      "{'State': 15, 'Action': 0, 'Reward': 0.0, 'Error': 0.0, 'Time': 8.998070240020752, 'Alpha': 0.001, 'Epsilon': 0.001, 'Gamma': 0.96, 'Max V': 530.1181138008105, 'Mean V': 37.40758022781036, 'Iteration': 165520}\n",
      "{'State': 15, 'Action': 0, 'Reward': 0.0, 'Error': 0.0, 'Time': 8.999053955078125, 'Alpha': 0.001, 'Epsilon': 0.001, 'Gamma': 0.96, 'Max V': 530.1181138008105, 'Mean V': 37.40758022781036, 'Iteration': 165540}\n",
      "{'State': 15, 'Action': 0, 'Reward': 0.0, 'Error': 0.0, 'Time': 9.000051021575928, 'Alpha': 0.001, 'Epsilon': 0.001, 'Gamma': 0.96, 'Max V': 530.1181138008105, 'Mean V': 37.40758022781036, 'Iteration': 165560}\n",
      "{'State': 15, 'Action': 0, 'Reward': 0.0, 'Error': 0.0, 'Time': 9.001048564910889, 'Alpha': 0.001, 'Epsilon': 0.001, 'Gamma': 0.96, 'Max V': 530.1181138008105, 'Mean V': 37.40758022781036, 'Iteration': 165580}\n",
      "{'State': 15, 'Action': 0, 'Reward': 0.0, 'Error': 0.0, 'Time': 9.035955429077148, 'Alpha': 0.001, 'Epsilon': 0.001, 'Gamma': 0.96, 'Max V': 530.1181138008105, 'Mean V': 37.40748816766704, 'Iteration': 165900}\n",
      "{'State': 15, 'Action': 0, 'Reward': 0.0, 'Error': 0.0, 'Time': 9.036952257156372, 'Alpha': 0.001, 'Epsilon': 0.001, 'Gamma': 0.96, 'Max V': 530.1181138008105, 'Mean V': 37.40748816766704, 'Iteration': 165920}\n",
      "{'State': 15, 'Action': 0, 'Reward': 0.0, 'Error': 0.0, 'Time': 9.03795075416565, 'Alpha': 0.001, 'Epsilon': 0.001, 'Gamma': 0.96, 'Max V': 530.1181138008105, 'Mean V': 37.40748816766704, 'Iteration': 165940}\n",
      "{'State': 15, 'Action': 0, 'Reward': 0.0, 'Error': 0.0, 'Time': 9.039985418319702, 'Alpha': 0.001, 'Epsilon': 0.001, 'Gamma': 0.96, 'Max V': 530.1181138008105, 'Mean V': 37.40748816766704, 'Iteration': 165960}\n",
      "{'State': 15, 'Action': 0, 'Reward': 0.0, 'Error': 0.0, 'Time': 9.040982246398926, 'Alpha': 0.001, 'Epsilon': 0.001, 'Gamma': 0.96, 'Max V': 530.1181138008105, 'Mean V': 37.40748816766704, 'Iteration': 165980}\n",
      "{'State': 15, 'Action': 0, 'Reward': 0.0, 'Error': 0.0, 'Time': 9.064917802810669, 'Alpha': 0.001, 'Epsilon': 0.001, 'Gamma': 0.96, 'Max V': 530.5879956870098, 'Mean V': 37.46847721427249, 'Iteration': 166420}\n",
      "{'State': 15, 'Action': 0, 'Reward': 0.0, 'Error': 0.0, 'Time': 9.065913438796997, 'Alpha': 0.001, 'Epsilon': 0.001, 'Gamma': 0.96, 'Max V': 530.5879956870098, 'Mean V': 37.46847721427249, 'Iteration': 166440}\n",
      "{'State': 15, 'Action': 0, 'Reward': 0.0, 'Error': 0.0, 'Time': 9.066910743713379, 'Alpha': 0.001, 'Epsilon': 0.001, 'Gamma': 0.96, 'Max V': 530.5879956870098, 'Mean V': 37.46847721427249, 'Iteration': 166460}\n",
      "{'State': 15, 'Action': 0, 'Reward': 0.0, 'Error': 0.0, 'Time': 9.067907333374023, 'Alpha': 0.001, 'Epsilon': 0.001, 'Gamma': 0.96, 'Max V': 530.5879956870098, 'Mean V': 37.46847721427249, 'Iteration': 166480}\n",
      "{'State': 15, 'Action': 0, 'Reward': 0.0, 'Error': 0.0, 'Time': 9.069904088973999, 'Alpha': 0.001, 'Epsilon': 0.001, 'Gamma': 0.96, 'Max V': 532.0352053950152, 'Mean V': 37.58852747237172, 'Iteration': 166520}\n",
      "{'State': 15, 'Action': 0, 'Reward': 0.0, 'Error': 0.0, 'Time': 9.070902347564697, 'Alpha': 0.001, 'Epsilon': 0.001, 'Gamma': 0.96, 'Max V': 532.0352053950152, 'Mean V': 37.58852747237172, 'Iteration': 166540}\n",
      "{'State': 15, 'Action': 0, 'Reward': 0.0, 'Error': 0.0, 'Time': 9.072857141494751, 'Alpha': 0.001, 'Epsilon': 0.001, 'Gamma': 0.96, 'Max V': 532.0352053950152, 'Mean V': 37.58852747237172, 'Iteration': 166560}\n",
      "{'State': 15, 'Action': 0, 'Reward': 0.0, 'Error': 0.0, 'Time': 9.073853731155396, 'Alpha': 0.001, 'Epsilon': 0.001, 'Gamma': 0.96, 'Max V': 532.0352053950152, 'Mean V': 37.58852747237172, 'Iteration': 166580}\n",
      "{'State': 15, 'Action': 0, 'Reward': 0.0, 'Error': 0.0, 'Time': 9.091846227645874, 'Alpha': 0.001, 'Epsilon': 0.001, 'Gamma': 0.96, 'Max V': 532.0352053950152, 'Mean V': 37.58852747237172, 'Iteration': 166900}\n",
      "{'State': 15, 'Action': 0, 'Reward': 0.0, 'Error': 0.0, 'Time': 9.091846227645874, 'Alpha': 0.001, 'Epsilon': 0.001, 'Gamma': 0.96, 'Max V': 532.0352053950152, 'Mean V': 37.58852747237172, 'Iteration': 166920}\n",
      "{'State': 15, 'Action': 0, 'Reward': 0.0, 'Error': 0.0, 'Time': 9.0938401222229, 'Alpha': 0.001, 'Epsilon': 0.001, 'Gamma': 0.96, 'Max V': 532.0352053950152, 'Mean V': 37.58852747237172, 'Iteration': 166940}\n",
      "{'State': 15, 'Action': 0, 'Reward': 0.0, 'Error': 0.0, 'Time': 9.094836473464966, 'Alpha': 0.001, 'Epsilon': 0.001, 'Gamma': 0.96, 'Max V': 532.0352053950152, 'Mean V': 37.58852747237172, 'Iteration': 166960}\n",
      "{'State': 15, 'Action': 0, 'Reward': 0.0, 'Error': 0.0, 'Time': 9.09579849243164, 'Alpha': 0.001, 'Epsilon': 0.001, 'Gamma': 0.96, 'Max V': 532.0352053950152, 'Mean V': 37.58852747237172, 'Iteration': 166980}\n",
      "{'State': 15, 'Action': 0, 'Reward': 0.0, 'Error': 0.0, 'Time': 9.205518007278442, 'Alpha': 0.001, 'Epsilon': 0.001, 'Gamma': 0.96, 'Max V': 535.985930126816, 'Mean V': 38.00637276444375, 'Iteration': 169020}\n",
      "{'State': 15, 'Action': 0, 'Reward': 0.0, 'Error': 0.0, 'Time': 9.206539392471313, 'Alpha': 0.001, 'Epsilon': 0.001, 'Gamma': 0.96, 'Max V': 535.985930126816, 'Mean V': 38.00637276444375, 'Iteration': 169040}\n",
      "{'State': 15, 'Action': 0, 'Reward': 0.0, 'Error': 0.0, 'Time': 9.207537412643433, 'Alpha': 0.001, 'Epsilon': 0.001, 'Gamma': 0.96, 'Max V': 535.985930126816, 'Mean V': 38.00637276444375, 'Iteration': 169060}\n",
      "{'State': 15, 'Action': 0, 'Reward': 0.0, 'Error': 0.0, 'Time': 9.20853328704834, 'Alpha': 0.001, 'Epsilon': 0.001, 'Gamma': 0.96, 'Max V': 535.985930126816, 'Mean V': 38.00637276444375, 'Iteration': 169080}\n",
      "{'State': 15, 'Action': 0, 'Reward': 0.0, 'Error': 0.0, 'Time': 9.23945140838623, 'Alpha': 0.001, 'Epsilon': 0.001, 'Gamma': 0.96, 'Max V': 537.4275261989213, 'Mean V': 38.123870350751005, 'Iteration': 169520}\n",
      "{'State': 15, 'Action': 0, 'Reward': 0.0, 'Error': 0.0, 'Time': 9.240447521209717, 'Alpha': 0.001, 'Epsilon': 0.001, 'Gamma': 0.96, 'Max V': 537.4275261989213, 'Mean V': 38.123870350751005, 'Iteration': 169540}\n",
      "{'State': 15, 'Action': 0, 'Reward': 0.0, 'Error': 0.0, 'Time': 9.241445064544678, 'Alpha': 0.001, 'Epsilon': 0.001, 'Gamma': 0.96, 'Max V': 537.4275261989213, 'Mean V': 38.123870350751005, 'Iteration': 169560}\n",
      "{'State': 15, 'Action': 0, 'Reward': 0.0, 'Error': 0.0, 'Time': 9.242444038391113, 'Alpha': 0.001, 'Epsilon': 0.001, 'Gamma': 0.96, 'Max V': 537.4275261989213, 'Mean V': 38.123870350751005, 'Iteration': 169580}\n",
      "{'State': 15, 'Action': 0, 'Reward': 0.0, 'Error': 0.0, 'Time': 9.340143203735352, 'Alpha': 0.001, 'Epsilon': 0.001, 'Gamma': 0.96, 'Max V': 539.3648167871243, 'Mean V': 38.29765068829758, 'Iteration': 171520}\n",
      "{'State': 15, 'Action': 0, 'Reward': 0.0, 'Error': 0.0, 'Time': 9.341140270233154, 'Alpha': 0.001, 'Epsilon': 0.001, 'Gamma': 0.96, 'Max V': 539.3648167871243, 'Mean V': 38.29765068829758, 'Iteration': 171540}\n",
      "{'State': 15, 'Action': 0, 'Reward': 0.0, 'Error': 0.0, 'Time': 9.343135118484497, 'Alpha': 0.001, 'Epsilon': 0.001, 'Gamma': 0.96, 'Max V': 539.3648167871243, 'Mean V': 38.29765068829758, 'Iteration': 171560}\n",
      "{'State': 15, 'Action': 0, 'Reward': 0.0, 'Error': 0.0, 'Time': 9.344132423400879, 'Alpha': 0.001, 'Epsilon': 0.001, 'Gamma': 0.96, 'Max V': 539.3648167871243, 'Mean V': 38.29765068829758, 'Iteration': 171580}\n",
      "{'State': 14, 'Action': 2, 'Reward': 1000.0, 'Error': 0.4956720157949928, 'Time': 9.438877582550049, 'Alpha': 0.001, 'Epsilon': 0.001, 'Gamma': 0.96, 'Max V': 539.8604888029192, 'Mean V': 38.32601623359866, 'Iteration': 173300}\n",
      "{'State': 14, 'Action': 2, 'Reward': 1000.0, 'Error': 0.4601395111970808, 'Time': 9.447853326797485, 'Alpha': 0.001, 'Epsilon': 0.001, 'Gamma': 0.96, 'Max V': 540.3206283141163, 'Mean V': 38.35248927234778, 'Iteration': 173500}\n",
      "{'State': 15, 'Action': 0, 'Reward': 0.0, 'Error': 0.0, 'Time': 9.448850631713867, 'Alpha': 0.001, 'Epsilon': 0.001, 'Gamma': 0.96, 'Max V': 540.3206283141163, 'Mean V': 38.35248927234778, 'Iteration': 173520}\n",
      "{'State': 15, 'Action': 0, 'Reward': 0.0, 'Error': 0.0, 'Time': 9.449848175048828, 'Alpha': 0.001, 'Epsilon': 0.001, 'Gamma': 0.96, 'Max V': 540.3206283141163, 'Mean V': 38.35248927234778, 'Iteration': 173540}\n",
      "{'State': 15, 'Action': 0, 'Reward': 0.0, 'Error': 0.0, 'Time': 9.45084547996521, 'Alpha': 0.001, 'Epsilon': 0.001, 'Gamma': 0.96, 'Max V': 540.3206283141163, 'Mean V': 38.35248927234778, 'Iteration': 173560}\n",
      "{'State': 15, 'Action': 0, 'Reward': 0.0, 'Error': 0.0, 'Time': 9.451842546463013, 'Alpha': 0.001, 'Epsilon': 0.001, 'Gamma': 0.96, 'Max V': 540.3206283141163, 'Mean V': 38.35248927234778, 'Iteration': 173580}\n",
      "{'State': 14, 'Action': 2, 'Reward': 1000.0, 'Error': 0.4596793716858837, 'Time': 9.532626390457153, 'Alpha': 0.001, 'Epsilon': 0.001, 'Gamma': 0.96, 'Max V': 540.7803076858022, 'Mean V': 38.37869706026622, 'Iteration': 175300}\n",
      "{'State': 15, 'Action': 0, 'Reward': 0.0, 'Error': 0.0, 'Time': 9.533624172210693, 'Alpha': 0.001, 'Epsilon': 0.001, 'Gamma': 0.96, 'Max V': 540.7803076858022, 'Mean V': 38.37869706026622, 'Iteration': 175320}\n",
      "{'State': 15, 'Action': 0, 'Reward': 0.0, 'Error': 0.0, 'Time': 9.534621238708496, 'Alpha': 0.001, 'Epsilon': 0.001, 'Gamma': 0.96, 'Max V': 540.7803076858022, 'Mean V': 38.37869706026622, 'Iteration': 175340}\n",
      "{'State': 15, 'Action': 0, 'Reward': 0.0, 'Error': 0.0, 'Time': 9.535618543624878, 'Alpha': 0.001, 'Epsilon': 0.001, 'Gamma': 0.96, 'Max V': 540.7803076858022, 'Mean V': 38.37869706026622, 'Iteration': 175360}\n",
      "{'State': 15, 'Action': 0, 'Reward': 0.0, 'Error': 0.0, 'Time': 9.536616086959839, 'Alpha': 0.001, 'Epsilon': 0.001, 'Gamma': 0.96, 'Max V': 540.7803076858022, 'Mean V': 38.37869706026622, 'Iteration': 175380}\n",
      "{'State': 15, 'Action': 0, 'Reward': 0.0, 'Error': 0.0, 'Time': 9.551575899124146, 'Alpha': 0.001, 'Epsilon': 0.001, 'Gamma': 0.96, 'Max V': 540.7803076858022, 'Mean V': 38.37864039535772, 'Iteration': 175700}\n",
      "{'State': 15, 'Action': 0, 'Reward': 0.0, 'Error': 0.0, 'Time': 9.552573204040527, 'Alpha': 0.001, 'Epsilon': 0.001, 'Gamma': 0.96, 'Max V': 540.7803076858022, 'Mean V': 38.37864039535772, 'Iteration': 175720}\n",
      "{'State': 15, 'Action': 0, 'Reward': 0.0, 'Error': 0.0, 'Time': 9.554569244384766, 'Alpha': 0.001, 'Epsilon': 0.001, 'Gamma': 0.96, 'Max V': 540.7803076858022, 'Mean V': 38.37864039535772, 'Iteration': 175740}\n",
      "{'State': 15, 'Action': 0, 'Reward': 0.0, 'Error': 0.0, 'Time': 9.555566787719727, 'Alpha': 0.001, 'Epsilon': 0.001, 'Gamma': 0.96, 'Max V': 540.7803076858022, 'Mean V': 38.37864039535772, 'Iteration': 175760}\n",
      "{'State': 15, 'Action': 0, 'Reward': 0.0, 'Error': 0.0, 'Time': 9.55656361579895, 'Alpha': 0.001, 'Epsilon': 0.001, 'Gamma': 0.96, 'Max V': 540.7803076858022, 'Mean V': 38.37864039535772, 'Iteration': 175780}\n",
      "{'State': 15, 'Action': 0, 'Reward': 0.0, 'Error': 0.0, 'Time': 9.566535711288452, 'Alpha': 0.001, 'Epsilon': 0.001, 'Gamma': 0.96, 'Max V': 541.2395273781163, 'Mean V': 38.43538322480286, 'Iteration': 175920}\n",
      "{'State': 15, 'Action': 0, 'Reward': 0.0, 'Error': 0.0, 'Time': 9.567533016204834, 'Alpha': 0.001, 'Epsilon': 0.001, 'Gamma': 0.96, 'Max V': 541.2395273781163, 'Mean V': 38.43538322480286, 'Iteration': 175940}\n",
      "{'State': 15, 'Action': 0, 'Reward': 0.0, 'Error': 0.0, 'Time': 9.568530321121216, 'Alpha': 0.001, 'Epsilon': 0.001, 'Gamma': 0.96, 'Max V': 541.2395273781163, 'Mean V': 38.43538322480286, 'Iteration': 175960}\n",
      "{'State': 15, 'Action': 0, 'Reward': 0.0, 'Error': 0.0, 'Time': 9.569527626037598, 'Alpha': 0.001, 'Epsilon': 0.001, 'Gamma': 0.96, 'Max V': 541.2395273781163, 'Mean V': 38.43538322480286, 'Iteration': 175980}\n",
      "{'State': 15, 'Action': 0, 'Reward': 0.0, 'Error': 0.0, 'Time': 9.75702977180481, 'Alpha': 0.001, 'Epsilon': 0.001, 'Gamma': 0.96, 'Max V': 541.2395273781163, 'Mean V': 38.43028919373201, 'Iteration': 178200}\n",
      "{'State': 15, 'Action': 0, 'Reward': 0.0, 'Error': 0.0, 'Time': 9.75802731513977, 'Alpha': 0.001, 'Epsilon': 0.001, 'Gamma': 0.96, 'Max V': 541.2395273781163, 'Mean V': 38.43028919373201, 'Iteration': 178220}\n",
      "{'State': 15, 'Action': 0, 'Reward': 0.0, 'Error': 0.0, 'Time': 9.760024070739746, 'Alpha': 0.001, 'Epsilon': 0.001, 'Gamma': 0.96, 'Max V': 541.2395273781163, 'Mean V': 38.43028919373201, 'Iteration': 178240}\n",
      "{'State': 15, 'Action': 0, 'Reward': 0.0, 'Error': 0.0, 'Time': 9.763014793395996, 'Alpha': 0.001, 'Epsilon': 0.001, 'Gamma': 0.96, 'Max V': 541.2395273781163, 'Mean V': 38.43028919373201, 'Iteration': 178260}\n",
      "{'State': 15, 'Action': 0, 'Reward': 0.0, 'Error': 0.0, 'Time': 9.76600432395935, 'Alpha': 0.001, 'Epsilon': 0.001, 'Gamma': 0.96, 'Max V': 541.2395273781163, 'Mean V': 38.43028919373201, 'Iteration': 178280}\n",
      "{'State': 14, 'Action': 2, 'Reward': 1000.0, 'Error': 0.9782915603714538, 'Time': 9.793927431106567, 'Alpha': 0.001, 'Epsilon': 0.001, 'Gamma': 0.96, 'Max V': 543.6892822740241, 'Mean V': 38.611361522958546, 'Iteration': 178700}\n",
      "{'State': 15, 'Action': 0, 'Reward': 0.0, 'Error': 0.0, 'Time': 9.79492473602295, 'Alpha': 0.001, 'Epsilon': 0.001, 'Gamma': 0.96, 'Max V': 545.6130053295714, 'Mean V': 38.76191724826244, 'Iteration': 178720}\n",
      "{'State': 15, 'Action': 0, 'Reward': 0.0, 'Error': 0.0, 'Time': 9.796921491622925, 'Alpha': 0.001, 'Epsilon': 0.001, 'Gamma': 0.96, 'Max V': 545.6130053295714, 'Mean V': 38.76191724826244, 'Iteration': 178740}\n",
      "{'State': 15, 'Action': 0, 'Reward': 0.0, 'Error': 0.0, 'Time': 9.79792046546936, 'Alpha': 0.001, 'Epsilon': 0.001, 'Gamma': 0.96, 'Max V': 545.6130053295714, 'Mean V': 38.76191724826244, 'Iteration': 178760}\n",
      "{'State': 15, 'Action': 0, 'Reward': 0.0, 'Error': 0.0, 'Time': 9.798916578292847, 'Alpha': 0.001, 'Epsilon': 0.001, 'Gamma': 0.96, 'Max V': 545.6130053295714, 'Mean V': 38.76191724826244, 'Iteration': 178780}\n",
      "{'State': 15, 'Action': 0, 'Reward': 0.0, 'Error': 0.0, 'Time': 9.831827402114868, 'Alpha': 0.001, 'Epsilon': 0.001, 'Gamma': 0.96, 'Max V': 546.0673923242418, 'Mean V': 38.82079311679996, 'Iteration': 179120}\n",
      "{'State': 15, 'Action': 0, 'Reward': 0.0, 'Error': 0.0, 'Time': 9.832826375961304, 'Alpha': 0.001, 'Epsilon': 0.001, 'Gamma': 0.96, 'Max V': 546.0673923242418, 'Mean V': 38.82079311679996, 'Iteration': 179140}\n",
      "{'State': 15, 'Action': 0, 'Reward': 0.0, 'Error': 0.0, 'Time': 9.834820985794067, 'Alpha': 0.001, 'Epsilon': 0.001, 'Gamma': 0.96, 'Max V': 546.0673923242418, 'Mean V': 38.82079311679996, 'Iteration': 179160}\n",
      "{'State': 15, 'Action': 0, 'Reward': 0.0, 'Error': 0.0, 'Time': 9.838813066482544, 'Alpha': 0.001, 'Epsilon': 0.001, 'Gamma': 0.96, 'Max V': 546.0673923242418, 'Mean V': 38.82079311679996, 'Iteration': 179180}\n",
      "{'State': 14, 'Action': 2, 'Reward': 1000.0, 'Error': 0.48919449692319994, 'Time': 9.84180474281311, 'Alpha': 0.001, 'Epsilon': 0.001, 'Gamma': 0.96, 'Max V': 546.5565868211651, 'Mean V': 38.851367772857664, 'Iteration': 179200}\n",
      "{'State': 15, 'Action': 0, 'Reward': 0.0, 'Error': 0.0, 'Time': 9.883687496185303, 'Alpha': 0.001, 'Epsilon': 0.001, 'Gamma': 0.96, 'Max V': 547.9871898331346, 'Mean V': 38.96655008777298, 'Iteration': 179620}\n",
      "{'State': 15, 'Action': 0, 'Reward': 0.0, 'Error': 0.0, 'Time': 9.884684801101685, 'Alpha': 0.001, 'Epsilon': 0.001, 'Gamma': 0.96, 'Max V': 547.9871898331346, 'Mean V': 38.96655008777298, 'Iteration': 179640}\n",
      "{'State': 15, 'Action': 0, 'Reward': 0.0, 'Error': 0.0, 'Time': 9.885682106018066, 'Alpha': 0.001, 'Epsilon': 0.001, 'Gamma': 0.96, 'Max V': 547.9871898331346, 'Mean V': 38.96655008777298, 'Iteration': 179660}\n",
      "{'State': 15, 'Action': 0, 'Reward': 0.0, 'Error': 0.0, 'Time': 9.886679410934448, 'Alpha': 0.001, 'Epsilon': 0.001, 'Gamma': 0.96, 'Max V': 547.9871898331346, 'Mean V': 38.96655008777298, 'Iteration': 179680}\n",
      "{'State': 15, 'Action': 0, 'Reward': 0.0, 'Error': 0.0, 'Time': 9.898648262023926, 'Alpha': 0.001, 'Epsilon': 0.001, 'Gamma': 0.96, 'Max V': 547.9871898331346, 'Mean V': 38.96654265955819, 'Iteration': 179900}\n",
      "{'State': 15, 'Action': 0, 'Reward': 0.0, 'Error': 0.0, 'Time': 9.89964485168457, 'Alpha': 0.001, 'Epsilon': 0.001, 'Gamma': 0.96, 'Max V': 547.9871898331346, 'Mean V': 38.96654265955819, 'Iteration': 179920}\n",
      "{'State': 15, 'Action': 0, 'Reward': 0.0, 'Error': 0.0, 'Time': 9.900642395019531, 'Alpha': 0.001, 'Epsilon': 0.001, 'Gamma': 0.96, 'Max V': 547.9871898331346, 'Mean V': 38.96654265955819, 'Iteration': 179940}\n",
      "{'State': 15, 'Action': 0, 'Reward': 0.0, 'Error': 0.0, 'Time': 9.901639461517334, 'Alpha': 0.001, 'Epsilon': 0.001, 'Gamma': 0.96, 'Max V': 547.9871898331346, 'Mean V': 38.96654265955819, 'Iteration': 179960}\n",
      "{'State': 15, 'Action': 0, 'Reward': 0.0, 'Error': 0.0, 'Time': 9.902637004852295, 'Alpha': 0.001, 'Epsilon': 0.001, 'Gamma': 0.96, 'Max V': 547.9871898331346, 'Mean V': 38.96654265955819, 'Iteration': 179980}\n",
      "{'State': 15, 'Action': 0, 'Reward': 0.0, 'Error': 0.0, 'Time': 9.908621072769165, 'Alpha': 0.001, 'Epsilon': 0.001, 'Gamma': 0.96, 'Max V': 547.9871898331346, 'Mean V': 38.96654265955819, 'Iteration': 180100}\n",
      "{'State': 15, 'Action': 0, 'Reward': 0.0, 'Error': 0.0, 'Time': 9.909618139266968, 'Alpha': 0.001, 'Epsilon': 0.001, 'Gamma': 0.96, 'Max V': 547.9871898331346, 'Mean V': 38.96654265955819, 'Iteration': 180120}\n",
      "{'State': 15, 'Action': 0, 'Reward': 0.0, 'Error': 0.0, 'Time': 9.909618139266968, 'Alpha': 0.001, 'Epsilon': 0.001, 'Gamma': 0.96, 'Max V': 547.9871898331346, 'Mean V': 38.96654265955819, 'Iteration': 180140}\n",
      "{'State': 15, 'Action': 0, 'Reward': 0.0, 'Error': 0.0, 'Time': 9.910615682601929, 'Alpha': 0.001, 'Epsilon': 0.001, 'Gamma': 0.96, 'Max V': 547.9871898331346, 'Mean V': 38.96654265955819, 'Iteration': 180160}\n",
      "{'State': 15, 'Action': 0, 'Reward': 0.0, 'Error': 0.0, 'Time': 9.913610219955444, 'Alpha': 0.001, 'Epsilon': 0.001, 'Gamma': 0.96, 'Max V': 547.9871898331346, 'Mean V': 38.96654265955819, 'Iteration': 180180}\n",
      "{'State': 14, 'Action': 2, 'Reward': 1000.0, 'Error': 0.45103851535384115, 'Time': 9.964472770690918, 'Alpha': 0.001, 'Epsilon': 0.001, 'Gamma': 0.96, 'Max V': 549.4125231615127, 'Mean V': 39.11206492266671, 'Iteration': 180900}\n",
      "{'State': 15, 'Action': 0, 'Reward': 0.0, 'Error': 0.0, 'Time': 9.966467380523682, 'Alpha': 0.001, 'Epsilon': 0.001, 'Gamma': 0.96, 'Max V': 549.4125231615127, 'Mean V': 39.11206492266671, 'Iteration': 180920}\n",
      "{'State': 15, 'Action': 0, 'Reward': 0.0, 'Error': 0.0, 'Time': 9.967463254928589, 'Alpha': 0.001, 'Epsilon': 0.001, 'Gamma': 0.96, 'Max V': 549.4125231615127, 'Mean V': 39.11206492266671, 'Iteration': 180940}\n",
      "{'State': 15, 'Action': 0, 'Reward': 0.0, 'Error': 0.0, 'Time': 9.968462467193604, 'Alpha': 0.001, 'Epsilon': 0.001, 'Gamma': 0.96, 'Max V': 549.4125231615127, 'Mean V': 39.11206492266671, 'Iteration': 180960}\n",
      "{'State': 15, 'Action': 0, 'Reward': 0.0, 'Error': 0.0, 'Time': 9.969458818435669, 'Alpha': 0.001, 'Epsilon': 0.001, 'Gamma': 0.96, 'Max V': 549.4125231615127, 'Mean V': 39.11206492266671, 'Iteration': 180980}\n",
      "{'State': 15, 'Action': 0, 'Reward': 0.0, 'Error': 0.0, 'Time': 10.09213376045227, 'Alpha': 0.001, 'Epsilon': 0.001, 'Gamma': 0.96, 'Max V': 550.385241823796, 'Mean V': 39.23165341639444, 'Iteration': 181800}\n",
      "{'State': 15, 'Action': 0, 'Reward': 0.0, 'Error': 0.0, 'Time': 10.093132257461548, 'Alpha': 0.001, 'Epsilon': 0.001, 'Gamma': 0.96, 'Max V': 550.385241823796, 'Mean V': 39.23165341639444, 'Iteration': 181820}\n",
      "{'State': 15, 'Action': 0, 'Reward': 0.0, 'Error': 0.0, 'Time': 10.099114418029785, 'Alpha': 0.001, 'Epsilon': 0.001, 'Gamma': 0.96, 'Max V': 550.385241823796, 'Mean V': 39.23165341639444, 'Iteration': 181840}\n",
      "{'State': 15, 'Action': 0, 'Reward': 0.0, 'Error': 0.0, 'Time': 10.10110878944397, 'Alpha': 0.001, 'Epsilon': 0.001, 'Gamma': 0.96, 'Max V': 550.385241823796, 'Mean V': 39.23165341639444, 'Iteration': 181860}\n",
      "{'State': 15, 'Action': 0, 'Reward': 0.0, 'Error': 0.0, 'Time': 10.10410451889038, 'Alpha': 0.001, 'Epsilon': 0.001, 'Gamma': 0.96, 'Max V': 550.385241823796, 'Mean V': 39.23165341639444, 'Iteration': 181880}\n",
      "{'State': 15, 'Action': 0, 'Reward': 0.0, 'Error': 0.0, 'Time': 10.107094287872314, 'Alpha': 0.001, 'Epsilon': 0.001, 'Gamma': 0.96, 'Max V': 555.7194988236453, 'Mean V': 39.59576449103896, 'Iteration': 181920}\n",
      "{'State': 15, 'Action': 0, 'Reward': 0.0, 'Error': 0.0, 'Time': 10.110083103179932, 'Alpha': 0.001, 'Epsilon': 0.001, 'Gamma': 0.96, 'Max V': 555.7194988236453, 'Mean V': 39.59576449103896, 'Iteration': 181940}\n",
      "{'State': 15, 'Action': 0, 'Reward': 0.0, 'Error': 0.0, 'Time': 10.111083030700684, 'Alpha': 0.001, 'Epsilon': 0.001, 'Gamma': 0.96, 'Max V': 555.7194988236453, 'Mean V': 39.59576449103896, 'Iteration': 181960}\n",
      "{'State': 15, 'Action': 0, 'Reward': 0.0, 'Error': 0.0, 'Time': 10.115070104598999, 'Alpha': 0.001, 'Epsilon': 0.001, 'Gamma': 0.96, 'Max V': 555.7194988236453, 'Mean V': 39.59576449103896, 'Iteration': 181980}\n",
      "{'State': 14, 'Action': 2, 'Reward': 1000.0, 'Error': 0.4802097489222539, 'Time': 10.173917293548584, 'Alpha': 0.001, 'Epsilon': 0.001, 'Gamma': 0.96, 'Max V': 556.1997085725675, 'Mean V': 39.6254350049628, 'Iteration': 182500}\n",
      "{'State': 15, 'Action': 0, 'Reward': 0.0, 'Error': 0.0, 'Time': 10.306573629379272, 'Alpha': 0.001, 'Epsilon': 0.001, 'Gamma': 0.96, 'Max V': 556.1997085725675, 'Mean V': 39.62049861801091, 'Iteration': 183600}\n",
      "{'State': 15, 'Action': 0, 'Reward': 0.0, 'Error': 0.0, 'Time': 10.309563398361206, 'Alpha': 0.001, 'Epsilon': 0.001, 'Gamma': 0.96, 'Max V': 556.1997085725675, 'Mean V': 39.62049861801091, 'Iteration': 183620}\n",
      "{'State': 15, 'Action': 0, 'Reward': 0.0, 'Error': 0.0, 'Time': 10.315534353256226, 'Alpha': 0.001, 'Epsilon': 0.001, 'Gamma': 0.96, 'Max V': 556.1997085725675, 'Mean V': 39.62049861801091, 'Iteration': 183640}\n",
      "{'State': 15, 'Action': 0, 'Reward': 0.0, 'Error': 0.0, 'Time': 10.317534685134888, 'Alpha': 0.001, 'Epsilon': 0.001, 'Gamma': 0.96, 'Max V': 556.1997085725675, 'Mean V': 39.62049861801091, 'Iteration': 183660}\n",
      "{'State': 15, 'Action': 0, 'Reward': 0.0, 'Error': 0.0, 'Time': 10.319528341293335, 'Alpha': 0.001, 'Epsilon': 0.001, 'Gamma': 0.96, 'Max V': 556.1997085725675, 'Mean V': 39.62049861801091, 'Iteration': 183680}\n",
      "{'State': 15, 'Action': 0, 'Reward': 0.0, 'Error': 0.0, 'Time': 10.351436614990234, 'Alpha': 0.001, 'Epsilon': 0.001, 'Gamma': 0.96, 'Max V': 557.6561092536989, 'Mean V': 39.740026608643134, 'Iteration': 184100}\n",
      "{'State': 15, 'Action': 0, 'Reward': 0.0, 'Error': 0.0, 'Time': 10.352433681488037, 'Alpha': 0.001, 'Epsilon': 0.001, 'Gamma': 0.96, 'Max V': 557.6561092536989, 'Mean V': 39.740026608643134, 'Iteration': 184120}\n",
      "{'State': 15, 'Action': 0, 'Reward': 0.0, 'Error': 0.0, 'Time': 10.353430986404419, 'Alpha': 0.001, 'Epsilon': 0.001, 'Gamma': 0.96, 'Max V': 557.6561092536989, 'Mean V': 39.740026608643134, 'Iteration': 184140}\n",
      "{'State': 15, 'Action': 0, 'Reward': 0.0, 'Error': 0.0, 'Time': 10.354428768157959, 'Alpha': 0.001, 'Epsilon': 0.001, 'Gamma': 0.96, 'Max V': 557.6561092536989, 'Mean V': 39.740026608643134, 'Iteration': 184160}\n",
      "{'State': 15, 'Action': 0, 'Reward': 0.0, 'Error': 0.0, 'Time': 10.35542631149292, 'Alpha': 0.001, 'Epsilon': 0.001, 'Gamma': 0.96, 'Max V': 557.6561092536989, 'Mean V': 39.740026608643134, 'Iteration': 184180}\n",
      "{'State': 15, 'Action': 0, 'Reward': 0.0, 'Error': 0.0, 'Time': 10.359422206878662, 'Alpha': 0.001, 'Epsilon': 0.001, 'Gamma': 0.96, 'Max V': 557.6561092536989, 'Mean V': 39.740026608643134, 'Iteration': 184200}\n",
      "{'State': 15, 'Action': 0, 'Reward': 0.0, 'Error': 0.0, 'Time': 10.361414670944214, 'Alpha': 0.001, 'Epsilon': 0.001, 'Gamma': 0.96, 'Max V': 557.6561092536989, 'Mean V': 39.740026608643134, 'Iteration': 184220}\n",
      "{'State': 15, 'Action': 0, 'Reward': 0.0, 'Error': 0.0, 'Time': 10.366397380828857, 'Alpha': 0.001, 'Epsilon': 0.001, 'Gamma': 0.96, 'Max V': 557.6561092536989, 'Mean V': 39.740026608643134, 'Iteration': 184240}\n",
      "{'State': 15, 'Action': 0, 'Reward': 0.0, 'Error': 0.0, 'Time': 10.368395328521729, 'Alpha': 0.001, 'Epsilon': 0.001, 'Gamma': 0.96, 'Max V': 557.6561092536989, 'Mean V': 39.740026608643134, 'Iteration': 184260}\n",
      "{'State': 15, 'Action': 0, 'Reward': 0.0, 'Error': 0.0, 'Time': 10.371383666992188, 'Alpha': 0.001, 'Epsilon': 0.001, 'Gamma': 0.96, 'Max V': 557.6561092536989, 'Mean V': 39.740026608643134, 'Iteration': 184280}\n",
      "{'State': 15, 'Action': 0, 'Reward': 0.0, 'Error': 0.0, 'Time': 10.390333890914917, 'Alpha': 0.001, 'Epsilon': 0.001, 'Gamma': 0.96, 'Max V': 557.6561092536989, 'Mean V': 39.740026608643134, 'Iteration': 184500}\n",
      "{'State': 15, 'Action': 0, 'Reward': 0.0, 'Error': 0.0, 'Time': 10.392328977584839, 'Alpha': 0.001, 'Epsilon': 0.001, 'Gamma': 0.96, 'Max V': 557.6561092536989, 'Mean V': 39.740026608643134, 'Iteration': 184520}\n",
      "{'State': 15, 'Action': 0, 'Reward': 0.0, 'Error': 0.0, 'Time': 10.393325090408325, 'Alpha': 0.001, 'Epsilon': 0.001, 'Gamma': 0.96, 'Max V': 557.6561092536989, 'Mean V': 39.740026608643134, 'Iteration': 184540}\n",
      "{'State': 15, 'Action': 0, 'Reward': 0.0, 'Error': 0.0, 'Time': 10.395320892333984, 'Alpha': 0.001, 'Epsilon': 0.001, 'Gamma': 0.96, 'Max V': 557.6561092536989, 'Mean V': 39.740026608643134, 'Iteration': 184560}\n",
      "{'State': 15, 'Action': 0, 'Reward': 0.0, 'Error': 0.0, 'Time': 10.398312091827393, 'Alpha': 0.001, 'Epsilon': 0.001, 'Gamma': 0.96, 'Max V': 557.6561092536989, 'Mean V': 39.740026608643134, 'Iteration': 184580}\n",
      "{'State': 15, 'Action': 0, 'Reward': 0.0, 'Error': 0.0, 'Time': 10.446185111999512, 'Alpha': 0.001, 'Epsilon': 0.001, 'Gamma': 0.96, 'Max V': 558.5765531063994, 'Mean V': 39.85511704373, 'Iteration': 185320}\n",
      "{'State': 15, 'Action': 0, 'Reward': 0.0, 'Error': 0.0, 'Time': 10.4481782913208, 'Alpha': 0.001, 'Epsilon': 0.001, 'Gamma': 0.96, 'Max V': 558.5765531063994, 'Mean V': 39.85511704373, 'Iteration': 185340}\n",
      "{'State': 15, 'Action': 0, 'Reward': 0.0, 'Error': 0.0, 'Time': 10.449175596237183, 'Alpha': 0.001, 'Epsilon': 0.001, 'Gamma': 0.96, 'Max V': 558.5765531063994, 'Mean V': 39.85511704373, 'Iteration': 185360}\n",
      "{'State': 15, 'Action': 0, 'Reward': 0.0, 'Error': 0.0, 'Time': 10.451171159744263, 'Alpha': 0.001, 'Epsilon': 0.001, 'Gamma': 0.96, 'Max V': 558.5765531063994, 'Mean V': 39.85511704373, 'Iteration': 185380}\n",
      "{'State': 15, 'Action': 0, 'Reward': 0.0, 'Error': 0.0, 'Time': 10.472113847732544, 'Alpha': 0.001, 'Epsilon': 0.001, 'Gamma': 0.96, 'Max V': 559.4950865820663, 'Mean V': 39.972152815788824, 'Iteration': 185720}\n",
      "{'State': 15, 'Action': 0, 'Reward': 0.0, 'Error': 0.0, 'Time': 10.4731125831604, 'Alpha': 0.001, 'Epsilon': 0.001, 'Gamma': 0.96, 'Max V': 559.4950865820663, 'Mean V': 39.972152815788824, 'Iteration': 185740}\n",
      "{'State': 15, 'Action': 0, 'Reward': 0.0, 'Error': 0.0, 'Time': 10.475254774093628, 'Alpha': 0.001, 'Epsilon': 0.001, 'Gamma': 0.96, 'Max V': 559.4950865820663, 'Mean V': 39.972152815788824, 'Iteration': 185760}\n",
      "{'State': 15, 'Action': 0, 'Reward': 0.0, 'Error': 0.0, 'Time': 10.476251602172852, 'Alpha': 0.001, 'Epsilon': 0.001, 'Gamma': 0.96, 'Max V': 559.4950865820663, 'Mean V': 39.972152815788824, 'Iteration': 185780}\n",
      "{'State': 15, 'Action': 0, 'Reward': 0.0, 'Error': 0.0, 'Time': 10.500118017196655, 'Alpha': 0.001, 'Epsilon': 0.001, 'Gamma': 0.96, 'Max V': 559.9355914954842, 'Mean V': 40.02790381466047, 'Iteration': 186220}\n",
      "{'State': 15, 'Action': 0, 'Reward': 0.0, 'Error': 0.0, 'Time': 10.501115083694458, 'Alpha': 0.001, 'Epsilon': 0.001, 'Gamma': 0.96, 'Max V': 559.9355914954842, 'Mean V': 40.02790381466047, 'Iteration': 186240}\n",
      "{'State': 15, 'Action': 0, 'Reward': 0.0, 'Error': 0.0, 'Time': 10.502113819122314, 'Alpha': 0.001, 'Epsilon': 0.001, 'Gamma': 0.96, 'Max V': 559.9355914954842, 'Mean V': 40.02790381466047, 'Iteration': 186260}\n",
      "{'State': 15, 'Action': 0, 'Reward': 0.0, 'Error': 0.0, 'Time': 10.50311017036438, 'Alpha': 0.001, 'Epsilon': 0.001, 'Gamma': 0.96, 'Max V': 559.9355914954842, 'Mean V': 40.02790381466047, 'Iteration': 186280}\n",
      "{'State': 15, 'Action': 0, 'Reward': 0.0, 'Error': 0.0, 'Time': 10.521101713180542, 'Alpha': 0.001, 'Epsilon': 0.001, 'Gamma': 0.96, 'Max V': 560.3756559039888, 'Mean V': 40.08890047778571, 'Iteration': 186620}\n",
      "{'State': 15, 'Action': 0, 'Reward': 0.0, 'Error': 0.0, 'Time': 10.52209758758545, 'Alpha': 0.001, 'Epsilon': 0.001, 'Gamma': 0.96, 'Max V': 560.3756559039888, 'Mean V': 40.08890047778571, 'Iteration': 186640}\n",
      "{'State': 15, 'Action': 0, 'Reward': 0.0, 'Error': 0.0, 'Time': 10.523095607757568, 'Alpha': 0.001, 'Epsilon': 0.001, 'Gamma': 0.96, 'Max V': 560.3756559039888, 'Mean V': 40.08890047778571, 'Iteration': 186660}\n",
      "{'State': 15, 'Action': 0, 'Reward': 0.0, 'Error': 0.0, 'Time': 10.52409553527832, 'Alpha': 0.001, 'Epsilon': 0.001, 'Gamma': 0.96, 'Max V': 560.3756559039888, 'Mean V': 40.08890047778571, 'Iteration': 186680}\n",
      "{'State': 14, 'Action': 2, 'Reward': 1000.0, 'Error': 0.47671085381838624, 'Time': 10.545995712280273, 'Alpha': 0.001, 'Epsilon': 0.001, 'Gamma': 0.96, 'Max V': 560.8523667578072, 'Mean V': 40.11626703078213, 'Iteration': 187100}\n",
      "{'State': 14, 'Action': 2, 'Reward': 1000.0, 'Error': 0.4391476332421928, 'Time': 10.552019834518433, 'Alpha': 0.001, 'Epsilon': 0.001, 'Gamma': 0.96, 'Max V': 561.2915143910494, 'Mean V': 40.14129411935747, 'Iteration': 187200}\n",
      "{'State': 15, 'Action': 0, 'Reward': 0.0, 'Error': 0.0, 'Time': 10.552978038787842, 'Alpha': 0.001, 'Epsilon': 0.001, 'Gamma': 0.96, 'Max V': 561.2915143910494, 'Mean V': 40.14129411935747, 'Iteration': 187220}\n",
      "{'State': 15, 'Action': 0, 'Reward': 0.0, 'Error': 0.0, 'Time': 10.554013013839722, 'Alpha': 0.001, 'Epsilon': 0.001, 'Gamma': 0.96, 'Max V': 561.2915143910494, 'Mean V': 40.14129411935747, 'Iteration': 187240}\n",
      "{'State': 15, 'Action': 0, 'Reward': 0.0, 'Error': 0.0, 'Time': 10.555009603500366, 'Alpha': 0.001, 'Epsilon': 0.001, 'Gamma': 0.96, 'Max V': 561.2915143910494, 'Mean V': 40.14129411935747, 'Iteration': 187260}\n",
      "{'State': 15, 'Action': 0, 'Reward': 0.0, 'Error': 0.0, 'Time': 10.556008577346802, 'Alpha': 0.001, 'Epsilon': 0.001, 'Gamma': 0.96, 'Max V': 561.2915143910494, 'Mean V': 40.14129411935747, 'Iteration': 187280}\n",
      "{'State': 15, 'Action': 0, 'Reward': 0.0, 'Error': 0.0, 'Time': 10.643773317337036, 'Alpha': 0.001, 'Epsilon': 0.001, 'Gamma': 0.96, 'Max V': 562.2059866796783, 'Mean V': 40.258291038809574, 'Iteration': 188320}\n",
      "{'State': 15, 'Action': 0, 'Reward': 0.0, 'Error': 0.0, 'Time': 10.647727966308594, 'Alpha': 0.001, 'Epsilon': 0.001, 'Gamma': 0.96, 'Max V': 562.2059866796783, 'Mean V': 40.258291038809574, 'Iteration': 188340}\n",
      "{'State': 15, 'Action': 0, 'Reward': 0.0, 'Error': 0.0, 'Time': 10.648723602294922, 'Alpha': 0.001, 'Epsilon': 0.001, 'Gamma': 0.96, 'Max V': 562.2059866796783, 'Mean V': 40.258291038809574, 'Iteration': 188360}\n",
      "{'State': 15, 'Action': 0, 'Reward': 0.0, 'Error': 0.0, 'Time': 10.65071725845337, 'Alpha': 0.001, 'Epsilon': 0.001, 'Gamma': 0.96, 'Max V': 562.2059866796783, 'Mean V': 40.258291038809574, 'Iteration': 188380}\n",
      "{'State': 14, 'Action': 2, 'Reward': 1000.0, 'Error': 0.4377940133203217, 'Time': 10.659729719161987, 'Alpha': 0.001, 'Epsilon': 0.001, 'Gamma': 0.96, 'Max V': 562.6437806929986, 'Mean V': 40.28552240242416, 'Iteration': 188500}\n",
      "{'State': 15, 'Action': 0, 'Reward': 0.0, 'Error': 0.0, 'Time': 10.660728216171265, 'Alpha': 0.001, 'Epsilon': 0.001, 'Gamma': 0.96, 'Max V': 562.6437806929986, 'Mean V': 40.28552240242416, 'Iteration': 188520}\n",
      "{'State': 15, 'Action': 0, 'Reward': 0.0, 'Error': 0.0, 'Time': 10.662686824798584, 'Alpha': 0.001, 'Epsilon': 0.001, 'Gamma': 0.96, 'Max V': 562.6437806929986, 'Mean V': 40.28552240242416, 'Iteration': 188540}\n",
      "{'State': 15, 'Action': 0, 'Reward': 0.0, 'Error': 0.0, 'Time': 10.66567873954773, 'Alpha': 0.001, 'Epsilon': 0.001, 'Gamma': 0.96, 'Max V': 562.6437806929986, 'Mean V': 40.28552240242416, 'Iteration': 188560}\n",
      "{'State': 15, 'Action': 0, 'Reward': 0.0, 'Error': 0.0, 'Time': 10.6686692237854, 'Alpha': 0.001, 'Epsilon': 0.001, 'Gamma': 0.96, 'Max V': 562.6437806929986, 'Mean V': 40.28552240242416, 'Iteration': 188580}\n",
      "{'State': 15, 'Action': 0, 'Reward': 0.0, 'Error': 0.0, 'Time': 10.739481210708618, 'Alpha': 0.001, 'Epsilon': 0.001, 'Gamma': 0.96, 'Max V': 562.6437806929986, 'Mean V': 40.28534129528246, 'Iteration': 189400}\n",
      "{'State': 15, 'Action': 0, 'Reward': 0.0, 'Error': 0.0, 'Time': 10.740476369857788, 'Alpha': 0.001, 'Epsilon': 0.001, 'Gamma': 0.96, 'Max V': 562.6437806929986, 'Mean V': 40.28534129528246, 'Iteration': 189420}\n",
      "{'State': 15, 'Action': 0, 'Reward': 0.0, 'Error': 0.0, 'Time': 10.74147367477417, 'Alpha': 0.001, 'Epsilon': 0.001, 'Gamma': 0.96, 'Max V': 562.6437806929986, 'Mean V': 40.28534129528246, 'Iteration': 189440}\n",
      "{'State': 15, 'Action': 0, 'Reward': 0.0, 'Error': 0.0, 'Time': 10.743468284606934, 'Alpha': 0.001, 'Epsilon': 0.001, 'Gamma': 0.96, 'Max V': 562.6437806929986, 'Mean V': 40.28534129528246, 'Iteration': 189460}\n",
      "{'State': 15, 'Action': 0, 'Reward': 0.0, 'Error': 0.0, 'Time': 10.744465112686157, 'Alpha': 0.001, 'Epsilon': 0.001, 'Gamma': 0.96, 'Max V': 562.6437806929986, 'Mean V': 40.28534129528246, 'Iteration': 189480}\n",
      "{'State': 14, 'Action': 2, 'Reward': 1000.0, 'Error': 0.4373562193070014, 'Time': 10.783360242843628, 'Alpha': 0.001, 'Epsilon': 0.001, 'Gamma': 0.96, 'Max V': 563.0811369123056, 'Mean V': 40.310096479391476, 'Iteration': 189900}\n",
      "{'State': 15, 'Action': 0, 'Reward': 0.0, 'Error': 0.0, 'Time': 10.784357786178589, 'Alpha': 0.001, 'Epsilon': 0.001, 'Gamma': 0.96, 'Max V': 563.0811369123056, 'Mean V': 40.310096479391476, 'Iteration': 189920}\n",
      "{'State': 15, 'Action': 0, 'Reward': 0.0, 'Error': 0.0, 'Time': 10.78535509109497, 'Alpha': 0.001, 'Epsilon': 0.001, 'Gamma': 0.96, 'Max V': 563.0811369123056, 'Mean V': 40.310096479391476, 'Iteration': 189940}\n",
      "{'State': 15, 'Action': 0, 'Reward': 0.0, 'Error': 0.0, 'Time': 10.786352157592773, 'Alpha': 0.001, 'Epsilon': 0.001, 'Gamma': 0.96, 'Max V': 563.0811369123056, 'Mean V': 40.310096479391476, 'Iteration': 189960}\n",
      "{'State': 15, 'Action': 0, 'Reward': 0.0, 'Error': 0.0, 'Time': 10.787351369857788, 'Alpha': 0.001, 'Epsilon': 0.001, 'Gamma': 0.96, 'Max V': 563.0811369123056, 'Mean V': 40.310096479391476, 'Iteration': 189980}\n",
      "{'State': 15, 'Action': 0, 'Reward': 0.0, 'Error': 0.0, 'Time': 10.793333530426025, 'Alpha': 0.001, 'Epsilon': 0.001, 'Gamma': 0.96, 'Max V': 563.0811369123056, 'Mean V': 40.310096479391476, 'Iteration': 190100}\n",
      "{'State': 15, 'Action': 0, 'Reward': 0.0, 'Error': 0.0, 'Time': 10.794330835342407, 'Alpha': 0.001, 'Epsilon': 0.001, 'Gamma': 0.96, 'Max V': 563.0811369123056, 'Mean V': 40.310096479391476, 'Iteration': 190120}\n",
      "{'State': 15, 'Action': 0, 'Reward': 0.0, 'Error': 0.0, 'Time': 10.796338319778442, 'Alpha': 0.001, 'Epsilon': 0.001, 'Gamma': 0.96, 'Max V': 563.0811369123056, 'Mean V': 40.310096479391476, 'Iteration': 190140}\n",
      "{'State': 15, 'Action': 0, 'Reward': 0.0, 'Error': 0.0, 'Time': 10.798323392868042, 'Alpha': 0.001, 'Epsilon': 0.001, 'Gamma': 0.96, 'Max V': 563.0811369123056, 'Mean V': 40.310096479391476, 'Iteration': 190160}\n",
      "{'State': 15, 'Action': 0, 'Reward': 0.0, 'Error': 0.0, 'Time': 10.802314758300781, 'Alpha': 0.001, 'Epsilon': 0.001, 'Gamma': 0.96, 'Max V': 563.0811369123056, 'Mean V': 40.310096479391476, 'Iteration': 190180}\n",
      "{'State': 15, 'Action': 0, 'Reward': 0.0, 'Error': 0.0, 'Time': 10.809292554855347, 'Alpha': 0.001, 'Epsilon': 0.001, 'Gamma': 0.96, 'Max V': 563.0811369123056, 'Mean V': 40.310096479391476, 'Iteration': 190300}\n",
      "{'State': 15, 'Action': 0, 'Reward': 0.0, 'Error': 0.0, 'Time': 10.810288667678833, 'Alpha': 0.001, 'Epsilon': 0.001, 'Gamma': 0.96, 'Max V': 563.0811369123056, 'Mean V': 40.310096479391476, 'Iteration': 190320}\n",
      "{'State': 15, 'Action': 0, 'Reward': 0.0, 'Error': 0.0, 'Time': 10.811285734176636, 'Alpha': 0.001, 'Epsilon': 0.001, 'Gamma': 0.96, 'Max V': 563.0811369123056, 'Mean V': 40.310096479391476, 'Iteration': 190340}\n",
      "{'State': 15, 'Action': 0, 'Reward': 0.0, 'Error': 0.0, 'Time': 10.814278841018677, 'Alpha': 0.001, 'Epsilon': 0.001, 'Gamma': 0.96, 'Max V': 563.0811369123056, 'Mean V': 40.310096479391476, 'Iteration': 190360}\n",
      "{'State': 15, 'Action': 0, 'Reward': 0.0, 'Error': 0.0, 'Time': 10.815274477005005, 'Alpha': 0.001, 'Epsilon': 0.001, 'Gamma': 0.96, 'Max V': 563.0811369123056, 'Mean V': 40.310096479391476, 'Iteration': 190380}\n",
      "{'State': 15, 'Action': 0, 'Reward': 0.0, 'Error': 0.0, 'Time': 10.822256565093994, 'Alpha': 0.001, 'Epsilon': 0.001, 'Gamma': 0.96, 'Max V': 564.9683705714457, 'Mean V': 40.49074346097356, 'Iteration': 190520}\n",
      "{'State': 15, 'Action': 0, 'Reward': 0.0, 'Error': 0.0, 'Time': 10.82325291633606, 'Alpha': 0.001, 'Epsilon': 0.001, 'Gamma': 0.96, 'Max V': 564.9683705714457, 'Mean V': 40.49074346097356, 'Iteration': 190540}\n",
      "{'State': 15, 'Action': 0, 'Reward': 0.0, 'Error': 0.0, 'Time': 10.824251890182495, 'Alpha': 0.001, 'Epsilon': 0.001, 'Gamma': 0.96, 'Max V': 564.9683705714457, 'Mean V': 40.49074346097356, 'Iteration': 190560}\n",
      "{'State': 15, 'Action': 0, 'Reward': 0.0, 'Error': 0.0, 'Time': 10.825248003005981, 'Alpha': 0.001, 'Epsilon': 0.001, 'Gamma': 0.96, 'Max V': 564.9683705714457, 'Mean V': 40.49074346097356, 'Iteration': 190580}\n",
      "{'State': 15, 'Action': 0, 'Reward': 0.0, 'Error': 0.0, 'Time': 10.842202425003052, 'Alpha': 0.001, 'Epsilon': 0.001, 'Gamma': 0.96, 'Max V': 564.9683705714457, 'Mean V': 40.49074346097356, 'Iteration': 190900}\n",
      "{'State': 15, 'Action': 0, 'Reward': 0.0, 'Error': 0.0, 'Time': 10.843199729919434, 'Alpha': 0.001, 'Epsilon': 0.001, 'Gamma': 0.96, 'Max V': 564.9683705714457, 'Mean V': 40.49074346097356, 'Iteration': 190920}\n",
      "{'State': 15, 'Action': 0, 'Reward': 0.0, 'Error': 0.0, 'Time': 10.845195055007935, 'Alpha': 0.001, 'Epsilon': 0.001, 'Gamma': 0.96, 'Max V': 564.9683705714457, 'Mean V': 40.49074346097356, 'Iteration': 190940}\n",
      "{'State': 15, 'Action': 0, 'Reward': 0.0, 'Error': 0.0, 'Time': 10.84619402885437, 'Alpha': 0.001, 'Epsilon': 0.001, 'Gamma': 0.96, 'Max V': 564.9683705714457, 'Mean V': 40.49074346097356, 'Iteration': 190960}\n",
      "{'State': 15, 'Action': 0, 'Reward': 0.0, 'Error': 0.0, 'Time': 10.847190141677856, 'Alpha': 0.001, 'Epsilon': 0.001, 'Gamma': 0.96, 'Max V': 564.9683705714457, 'Mean V': 40.49074346097356, 'Iteration': 190980}\n",
      "{'State': 15, 'Action': 0, 'Reward': 0.0, 'Error': 0.0, 'Time': 10.86514163017273, 'Alpha': 0.001, 'Epsilon': 0.001, 'Gamma': 0.96, 'Max V': 565.4034022008742, 'Mean V': 40.54904639636567, 'Iteration': 191320}\n",
      "{'State': 15, 'Action': 0, 'Reward': 0.0, 'Error': 0.0, 'Time': 10.866138935089111, 'Alpha': 0.001, 'Epsilon': 0.001, 'Gamma': 0.96, 'Max V': 565.4034022008742, 'Mean V': 40.54904639636567, 'Iteration': 191340}\n",
      "{'State': 15, 'Action': 0, 'Reward': 0.0, 'Error': 0.0, 'Time': 10.867136240005493, 'Alpha': 0.001, 'Epsilon': 0.001, 'Gamma': 0.96, 'Max V': 565.4034022008742, 'Mean V': 40.54904639636567, 'Iteration': 191360}\n",
      "{'State': 15, 'Action': 0, 'Reward': 0.0, 'Error': 0.0, 'Time': 10.86813473701477, 'Alpha': 0.001, 'Epsilon': 0.001, 'Gamma': 0.96, 'Max V': 565.4034022008742, 'Mean V': 40.54904639636567, 'Iteration': 191380}\n",
      "{'State': 15, 'Action': 0, 'Reward': 0.0, 'Error': 0.0, 'Time': 10.885126113891602, 'Alpha': 0.001, 'Epsilon': 0.001, 'Gamma': 0.96, 'Max V': 565.8379987986733, 'Mean V': 40.60759588150916, 'Iteration': 191720}\n",
      "{'State': 15, 'Action': 0, 'Reward': 0.0, 'Error': 0.0, 'Time': 10.8861243724823, 'Alpha': 0.001, 'Epsilon': 0.001, 'Gamma': 0.96, 'Max V': 565.8379987986733, 'Mean V': 40.60759588150916, 'Iteration': 191740}\n",
      "{'State': 15, 'Action': 0, 'Reward': 0.0, 'Error': 0.0, 'Time': 10.887122392654419, 'Alpha': 0.001, 'Epsilon': 0.001, 'Gamma': 0.96, 'Max V': 565.8379987986733, 'Mean V': 40.60759588150916, 'Iteration': 191760}\n",
      "{'State': 15, 'Action': 0, 'Reward': 0.0, 'Error': 0.0, 'Time': 10.889117002487183, 'Alpha': 0.001, 'Epsilon': 0.001, 'Gamma': 0.96, 'Max V': 565.8379987986733, 'Mean V': 40.60759588150916, 'Iteration': 191780}\n",
      "{'State': 15, 'Action': 0, 'Reward': 0.0, 'Error': 0.0, 'Time': 10.900048971176147, 'Alpha': 0.001, 'Epsilon': 0.001, 'Gamma': 0.96, 'Max V': 565.8379987986733, 'Mean V': 40.605033738222296, 'Iteration': 192000}\n",
      "{'State': 15, 'Action': 0, 'Reward': 0.0, 'Error': 0.0, 'Time': 10.901085138320923, 'Alpha': 0.001, 'Epsilon': 0.001, 'Gamma': 0.96, 'Max V': 565.8379987986733, 'Mean V': 40.605033738222296, 'Iteration': 192020}\n",
      "{'State': 15, 'Action': 0, 'Reward': 0.0, 'Error': 0.0, 'Time': 10.90208101272583, 'Alpha': 0.001, 'Epsilon': 0.001, 'Gamma': 0.96, 'Max V': 565.8379987986733, 'Mean V': 40.605033738222296, 'Iteration': 192040}\n",
      "{'State': 15, 'Action': 0, 'Reward': 0.0, 'Error': 0.0, 'Time': 10.90404224395752, 'Alpha': 0.001, 'Epsilon': 0.001, 'Gamma': 0.96, 'Max V': 565.8379987986733, 'Mean V': 40.605033738222296, 'Iteration': 192060}\n",
      "{'State': 15, 'Action': 0, 'Reward': 0.0, 'Error': 0.0, 'Time': 10.905074119567871, 'Alpha': 0.001, 'Epsilon': 0.001, 'Gamma': 0.96, 'Max V': 565.8379987986733, 'Mean V': 40.605033738222296, 'Iteration': 192080}\n",
      "{'State': 15, 'Action': 0, 'Reward': 0.0, 'Error': 0.0, 'Time': 10.92498254776001, 'Alpha': 0.001, 'Epsilon': 0.001, 'Gamma': 0.96, 'Max V': 566.2721607998747, 'Mean V': 40.66349404864854, 'Iteration': 192320}\n",
      "{'State': 15, 'Action': 0, 'Reward': 0.0, 'Error': 0.0, 'Time': 10.926976919174194, 'Alpha': 0.001, 'Epsilon': 0.001, 'Gamma': 0.96, 'Max V': 566.2721607998747, 'Mean V': 40.66349404864854, 'Iteration': 192340}\n",
      "{'State': 15, 'Action': 0, 'Reward': 0.0, 'Error': 0.0, 'Time': 10.930967330932617, 'Alpha': 0.001, 'Epsilon': 0.001, 'Gamma': 0.96, 'Max V': 566.2721607998747, 'Mean V': 40.66349404864854, 'Iteration': 192360}\n",
      "{'State': 15, 'Action': 0, 'Reward': 0.0, 'Error': 0.0, 'Time': 10.932960987091064, 'Alpha': 0.001, 'Epsilon': 0.001, 'Gamma': 0.96, 'Max V': 566.2721607998747, 'Mean V': 40.66349404864854, 'Iteration': 192380}\n",
      "{'State': 14, 'Action': 2, 'Reward': 1000.0, 'Error': 0.4734843271969035, 'Time': 10.977880477905273, 'Alpha': 0.001, 'Epsilon': 0.001, 'Gamma': 0.96, 'Max V': 566.7456451270716, 'Mean V': 40.69308679469669, 'Iteration': 193000}\n",
      "{'State': 14, 'Action': 2, 'Reward': 1000.0, 'Error': 0.9772923360253105, 'Time': 11.076576709747314, 'Alpha': 0.001, 'Epsilon': 0.001, 'Gamma': 0.96, 'Max V': 568.6688917032611, 'Mean V': 40.87087314825597, 'Iteration': 194000}\n",
      "{'State': 15, 'Action': 0, 'Reward': 0.0, 'Error': 0.0, 'Time': 11.19925045967102, 'Alpha': 0.001, 'Epsilon': 0.001, 'Gamma': 0.96, 'Max V': 570.0822129741725, 'Mean V': 41.011298442860145, 'Iteration': 195300}\n",
      "{'State': 15, 'Action': 0, 'Reward': 0.0, 'Error': 0.0, 'Time': 11.202242851257324, 'Alpha': 0.001, 'Epsilon': 0.001, 'Gamma': 0.96, 'Max V': 570.0822129741725, 'Mean V': 41.011298442860145, 'Iteration': 195320}\n",
      "{'State': 15, 'Action': 0, 'Reward': 0.0, 'Error': 0.0, 'Time': 11.205238342285156, 'Alpha': 0.001, 'Epsilon': 0.001, 'Gamma': 0.96, 'Max V': 570.0822129741725, 'Mean V': 41.011298442860145, 'Iteration': 195340}\n",
      "{'State': 15, 'Action': 0, 'Reward': 0.0, 'Error': 0.0, 'Time': 11.20623517036438, 'Alpha': 0.001, 'Epsilon': 0.001, 'Gamma': 0.96, 'Max V': 570.0822129741725, 'Mean V': 41.011298442860145, 'Iteration': 195360}\n",
      "{'State': 15, 'Action': 0, 'Reward': 0.0, 'Error': 0.0, 'Time': 11.207227230072021, 'Alpha': 0.001, 'Epsilon': 0.001, 'Gamma': 0.96, 'Max V': 570.0822129741725, 'Mean V': 41.011298442860145, 'Iteration': 195380}\n",
      "{'State': 15, 'Action': 0, 'Reward': 0.0, 'Error': 0.0, 'Time': 11.300977945327759, 'Alpha': 0.001, 'Epsilon': 0.001, 'Gamma': 0.96, 'Max V': 570.0822129741725, 'Mean V': 41.000680241336916, 'Iteration': 196400}\n",
      "{'State': 15, 'Action': 0, 'Reward': 0.0, 'Error': 0.0, 'Time': 11.302982807159424, 'Alpha': 0.001, 'Epsilon': 0.001, 'Gamma': 0.96, 'Max V': 570.0822129741725, 'Mean V': 41.000680241336916, 'Iteration': 196420}\n",
      "{'State': 15, 'Action': 0, 'Reward': 0.0, 'Error': 0.0, 'Time': 11.30499005317688, 'Alpha': 0.001, 'Epsilon': 0.001, 'Gamma': 0.96, 'Max V': 570.0822129741725, 'Mean V': 41.000680241336916, 'Iteration': 196440}\n",
      "{'State': 15, 'Action': 0, 'Reward': 0.0, 'Error': 0.0, 'Time': 11.305963516235352, 'Alpha': 0.001, 'Epsilon': 0.001, 'Gamma': 0.96, 'Max V': 570.0822129741725, 'Mean V': 41.000680241336916, 'Iteration': 196460}\n",
      "{'State': 15, 'Action': 0, 'Reward': 0.0, 'Error': 0.0, 'Time': 11.306961297988892, 'Alpha': 0.001, 'Epsilon': 0.001, 'Gamma': 0.96, 'Max V': 570.0822129741725, 'Mean V': 41.000680241336916, 'Iteration': 196480}\n",
      "{'State': 15, 'Action': 0, 'Reward': 0.0, 'Error': 0.0, 'Time': 11.326908349990845, 'Alpha': 0.001, 'Epsilon': 0.001, 'Gamma': 0.96, 'Max V': 570.5121307611984, 'Mean V': 41.05915581668388, 'Iteration': 196720}\n",
      "{'State': 15, 'Action': 0, 'Reward': 0.0, 'Error': 0.0, 'Time': 11.327905654907227, 'Alpha': 0.001, 'Epsilon': 0.001, 'Gamma': 0.96, 'Max V': 570.5121307611984, 'Mean V': 41.05915581668388, 'Iteration': 196740}\n",
      "{'State': 15, 'Action': 0, 'Reward': 0.0, 'Error': 0.0, 'Time': 11.331896305084229, 'Alpha': 0.001, 'Epsilon': 0.001, 'Gamma': 0.96, 'Max V': 570.5121307611984, 'Mean V': 41.05915581668388, 'Iteration': 196760}\n",
      "{'State': 15, 'Action': 0, 'Reward': 0.0, 'Error': 0.0, 'Time': 11.334887981414795, 'Alpha': 0.001, 'Epsilon': 0.001, 'Gamma': 0.96, 'Max V': 570.5121307611984, 'Mean V': 41.05915581668388, 'Iteration': 196780}\n",
      "{'State': 15, 'Action': 0, 'Reward': 0.0, 'Error': 0.0, 'Time': 11.336887836456299, 'Alpha': 0.001, 'Epsilon': 0.001, 'Gamma': 0.96, 'Max V': 570.5121307611984, 'Mean V': 41.05915581668388, 'Iteration': 196800}\n",
      "{'State': 15, 'Action': 0, 'Reward': 0.0, 'Error': 0.0, 'Time': 11.338876247406006, 'Alpha': 0.001, 'Epsilon': 0.001, 'Gamma': 0.96, 'Max V': 570.5121307611984, 'Mean V': 41.05915581668388, 'Iteration': 196820}\n",
      "{'State': 15, 'Action': 0, 'Reward': 0.0, 'Error': 0.0, 'Time': 11.339872598648071, 'Alpha': 0.001, 'Epsilon': 0.001, 'Gamma': 0.96, 'Max V': 570.5121307611984, 'Mean V': 41.05915581668388, 'Iteration': 196840}\n",
      "{'State': 15, 'Action': 0, 'Reward': 0.0, 'Error': 0.0, 'Time': 11.34087061882019, 'Alpha': 0.001, 'Epsilon': 0.001, 'Gamma': 0.96, 'Max V': 570.5121307611984, 'Mean V': 41.05915581668388, 'Iteration': 196860}\n",
      "{'State': 15, 'Action': 0, 'Reward': 0.0, 'Error': 0.0, 'Time': 11.341869592666626, 'Alpha': 0.001, 'Epsilon': 0.001, 'Gamma': 0.96, 'Max V': 570.5121307611984, 'Mean V': 41.05915581668388, 'Iteration': 196880}\n",
      "{'State': 15, 'Action': 0, 'Reward': 0.0, 'Error': 0.0, 'Time': 11.371787071228027, 'Alpha': 0.001, 'Epsilon': 0.001, 'Gamma': 0.96, 'Max V': 570.5121307611984, 'Mean V': 41.05915579235535, 'Iteration': 197300}\n",
      "{'State': 15, 'Action': 0, 'Reward': 0.0, 'Error': 0.0, 'Time': 11.37278413772583, 'Alpha': 0.001, 'Epsilon': 0.001, 'Gamma': 0.96, 'Max V': 570.5121307611984, 'Mean V': 41.05915579235535, 'Iteration': 197320}\n",
      "{'State': 15, 'Action': 0, 'Reward': 0.0, 'Error': 0.0, 'Time': 11.37378191947937, 'Alpha': 0.001, 'Epsilon': 0.001, 'Gamma': 0.96, 'Max V': 570.5121307611984, 'Mean V': 41.05915579235535, 'Iteration': 197340}\n",
      "{'State': 15, 'Action': 0, 'Reward': 0.0, 'Error': 0.0, 'Time': 11.374780654907227, 'Alpha': 0.001, 'Epsilon': 0.001, 'Gamma': 0.96, 'Max V': 570.5121307611984, 'Mean V': 41.05915579235535, 'Iteration': 197360}\n",
      "{'State': 15, 'Action': 0, 'Reward': 0.0, 'Error': 0.0, 'Time': 11.375776290893555, 'Alpha': 0.001, 'Epsilon': 0.001, 'Gamma': 0.96, 'Max V': 570.5121307611984, 'Mean V': 41.05915579235535, 'Iteration': 197380}\n",
      "{'State': 14, 'Action': 2, 'Reward': 1000.0, 'Error': 0.42804180477600756, 'Time': 11.415669918060303, 'Alpha': 0.001, 'Epsilon': 0.001, 'Gamma': 0.96, 'Max V': 572.3862370287685, 'Mean V': 41.207500408157266, 'Iteration': 198000}\n",
      "{'State': 15, 'Action': 0, 'Reward': 0.0, 'Error': 0.0, 'Time': 11.416666507720947, 'Alpha': 0.001, 'Epsilon': 0.001, 'Gamma': 0.96, 'Max V': 572.3862370287685, 'Mean V': 41.207500408157266, 'Iteration': 198020}\n",
      "{'State': 15, 'Action': 0, 'Reward': 0.0, 'Error': 0.0, 'Time': 11.417664051055908, 'Alpha': 0.001, 'Epsilon': 0.001, 'Gamma': 0.96, 'Max V': 572.3862370287685, 'Mean V': 41.207500408157266, 'Iteration': 198040}\n",
      "{'State': 15, 'Action': 0, 'Reward': 0.0, 'Error': 0.0, 'Time': 11.418660879135132, 'Alpha': 0.001, 'Epsilon': 0.001, 'Gamma': 0.96, 'Max V': 572.3862370287685, 'Mean V': 41.207500408157266, 'Iteration': 198060}\n",
      "{'State': 15, 'Action': 0, 'Reward': 0.0, 'Error': 0.0, 'Time': 11.419658184051514, 'Alpha': 0.001, 'Epsilon': 0.001, 'Gamma': 0.96, 'Max V': 572.3862370287685, 'Mean V': 41.207500408157266, 'Iteration': 198080}\n",
      "{'State': 14, 'Action': 2, 'Reward': 1000.0, 'Error': 0.9771045505188494, 'Time': 11.420655965805054, 'Alpha': 0.001, 'Epsilon': 0.001, 'Gamma': 0.96, 'Max V': 573.3633415792874, 'Mean V': 41.2685694425647, 'Iteration': 198100}\n",
      "{'State': 15, 'Action': 0, 'Reward': 0.0, 'Error': 0.0, 'Time': 11.472517490386963, 'Alpha': 0.001, 'Epsilon': 0.001, 'Gamma': 0.96, 'Max V': 574.29730639964, 'Mean V': 41.35022858869445, 'Iteration': 199000}\n",
      "{'State': 15, 'Action': 0, 'Reward': 0.0, 'Error': 0.0, 'Time': 11.473525762557983, 'Alpha': 0.001, 'Epsilon': 0.001, 'Gamma': 0.96, 'Max V': 574.29730639964, 'Mean V': 41.35022858869445, 'Iteration': 199020}\n",
      "{'State': 15, 'Action': 0, 'Reward': 0.0, 'Error': 0.0, 'Time': 11.474512100219727, 'Alpha': 0.001, 'Epsilon': 0.001, 'Gamma': 0.96, 'Max V': 574.29730639964, 'Mean V': 41.35022858869445, 'Iteration': 199040}\n",
      "{'State': 15, 'Action': 0, 'Reward': 0.0, 'Error': 0.0, 'Time': 11.475508451461792, 'Alpha': 0.001, 'Epsilon': 0.001, 'Gamma': 0.96, 'Max V': 574.29730639964, 'Mean V': 41.35022858869445, 'Iteration': 199060}\n",
      "{'State': 15, 'Action': 0, 'Reward': 0.0, 'Error': 0.0, 'Time': 11.476506233215332, 'Alpha': 0.001, 'Epsilon': 0.001, 'Gamma': 0.96, 'Max V': 574.29730639964, 'Mean V': 41.35022858869445, 'Iteration': 199080}\n",
      "{'State': 14, 'Action': 2, 'Reward': 1000.0, 'Error': 0.42570269360036, 'Time': 11.49346137046814, 'Alpha': 0.001, 'Epsilon': 0.001, 'Gamma': 0.96, 'Max V': 574.7230090932403, 'Mean V': 41.376831149826295, 'Iteration': 199400}\n",
      "{'State': 15, 'Action': 0, 'Reward': 0.0, 'Error': 0.0, 'Time': 11.494458675384521, 'Alpha': 0.001, 'Epsilon': 0.001, 'Gamma': 0.96, 'Max V': 574.7230090932403, 'Mean V': 41.376831149826295, 'Iteration': 199420}\n",
      "{'State': 15, 'Action': 0, 'Reward': 0.0, 'Error': 0.0, 'Time': 11.495457172393799, 'Alpha': 0.001, 'Epsilon': 0.001, 'Gamma': 0.96, 'Max V': 574.7230090932403, 'Mean V': 41.376831149826295, 'Iteration': 199440}\n",
      "{'State': 15, 'Action': 0, 'Reward': 0.0, 'Error': 0.0, 'Time': 11.496454000473022, 'Alpha': 0.001, 'Epsilon': 0.001, 'Gamma': 0.96, 'Max V': 574.7230090932403, 'Mean V': 41.376831149826295, 'Iteration': 199460}\n",
      "{'State': 15, 'Action': 0, 'Reward': 0.0, 'Error': 0.0, 'Time': 11.498958349227905, 'Alpha': 0.001, 'Epsilon': 0.001, 'Gamma': 0.96, 'Max V': 574.7230090932403, 'Mean V': 41.376831149826295, 'Iteration': 199480}\n",
      "{'State': 14, 'Action': 2, 'Reward': 1000.0, 'Error': 0.4252769909067597, 'Time': 11.514917612075806, 'Alpha': 0.001, 'Epsilon': 0.001, 'Gamma': 0.96, 'Max V': 575.1482860841471, 'Mean V': 41.40082334301411, 'Iteration': 199700}\n",
      "{'State': 15, 'Action': 0, 'Reward': 0.0, 'Error': 0.0, 'Time': 11.515913009643555, 'Alpha': 0.001, 'Epsilon': 0.001, 'Gamma': 0.96, 'Max V': 575.1482860841471, 'Mean V': 41.40082334301411, 'Iteration': 199720}\n",
      "{'State': 15, 'Action': 0, 'Reward': 0.0, 'Error': 0.0, 'Time': 11.516910791397095, 'Alpha': 0.001, 'Epsilon': 0.001, 'Gamma': 0.96, 'Max V': 575.1482860841471, 'Mean V': 41.40082334301411, 'Iteration': 199740}\n",
      "{'State': 15, 'Action': 0, 'Reward': 0.0, 'Error': 0.0, 'Time': 11.518866777420044, 'Alpha': 0.001, 'Epsilon': 0.001, 'Gamma': 0.96, 'Max V': 575.1482860841471, 'Mean V': 41.40082334301411, 'Iteration': 199760}\n",
      "{'State': 15, 'Action': 0, 'Reward': 0.0, 'Error': 0.0, 'Time': 11.519901990890503, 'Alpha': 0.001, 'Epsilon': 0.001, 'Gamma': 0.96, 'Max V': 575.1482860841471, 'Mean V': 41.40082334301411, 'Iteration': 199780}\n",
      "{'State': 15, 'Action': 0, 'Reward': 0.0, 'Error': 0.0, 'Time': 11.520901441574097, 'Alpha': 0.001, 'Epsilon': 0.001, 'Gamma': 0.96, 'Max V': 575.1482860841471, 'Mean V': 41.40082334301411, 'Iteration': 199800}\n",
      "{'State': 15, 'Action': 0, 'Reward': 0.0, 'Error': 0.0, 'Time': 11.521896600723267, 'Alpha': 0.001, 'Epsilon': 0.001, 'Gamma': 0.96, 'Max V': 575.1482860841471, 'Mean V': 41.40082334301411, 'Iteration': 199820}\n",
      "{'State': 15, 'Action': 0, 'Reward': 0.0, 'Error': 0.0, 'Time': 11.522895574569702, 'Alpha': 0.001, 'Epsilon': 0.001, 'Gamma': 0.96, 'Max V': 575.1482860841471, 'Mean V': 41.40082334301411, 'Iteration': 199840}\n",
      "{'State': 15, 'Action': 0, 'Reward': 0.0, 'Error': 0.0, 'Time': 11.52389121055603, 'Alpha': 0.001, 'Epsilon': 0.001, 'Gamma': 0.96, 'Max V': 575.1482860841471, 'Mean V': 41.40082334301411, 'Iteration': 199860}\n",
      "{'State': 15, 'Action': 0, 'Reward': 0.0, 'Error': 0.0, 'Time': 11.525850772857666, 'Alpha': 0.001, 'Epsilon': 0.001, 'Gamma': 0.96, 'Max V': 575.1482860841471, 'Mean V': 41.40082334301411, 'Iteration': 199880}\n"
     ]
    }
   ],
   "source": [
    "for r in ql_result:\n",
    "    if r['State'] > 13:\n",
    "        print(r)"
   ]
  },
  {
   "cell_type": "code",
   "execution_count": 674,
   "metadata": {},
   "outputs": [
    {
     "data": {
      "text/plain": [
       "16"
      ]
     },
     "execution_count": 674,
     "metadata": {},
     "output_type": "execute_result"
    }
   ],
   "source": [
    "len(pp[0])"
   ]
  },
  {
   "cell_type": "code",
   "execution_count": 708,
   "metadata": {},
   "outputs": [
    {
     "data": {
      "text/plain": [
       "array([[ 0. ,  0. ,  0. ,  0. ],\n",
       "       [-2. , -2. , -2. ,  0. ],\n",
       "       [ 0. ,  0. ,  0. ,  0. ],\n",
       "       [-2. , -2. , -2. ,  0. ],\n",
       "       [ 0. , -2. , -2. , -2. ],\n",
       "       [-5. , -5. , -5. , -5. ],\n",
       "       [-2. , -3.5, -2. , -3.5],\n",
       "       [-5. , -5. , -5. , -5. ],\n",
       "       [-2. , -2. , -2. ,  0. ],\n",
       "       [-2. ,  0. , -2. , -2. ],\n",
       "       [ 0. , -2. , -2. , -2. ],\n",
       "       [-5. , -5. , -5. , -5. ],\n",
       "       [-5. , -5. , -5. , -5. ],\n",
       "       [-2. , -2. ,  0. , -2. ],\n",
       "       [ 0. , 33. , 33. , 33. ],\n",
       "       [ 0. ,  0. ,  0. ,  0. ]])"
      ]
     },
     "execution_count": 708,
     "metadata": {},
     "output_type": "execute_result"
    }
   ],
   "source": [
    "rr"
   ]
  },
  {
   "cell_type": "code",
   "execution_count": null,
   "metadata": {},
   "outputs": [],
   "source": []
  }
 ],
 "metadata": {
  "kernelspec": {
   "display_name": "Python 3",
   "language": "python",
   "name": "python3"
  },
  "language_info": {
   "codemirror_mode": {
    "name": "ipython",
    "version": 3
   },
   "file_extension": ".py",
   "mimetype": "text/x-python",
   "name": "python",
   "nbconvert_exporter": "python",
   "pygments_lexer": "ipython3",
   "version": "3.7.4"
  }
 },
 "nbformat": 4,
 "nbformat_minor": 2
}
