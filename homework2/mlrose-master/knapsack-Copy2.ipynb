{
 "cells": [
  {
   "cell_type": "markdown",
   "metadata": {},
   "source": [
    "# mlrose_hiive Tutorial Examples - Genevieve Hayes"
   ]
  },
  {
   "cell_type": "markdown",
   "metadata": {},
   "source": [
    "## Overview"
   ]
  },
  {
   "cell_type": "markdown",
   "metadata": {},
   "source": [
    "mlrose_hiive is a Python package for applying some of the most common randomized optimization and search algorithms to a range of different optimization problems, over both discrete- and continuous-valued parameter spaces. This notebook contains the examples used in the mlrose_hiive tutorial."
   ]
  },
  {
   "cell_type": "markdown",
   "metadata": {},
   "source": [
    "### Import Libraries"
   ]
  },
  {
   "cell_type": "code",
   "execution_count": 1,
   "metadata": {},
   "outputs": [],
   "source": [
    "import mlrose_hiive\n",
    "import numpy as np\n",
    "\n",
    "from sklearn.datasets import load_iris\n",
    "from sklearn.model_selection import train_test_split\n",
    "from sklearn.preprocessing import MinMaxScaler, OneHotEncoder\n",
    "from sklearn.metrics import accuracy_score"
   ]
  },
  {
   "cell_type": "code",
   "execution_count": 2,
   "metadata": {},
   "outputs": [],
   "source": [
    "from matplotlib import pyplot as plt\n",
    "%matplotlib inline"
   ]
  },
  {
   "cell_type": "code",
   "execution_count": 3,
   "metadata": {},
   "outputs": [],
   "source": [
    "import random\n",
    "random.seed(0) \n",
    "\n",
    "wei = [random.randint(1,50) for _ in range(140)]\n",
    "val = [random.randint(1,50) for _ in range(140)]\n",
    "max_weight_pct = 0.6\n",
    "fitness = mlrose_hiive.Knapsack(wei, val, max_weight_pct,max_item_count=10,multiply_by_max_item_count=True)"
   ]
  },
  {
   "cell_type": "code",
   "execution_count": 4,
   "metadata": {},
   "outputs": [],
   "source": [
    "# Define alternative N-Queens fitness function for maximization problem\n",
    "evaluations = []\n",
    "def knapsack_max(state):\n",
    "    \n",
    "    currentfit = fitness.evaluate(state)\n",
    "    evaluations.append(currentfit)\n",
    "    return currentfit"
   ]
  },
  {
   "cell_type": "code",
   "execution_count": 5,
   "metadata": {},
   "outputs": [],
   "source": [
    "state=np.array([1]*130+[1]*10)"
   ]
  },
  {
   "cell_type": "code",
   "execution_count": null,
   "metadata": {},
   "outputs": [],
   "source": []
  },
  {
   "cell_type": "code",
   "execution_count": 6,
   "metadata": {},
   "outputs": [
    {
     "data": {
      "text/plain": [
       "3426"
      ]
     },
     "execution_count": 6,
     "metadata": {},
     "output_type": "execute_result"
    }
   ],
   "source": [
    "fitness.evaluate(state)"
   ]
  },
  {
   "cell_type": "code",
   "execution_count": 7,
   "metadata": {},
   "outputs": [
    {
     "data": {
      "text/plain": [
       "0"
      ]
     },
     "execution_count": 7,
     "metadata": {},
     "output_type": "execute_result"
    }
   ],
   "source": [
    "# Check function is working correctly\n",
    "state = np.array([0]*140)\n",
    "\n",
    "# The fitness of this state should be 22\n",
    "knapsack_max(state)"
   ]
  },
  {
   "cell_type": "code",
   "execution_count": 8,
   "metadata": {},
   "outputs": [],
   "source": [
    "# Initialize custom fitness function object\n",
    "fitness_cust = mlrose_hiive.CustomFitness(knapsack_max)"
   ]
  },
  {
   "cell_type": "code",
   "execution_count": 9,
   "metadata": {},
   "outputs": [],
   "source": [
    "# Define optimization problem object\n",
    "problem_cust = mlrose_hiive.DiscreteOpt(length = 140, fitness_fn = fitness_cust, maximize = True,max_val=10)\n",
    "problem_cust.set_mimic_fast_mode(True)"
   ]
  },
  {
   "cell_type": "markdown",
   "metadata": {},
   "source": [
    "## Knapsack grid search"
   ]
  },
  {
   "cell_type": "code",
   "execution_count": 10,
   "metadata": {},
   "outputs": [],
   "source": [
    "OUTPUT_DIRECTORY = 'output'\n",
    "SEED = 1\n",
    "experiment_name = 'Knapsack'\n"
   ]
  },
  {
   "cell_type": "markdown",
   "metadata": {},
   "source": [
    "### rhc"
   ]
  },
  {
   "cell_type": "code",
   "execution_count": 13,
   "metadata": {
    "scrolled": true
   },
   "outputs": [
    {
     "name": "stdout",
     "output_type": "stream",
     "text": [
      "Running rhc\n",
      "*****************\n",
      "*** Run START ***\n",
      "*****************\n",
      "restarts:[0], max_iters:[1000], current_restart:[0]\n",
      "runner_name:[rhc], experiment_name:[knapsack], attempt:[0], iteration:[0], done:[False], time:[0.00], fitness:[16173.0000]\n",
      "\t[5 8 9 5 0 0 1 7 6 9 2 4 5 2 4 2 4 7 7 9 1 7 0 6 9 9 7 6 9 1 0 1 8 8 3 9 8// 7 3 6 5 1 9 3 4 8 1 4 0 3 9 2 0 4 9 2 7 7 9 8 6 9 3 7 7 4 5 9 3 6 8 0 2 7// 7 9 7 3 0 8 7 7 1 1 3 0 8 6 4 5 6 2 5 7 8 4 4 7...\n",
      "\n",
      "restarts:[0], max_iters:[1000], current_restart:[0]\n",
      "runner_name:[rhc], experiment_name:[knapsack], attempt:[1], iteration:[100], done:[False], time:[0.02], fitness:[19495.0000]\n",
      "\t[7 8 9 5 0 0 1 7 6 9 2 7 5 5 6 2 4 7 7 9 4 9 0 7 9 9 7 9 9 1 0 9 9 8 5 9 8// 9 7 7 5 1 9 3 7 8 9 4 3 3 9 5 7 6 9 3 7 7 9 8 6 9 3 7 7 4 5 9 3 6 8 0 2 7// 7 9 9 3 0 8 7 7 5 1 8 0 8 6 4 5 6 2 5 7 8 4 4 7...\n",
      "\n",
      "restarts:[0], max_iters:[1000], current_restart:[0]\n",
      "runner_name:[rhc], experiment_name:[knapsack], attempt:[711], iteration:[1000], done:[True], time:[0.66], fitness:[21115.0000]\n",
      "\t[7 8 9 6 9 0 1 7 6 9 6 7 5 5 6 2 8 7 7 9 4 9 0 7 9 9 7 9 9 1 9 9 9 8 5 9 8// 9 7 7 5 1 9 3 9 9 9 4 6 3 9 5 7 6 9 3 7 9 9 8 6 9 3 7 7 4 5 9 4 6 8 0 2 7// 7 9 9 4 8 8 7 7 5 1 8 0 8 6 4 5 6 2 5 7 8 4 5 7...\n",
      "\n",
      "***************\n",
      "*** Run END ***\n",
      "***************\n",
      "*****************\n",
      "*** Run START ***\n",
      "*****************\n",
      "restarts:[5], max_iters:[1000], current_restart:[0]\n",
      "runner_name:[rhc], experiment_name:[knapsack], attempt:[0], iteration:[0], done:[False], time:[0.00], fitness:[16173.0000]\n",
      "\t[5 8 9 5 0 0 1 7 6 9 2 4 5 2 4 2 4 7 7 9 1 7 0 6 9 9 7 6 9 1 0 1 8 8 3 9 8// 7 3 6 5 1 9 3 4 8 1 4 0 3 9 2 0 4 9 2 7 7 9 8 6 9 3 7 7 4 5 9 3 6 8 0 2 7// 7 9 7 3 0 8 7 7 1 1 3 0 8 6 4 5 6 2 5 7 8 4 4 7...\n",
      "\n",
      "restarts:[5], max_iters:[1000], current_restart:[0]\n",
      "runner_name:[rhc], experiment_name:[knapsack], attempt:[1], iteration:[100], done:[False], time:[0.01], fitness:[19495.0000]\n",
      "\t[7 8 9 5 0 0 1 7 6 9 2 7 5 5 6 2 4 7 7 9 4 9 0 7 9 9 7 9 9 1 0 9 9 8 5 9 8// 9 7 7 5 1 9 3 7 8 9 4 3 3 9 5 7 6 9 3 7 7 9 8 6 9 3 7 7 4 5 9 3 6 8 0 2 7// 7 9 9 3 0 8 7 7 5 1 8 0 8 6 4 5 6 2 5 7 8 4 4 7...\n",
      "\n",
      "restarts:[5], max_iters:[1000], current_restart:[0]\n",
      "runner_name:[rhc], experiment_name:[knapsack], attempt:[711], iteration:[1000], done:[True], time:[0.10], fitness:[21115.0000]\n",
      "\t[7 8 9 6 9 0 1 7 6 9 6 7 5 5 6 2 8 7 7 9 4 9 0 7 9 9 7 9 9 1 9 9 9 8 5 9 8// 9 7 7 5 1 9 3 9 9 9 4 6 3 9 5 7 6 9 3 7 9 9 8 6 9 3 7 7 4 5 9 4 6 8 0 2 7// 7 9 9 4 8 8 7 7 5 1 8 0 8 6 4 5 6 2 5 7 8 4 5 7...\n",
      "\n",
      "restarts:[5], max_iters:[1000], current_restart:[1]\n",
      "runner_name:[rhc], experiment_name:[knapsack], attempt:[0], iteration:[0], done:[False], time:[0.13], fitness:[15732.0000]\n",
      "\t[3 3 0 0 3 7 4 9 8 3 5 3 1 8 7 0 6 0 0 7 1 8 7 5 8 3 1 7 6 7 9 0 0 7 5 5 0// 1 6 3 0 6 2 3 6 3 6 2 0 5 7 6 2 5 5 1 4 0 3 3 5 3 4 3 0 3 8 9 0 7 6 5 0 1// 4 6 7 5 5 6 5 4 4 0 8 1 3 3 0 0 0 4 6 6 3 4 9 6...\n",
      "\n",
      "restarts:[5], max_iters:[1000], current_restart:[1]\n",
      "runner_name:[rhc], experiment_name:[knapsack], attempt:[4], iteration:[100], done:[False], time:[0.14], fitness:[19357.0000]\n",
      "\t[3 3 1 0 3 7 4 9 8 7 7 4 4 8 7 6 9 0 6 7 2 8 7 5 8 3 3 7 6 7 9 8 1 7 8 5 9// 1 6 3 0 9 6 3 9 3 6 4 0 5 7 6 2 7 5 1 4 5 8 4 9 3 4 3 1 3 8 9 4 7 6 9 8 6// 9 6 7 5 5 6 5 4 4 6 8 9 6 9 1 0 5 4 7 6 3 4 9 6...\n",
      "\n",
      "restarts:[5], max_iters:[1000], current_restart:[1]\n",
      "runner_name:[rhc], experiment_name:[knapsack], attempt:[627], iteration:[1000], done:[True], time:[0.31], fitness:[21433.0000]\n",
      "\t[7 9 1 0 3 7 4 9 8 7 7 4 4 8 7 6 9 0 6 7 2 8 7 8 8 3 3 7 6 7 9 8 1 7 9 5 9// 6 6 4 0 9 6 3 9 9 6 4 2 9 9 6 6 8 9 1 8 7 8 4 9 3 4 3 4 3 8 9 4 7 6 9 8 6// 9 6 9 8 9 6 5 6 8 6 8 9 6 9 1 0 9 9 7 6 7 4 9 6...\n",
      "\n",
      "restarts:[5], max_iters:[1000], current_restart:[2]\n",
      "runner_name:[rhc], experiment_name:[knapsack], attempt:[0], iteration:[0], done:[False], time:[0.35], fitness:[15044.0000]\n",
      "\t[9 6 5 5 3 1 3 4 9 1 2 3 6 6 5 2 0 5 0 1 5 3 9 5 9 6 6 0 3 5 0 0 5 2 5 0 1// 7 9 9 7 8 2 8 8 2 1 7 2 9 3 6 4 4 5 6 9 1 5 1 4 5 7 2 6 2 2 2 4 2 9 8 1 4// 6 2 5 1 6 6 5 9 4 0 0 7 3 3 5 6 3 1 6 0 3 8 1 9...\n",
      "\n",
      "restarts:[5], max_iters:[1000], current_restart:[2]\n",
      "runner_name:[rhc], experiment_name:[knapsack], attempt:[5], iteration:[100], done:[False], time:[0.37], fitness:[18576.0000]\n",
      "\t[9 6 5 5 3 8 3 6 9 1 9 4 6 6 5 7 0 5 0 4 5 3 9 7 9 6 6 4 4 5 7 8 5 2 5 0 3// 7 9 9 7 8 7 8 8 2 5 7 2 9 3 6 4 4 5 8 9 2 7 1 6 5 7 2 9 2 2 2 4 2 9 8 3 6// 6 2 5 8 6 6 9 9 4 0 0 7 3 6 5 6 4 8 6 6 8 8 1 9...\n",
      "\n",
      "restarts:[5], max_iters:[1000], current_restart:[2]\n",
      "runner_name:[rhc], experiment_name:[knapsack], attempt:[833], iteration:[1000], done:[True], time:[0.64], fitness:[19916.0000]\n",
      "\t[9 6 5 9 3 8 8 6 9 1 9 4 6 6 5 7 0 5 0 5 5 3 9 7 9 6 6 9 4 5 7 8 5 4 8 0 3// 7 9 9 7 8 7 8 8 2 5 7 2 9 3 6 4 6 5 8 9 2 7 1 6 5 7 6 9 9 2 2 4 2 9 9 3 6// 6 9 5 8 6 6 9 9 4 0 0 8 3 6 8 6 4 8 6 6 8 8 1 9...\n",
      "\n",
      "restarts:[5], max_iters:[1000], current_restart:[3]\n",
      "runner_name:[rhc], experiment_name:[knapsack], attempt:[0], iteration:[0], done:[False], time:[0.68], fitness:[16473.0000]\n",
      "\t[8 2 0 2 0 7 8 2 8 9 8 9 1 5 7 4 5 7 7 9 3 4 0 9 2 7 6 1 8 5 3 4 2 2 8 7 8// 7 6 7 1 3 3 6 0 1 1 5 5 1 7 0 5 3 6 9 0 4 9 5 9 9 1 6 3 9 0 5 6 3 2 5 5 6// 6 9 8 2 0 3 7 6 6 5 0 1 2 4 4 7 7 5 0 6 5 7 8 8...\n",
      "\n",
      "restarts:[5], max_iters:[1000], current_restart:[3]\n",
      "runner_name:[rhc], experiment_name:[knapsack], attempt:[2], iteration:[100], done:[False], time:[0.71], fitness:[20113.0000]\n",
      "\t[8 4 0 2 0 7 8 4 8 9 8 9 1 5 7 4 7 7 7 9 3 8 9 9 8 7 6 1 8 5 3 4 7 2 8 7 8// 7 6 7 1 9 3 6 0 7 1 5 8 1 7 0 5 3 6 9 0 8 9 5 9 9 7 6 3 9 0 5 6 9 2 5 5 6// 9 9 8 2 4 3 7 6 6 5 0 6 2 4 4 8 7 5 6 6 8 7 8 8...\n",
      "\n",
      "restarts:[5], max_iters:[1000], current_restart:[3]\n",
      "runner_name:[rhc], experiment_name:[knapsack], attempt:[668], iteration:[1000], done:[True], time:[1.04], fitness:[21506.0000]\n",
      "\t[8 4 0 2 0 7 8 4 8 9 8 9 1 5 9 9 7 7 7 9 3 8 9 9 8 7 6 1 8 5 3 8 7 2 8 7 8// 7 6 7 1 9 9 6 0 7 1 6 8 1 7 0 5 3 8 9 0 8 9 5 9 9 7 6 3 9 0 6 6 9 2 6 5 6// 9 9 8 2 5 4 7 6 7 5 5 6 2 4 4 8 7 5 6 8 8 7 8 8...\n",
      "\n",
      "restarts:[5], max_iters:[1000], current_restart:[4]\n",
      "runner_name:[rhc], experiment_name:[knapsack], attempt:[0], iteration:[0], done:[False], time:[1.10], fitness:[16728.0000]\n",
      "\t[7 5 5 9 3 9 3 5 7 3 6 8 9 9 5 6 9 4 5 2 0 7 5 3 3 7 9 4 6 2 8 7 3 1 8 4 1// 1 7 8 6 0 1 1 7 2 6 7 8 4 7 3 2 5 4 1 6 5 1 6 3 3 8 7 9 6 7 7 8 9 5 3 9 1// 9 5 4 9 7 1 1 3 0 0 8 5 0 4 7 4 4 5 3 6 0 2 2 0...\n",
      "\n",
      "restarts:[5], max_iters:[1000], current_restart:[4]\n",
      "runner_name:[rhc], experiment_name:[knapsack], attempt:[1], iteration:[100], done:[False], time:[1.14], fitness:[21046.0000]\n",
      "\t[7 5 5 9 9 9 3 5 7 3 6 8 9 9 5 9 9 4 5 2 6 7 5 3 9 7 9 4 6 9 8 7 3 1 9 4 7// 1 7 8 6 4 1 1 8 6 7 7 8 4 7 3 4 6 4 1 9 8 1 7 7 3 8 7 9 7 7 7 8 9 5 3 9 7// 9 5 8 9 7 1 1 9 7 0 8 5 9 6 8 4 9 6 3 8 4 2 7 0...\n",
      "\n",
      "restarts:[5], max_iters:[1000], current_restart:[4]\n",
      "runner_name:[rhc], experiment_name:[knapsack], attempt:[901], iteration:[1000], done:[True], time:[1.55], fitness:[21046.0000]\n",
      "\t[7 5 5 9 9 9 3 5 7 3 6 8 9 9 5 9 9 4 5 2 6 7 5 3 9 7 9 4 6 9 8 7 3 1 9 4 7// 1 7 8 6 4 1 1 8 6 7 7 8 4 7 3 4 6 4 1 9 8 1 7 7 3 8 7 9 7 7 7 8 9 5 3 9 7// 9 5 8 9 7 1 1 9 7 0 8 5 9 6 8 4 9 6 3 8 4 2 7 0...\n",
      "\n",
      "restarts:[5], max_iters:[1000], current_restart:[5]\n",
      "runner_name:[rhc], experiment_name:[knapsack], attempt:[0], iteration:[0], done:[False], time:[1.62], fitness:[16145.0000]\n",
      "\t[3 7 3 8 2 2 0 8 0 8 9 0 7 8 6 0 4 6 4 2 9 0 7 5 5 7 4 9 6 9 7 2 8 8 6 2 8// 9 3 1 2 9 1 0 2 8 9 5 3 9 5 6 7 5 1 9 3 6 3 4 7 3 4 5 8 1 3 5 7 5 1 0 6 9// 4 1 5 0 9 3 2 3 4 2 4 9 6 6 4 9 6 3 1 2 1 2 5 2...\n",
      "\n",
      "restarts:[5], max_iters:[1000], current_restart:[5]\n",
      "runner_name:[rhc], experiment_name:[knapsack], attempt:[1], iteration:[100], done:[False], time:[1.66], fitness:[19356.0000]\n",
      "\t[3 7 3 8 4 9 8 8 9 8 9 3 7 8 6 7 4 6 4 2 9 0 7 5 7 7 4 9 6 9 7 2 8 8 6 7 8// 9 7 1 2 9 7 0 2 8 9 5 3 9 5 6 9 5 1 9 3 7 3 4 9 3 4 5 8 1 3 5 7 5 1 6 6 9// 4 1 9 2 9 4 2 3 6 2 4 9 6 6 6 9 6 5 1 7 9 9 5 2...\n",
      "\n",
      "restarts:[5], max_iters:[1000], current_restart:[5]\n",
      "runner_name:[rhc], experiment_name:[knapsack], attempt:[693], iteration:[1000], done:[True], time:[2.07], fitness:[19481.0000]\n",
      "\t[3 7 3 8 4 9 8 8 9 8 9 3 7 8 6 7 4 6 4 2 9 0 7 5 7 7 4 9 6 9 7 2 8 8 6 7 8// 9 7 1 2 9 7 0 2 8 9 7 3 9 5 6 9 5 6 9 3 7 3 4 9 3 4 5 8 1 3 5 7 5 1 6 6 9// 4 1 9 2 9 4 2 3 6 2 4 9 6 6 6 9 6 5 1 7 9 9 5 2...\n",
      "\n",
      "***************\n",
      "*** Run END ***\n",
      "***************\n",
      "*****************\n",
      "*** Run START ***\n",
      "*****************\n",
      "restarts:[15], max_iters:[1000], current_restart:[0]\n",
      "runner_name:[rhc], experiment_name:[knapsack], attempt:[0], iteration:[0], done:[False], time:[0.00], fitness:[16173.0000]\n",
      "\t[5 8 9 5 0 0 1 7 6 9 2 4 5 2 4 2 4 7 7 9 1 7 0 6 9 9 7 6 9 1 0 1 8 8 3 9 8// 7 3 6 5 1 9 3 4 8 1 4 0 3 9 2 0 4 9 2 7 7 9 8 6 9 3 7 7 4 5 9 3 6 8 0 2 7// 7 9 7 3 0 8 7 7 1 1 3 0 8 6 4 5 6 2 5 7 8 4 4 7...\n",
      "\n",
      "restarts:[15], max_iters:[1000], current_restart:[0]\n",
      "runner_name:[rhc], experiment_name:[knapsack], attempt:[1], iteration:[100], done:[False], time:[0.02], fitness:[19495.0000]\n",
      "\t[7 8 9 5 0 0 1 7 6 9 2 7 5 5 6 2 4 7 7 9 4 9 0 7 9 9 7 9 9 1 0 9 9 8 5 9 8// 9 7 7 5 1 9 3 7 8 9 4 3 3 9 5 7 6 9 3 7 7 9 8 6 9 3 7 7 4 5 9 3 6 8 0 2 7// 7 9 9 3 0 8 7 7 5 1 8 0 8 6 4 5 6 2 5 7 8 4 4 7...\n",
      "\n"
     ]
    },
    {
     "name": "stdout",
     "output_type": "stream",
     "text": [
      "restarts:[15], max_iters:[1000], current_restart:[0]\n",
      "runner_name:[rhc], experiment_name:[knapsack], attempt:[711], iteration:[1000], done:[True], time:[0.30], fitness:[21115.0000]\n",
      "\t[7 8 9 6 9 0 1 7 6 9 6 7 5 5 6 2 8 7 7 9 4 9 0 7 9 9 7 9 9 1 9 9 9 8 5 9 8// 9 7 7 5 1 9 3 9 9 9 4 6 3 9 5 7 6 9 3 7 9 9 8 6 9 3 7 7 4 5 9 4 6 8 0 2 7// 7 9 9 4 8 8 7 7 5 1 8 0 8 6 4 5 6 2 5 7 8 4 5 7...\n",
      "\n",
      "restarts:[15], max_iters:[1000], current_restart:[1]\n",
      "runner_name:[rhc], experiment_name:[knapsack], attempt:[0], iteration:[0], done:[False], time:[0.41], fitness:[15732.0000]\n",
      "\t[3 3 0 0 3 7 4 9 8 3 5 3 1 8 7 0 6 0 0 7 1 8 7 5 8 3 1 7 6 7 9 0 0 7 5 5 0// 1 6 3 0 6 2 3 6 3 6 2 0 5 7 6 2 5 5 1 4 0 3 3 5 3 4 3 0 3 8 9 0 7 6 5 0 1// 4 6 7 5 5 6 5 4 4 0 8 1 3 3 0 0 0 4 6 6 3 4 9 6...\n",
      "\n",
      "restarts:[15], max_iters:[1000], current_restart:[1]\n",
      "runner_name:[rhc], experiment_name:[knapsack], attempt:[4], iteration:[100], done:[False], time:[0.43], fitness:[19357.0000]\n",
      "\t[3 3 1 0 3 7 4 9 8 7 7 4 4 8 7 6 9 0 6 7 2 8 7 5 8 3 3 7 6 7 9 8 1 7 8 5 9// 1 6 3 0 9 6 3 9 3 6 4 0 5 7 6 2 7 5 1 4 5 8 4 9 3 4 3 1 3 8 9 4 7 6 9 8 6// 9 6 7 5 5 6 5 4 4 6 8 9 6 9 1 0 5 4 7 6 3 4 9 6...\n",
      "\n",
      "restarts:[15], max_iters:[1000], current_restart:[1]\n",
      "runner_name:[rhc], experiment_name:[knapsack], attempt:[627], iteration:[1000], done:[True], time:[0.74], fitness:[21433.0000]\n",
      "\t[7 9 1 0 3 7 4 9 8 7 7 4 4 8 7 6 9 0 6 7 2 8 7 8 8 3 3 7 6 7 9 8 1 7 9 5 9// 6 6 4 0 9 6 3 9 9 6 4 2 9 9 6 6 8 9 1 8 7 8 4 9 3 4 3 4 3 8 9 4 7 6 9 8 6// 9 6 9 8 9 6 5 6 8 6 8 9 6 9 1 0 9 9 7 6 7 4 9 6...\n",
      "\n",
      "restarts:[15], max_iters:[1000], current_restart:[2]\n",
      "runner_name:[rhc], experiment_name:[knapsack], attempt:[0], iteration:[0], done:[False], time:[0.83], fitness:[15044.0000]\n",
      "\t[9 6 5 5 3 1 3 4 9 1 2 3 6 6 5 2 0 5 0 1 5 3 9 5 9 6 6 0 3 5 0 0 5 2 5 0 1// 7 9 9 7 8 2 8 8 2 1 7 2 9 3 6 4 4 5 6 9 1 5 1 4 5 7 2 6 2 2 2 4 2 9 8 1 4// 6 2 5 1 6 6 5 9 4 0 0 7 3 3 5 6 3 1 6 0 3 8 1 9...\n",
      "\n",
      "restarts:[15], max_iters:[1000], current_restart:[2]\n",
      "runner_name:[rhc], experiment_name:[knapsack], attempt:[5], iteration:[100], done:[False], time:[0.85], fitness:[18576.0000]\n",
      "\t[9 6 5 5 3 8 3 6 9 1 9 4 6 6 5 7 0 5 0 4 5 3 9 7 9 6 6 4 4 5 7 8 5 2 5 0 3// 7 9 9 7 8 7 8 8 2 5 7 2 9 3 6 4 4 5 8 9 2 7 1 6 5 7 2 9 2 2 2 4 2 9 8 3 6// 6 2 5 8 6 6 9 9 4 0 0 7 3 6 5 6 4 8 6 6 8 8 1 9...\n",
      "\n",
      "restarts:[15], max_iters:[1000], current_restart:[2]\n",
      "runner_name:[rhc], experiment_name:[knapsack], attempt:[833], iteration:[1000], done:[True], time:[1.15], fitness:[19916.0000]\n",
      "\t[9 6 5 9 3 8 8 6 9 1 9 4 6 6 5 7 0 5 0 5 5 3 9 7 9 6 6 9 4 5 7 8 5 4 8 0 3// 7 9 9 7 8 7 8 8 2 5 7 2 9 3 6 4 6 5 8 9 2 7 1 6 5 7 6 9 9 2 2 4 2 9 9 3 6// 6 9 5 8 6 6 9 9 4 0 0 8 3 6 8 6 4 8 6 6 8 8 1 9...\n",
      "\n",
      "restarts:[15], max_iters:[1000], current_restart:[3]\n",
      "runner_name:[rhc], experiment_name:[knapsack], attempt:[0], iteration:[0], done:[False], time:[1.36], fitness:[16473.0000]\n",
      "\t[8 2 0 2 0 7 8 2 8 9 8 9 1 5 7 4 5 7 7 9 3 4 0 9 2 7 6 1 8 5 3 4 2 2 8 7 8// 7 6 7 1 3 3 6 0 1 1 5 5 1 7 0 5 3 6 9 0 4 9 5 9 9 1 6 3 9 0 5 6 3 2 5 5 6// 6 9 8 2 0 3 7 6 6 5 0 1 2 4 4 7 7 5 0 6 5 7 8 8...\n",
      "\n",
      "restarts:[15], max_iters:[1000], current_restart:[3]\n",
      "runner_name:[rhc], experiment_name:[knapsack], attempt:[2], iteration:[100], done:[False], time:[1.39], fitness:[20113.0000]\n",
      "\t[8 4 0 2 0 7 8 4 8 9 8 9 1 5 7 4 7 7 7 9 3 8 9 9 8 7 6 1 8 5 3 4 7 2 8 7 8// 7 6 7 1 9 3 6 0 7 1 5 8 1 7 0 5 3 6 9 0 8 9 5 9 9 7 6 3 9 0 5 6 9 2 5 5 6// 9 9 8 2 4 3 7 6 6 5 0 6 2 4 4 8 7 5 6 6 8 7 8 8...\n",
      "\n",
      "restarts:[15], max_iters:[1000], current_restart:[3]\n",
      "runner_name:[rhc], experiment_name:[knapsack], attempt:[668], iteration:[1000], done:[True], time:[1.83], fitness:[21506.0000]\n",
      "\t[8 4 0 2 0 7 8 4 8 9 8 9 1 5 9 9 7 7 7 9 3 8 9 9 8 7 6 1 8 5 3 8 7 2 8 7 8// 7 6 7 1 9 9 6 0 7 1 6 8 1 7 0 5 3 8 9 0 8 9 5 9 9 7 6 3 9 0 6 6 9 2 6 5 6// 9 9 8 2 5 4 7 6 7 5 5 6 2 4 4 8 7 5 6 8 8 7 8 8...\n",
      "\n",
      "restarts:[15], max_iters:[1000], current_restart:[4]\n",
      "runner_name:[rhc], experiment_name:[knapsack], attempt:[0], iteration:[0], done:[False], time:[1.96], fitness:[16728.0000]\n",
      "\t[7 5 5 9 3 9 3 5 7 3 6 8 9 9 5 6 9 4 5 2 0 7 5 3 3 7 9 4 6 2 8 7 3 1 8 4 1// 1 7 8 6 0 1 1 7 2 6 7 8 4 7 3 2 5 4 1 6 5 1 6 3 3 8 7 9 6 7 7 8 9 5 3 9 1// 9 5 4 9 7 1 1 3 0 0 8 5 0 4 7 4 4 5 3 6 0 2 2 0...\n",
      "\n",
      "restarts:[15], max_iters:[1000], current_restart:[4]\n",
      "runner_name:[rhc], experiment_name:[knapsack], attempt:[1], iteration:[100], done:[False], time:[2.00], fitness:[21046.0000]\n",
      "\t[7 5 5 9 9 9 3 5 7 3 6 8 9 9 5 9 9 4 5 2 6 7 5 3 9 7 9 4 6 9 8 7 3 1 9 4 7// 1 7 8 6 4 1 1 8 6 7 7 8 4 7 3 4 6 4 1 9 8 1 7 7 3 8 7 9 7 7 7 8 9 5 3 9 7// 9 5 8 9 7 1 1 9 7 0 8 5 9 6 8 4 9 6 3 8 4 2 7 0...\n",
      "\n",
      "restarts:[15], max_iters:[1000], current_restart:[4]\n",
      "runner_name:[rhc], experiment_name:[knapsack], attempt:[901], iteration:[1000], done:[True], time:[2.45], fitness:[21046.0000]\n",
      "\t[7 5 5 9 9 9 3 5 7 3 6 8 9 9 5 9 9 4 5 2 6 7 5 3 9 7 9 4 6 9 8 7 3 1 9 4 7// 1 7 8 6 4 1 1 8 6 7 7 8 4 7 3 4 6 4 1 9 8 1 7 7 3 8 7 9 7 7 7 8 9 5 3 9 7// 9 5 8 9 7 1 1 9 7 0 8 5 9 6 8 4 9 6 3 8 4 2 7 0...\n",
      "\n",
      "restarts:[15], max_iters:[1000], current_restart:[5]\n",
      "runner_name:[rhc], experiment_name:[knapsack], attempt:[0], iteration:[0], done:[False], time:[2.57], fitness:[16145.0000]\n",
      "\t[3 7 3 8 2 2 0 8 0 8 9 0 7 8 6 0 4 6 4 2 9 0 7 5 5 7 4 9 6 9 7 2 8 8 6 2 8// 9 3 1 2 9 1 0 2 8 9 5 3 9 5 6 7 5 1 9 3 6 3 4 7 3 4 5 8 1 3 5 7 5 1 0 6 9// 4 1 5 0 9 3 2 3 4 2 4 9 6 6 4 9 6 3 1 2 1 2 5 2...\n",
      "\n",
      "restarts:[15], max_iters:[1000], current_restart:[5]\n",
      "runner_name:[rhc], experiment_name:[knapsack], attempt:[1], iteration:[100], done:[False], time:[2.61], fitness:[19356.0000]\n",
      "\t[3 7 3 8 4 9 8 8 9 8 9 3 7 8 6 7 4 6 4 2 9 0 7 5 7 7 4 9 6 9 7 2 8 8 6 7 8// 9 7 1 2 9 7 0 2 8 9 5 3 9 5 6 9 5 1 9 3 7 3 4 9 3 4 5 8 1 3 5 7 5 1 6 6 9// 4 1 9 2 9 4 2 3 6 2 4 9 6 6 6 9 6 5 1 7 9 9 5 2...\n",
      "\n",
      "restarts:[15], max_iters:[1000], current_restart:[5]\n",
      "runner_name:[rhc], experiment_name:[knapsack], attempt:[693], iteration:[1000], done:[True], time:[3.11], fitness:[19481.0000]\n",
      "\t[3 7 3 8 4 9 8 8 9 8 9 3 7 8 6 7 4 6 4 2 9 0 7 5 7 7 4 9 6 9 7 2 8 8 6 7 8// 9 7 1 2 9 7 0 2 8 9 7 3 9 5 6 9 5 6 9 3 7 3 4 9 3 4 5 8 1 3 5 7 5 1 6 6 9// 4 1 9 2 9 4 2 3 6 2 4 9 6 6 6 9 6 5 1 7 9 9 5 2...\n",
      "\n",
      "restarts:[15], max_iters:[1000], current_restart:[6]\n",
      "runner_name:[rhc], experiment_name:[knapsack], attempt:[0], iteration:[0], done:[False], time:[3.23], fitness:[15518.0000]\n",
      "\t[4 3 0 4 5 8 9 1 7 5 8 5 3 8 7 3 5 1 5 7 2 0 3 5 4 8 6 6 7 3 9 6 5 9 2 1 7// 7 3 4 3 3 9 6 1 5 2 8 6 9 3 2 2 7 3 1 1 0 0 0 3 6 5 2 4 6 7 8 8 2 8 3 4 8// 0 4 1 7 2 7 5 6 9 6 4 3 3 3 9 2 5 2 9 3 8 0 8 9...\n",
      "\n",
      "restarts:[15], max_iters:[1000], current_restart:[6]\n",
      "runner_name:[rhc], experiment_name:[knapsack], attempt:[3], iteration:[100], done:[False], time:[3.27], fitness:[19534.0000]\n",
      "\t[8 5 0 4 5 8 9 1 7 5 8 5 3 8 7 3 5 1 8 7 2 2 3 5 9 8 6 6 7 3 9 7 7 9 2 6 7// 7 3 4 3 8 9 6 1 5 2 8 9 9 3 8 9 7 4 3 1 9 0 0 3 7 7 2 8 6 7 8 8 2 8 5 4 8// 6 4 9 7 3 7 5 6 9 6 6 3 3 3 9 2 5 2 9 9 8 6 8 9...\n",
      "\n",
      "restarts:[15], max_iters:[1000], current_restart:[6]\n",
      "runner_name:[rhc], experiment_name:[knapsack], attempt:[98], iteration:[1000], done:[True], time:[3.84], fitness:[21409.0000]\n",
      "\t[9 5 0 7 5 8 9 1 9 9 8 5 3 8 7 3 5 8 8 7 8 2 3 5 9 8 7 9 7 3 9 7 7 9 4 9 7// 9 6 6 3 8 9 6 1 5 4 8 9 9 3 8 9 7 8 3 1 9 0 0 3 7 7 2 8 9 7 8 8 2 8 5 8 8// 6 4 9 7 3 7 5 6 9 6 9 3 3 6 9 2 5 2 9 9 8 6 8 9...\n",
      "\n",
      "restarts:[15], max_iters:[1000], current_restart:[7]\n",
      "runner_name:[rhc], experiment_name:[knapsack], attempt:[0], iteration:[0], done:[False], time:[3.97], fitness:[16638.0000]\n",
      "\t[5 6 6 4 1 7 7 4 6 1 2 6 5 5 7 9 7 4 2 9 1 4 3 5 5 9 0 8 9 2 9 7 8 2 6 9 8// 1 4 8 5 0 7 7 7 2 4 2 5 3 7 7 9 6 5 0 7 3 4 7 0 6 1 0 5 5 1 1 4 5 2 8 4 2// 9 5 7 8 3 7 3 2 2 2 8 8 5 1 4 7 1 7 5 0 6 7 3 8...\n",
      "\n",
      "restarts:[15], max_iters:[1000], current_restart:[7]\n",
      "runner_name:[rhc], experiment_name:[knapsack], attempt:[2], iteration:[100], done:[False], time:[4.02], fitness:[20467.0000]\n",
      "\t[5 6 6 7 8 8 7 4 6 1 8 6 5 7 7 9 7 6 7 9 8 4 3 5 5 9 7 8 9 2 9 7 8 2 9 9 8// 1 4 8 6 9 7 7 7 2 4 2 5 5 7 7 9 6 5 0 7 4 4 7 0 6 1 5 5 5 1 9 8 5 2 8 4 2// 9 8 7 9 3 7 8 8 2 4 8 8 7 1 4 8 6 7 5 7 6 7 3 8...\n",
      "\n",
      "restarts:[15], max_iters:[1000], current_restart:[7]\n",
      "runner_name:[rhc], experiment_name:[knapsack], attempt:[429], iteration:[1000], done:[True], time:[4.75], fitness:[20543.0000]\n",
      "\t[5 6 6 7 8 8 7 4 6 1 8 6 5 7 7 9 7 6 7 9 8 4 3 5 5 9 7 8 9 2 9 7 8 2 9 9 8// 1 4 8 6 9 7 7 7 2 4 4 5 5 7 7 9 6 9 0 7 4 4 7 0 6 1 5 5 5 1 9 8 5 2 8 4 2// 9 8 7 9 3 7 8 8 2 4 8 8 7 1 4 8 6 7 5 7 6 7 3 8...\n",
      "\n",
      "restarts:[15], max_iters:[1000], current_restart:[8]\n",
      "runner_name:[rhc], experiment_name:[knapsack], attempt:[0], iteration:[0], done:[False], time:[4.92], fitness:[16309.0000]\n",
      "\t[1 4 1 7 3 4 9 1 6 9 6 2 1 7 4 2 6 0 5 7 6 2 8 9 5 8 7 9 9 3 0 0 5 3 8 2 4// 1 2 3 6 7 7 2 1 3 0 6 8 0 7 8 7 6 8 2 7 0 2 4 0 0 5 3 7 3 4 3 1 6 5 2 5 3// 2 2 4 3 0 8 1 6 7 5 7 9 5 9 8 2 5 0 9 9 9 5 5 7...\n",
      "\n"
     ]
    },
    {
     "name": "stdout",
     "output_type": "stream",
     "text": [
      "restarts:[15], max_iters:[1000], current_restart:[8]\n",
      "runner_name:[rhc], experiment_name:[knapsack], attempt:[2], iteration:[100], done:[False], time:[4.99], fitness:[20311.0000]\n",
      "\t[3 9 2 7 3 4 9 2 6 9 6 2 1 7 8 3 6 5 9 7 6 9 8 9 7 8 7 9 9 6 8 0 5 3 8 2 4// 8 2 3 6 9 7 2 1 5 4 6 8 0 8 8 7 6 8 6 7 8 6 5 2 2 5 6 7 3 4 3 1 6 5 2 5 8// 2 4 8 7 0 8 9 6 7 5 7 9 5 9 8 6 7 6 9 9 9 5 5 7...\n",
      "\n",
      "restarts:[15], max_iters:[1000], current_restart:[8]\n",
      "runner_name:[rhc], experiment_name:[knapsack], attempt:[889], iteration:[1000], done:[True], time:[5.75], fitness:[20402.0000]\n",
      "\t[3 9 2 7 3 4 9 2 6 9 6 2 1 7 8 3 6 5 9 7 6 9 8 9 7 8 7 9 9 6 8 0 5 3 8 2 4// 8 2 3 6 9 7 2 1 5 4 6 8 0 8 8 7 6 8 6 7 8 6 5 2 2 5 6 7 3 4 5 1 6 5 3 5 8// 2 4 8 7 0 8 9 6 7 5 7 9 5 9 8 6 7 6 9 9 9 5 5 7...\n",
      "\n",
      "restarts:[15], max_iters:[1000], current_restart:[9]\n",
      "runner_name:[rhc], experiment_name:[knapsack], attempt:[0], iteration:[0], done:[False], time:[5.90], fitness:[16064.0000]\n",
      "\t[0 2 9 7 9 8 0 1 8 7 7 7 5 3 7 9 8 6 5 6 0 5 3 5 5 6 4 8 4 3 1 0 8 5 2 6 1// 9 3 2 3 4 8 8 4 6 1 0 8 9 6 8 2 5 0 7 7 7 4 1 8 7 2 6 1 7 1 1 2 3 7 4 9 6// 5 1 1 7 2 3 3 5 3 5 0 4 8 1 2 9 3 9 4 1 8 8 8 6...\n",
      "\n",
      "restarts:[15], max_iters:[1000], current_restart:[9]\n",
      "runner_name:[rhc], experiment_name:[knapsack], attempt:[3], iteration:[100], done:[False], time:[5.98], fitness:[18880.0000]\n",
      "\t[4 2 9 7 9 8 0 1 8 8 7 7 5 3 7 9 8 7 5 6 7 5 3 5 8 6 4 8 4 3 1 1 8 5 2 6 1// 9 3 8 3 4 8 8 4 6 2 6 8 9 9 8 2 5 0 8 7 7 4 1 8 7 2 6 1 9 7 1 2 3 7 4 9 6// 5 1 7 7 8 9 7 7 3 5 0 9 8 1 2 9 3 9 4 1 8 8 8 9...\n",
      "\n",
      "restarts:[15], max_iters:[1000], current_restart:[9]\n",
      "runner_name:[rhc], experiment_name:[knapsack], attempt:[333], iteration:[1000], done:[True], time:[6.78], fitness:[20603.0000]\n",
      "\t[4 2 9 9 9 8 0 3 8 9 7 7 5 3 8 9 8 8 9 6 7 5 3 9 8 6 4 8 5 3 1 1 8 5 8 6 1// 9 5 8 3 4 8 8 4 6 2 9 8 9 9 8 5 5 1 8 7 7 4 4 8 7 5 6 1 9 7 1 2 6 7 4 9 6// 6 1 7 7 8 9 7 7 3 5 6 9 8 4 4 9 7 9 4 1 8 8 9 9...\n",
      "\n",
      "restarts:[15], max_iters:[1000], current_restart:[10]\n",
      "runner_name:[rhc], experiment_name:[knapsack], attempt:[0], iteration:[0], done:[False], time:[7.01], fitness:[16391.0000]\n",
      "\t[7 7 9 4 4 7 9 9 9 0 3 7 7 9 7 2 0 3 7 0 6 0 7 7 3 8 5 7 7 5 1 5 2 1 1 4 4// 8 8 1 1 0 7 5 7 9 7 9 1 4 7 6 1 4 2 4 5 4 3 2 4 4 4 1 9 5 6 2 9 2 8 2 2 9// 6 9 9 4 1 7 1 2 2 5 9 9 4 0 3 6 2 3 2 8 7 3 6 9...\n",
      "\n",
      "restarts:[15], max_iters:[1000], current_restart:[10]\n",
      "runner_name:[rhc], experiment_name:[knapsack], attempt:[4], iteration:[100], done:[False], time:[7.12], fitness:[20286.0000]\n",
      "\t[8 7 9 8 5 7 9 9 9 4 3 7 8 9 7 2 2 8 7 0 8 8 7 7 3 8 5 7 7 9 3 5 7 1 1 8 4// 8 8 8 1 0 9 5 7 9 7 9 8 4 7 6 1 4 2 8 5 4 3 7 4 7 9 1 9 5 6 4 9 2 8 6 2 9// 6 9 9 4 1 9 1 2 2 5 9 9 4 8 9 7 2 6 6 8 7 3 6 9...\n",
      "\n",
      "restarts:[15], max_iters:[1000], current_restart:[10]\n",
      "runner_name:[rhc], experiment_name:[knapsack], attempt:[813], iteration:[1000], done:[True], time:[8.02], fitness:[20502.0000]\n",
      "\t[8 7 9 8 5 7 9 9 9 8 3 7 8 9 7 2 2 8 7 0 8 8 7 7 3 8 6 7 7 9 3 5 7 1 1 8 4// 8 8 8 1 0 9 5 7 9 7 9 8 4 7 6 1 4 5 9 5 4 3 7 4 7 9 1 9 5 6 4 9 2 8 6 2 9// 6 9 9 4 1 9 1 2 2 5 9 9 4 8 9 7 2 6 6 8 7 3 6 9...\n",
      "\n",
      "restarts:[15], max_iters:[1000], current_restart:[11]\n",
      "runner_name:[rhc], experiment_name:[knapsack], attempt:[0], iteration:[0], done:[False], time:[8.19], fitness:[16068.0000]\n",
      "\t[3 5 2 9 2 4 6 3 2 9 2 5 5 9 6 7 9 1 7 0 3 1 2 7 1 7 4 6 7 4 4 5 0 7 5 3 4// 4 9 8 4 9 4 5 5 7 8 3 2 2 6 9 8 5 2 4 0 6 2 8 7 8 9 4 2 1 3 9 2 9 5 8 0 4// 6 5 9 6 9 1 5 9 9 3 5 0 9 2 3 7 6 5 9 6 4 6 1 0...\n",
      "\n",
      "restarts:[15], max_iters:[1000], current_restart:[11]\n",
      "runner_name:[rhc], experiment_name:[knapsack], attempt:[1], iteration:[100], done:[False], time:[8.33], fitness:[19604.0000]\n",
      "\t[7 5 8 9 4 7 6 3 3 9 8 5 5 9 6 7 9 1 7 9 3 1 5 7 1 8 4 6 7 4 4 8 2 7 5 3 4// 4 9 8 4 9 9 5 5 7 8 6 4 8 6 9 8 5 2 4 0 6 8 8 7 8 9 4 7 3 3 9 2 9 5 8 0 4// 6 5 9 6 9 4 5 9 9 3 5 2 9 2 3 8 6 5 9 9 4 8 1 2...\n",
      "\n",
      "restarts:[15], max_iters:[1000], current_restart:[11]\n",
      "runner_name:[rhc], experiment_name:[knapsack], attempt:[598], iteration:[1000], done:[True], time:[9.52], fitness:[20438.0000]\n",
      "\t[7 5 8 9 4 7 6 7 3 9 8 5 5 9 6 7 9 1 7 9 3 1 5 7 1 8 4 6 7 4 4 8 5 7 5 3 4// 4 9 8 4 9 9 5 5 9 8 9 4 8 6 9 8 6 7 4 2 6 8 8 7 8 9 9 7 3 3 9 2 9 5 8 0 4// 6 5 9 7 9 4 5 9 9 3 5 2 9 6 3 8 6 5 9 9 4 8 1 2...\n",
      "\n",
      "restarts:[15], max_iters:[1000], current_restart:[12]\n",
      "runner_name:[rhc], experiment_name:[knapsack], attempt:[0], iteration:[0], done:[False], time:[9.85], fitness:[14092.0000]\n",
      "\t[7 7 0 6 4 7 3 8 2 9 8 2 0 8 4 9 5 4 6 2 7 1 2 4 3 6 8 7 1 2 0 9 4 3 9 1 8// 8 3 0 3 1 7 7 2 7 9 7 5 7 5 3 1 2 7 2 5 8 1 2 4 7 1 7 6 9 1 0 7 7 7 9 9 8// 3 0 6 4 9 7 9 0 6 6 3 2 1 3 0 6 3 1 1 4 4 6 8 2...\n",
      "\n",
      "restarts:[15], max_iters:[1000], current_restart:[12]\n",
      "runner_name:[rhc], experiment_name:[knapsack], attempt:[1], iteration:[100], done:[False], time:[9.96], fitness:[18089.0000]\n",
      "\t[9 7 3 7 4 7 3 9 7 9 8 2 0 8 4 9 8 8 7 2 9 7 2 4 7 6 8 7 5 2 0 9 4 7 9 2 8// 8 4 0 6 5 7 7 2 7 9 7 9 7 8 3 9 2 7 2 5 8 1 9 4 7 7 7 7 9 1 8 7 7 7 9 9 8// 3 0 6 7 9 7 9 1 6 6 8 8 9 3 0 6 3 8 1 4 6 7 8 3...\n",
      "\n",
      "restarts:[15], max_iters:[1000], current_restart:[12]\n",
      "runner_name:[rhc], experiment_name:[knapsack], attempt:[366], iteration:[1000], done:[True], time:[11.54], fitness:[19813.0000]\n",
      "\t[9 7 8 7 4 9 4 9 7 9 8 2 5 8 8 9 8 8 7 7 9 7 2 4 7 6 8 7 5 2 0 9 4 7 9 2 8// 9 4 7 6 5 8 7 2 7 9 8 9 7 8 3 9 9 8 2 5 8 1 9 4 7 7 7 9 9 1 8 7 7 7 9 9 8// 4 4 6 7 9 7 9 1 6 6 8 8 9 8 0 9 3 8 1 4 6 7 8 3...\n",
      "\n",
      "restarts:[15], max_iters:[1000], current_restart:[13]\n",
      "runner_name:[rhc], experiment_name:[knapsack], attempt:[0], iteration:[0], done:[False], time:[11.75], fitness:[17001.0000]\n",
      "\t[9 2 8 6 4 4 4 3 2 8 4 7 3 7 7 5 0 5 5 1 6 0 8 1 9 7 3 3 5 7 5 6 4 7 9 5 0// 3 5 5 7 9 5 2 8 6 4 6 9 5 8 9 6 9 7 2 5 2 5 6 8 0 9 1 9 2 3 8 7 0 2 6 4 3// 3 2 5 7 7 6 3 4 1 4 6 1 4 7 0 5 5 4 6 4 0 4 1 8...\n",
      "\n",
      "restarts:[15], max_iters:[1000], current_restart:[13]\n",
      "runner_name:[rhc], experiment_name:[knapsack], attempt:[3], iteration:[100], done:[False], time:[11.89], fitness:[19860.0000]\n",
      "\t[9 2 8 6 4 7 4 3 3 8 4 7 3 7 7 9 0 5 5 1 9 9 8 5 9 7 3 3 5 7 6 6 4 7 9 5 7// 3 7 5 7 9 9 9 9 6 4 6 9 6 9 9 6 9 7 2 5 2 5 6 8 0 9 1 9 2 5 8 7 0 2 6 8 3// 3 2 6 7 7 6 8 4 2 9 8 1 4 7 0 9 5 8 6 4 0 4 1 8...\n",
      "\n",
      "restarts:[15], max_iters:[1000], current_restart:[13]\n",
      "runner_name:[rhc], experiment_name:[knapsack], attempt:[718], iteration:[1000], done:[True], time:[13.08], fitness:[21511.0000]\n",
      "\t[9 6 8 6 5 7 4 3 3 8 4 7 3 7 7 9 0 5 5 1 9 9 8 5 9 7 3 3 5 7 6 6 4 7 9 5 7// 3 7 5 7 9 9 9 9 7 8 6 9 6 9 9 7 9 9 2 7 8 5 6 8 9 9 5 9 8 5 8 7 0 3 6 8 3// 3 2 8 7 9 6 8 4 2 9 8 4 4 7 0 9 6 8 6 4 0 9 1 9...\n",
      "\n",
      "restarts:[15], max_iters:[1000], current_restart:[14]\n",
      "runner_name:[rhc], experiment_name:[knapsack], attempt:[0], iteration:[0], done:[False], time:[13.29], fitness:[13905.0000]\n",
      "\t[3 2 5 1 3 1 3 9 2 0 5 7 1 9 3 5 4 6 5 8 9 0 1 1 9 8 8 1 6 2 0 3 6 8 7 1 1// 6 3 8 5 0 3 0 6 9 0 8 3 1 2 6 8 0 1 0 3 5 1 4 9 0 2 7 5 4 3 1 4 7 2 3 4 2// 4 6 3 7 9 7 4 4 9 0 2 1 9 4 5 2 2 5 1 1 8 1 7 3...\n",
      "\n",
      "restarts:[15], max_iters:[1000], current_restart:[14]\n",
      "runner_name:[rhc], experiment_name:[knapsack], attempt:[1], iteration:[100], done:[False], time:[13.38], fitness:[17877.0000]\n",
      "\t[9 5 5 1 3 1 3 9 4 0 5 7 9 9 3 5 4 6 5 8 9 8 1 2 9 8 8 1 8 2 7 6 6 8 7 1 1// 6 3 8 5 0 3 0 6 9 0 9 3 5 2 6 8 1 3 3 3 5 1 4 9 8 2 7 8 4 3 1 4 7 2 9 4 2// 4 6 3 7 9 7 8 5 9 0 3 1 9 8 7 2 4 5 1 1 8 2 9 3...\n",
      "\n",
      "restarts:[15], max_iters:[1000], current_restart:[14]\n",
      "runner_name:[rhc], experiment_name:[knapsack], attempt:[606], iteration:[1000], done:[True], time:[14.56], fitness:[20514.0000]\n",
      "\t[9 5 5 2 3 9 3 9 4 0 5 7 9 9 6 8 5 6 5 8 9 8 1 2 9 8 8 9 8 3 7 6 6 8 7 3 1// 6 5 8 8 8 7 0 9 9 1 9 4 7 8 8 8 6 7 6 3 5 1 4 9 8 2 7 8 4 4 8 4 7 2 9 8 2// 8 6 3 8 9 7 8 5 9 4 4 1 9 8 7 2 4 5 1 8 8 2 9 3...\n",
      "\n",
      "restarts:[15], max_iters:[1000], current_restart:[15]\n",
      "runner_name:[rhc], experiment_name:[knapsack], attempt:[0], iteration:[0], done:[False], time:[14.78], fitness:[14751.0000]\n",
      "\t[3 2 8 2 8 7 2 9 5 9 6 0 4 1 6 2 5 5 7 1 3 5 2 7 4 5 1 9 7 7 5 9 6 1 1 8 3// 2 4 3 4 0 6 0 6 0 7 8 7 7 7 9 5 7 2 4 0 8 0 4 7 6 6 4 8 4 4 3 6 2 2 9 4 7// 9 3 2 9 4 7 3 3 2 0 9 4 5 5 1 4 5 2 6 2 0 7 8 6...\n",
      "\n",
      "restarts:[15], max_iters:[1000], current_restart:[15]\n",
      "runner_name:[rhc], experiment_name:[knapsack], attempt:[1], iteration:[100], done:[False], time:[14.90], fitness:[18925.0000]\n",
      "\t[5 9 9 5 8 7 2 9 5 9 6 0 4 1 6 2 9 5 7 1 6 5 9 7 7 5 5 9 7 7 5 9 6 1 1 8 7// 3 4 9 8 0 8 0 6 8 7 8 7 9 7 9 5 7 2 4 0 9 0 4 9 8 6 5 8 4 4 3 8 6 2 9 7 8// 9 3 2 9 4 7 8 3 7 3 9 7 5 8 2 4 5 3 6 7 3 7 8 6...\n",
      "\n"
     ]
    },
    {
     "name": "stdout",
     "output_type": "stream",
     "text": [
      "restarts:[15], max_iters:[1000], current_restart:[15]\n",
      "runner_name:[rhc], experiment_name:[knapsack], attempt:[879], iteration:[1000], done:[True], time:[16.03], fitness:[20145.0000]\n",
      "\t[5 9 9 5 8 7 2 9 5 9 6 2 4 1 6 2 9 5 7 1 6 5 9 7 7 5 5 9 7 7 5 9 6 1 1 8 7// 3 4 9 8 0 8 0 6 8 7 8 7 9 7 9 5 7 2 4 0 9 0 4 9 8 6 5 8 4 4 3 8 6 2 9 7 8// 9 3 2 9 4 7 8 3 7 3 9 7 5 8 5 4 5 6 6 7 3 7 8 6...\n",
      "\n",
      "***************\n",
      "*** Run END ***\n",
      "***************\n",
      "*****************\n",
      "*** Run START ***\n",
      "*****************\n",
      "restarts:[25], max_iters:[1000], current_restart:[0]\n",
      "runner_name:[rhc], experiment_name:[knapsack], attempt:[0], iteration:[0], done:[False], time:[0.00], fitness:[16173.0000]\n",
      "\t[5 8 9 5 0 0 1 7 6 9 2 4 5 2 4 2 4 7 7 9 1 7 0 6 9 9 7 6 9 1 0 1 8 8 3 9 8// 7 3 6 5 1 9 3 4 8 1 4 0 3 9 2 0 4 9 2 7 7 9 8 6 9 3 7 7 4 5 9 3 6 8 0 2 7// 7 9 7 3 0 8 7 7 1 1 3 0 8 6 4 5 6 2 5 7 8 4 4 7...\n",
      "\n",
      "restarts:[25], max_iters:[1000], current_restart:[0]\n",
      "runner_name:[rhc], experiment_name:[knapsack], attempt:[1], iteration:[100], done:[False], time:[0.01], fitness:[19495.0000]\n",
      "\t[7 8 9 5 0 0 1 7 6 9 2 7 5 5 6 2 4 7 7 9 4 9 0 7 9 9 7 9 9 1 0 9 9 8 5 9 8// 9 7 7 5 1 9 3 7 8 9 4 3 3 9 5 7 6 9 3 7 7 9 8 6 9 3 7 7 4 5 9 3 6 8 0 2 7// 7 9 9 3 0 8 7 7 5 1 8 0 8 6 4 5 6 2 5 7 8 4 4 7...\n",
      "\n",
      "restarts:[25], max_iters:[1000], current_restart:[0]\n",
      "runner_name:[rhc], experiment_name:[knapsack], attempt:[711], iteration:[1000], done:[True], time:[0.39], fitness:[21115.0000]\n",
      "\t[7 8 9 6 9 0 1 7 6 9 6 7 5 5 6 2 8 7 7 9 4 9 0 7 9 9 7 9 9 1 9 9 9 8 5 9 8// 9 7 7 5 1 9 3 9 9 9 4 6 3 9 5 7 6 9 3 7 9 9 8 6 9 3 7 7 4 5 9 4 6 8 0 2 7// 7 9 9 4 8 8 7 7 5 1 8 0 8 6 4 5 6 2 5 7 8 4 5 7...\n",
      "\n",
      "restarts:[25], max_iters:[1000], current_restart:[1]\n",
      "runner_name:[rhc], experiment_name:[knapsack], attempt:[0], iteration:[0], done:[False], time:[0.69], fitness:[15732.0000]\n",
      "\t[3 3 0 0 3 7 4 9 8 3 5 3 1 8 7 0 6 0 0 7 1 8 7 5 8 3 1 7 6 7 9 0 0 7 5 5 0// 1 6 3 0 6 2 3 6 3 6 2 0 5 7 6 2 5 5 1 4 0 3 3 5 3 4 3 0 3 8 9 0 7 6 5 0 1// 4 6 7 5 5 6 5 4 4 0 8 1 3 3 0 0 0 4 6 6 3 4 9 6...\n",
      "\n",
      "restarts:[25], max_iters:[1000], current_restart:[1]\n",
      "runner_name:[rhc], experiment_name:[knapsack], attempt:[4], iteration:[100], done:[False], time:[0.71], fitness:[19357.0000]\n",
      "\t[3 3 1 0 3 7 4 9 8 7 7 4 4 8 7 6 9 0 6 7 2 8 7 5 8 3 3 7 6 7 9 8 1 7 8 5 9// 1 6 3 0 9 6 3 9 3 6 4 0 5 7 6 2 7 5 1 4 5 8 4 9 3 4 3 1 3 8 9 4 7 6 9 8 6// 9 6 7 5 5 6 5 4 4 6 8 9 6 9 1 0 5 4 7 6 3 4 9 6...\n",
      "\n",
      "restarts:[25], max_iters:[1000], current_restart:[1]\n",
      "runner_name:[rhc], experiment_name:[knapsack], attempt:[627], iteration:[1000], done:[True], time:[1.13], fitness:[21433.0000]\n",
      "\t[7 9 1 0 3 7 4 9 8 7 7 4 4 8 7 6 9 0 6 7 2 8 7 8 8 3 3 7 6 7 9 8 1 7 9 5 9// 6 6 4 0 9 6 3 9 9 6 4 2 9 9 6 6 8 9 1 8 7 8 4 9 3 4 3 4 3 8 9 4 7 6 9 8 6// 9 6 9 8 9 6 5 6 8 6 8 9 6 9 1 0 9 9 7 6 7 4 9 6...\n",
      "\n",
      "restarts:[25], max_iters:[1000], current_restart:[2]\n",
      "runner_name:[rhc], experiment_name:[knapsack], attempt:[0], iteration:[0], done:[False], time:[1.37], fitness:[15044.0000]\n",
      "\t[9 6 5 5 3 1 3 4 9 1 2 3 6 6 5 2 0 5 0 1 5 3 9 5 9 6 6 0 3 5 0 0 5 2 5 0 1// 7 9 9 7 8 2 8 8 2 1 7 2 9 3 6 4 4 5 6 9 1 5 1 4 5 7 2 6 2 2 2 4 2 9 8 1 4// 6 2 5 1 6 6 5 9 4 0 0 7 3 3 5 6 3 1 6 0 3 8 1 9...\n",
      "\n",
      "restarts:[25], max_iters:[1000], current_restart:[2]\n",
      "runner_name:[rhc], experiment_name:[knapsack], attempt:[5], iteration:[100], done:[False], time:[1.40], fitness:[18576.0000]\n",
      "\t[9 6 5 5 3 8 3 6 9 1 9 4 6 6 5 7 0 5 0 4 5 3 9 7 9 6 6 4 4 5 7 8 5 2 5 0 3// 7 9 9 7 8 7 8 8 2 5 7 2 9 3 6 4 4 5 8 9 2 7 1 6 5 7 2 9 2 2 2 4 2 9 8 3 6// 6 2 5 8 6 6 9 9 4 0 0 7 3 6 5 6 4 8 6 6 8 8 1 9...\n",
      "\n",
      "restarts:[25], max_iters:[1000], current_restart:[2]\n",
      "runner_name:[rhc], experiment_name:[knapsack], attempt:[833], iteration:[1000], done:[True], time:[1.89], fitness:[19916.0000]\n",
      "\t[9 6 5 9 3 8 8 6 9 1 9 4 6 6 5 7 0 5 0 5 5 3 9 7 9 6 6 9 4 5 7 8 5 4 8 0 3// 7 9 9 7 8 7 8 8 2 5 7 2 9 3 6 4 6 5 8 9 2 7 1 6 5 7 6 9 9 2 2 4 2 9 9 3 6// 6 9 5 8 6 6 9 9 4 0 0 8 3 6 8 6 4 8 6 6 8 8 1 9...\n",
      "\n",
      "restarts:[25], max_iters:[1000], current_restart:[3]\n",
      "runner_name:[rhc], experiment_name:[knapsack], attempt:[0], iteration:[0], done:[False], time:[2.15], fitness:[16473.0000]\n",
      "\t[8 2 0 2 0 7 8 2 8 9 8 9 1 5 7 4 5 7 7 9 3 4 0 9 2 7 6 1 8 5 3 4 2 2 8 7 8// 7 6 7 1 3 3 6 0 1 1 5 5 1 7 0 5 3 6 9 0 4 9 5 9 9 1 6 3 9 0 5 6 3 2 5 5 6// 6 9 8 2 0 3 7 6 6 5 0 1 2 4 4 7 7 5 0 6 5 7 8 8...\n",
      "\n",
      "restarts:[25], max_iters:[1000], current_restart:[3]\n",
      "runner_name:[rhc], experiment_name:[knapsack], attempt:[2], iteration:[100], done:[False], time:[2.18], fitness:[20113.0000]\n",
      "\t[8 4 0 2 0 7 8 4 8 9 8 9 1 5 7 4 7 7 7 9 3 8 9 9 8 7 6 1 8 5 3 4 7 2 8 7 8// 7 6 7 1 9 3 6 0 7 1 5 8 1 7 0 5 3 6 9 0 8 9 5 9 9 7 6 3 9 0 5 6 9 2 5 5 6// 9 9 8 2 4 3 7 6 6 5 0 6 2 4 4 8 7 5 6 6 8 7 8 8...\n",
      "\n",
      "restarts:[25], max_iters:[1000], current_restart:[3]\n",
      "runner_name:[rhc], experiment_name:[knapsack], attempt:[668], iteration:[1000], done:[True], time:[2.72], fitness:[21506.0000]\n",
      "\t[8 4 0 2 0 7 8 4 8 9 8 9 1 5 9 9 7 7 7 9 3 8 9 9 8 7 6 1 8 5 3 8 7 2 8 7 8// 7 6 7 1 9 9 6 0 7 1 6 8 1 7 0 5 3 8 9 0 8 9 5 9 9 7 6 3 9 0 6 6 9 2 6 5 6// 9 9 8 2 5 4 7 6 7 5 5 6 2 4 4 8 7 5 6 8 8 7 8 8...\n",
      "\n",
      "restarts:[25], max_iters:[1000], current_restart:[4]\n",
      "runner_name:[rhc], experiment_name:[knapsack], attempt:[0], iteration:[0], done:[False], time:[3.00], fitness:[16728.0000]\n",
      "\t[7 5 5 9 3 9 3 5 7 3 6 8 9 9 5 6 9 4 5 2 0 7 5 3 3 7 9 4 6 2 8 7 3 1 8 4 1// 1 7 8 6 0 1 1 7 2 6 7 8 4 7 3 2 5 4 1 6 5 1 6 3 3 8 7 9 6 7 7 8 9 5 3 9 1// 9 5 4 9 7 1 1 3 0 0 8 5 0 4 7 4 4 5 3 6 0 2 2 0...\n",
      "\n",
      "restarts:[25], max_iters:[1000], current_restart:[4]\n",
      "runner_name:[rhc], experiment_name:[knapsack], attempt:[1], iteration:[100], done:[False], time:[3.03], fitness:[21046.0000]\n",
      "\t[7 5 5 9 9 9 3 5 7 3 6 8 9 9 5 9 9 4 5 2 6 7 5 3 9 7 9 4 6 9 8 7 3 1 9 4 7// 1 7 8 6 4 1 1 8 6 7 7 8 4 7 3 4 6 4 1 9 8 1 7 7 3 8 7 9 7 7 7 8 9 5 3 9 7// 9 5 8 9 7 1 1 9 7 0 8 5 9 6 8 4 9 6 3 8 4 2 7 0...\n",
      "\n",
      "restarts:[25], max_iters:[1000], current_restart:[4]\n",
      "runner_name:[rhc], experiment_name:[knapsack], attempt:[901], iteration:[1000], done:[True], time:[3.60], fitness:[21046.0000]\n",
      "\t[7 5 5 9 9 9 3 5 7 3 6 8 9 9 5 9 9 4 5 2 6 7 5 3 9 7 9 4 6 9 8 7 3 1 9 4 7// 1 7 8 6 4 1 1 8 6 7 7 8 4 7 3 4 6 4 1 9 8 1 7 7 3 8 7 9 7 7 7 8 9 5 3 9 7// 9 5 8 9 7 1 1 9 7 0 8 5 9 6 8 4 9 6 3 8 4 2 7 0...\n",
      "\n",
      "restarts:[25], max_iters:[1000], current_restart:[5]\n",
      "runner_name:[rhc], experiment_name:[knapsack], attempt:[0], iteration:[0], done:[False], time:[3.86], fitness:[16145.0000]\n",
      "\t[3 7 3 8 2 2 0 8 0 8 9 0 7 8 6 0 4 6 4 2 9 0 7 5 5 7 4 9 6 9 7 2 8 8 6 2 8// 9 3 1 2 9 1 0 2 8 9 5 3 9 5 6 7 5 1 9 3 6 3 4 7 3 4 5 8 1 3 5 7 5 1 0 6 9// 4 1 5 0 9 3 2 3 4 2 4 9 6 6 4 9 6 3 1 2 1 2 5 2...\n",
      "\n",
      "restarts:[25], max_iters:[1000], current_restart:[5]\n",
      "runner_name:[rhc], experiment_name:[knapsack], attempt:[1], iteration:[100], done:[False], time:[3.90], fitness:[19356.0000]\n",
      "\t[3 7 3 8 4 9 8 8 9 8 9 3 7 8 6 7 4 6 4 2 9 0 7 5 7 7 4 9 6 9 7 2 8 8 6 7 8// 9 7 1 2 9 7 0 2 8 9 5 3 9 5 6 9 5 1 9 3 7 3 4 9 3 4 5 8 1 3 5 7 5 1 6 6 9// 4 1 9 2 9 4 2 3 6 2 4 9 6 6 6 9 6 5 1 7 9 9 5 2...\n",
      "\n",
      "restarts:[25], max_iters:[1000], current_restart:[5]\n",
      "runner_name:[rhc], experiment_name:[knapsack], attempt:[693], iteration:[1000], done:[True], time:[4.54], fitness:[19481.0000]\n",
      "\t[3 7 3 8 4 9 8 8 9 8 9 3 7 8 6 7 4 6 4 2 9 0 7 5 7 7 4 9 6 9 7 2 8 8 6 7 8// 9 7 1 2 9 7 0 2 8 9 7 3 9 5 6 9 5 6 9 3 7 3 4 9 3 4 5 8 1 3 5 7 5 1 6 6 9// 4 1 9 2 9 4 2 3 6 2 4 9 6 6 6 9 6 5 1 7 9 9 5 2...\n",
      "\n",
      "restarts:[25], max_iters:[1000], current_restart:[6]\n",
      "runner_name:[rhc], experiment_name:[knapsack], attempt:[0], iteration:[0], done:[False], time:[4.86], fitness:[15518.0000]\n",
      "\t[4 3 0 4 5 8 9 1 7 5 8 5 3 8 7 3 5 1 5 7 2 0 3 5 4 8 6 6 7 3 9 6 5 9 2 1 7// 7 3 4 3 3 9 6 1 5 2 8 6 9 3 2 2 7 3 1 1 0 0 0 3 6 5 2 4 6 7 8 8 2 8 3 4 8// 0 4 1 7 2 7 5 6 9 6 4 3 3 3 9 2 5 2 9 3 8 0 8 9...\n",
      "\n",
      "restarts:[25], max_iters:[1000], current_restart:[6]\n",
      "runner_name:[rhc], experiment_name:[knapsack], attempt:[3], iteration:[100], done:[False], time:[4.90], fitness:[19534.0000]\n",
      "\t[8 5 0 4 5 8 9 1 7 5 8 5 3 8 7 3 5 1 8 7 2 2 3 5 9 8 6 6 7 3 9 7 7 9 2 6 7// 7 3 4 3 8 9 6 1 5 2 8 9 9 3 8 9 7 4 3 1 9 0 0 3 7 7 2 8 6 7 8 8 2 8 5 4 8// 6 4 9 7 3 7 5 6 9 6 6 3 3 3 9 2 5 2 9 9 8 6 8 9...\n",
      "\n",
      "restarts:[25], max_iters:[1000], current_restart:[6]\n",
      "runner_name:[rhc], experiment_name:[knapsack], attempt:[98], iteration:[1000], done:[True], time:[5.86], fitness:[21409.0000]\n",
      "\t[9 5 0 7 5 8 9 1 9 9 8 5 3 8 7 3 5 8 8 7 8 2 3 5 9 8 7 9 7 3 9 7 7 9 4 9 7// 9 6 6 3 8 9 6 1 5 4 8 9 9 3 8 9 7 8 3 1 9 0 0 3 7 7 2 8 9 7 8 8 2 8 5 8 8// 6 4 9 7 3 7 5 6 9 6 9 3 3 6 9 2 5 2 9 9 8 6 8 9...\n",
      "\n"
     ]
    },
    {
     "name": "stdout",
     "output_type": "stream",
     "text": [
      "restarts:[25], max_iters:[1000], current_restart:[7]\n",
      "runner_name:[rhc], experiment_name:[knapsack], attempt:[0], iteration:[0], done:[False], time:[6.14], fitness:[16638.0000]\n",
      "\t[5 6 6 4 1 7 7 4 6 1 2 6 5 5 7 9 7 4 2 9 1 4 3 5 5 9 0 8 9 2 9 7 8 2 6 9 8// 1 4 8 5 0 7 7 7 2 4 2 5 3 7 7 9 6 5 0 7 3 4 7 0 6 1 0 5 5 1 1 4 5 2 8 4 2// 9 5 7 8 3 7 3 2 2 2 8 8 5 1 4 7 1 7 5 0 6 7 3 8...\n",
      "\n",
      "restarts:[25], max_iters:[1000], current_restart:[7]\n",
      "runner_name:[rhc], experiment_name:[knapsack], attempt:[2], iteration:[100], done:[False], time:[6.19], fitness:[20467.0000]\n",
      "\t[5 6 6 7 8 8 7 4 6 1 8 6 5 7 7 9 7 6 7 9 8 4 3 5 5 9 7 8 9 2 9 7 8 2 9 9 8// 1 4 8 6 9 7 7 7 2 4 2 5 5 7 7 9 6 5 0 7 4 4 7 0 6 1 5 5 5 1 9 8 5 2 8 4 2// 9 8 7 9 3 7 8 8 2 4 8 8 7 1 4 8 6 7 5 7 6 7 3 8...\n",
      "\n",
      "restarts:[25], max_iters:[1000], current_restart:[7]\n",
      "runner_name:[rhc], experiment_name:[knapsack], attempt:[429], iteration:[1000], done:[True], time:[6.98], fitness:[20543.0000]\n",
      "\t[5 6 6 7 8 8 7 4 6 1 8 6 5 7 7 9 7 6 7 9 8 4 3 5 5 9 7 8 9 2 9 7 8 2 9 9 8// 1 4 8 6 9 7 7 7 2 4 4 5 5 7 7 9 6 9 0 7 4 4 7 0 6 1 5 5 5 1 9 8 5 2 8 4 2// 9 8 7 9 3 7 8 8 2 4 8 8 7 1 4 8 6 7 5 7 6 7 3 8...\n",
      "\n",
      "restarts:[25], max_iters:[1000], current_restart:[8]\n",
      "runner_name:[rhc], experiment_name:[knapsack], attempt:[0], iteration:[0], done:[False], time:[7.30], fitness:[16309.0000]\n",
      "\t[1 4 1 7 3 4 9 1 6 9 6 2 1 7 4 2 6 0 5 7 6 2 8 9 5 8 7 9 9 3 0 0 5 3 8 2 4// 1 2 3 6 7 7 2 1 3 0 6 8 0 7 8 7 6 8 2 7 0 2 4 0 0 5 3 7 3 4 3 1 6 5 2 5 3// 2 2 4 3 0 8 1 6 7 5 7 9 5 9 8 2 5 0 9 9 9 5 5 7...\n",
      "\n",
      "restarts:[25], max_iters:[1000], current_restart:[8]\n",
      "runner_name:[rhc], experiment_name:[knapsack], attempt:[2], iteration:[100], done:[False], time:[7.35], fitness:[20311.0000]\n",
      "\t[3 9 2 7 3 4 9 2 6 9 6 2 1 7 8 3 6 5 9 7 6 9 8 9 7 8 7 9 9 6 8 0 5 3 8 2 4// 8 2 3 6 9 7 2 1 5 4 6 8 0 8 8 7 6 8 6 7 8 6 5 2 2 5 6 7 3 4 3 1 6 5 2 5 8// 2 4 8 7 0 8 9 6 7 5 7 9 5 9 8 6 7 6 9 9 9 5 5 7...\n",
      "\n",
      "restarts:[25], max_iters:[1000], current_restart:[8]\n",
      "runner_name:[rhc], experiment_name:[knapsack], attempt:[889], iteration:[1000], done:[True], time:[8.20], fitness:[20402.0000]\n",
      "\t[3 9 2 7 3 4 9 2 6 9 6 2 1 7 8 3 6 5 9 7 6 9 8 9 7 8 7 9 9 6 8 0 5 3 8 2 4// 8 2 3 6 9 7 2 1 5 4 6 8 0 8 8 7 6 8 6 7 8 6 5 2 2 5 6 7 3 4 5 1 6 5 3 5 8// 2 4 8 7 0 8 9 6 7 5 7 9 5 9 8 6 7 6 9 9 9 5 5 7...\n",
      "\n",
      "restarts:[25], max_iters:[1000], current_restart:[9]\n",
      "runner_name:[rhc], experiment_name:[knapsack], attempt:[0], iteration:[0], done:[False], time:[8.51], fitness:[16064.0000]\n",
      "\t[0 2 9 7 9 8 0 1 8 7 7 7 5 3 7 9 8 6 5 6 0 5 3 5 5 6 4 8 4 3 1 0 8 5 2 6 1// 9 3 2 3 4 8 8 4 6 1 0 8 9 6 8 2 5 0 7 7 7 4 1 8 7 2 6 1 7 1 1 2 3 7 4 9 6// 5 1 1 7 2 3 3 5 3 5 0 4 8 1 2 9 3 9 4 1 8 8 8 6...\n",
      "\n",
      "restarts:[25], max_iters:[1000], current_restart:[9]\n",
      "runner_name:[rhc], experiment_name:[knapsack], attempt:[3], iteration:[100], done:[False], time:[8.57], fitness:[18880.0000]\n",
      "\t[4 2 9 7 9 8 0 1 8 8 7 7 5 3 7 9 8 7 5 6 7 5 3 5 8 6 4 8 4 3 1 1 8 5 2 6 1// 9 3 8 3 4 8 8 4 6 2 6 8 9 9 8 2 5 0 8 7 7 4 1 8 7 2 6 1 9 7 1 2 3 7 4 9 6// 5 1 7 7 8 9 7 7 3 5 0 9 8 1 2 9 3 9 4 1 8 8 8 9...\n",
      "\n",
      "restarts:[25], max_iters:[1000], current_restart:[9]\n",
      "runner_name:[rhc], experiment_name:[knapsack], attempt:[333], iteration:[1000], done:[True], time:[9.49], fitness:[20603.0000]\n",
      "\t[4 2 9 9 9 8 0 3 8 9 7 7 5 3 8 9 8 8 9 6 7 5 3 9 8 6 4 8 5 3 1 1 8 5 8 6 1// 9 5 8 3 4 8 8 4 6 2 9 8 9 9 8 5 5 1 8 7 7 4 4 8 7 5 6 1 9 7 1 2 6 7 4 9 6// 6 1 7 7 8 9 7 7 3 5 6 9 8 4 4 9 7 9 4 1 8 8 9 9...\n",
      "\n",
      "restarts:[25], max_iters:[1000], current_restart:[10]\n",
      "runner_name:[rhc], experiment_name:[knapsack], attempt:[0], iteration:[0], done:[False], time:[9.80], fitness:[16391.0000]\n",
      "\t[7 7 9 4 4 7 9 9 9 0 3 7 7 9 7 2 0 3 7 0 6 0 7 7 3 8 5 7 7 5 1 5 2 1 1 4 4// 8 8 1 1 0 7 5 7 9 7 9 1 4 7 6 1 4 2 4 5 4 3 2 4 4 4 1 9 5 6 2 9 2 8 2 2 9// 6 9 9 4 1 7 1 2 2 5 9 9 4 0 3 6 2 3 2 8 7 3 6 9...\n",
      "\n",
      "restarts:[25], max_iters:[1000], current_restart:[10]\n",
      "runner_name:[rhc], experiment_name:[knapsack], attempt:[4], iteration:[100], done:[False], time:[9.88], fitness:[20286.0000]\n",
      "\t[8 7 9 8 5 7 9 9 9 4 3 7 8 9 7 2 2 8 7 0 8 8 7 7 3 8 5 7 7 9 3 5 7 1 1 8 4// 8 8 8 1 0 9 5 7 9 7 9 8 4 7 6 1 4 2 8 5 4 3 7 4 7 9 1 9 5 6 4 9 2 8 6 2 9// 6 9 9 4 1 9 1 2 2 5 9 9 4 8 9 7 2 6 6 8 7 3 6 9...\n",
      "\n",
      "restarts:[25], max_iters:[1000], current_restart:[10]\n",
      "runner_name:[rhc], experiment_name:[knapsack], attempt:[813], iteration:[1000], done:[True], time:[10.78], fitness:[20502.0000]\n",
      "\t[8 7 9 8 5 7 9 9 9 8 3 7 8 9 7 2 2 8 7 0 8 8 7 7 3 8 6 7 7 9 3 5 7 1 1 8 4// 8 8 8 1 0 9 5 7 9 7 9 8 4 7 6 1 4 5 9 5 4 3 7 4 7 9 1 9 5 6 4 9 2 8 6 2 9// 6 9 9 4 1 9 1 2 2 5 9 9 4 8 9 7 2 6 6 8 7 3 6 9...\n",
      "\n",
      "restarts:[25], max_iters:[1000], current_restart:[11]\n",
      "runner_name:[rhc], experiment_name:[knapsack], attempt:[0], iteration:[0], done:[False], time:[11.15], fitness:[16068.0000]\n",
      "\t[3 5 2 9 2 4 6 3 2 9 2 5 5 9 6 7 9 1 7 0 3 1 2 7 1 7 4 6 7 4 4 5 0 7 5 3 4// 4 9 8 4 9 4 5 5 7 8 3 2 2 6 9 8 5 2 4 0 6 2 8 7 8 9 4 2 1 3 9 2 9 5 8 0 4// 6 5 9 6 9 1 5 9 9 3 5 0 9 2 3 7 6 5 9 6 4 6 1 0...\n",
      "\n",
      "restarts:[25], max_iters:[1000], current_restart:[11]\n",
      "runner_name:[rhc], experiment_name:[knapsack], attempt:[1], iteration:[100], done:[False], time:[11.22], fitness:[19604.0000]\n",
      "\t[7 5 8 9 4 7 6 3 3 9 8 5 5 9 6 7 9 1 7 9 3 1 5 7 1 8 4 6 7 4 4 8 2 7 5 3 4// 4 9 8 4 9 9 5 5 7 8 6 4 8 6 9 8 5 2 4 0 6 8 8 7 8 9 4 7 3 3 9 2 9 5 8 0 4// 6 5 9 6 9 4 5 9 9 3 5 2 9 2 3 8 6 5 9 9 4 8 1 2...\n",
      "\n",
      "restarts:[25], max_iters:[1000], current_restart:[11]\n",
      "runner_name:[rhc], experiment_name:[knapsack], attempt:[598], iteration:[1000], done:[True], time:[12.19], fitness:[20438.0000]\n",
      "\t[7 5 8 9 4 7 6 7 3 9 8 5 5 9 6 7 9 1 7 9 3 1 5 7 1 8 4 6 7 4 4 8 5 7 5 3 4// 4 9 8 4 9 9 5 5 9 8 9 4 8 6 9 8 6 7 4 2 6 8 8 7 8 9 9 7 3 3 9 2 9 5 8 0 4// 6 5 9 7 9 4 5 9 9 3 5 2 9 6 3 8 6 5 9 9 4 8 1 2...\n",
      "\n",
      "restarts:[25], max_iters:[1000], current_restart:[12]\n",
      "runner_name:[rhc], experiment_name:[knapsack], attempt:[0], iteration:[0], done:[False], time:[12.56], fitness:[14092.0000]\n",
      "\t[7 7 0 6 4 7 3 8 2 9 8 2 0 8 4 9 5 4 6 2 7 1 2 4 3 6 8 7 1 2 0 9 4 3 9 1 8// 8 3 0 3 1 7 7 2 7 9 7 5 7 5 3 1 2 7 2 5 8 1 2 4 7 1 7 6 9 1 0 7 7 7 9 9 8// 3 0 6 4 9 7 9 0 6 6 3 2 1 3 0 6 3 1 1 4 4 6 8 2...\n",
      "\n",
      "restarts:[25], max_iters:[1000], current_restart:[12]\n",
      "runner_name:[rhc], experiment_name:[knapsack], attempt:[1], iteration:[100], done:[False], time:[12.63], fitness:[18089.0000]\n",
      "\t[9 7 3 7 4 7 3 9 7 9 8 2 0 8 4 9 8 8 7 2 9 7 2 4 7 6 8 7 5 2 0 9 4 7 9 2 8// 8 4 0 6 5 7 7 2 7 9 7 9 7 8 3 9 2 7 2 5 8 1 9 4 7 7 7 7 9 1 8 7 7 7 9 9 8// 3 0 6 7 9 7 9 1 6 6 8 8 9 3 0 6 3 8 1 4 6 7 8 3...\n",
      "\n",
      "restarts:[25], max_iters:[1000], current_restart:[12]\n",
      "runner_name:[rhc], experiment_name:[knapsack], attempt:[366], iteration:[1000], done:[True], time:[13.72], fitness:[19813.0000]\n",
      "\t[9 7 8 7 4 9 4 9 7 9 8 2 5 8 8 9 8 8 7 7 9 7 2 4 7 6 8 7 5 2 0 9 4 7 9 2 8// 9 4 7 6 5 8 7 2 7 9 8 9 7 8 3 9 9 8 2 5 8 1 9 4 7 7 7 9 9 1 8 7 7 7 9 9 8// 4 4 6 7 9 7 9 1 6 6 8 8 9 8 0 9 3 8 1 4 6 7 8 3...\n",
      "\n",
      "restarts:[25], max_iters:[1000], current_restart:[13]\n",
      "runner_name:[rhc], experiment_name:[knapsack], attempt:[0], iteration:[0], done:[False], time:[14.07], fitness:[17001.0000]\n",
      "\t[9 2 8 6 4 4 4 3 2 8 4 7 3 7 7 5 0 5 5 1 6 0 8 1 9 7 3 3 5 7 5 6 4 7 9 5 0// 3 5 5 7 9 5 2 8 6 4 6 9 5 8 9 6 9 7 2 5 2 5 6 8 0 9 1 9 2 3 8 7 0 2 6 4 3// 3 2 5 7 7 6 3 4 1 4 6 1 4 7 0 5 5 4 6 4 0 4 1 8...\n",
      "\n",
      "restarts:[25], max_iters:[1000], current_restart:[13]\n",
      "runner_name:[rhc], experiment_name:[knapsack], attempt:[3], iteration:[100], done:[False], time:[14.17], fitness:[19860.0000]\n",
      "\t[9 2 8 6 4 7 4 3 3 8 4 7 3 7 7 9 0 5 5 1 9 9 8 5 9 7 3 3 5 7 6 6 4 7 9 5 7// 3 7 5 7 9 9 9 9 6 4 6 9 6 9 9 6 9 7 2 5 2 5 6 8 0 9 1 9 2 5 8 7 0 2 6 8 3// 3 2 6 7 7 6 8 4 2 9 8 1 4 7 0 9 5 8 6 4 0 4 1 8...\n",
      "\n",
      "restarts:[25], max_iters:[1000], current_restart:[13]\n",
      "runner_name:[rhc], experiment_name:[knapsack], attempt:[718], iteration:[1000], done:[True], time:[15.33], fitness:[21511.0000]\n",
      "\t[9 6 8 6 5 7 4 3 3 8 4 7 3 7 7 9 0 5 5 1 9 9 8 5 9 7 3 3 5 7 6 6 4 7 9 5 7// 3 7 5 7 9 9 9 9 7 8 6 9 6 9 9 7 9 9 2 7 8 5 6 8 9 9 5 9 8 5 8 7 0 3 6 8 3// 3 2 8 7 9 6 8 4 2 9 8 4 4 7 0 9 6 8 6 4 0 9 1 9...\n",
      "\n",
      "restarts:[25], max_iters:[1000], current_restart:[14]\n",
      "runner_name:[rhc], experiment_name:[knapsack], attempt:[0], iteration:[0], done:[False], time:[15.66], fitness:[13905.0000]\n",
      "\t[3 2 5 1 3 1 3 9 2 0 5 7 1 9 3 5 4 6 5 8 9 0 1 1 9 8 8 1 6 2 0 3 6 8 7 1 1// 6 3 8 5 0 3 0 6 9 0 8 3 1 2 6 8 0 1 0 3 5 1 4 9 0 2 7 5 4 3 1 4 7 2 3 4 2// 4 6 3 7 9 7 4 4 9 0 2 1 9 4 5 2 2 5 1 1 8 1 7 3...\n",
      "\n",
      "restarts:[25], max_iters:[1000], current_restart:[14]\n",
      "runner_name:[rhc], experiment_name:[knapsack], attempt:[1], iteration:[100], done:[False], time:[15.76], fitness:[17877.0000]\n",
      "\t[9 5 5 1 3 1 3 9 4 0 5 7 9 9 3 5 4 6 5 8 9 8 1 2 9 8 8 1 8 2 7 6 6 8 7 1 1// 6 3 8 5 0 3 0 6 9 0 9 3 5 2 6 8 1 3 3 3 5 1 4 9 8 2 7 8 4 3 1 4 7 2 9 4 2// 4 6 3 7 9 7 8 5 9 0 3 1 9 8 7 2 4 5 1 1 8 2 9 3...\n",
      "\n"
     ]
    },
    {
     "name": "stdout",
     "output_type": "stream",
     "text": [
      "restarts:[25], max_iters:[1000], current_restart:[14]\n",
      "runner_name:[rhc], experiment_name:[knapsack], attempt:[606], iteration:[1000], done:[True], time:[16.99], fitness:[20514.0000]\n",
      "\t[9 5 5 2 3 9 3 9 4 0 5 7 9 9 6 8 5 6 5 8 9 8 1 2 9 8 8 9 8 3 7 6 6 8 7 3 1// 6 5 8 8 8 7 0 9 9 1 9 4 7 8 8 8 6 7 6 3 5 1 4 9 8 2 7 8 4 4 8 4 7 2 9 8 2// 8 6 3 8 9 7 8 5 9 4 4 1 9 8 7 2 4 5 1 8 8 2 9 3...\n",
      "\n",
      "restarts:[25], max_iters:[1000], current_restart:[15]\n",
      "runner_name:[rhc], experiment_name:[knapsack], attempt:[0], iteration:[0], done:[False], time:[17.41], fitness:[14751.0000]\n",
      "\t[3 2 8 2 8 7 2 9 5 9 6 0 4 1 6 2 5 5 7 1 3 5 2 7 4 5 1 9 7 7 5 9 6 1 1 8 3// 2 4 3 4 0 6 0 6 0 7 8 7 7 7 9 5 7 2 4 0 8 0 4 7 6 6 4 8 4 4 3 6 2 2 9 4 7// 9 3 2 9 4 7 3 3 2 0 9 4 5 5 1 4 5 2 6 2 0 7 8 6...\n",
      "\n",
      "restarts:[25], max_iters:[1000], current_restart:[15]\n",
      "runner_name:[rhc], experiment_name:[knapsack], attempt:[1], iteration:[100], done:[False], time:[17.50], fitness:[18925.0000]\n",
      "\t[5 9 9 5 8 7 2 9 5 9 6 0 4 1 6 2 9 5 7 1 6 5 9 7 7 5 5 9 7 7 5 9 6 1 1 8 7// 3 4 9 8 0 8 0 6 8 7 8 7 9 7 9 5 7 2 4 0 9 0 4 9 8 6 5 8 4 4 3 8 6 2 9 7 8// 9 3 2 9 4 7 8 3 7 3 9 7 5 8 2 4 5 3 6 7 3 7 8 6...\n",
      "\n",
      "restarts:[25], max_iters:[1000], current_restart:[15]\n",
      "runner_name:[rhc], experiment_name:[knapsack], attempt:[879], iteration:[1000], done:[True], time:[18.72], fitness:[20145.0000]\n",
      "\t[5 9 9 5 8 7 2 9 5 9 6 2 4 1 6 2 9 5 7 1 6 5 9 7 7 5 5 9 7 7 5 9 6 1 1 8 7// 3 4 9 8 0 8 0 6 8 7 8 7 9 7 9 5 7 2 4 0 9 0 4 9 8 6 5 8 4 4 3 8 6 2 9 7 8// 9 3 2 9 4 7 8 3 7 3 9 7 5 8 5 4 5 6 6 7 3 7 8 6...\n",
      "\n",
      "restarts:[25], max_iters:[1000], current_restart:[16]\n",
      "runner_name:[rhc], experiment_name:[knapsack], attempt:[0], iteration:[0], done:[False], time:[19.09], fitness:[15506.0000]\n",
      "\t[4 9 4 1 7 7 3 6 4 1 9 7 6 8 4 9 4 1 7 2 4 7 6 9 0 3 1 7 8 6 6 8 8 7 2 3 2// 4 0 6 7 0 8 6 2 6 3 1 4 9 8 9 0 0 2 3 2 0 7 5 4 1 9 3 7 6 1 8 0 3 8 8 0 8// 2 1 3 5 0 7 2 9 5 3 5 5 1 1 8 4 0 0 4 3 7 5 9 0...\n",
      "\n",
      "restarts:[25], max_iters:[1000], current_restart:[16]\n",
      "runner_name:[rhc], experiment_name:[knapsack], attempt:[1], iteration:[100], done:[False], time:[19.18], fitness:[20404.0000]\n",
      "\t[4 9 4 8 7 7 6 6 9 9 9 7 6 8 8 9 8 1 7 6 4 7 6 9 6 9 7 9 8 6 6 8 8 7 2 4 2// 8 1 8 7 6 8 6 5 6 7 1 4 9 8 9 0 0 8 3 2 0 7 5 5 1 9 8 7 6 1 8 0 7 8 8 0 8// 2 7 3 5 8 8 2 9 7 3 5 5 8 6 8 4 6 9 5 3 8 5 9 0...\n",
      "\n",
      "restarts:[25], max_iters:[1000], current_restart:[16]\n",
      "runner_name:[rhc], experiment_name:[knapsack], attempt:[886], iteration:[1000], done:[True], time:[20.77], fitness:[21095.0000]\n",
      "\t[4 9 4 8 7 7 6 6 9 9 9 7 6 8 8 9 8 7 7 6 4 7 6 9 6 9 7 9 8 6 6 8 8 7 2 4 2// 8 1 8 8 6 8 6 5 6 7 1 4 9 8 9 0 0 8 3 2 0 7 9 5 1 9 8 7 6 1 8 0 7 8 8 0 8// 2 7 3 5 8 8 2 9 7 3 5 5 8 9 8 4 6 9 5 3 8 5 9 0...\n",
      "\n",
      "restarts:[25], max_iters:[1000], current_restart:[17]\n",
      "runner_name:[rhc], experiment_name:[knapsack], attempt:[0], iteration:[0], done:[False], time:[21.26], fitness:[15237.0000]\n",
      "\t[9 4 0 4 9 6 6 9 6 4 4 4 8 8 7 4 9 1 9 3 0 4 3 4 1 6 3 6 4 3 3 8 4 0 5 7 8// 4 9 3 8 3 2 5 1 8 6 1 2 7 5 3 7 0 3 1 0 4 5 1 2 9 7 8 4 3 1 5 3 1 1 9 9 7// 4 2 5 0 9 3 0 8 4 8 3 3 1 2 6 8 9 4 9 9 7 1 6 3...\n",
      "\n",
      "restarts:[25], max_iters:[1000], current_restart:[17]\n",
      "runner_name:[rhc], experiment_name:[knapsack], attempt:[2], iteration:[100], done:[False], time:[21.39], fitness:[18481.0000]\n",
      "\t[9 4 2 4 9 6 6 9 6 4 4 8 8 8 7 4 9 1 9 9 2 4 9 4 3 6 3 6 7 3 3 8 8 0 5 7 9// 9 9 3 8 5 2 5 1 8 6 9 2 7 5 3 7 4 3 3 0 4 5 1 2 9 7 8 5 8 1 5 3 1 8 9 9 7// 4 2 5 8 9 7 8 8 4 8 5 7 7 9 6 8 9 4 9 9 7 1 7 3...\n",
      "\n",
      "restarts:[25], max_iters:[1000], current_restart:[17]\n",
      "runner_name:[rhc], experiment_name:[knapsack], attempt:[643], iteration:[1000], done:[True], time:[22.76], fitness:[19578.0000]\n",
      "\t[9 4 2 4 9 6 7 9 6 4 4 8 8 8 9 4 9 1 9 9 4 4 9 4 3 6 3 6 7 3 3 8 8 0 5 7 9// 9 9 3 8 5 2 5 1 8 8 9 2 7 5 3 7 4 3 8 0 4 5 1 2 9 7 8 5 8 1 5 3 1 8 9 9 7// 4 7 5 8 9 7 8 8 4 8 5 7 7 9 6 8 9 4 9 9 7 1 7 3...\n",
      "\n",
      "restarts:[25], max_iters:[1000], current_restart:[18]\n",
      "runner_name:[rhc], experiment_name:[knapsack], attempt:[0], iteration:[0], done:[False], time:[23.25], fitness:[15290.0000]\n",
      "\t[6 9 5 0 7 2 7 6 5 9 0 0 3 1 8 6 6 1 7 9 5 0 8 5 2 9 9 8 7 8 4 4 3 9 6 2 8// 7 1 6 5 5 9 1 2 1 8 2 1 0 6 4 5 6 1 2 0 1 5 7 0 4 3 2 4 2 6 9 9 1 9 9 7 9// 2 1 1 0 9 8 3 6 1 2 8 6 8 2 8 0 0 0 7 4 2 8 7 8...\n",
      "\n",
      "restarts:[25], max_iters:[1000], current_restart:[18]\n",
      "runner_name:[rhc], experiment_name:[knapsack], attempt:[5], iteration:[100], done:[False], time:[23.37], fitness:[19571.0000]\n",
      "\t[6 9 5 0 7 7 9 9 5 9 0 2 8 7 8 6 6 1 7 9 5 0 8 5 6 9 9 8 7 8 5 6 3 9 6 9 8// 7 7 6 6 5 9 1 2 1 8 2 7 0 6 6 5 6 6 9 0 2 5 7 7 4 3 2 4 2 6 9 9 6 9 9 7 9// 2 6 8 0 9 8 6 6 1 2 8 6 8 5 8 4 0 0 7 4 2 8 7 8...\n",
      "\n",
      "restarts:[25], max_iters:[1000], current_restart:[18]\n",
      "runner_name:[rhc], experiment_name:[knapsack], attempt:[697], iteration:[1000], done:[True], time:[25.12], fitness:[21132.0000]\n",
      "\t[6 9 8 0 8 7 9 9 7 9 0 6 8 7 8 6 6 1 7 9 5 0 8 5 8 9 9 8 7 8 5 6 3 9 9 9 8// 7 7 6 6 5 9 1 4 4 8 8 7 0 6 6 5 6 6 9 0 8 5 7 7 4 5 2 4 2 6 9 9 6 9 9 7 9// 6 6 8 0 9 8 6 6 1 2 8 6 8 5 8 4 0 0 7 4 6 8 7 8...\n",
      "\n",
      "restarts:[25], max_iters:[1000], current_restart:[19]\n",
      "runner_name:[rhc], experiment_name:[knapsack], attempt:[0], iteration:[0], done:[False], time:[25.56], fitness:[13328.0000]\n",
      "\t[0 6 0 3 0 7 9 7 4 4 9 9 7 0 1 2 6 9 0 0 0 0 0 1 9 6 6 6 0 3 5 2 4 1 1 0 5// 1 2 3 0 3 1 1 8 3 3 2 7 3 5 5 0 1 5 2 6 6 8 5 2 6 6 9 9 3 9 1 8 0 5 3 2 6// 1 1 9 7 5 7 6 4 9 5 4 7 2 0 7 4 3 4 1 1 2 2 2 1...\n",
      "\n",
      "restarts:[25], max_iters:[1000], current_restart:[19]\n",
      "runner_name:[rhc], experiment_name:[knapsack], attempt:[1], iteration:[100], done:[False], time:[25.68], fitness:[19072.0000]\n",
      "\t[9 9 6 3 0 7 9 7 8 4 9 9 8 0 4 2 6 9 4 0 7 0 5 1 9 6 6 6 5 3 5 2 4 7 8 0 5// 9 6 3 0 3 9 1 8 7 3 8 7 3 7 7 3 1 5 6 6 6 8 9 2 6 6 9 9 9 9 4 8 0 5 6 2 6// 1 7 9 7 9 7 6 4 9 5 4 7 2 0 7 4 3 9 9 3 2 8 2 7...\n",
      "\n",
      "restarts:[25], max_iters:[1000], current_restart:[19]\n",
      "runner_name:[rhc], experiment_name:[knapsack], attempt:[701], iteration:[1000], done:[True], time:[27.33], fitness:[21880.0000]\n",
      "\t[9 9 6 8 0 7 9 7 8 4 9 9 8 0 4 7 9 9 4 8 9 0 5 4 9 6 6 8 5 4 5 2 4 7 8 1 5// 9 9 5 0 3 9 1 8 8 8 8 7 3 9 7 3 1 8 6 6 6 8 9 2 6 6 9 9 9 9 4 8 0 5 6 9 6// 8 7 9 7 9 7 6 8 9 6 6 8 4 8 8 9 9 9 9 4 5 8 4 7...\n",
      "\n",
      "restarts:[25], max_iters:[1000], current_restart:[20]\n",
      "runner_name:[rhc], experiment_name:[knapsack], attempt:[0], iteration:[0], done:[False], time:[27.79], fitness:[14703.0000]\n",
      "\t[2 9 2 4 3 3 6 8 4 0 8 8 8 8 4 6 5 1 8 5 0 6 2 3 5 2 7 4 1 7 9 5 9 2 2 0 7// 3 5 3 8 1 1 0 2 3 0 1 5 2 2 9 1 8 1 7 6 8 0 3 1 5 0 9 1 7 7 0 4 1 4 0 4 1// 2 3 7 5 8 8 2 3 1 8 6 3 6 3 5 9 9 8 6 2 2 2 5 0...\n",
      "\n",
      "restarts:[25], max_iters:[1000], current_restart:[20]\n",
      "runner_name:[rhc], experiment_name:[knapsack], attempt:[2], iteration:[100], done:[False], time:[27.93], fitness:[19095.0000]\n",
      "\t[2 9 8 4 3 3 6 8 4 4 8 8 8 8 4 6 5 4 8 7 3 6 2 4 6 5 7 4 1 7 9 8 9 2 3 0 7// 3 5 5 8 1 8 0 2 6 9 1 5 2 7 9 1 8 9 7 9 8 3 3 5 6 0 9 1 8 7 7 4 6 8 8 9 7// 6 7 7 7 8 8 2 3 1 8 6 3 9 5 5 9 9 8 6 2 9 2 5 0...\n",
      "\n",
      "restarts:[25], max_iters:[1000], current_restart:[20]\n",
      "runner_name:[rhc], experiment_name:[knapsack], attempt:[145], iteration:[1000], done:[True], time:[29.56], fitness:[20113.0000]\n",
      "\t[2 9 8 4 3 3 6 8 4 4 8 8 8 8 4 6 5 4 8 7 3 6 2 4 8 5 7 4 1 7 9 8 9 2 3 1 7// 4 5 5 8 1 8 4 2 6 9 6 5 2 7 9 1 8 9 7 9 9 3 9 5 9 1 9 5 8 7 7 4 6 8 8 9 7// 6 7 7 7 8 8 2 3 1 8 6 3 9 5 7 9 9 8 6 2 9 3 5 0...\n",
      "\n",
      "restarts:[25], max_iters:[1000], current_restart:[21]\n",
      "runner_name:[rhc], experiment_name:[knapsack], attempt:[0], iteration:[0], done:[False], time:[29.96], fitness:[15072.0000]\n",
      "\t[1 0 7 5 8 5 5 9 2 7 4 5 1 5 2 5 1 3 2 2 6 9 1 4 9 7 9 8 3 2 3 1 1 5 7 5 6// 2 5 7 1 7 4 5 4 6 9 7 9 8 6 6 6 8 9 2 5 6 1 8 1 0 2 9 4 4 7 2 5 8 0 0 1 1// 2 5 1 2 4 9 3 6 6 2 7 9 7 0 0 0 0 4 6 1 0 4 7 4...\n",
      "\n",
      "restarts:[25], max_iters:[1000], current_restart:[21]\n",
      "runner_name:[rhc], experiment_name:[knapsack], attempt:[1], iteration:[100], done:[False], time:[30.10], fitness:[18639.0000]\n",
      "\t[1 2 7 5 8 8 8 9 2 8 4 5 8 5 7 7 1 8 8 9 6 9 5 4 9 7 9 8 3 7 9 1 1 5 7 5 6// 2 5 7 2 7 4 5 4 6 9 9 9 8 6 6 6 8 9 2 5 7 7 8 8 3 8 9 4 4 7 4 5 8 0 0 8 4// 2 5 8 5 4 9 3 6 6 2 7 9 7 0 0 0 5 4 6 1 5 4 7 4...\n",
      "\n",
      "restarts:[25], max_iters:[1000], current_restart:[21]\n",
      "runner_name:[rhc], experiment_name:[knapsack], attempt:[664], iteration:[1000], done:[True], time:[31.78], fitness:[20695.0000]\n",
      "\t[1 2 7 5 8 8 8 9 8 8 4 5 8 5 8 7 2 8 8 9 6 9 5 9 9 7 9 8 4 7 9 1 7 8 9 8 6// 2 7 7 2 7 4 5 9 8 9 9 9 8 6 6 6 8 9 2 5 7 8 8 8 3 8 9 4 4 7 4 5 8 0 0 8 9// 2 5 8 5 5 9 8 6 6 7 7 9 7 0 2 0 9 4 8 1 5 4 7 5...\n",
      "\n"
     ]
    },
    {
     "name": "stdout",
     "output_type": "stream",
     "text": [
      "restarts:[25], max_iters:[1000], current_restart:[22]\n",
      "runner_name:[rhc], experiment_name:[knapsack], attempt:[0], iteration:[0], done:[False], time:[32.23], fitness:[14709.0000]\n",
      "\t[7 1 6 3 7 3 3 2 7 7 0 8 3 3 6 3 5 0 2 0 4 2 1 3 4 6 3 7 6 4 1 5 5 8 4 6 1// 7 1 2 1 9 9 5 3 9 3 6 7 6 4 7 3 9 8 3 4 3 3 5 3 7 9 4 2 6 2 4 9 1 6 8 4 0// 7 3 4 1 5 8 9 6 5 1 0 8 7 2 2 9 0 3 0 0 7 5 6 2...\n",
      "\n",
      "restarts:[25], max_iters:[1000], current_restart:[22]\n",
      "runner_name:[rhc], experiment_name:[knapsack], attempt:[2], iteration:[100], done:[False], time:[32.43], fitness:[18780.0000]\n",
      "\t[7 1 7 3 8 9 4 5 8 7 0 8 4 3 6 5 7 8 2 0 4 2 5 3 4 6 9 7 7 6 7 5 5 8 4 6 2// 7 1 2 1 9 9 6 3 9 9 6 7 6 5 7 3 9 8 8 4 3 3 5 3 7 9 4 2 9 2 4 9 1 6 8 6 6// 7 7 4 9 5 8 9 8 5 9 0 8 7 2 2 9 0 3 1 0 7 5 6 2...\n",
      "\n",
      "restarts:[25], max_iters:[1000], current_restart:[22]\n",
      "runner_name:[rhc], experiment_name:[knapsack], attempt:[787], iteration:[1000], done:[True], time:[34.44], fitness:[20802.0000]\n",
      "\t[7 1 7 5 8 9 4 5 8 7 8 8 4 3 9 5 7 8 7 5 4 5 9 3 7 6 9 7 7 6 7 5 5 8 4 6 2// 7 1 6 1 9 9 6 3 9 9 8 7 6 5 7 3 9 9 8 4 3 8 5 7 9 9 4 3 9 2 4 9 1 6 8 6 6// 7 7 4 9 5 8 9 8 5 9 2 9 7 2 2 9 7 3 1 0 7 7 6 2...\n",
      "\n",
      "restarts:[25], max_iters:[1000], current_restart:[23]\n",
      "runner_name:[rhc], experiment_name:[knapsack], attempt:[0], iteration:[0], done:[False], time:[34.92], fitness:[16366.0000]\n",
      "\t[3 0 6 6 8 5 9 5 5 6 3 4 2 9 5 1 6 8 7 8 4 5 6 6 3 9 4 3 7 6 0 8 6 3 1 3 9// 2 5 5 6 3 3 3 7 3 9 8 6 4 1 3 4 2 1 2 2 7 9 6 5 9 0 9 8 7 9 8 3 0 0 2 8 4// 5 0 9 7 5 6 5 1 8 0 6 0 4 6 6 8 0 9 3 7 7 0 6 6...\n",
      "\n",
      "restarts:[25], max_iters:[1000], current_restart:[23]\n",
      "runner_name:[rhc], experiment_name:[knapsack], attempt:[2], iteration:[100], done:[False], time:[35.07], fitness:[19142.0000]\n",
      "\t[3 0 6 9 8 5 9 9 5 6 3 4 2 9 5 4 9 8 7 8 8 5 8 6 6 9 4 3 7 6 0 8 9 3 1 9 9// 4 5 8 6 3 5 3 7 6 9 8 6 8 1 3 9 2 1 6 9 7 9 6 5 9 4 9 8 7 9 8 3 0 0 2 8 7// 6 0 9 7 5 6 5 1 8 0 6 1 4 6 6 8 3 9 5 7 7 8 6 7...\n",
      "\n",
      "restarts:[25], max_iters:[1000], current_restart:[23]\n",
      "runner_name:[rhc], experiment_name:[knapsack], attempt:[427], iteration:[1000], done:[True], time:[36.87], fitness:[20367.0000]\n",
      "\t[3 0 6 9 8 6 9 9 5 6 3 4 4 9 5 4 9 8 7 8 8 5 8 6 6 9 4 3 7 6 0 8 9 4 1 9 9// 4 5 8 9 3 9 3 7 6 9 9 6 9 1 3 9 2 9 6 9 7 9 6 5 9 4 9 8 7 9 8 3 0 4 2 8 7// 6 0 9 8 5 6 5 9 8 0 6 1 4 6 6 8 3 9 5 7 7 8 6 7...\n",
      "\n",
      "restarts:[25], max_iters:[1000], current_restart:[24]\n",
      "runner_name:[rhc], experiment_name:[knapsack], attempt:[0], iteration:[0], done:[False], time:[37.34], fitness:[15603.0000]\n",
      "\t[9 6 5 8 5 6 0 7 5 5 8 6 8 0 8 9 3 6 8 0 5 9 2 9 7 9 0 0 4 8 8 0 0 2 6 5 9// 1 1 6 1 2 8 3 0 4 5 5 5 5 8 1 1 6 2 4 9 6 3 0 9 6 4 3 5 3 6 5 6 3 5 6 9 0// 4 0 7 2 6 2 9 4 8 2 2 0 1 6 1 3 3 4 5 9 4 3 7 1...\n",
      "\n",
      "restarts:[25], max_iters:[1000], current_restart:[24]\n",
      "runner_name:[rhc], experiment_name:[knapsack], attempt:[2], iteration:[100], done:[False], time:[37.49], fitness:[19149.0000]\n",
      "\t[9 8 9 8 9 6 5 7 7 5 8 6 8 0 8 9 3 6 8 0 8 9 2 9 7 9 6 0 8 8 8 0 0 5 6 5 9// 9 8 7 9 2 8 4 0 8 5 8 7 5 8 5 3 6 2 4 9 6 3 0 9 6 4 8 5 3 6 5 6 3 9 6 9 0// 4 0 9 7 6 2 9 5 8 2 2 6 1 6 3 3 8 4 5 9 8 3 7 6...\n",
      "\n",
      "restarts:[25], max_iters:[1000], current_restart:[24]\n",
      "runner_name:[rhc], experiment_name:[knapsack], attempt:[436], iteration:[1000], done:[True], time:[40.25], fitness:[21225.0000]\n",
      "\t[9 8 9 9 9 6 5 7 7 7 8 6 8 0 8 9 3 6 8 0 8 9 2 9 7 9 6 2 8 8 8 7 0 7 6 5 9// 9 8 7 9 8 8 4 8 8 5 9 7 9 8 5 9 6 2 4 9 6 3 1 9 6 4 8 5 6 7 5 6 3 9 6 9 9// 4 0 9 7 6 3 9 5 8 2 2 6 1 6 8 3 8 4 5 9 8 3 7 9...\n",
      "\n",
      "restarts:[25], max_iters:[1000], current_restart:[25]\n",
      "runner_name:[rhc], experiment_name:[knapsack], attempt:[0], iteration:[0], done:[False], time:[40.94], fitness:[14474.0000]\n",
      "\t[3 8 9 7 2 4 5 6 5 4 0 7 9 6 0 8 3 3 6 6 2 3 6 8 4 6 6 0 1 4 9 8 0 0 7 9 4// 3 7 7 8 3 0 2 9 5 2 5 0 3 5 2 0 4 0 9 2 0 5 8 4 5 3 3 5 5 4 0 6 3 4 0 5 0// 8 4 9 3 0 7 2 3 1 7 8 4 2 4 0 2 4 0 7 5 4 9 8 2...\n",
      "\n",
      "restarts:[25], max_iters:[1000], current_restart:[25]\n",
      "runner_name:[rhc], experiment_name:[knapsack], attempt:[5], iteration:[100], done:[False], time:[41.14], fitness:[17659.0000]\n",
      "\t[3 8 9 7 5 4 5 6 5 4 0 7 9 6 1 8 3 3 6 7 2 7 6 8 4 6 6 7 6 4 9 8 8 5 7 9 8// 3 7 7 8 3 5 4 9 5 2 5 8 3 5 2 0 4 0 9 8 1 5 9 4 5 9 3 9 5 4 0 7 3 9 0 6 0// 8 4 9 5 7 7 9 4 1 7 8 4 2 4 0 2 4 3 7 5 4 9 8 2...\n",
      "\n",
      "restarts:[25], max_iters:[1000], current_restart:[25]\n",
      "runner_name:[rhc], experiment_name:[knapsack], attempt:[182], iteration:[1000], done:[True], time:[44.49], fitness:[20639.0000]\n",
      "\t[8 8 9 7 5 9 5 7 6 6 6 8 9 6 8 9 6 3 6 7 2 7 9 8 4 8 6 7 9 7 9 8 9 5 7 9 8// 3 7 7 8 3 5 9 9 5 2 9 8 3 8 8 0 8 0 9 8 1 5 9 4 5 9 3 9 5 6 8 9 3 9 0 6 0// 9 4 9 5 7 7 9 7 1 7 8 4 2 6 1 2 4 3 7 5 4 9 8 2...\n",
      "\n",
      "***************\n",
      "*** Run END ***\n",
      "***************\n",
      "Run time: 64.45836300000002\n",
      "Saving: [output\\knapsack\\rhc__knapsack__run_stats_df.csv]\n",
      "Saving: [output\\knapsack\\rhc__knapsack__curves_df.csv]\n"
     ]
    }
   ],
   "source": [
    "from mlrose_hiive.runners import RHCRunner\n",
    "\n",
    "experiment_name = 'knapsack'\n",
    "\n",
    "rhc = RHCRunner(problem=problem_cust,\n",
    "                experiment_name=experiment_name,\n",
    "                output_directory=OUTPUT_DIRECTORY,\n",
    "                seed=SEED,\n",
    "                iteration_list=[0,100,1000],\n",
    "                max_attempts=1000,\n",
    "                restart_list=[0,5,15,25])\n",
    "\n",
    "df_run_stats, df_run_curves = rhc.run()  "
   ]
  },
  {
   "cell_type": "code",
   "execution_count": 18,
   "metadata": {},
   "outputs": [
    {
     "data": {
      "text/html": [
       "<div>\n",
       "<style scoped>\n",
       "    .dataframe tbody tr th:only-of-type {\n",
       "        vertical-align: middle;\n",
       "    }\n",
       "\n",
       "    .dataframe tbody tr th {\n",
       "        vertical-align: top;\n",
       "    }\n",
       "\n",
       "    .dataframe thead th {\n",
       "        text-align: right;\n",
       "    }\n",
       "</style>\n",
       "<table border=\"1\" class=\"dataframe\">\n",
       "  <thead>\n",
       "    <tr style=\"text-align: right;\">\n",
       "      <th></th>\n",
       "      <th>Time</th>\n",
       "      <th>Fitness</th>\n",
       "    </tr>\n",
       "    <tr>\n",
       "      <th>Restarts</th>\n",
       "      <th></th>\n",
       "      <th></th>\n",
       "    </tr>\n",
       "  </thead>\n",
       "  <tbody>\n",
       "    <tr>\n",
       "      <td>0</td>\n",
       "      <td>0.680008</td>\n",
       "      <td>56783.0</td>\n",
       "    </tr>\n",
       "    <tr>\n",
       "      <td>5</td>\n",
       "      <td>13.609685</td>\n",
       "      <td>338735.0</td>\n",
       "    </tr>\n",
       "    <tr>\n",
       "      <td>15</td>\n",
       "      <td>284.605949</td>\n",
       "      <td>895185.0</td>\n",
       "    </tr>\n",
       "    <tr>\n",
       "      <td>25</td>\n",
       "      <td>1269.964983</td>\n",
       "      <td>1442991.0</td>\n",
       "    </tr>\n",
       "  </tbody>\n",
       "</table>\n",
       "</div>"
      ],
      "text/plain": [
       "                 Time    Fitness\n",
       "Restarts                        \n",
       "0            0.680008    56783.0\n",
       "5           13.609685   338735.0\n",
       "15         284.605949   895185.0\n",
       "25        1269.964983  1442991.0"
      ]
     },
     "execution_count": 18,
     "metadata": {},
     "output_type": "execute_result"
    }
   ],
   "source": [
    "df_run_stats.groupby(['Restarts'])['Time','Fitness'].sum()"
   ]
  },
  {
   "cell_type": "code",
   "execution_count": 37,
   "metadata": {},
   "outputs": [],
   "source": [
    "evaluations = []\n",
    "best_state, best_fitness, fitness_curve_rhc,time_curve_rhc,all_time = mlrose_hiive.random_hill_climb(problem_cust, \n",
    "                                                                            max_attempts=100, max_iters=np.inf, restarts=25,\n",
    "                      curve=True, random_state = 1)"
   ]
  },
  {
   "cell_type": "code",
   "execution_count": 38,
   "metadata": {},
   "outputs": [
    {
     "data": {
      "text/plain": [
       "21479.0"
      ]
     },
     "execution_count": 38,
     "metadata": {},
     "output_type": "execute_result"
    }
   ],
   "source": [
    "best_fitness"
   ]
  },
  {
   "cell_type": "code",
   "execution_count": 13,
   "metadata": {
    "scrolled": true
   },
   "outputs": [
    {
     "data": {
      "text/plain": [
       "array([9, 6, 5, 7, 8, 8, 4, 7, 5, 8, 8, 0, 5, 9, 1, 1, 4, 6, 7, 8, 8, 2,\n",
       "       9, 6, 7, 8, 3, 7, 7, 8, 4, 6, 8, 8, 9, 1, 4, 7, 1, 7, 5, 4, 6, 7,\n",
       "       6, 8, 2, 9, 7, 5, 5, 7, 5, 2, 9, 8, 7, 6, 5, 5, 1, 9, 9, 3, 6, 8,\n",
       "       3, 9, 9, 5, 6, 9, 5, 4, 8, 9, 6, 9, 8, 8, 8, 8, 9, 7, 1, 2, 7, 2,\n",
       "       1, 6, 6, 3, 2, 7, 5, 3, 9, 7, 7, 7, 6, 9, 9, 6, 5, 4, 2, 6, 9, 8,\n",
       "       5, 8, 9, 8, 9, 8, 5, 5, 0, 7, 4, 7, 9, 8, 0, 6, 9, 8, 4, 9, 1, 8,\n",
       "       5, 6, 9, 2, 9, 3, 9, 9])"
      ]
     },
     "execution_count": 13,
     "metadata": {},
     "output_type": "execute_result"
    }
   ],
   "source": [
    "best_state"
   ]
  },
  {
   "cell_type": "code",
   "execution_count": 14,
   "metadata": {},
   "outputs": [
    {
     "data": {
      "text/plain": [
       "[<matplotlib.lines.Line2D at 0x1df1cc7cac8>]"
      ]
     },
     "execution_count": 14,
     "metadata": {},
     "output_type": "execute_result"
    },
    {
     "data": {
      "image/png": "[encoded data removed]",
      "text/plain": [
       "<Figure size 432x288 with 1 Axes>"
      ]
     },
     "metadata": {
      "needs_background": "light"
     },
     "output_type": "display_data"
    }
   ],
   "source": [
    "plt.plot(fitness_curve_rhc)"
   ]
  },
  {
   "cell_type": "code",
   "execution_count": 13,
   "metadata": {},
   "outputs": [
    {
     "data": {
      "text/plain": [
       "[<matplotlib.lines.Line2D at 0x1bad6440208>]"
      ]
     },
     "execution_count": 13,
     "metadata": {},
     "output_type": "execute_result"
    },
    {
     "data": {
      "image/png": "[encoded data removed]",
      "text/plain": [
       "<Figure size 432x288 with 1 Axes>"
      ]
     },
     "metadata": {
      "needs_background": "light"
     },
     "output_type": "display_data"
    }
   ],
   "source": [
    "plt.plot(all_time)"
   ]
  },
  {
   "cell_type": "code",
   "execution_count": 14,
   "metadata": {},
   "outputs": [
    {
     "data": {
      "text/plain": [
       "[<matplotlib.lines.Line2D at 0x1bad7e10ec8>]"
      ]
     },
     "execution_count": 14,
     "metadata": {},
     "output_type": "execute_result"
    },
    {
     "data": {
      "image/png": "[encoded data removed]",
      "text/plain": [
       "<Figure size 432x288 with 1 Axes>"
      ]
     },
     "metadata": {
      "needs_background": "light"
     },
     "output_type": "display_data"
    }
   ],
   "source": [
    "plt.plot(time_curve_rhc)"
   ]
  },
  {
   "cell_type": "code",
   "execution_count": 18,
   "metadata": {},
   "outputs": [
    {
     "data": {
      "text/plain": [
       "array([0.        , 0.        , 0.        , 0.        , 0.        ,\n",
       "       0.        , 0.        , 0.        , 0.        , 0.        ,\n",
       "       0.        , 0.        , 0.        , 0.        , 0.00100017,\n",
       "       0.00100017, 0.00100017, 0.00100017, 0.00100017, 0.00100017,\n",
       "       0.00100017, 0.00100017, 0.00100017, 0.00100017, 0.00100017,\n",
       "       0.00100017, 0.00100017, 0.00100017, 0.00100017, 0.00100017,\n",
       "       0.00100017, 0.00100017, 0.00200009, 0.00200009, 0.00200009,\n",
       "       0.00200009, 0.00200009, 0.00200009, 0.00200009, 0.00200009,\n",
       "       0.00200009, 0.00200009, 0.00200009, 0.00200009, 0.00200009,\n",
       "       0.00200009, 0.00300241, 0.00300241, 0.00300241, 0.00300241])"
      ]
     },
     "execution_count": 18,
     "metadata": {},
     "output_type": "execute_result"
    }
   ],
   "source": [
    "time_curve_rhc[:50]"
   ]
  },
  {
   "cell_type": "code",
   "execution_count": 19,
   "metadata": {},
   "outputs": [
    {
     "data": {
      "text/plain": [
       "array([16500., 16500., 16500., 16570., 16588., 16693., 16698., 16708.,\n",
       "       16710., 16710., 16858., 16858., 16858., 16865., 17095., 17124.,\n",
       "       17324., 17324., 17404., 17406., 17451., 17451., 17451., 17526.,\n",
       "       17526., 17526., 17526., 17526., 17566., 17734., 17827., 17827.,\n",
       "       17827., 17827., 17977., 18289., 18289., 18289., 18289., 18289.,\n",
       "       18377., 18425., 18425., 18425., 18425., 18677., 18677., 18677.,\n",
       "       18683., 18683.])"
      ]
     },
     "execution_count": 19,
     "metadata": {},
     "output_type": "execute_result"
    }
   ],
   "source": [
    "fitness_curve_rhc[:50]"
   ]
  },
  {
   "cell_type": "code",
   "execution_count": 39,
   "metadata": {
    "scrolled": false
   },
   "outputs": [
    {
     "data": {
      "image/png": "[encoded data removed]",
      "text/plain": [
       "<Figure size 432x288 with 1 Axes>"
      ]
     },
     "metadata": {
      "needs_background": "light"
     },
     "output_type": "display_data"
    }
   ],
   "source": [
    "plt.plot(evaluations)\n",
    "evaluations_rhc = evaluations.copy()\n",
    "evaluations = []"
   ]
  },
  {
   "cell_type": "markdown",
   "metadata": {},
   "source": [
    "### SA"
   ]
  },
  {
   "cell_type": "code",
   "execution_count": null,
   "metadata": {},
   "outputs": [],
   "source": []
  },
  {
   "cell_type": "code",
   "execution_count": 23,
   "metadata": {},
   "outputs": [
    {
     "name": "stdout",
     "output_type": "stream",
     "text": [
      "Running sa\n",
      "*****************\n",
      "*** Run START ***\n",
      "*****************\n",
      "schedule:[1], max_iters:[1000]\n",
      "runner_name:[sa], experiment_name:[knapsack], attempt:[0], iteration:[0], done:[False], time:[0.00], fitness:[16173.0000]\n",
      "\t[5 8 9 5 0 0 1 7 6 9 2 4 5 2 4 2 4 7 7 9 1 7 0 6 9 9 7 6 9 1 0 1 8 8 3 9 8// 7 3 6 5 1 9 3 4 8 1 4 0 3 9 2 0 4 9 2 7 7 9 8 6 9 3 7 7 4 5 9 3 6 8 0 2 7// 7 9 7 3 0 8 7 7 1 1 3 0 8 6 4 5 6 2 5 7 8 4 4 7...\n",
      "\n",
      "schedule:[1], max_iters:[1000]\n",
      "runner_name:[sa], experiment_name:[knapsack], attempt:[1], iteration:[100], done:[False], time:[0.02], fitness:[20518.0000]\n",
      "\t[7 8 9 5 0 8 1 7 6 9 6 7 5 5 6 2 8 7 7 9 4 9 0 7 9 9 7 6 9 1 9 4 9 8 3 9 8// 7 7 7 5 1 9 3 9 8 9 4 7 3 9 5 0 5 9 2 7 7 9 8 6 9 3 7 7 4 5 9 3 6 8 0 2 7// 7 9 9 4 8 8 7 7 5 1 3 0 8 6 7 5 6 2 5 7 6 4 8 7...\n",
      "\n",
      "schedule:[1], max_iters:[1000]\n",
      "runner_name:[sa], experiment_name:[knapsack], attempt:[707], iteration:[1000], done:[True], time:[0.24], fitness:[22368.0000]\n",
      "\t[7 8 9 5 0 8 1 8 6 9 6 7 5 5 6 2 8 9 7 9 5 9 0 7 9 9 7 6 9 3 9 6 9 8 3 9 8// 7 9 7 9 1 9 3 9 8 9 8 7 3 9 5 2 5 9 2 7 7 9 8 6 9 7 7 7 4 5 9 3 7 8 8 9 7// 7 9 9 6 8 8 7 7 6 1 3 0 8 6 7 9 6 2 5 7 6 7 8 7...\n",
      "\n",
      "***************\n",
      "*** Run END ***\n",
      "***************\n",
      "*****************\n",
      "*** Run START ***\n",
      "*****************\n",
      "schedule:[10], max_iters:[1000]\n",
      "runner_name:[sa], experiment_name:[knapsack], attempt:[0], iteration:[0], done:[False], time:[0.00], fitness:[16173.0000]\n",
      "\t[5 8 9 5 0 0 1 7 6 9 2 4 5 2 4 2 4 7 7 9 1 7 0 6 9 9 7 6 9 1 0 1 8 8 3 9 8// 7 3 6 5 1 9 3 4 8 1 4 0 3 9 2 0 4 9 2 7 7 9 8 6 9 3 7 7 4 5 9 3 6 8 0 2 7// 7 9 7 3 0 8 7 7 1 1 3 0 8 6 4 5 6 2 5 7 8 4 4 7...\n",
      "\n",
      "schedule:[10], max_iters:[1000]\n",
      "runner_name:[sa], experiment_name:[knapsack], attempt:[1], iteration:[100], done:[False], time:[0.01], fitness:[20493.0000]\n",
      "\t[7 8 9 5 0 8 1 7 6 9 6 7 5 5 6 2 8 7 7 9 4 9 0 7 9 9 7 6 9 1 9 4 9 8 3 9 8// 7 7 7 5 1 9 3 9 7 9 4 7 3 9 5 0 5 9 2 7 7 9 8 6 9 3 7 7 4 5 9 3 6 8 0 2 7// 7 9 9 4 8 8 7 7 5 1 2 0 8 6 7 5 6 2 5 7 6 4 8 7...\n",
      "\n",
      "schedule:[10], max_iters:[1000]\n",
      "runner_name:[sa], experiment_name:[knapsack], attempt:[705], iteration:[1000], done:[True], time:[0.12], fitness:[22789.0000]\n",
      "\t[7 8 9 6 0 8 1 8 6 9 6 7 5 5 6 2 8 9 7 9 5 9 0 7 9 9 7 6 9 3 9 6 9 8 3 9 8// 6 9 6 9 1 9 3 9 7 9 8 7 3 9 5 2 5 9 2 7 7 9 8 6 9 7 8 7 4 5 9 3 7 8 8 9 7// 8 9 9 6 8 8 7 7 6 1 2 0 8 6 7 9 6 2 5 7 6 7 8 7...\n",
      "\n",
      "***************\n",
      "*** Run END ***\n",
      "***************\n",
      "*****************\n",
      "*** Run START ***\n",
      "*****************\n",
      "schedule:[50], max_iters:[1000]\n",
      "runner_name:[sa], experiment_name:[knapsack], attempt:[0], iteration:[0], done:[False], time:[0.00], fitness:[16173.0000]\n",
      "\t[5 8 9 5 0 0 1 7 6 9 2 4 5 2 4 2 4 7 7 9 1 7 0 6 9 9 7 6 9 1 0 1 8 8 3 9 8// 7 3 6 5 1 9 3 4 8 1 4 0 3 9 2 0 4 9 2 7 7 9 8 6 9 3 7 7 4 5 9 3 6 8 0 2 7// 7 9 7 3 0 8 7 7 1 1 3 0 8 6 4 5 6 2 5 7 8 4 4 7...\n",
      "\n",
      "schedule:[50], max_iters:[1000]\n",
      "runner_name:[sa], experiment_name:[knapsack], attempt:[1], iteration:[100], done:[False], time:[0.01], fitness:[20298.0000]\n",
      "\t[7 8 9 5 0 8 1 7 6 9 6 7 5 5 6 2 8 7 7 6 4 9 0 7 9 9 7 5 9 1 9 4 9 8 3 9 8// 1 7 7 5 1 9 1 9 7 9 4 7 3 9 5 0 5 9 2 7 7 9 7 6 9 3 7 7 4 5 9 3 4 8 0 2 7// 7 9 9 4 8 8 7 7 5 1 2 0 8 6 7 5 6 2 5 7 0 4 8 7...\n",
      "\n",
      "schedule:[50], max_iters:[1000]\n",
      "runner_name:[sa], experiment_name:[knapsack], attempt:[672], iteration:[1000], done:[True], time:[0.15], fitness:[23180.0000]\n",
      "\t[7 9 9 5 0 8 1 8 6 9 9 7 5 5 6 2 8 9 7 6 5 9 0 7 9 9 7 5 9 3 9 6 9 8 3 9 5// 1 9 3 9 1 9 6 9 9 9 8 7 3 9 8 4 5 9 2 9 7 9 7 6 9 7 8 7 4 5 9 7 7 8 9 9 7// 8 9 9 6 8 8 7 7 6 1 2 0 8 6 7 9 6 2 5 7 2 7 8 7...\n",
      "\n",
      "***************\n",
      "*** Run END ***\n",
      "***************\n",
      "*****************\n",
      "*** Run START ***\n",
      "*****************\n",
      "schedule:[100], max_iters:[1000]\n",
      "runner_name:[sa], experiment_name:[knapsack], attempt:[0], iteration:[0], done:[False], time:[0.00], fitness:[16173.0000]\n",
      "\t[5 8 9 5 0 0 1 7 6 9 2 4 5 2 4 2 4 7 7 9 1 7 0 6 9 9 7 6 9 1 0 1 8 8 3 9 8// 7 3 6 5 1 9 3 4 8 1 4 0 3 9 2 0 4 9 2 7 7 9 8 6 9 3 7 7 4 5 9 3 6 8 0 2 7// 7 9 7 3 0 8 7 7 1 1 3 0 8 6 4 5 6 2 5 7 8 4 4 7...\n",
      "\n",
      "schedule:[100], max_iters:[1000]\n",
      "runner_name:[sa], experiment_name:[knapsack], attempt:[1], iteration:[100], done:[False], time:[0.01], fitness:[19792.0000]\n",
      "\t[7 8 9 5 0 8 1 7 6 9 6 7 5 5 6 2 8 7 7 6 4 9 0 7 9 9 7 5 9 1 9 4 9 8 3 9 8// 1 7 7 5 1 9 1 9 7 9 4 7 3 9 5 0 5 9 2 7 7 9 7 6 8 3 7 7 4 5 9 0 4 8 0 2 4// 7 9 9 4 8 8 7 7 5 1 2 0 8 6 7 5 6 2 5 7 0 4 8 7...\n",
      "\n",
      "schedule:[100], max_iters:[1000]\n",
      "runner_name:[sa], experiment_name:[knapsack], attempt:[492], iteration:[1000], done:[True], time:[0.20], fitness:[23131.0000]\n",
      "\t[7 9 9 3 1 8 1 8 8 9 9 7 5 5 6 2 8 9 7 6 5 9 0 7 9 9 3 3 9 3 9 8 9 7 3 9 5// 1 9 4 9 1 9 5 9 5 9 8 7 1 9 8 4 5 9 9 9 7 9 7 6 8 3 8 7 4 6 9 7 7 8 9 9 5// 8 9 9 6 8 8 5 7 6 1 2 0 8 6 7 9 6 2 5 7 0 7 8 7...\n",
      "\n",
      "***************\n",
      "*** Run END ***\n",
      "***************\n",
      "*****************\n",
      "*** Run START ***\n",
      "*****************\n",
      "schedule:[250], max_iters:[1000]\n",
      "runner_name:[sa], experiment_name:[knapsack], attempt:[0], iteration:[0], done:[False], time:[0.00], fitness:[16173.0000]\n",
      "\t[5 8 9 5 0 0 1 7 6 9 2 4 5 2 4 2 4 7 7 9 1 7 0 6 9 9 7 6 9 1 0 1 8 8 3 9 8// 7 3 6 5 1 9 3 4 8 1 4 0 3 9 2 0 4 9 2 7 7 9 8 6 9 3 7 7 4 5 9 3 6 8 0 2 7// 7 9 7 3 0 8 7 7 1 1 3 0 8 6 4 5 6 2 5 7 8 4 4 7...\n",
      "\n",
      "schedule:[250], max_iters:[1000]\n",
      "runner_name:[sa], experiment_name:[knapsack], attempt:[1], iteration:[100], done:[False], time:[0.02], fitness:[18242.0000]\n",
      "\t[7 8 2 5 0 8 0 7 6 9 6 7 5 5 6 2 8 7 7 0 4 9 0 7 2 9 9 5 8 1 9 4 1 5 3 9 8// 7 7 3 5 1 9 1 9 3 9 4 6 3 9 5 0 5 9 2 7 7 9 7 6 8 3 7 7 4 5 9 0 4 8 0 2 4// 7 3 9 1 8 8 7 5 5 0 2 0 8 6 7 5 6 2 5 7 0 4 5 5...\n",
      "\n",
      "schedule:[250], max_iters:[1000]\n",
      "runner_name:[sa], experiment_name:[knapsack], attempt:[530], iteration:[1000], done:[True], time:[0.18], fitness:[22707.0000]\n",
      "\t[7 9 2 3 1 8 0 8 9 9 9 7 5 9 5 2 8 9 7 7 9 9 0 6 5 3 9 3 8 3 9 8 6 8 7 9 5// 2 9 4 6 3 9 5 9 5 9 8 6 3 9 8 4 5 9 3 9 8 9 7 6 8 8 8 7 4 0 9 7 7 8 8 9 5// 8 3 9 6 9 8 5 5 6 0 1 3 8 7 7 9 6 2 9 9 0 3 7 7...\n",
      "\n",
      "***************\n",
      "*** Run END ***\n",
      "***************\n",
      "*****************\n",
      "*** Run START ***\n",
      "*****************\n",
      "schedule:[500], max_iters:[1000]\n",
      "runner_name:[sa], experiment_name:[knapsack], attempt:[0], iteration:[0], done:[False], time:[0.00], fitness:[16173.0000]\n",
      "\t[5 8 9 5 0 0 1 7 6 9 2 4 5 2 4 2 4 7 7 9 1 7 0 6 9 9 7 6 9 1 0 1 8 8 3 9 8// 7 3 6 5 1 9 3 4 8 1 4 0 3 9 2 0 4 9 2 7 7 9 8 6 9 3 7 7 4 5 9 3 6 8 0 2 7// 7 9 7 3 0 8 7 7 1 1 3 0 8 6 4 5 6 2 5 7 8 4 4 7...\n",
      "\n",
      "schedule:[500], max_iters:[1000]\n",
      "runner_name:[sa], experiment_name:[knapsack], attempt:[1], iteration:[100], done:[False], time:[0.02], fitness:[17463.0000]\n",
      "\t[7 8 2 5 0 8 0 7 6 9 6 7 5 5 6 2 8 7 7 0 4 9 0 7 2 9 9 5 2 1 9 4 1 5 3 9 8// 7 7 3 5 1 2 1 9 3 9 4 6 3 9 5 0 5 9 2 7 7 9 7 6 8 3 7 7 4 5 9 0 4 8 0 2 4// 7 3 9 1 8 8 7 5 5 0 2 0 4 6 7 5 6 2 5 7 0 4 5 5...\n",
      "\n",
      "schedule:[500], max_iters:[1000]\n",
      "runner_name:[sa], experiment_name:[knapsack], attempt:[543], iteration:[1000], done:[True], time:[0.16], fitness:[23095.0000]\n",
      "\t[7 9 4 3 1 8 6 2 9 9 9 7 5 9 3 3 8 9 7 7 9 9 9 6 5 4 9 3 5 3 9 8 6 8 7 9 5// 1 9 0 6 3 5 5 9 5 9 8 6 6 9 8 4 5 9 2 9 8 9 7 6 8 8 7 7 4 1 9 5 7 8 8 9 4// 8 6 9 6 9 9 5 5 0 0 1 4 8 9 5 8 9 2 9 4 0 3 7 5...\n",
      "\n",
      "***************\n",
      "*** Run END ***\n",
      "***************\n",
      "*****************\n",
      "*** Run START ***\n",
      "*****************\n",
      "schedule:[1000], max_iters:[1000]\n",
      "runner_name:[sa], experiment_name:[knapsack], attempt:[0], iteration:[0], done:[False], time:[0.00], fitness:[16173.0000]\n",
      "\t[5 8 9 5 0 0 1 7 6 9 2 4 5 2 4 2 4 7 7 9 1 7 0 6 9 9 7 6 9 1 0 1 8 8 3 9 8// 7 3 6 5 1 9 3 4 8 1 4 0 3 9 2 0 4 9 2 7 7 9 8 6 9 3 7 7 4 5 9 3 6 8 0 2 7// 7 9 7 3 0 8 7 7 1 1 3 0 8 6 4 5 6 2 5 7 8 4 4 7...\n",
      "\n",
      "schedule:[1000], max_iters:[1000]\n",
      "runner_name:[sa], experiment_name:[knapsack], attempt:[1], iteration:[100], done:[False], time:[0.01], fitness:[16894.0000]\n",
      "\t[7 8 2 5 0 7 0 7 6 9 6 7 2 5 6 2 8 7 1 0 4 9 0 7 2 9 9 5 2 1 9 4 1 5 3 9 8// 7 7 3 5 1 3 1 9 3 9 4 6 3 9 5 0 5 7 2 7 7 9 7 6 8 3 7 7 4 5 9 0 4 8 0 2 4// 2 3 9 1 8 8 7 5 5 0 2 0 4 3 7 5 6 2 5 7 0 4 5 5...\n",
      "\n",
      "schedule:[1000], max_iters:[1000]\n",
      "runner_name:[sa], experiment_name:[knapsack], attempt:[516], iteration:[1000], done:[True], time:[0.22], fitness:[22624.0000]\n",
      "\t[9 9 4 3 5 8 9 2 9 3 8 5 2 9 3 3 8 9 4 7 9 9 9 6 5 4 1 3 5 3 9 8 6 8 7 7 5// 1 8 0 7 3 5 5 9 5 9 8 6 6 9 8 8 5 9 2 9 8 8 5 6 8 8 8 7 4 5 9 5 7 8 8 9 4// 8 6 5 8 9 9 5 5 0 0 4 8 8 9 5 8 9 2 9 4 0 0 5 3...\n",
      "\n",
      "***************\n",
      "*** Run END ***\n",
      "***************\n",
      "*****************\n",
      "*** Run START ***\n",
      "*****************\n",
      "schedule:[2500], max_iters:[1000]\n",
      "runner_name:[sa], experiment_name:[knapsack], attempt:[0], iteration:[0], done:[False], time:[0.00], fitness:[16173.0000]\n",
      "\t[5 8 9 5 0 0 1 7 6 9 2 4 5 2 4 2 4 7 7 9 1 7 0 6 9 9 7 6 9 1 0 1 8 8 3 9 8// 7 3 6 5 1 9 3 4 8 1 4 0 3 9 2 0 4 9 2 7 7 9 8 6 9 3 7 7 4 5 9 3 6 8 0 2 7// 7 9 7 3 0 8 7 7 1 1 3 0 8 6 4 5 6 2 5 7 8 4 4 7...\n",
      "\n",
      "schedule:[2500], max_iters:[1000]\n",
      "runner_name:[sa], experiment_name:[knapsack], attempt:[1], iteration:[100], done:[False], time:[0.02], fitness:[16762.0000]\n",
      "\t[7 8 2 5 0 7 0 7 6 9 6 7 2 5 6 2 8 7 1 0 4 9 0 7 2 9 9 5 2 1 9 4 1 5 3 9 8// 7 7 3 5 1 3 1 9 3 9 4 6 3 9 5 0 5 7 2 7 7 9 7 6 8 3 7 7 4 5 9 0 4 8 0 2 4// 2 3 9 1 8 5 7 5 5 0 2 0 4 3 7 5 6 2 5 7 0 4 5 5...\n",
      "\n"
     ]
    },
    {
     "name": "stdout",
     "output_type": "stream",
     "text": [
      "schedule:[2500], max_iters:[1000]\n",
      "runner_name:[sa], experiment_name:[knapsack], attempt:[340], iteration:[1000], done:[True], time:[0.20], fitness:[22496.0000]\n",
      "\t[7 9 5 3 5 8 6 2 9 3 8 7 2 9 6 9 8 8 4 7 9 6 9 6 5 5 1 3 5 2 8 8 6 8 7 7 4// 0 8 0 7 5 5 3 9 5 6 2 6 6 5 8 9 0 9 8 9 8 8 8 6 8 8 8 7 9 5 9 5 7 8 8 9 8// 5 6 5 8 9 7 7 5 0 8 7 8 2 9 5 8 9 2 9 4 1 0 6 4...\n",
      "\n",
      "***************\n",
      "*** Run END ***\n",
      "***************\n",
      "*****************\n",
      "*** Run START ***\n",
      "*****************\n",
      "schedule:[5000], max_iters:[1000]\n",
      "runner_name:[sa], experiment_name:[knapsack], attempt:[0], iteration:[0], done:[False], time:[0.00], fitness:[16173.0000]\n",
      "\t[5 8 9 5 0 0 1 7 6 9 2 4 5 2 4 2 4 7 7 9 1 7 0 6 9 9 7 6 9 1 0 1 8 8 3 9 8// 7 3 6 5 1 9 3 4 8 1 4 0 3 9 2 0 4 9 2 7 7 9 8 6 9 3 7 7 4 5 9 3 6 8 0 2 7// 7 9 7 3 0 8 7 7 1 1 3 0 8 6 4 5 6 2 5 7 8 4 4 7...\n",
      "\n",
      "schedule:[5000], max_iters:[1000]\n",
      "runner_name:[sa], experiment_name:[knapsack], attempt:[1], iteration:[100], done:[False], time:[0.01], fitness:[16762.0000]\n",
      "\t[7 8 2 5 0 7 0 7 6 9 6 7 2 5 6 2 8 7 1 0 4 9 0 7 2 9 9 5 2 1 9 4 1 5 3 9 8// 7 7 3 5 1 3 1 9 3 9 4 6 3 9 5 0 5 7 2 7 7 9 7 6 8 3 7 7 4 5 9 0 4 8 0 2 4// 2 3 9 1 8 5 7 5 5 0 2 0 4 3 7 5 6 2 5 7 0 4 5 5...\n",
      "\n",
      "schedule:[5000], max_iters:[1000]\n",
      "runner_name:[sa], experiment_name:[knapsack], attempt:[151], iteration:[1000], done:[True], time:[0.19], fitness:[22250.0000]\n",
      "\t[7 9 4 3 8 9 6 5 9 4 8 7 2 9 5 9 8 9 4 7 6 6 9 6 5 6 1 3 5 2 8 8 7 2 7 7 4// 8 5 6 8 5 5 3 9 9 4 4 8 6 5 8 9 0 9 8 9 8 8 9 6 3 8 0 7 9 5 9 2 7 8 8 9 8// 5 6 5 5 9 7 7 5 6 8 7 8 2 6 7 8 9 2 9 4 1 0 6 4...\n",
      "\n",
      "***************\n",
      "*** Run END ***\n",
      "***************\n",
      "*****************\n",
      "*** Run START ***\n",
      "*****************\n",
      "schedule:[10000], max_iters:[1000]\n",
      "runner_name:[sa], experiment_name:[knapsack], attempt:[0], iteration:[0], done:[False], time:[0.00], fitness:[16173.0000]\n",
      "\t[5 8 9 5 0 0 1 7 6 9 2 4 5 2 4 2 4 7 7 9 1 7 0 6 9 9 7 6 9 1 0 1 8 8 3 9 8// 7 3 6 5 1 9 3 4 8 1 4 0 3 9 2 0 4 9 2 7 7 9 8 6 9 3 7 7 4 5 9 3 6 8 0 2 7// 7 9 7 3 0 8 7 7 1 1 3 0 8 6 4 5 6 2 5 7 8 4 4 7...\n",
      "\n",
      "schedule:[10000], max_iters:[1000]\n",
      "runner_name:[sa], experiment_name:[knapsack], attempt:[1], iteration:[100], done:[False], time:[0.01], fitness:[16762.0000]\n",
      "\t[7 8 2 5 0 7 0 7 6 9 6 7 2 5 6 2 8 7 1 0 4 9 0 7 2 9 9 5 2 1 9 4 1 5 3 9 8// 7 7 3 5 1 3 1 9 3 9 4 6 3 9 5 0 5 7 2 7 7 9 7 6 8 3 7 7 4 5 9 0 4 8 0 2 4// 2 3 9 1 8 5 7 5 5 0 2 0 4 3 7 5 6 2 5 7 0 4 5 5...\n",
      "\n",
      "schedule:[10000], max_iters:[1000]\n",
      "runner_name:[sa], experiment_name:[knapsack], attempt:[3], iteration:[1000], done:[True], time:[0.25], fitness:[21922.0000]\n",
      "\t[1 9 5 3 8 9 6 5 9 3 1 7 6 9 7 9 6 9 6 5 9 8 9 6 5 2 1 3 9 2 8 2 9 2 1 7 4// 1 5 6 8 5 5 3 9 9 4 4 8 9 5 6 9 8 9 8 9 9 8 9 5 6 6 9 7 4 3 9 1 7 8 9 9 6// 6 6 2 9 9 5 7 3 2 8 8 4 2 9 7 8 3 2 9 4 4 3 6 3...\n",
      "\n",
      "***************\n",
      "*** Run END ***\n",
      "***************\n",
      "Run time: 2.542239400000085\n",
      "Saving: [output/knapsack\\sa__knapsack__run_stats_df.csv]\n",
      "Saving: [output/knapsack\\sa__knapsack__curves_df.csv]\n"
     ]
    }
   ],
   "source": [
    "from mlrose_hiive.runners import SARunner\n",
    "\n",
    "sa = SARunner(problem=problem_cust,\n",
    "              experiment_name=experiment_name,\n",
    "              output_directory='output/',\n",
    "              seed=1,\n",
    "              iteration_list=[0,100,1000],\n",
    "              max_attempts=1000,\n",
    "              temperature_list=[1, 10, 50, 100, 250, 500, 1000, 2500, 5000, 10000])\n",
    "# the two data frames will contain the results\n",
    "df_run_stats, df_run_curves = sa.run()        "
   ]
  },
  {
   "cell_type": "code",
   "execution_count": 24,
   "metadata": {
    "scrolled": true
   },
   "outputs": [
    {
     "data": {
      "text/html": [
       "<div>\n",
       "<style scoped>\n",
       "    .dataframe tbody tr th:only-of-type {\n",
       "        vertical-align: middle;\n",
       "    }\n",
       "\n",
       "    .dataframe tbody tr th {\n",
       "        vertical-align: top;\n",
       "    }\n",
       "\n",
       "    .dataframe thead th {\n",
       "        text-align: right;\n",
       "    }\n",
       "</style>\n",
       "<table border=\"1\" class=\"dataframe\">\n",
       "  <thead>\n",
       "    <tr style=\"text-align: right;\">\n",
       "      <th></th>\n",
       "      <th>Iteration</th>\n",
       "      <th>Time</th>\n",
       "      <th>Fitness</th>\n",
       "      <th>Temperature</th>\n",
       "      <th>max_iters</th>\n",
       "    </tr>\n",
       "  </thead>\n",
       "  <tbody>\n",
       "    <tr>\n",
       "      <td>0</td>\n",
       "      <td>0</td>\n",
       "      <td>0.000260</td>\n",
       "      <td>16173.0</td>\n",
       "      <td>1</td>\n",
       "      <td>1000</td>\n",
       "    </tr>\n",
       "    <tr>\n",
       "      <td>1</td>\n",
       "      <td>1</td>\n",
       "      <td>0.001985</td>\n",
       "      <td>16349.0</td>\n",
       "      <td>1</td>\n",
       "      <td>1000</td>\n",
       "    </tr>\n",
       "    <tr>\n",
       "      <td>2</td>\n",
       "      <td>2</td>\n",
       "      <td>0.002281</td>\n",
       "      <td>16349.0</td>\n",
       "      <td>1</td>\n",
       "      <td>1000</td>\n",
       "    </tr>\n",
       "    <tr>\n",
       "      <td>3</td>\n",
       "      <td>3</td>\n",
       "      <td>0.002479</td>\n",
       "      <td>16349.0</td>\n",
       "      <td>1</td>\n",
       "      <td>1000</td>\n",
       "    </tr>\n",
       "    <tr>\n",
       "      <td>4</td>\n",
       "      <td>4</td>\n",
       "      <td>0.002655</td>\n",
       "      <td>16559.0</td>\n",
       "      <td>1</td>\n",
       "      <td>1000</td>\n",
       "    </tr>\n",
       "    <tr>\n",
       "      <td>5</td>\n",
       "      <td>5</td>\n",
       "      <td>0.002918</td>\n",
       "      <td>16559.0</td>\n",
       "      <td>1</td>\n",
       "      <td>1000</td>\n",
       "    </tr>\n",
       "    <tr>\n",
       "      <td>6</td>\n",
       "      <td>6</td>\n",
       "      <td>0.003115</td>\n",
       "      <td>16559.0</td>\n",
       "      <td>1</td>\n",
       "      <td>1000</td>\n",
       "    </tr>\n",
       "    <tr>\n",
       "      <td>7</td>\n",
       "      <td>7</td>\n",
       "      <td>0.003296</td>\n",
       "      <td>16641.0</td>\n",
       "      <td>1</td>\n",
       "      <td>1000</td>\n",
       "    </tr>\n",
       "    <tr>\n",
       "      <td>8</td>\n",
       "      <td>8</td>\n",
       "      <td>0.003565</td>\n",
       "      <td>16641.0</td>\n",
       "      <td>1</td>\n",
       "      <td>1000</td>\n",
       "    </tr>\n",
       "    <tr>\n",
       "      <td>9</td>\n",
       "      <td>9</td>\n",
       "      <td>0.003754</td>\n",
       "      <td>16641.0</td>\n",
       "      <td>1</td>\n",
       "      <td>1000</td>\n",
       "    </tr>\n",
       "  </tbody>\n",
       "</table>\n",
       "</div>"
      ],
      "text/plain": [
       "   Iteration      Time  Fitness Temperature  max_iters\n",
       "0          0  0.000260  16173.0           1       1000\n",
       "1          1  0.001985  16349.0           1       1000\n",
       "2          2  0.002281  16349.0           1       1000\n",
       "3          3  0.002479  16349.0           1       1000\n",
       "4          4  0.002655  16559.0           1       1000\n",
       "5          5  0.002918  16559.0           1       1000\n",
       "6          6  0.003115  16559.0           1       1000\n",
       "7          7  0.003296  16641.0           1       1000\n",
       "8          8  0.003565  16641.0           1       1000\n",
       "9          9  0.003754  16641.0           1       1000"
      ]
     },
     "execution_count": 24,
     "metadata": {},
     "output_type": "execute_result"
    }
   ],
   "source": [
    "df_run_curves.head(10)"
   ]
  },
  {
   "cell_type": "code",
   "execution_count": null,
   "metadata": {},
   "outputs": [],
   "source": []
  },
  {
   "cell_type": "code",
   "execution_count": 33,
   "metadata": {},
   "outputs": [
    {
     "data": {
      "text/plain": [
       "array([0, 0, 0, 0, 0, 0, 0, 0, 0, 0, 0, 0, 0, 0, 0, 0, 0, 0, 0, 0, 0, 0,\n",
       "       0, 0, 0, 0, 0, 0, 0, 0, 0, 0, 0, 0, 0, 0, 0, 0, 0, 0, 0, 0, 0, 0,\n",
       "       0, 0, 0, 0, 0, 0, 0, 0, 0, 0, 0, 0, 0, 0, 0, 0, 0, 0, 0, 0, 0, 0,\n",
       "       0, 0, 0, 0, 0, 0, 0, 0, 0, 0, 0, 0, 0, 0, 0, 0, 0, 0, 0, 0, 0, 0,\n",
       "       0, 0, 0, 0, 0, 0, 0, 0, 0, 0, 0, 0, 0, 0, 0, 0, 0, 0, 0, 0, 0, 0,\n",
       "       0, 0, 0, 0, 0, 0, 0, 0, 0, 0, 0, 0, 0, 0, 0, 0, 0, 0, 0, 0, 0, 0,\n",
       "       0, 0, 0, 0, 0, 0, 0, 0])"
      ]
     },
     "execution_count": 33,
     "metadata": {},
     "output_type": "execute_result"
    }
   ],
   "source": [
    "schedule = "
   ]
  },
  {
   "cell_type": "code",
   "execution_count": 34,
   "metadata": {},
   "outputs": [],
   "source": [
    "# Solve using simulated annealing - attempt 1\n",
    "init_state = np.array([0, 1, 2, 3, 4, 5, 6, 7])\n",
    "schedule = mlrose_hiive.ExpDecay(init_temp=50)\n",
    "evaluations = []\n",
    "best_state, best_fitness, fitness_curve_sa,time_curve_sa = mlrose_hiive.simulated_annealing(problem_cust, \n",
    "                                                                                            schedule = schedule, \n",
    "                                                      max_attempts = 100, \n",
    "                                                                            max_iters = 10000, \n",
    "                                                                                    \n",
    "                                                      init_state = state, random_state = 1,curve=True)\n"
   ]
  },
  {
   "cell_type": "code",
   "execution_count": 35,
   "metadata": {},
   "outputs": [
    {
     "data": {
      "text/plain": [
       "21504.0"
      ]
     },
     "execution_count": 35,
     "metadata": {},
     "output_type": "execute_result"
    }
   ],
   "source": [
    "best_fitness"
   ]
  },
  {
   "cell_type": "code",
   "execution_count": 36,
   "metadata": {},
   "outputs": [
    {
     "data": {
      "image/png": "[encoded data removed]",
      "text/plain": [
       "<Figure size 432x288 with 1 Axes>"
      ]
     },
     "metadata": {
      "needs_background": "light"
     },
     "output_type": "display_data"
    }
   ],
   "source": [
    "plt.plot(evaluations)\n",
    "evaluations_sa = evaluations.copy()\n",
    "evaluations = []"
   ]
  },
  {
   "cell_type": "code",
   "execution_count": 37,
   "metadata": {},
   "outputs": [
    {
     "data": {
      "image/png": "[encoded data removed]",
      "text/plain": [
       "<Figure size 432x288 with 1 Axes>"
      ]
     },
     "metadata": {
      "needs_background": "light"
     },
     "output_type": "display_data"
    }
   ],
   "source": [
    "plt.plot(fitness_curve_sa)\n"
   ]
  },
  {
   "cell_type": "code",
   "execution_count": 38,
   "metadata": {
    "scrolled": false
   },
   "outputs": [
    {
     "data": {
      "text/plain": [
       "[<matplotlib.lines.Line2D at 0x1f0d8a90808>]"
      ]
     },
     "execution_count": 38,
     "metadata": {},
     "output_type": "execute_result"
    },
    {
     "data": {
      "image/png": "[encoded data removed]",
      "text/plain": [
       "<Figure size 432x288 with 1 Axes>"
      ]
     },
     "metadata": {
      "needs_background": "light"
     },
     "output_type": "display_data"
    }
   ],
   "source": [
    "plt.plot(time_curve_sa)"
   ]
  },
  {
   "cell_type": "markdown",
   "metadata": {},
   "source": [
    "### GA"
   ]
  },
  {
   "cell_type": "code",
   "execution_count": 19,
   "metadata": {
    "scrolled": true
   },
   "outputs": [
    {
     "name": "stdout",
     "output_type": "stream",
     "text": [
      "Running ga\n",
      "*****************\n",
      "*** Run START ***\n",
      "*****************\n",
      "pop_size:[150], mutation_prob:[0.4], max_iters:[1000]\n",
      "runner_name:[ga], experiment_name:[Knapsack], attempt:[0], iteration:[0], done:[False], time:[0.01], fitness:[16173.0000]\n",
      "\t[5 8 9 5 0 0 1 7 6 9 2 4 5 2 4 2 4 7 7 9 1 7 0 6 9 9 7 6 9 1 0 1 8 8 3 9 8// 7 3 6 5 1 9 3 4 8 1 4 0 3 9 2 0 4 9 2 7 7 9 8 6 9 3 7 7 4 5 9 3 6 8 0 2 7// 7 9 7 3 0 8 7 7 1 1 3 0 8 6 4 5 6 2 5 7 8 4 4 7...\n",
      "\n",
      "pop_size:[150], mutation_prob:[0.4], max_iters:[1000]\n",
      "runner_name:[ga], experiment_name:[Knapsack], attempt:[4], iteration:[100], done:[False], time:[2.11], fitness:[27026.0000]\n",
      "\t[9 9 8 9 6 9 7 4 9 1 7 6 7 9 8 0 9 8 9 0 9 9 9 9 9 3 7 2 8 5 9 9 0 8 0 9 4// 0 9 0 0 1 9 0 9 8 9 7 9 0 9 8 8 1 9 0 8 1 9 6 7 8 9 4 9 9 4 9 0 9 9 5 9 2// 9 9 9 1 8 9 6 8 3 7 7 0 5 9 8 1 9 9 8 5 1 9 9 7...\n",
      "\n",
      "pop_size:[150], mutation_prob:[0.4], max_iters:[1000]\n",
      "runner_name:[ga], experiment_name:[Knapsack], attempt:[28], iteration:[1000], done:[True], time:[20.39], fitness:[28193.0000]\n",
      "\t[9 4 8 9 0 9 7 2 9 2 9 0 9 9 5 1 9 9 9 0 9 9 9 9 9 1 4 0 9 0 9 9 0 9 0 9 2// 0 9 1 1 2 9 0 9 9 9 9 9 0 9 9 9 0 9 0 9 0 9 1 9 8 9 1 9 9 1 9 0 9 9 9 9 9// 9 9 9 0 9 9 9 9 0 9 9 0 9 9 9 0 9 9 9 9 0 9 9 9...\n",
      "\n",
      "***************\n",
      "*** Run END ***\n",
      "***************\n",
      "*****************\n",
      "*** Run START ***\n",
      "*****************\n",
      "pop_size:[150], mutation_prob:[0.5], max_iters:[1000]\n",
      "runner_name:[ga], experiment_name:[Knapsack], attempt:[0], iteration:[0], done:[False], time:[0.01], fitness:[16173.0000]\n",
      "\t[5 8 9 5 0 0 1 7 6 9 2 4 5 2 4 2 4 7 7 9 1 7 0 6 9 9 7 6 9 1 0 1 8 8 3 9 8// 7 3 6 5 1 9 3 4 8 1 4 0 3 9 2 0 4 9 2 7 7 9 8 6 9 3 7 7 4 5 9 3 6 8 0 2 7// 7 9 7 3 0 8 7 7 1 1 3 0 8 6 4 5 6 2 5 7 8 4 4 7...\n",
      "\n",
      "pop_size:[150], mutation_prob:[0.5], max_iters:[1000]\n",
      "runner_name:[ga], experiment_name:[Knapsack], attempt:[2], iteration:[100], done:[False], time:[2.10], fitness:[26670.0000]\n",
      "\t[8 2 9 8 0 9 3 6 9 9 9 4 9 8 2 2 9 9 9 1 9 9 9 9 9 2 0 0 9 0 8 9 1 8 3 5 3// 2 9 0 3 9 8 0 9 9 9 1 9 2 9 3 9 3 7 1 3 0 7 3 8 6 9 7 9 7 3 9 0 9 9 9 9 8// 9 9 9 4 9 9 8 9 6 9 0 2 9 8 8 4 9 7 9 3 0 7 9 9...\n",
      "\n",
      "pop_size:[150], mutation_prob:[0.5], max_iters:[1000]\n",
      "runner_name:[ga], experiment_name:[Knapsack], attempt:[27], iteration:[1000], done:[True], time:[19.12], fitness:[28196.0000]\n",
      "\t[9 2 9 9 0 9 9 0 9 3 9 0 9 9 9 1 9 9 9 0 9 9 9 9 9 1 1 0 9 0 9 9 0 9 1 9 3// 0 9 0 0 2 9 0 9 9 9 9 9 0 9 9 9 0 9 0 7 0 9 0 9 9 9 9 9 9 1 9 0 9 9 9 9 9// 9 9 9 0 9 9 9 9 1 9 9 1 9 9 9 0 9 9 9 9 0 9 9 9...\n",
      "\n",
      "***************\n",
      "*** Run END ***\n",
      "***************\n",
      "*****************\n",
      "*** Run START ***\n",
      "*****************\n",
      "pop_size:[150], mutation_prob:[0.6], max_iters:[1000]\n",
      "runner_name:[ga], experiment_name:[Knapsack], attempt:[0], iteration:[0], done:[False], time:[0.02], fitness:[16173.0000]\n",
      "\t[5 8 9 5 0 0 1 7 6 9 2 4 5 2 4 2 4 7 7 9 1 7 0 6 9 9 7 6 9 1 0 1 8 8 3 9 8// 7 3 6 5 1 9 3 4 8 1 4 0 3 9 2 0 4 9 2 7 7 9 8 6 9 3 7 7 4 5 9 3 6 8 0 2 7// 7 9 7 3 0 8 7 7 1 1 3 0 8 6 4 5 6 2 5 7 8 4 4 7...\n",
      "\n",
      "pop_size:[150], mutation_prob:[0.6], max_iters:[1000]\n",
      "runner_name:[ga], experiment_name:[Knapsack], attempt:[3], iteration:[100], done:[False], time:[2.43], fitness:[26904.0000]\n",
      "\t[9 5 4 7 0 9 9 2 9 0 7 6 7 9 6 0 5 9 9 0 9 9 7 9 9 0 5 0 9 0 8 9 1 8 0 9 1// 0 7 0 9 6 9 2 8 7 9 2 9 0 8 8 8 0 8 4 1 1 9 0 8 8 8 4 8 9 1 9 3 9 7 6 9 9// 9 9 9 5 8 9 9 9 4 9 2 1 9 9 8 3 9 9 8 8 0 9 9 9...\n",
      "\n",
      "pop_size:[150], mutation_prob:[0.6], max_iters:[1000]\n",
      "runner_name:[ga], experiment_name:[Knapsack], attempt:[13], iteration:[1000], done:[True], time:[21.30], fitness:[28206.0000]\n",
      "\t[9 1 9 9 0 9 9 2 9 2 9 0 9 9 6 1 9 9 9 0 9 9 9 9 9 0 2 0 9 0 9 9 0 9 0 9 4// 0 9 0 1 2 9 0 9 9 9 9 9 0 9 9 9 0 9 0 5 0 9 2 9 9 9 3 9 9 0 9 0 9 9 9 9 9// 9 9 9 0 9 9 9 9 0 9 9 0 9 9 9 0 9 9 9 9 0 9 9 9...\n",
      "\n",
      "***************\n",
      "*** Run END ***\n",
      "***************\n",
      "*****************\n",
      "*** Run START ***\n",
      "*****************\n",
      "pop_size:[200], mutation_prob:[0.4], max_iters:[1000]\n",
      "runner_name:[ga], experiment_name:[Knapsack], attempt:[0], iteration:[0], done:[False], time:[0.01], fitness:[16173.0000]\n",
      "\t[5 8 9 5 0 0 1 7 6 9 2 4 5 2 4 2 4 7 7 9 1 7 0 6 9 9 7 6 9 1 0 1 8 8 3 9 8// 7 3 6 5 1 9 3 4 8 1 4 0 3 9 2 0 4 9 2 7 7 9 8 6 9 3 7 7 4 5 9 3 6 8 0 2 7// 7 9 7 3 0 8 7 7 1 1 3 0 8 6 4 5 6 2 5 7 8 4 4 7...\n",
      "\n",
      "pop_size:[200], mutation_prob:[0.4], max_iters:[1000]\n",
      "runner_name:[ga], experiment_name:[Knapsack], attempt:[1], iteration:[100], done:[False], time:[2.49], fitness:[27217.0000]\n",
      "\t[9 5 5 8 3 9 8 3 9 4 8 3 9 9 2 3 6 9 9 0 9 7 9 9 9 0 0 0 9 1 9 9 0 9 0 8 2// 0 8 4 7 2 9 1 9 9 9 9 9 2 9 3 9 0 9 1 1 1 9 3 9 5 9 8 9 9 5 9 2 8 9 8 8 8// 9 9 8 0 9 9 9 9 2 9 5 3 6 8 9 0 8 9 9 0 1 9 9 9...\n",
      "\n",
      "pop_size:[200], mutation_prob:[0.4], max_iters:[1000]\n",
      "runner_name:[ga], experiment_name:[Knapsack], attempt:[62], iteration:[1000], done:[True], time:[29.38], fitness:[28230.0000]\n",
      "\t[9 5 9 9 0 9 9 1 9 5 9 0 9 9 3 1 9 9 9 0 9 9 9 9 9 0 0 0 9 1 9 9 0 9 0 9 2// 0 9 0 1 1 9 0 9 9 9 9 9 0 9 9 9 0 9 0 2 0 9 1 9 9 9 1 9 9 0 9 0 9 9 9 9 9// 9 9 9 0 9 9 9 9 0 9 9 0 9 9 9 0 9 9 9 9 0 9 9 9...\n",
      "\n",
      "***************\n",
      "*** Run END ***\n",
      "***************\n",
      "*****************\n",
      "*** Run START ***\n",
      "*****************\n",
      "pop_size:[200], mutation_prob:[0.5], max_iters:[1000]\n",
      "runner_name:[ga], experiment_name:[Knapsack], attempt:[0], iteration:[0], done:[False], time:[0.02], fitness:[16173.0000]\n",
      "\t[5 8 9 5 0 0 1 7 6 9 2 4 5 2 4 2 4 7 7 9 1 7 0 6 9 9 7 6 9 1 0 1 8 8 3 9 8// 7 3 6 5 1 9 3 4 8 1 4 0 3 9 2 0 4 9 2 7 7 9 8 6 9 3 7 7 4 5 9 3 6 8 0 2 7// 7 9 7 3 0 8 7 7 1 1 3 0 8 6 4 5 6 2 5 7 8 4 4 7...\n",
      "\n",
      "pop_size:[200], mutation_prob:[0.5], max_iters:[1000]\n",
      "runner_name:[ga], experiment_name:[Knapsack], attempt:[1], iteration:[100], done:[False], time:[5.17], fitness:[26996.0000]\n",
      "\t[9 4 1 9 1 9 8 6 9 5 8 5 8 7 6 6 3 9 9 3 9 9 8 9 8 5 0 0 9 0 8 8 2 9 4 9 3// 0 8 3 1 9 9 3 8 9 9 9 9 0 9 9 7 0 8 0 8 5 9 6 8 6 9 0 8 8 2 9 1 9 7 8 7 8// 9 9 9 0 9 9 6 9 0 9 6 0 8 9 7 0 9 7 9 8 1 8 9 9...\n",
      "\n",
      "pop_size:[200], mutation_prob:[0.5], max_iters:[1000]\n",
      "runner_name:[ga], experiment_name:[Knapsack], attempt:[264], iteration:[1000], done:[True], time:[41.18], fitness:[28252.0000]\n",
      "\t[9 4 8 9 0 9 9 0 9 5 9 0 9 9 2 1 9 9 9 0 9 9 9 9 9 0 0 0 9 0 9 9 0 9 0 9 0// 0 9 0 0 0 9 0 9 9 9 9 9 0 9 9 9 0 9 0 5 0 9 2 9 9 9 0 9 9 0 9 0 9 9 9 9 9// 9 9 9 0 9 9 9 9 0 9 9 0 9 9 9 0 9 9 9 9 0 9 9 9...\n",
      "\n",
      "***************\n",
      "*** Run END ***\n",
      "***************\n",
      "*****************\n",
      "*** Run START ***\n",
      "*****************\n",
      "pop_size:[200], mutation_prob:[0.6], max_iters:[1000]\n",
      "runner_name:[ga], experiment_name:[Knapsack], attempt:[0], iteration:[0], done:[False], time:[0.03], fitness:[16173.0000]\n",
      "\t[5 8 9 5 0 0 1 7 6 9 2 4 5 2 4 2 4 7 7 9 1 7 0 6 9 9 7 6 9 1 0 1 8 8 3 9 8// 7 3 6 5 1 9 3 4 8 1 4 0 3 9 2 0 4 9 2 7 7 9 8 6 9 3 7 7 4 5 9 3 6 8 0 2 7// 7 9 7 3 0 8 7 7 1 1 3 0 8 6 4 5 6 2 5 7 8 4 4 7...\n",
      "\n",
      "pop_size:[200], mutation_prob:[0.6], max_iters:[1000]\n",
      "runner_name:[ga], experiment_name:[Knapsack], attempt:[4], iteration:[100], done:[False], time:[4.93], fitness:[26767.0000]\n",
      "\t[9 5 9 8 1 8 6 4 8 6 7 0 9 9 6 0 6 9 9 2 9 9 9 8 9 0 1 0 9 3 9 9 2 9 1 9 4// 3 9 4 1 9 9 1 9 8 9 5 9 1 8 8 9 1 8 1 4 2 9 2 9 9 9 4 5 9 2 7 0 8 9 9 4 4// 9 9 9 1 9 9 6 9 7 9 8 1 9 9 9 4 9 8 8 1 1 9 8 9...\n",
      "\n",
      "pop_size:[200], mutation_prob:[0.6], max_iters:[1000]\n",
      "runner_name:[ga], experiment_name:[Knapsack], attempt:[614], iteration:[1000], done:[True], time:[57.88], fitness:[28226.0000]\n",
      "\t[9 4 9 9 0 9 9 0 9 6 9 0 9 9 9 2 9 9 9 0 9 9 9 9 9 0 1 0 9 0 9 9 0 9 1 9 2// 0 9 0 2 1 9 0 9 9 9 9 9 0 9 9 9 0 9 0 6 0 9 3 9 9 9 0 9 9 0 9 0 9 9 9 9 9// 9 9 9 0 9 9 9 9 0 9 9 0 9 9 9 0 9 9 9 9 0 9 9 9...\n",
      "\n",
      "***************\n",
      "*** Run END ***\n",
      "***************\n",
      "*****************\n",
      "*** Run START ***\n",
      "*****************\n",
      "pop_size:[300], mutation_prob:[0.4], max_iters:[1000]\n",
      "runner_name:[ga], experiment_name:[Knapsack], attempt:[0], iteration:[0], done:[False], time:[0.05], fitness:[16173.0000]\n",
      "\t[5 8 9 5 0 0 1 7 6 9 2 4 5 2 4 2 4 7 7 9 1 7 0 6 9 9 7 6 9 1 0 1 8 8 3 9 8// 7 3 6 5 1 9 3 4 8 1 4 0 3 9 2 0 4 9 2 7 7 9 8 6 9 3 7 7 4 5 9 3 6 8 0 2 7// 7 9 7 3 0 8 7 7 1 1 3 0 8 6 4 5 6 2 5 7 8 4 4 7...\n",
      "\n",
      "pop_size:[300], mutation_prob:[0.4], max_iters:[1000]\n",
      "runner_name:[ga], experiment_name:[Knapsack], attempt:[3], iteration:[100], done:[False], time:[9.76], fitness:[27440.0000]\n",
      "\t[9 5 1 9 0 8 6 1 8 7 8 2 8 9 3 0 9 8 7 0 9 8 9 9 9 0 6 0 9 0 9 9 0 9 4 8 3// 2 9 1 1 0 9 1 9 9 9 9 9 0 9 6 8 2 9 1 9 0 9 1 8 8 7 7 9 9 3 9 0 9 9 9 7 8// 9 9 9 2 9 9 9 9 1 9 9 1 6 9 8 0 8 9 9 7 0 9 9 9...\n",
      "\n"
     ]
    },
    {
     "name": "stdout",
     "output_type": "stream",
     "text": [
      "pop_size:[300], mutation_prob:[0.4], max_iters:[1000]\n",
      "runner_name:[ga], experiment_name:[Knapsack], attempt:[564], iteration:[1000], done:[True], time:[67.62], fitness:[28222.0000]\n",
      "\t[9 2 1 9 0 9 9 0 9 7 9 0 9 9 3 0 9 9 9 0 9 9 9 9 9 0 0 0 9 0 9 9 0 9 0 9 2// 0 9 0 0 1 9 0 9 9 9 9 9 0 9 9 9 0 9 0 6 0 9 2 9 9 9 6 9 9 0 9 0 9 9 9 9 9// 9 9 9 0 9 9 9 9 0 9 9 0 9 9 9 0 9 9 9 9 0 9 9 9...\n",
      "\n",
      "***************\n",
      "*** Run END ***\n",
      "***************\n",
      "*****************\n",
      "*** Run START ***\n",
      "*****************\n",
      "pop_size:[300], mutation_prob:[0.5], max_iters:[1000]\n",
      "runner_name:[ga], experiment_name:[Knapsack], attempt:[0], iteration:[0], done:[False], time:[0.02], fitness:[16173.0000]\n",
      "\t[5 8 9 5 0 0 1 7 6 9 2 4 5 2 4 2 4 7 7 9 1 7 0 6 9 9 7 6 9 1 0 1 8 8 3 9 8// 7 3 6 5 1 9 3 4 8 1 4 0 3 9 2 0 4 9 2 7 7 9 8 6 9 3 7 7 4 5 9 3 6 8 0 2 7// 7 9 7 3 0 8 7 7 1 1 3 0 8 6 4 5 6 2 5 7 8 4 4 7...\n",
      "\n",
      "pop_size:[300], mutation_prob:[0.5], max_iters:[1000]\n",
      "runner_name:[ga], experiment_name:[Knapsack], attempt:[5], iteration:[100], done:[False], time:[6.16], fitness:[27165.0000]\n",
      "\t[9 4 7 9 0 9 6 4 9 1 9 2 9 8 6 3 8 9 7 0 9 8 5 9 9 2 2 0 9 0 9 9 5 9 4 7 8// 1 9 7 2 1 9 0 9 9 8 9 9 0 9 8 6 2 8 2 7 0 9 3 7 9 9 6 8 9 2 9 2 8 9 8 9 9// 9 9 9 6 9 8 9 9 0 9 6 1 7 9 9 6 9 8 9 0 0 7 9 9...\n",
      "\n",
      "pop_size:[300], mutation_prob:[0.5], max_iters:[1000]\n",
      "runner_name:[ga], experiment_name:[Knapsack], attempt:[136], iteration:[1000], done:[True], time:[62.05], fitness:[28223.0000]\n",
      "\t[9 3 2 9 0 9 9 2 9 9 9 0 9 9 9 1 9 9 9 0 9 9 9 9 9 0 1 0 9 0 9 9 0 9 0 9 3// 0 9 0 2 1 9 0 9 9 9 9 9 0 9 9 9 0 9 0 5 0 9 3 9 9 9 1 9 9 0 9 0 9 9 9 9 9// 9 9 9 0 9 9 9 9 0 9 9 0 9 9 9 0 9 9 9 9 0 9 9 9...\n",
      "\n",
      "***************\n",
      "*** Run END ***\n",
      "***************\n",
      "*****************\n",
      "*** Run START ***\n",
      "*****************\n",
      "pop_size:[300], mutation_prob:[0.6], max_iters:[1000]\n",
      "runner_name:[ga], experiment_name:[Knapsack], attempt:[0], iteration:[0], done:[False], time:[0.02], fitness:[16173.0000]\n",
      "\t[5 8 9 5 0 0 1 7 6 9 2 4 5 2 4 2 4 7 7 9 1 7 0 6 9 9 7 6 9 1 0 1 8 8 3 9 8// 7 3 6 5 1 9 3 4 8 1 4 0 3 9 2 0 4 9 2 7 7 9 8 6 9 3 7 7 4 5 9 3 6 8 0 2 7// 7 9 7 3 0 8 7 7 1 1 3 0 8 6 4 5 6 2 5 7 8 4 4 7...\n",
      "\n",
      "pop_size:[300], mutation_prob:[0.6], max_iters:[1000]\n",
      "runner_name:[ga], experiment_name:[Knapsack], attempt:[1], iteration:[100], done:[False], time:[5.85], fitness:[27186.0000]\n",
      "\t[9 6 0 9 0 9 3 0 9 5 9 5 9 9 5 0 9 9 9 1 9 9 7 9 9 0 4 0 9 0 9 9 2 9 1 9 3// 2 6 3 1 1 9 5 8 7 9 3 9 2 9 9 9 1 8 1 7 1 9 1 9 1 6 5 9 8 1 9 1 9 9 5 8 9// 9 9 9 3 9 9 9 8 2 9 5 0 8 9 8 2 9 9 9 8 2 9 9 9...\n",
      "\n",
      "pop_size:[300], mutation_prob:[0.6], max_iters:[1000]\n",
      "runner_name:[ga], experiment_name:[Knapsack], attempt:[363], iteration:[1000], done:[True], time:[73.47], fitness:[28250.0000]\n",
      "\t[9 6 9 9 0 9 9 0 9 5 9 0 9 9 9 0 9 9 9 0 9 9 9 9 9 0 1 0 9 0 9 9 0 9 0 9 2// 0 9 0 0 1 9 0 9 9 9 9 9 0 9 9 9 0 9 0 1 0 9 1 9 9 9 1 9 9 0 9 0 9 9 9 9 9// 9 9 9 0 9 9 9 9 0 9 9 0 9 9 9 0 9 9 9 9 0 9 9 9...\n",
      "\n",
      "***************\n",
      "*** Run END ***\n",
      "***************\n",
      "Run time: 393.33684070000004\n",
      "Saving: [output\\Knapsack\\ga__Knapsack__run_stats_df.csv]\n",
      "Saving: [output\\Knapsack\\ga__Knapsack__curves_df.csv]\n"
     ]
    }
   ],
   "source": [
    "from mlrose_hiive.runners import GARunner\n",
    "\n",
    "ga = GARunner(problem=problem_cust,\n",
    "              experiment_name=experiment_name,\n",
    "              output_directory=OUTPUT_DIRECTORY,\n",
    "              seed=SEED,\n",
    "              iteration_list=[0,100,1000],\n",
    "              max_attempts=1000,\n",
    "              population_sizes=[150, 200, 300],\n",
    "              mutation_rates=[0.4, 0.5, 0.6])\n",
    "\n",
    "# the two data frames will contain the results\n",
    "df_run_stats, df_run_curves = ga.run()   "
   ]
  },
  {
   "cell_type": "code",
   "execution_count": 20,
   "metadata": {},
   "outputs": [
    {
     "data": {
      "text/html": [
       "<div>\n",
       "<style scoped>\n",
       "    .dataframe tbody tr th:only-of-type {\n",
       "        vertical-align: middle;\n",
       "    }\n",
       "\n",
       "    .dataframe tbody tr th {\n",
       "        vertical-align: top;\n",
       "    }\n",
       "\n",
       "    .dataframe thead th {\n",
       "        text-align: right;\n",
       "    }\n",
       "</style>\n",
       "<table border=\"1\" class=\"dataframe\">\n",
       "  <thead>\n",
       "    <tr style=\"text-align: right;\">\n",
       "      <th></th>\n",
       "      <th>Iteration</th>\n",
       "      <th>Time</th>\n",
       "      <th>Fitness</th>\n",
       "      <th>Population Size</th>\n",
       "      <th>Mutation Rate</th>\n",
       "      <th>max_iters</th>\n",
       "    </tr>\n",
       "  </thead>\n",
       "  <tbody>\n",
       "    <tr>\n",
       "      <td>0</td>\n",
       "      <td>0</td>\n",
       "      <td>0.014128</td>\n",
       "      <td>18221.0</td>\n",
       "      <td>150</td>\n",
       "      <td>0.4</td>\n",
       "      <td>1000</td>\n",
       "    </tr>\n",
       "    <tr>\n",
       "      <td>1</td>\n",
       "      <td>1</td>\n",
       "      <td>0.040286</td>\n",
       "      <td>18905.0</td>\n",
       "      <td>150</td>\n",
       "      <td>0.4</td>\n",
       "      <td>1000</td>\n",
       "    </tr>\n",
       "    <tr>\n",
       "      <td>2</td>\n",
       "      <td>2</td>\n",
       "      <td>0.063159</td>\n",
       "      <td>19007.0</td>\n",
       "      <td>150</td>\n",
       "      <td>0.4</td>\n",
       "      <td>1000</td>\n",
       "    </tr>\n",
       "    <tr>\n",
       "      <td>3</td>\n",
       "      <td>3</td>\n",
       "      <td>0.087947</td>\n",
       "      <td>19007.0</td>\n",
       "      <td>150</td>\n",
       "      <td>0.4</td>\n",
       "      <td>1000</td>\n",
       "    </tr>\n",
       "    <tr>\n",
       "      <td>4</td>\n",
       "      <td>4</td>\n",
       "      <td>0.108243</td>\n",
       "      <td>19186.0</td>\n",
       "      <td>150</td>\n",
       "      <td>0.4</td>\n",
       "      <td>1000</td>\n",
       "    </tr>\n",
       "  </tbody>\n",
       "</table>\n",
       "</div>"
      ],
      "text/plain": [
       "   Iteration      Time  Fitness  Population Size  Mutation Rate  max_iters\n",
       "0          0  0.014128  18221.0              150            0.4       1000\n",
       "1          1  0.040286  18905.0              150            0.4       1000\n",
       "2          2  0.063159  19007.0              150            0.4       1000\n",
       "3          3  0.087947  19007.0              150            0.4       1000\n",
       "4          4  0.108243  19186.0              150            0.4       1000"
      ]
     },
     "execution_count": 20,
     "metadata": {},
     "output_type": "execute_result"
    }
   ],
   "source": [
    "df_run_curves.head()"
   ]
  },
  {
   "cell_type": "code",
   "execution_count": 77,
   "metadata": {},
   "outputs": [
    {
     "data": {
      "text/plain": [
       "[<matplotlib.lines.Line2D at 0x19d364d0448>]"
      ]
     },
     "execution_count": 77,
     "metadata": {},
     "output_type": "execute_result"
    },
    {
     "data": {
      "image/png": "[encoded data removed]",
      "text/plain": [
       "<Figure size 432x288 with 1 Axes>"
      ]
     },
     "metadata": {
      "needs_background": "light"
     },
     "output_type": "display_data"
    }
   ],
   "source": [
    "plt.plot(df_run_curves[(df_run_curves['Population Size']==150) & (df_run_curves['Mutation Rate']==0.4)].Fitness)"
   ]
  },
  {
   "cell_type": "code",
   "execution_count": 78,
   "metadata": {},
   "outputs": [
    {
     "data": {
      "text/plain": [
       "Iteration          1032.000000\n",
       "Time                 17.015993\n",
       "Fitness              28.000000\n",
       "Population Size     150.000000\n",
       "Mutation Rate         0.400000\n",
       "max_iters          2048.000000\n",
       "Name: 1032, dtype: float64"
      ]
     },
     "execution_count": 78,
     "metadata": {},
     "output_type": "execute_result"
    }
   ],
   "source": [
    "df_run_curves[(df_run_curves['Population Size']==150) & (df_run_curves['Mutation Rate']==0.4)].iloc[-1]"
   ]
  },
  {
   "cell_type": "code",
   "execution_count": 21,
   "metadata": {},
   "outputs": [
    {
     "data": {
      "text/html": [
       "<div>\n",
       "<style scoped>\n",
       "    .dataframe tbody tr th:only-of-type {\n",
       "        vertical-align: middle;\n",
       "    }\n",
       "\n",
       "    .dataframe tbody tr th {\n",
       "        vertical-align: top;\n",
       "    }\n",
       "\n",
       "    .dataframe thead th {\n",
       "        text-align: right;\n",
       "    }\n",
       "</style>\n",
       "<table border=\"1\" class=\"dataframe\">\n",
       "  <thead>\n",
       "    <tr style=\"text-align: right;\">\n",
       "      <th></th>\n",
       "      <th></th>\n",
       "      <th>Time</th>\n",
       "      <th>Fitness</th>\n",
       "    </tr>\n",
       "    <tr>\n",
       "      <th>Population Size</th>\n",
       "      <th>Mutation Rate</th>\n",
       "      <th></th>\n",
       "      <th></th>\n",
       "    </tr>\n",
       "  </thead>\n",
       "  <tbody>\n",
       "    <tr>\n",
       "      <td rowspan=\"3\" valign=\"top\">150</td>\n",
       "      <td>0.4</td>\n",
       "      <td>22.513175</td>\n",
       "      <td>71392.0</td>\n",
       "    </tr>\n",
       "    <tr>\n",
       "      <td>0.5</td>\n",
       "      <td>21.233612</td>\n",
       "      <td>71039.0</td>\n",
       "    </tr>\n",
       "    <tr>\n",
       "      <td>0.6</td>\n",
       "      <td>23.747029</td>\n",
       "      <td>71283.0</td>\n",
       "    </tr>\n",
       "    <tr>\n",
       "      <td rowspan=\"3\" valign=\"top\">200</td>\n",
       "      <td>0.4</td>\n",
       "      <td>31.882728</td>\n",
       "      <td>71620.0</td>\n",
       "    </tr>\n",
       "    <tr>\n",
       "      <td>0.5</td>\n",
       "      <td>46.375391</td>\n",
       "      <td>71421.0</td>\n",
       "    </tr>\n",
       "    <tr>\n",
       "      <td>0.6</td>\n",
       "      <td>62.838602</td>\n",
       "      <td>71166.0</td>\n",
       "    </tr>\n",
       "    <tr>\n",
       "      <td rowspan=\"3\" valign=\"top\">300</td>\n",
       "      <td>0.4</td>\n",
       "      <td>77.430308</td>\n",
       "      <td>71835.0</td>\n",
       "    </tr>\n",
       "    <tr>\n",
       "      <td>0.5</td>\n",
       "      <td>68.227852</td>\n",
       "      <td>71561.0</td>\n",
       "    </tr>\n",
       "    <tr>\n",
       "      <td>0.6</td>\n",
       "      <td>79.336306</td>\n",
       "      <td>71609.0</td>\n",
       "    </tr>\n",
       "  </tbody>\n",
       "</table>\n",
       "</div>"
      ],
      "text/plain": [
       "                                    Time  Fitness\n",
       "Population Size Mutation Rate                    \n",
       "150             0.4            22.513175  71392.0\n",
       "                0.5            21.233612  71039.0\n",
       "                0.6            23.747029  71283.0\n",
       "200             0.4            31.882728  71620.0\n",
       "                0.5            46.375391  71421.0\n",
       "                0.6            62.838602  71166.0\n",
       "300             0.4            77.430308  71835.0\n",
       "                0.5            68.227852  71561.0\n",
       "                0.6            79.336306  71609.0"
      ]
     },
     "execution_count": 21,
     "metadata": {},
     "output_type": "execute_result"
    }
   ],
   "source": [
    "df_run_stats.groupby(['Population Size','Mutation Rate'])['Time','Fitness'].sum()"
   ]
  },
  {
   "cell_type": "code",
   "execution_count": 22,
   "metadata": {
    "scrolled": true
   },
   "outputs": [
    {
     "data": {
      "text/html": [
       "<div>\n",
       "<style scoped>\n",
       "    .dataframe tbody tr th:only-of-type {\n",
       "        vertical-align: middle;\n",
       "    }\n",
       "\n",
       "    .dataframe tbody tr th {\n",
       "        vertical-align: top;\n",
       "    }\n",
       "\n",
       "    .dataframe thead th {\n",
       "        text-align: right;\n",
       "    }\n",
       "</style>\n",
       "<table border=\"1\" class=\"dataframe\">\n",
       "  <thead>\n",
       "    <tr style=\"text-align: right;\">\n",
       "      <th></th>\n",
       "      <th></th>\n",
       "      <th>Time</th>\n",
       "      <th>Fitness</th>\n",
       "    </tr>\n",
       "    <tr>\n",
       "      <th>Population Size</th>\n",
       "      <th>Mutation Rate</th>\n",
       "      <th></th>\n",
       "      <th></th>\n",
       "    </tr>\n",
       "  </thead>\n",
       "  <tbody>\n",
       "    <tr>\n",
       "      <td rowspan=\"3\" valign=\"top\">150</td>\n",
       "      <td>0.4</td>\n",
       "      <td>20.390723</td>\n",
       "      <td>28193.0</td>\n",
       "    </tr>\n",
       "    <tr>\n",
       "      <td>0.5</td>\n",
       "      <td>19.121855</td>\n",
       "      <td>28196.0</td>\n",
       "    </tr>\n",
       "    <tr>\n",
       "      <td>0.6</td>\n",
       "      <td>21.296962</td>\n",
       "      <td>28206.0</td>\n",
       "    </tr>\n",
       "    <tr>\n",
       "      <td rowspan=\"3\" valign=\"top\">200</td>\n",
       "      <td>0.4</td>\n",
       "      <td>29.377683</td>\n",
       "      <td>28230.0</td>\n",
       "    </tr>\n",
       "    <tr>\n",
       "      <td>0.5</td>\n",
       "      <td>41.180832</td>\n",
       "      <td>28252.0</td>\n",
       "    </tr>\n",
       "    <tr>\n",
       "      <td>0.6</td>\n",
       "      <td>57.880654</td>\n",
       "      <td>28226.0</td>\n",
       "    </tr>\n",
       "    <tr>\n",
       "      <td rowspan=\"3\" valign=\"top\">300</td>\n",
       "      <td>0.4</td>\n",
       "      <td>67.618231</td>\n",
       "      <td>28222.0</td>\n",
       "    </tr>\n",
       "    <tr>\n",
       "      <td>0.5</td>\n",
       "      <td>62.046824</td>\n",
       "      <td>28223.0</td>\n",
       "    </tr>\n",
       "    <tr>\n",
       "      <td>0.6</td>\n",
       "      <td>73.465619</td>\n",
       "      <td>28250.0</td>\n",
       "    </tr>\n",
       "  </tbody>\n",
       "</table>\n",
       "</div>"
      ],
      "text/plain": [
       "                                    Time  Fitness\n",
       "Population Size Mutation Rate                    \n",
       "150             0.4            20.390723  28193.0\n",
       "                0.5            19.121855  28196.0\n",
       "                0.6            21.296962  28206.0\n",
       "200             0.4            29.377683  28230.0\n",
       "                0.5            41.180832  28252.0\n",
       "                0.6            57.880654  28226.0\n",
       "300             0.4            67.618231  28222.0\n",
       "                0.5            62.046824  28223.0\n",
       "                0.6            73.465619  28250.0"
      ]
     },
     "execution_count": 22,
     "metadata": {},
     "output_type": "execute_result"
    }
   ],
   "source": [
    "df_run_stats.groupby(['Population Size','Mutation Rate'])['Time','Fitness'].max()"
   ]
  },
  {
   "cell_type": "code",
   "execution_count": 94,
   "metadata": {
    "scrolled": true
   },
   "outputs": [
    {
     "data": {
      "text/html": [
       "<div>\n",
       "<style scoped>\n",
       "    .dataframe tbody tr th:only-of-type {\n",
       "        vertical-align: middle;\n",
       "    }\n",
       "\n",
       "    .dataframe tbody tr th {\n",
       "        vertical-align: top;\n",
       "    }\n",
       "\n",
       "    .dataframe thead th {\n",
       "        text-align: right;\n",
       "    }\n",
       "</style>\n",
       "<table border=\"1\" class=\"dataframe\">\n",
       "  <thead>\n",
       "    <tr style=\"text-align: right;\">\n",
       "      <th></th>\n",
       "      <th>Iteration</th>\n",
       "      <th>Time</th>\n",
       "      <th>Fitness</th>\n",
       "      <th>Population Size</th>\n",
       "      <th>Mutation Rate</th>\n",
       "      <th>max_iters</th>\n",
       "    </tr>\n",
       "  </thead>\n",
       "  <tbody>\n",
       "    <tr>\n",
       "      <td>0</td>\n",
       "      <td>0</td>\n",
       "      <td>0.016922</td>\n",
       "      <td>26.0</td>\n",
       "      <td>150</td>\n",
       "      <td>0.4</td>\n",
       "      <td>2048</td>\n",
       "    </tr>\n",
       "    <tr>\n",
       "      <td>1</td>\n",
       "      <td>1</td>\n",
       "      <td>0.058788</td>\n",
       "      <td>26.0</td>\n",
       "      <td>150</td>\n",
       "      <td>0.4</td>\n",
       "      <td>2048</td>\n",
       "    </tr>\n",
       "    <tr>\n",
       "      <td>2</td>\n",
       "      <td>2</td>\n",
       "      <td>0.117194</td>\n",
       "      <td>26.0</td>\n",
       "      <td>150</td>\n",
       "      <td>0.4</td>\n",
       "      <td>2048</td>\n",
       "    </tr>\n",
       "    <tr>\n",
       "      <td>3</td>\n",
       "      <td>3</td>\n",
       "      <td>0.144888</td>\n",
       "      <td>26.0</td>\n",
       "      <td>150</td>\n",
       "      <td>0.4</td>\n",
       "      <td>2048</td>\n",
       "    </tr>\n",
       "    <tr>\n",
       "      <td>4</td>\n",
       "      <td>4</td>\n",
       "      <td>0.196347</td>\n",
       "      <td>26.0</td>\n",
       "      <td>150</td>\n",
       "      <td>0.4</td>\n",
       "      <td>2048</td>\n",
       "    </tr>\n",
       "  </tbody>\n",
       "</table>\n",
       "</div>"
      ],
      "text/plain": [
       "   Iteration      Time  Fitness  Population Size  Mutation Rate  max_iters\n",
       "0          0  0.016922     26.0              150            0.4       2048\n",
       "1          1  0.058788     26.0              150            0.4       2048\n",
       "2          2  0.117194     26.0              150            0.4       2048\n",
       "3          3  0.144888     26.0              150            0.4       2048\n",
       "4          4  0.196347     26.0              150            0.4       2048"
      ]
     },
     "execution_count": 94,
     "metadata": {},
     "output_type": "execute_result"
    }
   ],
   "source": [
    "df_run_curves.head()"
   ]
  },
  {
   "cell_type": "code",
   "execution_count": 42,
   "metadata": {},
   "outputs": [],
   "source": [
    "# Solve using genetic algorithm\n",
    "evaluations = []\n",
    "best_state, best_fitness, fitness_curve_ga,time_curve_ga = mlrose_hiive.genetic_alg(problem_cust, mutation_prob = 0.5,\n",
    "                                                                      pop_size= 200,\n",
    "                                                                       max_attempts = 100, \n",
    "                                              random_state = 2,curve=True)\n"
   ]
  },
  {
   "cell_type": "code",
   "execution_count": 44,
   "metadata": {},
   "outputs": [],
   "source": [
    "evaluations_ga = evaluations.copy()"
   ]
  },
  {
   "cell_type": "code",
   "execution_count": 33,
   "metadata": {},
   "outputs": [
    {
     "data": {
      "text/plain": [
       "28225.0"
      ]
     },
     "execution_count": 33,
     "metadata": {},
     "output_type": "execute_result"
    }
   ],
   "source": [
    "best_fitness"
   ]
  },
  {
   "cell_type": "code",
   "execution_count": 25,
   "metadata": {},
   "outputs": [
    {
     "data": {
      "text/plain": [
       "[<matplotlib.lines.Line2D at 0x1bad8e83e88>]"
      ]
     },
     "execution_count": 25,
     "metadata": {},
     "output_type": "execute_result"
    },
    {
     "data": {
      "image/png": "[encoded data removed]",
      "text/plain": [
       "<Figure size 432x288 with 1 Axes>"
      ]
     },
     "metadata": {
      "needs_background": "light"
     },
     "output_type": "display_data"
    }
   ],
   "source": [
    "plt.plot(fitness_curve_ga)"
   ]
  },
  {
   "cell_type": "code",
   "execution_count": 26,
   "metadata": {
    "scrolled": false
   },
   "outputs": [
    {
     "data": {
      "image/png": "[encoded data removed]",
      "text/plain": [
       "<Figure size 432x288 with 1 Axes>"
      ]
     },
     "metadata": {
      "needs_background": "light"
     },
     "output_type": "display_data"
    }
   ],
   "source": [
    "plt.plot(evaluations)\n",
    "evaluations=[]"
   ]
  },
  {
   "cell_type": "code",
   "execution_count": 27,
   "metadata": {},
   "outputs": [
    {
     "data": {
      "text/plain": [
       "[<matplotlib.lines.Line2D at 0x1bad92bdf48>]"
      ]
     },
     "execution_count": 27,
     "metadata": {},
     "output_type": "execute_result"
    },
    {
     "data": {
      "image/png": "[encoded data removed]",
      "text/plain": [
       "<Figure size 432x288 with 1 Axes>"
      ]
     },
     "metadata": {
      "needs_background": "light"
     },
     "output_type": "display_data"
    }
   ],
   "source": [
    "plt.plot(time_curve_ga)"
   ]
  },
  {
   "cell_type": "code",
   "execution_count": 17,
   "metadata": {},
   "outputs": [],
   "source": [
    "from mlrose_hiive.runners import MIMICRunner\n",
    "\n",
    "#experiment_name = 'example_experiment'\n",
    "#problem = TSPGenerator.generate(seed=SEED, number_of_cities=22)\n",
    "\n",
    "mmc = MIMICRunner(problem=problem_cust,\n",
    "                  experiment_name=experiment_name,\n",
    "                  output_directory=OUTPUT_DIRECTORY,\n",
    "                  seed=2,\n",
    "                  iteration_list=[1000],\n",
    "                  max_attempts=20,\n",
    "                  population_sizes=[150, 300],\n",
    "                  keep_percent_list=[0.25, 0.75])\n"
   ]
  },
  {
   "cell_type": "code",
   "execution_count": 18,
   "metadata": {
    "scrolled": true
   },
   "outputs": [
    {
     "name": "stdout",
     "output_type": "stream",
     "text": [
      "Running mimic\n",
      "*****************\n",
      "*** Run START ***\n",
      "*****************\n",
      "use_fast_mimic:[False], pop_size:[150], keep_pct:[0.25], max_iters:[1000]\n",
      "runner_name:[mimic], experiment_name:[Knapsack], attempt:[0], iteration:[0], done:[False], time:[0.01], fitness:[14962.0000]\n",
      "\t[8 8 6 2 8 7 2 1 5 4 4 5 7 3 6 4 3 7 6 1 3 5 8 4 6 3 9 2 0 4 2 4 1 7 8 2 9// 8 7 1 6 8 5 9 9 9 3 0 0 2 8 8 2 9 6 5 6 6 6 3 8 2 1 4 8 1 6 9 5 1 2 4 7 6// 4 5 8 3 0 0 5 7 5 0 8 6 5 1 7 4 3 6 1 4 0 8 5 4...\n",
      "\n",
      "use_fast_mimic:[False], pop_size:[150], keep_pct:[0.25], max_iters:[1000]\n",
      "runner_name:[mimic], experiment_name:[Knapsack], attempt:[21], iteration:[38], done:[True], time:[400.09], fitness:[24139.0000]\n",
      "\t[8. 3. 9. 7. 0. 9. 5. 0. 9. 5. 7. 8. 8. 7. 8. 2. 2. 4. 8. 2. 8. 9. 3. 7.// 9. 2. 2. 4. 9. 2. 9. 8. 1. 5. 8. 8. 8. 1. 9. 7. 0. 6. 6. 5. 9. 4. 9. 9.// 6. 9. 6. 5. 3. 2. 9. 5. 9. 0. 7. 3. 4. 8. 9. 7. 8. ...\n",
      "\n",
      "***************\n",
      "*** Run END ***\n",
      "***************\n",
      "*****************\n",
      "*** Run START ***\n",
      "*****************\n",
      "use_fast_mimic:[False], pop_size:[150], keep_pct:[0.75], max_iters:[1000]\n",
      "runner_name:[mimic], experiment_name:[Knapsack], attempt:[0], iteration:[0], done:[False], time:[0.02], fitness:[14962.0000]\n",
      "\t[8 8 6 2 8 7 2 1 5 4 4 5 7 3 6 4 3 7 6 1 3 5 8 4 6 3 9 2 0 4 2 4 1 7 8 2 9// 8 7 1 6 8 5 9 9 9 3 0 0 2 8 8 2 9 6 5 6 6 6 3 8 2 1 4 8 1 6 9 5 1 2 4 7 6// 4 5 8 3 0 0 5 7 5 0 8 6 5 1 7 4 3 6 1 4 0 8 5 4...\n",
      "\n",
      "use_fast_mimic:[False], pop_size:[150], keep_pct:[0.75], max_iters:[1000]\n",
      "runner_name:[mimic], experiment_name:[Knapsack], attempt:[21], iteration:[136], done:[True], time:[1509.38], fitness:[24689.0000]\n",
      "\t[9. 7. 4. 7. 0. 9. 5. 9. 8. 8. 8. 0. 7. 9. 8. 9. 8. 9. 8. 0. 8. 9. 3. 6.// 5. 7. 2. 5. 8. 2. 8. 9. 3. 7. 4. 9. 0. 2. 2. 3. 8. 7. 6. 6. 8. 9. 9. 8.// 9. 4. 9. 8. 7. 2. 6. 3. 3. 8. 9. 9. 1. 9. 7. 8. 8. ...\n",
      "\n",
      "***************\n",
      "*** Run END ***\n",
      "***************\n",
      "*****************\n",
      "*** Run START ***\n",
      "*****************\n",
      "use_fast_mimic:[False], pop_size:[300], keep_pct:[0.25], max_iters:[1000]\n",
      "runner_name:[mimic], experiment_name:[Knapsack], attempt:[0], iteration:[0], done:[False], time:[0.02], fitness:[14962.0000]\n",
      "\t[8 8 6 2 8 7 2 1 5 4 4 5 7 3 6 4 3 7 6 1 3 5 8 4 6 3 9 2 0 4 2 4 1 7 8 2 9// 8 7 1 6 8 5 9 9 9 3 0 0 2 8 8 2 9 6 5 6 6 6 3 8 2 1 4 8 1 6 9 5 1 2 4 7 6// 4 5 8 3 0 0 5 7 5 0 8 6 5 1 7 4 3 6 1 4 0 8 5 4...\n",
      "\n",
      "use_fast_mimic:[False], pop_size:[300], keep_pct:[0.25], max_iters:[1000]\n",
      "runner_name:[mimic], experiment_name:[Knapsack], attempt:[21], iteration:[48], done:[True], time:[552.46], fitness:[25623.0000]\n",
      "\t[9. 0. 1. 9. 0. 9. 6. 0. 9. 1. 9. 0. 5. 9. 9. 3. 7. 9. 6. 0. 8. 7. 4. 7.// 9. 2. 2. 4. 4. 4. 8. 9. 4. 8. 3. 7. 0. 1. 9. 3. 0. 0. 9. 5. 9. 3. 8. 2.// 9. 2. 8. 9. 9. 3. 7. 2. 7. 2. 7. 8. 5. 8. 4. 6. 7. ...\n",
      "\n",
      "***************\n",
      "*** Run END ***\n",
      "***************\n",
      "*****************\n",
      "*** Run START ***\n",
      "*****************\n",
      "use_fast_mimic:[False], pop_size:[300], keep_pct:[0.75], max_iters:[1000]\n",
      "runner_name:[mimic], experiment_name:[Knapsack], attempt:[0], iteration:[0], done:[False], time:[0.03], fitness:[14962.0000]\n",
      "\t[8 8 6 2 8 7 2 1 5 4 4 5 7 3 6 4 3 7 6 1 3 5 8 4 6 3 9 2 0 4 2 4 1 7 8 2 9// 8 7 1 6 8 5 9 9 9 3 0 0 2 8 8 2 9 6 5 6 6 6 3 8 2 1 4 8 1 6 9 5 1 2 4 7 6// 4 5 8 3 0 0 5 7 5 0 8 6 5 1 7 4 3 6 1 4 0 8 5 4...\n",
      "\n",
      "use_fast_mimic:[False], pop_size:[300], keep_pct:[0.75], max_iters:[1000]\n",
      "runner_name:[mimic], experiment_name:[Knapsack], attempt:[21], iteration:[116], done:[True], time:[1274.37], fitness:[25391.0000]\n",
      "\t[7. 0. 1. 5. 0. 9. 1. 0. 9. 3. 8. 3. 9. 9. 9. 5. 9. 9. 8. 2. 9. 9. 9. 8.// 8. 8. 5. 0. 6. 0. 9. 8. 8. 9. 0. 9. 6. 5. 5. 6. 0. 9. 4. 1. 9. 8. 6. 5.// 8. 2. 8. 9. 7. 0. 2. 0. 1. 7. 9. 8. 9. 8. 9. 2. 9. ...\n",
      "\n",
      "***************\n",
      "*** Run END ***\n",
      "***************\n",
      "Run time: 3736.900796\n",
      "Saving: [output\\Knapsack\\mimic__Knapsack__run_stats_df.csv]\n",
      "Saving: [output\\Knapsack\\mimic__Knapsack__curves_df.csv]\n"
     ]
    }
   ],
   "source": [
    "df_run_stats, df_run_curves = mmc.run()   "
   ]
  },
  {
   "cell_type": "code",
   "execution_count": 19,
   "metadata": {
    "scrolled": true
   },
   "outputs": [
    {
     "data": {
      "text/html": [
       "<div>\n",
       "<style scoped>\n",
       "    .dataframe tbody tr th:only-of-type {\n",
       "        vertical-align: middle;\n",
       "    }\n",
       "\n",
       "    .dataframe tbody tr th {\n",
       "        vertical-align: top;\n",
       "    }\n",
       "\n",
       "    .dataframe thead th {\n",
       "        text-align: right;\n",
       "    }\n",
       "</style>\n",
       "<table border=\"1\" class=\"dataframe\">\n",
       "  <thead>\n",
       "    <tr style=\"text-align: right;\">\n",
       "      <th></th>\n",
       "      <th>Iteration</th>\n",
       "      <th>Fitness</th>\n",
       "      <th>Time</th>\n",
       "      <th>State</th>\n",
       "      <th>use_fast_mimic</th>\n",
       "      <th>Population Size</th>\n",
       "      <th>Keep Percent</th>\n",
       "      <th>max_iters</th>\n",
       "    </tr>\n",
       "  </thead>\n",
       "  <tbody>\n",
       "    <tr>\n",
       "      <td>0</td>\n",
       "      <td>0</td>\n",
       "      <td>14962.0</td>\n",
       "      <td>0.011110</td>\n",
       "      <td>[8, 8, 6, 2, 8, 7, 2, 1, 5, 4, 4, 5, 7, 3, 6, ...</td>\n",
       "      <td>False</td>\n",
       "      <td>150</td>\n",
       "      <td>0.25</td>\n",
       "      <td>1000</td>\n",
       "    </tr>\n",
       "    <tr>\n",
       "      <td>1</td>\n",
       "      <td>1000</td>\n",
       "      <td>24139.0</td>\n",
       "      <td>400.089127</td>\n",
       "      <td>[8.0, 3.0, 9.0, 7.0, 0.0, 9.0, 5.0, 0.0, 9.0, ...</td>\n",
       "      <td>False</td>\n",
       "      <td>150</td>\n",
       "      <td>0.25</td>\n",
       "      <td>1000</td>\n",
       "    </tr>\n",
       "    <tr>\n",
       "      <td>2</td>\n",
       "      <td>0</td>\n",
       "      <td>14962.0</td>\n",
       "      <td>0.015864</td>\n",
       "      <td>[8, 8, 6, 2, 8, 7, 2, 1, 5, 4, 4, 5, 7, 3, 6, ...</td>\n",
       "      <td>False</td>\n",
       "      <td>150</td>\n",
       "      <td>0.75</td>\n",
       "      <td>1000</td>\n",
       "    </tr>\n",
       "    <tr>\n",
       "      <td>3</td>\n",
       "      <td>1000</td>\n",
       "      <td>24689.0</td>\n",
       "      <td>1509.375759</td>\n",
       "      <td>[9.0, 7.0, 4.0, 7.0, 0.0, 9.0, 5.0, 9.0, 8.0, ...</td>\n",
       "      <td>False</td>\n",
       "      <td>150</td>\n",
       "      <td>0.75</td>\n",
       "      <td>1000</td>\n",
       "    </tr>\n",
       "    <tr>\n",
       "      <td>4</td>\n",
       "      <td>0</td>\n",
       "      <td>14962.0</td>\n",
       "      <td>0.022477</td>\n",
       "      <td>[8, 8, 6, 2, 8, 7, 2, 1, 5, 4, 4, 5, 7, 3, 6, ...</td>\n",
       "      <td>False</td>\n",
       "      <td>300</td>\n",
       "      <td>0.25</td>\n",
       "      <td>1000</td>\n",
       "    </tr>\n",
       "    <tr>\n",
       "      <td>5</td>\n",
       "      <td>1000</td>\n",
       "      <td>25623.0</td>\n",
       "      <td>552.460206</td>\n",
       "      <td>[9.0, 0.0, 1.0, 9.0, 0.0, 9.0, 6.0, 0.0, 9.0, ...</td>\n",
       "      <td>False</td>\n",
       "      <td>300</td>\n",
       "      <td>0.25</td>\n",
       "      <td>1000</td>\n",
       "    </tr>\n",
       "    <tr>\n",
       "      <td>6</td>\n",
       "      <td>0</td>\n",
       "      <td>14962.0</td>\n",
       "      <td>0.031278</td>\n",
       "      <td>[8, 8, 6, 2, 8, 7, 2, 1, 5, 4, 4, 5, 7, 3, 6, ...</td>\n",
       "      <td>False</td>\n",
       "      <td>300</td>\n",
       "      <td>0.75</td>\n",
       "      <td>1000</td>\n",
       "    </tr>\n",
       "    <tr>\n",
       "      <td>7</td>\n",
       "      <td>1000</td>\n",
       "      <td>25391.0</td>\n",
       "      <td>1274.374343</td>\n",
       "      <td>[7.0, 0.0, 1.0, 5.0, 0.0, 9.0, 1.0, 0.0, 9.0, ...</td>\n",
       "      <td>False</td>\n",
       "      <td>300</td>\n",
       "      <td>0.75</td>\n",
       "      <td>1000</td>\n",
       "    </tr>\n",
       "  </tbody>\n",
       "</table>\n",
       "</div>"
      ],
      "text/plain": [
       "   Iteration  Fitness         Time  \\\n",
       "0          0  14962.0     0.011110   \n",
       "1       1000  24139.0   400.089127   \n",
       "2          0  14962.0     0.015864   \n",
       "3       1000  24689.0  1509.375759   \n",
       "4          0  14962.0     0.022477   \n",
       "5       1000  25623.0   552.460206   \n",
       "6          0  14962.0     0.031278   \n",
       "7       1000  25391.0  1274.374343   \n",
       "\n",
       "                                               State  use_fast_mimic  \\\n",
       "0  [8, 8, 6, 2, 8, 7, 2, 1, 5, 4, 4, 5, 7, 3, 6, ...           False   \n",
       "1  [8.0, 3.0, 9.0, 7.0, 0.0, 9.0, 5.0, 0.0, 9.0, ...           False   \n",
       "2  [8, 8, 6, 2, 8, 7, 2, 1, 5, 4, 4, 5, 7, 3, 6, ...           False   \n",
       "3  [9.0, 7.0, 4.0, 7.0, 0.0, 9.0, 5.0, 9.0, 8.0, ...           False   \n",
       "4  [8, 8, 6, 2, 8, 7, 2, 1, 5, 4, 4, 5, 7, 3, 6, ...           False   \n",
       "5  [9.0, 0.0, 1.0, 9.0, 0.0, 9.0, 6.0, 0.0, 9.0, ...           False   \n",
       "6  [8, 8, 6, 2, 8, 7, 2, 1, 5, 4, 4, 5, 7, 3, 6, ...           False   \n",
       "7  [7.0, 0.0, 1.0, 5.0, 0.0, 9.0, 1.0, 0.0, 9.0, ...           False   \n",
       "\n",
       "   Population Size  Keep Percent  max_iters  \n",
       "0              150          0.25       1000  \n",
       "1              150          0.25       1000  \n",
       "2              150          0.75       1000  \n",
       "3              150          0.75       1000  \n",
       "4              300          0.25       1000  \n",
       "5              300          0.25       1000  \n",
       "6              300          0.75       1000  \n",
       "7              300          0.75       1000  "
      ]
     },
     "execution_count": 19,
     "metadata": {},
     "output_type": "execute_result"
    }
   ],
   "source": [
    "df_run_stats"
   ]
  },
  {
   "cell_type": "code",
   "execution_count": 21,
   "metadata": {},
   "outputs": [],
   "source": [
    "evaluations_ga = evaluations.copy()"
   ]
  },
  {
   "cell_type": "code",
   "execution_count": 22,
   "metadata": {},
   "outputs": [],
   "source": [
    "evaluations = []\n",
    "best_state, best_fitness, fitness_curve_bag_queen_mmc,time_curve_mmc = mlrose_hiive.mimic(problem_cust,  \n",
    "                                                                max_attempts = 100, \n",
    "                                                                 max_iters=1000,\n",
    "                                                      random_state = 2,curve=True\n",
    "                                                    ,keep_pct=0.25,pop_size=300\n",
    "                                                                                         )"
   ]
  },
  {
   "cell_type": "code",
   "execution_count": 23,
   "metadata": {},
   "outputs": [
    {
     "data": {
      "text/plain": [
       "array([9, 0, 1, 9, 0, 9, 6, 0, 9, 1, 9, 0, 5, 9, 9, 3, 7, 9, 6, 0, 8, 7,\n",
       "       4, 7, 9, 2, 2, 4, 4, 4, 8, 9, 4, 8, 3, 7, 0, 1, 9, 3, 0, 0, 9, 5,\n",
       "       9, 3, 8, 2, 9, 2, 8, 9, 9, 3, 7, 2, 7, 2, 7, 8, 5, 8, 4, 6, 7, 8,\n",
       "       5, 9, 9, 8, 9, 9, 6, 9, 6, 9, 9, 0, 7, 7, 9, 8, 3, 9, 5, 4, 8, 9,\n",
       "       8, 8, 9, 4, 6, 7, 1, 8, 8, 9, 8, 9, 9, 9, 6, 9, 7, 8, 8, 9, 6, 5,\n",
       "       8, 9, 5, 4, 8, 0, 9, 0, 0, 7, 9, 9, 9, 7, 6, 9, 8, 9, 9, 9, 9, 9,\n",
       "       9, 7, 9, 8, 9, 6, 0, 9])"
      ]
     },
     "execution_count": 23,
     "metadata": {},
     "output_type": "execute_result"
    }
   ],
   "source": [
    "best_state"
   ]
  },
  {
   "cell_type": "code",
   "execution_count": 24,
   "metadata": {},
   "outputs": [
    {
     "data": {
      "text/plain": [
       "25623.0"
      ]
     },
     "execution_count": 24,
     "metadata": {},
     "output_type": "execute_result"
    }
   ],
   "source": [
    "best_fitness"
   ]
  },
  {
   "cell_type": "code",
   "execution_count": 28,
   "metadata": {},
   "outputs": [],
   "source": [
    "evaluations_mmc = evaluations.copy()"
   ]
  },
  {
   "cell_type": "code",
   "execution_count": 27,
   "metadata": {},
   "outputs": [
    {
     "data": {
      "text/plain": [
       "[<matplotlib.lines.Line2D at 0x194eae85f48>]"
      ]
     },
     "execution_count": 27,
     "metadata": {},
     "output_type": "execute_result"
    },
    {
     "data": {
      "image/png": "[encoded data removed]",
      "text/plain": [
       "<Figure size 432x288 with 1 Axes>"
      ]
     },
     "metadata": {
      "needs_background": "light"
     },
     "output_type": "display_data"
    }
   ],
   "source": [
    "plt.plot(fitness_curve_bag_queen_mmc)"
   ]
  },
  {
   "cell_type": "code",
   "execution_count": 96,
   "metadata": {},
   "outputs": [
    {
     "data": {
      "text/plain": [
       "[<matplotlib.lines.Line2D at 0x268961de6c8>]"
      ]
     },
     "execution_count": 96,
     "metadata": {},
     "output_type": "execute_result"
    },
    {
     "data": {
      "image/png": "[encoded data removed]",
      "text/plain": [
       "<Figure size 432x288 with 1 Axes>"
      ]
     },
     "metadata": {
      "needs_background": "light"
     },
     "output_type": "display_data"
    }
   ],
   "source": [
    "plt.plot(evaluations)"
   ]
  },
  {
   "cell_type": "code",
   "execution_count": 418,
   "metadata": {},
   "outputs": [
    {
     "data": {
      "text/plain": [
       "array([4, 2, 7, 5, 7, 0, 6, 3])"
      ]
     },
     "execution_count": 418,
     "metadata": {},
     "output_type": "execute_result"
    }
   ],
   "source": [
    "best_state"
   ]
  },
  {
   "cell_type": "code",
   "execution_count": 129,
   "metadata": {},
   "outputs": [],
   "source": [
    "fitness_curve_sa"
   ]
  },
  {
   "cell_type": "code",
   "execution_count": 25,
   "metadata": {},
   "outputs": [
    {
     "data": {
      "image/png": "[encoded data removed]",
      "text/plain": [
       "<Figure size 432x288 with 1 Axes>"
      ]
     },
     "metadata": {
      "needs_background": "light"
     },
     "output_type": "display_data"
    }
   ],
   "source": [
    "plt.plot(fitness_curve_rhc,label='RHC')\n",
    "plt.plot(fitness_curve_sa,label='SA')\n",
    "plt.plot(fitness_curve_ga,label = 'GA')\n",
    "plt.plot(fitness_curve_bag_queen_mmc,label='MIMC')\n",
    "\n",
    "plt.title('N Queens Fitness vs Iteration')\n",
    "plt.ylabel('Fitness')\n",
    "plt.xlabel('Iteration')\n",
    "plt.legend()\n",
    "plt.show()"
   ]
  },
  {
   "cell_type": "code",
   "execution_count": 26,
   "metadata": {},
   "outputs": [
    {
     "data": {
      "image/png": "[encoded data removed]",
      "text/plain": [
       "<Figure size 432x288 with 1 Axes>"
      ]
     },
     "metadata": {
      "needs_background": "light"
     },
     "output_type": "display_data"
    }
   ],
   "source": [
    "plt.plot(time_curve_rhc,label='RHC')\n",
    "plt.plot(time_curve_sa,label='SA')\n",
    "plt.plot(time_curve_ga,label = 'GA')\n",
    "plt.plot(time_curve_mmc,label='MIMC')\n",
    "\n",
    "plt.title('Queens Compute Time vs Iteration')\n",
    "plt.ylabel('Compute Time')\n",
    "plt.xlabel('Iteration')\n",
    "plt.legend()\n",
    "plt.savefig('output/queens_time_iter.png')"
   ]
  },
  {
   "cell_type": "code",
   "execution_count": 45,
   "metadata": {},
   "outputs": [
    {
     "data": {
      "image/png": "[encoded data removed]",
      "text/plain": [
       "<Figure size 432x288 with 1 Axes>"
      ]
     },
     "metadata": {
      "needs_background": "light"
     },
     "output_type": "display_data"
    }
   ],
   "source": [
    "plt.plot(evaluations_rhc,label='RHC')\n",
    "plt.plot(evaluations_sa,label='SA')\n",
    "plt.plot(evaluations_ga,label = 'GA')\n",
    "plt.plot(evaluations_mmc,label='MIMC')\n",
    "\n",
    "plt.title('Knapsack Fitness vs Evaluation')\n",
    "plt.ylabel('Fitness')\n",
    "plt.xlabel('Evaluation')\n",
    "plt.legend()\n",
    "plt.savefig('output/knapsack_fit_eval.png')"
   ]
  },
  {
   "cell_type": "code",
   "execution_count": null,
   "metadata": {},
   "outputs": [],
   "source": [
    "problem_cust = mlrose_hiive.DiscreteOpt(length = 140, fitness_fn = fitness_cust, maximize = True,max_val=10)\n",
    "problem_cust.set_mimic_fast_mode(True)"
   ]
  },
  {
   "cell_type": "markdown",
   "metadata": {},
   "source": [
    "## KnapSack"
   ]
  },
  {
   "cell_type": "markdown",
   "metadata": {},
   "source": [
    "### SA for sacks"
   ]
  },
  {
   "cell_type": "code",
   "execution_count": 253,
   "metadata": {},
   "outputs": [],
   "source": [
    "# Solve using simulated annealing - attempt 1\n",
    "init_state = np.array([0]*140)\n",
    "schedule = mlrose_hiive.ExpDecay()\n",
    "best_state, best_fitness, fitness_curve_bag,time_curve_bag = mlrose_hiive.simulated_annealing(problem_cust, schedule = schedule, \n",
    "                                                      max_attempts = 100, max_iters = 1000, \n",
    "                                                      init_state = init_state, random_state = 1,curve= True)"
   ]
  },
  {
   "cell_type": "code",
   "execution_count": 254,
   "metadata": {},
   "outputs": [
    {
     "data": {
      "text/plain": [
       "19560.0"
      ]
     },
     "execution_count": 254,
     "metadata": {},
     "output_type": "execute_result"
    }
   ],
   "source": [
    "best_fitness"
   ]
  },
  {
   "cell_type": "code",
   "execution_count": 255,
   "metadata": {},
   "outputs": [
    {
     "data": {
      "text/plain": [
       "array([7, 9, 6, 0, 1, 8, 5, 9, 9, 1, 8, 6, 4, 5, 6, 1, 8, 9, 5, 7, 7, 9,\n",
       "       6, 7, 3, 6, 0, 6, 9, 8, 9, 9, 9, 3, 5, 0, 6, 9, 7, 7, 9, 5, 6, 6,\n",
       "       7, 8, 4, 8, 6, 4, 3, 8, 7, 6, 9, 9, 9, 9, 9, 9, 0, 9, 7, 7, 0, 2,\n",
       "       4, 3, 8, 7, 0, 9, 9, 5, 8, 5, 9, 8, 8, 6, 6, 3, 7, 1, 3, 0, 0, 8,\n",
       "       7, 9, 0, 0, 1, 5, 9, 7, 8, 3, 5, 0, 0, 9, 7, 3, 0, 3, 6, 5, 6, 8,\n",
       "       4, 9, 8, 3, 6, 9, 7, 3, 8, 8, 0, 7, 6, 3, 4, 8, 8, 4, 9, 8, 1, 7,\n",
       "       6, 2, 5, 9, 9, 9, 9, 9])"
      ]
     },
     "execution_count": 255,
     "metadata": {},
     "output_type": "execute_result"
    }
   ],
   "source": [
    "best_state"
   ]
  },
  {
   "cell_type": "code",
   "execution_count": 256,
   "metadata": {},
   "outputs": [
    {
     "data": {
      "text/plain": [
       "[<matplotlib.lines.Line2D at 0x19d3c82d408>]"
      ]
     },
     "execution_count": 256,
     "metadata": {},
     "output_type": "execute_result"
    },
    {
     "data": {
      "image/png": "[encoded data removed]",
      "text/plain": [
       "<Figure size 432x288 with 1 Axes>"
      ]
     },
     "metadata": {
      "needs_background": "light"
     },
     "output_type": "display_data"
    }
   ],
   "source": [
    "plt.plot(fitness_curve_bag)"
   ]
  },
  {
   "cell_type": "code",
   "execution_count": 257,
   "metadata": {},
   "outputs": [
    {
     "data": {
      "text/plain": [
       "[<matplotlib.lines.Line2D at 0x19d38449c08>]"
      ]
     },
     "execution_count": 257,
     "metadata": {},
     "output_type": "execute_result"
    },
    {
     "data": {
      "image/png": "[encoded data removed]",
      "text/plain": [
       "<Figure size 432x288 with 1 Axes>"
      ]
     },
     "metadata": {
      "needs_background": "light"
     },
     "output_type": "display_data"
    }
   ],
   "source": [
    "plt.plot(time_curve_bag)"
   ]
  },
  {
   "cell_type": "markdown",
   "metadata": {},
   "source": [
    "### GA for sacks"
   ]
  },
  {
   "cell_type": "code",
   "execution_count": 258,
   "metadata": {},
   "outputs": [],
   "source": [
    "# Solve using genetic algorithm\n",
    "best_state, best_fitness, fitness_curve_bag = mlrose_hiive.genetic_alg(problem_cust, mutation_prob = 0.2, max_attempts = 100, \n",
    "                                              random_state = 2,curve=True)"
   ]
  },
  {
   "cell_type": "code",
   "execution_count": 259,
   "metadata": {},
   "outputs": [
    {
     "data": {
      "text/plain": [
       "27818.0"
      ]
     },
     "execution_count": 259,
     "metadata": {},
     "output_type": "execute_result"
    }
   ],
   "source": [
    "best_fitness"
   ]
  },
  {
   "cell_type": "code",
   "execution_count": 245,
   "metadata": {},
   "outputs": [
    {
     "data": {
      "text/plain": [
       "array([1, 1, 1, 1, 0])"
      ]
     },
     "execution_count": 245,
     "metadata": {},
     "output_type": "execute_result"
    }
   ],
   "source": [
    "np.array([1]*4+[0])"
   ]
  },
  {
   "cell_type": "code",
   "execution_count": 246,
   "metadata": {},
   "outputs": [],
   "source": [
    "state = np.array([1, 1, 1, 1, 1])"
   ]
  },
  {
   "cell_type": "code",
   "execution_count": 218,
   "metadata": {},
   "outputs": [
    {
     "data": {
      "text/plain": [
       "0"
      ]
     },
     "execution_count": 218,
     "metadata": {},
     "output_type": "execute_result"
    }
   ],
   "source": [
    "fitness.evaluate(state)"
   ]
  },
  {
   "cell_type": "code",
   "execution_count": 260,
   "metadata": {},
   "outputs": [
    {
     "data": {
      "text/plain": [
       "array([9, 2, 4, 9, 0, 9, 9, 2, 9, 3, 9, 2, 9, 9, 4, 3, 9, 9, 9, 0, 9, 9,\n",
       "       9, 9, 9, 0, 3, 0, 9, 0, 9, 9, 0, 8, 3, 9, 3, 0, 9, 3, 1, 0, 9, 1,\n",
       "       9, 9, 9, 9, 9, 2, 9, 9, 9, 0, 9, 0, 4, 0, 9, 5, 9, 9, 9, 0, 8, 9,\n",
       "       4, 9, 0, 9, 9, 9, 8, 9, 9, 9, 9, 6, 9, 9, 9, 9, 2, 9, 7, 2, 7, 9,\n",
       "       9, 0, 9, 8, 9, 6, 0, 9, 9, 9, 9, 9, 8, 9, 7, 9, 9, 9, 4, 8, 9, 0,\n",
       "       9, 9, 9, 5, 9, 1, 9, 0, 2, 9, 9, 9, 8, 9, 5, 9, 9, 9, 9, 9, 1, 9,\n",
       "       0, 9, 9, 9, 9, 4, 0, 9])"
      ]
     },
     "execution_count": 260,
     "metadata": {},
     "output_type": "execute_result"
    }
   ],
   "source": [
    "best_state"
   ]
  },
  {
   "cell_type": "code",
   "execution_count": 209,
   "metadata": {},
   "outputs": [
    {
     "data": {
      "text/plain": [
       "[10, 5, 2, 8, 15]"
      ]
     },
     "execution_count": 209,
     "metadata": {},
     "output_type": "execute_result"
    }
   ],
   "source": [
    "weights"
   ]
  },
  {
   "cell_type": "code",
   "execution_count": 229,
   "metadata": {},
   "outputs": [
    {
     "data": {
      "text/plain": [
       "634"
      ]
     },
     "execution_count": 229,
     "metadata": {},
     "output_type": "execute_result"
    }
   ],
   "source": [
    "sum(best_state)"
   ]
  },
  {
   "cell_type": "code",
   "execution_count": 178,
   "metadata": {},
   "outputs": [
    {
     "data": {
      "text/plain": [
       "3623"
      ]
     },
     "execution_count": 178,
     "metadata": {},
     "output_type": "execute_result"
    }
   ],
   "source": [
    "sum(wei)"
   ]
  },
  {
   "cell_type": "code",
   "execution_count": 261,
   "metadata": {},
   "outputs": [
    {
     "data": {
      "text/plain": [
       "[<matplotlib.lines.Line2D at 0x19d31682ec8>]"
      ]
     },
     "execution_count": 261,
     "metadata": {},
     "output_type": "execute_result"
    },
    {
     "data": {
      "image/png": "[encoded data removed]",
      "text/plain": [
       "<Figure size 432x288 with 1 Axes>"
      ]
     },
     "metadata": {
      "needs_background": "light"
     },
     "output_type": "display_data"
    }
   ],
   "source": [
    "plt.plot(fitness_curve_bag)"
   ]
  },
  {
   "cell_type": "markdown",
   "metadata": {},
   "source": [
    "## mimic for sacks"
   ]
  },
  {
   "cell_type": "code",
   "execution_count": 183,
   "metadata": {},
   "outputs": [
    {
     "data": {
      "text/plain": [
       "array([1, 1, 1, 1, 1, 1, 1, 1, 1, 1, 1, 1, 1, 1, 1, 1, 1, 1, 1, 1, 1, 1,\n",
       "       1, 1, 1, 1, 1, 1, 1, 1, 1, 1, 1, 1, 1, 1, 1, 1, 1, 1, 1, 1, 1, 1,\n",
       "       1, 1, 1, 1, 1, 1, 1, 1, 1, 1, 1, 1, 1, 1, 1, 1, 1, 1, 1, 1, 1, 1,\n",
       "       1, 1, 1, 1, 1, 1, 1, 1, 1, 1, 1, 1, 1, 1, 1, 1, 1, 1, 1, 1, 1, 1,\n",
       "       1, 1, 1, 1, 1, 1, 1, 1, 1, 1, 1, 1, 1, 1, 1, 1, 1, 1, 1, 1, 1, 1,\n",
       "       1, 1, 1, 1, 1, 1, 1, 1, 1, 1, 1, 1, 1, 1, 1, 1, 1, 1, 1, 1, 1, 1,\n",
       "       1, 1, 1, 1, 1, 1, 1, 1])"
      ]
     },
     "execution_count": 183,
     "metadata": {},
     "output_type": "execute_result"
    }
   ],
   "source": [
    "state"
   ]
  },
  {
   "cell_type": "code",
   "execution_count": 263,
   "metadata": {},
   "outputs": [],
   "source": [
    "best_state, best_fitness, fitness_curve_bag = mlrose_hiive.mimic(problem_cust,  max_attempts = 10, \n",
    "                                                                 max_iters=100,\n",
    "                                              random_state = 2,curve=True)"
   ]
  },
  {
   "cell_type": "code",
   "execution_count": 348,
   "metadata": {},
   "outputs": [],
   "source": [
    "best_state, best_fitness, fitness_curve_bag = mlrose_hiive.mimic(problem_cust,  max_attempts = 1000, \n",
    "                                                                 max_iters=10000,\n",
    "                                              random_state = 2,curve=True)"
   ]
  },
  {
   "cell_type": "code",
   "execution_count": 264,
   "metadata": {},
   "outputs": [
    {
     "data": {
      "text/plain": [
       "24614.0"
      ]
     },
     "execution_count": 264,
     "metadata": {},
     "output_type": "execute_result"
    }
   ],
   "source": [
    "best_fitness"
   ]
  },
  {
   "cell_type": "code",
   "execution_count": 165,
   "metadata": {},
   "outputs": [
    {
     "data": {
      "text/plain": [
       "140"
      ]
     },
     "execution_count": 165,
     "metadata": {},
     "output_type": "execute_result"
    }
   ],
   "source": [
    "len(wei)"
   ]
  },
  {
   "cell_type": "code",
   "execution_count": 265,
   "metadata": {},
   "outputs": [
    {
     "data": {
      "text/plain": [
       "[<matplotlib.lines.Line2D at 0x19d3bfecb08>]"
      ]
     },
     "execution_count": 265,
     "metadata": {},
     "output_type": "execute_result"
    },
    {
     "data": {
      "image/png": "[encoded data removed]",
      "text/plain": [
       "<Figure size 432x288 with 1 Axes>"
      ]
     },
     "metadata": {
      "needs_background": "light"
     },
     "output_type": "display_data"
    }
   ],
   "source": [
    "plt.plot(fitness_curve_bag)"
   ]
  },
  {
   "cell_type": "code",
   "execution_count": 350,
   "metadata": {},
   "outputs": [
    {
     "data": {
      "text/plain": [
       "[<matplotlib.lines.Line2D at 0x19d42ce7688>]"
      ]
     },
     "execution_count": 350,
     "metadata": {},
     "output_type": "execute_result"
    },
    {
     "data": {
      "image/png": "[encoded data removed]",
      "text/plain": [
       "<Figure size 432x288 with 1 Axes>"
      ]
     },
     "metadata": {
      "needs_background": "light"
     },
     "output_type": "display_data"
    }
   ],
   "source": [
    "plt.plot(fitness_curve_bag)"
   ]
  },
  {
   "cell_type": "code",
   "execution_count": null,
   "metadata": {},
   "outputs": [],
   "source": []
  },
  {
   "cell_type": "code",
   "execution_count": 267,
   "metadata": {},
   "outputs": [
    {
     "data": {
      "text/plain": [
       "[<matplotlib.lines.Line2D at 0x19d3d5afe48>]"
      ]
     },
     "execution_count": 267,
     "metadata": {},
     "output_type": "execute_result"
    },
    {
     "data": {
      "image/png": "[encoded data removed]",
      "text/plain": [
       "<Figure size 432x288 with 1 Axes>"
      ]
     },
     "metadata": {
      "needs_background": "light"
     },
     "output_type": "display_data"
    }
   ],
   "source": [
    "plt.plot(np.array(evaluations))"
   ]
  },
  {
   "cell_type": "code",
   "execution_count": 349,
   "metadata": {},
   "outputs": [],
   "source": [
    "with open('mimic_sack_eval.npy', 'wb') as f:\n",
    "    np.save(f, np.array(evaluations))\n",
    "with open('mimic_sack_fit_curve.npy', 'wb') as f:\n",
    "    np.save(f, np.array(best_state))\n",
    "with open('mimic_sack_best_fitness.npy', 'wb') as f:\n",
    "    np.save(f, np.array(fitness_curve_bag))"
   ]
  },
  {
   "cell_type": "code",
   "execution_count": 300,
   "metadata": {},
   "outputs": [],
   "source": [
    "    \n",
    "with open('output/mimic_sack_eval.npy', 'rb') as f:\n",
    "    a = np.load(f)\n"
   ]
  },
  {
   "cell_type": "code",
   "execution_count": 299,
   "metadata": {},
   "outputs": [
    {
     "data": {
      "text/plain": [
       "'C:\\\\Users\\\\xiaoyal\\\\github\\\\ml_7641\\\\homework2\\\\mlrose-master'"
      ]
     },
     "execution_count": 299,
     "metadata": {},
     "output_type": "execute_result"
    }
   ],
   "source": [
    "import os\n",
    "os.getcwd()"
   ]
  },
  {
   "cell_type": "markdown",
   "metadata": {},
   "source": [
    "# four peaks\n"
   ]
  },
  {
   "cell_type": "code",
   "execution_count": null,
   "metadata": {},
   "outputs": [],
   "source": [
    "fitness = mlrose_hiive.FourPeaks(t_pct=0.15)\n"
   ]
  },
  {
   "cell_type": "code",
   "execution_count": 352,
   "metadata": {},
   "outputs": [],
   "source": [
    "# Initialize fitness function object using pre-defined class\n",
    "fitness = mlrose_hiive.FourPeaks(t_pct=0.2)\n"
   ]
  },
  {
   "cell_type": "markdown",
   "metadata": {},
   "source": [
    "### customized fitness function to keep track of evaluations"
   ]
  },
  {
   "cell_type": "code",
   "execution_count": 354,
   "metadata": {},
   "outputs": [],
   "source": [
    "# Define alternative N-Queens fitness function for maximization problem\n",
    "evaluations = []\n",
    "def fourpeak_max(state):\n",
    "    \n",
    "    # Initialize counter\n",
    "    currentfit = fitness.evaluate(state)\n",
    "    evaluations.append(currentfit)\n",
    "    return currentfit"
   ]
  },
  {
   "cell_type": "code",
   "execution_count": 355,
   "metadata": {},
   "outputs": [],
   "source": [
    "# Initialize custom fitness function object\n",
    "fitness_cust = mlrose_hiive.CustomFitness(fourpeak_max)"
   ]
  },
  {
   "cell_type": "code",
   "execution_count": 356,
   "metadata": {},
   "outputs": [
    {
     "data": {
      "text/plain": [
       "4"
      ]
     },
     "execution_count": 356,
     "metadata": {},
     "output_type": "execute_result"
    }
   ],
   "source": [
    "# Check function is working correctly\n",
    "state = np.array([1, 1, 1, 0, 1, 0, 0, 1, 0, 0, 0, 0])\n",
    "# The fitness of this state should be 22\n",
    "fitness_cust.evaluate(state)"
   ]
  },
  {
   "cell_type": "code",
   "execution_count": 357,
   "metadata": {},
   "outputs": [],
   "source": [
    "# Define optimization problem object\n",
    "problem_cust = mlrose_hiive.DiscreteOpt(length = 60, fitness_fn = fitness_cust, maximize = True, max_val = 2)"
   ]
  },
  {
   "cell_type": "code",
   "execution_count": 326,
   "metadata": {},
   "outputs": [
    {
     "data": {
      "text/plain": [
       "1"
      ]
     },
     "execution_count": 326,
     "metadata": {},
     "output_type": "execute_result"
    }
   ],
   "source": [
    "random.randint(0,1)"
   ]
  },
  {
   "cell_type": "code",
   "execution_count": 330,
   "metadata": {},
   "outputs": [
    {
     "data": {
      "text/plain": [
       "[1, 1, 0, 1, 1, 1, 1, 1, 1, 0]"
      ]
     },
     "execution_count": 330,
     "metadata": {},
     "output_type": "execute_result"
    }
   ],
   "source": [
    "init_state[:10]"
   ]
  },
  {
   "cell_type": "markdown",
   "metadata": {},
   "source": [
    "### SA for 4 peak"
   ]
  },
  {
   "cell_type": "code",
   "execution_count": 353,
   "metadata": {},
   "outputs": [],
   "source": [
    "# Define decay schedule\n",
    "schedule = mlrose_hiive.ExpDecay()"
   ]
  },
  {
   "cell_type": "code",
   "execution_count": 362,
   "metadata": {},
   "outputs": [],
   "source": [
    "# Solve using simulated annealing - attempt 1\n",
    "random.seed(0)\n",
    "init_state = [random.randint(0,1) for _ in range(60)]\n",
    "\n",
    "best_state, best_fitness, fit_curve,fit_time = mlrose_hiive.simulated_annealing(problem_cust, schedule = schedule, \n",
    "                                                      max_attempts = 1000, max_iters = 10000, \n",
    "                                                      init_state = init_state, random_state = 1,curve= True)"
   ]
  },
  {
   "cell_type": "code",
   "execution_count": 363,
   "metadata": {},
   "outputs": [
    {
     "data": {
      "text/plain": [
       "60.0"
      ]
     },
     "execution_count": 363,
     "metadata": {},
     "output_type": "execute_result"
    }
   ],
   "source": [
    "best_fitness"
   ]
  },
  {
   "cell_type": "code",
   "execution_count": 360,
   "metadata": {},
   "outputs": [
    {
     "data": {
      "text/plain": [
       "array([1, 1, 1, 1, 1, 1, 1, 1, 1, 1, 1, 1, 1, 1, 1, 1, 1, 1, 1, 1, 1, 1,\n",
       "       1, 1, 1, 1, 1, 1, 1, 1, 1, 1, 1, 1, 1, 1, 1, 1, 1, 1, 1, 1, 1, 1,\n",
       "       1, 1, 1, 1, 1, 1, 1, 1, 1, 1, 1, 1, 1, 1, 0, 0])"
      ]
     },
     "execution_count": 360,
     "metadata": {},
     "output_type": "execute_result"
    }
   ],
   "source": [
    "best_state"
   ]
  },
  {
   "cell_type": "code",
   "execution_count": 364,
   "metadata": {},
   "outputs": [
    {
     "data": {
      "text/plain": [
       "[<matplotlib.lines.Line2D at 0x19d43a60d48>]"
      ]
     },
     "execution_count": 364,
     "metadata": {},
     "output_type": "execute_result"
    },
    {
     "data": {
      "image/png": "[encoded data removed]",
      "text/plain": [
       "<Figure size 432x288 with 1 Axes>"
      ]
     },
     "metadata": {
      "needs_background": "light"
     },
     "output_type": "display_data"
    }
   ],
   "source": [
    "plt.plot(fit_curve)"
   ]
  },
  {
   "cell_type": "markdown",
   "metadata": {},
   "source": [
    "## mimic for 4 peaks"
   ]
  },
  {
   "cell_type": "code",
   "execution_count": 365,
   "metadata": {},
   "outputs": [],
   "source": [
    "from mlrose_hiive import mimic"
   ]
  },
  {
   "cell_type": "code",
   "execution_count": null,
   "metadata": {},
   "outputs": [],
   "source": []
  },
  {
   "cell_type": "code",
   "execution_count": 368,
   "metadata": {},
   "outputs": [],
   "source": [
    "best_state, best_fitness, fitness_curve_mimic = mlrose_hiive.mimic(problem_cust,  max_attempts = 10, \n",
    "                                                                 max_iters=100,\n",
    "                                              random_state = 2,curve=True)"
   ]
  },
  {
   "cell_type": "code",
   "execution_count": 369,
   "metadata": {},
   "outputs": [
    {
     "data": {
      "text/plain": [
       "22.0"
      ]
     },
     "execution_count": 369,
     "metadata": {},
     "output_type": "execute_result"
    }
   ],
   "source": [
    "best_fitness"
   ]
  },
  {
   "cell_type": "code",
   "execution_count": 371,
   "metadata": {},
   "outputs": [
    {
     "data": {
      "text/plain": [
       "[<matplotlib.lines.Line2D at 0x19d43b6d788>]"
      ]
     },
     "execution_count": 371,
     "metadata": {},
     "output_type": "execute_result"
    },
    {
     "data": {
      "image/png": "[encoded data removed]",
      "text/plain": [
       "<Figure size 432x288 with 1 Axes>"
      ]
     },
     "metadata": {
      "needs_background": "light"
     },
     "output_type": "display_data"
    }
   ],
   "source": [
    "plt.plot(fitness_curve_mimic)"
   ]
  },
  {
   "cell_type": "markdown",
   "metadata": {},
   "source": [
    "### GA for 4 peaks"
   ]
  },
  {
   "cell_type": "code",
   "execution_count": 379,
   "metadata": {},
   "outputs": [],
   "source": [
    "best_state, best_fitness, fit_curve = mlrose_hiive.genetic_alg(problem_cust, max_attempts=1000,max_iters=10000, \n",
    "                                                               random_state = 2,curve= True)"
   ]
  },
  {
   "cell_type": "code",
   "execution_count": 380,
   "metadata": {},
   "outputs": [
    {
     "data": {
      "text/plain": [
       "107.0"
      ]
     },
     "execution_count": 380,
     "metadata": {},
     "output_type": "execute_result"
    }
   ],
   "source": [
    "best_fitness"
   ]
  },
  {
   "cell_type": "code",
   "execution_count": 381,
   "metadata": {},
   "outputs": [
    {
     "data": {
      "text/plain": [
       "[<matplotlib.lines.Line2D at 0x19d45d00948>]"
      ]
     },
     "execution_count": 381,
     "metadata": {},
     "output_type": "execute_result"
    },
    {
     "data": {
      "image/png": "[encoded data removed]",
      "text/plain": [
       "<Figure size 432x288 with 1 Axes>"
      ]
     },
     "metadata": {
      "needs_background": "light"
     },
     "output_type": "display_data"
    }
   ],
   "source": [
    "plt.plot(fit_curve)"
   ]
  },
  {
   "cell_type": "markdown",
   "metadata": {},
   "source": [
    "### rhc for 4 peaks"
   ]
  },
  {
   "cell_type": "code",
   "execution_count": 384,
   "metadata": {},
   "outputs": [],
   "source": [
    "best_state, best_fitness, fit_curve = mlrose_hiive.random_hill_climb(problem_cust, max_attempts=1000,max_iters=10000, \n",
    "                                                               random_state = 2,curve= True,restarts = 5)"
   ]
  },
  {
   "cell_type": "code",
   "execution_count": 386,
   "metadata": {},
   "outputs": [
    {
     "data": {
      "text/plain": [
       "60.0"
      ]
     },
     "execution_count": 386,
     "metadata": {},
     "output_type": "execute_result"
    }
   ],
   "source": [
    "best_fitness"
   ]
  },
  {
   "cell_type": "code",
   "execution_count": 385,
   "metadata": {},
   "outputs": [
    {
     "data": {
      "text/plain": [
       "[<matplotlib.lines.Line2D at 0x19d45d59dc8>]"
      ]
     },
     "execution_count": 385,
     "metadata": {},
     "output_type": "execute_result"
    },
    {
     "data": {
      "image/png": "[encoded data removed]",
      "text/plain": [
       "<Figure size 432x288 with 1 Axes>"
      ]
     },
     "metadata": {
      "needs_background": "light"
     },
     "output_type": "display_data"
    }
   ],
   "source": [
    "plt.plot(fit_curve)"
   ]
  },
  {
   "cell_type": "code",
   "execution_count": 427,
   "metadata": {},
   "outputs": [],
   "source": [
    "random.seed(0) \n",
    "\n",
    "wei = [random.randint(1,50) for _ in range(140)]"
   ]
  },
  {
   "cell_type": "code",
   "execution_count": 428,
   "metadata": {},
   "outputs": [
    {
     "data": {
      "text/plain": [
       "[25, 49, 27, 3, 17, 33, 32, 26, 20, 31]"
      ]
     },
     "execution_count": 428,
     "metadata": {},
     "output_type": "execute_result"
    }
   ],
   "source": [
    "wei[:10]"
   ]
  },
  {
   "cell_type": "code",
   "execution_count": null,
   "metadata": {},
   "outputs": [],
   "source": []
  }
 ],
 "metadata": {
  "kernelspec": {
   "display_name": "Python 3",
   "language": "python",
   "name": "python3"
  },
  "language_info": {
   "codemirror_mode": {
    "name": "ipython",
    "version": 3
   },
   "file_extension": ".py",
   "mimetype": "text/x-python",
   "name": "python",
   "nbconvert_exporter": "python",
   "pygments_lexer": "ipython3",
   "version": "3.7.4"
  },
  "pycharm": {
   "stem_cell": {
    "cell_type": "raw",
    "metadata": {
     "collapsed": false
    },
    "source": []
   }
  }
 },
 "nbformat": 4,
 "nbformat_minor": 2
}
