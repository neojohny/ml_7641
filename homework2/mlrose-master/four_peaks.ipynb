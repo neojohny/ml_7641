{
 "cells": [
  {
   "cell_type": "markdown",
   "metadata": {},
   "source": [
    "# mlrose_hiive Tutorial Examples - Genevieve Hayes"
   ]
  },
  {
   "cell_type": "markdown",
   "metadata": {},
   "source": [
    "## Overview"
   ]
  },
  {
   "cell_type": "markdown",
   "metadata": {},
   "source": [
    "mlrose_hiive is a Python package for applying some of the most common randomized optimization and search algorithms to a range of different optimization problems, over both discrete- and continuous-valued parameter spaces. This notebook contains the examples used in the mlrose_hiive tutorial."
   ]
  },
  {
   "cell_type": "markdown",
   "metadata": {},
   "source": [
    "### Import Libraries"
   ]
  },
  {
   "cell_type": "code",
   "execution_count": 1,
   "metadata": {},
   "outputs": [],
   "source": [
    "import mlrose_hiive\n",
    "import numpy as np\n",
    "\n",
    "from sklearn.datasets import load_iris\n",
    "from sklearn.model_selection import train_test_split\n",
    "from sklearn.preprocessing import MinMaxScaler, OneHotEncoder\n",
    "from sklearn.metrics import accuracy_score"
   ]
  },
  {
   "cell_type": "code",
   "execution_count": 2,
   "metadata": {},
   "outputs": [],
   "source": [
    "from matplotlib import pyplot as plt\n",
    "%matplotlib inline"
   ]
  },
  {
   "cell_type": "markdown",
   "metadata": {},
   "source": [
    "# four peaks\n"
   ]
  },
  {
   "cell_type": "code",
   "execution_count": 3,
   "metadata": {},
   "outputs": [],
   "source": [
    "# Initialize fitness function object using pre-defined class\n",
    "fitness = mlrose_hiive.FourPeaks(t_pct=0.2)\n"
   ]
  },
  {
   "cell_type": "markdown",
   "metadata": {},
   "source": [
    "### customized fitness function to keep track of evaluations"
   ]
  },
  {
   "cell_type": "code",
   "execution_count": 4,
   "metadata": {},
   "outputs": [],
   "source": [
    "# Define alternative N-Queens fitness function for maximization problem\n",
    "evaluations = []\n",
    "def fourpeak_max(state):\n",
    "    \n",
    "    # Initialize counter\n",
    "    currentfit = fitness.evaluate(state)\n",
    "    evaluations.append(currentfit)\n",
    "    return currentfit"
   ]
  },
  {
   "cell_type": "code",
   "execution_count": 5,
   "metadata": {},
   "outputs": [],
   "source": [
    "# Initialize custom fitness function object\n",
    "fitness_cust = mlrose_hiive.CustomFitness(fourpeak_max)"
   ]
  },
  {
   "cell_type": "code",
   "execution_count": 6,
   "metadata": {},
   "outputs": [
    {
     "data": {
      "text/plain": [
       "4"
      ]
     },
     "execution_count": 6,
     "metadata": {},
     "output_type": "execute_result"
    }
   ],
   "source": [
    "# Check function is working correctly\n",
    "state = np.array([1, 1, 1, 0, 1, 0, 0, 1, 0, 0, 0, 0])\n",
    "# The fitness of this state should be 22\n",
    "fitness_cust.evaluate(state)"
   ]
  },
  {
   "cell_type": "code",
   "execution_count": 7,
   "metadata": {},
   "outputs": [],
   "source": [
    "# Define optimization problem object\n",
    "problem_cust = mlrose_hiive.DiscreteOpt(length = 60, fitness_fn = fitness_cust, maximize = True, max_val = 2)\n",
    "problem_cust.set_mimic_fast_mode(True)"
   ]
  },
  {
   "cell_type": "code",
   "execution_count": 8,
   "metadata": {},
   "outputs": [],
   "source": [
    "OUTPUT_DIRECTORY = 'output'\n",
    "SEED = 1\n",
    "experiment_name = 'FourPeaks'\n"
   ]
  },
  {
   "cell_type": "markdown",
   "metadata": {},
   "source": [
    "### rhc"
   ]
  },
  {
   "cell_type": "code",
   "execution_count": 9,
   "metadata": {
    "scrolled": true
   },
   "outputs": [
    {
     "name": "stdout",
     "output_type": "stream",
     "text": [
      "Running rhc\n",
      "*****************\n",
      "*** Run START ***\n",
      "*****************\n",
      "restarts:[0], max_iters:[1000], current_restart:[0]\n",
      "runner_name:[rhc], experiment_name:[FourPeaks], attempt:[0], iteration:[0], done:[False], time:[0.00], fitness:[2.0000]\n",
      "\t[1 1 0 0 1 1 1 1 1 0 0 1 0 1 1 0 0 1 0 0 0 1 0 0 1 0 0 0 1 0 0 0 1 1 1 1 1// 0 0 0 1 1 1 1 1 1 0 1 1 0 0 1 0 0 1 1 1 0 1 0]...\n",
      "\n",
      "restarts:[0], max_iters:[1000], current_restart:[0]\n",
      "runner_name:[rhc], experiment_name:[FourPeaks], attempt:[29], iteration:[100], done:[False], time:[0.01], fitness:[3.0000]\n",
      "\t[1 1 1 0 1 1 1 1 1 0 0 1 0 1 1 0 0 1 0 0 0 1 0 0 1 0 0 0 1 0 0 0 1 1 1 1 1// 0 0 0 1 1 1 1 1 1 0 1 1 0 0 1 0 0 1 1 1 0 1 0]...\n",
      "\n",
      "restarts:[0], max_iters:[1000], current_restart:[0]\n",
      "runner_name:[rhc], experiment_name:[FourPeaks], attempt:[13], iteration:[1000], done:[True], time:[0.66], fitness:[27.0000]\n",
      "\t[1 1 1 1 1 1 1 1 1 1 1 1 1 1 1 1 1 1 1 1 1 1 1 1 1 1 1 0 1 0 0 0 1 1 1 1 1// 0 0 0 1 1 1 1 1 1 0 1 1 0 0 1 0 0 1 1 1 0 1 0]...\n",
      "\n",
      "***************\n",
      "*** Run END ***\n",
      "***************\n",
      "*****************\n",
      "*** Run START ***\n",
      "*****************\n",
      "restarts:[5], max_iters:[1000], current_restart:[0]\n",
      "runner_name:[rhc], experiment_name:[FourPeaks], attempt:[0], iteration:[0], done:[False], time:[0.00], fitness:[2.0000]\n",
      "\t[1 1 0 0 1 1 1 1 1 0 0 1 0 1 1 0 0 1 0 0 0 1 0 0 1 0 0 0 1 0 0 0 1 1 1 1 1// 0 0 0 1 1 1 1 1 1 0 1 1 0 0 1 0 0 1 1 1 0 1 0]...\n",
      "\n",
      "restarts:[5], max_iters:[1000], current_restart:[0]\n",
      "runner_name:[rhc], experiment_name:[FourPeaks], attempt:[29], iteration:[100], done:[False], time:[0.00], fitness:[3.0000]\n",
      "\t[1 1 1 0 1 1 1 1 1 0 0 1 0 1 1 0 0 1 0 0 0 1 0 0 1 0 0 0 1 0 0 0 1 1 1 1 1// 0 0 0 1 1 1 1 1 1 0 1 1 0 0 1 0 0 1 1 1 0 1 0]...\n",
      "\n",
      "restarts:[5], max_iters:[1000], current_restart:[0]\n",
      "runner_name:[rhc], experiment_name:[FourPeaks], attempt:[13], iteration:[1000], done:[True], time:[0.16], fitness:[27.0000]\n",
      "\t[1 1 1 1 1 1 1 1 1 1 1 1 1 1 1 1 1 1 1 1 1 1 1 1 1 1 1 0 1 0 0 0 1 1 1 1 1// 0 0 0 1 1 1 1 1 1 0 1 1 0 0 1 0 0 1 1 1 0 1 0]...\n",
      "\n",
      "restarts:[5], max_iters:[1000], current_restart:[1]\n",
      "runner_name:[rhc], experiment_name:[FourPeaks], attempt:[0], iteration:[0], done:[False], time:[0.24], fitness:[5.0000]\n",
      "\t[1 1 1 1 1 0 0 0 0 0 1 1 0 0 0 1 1 0 1 1 1 0 0 0 0 1 1 0 1 0 0 1 1 0 0 0 0// 0 1 1 1 1 1 0 1 0 0 1 1 0 1 1 1 1 0 0 0 1 1 0]...\n",
      "\n",
      "restarts:[5], max_iters:[1000], current_restart:[1]\n",
      "runner_name:[rhc], experiment_name:[FourPeaks], attempt:[65], iteration:[100], done:[False], time:[0.28], fitness:[6.0000]\n",
      "\t[1 1 1 1 1 1 0 0 0 0 1 1 0 0 0 1 1 0 1 1 1 0 0 0 0 1 1 0 1 0 0 1 1 0 0 0 0// 0 1 1 1 1 1 0 1 0 0 1 1 0 1 1 1 1 0 0 0 1 1 0]...\n",
      "\n",
      "restarts:[5], max_iters:[1000], current_restart:[1]\n",
      "runner_name:[rhc], experiment_name:[FourPeaks], attempt:[40], iteration:[1000], done:[True], time:[0.67], fitness:[27.0000]\n",
      "\t[1 1 1 1 1 1 1 1 1 1 1 1 1 1 1 1 1 1 1 1 1 1 1 1 1 1 1 0 1 0 0 1 1 0 0 0 0// 0 1 1 1 1 1 0 1 0 0 1 1 0 1 1 1 1 0 0 0 1 1 0]...\n",
      "\n",
      "restarts:[5], max_iters:[1000], current_restart:[2]\n",
      "runner_name:[rhc], experiment_name:[FourPeaks], attempt:[0], iteration:[0], done:[False], time:[0.76], fitness:[0.0000]\n",
      "\t[0 1 0 1 0 0 1 0 1 0 1 1 0 0 0 1 0 1 0 1 0 0 1 1 1 1 1 0 1 0 0 1 1 0 0 1 0// 1 0 0 1 1 1 1 0 1 1 0 1 1 0 0 0 0 1 0 0 0 1 1]...\n",
      "\n",
      "restarts:[5], max_iters:[1000], current_restart:[2]\n",
      "runner_name:[rhc], experiment_name:[FourPeaks], attempt:[19], iteration:[100], done:[False], time:[0.80], fitness:[11.0000]\n",
      "\t[1 1 0 1 0 0 1 0 1 0 1 1 0 0 0 1 0 1 0 1 0 0 1 1 1 1 1 0 1 0 0 1 1 0 0 1 0// 1 0 0 1 1 1 1 0 1 1 0 1 0 0 0 0 0 0 0 0 0 0 0]...\n",
      "\n",
      "restarts:[5], max_iters:[1000], current_restart:[2]\n",
      "runner_name:[rhc], experiment_name:[FourPeaks], attempt:[110], iteration:[1000], done:[True], time:[1.18], fitness:[34.0000]\n",
      "\t[1 1 0 1 0 0 1 0 1 0 1 1 0 0 0 1 0 1 0 1 0 0 1 1 1 1 0 0 0 0 0 0 0 0 0 0 0// 0 0 0 0 0 0 0 0 0 0 0 0 0 0 0 0 0 0 0 0 0 0 0]...\n",
      "\n",
      "restarts:[5], max_iters:[1000], current_restart:[3]\n",
      "runner_name:[rhc], experiment_name:[FourPeaks], attempt:[0], iteration:[0], done:[False], time:[1.26], fitness:[3.0000]\n",
      "\t[1 1 0 1 0 0 0 0 0 1 0 0 0 1 0 0 0 1 1 1 0 1 1 1 1 0 0 1 1 0 1 0 1 1 0 1 0// 0 0 1 1 0 1 0 1 1 0 0 1 1 0 0 0 1 0 1 1 0 0 0]...\n",
      "\n",
      "restarts:[5], max_iters:[1000], current_restart:[3]\n",
      "runner_name:[rhc], experiment_name:[FourPeaks], attempt:[83], iteration:[100], done:[False], time:[1.29], fitness:[5.0000]\n",
      "\t[1 1 1 1 1 0 0 0 0 1 0 0 0 1 0 0 0 1 1 1 0 1 1 1 1 0 0 1 1 0 1 0 1 1 0 1 0// 0 0 1 1 0 1 0 1 1 0 0 1 1 0 0 0 1 0 1 1 0 0 0]...\n",
      "\n",
      "restarts:[5], max_iters:[1000], current_restart:[3]\n",
      "runner_name:[rhc], experiment_name:[FourPeaks], attempt:[52], iteration:[1000], done:[True], time:[1.76], fitness:[38.0000]\n",
      "\t[1 1 1 1 1 1 1 1 1 1 1 1 1 1 1 1 1 1 1 1 1 1 1 1 1 1 1 1 1 1 1 1 1 1 1 1 1// 1 0 1 1 0 1 0 1 1 0 0 1 1 0 0 0 1 0 1 1 0 0 0]...\n",
      "\n",
      "restarts:[5], max_iters:[1000], current_restart:[4]\n",
      "runner_name:[rhc], experiment_name:[FourPeaks], attempt:[0], iteration:[0], done:[False], time:[1.85], fitness:[1.0000]\n",
      "\t[0 0 0 1 0 1 0 1 0 0 1 1 1 0 1 1 1 0 1 1 0 0 1 1 1 0 1 0 0 1 1 0 0 0 1 0 1// 1 1 0 1 0 1 1 0 1 0 0 0 0 1 0 0 0 1 1 1 1 1 0]...\n",
      "\n",
      "restarts:[5], max_iters:[1000], current_restart:[4]\n",
      "runner_name:[rhc], experiment_name:[FourPeaks], attempt:[101], iteration:[100], done:[False], time:[1.89], fitness:[1.0000]\n",
      "\t[0 0 0 1 0 1 0 1 0 0 1 1 1 0 1 1 1 0 1 1 0 0 1 1 1 0 1 0 0 1 1 0 0 0 1 0 1// 1 1 0 1 0 1 1 0 1 0 0 0 0 1 0 0 0 1 1 1 1 1 0]...\n",
      "\n",
      "restarts:[5], max_iters:[1000], current_restart:[4]\n",
      "runner_name:[rhc], experiment_name:[FourPeaks], attempt:[39], iteration:[1000], done:[True], time:[2.44], fitness:[19.0000]\n",
      "\t[0 0 0 1 0 1 0 1 0 0 1 1 1 0 1 1 1 0 1 1 0 0 1 1 1 0 1 0 0 1 1 0 0 0 1 0 1// 1 1 0 1 0 0 0 0 0 0 0 0 0 0 0 0 0 0 0 0 0 0 0]...\n",
      "\n",
      "restarts:[5], max_iters:[1000], current_restart:[5]\n",
      "runner_name:[rhc], experiment_name:[FourPeaks], attempt:[0], iteration:[0], done:[False], time:[2.53], fitness:[0.0000]\n",
      "\t[0 0 1 0 1 1 0 0 1 0 1 0 1 1 0 0 1 1 1 0 1 0 0 1 0 1 1 1 1 0 1 0 1 1 1 0 1// 0 0 1 0 1 1 1 0 1 0 1 0 1 1 1 1 1 1 0 0 0 1 1]...\n",
      "\n",
      "restarts:[5], max_iters:[1000], current_restart:[5]\n",
      "runner_name:[rhc], experiment_name:[FourPeaks], attempt:[53], iteration:[100], done:[False], time:[2.59], fitness:[5.0000]\n",
      "\t[0 0 1 0 1 1 0 0 1 0 1 0 1 1 0 0 1 1 1 0 1 0 0 1 0 1 1 1 1 0 1 0 1 1 1 0 1// 0 0 1 0 1 1 1 0 1 0 1 0 1 1 1 1 1 1 0 0 0 0 0]...\n",
      "\n",
      "restarts:[5], max_iters:[1000], current_restart:[5]\n",
      "runner_name:[rhc], experiment_name:[FourPeaks], attempt:[56], iteration:[1000], done:[True], time:[3.27], fitness:[39.0000]\n",
      "\t[0 0 1 0 1 1 0 0 1 0 1 0 1 1 0 0 1 1 1 0 1 0 0 0 0 0 0 0 0 0 0 0 0 0 0 0 0// 0 0 0 0 0 0 0 0 0 0 0 0 0 0 0 0 0 0 0 0 0 0 0]...\n",
      "\n",
      "***************\n",
      "*** Run END ***\n",
      "***************\n",
      "*****************\n",
      "*** Run START ***\n",
      "*****************\n",
      "restarts:[15], max_iters:[1000], current_restart:[0]\n",
      "runner_name:[rhc], experiment_name:[FourPeaks], attempt:[0], iteration:[0], done:[False], time:[0.00], fitness:[2.0000]\n",
      "\t[1 1 0 0 1 1 1 1 1 0 0 1 0 1 1 0 0 1 0 0 0 1 0 0 1 0 0 0 1 0 0 0 1 1 1 1 1// 0 0 0 1 1 1 1 1 1 0 1 1 0 0 1 0 0 1 1 1 0 1 0]...\n",
      "\n",
      "restarts:[15], max_iters:[1000], current_restart:[0]\n",
      "runner_name:[rhc], experiment_name:[FourPeaks], attempt:[29], iteration:[100], done:[False], time:[0.03], fitness:[3.0000]\n",
      "\t[1 1 1 0 1 1 1 1 1 0 0 1 0 1 1 0 0 1 0 0 0 1 0 0 1 0 0 0 1 0 0 0 1 1 1 1 1// 0 0 0 1 1 1 1 1 1 0 1 1 0 0 1 0 0 1 1 1 0 1 0]...\n",
      "\n",
      "restarts:[15], max_iters:[1000], current_restart:[0]\n",
      "runner_name:[rhc], experiment_name:[FourPeaks], attempt:[13], iteration:[1000], done:[True], time:[0.23], fitness:[27.0000]\n",
      "\t[1 1 1 1 1 1 1 1 1 1 1 1 1 1 1 1 1 1 1 1 1 1 1 1 1 1 1 0 1 0 0 0 1 1 1 1 1// 0 0 0 1 1 1 1 1 1 0 1 1 0 0 1 0 0 1 1 1 0 1 0]...\n",
      "\n",
      "restarts:[15], max_iters:[1000], current_restart:[1]\n",
      "runner_name:[rhc], experiment_name:[FourPeaks], attempt:[0], iteration:[0], done:[False], time:[0.44], fitness:[5.0000]\n",
      "\t[1 1 1 1 1 0 0 0 0 0 1 1 0 0 0 1 1 0 1 1 1 0 0 0 0 1 1 0 1 0 0 1 1 0 0 0 0// 0 1 1 1 1 1 0 1 0 0 1 1 0 1 1 1 1 0 0 0 1 1 0]...\n",
      "\n",
      "restarts:[15], max_iters:[1000], current_restart:[1]\n",
      "runner_name:[rhc], experiment_name:[FourPeaks], attempt:[65], iteration:[100], done:[False], time:[0.46], fitness:[6.0000]\n",
      "\t[1 1 1 1 1 1 0 0 0 0 1 1 0 0 0 1 1 0 1 1 1 0 0 0 0 1 1 0 1 0 0 1 1 0 0 0 0// 0 1 1 1 1 1 0 1 0 0 1 1 0 1 1 1 1 0 0 0 1 1 0]...\n",
      "\n",
      "restarts:[15], max_iters:[1000], current_restart:[1]\n",
      "runner_name:[rhc], experiment_name:[FourPeaks], attempt:[40], iteration:[1000], done:[True], time:[0.80], fitness:[27.0000]\n",
      "\t[1 1 1 1 1 1 1 1 1 1 1 1 1 1 1 1 1 1 1 1 1 1 1 1 1 1 1 0 1 0 0 1 1 0 0 0 0// 0 1 1 1 1 1 0 1 0 0 1 1 0 1 1 1 1 0 0 0 1 1 0]...\n",
      "\n",
      "restarts:[15], max_iters:[1000], current_restart:[2]\n",
      "runner_name:[rhc], experiment_name:[FourPeaks], attempt:[0], iteration:[0], done:[False], time:[0.94], fitness:[0.0000]\n",
      "\t[0 1 0 1 0 0 1 0 1 0 1 1 0 0 0 1 0 1 0 1 0 0 1 1 1 1 1 0 1 0 0 1 1 0 0 1 0// 1 0 0 1 1 1 1 0 1 1 0 1 1 0 0 0 0 1 0 0 0 1 1]...\n",
      "\n"
     ]
    },
    {
     "name": "stdout",
     "output_type": "stream",
     "text": [
      "restarts:[15], max_iters:[1000], current_restart:[2]\n",
      "runner_name:[rhc], experiment_name:[FourPeaks], attempt:[19], iteration:[100], done:[False], time:[0.98], fitness:[11.0000]\n",
      "\t[1 1 0 1 0 0 1 0 1 0 1 1 0 0 0 1 0 1 0 1 0 0 1 1 1 1 1 0 1 0 0 1 1 0 0 1 0// 1 0 0 1 1 1 1 0 1 1 0 1 0 0 0 0 0 0 0 0 0 0 0]...\n",
      "\n",
      "restarts:[15], max_iters:[1000], current_restart:[2]\n",
      "runner_name:[rhc], experiment_name:[FourPeaks], attempt:[110], iteration:[1000], done:[True], time:[1.46], fitness:[34.0000]\n",
      "\t[1 1 0 1 0 0 1 0 1 0 1 1 0 0 0 1 0 1 0 1 0 0 1 1 1 1 0 0 0 0 0 0 0 0 0 0 0// 0 0 0 0 0 0 0 0 0 0 0 0 0 0 0 0 0 0 0 0 0 0 0]...\n",
      "\n",
      "restarts:[15], max_iters:[1000], current_restart:[3]\n",
      "runner_name:[rhc], experiment_name:[FourPeaks], attempt:[0], iteration:[0], done:[False], time:[1.60], fitness:[3.0000]\n",
      "\t[1 1 0 1 0 0 0 0 0 1 0 0 0 1 0 0 0 1 1 1 0 1 1 1 1 0 0 1 1 0 1 0 1 1 0 1 0// 0 0 1 1 0 1 0 1 1 0 0 1 1 0 0 0 1 0 1 1 0 0 0]...\n",
      "\n",
      "restarts:[15], max_iters:[1000], current_restart:[3]\n",
      "runner_name:[rhc], experiment_name:[FourPeaks], attempt:[83], iteration:[100], done:[False], time:[1.63], fitness:[5.0000]\n",
      "\t[1 1 1 1 1 0 0 0 0 1 0 0 0 1 0 0 0 1 1 1 0 1 1 1 1 0 0 1 1 0 1 0 1 1 0 1 0// 0 0 1 1 0 1 0 1 1 0 0 1 1 0 0 0 1 0 1 1 0 0 0]...\n",
      "\n",
      "restarts:[15], max_iters:[1000], current_restart:[3]\n",
      "runner_name:[rhc], experiment_name:[FourPeaks], attempt:[52], iteration:[1000], done:[True], time:[2.15], fitness:[38.0000]\n",
      "\t[1 1 1 1 1 1 1 1 1 1 1 1 1 1 1 1 1 1 1 1 1 1 1 1 1 1 1 1 1 1 1 1 1 1 1 1 1// 1 0 1 1 0 1 0 1 1 0 0 1 1 0 0 0 1 0 1 1 0 0 0]...\n",
      "\n",
      "restarts:[15], max_iters:[1000], current_restart:[4]\n",
      "runner_name:[rhc], experiment_name:[FourPeaks], attempt:[0], iteration:[0], done:[False], time:[2.41], fitness:[1.0000]\n",
      "\t[0 0 0 1 0 1 0 1 0 0 1 1 1 0 1 1 1 0 1 1 0 0 1 1 1 0 1 0 0 1 1 0 0 0 1 0 1// 1 1 0 1 0 1 1 0 1 0 0 0 0 1 0 0 0 1 1 1 1 1 0]...\n",
      "\n",
      "restarts:[15], max_iters:[1000], current_restart:[4]\n",
      "runner_name:[rhc], experiment_name:[FourPeaks], attempt:[101], iteration:[100], done:[False], time:[2.46], fitness:[1.0000]\n",
      "\t[0 0 0 1 0 1 0 1 0 0 1 1 1 0 1 1 1 0 1 1 0 0 1 1 1 0 1 0 0 1 1 0 0 0 1 0 1// 1 1 0 1 0 1 1 0 1 0 0 0 0 1 0 0 0 1 1 1 1 1 0]...\n",
      "\n",
      "restarts:[15], max_iters:[1000], current_restart:[4]\n",
      "runner_name:[rhc], experiment_name:[FourPeaks], attempt:[39], iteration:[1000], done:[True], time:[3.08], fitness:[19.0000]\n",
      "\t[0 0 0 1 0 1 0 1 0 0 1 1 1 0 1 1 1 0 1 1 0 0 1 1 1 0 1 0 0 1 1 0 0 0 1 0 1// 1 1 0 1 0 0 0 0 0 0 0 0 0 0 0 0 0 0 0 0 0 0 0]...\n",
      "\n",
      "restarts:[15], max_iters:[1000], current_restart:[5]\n",
      "runner_name:[rhc], experiment_name:[FourPeaks], attempt:[0], iteration:[0], done:[False], time:[3.28], fitness:[0.0000]\n",
      "\t[0 0 1 0 1 1 0 0 1 0 1 0 1 1 0 0 1 1 1 0 1 0 0 1 0 1 1 1 1 0 1 0 1 1 1 0 1// 0 0 1 0 1 1 1 0 1 0 1 0 1 1 1 1 1 1 0 0 0 1 1]...\n",
      "\n",
      "restarts:[15], max_iters:[1000], current_restart:[5]\n",
      "runner_name:[rhc], experiment_name:[FourPeaks], attempt:[53], iteration:[100], done:[False], time:[3.33], fitness:[5.0000]\n",
      "\t[0 0 1 0 1 1 0 0 1 0 1 0 1 1 0 0 1 1 1 0 1 0 0 1 0 1 1 1 1 0 1 0 1 1 1 0 1// 0 0 1 0 1 1 1 0 1 0 1 0 1 1 1 1 1 1 0 0 0 0 0]...\n",
      "\n",
      "restarts:[15], max_iters:[1000], current_restart:[5]\n",
      "runner_name:[rhc], experiment_name:[FourPeaks], attempt:[56], iteration:[1000], done:[True], time:[4.43], fitness:[39.0000]\n",
      "\t[0 0 1 0 1 1 0 0 1 0 1 0 1 1 0 0 1 1 1 0 1 0 0 0 0 0 0 0 0 0 0 0 0 0 0 0 0// 0 0 0 0 0 0 0 0 0 0 0 0 0 0 0 0 0 0 0 0 0 0 0]...\n",
      "\n",
      "restarts:[15], max_iters:[1000], current_restart:[6]\n",
      "runner_name:[rhc], experiment_name:[FourPeaks], attempt:[0], iteration:[0], done:[False], time:[4.83], fitness:[2.0000]\n",
      "\t[1 0 1 0 1 1 0 0 0 1 1 0 0 0 1 0 0 0 1 0 0 1 1 0 1 1 1 0 0 0 0 0 0 1 1 0 0// 1 0 0 1 1 1 1 0 1 0 1 0 0 1 1 0 0 0 0 1 1 0 0]...\n",
      "\n",
      "restarts:[15], max_iters:[1000], current_restart:[6]\n",
      "runner_name:[rhc], experiment_name:[FourPeaks], attempt:[16], iteration:[100], done:[False], time:[5.02], fitness:[7.0000]\n",
      "\t[1 1 1 1 1 1 1 0 0 1 1 0 0 0 1 0 0 0 1 0 0 1 1 0 1 1 1 0 0 0 0 0 0 1 1 0 0// 1 0 0 1 1 1 1 0 1 0 1 0 0 1 1 0 0 0 0 1 1 0 0]...\n",
      "\n",
      "restarts:[15], max_iters:[1000], current_restart:[6]\n",
      "runner_name:[rhc], experiment_name:[FourPeaks], attempt:[3], iteration:[1000], done:[True], time:[6.66], fitness:[32.0000]\n",
      "\t[1 1 1 1 1 1 1 1 1 1 1 1 1 1 1 1 1 1 1 1 1 1 1 1 1 1 1 1 1 1 1 1 0 1 1 0 0// 1 0 0 1 1 1 1 0 1 0 1 0 0 1 1 0 0 0 0 1 1 0 0]...\n",
      "\n",
      "restarts:[15], max_iters:[1000], current_restart:[7]\n",
      "runner_name:[rhc], experiment_name:[FourPeaks], attempt:[0], iteration:[0], done:[False], time:[7.09], fitness:[1.0000]\n",
      "\t[1 0 1 0 1 1 1 0 1 0 0 0 0 0 0 0 1 1 0 0 0 1 1 0 0 0 0 0 0 1 0 1 0 0 1 0 1// 0 1 0 0 0 1 1 1 0 0 0 0 1 0 0 0 1 0 1 0 1 1 0]...\n",
      "\n",
      "restarts:[15], max_iters:[1000], current_restart:[7]\n",
      "runner_name:[rhc], experiment_name:[FourPeaks], attempt:[12], iteration:[100], done:[False], time:[7.19], fitness:[12.0000]\n",
      "\t[1 1 1 1 1 1 1 1 1 1 1 1 0 0 0 0 1 1 0 0 0 1 1 0 0 0 0 0 0 1 0 1 0 0 1 0 1// 0 1 0 0 0 1 1 1 0 0 0 0 1 0 0 0 1 0 1 0 1 1 0]...\n",
      "\n",
      "restarts:[15], max_iters:[1000], current_restart:[7]\n",
      "runner_name:[rhc], experiment_name:[FourPeaks], attempt:[13], iteration:[1000], done:[True], time:[9.02], fitness:[33.0000]\n",
      "\t[1 1 1 1 1 1 1 1 1 1 1 1 1 1 1 1 1 1 1 1 1 1 1 1 1 1 1 1 1 1 1 1 1 0 1 0 1// 0 1 0 0 0 1 1 1 0 0 0 0 1 0 0 0 1 0 1 0 1 1 0]...\n",
      "\n",
      "restarts:[15], max_iters:[1000], current_restart:[8]\n",
      "runner_name:[rhc], experiment_name:[FourPeaks], attempt:[0], iteration:[0], done:[False], time:[9.52], fitness:[4.0000]\n",
      "\t[1 1 1 1 0 1 1 0 0 1 1 0 0 0 1 1 0 1 1 1 0 1 0 0 1 0 1 0 0 1 1 0 1 1 1 0 1// 1 1 1 0 1 1 1 1 1 1 1 1 1 1 0 1 1 1 1 0 1 0 1]...\n",
      "\n",
      "restarts:[15], max_iters:[1000], current_restart:[8]\n",
      "runner_name:[rhc], experiment_name:[FourPeaks], attempt:[50], iteration:[100], done:[False], time:[9.63], fitness:[7.0000]\n",
      "\t[1 1 1 1 1 1 1 0 0 1 1 0 0 0 1 1 0 1 1 1 0 1 0 0 1 0 1 0 0 1 1 0 1 1 1 0 1// 1 1 1 0 1 1 1 1 1 1 1 1 1 1 0 1 1 1 1 0 1 0 1]...\n",
      "\n",
      "restarts:[15], max_iters:[1000], current_restart:[8]\n",
      "runner_name:[rhc], experiment_name:[FourPeaks], attempt:[24], iteration:[1000], done:[True], time:[10.72], fitness:[60.0000]\n",
      "\t[1 1 1 1 1 1 1 1 1 1 1 1 1 1 1 1 1 1 1 1 1 1 1 1 1 1 1 1 1 1 1 1 1 1 1 1 1// 1 1 1 1 1 1 1 1 1 1 1 1 1 1 1 1 1 1 1 1 1 1 1]...\n",
      "\n",
      "restarts:[15], max_iters:[1000], current_restart:[9]\n",
      "runner_name:[rhc], experiment_name:[FourPeaks], attempt:[0], iteration:[0], done:[False], time:[10.98], fitness:[7.0000]\n",
      "\t[1 1 1 1 1 1 1 0 0 0 1 0 1 1 0 1 1 1 0 1 0 1 1 0 1 1 0 1 1 1 1 0 1 1 1 0 0// 1 1 1 0 1 1 0 1 0 0 1 1 1 0 1 0 1 0 1 1 0 0 1]...\n",
      "\n",
      "restarts:[15], max_iters:[1000], current_restart:[9]\n",
      "runner_name:[rhc], experiment_name:[FourPeaks], attempt:[70], iteration:[100], done:[False], time:[11.10], fitness:[8.0000]\n",
      "\t[1 1 1 1 1 1 1 1 0 0 1 0 1 1 0 1 1 1 0 1 0 1 1 0 1 1 0 1 1 1 1 0 1 1 1 0 0// 1 1 1 0 1 1 0 1 0 0 1 1 1 0 1 0 1 0 1 1 0 0 1]...\n",
      "\n",
      "restarts:[15], max_iters:[1000], current_restart:[9]\n",
      "runner_name:[rhc], experiment_name:[FourPeaks], attempt:[18], iteration:[1000], done:[True], time:[12.68], fitness:[57.0000]\n",
      "\t[1 1 1 1 1 1 1 1 1 1 1 1 1 1 1 1 1 1 1 1 1 1 1 1 1 1 1 1 1 1 1 1 1 1 1 1 1// 1 1 1 1 1 1 1 1 1 1 1 1 1 1 1 1 1 1 1 1 0 0 1]...\n",
      "\n",
      "restarts:[15], max_iters:[1000], current_restart:[10]\n",
      "runner_name:[rhc], experiment_name:[FourPeaks], attempt:[0], iteration:[0], done:[False], time:[13.09], fitness:[1.0000]\n",
      "\t[0 1 1 1 0 0 0 0 1 1 1 1 1 0 1 0 1 1 0 0 0 1 0 0 1 0 0 1 1 1 1 1 0 0 1 1 1// 0 0 1 1 1 1 1 1 1 0 1 1 1 1 0 0 0 1 0 1 0 1 0]...\n",
      "\n",
      "restarts:[15], max_iters:[1000], current_restart:[10]\n",
      "runner_name:[rhc], experiment_name:[FourPeaks], attempt:[14], iteration:[100], done:[False], time:[13.23], fitness:[5.0000]\n",
      "\t[1 1 1 1 0 0 0 0 1 1 1 1 1 0 1 0 1 1 0 0 0 1 0 0 1 0 0 1 1 1 1 1 0 0 1 1 1// 0 0 1 1 1 1 1 1 1 0 1 1 1 1 0 0 0 1 0 0 0 0 0]...\n",
      "\n",
      "restarts:[15], max_iters:[1000], current_restart:[10]\n",
      "runner_name:[rhc], experiment_name:[FourPeaks], attempt:[136], iteration:[1000], done:[True], time:[15.26], fitness:[23.0000]\n",
      "\t[1 1 1 1 0 0 0 0 1 1 1 1 1 0 1 0 1 1 0 0 0 1 0 0 1 0 0 1 1 1 1 1 0 0 1 1 1// 0 0 0 0 0 0 0 0 0 0 0 0 0 0 0 0 0 0 0 0 0 0 0]...\n",
      "\n",
      "restarts:[15], max_iters:[1000], current_restart:[11]\n",
      "runner_name:[rhc], experiment_name:[FourPeaks], attempt:[0], iteration:[0], done:[False], time:[15.71], fitness:[4.0000]\n",
      "\t[1 0 0 0 0 1 1 1 1 1 1 1 1 0 1 0 1 0 1 1 1 0 1 1 0 0 0 0 1 0 0 0 1 0 1 1 1// 1 1 1 0 1 1 0 1 0 1 0 0 1 1 0 0 0 1 1 0 0 0 0]...\n",
      "\n"
     ]
    },
    {
     "name": "stdout",
     "output_type": "stream",
     "text": [
      "restarts:[15], max_iters:[1000], current_restart:[11]\n",
      "runner_name:[rhc], experiment_name:[FourPeaks], attempt:[101], iteration:[100], done:[False], time:[15.89], fitness:[4.0000]\n",
      "\t[1 0 0 0 0 1 1 1 1 1 1 1 1 0 1 0 1 0 1 1 1 0 1 1 0 0 0 0 1 0 0 0 1 0 1 1 1// 1 1 1 0 1 1 0 1 0 1 0 0 1 1 0 0 0 1 1 0 0 0 0]...\n",
      "\n",
      "restarts:[15], max_iters:[1000], current_restart:[11]\n",
      "runner_name:[rhc], experiment_name:[FourPeaks], attempt:[13], iteration:[1000], done:[True], time:[18.89], fitness:[36.0000]\n",
      "\t[1 0 0 0 0 1 1 1 1 1 1 1 1 0 1 0 1 0 1 1 1 0 1 1 0 0 0 0 0 0 0 0 0 0 0 0 0// 0 0 0 0 0 0 0 0 0 0 0 0 0 0 0 0 0 0 0 0 0 0 0]...\n",
      "\n",
      "restarts:[15], max_iters:[1000], current_restart:[12]\n",
      "runner_name:[rhc], experiment_name:[FourPeaks], attempt:[0], iteration:[0], done:[False], time:[19.45], fitness:[4.0000]\n",
      "\t[1 1 1 1 0 0 0 0 1 0 0 1 1 1 1 0 0 1 0 0 0 0 0 0 1 0 1 1 1 0 1 1 1 0 0 1 1// 1 1 1 0 1 1 1 0 0 0 0 0 1 1 0 0 0 0 1 0 1 0 0]...\n",
      "\n",
      "restarts:[15], max_iters:[1000], current_restart:[12]\n",
      "runner_name:[rhc], experiment_name:[FourPeaks], attempt:[38], iteration:[100], done:[False], time:[19.61], fitness:[5.0000]\n",
      "\t[1 1 1 1 1 0 0 0 1 0 0 1 1 1 1 0 0 1 0 0 0 0 0 0 1 0 1 1 1 0 1 1 1 0 0 1 1// 1 1 1 0 1 1 1 0 0 0 0 0 1 1 0 0 0 0 1 0 1 0 0]...\n",
      "\n",
      "restarts:[15], max_iters:[1000], current_restart:[12]\n",
      "runner_name:[rhc], experiment_name:[FourPeaks], attempt:[20], iteration:[1000], done:[True], time:[21.52], fitness:[40.0000]\n",
      "\t[1 1 1 1 1 1 1 1 1 1 1 1 1 1 1 1 1 1 1 1 1 1 1 1 1 1 1 1 1 1 1 1 1 1 1 1 1// 1 1 1 0 1 1 1 0 0 0 0 0 1 1 0 0 0 0 1 0 1 0 0]...\n",
      "\n",
      "restarts:[15], max_iters:[1000], current_restart:[13]\n",
      "runner_name:[rhc], experiment_name:[FourPeaks], attempt:[0], iteration:[0], done:[False], time:[21.88], fitness:[1.0000]\n",
      "\t[1 0 1 1 0 0 1 1 1 1 1 1 0 1 0 1 0 0 1 1 0 0 0 0 0 0 0 1 1 1 1 1 0 1 0 0 1// 0 0 1 1 0 1 0 1 1 1 1 1 0 0 1 0 0 1 0 1 0 0 1]...\n",
      "\n",
      "restarts:[15], max_iters:[1000], current_restart:[13]\n",
      "runner_name:[rhc], experiment_name:[FourPeaks], attempt:[66], iteration:[100], done:[False], time:[22.11], fitness:[12.0000]\n",
      "\t[1 1 1 1 1 1 1 1 1 1 1 1 0 1 0 1 0 0 1 1 0 0 0 0 0 0 0 1 1 1 1 1 0 1 0 0 1// 0 0 1 1 0 1 0 1 1 1 1 1 0 0 1 0 0 1 0 1 0 0 0]...\n",
      "\n",
      "restarts:[15], max_iters:[1000], current_restart:[13]\n",
      "runner_name:[rhc], experiment_name:[FourPeaks], attempt:[66], iteration:[1000], done:[True], time:[25.42], fitness:[35.0000]\n",
      "\t[1 1 1 1 1 1 1 1 1 1 1 1 1 1 1 1 1 1 1 1 1 1 1 1 1 1 1 1 1 1 1 1 1 1 1 0 1// 0 0 1 1 0 1 0 1 1 1 1 1 0 0 1 0 0 1 0 1 0 0 0]...\n",
      "\n",
      "restarts:[15], max_iters:[1000], current_restart:[14]\n",
      "runner_name:[rhc], experiment_name:[FourPeaks], attempt:[0], iteration:[0], done:[False], time:[26.68], fitness:[2.0000]\n",
      "\t[0 0 0 1 1 0 0 0 0 0 1 1 0 0 0 0 1 0 0 0 0 0 0 0 0 0 0 1 0 1 1 0 1 0 0 1 1// 1 0 1 1 0 0 0 0 0 0 0 0 0 0 0 0 0 1 0 1 1 0 0]...\n",
      "\n",
      "restarts:[15], max_iters:[1000], current_restart:[14]\n",
      "runner_name:[rhc], experiment_name:[FourPeaks], attempt:[13], iteration:[100], done:[False], time:[27.29], fitness:[20.0000]\n",
      "\t[0 0 0 1 1 0 0 0 0 0 1 1 0 0 0 0 1 0 0 0 0 0 0 0 0 0 0 1 0 1 1 0 1 0 0 1 1// 1 0 1 0 0 0 0 0 0 0 0 0 0 0 0 0 0 0 0 0 0 0 0]...\n",
      "\n",
      "restarts:[15], max_iters:[1000], current_restart:[14]\n",
      "runner_name:[rhc], experiment_name:[FourPeaks], attempt:[260], iteration:[1000], done:[True], time:[30.19], fitness:[60.0000]\n",
      "\t[0 0 0 0 0 0 0 0 0 0 0 0 0 0 0 0 0 0 0 0 0 0 0 0 0 0 0 0 0 0 0 0 0 0 0 0 0// 0 0 0 0 0 0 0 0 0 0 0 0 0 0 0 0 0 0 0 0 0 0 0]...\n",
      "\n",
      "restarts:[15], max_iters:[1000], current_restart:[15]\n",
      "runner_name:[rhc], experiment_name:[FourPeaks], attempt:[0], iteration:[0], done:[False], time:[30.86], fitness:[0.0000]\n",
      "\t[0 1 0 1 0 1 0 0 1 1 1 1 0 0 1 0 0 0 0 1 0 1 1 1 0 0 0 0 1 0 1 1 0 1 0 1 0// 0 0 0 0 1 1 1 1 0 0 0 1 0 1 0 0 1 1 1 0 1 1 1]...\n",
      "\n",
      "restarts:[15], max_iters:[1000], current_restart:[15]\n",
      "runner_name:[rhc], experiment_name:[FourPeaks], attempt:[18], iteration:[100], done:[False], time:[31.11], fitness:[6.0000]\n",
      "\t[1 1 1 1 1 1 0 0 1 1 1 1 0 0 1 0 0 0 0 1 0 1 1 1 0 0 0 0 1 0 1 1 0 1 0 1 0// 0 0 0 0 1 1 1 1 0 0 0 1 0 1 0 0 1 1 1 0 1 1 1]...\n",
      "\n",
      "restarts:[15], max_iters:[1000], current_restart:[15]\n",
      "runner_name:[rhc], experiment_name:[FourPeaks], attempt:[65], iteration:[1000], done:[True], time:[33.06], fitness:[36.0000]\n",
      "\t[1 1 1 1 1 1 1 1 1 1 1 1 1 1 1 1 1 1 1 1 1 1 1 1 1 1 1 1 1 1 1 1 1 1 1 1 0// 0 0 0 0 1 1 1 1 0 0 0 1 0 1 0 0 1 1 1 0 1 1 1]...\n",
      "\n",
      "***************\n",
      "*** Run END ***\n",
      "***************\n",
      "*****************\n",
      "*** Run START ***\n",
      "*****************\n",
      "restarts:[25], max_iters:[1000], current_restart:[0]\n",
      "runner_name:[rhc], experiment_name:[FourPeaks], attempt:[0], iteration:[0], done:[False], time:[0.00], fitness:[2.0000]\n",
      "\t[1 1 0 0 1 1 1 1 1 0 0 1 0 1 1 0 0 1 0 0 0 1 0 0 1 0 0 0 1 0 0 0 1 1 1 1 1// 0 0 0 1 1 1 1 1 1 0 1 1 0 0 1 0 0 1 1 1 0 1 0]...\n",
      "\n",
      "restarts:[25], max_iters:[1000], current_restart:[0]\n",
      "runner_name:[rhc], experiment_name:[FourPeaks], attempt:[29], iteration:[100], done:[False], time:[0.00], fitness:[3.0000]\n",
      "\t[1 1 1 0 1 1 1 1 1 0 0 1 0 1 1 0 0 1 0 0 0 1 0 0 1 0 0 0 1 0 0 0 1 1 1 1 1// 0 0 0 1 1 1 1 1 1 0 1 1 0 0 1 0 0 1 1 1 0 1 0]...\n",
      "\n",
      "restarts:[25], max_iters:[1000], current_restart:[0]\n",
      "runner_name:[rhc], experiment_name:[FourPeaks], attempt:[13], iteration:[1000], done:[True], time:[0.38], fitness:[27.0000]\n",
      "\t[1 1 1 1 1 1 1 1 1 1 1 1 1 1 1 1 1 1 1 1 1 1 1 1 1 1 1 0 1 0 0 0 1 1 1 1 1// 0 0 0 1 1 1 1 1 1 0 1 1 0 0 1 0 0 1 1 1 0 1 0]...\n",
      "\n",
      "restarts:[25], max_iters:[1000], current_restart:[1]\n",
      "runner_name:[rhc], experiment_name:[FourPeaks], attempt:[0], iteration:[0], done:[False], time:[0.74], fitness:[5.0000]\n",
      "\t[1 1 1 1 1 0 0 0 0 0 1 1 0 0 0 1 1 0 1 1 1 0 0 0 0 1 1 0 1 0 0 1 1 0 0 0 0// 0 1 1 1 1 1 0 1 0 0 1 1 0 1 1 1 1 0 0 0 1 1 0]...\n",
      "\n",
      "restarts:[25], max_iters:[1000], current_restart:[1]\n",
      "runner_name:[rhc], experiment_name:[FourPeaks], attempt:[65], iteration:[100], done:[False], time:[0.75], fitness:[6.0000]\n",
      "\t[1 1 1 1 1 1 0 0 0 0 1 1 0 0 0 1 1 0 1 1 1 0 0 0 0 1 1 0 1 0 0 1 1 0 0 0 0// 0 1 1 1 1 1 0 1 0 0 1 1 0 1 1 1 1 0 0 0 1 1 0]...\n",
      "\n",
      "restarts:[25], max_iters:[1000], current_restart:[1]\n",
      "runner_name:[rhc], experiment_name:[FourPeaks], attempt:[40], iteration:[1000], done:[True], time:[1.29], fitness:[27.0000]\n",
      "\t[1 1 1 1 1 1 1 1 1 1 1 1 1 1 1 1 1 1 1 1 1 1 1 1 1 1 1 0 1 0 0 1 1 0 0 0 0// 0 1 1 1 1 1 0 1 0 0 1 1 0 1 1 1 1 0 0 0 1 1 0]...\n",
      "\n",
      "restarts:[25], max_iters:[1000], current_restart:[2]\n",
      "runner_name:[rhc], experiment_name:[FourPeaks], attempt:[0], iteration:[0], done:[False], time:[1.81], fitness:[0.0000]\n",
      "\t[0 1 0 1 0 0 1 0 1 0 1 1 0 0 0 1 0 1 0 1 0 0 1 1 1 1 1 0 1 0 0 1 1 0 0 1 0// 1 0 0 1 1 1 1 0 1 1 0 1 1 0 0 0 0 1 0 0 0 1 1]...\n",
      "\n",
      "restarts:[25], max_iters:[1000], current_restart:[2]\n",
      "runner_name:[rhc], experiment_name:[FourPeaks], attempt:[19], iteration:[100], done:[False], time:[1.86], fitness:[11.0000]\n",
      "\t[1 1 0 1 0 0 1 0 1 0 1 1 0 0 0 1 0 1 0 1 0 0 1 1 1 1 1 0 1 0 0 1 1 0 0 1 0// 1 0 0 1 1 1 1 0 1 1 0 1 0 0 0 0 0 0 0 0 0 0 0]...\n",
      "\n",
      "restarts:[25], max_iters:[1000], current_restart:[2]\n",
      "runner_name:[rhc], experiment_name:[FourPeaks], attempt:[110], iteration:[1000], done:[True], time:[2.85], fitness:[34.0000]\n",
      "\t[1 1 0 1 0 0 1 0 1 0 1 1 0 0 0 1 0 1 0 1 0 0 1 1 1 1 0 0 0 0 0 0 0 0 0 0 0// 0 0 0 0 0 0 0 0 0 0 0 0 0 0 0 0 0 0 0 0 0 0 0]...\n",
      "\n",
      "restarts:[25], max_iters:[1000], current_restart:[3]\n",
      "runner_name:[rhc], experiment_name:[FourPeaks], attempt:[0], iteration:[0], done:[False], time:[3.20], fitness:[3.0000]\n",
      "\t[1 1 0 1 0 0 0 0 0 1 0 0 0 1 0 0 0 1 1 1 0 1 1 1 1 0 0 1 1 0 1 0 1 1 0 1 0// 0 0 1 1 0 1 0 1 1 0 0 1 1 0 0 0 1 0 1 1 0 0 0]...\n",
      "\n",
      "restarts:[25], max_iters:[1000], current_restart:[3]\n",
      "runner_name:[rhc], experiment_name:[FourPeaks], attempt:[83], iteration:[100], done:[False], time:[3.23], fitness:[5.0000]\n",
      "\t[1 1 1 1 1 0 0 0 0 1 0 0 0 1 0 0 0 1 1 1 0 1 1 1 1 0 0 1 1 0 1 0 1 1 0 1 0// 0 0 1 1 0 1 0 1 1 0 0 1 1 0 0 0 1 0 1 1 0 0 0]...\n",
      "\n",
      "restarts:[25], max_iters:[1000], current_restart:[3]\n",
      "runner_name:[rhc], experiment_name:[FourPeaks], attempt:[52], iteration:[1000], done:[True], time:[3.84], fitness:[38.0000]\n",
      "\t[1 1 1 1 1 1 1 1 1 1 1 1 1 1 1 1 1 1 1 1 1 1 1 1 1 1 1 1 1 1 1 1 1 1 1 1 1// 1 0 1 1 0 1 0 1 1 0 0 1 1 0 0 0 1 0 1 1 0 0 0]...\n",
      "\n",
      "restarts:[25], max_iters:[1000], current_restart:[4]\n",
      "runner_name:[rhc], experiment_name:[FourPeaks], attempt:[0], iteration:[0], done:[False], time:[4.17], fitness:[1.0000]\n",
      "\t[0 0 0 1 0 1 0 1 0 0 1 1 1 0 1 1 1 0 1 1 0 0 1 1 1 0 1 0 0 1 1 0 0 0 1 0 1// 1 1 0 1 0 1 1 0 1 0 0 0 0 1 0 0 0 1 1 1 1 1 0]...\n",
      "\n",
      "restarts:[25], max_iters:[1000], current_restart:[4]\n",
      "runner_name:[rhc], experiment_name:[FourPeaks], attempt:[101], iteration:[100], done:[False], time:[4.20], fitness:[1.0000]\n",
      "\t[0 0 0 1 0 1 0 1 0 0 1 1 1 0 1 1 1 0 1 1 0 0 1 1 1 0 1 0 0 1 1 0 0 0 1 0 1// 1 1 0 1 0 1 1 0 1 0 0 0 0 1 0 0 0 1 1 1 1 1 0]...\n",
      "\n"
     ]
    },
    {
     "name": "stdout",
     "output_type": "stream",
     "text": [
      "restarts:[25], max_iters:[1000], current_restart:[4]\n",
      "runner_name:[rhc], experiment_name:[FourPeaks], attempt:[39], iteration:[1000], done:[True], time:[4.97], fitness:[19.0000]\n",
      "\t[0 0 0 1 0 1 0 1 0 0 1 1 1 0 1 1 1 0 1 1 0 0 1 1 1 0 1 0 0 1 1 0 0 0 1 0 1// 1 1 0 1 0 0 0 0 0 0 0 0 0 0 0 0 0 0 0 0 0 0 0]...\n",
      "\n",
      "restarts:[25], max_iters:[1000], current_restart:[5]\n",
      "runner_name:[rhc], experiment_name:[FourPeaks], attempt:[0], iteration:[0], done:[False], time:[5.34], fitness:[0.0000]\n",
      "\t[0 0 1 0 1 1 0 0 1 0 1 0 1 1 0 0 1 1 1 0 1 0 0 1 0 1 1 1 1 0 1 0 1 1 1 0 1// 0 0 1 0 1 1 1 0 1 0 1 0 1 1 1 1 1 1 0 0 0 1 1]...\n",
      "\n",
      "restarts:[25], max_iters:[1000], current_restart:[5]\n",
      "runner_name:[rhc], experiment_name:[FourPeaks], attempt:[53], iteration:[100], done:[False], time:[5.37], fitness:[5.0000]\n",
      "\t[0 0 1 0 1 1 0 0 1 0 1 0 1 1 0 0 1 1 1 0 1 0 0 1 0 1 1 1 1 0 1 0 1 1 1 0 1// 0 0 1 0 1 1 1 0 1 0 1 0 1 1 1 1 1 1 0 0 0 0 0]...\n",
      "\n",
      "restarts:[25], max_iters:[1000], current_restart:[5]\n",
      "runner_name:[rhc], experiment_name:[FourPeaks], attempt:[56], iteration:[1000], done:[True], time:[6.10], fitness:[39.0000]\n",
      "\t[0 0 1 0 1 1 0 0 1 0 1 0 1 1 0 0 1 1 1 0 1 0 0 0 0 0 0 0 0 0 0 0 0 0 0 0 0// 0 0 0 0 0 0 0 0 0 0 0 0 0 0 0 0 0 0 0 0 0 0 0]...\n",
      "\n",
      "restarts:[25], max_iters:[1000], current_restart:[6]\n",
      "runner_name:[rhc], experiment_name:[FourPeaks], attempt:[0], iteration:[0], done:[False], time:[6.46], fitness:[2.0000]\n",
      "\t[1 0 1 0 1 1 0 0 0 1 1 0 0 0 1 0 0 0 1 0 0 1 1 0 1 1 1 0 0 0 0 0 0 1 1 0 0// 1 0 0 1 1 1 1 0 1 0 1 0 0 1 1 0 0 0 0 1 1 0 0]...\n",
      "\n",
      "restarts:[25], max_iters:[1000], current_restart:[6]\n",
      "runner_name:[rhc], experiment_name:[FourPeaks], attempt:[16], iteration:[100], done:[False], time:[6.50], fitness:[7.0000]\n",
      "\t[1 1 1 1 1 1 1 0 0 1 1 0 0 0 1 0 0 0 1 0 0 1 1 0 1 1 1 0 0 0 0 0 0 1 1 0 0// 1 0 0 1 1 1 1 0 1 0 1 0 0 1 1 0 0 0 0 1 1 0 0]...\n",
      "\n",
      "restarts:[25], max_iters:[1000], current_restart:[6]\n",
      "runner_name:[rhc], experiment_name:[FourPeaks], attempt:[3], iteration:[1000], done:[True], time:[7.27], fitness:[32.0000]\n",
      "\t[1 1 1 1 1 1 1 1 1 1 1 1 1 1 1 1 1 1 1 1 1 1 1 1 1 1 1 1 1 1 1 1 0 1 1 0 0// 1 0 0 1 1 1 1 0 1 0 1 0 0 1 1 0 0 0 0 1 1 0 0]...\n",
      "\n",
      "restarts:[25], max_iters:[1000], current_restart:[7]\n",
      "runner_name:[rhc], experiment_name:[FourPeaks], attempt:[0], iteration:[0], done:[False], time:[7.64], fitness:[1.0000]\n",
      "\t[1 0 1 0 1 1 1 0 1 0 0 0 0 0 0 0 1 1 0 0 0 1 1 0 0 0 0 0 0 1 0 1 0 0 1 0 1// 0 1 0 0 0 1 1 1 0 0 0 0 1 0 0 0 1 0 1 0 1 1 0]...\n",
      "\n",
      "restarts:[25], max_iters:[1000], current_restart:[7]\n",
      "runner_name:[rhc], experiment_name:[FourPeaks], attempt:[12], iteration:[100], done:[False], time:[7.70], fitness:[12.0000]\n",
      "\t[1 1 1 1 1 1 1 1 1 1 1 1 0 0 0 0 1 1 0 0 0 1 1 0 0 0 0 0 0 1 0 1 0 0 1 0 1// 0 1 0 0 0 1 1 1 0 0 0 0 1 0 0 0 1 0 1 0 1 1 0]...\n",
      "\n",
      "restarts:[25], max_iters:[1000], current_restart:[7]\n",
      "runner_name:[rhc], experiment_name:[FourPeaks], attempt:[13], iteration:[1000], done:[True], time:[8.53], fitness:[33.0000]\n",
      "\t[1 1 1 1 1 1 1 1 1 1 1 1 1 1 1 1 1 1 1 1 1 1 1 1 1 1 1 1 1 1 1 1 1 0 1 0 1// 0 1 0 0 0 1 1 1 0 0 0 0 1 0 0 0 1 0 1 0 1 1 0]...\n",
      "\n",
      "restarts:[25], max_iters:[1000], current_restart:[8]\n",
      "runner_name:[rhc], experiment_name:[FourPeaks], attempt:[0], iteration:[0], done:[False], time:[8.92], fitness:[4.0000]\n",
      "\t[1 1 1 1 0 1 1 0 0 1 1 0 0 0 1 1 0 1 1 1 0 1 0 0 1 0 1 0 0 1 1 0 1 1 1 0 1// 1 1 1 0 1 1 1 1 1 1 1 1 1 1 0 1 1 1 1 0 1 0 1]...\n",
      "\n",
      "restarts:[25], max_iters:[1000], current_restart:[8]\n",
      "runner_name:[rhc], experiment_name:[FourPeaks], attempt:[50], iteration:[100], done:[False], time:[8.97], fitness:[7.0000]\n",
      "\t[1 1 1 1 1 1 1 0 0 1 1 0 0 0 1 1 0 1 1 1 0 1 0 0 1 0 1 0 0 1 1 0 1 1 1 0 1// 1 1 1 0 1 1 1 1 1 1 1 1 1 1 0 1 1 1 1 0 1 0 1]...\n",
      "\n",
      "restarts:[25], max_iters:[1000], current_restart:[8]\n",
      "runner_name:[rhc], experiment_name:[FourPeaks], attempt:[24], iteration:[1000], done:[True], time:[10.20], fitness:[60.0000]\n",
      "\t[1 1 1 1 1 1 1 1 1 1 1 1 1 1 1 1 1 1 1 1 1 1 1 1 1 1 1 1 1 1 1 1 1 1 1 1 1// 1 1 1 1 1 1 1 1 1 1 1 1 1 1 1 1 1 1 1 1 1 1 1]...\n",
      "\n",
      "restarts:[25], max_iters:[1000], current_restart:[9]\n",
      "runner_name:[rhc], experiment_name:[FourPeaks], attempt:[0], iteration:[0], done:[False], time:[10.74], fitness:[7.0000]\n",
      "\t[1 1 1 1 1 1 1 0 0 0 1 0 1 1 0 1 1 1 0 1 0 1 1 0 1 1 0 1 1 1 1 0 1 1 1 0 0// 1 1 1 0 1 1 0 1 0 0 1 1 1 0 1 0 1 0 1 1 0 0 1]...\n",
      "\n",
      "restarts:[25], max_iters:[1000], current_restart:[9]\n",
      "runner_name:[rhc], experiment_name:[FourPeaks], attempt:[70], iteration:[100], done:[False], time:[10.83], fitness:[8.0000]\n",
      "\t[1 1 1 1 1 1 1 1 0 0 1 0 1 1 0 1 1 1 0 1 0 1 1 0 1 1 0 1 1 1 1 0 1 1 1 0 0// 1 1 1 0 1 1 0 1 0 0 1 1 1 0 1 0 1 0 1 1 0 0 1]...\n",
      "\n",
      "restarts:[25], max_iters:[1000], current_restart:[9]\n",
      "runner_name:[rhc], experiment_name:[FourPeaks], attempt:[18], iteration:[1000], done:[True], time:[11.91], fitness:[57.0000]\n",
      "\t[1 1 1 1 1 1 1 1 1 1 1 1 1 1 1 1 1 1 1 1 1 1 1 1 1 1 1 1 1 1 1 1 1 1 1 1 1// 1 1 1 1 1 1 1 1 1 1 1 1 1 1 1 1 1 1 1 1 0 0 1]...\n",
      "\n",
      "restarts:[25], max_iters:[1000], current_restart:[10]\n",
      "runner_name:[rhc], experiment_name:[FourPeaks], attempt:[0], iteration:[0], done:[False], time:[12.32], fitness:[1.0000]\n",
      "\t[0 1 1 1 0 0 0 0 1 1 1 1 1 0 1 0 1 1 0 0 0 1 0 0 1 0 0 1 1 1 1 1 0 0 1 1 1// 0 0 1 1 1 1 1 1 1 0 1 1 1 1 0 0 0 1 0 1 0 1 0]...\n",
      "\n",
      "restarts:[25], max_iters:[1000], current_restart:[10]\n",
      "runner_name:[rhc], experiment_name:[FourPeaks], attempt:[14], iteration:[100], done:[False], time:[12.39], fitness:[5.0000]\n",
      "\t[1 1 1 1 0 0 0 0 1 1 1 1 1 0 1 0 1 1 0 0 0 1 0 0 1 0 0 1 1 1 1 1 0 0 1 1 1// 0 0 1 1 1 1 1 1 1 0 1 1 1 1 0 0 0 1 0 0 0 0 0]...\n",
      "\n",
      "restarts:[25], max_iters:[1000], current_restart:[10]\n",
      "runner_name:[rhc], experiment_name:[FourPeaks], attempt:[136], iteration:[1000], done:[True], time:[13.55], fitness:[23.0000]\n",
      "\t[1 1 1 1 0 0 0 0 1 1 1 1 1 0 1 0 1 1 0 0 0 1 0 0 1 0 0 1 1 1 1 1 0 0 1 1 1// 0 0 0 0 0 0 0 0 0 0 0 0 0 0 0 0 0 0 0 0 0 0 0]...\n",
      "\n",
      "restarts:[25], max_iters:[1000], current_restart:[11]\n",
      "runner_name:[rhc], experiment_name:[FourPeaks], attempt:[0], iteration:[0], done:[False], time:[14.15], fitness:[4.0000]\n",
      "\t[1 0 0 0 0 1 1 1 1 1 1 1 1 0 1 0 1 0 1 1 1 0 1 1 0 0 0 0 1 0 0 0 1 0 1 1 1// 1 1 1 0 1 1 0 1 0 1 0 0 1 1 0 0 0 1 1 0 0 0 0]...\n",
      "\n",
      "restarts:[25], max_iters:[1000], current_restart:[11]\n",
      "runner_name:[rhc], experiment_name:[FourPeaks], attempt:[101], iteration:[100], done:[False], time:[14.31], fitness:[4.0000]\n",
      "\t[1 0 0 0 0 1 1 1 1 1 1 1 1 0 1 0 1 0 1 1 1 0 1 1 0 0 0 0 1 0 0 0 1 0 1 1 1// 1 1 1 0 1 1 0 1 0 1 0 0 1 1 0 0 0 1 1 0 0 0 0]...\n",
      "\n",
      "restarts:[25], max_iters:[1000], current_restart:[11]\n",
      "runner_name:[rhc], experiment_name:[FourPeaks], attempt:[13], iteration:[1000], done:[True], time:[15.97], fitness:[36.0000]\n",
      "\t[1 0 0 0 0 1 1 1 1 1 1 1 1 0 1 0 1 0 1 1 1 0 1 1 0 0 0 0 0 0 0 0 0 0 0 0 0// 0 0 0 0 0 0 0 0 0 0 0 0 0 0 0 0 0 0 0 0 0 0 0]...\n",
      "\n",
      "restarts:[25], max_iters:[1000], current_restart:[12]\n",
      "runner_name:[rhc], experiment_name:[FourPeaks], attempt:[0], iteration:[0], done:[False], time:[16.38], fitness:[4.0000]\n",
      "\t[1 1 1 1 0 0 0 0 1 0 0 1 1 1 1 0 0 1 0 0 0 0 0 0 1 0 1 1 1 0 1 1 1 0 0 1 1// 1 1 1 0 1 1 1 0 0 0 0 0 1 1 0 0 0 0 1 0 1 0 0]...\n",
      "\n",
      "restarts:[25], max_iters:[1000], current_restart:[12]\n",
      "runner_name:[rhc], experiment_name:[FourPeaks], attempt:[38], iteration:[100], done:[False], time:[16.48], fitness:[5.0000]\n",
      "\t[1 1 1 1 1 0 0 0 1 0 0 1 1 1 1 0 0 1 0 0 0 0 0 0 1 0 1 1 1 0 1 1 1 0 0 1 1// 1 1 1 0 1 1 1 0 0 0 0 0 1 1 0 0 0 0 1 0 1 0 0]...\n",
      "\n",
      "restarts:[25], max_iters:[1000], current_restart:[12]\n",
      "runner_name:[rhc], experiment_name:[FourPeaks], attempt:[20], iteration:[1000], done:[True], time:[18.05], fitness:[40.0000]\n",
      "\t[1 1 1 1 1 1 1 1 1 1 1 1 1 1 1 1 1 1 1 1 1 1 1 1 1 1 1 1 1 1 1 1 1 1 1 1 1// 1 1 1 0 1 1 1 0 0 0 0 0 1 1 0 0 0 0 1 0 1 0 0]...\n",
      "\n",
      "restarts:[25], max_iters:[1000], current_restart:[13]\n",
      "runner_name:[rhc], experiment_name:[FourPeaks], attempt:[0], iteration:[0], done:[False], time:[18.53], fitness:[1.0000]\n",
      "\t[1 0 1 1 0 0 1 1 1 1 1 1 0 1 0 1 0 0 1 1 0 0 0 0 0 0 0 1 1 1 1 1 0 1 0 0 1// 0 0 1 1 0 1 0 1 1 1 1 1 0 0 1 0 0 1 0 1 0 0 1]...\n",
      "\n",
      "restarts:[25], max_iters:[1000], current_restart:[13]\n",
      "runner_name:[rhc], experiment_name:[FourPeaks], attempt:[66], iteration:[100], done:[False], time:[18.72], fitness:[12.0000]\n",
      "\t[1 1 1 1 1 1 1 1 1 1 1 1 0 1 0 1 0 0 1 1 0 0 0 0 0 0 0 1 1 1 1 1 0 1 0 0 1// 0 0 1 1 0 1 0 1 1 1 1 1 0 0 1 0 0 1 0 1 0 0 0]...\n",
      "\n"
     ]
    },
    {
     "name": "stdout",
     "output_type": "stream",
     "text": [
      "restarts:[25], max_iters:[1000], current_restart:[13]\n",
      "runner_name:[rhc], experiment_name:[FourPeaks], attempt:[66], iteration:[1000], done:[True], time:[20.31], fitness:[35.0000]\n",
      "\t[1 1 1 1 1 1 1 1 1 1 1 1 1 1 1 1 1 1 1 1 1 1 1 1 1 1 1 1 1 1 1 1 1 1 1 0 1// 0 0 1 1 0 1 0 1 1 1 1 1 0 0 1 0 0 1 0 1 0 0 0]...\n",
      "\n",
      "restarts:[25], max_iters:[1000], current_restart:[14]\n",
      "runner_name:[rhc], experiment_name:[FourPeaks], attempt:[0], iteration:[0], done:[False], time:[20.79], fitness:[2.0000]\n",
      "\t[0 0 0 1 1 0 0 0 0 0 1 1 0 0 0 0 1 0 0 0 0 0 0 0 0 0 0 1 0 1 1 0 1 0 0 1 1// 1 0 1 1 0 0 0 0 0 0 0 0 0 0 0 0 0 1 0 1 1 0 0]...\n",
      "\n",
      "restarts:[25], max_iters:[1000], current_restart:[14]\n",
      "runner_name:[rhc], experiment_name:[FourPeaks], attempt:[13], iteration:[100], done:[False], time:[20.91], fitness:[20.0000]\n",
      "\t[0 0 0 1 1 0 0 0 0 0 1 1 0 0 0 0 1 0 0 0 0 0 0 0 0 0 0 1 0 1 1 0 1 0 0 1 1// 1 0 1 0 0 0 0 0 0 0 0 0 0 0 0 0 0 0 0 0 0 0 0]...\n",
      "\n",
      "restarts:[25], max_iters:[1000], current_restart:[14]\n",
      "runner_name:[rhc], experiment_name:[FourPeaks], attempt:[260], iteration:[1000], done:[True], time:[22.55], fitness:[60.0000]\n",
      "\t[0 0 0 0 0 0 0 0 0 0 0 0 0 0 0 0 0 0 0 0 0 0 0 0 0 0 0 0 0 0 0 0 0 0 0 0 0// 0 0 0 0 0 0 0 0 0 0 0 0 0 0 0 0 0 0 0 0 0 0 0]...\n",
      "\n",
      "restarts:[25], max_iters:[1000], current_restart:[15]\n",
      "runner_name:[rhc], experiment_name:[FourPeaks], attempt:[0], iteration:[0], done:[False], time:[23.02], fitness:[0.0000]\n",
      "\t[0 1 0 1 0 1 0 0 1 1 1 1 0 0 1 0 0 0 0 1 0 1 1 1 0 0 0 0 1 0 1 1 0 1 0 1 0// 0 0 0 0 1 1 1 1 0 0 0 1 0 1 0 0 1 1 1 0 1 1 1]...\n",
      "\n",
      "restarts:[25], max_iters:[1000], current_restart:[15]\n",
      "runner_name:[rhc], experiment_name:[FourPeaks], attempt:[18], iteration:[100], done:[False], time:[23.13], fitness:[6.0000]\n",
      "\t[1 1 1 1 1 1 0 0 1 1 1 1 0 0 1 0 0 0 0 1 0 1 1 1 0 0 0 0 1 0 1 1 0 1 0 1 0// 0 0 0 0 1 1 1 1 0 0 0 1 0 1 0 0 1 1 1 0 1 1 1]...\n",
      "\n",
      "restarts:[25], max_iters:[1000], current_restart:[15]\n",
      "runner_name:[rhc], experiment_name:[FourPeaks], attempt:[65], iteration:[1000], done:[True], time:[24.81], fitness:[36.0000]\n",
      "\t[1 1 1 1 1 1 1 1 1 1 1 1 1 1 1 1 1 1 1 1 1 1 1 1 1 1 1 1 1 1 1 1 1 1 1 1 0// 0 0 0 0 1 1 1 1 0 0 0 1 0 1 0 0 1 1 1 0 1 1 1]...\n",
      "\n",
      "restarts:[25], max_iters:[1000], current_restart:[16]\n",
      "runner_name:[rhc], experiment_name:[FourPeaks], attempt:[0], iteration:[0], done:[False], time:[25.21], fitness:[1.0000]\n",
      "\t[1 0 1 1 0 1 0 1 0 0 0 0 1 0 1 1 0 1 1 1 1 0 1 0 0 1 0 1 1 0 1 1 0 1 1 0 1// 0 1 0 0 0 1 0 1 1 0 1 0 1 1 0 0 0 0 1 0 0 1 0]...\n",
      "\n",
      "restarts:[25], max_iters:[1000], current_restart:[16]\n",
      "runner_name:[rhc], experiment_name:[FourPeaks], attempt:[17], iteration:[100], done:[False], time:[25.34], fitness:[10.0000]\n",
      "\t[1 0 1 1 0 1 0 1 0 0 0 0 1 0 1 1 0 1 1 1 1 0 1 0 0 1 0 1 1 0 1 1 0 1 1 0 1// 0 1 0 0 0 1 0 1 1 0 1 0 1 0 0 0 0 0 0 0 0 0 0]...\n",
      "\n",
      "restarts:[25], max_iters:[1000], current_restart:[16]\n",
      "runner_name:[rhc], experiment_name:[FourPeaks], attempt:[68], iteration:[1000], done:[True], time:[26.84], fitness:[21.0000]\n",
      "\t[1 0 1 1 0 1 0 1 0 0 0 0 1 0 1 1 0 1 1 1 1 0 1 0 0 1 0 1 1 0 1 1 0 1 1 0 1// 0 1 0 0 0 0 0 0 0 0 0 0 0 0 0 0 0 0 0 0 0 0 0]...\n",
      "\n",
      "restarts:[25], max_iters:[1000], current_restart:[17]\n",
      "runner_name:[rhc], experiment_name:[FourPeaks], attempt:[0], iteration:[0], done:[False], time:[27.36], fitness:[1.0000]\n",
      "\t[1 0 1 1 0 1 0 0 0 1 1 1 1 0 1 1 0 1 0 0 1 1 0 1 0 1 1 0 0 0 0 1 0 1 0 0 1// 1 1 1 0 1 0 0 0 1 1 1 1 1 0 1 1 0 1 0 1 0 0 1]...\n",
      "\n",
      "restarts:[25], max_iters:[1000], current_restart:[17]\n",
      "runner_name:[rhc], experiment_name:[FourPeaks], attempt:[1], iteration:[100], done:[False], time:[27.48], fitness:[4.0000]\n",
      "\t[1 1 1 1 0 1 0 0 0 1 1 1 1 0 1 1 0 1 0 0 1 1 0 1 0 1 1 0 0 0 0 1 0 1 0 0 1// 1 1 1 0 1 0 0 0 1 1 1 1 1 0 1 1 0 1 0 1 0 0 0]...\n",
      "\n",
      "restarts:[25], max_iters:[1000], current_restart:[17]\n",
      "runner_name:[rhc], experiment_name:[FourPeaks], attempt:[3], iteration:[1000], done:[True], time:[29.09], fitness:[34.0000]\n",
      "\t[1 1 1 1 1 1 1 1 1 1 1 1 1 1 1 1 1 1 1 1 1 1 1 1 1 1 1 1 1 1 1 1 1 1 0 0 1// 1 1 1 0 1 0 0 0 1 1 1 1 1 0 1 1 0 1 0 1 0 0 0]...\n",
      "\n",
      "restarts:[25], max_iters:[1000], current_restart:[18]\n",
      "runner_name:[rhc], experiment_name:[FourPeaks], attempt:[0], iteration:[0], done:[False], time:[29.64], fitness:[1.0000]\n",
      "\t[0 1 1 0 1 0 0 1 0 1 1 0 1 1 0 1 1 0 1 0 1 0 1 1 1 1 1 0 0 1 0 0 0 0 0 1 1// 1 0 0 1 0 0 1 1 0 0 1 0 1 1 1 1 0 0 1 1 0 1 0]...\n",
      "\n",
      "restarts:[25], max_iters:[1000], current_restart:[18]\n",
      "runner_name:[rhc], experiment_name:[FourPeaks], attempt:[7], iteration:[100], done:[False], time:[29.77], fitness:[8.0000]\n",
      "\t[1 1 1 1 1 1 1 1 0 1 1 0 1 1 0 1 1 0 1 0 1 0 1 1 1 1 1 0 0 1 0 0 0 0 0 1 1// 1 0 0 1 0 0 1 1 0 0 1 0 1 1 1 1 0 0 1 1 0 1 0]...\n",
      "\n",
      "restarts:[25], max_iters:[1000], current_restart:[18]\n",
      "runner_name:[rhc], experiment_name:[FourPeaks], attempt:[7], iteration:[1000], done:[True], time:[31.46], fitness:[41.0000]\n",
      "\t[1 1 1 1 1 1 1 1 1 1 1 1 1 1 1 1 1 1 1 1 1 1 1 1 1 1 1 1 1 1 1 1 1 1 1 1 1// 1 1 1 1 0 0 1 1 0 0 1 0 1 1 1 1 0 0 1 1 0 1 0]...\n",
      "\n",
      "restarts:[25], max_iters:[1000], current_restart:[19]\n",
      "runner_name:[rhc], experiment_name:[FourPeaks], attempt:[0], iteration:[0], done:[False], time:[31.96], fitness:[3.0000]\n",
      "\t[1 0 0 1 1 1 0 1 0 1 1 0 0 1 0 1 0 0 1 1 1 0 1 0 0 1 1 0 0 1 1 1 1 1 0 1 0// 0 1 1 1 0 1 1 0 1 1 0 0 0 0 1 1 0 1 1 1 0 0 0]...\n",
      "\n",
      "restarts:[25], max_iters:[1000], current_restart:[19]\n",
      "runner_name:[rhc], experiment_name:[FourPeaks], attempt:[42], iteration:[100], done:[False], time:[32.09], fitness:[5.0000]\n",
      "\t[1 0 0 1 1 1 0 1 0 1 1 0 0 1 0 1 0 0 1 1 1 0 1 0 0 1 1 0 0 1 1 1 1 1 0 1 0// 0 1 1 1 0 1 1 0 1 1 0 0 0 0 1 1 0 1 0 0 0 0 0]...\n",
      "\n",
      "restarts:[25], max_iters:[1000], current_restart:[19]\n",
      "runner_name:[rhc], experiment_name:[FourPeaks], attempt:[35], iteration:[1000], done:[True], time:[33.86], fitness:[30.0000]\n",
      "\t[1 0 0 1 1 1 0 1 0 1 1 0 0 1 0 1 0 0 1 1 1 0 1 0 0 1 1 0 0 1 0 0 0 0 0 0 0// 0 0 0 0 0 0 0 0 0 0 0 0 0 0 0 0 0 0 0 0 0 0 0]...\n",
      "\n",
      "restarts:[25], max_iters:[1000], current_restart:[20]\n",
      "runner_name:[rhc], experiment_name:[FourPeaks], attempt:[0], iteration:[0], done:[False], time:[34.39], fitness:[3.0000]\n",
      "\t[1 1 1 0 0 0 0 1 0 1 1 1 0 1 1 1 1 1 0 0 0 1 1 0 0 1 0 1 1 1 1 1 1 0 1 1 1// 1 0 0 1 1 0 0 0 1 0 0 0 0 1 0 0 1 0 1 1 1 0 1]...\n",
      "\n",
      "restarts:[25], max_iters:[1000], current_restart:[20]\n",
      "runner_name:[rhc], experiment_name:[FourPeaks], attempt:[75], iteration:[100], done:[False], time:[34.53], fitness:[4.0000]\n",
      "\t[1 1 1 1 0 0 0 1 0 1 1 1 0 1 1 1 1 1 0 0 0 1 1 0 0 1 0 1 1 1 1 1 1 0 1 1 1// 1 0 0 1 1 0 0 0 1 0 0 0 0 1 0 0 1 0 1 1 1 0 1]...\n",
      "\n",
      "restarts:[25], max_iters:[1000], current_restart:[20]\n",
      "runner_name:[rhc], experiment_name:[FourPeaks], attempt:[1], iteration:[1000], done:[True], time:[37.18], fitness:[43.0000]\n",
      "\t[1 1 1 1 1 1 1 1 1 1 1 1 1 1 1 1 1 1 1 1 1 1 1 1 1 1 1 1 1 1 1 1 1 1 1 1 1// 1 1 1 1 1 1 0 0 1 0 0 0 0 1 0 0 1 0 1 1 1 0 1]...\n",
      "\n",
      "restarts:[25], max_iters:[1000], current_restart:[21]\n",
      "runner_name:[rhc], experiment_name:[FourPeaks], attempt:[0], iteration:[0], done:[False], time:[37.84], fitness:[4.0000]\n",
      "\t[1 1 1 1 0 0 1 0 1 1 0 1 0 1 0 0 0 0 0 1 0 1 0 0 0 1 1 1 0 1 0 1 0 0 0 0 1// 1 1 0 0 1 0 0 1 1 1 0 0 0 0 0 0 1 1 1 1 0 1 0]...\n",
      "\n",
      "restarts:[25], max_iters:[1000], current_restart:[21]\n",
      "runner_name:[rhc], experiment_name:[FourPeaks], attempt:[101], iteration:[100], done:[False], time:[38.00], fitness:[4.0000]\n",
      "\t[1 1 1 1 0 0 1 0 1 1 0 1 0 1 0 0 0 0 0 1 0 1 0 0 0 1 1 1 0 1 0 1 0 0 0 0 1// 1 1 0 0 1 0 0 1 1 1 0 0 0 0 0 0 1 1 1 1 0 1 0]...\n",
      "\n",
      "restarts:[25], max_iters:[1000], current_restart:[21]\n",
      "runner_name:[rhc], experiment_name:[FourPeaks], attempt:[35], iteration:[1000], done:[True], time:[40.29], fitness:[24.0000]\n",
      "\t[1 1 1 1 1 1 1 1 1 1 1 1 1 1 1 1 1 1 1 1 1 1 1 1 0 1 1 1 0 1 0 1 0 0 0 0 1// 1 1 0 0 1 0 0 1 1 1 0 0 0 0 0 0 1 1 1 1 0 1 0]...\n",
      "\n",
      "restarts:[25], max_iters:[1000], current_restart:[22]\n",
      "runner_name:[rhc], experiment_name:[FourPeaks], attempt:[0], iteration:[0], done:[False], time:[40.94], fitness:[1.0000]\n",
      "\t[0 1 1 0 0 0 0 1 0 0 1 1 0 0 1 1 1 1 0 1 1 0 1 0 0 0 1 0 0 1 1 0 1 1 1 1 1// 0 0 0 1 1 0 1 0 0 0 0 0 1 1 0 1 0 0 1 1 1 1 0]...\n",
      "\n",
      "restarts:[25], max_iters:[1000], current_restart:[22]\n",
      "runner_name:[rhc], experiment_name:[FourPeaks], attempt:[29], iteration:[100], done:[False], time:[41.11], fitness:[5.0000]\n",
      "\t[1 1 1 1 1 0 0 1 0 0 1 1 0 0 1 1 1 1 0 1 1 0 1 0 0 0 1 0 0 1 1 0 1 1 1 1 1// 0 0 0 1 1 0 1 0 0 0 0 0 1 1 0 1 0 0 1 1 1 0 0]...\n",
      "\n"
     ]
    },
    {
     "name": "stdout",
     "output_type": "stream",
     "text": [
      "restarts:[25], max_iters:[1000], current_restart:[22]\n",
      "runner_name:[rhc], experiment_name:[FourPeaks], attempt:[137], iteration:[1000], done:[True], time:[43.39], fitness:[44.0000]\n",
      "\t[1 1 1 1 1 1 1 1 1 1 1 1 1 1 1 1 1 1 1 1 1 1 1 1 1 1 1 1 1 1 1 1 1 1 1 1 1// 1 1 1 1 1 1 1 0 0 0 0 0 1 1 0 1 0 0 1 1 1 0 0]...\n",
      "\n",
      "restarts:[25], max_iters:[1000], current_restart:[23]\n",
      "runner_name:[rhc], experiment_name:[FourPeaks], attempt:[0], iteration:[0], done:[False], time:[44.44], fitness:[0.0000]\n",
      "\t[0 1 0 1 1 0 1 1 1 1 0 0 0 1 1 1 1 1 1 0 0 0 1 0 0 0 1 0 0 0 0 0 0 0 1 1 1// 0 1 0 1 0 0 0 1 0 1 0 1 0 1 1 1 0 1 1 0 0 1 1]...\n",
      "\n",
      "restarts:[25], max_iters:[1000], current_restart:[23]\n",
      "runner_name:[rhc], experiment_name:[FourPeaks], attempt:[12], iteration:[100], done:[False], time:[44.73], fitness:[2.0000]\n",
      "\t[1 1 0 1 1 0 1 1 1 1 0 0 0 1 1 1 1 1 1 0 0 0 1 0 0 0 1 0 0 0 0 0 0 0 1 1 1// 0 1 0 1 0 0 0 1 0 1 0 1 0 1 1 1 0 1 1 0 0 1 1]...\n",
      "\n",
      "restarts:[25], max_iters:[1000], current_restart:[23]\n",
      "runner_name:[rhc], experiment_name:[FourPeaks], attempt:[6], iteration:[1000], done:[True], time:[47.95], fitness:[43.0000]\n",
      "\t[1 1 1 1 1 1 1 1 1 1 1 1 1 1 1 1 1 1 1 1 1 1 1 1 1 1 1 1 1 1 1 1 1 1 1 1 1// 1 1 1 1 1 1 0 1 0 1 0 1 0 1 1 1 0 1 1 0 0 1 1]...\n",
      "\n",
      "restarts:[25], max_iters:[1000], current_restart:[24]\n",
      "runner_name:[rhc], experiment_name:[FourPeaks], attempt:[0], iteration:[0], done:[False], time:[48.74], fitness:[2.0000]\n",
      "\t[0 1 0 0 1 1 1 0 0 0 0 0 1 1 0 1 1 0 0 1 0 1 1 1 1 1 1 1 0 0 0 1 0 0 1 1 1// 0 1 0 0 1 1 0 1 1 1 0 1 1 1 1 0 0 0 1 0 1 0 0]...\n",
      "\n",
      "restarts:[25], max_iters:[1000], current_restart:[24]\n",
      "runner_name:[rhc], experiment_name:[FourPeaks], attempt:[35], iteration:[100], done:[False], time:[49.12], fitness:[8.0000]\n",
      "\t[0 1 0 0 1 1 1 0 0 0 0 0 1 1 0 1 1 0 0 1 0 1 1 1 1 1 1 1 0 0 0 1 0 0 1 1 1// 0 1 0 0 1 1 0 1 1 1 0 1 1 1 1 0 0 0 0 0 0 0 0]...\n",
      "\n",
      "restarts:[25], max_iters:[1000], current_restart:[24]\n",
      "runner_name:[rhc], experiment_name:[FourPeaks], attempt:[24], iteration:[1000], done:[True], time:[52.26], fitness:[32.0000]\n",
      "\t[0 1 0 0 1 1 1 0 0 0 0 0 1 1 0 1 1 0 0 1 0 1 1 1 1 1 1 1 0 0 0 0 0 0 0 0 0// 0 0 0 0 0 0 0 0 0 0 0 0 0 0 0 0 0 0 0 0 0 0 0]...\n",
      "\n",
      "restarts:[25], max_iters:[1000], current_restart:[25]\n",
      "runner_name:[rhc], experiment_name:[FourPeaks], attempt:[0], iteration:[0], done:[False], time:[53.03], fitness:[2.0000]\n",
      "\t[0 0 0 0 1 1 1 1 1 0 1 1 1 1 0 1 0 1 1 0 1 0 0 1 1 0 1 1 1 0 0 1 1 1 0 1 1// 1 1 1 1 1 1 0 1 1 0 1 0 1 1 0 0 0 0 0 1 1 0 0]...\n",
      "\n",
      "restarts:[25], max_iters:[1000], current_restart:[25]\n",
      "runner_name:[rhc], experiment_name:[FourPeaks], attempt:[101], iteration:[100], done:[False], time:[53.31], fitness:[2.0000]\n",
      "\t[0 0 0 0 1 1 1 1 1 0 1 1 1 1 0 1 0 1 1 0 1 0 0 1 1 0 1 1 1 0 0 1 1 1 0 1 1// 1 1 1 1 1 1 0 1 1 0 1 0 1 1 0 0 0 0 0 1 1 0 0]...\n",
      "\n",
      "restarts:[25], max_iters:[1000], current_restart:[25]\n",
      "runner_name:[rhc], experiment_name:[FourPeaks], attempt:[130], iteration:[1000], done:[True], time:[56.32], fitness:[27.0000]\n",
      "\t[0 0 0 0 1 1 1 1 1 0 1 1 1 1 0 1 0 1 1 0 1 0 0 1 1 0 1 1 1 0 0 1 1 0 0 0 0// 0 0 0 0 0 0 0 0 0 0 0 0 0 0 0 0 0 0 0 0 0 0 0]...\n",
      "\n",
      "***************\n",
      "*** Run END ***\n",
      "***************\n",
      "Run time: 94.61089380000001\n",
      "Saving: [output\\FourPeaks\\rhc__FourPeaks__run_stats_df.csv]\n",
      "Saving: [output\\FourPeaks\\rhc__FourPeaks__curves_df.csv]\n"
     ]
    }
   ],
   "source": [
    "from mlrose_hiive.runners import RHCRunner\n",
    "\n",
    "#experiment_name = 'knapsack'\n",
    "\n",
    "rhc = RHCRunner(problem=problem_cust,\n",
    "                experiment_name=experiment_name,\n",
    "                output_directory=OUTPUT_DIRECTORY,\n",
    "                seed=SEED,\n",
    "                iteration_list=[0,100,1000],\n",
    "                max_attempts=1000,\n",
    "                restart_list=[0,5,15,25])\n",
    "\n",
    "df_run_stats, df_run_curves = rhc.run()  "
   ]
  },
  {
   "cell_type": "code",
   "execution_count": 12,
   "metadata": {},
   "outputs": [
    {
     "data": {
      "text/html": [
       "<div>\n",
       "<style scoped>\n",
       "    .dataframe tbody tr th:only-of-type {\n",
       "        vertical-align: middle;\n",
       "    }\n",
       "\n",
       "    .dataframe tbody tr th {\n",
       "        vertical-align: top;\n",
       "    }\n",
       "\n",
       "    .dataframe thead th {\n",
       "        text-align: right;\n",
       "    }\n",
       "</style>\n",
       "<table border=\"1\" class=\"dataframe\">\n",
       "  <thead>\n",
       "    <tr style=\"text-align: right;\">\n",
       "      <th></th>\n",
       "      <th>Time</th>\n",
       "      <th>Fitness</th>\n",
       "    </tr>\n",
       "    <tr>\n",
       "      <th>Restarts</th>\n",
       "      <th></th>\n",
       "      <th></th>\n",
       "    </tr>\n",
       "  </thead>\n",
       "  <tbody>\n",
       "    <tr>\n",
       "      <td>0</td>\n",
       "      <td>0.222510</td>\n",
       "      <td>10.666667</td>\n",
       "    </tr>\n",
       "    <tr>\n",
       "      <td>5</td>\n",
       "      <td>1.275528</td>\n",
       "      <td>12.555556</td>\n",
       "    </tr>\n",
       "    <tr>\n",
       "      <td>15</td>\n",
       "      <td>11.153668</td>\n",
       "      <td>15.625000</td>\n",
       "    </tr>\n",
       "    <tr>\n",
       "      <td>25</td>\n",
       "      <td>20.894946</td>\n",
       "      <td>14.858974</td>\n",
       "    </tr>\n",
       "  </tbody>\n",
       "</table>\n",
       "</div>"
      ],
      "text/plain": [
       "               Time    Fitness\n",
       "Restarts                      \n",
       "0          0.222510  10.666667\n",
       "5          1.275528  12.555556\n",
       "15        11.153668  15.625000\n",
       "25        20.894946  14.858974"
      ]
     },
     "execution_count": 12,
     "metadata": {},
     "output_type": "execute_result"
    }
   ],
   "source": [
    "df_run_stats.groupby(['Restarts'])['Time','Fitness'].mean()"
   ]
  },
  {
   "cell_type": "code",
   "execution_count": 75,
   "metadata": {},
   "outputs": [],
   "source": [
    "evaluations = []\n",
    "best_state, best_fitness, fitness_curve_rhc,time_curve_rhc,all_time = mlrose_hiive.random_hill_climb(problem_cust, \n",
    "                                                                            max_attempts=100, max_iters=np.inf, restarts=25,\n",
    "                      curve=True, random_state = 1)"
   ]
  },
  {
   "cell_type": "code",
   "execution_count": 14,
   "metadata": {},
   "outputs": [
    {
     "data": {
      "text/plain": [
       "32.0"
      ]
     },
     "execution_count": 14,
     "metadata": {},
     "output_type": "execute_result"
    }
   ],
   "source": [
    "best_fitness"
   ]
  },
  {
   "cell_type": "code",
   "execution_count": 15,
   "metadata": {
    "scrolled": true
   },
   "outputs": [
    {
     "data": {
      "text/plain": [
       "array([1, 1, 1, 1, 1, 1, 1, 1, 1, 1, 1, 1, 1, 1, 1, 1, 1, 1, 1, 1, 1, 1,\n",
       "       1, 1, 1, 1, 1, 1, 1, 1, 1, 1, 0, 0, 1, 0, 1, 1, 1, 0, 1, 1, 1, 0,\n",
       "       0, 0, 1, 0, 0, 1, 0, 1, 0, 1, 1, 1, 1, 0, 1, 1])"
      ]
     },
     "execution_count": 15,
     "metadata": {},
     "output_type": "execute_result"
    }
   ],
   "source": [
    "best_state"
   ]
  },
  {
   "cell_type": "code",
   "execution_count": 16,
   "metadata": {},
   "outputs": [
    {
     "data": {
      "text/plain": [
       "[<matplotlib.lines.Line2D at 0x213bcb16f88>]"
      ]
     },
     "execution_count": 16,
     "metadata": {},
     "output_type": "execute_result"
    },
    {
     "data": {
      "image/png": "[encoded data removed]",
      "text/plain": [
       "<Figure size 432x288 with 1 Axes>"
      ]
     },
     "metadata": {
      "needs_background": "light"
     },
     "output_type": "display_data"
    }
   ],
   "source": [
    "plt.plot(fitness_curve_rhc)"
   ]
  },
  {
   "cell_type": "code",
   "execution_count": 17,
   "metadata": {},
   "outputs": [
    {
     "data": {
      "text/plain": [
       "[<matplotlib.lines.Line2D at 0x213bc78f9c8>]"
      ]
     },
     "execution_count": 17,
     "metadata": {},
     "output_type": "execute_result"
    },
    {
     "data": {
      "image/png": "[encoded data removed]",
      "text/plain": [
       "<Figure size 432x288 with 1 Axes>"
      ]
     },
     "metadata": {
      "needs_background": "light"
     },
     "output_type": "display_data"
    }
   ],
   "source": [
    "plt.plot(all_time)"
   ]
  },
  {
   "cell_type": "code",
   "execution_count": 18,
   "metadata": {},
   "outputs": [
    {
     "data": {
      "text/plain": [
       "[<matplotlib.lines.Line2D at 0x213bc7b4408>]"
      ]
     },
     "execution_count": 18,
     "metadata": {},
     "output_type": "execute_result"
    },
    {
     "data": {
      "image/png": "[encoded data removed]",
      "text/plain": [
       "<Figure size 432x288 with 1 Axes>"
      ]
     },
     "metadata": {
      "needs_background": "light"
     },
     "output_type": "display_data"
    }
   ],
   "source": [
    "plt.plot(time_curve_rhc)"
   ]
  },
  {
   "cell_type": "code",
   "execution_count": 18,
   "metadata": {},
   "outputs": [
    {
     "data": {
      "text/plain": [
       "array([0.        , 0.        , 0.        , 0.        , 0.        ,\n",
       "       0.        , 0.        , 0.        , 0.        , 0.        ,\n",
       "       0.        , 0.        , 0.        , 0.        , 0.00100017,\n",
       "       0.00100017, 0.00100017, 0.00100017, 0.00100017, 0.00100017,\n",
       "       0.00100017, 0.00100017, 0.00100017, 0.00100017, 0.00100017,\n",
       "       0.00100017, 0.00100017, 0.00100017, 0.00100017, 0.00100017,\n",
       "       0.00100017, 0.00100017, 0.00200009, 0.00200009, 0.00200009,\n",
       "       0.00200009, 0.00200009, 0.00200009, 0.00200009, 0.00200009,\n",
       "       0.00200009, 0.00200009, 0.00200009, 0.00200009, 0.00200009,\n",
       "       0.00200009, 0.00300241, 0.00300241, 0.00300241, 0.00300241])"
      ]
     },
     "execution_count": 18,
     "metadata": {},
     "output_type": "execute_result"
    }
   ],
   "source": [
    "time_curve_rhc[:50]"
   ]
  },
  {
   "cell_type": "code",
   "execution_count": 19,
   "metadata": {},
   "outputs": [
    {
     "data": {
      "text/plain": [
       "array([16500., 16500., 16500., 16570., 16588., 16693., 16698., 16708.,\n",
       "       16710., 16710., 16858., 16858., 16858., 16865., 17095., 17124.,\n",
       "       17324., 17324., 17404., 17406., 17451., 17451., 17451., 17526.,\n",
       "       17526., 17526., 17526., 17526., 17566., 17734., 17827., 17827.,\n",
       "       17827., 17827., 17977., 18289., 18289., 18289., 18289., 18289.,\n",
       "       18377., 18425., 18425., 18425., 18425., 18677., 18677., 18677.,\n",
       "       18683., 18683.])"
      ]
     },
     "execution_count": 19,
     "metadata": {},
     "output_type": "execute_result"
    }
   ],
   "source": [
    "fitness_curve_rhc[:50]"
   ]
  },
  {
   "cell_type": "code",
   "execution_count": 76,
   "metadata": {
    "scrolled": false
   },
   "outputs": [
    {
     "data": {
      "image/png": "[encoded data removed]",
      "text/plain": [
       "<Figure size 432x288 with 1 Axes>"
      ]
     },
     "metadata": {
      "needs_background": "light"
     },
     "output_type": "display_data"
    }
   ],
   "source": [
    "plt.plot(evaluations)\n",
    "evaluations_rhc = evaluations.copy()\n",
    "evaluations = []"
   ]
  },
  {
   "cell_type": "markdown",
   "metadata": {},
   "source": [
    "### SA"
   ]
  },
  {
   "cell_type": "code",
   "execution_count": null,
   "metadata": {},
   "outputs": [],
   "source": []
  },
  {
   "cell_type": "code",
   "execution_count": 20,
   "metadata": {
    "scrolled": true
   },
   "outputs": [
    {
     "name": "stdout",
     "output_type": "stream",
     "text": [
      "Running sa\n",
      "*****************\n",
      "*** Run START ***\n",
      "*****************\n",
      "schedule:[1], max_iters:[1000]\n",
      "runner_name:[sa], experiment_name:[FourPeaks], attempt:[0], iteration:[0], done:[False], time:[0.00], fitness:[2.0000]\n",
      "\t[1 1 0 0 1 1 1 1 1 0 0 1 0 1 1 0 0 1 0 0 0 1 0 0 1 0 0 0 1 0 0 0 1 1 1 1 1// 0 0 0 1 1 1 1 1 1 0 1 1 0 0 1 0 0 1 1 1 0 1 0]...\n",
      "\n",
      "schedule:[1], max_iters:[1000]\n",
      "runner_name:[sa], experiment_name:[FourPeaks], attempt:[1], iteration:[100], done:[False], time:[0.01], fitness:[1.0000]\n",
      "\t[0 1 0 1 0 1 1 1 1 1 0 0 0 0 0 0 1 1 0 0 0 0 1 0 1 0 0 1 1 1 0 0 0 0 0 0 1// 0 0 1 1 1 1 0 1 1 1 1 1 0 0 1 0 0 1 0 0 1 1 0]...\n",
      "\n",
      "schedule:[1], max_iters:[1000]\n",
      "runner_name:[sa], experiment_name:[FourPeaks], attempt:[2], iteration:[1000], done:[True], time:[0.18], fitness:[38.0000]\n",
      "\t[1 1 1 1 1 1 1 1 1 1 1 1 1 1 1 1 1 1 1 1 1 1 1 1 1 1 1 1 1 1 1 1 1 1 1 1 1// 1 0 1 1 0 0 0 0 1 0 0 1 0 0 1 1 1 1 0 1 0 0 1]...\n",
      "\n",
      "***************\n",
      "*** Run END ***\n",
      "***************\n",
      "*****************\n",
      "*** Run START ***\n",
      "*****************\n",
      "schedule:[10], max_iters:[1000]\n",
      "runner_name:[sa], experiment_name:[FourPeaks], attempt:[0], iteration:[0], done:[False], time:[0.00], fitness:[2.0000]\n",
      "\t[1 1 0 0 1 1 1 1 1 0 0 1 0 1 1 0 0 1 0 0 0 1 0 0 1 0 0 0 1 0 0 0 1 1 1 1 1// 0 0 0 1 1 1 1 1 1 0 1 1 0 0 1 0 0 1 1 1 0 1 0]...\n",
      "\n",
      "schedule:[10], max_iters:[1000]\n",
      "runner_name:[sa], experiment_name:[FourPeaks], attempt:[1], iteration:[100], done:[False], time:[0.01], fitness:[1.0000]\n",
      "\t[1 0 1 1 0 0 0 0 1 0 0 1 1 1 1 1 1 0 1 0 1 1 1 1 0 0 0 1 1 1 0 1 1 1 1 1 1// 1 0 1 1 0 1 1 0 1 1 0 1 0 1 1 0 0 0 0 0 1 1 0]...\n",
      "\n",
      "schedule:[10], max_iters:[1000]\n",
      "runner_name:[sa], experiment_name:[FourPeaks], attempt:[7], iteration:[1000], done:[True], time:[0.24], fitness:[36.0000]\n",
      "\t[1 0 1 0 1 1 0 0 1 0 0 1 1 0 1 1 1 0 0 1 1 0 0 1 0 0 0 0 0 0 0 0 0 0 0 0 0// 0 0 0 0 0 0 0 0 0 0 0 0 0 0 0 0 0 0 0 0 0 0 0]...\n",
      "\n",
      "***************\n",
      "*** Run END ***\n",
      "***************\n",
      "*****************\n",
      "*** Run START ***\n",
      "*****************\n",
      "schedule:[50], max_iters:[1000]\n",
      "runner_name:[sa], experiment_name:[FourPeaks], attempt:[0], iteration:[0], done:[False], time:[0.00], fitness:[2.0000]\n",
      "\t[1 1 0 0 1 1 1 1 1 0 0 1 0 1 1 0 0 1 0 0 0 1 0 0 1 0 0 0 1 0 0 0 1 1 1 1 1// 0 0 0 1 1 1 1 1 1 0 1 1 0 0 1 0 0 1 1 1 0 1 0]...\n",
      "\n",
      "schedule:[50], max_iters:[1000]\n",
      "runner_name:[sa], experiment_name:[FourPeaks], attempt:[1], iteration:[100], done:[False], time:[0.01], fitness:[1.0000]\n",
      "\t[1 0 1 1 0 0 0 0 1 0 0 1 1 1 1 1 1 0 1 0 1 1 1 1 0 0 0 1 1 1 0 1 1 1 1 1 1// 1 0 1 1 0 1 1 0 1 1 0 1 0 1 1 0 0 0 0 0 1 1 0]...\n",
      "\n",
      "schedule:[50], max_iters:[1000]\n",
      "runner_name:[sa], experiment_name:[FourPeaks], attempt:[4], iteration:[1000], done:[True], time:[0.32], fitness:[25.0000]\n",
      "\t[1 0 1 1 1 1 0 1 1 1 1 0 0 1 1 1 1 0 0 1 1 1 0 0 0 1 1 1 1 0 0 1 0 1 1 0 0// 0 0 0 0 0 0 0 0 0 0 0 0 0 0 0 0 0 0 0 0 0 0 0]...\n",
      "\n",
      "***************\n",
      "*** Run END ***\n",
      "***************\n",
      "*****************\n",
      "*** Run START ***\n",
      "*****************\n",
      "schedule:[100], max_iters:[1000]\n",
      "runner_name:[sa], experiment_name:[FourPeaks], attempt:[0], iteration:[0], done:[False], time:[0.00], fitness:[2.0000]\n",
      "\t[1 1 0 0 1 1 1 1 1 0 0 1 0 1 1 0 0 1 0 0 0 1 0 0 1 0 0 0 1 0 0 0 1 1 1 1 1// 0 0 0 1 1 1 1 1 1 0 1 1 0 0 1 0 0 1 1 1 0 1 0]...\n",
      "\n",
      "schedule:[100], max_iters:[1000]\n",
      "runner_name:[sa], experiment_name:[FourPeaks], attempt:[1], iteration:[100], done:[False], time:[0.01], fitness:[1.0000]\n",
      "\t[1 0 1 1 0 0 0 0 1 0 0 1 1 1 1 1 1 0 1 0 1 1 1 1 0 0 0 1 1 1 0 1 1 1 1 1 1// 1 0 1 1 0 1 1 0 1 1 0 1 0 1 1 0 0 0 0 0 1 1 0]...\n",
      "\n",
      "schedule:[100], max_iters:[1000]\n",
      "runner_name:[sa], experiment_name:[FourPeaks], attempt:[1], iteration:[1000], done:[True], time:[0.26], fitness:[16.0000]\n",
      "\t[1 0 1 1 0 1 0 0 0 0 1 1 0 1 1 0 1 0 0 1 0 1 0 0 0 0 1 0 0 0 0 0 0 0 0 0 0// 0 0 0 1 1 0 1 0 0 0 0 0 0 0 0 0 0 0 0 0 0 0 0]...\n",
      "\n",
      "***************\n",
      "*** Run END ***\n",
      "***************\n",
      "*****************\n",
      "*** Run START ***\n",
      "*****************\n",
      "schedule:[250], max_iters:[1000]\n",
      "runner_name:[sa], experiment_name:[FourPeaks], attempt:[0], iteration:[0], done:[False], time:[0.00], fitness:[2.0000]\n",
      "\t[1 1 0 0 1 1 1 1 1 0 0 1 0 1 1 0 0 1 0 0 0 1 0 0 1 0 0 0 1 0 0 0 1 1 1 1 1// 0 0 0 1 1 1 1 1 1 0 1 1 0 0 1 0 0 1 1 1 0 1 0]...\n",
      "\n",
      "schedule:[250], max_iters:[1000]\n",
      "runner_name:[sa], experiment_name:[FourPeaks], attempt:[1], iteration:[100], done:[False], time:[0.02], fitness:[1.0000]\n",
      "\t[1 0 1 1 0 0 0 0 1 0 0 1 1 1 1 1 1 0 1 0 1 1 1 1 0 0 0 1 1 1 0 1 1 1 1 1 1// 1 0 1 1 0 1 1 0 1 1 0 1 0 1 1 0 0 0 0 0 1 1 0]...\n",
      "\n",
      "schedule:[250], max_iters:[1000]\n",
      "runner_name:[sa], experiment_name:[FourPeaks], attempt:[1], iteration:[1000], done:[True], time:[0.30], fitness:[16.0000]\n",
      "\t[1 1 1 1 1 1 1 1 1 1 1 1 1 1 1 1 0 1 1 1 0 0 1 1 1 1 1 1 1 0 1 0 1 1 1 0 0// 1 1 0 1 1 1 0 0 0 0 1 0 1 0 0 1 1 1 1 1 0 1 1]...\n",
      "\n",
      "***************\n",
      "*** Run END ***\n",
      "***************\n",
      "*****************\n",
      "*** Run START ***\n",
      "*****************\n",
      "schedule:[500], max_iters:[1000]\n",
      "runner_name:[sa], experiment_name:[FourPeaks], attempt:[0], iteration:[0], done:[False], time:[0.00], fitness:[2.0000]\n",
      "\t[1 1 0 0 1 1 1 1 1 0 0 1 0 1 1 0 0 1 0 0 0 1 0 0 1 0 0 0 1 0 0 0 1 1 1 1 1// 0 0 0 1 1 1 1 1 1 0 1 1 0 0 1 0 0 1 1 1 0 1 0]...\n",
      "\n",
      "schedule:[500], max_iters:[1000]\n",
      "runner_name:[sa], experiment_name:[FourPeaks], attempt:[1], iteration:[100], done:[False], time:[0.02], fitness:[1.0000]\n",
      "\t[1 0 1 1 0 0 0 0 1 0 0 1 1 1 1 1 1 0 1 0 1 1 1 1 0 0 0 1 1 1 0 1 1 1 1 1 1// 1 0 1 1 0 1 1 0 1 1 0 1 0 1 1 0 0 0 0 0 1 1 0]...\n",
      "\n",
      "schedule:[500], max_iters:[1000]\n",
      "runner_name:[sa], experiment_name:[FourPeaks], attempt:[1], iteration:[1000], done:[True], time:[0.60], fitness:[13.0000]\n",
      "\t[1 1 1 0 1 0 1 1 1 1 1 0 1 1 0 0 0 1 0 1 1 0 0 1 1 0 0 1 1 1 1 0 0 0 0 0 1// 0 1 0 0 1 0 0 1 0 1 0 0 0 0 0 0 0 0 0 0 0 0 0]...\n",
      "\n",
      "***************\n",
      "*** Run END ***\n",
      "***************\n",
      "*****************\n",
      "*** Run START ***\n",
      "*****************\n",
      "schedule:[1000], max_iters:[1000]\n",
      "runner_name:[sa], experiment_name:[FourPeaks], attempt:[0], iteration:[0], done:[False], time:[0.00], fitness:[2.0000]\n",
      "\t[1 1 0 0 1 1 1 1 1 0 0 1 0 1 1 0 0 1 0 0 0 1 0 0 1 0 0 0 1 0 0 0 1 1 1 1 1// 0 0 0 1 1 1 1 1 1 0 1 1 0 0 1 0 0 1 1 1 0 1 0]...\n",
      "\n",
      "schedule:[1000], max_iters:[1000]\n",
      "runner_name:[sa], experiment_name:[FourPeaks], attempt:[1], iteration:[100], done:[False], time:[0.02], fitness:[1.0000]\n",
      "\t[1 0 1 1 0 0 0 0 1 0 0 1 1 1 1 1 1 0 1 0 1 1 1 1 0 0 0 1 1 1 0 1 1 1 1 1 1// 1 0 1 1 0 1 1 0 1 1 0 1 0 1 1 0 0 0 0 0 1 1 0]...\n",
      "\n",
      "schedule:[1000], max_iters:[1000]\n",
      "runner_name:[sa], experiment_name:[FourPeaks], attempt:[1], iteration:[1000], done:[True], time:[0.38], fitness:[11.0000]\n",
      "\t[1 1 0 0 0 0 0 0 0 0 1 0 1 1 1 0 0 1 1 0 1 0 1 1 1 1 0 0 1 1 1 1 1 0 0 1 1// 1 1 0 0 0 1 0 1 1 1 1 1 0 0 0 0 0 0 0 0 0 0 0]...\n",
      "\n",
      "***************\n",
      "*** Run END ***\n",
      "***************\n",
      "*****************\n",
      "*** Run START ***\n",
      "*****************\n",
      "schedule:[2500], max_iters:[1000]\n",
      "runner_name:[sa], experiment_name:[FourPeaks], attempt:[0], iteration:[0], done:[False], time:[0.00], fitness:[2.0000]\n",
      "\t[1 1 0 0 1 1 1 1 1 0 0 1 0 1 1 0 0 1 0 0 0 1 0 0 1 0 0 0 1 0 0 0 1 1 1 1 1// 0 0 0 1 1 1 1 1 1 0 1 1 0 0 1 0 0 1 1 1 0 1 0]...\n",
      "\n",
      "schedule:[2500], max_iters:[1000]\n",
      "runner_name:[sa], experiment_name:[FourPeaks], attempt:[1], iteration:[100], done:[False], time:[0.01], fitness:[1.0000]\n",
      "\t[1 0 1 1 0 0 0 0 1 0 0 1 1 1 1 1 1 0 1 0 1 1 1 1 0 0 0 1 1 1 0 1 1 1 1 1 1// 1 0 1 1 0 1 1 0 1 1 0 1 0 1 1 0 0 0 0 0 1 1 0]...\n",
      "\n",
      "schedule:[2500], max_iters:[1000]\n",
      "runner_name:[sa], experiment_name:[FourPeaks], attempt:[2], iteration:[1000], done:[True], time:[0.35], fitness:[11.0000]\n",
      "\t[1 1 1 0 1 1 0 1 1 1 1 0 1 0 1 1 0 1 0 1 1 1 1 1 1 1 1 0 1 1 1 0 0 1 0 1 0// 1 0 0 0 1 0 1 1 1 0 1 1 0 0 0 0 0 0 0 0 0 0 0]...\n",
      "\n",
      "***************\n",
      "*** Run END ***\n",
      "***************\n",
      "*****************\n",
      "*** Run START ***\n",
      "*****************\n",
      "schedule:[5000], max_iters:[1000]\n",
      "runner_name:[sa], experiment_name:[FourPeaks], attempt:[0], iteration:[0], done:[False], time:[0.00], fitness:[2.0000]\n",
      "\t[1 1 0 0 1 1 1 1 1 0 0 1 0 1 1 0 0 1 0 0 0 1 0 0 1 0 0 0 1 0 0 0 1 1 1 1 1// 0 0 0 1 1 1 1 1 1 0 1 1 0 0 1 0 0 1 1 1 0 1 0]...\n",
      "\n",
      "schedule:[5000], max_iters:[1000]\n",
      "runner_name:[sa], experiment_name:[FourPeaks], attempt:[1], iteration:[100], done:[False], time:[0.01], fitness:[1.0000]\n",
      "\t[1 0 1 1 0 0 0 0 1 0 0 1 1 1 1 1 1 0 1 0 1 1 1 1 0 0 0 1 1 1 0 1 1 1 1 1 1// 1 0 1 1 0 1 1 0 1 1 0 1 0 1 1 0 0 0 0 0 1 1 0]...\n",
      "\n"
     ]
    },
    {
     "name": "stdout",
     "output_type": "stream",
     "text": [
      "schedule:[5000], max_iters:[1000]\n",
      "runner_name:[sa], experiment_name:[FourPeaks], attempt:[2], iteration:[1000], done:[True], time:[0.38], fitness:[21.0000]\n",
      "\t[0 0 1 0 0 1 1 0 1 1 1 0 0 0 1 0 1 1 0 1 0 1 1 0 1 0 0 1 0 1 1 0 0 0 0 0 1// 0 1 0 0 0 0 0 0 0 0 0 0 0 0 0 0 0 0 0 0 0 0 0]...\n",
      "\n",
      "***************\n",
      "*** Run END ***\n",
      "***************\n",
      "*****************\n",
      "*** Run START ***\n",
      "*****************\n",
      "schedule:[10000], max_iters:[1000]\n",
      "runner_name:[sa], experiment_name:[FourPeaks], attempt:[0], iteration:[0], done:[False], time:[0.00], fitness:[2.0000]\n",
      "\t[1 1 0 0 1 1 1 1 1 0 0 1 0 1 1 0 0 1 0 0 0 1 0 0 1 0 0 0 1 0 0 0 1 1 1 1 1// 0 0 0 1 1 1 1 1 1 0 1 1 0 0 1 0 0 1 1 1 0 1 0]...\n",
      "\n",
      "schedule:[10000], max_iters:[1000]\n",
      "runner_name:[sa], experiment_name:[FourPeaks], attempt:[1], iteration:[100], done:[False], time:[0.01], fitness:[1.0000]\n",
      "\t[1 0 1 1 0 0 0 0 1 0 0 1 1 1 1 1 1 0 1 0 1 1 1 1 0 0 0 1 1 1 0 1 1 1 1 1 1// 1 0 1 1 0 1 1 0 1 1 0 1 0 1 1 0 0 0 0 0 1 1 0]...\n",
      "\n",
      "schedule:[10000], max_iters:[1000]\n",
      "runner_name:[sa], experiment_name:[FourPeaks], attempt:[2], iteration:[1000], done:[True], time:[0.44], fitness:[13.0000]\n",
      "\t[0 1 1 1 0 0 0 0 0 0 0 0 0 0 0 1 1 1 0 1 0 0 0 1 1 0 1 0 1 0 0 0 0 1 1 0 1// 1 0 0 1 1 1 0 1 0 1 0 0 0 0 0 0 0 0 0 0 0 0 0]...\n",
      "\n",
      "***************\n",
      "*** Run END ***\n",
      "***************\n",
      "Run time: 5.080166399999939\n",
      "Saving: [output/FourPeaks\\sa__FourPeaks__run_stats_df.csv]\n",
      "Saving: [output/FourPeaks\\sa__FourPeaks__curves_df.csv]\n"
     ]
    }
   ],
   "source": [
    "from mlrose_hiive.runners import SARunner\n",
    "\n",
    "sa = SARunner(problem=problem_cust,\n",
    "              experiment_name=experiment_name,\n",
    "              output_directory='output/',\n",
    "              seed=1,\n",
    "              iteration_list=[0,100,1000],\n",
    "              max_attempts=1000,\n",
    "              temperature_list=[1, 10, 50, 100, 250, 500, 1000, 2500, 5000, 10000])\n",
    "# the two data frames will contain the results\n",
    "df_run_stats, df_run_curves = sa.run()        "
   ]
  },
  {
   "cell_type": "code",
   "execution_count": 22,
   "metadata": {
    "scrolled": true
   },
   "outputs": [
    {
     "data": {
      "text/html": [
       "<div>\n",
       "<style scoped>\n",
       "    .dataframe tbody tr th:only-of-type {\n",
       "        vertical-align: middle;\n",
       "    }\n",
       "\n",
       "    .dataframe tbody tr th {\n",
       "        vertical-align: top;\n",
       "    }\n",
       "\n",
       "    .dataframe thead th {\n",
       "        text-align: right;\n",
       "    }\n",
       "</style>\n",
       "<table border=\"1\" class=\"dataframe\">\n",
       "  <thead>\n",
       "    <tr style=\"text-align: right;\">\n",
       "      <th></th>\n",
       "      <th>Iteration</th>\n",
       "      <th>Time</th>\n",
       "      <th>Fitness</th>\n",
       "      <th>Temperature</th>\n",
       "      <th>max_iters</th>\n",
       "    </tr>\n",
       "  </thead>\n",
       "  <tbody>\n",
       "    <tr>\n",
       "      <td>0</td>\n",
       "      <td>0</td>\n",
       "      <td>0.000115</td>\n",
       "      <td>2.0</td>\n",
       "      <td>1</td>\n",
       "      <td>1000</td>\n",
       "    </tr>\n",
       "    <tr>\n",
       "      <td>1</td>\n",
       "      <td>1</td>\n",
       "      <td>0.000990</td>\n",
       "      <td>2.0</td>\n",
       "      <td>1</td>\n",
       "      <td>1000</td>\n",
       "    </tr>\n",
       "    <tr>\n",
       "      <td>2</td>\n",
       "      <td>2</td>\n",
       "      <td>0.001089</td>\n",
       "      <td>2.0</td>\n",
       "      <td>1</td>\n",
       "      <td>1000</td>\n",
       "    </tr>\n",
       "    <tr>\n",
       "      <td>3</td>\n",
       "      <td>3</td>\n",
       "      <td>0.001184</td>\n",
       "      <td>2.0</td>\n",
       "      <td>1</td>\n",
       "      <td>1000</td>\n",
       "    </tr>\n",
       "    <tr>\n",
       "      <td>4</td>\n",
       "      <td>4</td>\n",
       "      <td>0.001271</td>\n",
       "      <td>2.0</td>\n",
       "      <td>1</td>\n",
       "      <td>1000</td>\n",
       "    </tr>\n",
       "    <tr>\n",
       "      <td>5</td>\n",
       "      <td>5</td>\n",
       "      <td>0.001354</td>\n",
       "      <td>2.0</td>\n",
       "      <td>1</td>\n",
       "      <td>1000</td>\n",
       "    </tr>\n",
       "    <tr>\n",
       "      <td>6</td>\n",
       "      <td>6</td>\n",
       "      <td>0.001435</td>\n",
       "      <td>2.0</td>\n",
       "      <td>1</td>\n",
       "      <td>1000</td>\n",
       "    </tr>\n",
       "    <tr>\n",
       "      <td>7</td>\n",
       "      <td>7</td>\n",
       "      <td>0.001516</td>\n",
       "      <td>2.0</td>\n",
       "      <td>1</td>\n",
       "      <td>1000</td>\n",
       "    </tr>\n",
       "    <tr>\n",
       "      <td>8</td>\n",
       "      <td>8</td>\n",
       "      <td>0.001584</td>\n",
       "      <td>2.0</td>\n",
       "      <td>1</td>\n",
       "      <td>1000</td>\n",
       "    </tr>\n",
       "    <tr>\n",
       "      <td>9</td>\n",
       "      <td>9</td>\n",
       "      <td>0.001667</td>\n",
       "      <td>2.0</td>\n",
       "      <td>1</td>\n",
       "      <td>1000</td>\n",
       "    </tr>\n",
       "  </tbody>\n",
       "</table>\n",
       "</div>"
      ],
      "text/plain": [
       "   Iteration      Time  Fitness Temperature  max_iters\n",
       "0          0  0.000115      2.0           1       1000\n",
       "1          1  0.000990      2.0           1       1000\n",
       "2          2  0.001089      2.0           1       1000\n",
       "3          3  0.001184      2.0           1       1000\n",
       "4          4  0.001271      2.0           1       1000\n",
       "5          5  0.001354      2.0           1       1000\n",
       "6          6  0.001435      2.0           1       1000\n",
       "7          7  0.001516      2.0           1       1000\n",
       "8          8  0.001584      2.0           1       1000\n",
       "9          9  0.001667      2.0           1       1000"
      ]
     },
     "execution_count": 22,
     "metadata": {},
     "output_type": "execute_result"
    }
   ],
   "source": [
    "df_run_curves.head(10)"
   ]
  },
  {
   "cell_type": "code",
   "execution_count": 33,
   "metadata": {},
   "outputs": [
    {
     "data": {
      "text/plain": [
       "array([0, 0, 0, 0, 0, 0, 0, 0, 0, 0, 0, 0, 0, 0, 0, 0, 0, 0, 0, 0, 0, 0,\n",
       "       0, 0, 0, 0, 0, 0, 0, 0, 0, 0, 0, 0, 0, 0, 0, 0, 0, 0, 0, 0, 0, 0,\n",
       "       0, 0, 0, 0, 0, 0, 0, 0, 0, 0, 0, 0, 0, 0, 0, 0, 0, 0, 0, 0, 0, 0,\n",
       "       0, 0, 0, 0, 0, 0, 0, 0, 0, 0, 0, 0, 0, 0, 0, 0, 0, 0, 0, 0, 0, 0,\n",
       "       0, 0, 0, 0, 0, 0, 0, 0, 0, 0, 0, 0, 0, 0, 0, 0, 0, 0, 0, 0, 0, 0,\n",
       "       0, 0, 0, 0, 0, 0, 0, 0, 0, 0, 0, 0, 0, 0, 0, 0, 0, 0, 0, 0, 0, 0,\n",
       "       0, 0, 0, 0, 0, 0, 0, 0])"
      ]
     },
     "execution_count": 33,
     "metadata": {},
     "output_type": "execute_result"
    }
   ],
   "source": [
    "schedule = "
   ]
  },
  {
   "cell_type": "code",
   "execution_count": 73,
   "metadata": {},
   "outputs": [],
   "source": [
    "# Solve using simulated annealing - attempt 1\n",
    "schedule = mlrose_hiive.ExpDecay(init_temp=1)\n",
    "evaluations = []\n",
    "best_state, best_fitness, fitness_curve_sa,time_curve_sa = mlrose_hiive.simulated_annealing(problem_cust, \n",
    "                                                                                            schedule = schedule, \n",
    "                                                      max_attempts = 100, \n",
    "                                                                            max_iters = 10000, \n",
    "                                                                                    \n",
    "                                                       random_state = 1,curve=True)\n"
   ]
  },
  {
   "cell_type": "code",
   "execution_count": 26,
   "metadata": {},
   "outputs": [
    {
     "data": {
      "text/plain": [
       "60.0"
      ]
     },
     "execution_count": 26,
     "metadata": {},
     "output_type": "execute_result"
    }
   ],
   "source": [
    "best_fitness"
   ]
  },
  {
   "cell_type": "code",
   "execution_count": 74,
   "metadata": {},
   "outputs": [
    {
     "data": {
      "image/png": "[encoded data removed]",
      "text/plain": [
       "<Figure size 432x288 with 1 Axes>"
      ]
     },
     "metadata": {
      "needs_background": "light"
     },
     "output_type": "display_data"
    }
   ],
   "source": [
    "plt.plot(evaluations)\n",
    "evaluations_sa = evaluations.copy()\n",
    "evaluations = []"
   ]
  },
  {
   "cell_type": "code",
   "execution_count": 28,
   "metadata": {},
   "outputs": [
    {
     "data": {
      "text/plain": [
       "[<matplotlib.lines.Line2D at 0x213bff56988>]"
      ]
     },
     "execution_count": 28,
     "metadata": {},
     "output_type": "execute_result"
    },
    {
     "data": {
      "image/png": "[encoded data removed]",
      "text/plain": [
       "<Figure size 432x288 with 1 Axes>"
      ]
     },
     "metadata": {
      "needs_background": "light"
     },
     "output_type": "display_data"
    }
   ],
   "source": [
    "plt.plot(fitness_curve_sa)\n"
   ]
  },
  {
   "cell_type": "code",
   "execution_count": 29,
   "metadata": {
    "scrolled": true
   },
   "outputs": [
    {
     "data": {
      "text/plain": [
       "[<matplotlib.lines.Line2D at 0x213c01bdf88>]"
      ]
     },
     "execution_count": 29,
     "metadata": {},
     "output_type": "execute_result"
    },
    {
     "data": {
      "image/png": "[encoded data removed]",
      "text/plain": [
       "<Figure size 432x288 with 1 Axes>"
      ]
     },
     "metadata": {
      "needs_background": "light"
     },
     "output_type": "display_data"
    }
   ],
   "source": [
    "plt.plot(time_curve_sa)"
   ]
  },
  {
   "cell_type": "markdown",
   "metadata": {},
   "source": [
    "### GA"
   ]
  },
  {
   "cell_type": "code",
   "execution_count": 30,
   "metadata": {
    "scrolled": true
   },
   "outputs": [
    {
     "name": "stdout",
     "output_type": "stream",
     "text": [
      "Running ga\n",
      "*****************\n",
      "*** Run START ***\n",
      "*****************\n",
      "pop_size:[150], mutation_prob:[0.4], max_iters:[1000]\n",
      "runner_name:[ga], experiment_name:[FourPeaks], attempt:[0], iteration:[0], done:[False], time:[0.01], fitness:[2.0000]\n",
      "\t[1 1 0 0 1 1 1 1 1 0 0 1 0 1 1 0 0 1 0 0 0 1 0 0 1 0 0 0 1 0 0 0 1 1 1 1 1// 0 0 0 1 1 1 1 1 1 0 1 1 0 0 1 0 0 1 1 1 0 1 0]...\n",
      "\n",
      "pop_size:[150], mutation_prob:[0.4], max_iters:[1000]\n",
      "runner_name:[ga], experiment_name:[FourPeaks], attempt:[11], iteration:[100], done:[False], time:[2.31], fitness:[60.0000]\n",
      "\t[0 0 0 0 0 0 0 0 0 0 0 0 0 0 0 0 0 0 0 0 0 0 0 0 0 0 0 0 0 0 0 0 0 0 0 0 0// 0 0 0 0 0 0 0 0 0 0 0 0 0 0 0 0 0 0 0 0 0 0 0]...\n",
      "\n",
      "pop_size:[150], mutation_prob:[0.4], max_iters:[1000]\n",
      "runner_name:[ga], experiment_name:[FourPeaks], attempt:[911], iteration:[1000], done:[True], time:[31.36], fitness:[60.0000]\n",
      "\t[0 0 0 0 0 0 0 0 0 0 0 0 0 0 0 0 0 0 0 0 0 0 0 0 0 0 0 0 0 0 0 0 0 0 0 0 0// 0 0 0 0 0 0 0 0 0 0 0 0 0 0 0 0 0 0 0 0 0 0 0]...\n",
      "\n",
      "***************\n",
      "*** Run END ***\n",
      "***************\n",
      "*****************\n",
      "*** Run START ***\n",
      "*****************\n",
      "pop_size:[150], mutation_prob:[0.5], max_iters:[1000]\n",
      "runner_name:[ga], experiment_name:[FourPeaks], attempt:[0], iteration:[0], done:[False], time:[0.01], fitness:[2.0000]\n",
      "\t[1 1 0 0 1 1 1 1 1 0 0 1 0 1 1 0 0 1 0 0 0 1 0 0 1 0 0 0 1 0 0 0 1 1 1 1 1// 0 0 0 1 1 1 1 1 1 0 1 1 0 0 1 0 0 1 1 1 0 1 0]...\n",
      "\n",
      "pop_size:[150], mutation_prob:[0.5], max_iters:[1000]\n",
      "runner_name:[ga], experiment_name:[FourPeaks], attempt:[9], iteration:[100], done:[False], time:[5.81], fitness:[60.0000]\n",
      "\t[0 0 0 0 0 0 0 0 0 0 0 0 0 0 0 0 0 0 0 0 0 0 0 0 0 0 0 0 0 0 0 0 0 0 0 0 0// 0 0 0 0 0 0 0 0 0 0 0 0 0 0 0 0 0 0 0 0 0 0 0]...\n",
      "\n",
      "pop_size:[150], mutation_prob:[0.5], max_iters:[1000]\n",
      "runner_name:[ga], experiment_name:[FourPeaks], attempt:[909], iteration:[1000], done:[True], time:[34.99], fitness:[60.0000]\n",
      "\t[0 0 0 0 0 0 0 0 0 0 0 0 0 0 0 0 0 0 0 0 0 0 0 0 0 0 0 0 0 0 0 0 0 0 0 0 0// 0 0 0 0 0 0 0 0 0 0 0 0 0 0 0 0 0 0 0 0 0 0 0]...\n",
      "\n",
      "***************\n",
      "*** Run END ***\n",
      "***************\n",
      "*****************\n",
      "*** Run START ***\n",
      "*****************\n",
      "pop_size:[150], mutation_prob:[0.6], max_iters:[1000]\n",
      "runner_name:[ga], experiment_name:[FourPeaks], attempt:[0], iteration:[0], done:[False], time:[0.00], fitness:[2.0000]\n",
      "\t[1 1 0 0 1 1 1 1 1 0 0 1 0 1 1 0 0 1 0 0 0 1 0 0 1 0 0 0 1 0 0 0 1 1 1 1 1// 0 0 0 1 1 1 1 1 1 0 1 1 0 0 1 0 0 1 1 1 0 1 0]...\n",
      "\n",
      "pop_size:[150], mutation_prob:[0.6], max_iters:[1000]\n",
      "runner_name:[ga], experiment_name:[FourPeaks], attempt:[4], iteration:[100], done:[False], time:[3.10], fitness:[57.0000]\n",
      "\t[0 0 1 0 0 0 0 0 0 0 0 0 0 0 0 0 0 0 0 0 0 0 0 0 0 0 0 0 0 0 0 0 0 0 0 0 0// 0 0 0 0 0 0 0 0 0 0 0 0 0 0 0 0 0 0 0 0 0 0 0]...\n",
      "\n",
      "pop_size:[150], mutation_prob:[0.6], max_iters:[1000]\n",
      "runner_name:[ga], experiment_name:[FourPeaks], attempt:[897], iteration:[1000], done:[True], time:[31.26], fitness:[60.0000]\n",
      "\t[0 0 0 0 0 0 0 0 0 0 0 0 0 0 0 0 0 0 0 0 0 0 0 0 0 0 0 0 0 0 0 0 0 0 0 0 0// 0 0 0 0 0 0 0 0 0 0 0 0 0 0 0 0 0 0 0 0 0 0 0]...\n",
      "\n",
      "***************\n",
      "*** Run END ***\n",
      "***************\n",
      "*****************\n",
      "*** Run START ***\n",
      "*****************\n",
      "pop_size:[200], mutation_prob:[0.4], max_iters:[1000]\n",
      "runner_name:[ga], experiment_name:[FourPeaks], attempt:[0], iteration:[0], done:[False], time:[0.00], fitness:[2.0000]\n",
      "\t[1 1 0 0 1 1 1 1 1 0 0 1 0 1 1 0 0 1 0 0 0 1 0 0 1 0 0 0 1 0 0 0 1 1 1 1 1// 0 0 0 1 1 1 1 1 1 0 1 1 0 0 1 0 0 1 1 1 0 1 0]...\n",
      "\n",
      "pop_size:[200], mutation_prob:[0.4], max_iters:[1000]\n",
      "runner_name:[ga], experiment_name:[FourPeaks], attempt:[18], iteration:[100], done:[False], time:[2.99], fitness:[60.0000]\n",
      "\t[1 1 1 1 1 1 1 1 1 1 1 1 1 1 1 1 1 1 1 1 1 1 1 1 1 1 1 1 1 1 1 1 1 1 1 1 1// 1 1 1 1 1 1 1 1 1 1 1 1 1 1 1 1 1 1 1 1 1 1 1]...\n",
      "\n",
      "pop_size:[200], mutation_prob:[0.4], max_iters:[1000]\n",
      "runner_name:[ga], experiment_name:[FourPeaks], attempt:[918], iteration:[1000], done:[True], time:[31.59], fitness:[60.0000]\n",
      "\t[1 1 1 1 1 1 1 1 1 1 1 1 1 1 1 1 1 1 1 1 1 1 1 1 1 1 1 1 1 1 1 1 1 1 1 1 1// 1 1 1 1 1 1 1 1 1 1 1 1 1 1 1 1 1 1 1 1 1 1 1]...\n",
      "\n",
      "***************\n",
      "*** Run END ***\n",
      "***************\n",
      "*****************\n",
      "*** Run START ***\n",
      "*****************\n",
      "pop_size:[200], mutation_prob:[0.5], max_iters:[1000]\n",
      "runner_name:[ga], experiment_name:[FourPeaks], attempt:[0], iteration:[0], done:[False], time:[0.00], fitness:[2.0000]\n",
      "\t[1 1 0 0 1 1 1 1 1 0 0 1 0 1 1 0 0 1 0 0 0 1 0 0 1 0 0 0 1 0 0 0 1 1 1 1 1// 0 0 0 1 1 1 1 1 1 0 1 1 0 0 1 0 0 1 1 1 0 1 0]...\n",
      "\n",
      "pop_size:[200], mutation_prob:[0.5], max_iters:[1000]\n",
      "runner_name:[ga], experiment_name:[FourPeaks], attempt:[25], iteration:[100], done:[False], time:[3.33], fitness:[60.0000]\n",
      "\t[1 1 1 1 1 1 1 1 1 1 1 1 1 1 1 1 1 1 1 1 1 1 1 1 1 1 1 1 1 1 1 1 1 1 1 1 1// 1 1 1 1 1 1 1 1 1 1 1 1 1 1 1 1 1 1 1 1 1 1 1]...\n",
      "\n",
      "pop_size:[200], mutation_prob:[0.5], max_iters:[1000]\n",
      "runner_name:[ga], experiment_name:[FourPeaks], attempt:[925], iteration:[1000], done:[True], time:[34.92], fitness:[60.0000]\n",
      "\t[1 1 1 1 1 1 1 1 1 1 1 1 1 1 1 1 1 1 1 1 1 1 1 1 1 1 1 1 1 1 1 1 1 1 1 1 1// 1 1 1 1 1 1 1 1 1 1 1 1 1 1 1 1 1 1 1 1 1 1 1]...\n",
      "\n",
      "***************\n",
      "*** Run END ***\n",
      "***************\n",
      "*****************\n",
      "*** Run START ***\n",
      "*****************\n",
      "pop_size:[200], mutation_prob:[0.6], max_iters:[1000]\n",
      "runner_name:[ga], experiment_name:[FourPeaks], attempt:[0], iteration:[0], done:[False], time:[0.00], fitness:[2.0000]\n",
      "\t[1 1 0 0 1 1 1 1 1 0 0 1 0 1 1 0 0 1 0 0 0 1 0 0 1 0 0 0 1 0 0 0 1 1 1 1 1// 0 0 0 1 1 1 1 1 1 0 1 1 0 0 1 0 0 1 1 1 0 1 0]...\n",
      "\n",
      "pop_size:[200], mutation_prob:[0.6], max_iters:[1000]\n",
      "runner_name:[ga], experiment_name:[FourPeaks], attempt:[37], iteration:[100], done:[False], time:[3.14], fitness:[107.0000]\n",
      "\t[1 1 1 1 1 1 1 1 1 1 1 1 1 1 1 1 1 1 1 1 1 1 1 1 1 1 1 1 1 1 1 1 1 1 1 1 1// 1 1 1 1 1 1 1 1 1 1 0 0 0 0 0 0 0 0 0 0 0 0 0]...\n",
      "\n",
      "pop_size:[200], mutation_prob:[0.6], max_iters:[1000]\n",
      "runner_name:[ga], experiment_name:[FourPeaks], attempt:[937], iteration:[1000], done:[True], time:[30.93], fitness:[107.0000]\n",
      "\t[1 1 1 1 1 1 1 1 1 1 1 1 1 1 1 1 1 1 1 1 1 1 1 1 1 1 1 1 1 1 1 1 1 1 1 1 1// 1 1 1 1 1 1 1 1 1 1 0 0 0 0 0 0 0 0 0 0 0 0 0]...\n",
      "\n",
      "***************\n",
      "*** Run END ***\n",
      "***************\n",
      "*****************\n",
      "*** Run START ***\n",
      "*****************\n",
      "pop_size:[300], mutation_prob:[0.4], max_iters:[1000]\n",
      "runner_name:[ga], experiment_name:[FourPeaks], attempt:[0], iteration:[0], done:[False], time:[0.01], fitness:[2.0000]\n",
      "\t[1 1 0 0 1 1 1 1 1 0 0 1 0 1 1 0 0 1 0 0 0 1 0 0 1 0 0 0 1 0 0 0 1 1 1 1 1// 0 0 0 1 1 1 1 1 1 0 1 1 0 0 1 0 0 1 1 1 0 1 0]...\n",
      "\n",
      "pop_size:[300], mutation_prob:[0.4], max_iters:[1000]\n",
      "runner_name:[ga], experiment_name:[FourPeaks], attempt:[43], iteration:[100], done:[False], time:[4.64], fitness:[107.0000]\n",
      "\t[1 1 1 1 1 1 1 1 1 1 1 1 1 0 0 0 0 0 0 0 0 0 0 0 0 0 0 0 0 0 0 0 0 0 0 0 0// 0 0 0 0 0 0 0 0 0 0 0 0 0 0 0 0 0 0 0 0 0 0 0]...\n",
      "\n",
      "pop_size:[300], mutation_prob:[0.4], max_iters:[1000]\n",
      "runner_name:[ga], experiment_name:[FourPeaks], attempt:[943], iteration:[1000], done:[True], time:[49.53], fitness:[107.0000]\n",
      "\t[1 1 1 1 1 1 1 1 1 1 1 1 1 0 0 0 0 0 0 0 0 0 0 0 0 0 0 0 0 0 0 0 0 0 0 0 0// 0 0 0 0 0 0 0 0 0 0 0 0 0 0 0 0 0 0 0 0 0 0 0]...\n",
      "\n",
      "***************\n",
      "*** Run END ***\n",
      "***************\n",
      "*****************\n",
      "*** Run START ***\n",
      "*****************\n",
      "pop_size:[300], mutation_prob:[0.5], max_iters:[1000]\n",
      "runner_name:[ga], experiment_name:[FourPeaks], attempt:[0], iteration:[0], done:[False], time:[0.01], fitness:[2.0000]\n",
      "\t[1 1 0 0 1 1 1 1 1 0 0 1 0 1 1 0 0 1 0 0 0 1 0 0 1 0 0 0 1 0 0 0 1 1 1 1 1// 0 0 0 1 1 1 1 1 1 0 1 1 0 0 1 0 0 1 1 1 0 1 0]...\n",
      "\n",
      "pop_size:[300], mutation_prob:[0.5], max_iters:[1000]\n",
      "runner_name:[ga], experiment_name:[FourPeaks], attempt:[5], iteration:[100], done:[False], time:[4.20], fitness:[104.0000]\n",
      "\t[1 1 1 1 1 1 1 1 1 1 1 1 1 1 1 1 1 1 1 1 1 1 1 1 1 1 1 1 1 1 1 1 1 1 1 1 1// 1 1 1 1 1 1 1 0 0 0 0 0 0 0 0 0 0 0 0 0 0 0 0]...\n",
      "\n",
      "pop_size:[300], mutation_prob:[0.5], max_iters:[1000]\n",
      "runner_name:[ga], experiment_name:[FourPeaks], attempt:[891], iteration:[1000], done:[True], time:[43.75], fitness:[107.0000]\n",
      "\t[1 1 1 1 1 1 1 1 1 1 1 1 1 1 1 1 1 1 1 1 1 1 1 1 1 1 1 1 1 1 1 1 1 1 1 1 1// 1 1 1 1 1 1 1 1 1 1 0 0 0 0 0 0 0 0 0 0 0 0 0]...\n",
      "\n",
      "***************\n",
      "*** Run END ***\n",
      "***************\n",
      "*****************\n",
      "*** Run START ***\n",
      "*****************\n",
      "pop_size:[300], mutation_prob:[0.6], max_iters:[1000]\n",
      "runner_name:[ga], experiment_name:[FourPeaks], attempt:[0], iteration:[0], done:[False], time:[0.01], fitness:[2.0000]\n",
      "\t[1 1 0 0 1 1 1 1 1 0 0 1 0 1 1 0 0 1 0 0 0 1 0 0 1 0 0 0 1 0 0 0 1 1 1 1 1// 0 0 0 1 1 1 1 1 1 0 1 1 0 0 1 0 0 1 1 1 0 1 0]...\n",
      "\n"
     ]
    },
    {
     "name": "stdout",
     "output_type": "stream",
     "text": [
      "pop_size:[300], mutation_prob:[0.6], max_iters:[1000]\n",
      "runner_name:[ga], experiment_name:[FourPeaks], attempt:[37], iteration:[100], done:[False], time:[4.03], fitness:[60.0000]\n",
      "\t[1 1 1 1 1 1 1 1 1 1 1 1 1 1 1 1 1 1 1 1 1 1 1 1 1 1 1 1 1 1 1 1 1 1 1 1 1// 1 1 1 1 1 1 1 1 1 1 1 1 1 1 1 1 1 1 1 1 1 1 1]...\n",
      "\n",
      "pop_size:[300], mutation_prob:[0.6], max_iters:[1000]\n",
      "runner_name:[ga], experiment_name:[FourPeaks], attempt:[937], iteration:[1000], done:[True], time:[42.54], fitness:[60.0000]\n",
      "\t[1 1 1 1 1 1 1 1 1 1 1 1 1 1 1 1 1 1 1 1 1 1 1 1 1 1 1 1 1 1 1 1 1 1 1 1 1// 1 1 1 1 1 1 1 1 1 1 1 1 1 1 1 1 1 1 1 1 1 1 1]...\n",
      "\n",
      "***************\n",
      "*** Run END ***\n",
      "***************\n",
      "Run time: 331.77905599999985\n",
      "Saving: [output\\FourPeaks\\ga__FourPeaks__run_stats_df.csv]\n",
      "Saving: [output\\FourPeaks\\ga__FourPeaks__curves_df.csv]\n"
     ]
    }
   ],
   "source": [
    "from mlrose_hiive.runners import GARunner\n",
    "\n",
    "ga = GARunner(problem=problem_cust,\n",
    "              experiment_name=experiment_name,\n",
    "              output_directory=OUTPUT_DIRECTORY,\n",
    "              seed=SEED,\n",
    "              iteration_list=[0,100,1000],\n",
    "              max_attempts=1000,\n",
    "              population_sizes=[150, 200, 300],\n",
    "              mutation_rates=[0.4, 0.5, 0.6])\n",
    "\n",
    "# the two data frames will contain the results\n",
    "df_run_stats, df_run_curves = ga.run()   "
   ]
  },
  {
   "cell_type": "code",
   "execution_count": 31,
   "metadata": {},
   "outputs": [
    {
     "data": {
      "text/html": [
       "<div>\n",
       "<style scoped>\n",
       "    .dataframe tbody tr th:only-of-type {\n",
       "        vertical-align: middle;\n",
       "    }\n",
       "\n",
       "    .dataframe tbody tr th {\n",
       "        vertical-align: top;\n",
       "    }\n",
       "\n",
       "    .dataframe thead th {\n",
       "        text-align: right;\n",
       "    }\n",
       "</style>\n",
       "<table border=\"1\" class=\"dataframe\">\n",
       "  <thead>\n",
       "    <tr style=\"text-align: right;\">\n",
       "      <th></th>\n",
       "      <th></th>\n",
       "      <th>Time</th>\n",
       "      <th>Fitness</th>\n",
       "    </tr>\n",
       "    <tr>\n",
       "      <th>Population Size</th>\n",
       "      <th>Mutation Rate</th>\n",
       "      <th></th>\n",
       "      <th></th>\n",
       "    </tr>\n",
       "  </thead>\n",
       "  <tbody>\n",
       "    <tr>\n",
       "      <td rowspan=\"3\" valign=\"top\">150</td>\n",
       "      <td>0.4</td>\n",
       "      <td>33.672298</td>\n",
       "      <td>122.0</td>\n",
       "    </tr>\n",
       "    <tr>\n",
       "      <td>0.5</td>\n",
       "      <td>40.806311</td>\n",
       "      <td>122.0</td>\n",
       "    </tr>\n",
       "    <tr>\n",
       "      <td>0.6</td>\n",
       "      <td>34.363510</td>\n",
       "      <td>119.0</td>\n",
       "    </tr>\n",
       "    <tr>\n",
       "      <td rowspan=\"3\" valign=\"top\">200</td>\n",
       "      <td>0.4</td>\n",
       "      <td>34.583695</td>\n",
       "      <td>122.0</td>\n",
       "    </tr>\n",
       "    <tr>\n",
       "      <td>0.5</td>\n",
       "      <td>38.249561</td>\n",
       "      <td>122.0</td>\n",
       "    </tr>\n",
       "    <tr>\n",
       "      <td>0.6</td>\n",
       "      <td>34.078182</td>\n",
       "      <td>216.0</td>\n",
       "    </tr>\n",
       "    <tr>\n",
       "      <td rowspan=\"3\" valign=\"top\">300</td>\n",
       "      <td>0.4</td>\n",
       "      <td>54.178642</td>\n",
       "      <td>216.0</td>\n",
       "    </tr>\n",
       "    <tr>\n",
       "      <td>0.5</td>\n",
       "      <td>47.959466</td>\n",
       "      <td>213.0</td>\n",
       "    </tr>\n",
       "    <tr>\n",
       "      <td>0.6</td>\n",
       "      <td>46.577788</td>\n",
       "      <td>122.0</td>\n",
       "    </tr>\n",
       "  </tbody>\n",
       "</table>\n",
       "</div>"
      ],
      "text/plain": [
       "                                    Time  Fitness\n",
       "Population Size Mutation Rate                    \n",
       "150             0.4            33.672298    122.0\n",
       "                0.5            40.806311    122.0\n",
       "                0.6            34.363510    119.0\n",
       "200             0.4            34.583695    122.0\n",
       "                0.5            38.249561    122.0\n",
       "                0.6            34.078182    216.0\n",
       "300             0.4            54.178642    216.0\n",
       "                0.5            47.959466    213.0\n",
       "                0.6            46.577788    122.0"
      ]
     },
     "execution_count": 31,
     "metadata": {},
     "output_type": "execute_result"
    }
   ],
   "source": [
    "df_run_stats.groupby(['Population Size','Mutation Rate'])['Time','Fitness'].sum()"
   ]
  },
  {
   "cell_type": "code",
   "execution_count": 32,
   "metadata": {
    "scrolled": true
   },
   "outputs": [
    {
     "data": {
      "text/html": [
       "<div>\n",
       "<style scoped>\n",
       "    .dataframe tbody tr th:only-of-type {\n",
       "        vertical-align: middle;\n",
       "    }\n",
       "\n",
       "    .dataframe tbody tr th {\n",
       "        vertical-align: top;\n",
       "    }\n",
       "\n",
       "    .dataframe thead th {\n",
       "        text-align: right;\n",
       "    }\n",
       "</style>\n",
       "<table border=\"1\" class=\"dataframe\">\n",
       "  <thead>\n",
       "    <tr style=\"text-align: right;\">\n",
       "      <th></th>\n",
       "      <th></th>\n",
       "      <th>Time</th>\n",
       "      <th>Fitness</th>\n",
       "    </tr>\n",
       "    <tr>\n",
       "      <th>Population Size</th>\n",
       "      <th>Mutation Rate</th>\n",
       "      <th></th>\n",
       "      <th></th>\n",
       "    </tr>\n",
       "  </thead>\n",
       "  <tbody>\n",
       "    <tr>\n",
       "      <td rowspan=\"3\" valign=\"top\">150</td>\n",
       "      <td>0.4</td>\n",
       "      <td>31.355353</td>\n",
       "      <td>60.0</td>\n",
       "    </tr>\n",
       "    <tr>\n",
       "      <td>0.5</td>\n",
       "      <td>34.990566</td>\n",
       "      <td>60.0</td>\n",
       "    </tr>\n",
       "    <tr>\n",
       "      <td>0.6</td>\n",
       "      <td>31.263342</td>\n",
       "      <td>60.0</td>\n",
       "    </tr>\n",
       "    <tr>\n",
       "      <td rowspan=\"3\" valign=\"top\">200</td>\n",
       "      <td>0.4</td>\n",
       "      <td>31.587773</td>\n",
       "      <td>60.0</td>\n",
       "    </tr>\n",
       "    <tr>\n",
       "      <td>0.5</td>\n",
       "      <td>34.917729</td>\n",
       "      <td>60.0</td>\n",
       "    </tr>\n",
       "    <tr>\n",
       "      <td>0.6</td>\n",
       "      <td>30.930705</td>\n",
       "      <td>107.0</td>\n",
       "    </tr>\n",
       "    <tr>\n",
       "      <td rowspan=\"3\" valign=\"top\">300</td>\n",
       "      <td>0.4</td>\n",
       "      <td>49.534204</td>\n",
       "      <td>107.0</td>\n",
       "    </tr>\n",
       "    <tr>\n",
       "      <td>0.5</td>\n",
       "      <td>43.754218</td>\n",
       "      <td>107.0</td>\n",
       "    </tr>\n",
       "    <tr>\n",
       "      <td>0.6</td>\n",
       "      <td>42.539056</td>\n",
       "      <td>60.0</td>\n",
       "    </tr>\n",
       "  </tbody>\n",
       "</table>\n",
       "</div>"
      ],
      "text/plain": [
       "                                    Time  Fitness\n",
       "Population Size Mutation Rate                    \n",
       "150             0.4            31.355353     60.0\n",
       "                0.5            34.990566     60.0\n",
       "                0.6            31.263342     60.0\n",
       "200             0.4            31.587773     60.0\n",
       "                0.5            34.917729     60.0\n",
       "                0.6            30.930705    107.0\n",
       "300             0.4            49.534204    107.0\n",
       "                0.5            43.754218    107.0\n",
       "                0.6            42.539056     60.0"
      ]
     },
     "execution_count": 32,
     "metadata": {},
     "output_type": "execute_result"
    }
   ],
   "source": [
    "df_run_stats.groupby(['Population Size','Mutation Rate'])['Time','Fitness'].max()"
   ]
  },
  {
   "cell_type": "code",
   "execution_count": 71,
   "metadata": {},
   "outputs": [],
   "source": [
    "# Solve using genetic algorithm\n",
    "evaluations = []\n",
    "best_state, best_fitness, fitness_curve_ga,time_curve_ga = mlrose_hiive.genetic_alg(problem_cust, mutation_prob = 0.6,\n",
    "                                                                      pop_size= 200,\n",
    "                                                                       max_attempts = 100, \n",
    "                                              random_state = 2,curve=True)\n"
   ]
  },
  {
   "cell_type": "code",
   "execution_count": 35,
   "metadata": {},
   "outputs": [
    {
     "data": {
      "text/plain": [
       "107.0"
      ]
     },
     "execution_count": 35,
     "metadata": {},
     "output_type": "execute_result"
    }
   ],
   "source": [
    "best_fitness"
   ]
  },
  {
   "cell_type": "code",
   "execution_count": 36,
   "metadata": {},
   "outputs": [
    {
     "data": {
      "text/plain": [
       "[<matplotlib.lines.Line2D at 0x213bfcdfd48>]"
      ]
     },
     "execution_count": 36,
     "metadata": {},
     "output_type": "execute_result"
    },
    {
     "data": {
      "image/png": "[encoded data removed]",
      "text/plain": [
       "<Figure size 432x288 with 1 Axes>"
      ]
     },
     "metadata": {
      "needs_background": "light"
     },
     "output_type": "display_data"
    }
   ],
   "source": [
    "plt.plot(fitness_curve_ga)"
   ]
  },
  {
   "cell_type": "code",
   "execution_count": 72,
   "metadata": {
    "scrolled": true
   },
   "outputs": [
    {
     "data": {
      "image/png": "[encoded data removed]",
      "text/plain": [
       "<Figure size 432x288 with 1 Axes>"
      ]
     },
     "metadata": {
      "needs_background": "light"
     },
     "output_type": "display_data"
    }
   ],
   "source": [
    "plt.plot(evaluations)\n",
    "evaluations_ga = evaluations.copy()\n",
    "evaluations=[]"
   ]
  },
  {
   "cell_type": "code",
   "execution_count": 38,
   "metadata": {},
   "outputs": [
    {
     "data": {
      "text/plain": [
       "[<matplotlib.lines.Line2D at 0x213c068f1c8>]"
      ]
     },
     "execution_count": 38,
     "metadata": {},
     "output_type": "execute_result"
    },
    {
     "data": {
      "image/png": "[encoded data removed]",
      "text/plain": [
       "<Figure size 432x288 with 1 Axes>"
      ]
     },
     "metadata": {
      "needs_background": "light"
     },
     "output_type": "display_data"
    }
   ],
   "source": [
    "plt.plot(time_curve_ga)"
   ]
  },
  {
   "cell_type": "code",
   "execution_count": 41,
   "metadata": {},
   "outputs": [],
   "source": [
    "from mlrose_hiive.runners import MIMICRunner\n",
    "\n",
    "#experiment_name = 'example_experiment'\n",
    "#problem = TSPGenerator.generate(seed=SEED, number_of_cities=22)\n",
    "\n",
    "mmc = MIMICRunner(problem=problem_cust,\n",
    "                  experiment_name=experiment_name,\n",
    "                  output_directory=OUTPUT_DIRECTORY,\n",
    "                  seed=2,\n",
    "                  iteration_list=[1000],\n",
    "                  max_attempts=100,\n",
    "                  population_sizes=[100],#150, 200, 300],\n",
    "                  keep_percent_list=[0.25, 0.5, 0.75])\n"
   ]
  },
  {
   "cell_type": "code",
   "execution_count": 42,
   "metadata": {
    "scrolled": true
   },
   "outputs": [
    {
     "name": "stdout",
     "output_type": "stream",
     "text": [
      "Running mimic\n",
      "*****************\n",
      "*** Run START ***\n",
      "*****************\n",
      "use_fast_mimic:[False], pop_size:[100], keep_pct:[0.25], max_iters:[1000]\n",
      "runner_name:[mimic], experiment_name:[FourPeaks], attempt:[0], iteration:[0], done:[False], time:[0.00], fitness:[0.0000]\n",
      "\t[0 1 1 0 0 1 0 1 0 1 0 1 1 1 1 1 1 1 0 0 0 0 1 1 1 0 0 0 1 1 1 0 0 1 0 0 1// 1 1 0 0 0 0 1 1 1 1 0 0 0 0 0 0 0 0 1 1 1 1 1]...\n",
      "\n",
      "use_fast_mimic:[False], pop_size:[100], keep_pct:[0.25], max_iters:[1000]\n",
      "runner_name:[mimic], experiment_name:[FourPeaks], attempt:[101], iteration:[107], done:[True], time:[263.36], fitness:[15.0000]\n",
      "\t[1. 1. 1. 1. 1. 1. 1. 1. 1. 1. 1. 1. 1. 1. 1. 0. 0. 1. 1. 1. 1. 1. 0. 1.// 1. 1. 0. 0. 1. 1. 1. 1. 1. 0. 1. 0. 1. 1. 0. 1. 0. 1. 0. 0. 1. 0. 0. 0.// 0. 0. 0. 0. 1. 0. 0. 0. 1. 1. 1. 1.]...\n",
      "\n",
      "***************\n",
      "*** Run END ***\n",
      "***************\n",
      "*****************\n",
      "*** Run START ***\n",
      "*****************\n",
      "use_fast_mimic:[False], pop_size:[100], keep_pct:[0.5], max_iters:[1000]\n",
      "runner_name:[mimic], experiment_name:[FourPeaks], attempt:[0], iteration:[0], done:[False], time:[0.00], fitness:[0.0000]\n",
      "\t[0 1 1 0 0 1 0 1 0 1 0 1 1 1 1 1 1 1 0 0 0 0 1 1 1 0 0 0 1 1 1 0 0 1 0 0 1// 1 1 0 0 0 0 1 1 1 1 0 0 0 0 0 0 0 0 1 1 1 1 1]...\n",
      "\n",
      "use_fast_mimic:[False], pop_size:[100], keep_pct:[0.5], max_iters:[1000]\n",
      "runner_name:[mimic], experiment_name:[FourPeaks], attempt:[101], iteration:[105], done:[True], time:[269.88], fitness:[15.0000]\n",
      "\t[1. 1. 1. 1. 1. 1. 1. 1. 1. 1. 1. 1. 1. 1. 1. 0. 1. 0. 0. 0. 1. 1. 0. 1.// 1. 0. 1. 0. 0. 1. 0. 0. 0. 0. 0. 1. 1. 1. 0. 1. 0. 1. 1. 1. 1. 0. 0. 1.// 0. 1. 1. 0. 1. 1. 1. 0. 1. 1. 1. 0.]...\n",
      "\n",
      "***************\n",
      "*** Run END ***\n",
      "***************\n",
      "*****************\n",
      "*** Run START ***\n",
      "*****************\n",
      "use_fast_mimic:[False], pop_size:[100], keep_pct:[0.75], max_iters:[1000]\n",
      "runner_name:[mimic], experiment_name:[FourPeaks], attempt:[0], iteration:[0], done:[False], time:[0.00], fitness:[0.0000]\n",
      "\t[0 1 1 0 0 1 0 1 0 1 0 1 1 1 1 1 1 1 0 0 0 0 1 1 1 0 0 0 1 1 1 0 0 1 0 0 1// 1 1 0 0 0 0 1 1 1 1 0 0 0 0 0 0 0 0 1 1 1 1 1]...\n",
      "\n",
      "use_fast_mimic:[False], pop_size:[100], keep_pct:[0.75], max_iters:[1000]\n",
      "runner_name:[mimic], experiment_name:[FourPeaks], attempt:[101], iteration:[125], done:[True], time:[321.45], fitness:[15.0000]\n",
      "\t[1. 1. 0. 1. 0. 0. 1. 1. 1. 0. 0. 1. 0. 0. 1. 0. 0. 0. 0. 0. 1. 1. 0. 1.// 1. 0. 1. 1. 1. 0. 1. 0. 0. 0. 1. 0. 0. 0. 0. 0. 0. 0. 0. 0. 1. 0. 0. 0.// 0. 0. 0. 0. 0. 0. 0. 0. 0. 0. 0. 0.]...\n",
      "\n",
      "***************\n",
      "*** Run END ***\n",
      "***************\n",
      "Run time: 854.7667969000001\n",
      "Saving: [output\\FourPeaks\\mimic__FourPeaks__run_stats_df.csv]\n",
      "Saving: [output\\FourPeaks\\mimic__FourPeaks__curves_df.csv]\n"
     ]
    }
   ],
   "source": [
    "df_run_stats, df_run_curves = mmc.run()   "
   ]
  },
  {
   "cell_type": "code",
   "execution_count": 43,
   "metadata": {},
   "outputs": [
    {
     "data": {
      "text/html": [
       "<div>\n",
       "<style scoped>\n",
       "    .dataframe tbody tr th:only-of-type {\n",
       "        vertical-align: middle;\n",
       "    }\n",
       "\n",
       "    .dataframe tbody tr th {\n",
       "        vertical-align: top;\n",
       "    }\n",
       "\n",
       "    .dataframe thead th {\n",
       "        text-align: right;\n",
       "    }\n",
       "</style>\n",
       "<table border=\"1\" class=\"dataframe\">\n",
       "  <thead>\n",
       "    <tr style=\"text-align: right;\">\n",
       "      <th></th>\n",
       "      <th>Iteration</th>\n",
       "      <th>Fitness</th>\n",
       "      <th>Time</th>\n",
       "      <th>State</th>\n",
       "      <th>use_fast_mimic</th>\n",
       "      <th>Population Size</th>\n",
       "      <th>Keep Percent</th>\n",
       "      <th>max_iters</th>\n",
       "    </tr>\n",
       "  </thead>\n",
       "  <tbody>\n",
       "    <tr>\n",
       "      <td>0</td>\n",
       "      <td>0</td>\n",
       "      <td>0.0</td>\n",
       "      <td>0.004236</td>\n",
       "      <td>[0, 1, 1, 0, 0, 1, 0, 1, 0, 1, 0, 1, 1, 1, 1, ...</td>\n",
       "      <td>False</td>\n",
       "      <td>100</td>\n",
       "      <td>0.25</td>\n",
       "      <td>1000</td>\n",
       "    </tr>\n",
       "    <tr>\n",
       "      <td>1</td>\n",
       "      <td>1000</td>\n",
       "      <td>15.0</td>\n",
       "      <td>263.363927</td>\n",
       "      <td>[1.0, 1.0, 1.0, 1.0, 1.0, 1.0, 1.0, 1.0, 1.0, ...</td>\n",
       "      <td>False</td>\n",
       "      <td>100</td>\n",
       "      <td>0.25</td>\n",
       "      <td>1000</td>\n",
       "    </tr>\n",
       "    <tr>\n",
       "      <td>2</td>\n",
       "      <td>0</td>\n",
       "      <td>0.0</td>\n",
       "      <td>0.002130</td>\n",
       "      <td>[0, 1, 1, 0, 0, 1, 0, 1, 0, 1, 0, 1, 1, 1, 1, ...</td>\n",
       "      <td>False</td>\n",
       "      <td>100</td>\n",
       "      <td>0.50</td>\n",
       "      <td>1000</td>\n",
       "    </tr>\n",
       "    <tr>\n",
       "      <td>3</td>\n",
       "      <td>1000</td>\n",
       "      <td>15.0</td>\n",
       "      <td>269.882279</td>\n",
       "      <td>[1.0, 1.0, 1.0, 1.0, 1.0, 1.0, 1.0, 1.0, 1.0, ...</td>\n",
       "      <td>False</td>\n",
       "      <td>100</td>\n",
       "      <td>0.50</td>\n",
       "      <td>1000</td>\n",
       "    </tr>\n",
       "    <tr>\n",
       "      <td>4</td>\n",
       "      <td>0</td>\n",
       "      <td>0.0</td>\n",
       "      <td>0.002256</td>\n",
       "      <td>[0, 1, 1, 0, 0, 1, 0, 1, 0, 1, 0, 1, 1, 1, 1, ...</td>\n",
       "      <td>False</td>\n",
       "      <td>100</td>\n",
       "      <td>0.75</td>\n",
       "      <td>1000</td>\n",
       "    </tr>\n",
       "    <tr>\n",
       "      <td>5</td>\n",
       "      <td>1000</td>\n",
       "      <td>15.0</td>\n",
       "      <td>321.447360</td>\n",
       "      <td>[1.0, 1.0, 0.0, 1.0, 0.0, 0.0, 1.0, 1.0, 1.0, ...</td>\n",
       "      <td>False</td>\n",
       "      <td>100</td>\n",
       "      <td>0.75</td>\n",
       "      <td>1000</td>\n",
       "    </tr>\n",
       "  </tbody>\n",
       "</table>\n",
       "</div>"
      ],
      "text/plain": [
       "   Iteration  Fitness        Time  \\\n",
       "0          0      0.0    0.004236   \n",
       "1       1000     15.0  263.363927   \n",
       "2          0      0.0    0.002130   \n",
       "3       1000     15.0  269.882279   \n",
       "4          0      0.0    0.002256   \n",
       "5       1000     15.0  321.447360   \n",
       "\n",
       "                                               State  use_fast_mimic  \\\n",
       "0  [0, 1, 1, 0, 0, 1, 0, 1, 0, 1, 0, 1, 1, 1, 1, ...           False   \n",
       "1  [1.0, 1.0, 1.0, 1.0, 1.0, 1.0, 1.0, 1.0, 1.0, ...           False   \n",
       "2  [0, 1, 1, 0, 0, 1, 0, 1, 0, 1, 0, 1, 1, 1, 1, ...           False   \n",
       "3  [1.0, 1.0, 1.0, 1.0, 1.0, 1.0, 1.0, 1.0, 1.0, ...           False   \n",
       "4  [0, 1, 1, 0, 0, 1, 0, 1, 0, 1, 0, 1, 1, 1, 1, ...           False   \n",
       "5  [1.0, 1.0, 0.0, 1.0, 0.0, 0.0, 1.0, 1.0, 1.0, ...           False   \n",
       "\n",
       "   Population Size  Keep Percent  max_iters  \n",
       "0              100          0.25       1000  \n",
       "1              100          0.25       1000  \n",
       "2              100          0.50       1000  \n",
       "3              100          0.50       1000  \n",
       "4              100          0.75       1000  \n",
       "5              100          0.75       1000  "
      ]
     },
     "execution_count": 43,
     "metadata": {},
     "output_type": "execute_result"
    }
   ],
   "source": [
    "df_run_stats"
   ]
  },
  {
   "cell_type": "code",
   "execution_count": 58,
   "metadata": {},
   "outputs": [],
   "source": [
    "#%time\n",
    "evaluations = []\n",
    "best_state, best_fitness, fitness_curve_bag_queen_mmc,time_curve_mmc = mlrose_hiive.mimic(problem_cust,  \n",
    "                                                                max_attempts = 30, \n",
    "                                                                 max_iters=100,\n",
    "                                              random_state = 20,curve=True\n",
    "                                            ,keep_pct=0.25,pop_size=200\n",
    "                                                                                         )"
   ]
  },
  {
   "cell_type": "code",
   "execution_count": 59,
   "metadata": {},
   "outputs": [
    {
     "data": {
      "text/plain": [
       "array([1, 1, 1, 1, 1, 1, 1, 1, 1, 1, 1, 1, 1, 1, 1, 1, 1, 1, 1, 1, 1, 0,\n",
       "       1, 0, 0, 1, 1, 1, 0, 1, 0, 1, 1, 1, 0, 1, 0, 0, 0, 0, 0, 0, 1, 0,\n",
       "       1, 0, 0, 0, 0, 0, 0, 0, 0, 0, 0, 0, 0, 0, 0, 0])"
      ]
     },
     "execution_count": 59,
     "metadata": {},
     "output_type": "execute_result"
    }
   ],
   "source": [
    "best_state"
   ]
  },
  {
   "cell_type": "code",
   "execution_count": 60,
   "metadata": {},
   "outputs": [
    {
     "data": {
      "text/plain": [
       "81.0"
      ]
     },
     "execution_count": 60,
     "metadata": {},
     "output_type": "execute_result"
    }
   ],
   "source": [
    "best_fitness"
   ]
  },
  {
   "cell_type": "code",
   "execution_count": 61,
   "metadata": {},
   "outputs": [
    {
     "data": {
      "text/plain": [
       "[<matplotlib.lines.Line2D at 0x213c129db88>]"
      ]
     },
     "execution_count": 61,
     "metadata": {},
     "output_type": "execute_result"
    },
    {
     "data": {
      "image/png": "[encoded data removed]",
      "text/plain": [
       "<Figure size 432x288 with 1 Axes>"
      ]
     },
     "metadata": {
      "needs_background": "light"
     },
     "output_type": "display_data"
    }
   ],
   "source": [
    "plt.plot(fitness_curve_bag_queen_mmc)"
   ]
  },
  {
   "cell_type": "code",
   "execution_count": 70,
   "metadata": {},
   "outputs": [
    {
     "data": {
      "image/png": "[encoded data removed]",
      "text/plain": [
       "<Figure size 432x288 with 1 Axes>"
      ]
     },
     "metadata": {
      "needs_background": "light"
     },
     "output_type": "display_data"
    }
   ],
   "source": [
    "plt.plot(evaluations)\n",
    "evaluations_mimc = evaluations.copy()"
   ]
  },
  {
   "cell_type": "code",
   "execution_count": 65,
   "metadata": {},
   "outputs": [
    {
     "data": {
      "image/png": "[encoded data removed]",
      "text/plain": [
       "<Figure size 432x288 with 1 Axes>"
      ]
     },
     "metadata": {
      "needs_background": "light"
     },
     "output_type": "display_data"
    }
   ],
   "source": [
    "plt.plot(fitness_curve_rhc,label='RHC')\n",
    "plt.plot(fitness_curve_sa,label='SA')\n",
    "plt.plot(fitness_curve_ga,label = 'GA')\n",
    "plt.plot(fitness_curve_bag_queen_mmc,label='MIMC')\n",
    "\n",
    "plt.title('Four Peaks Fitness vs Iteration')\n",
    "plt.ylabel('Fitness')\n",
    "plt.xlabel('Iteration')\n",
    "plt.legend()\n",
    "plt.savefig('output/fourpeaks_fit_iter.png')"
   ]
  },
  {
   "cell_type": "code",
   "execution_count": 69,
   "metadata": {},
   "outputs": [
    {
     "data": {
      "image/png": "[encoded data removed]",
      "text/plain": [
       "<Figure size 432x288 with 1 Axes>"
      ]
     },
     "metadata": {
      "needs_background": "light"
     },
     "output_type": "display_data"
    }
   ],
   "source": [
    "plt.plot(time_curve_rhc,label='RHC')\n",
    "plt.plot(time_curve_sa,label='SA')\n",
    "plt.plot(time_curve_ga,label = 'GA')\n",
    "plt.plot(time_curve_mmc,label='MIMC')\n",
    "\n",
    "plt.title('Four Peaks Compute Time vs Iteration')\n",
    "plt.ylabel('Compute Time')\n",
    "plt.xlabel('Iteration')\n",
    "plt.legend()\n",
    "plt.savefig('output/fourpeaks_time_iter.png')"
   ]
  },
  {
   "cell_type": "code",
   "execution_count": 77,
   "metadata": {},
   "outputs": [
    {
     "data": {
      "image/png": "[encoded data removed]",
      "text/plain": [
       "<Figure size 432x288 with 1 Axes>"
      ]
     },
     "metadata": {
      "needs_background": "light"
     },
     "output_type": "display_data"
    }
   ],
   "source": [
    "plt.plot(evaluations_rhc,label='RHC')\n",
    "plt.plot(evaluations_sa,label='SA')\n",
    "plt.plot(evaluations_ga,label = 'GA')\n",
    "plt.plot(evaluations_mimc,label='MIMC')\n",
    "\n",
    "plt.title('Four Peaks Fitness vs Evaluation')\n",
    "plt.ylabel('Fitness')\n",
    "plt.xlabel('Evaluation')\n",
    "plt.legend()\n",
    "plt.savefig('output/fourpeaks_fit_eval.png')"
   ]
  },
  {
   "cell_type": "code",
   "execution_count": null,
   "metadata": {},
   "outputs": [],
   "source": []
  },
  {
   "cell_type": "code",
   "execution_count": 88,
   "metadata": {},
   "outputs": [],
   "source": [
    "def get_complexity(problem_custs):\n",
    "    sac = []\n",
    "    gac = []\n",
    "    rhcc = []\n",
    "    mimicc = []\n",
    "    for problem_cust in problem_custs:\n",
    "        rhc = mlrose_hiive.random_hill_climb(problem_cust, max_attempts=100, max_iters=np.inf, restarts=25,\n",
    "                                             curve=True, random_state = 1)\n",
    "        print('rhc done')\n",
    "        ga = mlrose_hiive.genetic_alg(problem_cust, mutation_prob = 0.6,\n",
    "                                                                      pop_size= 200,\n",
    "                                                                       max_attempts = 100, \n",
    "                                              random_state = 2,curve=True)\n",
    "        print('ga done')\n",
    "\n",
    "        mimc = mlrose_hiive.mimic(problem_cust,  \n",
    "                                                                max_attempts = 30, \n",
    "                                                                 max_iters=100,\n",
    "                                              random_state = 20,curve=True\n",
    "                                            ,keep_pct=0.25,pop_size=200)\n",
    "        print(mimc)\n",
    "        print('mimc done')\n",
    "        \n",
    "        sa = mlrose_hiive.simulated_annealing(problem_cust, \n",
    "                                                                                            schedule = schedule, \n",
    "                                                      max_attempts = 100, \n",
    "                                                                            max_iters = 10000, \n",
    "                                                                                    \n",
    "                                                       random_state = 1,curve=True)\n",
    "        print('sa done')\n",
    "        sac.append([len(sa[2]),sa[3][-1]])\n",
    "        gac.append([len(ga[2]),ga[3][-1]])\n",
    "        rhcc.append([len(rhc[2]),rhc[3][-1]])\n",
    "        mimicc.append([len(mimc[2]),mimc[3][-1]])\n",
    "        print(problem_cust)\n",
    "    return sac,gac,rhcc,mimicc"
   ]
  },
  {
   "cell_type": "code",
   "execution_count": 89,
   "metadata": {},
   "outputs": [],
   "source": [
    "# Define optimization problem object\n",
    "size = [20,30,40,50,60]\n",
    "problem_custs = []\n",
    "for s in size:\n",
    "    p = mlrose_hiive.DiscreteOpt(length = s, fitness_fn = fitness_cust, maximize = True, max_val = 2)\n",
    "    # Define optimization problem object\n",
    "    p.set_mimic_fast_mode(True)\n",
    "    problem_custs.append(p)"
   ]
  },
  {
   "cell_type": "code",
   "execution_count": 90,
   "metadata": {},
   "outputs": [
    {
     "name": "stdout",
     "output_type": "stream",
     "text": [
      "rhc done\n",
      "ga done\n",
      "(array([1, 1, 1, 1, 1, 1, 1, 1, 1, 1, 1, 1, 1, 1, 1, 0, 0, 0, 0, 0]), 35.0, array([ 7.,  9., 25., 27., 29., 31., 34., 34., 35., 35., 35., 35., 35.,\n",
      "       35., 35., 35., 35., 35., 35., 35., 35., 35., 35., 35., 35., 35.,\n",
      "       35., 35., 35., 35., 35., 35., 35., 35., 35., 35., 35., 35., 35.]), array([0.01300025, 0.02600265, 0.0390017 , 0.05099678, 0.06199598,\n",
      "       0.07499599, 0.08899999, 0.1000061 , 0.11200261, 0.13099599,\n",
      "       0.14499784, 0.16199827, 0.17600298, 0.1910007 , 0.21099877,\n",
      "       0.23699784, 0.26299906, 0.28699923, 0.31400013, 0.33799982,\n",
      "       0.35699582, 0.375     , 0.39200068, 0.40599871, 0.42499971,\n",
      "       0.44000006, 0.4569962 , 0.47799683, 0.49699831, 0.51803827,\n",
      "       0.53800368, 0.55200386, 0.56600571, 0.58000493, 0.59900093,\n",
      "       0.61204004, 0.63399887, 0.65004086, 0.66800165]))\n",
      "mimc done\n",
      "sa done\n",
      "<mlrose_hiive.opt_probs.discrete_opt.DiscreteOpt object at 0x00000213C2EFC208>\n",
      "rhc done\n",
      "ga done\n",
      "(array([1, 1, 1, 1, 1, 1, 1, 0, 1, 0, 1, 0, 1, 1, 0, 0, 1, 1, 0, 0, 0, 0,\n",
      "       0, 0, 0, 0, 0, 0, 0, 0]), 42.0, array([12., 13., 19., 19., 39., 42., 42., 42., 42., 42., 42., 42., 42.,\n",
      "       42., 42., 42., 42., 42., 42., 42., 42., 42., 42., 42., 42., 42.,\n",
      "       42., 42., 42., 42., 42., 42., 42., 42., 42., 42.]), array([0.01600075, 0.0369966 , 0.0550015 , 0.07303739, 0.09656072,\n",
      "       0.11256051, 0.13056326, 0.14656162, 0.16356087, 0.1855588 ,\n",
      "       0.20556164, 0.23456216, 0.27056289, 0.3105669 , 0.34856129,\n",
      "       0.37256145, 0.39655876, 0.42156768, 0.44656348, 0.4715631 ,\n",
      "       0.49556231, 0.52156186, 0.54755974, 0.57056308, 0.5965631 ,\n",
      "       0.62056279, 0.65256095, 0.68355918, 0.70956397, 0.7345612 ,\n",
      "       0.76356244, 0.79356337, 0.82256341, 0.84756279, 0.86956167,\n",
      "       0.89356303]))\n",
      "mimc done\n",
      "sa done\n",
      "<mlrose_hiive.opt_probs.discrete_opt.DiscreteOpt object at 0x00000213C2EFC488>\n",
      "rhc done\n",
      "ga done\n",
      "(array([1, 1, 1, 1, 1, 1, 1, 1, 1, 1, 1, 1, 0, 1, 0, 0, 0, 0, 0, 0, 0, 0,\n",
      "       0, 0, 0, 0, 0, 0, 0, 0, 0, 0, 0, 0, 0, 0, 0, 0, 0, 0]), 66.0, array([10., 11., 14., 14., 52., 53., 56., 56., 60., 60., 60., 62., 65.,\n",
      "       66., 66., 66., 66., 66., 66., 66., 66., 66., 66., 66., 66., 66.,\n",
      "       66., 66., 66., 66., 66., 66., 66., 66., 66., 66., 66., 66., 66.,\n",
      "       66., 66., 66., 66., 66.]), array([0.01900363, 0.03800607, 0.06500483, 0.09104705, 0.12604547,\n",
      "       0.16204119, 0.18400502, 0.2090013 , 0.2480042 , 0.30100346,\n",
      "       0.36000395, 0.39100552, 0.42000175, 0.45700479, 0.49200177,\n",
      "       0.52400351, 0.55900478, 0.59600163, 0.62900567, 0.66800165,\n",
      "       0.70400333, 0.73400545, 0.77304268, 0.81604123, 0.84900427,\n",
      "       0.88400412, 0.91400504, 0.94504547, 0.97500443, 1.00400496,\n",
      "       1.03100634, 1.06500936, 1.09400535, 1.13100457, 1.16201067,\n",
      "       1.20104146, 1.22900724, 1.26500654, 1.30200791, 1.33600688,\n",
      "       1.36901164, 1.40100431, 1.43528605, 1.47228718]))\n",
      "mimc done\n",
      "sa done\n",
      "<mlrose_hiive.opt_probs.discrete_opt.DiscreteOpt object at 0x00000213C2EFC408>\n",
      "rhc done\n",
      "ga done\n",
      "(array([1, 0, 0, 0, 1, 0, 0, 1, 1, 1, 0, 1, 0, 0, 0, 0, 1, 0, 0, 0, 0, 0,\n",
      "       0, 0, 0, 0, 0, 0, 0, 0, 0, 0, 0, 0, 0, 0, 0, 0, 0, 0, 0, 0, 0, 0,\n",
      "       0, 0, 0, 0, 0, 0]), 33.0, array([ 8., 10., 13., 16., 16., 18., 18., 23., 23., 26., 26., 26., 27.,\n",
      "       30., 30., 30., 31., 31., 33., 33., 33., 33., 33., 33., 33., 33.,\n",
      "       33., 33., 33., 33., 33., 33., 33., 33., 33., 33., 33., 33., 33.,\n",
      "       33., 33., 33., 33., 33., 33., 33., 33., 33., 33.]), array([0.02999926, 0.05899668, 0.08899808, 0.12200069, 0.16499591,\n",
      "       0.1989994 , 0.25199986, 0.30700397, 0.36199999, 0.41400027,\n",
      "       0.46299982, 0.50000334, 0.52900124, 0.56299901, 0.59699821,\n",
      "       0.6449995 , 0.69799805, 0.75500321, 0.80900121, 0.8550086 ,\n",
      "       0.90500069, 0.95199895, 1.00000286, 1.05151534, 1.08051777,\n",
      "       1.15852094, 1.23251772, 1.30751848, 1.36951995, 1.43351817,\n",
      "       1.50552011, 1.57351804, 1.62351799, 1.69251919, 1.74552035,\n",
      "       1.79051852, 1.83951759, 1.89351964, 1.94151974, 1.99351835,\n",
      "       2.03552079, 2.07851934, 2.1125195 , 2.15851808, 2.21751976,\n",
      "       2.27651906, 2.30651808, 2.35851765, 2.41256094]))\n",
      "mimc done\n",
      "sa done\n",
      "<mlrose_hiive.opt_probs.discrete_opt.DiscreteOpt object at 0x00000213C2EFC188>\n",
      "rhc done\n",
      "ga done\n",
      "(array([0, 0, 0, 0, 0, 0, 0, 1, 1, 0, 0, 0, 0, 1, 1, 1, 0, 0, 1, 0, 0, 0,\n",
      "       0, 1, 1, 0, 0, 0, 0, 1, 0, 0, 1, 0, 0, 1, 1, 1, 0, 0, 1, 0, 0, 0,\n",
      "       0, 0, 0, 0, 0, 0, 0, 0, 0, 0, 0, 0, 0, 0, 0, 0]), 19.0, array([ 9., 10., 15., 15., 15., 15., 15., 15., 15., 15., 17., 17., 17.,\n",
      "       19., 19., 19., 19., 19., 19., 19., 19., 19., 19., 19., 19., 19.,\n",
      "       19., 19., 19., 19., 19., 19., 19., 19., 19., 19., 19., 19., 19.,\n",
      "       19., 19., 19., 19., 19.]), array([0.05999207, 0.11499381, 0.16899085, 0.23999381, 0.32198977,\n",
      "       0.40399218, 0.52799296, 0.64656544, 0.75856709, 0.84756899,\n",
      "       0.94556618, 1.01556849, 1.1305654 , 1.21557093, 1.33256793,\n",
      "       1.47256756, 1.64756727, 1.75056624, 1.85456896, 2.00059032,\n",
      "       2.10556841, 2.18356609, 2.26257372, 2.38057089, 2.51956987,\n",
      "       2.6366179 , 2.74061656, 2.85161805, 2.97261548, 3.06961441,\n",
      "       3.13561702, 3.2006135 , 3.2686162 , 3.33161616, 3.38961625,\n",
      "       3.46761727, 3.53461313, 3.599617  , 3.66061401, 3.71861649,\n",
      "       3.77661705, 3.83061862, 3.89061666, 3.94161987]))\n",
      "mimc done\n",
      "sa done\n",
      "<mlrose_hiive.opt_probs.discrete_opt.DiscreteOpt object at 0x00000213C2EFC748>\n"
     ]
    }
   ],
   "source": [
    "a,b,c,d = get_complexity(problem_custs)"
   ]
  },
  {
   "cell_type": "code",
   "execution_count": 81,
   "metadata": {},
   "outputs": [
    {
     "data": {
      "text/plain": [
       "[[420, 0.01799798011779785],\n",
       " [644, 0.030997514724731445],\n",
       " [806, 0.04599905014038086],\n",
       " [1446, 0.08500051498413086],\n",
       " [1387, 0.07599449157714844]]"
      ]
     },
     "execution_count": 81,
     "metadata": {},
     "output_type": "execute_result"
    }
   ],
   "source": [
    "a"
   ]
  },
  {
   "cell_type": "code",
   "execution_count": 82,
   "metadata": {},
   "outputs": [
    {
     "data": {
      "text/plain": [
       "[[39, 0.7539968490600586],\n",
       " [36, 0.9550631046295166],\n",
       " [44, 1.5831165313720703],\n",
       " [49, 2.5071983337402344],\n",
       " [44, 2.7295312881469727]]"
      ]
     },
     "execution_count": 82,
     "metadata": {},
     "output_type": "execute_result"
    }
   ],
   "source": [
    "d"
   ]
  },
  {
   "cell_type": "code",
   "execution_count": 92,
   "metadata": {},
   "outputs": [],
   "source": [
    "#%time\n",
    "evaluations = []\n",
    "\n",
    "\n",
    "mimc = mlrose_hiive.mimic(problem_cust,  \n",
    "                                                                max_attempts = 30, \n",
    "                                                                 max_iters=100,\n",
    "                                              random_state = 20,curve=True\n",
    "                                            ,keep_pct=0.25,pop_size=200)"
   ]
  },
  {
   "cell_type": "code",
   "execution_count": 84,
   "metadata": {},
   "outputs": [
    {
     "data": {
      "text/plain": [
       "array([  2.86900902,   6.36201859,   9.55110192,  12.608675  ,\n",
       "        15.60868454,  19.32869029,  22.76869941,  25.68423271,\n",
       "        28.59224105,  31.43836379,  34.2179296 ,  36.97907305,\n",
       "        39.65162754,  42.88639903,  48.63071632,  53.18231034,\n",
       "        57.42708445,  61.29425025,  65.12743497,  68.1671226 ,\n",
       "        71.12127733,  75.1069591 ,  78.28860974,  81.73462462,\n",
       "        85.0121479 ,  88.63815665,  91.68116426,  95.90317726,\n",
       "        99.94470477, 103.41246939, 107.42574477, 111.20127702,\n",
       "       114.25628209, 117.3792882 , 121.16929865, 125.20330882,\n",
       "       129.68431997, 134.81933022, 138.27686548, 141.3518734 ,\n",
       "       144.84591722, 148.81163239])"
      ]
     },
     "execution_count": 84,
     "metadata": {},
     "output_type": "execute_result"
    }
   ],
   "source": [
    "time_curve_mmc"
   ]
  },
  {
   "cell_type": "code",
   "execution_count": 96,
   "metadata": {},
   "outputs": [
    {
     "data": {
      "image/png": "[encoded data removed]",
      "text/plain": [
       "<Figure size 432x288 with 1 Axes>"
      ]
     },
     "metadata": {
      "needs_background": "light"
     },
     "output_type": "display_data"
    }
   ],
   "source": [
    "plt.plot(np.asarray(a)[:,0],label ='SA')\n",
    "plt.plot(np.asarray(b)[:,0],label ='GA')\n",
    "plt.plot(np.asarray(c)[:,0],label ='RHC')\n",
    "plt.plot(np.asarray(d)[:,0],label ='MMC')\n",
    "\n",
    "plt.title('Four Peak Iteration vs Complixity')\n",
    "plt.xticks(np.arange(5), size)\n",
    "plt.ylabel('Iteration Time')\n",
    "plt.xlabel('Input Size')\n",
    "plt.legend()\n",
    "plt.savefig('output/fourpeaks_Iteration_comp.png')\n",
    "\n",
    "\n",
    "\n"
   ]
  },
  {
   "cell_type": "code",
   "execution_count": null,
   "metadata": {},
   "outputs": [],
   "source": []
  },
  {
   "cell_type": "markdown",
   "metadata": {},
   "source": [
    "## KnapSack"
   ]
  },
  {
   "cell_type": "markdown",
   "metadata": {},
   "source": [
    "### SA for sacks"
   ]
  },
  {
   "cell_type": "code",
   "execution_count": 253,
   "metadata": {},
   "outputs": [],
   "source": [
    "# Solve using simulated annealing - attempt 1\n",
    "init_state = np.array([0]*140)\n",
    "schedule = mlrose_hiive.ExpDecay()\n",
    "best_state, best_fitness, fitness_curve_bag,time_curve_bag = mlrose_hiive.simulated_annealing(problem_cust, schedule = schedule, \n",
    "                                                      max_attempts = 100, max_iters = 1000, \n",
    "                                                      init_state = init_state, random_state = 1,curve= True)"
   ]
  },
  {
   "cell_type": "code",
   "execution_count": 254,
   "metadata": {},
   "outputs": [
    {
     "data": {
      "text/plain": [
       "19560.0"
      ]
     },
     "execution_count": 254,
     "metadata": {},
     "output_type": "execute_result"
    }
   ],
   "source": [
    "best_fitness"
   ]
  },
  {
   "cell_type": "code",
   "execution_count": 255,
   "metadata": {},
   "outputs": [
    {
     "data": {
      "text/plain": [
       "array([7, 9, 6, 0, 1, 8, 5, 9, 9, 1, 8, 6, 4, 5, 6, 1, 8, 9, 5, 7, 7, 9,\n",
       "       6, 7, 3, 6, 0, 6, 9, 8, 9, 9, 9, 3, 5, 0, 6, 9, 7, 7, 9, 5, 6, 6,\n",
       "       7, 8, 4, 8, 6, 4, 3, 8, 7, 6, 9, 9, 9, 9, 9, 9, 0, 9, 7, 7, 0, 2,\n",
       "       4, 3, 8, 7, 0, 9, 9, 5, 8, 5, 9, 8, 8, 6, 6, 3, 7, 1, 3, 0, 0, 8,\n",
       "       7, 9, 0, 0, 1, 5, 9, 7, 8, 3, 5, 0, 0, 9, 7, 3, 0, 3, 6, 5, 6, 8,\n",
       "       4, 9, 8, 3, 6, 9, 7, 3, 8, 8, 0, 7, 6, 3, 4, 8, 8, 4, 9, 8, 1, 7,\n",
       "       6, 2, 5, 9, 9, 9, 9, 9])"
      ]
     },
     "execution_count": 255,
     "metadata": {},
     "output_type": "execute_result"
    }
   ],
   "source": [
    "best_state"
   ]
  },
  {
   "cell_type": "code",
   "execution_count": 256,
   "metadata": {},
   "outputs": [
    {
     "data": {
      "text/plain": [
       "[<matplotlib.lines.Line2D at 0x19d3c82d408>]"
      ]
     },
     "execution_count": 256,
     "metadata": {},
     "output_type": "execute_result"
    },
    {
     "data": {
      "image/png": "[encoded data removed]",
      "text/plain": [
       "<Figure size 432x288 with 1 Axes>"
      ]
     },
     "metadata": {
      "needs_background": "light"
     },
     "output_type": "display_data"
    }
   ],
   "source": [
    "plt.plot(fitness_curve_bag)"
   ]
  },
  {
   "cell_type": "code",
   "execution_count": 257,
   "metadata": {},
   "outputs": [
    {
     "data": {
      "text/plain": [
       "[<matplotlib.lines.Line2D at 0x19d38449c08>]"
      ]
     },
     "execution_count": 257,
     "metadata": {},
     "output_type": "execute_result"
    },
    {
     "data": {
      "image/png": "[encoded data removed]",
      "text/plain": [
       "<Figure size 432x288 with 1 Axes>"
      ]
     },
     "metadata": {
      "needs_background": "light"
     },
     "output_type": "display_data"
    }
   ],
   "source": [
    "plt.plot(time_curve_bag)"
   ]
  },
  {
   "cell_type": "markdown",
   "metadata": {},
   "source": [
    "### GA for sacks"
   ]
  },
  {
   "cell_type": "code",
   "execution_count": 258,
   "metadata": {},
   "outputs": [],
   "source": [
    "# Solve using genetic algorithm\n",
    "best_state, best_fitness, fitness_curve_bag = mlrose_hiive.genetic_alg(problem_cust, mutation_prob = 0.2, max_attempts = 100, \n",
    "                                              random_state = 2,curve=True)"
   ]
  },
  {
   "cell_type": "code",
   "execution_count": 259,
   "metadata": {},
   "outputs": [
    {
     "data": {
      "text/plain": [
       "27818.0"
      ]
     },
     "execution_count": 259,
     "metadata": {},
     "output_type": "execute_result"
    }
   ],
   "source": [
    "best_fitness"
   ]
  },
  {
   "cell_type": "code",
   "execution_count": 245,
   "metadata": {},
   "outputs": [
    {
     "data": {
      "text/plain": [
       "array([1, 1, 1, 1, 0])"
      ]
     },
     "execution_count": 245,
     "metadata": {},
     "output_type": "execute_result"
    }
   ],
   "source": [
    "np.array([1]*4+[0])"
   ]
  },
  {
   "cell_type": "code",
   "execution_count": 246,
   "metadata": {},
   "outputs": [],
   "source": [
    "state = np.array([1, 1, 1, 1, 1])"
   ]
  },
  {
   "cell_type": "code",
   "execution_count": 218,
   "metadata": {},
   "outputs": [
    {
     "data": {
      "text/plain": [
       "0"
      ]
     },
     "execution_count": 218,
     "metadata": {},
     "output_type": "execute_result"
    }
   ],
   "source": [
    "fitness.evaluate(state)"
   ]
  },
  {
   "cell_type": "code",
   "execution_count": 260,
   "metadata": {},
   "outputs": [
    {
     "data": {
      "text/plain": [
       "array([9, 2, 4, 9, 0, 9, 9, 2, 9, 3, 9, 2, 9, 9, 4, 3, 9, 9, 9, 0, 9, 9,\n",
       "       9, 9, 9, 0, 3, 0, 9, 0, 9, 9, 0, 8, 3, 9, 3, 0, 9, 3, 1, 0, 9, 1,\n",
       "       9, 9, 9, 9, 9, 2, 9, 9, 9, 0, 9, 0, 4, 0, 9, 5, 9, 9, 9, 0, 8, 9,\n",
       "       4, 9, 0, 9, 9, 9, 8, 9, 9, 9, 9, 6, 9, 9, 9, 9, 2, 9, 7, 2, 7, 9,\n",
       "       9, 0, 9, 8, 9, 6, 0, 9, 9, 9, 9, 9, 8, 9, 7, 9, 9, 9, 4, 8, 9, 0,\n",
       "       9, 9, 9, 5, 9, 1, 9, 0, 2, 9, 9, 9, 8, 9, 5, 9, 9, 9, 9, 9, 1, 9,\n",
       "       0, 9, 9, 9, 9, 4, 0, 9])"
      ]
     },
     "execution_count": 260,
     "metadata": {},
     "output_type": "execute_result"
    }
   ],
   "source": [
    "best_state"
   ]
  },
  {
   "cell_type": "code",
   "execution_count": 209,
   "metadata": {},
   "outputs": [
    {
     "data": {
      "text/plain": [
       "[10, 5, 2, 8, 15]"
      ]
     },
     "execution_count": 209,
     "metadata": {},
     "output_type": "execute_result"
    }
   ],
   "source": [
    "weights"
   ]
  },
  {
   "cell_type": "code",
   "execution_count": 229,
   "metadata": {},
   "outputs": [
    {
     "data": {
      "text/plain": [
       "634"
      ]
     },
     "execution_count": 229,
     "metadata": {},
     "output_type": "execute_result"
    }
   ],
   "source": [
    "sum(best_state)"
   ]
  },
  {
   "cell_type": "code",
   "execution_count": 178,
   "metadata": {},
   "outputs": [
    {
     "data": {
      "text/plain": [
       "3623"
      ]
     },
     "execution_count": 178,
     "metadata": {},
     "output_type": "execute_result"
    }
   ],
   "source": [
    "sum(wei)"
   ]
  },
  {
   "cell_type": "code",
   "execution_count": 261,
   "metadata": {},
   "outputs": [
    {
     "data": {
      "text/plain": [
       "[<matplotlib.lines.Line2D at 0x19d31682ec8>]"
      ]
     },
     "execution_count": 261,
     "metadata": {},
     "output_type": "execute_result"
    },
    {
     "data": {
      "image/png": "[encoded data removed]",
      "text/plain": [
       "<Figure size 432x288 with 1 Axes>"
      ]
     },
     "metadata": {
      "needs_background": "light"
     },
     "output_type": "display_data"
    }
   ],
   "source": [
    "plt.plot(fitness_curve_bag)"
   ]
  },
  {
   "cell_type": "markdown",
   "metadata": {},
   "source": [
    "## mimic for sacks"
   ]
  },
  {
   "cell_type": "code",
   "execution_count": 183,
   "metadata": {},
   "outputs": [
    {
     "data": {
      "text/plain": [
       "array([1, 1, 1, 1, 1, 1, 1, 1, 1, 1, 1, 1, 1, 1, 1, 1, 1, 1, 1, 1, 1, 1,\n",
       "       1, 1, 1, 1, 1, 1, 1, 1, 1, 1, 1, 1, 1, 1, 1, 1, 1, 1, 1, 1, 1, 1,\n",
       "       1, 1, 1, 1, 1, 1, 1, 1, 1, 1, 1, 1, 1, 1, 1, 1, 1, 1, 1, 1, 1, 1,\n",
       "       1, 1, 1, 1, 1, 1, 1, 1, 1, 1, 1, 1, 1, 1, 1, 1, 1, 1, 1, 1, 1, 1,\n",
       "       1, 1, 1, 1, 1, 1, 1, 1, 1, 1, 1, 1, 1, 1, 1, 1, 1, 1, 1, 1, 1, 1,\n",
       "       1, 1, 1, 1, 1, 1, 1, 1, 1, 1, 1, 1, 1, 1, 1, 1, 1, 1, 1, 1, 1, 1,\n",
       "       1, 1, 1, 1, 1, 1, 1, 1])"
      ]
     },
     "execution_count": 183,
     "metadata": {},
     "output_type": "execute_result"
    }
   ],
   "source": [
    "state"
   ]
  },
  {
   "cell_type": "code",
   "execution_count": 263,
   "metadata": {},
   "outputs": [],
   "source": [
    "best_state, best_fitness, fitness_curve_bag = mlrose_hiive.mimic(problem_cust,  max_attempts = 10, \n",
    "                                                                 max_iters=100,\n",
    "                                              random_state = 2,curve=True)"
   ]
  },
  {
   "cell_type": "code",
   "execution_count": 348,
   "metadata": {},
   "outputs": [],
   "source": [
    "best_state, best_fitness, fitness_curve_bag = mlrose_hiive.mimic(problem_cust,  max_attempts = 1000, \n",
    "                                                                 max_iters=10000,\n",
    "                                              random_state = 2,curve=True)"
   ]
  },
  {
   "cell_type": "code",
   "execution_count": 264,
   "metadata": {},
   "outputs": [
    {
     "data": {
      "text/plain": [
       "24614.0"
      ]
     },
     "execution_count": 264,
     "metadata": {},
     "output_type": "execute_result"
    }
   ],
   "source": [
    "best_fitness"
   ]
  },
  {
   "cell_type": "code",
   "execution_count": 165,
   "metadata": {},
   "outputs": [
    {
     "data": {
      "text/plain": [
       "140"
      ]
     },
     "execution_count": 165,
     "metadata": {},
     "output_type": "execute_result"
    }
   ],
   "source": [
    "len(wei)"
   ]
  },
  {
   "cell_type": "code",
   "execution_count": 265,
   "metadata": {},
   "outputs": [
    {
     "data": {
      "text/plain": [
       "[<matplotlib.lines.Line2D at 0x19d3bfecb08>]"
      ]
     },
     "execution_count": 265,
     "metadata": {},
     "output_type": "execute_result"
    },
    {
     "data": {
      "image/png": "[encoded data removed]",
      "text/plain": [
       "<Figure size 432x288 with 1 Axes>"
      ]
     },
     "metadata": {
      "needs_background": "light"
     },
     "output_type": "display_data"
    }
   ],
   "source": [
    "plt.plot(fitness_curve_bag)"
   ]
  },
  {
   "cell_type": "code",
   "execution_count": 350,
   "metadata": {},
   "outputs": [
    {
     "data": {
      "text/plain": [
       "[<matplotlib.lines.Line2D at 0x19d42ce7688>]"
      ]
     },
     "execution_count": 350,
     "metadata": {},
     "output_type": "execute_result"
    },
    {
     "data": {
      "image/png": "[encoded data removed]",
      "text/plain": [
       "<Figure size 432x288 with 1 Axes>"
      ]
     },
     "metadata": {
      "needs_background": "light"
     },
     "output_type": "display_data"
    }
   ],
   "source": [
    "plt.plot(fitness_curve_bag)"
   ]
  },
  {
   "cell_type": "code",
   "execution_count": null,
   "metadata": {},
   "outputs": [],
   "source": []
  },
  {
   "cell_type": "code",
   "execution_count": 267,
   "metadata": {},
   "outputs": [
    {
     "data": {
      "text/plain": [
       "[<matplotlib.lines.Line2D at 0x19d3d5afe48>]"
      ]
     },
     "execution_count": 267,
     "metadata": {},
     "output_type": "execute_result"
    },
    {
     "data": {
      "image/png": "[encoded data removed]",
      "text/plain": [
       "<Figure size 432x288 with 1 Axes>"
      ]
     },
     "metadata": {
      "needs_background": "light"
     },
     "output_type": "display_data"
    }
   ],
   "source": [
    "plt.plot(np.array(evaluations))"
   ]
  },
  {
   "cell_type": "code",
   "execution_count": 349,
   "metadata": {},
   "outputs": [],
   "source": [
    "with open('mimic_sack_eval.npy', 'wb') as f:\n",
    "    np.save(f, np.array(evaluations))\n",
    "with open('mimic_sack_fit_curve.npy', 'wb') as f:\n",
    "    np.save(f, np.array(best_state))\n",
    "with open('mimic_sack_best_fitness.npy', 'wb') as f:\n",
    "    np.save(f, np.array(fitness_curve_bag))"
   ]
  },
  {
   "cell_type": "code",
   "execution_count": 300,
   "metadata": {},
   "outputs": [],
   "source": [
    "    \n",
    "with open('output/mimic_sack_eval.npy', 'rb') as f:\n",
    "    a = np.load(f)\n"
   ]
  },
  {
   "cell_type": "code",
   "execution_count": 299,
   "metadata": {},
   "outputs": [
    {
     "data": {
      "text/plain": [
       "'C:\\\\Users\\\\xiaoyal\\\\github\\\\ml_7641\\\\homework2\\\\mlrose-master'"
      ]
     },
     "execution_count": 299,
     "metadata": {},
     "output_type": "execute_result"
    }
   ],
   "source": [
    "import os\n",
    "os.getcwd()"
   ]
  },
  {
   "cell_type": "markdown",
   "metadata": {},
   "source": [
    "### SA for 4 peak"
   ]
  },
  {
   "cell_type": "code",
   "execution_count": 353,
   "metadata": {},
   "outputs": [],
   "source": [
    "# Define decay schedule\n",
    "schedule = mlrose_hiive.ExpDecay()"
   ]
  },
  {
   "cell_type": "code",
   "execution_count": 362,
   "metadata": {},
   "outputs": [],
   "source": [
    "# Solve using simulated annealing - attempt 1\n",
    "random.seed(0)\n",
    "init_state = [random.randint(0,1) for _ in range(60)]\n",
    "\n",
    "best_state, best_fitness, fit_curve,fit_time = mlrose_hiive.simulated_annealing(problem_cust, schedule = schedule, \n",
    "                                                      max_attempts = 1000, max_iters = 10000, \n",
    "                                                      init_state = init_state, random_state = 1,curve= True)"
   ]
  },
  {
   "cell_type": "code",
   "execution_count": 363,
   "metadata": {},
   "outputs": [
    {
     "data": {
      "text/plain": [
       "60.0"
      ]
     },
     "execution_count": 363,
     "metadata": {},
     "output_type": "execute_result"
    }
   ],
   "source": [
    "best_fitness"
   ]
  },
  {
   "cell_type": "code",
   "execution_count": 360,
   "metadata": {},
   "outputs": [
    {
     "data": {
      "text/plain": [
       "array([1, 1, 1, 1, 1, 1, 1, 1, 1, 1, 1, 1, 1, 1, 1, 1, 1, 1, 1, 1, 1, 1,\n",
       "       1, 1, 1, 1, 1, 1, 1, 1, 1, 1, 1, 1, 1, 1, 1, 1, 1, 1, 1, 1, 1, 1,\n",
       "       1, 1, 1, 1, 1, 1, 1, 1, 1, 1, 1, 1, 1, 1, 0, 0])"
      ]
     },
     "execution_count": 360,
     "metadata": {},
     "output_type": "execute_result"
    }
   ],
   "source": [
    "best_state"
   ]
  },
  {
   "cell_type": "code",
   "execution_count": 364,
   "metadata": {},
   "outputs": [
    {
     "data": {
      "text/plain": [
       "[<matplotlib.lines.Line2D at 0x19d43a60d48>]"
      ]
     },
     "execution_count": 364,
     "metadata": {},
     "output_type": "execute_result"
    },
    {
     "data": {
      "image/png": "[encoded data removed]",
      "text/plain": [
       "<Figure size 432x288 with 1 Axes>"
      ]
     },
     "metadata": {
      "needs_background": "light"
     },
     "output_type": "display_data"
    }
   ],
   "source": [
    "plt.plot(fit_curve)"
   ]
  },
  {
   "cell_type": "markdown",
   "metadata": {},
   "source": [
    "## mimic for 4 peaks"
   ]
  },
  {
   "cell_type": "code",
   "execution_count": 365,
   "metadata": {},
   "outputs": [],
   "source": [
    "from mlrose_hiive import mimic"
   ]
  },
  {
   "cell_type": "code",
   "execution_count": null,
   "metadata": {},
   "outputs": [],
   "source": []
  },
  {
   "cell_type": "code",
   "execution_count": 368,
   "metadata": {},
   "outputs": [],
   "source": [
    "best_state, best_fitness, fitness_curve_mimic = mlrose_hiive.mimic(problem_cust,  max_attempts = 10, \n",
    "                                                                 max_iters=100,\n",
    "                                              random_state = 2,curve=True)"
   ]
  },
  {
   "cell_type": "code",
   "execution_count": 369,
   "metadata": {},
   "outputs": [
    {
     "data": {
      "text/plain": [
       "22.0"
      ]
     },
     "execution_count": 369,
     "metadata": {},
     "output_type": "execute_result"
    }
   ],
   "source": [
    "best_fitness"
   ]
  },
  {
   "cell_type": "code",
   "execution_count": 371,
   "metadata": {},
   "outputs": [
    {
     "data": {
      "text/plain": [
       "[<matplotlib.lines.Line2D at 0x19d43b6d788>]"
      ]
     },
     "execution_count": 371,
     "metadata": {},
     "output_type": "execute_result"
    },
    {
     "data": {
      "image/png": "[encoded data removed]",
      "text/plain": [
       "<Figure size 432x288 with 1 Axes>"
      ]
     },
     "metadata": {
      "needs_background": "light"
     },
     "output_type": "display_data"
    }
   ],
   "source": [
    "plt.plot(fitness_curve_mimic)"
   ]
  },
  {
   "cell_type": "markdown",
   "metadata": {},
   "source": [
    "### GA for 4 peaks"
   ]
  },
  {
   "cell_type": "code",
   "execution_count": 379,
   "metadata": {},
   "outputs": [],
   "source": [
    "best_state, best_fitness, fit_curve = mlrose_hiive.genetic_alg(problem_cust, max_attempts=1000,max_iters=10000, \n",
    "                                                               random_state = 2,curve= True)"
   ]
  },
  {
   "cell_type": "code",
   "execution_count": 380,
   "metadata": {},
   "outputs": [
    {
     "data": {
      "text/plain": [
       "107.0"
      ]
     },
     "execution_count": 380,
     "metadata": {},
     "output_type": "execute_result"
    }
   ],
   "source": [
    "best_fitness"
   ]
  },
  {
   "cell_type": "code",
   "execution_count": 381,
   "metadata": {},
   "outputs": [
    {
     "data": {
      "text/plain": [
       "[<matplotlib.lines.Line2D at 0x19d45d00948>]"
      ]
     },
     "execution_count": 381,
     "metadata": {},
     "output_type": "execute_result"
    },
    {
     "data": {
      "image/png": "[encoded data removed]",
      "text/plain": [
       "<Figure size 432x288 with 1 Axes>"
      ]
     },
     "metadata": {
      "needs_background": "light"
     },
     "output_type": "display_data"
    }
   ],
   "source": [
    "plt.plot(fit_curve)"
   ]
  },
  {
   "cell_type": "markdown",
   "metadata": {},
   "source": [
    "### rhc for 4 peaks"
   ]
  },
  {
   "cell_type": "code",
   "execution_count": 384,
   "metadata": {},
   "outputs": [],
   "source": [
    "best_state, best_fitness, fit_curve = mlrose_hiive.random_hill_climb(problem_cust, max_attempts=1000,max_iters=10000, \n",
    "                                                               random_state = 2,curve= True,restarts = 5)"
   ]
  },
  {
   "cell_type": "code",
   "execution_count": 386,
   "metadata": {},
   "outputs": [
    {
     "data": {
      "text/plain": [
       "60.0"
      ]
     },
     "execution_count": 386,
     "metadata": {},
     "output_type": "execute_result"
    }
   ],
   "source": [
    "best_fitness"
   ]
  },
  {
   "cell_type": "code",
   "execution_count": 385,
   "metadata": {},
   "outputs": [
    {
     "data": {
      "text/plain": [
       "[<matplotlib.lines.Line2D at 0x19d45d59dc8>]"
      ]
     },
     "execution_count": 385,
     "metadata": {},
     "output_type": "execute_result"
    },
    {
     "data": {
      "image/png": "[encoded data removed]",
      "text/plain": [
       "<Figure size 432x288 with 1 Axes>"
      ]
     },
     "metadata": {
      "needs_background": "light"
     },
     "output_type": "display_data"
    }
   ],
   "source": [
    "plt.plot(fit_curve)"
   ]
  },
  {
   "cell_type": "code",
   "execution_count": 427,
   "metadata": {},
   "outputs": [],
   "source": [
    "random.seed(0) \n",
    "\n",
    "wei = [random.randint(1,50) for _ in range(140)]"
   ]
  },
  {
   "cell_type": "code",
   "execution_count": 428,
   "metadata": {},
   "outputs": [
    {
     "data": {
      "text/plain": [
       "[25, 49, 27, 3, 17, 33, 32, 26, 20, 31]"
      ]
     },
     "execution_count": 428,
     "metadata": {},
     "output_type": "execute_result"
    }
   ],
   "source": [
    "wei[:10]"
   ]
  },
  {
   "cell_type": "code",
   "execution_count": null,
   "metadata": {},
   "outputs": [],
   "source": []
  }
 ],
 "metadata": {
  "kernelspec": {
   "display_name": "Python 3",
   "language": "python",
   "name": "python3"
  },
  "language_info": {
   "codemirror_mode": {
    "name": "ipython",
    "version": 3
   },
   "file_extension": ".py",
   "mimetype": "text/x-python",
   "name": "python",
   "nbconvert_exporter": "python",
   "pygments_lexer": "ipython3",
   "version": "3.7.4"
  },
  "pycharm": {
   "stem_cell": {
    "cell_type": "raw",
    "metadata": {
     "collapsed": false
    },
    "source": []
   }
  }
 },
 "nbformat": 4,
 "nbformat_minor": 2
}
