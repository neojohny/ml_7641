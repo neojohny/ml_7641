{
 "cells": [
  {
   "cell_type": "markdown",
   "metadata": {},
   "source": [
    "# mlrose_hiive Tutorial Examples - Genevieve Hayes"
   ]
  },
  {
   "cell_type": "markdown",
   "metadata": {},
   "source": [
    "## Overview"
   ]
  },
  {
   "cell_type": "markdown",
   "metadata": {},
   "source": [
    "mlrose_hiive is a Python package for applying some of the most common randomized optimization and search algorithms to a range of different optimization problems, over both discrete- and continuous-valued parameter spaces. This notebook contains the examples used in the mlrose_hiive tutorial."
   ]
  },
  {
   "cell_type": "markdown",
   "metadata": {},
   "source": [
    "### Import Libraries"
   ]
  },
  {
   "cell_type": "code",
   "execution_count": 1,
   "metadata": {},
   "outputs": [],
   "source": [
    "import mlrose_hiive\n",
    "import numpy as np\n",
    "\n",
    "from sklearn.datasets import load_iris\n",
    "from sklearn.model_selection import train_test_split\n",
    "from sklearn.preprocessing import MinMaxScaler, OneHotEncoder\n",
    "from sklearn.metrics import accuracy_score"
   ]
  },
  {
   "cell_type": "code",
   "execution_count": 2,
   "metadata": {},
   "outputs": [],
   "source": [
    "from matplotlib import pyplot as plt\n",
    "%matplotlib inline"
   ]
  },
  {
   "cell_type": "markdown",
   "metadata": {},
   "source": [
    "### Example 2: 8-Queens Using Custom Fitness Function"
   ]
  },
  {
   "cell_type": "code",
   "execution_count": 3,
   "metadata": {},
   "outputs": [],
   "source": [
    "# Define alternative N-Queens fitness function for maximization problem\n",
    "evaluations = []\n",
    "def queens_max(state):\n",
    "    \n",
    "    # Initialize counter\n",
    "    fitness = 0\n",
    "    \n",
    "    # For all pairs of queens\n",
    "    for i in range(len(state) - 1):\n",
    "        for j in range(i + 1, len(state)):\n",
    "            \n",
    "            # Check for horizontal, diagonal-up and diagonal-down attacks\n",
    "            if (state[j] != state[i]) \\\n",
    "                and (state[j] != state[i] + (j - i)) \\\n",
    "                and (state[j] != state[i] - (j - i)):\n",
    "                \n",
    "                # If no attacks, then increment counter\n",
    "                fitness += 1\n",
    "    evaluations.append(fitness)\n",
    "    return fitness"
   ]
  },
  {
   "cell_type": "code",
   "execution_count": 4,
   "metadata": {},
   "outputs": [
    {
     "data": {
      "text/plain": [
       "28"
      ]
     },
     "execution_count": 4,
     "metadata": {},
     "output_type": "execute_result"
    }
   ],
   "source": [
    "# Check function is working correctly\n",
    "state = np.array([1, 4, 1, 3, 5, 5, 2, 7])\n",
    "state = np.array([4,1,3,5,7,2,0,6])\n",
    "# The fitness of this state should be 22\n",
    "queens_max(state)"
   ]
  },
  {
   "cell_type": "code",
   "execution_count": 5,
   "metadata": {},
   "outputs": [],
   "source": [
    "# Initialize custom fitness function object\n",
    "fitness_cust = mlrose_hiive.CustomFitness(queens_max)"
   ]
  },
  {
   "cell_type": "code",
   "execution_count": 6,
   "metadata": {},
   "outputs": [],
   "source": [
    "# Define optimization problem object\n",
    "problem_cust = mlrose_hiive.DiscreteOpt(length = 8, fitness_fn = fitness_cust, maximize = True, max_val = 8)\n",
    "problem_cust.set_mimic_fast_mode(True)"
   ]
  },
  {
   "cell_type": "code",
   "execution_count": 7,
   "metadata": {},
   "outputs": [],
   "source": [
    "# Solve using simulated annealing - attempt 1\n",
    "init_state = np.array([0, 1, 2, 3, 4, 5, 6, 7])\n",
    "schedule = mlrose_hiive.ExpDecay()\n",
    "\n",
    "best_state, best_fitness, _ = mlrose_hiive.simulated_annealing(problem_cust, schedule = schedule, \n",
    "                                                      max_attempts = 10, max_iters = 1000, \n",
    "                                                      init_state = init_state, random_state = 1)"
   ]
  },
  {
   "cell_type": "code",
   "execution_count": 8,
   "metadata": {},
   "outputs": [
    {
     "data": {
      "text/plain": [
       "26.0"
      ]
     },
     "execution_count": 8,
     "metadata": {},
     "output_type": "execute_result"
    }
   ],
   "source": [
    "best_fitness"
   ]
  },
  {
   "cell_type": "code",
   "execution_count": 9,
   "metadata": {},
   "outputs": [
    {
     "data": {
      "text/plain": [
       "array([6, 4, 7, 3, 6, 2, 5, 1])"
      ]
     },
     "execution_count": 9,
     "metadata": {},
     "output_type": "execute_result"
    }
   ],
   "source": [
    "best_state"
   ]
  },
  {
   "cell_type": "markdown",
   "metadata": {},
   "source": [
    "## queens grid search"
   ]
  },
  {
   "cell_type": "code",
   "execution_count": 10,
   "metadata": {},
   "outputs": [],
   "source": [
    "OUTPUT_DIRECTORY = 'output'\n",
    "SEED = 1\n",
    "experiment_name = 'queens'"
   ]
  },
  {
   "cell_type": "markdown",
   "metadata": {},
   "source": [
    "### rhc"
   ]
  },
  {
   "cell_type": "code",
   "execution_count": 11,
   "metadata": {},
   "outputs": [
    {
     "name": "stdout",
     "output_type": "stream",
     "text": [
      "Running rhc\n",
      "*****************\n",
      "*** Run START ***\n",
      "*****************\n",
      "restarts:[0], max_iters:[100], current_restart:[0]\n",
      "runner_name:[rhc], experiment_name:[queens], attempt:[0], iteration:[0], done:[False], time:[0.00], fitness:[23.0000]\n",
      "\t[5 3 4 0 7 1 3 5]...\n",
      "\n",
      "restarts:[0], max_iters:[100], current_restart:[0]\n",
      "runner_name:[rhc], experiment_name:[queens], attempt:[11], iteration:[50], done:[False], time:[0.02], fitness:[26.0000]\n",
      "\t[5 2 4 7 7 1 3 6]...\n",
      "\n",
      "restarts:[0], max_iters:[100], current_restart:[0]\n",
      "runner_name:[rhc], experiment_name:[queens], attempt:[29], iteration:[100], done:[True], time:[1.17], fitness:[28.0000]\n",
      "\t[5 2 0 7 4 1 3 6]...\n",
      "\n",
      "***************\n",
      "*** Run END ***\n",
      "***************\n",
      "*****************\n",
      "*** Run START ***\n",
      "*****************\n",
      "restarts:[10], max_iters:[100], current_restart:[0]\n",
      "runner_name:[rhc], experiment_name:[queens], attempt:[0], iteration:[0], done:[False], time:[0.00], fitness:[23.0000]\n",
      "\t[5 3 4 0 7 1 3 5]...\n",
      "\n",
      "restarts:[10], max_iters:[100], current_restart:[0]\n",
      "runner_name:[rhc], experiment_name:[queens], attempt:[11], iteration:[50], done:[False], time:[0.01], fitness:[26.0000]\n",
      "\t[5 2 4 7 7 1 3 6]...\n",
      "\n",
      "restarts:[10], max_iters:[100], current_restart:[0]\n",
      "runner_name:[rhc], experiment_name:[queens], attempt:[29], iteration:[100], done:[True], time:[0.04], fitness:[28.0000]\n",
      "\t[5 2 0 7 4 1 3 6]...\n",
      "\n",
      "restarts:[10], max_iters:[100], current_restart:[1]\n",
      "runner_name:[rhc], experiment_name:[queens], attempt:[0], iteration:[0], done:[False], time:[0.06], fitness:[24.0000]\n",
      "\t[5 0 3 7 0 3 1 2]...\n",
      "\n",
      "restarts:[10], max_iters:[100], current_restart:[1]\n",
      "runner_name:[rhc], experiment_name:[queens], attempt:[36], iteration:[50], done:[False], time:[0.08], fitness:[26.0000]\n",
      "\t[6 0 3 7 0 3 1 4]...\n",
      "\n",
      "restarts:[10], max_iters:[100], current_restart:[1]\n",
      "runner_name:[rhc], experiment_name:[queens], attempt:[86], iteration:[100], done:[True], time:[0.11], fitness:[26.0000]\n",
      "\t[6 0 3 7 0 3 1 4]...\n",
      "\n",
      "restarts:[10], max_iters:[100], current_restart:[2]\n",
      "runner_name:[rhc], experiment_name:[queens], attempt:[0], iteration:[0], done:[False], time:[0.14], fitness:[21.0000]\n",
      "\t[0 2 4 6 7 0 6 2]...\n",
      "\n",
      "restarts:[10], max_iters:[100], current_restart:[2]\n",
      "runner_name:[rhc], experiment_name:[queens], attempt:[33], iteration:[50], done:[False], time:[0.15], fitness:[26.0000]\n",
      "\t[1 2 4 6 3 0 4 7]...\n",
      "\n",
      "restarts:[10], max_iters:[100], current_restart:[2]\n",
      "runner_name:[rhc], experiment_name:[queens], attempt:[83], iteration:[100], done:[True], time:[0.20], fitness:[26.0000]\n",
      "\t[1 2 4 6 3 0 4 7]...\n",
      "\n",
      "restarts:[10], max_iters:[100], current_restart:[3]\n",
      "runner_name:[rhc], experiment_name:[queens], attempt:[0], iteration:[0], done:[False], time:[0.23], fitness:[18.0000]\n",
      "\t[3 4 0 6 7 5 3 5]...\n",
      "\n",
      "restarts:[10], max_iters:[100], current_restart:[3]\n",
      "runner_name:[rhc], experiment_name:[queens], attempt:[8], iteration:[50], done:[False], time:[0.24], fitness:[26.0000]\n",
      "\t[3 5 0 2 6 5 1 4]...\n",
      "\n",
      "restarts:[10], max_iters:[100], current_restart:[3]\n",
      "runner_name:[rhc], experiment_name:[queens], attempt:[4], iteration:[100], done:[True], time:[0.30], fitness:[27.0000]\n",
      "\t[3 5 0 2 6 7 1 4]...\n",
      "\n",
      "restarts:[10], max_iters:[100], current_restart:[4]\n",
      "runner_name:[rhc], experiment_name:[queens], attempt:[0], iteration:[0], done:[False], time:[0.33], fitness:[20.0000]\n",
      "\t[5 2 5 4 7 4 7 1]...\n",
      "\n",
      "restarts:[10], max_iters:[100], current_restart:[4]\n",
      "runner_name:[rhc], experiment_name:[queens], attempt:[34], iteration:[50], done:[False], time:[0.35], fitness:[25.0000]\n",
      "\t[3 1 5 2 6 4 7 1]...\n",
      "\n",
      "restarts:[10], max_iters:[100], current_restart:[4]\n",
      "runner_name:[rhc], experiment_name:[queens], attempt:[84], iteration:[100], done:[True], time:[0.41], fitness:[25.0000]\n",
      "\t[3 1 5 2 6 4 7 1]...\n",
      "\n",
      "restarts:[10], max_iters:[100], current_restart:[5]\n",
      "runner_name:[rhc], experiment_name:[queens], attempt:[0], iteration:[0], done:[False], time:[0.48], fitness:[25.0000]\n",
      "\t[1 3 6 0 7 2 7 5]...\n",
      "\n",
      "restarts:[10], max_iters:[100], current_restart:[5]\n",
      "runner_name:[rhc], experiment_name:[queens], attempt:[33], iteration:[50], done:[False], time:[0.51], fitness:[27.0000]\n",
      "\t[1 3 6 2 7 2 0 5]...\n",
      "\n",
      "restarts:[10], max_iters:[100], current_restart:[5]\n",
      "runner_name:[rhc], experiment_name:[queens], attempt:[83], iteration:[100], done:[True], time:[0.60], fitness:[27.0000]\n",
      "\t[1 3 6 2 7 2 0 5]...\n",
      "\n",
      "restarts:[10], max_iters:[100], current_restart:[6]\n",
      "runner_name:[rhc], experiment_name:[queens], attempt:[0], iteration:[0], done:[False], time:[0.68], fitness:[22.0000]\n",
      "\t[2 6 5 0 7 5 7 4]...\n",
      "\n",
      "restarts:[10], max_iters:[100], current_restart:[6]\n",
      "runner_name:[rhc], experiment_name:[queens], attempt:[13], iteration:[50], done:[False], time:[0.70], fitness:[25.0000]\n",
      "\t[2 6 6 0 3 5 7 4]...\n",
      "\n",
      "restarts:[10], max_iters:[100], current_restart:[6]\n",
      "runner_name:[rhc], experiment_name:[queens], attempt:[45], iteration:[100], done:[True], time:[0.80], fitness:[26.0000]\n",
      "\t[2 6 6 1 3 5 7 4]...\n",
      "\n",
      "restarts:[10], max_iters:[100], current_restart:[7]\n",
      "runner_name:[rhc], experiment_name:[queens], attempt:[0], iteration:[0], done:[False], time:[0.90], fitness:[23.0000]\n",
      "\t[5 0 2 4 5 2 6 3]...\n",
      "\n",
      "restarts:[10], max_iters:[100], current_restart:[7]\n",
      "runner_name:[rhc], experiment_name:[queens], attempt:[50], iteration:[50], done:[False], time:[0.92], fitness:[24.0000]\n",
      "\t[5 0 2 4 5 1 6 3]...\n",
      "\n",
      "restarts:[10], max_iters:[100], current_restart:[7]\n",
      "runner_name:[rhc], experiment_name:[queens], attempt:[100], iteration:[100], done:[True], time:[1.00], fitness:[24.0000]\n",
      "\t[5 0 2 4 5 1 6 3]...\n",
      "\n",
      "restarts:[10], max_iters:[100], current_restart:[8]\n",
      "runner_name:[rhc], experiment_name:[queens], attempt:[0], iteration:[0], done:[False], time:[1.06], fitness:[22.0000]\n",
      "\t[1 7 1 1 7 6 0 2]...\n",
      "\n",
      "restarts:[10], max_iters:[100], current_restart:[8]\n",
      "runner_name:[rhc], experiment_name:[queens], attempt:[37], iteration:[50], done:[False], time:[1.08], fitness:[25.0000]\n",
      "\t[2 7 1 1 3 6 0 2]...\n",
      "\n",
      "restarts:[10], max_iters:[100], current_restart:[8]\n",
      "runner_name:[rhc], experiment_name:[queens], attempt:[33], iteration:[100], done:[True], time:[1.15], fitness:[26.0000]\n",
      "\t[2 7 5 1 3 6 0 2]...\n",
      "\n",
      "restarts:[10], max_iters:[100], current_restart:[9]\n",
      "runner_name:[rhc], experiment_name:[queens], attempt:[0], iteration:[0], done:[False], time:[1.21], fitness:[20.0000]\n",
      "\t[7 6 7 7 4 3 0 3]...\n",
      "\n",
      "restarts:[10], max_iters:[100], current_restart:[9]\n",
      "runner_name:[rhc], experiment_name:[queens], attempt:[8], iteration:[50], done:[False], time:[1.23], fitness:[26.0000]\n",
      "\t[6 6 5 1 4 0 7 3]...\n",
      "\n",
      "restarts:[10], max_iters:[100], current_restart:[9]\n",
      "runner_name:[rhc], experiment_name:[queens], attempt:[58], iteration:[100], done:[True], time:[1.30], fitness:[26.0000]\n",
      "\t[6 6 5 1 4 0 7 3]...\n",
      "\n",
      "restarts:[10], max_iters:[100], current_restart:[10]\n",
      "runner_name:[rhc], experiment_name:[queens], attempt:[0], iteration:[0], done:[False], time:[1.34], fitness:[18.0000]\n",
      "\t[1 2 6 6 3 2 1 0]...\n",
      "\n",
      "restarts:[10], max_iters:[100], current_restart:[10]\n",
      "runner_name:[rhc], experiment_name:[queens], attempt:[11], iteration:[50], done:[False], time:[1.37], fitness:[26.0000]\n",
      "\t[1 5 7 6 4 2 5 3]...\n",
      "\n",
      "restarts:[10], max_iters:[100], current_restart:[10]\n",
      "runner_name:[rhc], experiment_name:[queens], attempt:[34], iteration:[100], done:[True], time:[1.48], fitness:[27.0000]\n",
      "\t[1 5 0 6 4 2 5 3]...\n",
      "\n",
      "***************\n",
      "*** Run END ***\n",
      "***************\n",
      "*****************\n",
      "*** Run START ***\n",
      "*****************\n",
      "restarts:[25], max_iters:[100], current_restart:[0]\n",
      "runner_name:[rhc], experiment_name:[queens], attempt:[0], iteration:[0], done:[False], time:[0.00], fitness:[23.0000]\n",
      "\t[5 3 4 0 7 1 3 5]...\n",
      "\n",
      "restarts:[25], max_iters:[100], current_restart:[0]\n",
      "runner_name:[rhc], experiment_name:[queens], attempt:[11], iteration:[50], done:[False], time:[0.01], fitness:[26.0000]\n",
      "\t[5 2 4 7 7 1 3 6]...\n",
      "\n",
      "restarts:[25], max_iters:[100], current_restart:[0]\n",
      "runner_name:[rhc], experiment_name:[queens], attempt:[29], iteration:[100], done:[True], time:[0.09], fitness:[28.0000]\n",
      "\t[5 2 0 7 4 1 3 6]...\n",
      "\n",
      "restarts:[25], max_iters:[100], current_restart:[1]\n",
      "runner_name:[rhc], experiment_name:[queens], attempt:[0], iteration:[0], done:[False], time:[0.15], fitness:[24.0000]\n",
      "\t[5 0 3 7 0 3 1 2]...\n",
      "\n",
      "restarts:[25], max_iters:[100], current_restart:[1]\n",
      "runner_name:[rhc], experiment_name:[queens], attempt:[36], iteration:[50], done:[False], time:[0.17], fitness:[26.0000]\n",
      "\t[6 0 3 7 0 3 1 4]...\n",
      "\n",
      "restarts:[25], max_iters:[100], current_restart:[1]\n",
      "runner_name:[rhc], experiment_name:[queens], attempt:[86], iteration:[100], done:[True], time:[0.24], fitness:[26.0000]\n",
      "\t[6 0 3 7 0 3 1 4]...\n",
      "\n"
     ]
    },
    {
     "name": "stdout",
     "output_type": "stream",
     "text": [
      "restarts:[25], max_iters:[100], current_restart:[2]\n",
      "runner_name:[rhc], experiment_name:[queens], attempt:[0], iteration:[0], done:[False], time:[0.31], fitness:[21.0000]\n",
      "\t[0 2 4 6 7 0 6 2]...\n",
      "\n",
      "restarts:[25], max_iters:[100], current_restart:[2]\n",
      "runner_name:[rhc], experiment_name:[queens], attempt:[33], iteration:[50], done:[False], time:[0.32], fitness:[26.0000]\n",
      "\t[1 2 4 6 3 0 4 7]...\n",
      "\n",
      "restarts:[25], max_iters:[100], current_restart:[2]\n",
      "runner_name:[rhc], experiment_name:[queens], attempt:[83], iteration:[100], done:[True], time:[0.41], fitness:[26.0000]\n",
      "\t[1 2 4 6 3 0 4 7]...\n",
      "\n",
      "restarts:[25], max_iters:[100], current_restart:[3]\n",
      "runner_name:[rhc], experiment_name:[queens], attempt:[0], iteration:[0], done:[False], time:[0.47], fitness:[18.0000]\n",
      "\t[3 4 0 6 7 5 3 5]...\n",
      "\n",
      "restarts:[25], max_iters:[100], current_restart:[3]\n",
      "runner_name:[rhc], experiment_name:[queens], attempt:[8], iteration:[50], done:[False], time:[0.49], fitness:[26.0000]\n",
      "\t[3 5 0 2 6 5 1 4]...\n",
      "\n",
      "restarts:[25], max_iters:[100], current_restart:[3]\n",
      "runner_name:[rhc], experiment_name:[queens], attempt:[4], iteration:[100], done:[True], time:[0.57], fitness:[27.0000]\n",
      "\t[3 5 0 2 6 7 1 4]...\n",
      "\n",
      "restarts:[25], max_iters:[100], current_restart:[4]\n",
      "runner_name:[rhc], experiment_name:[queens], attempt:[0], iteration:[0], done:[False], time:[0.64], fitness:[20.0000]\n",
      "\t[5 2 5 4 7 4 7 1]...\n",
      "\n",
      "restarts:[25], max_iters:[100], current_restart:[4]\n",
      "runner_name:[rhc], experiment_name:[queens], attempt:[34], iteration:[50], done:[False], time:[0.65], fitness:[25.0000]\n",
      "\t[3 1 5 2 6 4 7 1]...\n",
      "\n",
      "restarts:[25], max_iters:[100], current_restart:[4]\n",
      "runner_name:[rhc], experiment_name:[queens], attempt:[84], iteration:[100], done:[True], time:[0.73], fitness:[25.0000]\n",
      "\t[3 1 5 2 6 4 7 1]...\n",
      "\n",
      "restarts:[25], max_iters:[100], current_restart:[5]\n",
      "runner_name:[rhc], experiment_name:[queens], attempt:[0], iteration:[0], done:[False], time:[0.82], fitness:[25.0000]\n",
      "\t[1 3 6 0 7 2 7 5]...\n",
      "\n",
      "restarts:[25], max_iters:[100], current_restart:[5]\n",
      "runner_name:[rhc], experiment_name:[queens], attempt:[33], iteration:[50], done:[False], time:[0.84], fitness:[27.0000]\n",
      "\t[1 3 6 2 7 2 0 5]...\n",
      "\n",
      "restarts:[25], max_iters:[100], current_restart:[5]\n",
      "runner_name:[rhc], experiment_name:[queens], attempt:[83], iteration:[100], done:[True], time:[0.93], fitness:[27.0000]\n",
      "\t[1 3 6 2 7 2 0 5]...\n",
      "\n",
      "restarts:[25], max_iters:[100], current_restart:[6]\n",
      "runner_name:[rhc], experiment_name:[queens], attempt:[0], iteration:[0], done:[False], time:[1.00], fitness:[22.0000]\n",
      "\t[2 6 5 0 7 5 7 4]...\n",
      "\n",
      "restarts:[25], max_iters:[100], current_restart:[6]\n",
      "runner_name:[rhc], experiment_name:[queens], attempt:[13], iteration:[50], done:[False], time:[1.07], fitness:[25.0000]\n",
      "\t[2 6 6 0 3 5 7 4]...\n",
      "\n",
      "restarts:[25], max_iters:[100], current_restart:[6]\n",
      "runner_name:[rhc], experiment_name:[queens], attempt:[45], iteration:[100], done:[True], time:[1.23], fitness:[26.0000]\n",
      "\t[2 6 6 1 3 5 7 4]...\n",
      "\n",
      "restarts:[25], max_iters:[100], current_restart:[7]\n",
      "runner_name:[rhc], experiment_name:[queens], attempt:[0], iteration:[0], done:[False], time:[1.35], fitness:[23.0000]\n",
      "\t[5 0 2 4 5 2 6 3]...\n",
      "\n",
      "restarts:[25], max_iters:[100], current_restart:[7]\n",
      "runner_name:[rhc], experiment_name:[queens], attempt:[50], iteration:[50], done:[False], time:[1.38], fitness:[24.0000]\n",
      "\t[5 0 2 4 5 1 6 3]...\n",
      "\n",
      "restarts:[25], max_iters:[100], current_restart:[7]\n",
      "runner_name:[rhc], experiment_name:[queens], attempt:[100], iteration:[100], done:[True], time:[1.50], fitness:[24.0000]\n",
      "\t[5 0 2 4 5 1 6 3]...\n",
      "\n",
      "restarts:[25], max_iters:[100], current_restart:[8]\n",
      "runner_name:[rhc], experiment_name:[queens], attempt:[0], iteration:[0], done:[False], time:[1.59], fitness:[22.0000]\n",
      "\t[1 7 1 1 7 6 0 2]...\n",
      "\n",
      "restarts:[25], max_iters:[100], current_restart:[8]\n",
      "runner_name:[rhc], experiment_name:[queens], attempt:[37], iteration:[50], done:[False], time:[1.61], fitness:[25.0000]\n",
      "\t[2 7 1 1 3 6 0 2]...\n",
      "\n",
      "restarts:[25], max_iters:[100], current_restart:[8]\n",
      "runner_name:[rhc], experiment_name:[queens], attempt:[33], iteration:[100], done:[True], time:[1.72], fitness:[26.0000]\n",
      "\t[2 7 5 1 3 6 0 2]...\n",
      "\n",
      "restarts:[25], max_iters:[100], current_restart:[9]\n",
      "runner_name:[rhc], experiment_name:[queens], attempt:[0], iteration:[0], done:[False], time:[1.86], fitness:[20.0000]\n",
      "\t[7 6 7 7 4 3 0 3]...\n",
      "\n",
      "restarts:[25], max_iters:[100], current_restart:[9]\n",
      "runner_name:[rhc], experiment_name:[queens], attempt:[8], iteration:[50], done:[False], time:[1.89], fitness:[26.0000]\n",
      "\t[6 6 5 1 4 0 7 3]...\n",
      "\n",
      "restarts:[25], max_iters:[100], current_restart:[9]\n",
      "runner_name:[rhc], experiment_name:[queens], attempt:[58], iteration:[100], done:[True], time:[2.04], fitness:[26.0000]\n",
      "\t[6 6 5 1 4 0 7 3]...\n",
      "\n",
      "restarts:[25], max_iters:[100], current_restart:[10]\n",
      "runner_name:[rhc], experiment_name:[queens], attempt:[0], iteration:[0], done:[False], time:[2.15], fitness:[18.0000]\n",
      "\t[1 2 6 6 3 2 1 0]...\n",
      "\n",
      "restarts:[25], max_iters:[100], current_restart:[10]\n",
      "runner_name:[rhc], experiment_name:[queens], attempt:[11], iteration:[50], done:[False], time:[2.17], fitness:[26.0000]\n",
      "\t[1 5 7 6 4 2 5 3]...\n",
      "\n",
      "restarts:[25], max_iters:[100], current_restart:[10]\n",
      "runner_name:[rhc], experiment_name:[queens], attempt:[34], iteration:[100], done:[True], time:[2.26], fitness:[27.0000]\n",
      "\t[1 5 0 6 4 2 5 3]...\n",
      "\n",
      "restarts:[25], max_iters:[100], current_restart:[11]\n",
      "runner_name:[rhc], experiment_name:[queens], attempt:[0], iteration:[0], done:[False], time:[2.34], fitness:[23.0000]\n",
      "\t[3 0 7 1 3 6 4 4]...\n",
      "\n",
      "restarts:[25], max_iters:[100], current_restart:[11]\n",
      "runner_name:[rhc], experiment_name:[queens], attempt:[16], iteration:[50], done:[False], time:[2.36], fitness:[28.0000]\n",
      "\t[2 5 7 1 3 0 6 4]...\n",
      "\n",
      "restarts:[25], max_iters:[100], current_restart:[11]\n",
      "runner_name:[rhc], experiment_name:[queens], attempt:[66], iteration:[100], done:[True], time:[2.47], fitness:[28.0000]\n",
      "\t[2 5 7 1 3 0 6 4]...\n",
      "\n",
      "restarts:[25], max_iters:[100], current_restart:[12]\n",
      "runner_name:[rhc], experiment_name:[queens], attempt:[0], iteration:[0], done:[False], time:[2.60], fitness:[24.0000]\n",
      "\t[7 4 6 1 3 5 2 6]...\n",
      "\n",
      "restarts:[25], max_iters:[100], current_restart:[12]\n",
      "runner_name:[rhc], experiment_name:[queens], attempt:[44], iteration:[50], done:[False], time:[2.62], fitness:[26.0000]\n",
      "\t[1 4 7 1 3 5 2 6]...\n",
      "\n",
      "restarts:[25], max_iters:[100], current_restart:[12]\n",
      "runner_name:[rhc], experiment_name:[queens], attempt:[10], iteration:[100], done:[True], time:[2.79], fitness:[27.0000]\n",
      "\t[1 4 7 0 3 5 2 6]...\n",
      "\n",
      "restarts:[25], max_iters:[100], current_restart:[13]\n",
      "runner_name:[rhc], experiment_name:[queens], attempt:[0], iteration:[0], done:[False], time:[2.88], fitness:[23.0000]\n",
      "\t[5 4 1 5 2 3 3 0]...\n",
      "\n",
      "restarts:[25], max_iters:[100], current_restart:[13]\n",
      "runner_name:[rhc], experiment_name:[queens], attempt:[31], iteration:[50], done:[False], time:[2.91], fitness:[25.0000]\n",
      "\t[6 4 1 5 2 3 7 0]...\n",
      "\n",
      "restarts:[25], max_iters:[100], current_restart:[13]\n",
      "runner_name:[rhc], experiment_name:[queens], attempt:[40], iteration:[100], done:[True], time:[3.17], fitness:[27.0000]\n",
      "\t[6 4 1 5 0 3 7 2]...\n",
      "\n",
      "restarts:[25], max_iters:[100], current_restart:[14]\n",
      "runner_name:[rhc], experiment_name:[queens], attempt:[0], iteration:[0], done:[False], time:[3.28], fitness:[21.0000]\n",
      "\t[7 1 0 0 4 0 2 3]...\n",
      "\n",
      "restarts:[25], max_iters:[100], current_restart:[14]\n",
      "runner_name:[rhc], experiment_name:[queens], attempt:[30], iteration:[50], done:[False], time:[3.31], fitness:[27.0000]\n",
      "\t[1 6 0 0 4 7 5 3]...\n",
      "\n",
      "restarts:[25], max_iters:[100], current_restart:[14]\n",
      "runner_name:[rhc], experiment_name:[queens], attempt:[80], iteration:[100], done:[True], time:[3.54], fitness:[27.0000]\n",
      "\t[1 6 0 0 4 7 5 3]...\n",
      "\n",
      "restarts:[25], max_iters:[100], current_restart:[15]\n",
      "runner_name:[rhc], experiment_name:[queens], attempt:[0], iteration:[0], done:[False], time:[3.68], fitness:[22.0000]\n",
      "\t[3 5 2 0 2 4 2 0]...\n",
      "\n",
      "restarts:[25], max_iters:[100], current_restart:[15]\n",
      "runner_name:[rhc], experiment_name:[queens], attempt:[10], iteration:[50], done:[False], time:[3.71], fitness:[26.0000]\n",
      "\t[4 1 3 0 2 7 2 0]...\n",
      "\n",
      "restarts:[25], max_iters:[100], current_restart:[15]\n",
      "runner_name:[rhc], experiment_name:[queens], attempt:[32], iteration:[100], done:[True], time:[3.86], fitness:[27.0000]\n",
      "\t[4 1 3 0 2 7 5 0]...\n",
      "\n",
      "restarts:[25], max_iters:[100], current_restart:[16]\n",
      "runner_name:[rhc], experiment_name:[queens], attempt:[0], iteration:[0], done:[False], time:[4.01], fitness:[23.0000]\n",
      "\t[7 2 4 0 1 6 4 1]...\n",
      "\n"
     ]
    },
    {
     "name": "stdout",
     "output_type": "stream",
     "text": [
      "restarts:[25], max_iters:[100], current_restart:[16]\n",
      "runner_name:[rhc], experiment_name:[queens], attempt:[29], iteration:[50], done:[False], time:[4.04], fitness:[25.0000]\n",
      "\t[7 0 4 6 1 6 4 1]...\n",
      "\n",
      "restarts:[25], max_iters:[100], current_restart:[16]\n",
      "runner_name:[rhc], experiment_name:[queens], attempt:[1], iteration:[100], done:[True], time:[4.21], fitness:[26.0000]\n",
      "\t[7 0 2 6 1 6 4 1]...\n",
      "\n",
      "restarts:[25], max_iters:[100], current_restart:[17]\n",
      "runner_name:[rhc], experiment_name:[queens], attempt:[0], iteration:[0], done:[False], time:[4.35], fitness:[23.0000]\n",
      "\t[3 5 2 5 1 6 3 3]...\n",
      "\n",
      "restarts:[25], max_iters:[100], current_restart:[17]\n",
      "runner_name:[rhc], experiment_name:[queens], attempt:[14], iteration:[50], done:[False], time:[4.41], fitness:[26.0000]\n",
      "\t[3 0 2 5 1 6 1 3]...\n",
      "\n",
      "restarts:[25], max_iters:[100], current_restart:[17]\n",
      "runner_name:[rhc], experiment_name:[queens], attempt:[64], iteration:[100], done:[True], time:[4.54], fitness:[26.0000]\n",
      "\t[3 0 2 5 1 6 1 3]...\n",
      "\n",
      "restarts:[25], max_iters:[100], current_restart:[18]\n",
      "runner_name:[rhc], experiment_name:[queens], attempt:[0], iteration:[0], done:[False], time:[4.70], fitness:[18.0000]\n",
      "\t[0 3 0 1 0 7 7 6]...\n",
      "\n",
      "restarts:[25], max_iters:[100], current_restart:[18]\n",
      "runner_name:[rhc], experiment_name:[queens], attempt:[28], iteration:[50], done:[False], time:[4.73], fitness:[26.0000]\n",
      "\t[0 7 0 6 1 7 5 3]...\n",
      "\n",
      "restarts:[25], max_iters:[100], current_restart:[18]\n",
      "runner_name:[rhc], experiment_name:[queens], attempt:[24], iteration:[100], done:[True], time:[4.89], fitness:[28.0000]\n",
      "\t[4 2 0 6 1 7 5 3]...\n",
      "\n",
      "restarts:[25], max_iters:[100], current_restart:[19]\n",
      "runner_name:[rhc], experiment_name:[queens], attempt:[0], iteration:[0], done:[False], time:[5.06], fitness:[24.0000]\n",
      "\t[4 0 7 5 2 3 7 3]...\n",
      "\n",
      "restarts:[25], max_iters:[100], current_restart:[19]\n",
      "runner_name:[rhc], experiment_name:[queens], attempt:[49], iteration:[50], done:[False], time:[5.09], fitness:[26.0000]\n",
      "\t[4 0 7 5 2 6 7 3]...\n",
      "\n",
      "restarts:[25], max_iters:[100], current_restart:[19]\n",
      "runner_name:[rhc], experiment_name:[queens], attempt:[99], iteration:[100], done:[True], time:[5.22], fitness:[26.0000]\n",
      "\t[4 0 7 5 2 6 7 3]...\n",
      "\n",
      "restarts:[25], max_iters:[100], current_restart:[20]\n",
      "runner_name:[rhc], experiment_name:[queens], attempt:[0], iteration:[0], done:[False], time:[5.32], fitness:[21.0000]\n",
      "\t[0 5 2 7 3 0 2 3]...\n",
      "\n",
      "restarts:[25], max_iters:[100], current_restart:[20]\n",
      "runner_name:[rhc], experiment_name:[queens], attempt:[16], iteration:[50], done:[False], time:[5.36], fitness:[25.0000]\n",
      "\t[6 4 2 7 3 0 2 4]...\n",
      "\n",
      "restarts:[25], max_iters:[100], current_restart:[20]\n",
      "runner_name:[rhc], experiment_name:[queens], attempt:[41], iteration:[100], done:[True], time:[5.50], fitness:[26.0000]\n",
      "\t[6 4 2 7 3 0 2 5]...\n",
      "\n",
      "restarts:[25], max_iters:[100], current_restart:[21]\n",
      "runner_name:[rhc], experiment_name:[queens], attempt:[0], iteration:[0], done:[False], time:[5.66], fitness:[21.0000]\n",
      "\t[5 1 2 1 1 7 0 0]...\n",
      "\n",
      "restarts:[25], max_iters:[100], current_restart:[21]\n",
      "runner_name:[rhc], experiment_name:[queens], attempt:[26], iteration:[50], done:[False], time:[5.69], fitness:[26.0000]\n",
      "\t[3 4 2 1 5 7 0 6]...\n",
      "\n",
      "restarts:[25], max_iters:[100], current_restart:[21]\n",
      "runner_name:[rhc], experiment_name:[queens], attempt:[76], iteration:[100], done:[True], time:[5.87], fitness:[26.0000]\n",
      "\t[3 4 2 1 5 7 0 6]...\n",
      "\n",
      "restarts:[25], max_iters:[100], current_restart:[22]\n",
      "runner_name:[rhc], experiment_name:[queens], attempt:[0], iteration:[0], done:[False], time:[6.08], fitness:[18.0000]\n",
      "\t[6 1 0 4 4 2 6 7]...\n",
      "\n",
      "restarts:[25], max_iters:[100], current_restart:[22]\n",
      "runner_name:[rhc], experiment_name:[queens], attempt:[21], iteration:[50], done:[False], time:[6.13], fitness:[26.0000]\n",
      "\t[6 4 1 4 0 7 3 2]...\n",
      "\n",
      "restarts:[25], max_iters:[100], current_restart:[22]\n",
      "runner_name:[rhc], experiment_name:[queens], attempt:[71], iteration:[100], done:[True], time:[6.34], fitness:[26.0000]\n",
      "\t[6 4 1 4 0 7 3 2]...\n",
      "\n",
      "restarts:[25], max_iters:[100], current_restart:[23]\n",
      "runner_name:[rhc], experiment_name:[queens], attempt:[0], iteration:[0], done:[False], time:[6.54], fitness:[21.0000]\n",
      "\t[3 1 1 3 6 0 2 1]...\n",
      "\n",
      "restarts:[25], max_iters:[100], current_restart:[23]\n",
      "runner_name:[rhc], experiment_name:[queens], attempt:[33], iteration:[50], done:[False], time:[6.61], fitness:[26.0000]\n",
      "\t[3 1 1 4 6 0 2 5]...\n",
      "\n",
      "restarts:[25], max_iters:[100], current_restart:[23]\n",
      "runner_name:[rhc], experiment_name:[queens], attempt:[83], iteration:[100], done:[True], time:[6.92], fitness:[26.0000]\n",
      "\t[3 1 1 4 6 0 2 5]...\n",
      "\n",
      "restarts:[25], max_iters:[100], current_restart:[24]\n",
      "runner_name:[rhc], experiment_name:[queens], attempt:[0], iteration:[0], done:[False], time:[7.10], fitness:[17.0000]\n",
      "\t[0 5 3 4 5 6 3 0]...\n",
      "\n",
      "restarts:[25], max_iters:[100], current_restart:[24]\n",
      "runner_name:[rhc], experiment_name:[queens], attempt:[19], iteration:[50], done:[False], time:[7.14], fitness:[25.0000]\n",
      "\t[3 7 2 7 5 6 1 0]...\n",
      "\n",
      "restarts:[25], max_iters:[100], current_restart:[24]\n",
      "runner_name:[rhc], experiment_name:[queens], attempt:[69], iteration:[100], done:[True], time:[7.42], fitness:[25.0000]\n",
      "\t[3 7 2 7 5 6 1 0]...\n",
      "\n",
      "restarts:[25], max_iters:[100], current_restart:[25]\n",
      "runner_name:[rhc], experiment_name:[queens], attempt:[0], iteration:[0], done:[False], time:[7.56], fitness:[19.0000]\n",
      "\t[0 0 5 4 6 5 6 4]...\n",
      "\n",
      "restarts:[25], max_iters:[100], current_restart:[25]\n",
      "runner_name:[rhc], experiment_name:[queens], attempt:[13], iteration:[50], done:[False], time:[7.60], fitness:[27.0000]\n",
      "\t[0 7 5 2 6 1 3 4]...\n",
      "\n",
      "restarts:[25], max_iters:[100], current_restart:[25]\n",
      "runner_name:[rhc], experiment_name:[queens], attempt:[63], iteration:[100], done:[True], time:[7.78], fitness:[27.0000]\n",
      "\t[0 7 5 2 6 1 3 4]...\n",
      "\n",
      "***************\n",
      "*** Run END ***\n",
      "***************\n",
      "Run time: 10.918977899999998\n",
      "Saving: [output\\queens\\rhc__queens__run_stats_df.csv]\n",
      "Saving: [output\\queens\\rhc__queens__curves_df.csv]\n"
     ]
    }
   ],
   "source": [
    "from mlrose_hiive.runners import RHCRunner\n",
    "\n",
    "#experiment_name = 'example_experiment'\n",
    "\n",
    "rhc = RHCRunner(problem=problem_cust,\n",
    "                experiment_name=experiment_name,\n",
    "                output_directory=OUTPUT_DIRECTORY,\n",
    "                seed=SEED,\n",
    "                iteration_list=[0,50,100],\n",
    "                max_attempts=100,\n",
    "                restart_list=[0,10,25])\n",
    "\n",
    "df_run_stats, df_run_curves = rhc.run()  "
   ]
  },
  {
   "cell_type": "code",
   "execution_count": 13,
   "metadata": {},
   "outputs": [
    {
     "data": {
      "text/html": [
       "<div>\n",
       "<style scoped>\n",
       "    .dataframe tbody tr th:only-of-type {\n",
       "        vertical-align: middle;\n",
       "    }\n",
       "\n",
       "    .dataframe tbody tr th {\n",
       "        vertical-align: top;\n",
       "    }\n",
       "\n",
       "    .dataframe thead th {\n",
       "        text-align: right;\n",
       "    }\n",
       "</style>\n",
       "<table border=\"1\" class=\"dataframe\">\n",
       "  <thead>\n",
       "    <tr style=\"text-align: right;\">\n",
       "      <th></th>\n",
       "      <th>Iteration</th>\n",
       "      <th>Fitness</th>\n",
       "      <th>Time</th>\n",
       "      <th>State</th>\n",
       "      <th>Restarts</th>\n",
       "      <th>max_iters</th>\n",
       "      <th>current_restart</th>\n",
       "    </tr>\n",
       "  </thead>\n",
       "  <tbody>\n",
       "    <tr>\n",
       "      <td>0</td>\n",
       "      <td>0</td>\n",
       "      <td>23.0</td>\n",
       "      <td>0.000251</td>\n",
       "      <td>[5, 3, 4, 0, 7, 1, 3, 5]</td>\n",
       "      <td>0</td>\n",
       "      <td>100</td>\n",
       "      <td>0</td>\n",
       "    </tr>\n",
       "    <tr>\n",
       "      <td>1</td>\n",
       "      <td>50</td>\n",
       "      <td>26.0</td>\n",
       "      <td>0.024750</td>\n",
       "      <td>[5, 2, 4, 7, 7, 1, 3, 6]</td>\n",
       "      <td>0</td>\n",
       "      <td>100</td>\n",
       "      <td>0</td>\n",
       "    </tr>\n",
       "    <tr>\n",
       "      <td>2</td>\n",
       "      <td>100</td>\n",
       "      <td>28.0</td>\n",
       "      <td>1.171889</td>\n",
       "      <td>[5, 2, 0, 7, 4, 1, 3, 6]</td>\n",
       "      <td>0</td>\n",
       "      <td>100</td>\n",
       "      <td>0</td>\n",
       "    </tr>\n",
       "    <tr>\n",
       "      <td>3</td>\n",
       "      <td>0</td>\n",
       "      <td>23.0</td>\n",
       "      <td>0.000214</td>\n",
       "      <td>[5, 3, 4, 0, 7, 1, 3, 5]</td>\n",
       "      <td>10</td>\n",
       "      <td>100</td>\n",
       "      <td>0</td>\n",
       "    </tr>\n",
       "    <tr>\n",
       "      <td>4</td>\n",
       "      <td>50</td>\n",
       "      <td>26.0</td>\n",
       "      <td>0.012299</td>\n",
       "      <td>[5, 2, 4, 7, 7, 1, 3, 6]</td>\n",
       "      <td>10</td>\n",
       "      <td>100</td>\n",
       "      <td>0</td>\n",
       "    </tr>\n",
       "  </tbody>\n",
       "</table>\n",
       "</div>"
      ],
      "text/plain": [
       "   Iteration  Fitness      Time                     State  Restarts  \\\n",
       "0          0     23.0  0.000251  [5, 3, 4, 0, 7, 1, 3, 5]         0   \n",
       "1         50     26.0  0.024750  [5, 2, 4, 7, 7, 1, 3, 6]         0   \n",
       "2        100     28.0  1.171889  [5, 2, 0, 7, 4, 1, 3, 6]         0   \n",
       "3          0     23.0  0.000214  [5, 3, 4, 0, 7, 1, 3, 5]        10   \n",
       "4         50     26.0  0.012299  [5, 2, 4, 7, 7, 1, 3, 6]        10   \n",
       "\n",
       "   max_iters  current_restart  \n",
       "0        100                0  \n",
       "1        100                0  \n",
       "2        100                0  \n",
       "3        100                0  \n",
       "4        100                0  "
      ]
     },
     "execution_count": 13,
     "metadata": {},
     "output_type": "execute_result"
    }
   ],
   "source": [
    "df_run_stats.head()"
   ]
  },
  {
   "cell_type": "code",
   "execution_count": 14,
   "metadata": {},
   "outputs": [
    {
     "data": {
      "text/html": [
       "<div>\n",
       "<style scoped>\n",
       "    .dataframe tbody tr th:only-of-type {\n",
       "        vertical-align: middle;\n",
       "    }\n",
       "\n",
       "    .dataframe tbody tr th {\n",
       "        vertical-align: top;\n",
       "    }\n",
       "\n",
       "    .dataframe thead th {\n",
       "        text-align: right;\n",
       "    }\n",
       "</style>\n",
       "<table border=\"1\" class=\"dataframe\">\n",
       "  <thead>\n",
       "    <tr style=\"text-align: right;\">\n",
       "      <th></th>\n",
       "      <th>Time</th>\n",
       "      <th>Fitness</th>\n",
       "    </tr>\n",
       "    <tr>\n",
       "      <th>Restarts</th>\n",
       "      <th></th>\n",
       "      <th></th>\n",
       "    </tr>\n",
       "  </thead>\n",
       "  <tbody>\n",
       "    <tr>\n",
       "      <td>0</td>\n",
       "      <td>1.171889</td>\n",
       "      <td>28.0</td>\n",
       "    </tr>\n",
       "    <tr>\n",
       "      <td>10</td>\n",
       "      <td>1.480291</td>\n",
       "      <td>28.0</td>\n",
       "    </tr>\n",
       "    <tr>\n",
       "      <td>25</td>\n",
       "      <td>7.783487</td>\n",
       "      <td>28.0</td>\n",
       "    </tr>\n",
       "  </tbody>\n",
       "</table>\n",
       "</div>"
      ],
      "text/plain": [
       "              Time  Fitness\n",
       "Restarts                   \n",
       "0         1.171889     28.0\n",
       "10        1.480291     28.0\n",
       "25        7.783487     28.0"
      ]
     },
     "execution_count": 14,
     "metadata": {},
     "output_type": "execute_result"
    }
   ],
   "source": [
    "df_run_stats.groupby(['Restarts'])['Time','Fitness'].max()"
   ]
  },
  {
   "cell_type": "code",
   "execution_count": 36,
   "metadata": {},
   "outputs": [],
   "source": [
    "evaluations = []\n",
    "best_state, best_fitness, fitness_curve_rhc,time_curve_rhc,all_time_rhc = mlrose_hiive.random_hill_climb(problem_cust, \n",
    "                                                                            max_attempts=100, max_iters=np.inf, restarts=25,\n",
    "                      init_state=init_state, curve=True, random_state = 1)"
   ]
  },
  {
   "cell_type": "code",
   "execution_count": 19,
   "metadata": {},
   "outputs": [
    {
     "data": {
      "text/plain": [
       "28.0"
      ]
     },
     "execution_count": 19,
     "metadata": {},
     "output_type": "execute_result"
    }
   ],
   "source": [
    "best_fitness"
   ]
  },
  {
   "cell_type": "code",
   "execution_count": 20,
   "metadata": {},
   "outputs": [
    {
     "data": {
      "text/plain": [
       "array([3, 1, 6, 2, 5, 7, 0, 4])"
      ]
     },
     "execution_count": 20,
     "metadata": {},
     "output_type": "execute_result"
    }
   ],
   "source": [
    "best_state"
   ]
  },
  {
   "cell_type": "code",
   "execution_count": 37,
   "metadata": {},
   "outputs": [],
   "source": [
    "evaluations_rhc = evaluations.copy()"
   ]
  },
  {
   "cell_type": "code",
   "execution_count": null,
   "metadata": {},
   "outputs": [],
   "source": []
  },
  {
   "cell_type": "markdown",
   "metadata": {},
   "source": [
    "### SA"
   ]
  },
  {
   "cell_type": "code",
   "execution_count": null,
   "metadata": {},
   "outputs": [],
   "source": []
  },
  {
   "cell_type": "code",
   "execution_count": 95,
   "metadata": {},
   "outputs": [
    {
     "name": "stdout",
     "output_type": "stream",
     "text": [
      "Running sa\n",
      "*****************\n",
      "*** Run START ***\n",
      "*****************\n",
      "schedule:[1], max_iters:[8192]\n",
      "runner_name:[sa], experiment_name:[example_experiment], attempt:[0], iteration:[0], done:[False], time:[0.00], fitness:[23.0000]\n",
      "\t[5 3 4 0 7 1 3 5]...\n",
      "\n",
      "schedule:[1], max_iters:[8192]\n",
      "runner_name:[sa], experiment_name:[example_experiment], attempt:[1], iteration:[1], done:[False], time:[0.00], fitness:[23.0000]\n",
      "\t[5 3 4 0 7 1 3 0]...\n",
      "\n",
      "schedule:[1], max_iters:[8192]\n",
      "runner_name:[sa], experiment_name:[example_experiment], attempt:[2], iteration:[2], done:[False], time:[0.02], fitness:[23.0000]\n",
      "\t[5 3 4 0 7 1 3 0]...\n",
      "\n",
      "schedule:[1], max_iters:[8192]\n",
      "runner_name:[sa], experiment_name:[example_experiment], attempt:[1], iteration:[4], done:[False], time:[0.04], fitness:[23.0000]\n",
      "\t[5 2 4 0 6 1 3 0]...\n",
      "\n",
      "schedule:[1], max_iters:[8192]\n",
      "runner_name:[sa], experiment_name:[example_experiment], attempt:[5], iteration:[8], done:[False], time:[0.05], fitness:[23.0000]\n",
      "\t[5 2 4 0 6 1 3 0]...\n",
      "\n",
      "schedule:[1], max_iters:[8192]\n",
      "runner_name:[sa], experiment_name:[example_experiment], attempt:[2], iteration:[16], done:[False], time:[0.07], fitness:[22.0000]\n",
      "\t[5 2 1 0 6 7 3 0]...\n",
      "\n",
      "schedule:[1], max_iters:[8192]\n",
      "runner_name:[sa], experiment_name:[example_experiment], attempt:[4], iteration:[32], done:[False], time:[0.09], fitness:[24.0000]\n",
      "\t[0 2 0 7 2 7 1 4]...\n",
      "\n",
      "schedule:[1], max_iters:[8192]\n",
      "runner_name:[sa], experiment_name:[example_experiment], attempt:[2], iteration:[64], done:[False], time:[0.11], fitness:[23.0000]\n",
      "\t[7 2 6 7 5 1 0 6]...\n",
      "\n",
      "schedule:[1], max_iters:[8192]\n",
      "runner_name:[sa], experiment_name:[example_experiment], attempt:[6], iteration:[128], done:[False], time:[0.13], fitness:[25.0000]\n",
      "\t[6 3 7 0 4 2 2 5]...\n",
      "\n",
      "schedule:[1], max_iters:[8192]\n",
      "runner_name:[sa], experiment_name:[example_experiment], attempt:[23], iteration:[256], done:[False], time:[0.16], fitness:[27.0000]\n",
      "\t[6 3 7 0 4 6 1 5]...\n",
      "\n",
      "schedule:[1], max_iters:[8192]\n",
      "runner_name:[sa], experiment_name:[example_experiment], attempt:[148], iteration:[512], done:[False], time:[0.22], fitness:[28.0000]\n",
      "\t[2 5 7 0 4 6 1 3]...\n",
      "\n",
      "schedule:[1], max_iters:[8192]\n",
      "runner_name:[sa], experiment_name:[example_experiment], attempt:[660], iteration:[1024], done:[False], time:[0.30], fitness:[28.0000]\n",
      "\t[2 5 7 0 4 6 1 3]...\n",
      "\n",
      "schedule:[1], max_iters:[8192]\n",
      "runner_name:[sa], experiment_name:[example_experiment], attempt:[1001], iteration:[1365], done:[True], time:[0.38], fitness:[28.0000]\n",
      "\t[2 5 7 0 4 6 1 3]...\n",
      "\n",
      "***************\n",
      "*** Run END ***\n",
      "***************\n",
      "*****************\n",
      "*** Run START ***\n",
      "*****************\n",
      "schedule:[10], max_iters:[8192]\n",
      "runner_name:[sa], experiment_name:[example_experiment], attempt:[0], iteration:[0], done:[False], time:[0.00], fitness:[23.0000]\n",
      "\t[5 3 4 0 7 1 3 5]...\n",
      "\n",
      "schedule:[10], max_iters:[8192]\n",
      "runner_name:[sa], experiment_name:[example_experiment], attempt:[1], iteration:[1], done:[False], time:[0.00], fitness:[23.0000]\n",
      "\t[5 3 4 0 7 1 3 0]...\n",
      "\n",
      "schedule:[10], max_iters:[8192]\n",
      "runner_name:[sa], experiment_name:[example_experiment], attempt:[1], iteration:[2], done:[False], time:[0.03], fitness:[21.0000]\n",
      "\t[5 3 4 0 5 1 3 0]...\n",
      "\n",
      "schedule:[10], max_iters:[8192]\n",
      "runner_name:[sa], experiment_name:[example_experiment], attempt:[1], iteration:[4], done:[False], time:[0.06], fitness:[21.0000]\n",
      "\t[5 2 4 0 5 3 3 0]...\n",
      "\n",
      "schedule:[10], max_iters:[8192]\n",
      "runner_name:[sa], experiment_name:[example_experiment], attempt:[1], iteration:[8], done:[False], time:[0.08], fitness:[19.0000]\n",
      "\t[5 2 4 0 2 3 0 2]...\n",
      "\n",
      "schedule:[10], max_iters:[8192]\n",
      "runner_name:[sa], experiment_name:[example_experiment], attempt:[1], iteration:[16], done:[False], time:[0.11], fitness:[20.0000]\n",
      "\t[0 2 4 0 2 3 4 6]...\n",
      "\n",
      "schedule:[10], max_iters:[8192]\n",
      "runner_name:[sa], experiment_name:[example_experiment], attempt:[1], iteration:[32], done:[False], time:[0.14], fitness:[20.0000]\n",
      "\t[1 4 3 0 2 1 7 1]...\n",
      "\n",
      "schedule:[10], max_iters:[8192]\n",
      "runner_name:[sa], experiment_name:[example_experiment], attempt:[1], iteration:[64], done:[False], time:[0.17], fitness:[23.0000]\n",
      "\t[2 4 1 0 4 1 6 0]...\n",
      "\n",
      "schedule:[10], max_iters:[8192]\n",
      "runner_name:[sa], experiment_name:[example_experiment], attempt:[1], iteration:[128], done:[False], time:[0.21], fitness:[21.0000]\n",
      "\t[2 3 7 1 4 4 4 0]...\n",
      "\n",
      "schedule:[10], max_iters:[8192]\n",
      "runner_name:[sa], experiment_name:[example_experiment], attempt:[1], iteration:[256], done:[False], time:[0.24], fitness:[25.0000]\n",
      "\t[6 3 5 0 7 0 4 7]...\n",
      "\n",
      "schedule:[10], max_iters:[8192]\n",
      "runner_name:[sa], experiment_name:[example_experiment], attempt:[120], iteration:[512], done:[False], time:[0.31], fitness:[28.0000]\n",
      "\t[6 2 0 5 7 4 1 3]...\n",
      "\n",
      "schedule:[10], max_iters:[8192]\n",
      "runner_name:[sa], experiment_name:[example_experiment], attempt:[632], iteration:[1024], done:[False], time:[0.40], fitness:[28.0000]\n",
      "\t[6 2 0 5 7 4 1 3]...\n",
      "\n",
      "schedule:[10], max_iters:[8192]\n",
      "runner_name:[sa], experiment_name:[example_experiment], attempt:[1001], iteration:[1393], done:[True], time:[0.51], fitness:[28.0000]\n",
      "\t[6 2 0 5 7 4 1 3]...\n",
      "\n",
      "***************\n",
      "*** Run END ***\n",
      "***************\n",
      "*****************\n",
      "*** Run START ***\n",
      "*****************\n",
      "schedule:[50], max_iters:[8192]\n",
      "runner_name:[sa], experiment_name:[example_experiment], attempt:[0], iteration:[0], done:[False], time:[0.00], fitness:[23.0000]\n",
      "\t[5 3 4 0 7 1 3 5]...\n",
      "\n",
      "schedule:[50], max_iters:[8192]\n",
      "runner_name:[sa], experiment_name:[example_experiment], attempt:[1], iteration:[1], done:[False], time:[0.00], fitness:[23.0000]\n",
      "\t[5 3 4 0 7 1 3 0]...\n",
      "\n",
      "schedule:[50], max_iters:[8192]\n",
      "runner_name:[sa], experiment_name:[example_experiment], attempt:[1], iteration:[2], done:[False], time:[0.04], fitness:[21.0000]\n",
      "\t[5 3 4 0 5 1 3 0]...\n",
      "\n",
      "schedule:[50], max_iters:[8192]\n",
      "runner_name:[sa], experiment_name:[example_experiment], attempt:[1], iteration:[4], done:[False], time:[0.09], fitness:[21.0000]\n",
      "\t[5 2 4 0 5 3 3 0]...\n",
      "\n",
      "schedule:[50], max_iters:[8192]\n",
      "runner_name:[sa], experiment_name:[example_experiment], attempt:[1], iteration:[8], done:[False], time:[0.12], fitness:[19.0000]\n",
      "\t[5 2 4 0 2 3 0 2]...\n",
      "\n",
      "schedule:[50], max_iters:[8192]\n",
      "runner_name:[sa], experiment_name:[example_experiment], attempt:[1], iteration:[16], done:[False], time:[0.16], fitness:[22.0000]\n",
      "\t[0 1 4 7 2 3 6 2]...\n",
      "\n",
      "schedule:[50], max_iters:[8192]\n",
      "runner_name:[sa], experiment_name:[example_experiment], attempt:[1], iteration:[32], done:[False], time:[0.18], fitness:[22.0000]\n",
      "\t[0 2 2 6 3 2 7 1]...\n",
      "\n",
      "schedule:[50], max_iters:[8192]\n",
      "runner_name:[sa], experiment_name:[example_experiment], attempt:[1], iteration:[64], done:[False], time:[0.22], fitness:[23.0000]\n",
      "\t[2 7 1 1 5 5 6 6]...\n",
      "\n",
      "schedule:[50], max_iters:[8192]\n",
      "runner_name:[sa], experiment_name:[example_experiment], attempt:[1], iteration:[128], done:[False], time:[0.25], fitness:[18.0000]\n",
      "\t[6 3 1 1 4 4 6 6]...\n",
      "\n",
      "schedule:[50], max_iters:[8192]\n",
      "runner_name:[sa], experiment_name:[example_experiment], attempt:[2], iteration:[256], done:[False], time:[0.31], fitness:[22.0000]\n",
      "\t[7 0 4 0 5 7 1 2]...\n",
      "\n",
      "schedule:[50], max_iters:[8192]\n",
      "runner_name:[sa], experiment_name:[example_experiment], attempt:[6], iteration:[512], done:[False], time:[0.38], fitness:[24.0000]\n",
      "\t[3 4 7 1 0 5 7 1]...\n",
      "\n",
      "schedule:[50], max_iters:[8192]\n",
      "runner_name:[sa], experiment_name:[example_experiment], attempt:[1], iteration:[1024], done:[False], time:[0.47], fitness:[27.0000]\n",
      "\t[2 4 6 0 3 1 4 7]...\n",
      "\n",
      "schedule:[50], max_iters:[8192]\n",
      "runner_name:[sa], experiment_name:[example_experiment], attempt:[790], iteration:[2048], done:[False], time:[0.69], fitness:[28.0000]\n",
      "\t[5 3 6 0 7 1 4 2]...\n",
      "\n",
      "schedule:[50], max_iters:[8192]\n",
      "runner_name:[sa], experiment_name:[example_experiment], attempt:[1001], iteration:[2259], done:[True], time:[0.79], fitness:[28.0000]\n",
      "\t[5 3 6 0 7 1 4 2]...\n",
      "\n",
      "***************\n",
      "*** Run END ***\n",
      "***************\n",
      "*****************\n",
      "*** Run START ***\n",
      "*****************\n",
      "schedule:[100], max_iters:[8192]\n",
      "runner_name:[sa], experiment_name:[example_experiment], attempt:[0], iteration:[0], done:[False], time:[0.00], fitness:[23.0000]\n",
      "\t[5 3 4 0 7 1 3 5]...\n",
      "\n",
      "schedule:[100], max_iters:[8192]\n",
      "runner_name:[sa], experiment_name:[example_experiment], attempt:[1], iteration:[1], done:[False], time:[0.00], fitness:[23.0000]\n",
      "\t[5 3 4 0 7 1 3 0]...\n",
      "\n",
      "schedule:[100], max_iters:[8192]\n",
      "runner_name:[sa], experiment_name:[example_experiment], attempt:[1], iteration:[2], done:[False], time:[0.04], fitness:[21.0000]\n",
      "\t[5 3 4 0 5 1 3 0]...\n",
      "\n",
      "schedule:[100], max_iters:[8192]\n",
      "runner_name:[sa], experiment_name:[example_experiment], attempt:[1], iteration:[4], done:[False], time:[0.09], fitness:[21.0000]\n",
      "\t[5 2 4 0 5 3 3 0]...\n",
      "\n",
      "schedule:[100], max_iters:[8192]\n",
      "runner_name:[sa], experiment_name:[example_experiment], attempt:[1], iteration:[8], done:[False], time:[0.14], fitness:[19.0000]\n",
      "\t[5 2 4 0 2 3 0 2]...\n",
      "\n",
      "schedule:[100], max_iters:[8192]\n",
      "runner_name:[sa], experiment_name:[example_experiment], attempt:[1], iteration:[16], done:[False], time:[0.19], fitness:[22.0000]\n",
      "\t[0 1 4 7 2 3 6 2]...\n",
      "\n"
     ]
    },
    {
     "name": "stdout",
     "output_type": "stream",
     "text": [
      "schedule:[100], max_iters:[8192]\n",
      "runner_name:[sa], experiment_name:[example_experiment], attempt:[1], iteration:[32], done:[False], time:[0.26], fitness:[22.0000]\n",
      "\t[0 2 2 6 3 2 7 1]...\n",
      "\n",
      "schedule:[100], max_iters:[8192]\n",
      "runner_name:[sa], experiment_name:[example_experiment], attempt:[1], iteration:[64], done:[False], time:[0.33], fitness:[23.0000]\n",
      "\t[2 7 1 1 5 5 6 6]...\n",
      "\n",
      "schedule:[100], max_iters:[8192]\n",
      "runner_name:[sa], experiment_name:[example_experiment], attempt:[1], iteration:[128], done:[False], time:[0.40], fitness:[18.0000]\n",
      "\t[3 4 7 3 4 5 6 6]...\n",
      "\n",
      "schedule:[100], max_iters:[8192]\n",
      "runner_name:[sa], experiment_name:[example_experiment], attempt:[1], iteration:[256], done:[False], time:[0.46], fitness:[20.0000]\n",
      "\t[6 6 2 4 5 3 6 0]...\n",
      "\n",
      "schedule:[100], max_iters:[8192]\n",
      "runner_name:[sa], experiment_name:[example_experiment], attempt:[2], iteration:[512], done:[False], time:[0.56], fitness:[24.0000]\n",
      "\t[2 7 1 3 0 7 3 4]...\n",
      "\n",
      "schedule:[100], max_iters:[8192]\n",
      "runner_name:[sa], experiment_name:[example_experiment], attempt:[28], iteration:[1024], done:[False], time:[0.69], fitness:[27.0000]\n",
      "\t[7 2 4 6 0 5 3 1]...\n",
      "\n",
      "schedule:[100], max_iters:[8192]\n",
      "runner_name:[sa], experiment_name:[example_experiment], attempt:[577], iteration:[2048], done:[False], time:[1.05], fitness:[28.0000]\n",
      "\t[4 2 0 6 1 7 5 3]...\n",
      "\n",
      "schedule:[100], max_iters:[8192]\n",
      "runner_name:[sa], experiment_name:[example_experiment], attempt:[1001], iteration:[2472], done:[True], time:[1.17], fitness:[28.0000]\n",
      "\t[4 2 0 6 1 7 5 3]...\n",
      "\n",
      "***************\n",
      "*** Run END ***\n",
      "***************\n",
      "*****************\n",
      "*** Run START ***\n",
      "*****************\n",
      "schedule:[250], max_iters:[8192]\n",
      "runner_name:[sa], experiment_name:[example_experiment], attempt:[0], iteration:[0], done:[False], time:[0.00], fitness:[23.0000]\n",
      "\t[5 3 4 0 7 1 3 5]...\n",
      "\n",
      "schedule:[250], max_iters:[8192]\n",
      "runner_name:[sa], experiment_name:[example_experiment], attempt:[1], iteration:[1], done:[False], time:[0.00], fitness:[23.0000]\n",
      "\t[5 3 4 0 7 1 3 0]...\n",
      "\n",
      "schedule:[250], max_iters:[8192]\n",
      "runner_name:[sa], experiment_name:[example_experiment], attempt:[1], iteration:[2], done:[False], time:[0.08], fitness:[21.0000]\n",
      "\t[5 3 4 0 5 1 3 0]...\n",
      "\n",
      "schedule:[250], max_iters:[8192]\n",
      "runner_name:[sa], experiment_name:[example_experiment], attempt:[1], iteration:[4], done:[False], time:[0.17], fitness:[21.0000]\n",
      "\t[5 2 4 0 5 3 3 0]...\n",
      "\n",
      "schedule:[250], max_iters:[8192]\n",
      "runner_name:[sa], experiment_name:[example_experiment], attempt:[1], iteration:[8], done:[False], time:[0.28], fitness:[19.0000]\n",
      "\t[5 2 4 0 2 3 0 2]...\n",
      "\n",
      "schedule:[250], max_iters:[8192]\n",
      "runner_name:[sa], experiment_name:[example_experiment], attempt:[1], iteration:[16], done:[False], time:[0.38], fitness:[22.0000]\n",
      "\t[0 1 4 7 2 3 6 2]...\n",
      "\n",
      "schedule:[250], max_iters:[8192]\n",
      "runner_name:[sa], experiment_name:[example_experiment], attempt:[1], iteration:[32], done:[False], time:[0.47], fitness:[22.0000]\n",
      "\t[0 2 2 6 3 2 7 1]...\n",
      "\n",
      "schedule:[250], max_iters:[8192]\n",
      "runner_name:[sa], experiment_name:[example_experiment], attempt:[1], iteration:[64], done:[False], time:[0.55], fitness:[23.0000]\n",
      "\t[2 7 1 1 5 5 6 6]...\n",
      "\n",
      "schedule:[250], max_iters:[8192]\n",
      "runner_name:[sa], experiment_name:[example_experiment], attempt:[1], iteration:[128], done:[False], time:[0.63], fitness:[18.0000]\n",
      "\t[0 3 7 3 5 5 7 5]...\n",
      "\n",
      "schedule:[250], max_iters:[8192]\n",
      "runner_name:[sa], experiment_name:[example_experiment], attempt:[1], iteration:[256], done:[False], time:[0.71], fitness:[21.0000]\n",
      "\t[7 5 3 3 4 0 5 5]...\n",
      "\n",
      "schedule:[250], max_iters:[8192]\n",
      "runner_name:[sa], experiment_name:[example_experiment], attempt:[1], iteration:[512], done:[False], time:[0.87], fitness:[20.0000]\n",
      "\t[2 7 4 4 3 1 4 1]...\n",
      "\n",
      "schedule:[250], max_iters:[8192]\n",
      "runner_name:[sa], experiment_name:[example_experiment], attempt:[367], iteration:[1024], done:[False], time:[1.00], fitness:[28.0000]\n",
      "\t[1 3 5 7 2 0 6 4]...\n",
      "\n",
      "schedule:[250], max_iters:[8192]\n",
      "runner_name:[sa], experiment_name:[example_experiment], attempt:[1001], iteration:[1658], done:[True], time:[1.16], fitness:[28.0000]\n",
      "\t[1 3 5 7 2 0 6 4]...\n",
      "\n",
      "***************\n",
      "*** Run END ***\n",
      "***************\n",
      "*****************\n",
      "*** Run START ***\n",
      "*****************\n",
      "schedule:[500], max_iters:[8192]\n",
      "runner_name:[sa], experiment_name:[example_experiment], attempt:[0], iteration:[0], done:[False], time:[0.00], fitness:[23.0000]\n",
      "\t[5 3 4 0 7 1 3 5]...\n",
      "\n",
      "schedule:[500], max_iters:[8192]\n",
      "runner_name:[sa], experiment_name:[example_experiment], attempt:[1], iteration:[1], done:[False], time:[0.00], fitness:[23.0000]\n",
      "\t[5 3 4 0 7 1 3 0]...\n",
      "\n",
      "schedule:[500], max_iters:[8192]\n",
      "runner_name:[sa], experiment_name:[example_experiment], attempt:[1], iteration:[2], done:[False], time:[0.13], fitness:[21.0000]\n",
      "\t[5 3 4 0 5 1 3 0]...\n",
      "\n",
      "schedule:[500], max_iters:[8192]\n",
      "runner_name:[sa], experiment_name:[example_experiment], attempt:[1], iteration:[4], done:[False], time:[0.26], fitness:[21.0000]\n",
      "\t[5 2 4 0 5 3 3 0]...\n",
      "\n",
      "schedule:[500], max_iters:[8192]\n",
      "runner_name:[sa], experiment_name:[example_experiment], attempt:[1], iteration:[8], done:[False], time:[0.34], fitness:[19.0000]\n",
      "\t[5 2 4 0 2 3 0 2]...\n",
      "\n",
      "schedule:[500], max_iters:[8192]\n",
      "runner_name:[sa], experiment_name:[example_experiment], attempt:[1], iteration:[16], done:[False], time:[0.44], fitness:[22.0000]\n",
      "\t[0 1 4 7 2 3 6 2]...\n",
      "\n",
      "schedule:[500], max_iters:[8192]\n",
      "runner_name:[sa], experiment_name:[example_experiment], attempt:[1], iteration:[32], done:[False], time:[0.51], fitness:[22.0000]\n",
      "\t[0 2 2 6 3 2 7 1]...\n",
      "\n",
      "schedule:[500], max_iters:[8192]\n",
      "runner_name:[sa], experiment_name:[example_experiment], attempt:[1], iteration:[64], done:[False], time:[0.59], fitness:[23.0000]\n",
      "\t[2 7 1 1 5 5 6 6]...\n",
      "\n",
      "schedule:[500], max_iters:[8192]\n",
      "runner_name:[sa], experiment_name:[example_experiment], attempt:[1], iteration:[128], done:[False], time:[0.69], fitness:[18.0000]\n",
      "\t[0 3 7 3 5 5 7 5]...\n",
      "\n",
      "schedule:[500], max_iters:[8192]\n",
      "runner_name:[sa], experiment_name:[example_experiment], attempt:[1], iteration:[256], done:[False], time:[0.80], fitness:[21.0000]\n",
      "\t[7 5 3 3 4 0 5 5]...\n",
      "\n",
      "schedule:[500], max_iters:[8192]\n",
      "runner_name:[sa], experiment_name:[example_experiment], attempt:[1], iteration:[512], done:[False], time:[0.94], fitness:[22.0000]\n",
      "\t[5 2 5 4 2 7 3 0]...\n",
      "\n",
      "schedule:[500], max_iters:[8192]\n",
      "runner_name:[sa], experiment_name:[example_experiment], attempt:[16], iteration:[1024], done:[False], time:[1.07], fitness:[27.0000]\n",
      "\t[2 0 5 7 1 3 6 2]...\n",
      "\n",
      "schedule:[500], max_iters:[8192]\n",
      "runner_name:[sa], experiment_name:[example_experiment], attempt:[17], iteration:[2048], done:[False], time:[1.36], fitness:[27.0000]\n",
      "\t[5 5 1 4 7 3 6 2]...\n",
      "\n",
      "schedule:[500], max_iters:[8192]\n",
      "runner_name:[sa], experiment_name:[example_experiment], attempt:[1001], iteration:[3886], done:[True], time:[1.84], fitness:[28.0000]\n",
      "\t[2 5 1 4 7 0 6 3]...\n",
      "\n",
      "***************\n",
      "*** Run END ***\n",
      "***************\n",
      "*****************\n",
      "*** Run START ***\n",
      "*****************\n",
      "schedule:[1000], max_iters:[8192]\n",
      "runner_name:[sa], experiment_name:[example_experiment], attempt:[0], iteration:[0], done:[False], time:[0.00], fitness:[23.0000]\n",
      "\t[5 3 4 0 7 1 3 5]...\n",
      "\n",
      "schedule:[1000], max_iters:[8192]\n",
      "runner_name:[sa], experiment_name:[example_experiment], attempt:[1], iteration:[1], done:[False], time:[0.00], fitness:[23.0000]\n",
      "\t[5 3 4 0 7 1 3 0]...\n",
      "\n",
      "schedule:[1000], max_iters:[8192]\n",
      "runner_name:[sa], experiment_name:[example_experiment], attempt:[1], iteration:[2], done:[False], time:[0.13], fitness:[21.0000]\n",
      "\t[5 3 4 0 5 1 3 0]...\n",
      "\n",
      "schedule:[1000], max_iters:[8192]\n",
      "runner_name:[sa], experiment_name:[example_experiment], attempt:[1], iteration:[4], done:[False], time:[0.24], fitness:[21.0000]\n",
      "\t[5 2 4 0 5 3 3 0]...\n",
      "\n",
      "schedule:[1000], max_iters:[8192]\n",
      "runner_name:[sa], experiment_name:[example_experiment], attempt:[1], iteration:[8], done:[False], time:[0.36], fitness:[19.0000]\n",
      "\t[5 2 4 0 2 3 0 2]...\n",
      "\n",
      "schedule:[1000], max_iters:[8192]\n",
      "runner_name:[sa], experiment_name:[example_experiment], attempt:[1], iteration:[16], done:[False], time:[0.47], fitness:[22.0000]\n",
      "\t[0 1 4 7 2 3 6 2]...\n",
      "\n",
      "schedule:[1000], max_iters:[8192]\n",
      "runner_name:[sa], experiment_name:[example_experiment], attempt:[1], iteration:[32], done:[False], time:[0.62], fitness:[22.0000]\n",
      "\t[0 2 2 6 3 2 7 1]...\n",
      "\n",
      "schedule:[1000], max_iters:[8192]\n",
      "runner_name:[sa], experiment_name:[example_experiment], attempt:[1], iteration:[64], done:[False], time:[0.75], fitness:[23.0000]\n",
      "\t[2 7 1 1 5 5 6 6]...\n",
      "\n"
     ]
    },
    {
     "name": "stdout",
     "output_type": "stream",
     "text": [
      "schedule:[1000], max_iters:[8192]\n",
      "runner_name:[sa], experiment_name:[example_experiment], attempt:[1], iteration:[128], done:[False], time:[0.85], fitness:[18.0000]\n",
      "\t[0 3 7 3 5 5 7 5]...\n",
      "\n",
      "schedule:[1000], max_iters:[8192]\n",
      "runner_name:[sa], experiment_name:[example_experiment], attempt:[1], iteration:[256], done:[False], time:[0.99], fitness:[22.0000]\n",
      "\t[7 5 1 3 4 0 6 5]...\n",
      "\n",
      "schedule:[1000], max_iters:[8192]\n",
      "runner_name:[sa], experiment_name:[example_experiment], attempt:[1], iteration:[512], done:[False], time:[1.19], fitness:[18.0000]\n",
      "\t[6 1 4 4 2 6 4 7]...\n",
      "\n",
      "schedule:[1000], max_iters:[8192]\n",
      "runner_name:[sa], experiment_name:[example_experiment], attempt:[55], iteration:[1024], done:[False], time:[1.41], fitness:[27.0000]\n",
      "\t[1 4 7 3 0 2 5 6]...\n",
      "\n",
      "schedule:[1000], max_iters:[8192]\n",
      "runner_name:[sa], experiment_name:[example_experiment], attempt:[652], iteration:[2048], done:[False], time:[1.71], fitness:[28.0000]\n",
      "\t[3 1 7 5 0 2 4 6]...\n",
      "\n",
      "schedule:[1000], max_iters:[8192]\n",
      "runner_name:[sa], experiment_name:[example_experiment], attempt:[1001], iteration:[2397], done:[True], time:[1.92], fitness:[28.0000]\n",
      "\t[3 1 7 5 0 2 4 6]...\n",
      "\n",
      "***************\n",
      "*** Run END ***\n",
      "***************\n",
      "*****************\n",
      "*** Run START ***\n",
      "*****************\n",
      "schedule:[2500], max_iters:[8192]\n",
      "runner_name:[sa], experiment_name:[example_experiment], attempt:[0], iteration:[0], done:[False], time:[0.00], fitness:[23.0000]\n",
      "\t[5 3 4 0 7 1 3 5]...\n",
      "\n",
      "schedule:[2500], max_iters:[8192]\n",
      "runner_name:[sa], experiment_name:[example_experiment], attempt:[1], iteration:[1], done:[False], time:[0.00], fitness:[23.0000]\n",
      "\t[5 3 4 0 7 1 3 0]...\n",
      "\n",
      "schedule:[2500], max_iters:[8192]\n",
      "runner_name:[sa], experiment_name:[example_experiment], attempt:[1], iteration:[2], done:[False], time:[0.13], fitness:[21.0000]\n",
      "\t[5 3 4 0 5 1 3 0]...\n",
      "\n",
      "schedule:[2500], max_iters:[8192]\n",
      "runner_name:[sa], experiment_name:[example_experiment], attempt:[1], iteration:[4], done:[False], time:[0.31], fitness:[21.0000]\n",
      "\t[5 2 4 0 5 3 3 0]...\n",
      "\n",
      "schedule:[2500], max_iters:[8192]\n",
      "runner_name:[sa], experiment_name:[example_experiment], attempt:[1], iteration:[8], done:[False], time:[0.49], fitness:[19.0000]\n",
      "\t[5 2 4 0 2 3 0 2]...\n",
      "\n",
      "schedule:[2500], max_iters:[8192]\n",
      "runner_name:[sa], experiment_name:[example_experiment], attempt:[1], iteration:[16], done:[False], time:[0.61], fitness:[22.0000]\n",
      "\t[0 1 4 7 2 3 6 2]...\n",
      "\n",
      "schedule:[2500], max_iters:[8192]\n",
      "runner_name:[sa], experiment_name:[example_experiment], attempt:[1], iteration:[32], done:[False], time:[0.72], fitness:[22.0000]\n",
      "\t[0 2 2 6 3 2 7 1]...\n",
      "\n",
      "schedule:[2500], max_iters:[8192]\n",
      "runner_name:[sa], experiment_name:[example_experiment], attempt:[1], iteration:[64], done:[False], time:[0.88], fitness:[23.0000]\n",
      "\t[2 7 1 1 5 5 6 6]...\n",
      "\n",
      "schedule:[2500], max_iters:[8192]\n",
      "runner_name:[sa], experiment_name:[example_experiment], attempt:[1], iteration:[128], done:[False], time:[1.05], fitness:[18.0000]\n",
      "\t[0 3 7 3 5 5 7 5]...\n",
      "\n",
      "schedule:[2500], max_iters:[8192]\n",
      "runner_name:[sa], experiment_name:[example_experiment], attempt:[1], iteration:[256], done:[False], time:[1.19], fitness:[22.0000]\n",
      "\t[7 5 1 3 4 0 6 5]...\n",
      "\n",
      "schedule:[2500], max_iters:[8192]\n",
      "runner_name:[sa], experiment_name:[example_experiment], attempt:[1], iteration:[512], done:[False], time:[1.36], fitness:[22.0000]\n",
      "\t[2 0 7 6 4 7 3 0]...\n",
      "\n",
      "schedule:[2500], max_iters:[8192]\n",
      "runner_name:[sa], experiment_name:[example_experiment], attempt:[3], iteration:[1024], done:[False], time:[1.69], fitness:[26.0000]\n",
      "\t[6 3 1 7 5 2 2 0]...\n",
      "\n",
      "schedule:[2500], max_iters:[8192]\n",
      "runner_name:[sa], experiment_name:[example_experiment], attempt:[724], iteration:[2048], done:[False], time:[2.15], fitness:[28.0000]\n",
      "\t[6 3 1 4 7 0 2 5]...\n",
      "\n",
      "schedule:[2500], max_iters:[8192]\n",
      "runner_name:[sa], experiment_name:[example_experiment], attempt:[1001], iteration:[2325], done:[True], time:[2.37], fitness:[28.0000]\n",
      "\t[6 3 1 4 7 0 2 5]...\n",
      "\n",
      "***************\n",
      "*** Run END ***\n",
      "***************\n",
      "*****************\n",
      "*** Run START ***\n",
      "*****************\n",
      "schedule:[5000], max_iters:[8192]\n",
      "runner_name:[sa], experiment_name:[example_experiment], attempt:[0], iteration:[0], done:[False], time:[0.00], fitness:[23.0000]\n",
      "\t[5 3 4 0 7 1 3 5]...\n",
      "\n",
      "schedule:[5000], max_iters:[8192]\n",
      "runner_name:[sa], experiment_name:[example_experiment], attempt:[1], iteration:[1], done:[False], time:[0.00], fitness:[23.0000]\n",
      "\t[5 3 4 0 7 1 3 0]...\n",
      "\n",
      "schedule:[5000], max_iters:[8192]\n",
      "runner_name:[sa], experiment_name:[example_experiment], attempt:[1], iteration:[2], done:[False], time:[0.24], fitness:[21.0000]\n",
      "\t[5 3 4 0 5 1 3 0]...\n",
      "\n",
      "schedule:[5000], max_iters:[8192]\n",
      "runner_name:[sa], experiment_name:[example_experiment], attempt:[1], iteration:[4], done:[False], time:[0.40], fitness:[21.0000]\n",
      "\t[5 2 4 0 5 3 3 0]...\n",
      "\n",
      "schedule:[5000], max_iters:[8192]\n",
      "runner_name:[sa], experiment_name:[example_experiment], attempt:[1], iteration:[8], done:[False], time:[0.60], fitness:[19.0000]\n",
      "\t[5 2 4 0 2 3 0 2]...\n",
      "\n",
      "schedule:[5000], max_iters:[8192]\n",
      "runner_name:[sa], experiment_name:[example_experiment], attempt:[1], iteration:[16], done:[False], time:[0.76], fitness:[22.0000]\n",
      "\t[0 1 4 7 2 3 6 2]...\n",
      "\n",
      "schedule:[5000], max_iters:[8192]\n",
      "runner_name:[sa], experiment_name:[example_experiment], attempt:[1], iteration:[32], done:[False], time:[0.97], fitness:[22.0000]\n",
      "\t[0 2 2 6 3 2 7 1]...\n",
      "\n",
      "schedule:[5000], max_iters:[8192]\n",
      "runner_name:[sa], experiment_name:[example_experiment], attempt:[1], iteration:[64], done:[False], time:[1.15], fitness:[23.0000]\n",
      "\t[2 7 1 1 5 5 6 6]...\n",
      "\n",
      "schedule:[5000], max_iters:[8192]\n",
      "runner_name:[sa], experiment_name:[example_experiment], attempt:[1], iteration:[128], done:[False], time:[1.34], fitness:[18.0000]\n",
      "\t[0 3 7 3 5 5 7 5]...\n",
      "\n",
      "schedule:[5000], max_iters:[8192]\n",
      "runner_name:[sa], experiment_name:[example_experiment], attempt:[1], iteration:[256], done:[False], time:[1.51], fitness:[22.0000]\n",
      "\t[7 5 1 3 4 0 6 5]...\n",
      "\n",
      "schedule:[5000], max_iters:[8192]\n",
      "runner_name:[sa], experiment_name:[example_experiment], attempt:[1], iteration:[512], done:[False], time:[1.74], fitness:[22.0000]\n",
      "\t[2 0 7 6 4 7 3 0]...\n",
      "\n",
      "schedule:[5000], max_iters:[8192]\n",
      "runner_name:[sa], experiment_name:[example_experiment], attempt:[70], iteration:[1024], done:[False], time:[2.01], fitness:[28.0000]\n",
      "\t[3 1 7 4 6 0 2 5]...\n",
      "\n",
      "schedule:[5000], max_iters:[8192]\n",
      "runner_name:[sa], experiment_name:[example_experiment], attempt:[1001], iteration:[1955], done:[True], time:[2.31], fitness:[28.0000]\n",
      "\t[3 1 7 4 6 0 2 5]...\n",
      "\n",
      "***************\n",
      "*** Run END ***\n",
      "***************\n",
      "*****************\n",
      "*** Run START ***\n",
      "*****************\n",
      "schedule:[10000], max_iters:[8192]\n",
      "runner_name:[sa], experiment_name:[example_experiment], attempt:[0], iteration:[0], done:[False], time:[0.00], fitness:[23.0000]\n",
      "\t[5 3 4 0 7 1 3 5]...\n",
      "\n",
      "schedule:[10000], max_iters:[8192]\n",
      "runner_name:[sa], experiment_name:[example_experiment], attempt:[1], iteration:[1], done:[False], time:[0.00], fitness:[23.0000]\n",
      "\t[5 3 4 0 7 1 3 0]...\n",
      "\n",
      "schedule:[10000], max_iters:[8192]\n",
      "runner_name:[sa], experiment_name:[example_experiment], attempt:[1], iteration:[2], done:[False], time:[0.16], fitness:[21.0000]\n",
      "\t[5 3 4 0 5 1 3 0]...\n",
      "\n",
      "schedule:[10000], max_iters:[8192]\n",
      "runner_name:[sa], experiment_name:[example_experiment], attempt:[1], iteration:[4], done:[False], time:[0.34], fitness:[21.0000]\n",
      "\t[5 2 4 0 5 3 3 0]...\n",
      "\n",
      "schedule:[10000], max_iters:[8192]\n",
      "runner_name:[sa], experiment_name:[example_experiment], attempt:[1], iteration:[8], done:[False], time:[0.52], fitness:[19.0000]\n",
      "\t[5 2 4 0 2 3 0 2]...\n",
      "\n",
      "schedule:[10000], max_iters:[8192]\n",
      "runner_name:[sa], experiment_name:[example_experiment], attempt:[1], iteration:[16], done:[False], time:[0.71], fitness:[22.0000]\n",
      "\t[0 1 4 7 2 3 6 2]...\n",
      "\n",
      "schedule:[10000], max_iters:[8192]\n",
      "runner_name:[sa], experiment_name:[example_experiment], attempt:[1], iteration:[32], done:[False], time:[0.89], fitness:[22.0000]\n",
      "\t[0 2 2 6 3 2 7 1]...\n",
      "\n",
      "schedule:[10000], max_iters:[8192]\n",
      "runner_name:[sa], experiment_name:[example_experiment], attempt:[1], iteration:[64], done:[False], time:[1.05], fitness:[23.0000]\n",
      "\t[2 7 1 1 5 5 6 6]...\n",
      "\n",
      "schedule:[10000], max_iters:[8192]\n",
      "runner_name:[sa], experiment_name:[example_experiment], attempt:[1], iteration:[128], done:[False], time:[1.26], fitness:[18.0000]\n",
      "\t[0 3 7 3 5 5 7 5]...\n",
      "\n",
      "schedule:[10000], max_iters:[8192]\n",
      "runner_name:[sa], experiment_name:[example_experiment], attempt:[1], iteration:[256], done:[False], time:[1.45], fitness:[22.0000]\n",
      "\t[7 5 1 3 4 0 6 5]...\n",
      "\n",
      "schedule:[10000], max_iters:[8192]\n",
      "runner_name:[sa], experiment_name:[example_experiment], attempt:[1], iteration:[512], done:[False], time:[1.68], fitness:[16.0000]\n",
      "\t[6 1 4 3 2 7 2 7]...\n",
      "\n",
      "schedule:[10000], max_iters:[8192]\n",
      "runner_name:[sa], experiment_name:[example_experiment], attempt:[2], iteration:[1024], done:[False], time:[1.96], fitness:[24.0000]\n",
      "\t[5 5 4 6 0 3 6 7]...\n",
      "\n",
      "schedule:[10000], max_iters:[8192]\n",
      "runner_name:[sa], experiment_name:[example_experiment], attempt:[667], iteration:[2048], done:[False], time:[2.29], fitness:[28.0000]\n",
      "\t[2 0 6 4 7 1 3 5]...\n",
      "\n",
      "schedule:[10000], max_iters:[8192]\n",
      "runner_name:[sa], experiment_name:[example_experiment], attempt:[1001], iteration:[2382], done:[True], time:[2.55], fitness:[28.0000]\n",
      "\t[2 0 6 4 7 1 3 5]...\n",
      "\n",
      "***************\n",
      "*** Run END ***\n",
      "***************\n",
      "Run time: 16.164759900000718\n",
      "Saving: [output/example_experiment\\sa__example_experiment__run_stats_df.csv]\n",
      "Saving: [output/example_experiment\\sa__example_experiment__curves_df.csv]\n"
     ]
    }
   ],
   "source": [
    "from mlrose_hiive.runners import SARunner\n",
    "\n",
    "experiment_name = 'example_experiment'\n",
    "#problem = TSPGenerator.generate(seed=SEED, number_of_cities=22)\n",
    "sa = SARunner(problem=problem_cust,\n",
    "              experiment_name=experiment_name,\n",
    "              output_directory='output/',\n",
    "              seed=1,\n",
    "              iteration_list=2 ** np.arange(14),\n",
    "              max_attempts=1000,\n",
    "              temperature_list=[1, 10, 50, 100, 250, 500, 1000, 2500, 5000, 10000])\n",
    "# the two data frames will contain the results\n",
    "df_run_stats, df_run_curves = sa.run()        "
   ]
  },
  {
   "cell_type": "code",
   "execution_count": 20,
   "metadata": {},
   "outputs": [],
   "source": []
  },
  {
   "cell_type": "code",
   "execution_count": 23,
   "metadata": {
    "scrolled": true
   },
   "outputs": [
    {
     "data": {
      "text/html": [
       "<div>\n",
       "<style scoped>\n",
       "    .dataframe tbody tr th:only-of-type {\n",
       "        vertical-align: middle;\n",
       "    }\n",
       "\n",
       "    .dataframe tbody tr th {\n",
       "        vertical-align: top;\n",
       "    }\n",
       "\n",
       "    .dataframe thead th {\n",
       "        text-align: right;\n",
       "    }\n",
       "</style>\n",
       "<table border=\"1\" class=\"dataframe\">\n",
       "  <thead>\n",
       "    <tr style=\"text-align: right;\">\n",
       "      <th></th>\n",
       "      <th>Iteration</th>\n",
       "      <th>Fitness</th>\n",
       "      <th>Time</th>\n",
       "      <th>State</th>\n",
       "      <th>schedule_type</th>\n",
       "      <th>schedule_init_temp</th>\n",
       "      <th>schedule_decay</th>\n",
       "      <th>schedule_min_temp</th>\n",
       "      <th>schedule_current_value</th>\n",
       "      <th>Temperature</th>\n",
       "      <th>max_iters</th>\n",
       "    </tr>\n",
       "  </thead>\n",
       "  <tbody>\n",
       "    <tr>\n",
       "      <td>0</td>\n",
       "      <td>0</td>\n",
       "      <td>23.0</td>\n",
       "      <td>0.000168</td>\n",
       "      <td>[5, 3, 4, 0, 7, 1, 3, 5]</td>\n",
       "      <td>geometric</td>\n",
       "      <td>1</td>\n",
       "      <td>0.99</td>\n",
       "      <td>0.001</td>\n",
       "      <td>0.999998</td>\n",
       "      <td>1</td>\n",
       "      <td>8192</td>\n",
       "    </tr>\n",
       "    <tr>\n",
       "      <td>1</td>\n",
       "      <td>1</td>\n",
       "      <td>23.0</td>\n",
       "      <td>0.000995</td>\n",
       "      <td>[5, 3, 4, 0, 7, 1, 3, 0]</td>\n",
       "      <td>geometric</td>\n",
       "      <td>1</td>\n",
       "      <td>0.99</td>\n",
       "      <td>0.001</td>\n",
       "      <td>0.999990</td>\n",
       "      <td>1</td>\n",
       "      <td>8192</td>\n",
       "    </tr>\n",
       "    <tr>\n",
       "      <td>2</td>\n",
       "      <td>2</td>\n",
       "      <td>23.0</td>\n",
       "      <td>0.595410</td>\n",
       "      <td>[5, 3, 4, 0, 7, 1, 3, 0]</td>\n",
       "      <td>geometric</td>\n",
       "      <td>1</td>\n",
       "      <td>0.99</td>\n",
       "      <td>0.001</td>\n",
       "      <td>0.994034</td>\n",
       "      <td>1</td>\n",
       "      <td>8192</td>\n",
       "    </tr>\n",
       "    <tr>\n",
       "      <td>3</td>\n",
       "      <td>4</td>\n",
       "      <td>23.0</td>\n",
       "      <td>0.602797</td>\n",
       "      <td>[5, 2, 4, 0, 6, 1, 3, 0]</td>\n",
       "      <td>geometric</td>\n",
       "      <td>1</td>\n",
       "      <td>0.99</td>\n",
       "      <td>0.001</td>\n",
       "      <td>0.993960</td>\n",
       "      <td>1</td>\n",
       "      <td>8192</td>\n",
       "    </tr>\n",
       "    <tr>\n",
       "      <td>4</td>\n",
       "      <td>8</td>\n",
       "      <td>23.0</td>\n",
       "      <td>0.610146</td>\n",
       "      <td>[5, 2, 4, 0, 6, 1, 3, 0]</td>\n",
       "      <td>geometric</td>\n",
       "      <td>1</td>\n",
       "      <td>0.99</td>\n",
       "      <td>0.001</td>\n",
       "      <td>0.993887</td>\n",
       "      <td>1</td>\n",
       "      <td>8192</td>\n",
       "    </tr>\n",
       "    <tr>\n",
       "      <td>5</td>\n",
       "      <td>16</td>\n",
       "      <td>22.0</td>\n",
       "      <td>0.617275</td>\n",
       "      <td>[5, 2, 1, 0, 6, 7, 3, 0]</td>\n",
       "      <td>geometric</td>\n",
       "      <td>1</td>\n",
       "      <td>0.99</td>\n",
       "      <td>0.001</td>\n",
       "      <td>0.993815</td>\n",
       "      <td>1</td>\n",
       "      <td>8192</td>\n",
       "    </tr>\n",
       "    <tr>\n",
       "      <td>6</td>\n",
       "      <td>32</td>\n",
       "      <td>24.0</td>\n",
       "      <td>0.625452</td>\n",
       "      <td>[0, 2, 0, 7, 2, 7, 1, 4]</td>\n",
       "      <td>geometric</td>\n",
       "      <td>1</td>\n",
       "      <td>0.99</td>\n",
       "      <td>0.001</td>\n",
       "      <td>0.993734</td>\n",
       "      <td>1</td>\n",
       "      <td>8192</td>\n",
       "    </tr>\n",
       "    <tr>\n",
       "      <td>7</td>\n",
       "      <td>64</td>\n",
       "      <td>23.0</td>\n",
       "      <td>0.634812</td>\n",
       "      <td>[7, 2, 6, 7, 5, 1, 0, 6]</td>\n",
       "      <td>geometric</td>\n",
       "      <td>1</td>\n",
       "      <td>0.99</td>\n",
       "      <td>0.001</td>\n",
       "      <td>0.993640</td>\n",
       "      <td>1</td>\n",
       "      <td>8192</td>\n",
       "    </tr>\n",
       "    <tr>\n",
       "      <td>8</td>\n",
       "      <td>128</td>\n",
       "      <td>25.0</td>\n",
       "      <td>0.647640</td>\n",
       "      <td>[6, 3, 7, 0, 4, 2, 2, 5]</td>\n",
       "      <td>geometric</td>\n",
       "      <td>1</td>\n",
       "      <td>0.99</td>\n",
       "      <td>0.001</td>\n",
       "      <td>0.993512</td>\n",
       "      <td>1</td>\n",
       "      <td>8192</td>\n",
       "    </tr>\n",
       "    <tr>\n",
       "      <td>9</td>\n",
       "      <td>256</td>\n",
       "      <td>27.0</td>\n",
       "      <td>0.663838</td>\n",
       "      <td>[6, 3, 7, 0, 4, 6, 1, 5]</td>\n",
       "      <td>geometric</td>\n",
       "      <td>1</td>\n",
       "      <td>0.99</td>\n",
       "      <td>0.001</td>\n",
       "      <td>0.993350</td>\n",
       "      <td>1</td>\n",
       "      <td>8192</td>\n",
       "    </tr>\n",
       "  </tbody>\n",
       "</table>\n",
       "</div>"
      ],
      "text/plain": [
       "   Iteration  Fitness      Time                     State schedule_type  \\\n",
       "0          0     23.0  0.000168  [5, 3, 4, 0, 7, 1, 3, 5]     geometric   \n",
       "1          1     23.0  0.000995  [5, 3, 4, 0, 7, 1, 3, 0]     geometric   \n",
       "2          2     23.0  0.595410  [5, 3, 4, 0, 7, 1, 3, 0]     geometric   \n",
       "3          4     23.0  0.602797  [5, 2, 4, 0, 6, 1, 3, 0]     geometric   \n",
       "4          8     23.0  0.610146  [5, 2, 4, 0, 6, 1, 3, 0]     geometric   \n",
       "5         16     22.0  0.617275  [5, 2, 1, 0, 6, 7, 3, 0]     geometric   \n",
       "6         32     24.0  0.625452  [0, 2, 0, 7, 2, 7, 1, 4]     geometric   \n",
       "7         64     23.0  0.634812  [7, 2, 6, 7, 5, 1, 0, 6]     geometric   \n",
       "8        128     25.0  0.647640  [6, 3, 7, 0, 4, 2, 2, 5]     geometric   \n",
       "9        256     27.0  0.663838  [6, 3, 7, 0, 4, 6, 1, 5]     geometric   \n",
       "\n",
       "   schedule_init_temp  schedule_decay  schedule_min_temp  \\\n",
       "0                   1            0.99              0.001   \n",
       "1                   1            0.99              0.001   \n",
       "2                   1            0.99              0.001   \n",
       "3                   1            0.99              0.001   \n",
       "4                   1            0.99              0.001   \n",
       "5                   1            0.99              0.001   \n",
       "6                   1            0.99              0.001   \n",
       "7                   1            0.99              0.001   \n",
       "8                   1            0.99              0.001   \n",
       "9                   1            0.99              0.001   \n",
       "\n",
       "   schedule_current_value Temperature  max_iters  \n",
       "0                0.999998           1       8192  \n",
       "1                0.999990           1       8192  \n",
       "2                0.994034           1       8192  \n",
       "3                0.993960           1       8192  \n",
       "4                0.993887           1       8192  \n",
       "5                0.993815           1       8192  \n",
       "6                0.993734           1       8192  \n",
       "7                0.993640           1       8192  \n",
       "8                0.993512           1       8192  \n",
       "9                0.993350           1       8192  "
      ]
     },
     "execution_count": 23,
     "metadata": {},
     "output_type": "execute_result"
    }
   ],
   "source": [
    "df_run_stats[:10]"
   ]
  },
  {
   "cell_type": "code",
   "execution_count": 50,
   "metadata": {},
   "outputs": [
    {
     "data": {
      "text/plain": [
       "ExpDecay(init_temp=1.0, exp_const=0.005, min_temp=0.001)"
      ]
     },
     "execution_count": 50,
     "metadata": {},
     "output_type": "execute_result"
    }
   ],
   "source": [
    "schedule"
   ]
  },
  {
   "cell_type": "code",
   "execution_count": 51,
   "metadata": {},
   "outputs": [
    {
     "data": {
      "text/plain": [
       "GeomDecay(init_temp=1, decay=0.99, min_temp=0.001)"
      ]
     },
     "execution_count": 51,
     "metadata": {},
     "output_type": "execute_result"
    }
   ],
   "source": [
    "df_run_curves.Temperature.iloc[0]"
   ]
  },
  {
   "cell_type": "code",
   "execution_count": 29,
   "metadata": {},
   "outputs": [
    {
     "data": {
      "text/plain": [
       "array([8192], dtype=int64)"
      ]
     },
     "execution_count": 29,
     "metadata": {},
     "output_type": "execute_result"
    }
   ],
   "source": [
    "df_run_stats.max_iters.unique()"
   ]
  },
  {
   "cell_type": "code",
   "execution_count": 45,
   "metadata": {
    "scrolled": true
   },
   "outputs": [
    {
     "data": {
      "text/plain": [
       "[<matplotlib.lines.Line2D at 0x19d38069888>]"
      ]
     },
     "execution_count": 45,
     "metadata": {},
     "output_type": "execute_result"
    },
    {
     "data": {
      "image/png": "[encoded data removed]",
      "text/plain": [
       "<Figure size 432x288 with 1 Axes>"
      ]
     },
     "metadata": {
      "needs_background": "light"
     },
     "output_type": "display_data"
    }
   ],
   "source": [
    "plt.plot(df_run_curves[df_run_curves.Temperature==df_run_curves.Temperature.iloc[0]].Fitness)"
   ]
  },
  {
   "cell_type": "code",
   "execution_count": 49,
   "metadata": {
    "scrolled": true
   },
   "outputs": [
    {
     "data": {
      "text/plain": [
       "[<matplotlib.lines.Line2D at 0x19d37ed0a88>]"
      ]
     },
     "execution_count": 49,
     "metadata": {},
     "output_type": "execute_result"
    },
    {
     "data": {
      "image/png": "[encoded data removed]",
      "text/plain": [
       "<Figure size 432x288 with 1 Axes>"
      ]
     },
     "metadata": {
      "needs_background": "light"
     },
     "output_type": "display_data"
    }
   ],
   "source": [
    "plt.plot(df_run_curves[df_run_curves.Temperature==df_run_curves.Temperature.iloc[0]].Fitness)"
   ]
  },
  {
   "cell_type": "code",
   "execution_count": 48,
   "metadata": {},
   "outputs": [
    {
     "data": {
      "text/plain": [
       "28.0"
      ]
     },
     "execution_count": 48,
     "metadata": {},
     "output_type": "execute_result"
    }
   ],
   "source": [
    "max(df_run_curves[df_run_curves.Temperature==df_run_curves.Temperature.iloc[0]].Fitness)"
   ]
  },
  {
   "cell_type": "code",
   "execution_count": 42,
   "metadata": {},
   "outputs": [
    {
     "data": {
      "text/plain": [
       "[<matplotlib.lines.Line2D at 0x19d37331208>]"
      ]
     },
     "execution_count": 42,
     "metadata": {},
     "output_type": "execute_result"
    },
    {
     "data": {
      "image/png": "[encoded data removed]",
      "text/plain": [
       "<Figure size 432x288 with 1 Axes>"
      ]
     },
     "metadata": {
      "needs_background": "light"
     },
     "output_type": "display_data"
    }
   ],
   "source": [
    "plt.plot(df_run_curves[df_run_curves.Temperature==df_run_curves.Temperature.iloc[0]].Time)"
   ]
  },
  {
   "cell_type": "code",
   "execution_count": 35,
   "metadata": {},
   "outputs": [
    {
     "data": {
      "text/plain": [
       "GeomDecay(init_temp=1, decay=0.99, min_temp=0.001)"
      ]
     },
     "execution_count": 35,
     "metadata": {},
     "output_type": "execute_result"
    }
   ],
   "source": [
    "df_run_curves.Temperature.iloc[0]"
   ]
  },
  {
   "cell_type": "code",
   "execution_count": 39,
   "metadata": {
    "scrolled": true
   },
   "outputs": [
    {
     "data": {
      "text/html": [
       "<div>\n",
       "<style scoped>\n",
       "    .dataframe tbody tr th:only-of-type {\n",
       "        vertical-align: middle;\n",
       "    }\n",
       "\n",
       "    .dataframe tbody tr th {\n",
       "        vertical-align: top;\n",
       "    }\n",
       "\n",
       "    .dataframe thead th {\n",
       "        text-align: right;\n",
       "    }\n",
       "</style>\n",
       "<table border=\"1\" class=\"dataframe\">\n",
       "  <thead>\n",
       "    <tr style=\"text-align: right;\">\n",
       "      <th></th>\n",
       "      <th>Iteration</th>\n",
       "      <th>Time</th>\n",
       "      <th>Fitness</th>\n",
       "      <th>Temperature</th>\n",
       "      <th>max_iters</th>\n",
       "    </tr>\n",
       "  </thead>\n",
       "  <tbody>\n",
       "    <tr>\n",
       "      <td>0</td>\n",
       "      <td>0</td>\n",
       "      <td>0.000168</td>\n",
       "      <td>23.0</td>\n",
       "      <td>1</td>\n",
       "      <td>8192</td>\n",
       "    </tr>\n",
       "    <tr>\n",
       "      <td>1</td>\n",
       "      <td>1</td>\n",
       "      <td>0.000995</td>\n",
       "      <td>23.0</td>\n",
       "      <td>1</td>\n",
       "      <td>8192</td>\n",
       "    </tr>\n",
       "    <tr>\n",
       "      <td>2</td>\n",
       "      <td>2</td>\n",
       "      <td>0.595410</td>\n",
       "      <td>24.0</td>\n",
       "      <td>1</td>\n",
       "      <td>8192</td>\n",
       "    </tr>\n",
       "    <tr>\n",
       "      <td>3</td>\n",
       "      <td>3</td>\n",
       "      <td>0.602652</td>\n",
       "      <td>23.0</td>\n",
       "      <td>1</td>\n",
       "      <td>8192</td>\n",
       "    </tr>\n",
       "    <tr>\n",
       "      <td>4</td>\n",
       "      <td>4</td>\n",
       "      <td>0.602797</td>\n",
       "      <td>23.0</td>\n",
       "      <td>1</td>\n",
       "      <td>8192</td>\n",
       "    </tr>\n",
       "    <tr>\n",
       "      <td>5</td>\n",
       "      <td>5</td>\n",
       "      <td>0.609945</td>\n",
       "      <td>23.0</td>\n",
       "      <td>1</td>\n",
       "      <td>8192</td>\n",
       "    </tr>\n",
       "    <tr>\n",
       "      <td>6</td>\n",
       "      <td>6</td>\n",
       "      <td>0.610022</td>\n",
       "      <td>23.0</td>\n",
       "      <td>1</td>\n",
       "      <td>8192</td>\n",
       "    </tr>\n",
       "    <tr>\n",
       "      <td>7</td>\n",
       "      <td>7</td>\n",
       "      <td>0.610087</td>\n",
       "      <td>23.0</td>\n",
       "      <td>1</td>\n",
       "      <td>8192</td>\n",
       "    </tr>\n",
       "    <tr>\n",
       "      <td>8</td>\n",
       "      <td>8</td>\n",
       "      <td>0.610146</td>\n",
       "      <td>23.0</td>\n",
       "      <td>1</td>\n",
       "      <td>8192</td>\n",
       "    </tr>\n",
       "    <tr>\n",
       "      <td>9</td>\n",
       "      <td>9</td>\n",
       "      <td>0.616723</td>\n",
       "      <td>23.0</td>\n",
       "      <td>1</td>\n",
       "      <td>8192</td>\n",
       "    </tr>\n",
       "  </tbody>\n",
       "</table>\n",
       "</div>"
      ],
      "text/plain": [
       "   Iteration      Time  Fitness Temperature  max_iters\n",
       "0          0  0.000168     23.0           1       8192\n",
       "1          1  0.000995     23.0           1       8192\n",
       "2          2  0.595410     24.0           1       8192\n",
       "3          3  0.602652     23.0           1       8192\n",
       "4          4  0.602797     23.0           1       8192\n",
       "5          5  0.609945     23.0           1       8192\n",
       "6          6  0.610022     23.0           1       8192\n",
       "7          7  0.610087     23.0           1       8192\n",
       "8          8  0.610146     23.0           1       8192\n",
       "9          9  0.616723     23.0           1       8192"
      ]
     },
     "execution_count": 39,
     "metadata": {},
     "output_type": "execute_result"
    }
   ],
   "source": [
    "df_run_curves.head(10)"
   ]
  },
  {
   "cell_type": "code",
   "execution_count": null,
   "metadata": {},
   "outputs": [],
   "source": []
  },
  {
   "cell_type": "code",
   "execution_count": 34,
   "metadata": {},
   "outputs": [],
   "source": [
    "# Solve using simulated annealing - attempt 1\n",
    "init_state = np.array([0, 1, 2, 3, 4, 5, 6, 7])\n",
    "schedule = mlrose_hiive.ExpDecay()\n",
    "evaluations = []\n",
    "best_state, best_fitness, fitness_curve_sa,time_curve_sa = mlrose_hiive.simulated_annealing(problem_cust, \n",
    "                                                                                            schedule = schedule, \n",
    "                                                      max_attempts = 100, \n",
    "                                                                            max_iters = 10000, \n",
    "                                                      init_state = init_state, random_state = 1,curve=True)\n"
   ]
  },
  {
   "cell_type": "code",
   "execution_count": 22,
   "metadata": {},
   "outputs": [
    {
     "name": "stdout",
     "output_type": "stream",
     "text": [
      "28.0\n"
     ]
    }
   ],
   "source": [
    "print(best_fitness)"
   ]
  },
  {
   "cell_type": "code",
   "execution_count": 35,
   "metadata": {},
   "outputs": [
    {
     "data": {
      "image/png": "[encoded data removed]",
      "text/plain": [
       "<Figure size 432x288 with 1 Axes>"
      ]
     },
     "metadata": {
      "needs_background": "light"
     },
     "output_type": "display_data"
    }
   ],
   "source": [
    "plt.plot(evaluations)\n",
    "evaluations_sa = evaluations.copy()\n",
    "evaluations = []"
   ]
  },
  {
   "cell_type": "code",
   "execution_count": 112,
   "metadata": {
    "scrolled": false
   },
   "outputs": [
    {
     "data": {
      "text/plain": [
       "[<matplotlib.lines.Line2D at 0x2689a72f908>]"
      ]
     },
     "execution_count": 112,
     "metadata": {},
     "output_type": "execute_result"
    },
    {
     "data": {
      "image/png": "[encoded data removed]",
      "text/plain": [
       "<Figure size 432x288 with 1 Axes>"
      ]
     },
     "metadata": {
      "needs_background": "light"
     },
     "output_type": "display_data"
    }
   ],
   "source": [
    "plt.plot(fitness_curve_sa)"
   ]
  },
  {
   "cell_type": "markdown",
   "metadata": {},
   "source": [
    "### GA"
   ]
  },
  {
   "cell_type": "code",
   "execution_count": 60,
   "metadata": {},
   "outputs": [
    {
     "name": "stdout",
     "output_type": "stream",
     "text": [
      "Running ga\n",
      "*****************\n",
      "*** Run START ***\n",
      "*****************\n",
      "pop_size:[150], mutation_prob:[0.4], max_iters:[2048]\n",
      "runner_name:[ga], experiment_name:[example_experiment], attempt:[0], iteration:[0], done:[False], time:[0.02], fitness:[23.0000]\n",
      "\t[5 3 4 0 7 1 3 5]...\n",
      "\n",
      "pop_size:[150], mutation_prob:[0.4], max_iters:[2048]\n",
      "runner_name:[ga], experiment_name:[example_experiment], attempt:[1], iteration:[1], done:[False], time:[0.06], fitness:[26.0000]\n",
      "\t[3 6 0 7 2 7 5 1]...\n",
      "\n",
      "pop_size:[150], mutation_prob:[0.4], max_iters:[2048]\n",
      "runner_name:[ga], experiment_name:[example_experiment], attempt:[2], iteration:[2], done:[False], time:[0.12], fitness:[26.0000]\n",
      "\t[3 6 0 7 2 7 5 1]...\n",
      "\n",
      "pop_size:[150], mutation_prob:[0.4], max_iters:[2048]\n",
      "runner_name:[ga], experiment_name:[example_experiment], attempt:[4], iteration:[4], done:[False], time:[0.20], fitness:[26.0000]\n",
      "\t[3 6 0 7 2 7 5 1]...\n",
      "\n",
      "pop_size:[150], mutation_prob:[0.4], max_iters:[2048]\n",
      "runner_name:[ga], experiment_name:[example_experiment], attempt:[8], iteration:[8], done:[False], time:[0.27], fitness:[26.0000]\n",
      "\t[3 6 0 7 2 7 5 1]...\n",
      "\n",
      "pop_size:[150], mutation_prob:[0.4], max_iters:[2048]\n",
      "runner_name:[ga], experiment_name:[example_experiment], attempt:[7], iteration:[16], done:[False], time:[0.43], fitness:[27.0000]\n",
      "\t[3 1 7 2 0 6 4 1]...\n",
      "\n",
      "pop_size:[150], mutation_prob:[0.4], max_iters:[2048]\n",
      "runner_name:[ga], experiment_name:[example_experiment], attempt:[23], iteration:[32], done:[False], time:[0.71], fitness:[27.0000]\n",
      "\t[3 1 7 2 0 6 4 1]...\n",
      "\n",
      "pop_size:[150], mutation_prob:[0.4], max_iters:[2048]\n",
      "runner_name:[ga], experiment_name:[example_experiment], attempt:[32], iteration:[64], done:[False], time:[1.20], fitness:[28.0000]\n",
      "\t[3 1 6 2 5 7 4 0]...\n",
      "\n",
      "pop_size:[150], mutation_prob:[0.4], max_iters:[2048]\n",
      "runner_name:[ga], experiment_name:[example_experiment], attempt:[96], iteration:[128], done:[False], time:[2.33], fitness:[28.0000]\n",
      "\t[3 1 6 2 5 7 4 0]...\n",
      "\n",
      "pop_size:[150], mutation_prob:[0.4], max_iters:[2048]\n",
      "runner_name:[ga], experiment_name:[example_experiment], attempt:[224], iteration:[256], done:[False], time:[4.45], fitness:[28.0000]\n",
      "\t[3 1 6 2 5 7 4 0]...\n",
      "\n",
      "pop_size:[150], mutation_prob:[0.4], max_iters:[2048]\n",
      "runner_name:[ga], experiment_name:[example_experiment], attempt:[480], iteration:[512], done:[False], time:[8.66], fitness:[28.0000]\n",
      "\t[3 1 6 2 5 7 4 0]...\n",
      "\n",
      "pop_size:[150], mutation_prob:[0.4], max_iters:[2048]\n",
      "runner_name:[ga], experiment_name:[example_experiment], attempt:[992], iteration:[1024], done:[False], time:[16.89], fitness:[28.0000]\n",
      "\t[3 1 6 2 5 7 4 0]...\n",
      "\n",
      "pop_size:[150], mutation_prob:[0.4], max_iters:[2048]\n",
      "runner_name:[ga], experiment_name:[example_experiment], attempt:[1001], iteration:[1033], done:[True], time:[17.03], fitness:[28.0000]\n",
      "\t[3 1 6 2 5 7 4 0]...\n",
      "\n",
      "***************\n",
      "*** Run END ***\n",
      "***************\n",
      "*****************\n",
      "*** Run START ***\n",
      "*****************\n",
      "pop_size:[150], mutation_prob:[0.5], max_iters:[2048]\n",
      "runner_name:[ga], experiment_name:[example_experiment], attempt:[0], iteration:[0], done:[False], time:[0.01], fitness:[23.0000]\n",
      "\t[5 3 4 0 7 1 3 5]...\n",
      "\n",
      "pop_size:[150], mutation_prob:[0.5], max_iters:[2048]\n",
      "runner_name:[ga], experiment_name:[example_experiment], attempt:[1], iteration:[1], done:[False], time:[0.03], fitness:[26.0000]\n",
      "\t[3 5 0 3 6 4 7 1]...\n",
      "\n",
      "pop_size:[150], mutation_prob:[0.5], max_iters:[2048]\n",
      "runner_name:[ga], experiment_name:[example_experiment], attempt:[2], iteration:[2], done:[False], time:[0.06], fitness:[26.0000]\n",
      "\t[3 5 0 3 6 4 7 1]...\n",
      "\n",
      "pop_size:[150], mutation_prob:[0.5], max_iters:[2048]\n",
      "runner_name:[ga], experiment_name:[example_experiment], attempt:[4], iteration:[4], done:[False], time:[0.15], fitness:[26.0000]\n",
      "\t[3 5 0 3 6 4 7 1]...\n",
      "\n",
      "pop_size:[150], mutation_prob:[0.5], max_iters:[2048]\n",
      "runner_name:[ga], experiment_name:[example_experiment], attempt:[8], iteration:[8], done:[False], time:[0.23], fitness:[26.0000]\n",
      "\t[3 5 0 3 6 4 7 1]...\n",
      "\n",
      "pop_size:[150], mutation_prob:[0.5], max_iters:[2048]\n",
      "runner_name:[ga], experiment_name:[example_experiment], attempt:[6], iteration:[16], done:[False], time:[0.41], fitness:[27.0000]\n",
      "\t[4 6 0 3 5 7 5 1]...\n",
      "\n",
      "pop_size:[150], mutation_prob:[0.5], max_iters:[2048]\n",
      "runner_name:[ga], experiment_name:[example_experiment], attempt:[15], iteration:[32], done:[False], time:[0.75], fitness:[28.0000]\n",
      "\t[4 6 3 0 2 7 5 1]...\n",
      "\n",
      "pop_size:[150], mutation_prob:[0.5], max_iters:[2048]\n",
      "runner_name:[ga], experiment_name:[example_experiment], attempt:[47], iteration:[64], done:[False], time:[1.32], fitness:[28.0000]\n",
      "\t[4 6 3 0 2 7 5 1]...\n",
      "\n",
      "pop_size:[150], mutation_prob:[0.5], max_iters:[2048]\n",
      "runner_name:[ga], experiment_name:[example_experiment], attempt:[111], iteration:[128], done:[False], time:[2.35], fitness:[28.0000]\n",
      "\t[4 6 3 0 2 7 5 1]...\n",
      "\n",
      "pop_size:[150], mutation_prob:[0.5], max_iters:[2048]\n",
      "runner_name:[ga], experiment_name:[example_experiment], attempt:[239], iteration:[256], done:[False], time:[4.69], fitness:[28.0000]\n",
      "\t[4 6 3 0 2 7 5 1]...\n",
      "\n",
      "pop_size:[150], mutation_prob:[0.5], max_iters:[2048]\n",
      "runner_name:[ga], experiment_name:[example_experiment], attempt:[495], iteration:[512], done:[False], time:[8.33], fitness:[28.0000]\n",
      "\t[4 6 3 0 2 7 5 1]...\n",
      "\n",
      "pop_size:[150], mutation_prob:[0.5], max_iters:[2048]\n",
      "runner_name:[ga], experiment_name:[example_experiment], attempt:[1001], iteration:[1018], done:[True], time:[16.15], fitness:[28.0000]\n",
      "\t[4 6 3 0 2 7 5 1]...\n",
      "\n",
      "***************\n",
      "*** Run END ***\n",
      "***************\n",
      "*****************\n",
      "*** Run START ***\n",
      "*****************\n",
      "pop_size:[150], mutation_prob:[0.6], max_iters:[2048]\n",
      "runner_name:[ga], experiment_name:[example_experiment], attempt:[0], iteration:[0], done:[False], time:[0.01], fitness:[23.0000]\n",
      "\t[5 3 4 0 7 1 3 5]...\n",
      "\n",
      "pop_size:[150], mutation_prob:[0.6], max_iters:[2048]\n",
      "runner_name:[ga], experiment_name:[example_experiment], attempt:[1], iteration:[1], done:[False], time:[0.03], fitness:[26.0000]\n",
      "\t[3 6 0 7 2 7 5 1]...\n",
      "\n",
      "pop_size:[150], mutation_prob:[0.6], max_iters:[2048]\n",
      "runner_name:[ga], experiment_name:[example_experiment], attempt:[2], iteration:[2], done:[False], time:[0.07], fitness:[26.0000]\n",
      "\t[3 6 0 7 2 7 5 1]...\n",
      "\n",
      "pop_size:[150], mutation_prob:[0.6], max_iters:[2048]\n",
      "runner_name:[ga], experiment_name:[example_experiment], attempt:[4], iteration:[4], done:[False], time:[0.13], fitness:[26.0000]\n",
      "\t[3 6 0 7 2 7 5 1]...\n",
      "\n",
      "pop_size:[150], mutation_prob:[0.6], max_iters:[2048]\n",
      "runner_name:[ga], experiment_name:[example_experiment], attempt:[8], iteration:[8], done:[False], time:[0.24], fitness:[26.0000]\n",
      "\t[3 6 0 7 2 7 5 1]...\n",
      "\n",
      "pop_size:[150], mutation_prob:[0.6], max_iters:[2048]\n",
      "runner_name:[ga], experiment_name:[example_experiment], attempt:[7], iteration:[16], done:[False], time:[0.40], fitness:[28.0000]\n",
      "\t[3 6 2 7 1 4 0 5]...\n",
      "\n",
      "pop_size:[150], mutation_prob:[0.6], max_iters:[2048]\n",
      "runner_name:[ga], experiment_name:[example_experiment], attempt:[23], iteration:[32], done:[False], time:[0.70], fitness:[28.0000]\n",
      "\t[3 6 2 7 1 4 0 5]...\n",
      "\n",
      "pop_size:[150], mutation_prob:[0.6], max_iters:[2048]\n",
      "runner_name:[ga], experiment_name:[example_experiment], attempt:[55], iteration:[64], done:[False], time:[1.29], fitness:[28.0000]\n",
      "\t[3 6 2 7 1 4 0 5]...\n",
      "\n",
      "pop_size:[150], mutation_prob:[0.6], max_iters:[2048]\n",
      "runner_name:[ga], experiment_name:[example_experiment], attempt:[119], iteration:[128], done:[False], time:[2.30], fitness:[28.0000]\n",
      "\t[3 6 2 7 1 4 0 5]...\n",
      "\n",
      "pop_size:[150], mutation_prob:[0.6], max_iters:[2048]\n",
      "runner_name:[ga], experiment_name:[example_experiment], attempt:[247], iteration:[256], done:[False], time:[4.13], fitness:[28.0000]\n",
      "\t[3 6 2 7 1 4 0 5]...\n",
      "\n",
      "pop_size:[150], mutation_prob:[0.6], max_iters:[2048]\n",
      "runner_name:[ga], experiment_name:[example_experiment], attempt:[503], iteration:[512], done:[False], time:[8.12], fitness:[28.0000]\n",
      "\t[3 6 2 7 1 4 0 5]...\n",
      "\n",
      "pop_size:[150], mutation_prob:[0.6], max_iters:[2048]\n",
      "runner_name:[ga], experiment_name:[example_experiment], attempt:[1001], iteration:[1010], done:[True], time:[16.29], fitness:[28.0000]\n",
      "\t[3 6 2 7 1 4 0 5]...\n",
      "\n",
      "***************\n",
      "*** Run END ***\n",
      "***************\n",
      "*****************\n",
      "*** Run START ***\n",
      "*****************\n",
      "pop_size:[200], mutation_prob:[0.4], max_iters:[2048]\n",
      "runner_name:[ga], experiment_name:[example_experiment], attempt:[0], iteration:[0], done:[False], time:[0.01], fitness:[23.0000]\n",
      "\t[5 3 4 0 7 1 3 5]...\n",
      "\n",
      "pop_size:[200], mutation_prob:[0.4], max_iters:[2048]\n",
      "runner_name:[ga], experiment_name:[example_experiment], attempt:[1], iteration:[1], done:[False], time:[0.03], fitness:[26.0000]\n",
      "\t[0 4 5 1 6 3 7 2]...\n",
      "\n",
      "pop_size:[200], mutation_prob:[0.4], max_iters:[2048]\n",
      "runner_name:[ga], experiment_name:[example_experiment], attempt:[2], iteration:[2], done:[False], time:[0.08], fitness:[26.0000]\n",
      "\t[0 4 5 1 6 3 7 2]...\n",
      "\n"
     ]
    },
    {
     "name": "stdout",
     "output_type": "stream",
     "text": [
      "pop_size:[200], mutation_prob:[0.4], max_iters:[2048]\n",
      "runner_name:[ga], experiment_name:[example_experiment], attempt:[4], iteration:[4], done:[False], time:[0.14], fitness:[26.0000]\n",
      "\t[0 4 5 1 6 3 7 2]...\n",
      "\n",
      "pop_size:[200], mutation_prob:[0.4], max_iters:[2048]\n",
      "runner_name:[ga], experiment_name:[example_experiment], attempt:[1], iteration:[8], done:[False], time:[0.28], fitness:[28.0000]\n",
      "\t[4 0 7 5 2 6 1 3]...\n",
      "\n",
      "pop_size:[200], mutation_prob:[0.4], max_iters:[2048]\n",
      "runner_name:[ga], experiment_name:[example_experiment], attempt:[9], iteration:[16], done:[False], time:[0.49], fitness:[28.0000]\n",
      "\t[4 0 7 5 2 6 1 3]...\n",
      "\n",
      "pop_size:[200], mutation_prob:[0.4], max_iters:[2048]\n",
      "runner_name:[ga], experiment_name:[example_experiment], attempt:[25], iteration:[32], done:[False], time:[0.86], fitness:[28.0000]\n",
      "\t[4 0 7 5 2 6 1 3]...\n",
      "\n",
      "pop_size:[200], mutation_prob:[0.4], max_iters:[2048]\n",
      "runner_name:[ga], experiment_name:[example_experiment], attempt:[57], iteration:[64], done:[False], time:[1.58], fitness:[28.0000]\n",
      "\t[4 0 7 5 2 6 1 3]...\n",
      "\n",
      "pop_size:[200], mutation_prob:[0.4], max_iters:[2048]\n",
      "runner_name:[ga], experiment_name:[example_experiment], attempt:[121], iteration:[128], done:[False], time:[2.92], fitness:[28.0000]\n",
      "\t[4 0 7 5 2 6 1 3]...\n",
      "\n",
      "pop_size:[200], mutation_prob:[0.4], max_iters:[2048]\n",
      "runner_name:[ga], experiment_name:[example_experiment], attempt:[249], iteration:[256], done:[False], time:[6.17], fitness:[28.0000]\n",
      "\t[4 0 7 5 2 6 1 3]...\n",
      "\n",
      "pop_size:[200], mutation_prob:[0.4], max_iters:[2048]\n",
      "runner_name:[ga], experiment_name:[example_experiment], attempt:[505], iteration:[512], done:[False], time:[11.69], fitness:[28.0000]\n",
      "\t[4 0 7 5 2 6 1 3]...\n",
      "\n",
      "pop_size:[200], mutation_prob:[0.4], max_iters:[2048]\n",
      "runner_name:[ga], experiment_name:[example_experiment], attempt:[1001], iteration:[1008], done:[True], time:[22.26], fitness:[28.0000]\n",
      "\t[4 0 7 5 2 6 1 3]...\n",
      "\n",
      "***************\n",
      "*** Run END ***\n",
      "***************\n",
      "*****************\n",
      "*** Run START ***\n",
      "*****************\n",
      "pop_size:[200], mutation_prob:[0.5], max_iters:[2048]\n",
      "runner_name:[ga], experiment_name:[example_experiment], attempt:[0], iteration:[0], done:[False], time:[0.01], fitness:[23.0000]\n",
      "\t[5 3 4 0 7 1 3 5]...\n",
      "\n",
      "pop_size:[200], mutation_prob:[0.5], max_iters:[2048]\n",
      "runner_name:[ga], experiment_name:[example_experiment], attempt:[1], iteration:[1], done:[False], time:[0.03], fitness:[26.0000]\n",
      "\t[0 4 5 1 6 3 7 2]...\n",
      "\n",
      "pop_size:[200], mutation_prob:[0.5], max_iters:[2048]\n",
      "runner_name:[ga], experiment_name:[example_experiment], attempt:[2], iteration:[2], done:[False], time:[0.10], fitness:[26.0000]\n",
      "\t[0 4 5 1 6 3 7 2]...\n",
      "\n",
      "pop_size:[200], mutation_prob:[0.5], max_iters:[2048]\n",
      "runner_name:[ga], experiment_name:[example_experiment], attempt:[4], iteration:[4], done:[False], time:[0.21], fitness:[26.0000]\n",
      "\t[0 4 5 1 6 3 7 2]...\n",
      "\n",
      "pop_size:[200], mutation_prob:[0.5], max_iters:[2048]\n",
      "runner_name:[ga], experiment_name:[example_experiment], attempt:[1], iteration:[8], done:[False], time:[0.40], fitness:[27.0000]\n",
      "\t[3 6 0 5 1 4 7 7]...\n",
      "\n",
      "pop_size:[200], mutation_prob:[0.5], max_iters:[2048]\n",
      "runner_name:[ga], experiment_name:[example_experiment], attempt:[9], iteration:[16], done:[False], time:[0.73], fitness:[27.0000]\n",
      "\t[3 6 0 5 1 4 7 7]...\n",
      "\n",
      "pop_size:[200], mutation_prob:[0.5], max_iters:[2048]\n",
      "runner_name:[ga], experiment_name:[example_experiment], attempt:[6], iteration:[32], done:[False], time:[1.24], fitness:[28.0000]\n",
      "\t[2 5 7 0 4 6 1 3]...\n",
      "\n",
      "pop_size:[200], mutation_prob:[0.5], max_iters:[2048]\n",
      "runner_name:[ga], experiment_name:[example_experiment], attempt:[38], iteration:[64], done:[False], time:[2.12], fitness:[28.0000]\n",
      "\t[2 5 7 0 4 6 1 3]...\n",
      "\n",
      "pop_size:[200], mutation_prob:[0.5], max_iters:[2048]\n",
      "runner_name:[ga], experiment_name:[example_experiment], attempt:[102], iteration:[128], done:[False], time:[3.88], fitness:[28.0000]\n",
      "\t[2 5 7 0 4 6 1 3]...\n",
      "\n",
      "pop_size:[200], mutation_prob:[0.5], max_iters:[2048]\n",
      "runner_name:[ga], experiment_name:[example_experiment], attempt:[230], iteration:[256], done:[False], time:[7.01], fitness:[28.0000]\n",
      "\t[2 5 7 0 4 6 1 3]...\n",
      "\n",
      "pop_size:[200], mutation_prob:[0.5], max_iters:[2048]\n",
      "runner_name:[ga], experiment_name:[example_experiment], attempt:[486], iteration:[512], done:[False], time:[14.23], fitness:[28.0000]\n",
      "\t[2 5 7 0 4 6 1 3]...\n",
      "\n",
      "pop_size:[200], mutation_prob:[0.5], max_iters:[2048]\n",
      "runner_name:[ga], experiment_name:[example_experiment], attempt:[998], iteration:[1024], done:[False], time:[26.58], fitness:[28.0000]\n",
      "\t[2 5 7 0 4 6 1 3]...\n",
      "\n",
      "pop_size:[200], mutation_prob:[0.5], max_iters:[2048]\n",
      "runner_name:[ga], experiment_name:[example_experiment], attempt:[1001], iteration:[1027], done:[True], time:[26.74], fitness:[28.0000]\n",
      "\t[2 5 7 0 4 6 1 3]...\n",
      "\n",
      "***************\n",
      "*** Run END ***\n",
      "***************\n",
      "*****************\n",
      "*** Run START ***\n",
      "*****************\n",
      "pop_size:[200], mutation_prob:[0.6], max_iters:[2048]\n",
      "runner_name:[ga], experiment_name:[example_experiment], attempt:[0], iteration:[0], done:[False], time:[0.03], fitness:[23.0000]\n",
      "\t[5 3 4 0 7 1 3 5]...\n",
      "\n",
      "pop_size:[200], mutation_prob:[0.6], max_iters:[2048]\n",
      "runner_name:[ga], experiment_name:[example_experiment], attempt:[1], iteration:[1], done:[False], time:[0.09], fitness:[26.0000]\n",
      "\t[4 6 3 2 7 5 3 1]...\n",
      "\n",
      "pop_size:[200], mutation_prob:[0.6], max_iters:[2048]\n",
      "runner_name:[ga], experiment_name:[example_experiment], attempt:[2], iteration:[2], done:[False], time:[0.21], fitness:[26.0000]\n",
      "\t[4 6 3 2 7 5 3 1]...\n",
      "\n",
      "pop_size:[200], mutation_prob:[0.6], max_iters:[2048]\n",
      "runner_name:[ga], experiment_name:[example_experiment], attempt:[4], iteration:[4], done:[False], time:[0.40], fitness:[26.0000]\n",
      "\t[4 6 3 2 7 5 3 1]...\n",
      "\n",
      "pop_size:[200], mutation_prob:[0.6], max_iters:[2048]\n",
      "runner_name:[ga], experiment_name:[example_experiment], attempt:[3], iteration:[8], done:[False], time:[0.62], fitness:[27.0000]\n",
      "\t[4 2 0 3 6 2 5 1]...\n",
      "\n",
      "pop_size:[200], mutation_prob:[0.6], max_iters:[2048]\n",
      "runner_name:[ga], experiment_name:[example_experiment], attempt:[11], iteration:[16], done:[False], time:[1.03], fitness:[27.0000]\n",
      "\t[4 2 0 3 6 2 5 1]...\n",
      "\n",
      "pop_size:[200], mutation_prob:[0.6], max_iters:[2048]\n",
      "runner_name:[ga], experiment_name:[example_experiment], attempt:[27], iteration:[32], done:[False], time:[1.75], fitness:[27.0000]\n",
      "\t[4 2 0 3 6 2 5 1]...\n",
      "\n",
      "pop_size:[200], mutation_prob:[0.6], max_iters:[2048]\n",
      "runner_name:[ga], experiment_name:[example_experiment], attempt:[6], iteration:[64], done:[False], time:[3.28], fitness:[28.0000]\n",
      "\t[4 2 7 3 6 0 5 1]...\n",
      "\n",
      "pop_size:[200], mutation_prob:[0.6], max_iters:[2048]\n",
      "runner_name:[ga], experiment_name:[example_experiment], attempt:[70], iteration:[128], done:[False], time:[5.30], fitness:[28.0000]\n",
      "\t[4 2 7 3 6 0 5 1]...\n",
      "\n",
      "pop_size:[200], mutation_prob:[0.6], max_iters:[2048]\n",
      "runner_name:[ga], experiment_name:[example_experiment], attempt:[198], iteration:[256], done:[False], time:[8.84], fitness:[28.0000]\n",
      "\t[4 2 7 3 6 0 5 1]...\n",
      "\n",
      "pop_size:[200], mutation_prob:[0.6], max_iters:[2048]\n",
      "runner_name:[ga], experiment_name:[example_experiment], attempt:[454], iteration:[512], done:[False], time:[15.83], fitness:[28.0000]\n",
      "\t[4 2 7 3 6 0 5 1]...\n",
      "\n",
      "pop_size:[200], mutation_prob:[0.6], max_iters:[2048]\n",
      "runner_name:[ga], experiment_name:[example_experiment], attempt:[966], iteration:[1024], done:[False], time:[29.77], fitness:[28.0000]\n",
      "\t[4 2 7 3 6 0 5 1]...\n",
      "\n",
      "pop_size:[200], mutation_prob:[0.6], max_iters:[2048]\n",
      "runner_name:[ga], experiment_name:[example_experiment], attempt:[1001], iteration:[1059], done:[True], time:[30.87], fitness:[28.0000]\n",
      "\t[4 2 7 3 6 0 5 1]...\n",
      "\n",
      "***************\n",
      "*** Run END ***\n",
      "***************\n",
      "*****************\n",
      "*** Run START ***\n",
      "*****************\n",
      "pop_size:[300], mutation_prob:[0.4], max_iters:[2048]\n",
      "runner_name:[ga], experiment_name:[example_experiment], attempt:[0], iteration:[0], done:[False], time:[0.03], fitness:[23.0000]\n",
      "\t[5 3 4 0 7 1 3 5]...\n",
      "\n",
      "pop_size:[300], mutation_prob:[0.4], max_iters:[2048]\n",
      "runner_name:[ga], experiment_name:[example_experiment], attempt:[1], iteration:[1], done:[False], time:[0.09], fitness:[26.0000]\n",
      "\t[5 7 4 0 3 6 2 7]...\n",
      "\n",
      "pop_size:[300], mutation_prob:[0.4], max_iters:[2048]\n",
      "runner_name:[ga], experiment_name:[example_experiment], attempt:[2], iteration:[2], done:[False], time:[0.33], fitness:[26.0000]\n",
      "\t[5 7 4 0 3 6 2 7]...\n",
      "\n"
     ]
    },
    {
     "name": "stdout",
     "output_type": "stream",
     "text": [
      "pop_size:[300], mutation_prob:[0.4], max_iters:[2048]\n",
      "runner_name:[ga], experiment_name:[example_experiment], attempt:[4], iteration:[4], done:[False], time:[0.57], fitness:[26.0000]\n",
      "\t[5 7 4 0 3 6 2 7]...\n",
      "\n",
      "pop_size:[300], mutation_prob:[0.4], max_iters:[2048]\n",
      "runner_name:[ga], experiment_name:[example_experiment], attempt:[8], iteration:[8], done:[False], time:[0.96], fitness:[26.0000]\n",
      "\t[5 7 4 0 3 6 2 7]...\n",
      "\n",
      "pop_size:[300], mutation_prob:[0.4], max_iters:[2048]\n",
      "runner_name:[ga], experiment_name:[example_experiment], attempt:[6], iteration:[16], done:[False], time:[1.57], fitness:[27.0000]\n",
      "\t[1 4 4 7 0 3 6 2]...\n",
      "\n",
      "pop_size:[300], mutation_prob:[0.4], max_iters:[2048]\n",
      "runner_name:[ga], experiment_name:[example_experiment], attempt:[5], iteration:[32], done:[False], time:[2.59], fitness:[28.0000]\n",
      "\t[1 6 4 7 0 3 5 2]...\n",
      "\n",
      "pop_size:[300], mutation_prob:[0.4], max_iters:[2048]\n",
      "runner_name:[ga], experiment_name:[example_experiment], attempt:[37], iteration:[64], done:[False], time:[4.47], fitness:[28.0000]\n",
      "\t[1 6 4 7 0 3 5 2]...\n",
      "\n",
      "pop_size:[300], mutation_prob:[0.4], max_iters:[2048]\n",
      "runner_name:[ga], experiment_name:[example_experiment], attempt:[101], iteration:[128], done:[False], time:[8.10], fitness:[28.0000]\n",
      "\t[1 6 4 7 0 3 5 2]...\n",
      "\n",
      "pop_size:[300], mutation_prob:[0.4], max_iters:[2048]\n",
      "runner_name:[ga], experiment_name:[example_experiment], attempt:[229], iteration:[256], done:[False], time:[15.20], fitness:[28.0000]\n",
      "\t[1 6 4 7 0 3 5 2]...\n",
      "\n",
      "pop_size:[300], mutation_prob:[0.4], max_iters:[2048]\n",
      "runner_name:[ga], experiment_name:[example_experiment], attempt:[485], iteration:[512], done:[False], time:[34.90], fitness:[28.0000]\n",
      "\t[1 6 4 7 0 3 5 2]...\n",
      "\n",
      "pop_size:[300], mutation_prob:[0.4], max_iters:[2048]\n",
      "runner_name:[ga], experiment_name:[example_experiment], attempt:[997], iteration:[1024], done:[False], time:[59.72], fitness:[28.0000]\n",
      "\t[1 6 4 7 0 3 5 2]...\n",
      "\n",
      "pop_size:[300], mutation_prob:[0.4], max_iters:[2048]\n",
      "runner_name:[ga], experiment_name:[example_experiment], attempt:[1001], iteration:[1028], done:[True], time:[60.00], fitness:[28.0000]\n",
      "\t[1 6 4 7 0 3 5 2]...\n",
      "\n",
      "***************\n",
      "*** Run END ***\n",
      "***************\n",
      "*****************\n",
      "*** Run START ***\n",
      "*****************\n",
      "pop_size:[300], mutation_prob:[0.5], max_iters:[2048]\n",
      "runner_name:[ga], experiment_name:[example_experiment], attempt:[0], iteration:[0], done:[False], time:[0.03], fitness:[23.0000]\n",
      "\t[5 3 4 0 7 1 3 5]...\n",
      "\n",
      "pop_size:[300], mutation_prob:[0.5], max_iters:[2048]\n",
      "runner_name:[ga], experiment_name:[example_experiment], attempt:[1], iteration:[1], done:[False], time:[0.14], fitness:[26.0000]\n",
      "\t[5 7 4 0 3 6 2 7]...\n",
      "\n",
      "pop_size:[300], mutation_prob:[0.5], max_iters:[2048]\n",
      "runner_name:[ga], experiment_name:[example_experiment], attempt:[1], iteration:[2], done:[False], time:[0.34], fitness:[27.0000]\n",
      "\t[3 6 0 7 5 7 2 4]...\n",
      "\n",
      "pop_size:[300], mutation_prob:[0.5], max_iters:[2048]\n",
      "runner_name:[ga], experiment_name:[example_experiment], attempt:[3], iteration:[4], done:[False], time:[0.63], fitness:[27.0000]\n",
      "\t[3 6 0 7 5 7 2 4]...\n",
      "\n",
      "pop_size:[300], mutation_prob:[0.5], max_iters:[2048]\n",
      "runner_name:[ga], experiment_name:[example_experiment], attempt:[7], iteration:[8], done:[False], time:[1.05], fitness:[27.0000]\n",
      "\t[3 6 0 7 5 7 2 4]...\n",
      "\n",
      "pop_size:[300], mutation_prob:[0.5], max_iters:[2048]\n",
      "runner_name:[ga], experiment_name:[example_experiment], attempt:[15], iteration:[16], done:[False], time:[1.71], fitness:[27.0000]\n",
      "\t[3 6 0 7 5 7 2 4]...\n",
      "\n",
      "pop_size:[300], mutation_prob:[0.5], max_iters:[2048]\n",
      "runner_name:[ga], experiment_name:[example_experiment], attempt:[31], iteration:[32], done:[False], time:[2.73], fitness:[27.0000]\n",
      "\t[3 6 0 7 5 7 2 4]...\n",
      "\n",
      "pop_size:[300], mutation_prob:[0.5], max_iters:[2048]\n",
      "runner_name:[ga], experiment_name:[example_experiment], attempt:[27], iteration:[64], done:[False], time:[4.47], fitness:[28.0000]\n",
      "\t[2 6 1 7 4 0 3 5]...\n",
      "\n",
      "pop_size:[300], mutation_prob:[0.5], max_iters:[2048]\n",
      "runner_name:[ga], experiment_name:[example_experiment], attempt:[91], iteration:[128], done:[False], time:[7.77], fitness:[28.0000]\n",
      "\t[2 6 1 7 4 0 3 5]...\n",
      "\n",
      "pop_size:[300], mutation_prob:[0.5], max_iters:[2048]\n",
      "runner_name:[ga], experiment_name:[example_experiment], attempt:[219], iteration:[256], done:[False], time:[13.41], fitness:[28.0000]\n",
      "\t[2 6 1 7 4 0 3 5]...\n",
      "\n",
      "pop_size:[300], mutation_prob:[0.5], max_iters:[2048]\n",
      "runner_name:[ga], experiment_name:[example_experiment], attempt:[475], iteration:[512], done:[False], time:[24.64], fitness:[28.0000]\n",
      "\t[2 6 1 7 4 0 3 5]...\n",
      "\n",
      "pop_size:[300], mutation_prob:[0.5], max_iters:[2048]\n",
      "runner_name:[ga], experiment_name:[example_experiment], attempt:[987], iteration:[1024], done:[False], time:[47.60], fitness:[28.0000]\n",
      "\t[2 6 1 7 4 0 3 5]...\n",
      "\n",
      "pop_size:[300], mutation_prob:[0.5], max_iters:[2048]\n",
      "runner_name:[ga], experiment_name:[example_experiment], attempt:[1001], iteration:[1038], done:[True], time:[48.22], fitness:[28.0000]\n",
      "\t[2 6 1 7 4 0 3 5]...\n",
      "\n",
      "***************\n",
      "*** Run END ***\n",
      "***************\n",
      "*****************\n",
      "*** Run START ***\n",
      "*****************\n",
      "pop_size:[300], mutation_prob:[0.6], max_iters:[2048]\n",
      "runner_name:[ga], experiment_name:[example_experiment], attempt:[0], iteration:[0], done:[False], time:[0.02], fitness:[23.0000]\n",
      "\t[5 3 4 0 7 1 3 5]...\n",
      "\n",
      "pop_size:[300], mutation_prob:[0.6], max_iters:[2048]\n",
      "runner_name:[ga], experiment_name:[example_experiment], attempt:[1], iteration:[1], done:[False], time:[0.06], fitness:[26.0000]\n",
      "\t[3 6 0 7 2 7 5 1]...\n",
      "\n",
      "pop_size:[300], mutation_prob:[0.6], max_iters:[2048]\n",
      "runner_name:[ga], experiment_name:[example_experiment], attempt:[2], iteration:[2], done:[False], time:[0.27], fitness:[26.0000]\n",
      "\t[3 6 0 7 2 7 5 1]...\n",
      "\n",
      "pop_size:[300], mutation_prob:[0.6], max_iters:[2048]\n",
      "runner_name:[ga], experiment_name:[example_experiment], attempt:[2], iteration:[4], done:[False], time:[0.45], fitness:[28.0000]\n",
      "\t[6 2 7 1 4 0 5 3]...\n",
      "\n",
      "pop_size:[300], mutation_prob:[0.6], max_iters:[2048]\n",
      "runner_name:[ga], experiment_name:[example_experiment], attempt:[6], iteration:[8], done:[False], time:[0.73], fitness:[28.0000]\n",
      "\t[6 2 7 1 4 0 5 3]...\n",
      "\n",
      "pop_size:[300], mutation_prob:[0.6], max_iters:[2048]\n",
      "runner_name:[ga], experiment_name:[example_experiment], attempt:[14], iteration:[16], done:[False], time:[1.18], fitness:[28.0000]\n",
      "\t[6 2 7 1 4 0 5 3]...\n",
      "\n",
      "pop_size:[300], mutation_prob:[0.6], max_iters:[2048]\n",
      "runner_name:[ga], experiment_name:[example_experiment], attempt:[30], iteration:[32], done:[False], time:[2.20], fitness:[28.0000]\n",
      "\t[6 2 7 1 4 0 5 3]...\n",
      "\n",
      "pop_size:[300], mutation_prob:[0.6], max_iters:[2048]\n",
      "runner_name:[ga], experiment_name:[example_experiment], attempt:[62], iteration:[64], done:[False], time:[4.65], fitness:[28.0000]\n",
      "\t[6 2 7 1 4 0 5 3]...\n",
      "\n",
      "pop_size:[300], mutation_prob:[0.6], max_iters:[2048]\n",
      "runner_name:[ga], experiment_name:[example_experiment], attempt:[126], iteration:[128], done:[False], time:[8.23], fitness:[28.0000]\n",
      "\t[6 2 7 1 4 0 5 3]...\n",
      "\n",
      "pop_size:[300], mutation_prob:[0.6], max_iters:[2048]\n",
      "runner_name:[ga], experiment_name:[example_experiment], attempt:[254], iteration:[256], done:[False], time:[15.04], fitness:[28.0000]\n",
      "\t[6 2 7 1 4 0 5 3]...\n",
      "\n",
      "pop_size:[300], mutation_prob:[0.6], max_iters:[2048]\n",
      "runner_name:[ga], experiment_name:[example_experiment], attempt:[510], iteration:[512], done:[False], time:[25.36], fitness:[28.0000]\n",
      "\t[6 2 7 1 4 0 5 3]...\n",
      "\n",
      "pop_size:[300], mutation_prob:[0.6], max_iters:[2048]\n",
      "runner_name:[ga], experiment_name:[example_experiment], attempt:[1001], iteration:[1003], done:[True], time:[45.00], fitness:[28.0000]\n",
      "\t[6 2 7 1 4 0 5 3]...\n",
      "\n",
      "***************\n",
      "*** Run END ***\n",
      "***************\n",
      "Run time: 283.26941469999974\n",
      "Saving: [output\\example_experiment\\ga__example_experiment__run_stats_df.csv]\n",
      "Saving: [output\\example_experiment\\ga__example_experiment__curves_df.csv]\n"
     ]
    }
   ],
   "source": [
    "from mlrose_hiive.runners import GARunner\n",
    "\n",
    "experiment_name = 'example_experiment'\n",
    "ga = GARunner(problem=problem_cust,\n",
    "              experiment_name=experiment_name,\n",
    "              output_directory=OUTPUT_DIRECTORY,\n",
    "              seed=SEED,\n",
    "              iteration_list=2 ** np.arange(12),\n",
    "              max_attempts=1000,\n",
    "              population_sizes=[150, 200, 300],\n",
    "              mutation_rates=[0.4, 0.5, 0.6])\n",
    "\n",
    "# the two data frames will contain the results\n",
    "df_run_stats, df_run_curves = ga.run()   "
   ]
  },
  {
   "cell_type": "code",
   "execution_count": 392,
   "metadata": {
    "scrolled": true
   },
   "outputs": [
    {
     "name": "stdout",
     "output_type": "stream",
     "text": [
      "Running ga\n",
      "*****************\n",
      "*** Run START ***\n",
      "*****************\n",
      "pop_size:[150], mutation_prob:[0.4], max_iters:[2048]\n",
      "runner_name:[ga], experiment_name:[example_experiment], attempt:[0], iteration:[0], done:[False], time:[0.02], fitness:[23.0000]\n",
      "\t[5 3 4 0 7 1 3 5]...\n",
      "\n",
      "pop_size:[150], mutation_prob:[0.4], max_iters:[2048]\n",
      "runner_name:[ga], experiment_name:[example_experiment], attempt:[1], iteration:[1], done:[False], time:[0.05], fitness:[26.0000]\n",
      "\t[3 6 0 7 2 7 5 1]...\n",
      "\n",
      "pop_size:[150], mutation_prob:[0.4], max_iters:[2048]\n",
      "runner_name:[ga], experiment_name:[example_experiment], attempt:[2], iteration:[2], done:[False], time:[0.13], fitness:[26.0000]\n",
      "\t[3 6 0 7 2 7 5 1]...\n",
      "\n",
      "pop_size:[150], mutation_prob:[0.4], max_iters:[2048]\n",
      "runner_name:[ga], experiment_name:[example_experiment], attempt:[4], iteration:[4], done:[False], time:[0.22], fitness:[26.0000]\n",
      "\t[3 6 0 7 2 7 5 1]...\n",
      "\n",
      "pop_size:[150], mutation_prob:[0.4], max_iters:[2048]\n",
      "runner_name:[ga], experiment_name:[example_experiment], attempt:[8], iteration:[8], done:[False], time:[0.38], fitness:[26.0000]\n",
      "\t[3 6 0 7 2 7 5 1]...\n",
      "\n",
      "pop_size:[150], mutation_prob:[0.4], max_iters:[2048]\n",
      "runner_name:[ga], experiment_name:[example_experiment], attempt:[7], iteration:[16], done:[False], time:[0.72], fitness:[27.0000]\n",
      "\t[3 1 7 2 0 6 4 1]...\n",
      "\n",
      "pop_size:[150], mutation_prob:[0.4], max_iters:[2048]\n",
      "runner_name:[ga], experiment_name:[example_experiment], attempt:[23], iteration:[32], done:[False], time:[1.51], fitness:[27.0000]\n",
      "\t[3 1 7 2 0 6 4 1]...\n",
      "\n",
      "pop_size:[150], mutation_prob:[0.4], max_iters:[2048]\n",
      "runner_name:[ga], experiment_name:[example_experiment], attempt:[32], iteration:[64], done:[False], time:[3.41], fitness:[28.0000]\n",
      "\t[3 1 6 2 5 7 4 0]...\n",
      "\n",
      "pop_size:[150], mutation_prob:[0.4], max_iters:[2048]\n",
      "runner_name:[ga], experiment_name:[example_experiment], attempt:[96], iteration:[128], done:[False], time:[7.11], fitness:[28.0000]\n",
      "\t[3 1 6 2 5 7 4 0]...\n",
      "\n",
      "pop_size:[150], mutation_prob:[0.4], max_iters:[2048]\n",
      "runner_name:[ga], experiment_name:[example_experiment], attempt:[224], iteration:[256], done:[False], time:[13.91], fitness:[28.0000]\n",
      "\t[3 1 6 2 5 7 4 0]...\n",
      "\n",
      "pop_size:[150], mutation_prob:[0.4], max_iters:[2048]\n",
      "runner_name:[ga], experiment_name:[example_experiment], attempt:[480], iteration:[512], done:[False], time:[27.66], fitness:[28.0000]\n",
      "\t[3 1 6 2 5 7 4 0]...\n",
      "\n",
      "pop_size:[150], mutation_prob:[0.4], max_iters:[2048]\n",
      "runner_name:[ga], experiment_name:[example_experiment], attempt:[992], iteration:[1024], done:[False], time:[48.65], fitness:[28.0000]\n",
      "\t[3 1 6 2 5 7 4 0]...\n",
      "\n",
      "pop_size:[150], mutation_prob:[0.4], max_iters:[2048]\n",
      "runner_name:[ga], experiment_name:[example_experiment], attempt:[1001], iteration:[1033], done:[True], time:[48.99], fitness:[28.0000]\n",
      "\t[3 1 6 2 5 7 4 0]...\n",
      "\n",
      "***************\n",
      "*** Run END ***\n",
      "***************\n",
      "Run time: 49.03552050000144\n",
      "Saving: [output\\example_experiment\\ga__example_experiment__run_stats_df.csv]\n",
      "Saving: [output\\example_experiment\\ga__example_experiment__curves_df.csv]\n"
     ]
    }
   ],
   "source": [
    "from mlrose_hiive.runners import GARunner\n",
    "\n",
    "experiment_name = 'example_experiment'\n",
    "ga = GARunner(problem=problem_cust,\n",
    "              experiment_name=experiment_name,\n",
    "              output_directory=OUTPUT_DIRECTORY,\n",
    "              seed=SEED,\n",
    "              iteration_list=2 ** np.arange(12),\n",
    "              max_attempts=1000,\n",
    "              population_sizes=[150],\n",
    "              mutation_rates=[0.4])\n",
    "\n",
    "# the two data frames will contain the results\n",
    "df_run_stats, df_run_curves = ga.run()   "
   ]
  },
  {
   "cell_type": "code",
   "execution_count": 62,
   "metadata": {},
   "outputs": [
    {
     "data": {
      "text/html": [
       "<div>\n",
       "<style scoped>\n",
       "    .dataframe tbody tr th:only-of-type {\n",
       "        vertical-align: middle;\n",
       "    }\n",
       "\n",
       "    .dataframe tbody tr th {\n",
       "        vertical-align: top;\n",
       "    }\n",
       "\n",
       "    .dataframe thead th {\n",
       "        text-align: right;\n",
       "    }\n",
       "</style>\n",
       "<table border=\"1\" class=\"dataframe\">\n",
       "  <thead>\n",
       "    <tr style=\"text-align: right;\">\n",
       "      <th></th>\n",
       "      <th>Iteration</th>\n",
       "      <th>Time</th>\n",
       "      <th>Fitness</th>\n",
       "      <th>Population Size</th>\n",
       "      <th>Mutation Rate</th>\n",
       "      <th>max_iters</th>\n",
       "    </tr>\n",
       "  </thead>\n",
       "  <tbody>\n",
       "    <tr>\n",
       "      <td>0</td>\n",
       "      <td>0</td>\n",
       "      <td>0.016922</td>\n",
       "      <td>26.0</td>\n",
       "      <td>150</td>\n",
       "      <td>0.4</td>\n",
       "      <td>2048</td>\n",
       "    </tr>\n",
       "    <tr>\n",
       "      <td>1</td>\n",
       "      <td>1</td>\n",
       "      <td>0.058788</td>\n",
       "      <td>26.0</td>\n",
       "      <td>150</td>\n",
       "      <td>0.4</td>\n",
       "      <td>2048</td>\n",
       "    </tr>\n",
       "    <tr>\n",
       "      <td>2</td>\n",
       "      <td>2</td>\n",
       "      <td>0.117194</td>\n",
       "      <td>26.0</td>\n",
       "      <td>150</td>\n",
       "      <td>0.4</td>\n",
       "      <td>2048</td>\n",
       "    </tr>\n",
       "    <tr>\n",
       "      <td>3</td>\n",
       "      <td>3</td>\n",
       "      <td>0.144888</td>\n",
       "      <td>26.0</td>\n",
       "      <td>150</td>\n",
       "      <td>0.4</td>\n",
       "      <td>2048</td>\n",
       "    </tr>\n",
       "    <tr>\n",
       "      <td>4</td>\n",
       "      <td>4</td>\n",
       "      <td>0.196347</td>\n",
       "      <td>26.0</td>\n",
       "      <td>150</td>\n",
       "      <td>0.4</td>\n",
       "      <td>2048</td>\n",
       "    </tr>\n",
       "  </tbody>\n",
       "</table>\n",
       "</div>"
      ],
      "text/plain": [
       "   Iteration      Time  Fitness  Population Size  Mutation Rate  max_iters\n",
       "0          0  0.016922     26.0              150            0.4       2048\n",
       "1          1  0.058788     26.0              150            0.4       2048\n",
       "2          2  0.117194     26.0              150            0.4       2048\n",
       "3          3  0.144888     26.0              150            0.4       2048\n",
       "4          4  0.196347     26.0              150            0.4       2048"
      ]
     },
     "execution_count": 62,
     "metadata": {},
     "output_type": "execute_result"
    }
   ],
   "source": [
    "df_run_curves.head()"
   ]
  },
  {
   "cell_type": "code",
   "execution_count": 66,
   "metadata": {},
   "outputs": [
    {
     "data": {
      "text/plain": [
       "0.4"
      ]
     },
     "execution_count": 66,
     "metadata": {},
     "output_type": "execute_result"
    }
   ],
   "source": [
    "df_run_curves['Mutation Rate'].iloc[0]"
   ]
  },
  {
   "cell_type": "code",
   "execution_count": 77,
   "metadata": {},
   "outputs": [
    {
     "data": {
      "text/plain": [
       "[<matplotlib.lines.Line2D at 0x19d364d0448>]"
      ]
     },
     "execution_count": 77,
     "metadata": {},
     "output_type": "execute_result"
    },
    {
     "data": {
      "image/png": "[encoded data removed]",
      "text/plain": [
       "<Figure size 432x288 with 1 Axes>"
      ]
     },
     "metadata": {
      "needs_background": "light"
     },
     "output_type": "display_data"
    }
   ],
   "source": [
    "plt.plot(df_run_curves[(df_run_curves['Population Size']==150) & (df_run_curves['Mutation Rate']==0.4)].Fitness)"
   ]
  },
  {
   "cell_type": "code",
   "execution_count": 78,
   "metadata": {},
   "outputs": [
    {
     "data": {
      "text/plain": [
       "Iteration          1032.000000\n",
       "Time                 17.015993\n",
       "Fitness              28.000000\n",
       "Population Size     150.000000\n",
       "Mutation Rate         0.400000\n",
       "max_iters          2048.000000\n",
       "Name: 1032, dtype: float64"
      ]
     },
     "execution_count": 78,
     "metadata": {},
     "output_type": "execute_result"
    }
   ],
   "source": [
    "df_run_curves[(df_run_curves['Population Size']==150) & (df_run_curves['Mutation Rate']==0.4)].iloc[-1]"
   ]
  },
  {
   "cell_type": "code",
   "execution_count": 92,
   "metadata": {},
   "outputs": [
    {
     "data": {
      "text/html": [
       "<div>\n",
       "<style scoped>\n",
       "    .dataframe tbody tr th:only-of-type {\n",
       "        vertical-align: middle;\n",
       "    }\n",
       "\n",
       "    .dataframe tbody tr th {\n",
       "        vertical-align: top;\n",
       "    }\n",
       "\n",
       "    .dataframe thead th {\n",
       "        text-align: right;\n",
       "    }\n",
       "</style>\n",
       "<table border=\"1\" class=\"dataframe\">\n",
       "  <thead>\n",
       "    <tr style=\"text-align: right;\">\n",
       "      <th></th>\n",
       "      <th></th>\n",
       "      <th>Time</th>\n",
       "      <th>Fitness</th>\n",
       "    </tr>\n",
       "    <tr>\n",
       "      <th>Population Size</th>\n",
       "      <th>Mutation Rate</th>\n",
       "      <th></th>\n",
       "      <th></th>\n",
       "    </tr>\n",
       "  </thead>\n",
       "  <tbody>\n",
       "    <tr>\n",
       "      <td rowspan=\"3\" valign=\"top\">150</td>\n",
       "      <td>0.4</td>\n",
       "      <td>52.361090</td>\n",
       "      <td>349.0</td>\n",
       "    </tr>\n",
       "    <tr>\n",
       "      <td>0.5</td>\n",
       "      <td>50.628644</td>\n",
       "      <td>350.0</td>\n",
       "    </tr>\n",
       "    <tr>\n",
       "      <td>0.6</td>\n",
       "      <td>50.008105</td>\n",
       "      <td>351.0</td>\n",
       "    </tr>\n",
       "    <tr>\n",
       "      <td rowspan=\"3\" valign=\"top\">200</td>\n",
       "      <td>0.4</td>\n",
       "      <td>68.766307</td>\n",
       "      <td>353.0</td>\n",
       "    </tr>\n",
       "    <tr>\n",
       "      <td>0.5</td>\n",
       "      <td>83.283506</td>\n",
       "      <td>351.0</td>\n",
       "    </tr>\n",
       "    <tr>\n",
       "      <td>0.6</td>\n",
       "      <td>98.020604</td>\n",
       "      <td>350.0</td>\n",
       "    </tr>\n",
       "    <tr>\n",
       "      <td rowspan=\"3\" valign=\"top\">300</td>\n",
       "      <td>0.4</td>\n",
       "      <td>188.548670</td>\n",
       "      <td>350.0</td>\n",
       "    </tr>\n",
       "    <tr>\n",
       "      <td>0.5</td>\n",
       "      <td>152.740487</td>\n",
       "      <td>352.0</td>\n",
       "    </tr>\n",
       "    <tr>\n",
       "      <td>0.6</td>\n",
       "      <td>148.184451</td>\n",
       "      <td>355.0</td>\n",
       "    </tr>\n",
       "  </tbody>\n",
       "</table>\n",
       "</div>"
      ],
      "text/plain": [
       "                                     Time  Fitness\n",
       "Population Size Mutation Rate                     \n",
       "150             0.4             52.361090    349.0\n",
       "                0.5             50.628644    350.0\n",
       "                0.6             50.008105    351.0\n",
       "200             0.4             68.766307    353.0\n",
       "                0.5             83.283506    351.0\n",
       "                0.6             98.020604    350.0\n",
       "300             0.4            188.548670    350.0\n",
       "                0.5            152.740487    352.0\n",
       "                0.6            148.184451    355.0"
      ]
     },
     "execution_count": 92,
     "metadata": {},
     "output_type": "execute_result"
    }
   ],
   "source": [
    "df_run_stats.groupby(['Population Size','Mutation Rate'])['Time','Fitness'].sum()"
   ]
  },
  {
   "cell_type": "code",
   "execution_count": 93,
   "metadata": {
    "scrolled": true
   },
   "outputs": [
    {
     "data": {
      "text/html": [
       "<div>\n",
       "<style scoped>\n",
       "    .dataframe tbody tr th:only-of-type {\n",
       "        vertical-align: middle;\n",
       "    }\n",
       "\n",
       "    .dataframe tbody tr th {\n",
       "        vertical-align: top;\n",
       "    }\n",
       "\n",
       "    .dataframe thead th {\n",
       "        text-align: right;\n",
       "    }\n",
       "</style>\n",
       "<table border=\"1\" class=\"dataframe\">\n",
       "  <thead>\n",
       "    <tr style=\"text-align: right;\">\n",
       "      <th></th>\n",
       "      <th></th>\n",
       "      <th>Time</th>\n",
       "      <th>Fitness</th>\n",
       "    </tr>\n",
       "    <tr>\n",
       "      <th>Population Size</th>\n",
       "      <th>Mutation Rate</th>\n",
       "      <th></th>\n",
       "      <th></th>\n",
       "    </tr>\n",
       "  </thead>\n",
       "  <tbody>\n",
       "    <tr>\n",
       "      <td rowspan=\"3\" valign=\"top\">150</td>\n",
       "      <td>0.4</td>\n",
       "      <td>17.031234</td>\n",
       "      <td>28.0</td>\n",
       "    </tr>\n",
       "    <tr>\n",
       "      <td>0.5</td>\n",
       "      <td>16.149241</td>\n",
       "      <td>28.0</td>\n",
       "    </tr>\n",
       "    <tr>\n",
       "      <td>0.6</td>\n",
       "      <td>16.293670</td>\n",
       "      <td>28.0</td>\n",
       "    </tr>\n",
       "    <tr>\n",
       "      <td rowspan=\"3\" valign=\"top\">200</td>\n",
       "      <td>0.4</td>\n",
       "      <td>22.258415</td>\n",
       "      <td>28.0</td>\n",
       "    </tr>\n",
       "    <tr>\n",
       "      <td>0.5</td>\n",
       "      <td>26.736798</td>\n",
       "      <td>28.0</td>\n",
       "    </tr>\n",
       "    <tr>\n",
       "      <td>0.6</td>\n",
       "      <td>30.870644</td>\n",
       "      <td>28.0</td>\n",
       "    </tr>\n",
       "    <tr>\n",
       "      <td rowspan=\"3\" valign=\"top\">300</td>\n",
       "      <td>0.4</td>\n",
       "      <td>60.001268</td>\n",
       "      <td>28.0</td>\n",
       "    </tr>\n",
       "    <tr>\n",
       "      <td>0.5</td>\n",
       "      <td>48.221579</td>\n",
       "      <td>28.0</td>\n",
       "    </tr>\n",
       "    <tr>\n",
       "      <td>0.6</td>\n",
       "      <td>44.995372</td>\n",
       "      <td>28.0</td>\n",
       "    </tr>\n",
       "  </tbody>\n",
       "</table>\n",
       "</div>"
      ],
      "text/plain": [
       "                                    Time  Fitness\n",
       "Population Size Mutation Rate                    \n",
       "150             0.4            17.031234     28.0\n",
       "                0.5            16.149241     28.0\n",
       "                0.6            16.293670     28.0\n",
       "200             0.4            22.258415     28.0\n",
       "                0.5            26.736798     28.0\n",
       "                0.6            30.870644     28.0\n",
       "300             0.4            60.001268     28.0\n",
       "                0.5            48.221579     28.0\n",
       "                0.6            44.995372     28.0"
      ]
     },
     "execution_count": 93,
     "metadata": {},
     "output_type": "execute_result"
    }
   ],
   "source": [
    "df_run_stats.groupby(['Population Size','Mutation Rate'])['Time','Fitness'].max()"
   ]
  },
  {
   "cell_type": "code",
   "execution_count": 94,
   "metadata": {
    "scrolled": true
   },
   "outputs": [
    {
     "data": {
      "text/html": [
       "<div>\n",
       "<style scoped>\n",
       "    .dataframe tbody tr th:only-of-type {\n",
       "        vertical-align: middle;\n",
       "    }\n",
       "\n",
       "    .dataframe tbody tr th {\n",
       "        vertical-align: top;\n",
       "    }\n",
       "\n",
       "    .dataframe thead th {\n",
       "        text-align: right;\n",
       "    }\n",
       "</style>\n",
       "<table border=\"1\" class=\"dataframe\">\n",
       "  <thead>\n",
       "    <tr style=\"text-align: right;\">\n",
       "      <th></th>\n",
       "      <th>Iteration</th>\n",
       "      <th>Time</th>\n",
       "      <th>Fitness</th>\n",
       "      <th>Population Size</th>\n",
       "      <th>Mutation Rate</th>\n",
       "      <th>max_iters</th>\n",
       "    </tr>\n",
       "  </thead>\n",
       "  <tbody>\n",
       "    <tr>\n",
       "      <td>0</td>\n",
       "      <td>0</td>\n",
       "      <td>0.016922</td>\n",
       "      <td>26.0</td>\n",
       "      <td>150</td>\n",
       "      <td>0.4</td>\n",
       "      <td>2048</td>\n",
       "    </tr>\n",
       "    <tr>\n",
       "      <td>1</td>\n",
       "      <td>1</td>\n",
       "      <td>0.058788</td>\n",
       "      <td>26.0</td>\n",
       "      <td>150</td>\n",
       "      <td>0.4</td>\n",
       "      <td>2048</td>\n",
       "    </tr>\n",
       "    <tr>\n",
       "      <td>2</td>\n",
       "      <td>2</td>\n",
       "      <td>0.117194</td>\n",
       "      <td>26.0</td>\n",
       "      <td>150</td>\n",
       "      <td>0.4</td>\n",
       "      <td>2048</td>\n",
       "    </tr>\n",
       "    <tr>\n",
       "      <td>3</td>\n",
       "      <td>3</td>\n",
       "      <td>0.144888</td>\n",
       "      <td>26.0</td>\n",
       "      <td>150</td>\n",
       "      <td>0.4</td>\n",
       "      <td>2048</td>\n",
       "    </tr>\n",
       "    <tr>\n",
       "      <td>4</td>\n",
       "      <td>4</td>\n",
       "      <td>0.196347</td>\n",
       "      <td>26.0</td>\n",
       "      <td>150</td>\n",
       "      <td>0.4</td>\n",
       "      <td>2048</td>\n",
       "    </tr>\n",
       "  </tbody>\n",
       "</table>\n",
       "</div>"
      ],
      "text/plain": [
       "   Iteration      Time  Fitness  Population Size  Mutation Rate  max_iters\n",
       "0          0  0.016922     26.0              150            0.4       2048\n",
       "1          1  0.058788     26.0              150            0.4       2048\n",
       "2          2  0.117194     26.0              150            0.4       2048\n",
       "3          3  0.144888     26.0              150            0.4       2048\n",
       "4          4  0.196347     26.0              150            0.4       2048"
      ]
     },
     "execution_count": 94,
     "metadata": {},
     "output_type": "execute_result"
    }
   ],
   "source": [
    "df_run_curves.head()"
   ]
  },
  {
   "cell_type": "code",
   "execution_count": 38,
   "metadata": {},
   "outputs": [],
   "source": [
    "# Solve using genetic algorithm\n",
    "evaluations = []\n",
    "best_state, best_fitness, fitness_curve_ga,time_curve_ga = mlrose_hiive.genetic_alg(problem_cust, mutation_prob = 0.6,\n",
    "                                                                      pop_size= 300,\n",
    "                                                                       max_attempts = 100, \n",
    "                                              random_state = 2,curve=True)\n"
   ]
  },
  {
   "cell_type": "code",
   "execution_count": 39,
   "metadata": {},
   "outputs": [
    {
     "data": {
      "text/plain": [
       "28.0"
      ]
     },
     "execution_count": 39,
     "metadata": {},
     "output_type": "execute_result"
    }
   ],
   "source": [
    "best_fitness"
   ]
  },
  {
   "cell_type": "code",
   "execution_count": 40,
   "metadata": {},
   "outputs": [],
   "source": [
    "evaluations_ga = evaluations.copy()"
   ]
  },
  {
   "cell_type": "code",
   "execution_count": 105,
   "metadata": {},
   "outputs": [
    {
     "data": {
      "text/plain": [
       "[<matplotlib.lines.Line2D at 0x26896727448>]"
      ]
     },
     "execution_count": 105,
     "metadata": {},
     "output_type": "execute_result"
    },
    {
     "data": {
      "image/png": "[encoded data removed]",
      "text/plain": [
       "<Figure size 432x288 with 1 Axes>"
      ]
     },
     "metadata": {
      "needs_background": "light"
     },
     "output_type": "display_data"
    }
   ],
   "source": [
    "plt.plot(fitness_curve_ga)"
   ]
  },
  {
   "cell_type": "code",
   "execution_count": 101,
   "metadata": {},
   "outputs": [
    {
     "data": {
      "text/plain": [
       "[<matplotlib.lines.Line2D at 0x2689663d7c8>]"
      ]
     },
     "execution_count": 101,
     "metadata": {},
     "output_type": "execute_result"
    },
    {
     "data": {
      "image/png": "[encoded data removed]",
      "text/plain": [
       "<Figure size 432x288 with 1 Axes>"
      ]
     },
     "metadata": {
      "needs_background": "light"
     },
     "output_type": "display_data"
    }
   ],
   "source": [
    "plt.plot(fitness_curve_ga)"
   ]
  },
  {
   "cell_type": "code",
   "execution_count": 106,
   "metadata": {
    "scrolled": false
   },
   "outputs": [
    {
     "data": {
      "image/png": "[encoded data removed]",
      "text/plain": [
       "<Figure size 432x288 with 1 Axes>"
      ]
     },
     "metadata": {
      "needs_background": "light"
     },
     "output_type": "display_data"
    }
   ],
   "source": [
    "plt.plot(evaluations)\n",
    "evaluations=[]"
   ]
  },
  {
   "cell_type": "code",
   "execution_count": null,
   "metadata": {},
   "outputs": [],
   "source": []
  },
  {
   "cell_type": "code",
   "execution_count": 85,
   "metadata": {},
   "outputs": [],
   "source": [
    "from mlrose_hiive.runners import MIMICRunner\n",
    "\n",
    "experiment_name = 'example_experiment'\n",
    "#problem = TSPGenerator.generate(seed=SEED, number_of_cities=22)\n",
    "\n",
    "mmc = MIMICRunner(problem=problem_cust,\n",
    "                  experiment_name=experiment_name,\n",
    "                  output_directory=OUTPUT_DIRECTORY,\n",
    "                  seed=2,\n",
    "                  iteration_list=[1000],\n",
    "                  max_attempts=100,\n",
    "                  population_sizes=[100,150, 200, 300],\n",
    "                  keep_percent_list=[0.25, 0.5, 0.75])\n"
   ]
  },
  {
   "cell_type": "code",
   "execution_count": 86,
   "metadata": {
    "scrolled": true
   },
   "outputs": [
    {
     "name": "stdout",
     "output_type": "stream",
     "text": [
      "Running mimic\n",
      "*****************\n",
      "*** Run START ***\n",
      "*****************\n",
      "use_fast_mimic:[False], pop_size:[100], keep_pct:[0.25], max_iters:[1000]\n",
      "runner_name:[mimic], experiment_name:[example_experiment], attempt:[0], iteration:[0], done:[False], time:[0.01], fitness:[21.0000]\n",
      "\t[0 7 5 0 6 3 2 3]...\n",
      "\n",
      "use_fast_mimic:[False], pop_size:[100], keep_pct:[0.25], max_iters:[1000]\n",
      "runner_name:[mimic], experiment_name:[example_experiment], attempt:[101], iteration:[102], done:[True], time:[3.27], fitness:[27.0000]\n",
      "\t[4. 6. 3. 0. 7. 1. 5. 2.]...\n",
      "\n",
      "***************\n",
      "*** Run END ***\n",
      "***************\n",
      "*****************\n",
      "*** Run START ***\n",
      "*****************\n",
      "use_fast_mimic:[False], pop_size:[100], keep_pct:[0.5], max_iters:[1000]\n",
      "runner_name:[mimic], experiment_name:[example_experiment], attempt:[0], iteration:[0], done:[False], time:[0.00], fitness:[21.0000]\n",
      "\t[0 7 5 0 6 3 2 3]...\n",
      "\n",
      "use_fast_mimic:[False], pop_size:[100], keep_pct:[0.5], max_iters:[1000]\n",
      "runner_name:[mimic], experiment_name:[example_experiment], attempt:[101], iteration:[102], done:[True], time:[3.31], fitness:[26.0000]\n",
      "\t[5. 0. 5. 3. 0. 7. 4. 1.]...\n",
      "\n",
      "***************\n",
      "*** Run END ***\n",
      "***************\n",
      "*****************\n",
      "*** Run START ***\n",
      "*****************\n",
      "use_fast_mimic:[False], pop_size:[100], keep_pct:[0.75], max_iters:[1000]\n",
      "runner_name:[mimic], experiment_name:[example_experiment], attempt:[0], iteration:[0], done:[False], time:[0.00], fitness:[21.0000]\n",
      "\t[0 7 5 0 6 3 2 3]...\n",
      "\n",
      "use_fast_mimic:[False], pop_size:[100], keep_pct:[0.75], max_iters:[1000]\n",
      "runner_name:[mimic], experiment_name:[example_experiment], attempt:[101], iteration:[105], done:[True], time:[3.36], fitness:[27.0000]\n",
      "\t[0. 6. 2. 5. 1. 4. 7. 3.]...\n",
      "\n",
      "***************\n",
      "*** Run END ***\n",
      "***************\n",
      "*****************\n",
      "*** Run START ***\n",
      "*****************\n",
      "use_fast_mimic:[False], pop_size:[150], keep_pct:[0.25], max_iters:[1000]\n",
      "runner_name:[mimic], experiment_name:[example_experiment], attempt:[0], iteration:[0], done:[False], time:[0.01], fitness:[21.0000]\n",
      "\t[0 7 5 0 6 3 2 3]...\n",
      "\n",
      "use_fast_mimic:[False], pop_size:[150], keep_pct:[0.25], max_iters:[1000]\n",
      "runner_name:[mimic], experiment_name:[example_experiment], attempt:[101], iteration:[106], done:[True], time:[3.56], fitness:[27.0000]\n",
      "\t[4. 0. 5. 0. 6. 3. 7. 2.]...\n",
      "\n",
      "***************\n",
      "*** Run END ***\n",
      "***************\n",
      "*****************\n",
      "*** Run START ***\n",
      "*****************\n",
      "use_fast_mimic:[False], pop_size:[150], keep_pct:[0.5], max_iters:[1000]\n",
      "runner_name:[mimic], experiment_name:[example_experiment], attempt:[0], iteration:[0], done:[False], time:[0.01], fitness:[21.0000]\n",
      "\t[0 7 5 0 6 3 2 3]...\n",
      "\n",
      "use_fast_mimic:[False], pop_size:[150], keep_pct:[0.5], max_iters:[1000]\n",
      "runner_name:[mimic], experiment_name:[example_experiment], attempt:[101], iteration:[102], done:[True], time:[3.63], fitness:[27.0000]\n",
      "\t[3. 6. 1. 5. 2. 0. 7. 4.]...\n",
      "\n",
      "***************\n",
      "*** Run END ***\n",
      "***************\n",
      "*****************\n",
      "*** Run START ***\n",
      "*****************\n",
      "use_fast_mimic:[False], pop_size:[150], keep_pct:[0.75], max_iters:[1000]\n",
      "runner_name:[mimic], experiment_name:[example_experiment], attempt:[0], iteration:[0], done:[False], time:[0.01], fitness:[21.0000]\n",
      "\t[0 7 5 0 6 3 2 3]...\n",
      "\n",
      "use_fast_mimic:[False], pop_size:[150], keep_pct:[0.75], max_iters:[1000]\n",
      "runner_name:[mimic], experiment_name:[example_experiment], attempt:[101], iteration:[101], done:[True], time:[3.46], fitness:[26.0000]\n",
      "\t[5. 0. 5. 3. 0. 7. 4. 1.]...\n",
      "\n",
      "***************\n",
      "*** Run END ***\n",
      "***************\n",
      "*****************\n",
      "*** Run START ***\n",
      "*****************\n",
      "use_fast_mimic:[False], pop_size:[200], keep_pct:[0.25], max_iters:[1000]\n",
      "runner_name:[mimic], experiment_name:[example_experiment], attempt:[0], iteration:[0], done:[False], time:[0.01], fitness:[21.0000]\n",
      "\t[0 7 5 0 6 3 2 3]...\n",
      "\n",
      "use_fast_mimic:[False], pop_size:[200], keep_pct:[0.25], max_iters:[1000]\n",
      "runner_name:[mimic], experiment_name:[example_experiment], attempt:[101], iteration:[103], done:[True], time:[3.78], fitness:[27.0000]\n",
      "\t[5. 1. 6. 4. 2. 7. 3. 3.]...\n",
      "\n",
      "***************\n",
      "*** Run END ***\n",
      "***************\n",
      "*****************\n",
      "*** Run START ***\n",
      "*****************\n",
      "use_fast_mimic:[False], pop_size:[200], keep_pct:[0.5], max_iters:[1000]\n",
      "runner_name:[mimic], experiment_name:[example_experiment], attempt:[0], iteration:[0], done:[False], time:[0.01], fitness:[21.0000]\n",
      "\t[0 7 5 0 6 3 2 3]...\n",
      "\n",
      "use_fast_mimic:[False], pop_size:[200], keep_pct:[0.5], max_iters:[1000]\n",
      "runner_name:[mimic], experiment_name:[example_experiment], attempt:[101], iteration:[101], done:[True], time:[4.87], fitness:[26.0000]\n",
      "\t[1. 6. 0. 5. 7. 2. 0. 3.]...\n",
      "\n",
      "***************\n",
      "*** Run END ***\n",
      "***************\n",
      "*****************\n",
      "*** Run START ***\n",
      "*****************\n",
      "use_fast_mimic:[False], pop_size:[200], keep_pct:[0.75], max_iters:[1000]\n",
      "runner_name:[mimic], experiment_name:[example_experiment], attempt:[0], iteration:[0], done:[False], time:[0.01], fitness:[21.0000]\n",
      "\t[0 7 5 0 6 3 2 3]...\n",
      "\n",
      "use_fast_mimic:[False], pop_size:[200], keep_pct:[0.75], max_iters:[1000]\n",
      "runner_name:[mimic], experiment_name:[example_experiment], attempt:[101], iteration:[112], done:[True], time:[4.24], fitness:[27.0000]\n",
      "\t[4. 2. 7. 5. 7. 0. 6. 3.]...\n",
      "\n",
      "***************\n",
      "*** Run END ***\n",
      "***************\n",
      "*****************\n",
      "*** Run START ***\n",
      "*****************\n",
      "use_fast_mimic:[False], pop_size:[300], keep_pct:[0.25], max_iters:[1000]\n",
      "runner_name:[mimic], experiment_name:[example_experiment], attempt:[0], iteration:[0], done:[False], time:[0.01], fitness:[21.0000]\n",
      "\t[0 7 5 0 6 3 2 3]...\n",
      "\n",
      "use_fast_mimic:[False], pop_size:[300], keep_pct:[0.25], max_iters:[1000]\n",
      "runner_name:[mimic], experiment_name:[example_experiment], attempt:[101], iteration:[106], done:[True], time:[4.55], fitness:[28.0000]\n",
      "\t[2. 4. 6. 0. 3. 1. 7. 5.]...\n",
      "\n",
      "***************\n",
      "*** Run END ***\n",
      "***************\n",
      "*****************\n",
      "*** Run START ***\n",
      "*****************\n",
      "use_fast_mimic:[False], pop_size:[300], keep_pct:[0.5], max_iters:[1000]\n",
      "runner_name:[mimic], experiment_name:[example_experiment], attempt:[0], iteration:[0], done:[False], time:[0.01], fitness:[21.0000]\n",
      "\t[0 7 5 0 6 3 2 3]...\n",
      "\n",
      "use_fast_mimic:[False], pop_size:[300], keep_pct:[0.5], max_iters:[1000]\n",
      "runner_name:[mimic], experiment_name:[example_experiment], attempt:[101], iteration:[106], done:[True], time:[4.70], fitness:[27.0000]\n",
      "\t[3. 6. 2. 7. 5. 1. 0. 4.]...\n",
      "\n",
      "***************\n",
      "*** Run END ***\n",
      "***************\n",
      "*****************\n",
      "*** Run START ***\n",
      "*****************\n",
      "use_fast_mimic:[False], pop_size:[300], keep_pct:[0.75], max_iters:[1000]\n",
      "runner_name:[mimic], experiment_name:[example_experiment], attempt:[0], iteration:[0], done:[False], time:[0.02], fitness:[21.0000]\n",
      "\t[0 7 5 0 6 3 2 3]...\n",
      "\n",
      "use_fast_mimic:[False], pop_size:[300], keep_pct:[0.75], max_iters:[1000]\n",
      "runner_name:[mimic], experiment_name:[example_experiment], attempt:[101], iteration:[117], done:[True], time:[6.49], fitness:[28.0000]\n",
      "\t[5. 3. 6. 0. 7. 1. 4. 2.]...\n",
      "\n",
      "***************\n",
      "*** Run END ***\n",
      "***************\n",
      "Run time: 49.39995809999982\n",
      "Saving: [output\\example_experiment\\mimic__example_experiment__run_stats_df.csv]\n",
      "Saving: [output\\example_experiment\\mimic__example_experiment__curves_df.csv]\n"
     ]
    }
   ],
   "source": [
    "df_run_stats, df_run_curves = mmc.run()   "
   ]
  },
  {
   "cell_type": "code",
   "execution_count": 87,
   "metadata": {},
   "outputs": [
    {
     "data": {
      "text/html": [
       "<div>\n",
       "<style scoped>\n",
       "    .dataframe tbody tr th:only-of-type {\n",
       "        vertical-align: middle;\n",
       "    }\n",
       "\n",
       "    .dataframe tbody tr th {\n",
       "        vertical-align: top;\n",
       "    }\n",
       "\n",
       "    .dataframe thead th {\n",
       "        text-align: right;\n",
       "    }\n",
       "</style>\n",
       "<table border=\"1\" class=\"dataframe\">\n",
       "  <thead>\n",
       "    <tr style=\"text-align: right;\">\n",
       "      <th></th>\n",
       "      <th>Iteration</th>\n",
       "      <th>Fitness</th>\n",
       "      <th>Time</th>\n",
       "      <th>State</th>\n",
       "      <th>use_fast_mimic</th>\n",
       "      <th>Population Size</th>\n",
       "      <th>Keep Percent</th>\n",
       "      <th>max_iters</th>\n",
       "    </tr>\n",
       "  </thead>\n",
       "  <tbody>\n",
       "    <tr>\n",
       "      <td>0</td>\n",
       "      <td>0</td>\n",
       "      <td>21.0</td>\n",
       "      <td>0.009392</td>\n",
       "      <td>[0, 7, 5, 0, 6, 3, 2, 3]</td>\n",
       "      <td>False</td>\n",
       "      <td>100</td>\n",
       "      <td>0.25</td>\n",
       "      <td>1000</td>\n",
       "    </tr>\n",
       "    <tr>\n",
       "      <td>1</td>\n",
       "      <td>1000</td>\n",
       "      <td>27.0</td>\n",
       "      <td>3.268217</td>\n",
       "      <td>[4.0, 6.0, 3.0, 0.0, 7.0, 1.0, 5.0, 2.0]</td>\n",
       "      <td>False</td>\n",
       "      <td>100</td>\n",
       "      <td>0.25</td>\n",
       "      <td>1000</td>\n",
       "    </tr>\n",
       "    <tr>\n",
       "      <td>2</td>\n",
       "      <td>0</td>\n",
       "      <td>21.0</td>\n",
       "      <td>0.004507</td>\n",
       "      <td>[0, 7, 5, 0, 6, 3, 2, 3]</td>\n",
       "      <td>False</td>\n",
       "      <td>100</td>\n",
       "      <td>0.50</td>\n",
       "      <td>1000</td>\n",
       "    </tr>\n",
       "    <tr>\n",
       "      <td>3</td>\n",
       "      <td>1000</td>\n",
       "      <td>26.0</td>\n",
       "      <td>3.305179</td>\n",
       "      <td>[5.0, 0.0, 5.0, 3.0, 0.0, 7.0, 4.0, 1.0]</td>\n",
       "      <td>False</td>\n",
       "      <td>100</td>\n",
       "      <td>0.50</td>\n",
       "      <td>1000</td>\n",
       "    </tr>\n",
       "    <tr>\n",
       "      <td>4</td>\n",
       "      <td>0</td>\n",
       "      <td>21.0</td>\n",
       "      <td>0.004703</td>\n",
       "      <td>[0, 7, 5, 0, 6, 3, 2, 3]</td>\n",
       "      <td>False</td>\n",
       "      <td>100</td>\n",
       "      <td>0.75</td>\n",
       "      <td>1000</td>\n",
       "    </tr>\n",
       "    <tr>\n",
       "      <td>5</td>\n",
       "      <td>1000</td>\n",
       "      <td>27.0</td>\n",
       "      <td>3.361636</td>\n",
       "      <td>[0.0, 6.0, 2.0, 5.0, 1.0, 4.0, 7.0, 3.0]</td>\n",
       "      <td>False</td>\n",
       "      <td>100</td>\n",
       "      <td>0.75</td>\n",
       "      <td>1000</td>\n",
       "    </tr>\n",
       "    <tr>\n",
       "      <td>6</td>\n",
       "      <td>0</td>\n",
       "      <td>21.0</td>\n",
       "      <td>0.009001</td>\n",
       "      <td>[0, 7, 5, 0, 6, 3, 2, 3]</td>\n",
       "      <td>False</td>\n",
       "      <td>150</td>\n",
       "      <td>0.25</td>\n",
       "      <td>1000</td>\n",
       "    </tr>\n",
       "    <tr>\n",
       "      <td>7</td>\n",
       "      <td>1000</td>\n",
       "      <td>27.0</td>\n",
       "      <td>3.557315</td>\n",
       "      <td>[4.0, 0.0, 5.0, 0.0, 6.0, 3.0, 7.0, 2.0]</td>\n",
       "      <td>False</td>\n",
       "      <td>150</td>\n",
       "      <td>0.25</td>\n",
       "      <td>1000</td>\n",
       "    </tr>\n",
       "    <tr>\n",
       "      <td>8</td>\n",
       "      <td>0</td>\n",
       "      <td>21.0</td>\n",
       "      <td>0.007429</td>\n",
       "      <td>[0, 7, 5, 0, 6, 3, 2, 3]</td>\n",
       "      <td>False</td>\n",
       "      <td>150</td>\n",
       "      <td>0.50</td>\n",
       "      <td>1000</td>\n",
       "    </tr>\n",
       "    <tr>\n",
       "      <td>9</td>\n",
       "      <td>1000</td>\n",
       "      <td>27.0</td>\n",
       "      <td>3.627505</td>\n",
       "      <td>[3.0, 6.0, 1.0, 5.0, 2.0, 0.0, 7.0, 4.0]</td>\n",
       "      <td>False</td>\n",
       "      <td>150</td>\n",
       "      <td>0.50</td>\n",
       "      <td>1000</td>\n",
       "    </tr>\n",
       "    <tr>\n",
       "      <td>10</td>\n",
       "      <td>0</td>\n",
       "      <td>21.0</td>\n",
       "      <td>0.009360</td>\n",
       "      <td>[0, 7, 5, 0, 6, 3, 2, 3]</td>\n",
       "      <td>False</td>\n",
       "      <td>150</td>\n",
       "      <td>0.75</td>\n",
       "      <td>1000</td>\n",
       "    </tr>\n",
       "    <tr>\n",
       "      <td>11</td>\n",
       "      <td>1000</td>\n",
       "      <td>26.0</td>\n",
       "      <td>3.462742</td>\n",
       "      <td>[5.0, 0.0, 5.0, 3.0, 0.0, 7.0, 4.0, 1.0]</td>\n",
       "      <td>False</td>\n",
       "      <td>150</td>\n",
       "      <td>0.75</td>\n",
       "      <td>1000</td>\n",
       "    </tr>\n",
       "    <tr>\n",
       "      <td>12</td>\n",
       "      <td>0</td>\n",
       "      <td>21.0</td>\n",
       "      <td>0.009931</td>\n",
       "      <td>[0, 7, 5, 0, 6, 3, 2, 3]</td>\n",
       "      <td>False</td>\n",
       "      <td>200</td>\n",
       "      <td>0.25</td>\n",
       "      <td>1000</td>\n",
       "    </tr>\n",
       "    <tr>\n",
       "      <td>13</td>\n",
       "      <td>1000</td>\n",
       "      <td>27.0</td>\n",
       "      <td>3.780325</td>\n",
       "      <td>[5.0, 1.0, 6.0, 4.0, 2.0, 7.0, 3.0, 3.0]</td>\n",
       "      <td>False</td>\n",
       "      <td>200</td>\n",
       "      <td>0.25</td>\n",
       "      <td>1000</td>\n",
       "    </tr>\n",
       "    <tr>\n",
       "      <td>14</td>\n",
       "      <td>0</td>\n",
       "      <td>21.0</td>\n",
       "      <td>0.009026</td>\n",
       "      <td>[0, 7, 5, 0, 6, 3, 2, 3]</td>\n",
       "      <td>False</td>\n",
       "      <td>200</td>\n",
       "      <td>0.50</td>\n",
       "      <td>1000</td>\n",
       "    </tr>\n",
       "    <tr>\n",
       "      <td>15</td>\n",
       "      <td>1000</td>\n",
       "      <td>26.0</td>\n",
       "      <td>4.868488</td>\n",
       "      <td>[1.0, 6.0, 0.0, 5.0, 7.0, 2.0, 0.0, 3.0]</td>\n",
       "      <td>False</td>\n",
       "      <td>200</td>\n",
       "      <td>0.50</td>\n",
       "      <td>1000</td>\n",
       "    </tr>\n",
       "    <tr>\n",
       "      <td>16</td>\n",
       "      <td>0</td>\n",
       "      <td>21.0</td>\n",
       "      <td>0.007903</td>\n",
       "      <td>[0, 7, 5, 0, 6, 3, 2, 3]</td>\n",
       "      <td>False</td>\n",
       "      <td>200</td>\n",
       "      <td>0.75</td>\n",
       "      <td>1000</td>\n",
       "    </tr>\n",
       "    <tr>\n",
       "      <td>17</td>\n",
       "      <td>1000</td>\n",
       "      <td>27.0</td>\n",
       "      <td>4.236003</td>\n",
       "      <td>[4.0, 2.0, 7.0, 5.0, 7.0, 0.0, 6.0, 3.0]</td>\n",
       "      <td>False</td>\n",
       "      <td>200</td>\n",
       "      <td>0.75</td>\n",
       "      <td>1000</td>\n",
       "    </tr>\n",
       "    <tr>\n",
       "      <td>18</td>\n",
       "      <td>0</td>\n",
       "      <td>21.0</td>\n",
       "      <td>0.014709</td>\n",
       "      <td>[0, 7, 5, 0, 6, 3, 2, 3]</td>\n",
       "      <td>False</td>\n",
       "      <td>300</td>\n",
       "      <td>0.25</td>\n",
       "      <td>1000</td>\n",
       "    </tr>\n",
       "    <tr>\n",
       "      <td>19</td>\n",
       "      <td>1000</td>\n",
       "      <td>28.0</td>\n",
       "      <td>4.551976</td>\n",
       "      <td>[2.0, 4.0, 6.0, 0.0, 3.0, 1.0, 7.0, 5.0]</td>\n",
       "      <td>False</td>\n",
       "      <td>300</td>\n",
       "      <td>0.25</td>\n",
       "      <td>1000</td>\n",
       "    </tr>\n",
       "    <tr>\n",
       "      <td>20</td>\n",
       "      <td>0</td>\n",
       "      <td>21.0</td>\n",
       "      <td>0.014507</td>\n",
       "      <td>[0, 7, 5, 0, 6, 3, 2, 3]</td>\n",
       "      <td>False</td>\n",
       "      <td>300</td>\n",
       "      <td>0.50</td>\n",
       "      <td>1000</td>\n",
       "    </tr>\n",
       "    <tr>\n",
       "      <td>21</td>\n",
       "      <td>1000</td>\n",
       "      <td>27.0</td>\n",
       "      <td>4.699957</td>\n",
       "      <td>[3.0, 6.0, 2.0, 7.0, 5.0, 1.0, 0.0, 4.0]</td>\n",
       "      <td>False</td>\n",
       "      <td>300</td>\n",
       "      <td>0.50</td>\n",
       "      <td>1000</td>\n",
       "    </tr>\n",
       "    <tr>\n",
       "      <td>22</td>\n",
       "      <td>0</td>\n",
       "      <td>21.0</td>\n",
       "      <td>0.020409</td>\n",
       "      <td>[0, 7, 5, 0, 6, 3, 2, 3]</td>\n",
       "      <td>False</td>\n",
       "      <td>300</td>\n",
       "      <td>0.75</td>\n",
       "      <td>1000</td>\n",
       "    </tr>\n",
       "    <tr>\n",
       "      <td>23</td>\n",
       "      <td>1000</td>\n",
       "      <td>28.0</td>\n",
       "      <td>6.490274</td>\n",
       "      <td>[5.0, 3.0, 6.0, 0.0, 7.0, 1.0, 4.0, 2.0]</td>\n",
       "      <td>False</td>\n",
       "      <td>300</td>\n",
       "      <td>0.75</td>\n",
       "      <td>1000</td>\n",
       "    </tr>\n",
       "  </tbody>\n",
       "</table>\n",
       "</div>"
      ],
      "text/plain": [
       "    Iteration  Fitness      Time                                     State  \\\n",
       "0           0     21.0  0.009392                  [0, 7, 5, 0, 6, 3, 2, 3]   \n",
       "1        1000     27.0  3.268217  [4.0, 6.0, 3.0, 0.0, 7.0, 1.0, 5.0, 2.0]   \n",
       "2           0     21.0  0.004507                  [0, 7, 5, 0, 6, 3, 2, 3]   \n",
       "3        1000     26.0  3.305179  [5.0, 0.0, 5.0, 3.0, 0.0, 7.0, 4.0, 1.0]   \n",
       "4           0     21.0  0.004703                  [0, 7, 5, 0, 6, 3, 2, 3]   \n",
       "5        1000     27.0  3.361636  [0.0, 6.0, 2.0, 5.0, 1.0, 4.0, 7.0, 3.0]   \n",
       "6           0     21.0  0.009001                  [0, 7, 5, 0, 6, 3, 2, 3]   \n",
       "7        1000     27.0  3.557315  [4.0, 0.0, 5.0, 0.0, 6.0, 3.0, 7.0, 2.0]   \n",
       "8           0     21.0  0.007429                  [0, 7, 5, 0, 6, 3, 2, 3]   \n",
       "9        1000     27.0  3.627505  [3.0, 6.0, 1.0, 5.0, 2.0, 0.0, 7.0, 4.0]   \n",
       "10          0     21.0  0.009360                  [0, 7, 5, 0, 6, 3, 2, 3]   \n",
       "11       1000     26.0  3.462742  [5.0, 0.0, 5.0, 3.0, 0.0, 7.0, 4.0, 1.0]   \n",
       "12          0     21.0  0.009931                  [0, 7, 5, 0, 6, 3, 2, 3]   \n",
       "13       1000     27.0  3.780325  [5.0, 1.0, 6.0, 4.0, 2.0, 7.0, 3.0, 3.0]   \n",
       "14          0     21.0  0.009026                  [0, 7, 5, 0, 6, 3, 2, 3]   \n",
       "15       1000     26.0  4.868488  [1.0, 6.0, 0.0, 5.0, 7.0, 2.0, 0.0, 3.0]   \n",
       "16          0     21.0  0.007903                  [0, 7, 5, 0, 6, 3, 2, 3]   \n",
       "17       1000     27.0  4.236003  [4.0, 2.0, 7.0, 5.0, 7.0, 0.0, 6.0, 3.0]   \n",
       "18          0     21.0  0.014709                  [0, 7, 5, 0, 6, 3, 2, 3]   \n",
       "19       1000     28.0  4.551976  [2.0, 4.0, 6.0, 0.0, 3.0, 1.0, 7.0, 5.0]   \n",
       "20          0     21.0  0.014507                  [0, 7, 5, 0, 6, 3, 2, 3]   \n",
       "21       1000     27.0  4.699957  [3.0, 6.0, 2.0, 7.0, 5.0, 1.0, 0.0, 4.0]   \n",
       "22          0     21.0  0.020409                  [0, 7, 5, 0, 6, 3, 2, 3]   \n",
       "23       1000     28.0  6.490274  [5.0, 3.0, 6.0, 0.0, 7.0, 1.0, 4.0, 2.0]   \n",
       "\n",
       "    use_fast_mimic  Population Size  Keep Percent  max_iters  \n",
       "0            False              100          0.25       1000  \n",
       "1            False              100          0.25       1000  \n",
       "2            False              100          0.50       1000  \n",
       "3            False              100          0.50       1000  \n",
       "4            False              100          0.75       1000  \n",
       "5            False              100          0.75       1000  \n",
       "6            False              150          0.25       1000  \n",
       "7            False              150          0.25       1000  \n",
       "8            False              150          0.50       1000  \n",
       "9            False              150          0.50       1000  \n",
       "10           False              150          0.75       1000  \n",
       "11           False              150          0.75       1000  \n",
       "12           False              200          0.25       1000  \n",
       "13           False              200          0.25       1000  \n",
       "14           False              200          0.50       1000  \n",
       "15           False              200          0.50       1000  \n",
       "16           False              200          0.75       1000  \n",
       "17           False              200          0.75       1000  \n",
       "18           False              300          0.25       1000  \n",
       "19           False              300          0.25       1000  \n",
       "20           False              300          0.50       1000  \n",
       "21           False              300          0.50       1000  \n",
       "22           False              300          0.75       1000  \n",
       "23           False              300          0.75       1000  "
      ]
     },
     "execution_count": 87,
     "metadata": {},
     "output_type": "execute_result"
    }
   ],
   "source": [
    "df_run_stats"
   ]
  },
  {
   "cell_type": "code",
   "execution_count": 25,
   "metadata": {},
   "outputs": [],
   "source": [
    "evaluations = []\n",
    "best_state, best_fitness, fitness_curve_bag_queen_mmc,time_curve_mmc = mlrose_hiive.mimic(problem_cust,  \n",
    "                                                                max_attempts = 200, \n",
    "                                                                 max_iters=10000,\n",
    "                                              random_state = 2,curve=True\n",
    "                                                                                          ,keep_pct=0.75,pop_size=300\n",
    "                                                                                         )"
   ]
  },
  {
   "cell_type": "code",
   "execution_count": 42,
   "metadata": {},
   "outputs": [],
   "source": [
    "evaluations = []\n",
    "best_state, best_fitness, fitness_curve_bag_queen_mmc,time_curve_mmc = mlrose_hiive.mimic(problem_cust,  \n",
    "                                                                max_attempts = 100, \n",
    "                                                                 max_iters=1000,\n",
    "                                              random_state = 2,curve=True\n",
    "                                                                                          ,keep_pct=0.75,pop_size=300\n",
    "                                                                                         )"
   ]
  },
  {
   "cell_type": "code",
   "execution_count": 26,
   "metadata": {},
   "outputs": [
    {
     "data": {
      "text/plain": [
       "array([5, 3, 6, 0, 7, 1, 4, 2])"
      ]
     },
     "execution_count": 26,
     "metadata": {},
     "output_type": "execute_result"
    }
   ],
   "source": [
    "best_state"
   ]
  },
  {
   "cell_type": "code",
   "execution_count": 27,
   "metadata": {},
   "outputs": [
    {
     "data": {
      "text/plain": [
       "28.0"
      ]
     },
     "execution_count": 27,
     "metadata": {},
     "output_type": "execute_result"
    }
   ],
   "source": [
    "best_fitness"
   ]
  },
  {
   "cell_type": "code",
   "execution_count": 95,
   "metadata": {},
   "outputs": [
    {
     "data": {
      "text/plain": [
       "[<matplotlib.lines.Line2D at 0x2689614e408>]"
      ]
     },
     "execution_count": 95,
     "metadata": {},
     "output_type": "execute_result"
    },
    {
     "data": {
      "image/png": "[encoded data removed]",
      "text/plain": [
       "<Figure size 432x288 with 1 Axes>"
      ]
     },
     "metadata": {
      "needs_background": "light"
     },
     "output_type": "display_data"
    }
   ],
   "source": [
    "plt.plot(fitness_curve_bag_queen_mmc)"
   ]
  },
  {
   "cell_type": "code",
   "execution_count": 96,
   "metadata": {},
   "outputs": [
    {
     "data": {
      "text/plain": [
       "[<matplotlib.lines.Line2D at 0x268961de6c8>]"
      ]
     },
     "execution_count": 96,
     "metadata": {},
     "output_type": "execute_result"
    },
    {
     "data": {
      "image/png": "[encoded data removed]",
      "text/plain": [
       "<Figure size 432x288 with 1 Axes>"
      ]
     },
     "metadata": {
      "needs_background": "light"
     },
     "output_type": "display_data"
    }
   ],
   "source": [
    "plt.plot(evaluations)"
   ]
  },
  {
   "cell_type": "code",
   "execution_count": 33,
   "metadata": {},
   "outputs": [],
   "source": [
    "evaluations_mimc = evaluations.copy()"
   ]
  },
  {
   "cell_type": "code",
   "execution_count": 418,
   "metadata": {},
   "outputs": [
    {
     "data": {
      "text/plain": [
       "array([4, 2, 7, 5, 7, 0, 6, 3])"
      ]
     },
     "execution_count": 418,
     "metadata": {},
     "output_type": "execute_result"
    }
   ],
   "source": [
    "best_state"
   ]
  },
  {
   "cell_type": "code",
   "execution_count": 129,
   "metadata": {},
   "outputs": [],
   "source": [
    "fitness_curve_sa"
   ]
  },
  {
   "cell_type": "code",
   "execution_count": 107,
   "metadata": {},
   "outputs": [
    {
     "data": {
      "image/png": "[encoded data removed]",
      "text/plain": [
       "<Figure size 432x288 with 1 Axes>"
      ]
     },
     "metadata": {
      "needs_background": "light"
     },
     "output_type": "display_data"
    }
   ],
   "source": [
    "plt.plot(fitness_curve_rhc,label='RHC')\n",
    "plt.plot(fitness_curve_sa,label='SA')\n",
    "plt.plot(fitness_curve_ga,label = 'GA')\n",
    "plt.plot(fitness_curve_bag_queen_mmc,label='MIMC')\n",
    "\n",
    "plt.title('N Queens Fitness vs Iteration')\n",
    "plt.ylabel('Fitness')\n",
    "plt.xlabel('Iteration')\n",
    "plt.legend()\n",
    "plt.savefig('output/queens_fit_iter.png')"
   ]
  },
  {
   "cell_type": "code",
   "execution_count": 108,
   "metadata": {},
   "outputs": [
    {
     "data": {
      "image/png": "[encoded data removed]",
      "text/plain": [
       "<Figure size 432x288 with 1 Axes>"
      ]
     },
     "metadata": {
      "needs_background": "light"
     },
     "output_type": "display_data"
    }
   ],
   "source": [
    "plt.plot(time_curve_rhc,label='RHC')\n",
    "plt.plot(time_curve_sa,label='SA')\n",
    "plt.plot(time_curve_ga,label = 'GA')\n",
    "plt.plot(time_curve_mmc,label='MIMC')\n",
    "\n",
    "plt.title('Queens Compute Time vs Iteration')\n",
    "plt.ylabel('Compute Time')\n",
    "plt.xlabel('Iteration')\n",
    "plt.legend()\n",
    "plt.savefig('output/queens_time_iter.png')"
   ]
  },
  {
   "cell_type": "code",
   "execution_count": 41,
   "metadata": {},
   "outputs": [
    {
     "data": {
      "image/png": "[encoded data removed]",
      "text/plain": [
       "<Figure size 432x288 with 1 Axes>"
      ]
     },
     "metadata": {
      "needs_background": "light"
     },
     "output_type": "display_data"
    }
   ],
   "source": [
    "plt.plot(evaluations_rhc,label='RHC')\n",
    "plt.plot(evaluations_sa,label='SA')\n",
    "plt.plot(evaluations_ga,label = 'GA')\n",
    "plt.plot(evaluations_mimc,label='MIMC')\n",
    "\n",
    "plt.title('Queen Fitness vs Evaluation')\n",
    "plt.ylabel('Fitness')\n",
    "plt.xlabel('Evaluation')\n",
    "plt.legend()\n",
    "plt.savefig('output/queens_fit_eval.png')"
   ]
  },
  {
   "cell_type": "markdown",
   "metadata": {},
   "source": [
    "## iteration time vs input size"
   ]
  },
  {
   "cell_type": "code",
   "execution_count": 6,
   "metadata": {},
   "outputs": [],
   "source": [
    "# Define optimization problem object\n",
    "problem_cust = mlrose_hiive.DiscreteOpt(length = 8, fitness_fn = fitness_cust, maximize = True, max_val = 8)\n",
    "problem_cust.set_mimic_fast_mode(True)"
   ]
  },
  {
   "cell_type": "code",
   "execution_count": 7,
   "metadata": {},
   "outputs": [],
   "source": [
    "# Solve using simulated annealing - attempt 1\n",
    "init_state = np.array([0, 1, 2, 3, 4, 5, 6, 7])\n",
    "schedule = mlrose_hiive.ExpDecay()\n",
    "\n",
    "best_state, best_fitness, fitness_curve_sa,time_curve_sa = mlrose_hiive.simulated_annealing(problem_cust, schedule = schedule, \n",
    "                                                      max_attempts = 100, max_iters = 10000, \n",
    "                                                      init_state = init_state, random_state = 1)"
   ]
  },
  {
   "cell_type": "code",
   "execution_count": null,
   "metadata": {},
   "outputs": [],
   "source": [
    "evaluations = []\n",
    "best_state, best_fitness, fitness_curve_rhc,time_curve_rhc,all_time_rhc = mlrose_hiive.random_hill_climb(problem_cust, \n",
    "                                                                            max_attempts=100, max_iters=np.inf, restarts=25,\n",
    "                      init_state=init_state, curve=True, random_state = 1)"
   ]
  },
  {
   "cell_type": "code",
   "execution_count": null,
   "metadata": {},
   "outputs": [],
   "source": [
    "# Solve using genetic algorithm\n",
    "evaluations = []\n",
    "best_state, best_fitness, fitness_curve_ga,time_curve_ga = mlrose_hiive.genetic_alg(problem_cust, mutation_prob = 0.6,\n",
    "                                                                      pop_size= 300,\n",
    "                                                                       max_attempts = 100, \n",
    "                                              random_state = 2,curve=True)\n"
   ]
  },
  {
   "cell_type": "code",
   "execution_count": 44,
   "metadata": {},
   "outputs": [],
   "source": [
    "evaluations = []\n",
    "best_state, best_fitness, fitness_curve_bag_queen_mmc,time_curve_mmc = mlrose_hiive.mimic(problem_cust,  \n",
    "                                                                max_attempts = 100, \n",
    "                                              random_state = 2,curve=True\n",
    "                                                        ,keep_pct=0.75,pop_size=300\n",
    "                                                        )"
   ]
  },
  {
   "cell_type": "code",
   "execution_count": 92,
   "metadata": {},
   "outputs": [],
   "source": [
    "def get_complexity(problem_custs):\n",
    "    sac = []\n",
    "    gac = []\n",
    "    rhcc = []\n",
    "    mimicc = []\n",
    "    for problem_cust in problem_custs:\n",
    "        rhc = mlrose_hiive.random_hill_climb(problem_cust, max_attempts=100, max_iters=np.inf, restarts=25,\n",
    "                                             curve=True, random_state = 1)\n",
    "        print('rhc done')\n",
    "        ga = mlrose_hiive.genetic_alg(problem_cust, mutation_prob = 0.6,pop_size= 300,max_attempts = 100,\n",
    "                                      random_state = 2,curve=True)\n",
    "        print('ga done')\n",
    "\n",
    "        mimc = mlrose_hiive.mimic(problem_cust,  \n",
    "                                                                max_attempts = 100, \n",
    "                                              random_state = 2,curve=True\n",
    "                                                        ,keep_pct=0.75,pop_size=300\n",
    "                                                        )\n",
    "        print('mimc done')\n",
    "        \n",
    "        sa = mlrose_hiive.simulated_annealing(problem_cust, schedule = schedule, \n",
    "                                                      max_attempts = 100, max_iters = 1000, \n",
    "                                                      random_state = 1,curve= True)\n",
    "        print('sa done')\n",
    "        sac.append([len(sa[2]),sa[3][-1]])\n",
    "        gac.append([len(ga[2]),ga[3][-1]])\n",
    "        rhcc.append([len(rhc[2]),rhc[3][-1]])\n",
    "        mimicc.append([len(mimc[2]),mimc[3][-1]])\n",
    "        print(problem_cust)\n",
    "    return sac,gac,rhcc,mimicc"
   ]
  },
  {
   "cell_type": "code",
   "execution_count": 93,
   "metadata": {},
   "outputs": [
    {
     "name": "stdout",
     "output_type": "stream",
     "text": [
      "rhc done\n",
      "ga done\n",
      "mimc done\n",
      "sa done\n",
      "<mlrose_hiive.opt_probs.discrete_opt.DiscreteOpt object at 0x0000028426934A08>\n"
     ]
    }
   ],
   "source": [
    "a,b,c,d = get_complexity([problem_cust])"
   ]
  },
  {
   "cell_type": "code",
   "execution_count": 88,
   "metadata": {},
   "outputs": [],
   "source": [
    "# Define optimization problem object\n",
    "size = [8,16,24,32]\n",
    "problem_custs = []\n",
    "for s in size:\n",
    "    p = mlrose_hiive.DiscreteOpt(length = s, fitness_fn = fitness_cust, maximize = True, max_val = s)\n",
    "    p.set_mimic_fast_mode(True)\n",
    "    problem_custs.append(p)"
   ]
  },
  {
   "cell_type": "code",
   "execution_count": 94,
   "metadata": {},
   "outputs": [
    {
     "name": "stdout",
     "output_type": "stream",
     "text": [
      "rhc done\n",
      "ga done\n",
      "mimc done\n",
      "sa done\n",
      "<mlrose_hiive.opt_probs.discrete_opt.DiscreteOpt object at 0x000002842CD49048>\n",
      "rhc done\n",
      "ga done\n",
      "mimc done\n",
      "sa done\n",
      "<mlrose_hiive.opt_probs.discrete_opt.DiscreteOpt object at 0x000002842826DD88>\n",
      "rhc done\n",
      "ga done\n",
      "mimc done\n",
      "sa done\n",
      "<mlrose_hiive.opt_probs.discrete_opt.DiscreteOpt object at 0x0000028429035188>\n",
      "rhc done\n",
      "ga done\n",
      "mimc done\n",
      "sa done\n",
      "<mlrose_hiive.opt_probs.discrete_opt.DiscreteOpt object at 0x000002842C5C5748>\n"
     ]
    }
   ],
   "source": [
    "a,b,c,d = get_complexity(problem_custs)"
   ]
  },
  {
   "cell_type": "code",
   "execution_count": 95,
   "metadata": {},
   "outputs": [
    {
     "data": {
      "text/plain": [
       "[[117, 5.740190029144287],\n",
       " [139, 32.42132902145386],\n",
       " [124, 83.35204291343689],\n",
       " [124, 275.1491823196411]]"
      ]
     },
     "execution_count": 95,
     "metadata": {},
     "output_type": "execute_result"
    }
   ],
   "source": [
    "d"
   ]
  },
  {
   "cell_type": "code",
   "execution_count": 99,
   "metadata": {},
   "outputs": [],
   "source": [
    "aa = np.asarray(a)\n"
   ]
  },
  {
   "cell_type": "code",
   "execution_count": 100,
   "metadata": {},
   "outputs": [
    {
     "data": {
      "text/plain": [
       "array([ 323.,  917., 1000., 1000.])"
      ]
     },
     "execution_count": 100,
     "metadata": {},
     "output_type": "execute_result"
    }
   ],
   "source": [
    "aa[:,0]"
   ]
  },
  {
   "cell_type": "code",
   "execution_count": 97,
   "metadata": {},
   "outputs": [
    {
     "data": {
      "text/plain": [
       "[[323, 0.08499717712402344],\n",
       " [917, 0.6170005798339844],\n",
       " [1000, 0.8471262454986572],\n",
       " [1000, 1.5329954624176025]]"
      ]
     },
     "execution_count": 97,
     "metadata": {},
     "output_type": "execute_result"
    }
   ],
   "source": [
    "a"
   ]
  },
  {
   "cell_type": "code",
   "execution_count": 104,
   "metadata": {},
   "outputs": [
    {
     "data": {
      "image/png": "[encoded data removed]",
      "text/plain": [
       "<Figure size 432x288 with 1 Axes>"
      ]
     },
     "metadata": {
      "needs_background": "light"
     },
     "output_type": "display_data"
    }
   ],
   "source": [
    "plt.plot(np.asarray(a)[:,0],label ='SA')\n",
    "plt.plot(np.asarray(b)[:,0],label ='GA')\n",
    "plt.plot(np.asarray(c)[:,0],label ='RHC')\n",
    "plt.plot(np.asarray(d)[:,0],label ='MMC')\n",
    "\n",
    "plt.title('Queen Iteration vs Complixity')\n",
    "plt.xticks(np.arange(3), size)\n",
    "plt.ylabel('Iteration Time')\n",
    "plt.xlabel('Input Size')\n",
    "plt.legend()\n",
    "plt.savefig('output/queens_Iteration_comp.png')\n",
    "\n",
    "\n",
    "\n"
   ]
  },
  {
   "cell_type": "code",
   "execution_count": null,
   "metadata": {},
   "outputs": [],
   "source": []
  },
  {
   "cell_type": "code",
   "execution_count": null,
   "metadata": {},
   "outputs": [],
   "source": []
  },
  {
   "cell_type": "code",
   "execution_count": null,
   "metadata": {},
   "outputs": [],
   "source": []
  },
  {
   "cell_type": "code",
   "execution_count": null,
   "metadata": {},
   "outputs": [],
   "source": []
  },
  {
   "cell_type": "code",
   "execution_count": null,
   "metadata": {},
   "outputs": [],
   "source": []
  },
  {
   "cell_type": "code",
   "execution_count": null,
   "metadata": {},
   "outputs": [],
   "source": []
  },
  {
   "cell_type": "code",
   "execution_count": null,
   "metadata": {},
   "outputs": [],
   "source": []
  },
  {
   "cell_type": "code",
   "execution_count": null,
   "metadata": {},
   "outputs": [],
   "source": []
  },
  {
   "cell_type": "code",
   "execution_count": null,
   "metadata": {},
   "outputs": [],
   "source": []
  },
  {
   "cell_type": "code",
   "execution_count": null,
   "metadata": {},
   "outputs": [],
   "source": []
  },
  {
   "cell_type": "code",
   "execution_count": null,
   "metadata": {},
   "outputs": [],
   "source": []
  },
  {
   "cell_type": "code",
   "execution_count": null,
   "metadata": {},
   "outputs": [],
   "source": []
  },
  {
   "cell_type": "markdown",
   "metadata": {},
   "source": [
    "## KnapSack"
   ]
  },
  {
   "cell_type": "code",
   "execution_count": null,
   "metadata": {},
   "outputs": [],
   "source": []
  },
  {
   "cell_type": "code",
   "execution_count": 120,
   "metadata": {},
   "outputs": [
    {
     "data": {
      "text/plain": [
       "24.0"
      ]
     },
     "execution_count": 120,
     "metadata": {},
     "output_type": "execute_result"
    }
   ],
   "source": [
    "sum(weights)*0.6"
   ]
  },
  {
   "cell_type": "code",
   "execution_count": 207,
   "metadata": {},
   "outputs": [],
   "source": [
    "# Initialize fitness function object using pre-defined class\n",
    "weights = [10, 5, 2, 8, 15]\n",
    "values = [1, 2, 3, 4, 5]\n",
    "max_weight_pct = 0.6\n",
    "fitness = mlrose_hiive.Knapsack(weights, values, max_weight_pct)"
   ]
  },
  {
   "cell_type": "code",
   "execution_count": 241,
   "metadata": {},
   "outputs": [],
   "source": [
    "import random\n",
    "random.seed(0) \n",
    "\n",
    "wei = [random.randint(1,50) for _ in range(140)]\n",
    "val = [random.randint(1,50) for _ in range(140)]\n",
    "max_weight_pct = 0.6\n",
    "fitness = mlrose_hiive.Knapsack(wei, val, max_weight_pct,max_item_count=10,multiply_by_max_item_count=True)"
   ]
  },
  {
   "cell_type": "code",
   "execution_count": 242,
   "metadata": {},
   "outputs": [],
   "source": [
    "# Define alternative N-Queens fitness function for maximization problem\n",
    "evaluations = []\n",
    "def knapsack_max(state):\n",
    "    \n",
    "    currentfit = fitness.evaluate(state)\n",
    "    evaluations.append(currentfit)\n",
    "    return currentfit"
   ]
  },
  {
   "cell_type": "code",
   "execution_count": 248,
   "metadata": {},
   "outputs": [],
   "source": [
    "state=np.array([1]*130+[1]*10)"
   ]
  },
  {
   "cell_type": "code",
   "execution_count": null,
   "metadata": {},
   "outputs": [],
   "source": []
  },
  {
   "cell_type": "code",
   "execution_count": 249,
   "metadata": {},
   "outputs": [
    {
     "data": {
      "text/plain": [
       "3426"
      ]
     },
     "execution_count": 249,
     "metadata": {},
     "output_type": "execute_result"
    }
   ],
   "source": [
    "fitness.evaluate(state)"
   ]
  },
  {
   "cell_type": "code",
   "execution_count": 164,
   "metadata": {},
   "outputs": [
    {
     "data": {
      "text/plain": [
       "0"
      ]
     },
     "execution_count": 164,
     "metadata": {},
     "output_type": "execute_result"
    }
   ],
   "source": [
    "# Check function is working correctly\n",
    "state = np.array([0]*140)\n",
    "\n",
    "# The fitness of this state should be 22\n",
    "knapsack_max(state)"
   ]
  },
  {
   "cell_type": "code",
   "execution_count": 250,
   "metadata": {},
   "outputs": [],
   "source": [
    "# Initialize custom fitness function object\n",
    "fitness_cust = mlrose_hiive.CustomFitness(knapsack_max)"
   ]
  },
  {
   "cell_type": "code",
   "execution_count": 251,
   "metadata": {},
   "outputs": [
    {
     "data": {
      "text/plain": [
       "array([1, 1, 1, 1, 1, 1, 1, 1, 1, 1, 1, 1, 1, 1, 1, 1, 1, 1, 1, 1, 1, 1,\n",
       "       1, 1, 1, 1, 1, 1, 1, 1, 1, 1, 1, 1, 1, 1, 1, 1, 1, 1, 1, 1, 1, 1,\n",
       "       1, 1, 1, 1, 1, 1, 1, 1, 1, 1, 1, 1, 1, 1, 1, 1, 1, 1, 1, 1, 1, 1,\n",
       "       1, 1, 1, 1, 1, 1, 1, 1, 1, 1, 1, 1, 1, 1, 1, 1, 1, 1, 1, 1, 1, 1,\n",
       "       1, 1, 1, 1, 1, 1, 1, 1, 1, 1, 1, 1, 1, 1, 1, 1, 1, 1, 1, 1, 1, 1,\n",
       "       1, 1, 1, 1, 1, 1, 1, 1, 1, 1, 1, 1, 1, 1, 1, 1, 1, 1, 1, 1, 1, 1,\n",
       "       1, 1, 1, 1, 1, 1, 1, 1])"
      ]
     },
     "execution_count": 251,
     "metadata": {},
     "output_type": "execute_result"
    }
   ],
   "source": [
    "state"
   ]
  },
  {
   "cell_type": "code",
   "execution_count": 252,
   "metadata": {},
   "outputs": [],
   "source": [
    "# Define optimization problem object\n",
    "problem_cust = mlrose_hiive.DiscreteOpt(length = 140, fitness_fn = fitness_cust, maximize = True,max_val=10)"
   ]
  },
  {
   "cell_type": "markdown",
   "metadata": {},
   "source": [
    "### SA for sacks"
   ]
  },
  {
   "cell_type": "code",
   "execution_count": 253,
   "metadata": {},
   "outputs": [],
   "source": [
    "# Solve using simulated annealing - attempt 1\n",
    "init_state = np.array([0]*140)\n",
    "schedule = mlrose_hiive.ExpDecay()\n",
    "best_state, best_fitness, fitness_curve_bag,time_curve_bag = mlrose_hiive.simulated_annealing(problem_cust, schedule = schedule, \n",
    "                                                      max_attempts = 100, max_iters = 1000, \n",
    "                                                      init_state = init_state, random_state = 1,curve= True)"
   ]
  },
  {
   "cell_type": "code",
   "execution_count": 254,
   "metadata": {},
   "outputs": [
    {
     "data": {
      "text/plain": [
       "19560.0"
      ]
     },
     "execution_count": 254,
     "metadata": {},
     "output_type": "execute_result"
    }
   ],
   "source": [
    "best_fitness"
   ]
  },
  {
   "cell_type": "code",
   "execution_count": 255,
   "metadata": {},
   "outputs": [
    {
     "data": {
      "text/plain": [
       "array([7, 9, 6, 0, 1, 8, 5, 9, 9, 1, 8, 6, 4, 5, 6, 1, 8, 9, 5, 7, 7, 9,\n",
       "       6, 7, 3, 6, 0, 6, 9, 8, 9, 9, 9, 3, 5, 0, 6, 9, 7, 7, 9, 5, 6, 6,\n",
       "       7, 8, 4, 8, 6, 4, 3, 8, 7, 6, 9, 9, 9, 9, 9, 9, 0, 9, 7, 7, 0, 2,\n",
       "       4, 3, 8, 7, 0, 9, 9, 5, 8, 5, 9, 8, 8, 6, 6, 3, 7, 1, 3, 0, 0, 8,\n",
       "       7, 9, 0, 0, 1, 5, 9, 7, 8, 3, 5, 0, 0, 9, 7, 3, 0, 3, 6, 5, 6, 8,\n",
       "       4, 9, 8, 3, 6, 9, 7, 3, 8, 8, 0, 7, 6, 3, 4, 8, 8, 4, 9, 8, 1, 7,\n",
       "       6, 2, 5, 9, 9, 9, 9, 9])"
      ]
     },
     "execution_count": 255,
     "metadata": {},
     "output_type": "execute_result"
    }
   ],
   "source": [
    "best_state"
   ]
  },
  {
   "cell_type": "code",
   "execution_count": 256,
   "metadata": {},
   "outputs": [
    {
     "data": {
      "text/plain": [
       "[<matplotlib.lines.Line2D at 0x19d3c82d408>]"
      ]
     },
     "execution_count": 256,
     "metadata": {},
     "output_type": "execute_result"
    },
    {
     "data": {
      "image/png": "[encoded data removed]",
      "text/plain": [
       "<Figure size 432x288 with 1 Axes>"
      ]
     },
     "metadata": {
      "needs_background": "light"
     },
     "output_type": "display_data"
    }
   ],
   "source": [
    "plt.plot(fitness_curve_bag)"
   ]
  },
  {
   "cell_type": "code",
   "execution_count": 257,
   "metadata": {},
   "outputs": [
    {
     "data": {
      "text/plain": [
       "[<matplotlib.lines.Line2D at 0x19d38449c08>]"
      ]
     },
     "execution_count": 257,
     "metadata": {},
     "output_type": "execute_result"
    },
    {
     "data": {
      "image/png": "[encoded data removed]",
      "text/plain": [
       "<Figure size 432x288 with 1 Axes>"
      ]
     },
     "metadata": {
      "needs_background": "light"
     },
     "output_type": "display_data"
    }
   ],
   "source": [
    "plt.plot(time_curve_bag)"
   ]
  },
  {
   "cell_type": "markdown",
   "metadata": {},
   "source": [
    "### GA for sacks"
   ]
  },
  {
   "cell_type": "code",
   "execution_count": 258,
   "metadata": {},
   "outputs": [],
   "source": [
    "# Solve using genetic algorithm\n",
    "best_state, best_fitness, fitness_curve_bag = mlrose_hiive.genetic_alg(problem_cust, mutation_prob = 0.2, max_attempts = 100, \n",
    "                                              random_state = 2,curve=True)"
   ]
  },
  {
   "cell_type": "code",
   "execution_count": 259,
   "metadata": {},
   "outputs": [
    {
     "data": {
      "text/plain": [
       "27818.0"
      ]
     },
     "execution_count": 259,
     "metadata": {},
     "output_type": "execute_result"
    }
   ],
   "source": [
    "best_fitness"
   ]
  },
  {
   "cell_type": "code",
   "execution_count": 245,
   "metadata": {},
   "outputs": [
    {
     "data": {
      "text/plain": [
       "array([1, 1, 1, 1, 0])"
      ]
     },
     "execution_count": 245,
     "metadata": {},
     "output_type": "execute_result"
    }
   ],
   "source": [
    "np.array([1]*4+[0])"
   ]
  },
  {
   "cell_type": "code",
   "execution_count": 246,
   "metadata": {},
   "outputs": [],
   "source": [
    "state = np.array([1, 1, 1, 1, 1])"
   ]
  },
  {
   "cell_type": "code",
   "execution_count": 218,
   "metadata": {},
   "outputs": [
    {
     "data": {
      "text/plain": [
       "0"
      ]
     },
     "execution_count": 218,
     "metadata": {},
     "output_type": "execute_result"
    }
   ],
   "source": [
    "fitness.evaluate(state)"
   ]
  },
  {
   "cell_type": "code",
   "execution_count": 260,
   "metadata": {},
   "outputs": [
    {
     "data": {
      "text/plain": [
       "array([9, 2, 4, 9, 0, 9, 9, 2, 9, 3, 9, 2, 9, 9, 4, 3, 9, 9, 9, 0, 9, 9,\n",
       "       9, 9, 9, 0, 3, 0, 9, 0, 9, 9, 0, 8, 3, 9, 3, 0, 9, 3, 1, 0, 9, 1,\n",
       "       9, 9, 9, 9, 9, 2, 9, 9, 9, 0, 9, 0, 4, 0, 9, 5, 9, 9, 9, 0, 8, 9,\n",
       "       4, 9, 0, 9, 9, 9, 8, 9, 9, 9, 9, 6, 9, 9, 9, 9, 2, 9, 7, 2, 7, 9,\n",
       "       9, 0, 9, 8, 9, 6, 0, 9, 9, 9, 9, 9, 8, 9, 7, 9, 9, 9, 4, 8, 9, 0,\n",
       "       9, 9, 9, 5, 9, 1, 9, 0, 2, 9, 9, 9, 8, 9, 5, 9, 9, 9, 9, 9, 1, 9,\n",
       "       0, 9, 9, 9, 9, 4, 0, 9])"
      ]
     },
     "execution_count": 260,
     "metadata": {},
     "output_type": "execute_result"
    }
   ],
   "source": [
    "best_state"
   ]
  },
  {
   "cell_type": "code",
   "execution_count": 209,
   "metadata": {},
   "outputs": [
    {
     "data": {
      "text/plain": [
       "[10, 5, 2, 8, 15]"
      ]
     },
     "execution_count": 209,
     "metadata": {},
     "output_type": "execute_result"
    }
   ],
   "source": [
    "weights"
   ]
  },
  {
   "cell_type": "code",
   "execution_count": 229,
   "metadata": {},
   "outputs": [
    {
     "data": {
      "text/plain": [
       "634"
      ]
     },
     "execution_count": 229,
     "metadata": {},
     "output_type": "execute_result"
    }
   ],
   "source": [
    "sum(best_state)"
   ]
  },
  {
   "cell_type": "code",
   "execution_count": 178,
   "metadata": {},
   "outputs": [
    {
     "data": {
      "text/plain": [
       "3623"
      ]
     },
     "execution_count": 178,
     "metadata": {},
     "output_type": "execute_result"
    }
   ],
   "source": [
    "sum(wei)"
   ]
  },
  {
   "cell_type": "code",
   "execution_count": 261,
   "metadata": {},
   "outputs": [
    {
     "data": {
      "text/plain": [
       "[<matplotlib.lines.Line2D at 0x19d31682ec8>]"
      ]
     },
     "execution_count": 261,
     "metadata": {},
     "output_type": "execute_result"
    },
    {
     "data": {
      "image/png": "[encoded data removed]",
      "text/plain": [
       "<Figure size 432x288 with 1 Axes>"
      ]
     },
     "metadata": {
      "needs_background": "light"
     },
     "output_type": "display_data"
    }
   ],
   "source": [
    "plt.plot(fitness_curve_bag)"
   ]
  },
  {
   "cell_type": "markdown",
   "metadata": {},
   "source": [
    "## mimic for sacks"
   ]
  },
  {
   "cell_type": "code",
   "execution_count": 183,
   "metadata": {},
   "outputs": [
    {
     "data": {
      "text/plain": [
       "array([1, 1, 1, 1, 1, 1, 1, 1, 1, 1, 1, 1, 1, 1, 1, 1, 1, 1, 1, 1, 1, 1,\n",
       "       1, 1, 1, 1, 1, 1, 1, 1, 1, 1, 1, 1, 1, 1, 1, 1, 1, 1, 1, 1, 1, 1,\n",
       "       1, 1, 1, 1, 1, 1, 1, 1, 1, 1, 1, 1, 1, 1, 1, 1, 1, 1, 1, 1, 1, 1,\n",
       "       1, 1, 1, 1, 1, 1, 1, 1, 1, 1, 1, 1, 1, 1, 1, 1, 1, 1, 1, 1, 1, 1,\n",
       "       1, 1, 1, 1, 1, 1, 1, 1, 1, 1, 1, 1, 1, 1, 1, 1, 1, 1, 1, 1, 1, 1,\n",
       "       1, 1, 1, 1, 1, 1, 1, 1, 1, 1, 1, 1, 1, 1, 1, 1, 1, 1, 1, 1, 1, 1,\n",
       "       1, 1, 1, 1, 1, 1, 1, 1])"
      ]
     },
     "execution_count": 183,
     "metadata": {},
     "output_type": "execute_result"
    }
   ],
   "source": [
    "state"
   ]
  },
  {
   "cell_type": "code",
   "execution_count": 263,
   "metadata": {},
   "outputs": [],
   "source": [
    "best_state, best_fitness, fitness_curve_bag = mlrose_hiive.mimic(problem_cust,  max_attempts = 10, \n",
    "                                                                 max_iters=100,\n",
    "                                              random_state = 2,curve=True)"
   ]
  },
  {
   "cell_type": "code",
   "execution_count": 348,
   "metadata": {},
   "outputs": [],
   "source": [
    "best_state, best_fitness, fitness_curve_bag = mlrose_hiive.mimic(problem_cust,  max_attempts = 1000, \n",
    "                                                                 max_iters=10000,\n",
    "                                              random_state = 2,curve=True)"
   ]
  },
  {
   "cell_type": "code",
   "execution_count": 264,
   "metadata": {},
   "outputs": [
    {
     "data": {
      "text/plain": [
       "24614.0"
      ]
     },
     "execution_count": 264,
     "metadata": {},
     "output_type": "execute_result"
    }
   ],
   "source": [
    "best_fitness"
   ]
  },
  {
   "cell_type": "code",
   "execution_count": 165,
   "metadata": {},
   "outputs": [
    {
     "data": {
      "text/plain": [
       "140"
      ]
     },
     "execution_count": 165,
     "metadata": {},
     "output_type": "execute_result"
    }
   ],
   "source": [
    "len(wei)"
   ]
  },
  {
   "cell_type": "code",
   "execution_count": 265,
   "metadata": {},
   "outputs": [
    {
     "data": {
      "text/plain": [
       "[<matplotlib.lines.Line2D at 0x19d3bfecb08>]"
      ]
     },
     "execution_count": 265,
     "metadata": {},
     "output_type": "execute_result"
    },
    {
     "data": {
      "image/png": "[encoded data removed]",
      "text/plain": [
       "<Figure size 432x288 with 1 Axes>"
      ]
     },
     "metadata": {
      "needs_background": "light"
     },
     "output_type": "display_data"
    }
   ],
   "source": [
    "plt.plot(fitness_curve_bag)"
   ]
  },
  {
   "cell_type": "code",
   "execution_count": 350,
   "metadata": {},
   "outputs": [
    {
     "data": {
      "text/plain": [
       "[<matplotlib.lines.Line2D at 0x19d42ce7688>]"
      ]
     },
     "execution_count": 350,
     "metadata": {},
     "output_type": "execute_result"
    },
    {
     "data": {
      "image/png": "[encoded data removed]",
      "text/plain": [
       "<Figure size 432x288 with 1 Axes>"
      ]
     },
     "metadata": {
      "needs_background": "light"
     },
     "output_type": "display_data"
    }
   ],
   "source": [
    "plt.plot(fitness_curve_bag)"
   ]
  },
  {
   "cell_type": "code",
   "execution_count": null,
   "metadata": {},
   "outputs": [],
   "source": []
  },
  {
   "cell_type": "code",
   "execution_count": 267,
   "metadata": {},
   "outputs": [
    {
     "data": {
      "text/plain": [
       "[<matplotlib.lines.Line2D at 0x19d3d5afe48>]"
      ]
     },
     "execution_count": 267,
     "metadata": {},
     "output_type": "execute_result"
    },
    {
     "data": {
      "image/png": "[encoded data removed]",
      "text/plain": [
       "<Figure size 432x288 with 1 Axes>"
      ]
     },
     "metadata": {
      "needs_background": "light"
     },
     "output_type": "display_data"
    }
   ],
   "source": [
    "plt.plot(np.array(evaluations))"
   ]
  },
  {
   "cell_type": "code",
   "execution_count": 349,
   "metadata": {},
   "outputs": [],
   "source": [
    "with open('mimic_sack_eval.npy', 'wb') as f:\n",
    "    np.save(f, np.array(evaluations))\n",
    "with open('mimic_sack_fit_curve.npy', 'wb') as f:\n",
    "    np.save(f, np.array(best_state))\n",
    "with open('mimic_sack_best_fitness.npy', 'wb') as f:\n",
    "    np.save(f, np.array(fitness_curve_bag))"
   ]
  },
  {
   "cell_type": "code",
   "execution_count": 300,
   "metadata": {},
   "outputs": [],
   "source": [
    "    \n",
    "with open('output/mimic_sack_eval.npy', 'rb') as f:\n",
    "    a = np.load(f)\n"
   ]
  },
  {
   "cell_type": "code",
   "execution_count": 299,
   "metadata": {},
   "outputs": [
    {
     "data": {
      "text/plain": [
       "'C:\\\\Users\\\\xiaoyal\\\\github\\\\ml_7641\\\\homework2\\\\mlrose-master'"
      ]
     },
     "execution_count": 299,
     "metadata": {},
     "output_type": "execute_result"
    }
   ],
   "source": [
    "import os\n",
    "os.getcwd()"
   ]
  },
  {
   "cell_type": "markdown",
   "metadata": {},
   "source": [
    "# four peaks\n"
   ]
  },
  {
   "cell_type": "code",
   "execution_count": null,
   "metadata": {},
   "outputs": [],
   "source": [
    "fitness = mlrose_hiive.FourPeaks(t_pct=0.15)\n"
   ]
  },
  {
   "cell_type": "code",
   "execution_count": 352,
   "metadata": {},
   "outputs": [],
   "source": [
    "# Initialize fitness function object using pre-defined class\n",
    "fitness = mlrose_hiive.FourPeaks(t_pct=0.2)\n"
   ]
  },
  {
   "cell_type": "markdown",
   "metadata": {},
   "source": [
    "### customized fitness function to keep track of evaluations"
   ]
  },
  {
   "cell_type": "code",
   "execution_count": 354,
   "metadata": {},
   "outputs": [],
   "source": [
    "# Define alternative N-Queens fitness function for maximization problem\n",
    "evaluations = []\n",
    "def fourpeak_max(state):\n",
    "    \n",
    "    # Initialize counter\n",
    "    currentfit = fitness.evaluate(state)\n",
    "    evaluations.append(currentfit)\n",
    "    return currentfit"
   ]
  },
  {
   "cell_type": "code",
   "execution_count": 355,
   "metadata": {},
   "outputs": [],
   "source": [
    "# Initialize custom fitness function object\n",
    "fitness_cust = mlrose_hiive.CustomFitness(fourpeak_max)"
   ]
  },
  {
   "cell_type": "code",
   "execution_count": 356,
   "metadata": {},
   "outputs": [
    {
     "data": {
      "text/plain": [
       "4"
      ]
     },
     "execution_count": 356,
     "metadata": {},
     "output_type": "execute_result"
    }
   ],
   "source": [
    "# Check function is working correctly\n",
    "state = np.array([1, 1, 1, 0, 1, 0, 0, 1, 0, 0, 0, 0])\n",
    "# The fitness of this state should be 22\n",
    "fitness_cust.evaluate(state)"
   ]
  },
  {
   "cell_type": "code",
   "execution_count": 357,
   "metadata": {},
   "outputs": [],
   "source": [
    "# Define optimization problem object\n",
    "problem_cust = mlrose_hiive.DiscreteOpt(length = 60, fitness_fn = fitness_cust, maximize = True, max_val = 2)"
   ]
  },
  {
   "cell_type": "code",
   "execution_count": 326,
   "metadata": {},
   "outputs": [
    {
     "data": {
      "text/plain": [
       "1"
      ]
     },
     "execution_count": 326,
     "metadata": {},
     "output_type": "execute_result"
    }
   ],
   "source": [
    "random.randint(0,1)"
   ]
  },
  {
   "cell_type": "code",
   "execution_count": 330,
   "metadata": {},
   "outputs": [
    {
     "data": {
      "text/plain": [
       "[1, 1, 0, 1, 1, 1, 1, 1, 1, 0]"
      ]
     },
     "execution_count": 330,
     "metadata": {},
     "output_type": "execute_result"
    }
   ],
   "source": [
    "init_state[:10]"
   ]
  },
  {
   "cell_type": "markdown",
   "metadata": {},
   "source": [
    "### SA for 4 peak"
   ]
  },
  {
   "cell_type": "code",
   "execution_count": 353,
   "metadata": {},
   "outputs": [],
   "source": [
    "# Define decay schedule\n",
    "schedule = mlrose_hiive.ExpDecay()"
   ]
  },
  {
   "cell_type": "code",
   "execution_count": 362,
   "metadata": {},
   "outputs": [],
   "source": [
    "# Solve using simulated annealing - attempt 1\n",
    "random.seed(0)\n",
    "init_state = [random.randint(0,1) for _ in range(60)]\n",
    "\n",
    "best_state, best_fitness, fit_curve,fit_time = mlrose_hiive.simulated_annealing(problem_cust, schedule = schedule, \n",
    "                                                      max_attempts = 1000, max_iters = 10000, \n",
    "                                                      init_state = init_state, random_state = 1,curve= True)"
   ]
  },
  {
   "cell_type": "code",
   "execution_count": 363,
   "metadata": {},
   "outputs": [
    {
     "data": {
      "text/plain": [
       "60.0"
      ]
     },
     "execution_count": 363,
     "metadata": {},
     "output_type": "execute_result"
    }
   ],
   "source": [
    "best_fitness"
   ]
  },
  {
   "cell_type": "code",
   "execution_count": 360,
   "metadata": {},
   "outputs": [
    {
     "data": {
      "text/plain": [
       "array([1, 1, 1, 1, 1, 1, 1, 1, 1, 1, 1, 1, 1, 1, 1, 1, 1, 1, 1, 1, 1, 1,\n",
       "       1, 1, 1, 1, 1, 1, 1, 1, 1, 1, 1, 1, 1, 1, 1, 1, 1, 1, 1, 1, 1, 1,\n",
       "       1, 1, 1, 1, 1, 1, 1, 1, 1, 1, 1, 1, 1, 1, 0, 0])"
      ]
     },
     "execution_count": 360,
     "metadata": {},
     "output_type": "execute_result"
    }
   ],
   "source": [
    "best_state"
   ]
  },
  {
   "cell_type": "code",
   "execution_count": 364,
   "metadata": {},
   "outputs": [
    {
     "data": {
      "text/plain": [
       "[<matplotlib.lines.Line2D at 0x19d43a60d48>]"
      ]
     },
     "execution_count": 364,
     "metadata": {},
     "output_type": "execute_result"
    },
    {
     "data": {
      "image/png": "[encoded data removed]",
      "text/plain": [
       "<Figure size 432x288 with 1 Axes>"
      ]
     },
     "metadata": {
      "needs_background": "light"
     },
     "output_type": "display_data"
    }
   ],
   "source": [
    "plt.plot(fit_curve)"
   ]
  },
  {
   "cell_type": "markdown",
   "metadata": {},
   "source": [
    "## mimic for 4 peaks"
   ]
  },
  {
   "cell_type": "code",
   "execution_count": 365,
   "metadata": {},
   "outputs": [],
   "source": [
    "from mlrose_hiive import mimic"
   ]
  },
  {
   "cell_type": "code",
   "execution_count": null,
   "metadata": {},
   "outputs": [],
   "source": []
  },
  {
   "cell_type": "code",
   "execution_count": 368,
   "metadata": {},
   "outputs": [],
   "source": [
    "best_state, best_fitness, fitness_curve_mimic = mlrose_hiive.mimic(problem_cust,  max_attempts = 10, \n",
    "                                                                 max_iters=100,\n",
    "                                              random_state = 2,curve=True)"
   ]
  },
  {
   "cell_type": "code",
   "execution_count": 369,
   "metadata": {},
   "outputs": [
    {
     "data": {
      "text/plain": [
       "22.0"
      ]
     },
     "execution_count": 369,
     "metadata": {},
     "output_type": "execute_result"
    }
   ],
   "source": [
    "best_fitness"
   ]
  },
  {
   "cell_type": "code",
   "execution_count": 371,
   "metadata": {},
   "outputs": [
    {
     "data": {
      "text/plain": [
       "[<matplotlib.lines.Line2D at 0x19d43b6d788>]"
      ]
     },
     "execution_count": 371,
     "metadata": {},
     "output_type": "execute_result"
    },
    {
     "data": {
      "image/png": "[encoded data removed]",
      "text/plain": [
       "<Figure size 432x288 with 1 Axes>"
      ]
     },
     "metadata": {
      "needs_background": "light"
     },
     "output_type": "display_data"
    }
   ],
   "source": [
    "plt.plot(fitness_curve_mimic)"
   ]
  },
  {
   "cell_type": "markdown",
   "metadata": {},
   "source": [
    "### GA for 4 peaks"
   ]
  },
  {
   "cell_type": "code",
   "execution_count": 379,
   "metadata": {},
   "outputs": [],
   "source": [
    "best_state, best_fitness, fit_curve = mlrose_hiive.genetic_alg(problem_cust, max_attempts=1000,max_iters=10000, \n",
    "                                                               random_state = 2,curve= True)"
   ]
  },
  {
   "cell_type": "code",
   "execution_count": 380,
   "metadata": {},
   "outputs": [
    {
     "data": {
      "text/plain": [
       "107.0"
      ]
     },
     "execution_count": 380,
     "metadata": {},
     "output_type": "execute_result"
    }
   ],
   "source": [
    "best_fitness"
   ]
  },
  {
   "cell_type": "code",
   "execution_count": 381,
   "metadata": {},
   "outputs": [
    {
     "data": {
      "text/plain": [
       "[<matplotlib.lines.Line2D at 0x19d45d00948>]"
      ]
     },
     "execution_count": 381,
     "metadata": {},
     "output_type": "execute_result"
    },
    {
     "data": {
      "image/png": "[encoded data removed]",
      "text/plain": [
       "<Figure size 432x288 with 1 Axes>"
      ]
     },
     "metadata": {
      "needs_background": "light"
     },
     "output_type": "display_data"
    }
   ],
   "source": [
    "plt.plot(fit_curve)"
   ]
  },
  {
   "cell_type": "markdown",
   "metadata": {},
   "source": [
    "### rhc for 4 peaks"
   ]
  },
  {
   "cell_type": "code",
   "execution_count": 384,
   "metadata": {},
   "outputs": [],
   "source": [
    "best_state, best_fitness, fit_curve = mlrose_hiive.random_hill_climb(problem_cust, max_attempts=1000,max_iters=10000, \n",
    "                                                               random_state = 2,curve= True,restarts = 5)"
   ]
  },
  {
   "cell_type": "code",
   "execution_count": 386,
   "metadata": {},
   "outputs": [
    {
     "data": {
      "text/plain": [
       "60.0"
      ]
     },
     "execution_count": 386,
     "metadata": {},
     "output_type": "execute_result"
    }
   ],
   "source": [
    "best_fitness"
   ]
  },
  {
   "cell_type": "code",
   "execution_count": 385,
   "metadata": {},
   "outputs": [
    {
     "data": {
      "text/plain": [
       "[<matplotlib.lines.Line2D at 0x19d45d59dc8>]"
      ]
     },
     "execution_count": 385,
     "metadata": {},
     "output_type": "execute_result"
    },
    {
     "data": {
      "image/png": "[encoded data removed]",
      "text/plain": [
       "<Figure size 432x288 with 1 Axes>"
      ]
     },
     "metadata": {
      "needs_background": "light"
     },
     "output_type": "display_data"
    }
   ],
   "source": [
    "plt.plot(fit_curve)"
   ]
  },
  {
   "cell_type": "code",
   "execution_count": 427,
   "metadata": {},
   "outputs": [],
   "source": [
    "random.seed(0) \n",
    "\n",
    "wei = [random.randint(1,50) for _ in range(140)]"
   ]
  },
  {
   "cell_type": "code",
   "execution_count": 428,
   "metadata": {},
   "outputs": [
    {
     "data": {
      "text/plain": [
       "[25, 49, 27, 3, 17, 33, 32, 26, 20, 31]"
      ]
     },
     "execution_count": 428,
     "metadata": {},
     "output_type": "execute_result"
    }
   ],
   "source": [
    "wei[:10]"
   ]
  },
  {
   "cell_type": "code",
   "execution_count": null,
   "metadata": {},
   "outputs": [],
   "source": []
  }
 ],
 "metadata": {
  "kernelspec": {
   "display_name": "Python 3",
   "language": "python",
   "name": "python3"
  },
  "language_info": {
   "codemirror_mode": {
    "name": "ipython",
    "version": 3
   },
   "file_extension": ".py",
   "mimetype": "text/x-python",
   "name": "python",
   "nbconvert_exporter": "python",
   "pygments_lexer": "ipython3",
   "version": "3.7.4"
  },
  "pycharm": {
   "stem_cell": {
    "cell_type": "raw",
    "metadata": {
     "collapsed": false
    },
    "source": []
   }
  }
 },
 "nbformat": 4,
 "nbformat_minor": 2
}
